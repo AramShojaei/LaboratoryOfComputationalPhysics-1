{
 "cells": [
  {
   "cell_type": "markdown",
   "metadata": {},
   "source": [
    "1\\. Write a function that converts number representation (bin<->dec<->hex)"
   ]
  },
  {
   "cell_type": "code",
   "execution_count": 47,
   "metadata": {},
   "outputs": [],
   "source": [
    "#Type has to be \"bin\" or \"hex\" or \"int\"\n",
    "\n",
    "def converse(x, Type, choice):\n",
    "    if Type == \"bin\":\n",
    "        if x.startswith(\"0b\"):\n",
    "            binary = x[2:]\n",
    "            count = len(binary)-1\n",
    "            dec = 0\n",
    "            for b in binary:\n",
    "                dec = dec + (2**(count))*int(b)\n",
    "                count = count - 1\n",
    "            return dec\n",
    "        else:\n",
    "            print(\"Binary declared but x is not binary\")\n",
    "        \n",
    "    elif Type == \"hex\":\n",
    "        if x.startswith(\"0x\"):\n",
    "            hexa = x[2:]\n",
    "            count = len(hexa)-1\n",
    "            dec = 0\n",
    "            for h in hexa:\n",
    "                if h == \"a\":\n",
    "                    dec = dec +(16**(count))*10\n",
    "                elif h == \"b\":\n",
    "                    dec = dec +(16**(count))*11\n",
    "                elif h == \"c\":\n",
    "                    dec = dec +(16**(count))*12\n",
    "                elif h == \"d\":\n",
    "                    dec = dec +(16**(count))*13\n",
    "                elif h == \"e\":\n",
    "                    dec = dec +(16**(count))*14\n",
    "                elif h == \"f\":\n",
    "                    dec = dec +(16**(count))*15\n",
    "                else:\n",
    "                    dec = dec +(16**(count))*int(h)\n",
    "                count = count -1\n",
    "            return dec\n",
    "        else:\n",
    "            print(\"Hexadecimal declared but x is not hexadecimal\")\n",
    "    \n",
    "    elif (Type == \"dec\") & (choice == 1):\n",
    "        if type(x) == int:\n",
    "            quo = x\n",
    "            count = 0\n",
    "            res = []\n",
    "            while(quo >= 1):\n",
    "                res.append(quo%2)\n",
    "                quo = quo//2\n",
    "            n = len(res)-1\n",
    "            binary = \"0b\"\n",
    "            for i in range(n,-1,-1):\n",
    "                binary = binary + str(res[i])\n",
    "            return binary\n",
    "        else:\n",
    "            print(\"Decimal declared but x is not decimal\")\n",
    "    \n",
    "    elif (Type == \"dec\") & (choice == 2):\n",
    "        if type(x) == int:\n",
    "            quo = x\n",
    "            count = 0\n",
    "            res = []\n",
    "            while(quo >= 1):\n",
    "                res.append(quo%16)\n",
    "                quo = quo//16\n",
    "            count = 0\n",
    "            hexa = \"0x\"\n",
    "            for h in res:\n",
    "                if h == 10:\n",
    "                    hexa = hexa +\"a\"\n",
    "                elif h == 11:\n",
    "                    hexa = hexa +\"b\"\n",
    "                elif h == 12:\n",
    "                    hexa = hexa +\"c\"\n",
    "                elif h == 13:\n",
    "                    hexa = hexa +\"d\"\n",
    "                elif h == 14:\n",
    "                    hexa = hexa +\"e\"\n",
    "                elif h == 15:\n",
    "                    hexa = hexa +\"f\"\n",
    "                else:\n",
    "                    hexa = hexa +str(h)\n",
    "            return hexa\n",
    "        else:\n",
    "            print(\"Decimal declared but x is not decimal\")\n",
    "\n",
    "    else:\n",
    "        print(\"** Coverse function **\")\n",
    "        print(\"\\nDeclare input type, i.e. 'hex' or 'bin' or 'dec'\\n\")\n",
    "        print(\"When input type is 'dec', choice == 1 for dec to bin or choice == 2 for dec to hexa\")\n",
    "        print(\"\\nFunc converse(x, Type, choice)\")"
   ]
  },
  {
   "cell_type": "code",
   "execution_count": 49,
   "metadata": {},
   "outputs": [
    {
     "data": {
      "text/plain": [
       "'0xf'"
      ]
     },
     "execution_count": 49,
     "metadata": {},
     "output_type": "execute_result"
    }
   ],
   "source": [
    "x = 15\n",
    "converse(x, \"dec\", 2)"
   ]
  },
  {
   "cell_type": "markdown",
   "metadata": {},
   "source": [
    "2\\. Write a function that converts a 32 bit word into a single precision floating point (i.e. interprets the various bits as sign, mantissa and exponent)"
   ]
  },
  {
   "cell_type": "code",
   "execution_count": 171,
   "metadata": {},
   "outputs": [],
   "source": [
    "def tofloat(bit):\n",
    "    check_e = int(\"3FC00000\",16)\n",
    "    check_s = int(\"40000000\",16)\n",
    "    check_f = int(\"003FFFFF\",16)\n",
    "    ss = bit & check_s\n",
    "    ee = bit & check_e\n",
    "    ff = bit & check_f\n",
    "    s = ss >> 32\n",
    "    e = ee >> 23\n",
    "    f = ff\n",
    "    if s == 1:\n",
    "        s = -1\n",
    "    elif s == 0:\n",
    "        s = 1\n",
    "    print(s,\"*1.\",f,\"*2^(\",e,\"-127)\")\n",
    "    "
   ]
  },
  {
   "cell_type": "code",
   "execution_count": 174,
   "metadata": {},
   "outputs": [
    {
     "name": "stdout",
     "output_type": "stream",
     "text": [
      "1 *1. 3434516 *2^( 99 -127)\n"
     ]
    }
   ],
   "source": [
    "tofloat(1234567456788)"
   ]
  },
  {
   "cell_type": "markdown",
   "metadata": {},
   "source": [
    "3\\. Write a program to determine the underflow and overflow limits (within a factor of 2) for python on your computer. \n",
    "\n",
    "**Tips**: define two variables inizialized to 1 and halve/double them enough time to exceed the under/over-flow limits  "
   ]
  },
  {
   "cell_type": "code",
   "execution_count": 51,
   "metadata": {},
   "outputs": [
    {
     "name": "stdout",
     "output_type": "stream",
     "text": [
      "The maximun number is:  8.98846567431158e+307\n",
      "I moltiplicate by 2  1023  times\n",
      "The minimun number is:  5e-324\n",
      "I divided for 2  1074  times\n"
     ]
    }
   ],
   "source": [
    "a = 1.0\n",
    "for i in range (10000):\n",
    "    temp = a\n",
    "    a = a*2\n",
    "    if str(a) == \"inf\":\n",
    "        print(\"The maximun number is: \",temp)\n",
    "        print(\"I moltiplicate by 2 \",i,\" times\")\n",
    "        break\n",
    "\n",
    "a = 1.0\n",
    "for i in range (10000):    \n",
    "    temp = a\n",
    "    a = a/2\n",
    "    if a == 0:\n",
    "        print(\"The minimun number is: \",temp)\n",
    "        print(\"I divided for 2 \",i,\" times\")\n",
    "        break"
   ]
  },
  {
   "cell_type": "markdown",
   "metadata": {},
   "source": [
    "4\\. Write a program to determine the machine precision\n",
    "\n",
    "**Tips**: define a new variable by adding a smaller and smaller value (proceeding similarly to prob. 2) to an original variable and check the point where the two are the same "
   ]
  },
  {
   "cell_type": "code",
   "execution_count": 52,
   "metadata": {},
   "outputs": [
    {
     "name": "stdout",
     "output_type": "stream",
     "text": [
      "I found the machine precision, is more or less  8.881784197001252e-16\n"
     ]
    }
   ],
   "source": [
    "a = 1\n",
    "test = 5 \n",
    "for i in range (10000):\n",
    "    b = a\n",
    "    a = a/2\n",
    "    temp = test + a\n",
    "    if temp == test:\n",
    "        print(\"I found the machine precision, is more or less \",b)\n",
    "        break"
   ]
  },
  {
   "cell_type": "markdown",
   "metadata": {},
   "source": [
    "5\\. Write a function that takes in input three parameters $a$, $b$ and $c$ and prints out the two solutions to the quadratic equation $ax^2+bx+c=0$ using the standard formula:\n",
    "$$\n",
    "x=\\frac{-b\\pm\\sqrt{b^2-4ac}}{2a}\n",
    "$$\n",
    "\n",
    "(a) use the program to compute the solution for $a=0.001$, $b=1000$ and $c=0.001$\n",
    "\n",
    "(b) re-express the standard solution formula by multiplying top and bottom by $-b\\mp\\sqrt{b^2-4ac}$ and again find the solution for $a=0.001$, $b=1000$ and $c=0.001$. How does it compare with what previously obtained? Why?\n",
    "\n",
    "(c) write a function that compute the roots of a quadratic equation accurately in all cases"
   ]
  },
  {
   "cell_type": "code",
   "execution_count": 53,
   "metadata": {},
   "outputs": [],
   "source": [
    "def func1(a,b,c):\n",
    "    x1 = (-b+(b*b-4*a*c)**(.5))/(2*a)\n",
    "    x2 = (-b-(b*b-4*a*c)**(.5))/(2*a)\n",
    "    return x1, x2\n",
    "def func2(a,b,c):\n",
    "    x1 = (-b+(b*b-4*a*c)**(.5))*(-b+(b*b-4*a*c)**(.5))/(2*a)*(-b+(b*b-4*a*c)**(.5))\n",
    "    x2 = (-b-(b*b-4*a*c)**(.5))*(-b-(b*b-4*a*c)**(.5))/(2*a)*(-b-(b*b-4*a*c)**(.5))\n",
    "    return x1, x2"
   ]
  },
  {
   "cell_type": "code",
   "execution_count": 54,
   "metadata": {},
   "outputs": [
    {
     "name": "stdout",
     "output_type": "stream",
     "text": [
      "func1:  (-9.999894245993346e-07, -999999.999999)\n",
      "func2:  (-3.9998730965340796e-24, -3999999999987.9995)\n"
     ]
    }
   ],
   "source": [
    "a, b, c = 0.001, 1000, 0.001\n",
    "print(\"func1: \",func1(a,b,c))\n",
    "print(\"func2: \",func2(a,b,c))"
   ]
  },
  {
   "cell_type": "markdown",
   "metadata": {},
   "source": [
    "6\\. Write a program that implements the function $f(x)=x(x−1)$\n",
    "\n",
    "(a) Calculate the derivative of the function at the point $x = 1$ using the derivative definition:\n",
    "\n",
    "$$\n",
    "\\frac{{\\rm d}f}{{\\rm d}x} = \\lim_{\\delta\\to0} \\frac{f(x+\\delta)-f(x)}{\\delta}\n",
    "$$\n",
    "\n",
    "with $\\delta = 10^{−2}$. Calculate the true value of the same derivative analytically and compare with the answer your program gives. The two will not agree perfectly. Why not?\n",
    "\n",
    "(b) Repeat the calculation for $\\delta = 10^{−4}, 10^{−6}, 10^{−8}, 10^{−10}, 10^{−12}$ and $10^{−14}$. How does the accuracy scales with $\\delta$?"
   ]
  },
  {
   "cell_type": "code",
   "execution_count": 62,
   "metadata": {},
   "outputs": [
    {
     "data": {
      "text/plain": [
       "1.0000009999177333"
      ]
     },
     "execution_count": 62,
     "metadata": {},
     "output_type": "execute_result"
    }
   ],
   "source": [
    "def f(x):\n",
    "    return x*(x-1)\n",
    "\n",
    "exp = -6\n",
    "delta = 10**(exp)\n",
    "\n",
    "derivative = (f(1+delta)- f(1))/delta\n",
    "derivative"
   ]
  },
  {
   "cell_type": "markdown",
   "metadata": {},
   "source": [
    "7\\. Consider the integral of the semicircle of radius 1:\n",
    "$$\n",
    "I=\\int_{-1}^{1} \\sqrt(1-x^2) {\\rm d}x\n",
    "$$\n",
    "which it's known to be $I=\\frac{\\pi}{2}=1.57079632679...$.\n",
    "Alternatively we can use the Riemann definition of the integral:\n",
    "$$\n",
    "I=\\lim_{N\\to\\infty} \\sum_{k=1}^{N} h y_k \n",
    "$$\n",
    "\n",
    "with $h=2/N$ the width of each of the $N$ slices the domain is divided into and where\n",
    "$y_k$ is the value of the function at the $k-$th slice.\n",
    "\n",
    "(a) Write a programe to compute the integral with $N=100$. How does the result compares to the true value?\n",
    "\n",
    "(b) How much can $N$ be increased if the computation needs to be run in less than a second? What is the gain in running it for 1 minute? \n"
   ]
  },
  {
   "cell_type": "code",
   "execution_count": 63,
   "metadata": {},
   "outputs": [],
   "source": [
    "N = 1000000\n",
    "h = 2/N\n",
    "pi = 0 \n",
    "for i in range (1,N):\n",
    "    pi = pi + h*((1-(-1+h*i)**(2))**(.5))"
   ]
  },
  {
   "cell_type": "code",
   "execution_count": 64,
   "metadata": {},
   "outputs": [
    {
     "name": "stdout",
     "output_type": "stream",
     "text": [
      "1.5707963251317274\n"
     ]
    }
   ],
   "source": [
    "print(pi)"
   ]
  }
 ],
 "metadata": {
  "kernelspec": {
   "display_name": "Python 3",
   "language": "python",
   "name": "python3"
  },
  "language_info": {
   "codemirror_mode": {
    "name": "ipython",
    "version": 3
   },
   "file_extension": ".py",
   "mimetype": "text/x-python",
   "name": "python",
   "nbconvert_exporter": "python",
   "pygments_lexer": "ipython3",
   "version": "3.6.7"
  }
 },
 "nbformat": 4,
 "nbformat_minor": 2
}
