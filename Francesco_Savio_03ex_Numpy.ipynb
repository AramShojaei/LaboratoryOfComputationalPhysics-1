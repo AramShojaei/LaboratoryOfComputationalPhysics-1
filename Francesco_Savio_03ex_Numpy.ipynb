{
 "cells": [
  {
   "cell_type": "markdown",
   "metadata": {},
   "source": [
    "### Numpy basics"
   ]
  },
  {
   "cell_type": "code",
   "execution_count": 2,
   "metadata": {},
   "outputs": [],
   "source": [
    "import numpy as np\n",
    "import matplotlib.pyplot as plt \n",
    "\n",
    "np.random.seed(1235)"
   ]
  },
  {
   "cell_type": "markdown",
   "metadata": {},
   "source": [
    "1\\. Find the row, column and overall means for the following matrix:\n",
    "\n",
    "```python\n",
    "m = np.arange(12).reshape((3,4))\n",
    "```"
   ]
  },
  {
   "cell_type": "code",
   "execution_count": 2,
   "metadata": {},
   "outputs": [
    {
     "name": "stdout",
     "output_type": "stream",
     "text": [
      "[[ 0  1  2  3]\n",
      " [ 4  5  6  7]\n",
      " [ 8  9 10 11]]\n",
      "Total mean: 5.5\n",
      "\n",
      "Mean each row: [1.5 5.5 9.5]\n",
      "\n",
      "Mean each column: [4. 5. 6. 7.]\n"
     ]
    }
   ],
   "source": [
    "m = np.arange(12).reshape((3,4))\n",
    "mean = np.mean(m)\n",
    "column_mean = m.mean(axis = 0)\n",
    "row_mean = m.mean(axis = 1)\n",
    "print (m)\n",
    "print (\"Total mean:\",mean)\n",
    "print (\"\\nMean each row:\",row_mean)\n",
    "print (\"\\nMean each column:\", column_mean)"
   ]
  },
  {
   "cell_type": "markdown",
   "metadata": {},
   "source": [
    "2\\. Find the outer product of the following two vecotrs\n",
    "\n",
    "```python\n",
    "u = np.array([1,3,5,7])\n",
    "v = np.array([2,4,6,8])\n",
    "```\n",
    "\n",
    "Do this in the following ways:\n",
    "\n",
    "   * Using the function outer in numpy\n",
    "   * Using a nested for loop or list comprehension\n",
    "   * Using numpy broadcasting operatoins\n"
   ]
  },
  {
   "cell_type": "code",
   "execution_count": 47,
   "metadata": {},
   "outputs": [
    {
     "name": "stdout",
     "output_type": "stream",
     "text": [
      "Outer numpy product:\n",
      " [[ 2  4  6  8]\n",
      " [ 6 12 18 24]\n",
      " [10 20 30 40]\n",
      " [14 28 42 56]]\n",
      "\n",
      "Outer list of comprehension:\n",
      " [[ 2  4  6  8]\n",
      " [ 6 12 18 24]\n",
      " [10 20 30 40]\n",
      " [14 28 42 56]]\n",
      "\n",
      " Outer broadcasting:\n",
      " [[ 2  4  6  8]\n",
      " [ 6 12 18 24]\n",
      " [10 20 30 40]\n",
      " [14 28 42 56]]\n"
     ]
    }
   ],
   "source": [
    "u = np.array([1,3,5,7])\n",
    "v = np.array([2,4,6,8])\n",
    "\n",
    "np_out = np.outer(u,v)\n",
    "print (\"Outer numpy product:\\n\", np_out)\n",
    "\n",
    "a= [u[i]*v[j] for i in range (4) for j in range(4)]\n",
    "ls = np.array(a)\n",
    "ls = np.reshape(ls, (4,4))\n",
    "print (\"\\nOuter list of comprehension:\\n\", ls)\n",
    "\n",
    "temp = np.reshape(u,(4,1))\n",
    "b = temp * v\n",
    "print(\"\\n Outer broadcasting:\\n\",b)"
   ]
  },
  {
   "cell_type": "markdown",
   "metadata": {},
   "source": [
    "3\\. Create a 10 by 6 matrix of random uniform numbers. Set all rows with any entry less than 0.1 to be zero\n",
    "\n",
    "Hint: Use the following numpy functions - np.random.random, np.any as well as Boolean indexing and the axis argument."
   ]
  },
  {
   "cell_type": "code",
   "execution_count": 1,
   "metadata": {},
   "outputs": [
    {
     "ename": "NameError",
     "evalue": "name 'np' is not defined",
     "output_type": "error",
     "traceback": [
      "\u001b[0;31m---------------------------------------------------------------------------\u001b[0m",
      "\u001b[0;31mNameError\u001b[0m                                 Traceback (most recent call last)",
      "\u001b[0;32m<ipython-input-1-482cbb76dd07>\u001b[0m in \u001b[0;36m<module>\u001b[0;34m\u001b[0m\n\u001b[0;32m----> 1\u001b[0;31m \u001b[0mA\u001b[0m \u001b[0;34m=\u001b[0m \u001b[0mnp\u001b[0m\u001b[0;34m.\u001b[0m\u001b[0mrandom\u001b[0m\u001b[0;34m.\u001b[0m\u001b[0mrand\u001b[0m\u001b[0;34m(\u001b[0m\u001b[0;36m10\u001b[0m\u001b[0;34m,\u001b[0m\u001b[0;36m6\u001b[0m\u001b[0;34m)\u001b[0m\u001b[0;34m\u001b[0m\u001b[0;34m\u001b[0m\u001b[0m\n\u001b[0m\u001b[1;32m      2\u001b[0m \u001b[0mprint\u001b[0m\u001b[0;34m(\u001b[0m\u001b[0;34m\"Matrix A:\"\u001b[0m\u001b[0;34m,\u001b[0m\u001b[0mA\u001b[0m\u001b[0;34m)\u001b[0m\u001b[0;34m\u001b[0m\u001b[0;34m\u001b[0m\u001b[0m\n\u001b[1;32m      3\u001b[0m \u001b[0mmask\u001b[0m \u001b[0;34m=\u001b[0m \u001b[0;34m(\u001b[0m\u001b[0mA\u001b[0m\u001b[0;34m<\u001b[0m\u001b[0;36m0.1\u001b[0m\u001b[0;34m)\u001b[0m\u001b[0;34m\u001b[0m\u001b[0;34m\u001b[0m\u001b[0m\n\u001b[1;32m      4\u001b[0m \u001b[0mprint\u001b[0m \u001b[0;34m(\u001b[0m\u001b[0;34m\"\\nMask:\"\u001b[0m\u001b[0;34m,\u001b[0m \u001b[0mmask\u001b[0m\u001b[0;34m)\u001b[0m\u001b[0;34m\u001b[0m\u001b[0;34m\u001b[0m\u001b[0m\n\u001b[1;32m      5\u001b[0m \u001b[0mA\u001b[0m \u001b[0;34m[\u001b[0m\u001b[0mmask\u001b[0m\u001b[0;34m]\u001b[0m \u001b[0;34m=\u001b[0m \u001b[0;36m0\u001b[0m\u001b[0;34m\u001b[0m\u001b[0;34m\u001b[0m\u001b[0m\n",
      "\u001b[0;31mNameError\u001b[0m: name 'np' is not defined"
     ]
    }
   ],
   "source": [
    "A = np.random.rand(10,6)\n",
    "print(\"Matrix A:\",A)\n",
    "mask = (A<0.1)\n",
    "print (\"\\nMask:\", mask)\n",
    "A [mask] = 0\n",
    "print (\"\\n\",A)\n",
    "B = np.any(mask,axis= 1)\n",
    "print(\"\\n\",B)\n",
    "A[B] = 0\n",
    "print(\"\\n\",A)"
   ]
  },
  {
   "cell_type": "markdown",
   "metadata": {},
   "source": [
    "4\\. Use np.linspace to create an array of 100 numbers between 0 and 2π (includsive).\n",
    "\n",
    "  * Extract every 10th element using slice notation\n",
    "  * Reverse the array using slice notation\n",
    "  * Extract elements where the absolute difference between the sine and cosine functions evaluated at that element is less than 0.1\n",
    "  * Make a plot showing the sin and cos functions and indicate where they are close"
   ]
  },
  {
   "cell_type": "code",
   "execution_count": 5,
   "metadata": {},
   "outputs": [
    {
     "data": {
      "text/plain": [
       "[<matplotlib.lines.Line2D at 0x19dc03dcf98>]"
      ]
     },
     "execution_count": 5,
     "metadata": {},
     "output_type": "execute_result"
    },
    {
     "data": {
      "image/png": "[encoded data removed]",
      "text/plain": [
       "<Figure size 432x288 with 1 Axes>"
      ]
     },
     "metadata": {
      "needs_background": "light"
     },
     "output_type": "display_data"
    }
   ],
   "source": [
    "x = np.linspace(0,2*np.pi,100)\n",
    "x_rev = x[::-1]\n",
    "mask = (np.absolute((np.sin(x)-np.cos(x)))<0.1)\n",
    "ext = x[mask]\n",
    "\n",
    "%matplotlib inline \n",
    "ys = np.sin(x);\n",
    "plt.plot(x, ys);\n",
    "\n",
    "yc = np.cos(x);\n",
    "plt.plot(x, yc);\n",
    "\n",
    "ym = np.cos(ext)\n",
    "plt.plot(ext,ym, '.')\n"
   ]
  },
  {
   "cell_type": "markdown",
   "metadata": {},
   "source": [
    "5\\. Create a matrix that shows the 10 by 10 multiplication table.\n",
    "\n",
    " * Find the trace of the matrix\n",
    " * Extract the anto-diagonal (this should be ```array([10, 18, 24, 28, 30, 30, 28, 24, 18, 10])```)\n",
    " * Extract the diagnoal offset by 1 upwards (this should be ```array([ 2,  6, 12, 20, 30, 42, 56, 72, 90])```)"
   ]
  },
  {
   "cell_type": "code",
   "execution_count": 6,
   "metadata": {},
   "outputs": [
    {
     "name": "stdout",
     "output_type": "stream",
     "text": [
      "Multiplication table: \n",
      " [[  1   2   3   4   5   6   7   8   9  10]\n",
      " [  2   4   6   8  10  12  14  16  18  20]\n",
      " [  3   6   9  12  15  18  21  24  27  30]\n",
      " [  4   8  12  16  20  24  28  32  36  40]\n",
      " [  5  10  15  20  25  30  35  40  45  50]\n",
      " [  6  12  18  24  30  36  42  48  54  60]\n",
      " [  7  14  21  28  35  42  49  56  63  70]\n",
      " [  8  16  24  32  40  48  56  64  72  80]\n",
      " [  9  18  27  36  45  54  63  72  81  90]\n",
      " [ 10  20  30  40  50  60  70  80  90 100]] \n",
      "\n",
      "\n",
      "Diagonal: [10 18 24 28 30 30 28 24 18 10]\n",
      "\n",
      "Diagonal: [ 2  6 12 20 30 42 56 72 90]\n"
     ]
    }
   ],
   "source": [
    "A = np.tile(np.arange(1, 11, 1), (10, 1)).T\n",
    "B = A*np.arange(1,11,1)\n",
    "print (\"Multiplication table:\",'\\n',B,'\\n')\n",
    "diagonal = np.diag(np.fliplr(B))\n",
    "print(\"\\nDiagonal:\", diagonal)\n",
    "new_diag = np.diag(B[0:,1:])\n",
    "print(\"\\nDiagonal:\",new_diag)"
   ]
  },
  {
   "cell_type": "markdown",
   "metadata": {},
   "source": [
    "6\\. Use broadcasting to create a grid of distances\n",
    "\n",
    "Route 66 crosses the following cities in the US: Chicago, Springfield, Saint-Louis, Tulsa, Oklahoma City, Amarillo, Santa Fe, Albuquerque, Flagstaff, Los Angeles\n",
    "The corresponding positions in miles are: 0, 198, 303, 736, 871, 1175, 1475, 1544, 1913, 2448\n",
    "\n",
    "  * Construct a 2D grid of distances among each city along Route 66\n",
    "  * Convert that in km (those savages...)"
   ]
  },
  {
   "cell_type": "code",
   "execution_count": 44,
   "metadata": {},
   "outputs": [
    {
     "name": "stdout",
     "output_type": "stream",
     "text": [
      "[[0. 0. 0. 0. 0. 0. 0. 0.]]\n"
     ]
    }
   ],
   "source": [
    "\n",
    "x[2:]-x[1:-1]\n",
    "print(A[1:2, 2:])\n"
   ]
  },
  {
   "cell_type": "code",
   "execution_count": 62,
   "metadata": {},
   "outputs": [
    {
     "name": "stdout",
     "output_type": "stream",
     "text": [
      "['Chicago', 'Springfield', 'Saint-Louis', 'Tulsa', 'Oklahoma City', 'Amarillo', 'Santa Fe', 'Albuquerque', 'Flagstaff', 'Los Angeles']\n",
      "\n",
      " [[    0.   198.   303.   736.   871.  1175.  1475.  1544.  1913.  2448.]\n",
      " [ -198.     0.   105.   538.   673.   977.  1277.  1346.  1715.  2250.]\n",
      " [ -303.  -105.     0.   433.   568.   872.  1172.  1241.  1610.  2145.]\n",
      " [ -736.  -538.  -433.     0.   135.   439.   739.   808.  1177.  1712.]\n",
      " [ -871.  -673.  -568.  -135.     0.   304.   604.   673.  1042.  1577.]\n",
      " [-1175.  -977.  -872.  -439.  -304.     0.   300.   369.   738.  1273.]\n",
      " [-1475. -1277. -1172.  -739.  -604.  -300.     0.    69.   438.   973.]\n",
      " [-1544. -1346. -1241.  -808.  -673.  -369.   -69.     0.   369.   904.]\n",
      " [-1913. -1715. -1610. -1177. -1042.  -738.  -438.  -369.     0.   535.]\n",
      " [-2448. -2250. -2145. -1712. -1577. -1273.  -973.  -904.  -535.     0.]]\n"
     ]
    }
   ],
   "source": [
    "x = np.array([0,198,303, 736, 871, 1175, 1475, 1544, 1913, 2448])\n",
    "xt = np.reshape(x,(10,1))\n",
    "A = np.zeros((10,10))\n",
    "C = [ \"Chicago\", \"Springfield\", \"Saint-Louis\", \"Tulsa\", \"Oklahoma City\", \"Amarillo\", \"Santa Fe\", \"Albuquerque\", \"Flagstaff\", \"Los Angeles\"]\n",
    "A[0:,0:] = x-xt\n",
    "\n",
    "print(C)\n",
    "print(\"\\n\",A)"
   ]
  },
  {
   "cell_type": "markdown",
   "metadata": {},
   "source": [
    "7\\. Prime numbers sieve: compute the prime numbers in the 0-N (N=99 to start with) range with a sieve (mask).\n",
    "  * Constract a shape (100,) boolean array, the mask\n",
    "  * Identify the multiples of each number starting from 2 and set accordingly the corresponding mask element\n",
    "  * Apply the mask to obtain an array of ordered prime numbers\n",
    "  * Check the performances (timeit); how does it scale with N?\n",
    "  * Implement the optimization suggested in the [sieve of Eratosthenes](https://en.wikipedia.org/wiki/Sieve_of_Eratosthenes)"
   ]
  },
  {
   "cell_type": "code",
   "execution_count": 63,
   "metadata": {},
   "outputs": [
    {
     "name": "stdout",
     "output_type": "stream",
     "text": [
      "[   0    1    2    3    5    7   11   13   17   19   23   29   31   37\n",
      "   41   43   47   53   59   61   67   71   73   79   83   89   97  101\n",
      "  103  107  109  113  127  131  137  139  149  151  157  163  167  173\n",
      "  179  181  191  193  197  199  211  223  227  229  233  239  241  251\n",
      "  257  263  269  271  277  281  283  293  307  311  313  317  331  337\n",
      "  347  349  353  359  367  373  379  383  389  397  401  409  419  421\n",
      "  431  433  439  443  449  457  461  463  467  479  487  491  499  503\n",
      "  509  521  523  541  547  557  563  569  571  577  587  593  599  601\n",
      "  607  613  617  619  631  641  643  647  653  659  661  673  677  683\n",
      "  691  701  709  719  727  733  739  743  751  757  761  769  773  787\n",
      "  797  809  811  821  823  827  829  839  853  857  859  863  877  881\n",
      "  883  887  907  911  919  929  937  941  947  953  967  971  977  983\n",
      "  991  997 1009 1013 1019 1021 1031 1033 1039 1049 1051 1061 1063 1069\n",
      " 1087 1091 1093 1097 1103 1109 1117 1123 1129 1151 1153 1163 1171 1181\n",
      " 1187 1193 1201 1213 1217 1223 1229 1231 1237 1249 1259 1277 1279 1283\n",
      " 1289 1291 1297 1301 1303 1307 1319 1321 1327 1361 1367 1373 1381 1399\n",
      " 1409 1423 1427 1429 1433 1439 1447 1451 1453 1459 1471 1481 1483 1487\n",
      " 1489 1493 1499 1511 1523 1531 1543 1549 1553 1559 1567 1571 1579 1583\n",
      " 1597 1601 1607 1609 1613 1619 1621 1627 1637 1657 1663 1667 1669 1693\n",
      " 1697 1699 1709 1721 1723 1733 1741 1747 1753 1759 1777 1783 1787 1789\n",
      " 1801 1811 1823 1831 1847 1861 1867 1871 1873 1877 1879 1889 1901 1907\n",
      " 1913 1931 1933 1949 1951 1973 1979 1987 1993 1997 1999 2003 2011 2017\n",
      " 2027 2029 2039 2053 2063 2069 2081 2083 2087 2089 2099 2111 2113 2129\n",
      " 2131 2137 2141 2143 2153 2161 2179 2203 2207 2213 2221 2237 2239 2243\n",
      " 2251 2267 2269 2273 2281 2287 2293 2297 2309 2311 2333 2339 2341 2347\n",
      " 2351 2357 2371 2377 2381 2383 2389 2393 2399 2411 2417 2423 2437 2441\n",
      " 2447 2459 2467 2473 2477]\n"
     ]
    }
   ],
   "source": [
    "N = 2500\n",
    "a = np.ones((N))\n",
    "mask = np.array(a,\"bool\")\n",
    "c = [i*j for i in range (2,N) for j in range(2,N)]\n",
    "mask_c = (np.array(c)<N)\n",
    "d = np.array(c)[mask_c]\n",
    "\n",
    "for x in zip(d):\n",
    "    mask[x] = False\n",
    "\n",
    "f = np.arange(N)\n",
    "print(f[mask])"
   ]
  },
  {
   "cell_type": "markdown",
   "metadata": {},
   "source": [
    "8\\. Diffusion using random walk\n",
    "\n",
    "Consider a simple random walk process: at each step in time, a walker jumps right or left (+1 or -1) with equal probability. The goal is to find the typical distance from the origin of a random walker after a given amount of time. \n",
    "To do that, let's simulate many walkers and create a 2D array with each walker as a raw and the actual time evolution as columns\n",
    "\n",
    "  * Take 1000 walkers and let them walk for 200 steps\n",
    "  * Use randint to create a 2D array of size walkers x steps with values -1 or 1\n",
    "  * Build the actual walking distances for each walker (i.e. another 2D array \"summing on each raw\")\n",
    "  * Take the square of that 2D array (elementwise)\n",
    "  * Compute the mean of the squared distances at each step (i.e. the mean along the columns)\n",
    "  * Plot the average distances (sqrt(distance\\*\\*2)) as a function of time (step)\n",
    "  \n",
    "Did you get what you expected?"
   ]
  },
  {
   "cell_type": "code",
   "execution_count": 107,
   "metadata": {},
   "outputs": [
    {
     "data": {
      "text/plain": [
       "[<matplotlib.lines.Line2D at 0x7f15db7dc0f0>]"
      ]
     },
     "execution_count": 107,
     "metadata": {},
     "output_type": "execute_result"
    },
    {
     "data": {
      "image/png": "[encoded data removed]",
      "text/plain": [
       "<Figure size 432x288 with 1 Axes>"
      ]
     },
     "metadata": {
      "needs_background": "light"
     },
     "output_type": "display_data"
    }
   ],
   "source": [
    "import matplotlib.pyplot as plt\n",
    "\n",
    "walkers = 1000\n",
    "steps = 200\n",
    "simulation = np.random.randint(2, size=(walkers,steps))\n",
    "simulation[simulation == 0] = -1\n",
    "\n",
    "distance = np.cumsum(simulation, axis=1)\n",
    "sq_distance = distance**(2)\n",
    "mean = np.mean(sq_distance, axis = 0)\n",
    "\n",
    "x = np.arange(1,201,1)\n",
    "y = mean\n",
    "\n",
    "plt.plot(x,y)"
   ]
  },
  {
   "cell_type": "code",
   "execution_count": null,
   "metadata": {},
   "outputs": [],
   "source": [
    "# dall' inizio devi trovare dove sei arivato, rispetto a zero sono due quadrati a destra"
   ]
  },
  {
   "cell_type": "markdown",
   "metadata": {},
   "source": [
    "9\\. Analyze a data file \n",
    "  * Download the population of hares, lynxes and carrots at the beginning of the last century.\n",
    "    ```python\n",
    "    ! wget https://www.dropbox.com/s/3vigxoqayo389uc/populations.txt\n",
    "    ```\n",
    "\n",
    "  * Check the content by looking within the file\n",
    "  * Load the data (use an appropriate numpy method) into a 2D array\n",
    "  * Create arrays out of the columns, the arrays being (in order): *year*, *hares*, *lynxes*, *carrots* \n",
    "  * Plot the 3 populations over the years\n",
    "  * Compute the main statistical properties of the dataset (mean, std, correlations, etc.)\n",
    "  * Which species has the highest population each year?\n",
    "\n",
    "Do you feel there is some evident correlation here? [Studies](https://www.enr.gov.nt.ca/en/services/lynx/lynx-snowshoe-hare-cycle) tend to believe so."
   ]
  },
  {
   "cell_type": "code",
   "execution_count": 116,
   "metadata": {},
   "outputs": [
    {
     "name": "stdout",
     "output_type": "stream",
     "text": [
      "Hares mean:  34080.95238095238\n",
      "Hares std:  20897.906458089667\n",
      "Lynxes mean:  20166.666666666668\n",
      "Lynxes std:  16254.591536908763\n",
      "carrots mean:  42400.0\n",
      "carrots std:  3322.5062255844787\n"
     ]
    },
    {
     "data": {
      "image/png": "[encoded data removed]",
      "text/plain": [
       "<Figure size 432x288 with 1 Axes>"
      ]
     },
     "metadata": {
      "needs_background": "light"
     },
     "output_type": "display_data"
    }
   ],
   "source": [
    "data = np.loadtxt('populations.txt')\n",
    "year, hares, lynxes, carrots = data.T # trick: columns to variables\n",
    "\n",
    "\n",
    "from matplotlib import pyplot as plt\n",
    "%matplotlib inline\n",
    "\n",
    "plt.axes([0.2, 0.1, 0.5, 0.8]) \n",
    "plt.plot(year, hares, year, lynxes, year, carrots) \n",
    "plt.legend(('Hare', 'Lynx', 'Carrot'), loc=(1.05, 0.5))\n",
    "\n",
    "h_mean = np.mean(hares)\n",
    "h_std = np.std(hares)\n",
    "print(\"Hares mean: \", h_mean)\n",
    "print(\"Hares std: \", h_std)\n",
    "\n",
    "l_mean = np.mean(lynxes)\n",
    "l_std = np.std(lynxes)\n",
    "print(\"Lynxes mean: \", l_mean)\n",
    "print(\"Lynxes std: \", l_std)\n",
    "\n",
    "c_mean = np.mean(carrots)\n",
    "c_std = np.std(carrots)\n",
    "print(\"carrots mean: \", c_mean)\n",
    "print(\"carrots std: \", c_std)\n"
   ]
  },
  {
   "cell_type": "code",
   "execution_count": null,
   "metadata": {},
   "outputs": [],
   "source": []
  }
 ],
 "metadata": {
  "kernelspec": {
   "display_name": "Python 3",
   "language": "python",
   "name": "python3"
  },
  "language_info": {
   "codemirror_mode": {
    "name": "ipython",
    "version": 3
   },
   "file_extension": ".py",
   "mimetype": "text/x-python",
   "name": "python",
   "nbconvert_exporter": "python",
   "pygments_lexer": "ipython3",
   "version": "3.6.7"
  }
 },
 "nbformat": 4,
 "nbformat_minor": 2
}
