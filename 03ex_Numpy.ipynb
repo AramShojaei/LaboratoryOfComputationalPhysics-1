{
 "cells": [
  {
   "cell_type": "markdown",
   "metadata": {},
   "source": [
    "### Numpy basics"
   ]
  },
  {
   "cell_type": "code",
   "execution_count": 23,
   "metadata": {
    "collapsed": true
   },
   "outputs": [],
   "source": [
    "import numpy as np"
   ]
  },
  {
   "cell_type": "markdown",
   "metadata": {},
   "source": [
    "1\\. Find the row, column and overall means for the following matrix:\n",
    "\n",
    "```python\n",
    "m = np.arange(12).reshape((3,4))\n",
    "```"
   ]
  },
  {
   "cell_type": "code",
   "execution_count": null,
   "metadata": {
    "collapsed": true
   },
   "outputs": [],
   "source": [
    "m = np.arange(12).reshape((3,4))"
   ]
  },
  {
   "cell_type": "code",
   "execution_count": null,
   "metadata": {
    "collapsed": true
   },
   "outputs": [],
   "source": [
    "print(m) #the initial matix\n",
    "print(\"Row: {}\".format(m.mean(axis=1))) #mean by the row\n",
    "print(\"Column: {}\".format(m.mean(axis=0))) #mean my the column\n",
    "print(\"Matrix: {}\".format(m.mean())) #mean of the overall matrix\n"
   ]
  },
  {
   "cell_type": "markdown",
   "metadata": {},
   "source": [
    "2\\. Find the outer product of the following two vecotrs\n",
    "\n",
    "```python\n",
    "u = np.array([1,3,5,7])\n",
    "v = np.array([2,4,6,8])\n",
    "```\n",
    "\n",
    "Do this in the following ways:\n",
    "\n",
    "   * Using the function outer in numpy\n",
    "   * Using a nested for loop or list comprehension\n",
    "   * Using numpy broadcasting operatoins\n"
   ]
  },
  {
   "cell_type": "code",
   "execution_count": null,
   "metadata": {
    "collapsed": true
   },
   "outputs": [],
   "source": [
    "u = np.array([1,3,5,7])\n",
    "v = np.array([2,4,6,8])"
   ]
  },
  {
   "cell_type": "code",
   "execution_count": null,
   "metadata": {
    "collapsed": true,
    "scrolled": true
   },
   "outputs": [],
   "source": [
    "print(\"Outer \\n {}\".format(np.outer(u,v)))\n",
    "print(\"List comprehension \\n {}\".format(np.array([i*j for i in u for j in v]).reshape(4,4))) #reshape from list to matix\n",
    "print(\"Numpy \\n {}\".format(u[:,None]*v))\n"
   ]
  },
  {
   "cell_type": "markdown",
   "metadata": {},
   "source": [
    "3\\. Create a 10 by 6 matrix of random uniform numbers. Set all rows with any entry less than 0.1 to be zero\n",
    "\n",
    "Hint: Use the following numpy functions - np.random.random, np.any as well as Boolean indexing and the axis argument."
   ]
  },
  {
   "cell_type": "code",
   "execution_count": null,
   "metadata": {
    "collapsed": true
   },
   "outputs": [],
   "source": [
    "matrix = np.random.uniform(size=(10,6))\n",
    "\n",
    "print(\"Initial \\n {} \\n\".format(matrix))\n",
    "\n",
    "print(\"Final with only elms setted to zero \\n {} \\n\".format(np.where(matrix<0.1,0,matrix)))\n",
    "\n",
    "matrix[np.any(matrix<0.1,axis=1)]=0\n",
    "print(\"Final \\n {}\".format(matrix))"
   ]
  },
  {
   "cell_type": "markdown",
   "metadata": {},
   "source": [
    "4\\. Use np.linspace to create an array of 100 numbers between 0 and 2π (includsive).\n",
    "\n",
    "  * Extract every 10th element using slice notation\n",
    "  * Reverse the array using slice notation\n",
    "  * Extract elements where the absolute difference between the sine and cosine functions evaluated at that element is less than 0.1\n",
    "  * Make a plot showing the sin and cos functions and indicate where they are close"
   ]
  },
  {
   "cell_type": "code",
   "execution_count": 24,
   "metadata": {
    "collapsed": true
   },
   "outputs": [],
   "source": [
    "import math\n",
    "import matplotlib.pyplot as plt\n",
    "%matplotlib inline"
   ]
  },
  {
   "cell_type": "code",
   "execution_count": null,
   "metadata": {
    "collapsed": true
   },
   "outputs": [],
   "source": [
    "linspace = np.linspace(0, 2*math.pi, num=100, endpoint=True)\n",
    "print(\"initial linspaece \\n {} \\n\".format(linspace))\n",
    "extracted = linspace[::10]\n",
    "\n",
    "print(\"Extacted elements: \\n {} \\n\".format(extracted))\n",
    "\n",
    "revers = linspace[::-1]\n",
    "print(\"Reversed the inital linspace: \\n {}\\n\".format(revers))\n",
    "\n",
    "extracted = linspace[np.where(abs(np.sin(linspace)-np.cos(linspace))<0.1)]\n",
    "print(\"Searched elements: \\n {} \\n\".format(extracted))\n",
    "\n",
    "\n",
    "x = np.sin(linspace) #numpy sin\n",
    "y = np.cos(linspace) #numpy cos\n",
    "plt.plot(linspace, x,'r-') \n",
    "plt.plot(linspace, y,'b-')\n",
    "\n",
    "idx = np.argwhere(abs(x-y)<0.1).flatten()  #find where abs(x-y)<0.1 and flatten the results to have (n,) as shape\n",
    "plt.plot(linspace[idx], x[idx], 'ro')\n",
    "plt.plot(linspace[idx], y[idx], 'ro')\n",
    "plt.show()"
   ]
  },
  {
   "cell_type": "markdown",
   "metadata": {},
   "source": [
    "5\\. Create a matrix that shows the 10 by 10 multiplication table.\n",
    "\n",
    " * Find the trace of the matrix\n",
    " * Extract the anto-diagonal (this should be ```array([10, 18, 24, 28, 30, 30, 28, 24, 18, 10])```)\n",
    " * Extract the diagnoal offset by 1 upwards (this should be ```array([ 2,  6, 12, 20, 30, 42, 56, 72, 90])```)"
   ]
  },
  {
   "cell_type": "code",
   "execution_count": null,
   "metadata": {
    "collapsed": true
   },
   "outputs": [],
   "source": [
    "#10x10 starting from 1\n",
    "matrix = np.array([i*j for i in range(1,11) for j in range(1,11)]).reshape(10,10)\n",
    "\n",
    "print(\"Trace: \\n {} \\n\".format(matrix.trace()))\n",
    "\n",
    "print(\"Anti diagonal method 1: \\n {} \\n\".format(np.diag(matrix[:,::-1]))) #all reversing the column of the matrix -> diag\n",
    "r = [i for i in range(9,-1,-1)]\n",
    "c = [9-i for i in range(9,-1,-1)]\n",
    "print(\"Anti diagonal method 2: \\n {} \\n\".format(matrix[r,c]))\n",
    "print(\"Diag with offset: \\n {} \\n\".format(np.diag(np.roll(matrix, -1, axis=0))))\n"
   ]
  },
  {
   "cell_type": "markdown",
   "metadata": {},
   "source": [
    "6\\. Use broadcasting to create a grid of distances\n",
    "\n",
    "Route 66 crosses the following cities in the US: Chicago, Springfield, Saint-Louis, Tulsa, Oklahoma City, Amarillo, Santa Fe, Albuquerque, Flagstaff, Los Angeles\n",
    "The corresponding positions in miles are: 0, 198, 303, 736, 871, 1175, 1475, 1544, 1913, 2448\n",
    "\n",
    "  * Construct a 2D grid of distances among each city along Route 66\n",
    "  * Convert that in km (those savages...)"
   ]
  },
  {
   "cell_type": "code",
   "execution_count": null,
   "metadata": {
    "collapsed": true
   },
   "outputs": [],
   "source": [
    "route66 = np.array([0, 198, 303, 736, 871, 1175, 1475, 1544, 1913, 2448])\n",
    "d2grid = route66[None,:]-route66[:,None]\n",
    "print(\"Initial grid: \\n {} \\n\".format(d2grid))\n",
    "print(\"Converted: \\n {} \\n\".format(d2grid*1.609344))"
   ]
  },
  {
   "cell_type": "markdown",
   "metadata": {},
   "source": [
    "7\\. Prime numbers sieve: compute the prime numbers in the 0-N (N=99 to start with) range with a sieve (mask).\n",
    "  * Constract a shape (100,) boolean array, the mask\n",
    "  * Identify the multiples of each number starting from 2 and set accordingly the corresponding mask element\n",
    "  * Apply the mask to obtain an array of ordered prime numbers\n",
    "  * Check the performances (timeit); how does it scale with N?\n",
    "  * Implement the optimization suggested in the [sieve of Eratosthenes](https://en.wikipedia.org/wiki/Sieve_of_Eratosthenes)"
   ]
  },
  {
   "cell_type": "markdown",
   "metadata": {},
   "source": [
    "On my laptop:\n",
    "\n",
    "- N = 100\n",
    " - 319 µs ± 224 µs per loop (mean ± std. dev. of 7 runs, 10 loops each)\n",
    " - 31.1 µs ± 5.52 µs per loop (mean ± std. dev. of 7 runs, 10 loops each)\n",
    "\n",
    "- N = 1000\n",
    " - 4.8 ms ± 380 µs per loop (mean ± std. dev. of 7 runs, 10 loops each)\n",
    " - 227 µs ± 4.21 µs per loop (mean ± std. dev. of 7 runs, 10 loops each)\n",
    "\n",
    "- N = 10000\n",
    " - 288 ms ± 7.78 ms per loop (mean ± std. dev. of 7 runs, 10 loops each)\n",
    " - 2.43 ms ± 279 µs per loop (mean ± std. dev. of 7 runs, 10 loops each)\n",
    "\n",
    "As we an see the fasted is as expected the second implementation with the optimization suggested.\n",
    "The performance is not linear for the first implementation 10 times the size does not imply 10 times more computational time(easily seen between the second and the first run).\n",
    "For the optimized one more or less it can be seen in that way."
   ]
  },
  {
   "cell_type": "code",
   "execution_count": null,
   "metadata": {
    "collapsed": true
   },
   "outputs": [],
   "source": [
    "N = 100\n",
    "def impl(N):\n",
    "    mat = np.ones((N-1,), dtype=bool)\n",
    "    numb = np.array([x for x in range(1,N)])\n",
    "    for i in range(2,math.ceil(N/2)):\n",
    "        mat[(numb%i==0) & (numb > i)] = False\n",
    "\n",
    "def impl2(N):\n",
    "    mat = np.ones((N-1,), dtype=bool)\n",
    "    numb = np.array([x for x in range(1,N)])\n",
    "    \n",
    "    for i in range(2,math.ceil(N**0.5)-1):\n",
    "        if(mat[i]):\n",
    "            for j in range(i**2,N-1):\n",
    "                mat[j] = False\n",
    "    \n",
    "%timeit -n 10 impl(N)\n",
    "%timeit -n 10 impl2(N)\n",
    "%timeit -n 10 impl(N*10)\n",
    "%timeit -n 10 impl2(N*10)\n",
    "%timeit -n 10 impl(N*100)\n",
    "%timeit -n 10 impl2(N*100)\n"
   ]
  },
  {
   "cell_type": "markdown",
   "metadata": {},
   "source": [
    "8\\. Diffusion using random walk\n",
    "\n",
    "Consider a simple random walk process: at each step in time, a walker jumps right or left (+1 or -1) with equal probability. The goal is to find the typical distance from the origin of a random walker after a given amount of time. \n",
    "To do that, let's simulate many walkers and create a 2D array with each walker as a raw and the actual time evolution as columns\n",
    "\n",
    "  * Take 1000 walkers and let them walk for 200 steps\n",
    "  * Use randint to create a 2D array of size walkers x steps with values -1 or 1\n",
    "  * Build the actual walking distances for each walker (i.e. another 2D array \"summing on each raw\")\n",
    "  * Take the square of that 2D array (elementwise)\n",
    "  * Compute the mean of the squared distances at each step (i.e. the mean along the columns)\n",
    "  * Plot the average distances (sqrt(distance\\*\\*2)) as a function of time (step)\n",
    "  \n",
    "Did you get what you expected?\n",
    "\n",
    "The result is correct since it respect the proportionality between  $\\sqrt{\\sigma_{X}^2}$ and the time."
   ]
  },
  {
   "cell_type": "code",
   "execution_count": null,
   "metadata": {
    "collapsed": true
   },
   "outputs": [],
   "source": [
    "np.random.seed(10)\n",
    "walkers_x = np.zeros((1000,200))\n",
    "for i in range(walkers_x.shape[0]):\n",
    "    mat = np.random.randint(-1,1,size=walkers_x.shape[1]) #produce -1,0\n",
    "    mat[mat==0]=1 #set the 0 to 1\n",
    "    walkers_x[i] = mat\n",
    "\n",
    "walkers_y = np.zeros((1000,200))\n",
    "for i in range(walkers_y.shape[0]):\n",
    "    mat = np.random.randint(-1,1,size=walkers_y.shape[1]) #produce -1,0\n",
    "    mat[mat==0]=1 #set the 0 to 1\n",
    "    walkers_y[i] = mat\n",
    "    \n",
    "sums_x = np.cumsum(walkers_x, axis=1)\n",
    "sq_sums_x = sums_x**2\n",
    "means_x = np.mean(sq_sums_x, axis=0)\n",
    "plt_x = plt\n",
    "plt_x.plot(means_x**0.5)\n",
    "plt_x.show()\n",
    "\n",
    "sums_y = np.cumsum(walkers_y, axis=1)\n",
    "sq_sums_y = sums_y**2\n",
    "means_y = np.mean(sq_sums_y, axis=0)\n",
    "plt_y = plt\n",
    "plt_y.plot(means_y**0.5)\n",
    "plt_y.show()\n",
    "\n",
    "plt.plot(sums_x[0,:],sums_y[0,:])"
   ]
  },
  {
   "cell_type": "markdown",
   "metadata": {},
   "source": [
    "9\\. Analyze a data file \n",
    "  * Download the population of hares, lynxes and carrots at the beginning of the last century.\n",
    "    ```python\n",
    "    ! wget https://www.dropbox.com/s/3vigxoqayo389uc/populations.txt\n",
    "    ```\n",
    "\n",
    "  * Check the content by looking within the file\n",
    "  * Load the data (use an appropriate numpy method) into a 2D array\n",
    "  * Create arrays out of the columns, the arrays being (in order): *year*, *hares*, *lynxes*, *carrots* \n",
    "  * Plot the 3 populations over the years\n",
    "  * Compute the main statistical properties of the dataset (mean, std, correlations, etc.)\n",
    "  * Which species has the highest population each year?\n",
    "\n",
    "Do you feel there is some evident correlation here? [Studies](https://www.enr.gov.nt.ca/en/services/lynx/lynx-snowshoe-hare-cycle) tend to believe so.\n",
    "\n",
    "- Seems so since the populations grows and decrese one after the other. The circle of life. When the relative \"predator\" disappear one of the species grows, providing to the predator food and so letting its population growing again. After a while the predator overcome the prey and the circle restarts."
   ]
  },
  {
   "cell_type": "code",
   "execution_count": null,
   "metadata": {
    "collapsed": true
   },
   "outputs": [],
   "source": [
    "! wget https://www.dropbox.com/s/3vigxoqayo389uc/populations.txt"
   ]
  },
  {
   "cell_type": "code",
   "execution_count": 26,
   "metadata": {},
   "outputs": [
    {
     "name": "stdout",
     "output_type": "stream",
     "text": [
      "# year\thare\tlynx\tcarrot\n",
      "\n",
      "1900\t30e3\t4e3\t48300\n",
      "max population: carrot \n",
      "\n",
      "1901\t47.2e3\t6.1e3\t48200\n",
      "max population: carrot \n",
      "\n",
      "1902\t70.2e3\t9.8e3\t41500\n",
      "max population: hare \n",
      "\n",
      "1903\t77.4e3\t35.2e3\t38200\n",
      "max population: hare \n",
      "\n",
      "1904\t36.3e3\t59.4e3\t40600\n",
      "max population: lynx \n",
      "\n",
      "1905\t20.6e3\t41.7e3\t39800\n",
      "max population: lynx \n",
      "\n",
      "1906\t18.1e3\t19e3\t38600\n",
      "max population: carrot \n",
      "\n",
      "1907\t21.4e3\t13e3\t42300\n",
      "max population: carrot \n",
      "\n",
      "1908\t22e3\t8.3e3\t44500\n",
      "max population: carrot \n",
      "\n",
      "1909\t25.4e3\t9.1e3\t42100\n",
      "max population: carrot \n",
      "\n",
      "1910\t27.1e3\t7.4e3\t46000\n",
      "max population: carrot \n",
      "\n",
      "1911\t40.3e3\t8e3\t46800\n",
      "max population: carrot \n",
      "\n",
      "1912\t57e3\t12.3e3\t43800\n",
      "max population: hare \n",
      "\n",
      "1913\t76.6e3\t19.5e3\t40900\n",
      "max population: hare \n",
      "\n",
      "1914\t52.3e3\t45.7e3\t39400\n",
      "max population: hare \n",
      "\n",
      "1915\t19.5e3\t51.1e3\t39000\n",
      "max population: lynx \n",
      "\n",
      "1916\t11.2e3\t29.7e3\t36700\n",
      "max population: carrot \n",
      "\n",
      "1917\t7.6e3\t15.8e3\t41800\n",
      "max population: carrot \n",
      "\n",
      "1918\t14.6e3\t9.7e3\t43300\n",
      "max population: carrot \n",
      "\n",
      "1919\t16.2e3\t10.1e3\t41300\n",
      "max population: carrot \n",
      "\n",
      "1920\t24.7e3\t8.6e3\t47300\n",
      "max population: carrot \n",
      "\n",
      "Hares mean: 34080.95238095238, std: 20897.906458089667\n",
      "Lynxes mean: 20166.666666666668, std: 16254.591536908763\n",
      "Carrots mean: 42400.0, std: 3322.5062255844787\n",
      "\n",
      "\n",
      "Carrots vs Hares correlation: \n",
      " [[ 1.         -0.01660378]\n",
      " [-0.01660378  1.        ]]\n",
      "Lynxes vs Hares correlation: \n",
      " [[ 1.          0.07189206]\n",
      " [ 0.07189206  1.        ]]\n",
      "Lynxes vs Carrots correlation: \n",
      " [[ 1.         -0.68057717]\n",
      " [-0.68057717  1.        ]]\n",
      "Whole data against each other corr: \n",
      " [[ 1.         -0.38917662 -0.02544806 -0.13633321]\n",
      " [-0.38917662  1.          0.07189206 -0.01660378]\n",
      " [-0.02544806  0.07189206  1.         -0.68057717]\n",
      " [-0.13633321 -0.01660378 -0.68057717  1.        ]]\n",
      "\n",
      "\n"
     ]
    },
    {
     "data": {
      "image/png": "[encoded data removed]",
      "text/plain": [
       "<matplotlib.figure.Figure at 0x7f0c3b8060b8>"
      ]
     },
     "metadata": {},
     "output_type": "display_data"
    }
   ],
   "source": [
    "with open('populations.txt') as f:\n",
    "    #file = np.loadtxt('populations.txt',dtype='int64') works with 1.15.* numpy\n",
    "    file = np.loadtxt('populations.txt')\n",
    "    maxpop = file[:,1:].argmax(axis=1)\n",
    "\n",
    "    c = -1\n",
    "    pop = ''\n",
    "    for line in f:\n",
    "        if c >= 0:\n",
    "            if maxpop[c] == 0:\n",
    "                pop = \"max population: hare \\n\"\n",
    "            elif maxpop[c] == 1:\n",
    "                pop = \"max population: lynx \\n\"\n",
    "            else:\n",
    "                pop = \"max population: carrot \\n\"\n",
    "        print(line + pop)\n",
    "        c += 1\n",
    "\n",
    "    years = file[:,0]\n",
    "    hares = file[:,1]\n",
    "    lynxes = file[:,2]\n",
    "    carrots = file[:,3]\n",
    "    plt.plot(years, hares, 'b-',label='Hares')\n",
    "    plt.plot(years, lynxes, 'r-',label='Lynxes')    \n",
    "    plt.plot(years, carrots, 'k-',label='Carrots')\n",
    "    plt.legend()\n",
    "\n",
    "    print(\"Hares mean: {}, std: {}\".format(hares.mean(),hares.std()))\n",
    "    print(\"Lynxes mean: {}, std: {}\".format(lynxes.mean(),lynxes.std()))    \n",
    "    print(\"Carrots mean: {}, std: {}\".format(carrots.mean(),carrots.std()))\n",
    "    print(\"\\n\")\n",
    "    print(\"Carrots vs Hares correlation: \\n {}\".format(np.corrcoef(carrots,hares)))\n",
    "    print(\"Lynxes vs Hares correlation: \\n {}\".format(np.corrcoef(hares,lynxes)))    \n",
    "    print(\"Lynxes vs Carrots correlation: \\n {}\".format(np.corrcoef(lynxes,carrots)))    \n",
    "    print(\"Whole data against each other corr: \\n {}\".format(np.corrcoef(file, rowvar=False)))\n",
    "    print(\"\\n\")"
   ]
  },
  {
   "cell_type": "markdown",
   "metadata": {
    "collapsed": true
   },
   "source": [
    "*Exercise*: write an algorithm that determins and quantifies a correlation between two time series. Use as an example the hare-lynx-carrot dataset."
   ]
  },
  {
   "cell_type": "code",
   "execution_count": 44,
   "metadata": {},
   "outputs": [
    {
     "name": "stdout",
     "output_type": "stream",
     "text": [
      "Lynxes and Hares have max correlation of: 0.9272216513116692 shifting 2 years.\n",
      "Lynxes and Carrots have max correlation of: 0.8223515889558041 shifting 4 years.\n",
      "Hares and Carrots have max correlation of: 0.8701106492482901 shifting 2 years\n"
     ]
    }
   ],
   "source": [
    "maxcorr = 0\n",
    "for i in range(len(lynxes)):\n",
    "    corr = np.corrcoef(hares,np.roll(lynxes,-i))\n",
    "    if maxcorr < corr[0,1]:\n",
    "        maxcorr = corr[0,1]\n",
    "        shift = i\n",
    "        \n",
    "print(\"Lynxes and Hares have max correlation of: {} shifting {} years.\".format(maxcorr,shift))\n",
    "\n",
    "maxcorr = 0\n",
    "for i in range(len(lynxes)):\n",
    "    corr = np.corrcoef(carrots,np.roll(lynxes,-i))\n",
    "    if maxcorr < corr[0,1]:\n",
    "        maxcorr = corr[0,1]\n",
    "        shift = i\n",
    "        \n",
    "print(\"Lynxes and Carrots have max correlation of: {} shifting {} years.\".format(maxcorr,shift))\n",
    "\n",
    "maxcorr = 0\n",
    "for i in range(len(carrots)):\n",
    "    corr = np.corrcoef(carrots,np.roll(hares,-i))\n",
    "    if maxcorr < corr[0,1]:\n",
    "        maxcorr = corr[0,1]\n",
    "        shift = i\n",
    "        \n",
    "print(\"Hares and Carrots have max correlation of: {} shifting {} years\".format(maxcorr,shift))"
   ]
  },
  {
   "cell_type": "code",
   "execution_count": null,
   "metadata": {
    "collapsed": true
   },
   "outputs": [],
   "source": []
  }
 ],
 "metadata": {
  "kernelspec": {
   "display_name": "Python 3",
   "language": "python",
   "name": "python3"
  },
  "language_info": {
   "codemirror_mode": {
    "name": "ipython",
    "version": 3
   },
   "file_extension": ".py",
   "mimetype": "text/x-python",
   "name": "python",
   "nbconvert_exporter": "python",
   "pygments_lexer": "ipython3",
   "version": "3.6.3"
  }
 },
 "nbformat": 4,
 "nbformat_minor": 2
}
