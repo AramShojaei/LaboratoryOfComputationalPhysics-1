{
 "cells": [
  {
   "cell_type": "markdown",
   "metadata": {},
   "source": [
    "### Numpy basics"
   ]
  },
  {
   "cell_type": "markdown",
   "metadata": {},
   "source": [
    "1\\. Find the row, column and overall means for the following matrix:\n",
    "\n",
    "```python\n",
    "m = np.arange(12).reshape((3,4))\n",
    "```"
   ]
  },
  {
   "cell_type": "code",
   "execution_count": 1,
   "metadata": {},
   "outputs": [
    {
     "name": "stdout",
     "output_type": "stream",
     "text": [
      "('m', array([[ 0,  1,  2,  3],\n",
      "       [ 4,  5,  6,  7],\n",
      "       [ 8,  9, 10, 11]]), '\\n')\n",
      "('column mean', array([ 4.,  5.,  6.,  7.]), '\\n')\n",
      "('row mean', array([ 1.5,  5.5,  9.5]), '\\n')\n",
      "('m mean', 5.5)\n"
     ]
    }
   ],
   "source": [
    "import numpy as np\n",
    "m = np.arange(12).reshape((3,4))\n",
    "print('m',m,'\\n')\n",
    "print('column mean',np.mean(m,axis=0),'\\n')\n",
    "print('row mean',np.mean(m,axis=1),'\\n')\n",
    "print('m mean',np.mean(m))\n"
   ]
  },
  {
   "cell_type": "markdown",
   "metadata": {},
   "source": [
    "2\\. Find the outer product of the following two vecotrs\n",
    "\n",
    "```python\n",
    "u = np.array([1,3,5,7])\n",
    "v = np.array([2,4,6,8])\n",
    "```\n",
    "\n",
    "Do this in the following ways:\n",
    "\n",
    "   * Using the function outer in numpy\n",
    "   * Using a nested for loop or list comprehension\n",
    "   * Using numpy broadcasting operatoins\n"
   ]
  },
  {
   "cell_type": "code",
   "execution_count": 2,
   "metadata": {},
   "outputs": [
    {
     "name": "stdout",
     "output_type": "stream",
     "text": [
      "(array([[ 2,  4,  6,  8],\n",
      "       [ 6, 12, 18, 24],\n",
      "       [10, 20, 30, 40],\n",
      "       [14, 28, 42, 56]]), '\\n')\n",
      "[[  2.   4.   6.   8.]\n",
      " [  6.  12.  18.  24.]\n",
      " [ 10.  20.  30.  40.]\n",
      " [ 14.  28.  42.  56.]]\n"
     ]
    }
   ],
   "source": [
    "u = np.array([1,3,5,7])\n",
    "v = np.array([2,4,6,8])\n",
    "Produit=np.outer(u,v)\n",
    "print(Produit,'\\n')\n",
    "\n",
    "L=np.zeros((len(u),len(v)))\n",
    "for i in range(4):\n",
    "    L[:,i]=u*v[i]\n",
    "    \n",
    "print(L)\n",
    "\n"
   ]
  },
  {
   "cell_type": "markdown",
   "metadata": {},
   "source": [
    "3\\. Create a 10 by 6 matrix of random uniform numbers. Set all rows with any entry less than 0.1 to be zero\n",
    "\n",
    "Hint: Use the following numpy functions - np.random.random, np.any as well as Boolean indexing and the axis argument."
   ]
  },
  {
   "cell_type": "code",
   "execution_count": 3,
   "metadata": {},
   "outputs": [
    {
     "name": "stdout",
     "output_type": "stream",
     "text": [
      "[[ 0.65759322  0.92201533  0.18319309  0.57491968  0.08321267  0.98533574]\n",
      " [ 0.98781534  0.60901407  0.90787452  0.085397    0.83870217  0.26466704]\n",
      " [ 0.54844391  0.34315928  0.80116896  0.36831483  0.06037814  0.28553687]\n",
      " [ 0.23750618  0.85667738  0.71049215  0.73626933  0.66745709  0.63316935]\n",
      " [ 0.02021065  0.53638392  0.04784506  0.06110602  0.90809059  0.11371868]\n",
      " [ 0.02038587  0.83633419  0.78576555  0.26250167  0.93653557  0.66965996]\n",
      " [ 0.52979704  0.70230611  0.52424279  0.35106605  0.30645688  0.2357649 ]\n",
      " [ 0.68740935  0.75730057  0.11046532  0.75359604  0.37134809  0.58474493]\n",
      " [ 0.9383169   0.04274541  0.88798471  0.39396954  0.80383275  0.62656918]\n",
      " [ 0.65824186  0.72058641  0.91243762  0.36834404  0.07827095  0.97786454]]\n",
      "[ True  True  True False  True  True False False  True  True]\n",
      "[[ 0.          0.          0.          0.          0.          0.        ]\n",
      " [ 0.          0.          0.          0.          0.          0.        ]\n",
      " [ 0.          0.          0.          0.          0.          0.        ]\n",
      " [ 0.23750618  0.85667738  0.71049215  0.73626933  0.66745709  0.63316935]\n",
      " [ 0.          0.          0.          0.          0.          0.        ]\n",
      " [ 0.          0.          0.          0.          0.          0.        ]\n",
      " [ 0.52979704  0.70230611  0.52424279  0.35106605  0.30645688  0.2357649 ]\n",
      " [ 0.68740935  0.75730057  0.11046532  0.75359604  0.37134809  0.58474493]\n",
      " [ 0.          0.          0.          0.          0.          0.        ]\n",
      " [ 0.          0.          0.          0.          0.          0.        ]]\n"
     ]
    }
   ],
   "source": [
    "import numpy.random as npr\n",
    "M=npr.random((10,6))\n",
    "print(M)\n",
    "\n",
    "mask=np.any(M<0.1, axis=1)\n",
    "print(mask)\n",
    "M[mask]=0\n",
    "print(M)\n",
    "\n",
    "\n",
    "\n",
    "\n"
   ]
  },
  {
   "cell_type": "markdown",
   "metadata": {},
   "source": [
    "4\\. Use np.linspace to create an array of 100 numbers between 0 and 2π (includsive).\n",
    "\n",
    "  * Extract every 10th element using slice notation\n",
    "  * Reverse the array using slice notation\n",
    "  * Extract elements where the absolute difference between the sine and cosine functions evaluated at that element is less than 0.1\n",
    "  * Make a plot showing the sin and cos functions and indicate where they are close"
   ]
  },
  {
   "cell_type": "code",
   "execution_count": 4,
   "metadata": {},
   "outputs": [
    {
     "name": "stdout",
     "output_type": "stream",
     "text": [
      "(array([ 0.        ,  0.06346652,  0.12693304,  0.19039955,  0.25386607,\n",
      "        0.31733259,  0.38079911,  0.44426563,  0.50773215,  0.57119866,\n",
      "        0.63466518,  0.6981317 ,  0.76159822,  0.82506474,  0.88853126,\n",
      "        0.95199777,  1.01546429,  1.07893081,  1.14239733,  1.20586385,\n",
      "        1.26933037,  1.33279688,  1.3962634 ,  1.45972992,  1.52319644,\n",
      "        1.58666296,  1.65012947,  1.71359599,  1.77706251,  1.84052903,\n",
      "        1.90399555,  1.96746207,  2.03092858,  2.0943951 ,  2.15786162,\n",
      "        2.22132814,  2.28479466,  2.34826118,  2.41172769,  2.47519421,\n",
      "        2.53866073,  2.60212725,  2.66559377,  2.72906028,  2.7925268 ,\n",
      "        2.85599332,  2.91945984,  2.98292636,  3.04639288,  3.10985939,\n",
      "        3.17332591,  3.23679243,  3.30025895,  3.36372547,  3.42719199,\n",
      "        3.4906585 ,  3.55412502,  3.61759154,  3.68105806,  3.74452458,\n",
      "        3.8079911 ,  3.87145761,  3.93492413,  3.99839065,  4.06185717,\n",
      "        4.12532369,  4.1887902 ,  4.25225672,  4.31572324,  4.37918976,\n",
      "        4.44265628,  4.5061228 ,  4.56958931,  4.63305583,  4.69652235,\n",
      "        4.75998887,  4.82345539,  4.88692191,  4.95038842,  5.01385494,\n",
      "        5.07732146,  5.14078798,  5.2042545 ,  5.26772102,  5.33118753,\n",
      "        5.39465405,  5.45812057,  5.52158709,  5.58505361,  5.64852012,\n",
      "        5.71198664,  5.77545316,  5.83891968,  5.9023862 ,  5.96585272,\n",
      "        6.02931923,  6.09278575,  6.15625227,  6.21971879,  6.28318531]), '\\n')\n",
      "(array([False, False, False, False, False, False, False, False, False,\n",
      "       False, False, False,  True,  True, False, False, False, False,\n",
      "       False, False, False, False, False, False, False, False, False,\n",
      "       False, False, False, False, False, False, False, False, False,\n",
      "       False, False, False, False, False, False, False, False, False,\n",
      "       False, False, False, False, False, False, False, False, False,\n",
      "       False, False, False, False, False, False, False,  True,  True,\n",
      "       False, False, False, False, False, False, False, False, False,\n",
      "       False, False, False, False, False, False, False, False, False,\n",
      "       False, False, False, False, False, False, False, False, False,\n",
      "       False, False, False, False, False, False, False, False, False, False], dtype=bool), '\\n')\n",
      "[ 0.76159822  0.82506474  3.87145761  3.93492413]\n"
     ]
    },
    {
     "data": {
      "text/plain": [
       "[<matplotlib.lines.Line2D at 0x46e1f60>]"
      ]
     },
     "execution_count": 4,
     "metadata": {},
     "output_type": "execute_result"
    },
    {
     "data": {
      "image/png": "[encoded data removed]",
      "text/plain": [
       "<matplotlib.figure.Figure at 0x6a518d0>"
      ]
     },
     "metadata": {},
     "output_type": "display_data"
    }
   ],
   "source": [
    "Nb=np.linspace(0,2*np.pi,100)\n",
    "print(Nb,'\\n')\n",
    "S=Nb[9::10]\n",
    "#print(S,'\\n')\n",
    "\n",
    "R=Nb[::-1]\n",
    "#print(R,'\\n')\n",
    "\n",
    "mask=(np.absolute(np.sin(Nb)-np.cos(Nb))<0.1)\n",
    "print(mask,'\\n')\n",
    "\n",
    "Filt_Nb=Nb[mask]\n",
    "print(Filt_Nb)\n",
    "idx=np.where(np.absolute(np.sin(Nb)-np.cos(Nb))<0.1)\n",
    "\n",
    "\n",
    "import matplotlib.pyplot as plt \n",
    "\n",
    "%matplotlib inline\n",
    "\n",
    "ys =np.sin(Nb) # np.sin is a universal function\n",
    "yc=np.cos(Nb)\n",
    "ycs=np.cos(Nb[idx])\n",
    "plt.plot(Nb, ys)\n",
    "plt.plot(Nb, yc)\n",
    "plt.plot(Nb[idx],ycs,'ro')\n"
   ]
  },
  {
   "cell_type": "markdown",
   "metadata": {},
   "source": [
    "5\\. Create a matrix that shows the 10 by 10 multiplication table.\n",
    "\n",
    " * Find the trace of the matrix\n",
    " * Extract the anto-diagonal (this should be ```array([10, 18, 24, 28, 30, 30, 28, 24, 18, 10])```)\n",
    " * Extract the diagnoal offset by 1 upwards (this should be ```array([ 2,  6, 12, 20, 30, 42, 56, 72, 90])```)"
   ]
  },
  {
   "cell_type": "code",
   "execution_count": 5,
   "metadata": {},
   "outputs": [
    {
     "name": "stdout",
     "output_type": "stream",
     "text": [
      "[[  1   2   3   4   5   6   7   8   9  10]\n",
      " [  2   4   6   8  10  12  14  16  18  20]\n",
      " [  3   6   9  12  15  18  21  24  27  30]\n",
      " [  4   8  12  16  20  24  28  32  36  40]\n",
      " [  5  10  15  20  25  30  35  40  45  50]\n",
      " [  6  12  18  24  30  36  42  48  54  60]\n",
      " [  7  14  21  28  35  42  49  56  63  70]\n",
      " [  8  16  24  32  40  48  56  64  72  80]\n",
      " [  9  18  27  36  45  54  63  72  81  90]\n",
      " [ 10  20  30  40  50  60  70  80  90 100]]\n",
      "385\n",
      "[10 18 24 28 30 30 28 24 18 10]\n",
      "[ 2  6 12 20 30 42 56 72 90]\n"
     ]
    }
   ],
   "source": [
    "M=np.array([1,2, 3, 4, 5, 6, 7, 8, 9, 10])\n",
    "Mul=np.outer(M,M)\n",
    "print(Mul)\n",
    "Tr=np.trace(Mul)\n",
    "print(Tr)\n",
    "D1=np.diag(Mul[::-1]) \n",
    "print(D1)\n",
    "print(np.diag(Mul,-1))\n"
   ]
  },
  {
   "cell_type": "markdown",
   "metadata": {},
   "source": [
    "6\\. Use broadcasting to create a grid of distances\n",
    "\n",
    "Route 66 crosses the following cities in the US: Chicago, Springfield, Saint-Louis, Tulsa, Oklahoma City, Amarillo, Santa Fe, Albuquerque, Flagstaff, Los Angeles\n",
    "The corresponding positions in miles are: 0, 198, 303, 736, 871, 1175, 1475, 1544, 1913, 2448\n",
    "\n",
    "  * Construct a 2D grid of distances among each city along Route 66\n",
    "  * Convert that in km (those savages...)"
   ]
  },
  {
   "cell_type": "code",
   "execution_count": 6,
   "metadata": {},
   "outputs": [
    {
     "name": "stdout",
     "output_type": "stream",
     "text": [
      "[   0  198  303  736  871 1175 1475 1544 1913 2448]\n",
      "[[   0]\n",
      " [ 198]\n",
      " [ 303]\n",
      " [ 736]\n",
      " [ 871]\n",
      " [1175]\n",
      " [1475]\n",
      " [1544]\n",
      " [1913]\n",
      " [2448]]\n",
      "[[   0  198  303  736  871 1175 1475 1544 1913 2448]\n",
      " [ 198    0  105  538  673  977 1277 1346 1715 2250]\n",
      " [ 303  105    0  433  568  872 1172 1241 1610 2145]\n",
      " [ 736  538  433    0  135  439  739  808 1177 1712]\n",
      " [ 871  673  568  135    0  304  604  673 1042 1577]\n",
      " [1175  977  872  439  304    0  300  369  738 1273]\n",
      " [1475 1277 1172  739  604  300    0   69  438  973]\n",
      " [1544 1346 1241  808  673  369   69    0  369  904]\n",
      " [1913 1715 1610 1177 1042  738  438  369    0  535]\n",
      " [2448 2250 2145 1712 1577 1273  973  904  535    0]]\n",
      "[[    0.        318.64932   487.63002  1184.47424  1401.73514  1890.9745\n",
      "   2373.7765   2484.82096  3078.66742  3939.66432]\n",
      " [  318.64932     0.        168.9807    865.82492  1083.08582  1572.32518\n",
      "   2055.12718  2166.17164  2760.0181   3621.015  ]\n",
      " [  487.63002   168.9807      0.        696.84422   914.10512  1403.34448\n",
      "   1886.14648  1997.19094  2591.0374   3452.0343 ]\n",
      " [ 1184.47424   865.82492   696.84422     0.        217.2609    706.50026\n",
      "   1189.30226  1300.34672  1894.19318  2755.19008]\n",
      " [ 1401.73514  1083.08582   914.10512   217.2609      0.        489.23936\n",
      "    972.04136  1083.08582  1676.93228  2537.92918]\n",
      " [ 1890.9745   1572.32518  1403.34448   706.50026   489.23936     0.\n",
      "    482.802     593.84646  1187.69292  2048.68982]\n",
      " [ 2373.7765   2055.12718  1886.14648  1189.30226   972.04136   482.802\n",
      "      0.        111.04446   704.89092  1565.88782]\n",
      " [ 2484.82096  2166.17164  1997.19094  1300.34672  1083.08582   593.84646\n",
      "    111.04446     0.        593.84646  1454.84336]\n",
      " [ 3078.66742  2760.0181   2591.0374   1894.19318  1676.93228  1187.69292\n",
      "    704.89092   593.84646     0.        860.9969 ]\n",
      " [ 3939.66432  3621.015    3452.0343   2755.19008  2537.92918  2048.68982\n",
      "   1565.88782  1454.84336   860.9969      0.     ]]\n"
     ]
    }
   ],
   "source": [
    "Route_Pos=np.array([0, 198, 303, 736, 871, 1175, 1475, 1544, 1913, 2448])\n",
    "print(Route_Pos)\n",
    "B=Route_Pos.reshape(1,10)\n",
    "A=Route_Pos.reshape(10,1)\n",
    "print(A)\n",
    "Route=abs(B-A)\n",
    "print(Route);\n",
    "Km_Route=1.60934*Route\n",
    "print(Km_Route)"
   ]
  },
  {
   "cell_type": "markdown",
   "metadata": {},
   "source": [
    "7\\. Prime numbers sieve: compute the prime numbers in the 0-N (N=99 to start with) range with a sieve (mask).\n",
    "  * Constract a shape (100,) boolean array, the mask\n",
    "  * Identify the multiples of each number starting from 2 and set accordingly the corresponding mask element\n",
    "  * Apply the mask to obtain an array of ordered prime numbers\n",
    "  * Check the performances (timeit); how does it scale with N?\n",
    "  * Implement the optimization suggested in the [sieve of Eratosthenes](https://en.wikipedia.org/wiki/Sieve_of_Eratosthenes)"
   ]
  },
  {
   "cell_type": "code",
   "execution_count": 7,
   "metadata": {},
   "outputs": [
    {
     "name": "stdout",
     "output_type": "stream",
     "text": [
      "10000 loops, best of 3: 27.2 µs per loop\n",
      "10000 loops, best of 3: 25.7 µs per loop\n"
     ]
    }
   ],
   "source": [
    "from math import sqrt\n",
    "def Prime(N):\n",
    "    Mask=np.ones((N,), dtype=bool)\n",
    "    \n",
    "    Mask[0]=False\n",
    "    Mask[1]=False\n",
    "    for p in range(int(sqrt(N))):\n",
    "        if (Mask[p]==True):\n",
    "            for j in range(2*p,100,p):\n",
    "                Mask[j]=False\n",
    "    Prime_Nb=np.where(Mask)[0]\n",
    "    return (Prime_Nb)\n",
    "#print(Prime(100))\n",
    "#print(Prime(10000))\n",
    "#%timeit Prime(100)\n",
    "#%timeit Prime(10000)\n",
    "\n",
    "def  Prime_opt(N):\n",
    "    Mask=np.ones((N,), dtype=bool)\n",
    "    \n",
    "    Mask[0]=False\n",
    "    Mask[1]=False\n",
    "    for p in range(int(sqrt(N))):\n",
    "        if (Mask[p]==True):\n",
    "            for j in range(p**2,100,p):\n",
    "                Mask[j]=False\n",
    "    Prime_Nb=np.where(Mask)[0]\n",
    "    return (Prime_Nb)\n",
    "%timeit Prime(100)\n",
    "%timeit Prime_opt(100)\n"
   ]
  },
  {
   "cell_type": "markdown",
   "metadata": {},
   "source": [
    "8\\. Diffusion using random walk\n",
    "\n",
    "Consider a simple random walk process: at each step in time, a walker jumps right or left (+1 or -1) with equal probability. The goal is to find the typical distance from the origin of a random walker after a given amount of time. \n",
    "To do that, let's simulate many walkers and create a 2D array with each walker as a raw and the actual time evolution as columns\n",
    "\n",
    "  * Take 1000 walkers and let them walk for 200 steps\n",
    "  * Use randint to create a 2D array of size walkers x steps with values -1 or 1\n",
    "  * Build the actual walking distances for each walker (i.e. another 2D array \"summing on each raw\")\n",
    "  * Take the square of that 2D array (elementwise)\n",
    "  * Compute the mean of the squared distances at each step (i.e. the mean along the columns)\n",
    "  * Plot the average distances (sqrt(distance\\*\\*2)) as a function of time (step)\n",
    "  \n",
    "Did you get what you expected?"
   ]
  },
  {
   "cell_type": "code",
   "execution_count": 49,
   "metadata": {},
   "outputs": [
    {
     "name": "stdout",
     "output_type": "stream",
     "text": [
      "(1000L, 200L)\n",
      "(1000L, 200L)\n",
      "(200L,)\n"
     ]
    },
    {
     "data": {
      "text/plain": [
       "[<matplotlib.lines.Line2D at 0xb240240>]"
      ]
     },
     "execution_count": 49,
     "metadata": {},
     "output_type": "execute_result"
    },
    {
     "data": {
      "image/png": "[encoded data removed]",
      "text/plain": [
       "<matplotlib.figure.Figure at 0xaf55e80>"
      ]
     },
     "metadata": {},
     "output_type": "display_data"
    }
   ],
   "source": [
    "S=200\n",
    "W=1000\n",
    "Walking=np.random.randint(2, size=(W,S))\n",
    "idx=np.where(Walking==0)\n",
    "Walking[idx]=-1\n",
    "#print(Walking)\n",
    "\n",
    "\n",
    "Distance=np.zeros((W,S))\n",
    "for i in range(W):\n",
    "    Distance[i,0]=Walking[i,0]\n",
    "    for j in range(1,S,1):\n",
    "        \n",
    "        Distance[i,j]=(np.sum(Walking[i,0:j+1]))\n",
    "        \n",
    "#print(Distance)\n",
    "Dist_Sq=np.square(Distance)\n",
    "Mean_Sq=np.mean(Dist_Sq,axis=0)\n",
    "print(Distance.shape)\n",
    "print(Dist_Sq.shape)\n",
    "print(Mean_Sq.shape)\n",
    "step=np.arange(S)\n",
    "#print(step)\n",
    "\n",
    "plt.plot(step,Mean_Sq)"
   ]
  },
  {
   "cell_type": "markdown",
   "metadata": {},
   "source": [
    "9\\. Analyze a data file \n",
    "  * Download the population of hares, lynxes and carrots at the beginning of the last century.\n",
    "    ```python\n",
    "    ! wget https://www.dropbox.com/s/3vigxoqayo389uc/populations.txt\n",
    "    ```\n",
    "\n",
    "  * Check the content by looking within the file\n",
    "  * Load the data (use an appropriate numpy method) into a 2D array\n",
    "  * Create arrays out of the columns, the arrays being (in order): *year*, *hares*, *lynxes*, *carrots* \n",
    "  * Plot the 3 populations over the years\n",
    "  * Compute the main statistical properties of the dataset (mean, std, correlations, etc.)\n",
    "  * Which species has the highest population each year?\n",
    "\n",
    "Do you feel there is some evident correlation here? [Studies](https://www.enr.gov.nt.ca/en/services/lynx/lynx-snowshoe-hare-cycle) tend to believe so."
   ]
  },
  {
   "cell_type": "code",
   "execution_count": 50,
   "metadata": {},
   "outputs": [
    {
     "data": {
      "image/png": "[encoded data removed]",
      "text/plain": [
       "<matplotlib.figure.Figure at 0xa715a58>"
      ]
     },
     "metadata": {},
     "output_type": "display_data"
    },
    {
     "name": "stdout",
     "output_type": "stream",
     "text": [
      "('Hares:', DescribeResult(nobs=21L, minmax=(7600.0, 77400.0), mean=34080.952380952382, variance=458558619.04761904, skewness=0.8707926603586706, kurtosis=-0.4713852285780282))\n",
      "('Lynx:', DescribeResult(nobs=21L, minmax=(4000.0, 59400.0), mean=20166.666666666668, variance=277422333.33333331, skewness=1.122094055331874, kurtosis=-0.11206718692648243))\n",
      "('Carrot:', DescribeResult(nobs=21L, minmax=(36700.0, 48300.0), mean=42400.0, variance=11591000.0, skewness=0.328696845915367, kurtosis=-0.9133000711768431))\n"
     ]
    }
   ],
   "source": [
    "Data=np.loadtxt('populations.txt')\n",
    "Year=Data[:,0]\n",
    "Hare=Data[:,1]\n",
    "Lynx=Data[:,2]\n",
    "Carrot=Data[:,3]\n",
    "plt.plot(Year,Hare, label='Hares')\n",
    "plt.plot(Year,Lynx, label='Lynx')\n",
    "plt.plot(Year,Carrot, label='Carrot')\n",
    "plt.legend()\n",
    "plt.show()\n",
    "from scipy import stats\n",
    "print('Hares:', stats.describe(Hare))\n",
    "print('Lynx:', stats.describe(Lynx))\n",
    "print('Carrot:', stats.describe(Carrot))\n",
    "\n"
   ]
  },
  {
   "cell_type": "code",
   "execution_count": null,
   "metadata": {
    "collapsed": true
   },
   "outputs": [],
   "source": []
  }
 ],
 "metadata": {
  "kernelspec": {
   "display_name": "Python 2",
   "language": "python",
   "name": "python2"
  },
  "language_info": {
   "codemirror_mode": {
    "name": "ipython",
    "version": 2
   },
   "file_extension": ".py",
   "mimetype": "text/x-python",
   "name": "python",
   "nbconvert_exporter": "python",
   "pygments_lexer": "ipython2",
   "version": "2.7.13"
  }
 },
 "nbformat": 4,
 "nbformat_minor": 2
}
