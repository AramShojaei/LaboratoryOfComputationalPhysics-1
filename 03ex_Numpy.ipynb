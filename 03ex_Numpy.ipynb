{
 "cells": [
  {
   "cell_type": "code",
   "execution_count": 2,
   "metadata": {},
   "outputs": [],
   "source": [
    "import numpy as np\n",
    "import matplotlib.pyplot as plt\n",
    "from math import sqrt\n",
    "import numpy.random as npr"
   ]
  },
  {
   "cell_type": "markdown",
   "metadata": {},
   "source": [
    "### Numpy basics"
   ]
  },
  {
   "cell_type": "markdown",
   "metadata": {},
   "source": [
    "1\\. Find the row, column and overall means for the following matrix:\n",
    "\n",
    "```python\n",
    "m = np.arange(12).reshape((3,4))\n",
    "```"
   ]
  },
  {
   "cell_type": "code",
   "execution_count": 2,
   "metadata": {},
   "outputs": [
    {
     "name": "stdout",
     "output_type": "stream",
     "text": [
      "[[ 0  1  2  3]\n",
      " [ 4  5  6  7]\n",
      " [ 8  9 10 11]]\n",
      "Row 0 mean: 1.5\n",
      "Row 1 mean: 5.5\n",
      "Row 2 mean: 9.5\n",
      "Column 0 mean: 4.0\n",
      "Column 1 mean: 5.0\n",
      "Column 2 mean: 6.0\n",
      "Column 3 mean: 7.0\n",
      "Overall mean: 5.5\n"
     ]
    }
   ],
   "source": [
    "m = np.arange(12).reshape((3,4))\n",
    "print(m)\n",
    "\n",
    "#row means\n",
    "for i in range(m.shape[0]):\n",
    "    print (\"Row\", i, \"mean:\", np.mean(m[i,:]))\n",
    "#column means\n",
    "for i in range(m.shape[1]):\n",
    "    print (\"Column\", i, \"mean:\", np.mean(m[:,i]))\n",
    "#overall mean\n",
    "print(\"Overall mean:\",np.mean(m))"
   ]
  },
  {
   "cell_type": "markdown",
   "metadata": {},
   "source": [
    "2\\. Find the outer product of the following two vecotrs\n",
    "\n",
    "```python\n",
    "u = np.array([1,3,5,7])\n",
    "v = np.array([2,4,6,8])\n",
    "```\n",
    "\n",
    "Do this in the following ways:\n",
    "\n",
    "   * Using the function outer in numpy\n",
    "   * Using a nested for loop or list comprehension\n",
    "   * Using numpy broadcasting operatoins\n"
   ]
  },
  {
   "cell_type": "code",
   "execution_count": 3,
   "metadata": {},
   "outputs": [
    {
     "name": "stdout",
     "output_type": "stream",
     "text": [
      "Numpy outer function: \n",
      " [[ 2  4  6  8]\n",
      " [ 6 12 18 24]\n",
      " [10 20 30 40]\n",
      " [14 28 42 56]]\n",
      "List comprehension: \n",
      " [[ 2  4  6  8]\n",
      " [ 6 12 18 24]\n",
      " [10 20 30 40]\n",
      " [14 28 42 56]]\n",
      "Numpy broadcasting operations: \n",
      " [[ 2  4  6  8]\n",
      " [ 6 12 18 24]\n",
      " [10 20 30 40]\n",
      " [14 28 42 56]]\n"
     ]
    }
   ],
   "source": [
    "u = np.array([1,3,5,7])\n",
    "v = np.array([2,4,6,8])\n",
    "\n",
    "#outer product with the function outer in numpy\n",
    "print('Numpy outer function:', '\\n', np.outer(u,v))\n",
    "\n",
    "#outer product a nested for loop or list comprehension\n",
    "print('List comprehension:', '\\n', np.array([u[i]*v for i in range(v.shape[0])]))\n",
    "\n",
    "#outer product with numpy broadcasting operations\n",
    "print('Numpy broadcasting operations:', '\\n', u.reshape(4,1)*(v.reshape(1,4)))"
   ]
  },
  {
   "cell_type": "markdown",
   "metadata": {},
   "source": [
    "3\\. Create a 10 by 6 matrix of random uniform numbers. Set all rows with any entry less than 0.1 to be zero\n",
    "\n",
    "Hint: Use the following numpy functions - np.random.random, np.any as well as Boolean indexing and the axis argument."
   ]
  },
  {
   "cell_type": "code",
   "execution_count": 4,
   "metadata": {},
   "outputs": [
    {
     "name": "stdout",
     "output_type": "stream",
     "text": [
      "[[0.69646919 0.28613933 0.22685145 0.55131477 0.71946897 0.42310646]\n",
      " [0.9807642  0.68482974 0.4809319  0.39211752 0.34317802 0.72904971]\n",
      " [0.         0.         0.         0.         0.         0.        ]\n",
      " [0.53155137 0.53182759 0.63440096 0.84943179 0.72445532 0.61102351]\n",
      " [0.72244338 0.32295891 0.36178866 0.22826323 0.29371405 0.63097612]\n",
      " [0.         0.         0.         0.         0.         0.        ]\n",
      " [0.42635131 0.89338916 0.94416002 0.50183668 0.62395295 0.1156184 ]\n",
      " [0.31728548 0.41482621 0.86630916 0.25045537 0.48303426 0.98555979]\n",
      " [0.51948512 0.61289453 0.12062867 0.8263408  0.60306013 0.54506801]\n",
      " [0.34276383 0.30412079 0.41702221 0.68130077 0.87545684 0.51042234]]\n"
     ]
    }
   ],
   "source": [
    "np.random.seed(123)\n",
    "m=np.random.random((10,6))\n",
    "mask=(m<0.1)\n",
    "zero=np.zeros(6)\n",
    "for i in range(10):\n",
    "    if np.any(mask,axis=1)[i]==True:\n",
    "        m[i,:]=zero\n",
    "print(m)"
   ]
  },
  {
   "cell_type": "markdown",
   "metadata": {},
   "source": [
    "4\\. Use np.linspace to create an array of 100 numbers between 0 and 2π (includsive).\n",
    "\n",
    "  * Extract every 10th element using slice notation\n",
    "  * Reverse the array using slice notation\n",
    "  * Extract elements where the absolute difference between the sine and cosine functions evaluated at that element is less than 0.1\n",
    "  * Make a plot showing the sin and cos functions and indicate where they are close"
   ]
  },
  {
   "cell_type": "code",
   "execution_count": 5,
   "metadata": {},
   "outputs": [
    {
     "name": "stdout",
     "output_type": "stream",
     "text": [
      "[0.57119866 1.20586385 1.84052903 2.47519421 3.10985939 3.74452458\n",
      " 4.37918976 5.01385494 5.64852012 6.28318531]\n",
      "[6.28318531 6.21971879 6.15625227 6.09278575 6.02931923 5.96585272\n",
      " 5.9023862  5.83891968 5.77545316 5.71198664 5.64852012 5.58505361\n",
      " 5.52158709 5.45812057 5.39465405 5.33118753 5.26772102 5.2042545\n",
      " 5.14078798 5.07732146 5.01385494 4.95038842 4.88692191 4.82345539\n",
      " 4.75998887 4.69652235 4.63305583 4.56958931 4.5061228  4.44265628\n",
      " 4.37918976 4.31572324 4.25225672 4.1887902  4.12532369 4.06185717\n",
      " 3.99839065 3.93492413 3.87145761 3.8079911  3.74452458 3.68105806\n",
      " 3.61759154 3.55412502 3.4906585  3.42719199 3.36372547 3.30025895\n",
      " 3.23679243 3.17332591 3.10985939 3.04639288 2.98292636 2.91945984\n",
      " 2.85599332 2.7925268  2.72906028 2.66559377 2.60212725 2.53866073\n",
      " 2.47519421 2.41172769 2.34826118 2.28479466 2.22132814 2.15786162\n",
      " 2.0943951  2.03092858 1.96746207 1.90399555 1.84052903 1.77706251\n",
      " 1.71359599 1.65012947 1.58666296 1.52319644 1.45972992 1.3962634\n",
      " 1.33279688 1.26933037 1.20586385 1.14239733 1.07893081 1.01546429\n",
      " 0.95199777 0.88853126 0.82506474 0.76159822 0.6981317  0.63466518\n",
      " 0.57119866 0.50773215 0.44426563 0.38079911 0.31733259 0.25386607\n",
      " 0.19039955 0.12693304 0.06346652 0.        ]\n",
      "[0.76159822 0.82506474 3.87145761 3.93492413]\n"
     ]
    },
    {
     "data": {
      "image/png": "[encoded data removed]",
      "text/plain": [
       "<Figure size 432x288 with 1 Axes>"
      ]
     },
     "metadata": {
      "needs_background": "light"
     },
     "output_type": "display_data"
    }
   ],
   "source": [
    "from math import pi\n",
    "m=np.linspace(0,2*pi,100)\n",
    "\n",
    "#extract every 10th element\n",
    "print(m[9:100:10])\n",
    "#reverse the array    \n",
    "print(m[::-1])\n",
    "#extract element ....\n",
    "mask=(abs(np.sin(m)-np.cos(m))<0.1)\n",
    "sincos=m[mask]\n",
    "print(sincos)\n",
    "#plot\n",
    "plt.plot(m, np.sin(m), 'r', label='sin')\n",
    "plt.plot(m, np.cos(m), 'g', label='cos')\n",
    "plt.plot(sincos, np.sin(sincos), 'ro',label='sin point')\n",
    "plt.plot(sincos, np.cos(sincos), 'go', label='cos point')\n",
    "plt.legend()\n",
    "plt.show()"
   ]
  },
  {
   "cell_type": "markdown",
   "metadata": {},
   "source": [
    "5\\. Create a matrix that shows the 10 by 10 multiplication table.\n",
    "\n",
    " * Find the trace of the matrix\n",
    " * Extract the anto-diagonal (this should be ```array([10, 18, 24, 28, 30, 30, 28, 24, 18, 10])```)\n",
    " * Extract the diagnoal offset by 1 upwards (this should be ```array([ 2,  6, 12, 20, 30, 42, 56, 72, 90])```)"
   ]
  },
  {
   "cell_type": "code",
   "execution_count": 6,
   "metadata": {},
   "outputs": [
    {
     "name": "stdout",
     "output_type": "stream",
     "text": [
      "Multiplication table: \n",
      " [[  1   2   3   4   5   6   7   8   9  10]\n",
      " [  2   4   6   8  10  12  14  16  18  20]\n",
      " [  3   6   9  12  15  18  21  24  27  30]\n",
      " [  4   8  12  16  20  24  28  32  36  40]\n",
      " [  5  10  15  20  25  30  35  40  45  50]\n",
      " [  6  12  18  24  30  36  42  48  54  60]\n",
      " [  7  14  21  28  35  42  49  56  63  70]\n",
      " [  8  16  24  32  40  48  56  64  72  80]\n",
      " [  9  18  27  36  45  54  63  72  81  90]\n",
      " [ 10  20  30  40  50  60  70  80  90 100]]\n",
      "Antidiagonal: [10, 18, 24, 28, 30, 30, 28, 24, 18, 10]\n",
      "Diagonal offset by 1 upwards: [ 2  6 12 20 30 42 56 72 90]\n"
     ]
    }
   ],
   "source": [
    "molt=np.array([i*j for i in range(1,11) for j in range(1,11)]).reshape(10,10)\n",
    "print('Multiplication table:', '\\n',molt)\n",
    "\n",
    "#extract anti-diagonal\n",
    "anti_diag=([ molt[i,9-i] for i in range(10)])\n",
    "print('Antidiagonal:',anti_diag)\n",
    "\n",
    "#extract diagonal...\n",
    "diag_off=np.diagonal(molt[:,1:10])\n",
    "print('Diagonal offset by 1 upwards:',diag_off)"
   ]
  },
  {
   "cell_type": "markdown",
   "metadata": {},
   "source": [
    "6\\. Use broadcasting to create a grid of distances\n",
    "\n",
    "Route 66 crosses the following cities in the US: Chicago, Springfield, Saint-Louis, Tulsa, Oklahoma City, Amarillo, Santa Fe, Albuquerque, Flagstaff, Los Angeles\n",
    "The corresponding positions in miles are: 0, 198, 303, 736, 871, 1175, 1475, 1544, 1913, 2448\n",
    "\n",
    "  * Construct a 2D grid of distances among each city along Route 66\n",
    "  * Convert that in km (those savages...)"
   ]
  },
  {
   "cell_type": "code",
   "execution_count": 7,
   "metadata": {},
   "outputs": [
    {
     "name": "stdout",
     "output_type": "stream",
     "text": [
      "Distance in km \n",
      " [['*' 'Ch' 'Sp' 'SL' 'Tu' 'OC' 'Am' 'SF' 'Al' 'Fl' 'LA']\n",
      " ['Ch' '0' '198' '303' '736' '871' '1175' '1475' '1544' '1913' '2448']\n",
      " ['Sp' '198' '0' '105' '538' '673' '977' '1277' '1346' '1715' '2250']\n",
      " ['SL' '303' '105' '0' '433' '568' '872' '1172' '1241' '1610' '2145']\n",
      " ['Tu' '736' '538' '433' '0' '135' '439' '739' '808' '1177' '1712']\n",
      " ['OC' '871' '673' '568' '135' '0' '304' '604' '673' '1042' '1577']\n",
      " ['Am' '1175' '977' '872' '439' '304' '0' '300' '369' '738' '1273']\n",
      " ['SF' '1475' '1277' '1172' '739' '604' '300' '0' '69' '438' '973']\n",
      " ['Al' '1544' '1346' '1241' '808' '673' '369' '69' '0' '369' '904']\n",
      " ['Fl' '1913' '1715' '1610' '1177' '1042' '738' '438' '369' '0' '535']\n",
      " ['LA' '2448' '2250' '2145' '1712' '1577' '1273' '973' '904' '535' '0']]\n",
      "Distance in miles \n",
      " [['*' 'Ch' 'Sp' 'SL' 'Tu' 'OC' 'Am' 'SF' 'Al' 'Fl' 'LA']\n",
      " ['Ch' '0' '316' '484' '1177' '1393' '1880' '2360' '2470' '3060' '3916']\n",
      " ['Sp' '316' '0' '168' '860' '1076' '1563' '2043' '2153' '2744' '3600']\n",
      " ['SL' '484' '168' '0' '692' '908' '1395' '1875' '1985' '2576' '3432']\n",
      " ['Tu' '1177' '860' '692' '0' '216' '702' '1182' '1292' '1883' '2739']\n",
      " ['OC' '1393' '1076' '908' '216' '0' '486' '966' '1076' '1667' '2523']\n",
      " ['Am' '1880' '1563' '1395' '702' '486' '0' '480' '590' '1180' '2036']\n",
      " ['SF' '2360' '2043' '1875' '1182' '966' '480' '0' '110' '700' '1556']\n",
      " ['Al' '2470' '2153' '1985' '1292' '1076' '590' '110' '0' '590' '1446']\n",
      " ['Fl' '3060' '2744' '2576' '1883' '1667' '1180' '700' '590' '0' '856']\n",
      " ['LA' '3916' '3600' '3432' '2739' '2523' '2036' '1556' '1446' '856' '0']]\n"
     ]
    }
   ],
   "source": [
    "city=np.array(['*','Ch', 'Sp', 'SL', 'Tu', 'OC', 'Am', 'SF', 'Al', 'Fl', 'LA'])\n",
    "km=np.array([0,198,303,736,871,1175,1475,1544,1913,2448])\n",
    "\n",
    "dist=np.absolute(km.reshape(10,1)-km.reshape(1,10))\n",
    "\n",
    "crosses_km=np.hstack((city.reshape(11,1),np.vstack((city[1:11].reshape(1,10),dist))))\n",
    "print('Distance in km','\\n',crosses_km)\n",
    "\n",
    "crosses_miles=np.hstack((city.reshape(11,1),np.vstack((city[1:11].reshape(1,10),(dist*1.6).astype(int)))))\n",
    "print('Distance in miles','\\n',crosses_miles)"
   ]
  },
  {
   "cell_type": "markdown",
   "metadata": {},
   "source": [
    "7\\. Prime numbers sieve: compute the prime numbers in the 0-N (N=99 to start with) range with a sieve (mask).\n",
    "  * Constract a shape (100,) boolean array, the mask\n",
    "  * Identify the multiples of each number starting from 2 and set accordingly the corresponding mask element\n",
    "  * Apply the mask to obtain an array of ordered prime numbers\n",
    "  * Check the performances (timeit); how does it scale with N?\n",
    "  * Implement the optimization suggested in the [sieve of Eratosthenes](https://en.wikipedia.org/wiki/Sieve_of_Eratosthenes)"
   ]
  },
  {
   "cell_type": "code",
   "execution_count": 4,
   "metadata": {},
   "outputs": [
    {
     "name": "stdout",
     "output_type": "stream",
     "text": [
      "Prime numbers: [ 0  1  2  3  5  7 11 13 17 19 23 29 31 37 41 43 47 53 59 61 67 71 73 79\n",
      " 83 89 97]\n"
     ]
    },
    {
     "data": {
      "image/png": "[encoded data removed]",
      "text/plain": [
       "<Figure size 432x288 with 1 Axes>"
      ]
     },
     "metadata": {
      "needs_background": "light"
     },
     "output_type": "display_data"
    }
   ],
   "source": [
    "import time\n",
    "\n",
    "def prime(N):\n",
    "    mask=np.array([True for i in range(N)])\n",
    "    numbers=np.arange(N)\n",
    "    for i in range(2,N):\n",
    "        for j in range(2,N):\n",
    "            #if numbers[j]%numbers[j]==0 -> it is not prime\n",
    "            if numbers[i]!=numbers[j] and numbers[i]%numbers[j]==0: mask[i]=False             \n",
    "    return numbers[mask]\n",
    "\n",
    "print(\"Prime numbers:\",prime(100))\n",
    "\n",
    "#tim\n",
    "timeres=np.zeros((10,2))\n",
    "j=0\n",
    "for i in range(10,110,10):\n",
    "    start_time = time.process_time()\n",
    "    prime(10*i)\n",
    "    timeres[j,0]=i*10\n",
    "    timeres[j,1]=time.process_time() - start_time\n",
    "    j +=1\n",
    " \n",
    "plt.plot(timeres[:,0], timeres[:,1], 'r*')\n",
    "plt.xlabel('N')\n",
    "plt.ylabel('Time (seconds)')\n",
    "plt.title('My program')\n",
    "plt.show()"
   ]
  },
  {
   "cell_type": "code",
   "execution_count": 5,
   "metadata": {},
   "outputs": [
    {
     "name": "stdout",
     "output_type": "stream",
     "text": [
      "[ 0  1  2  3  5  7 11 13 17 19 23 29 31 37 41 43 47 53 59 61 67 71 73 79\n",
      " 83 89 97]\n"
     ]
    },
    {
     "data": {
      "image/png": "[encoded data removed]",
      "text/plain": [
       "<Figure size 432x288 with 1 Axes>"
      ]
     },
     "metadata": {
      "needs_background": "light"
     },
     "output_type": "display_data"
    }
   ],
   "source": [
    "def Erat(N):\n",
    "    mask=np.array([True for i in range(N)])\n",
    "    numbers=np.arange(N)\n",
    "    for i in range(2,int(sqrt(N))):\n",
    "        if mask[i] == True: \n",
    "            for j in range(i**2, N, i):\n",
    "                mask[j]=False      \n",
    "    prime=numbers[mask]\n",
    "    return prime                \n",
    "\n",
    "print(Erat(100))\n",
    "\n",
    "#time\n",
    "timeres=np.zeros((1000,2))\n",
    "j=0\n",
    "for i in range(10,11000,100):\n",
    "    start_time = time.process_time()\n",
    "    Erat(10*i)\n",
    "    timeres[j,0]=i*10\n",
    "    timeres[j,1]=time.process_time() - start_time\n",
    "    j +=1\n",
    "    \n",
    "plt.plot(timeres[:,0], timeres[:,1], 'r*')\n",
    "plt.xlabel('N')\n",
    "plt.ylabel('Time (seconds)')\n",
    "plt.title('Sieve of Eratosthenes')\n",
    "plt.show()"
   ]
  },
  {
   "cell_type": "markdown",
   "metadata": {},
   "source": [
    "8\\. Diffusion using random walk\n",
    "\n",
    "Consider a simple random walk process: at each step in time, a walker jumps right or left (+1 or -1) with equal probability. The goal is to find the typical distance from the origin of a random walker after a given amount of time. \n",
    "To do that, let's simulate many walkers and create a 2D array with each walker as a raw and the actual time evolution as columns\n",
    "\n",
    "  * Take 1000 walkers and let them walk for 200 steps\n",
    "  * Use randint to create a 2D array of size walkers x steps with values -1 or 1\n",
    "  * Build the actual walking distances for each walker (i.e. another 2D array \"summing on each raw\")\n",
    "  * Take the square of that 2D array (elementwise)\n",
    "  * Compute the mean of the squared distances at each step (i.e. the mean along the columns)\n",
    "  * Plot the average distances (sqrt(distance\\*\\*2)) as a function of time (step)\n",
    "  \n",
    "Did you get what you expected?"
   ]
  },
  {
   "cell_type": "code",
   "execution_count": 10,
   "metadata": {},
   "outputs": [
    {
     "data": {
      "image/png": "[encoded data removed]",
      "text/plain": [
       "<Figure size 432x288 with 1 Axes>"
      ]
     },
     "metadata": {
      "needs_background": "light"
     },
     "output_type": "display_data"
    }
   ],
   "source": [
    "npr.seed(123)\n",
    "steps=npr.randint(0,2,size=(1000,200)) #2D array with 0 1\n",
    "steps=steps*2-1 # 0 -> -1\n",
    "\n",
    "distance=steps\n",
    "for i in range(1,200):\n",
    "    distance[:,i]=distance[:,i-1:i+1].sum(axis=1) #compute the distance\n",
    "\n",
    "mean=np.hstack((1+np.arange(200).reshape(200,1),np.mean(distance**2, axis=0).reshape(200,1))) #calcolo la media del quadrato della distanza\n",
    "plt.plot(mean[:,0], np.sqrt(mean[:,1]), 'r+', label='Calculations')\n",
    "plt.plot(mean[:,0], np.sqrt(mean[:,0]), 'b', label='Expected behaviour: Step^1/2')\n",
    "plt.xlabel('Step')\n",
    "plt.ylabel('Distance')\n",
    "plt.title('Diffusion')\n",
    "plt.legend()\n",
    "plt.show()"
   ]
  },
  {
   "cell_type": "markdown",
   "metadata": {},
   "source": [
    "Yes, I obtained the expected behaviour as shown in the plot."
   ]
  },
  {
   "cell_type": "markdown",
   "metadata": {},
   "source": [
    "9\\. Analyze a data file \n",
    "  * Download the population of hares, lynxes and carrots at the beginning of the last century.\n",
    "    ```python\n",
    "    ! wget https://www.dropbox.com/s/3vigxoqayo389uc/populations.txt\n",
    "    ```\n",
    "\n",
    "  * Check the content by looking within the file\n",
    "  * Load the data (use an appropriate numpy method) into a 2D array\n",
    "  * Create arrays out of the columns, the arrays being (in order): *year*, *hares*, *lynxes*, *carrots* \n",
    "  * Plot the 3 populations over the years\n",
    "  * Compute the main statistical properties of the dataset (mean, std, correlations, etc.)\n",
    "  * Which species has the highest population each year?\n",
    "\n",
    "Do you feel there is some evident correlation here? [Studies](https://www.enr.gov.nt.ca/en/services/lynx/lynx-snowshoe-hare-cycle) tend to believe so."
   ]
  },
  {
   "cell_type": "code",
   "execution_count": 11,
   "metadata": {},
   "outputs": [
    {
     "data": {
      "image/png": "[encoded data removed]",
      "text/plain": [
       "<Figure size 432x288 with 1 Axes>"
      ]
     },
     "metadata": {
      "needs_background": "light"
     },
     "output_type": "display_data"
    },
    {
     "name": "stdout",
     "output_type": "stream",
     "text": [
      "hares\n",
      "mean 34080.95238095238\n",
      "std 20897.906458089667\n",
      "median 25400.0\n",
      "min 7600.0\n",
      "max 77400.0\n",
      "\n",
      " lynxes\n",
      "mean 20166.666666666668\n",
      "std 16254.591536908763\n",
      "median 12300.0\n",
      "min 4000.0\n",
      "max 59400.0\n",
      "\n",
      " carrots\n",
      "mean 42400.0\n",
      "std 3322.5062255844787\n",
      "median 41800.0\n",
      "min 36700.0\n",
      "max 48300.0\n",
      "\n",
      " corrcoef: hares lynxes \n",
      " [[1.         0.07189206]\n",
      " [0.07189206 1.        ]] \n",
      "\n",
      "corrcoef: hares carrots \n",
      " [[ 1.         -0.01660378]\n",
      " [-0.01660378  1.        ]] \n",
      "\n",
      "corrcoef: carrots lynxes \n",
      " [[ 1.         -0.68057717]\n",
      " [-0.68057717  1.        ]] \n",
      "\n"
     ]
    }
   ],
   "source": [
    "file_name = \"populations.txt\"\n",
    "data=np.loadtxt(file_name) #read the file and put the data in array2D\n",
    "\n",
    "years=data[:,0]\n",
    "hares=data[:,1]\n",
    "lynxes=data[:,2]\n",
    "carrots=data[:,3]\n",
    "\n",
    "plt.plot(years, hares, 'r', label='hares')\n",
    "plt.plot(years, lynxes, 'g', label='lynxes')\n",
    "plt.plot(years, carrots, 'b', label='carrot')\n",
    "plt.xlabel('Year')\n",
    "plt.ylabel('Popoluation')\n",
    "plt.legend()\n",
    "plt.show()\n",
    "\n",
    "print('hares')\n",
    "for function in ['mean', 'std', 'median', 'min', 'max']:\n",
    "    print(function, getattr(np, function)(hares))\n",
    "print('\\n','lynxes')\n",
    "for function in ['mean', 'std','median', 'min', 'max']:\n",
    "    print(function, getattr(np, function)(lynxes))\n",
    "print('\\n','carrots')\n",
    "for function in ['mean', 'std','median','min', 'max']:\n",
    "    print(function, getattr(np, function)(carrots))\n",
    "    \n",
    "\n",
    "print('\\n','corrcoef: hares lynxes', '\\n',  getattr(np, 'corrcoef')(hares,lynxes),'\\n')\n",
    "print('corrcoef: hares carrots', '\\n',  getattr(np, 'corrcoef')(hares,carrots),'\\n')\n",
    "print('corrcoef: carrots lynxes', '\\n',  getattr(np, 'corrcoef')(carrots,lynxes),'\\n',)"
   ]
  },
  {
   "cell_type": "markdown",
   "metadata": {},
   "source": [
    "There is a correlation between lynxe and hare populations and this behaviour it explained by the Lynx-SnowshoeHare cycle."
   ]
  }
 ],
 "metadata": {
  "kernelspec": {
   "display_name": "Python 3",
   "language": "python",
   "name": "python3"
  },
  "language_info": {
   "codemirror_mode": {
    "name": "ipython",
    "version": 3
   },
   "file_extension": ".py",
   "mimetype": "text/x-python",
   "name": "python",
   "nbconvert_exporter": "python",
   "pygments_lexer": "ipython3",
   "version": "3.7.0"
  }
 },
 "nbformat": 4,
 "nbformat_minor": 2
}
