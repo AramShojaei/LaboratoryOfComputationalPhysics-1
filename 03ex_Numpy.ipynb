{
 "cells": [
  {
   "cell_type": "markdown",
   "metadata": {},
   "source": [
    "### Numpy basics"
   ]
  },
  {
   "cell_type": "code",
   "execution_count": 2,
   "metadata": {},
   "outputs": [],
   "source": [
    "import numpy as np\n",
    "import math as mt"
   ]
  },
  {
   "cell_type": "markdown",
   "metadata": {},
   "source": [
    "1\\. Find the row, column and overall means for the following matrix:\n",
    "\n",
    "```python\n",
    "m = np.arange(12).reshape((3,4))\n",
    "```"
   ]
  },
  {
   "cell_type": "code",
   "execution_count": null,
   "metadata": {},
   "outputs": [],
   "source": [
    "#1 senza usare le funzioni\n",
    "\n",
    "m = np.arange(12).reshape((3,4))\n",
    "#print(m)\n",
    "shape = m.shape\n",
    "\n",
    "row_m = np.zeros((shape[0],1))\n",
    "col_m = np.zeros((shape[1],1))\n",
    "overall_m = 0.\n",
    "\n",
    "#media dei valori in ogni riga\n",
    "for i in range(shape[0]):\n",
    "    for j in range(shape[1]):\n",
    "        row_m[i] += m[i,j]\n",
    "row_m /= shape[1]\n",
    "print(\"Vecor of row means:\\n\", row_m)\n",
    "\n",
    "#media dei valori in ogni colonna\n",
    "for i in range(shape[1]):\n",
    "    for j in range(shape[0]):\n",
    "        col_m[i] += m[j,i]\n",
    "col_m /= shape[0]\n",
    "print(\"Vecor of column means:\\n\", col_m)\n",
    "\n",
    "#media complessiva\n",
    "for i in range(shape[0]):\n",
    "    for j in range(shape[1]):\n",
    "        overall_m += m[i,j]\n",
    "overall_m /= (shape[0]*shape[1])\n",
    "print(\"Overall mean:\", overall_m)"
   ]
  },
  {
   "cell_type": "code",
   "execution_count": null,
   "metadata": {},
   "outputs": [],
   "source": [
    "#1 usando le funzioni di numpy\n",
    "\n",
    "print(\"Row means:\\n\", m.mean(axis=1))\n",
    "print(\"Column means:\\n\", m.mean(axis=0))\n",
    "print(\"Overall mean:\", m.mean())\n"
   ]
  },
  {
   "cell_type": "markdown",
   "metadata": {},
   "source": [
    "2\\. Find the outer product of the following two vecotrs\n",
    "\n",
    "```python\n",
    "u = np.array([1,3,5,7])\n",
    "v = np.array([2,4,6,8])\n",
    "```\n",
    "\n",
    "Do this in the following ways:\n",
    "\n",
    "   * Using the function outer in numpy\n",
    "   * Using a nested for loop or list comprehension\n",
    "   * Using numpy broadcasting operatoins\n"
   ]
  },
  {
   "cell_type": "code",
   "execution_count": null,
   "metadata": {},
   "outputs": [],
   "source": [
    "#2.a\n",
    "u = np.array([1,3,5,7])\n",
    "v = np.array([2,4,6,8])\n",
    "\n",
    "w = np.outer(u,v)\n",
    "#print(w)"
   ]
  },
  {
   "cell_type": "code",
   "execution_count": null,
   "metadata": {},
   "outputs": [],
   "source": [
    "#2.b.con il for\n",
    "shape_u = u.shape\n",
    "shape_v = v.shape\n",
    "w = np.zeros((shape_u[0],shape_v[0]))\n",
    "\n",
    "for i in range(shape_u[0]):\n",
    "    for j in range(shape_v[0]):\n",
    "        w[i,j] = u[i]*v[j]\n",
    "print(w)\n",
    "\n",
    "#2.b con una lista \n",
    "z = np.array([u[i]*v[j] for i in range(shape_u[0]) for j in range(shape_v[0])]).reshape((shape_u[0],shape_v[0]))\n",
    "print(z)"
   ]
  },
  {
   "cell_type": "code",
   "execution_count": null,
   "metadata": {},
   "outputs": [],
   "source": [
    "#2.3\n",
    "u_t = np.array([u]).T #traspone il primo vettore\n",
    "\n",
    "print(\"Matrix created by broadcasting:\\n\", u_t*v)"
   ]
  },
  {
   "cell_type": "markdown",
   "metadata": {},
   "source": [
    "3\\. Create a 10 by 6 matrix of random uniform numbers. Set all rows with any entry less than 0.1 to be zero\n",
    "\n",
    "Hint: Use the following numpy functions - np.random.random, np.any as well as Boolean indexing and the axis argument."
   ]
  },
  {
   "cell_type": "code",
   "execution_count": null,
   "metadata": {},
   "outputs": [],
   "source": [
    "#3\n",
    "import numpy as np\n",
    "\n",
    "#array di numeri random\n",
    "m = np.random.random((10,6))\n",
    "\n",
    "#maschera con le righe che soddisfano la condizione \"almeno un elmento della riga è < 0.1\"\n",
    "mask = np.any(m < 0.1, axis=1)\n",
    "\n",
    "#arry modificato\n",
    "m[mask] = 0\n",
    "print(m)"
   ]
  },
  {
   "cell_type": "markdown",
   "metadata": {},
   "source": [
    "4\\. Use np.linspace to create an array of 100 numbers between 0 and 2π (includsive).\n",
    "\n",
    "  * Extract every 10th element using slice notation\n",
    "  * Reverse the array using slice notation\n",
    "  * Extract elements where the absolute difference between the sine and cosine functions evaluated at that element is less than 0.1\n",
    "  * Make a plot showing the sin and cos functions and indicate where they are close"
   ]
  },
  {
   "cell_type": "code",
   "execution_count": null,
   "metadata": {},
   "outputs": [],
   "source": [
    "#4\n",
    "\n",
    "import matplotlib.pyplot as plt # everybody imports it that way\n",
    "\n",
    "#Create the array\n",
    "a = np.linspace(0,2*mt.pi,100)\n",
    "#Extract every 10th element using slice notation\n",
    "b = a[::10]\n",
    "\n",
    "#Reverse the array using slice notation\n",
    "c = a[::-1]\n",
    "#print(c)\n",
    "mask = np.array([abs(np.sin(c) - np.cos(c)) < 0.1],dtype = bool)\n",
    "points = c[mask[0]]\n",
    "#print(points)\n",
    "\n",
    "\n",
    "%matplotlib inline \n",
    "\n",
    "plt.plot(c,np.sin(c))\n",
    "plt.plot(c,np.cos(c))\n",
    "plt.plot(points,np.sin(points), 'bo')\n",
    "plt.plot(points,np.cos(points), 'ro')"
   ]
  },
  {
   "cell_type": "markdown",
   "metadata": {},
   "source": [
    "5\\. Create a matrix that shows the 10 by 10 multiplication table.\n",
    "\n",
    " * Find the trace of the matrix\n",
    " * Extract the anto-diagonal (this should be ```array([10, 18, 24, 28, 30, 30, 28, 24, 18, 10])```)\n",
    " * Extract the diagnoal offset by 1 upwards (this should be ```array([ 2,  6, 12, 20, 30, 42, 56, 72, 90])```)"
   ]
  },
  {
   "cell_type": "code",
   "execution_count": null,
   "metadata": {
    "scrolled": false
   },
   "outputs": [],
   "source": [
    "mult_tab = np.fromfunction(lambda i, j: (i+1)*(j+1), (10,10))\n",
    "#print(mult_tab)\n",
    "#Find the trace of the matrix\n",
    "trace = np.trace(mult_tab)\n",
    "print(\"Trace of the multiplication table matrix:\", trace)\n",
    "\n",
    "#Extract the anto-diagonal\n",
    "anti_mult_tab = mult_tab[::-1,]\n",
    "anti_diag = anti_mult_tab.diagonal()\n",
    "print(\"The anti diagonal is:\",anti_diag)\n",
    "\n",
    "#Extract the diagonal offset by 1 upwards\n",
    "offset = mult_tab[([i for i in range(0,9)]),([j for j in range(1,10)])]\n",
    "print(\"The diagonal offset array is:\",offset)\n"
   ]
  },
  {
   "cell_type": "markdown",
   "metadata": {},
   "source": [
    "6\\. Use broadcasting to create a grid of distances\n",
    "\n",
    "Route 66 crosses the following cities in the US: Chicago, Springfield, Saint-Louis, Tulsa, Oklahoma City, Amarillo, Santa Fe, Albuquerque, Flagstaff, Los Angeles\n",
    "The corresponding positions in miles are: 0, 198, 303, 736, 871, 1175, 1475, 1544, 1913, 2448\n",
    "\n",
    "  * Construct a 2D grid of distances among each city along Route 66\n",
    "  * Convert that in km (those savages...)"
   ]
  },
  {
   "cell_type": "code",
   "execution_count": null,
   "metadata": {},
   "outputs": [],
   "source": [
    "distances = np.array([0,198,303,736,871,1175,1475,1544,1913,448])\n",
    "grid = np.array(abs(distances-np.array([distances]).T))\n",
    "print(\"Matrix of the distances in miles:\\n\", grid)\n",
    "grid_km = (grid * 1.609344)\n",
    "print(\"Matrix of the distances in km:\\n\", grid_km)\n"
   ]
  },
  {
   "cell_type": "markdown",
   "metadata": {},
   "source": [
    "7\\. Prime numbers sieve: compute the prime numbers in the 0-N (N=99 to start with) range with a sieve (mask).\n",
    "  * Constract a shape (100,) boolean array, the mask\n",
    "  * Identify the multiples of each number starting from 2 and set accordingly the corresponding mask element\n",
    "  * Apply the mask to obtain an array of ordered prime numbers\n",
    "  * Check the performances (timeit); how does it scale with N?\n",
    "  * Implement the optimization suggested in the [sieve of Eratosthenes](https://en.wikipedia.org/wiki/Sieve_of_Eratosthenes)"
   ]
  },
  {
   "cell_type": "code",
   "execution_count": 16,
   "metadata": {},
   "outputs": [
    {
     "name": "stdout",
     "output_type": "stream",
     "text": [
      "[ 1  2  3  5  7 11 13 17 19 23 29 31 37 41 43 47 53 59 61 67 71 73 79 83\n",
      " 89 97]\n",
      "588 µs ± 14.6 µs per loop (mean ± std. dev. of 7 runs, 1000 loops each)\n"
     ]
    }
   ],
   "source": [
    "#7 primo tentativo (dcisamente ottimizzabile, trova tutti i multipli anziché uno solo)\n",
    "mask = np.ones((100,),dtype = bool)\n",
    "\n",
    "def prime_numbers(N):\n",
    "    mask = np.ones((N,),dtype = bool)\n",
    "    for i in range (1,N +1):\n",
    "        for j in range(2,i):\n",
    "            if i % j == 0:\n",
    "                mask[i-1] = False\n",
    "    primes = np.arange(1,101)[mask]\n",
    "    return primes\n",
    "\n",
    "primes = prime_numbers(100)\n",
    "print(primes)\n",
    "%timeit(prime_numbers(100))"
   ]
  },
  {
   "cell_type": "code",
   "execution_count": 37,
   "metadata": {},
   "outputs": [
    {
     "name": "stdout",
     "output_type": "stream",
     "text": [
      "[ 1  2  3  5  7 11 13 17 19 23 29 31 37 41 43 47 53 59 61 67 71 73 79 83\n",
      " 89 97]\n",
      "76.9 µs ± 3.38 µs per loop (mean ± std. dev. of 7 runs, 10000 loops each)\n"
     ]
    }
   ],
   "source": [
    "def primes_eratosthenes(N):\n",
    "    primes = np.arange(1,N+1)\n",
    "    for j in range (2,int(N / 2)):\n",
    "        times = int(N / j) - 1\n",
    "        num = j\n",
    "        if primes[j - 1] == 0: j+=1\n",
    "        else:\n",
    "            for i in range(times):\n",
    "                num += j\n",
    "                primes[num - 1] = 0\n",
    "    final_primes = primes[(primes != 0)]\n",
    "    return final_primes\n",
    "\n",
    "primes = primes_eratosthenes(100)\n",
    "print(primes)\n",
    "\n",
    "%timeit(primes_eratosthenes(100))"
   ]
  },
  {
   "cell_type": "markdown",
   "metadata": {},
   "source": [
    "8\\. Diffusion using random walk\n",
    "\n",
    "Consider a simple random walk process: at each step in time, a walker jumps right or left (+1 or -1) with equal probability. The goal is to find the typical distance from the origin of a random walker after a given amount of time. \n",
    "To do that, let's simulate many walkers and create a 2D array with each walker as a raw and the actual time evolution as columns\n",
    "\n",
    "  * Take 1000 walkers and let them walk for 200 steps\n",
    "  * Use randint to create a 2D array of size walkers x steps with values -1 or 1\n",
    "  * Build the actual walking distances for each walker (i.e. another 2D array \"summing on each raw\")\n",
    "  * Take the square of that 2D array (elementwise)\n",
    "  * Compute the mean of the squared distances at each step (i.e. the mean along the columns)\n",
    "  * Plot the average distances (sqrt(distance\\*\\*2)) as a function of time (step)\n",
    "  \n",
    "Did you get what you expected?"
   ]
  },
  {
   "cell_type": "code",
   "execution_count": null,
   "metadata": {},
   "outputs": [],
   "source": [
    "import numpy.random as npr\n",
    "npr.seed(123)\n",
    "\n",
    "walkers = 1000\n",
    "steps = 200\n",
    "walky = npr.randint(0,2,size=(walkers,steps))\n",
    "walky[walky == 0] = -1 #,mette a -1 gli zeri in modo da avere solo -1 e 1\n",
    "#distances = walky.sum(axis=1) #axis=1 vuol dire somma lungo una riga\n",
    "distances = np.zeros((walkers,steps))\n",
    "for i in range(walkers):\n",
    "    distances[i,0] = walky[i,0]\n",
    "    for j in range(1,steps):\n",
    "        distances[i,j] = distances[i,j-1] + walky[i,j]\n",
    "\n",
    "distances *= distances\n",
    "mean = np.sqrt(distances.mean(axis=0))\n",
    "\n",
    "plt.plot(np.arange(steps),mean)\n",
    "plt.plot(np.arange(steps),np.sqrt(np.arange(steps))) #just to prove the distance goes like sqrt(t)"
   ]
  },
  {
   "cell_type": "markdown",
   "metadata": {},
   "source": [
    "9\\. Analyze a data file \n",
    "  * Download the population of hares, lynxes and carrots at the beginning of the last century.\n",
    "    ```python\n",
    "    ! wget https://www.dropbox.com/s/3vigxoqayo389uc/populations.txt\n",
    "    ```\n",
    "\n",
    "  * Check the content by looking within the file\n",
    "  * Load the data (use an appropriate numpy method) into a 2D array\n",
    "  * Create arrays out of the columns, the arrays being (in order): *year*, *hares*, *lynxes*, *carrots* \n",
    "  * Plot the 3 populations over the years\n",
    "  * Compute the main statistical properties of the dataset (mean, std, correlations, etc.)\n",
    "  * Which species has the highest population each year?\n",
    "\n",
    "Do you feel there is some evident correlation here? [Studies](https://www.enr.gov.nt.ca/en/services/lynx/lynx-snowshoe-hare-cycle) tend to believe so."
   ]
  },
  {
   "cell_type": "code",
   "execution_count": null,
   "metadata": {},
   "outputs": [],
   "source": [
    "#dataset preparation and plot\n",
    "\n",
    "datas=np.genfromtxt(\"populations.txt\", unpack=True)\n",
    "\n",
    "years = datas[0,]\n",
    "hares = datas[1,]\n",
    "lynxes = datas[2,]\n",
    "carrots = datas[3,]\n",
    "\n",
    "plt.plot(years,hares, label = \"hares\")\n",
    "plt.plot(years,lynxes, label = \"lynxes\")\n",
    "plt.plot(years, carrots, label = \"carrots\")\n",
    "plt.xlabel(\"years\")\n",
    "plt.ylabel(\"population\")\n",
    "plt.legend()\n",
    "\n",
    "#end of exercise in the cell below"
   ]
  },
  {
   "cell_type": "code",
   "execution_count": null,
   "metadata": {},
   "outputs": [],
   "source": [
    "#statistical properties\n",
    "\n",
    "print(\"Hares\")\n",
    "for function in ['mean','median','std']:\n",
    "    print (function, getattr(np, function)(array))\n",
    "print(\"Lyxes\")\n",
    "for function in ['mean','median','std']:\n",
    "    print (function, getattr(np, function)(array))\n",
    "print(\"Carrots\")\n",
    "for function in ['mean','median','std']:\n",
    "    print (function, getattr(np, function)(array))"
   ]
  },
  {
   "cell_type": "code",
   "execution_count": null,
   "metadata": {},
   "outputs": [],
   "source": [
    "#highest population per year\n",
    "\n",
    "max_pop = datas.max(axis=0)\n",
    "arg_max = datas.argmax(axis=0)\n",
    "headers = [\"years\",\"hares\",\"lynxes\",\"carrots\"]\n",
    "\n",
    "for year in range(years.shape[0]):\n",
    "    pop = max_pop[year]\n",
    "    print(\"In %d the species with max population were %s with %d elements\" %(years[year],headers[arg_max[year]],pop))\n"
   ]
  },
  {
   "cell_type": "code",
   "execution_count": null,
   "metadata": {},
   "outputs": [],
   "source": []
  }
 ],
 "metadata": {
  "kernelspec": {
   "display_name": "Python 3",
   "language": "python",
   "name": "python3"
  },
  "language_info": {
   "codemirror_mode": {
    "name": "ipython",
    "version": 3
   },
   "file_extension": ".py",
   "mimetype": "text/x-python",
   "name": "python",
   "nbconvert_exporter": "python",
   "pygments_lexer": "ipython3",
   "version": "3.7.0"
  }
 },
 "nbformat": 4,
 "nbformat_minor": 2
}
