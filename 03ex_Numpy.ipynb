{
 "cells": [
  {
   "cell_type": "markdown",
   "metadata": {},
   "source": [
    "### Numpy basics"
   ]
  },
  {
   "cell_type": "code",
   "execution_count": 1,
   "metadata": {},
   "outputs": [],
   "source": [
    "import numpy as np"
   ]
  },
  {
   "cell_type": "markdown",
   "metadata": {},
   "source": [
    "1\\. Find the row, column and overall means for the following matrix:\n",
    "\n",
    "```python\n",
    "m = np.arange(12).reshape((3,4))\n",
    "```"
   ]
  },
  {
   "cell_type": "code",
   "execution_count": 2,
   "metadata": {},
   "outputs": [],
   "source": [
    "m = np.arange(12).reshape((3,4))"
   ]
  },
  {
   "cell_type": "code",
   "execution_count": 3,
   "metadata": {},
   "outputs": [
    {
     "name": "stdout",
     "output_type": "stream",
     "text": [
      "[[ 0  1  2  3]\n",
      " [ 4  5  6  7]\n",
      " [ 8  9 10 11]]\n",
      "Row: [1.5 5.5 9.5]\n",
      "Column: [4. 5. 6. 7.]\n",
      "Matrix: 5.5\n"
     ]
    }
   ],
   "source": [
    "print(m) #the initial matix\n",
    "print(\"Row: {}\".format(m.mean(axis=1))) #mean by the row\n",
    "print(\"Column: {}\".format(m.mean(axis=0))) #mean my the column\n",
    "print(\"Matrix: {}\".format(m.mean())) #mean of the overall matrix\n"
   ]
  },
  {
   "cell_type": "markdown",
   "metadata": {},
   "source": [
    "2\\. Find the outer product of the following two vecotrs\n",
    "\n",
    "```python\n",
    "u = np.array([1,3,5,7])\n",
    "v = np.array([2,4,6,8])\n",
    "```\n",
    "\n",
    "Do this in the following ways:\n",
    "\n",
    "   * Using the function outer in numpy\n",
    "   * Using a nested for loop or list comprehension\n",
    "   * Using numpy broadcasting operatoins\n"
   ]
  },
  {
   "cell_type": "code",
   "execution_count": 4,
   "metadata": {},
   "outputs": [],
   "source": [
    "u = np.array([1,3,5,7])\n",
    "v = np.array([2,4,6,8])"
   ]
  },
  {
   "cell_type": "code",
   "execution_count": 5,
   "metadata": {
    "scrolled": true
   },
   "outputs": [
    {
     "name": "stdout",
     "output_type": "stream",
     "text": [
      "Outer \n",
      " [[ 2  4  6  8]\n",
      " [ 6 12 18 24]\n",
      " [10 20 30 40]\n",
      " [14 28 42 56]]\n",
      "List comprehension \n",
      " [[ 2  4  6  8]\n",
      " [ 6 12 18 24]\n",
      " [10 20 30 40]\n",
      " [14 28 42 56]]\n",
      "Numpy \n",
      " [[ 2  4  6  8]\n",
      " [ 6 12 18 24]\n",
      " [10 20 30 40]\n",
      " [14 28 42 56]]\n"
     ]
    }
   ],
   "source": [
    "print(\"Outer \\n {}\".format(np.outer(u,v)))\n",
    "print(\"List comprehension \\n {}\".format(np.array([i*j for i in u for j in v]).reshape(4,4))) #reshape from list to matix\n",
    "print(\"Numpy \\n {}\".format(u[:,None]*v))\n"
   ]
  },
  {
   "cell_type": "markdown",
   "metadata": {},
   "source": [
    "3\\. Create a 10 by 6 matrix of random uniform numbers. Set all rows with any entry less than 0.1 to be zero\n",
    "\n",
    "Hint: Use the following numpy functions - np.random.random, np.any as well as Boolean indexing and the axis argument."
   ]
  },
  {
   "cell_type": "code",
   "execution_count": 6,
   "metadata": {},
   "outputs": [
    {
     "name": "stdout",
     "output_type": "stream",
     "text": [
      "Initial \n",
      " [[0.87231596 0.73797053 0.87329032 0.48074754 0.84542101 0.38332004]\n",
      " [0.13879993 0.741523   0.28225162 0.24222619 0.59642055 0.19039049]\n",
      " [0.55804408 0.70796049 0.68995207 0.85196616 0.77032304 0.01612391]\n",
      " [0.55281201 0.44133282 0.48914955 0.41635226 0.14094254 0.22477623]\n",
      " [0.95067944 0.44242584 0.32438494 0.91055782 0.95665021 0.68916302]\n",
      " [0.37725102 0.30972251 0.29908792 0.02127252 0.55638959 0.29771321]\n",
      " [0.54203766 0.84494354 0.24759253 0.99088585 0.17785693 0.98786472]\n",
      " [0.1320696  0.73414653 0.75120489 0.9493005  0.03183627 0.07117626]\n",
      " [0.49163897 0.19751701 0.62010157 0.0641659  0.70948387 0.51622979]\n",
      " [0.6982903  0.82366329 0.62338741 0.29228119 0.04335288 0.59122642]] \n",
      "\n",
      "Final with only elms setted to zero \n",
      " [[0.87231596 0.73797053 0.87329032 0.48074754 0.84542101 0.38332004]\n",
      " [0.13879993 0.741523   0.28225162 0.24222619 0.59642055 0.19039049]\n",
      " [0.55804408 0.70796049 0.68995207 0.85196616 0.77032304 0.        ]\n",
      " [0.55281201 0.44133282 0.48914955 0.41635226 0.14094254 0.22477623]\n",
      " [0.95067944 0.44242584 0.32438494 0.91055782 0.95665021 0.68916302]\n",
      " [0.37725102 0.30972251 0.29908792 0.         0.55638959 0.29771321]\n",
      " [0.54203766 0.84494354 0.24759253 0.99088585 0.17785693 0.98786472]\n",
      " [0.1320696  0.73414653 0.75120489 0.9493005  0.         0.        ]\n",
      " [0.49163897 0.19751701 0.62010157 0.         0.70948387 0.51622979]\n",
      " [0.6982903  0.82366329 0.62338741 0.29228119 0.         0.59122642]] \n",
      "\n",
      "Final \n",
      " [[0.87231596 0.73797053 0.87329032 0.48074754 0.84542101 0.38332004]\n",
      " [0.13879993 0.741523   0.28225162 0.24222619 0.59642055 0.19039049]\n",
      " [0.         0.         0.         0.         0.         0.        ]\n",
      " [0.55281201 0.44133282 0.48914955 0.41635226 0.14094254 0.22477623]\n",
      " [0.95067944 0.44242584 0.32438494 0.91055782 0.95665021 0.68916302]\n",
      " [0.         0.         0.         0.         0.         0.        ]\n",
      " [0.54203766 0.84494354 0.24759253 0.99088585 0.17785693 0.98786472]\n",
      " [0.         0.         0.         0.         0.         0.        ]\n",
      " [0.         0.         0.         0.         0.         0.        ]\n",
      " [0.         0.         0.         0.         0.         0.        ]]\n"
     ]
    }
   ],
   "source": [
    "matrix = np.random.uniform(size=(10,6))\n",
    "\n",
    "print(\"Initial \\n {} \\n\".format(matrix))\n",
    "\n",
    "print(\"Final with only elms setted to zero \\n {} \\n\".format(np.where(matrix<0.1,0,matrix)))\n",
    "\n",
    "matrix[np.any(matrix<0.1,axis=1)]=0\n",
    "print(\"Final \\n {}\".format(matrix))"
   ]
  },
  {
   "cell_type": "markdown",
   "metadata": {},
   "source": [
    "4\\. Use np.linspace to create an array of 100 numbers between 0 and 2π (includsive).\n",
    "\n",
    "  * Extract every 10th element using slice notation\n",
    "  * Reverse the array using slice notation\n",
    "  * Extract elements where the absolute difference between the sine and cosine functions evaluated at that element is less than 0.1\n",
    "  * Make a plot showing the sin and cos functions and indicate where they are close"
   ]
  },
  {
   "cell_type": "code",
   "execution_count": 7,
   "metadata": {},
   "outputs": [],
   "source": [
    "import math\n",
    "import matplotlib.pyplot as plt\n",
    "%matplotlib inline"
   ]
  },
  {
   "cell_type": "code",
   "execution_count": 8,
   "metadata": {},
   "outputs": [
    {
     "name": "stdout",
     "output_type": "stream",
     "text": [
      "initial linspaece \n",
      " [0.         0.06346652 0.12693304 0.19039955 0.25386607 0.31733259\n",
      " 0.38079911 0.44426563 0.50773215 0.57119866 0.63466518 0.6981317\n",
      " 0.76159822 0.82506474 0.88853126 0.95199777 1.01546429 1.07893081\n",
      " 1.14239733 1.20586385 1.26933037 1.33279688 1.3962634  1.45972992\n",
      " 1.52319644 1.58666296 1.65012947 1.71359599 1.77706251 1.84052903\n",
      " 1.90399555 1.96746207 2.03092858 2.0943951  2.15786162 2.22132814\n",
      " 2.28479466 2.34826118 2.41172769 2.47519421 2.53866073 2.60212725\n",
      " 2.66559377 2.72906028 2.7925268  2.85599332 2.91945984 2.98292636\n",
      " 3.04639288 3.10985939 3.17332591 3.23679243 3.30025895 3.36372547\n",
      " 3.42719199 3.4906585  3.55412502 3.61759154 3.68105806 3.74452458\n",
      " 3.8079911  3.87145761 3.93492413 3.99839065 4.06185717 4.12532369\n",
      " 4.1887902  4.25225672 4.31572324 4.37918976 4.44265628 4.5061228\n",
      " 4.56958931 4.63305583 4.69652235 4.75998887 4.82345539 4.88692191\n",
      " 4.95038842 5.01385494 5.07732146 5.14078798 5.2042545  5.26772102\n",
      " 5.33118753 5.39465405 5.45812057 5.52158709 5.58505361 5.64852012\n",
      " 5.71198664 5.77545316 5.83891968 5.9023862  5.96585272 6.02931923\n",
      " 6.09278575 6.15625227 6.21971879 6.28318531] \n",
      "\n",
      "Extacted elements: \n",
      " [0.         0.63466518 1.26933037 1.90399555 2.53866073 3.17332591\n",
      " 3.8079911  4.44265628 5.07732146 5.71198664] \n",
      "\n",
      "Reversed the inital linspace: \n",
      " [6.28318531 6.21971879 6.15625227 6.09278575 6.02931923 5.96585272\n",
      " 5.9023862  5.83891968 5.77545316 5.71198664 5.64852012 5.58505361\n",
      " 5.52158709 5.45812057 5.39465405 5.33118753 5.26772102 5.2042545\n",
      " 5.14078798 5.07732146 5.01385494 4.95038842 4.88692191 4.82345539\n",
      " 4.75998887 4.69652235 4.63305583 4.56958931 4.5061228  4.44265628\n",
      " 4.37918976 4.31572324 4.25225672 4.1887902  4.12532369 4.06185717\n",
      " 3.99839065 3.93492413 3.87145761 3.8079911  3.74452458 3.68105806\n",
      " 3.61759154 3.55412502 3.4906585  3.42719199 3.36372547 3.30025895\n",
      " 3.23679243 3.17332591 3.10985939 3.04639288 2.98292636 2.91945984\n",
      " 2.85599332 2.7925268  2.72906028 2.66559377 2.60212725 2.53866073\n",
      " 2.47519421 2.41172769 2.34826118 2.28479466 2.22132814 2.15786162\n",
      " 2.0943951  2.03092858 1.96746207 1.90399555 1.84052903 1.77706251\n",
      " 1.71359599 1.65012947 1.58666296 1.52319644 1.45972992 1.3962634\n",
      " 1.33279688 1.26933037 1.20586385 1.14239733 1.07893081 1.01546429\n",
      " 0.95199777 0.88853126 0.82506474 0.76159822 0.6981317  0.63466518\n",
      " 0.57119866 0.50773215 0.44426563 0.38079911 0.31733259 0.25386607\n",
      " 0.19039955 0.12693304 0.06346652 0.        ]\n",
      "\n",
      "Searched elements: \n",
      " [0.76159822 0.82506474 3.87145761 3.93492413] \n",
      "\n"
     ]
    },
    {
     "data": {
      "image/png": "[encoded data removed]",
      "text/plain": [
       "<Figure size 432x288 with 1 Axes>"
      ]
     },
     "metadata": {
      "needs_background": "light"
     },
     "output_type": "display_data"
    }
   ],
   "source": [
    "linspace = np.linspace(0, 2*math.pi, num=100, endpoint=True)\n",
    "print(\"initial linspaece \\n {} \\n\".format(linspace))\n",
    "extracted = linspace[::10]\n",
    "\n",
    "print(\"Extacted elements: \\n {} \\n\".format(extracted))\n",
    "\n",
    "revers = linspace[::-1]\n",
    "print(\"Reversed the inital linspace: \\n {}\\n\".format(revers))\n",
    "\n",
    "extracted = linspace[np.where(abs(np.sin(linspace)-np.cos(linspace))<0.1)]\n",
    "print(\"Searched elements: \\n {} \\n\".format(extracted))\n",
    "\n",
    "\n",
    "x = np.sin(linspace) #numpy sin\n",
    "y = np.cos(linspace) #numpy cos\n",
    "plt.plot(linspace, x,'r-') \n",
    "plt.plot(linspace, y,'b-')\n",
    "\n",
    "idx = np.argwhere(abs(x-y)<0.1).flatten()  #find where abs(x-y)<0.1 and flatten the results to have (n,) as shape\n",
    "plt.plot(linspace[idx], x[idx], 'ro')\n",
    "plt.plot(linspace[idx], y[idx], 'ro')\n",
    "plt.show()"
   ]
  },
  {
   "cell_type": "markdown",
   "metadata": {},
   "source": [
    "5\\. Create a matrix that shows the 10 by 10 multiplication table.\n",
    "\n",
    " * Find the trace of the matrix\n",
    " * Extract the anto-diagonal (this should be ```array([10, 18, 24, 28, 30, 30, 28, 24, 18, 10])```)\n",
    " * Extract the diagnoal offset by 1 upwards (this should be ```array([ 2,  6, 12, 20, 30, 42, 56, 72, 90])```)"
   ]
  },
  {
   "cell_type": "code",
   "execution_count": 9,
   "metadata": {},
   "outputs": [
    {
     "name": "stdout",
     "output_type": "stream",
     "text": [
      "Trace: \n",
      " 385 \n",
      "\n",
      "Anti diagonal method 1: \n",
      " [10 18 24 28 30 30 28 24 18 10] \n",
      "\n",
      "Anti diagonal method 2: \n",
      " [10 18 24 28 30 30 28 24 18 10] \n",
      "\n",
      "Diag with offset: \n",
      " [ 2  6 12 20 30 42 56 72 90 10] \n",
      "\n"
     ]
    }
   ],
   "source": [
    "#10x10 starting from 1\n",
    "matrix = np.array([i*j for i in range(1,11) for j in range(1,11)]).reshape(10,10)\n",
    "\n",
    "print(\"Trace: \\n {} \\n\".format(matrix.trace()))\n",
    "\n",
    "print(\"Anti diagonal method 1: \\n {} \\n\".format(np.diag(matrix[:,::-1]))) #all reversing the column of the matrix -> diag\n",
    "r = [i for i in range(9,-1,-1)]\n",
    "c = [9-i for i in range(9,-1,-1)]\n",
    "print(\"Anti diagonal method 2: \\n {} \\n\".format(matrix[r,c]))\n",
    "print(\"Diag with offset: \\n {} \\n\".format(np.diag(np.roll(matrix, -1, axis=0))))\n"
   ]
  },
  {
   "cell_type": "markdown",
   "metadata": {},
   "source": [
    "6\\. Use broadcasting to create a grid of distances\n",
    "\n",
    "Route 66 crosses the following cities in the US: Chicago, Springfield, Saint-Louis, Tulsa, Oklahoma City, Amarillo, Santa Fe, Albuquerque, Flagstaff, Los Angeles\n",
    "The corresponding positions in miles are: 0, 198, 303, 736, 871, 1175, 1475, 1544, 1913, 2448\n",
    "\n",
    "  * Construct a 2D grid of distances among each city along Route 66\n",
    "  * Convert that in km (those savages...)"
   ]
  },
  {
   "cell_type": "code",
   "execution_count": 10,
   "metadata": {},
   "outputs": [
    {
     "name": "stdout",
     "output_type": "stream",
     "text": [
      "Initial grid: \n",
      " [[    0   198   303   736   871  1175  1475  1544  1913  2448]\n",
      " [ -198     0   105   538   673   977  1277  1346  1715  2250]\n",
      " [ -303  -105     0   433   568   872  1172  1241  1610  2145]\n",
      " [ -736  -538  -433     0   135   439   739   808  1177  1712]\n",
      " [ -871  -673  -568  -135     0   304   604   673  1042  1577]\n",
      " [-1175  -977  -872  -439  -304     0   300   369   738  1273]\n",
      " [-1475 -1277 -1172  -739  -604  -300     0    69   438   973]\n",
      " [-1544 -1346 -1241  -808  -673  -369   -69     0   369   904]\n",
      " [-1913 -1715 -1610 -1177 -1042  -738  -438  -369     0   535]\n",
      " [-2448 -2250 -2145 -1712 -1577 -1273  -973  -904  -535     0]] \n",
      "\n",
      "Converted: \n",
      " [[    0.         318.650112   487.631232  1184.477184  1401.738624\n",
      "   1890.9792    2373.7824    2484.827136  3078.675072  3939.674112]\n",
      " [ -318.650112     0.         168.98112    865.827072  1083.088512\n",
      "   1572.329088  2055.132288  2166.177024  2760.02496   3621.024   ]\n",
      " [ -487.631232  -168.98112      0.         696.845952   914.107392\n",
      "   1403.347968  1886.151168  1997.195904  2591.04384   3452.04288 ]\n",
      " [-1184.477184  -865.827072  -696.845952     0.         217.26144\n",
      "    706.502016  1189.305216  1300.349952  1894.197888  2755.196928]\n",
      " [-1401.738624 -1083.088512  -914.107392  -217.26144      0.\n",
      "    489.240576   972.043776  1083.088512  1676.936448  2537.935488]\n",
      " [-1890.9792   -1572.329088 -1403.347968  -706.502016  -489.240576\n",
      "      0.         482.8032     593.847936  1187.695872  2048.694912]\n",
      " [-2373.7824   -2055.132288 -1886.151168 -1189.305216  -972.043776\n",
      "   -482.8032       0.         111.044736   704.892672  1565.891712]\n",
      " [-2484.827136 -2166.177024 -1997.195904 -1300.349952 -1083.088512\n",
      "   -593.847936  -111.044736     0.         593.847936  1454.846976]\n",
      " [-3078.675072 -2760.02496  -2591.04384  -1894.197888 -1676.936448\n",
      "  -1187.695872  -704.892672  -593.847936     0.         860.99904 ]\n",
      " [-3939.674112 -3621.024    -3452.04288  -2755.196928 -2537.935488\n",
      "  -2048.694912 -1565.891712 -1454.846976  -860.99904      0.      ]] \n",
      "\n"
     ]
    }
   ],
   "source": [
    "route66 = np.array([0, 198, 303, 736, 871, 1175, 1475, 1544, 1913, 2448])\n",
    "d2grid = route66[None,:]-route66[:,None]\n",
    "print(\"Initial grid: \\n {} \\n\".format(d2grid))\n",
    "print(\"Converted: \\n {} \\n\".format(d2grid*1.609344))"
   ]
  },
  {
   "cell_type": "markdown",
   "metadata": {},
   "source": [
    "7\\. Prime numbers sieve: compute the prime numbers in the 0-N (N=99 to start with) range with a sieve (mask).\n",
    "  * Constract a shape (100,) boolean array, the mask\n",
    "  * Identify the multiples of each number starting from 2 and set accordingly the corresponding mask element\n",
    "  * Apply the mask to obtain an array of ordered prime numbers\n",
    "  * Check the performances (timeit); how does it scale with N?\n",
    "  * Implement the optimization suggested in the [sieve of Eratosthenes](https://en.wikipedia.org/wiki/Sieve_of_Eratosthenes)"
   ]
  },
  {
   "cell_type": "markdown",
   "metadata": {},
   "source": [
    "On my laptop:\n",
    "\n",
    "- N = 100\n",
    " - 319 µs ± 224 µs per loop (mean ± std. dev. of 7 runs, 10 loops each)\n",
    " - 31.1 µs ± 5.52 µs per loop (mean ± std. dev. of 7 runs, 10 loops each)\n",
    "\n",
    "- N = 1000\n",
    " - 4.8 ms ± 380 µs per loop (mean ± std. dev. of 7 runs, 10 loops each)\n",
    " - 227 µs ± 4.21 µs per loop (mean ± std. dev. of 7 runs, 10 loops each)\n",
    "\n",
    "- N = 10000\n",
    " - 288 ms ± 7.78 ms per loop (mean ± std. dev. of 7 runs, 10 loops each)\n",
    " - 2.43 ms ± 279 µs per loop (mean ± std. dev. of 7 runs, 10 loops each)\n",
    "\n",
    "As we an see the fasted is as expected the second implementation with the optimization suggested.\n",
    "The performance is not linear for the first implementation 10 times the size does not imply 10 times more computational time(easily seen between the second and the first run).\n",
    "For the optimized one more or less it can be seen in that way."
   ]
  },
  {
   "cell_type": "code",
   "execution_count": 11,
   "metadata": {},
   "outputs": [
    {
     "name": "stdout",
     "output_type": "stream",
     "text": [
      "238 µs ± 41.1 µs per loop (mean ± std. dev. of 7 runs, 10 loops each)\n",
      "27.8 µs ± 6.1 µs per loop (mean ± std. dev. of 7 runs, 10 loops each)\n",
      "5.38 ms ± 925 µs per loop (mean ± std. dev. of 7 runs, 10 loops each)\n",
      "229 µs ± 9.86 µs per loop (mean ± std. dev. of 7 runs, 10 loops each)\n",
      "279 ms ± 12.6 ms per loop (mean ± std. dev. of 7 runs, 10 loops each)\n",
      "2.01 ms ± 34.9 µs per loop (mean ± std. dev. of 7 runs, 10 loops each)\n"
     ]
    }
   ],
   "source": [
    "N = 100\n",
    "def impl(N):\n",
    "    mat = np.ones((N-1,), dtype=bool)\n",
    "    numb = np.array([x for x in range(1,N)])\n",
    "    for i in range(2,math.ceil(N/2)):\n",
    "        mat[(numb%i==0) & (numb > i)] = False\n",
    "\n",
    "def impl2(N):\n",
    "    mat = np.ones((N-1,), dtype=bool)\n",
    "    numb = np.array([x for x in range(1,N)])\n",
    "    \n",
    "    for i in range(2,math.ceil(N**0.5)-1):\n",
    "        if(mat[i]):\n",
    "            for j in range(i**2,N-1):\n",
    "                mat[j] = False\n",
    "    \n",
    "%timeit -n 10 impl(N)\n",
    "%timeit -n 10 impl2(N)\n",
    "%timeit -n 10 impl(N*10)\n",
    "%timeit -n 10 impl2(N*10)\n",
    "%timeit -n 10 impl(N*100)\n",
    "%timeit -n 10 impl2(N*100)\n"
   ]
  },
  {
   "cell_type": "markdown",
   "metadata": {},
   "source": [
    "8\\. Diffusion using random walk\n",
    "\n",
    "Consider a simple random walk process: at each step in time, a walker jumps right or left (+1 or -1) with equal probability. The goal is to find the typical distance from the origin of a random walker after a given amount of time. \n",
    "To do that, let's simulate many walkers and create a 2D array with each walker as a raw and the actual time evolution as columns\n",
    "\n",
    "  * Take 1000 walkers and let them walk for 200 steps\n",
    "  * Use randint to create a 2D array of size walkers x steps with values -1 or 1\n",
    "  * Build the actual walking distances for each walker (i.e. another 2D array \"summing on each raw\")\n",
    "  * Take the square of that 2D array (elementwise)\n",
    "  * Compute the mean of the squared distances at each step (i.e. the mean along the columns)\n",
    "  * Plot the average distances (sqrt(distance\\*\\*2)) as a function of time (step)\n",
    "  \n",
    "Did you get what you expected?\n",
    "\n",
    "The result is correct since it respect the proportionality between  $\\sqrt{\\sigma_{X}^2}$ and the time."
   ]
  },
  {
   "cell_type": "code",
   "execution_count": 12,
   "metadata": {},
   "outputs": [
    {
     "data": {
      "image/png": "[encoded data removed]",
      "text/plain": [
       "<Figure size 432x288 with 1 Axes>"
      ]
     },
     "metadata": {
      "needs_background": "light"
     },
     "output_type": "display_data"
    },
    {
     "data": {
      "image/png": "[encoded data removed]",
      "text/plain": [
       "<Figure size 432x288 with 1 Axes>"
      ]
     },
     "metadata": {
      "needs_background": "light"
     },
     "output_type": "display_data"
    },
    {
     "data": {
      "text/plain": [
       "[<matplotlib.lines.Line2D at 0x26201cc3588>]"
      ]
     },
     "execution_count": 12,
     "metadata": {},
     "output_type": "execute_result"
    },
    {
     "data": {
      "image/png": "[encoded data removed]",
      "text/plain": [
       "<Figure size 432x288 with 1 Axes>"
      ]
     },
     "metadata": {
      "needs_background": "light"
     },
     "output_type": "display_data"
    }
   ],
   "source": [
    "np.random.seed(10)\n",
    "walkers_x = np.zeros((1000,200))\n",
    "for i in range(walkers_x.shape[0]):\n",
    "    mat = np.random.randint(-1,1,size=walkers_x.shape[1]) #produce -1,0\n",
    "    mat[mat==0]=1 #set the 0 to 1\n",
    "    walkers_x[i] = mat\n",
    "\n",
    "walkers_y = np.zeros((1000,200))\n",
    "for i in range(walkers_y.shape[0]):\n",
    "    mat = np.random.randint(-1,1,size=walkers_y.shape[1]) #produce -1,0\n",
    "    mat[mat==0]=1 #set the 0 to 1\n",
    "    walkers_y[i] = mat\n",
    "    \n",
    "sums_x = np.cumsum(walkers_x, axis=1)\n",
    "sq_sums_x = sums_x**2\n",
    "means_x = np.mean(sq_sums_x, axis=0)\n",
    "plt_x = plt\n",
    "plt_x.plot(means_x**0.5)\n",
    "plt_x.show()\n",
    "\n",
    "sums_y = np.cumsum(walkers_y, axis=1)\n",
    "sq_sums_y = sums_y**2\n",
    "means_y = np.mean(sq_sums_y, axis=0)\n",
    "plt_y = plt\n",
    "plt_y.plot(means_y**0.5)\n",
    "plt_y.show()\n",
    "\n",
    "plt.plot(sums_x[0,:],sums_y[0,:])"
   ]
  },
  {
   "cell_type": "markdown",
   "metadata": {},
   "source": [
    "9\\. Analyze a data file \n",
    "  * Download the population of hares, lynxes and carrots at the beginning of the last century.\n",
    "    ```python\n",
    "    ! wget https://www.dropbox.com/s/3vigxoqayo389uc/populations.txt\n",
    "    ```\n",
    "\n",
    "  * Check the content by looking within the file\n",
    "  * Load the data (use an appropriate numpy method) into a 2D array\n",
    "  * Create arrays out of the columns, the arrays being (in order): *year*, *hares*, *lynxes*, *carrots* \n",
    "  * Plot the 3 populations over the years\n",
    "  * Compute the main statistical properties of the dataset (mean, std, correlations, etc.)\n",
    "  * Which species has the highest population each year?\n",
    "\n",
    "Do you feel there is some evident correlation here? [Studies](https://www.enr.gov.nt.ca/en/services/lynx/lynx-snowshoe-hare-cycle) tend to believe so.\n",
    "\n",
    "- Seems so since the populations grows and decrese one after the other. The circle of life. When the relative \"predator\" disappear one of the species grows, providing to the predator food and so letting its population growing again. After a while the predator overcome the prey and the circle restarts."
   ]
  },
  {
   "cell_type": "code",
   "execution_count": 13,
   "metadata": {},
   "outputs": [
    {
     "name": "stderr",
     "output_type": "stream",
     "text": [
      "'wget' is not recognized as an internal or external command,\n",
      "operable program or batch file.\n"
     ]
    }
   ],
   "source": [
    "! wget https://www.dropbox.com/s/3vigxoqayo389uc/populations.txt"
   ]
  },
  {
   "cell_type": "code",
   "execution_count": 25,
   "metadata": {},
   "outputs": [
    {
     "name": "stdout",
     "output_type": "stream",
     "text": [
      "[ 1900 30000  4000 48300]\n",
      "[ 1901 47200  6100 48200]\n",
      "[ 1902 70200  9800 41500]\n",
      "[ 1903 77400 35200 38200]\n",
      "[ 1904 36300 59400 40600]\n",
      "[ 1905 20600 41700 39800]\n",
      "[ 1906 18100 19000 38600]\n",
      "[ 1907 21400 13000 42300]\n",
      "[ 1908 22000  8300 44500]\n",
      "[ 1909 25400  9100 42100]\n",
      "[ 1910 27100  7400 46000]\n",
      "[ 1911 40300  8000 46800]\n",
      "[ 1912 57000 12300 43800]\n",
      "[ 1913 76600 19500 40900]\n",
      "[ 1914 52300 45700 39400]\n",
      "[ 1915 19500 51100 39000]\n",
      "[ 1916 11200 29700 36700]\n",
      "[ 1917  7600 15800 41800]\n",
      "[ 1918 14600  9700 43300]\n",
      "[ 1919 16200 10100 41300]\n",
      "[ 1920 24700  8600 47300]\n",
      "Hares mean: 34080.95238095238, std: 20897.906458089667\n",
      "Lynxes mean: 20166.666666666668, std: 16254.591536908763\n",
      "Carrots mean: 42400.0, std: 3322.5062255844787\n",
      "\n",
      "\n",
      "Carrots vs Hares correlation: 256698928, \n",
      " [[ 1.         -0.01660378]\n",
      " [-0.01660378  1.        ]]\n",
      "Lynxes vs Hares correlation: 2061218112, \n",
      " [[1.         0.07189206]\n",
      " [0.07189206 1.        ]]\n",
      "Lynxes vs Carrots correlation: 4670816, \n",
      " [[ 1.         -0.68057717]\n",
      " [-0.68057717  1.        ]]\n",
      "Whole data against each other corr: \n",
      " [[ 1.         -0.38917662 -0.02544806 -0.13633321]\n",
      " [-0.38917662  1.          0.07189206 -0.01660378]\n",
      " [-0.02544806  0.07189206  1.         -0.68057717]\n",
      " [-0.13633321 -0.01660378 -0.68057717  1.        ]]\n",
      "\n",
      "\n"
     ]
    },
    {
     "data": {
      "image/png": "[encoded data removed]",
      "text/plain": [
       "<Figure size 432x288 with 1 Axes>"
      ]
     },
     "metadata": {
      "needs_background": "light"
     },
     "output_type": "display_data"
    }
   ],
   "source": [
    "with open('populations.txt')\n",
    "file = np.loadtxt('populations.txt',dtype='int')\n",
    "maxpop = file[:,1:].argmax(axis=1)\n",
    "\n",
    "c = -1\n",
    "pop = ''\n",
    "for line in file:\n",
    "    if c >= 0:\n",
    "        if maxpop[c] == 0:\n",
    "            pop = \"max population: hare \\n\"\n",
    "        elif maxpop[c] == 1:\n",
    "            pop = \"max population: lynx \\n\"\n",
    "        else:\n",
    "            pop = \"max population: carrot \\n\"\n",
    "    print(line + pop)\n",
    "    c += 1\n",
    "\n",
    "years = file[:,0]\n",
    "hares = file[:,1]\n",
    "lynxes = file[:,2]\n",
    "carrots = file[:,3]\n",
    "plt.plot(years, hares, 'b-',label='Hares')\n",
    "plt.plot(years, lynxes, 'r-',label='Lynxes')    \n",
    "plt.plot(years, carrots, 'k-',label='Carrots')\n",
    "plt.legend()\n",
    "\n",
    "print(\"Hares mean: {}, std: {}\".format(hares.mean(),hares.std()))\n",
    "print(\"Lynxes mean: {}, std: {}\".format(lynxes.mean(),lynxes.std()))    \n",
    "print(\"Carrots mean: {}, std: {}\".format(carrots.mean(),carrots.std()))\n",
    "print(\"\\n\")\n",
    "print(\"Carrots vs Hares correlation: {}, \\n {}\".format(np.correlate(carrots,hares)[0], np.corrcoef(carrots,hares)))\n",
    "print(\"Lynxes vs Hares correlation: {}, \\n {}\".format(np.correlate(lynxes,hares)[0], np.corrcoef(hares,lynxes)))    \n",
    "print(\"Lynxes vs Carrots correlation: {}, \\n {}\".format(np.correlate(lynxes,carrots)[0], np.corrcoef(lynxes,carrots)))    \n",
    "print(\"Whole data against each other corr: \\n {}\".format(np.corrcoef(file, rowvar=False)))\n",
    "print(\"\\n\")\n",
    "\n",
    "\n"
   ]
  },
  {
   "cell_type": "code",
   "execution_count": null,
   "metadata": {},
   "outputs": [],
   "source": []
  }
 ],
 "metadata": {
  "kernelspec": {
   "display_name": "Python 3",
   "language": "python",
   "name": "python3"
  },
  "language_info": {
   "codemirror_mode": {
    "name": "ipython",
    "version": 3
   },
   "file_extension": ".py",
   "mimetype": "text/x-python",
   "name": "python",
   "nbconvert_exporter": "python",
   "pygments_lexer": "ipython3",
   "version": "3.6.6"
  }
 },
 "nbformat": 4,
 "nbformat_minor": 2
}
