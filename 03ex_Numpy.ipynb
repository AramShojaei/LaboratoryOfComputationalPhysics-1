{
 "cells": [
  {
   "cell_type": "markdown",
   "metadata": {},
   "source": [
    "### Numpy basics"
   ]
  },
  {
   "cell_type": "code",
   "execution_count": 1,
   "metadata": {},
   "outputs": [],
   "source": [
    "import numpy as np\n",
    "import matplotlib.pyplot as plt\n",
    "%matplotlib inline"
   ]
  },
  {
   "cell_type": "markdown",
   "metadata": {},
   "source": [
    "1\\. Find the row, column and overall means for the following matrix:\n",
    "\n",
    "```python\n",
    "m = np.arange(12).reshape((3,4))\n",
    "```"
   ]
  },
  {
   "cell_type": "code",
   "execution_count": 2,
   "metadata": {},
   "outputs": [
    {
     "name": "stdout",
     "output_type": "stream",
     "text": [
      "Matrix:\n",
      " [[ 0  1  2  3]\n",
      " [ 4  5  6  7]\n",
      " [ 8  9 10 11]]\n",
      "Columns means: [4. 5. 6. 7.]\n",
      "Rows means: [1.5 5.5 9.5]\n",
      "Overall mean: 5.5\n"
     ]
    }
   ],
   "source": [
    "m = np.arange(12).reshape((3,4))\n",
    "print(\"Matrix:\\n\", m)\n",
    "column_mean  = m.mean(axis=0)\n",
    "row_mean     = m.mean(axis=1)\n",
    "overall_mean = m.mean()\n",
    "print(\"Columns means:\", column_mean)\n",
    "print(\"Rows means:\", row_mean)\n",
    "print(\"Overall mean:\", overall_mean)"
   ]
  },
  {
   "cell_type": "markdown",
   "metadata": {},
   "source": [
    "2\\. Find the outer product of the following two vecotrs\n",
    "\n",
    "```python\n",
    "u = np.array([1,3,5,7])\n",
    "v = np.array([2,4,6,8])\n",
    "```\n",
    "\n",
    "Do this in the following ways:\n",
    "\n",
    "   * Using the function outer in numpy\n",
    "   * Using a nested for loop or list comprehension\n",
    "   * Using numpy broadcasting operatoins\n"
   ]
  },
  {
   "cell_type": "code",
   "execution_count": 3,
   "metadata": {},
   "outputs": [
    {
     "name": "stdout",
     "output_type": "stream",
     "text": [
      "u = [1 3 5 7]\n",
      "v = [2 4 6 8]\n",
      "\n",
      " u x v (numpy):\n",
      " [[ 2  4  6  8]\n",
      " [ 6 12 18 24]\n",
      " [10 20 30 40]\n",
      " [14 28 42 56]]\n",
      "\n",
      " u x v (nested for):\n",
      " [[ 2  4  6  8]\n",
      " [ 6 12 18 24]\n",
      " [10 20 30 40]\n",
      " [14 28 42 56]]\n",
      "\n",
      " u x v (broadcasting):\n",
      " [[ 2  4  6  8]\n",
      " [ 6 12 18 24]\n",
      " [10 20 30 40]\n",
      " [14 28 42 56]]\n"
     ]
    }
   ],
   "source": [
    "u = np.array([1,3,5,7])\n",
    "v = np.array([2,4,6,8])\n",
    "\n",
    "uv_numpy = np.outer(u, v)\n",
    "uv_nest  = np.zeros((4, 4))\n",
    "for i in range(4):\n",
    "    for j in range(4):\n",
    "        uv_nest[i, j] = u[i]*v[j]\n",
    "uv_broad = u.reshape(4,1) * v\n",
    "\n",
    "print(\"u =\", u)\n",
    "print(\"v =\", v)\n",
    "print(\"\\n u x v (numpy):\\n\", uv_numpy)\n",
    "print(\"\\n u x v (nested for):\\n\", uv_numpy)\n",
    "print(\"\\n u x v (broadcasting):\\n\", uv_broad)"
   ]
  },
  {
   "cell_type": "markdown",
   "metadata": {},
   "source": [
    "3\\. Create a 10 by 6 matrix of random uniform numbers. Set all rows with any entry less than 0.1 to be zero\n",
    "\n",
    "Hint: Use the following numpy functions - np.random.random, np.any as well as Boolean indexing and the axis argument."
   ]
  },
  {
   "cell_type": "code",
   "execution_count": 4,
   "metadata": {},
   "outputs": [
    {
     "name": "stdout",
     "output_type": "stream",
     "text": [
      "Original matrix:\n",
      " [[0.70153468 0.95528881 0.42332332 0.79201893 0.18444041 0.25005114]\n",
      " [0.57762899 0.03373634 0.95721932 0.24592308 0.0904648  0.99342662]\n",
      " [0.13914975 0.6708865  0.60075701 0.18820787 0.02414023 0.8792195 ]\n",
      " [0.43035614 0.20369083 0.99005009 0.61874039 0.22509124 0.6379903 ]\n",
      " [0.4233683  0.53101354 0.79228065 0.94605241 0.83639504 0.96620362]\n",
      " [0.3242917  0.18535955 0.19764744 0.07359193 0.94584591 0.10502521]\n",
      " [0.27299359 0.27243424 0.22055798 0.13000527 0.55382615 0.31301619]\n",
      " [0.77606513 0.65697247 0.44436671 0.16970663 0.09211541 0.55209111]\n",
      " [0.15424051 0.64803174 0.81702563 0.45796168 0.72474236 0.96037358]\n",
      " [0.60534877 0.0927423  0.72556918 0.08962668 0.05839984 0.68910775]]\n",
      "\n",
      " Modified matrix:\n",
      " [[0.70153468 0.95528881 0.42332332 0.79201893 0.18444041 0.25005114]\n",
      " [0.57762899 0.         0.95721932 0.24592308 0.         0.99342662]\n",
      " [0.13914975 0.6708865  0.60075701 0.18820787 0.         0.8792195 ]\n",
      " [0.43035614 0.20369083 0.99005009 0.61874039 0.22509124 0.6379903 ]\n",
      " [0.4233683  0.53101354 0.79228065 0.94605241 0.83639504 0.96620362]\n",
      " [0.3242917  0.18535955 0.19764744 0.         0.94584591 0.10502521]\n",
      " [0.27299359 0.27243424 0.22055798 0.13000527 0.55382615 0.31301619]\n",
      " [0.77606513 0.65697247 0.44436671 0.16970663 0.         0.55209111]\n",
      " [0.15424051 0.64803174 0.81702563 0.45796168 0.72474236 0.96037358]\n",
      " [0.60534877 0.         0.72556918 0.         0.         0.68910775]]\n"
     ]
    }
   ],
   "source": [
    "np.random.seed(1205462)\n",
    "matrix = np.random.rand(10, 6)\n",
    "print(\"Original matrix:\\n\", matrix)\n",
    "'''\n",
    "mask = (matrix < 0.1)\n",
    "matrix[mask] = 0\n",
    "'''\n",
    "matrix[matrix < 0.1] = 0\n",
    "print(\"\\n Modified matrix:\\n\", matrix)"
   ]
  },
  {
   "cell_type": "markdown",
   "metadata": {},
   "source": [
    "4\\. Use np.linspace to create an array of 100 numbers between 0 and 2π (inclusive).\n",
    "\n",
    "  * Extract every 10th element using slice notation\n",
    "  * Reverse the array using slice notation\n",
    "  * Extract elements where the absolute difference between the sine and cosine functions evaluated at that element is less than 0.1\n",
    "  * Make a plot showing the sin and cos functions and indicate where they are close"
   ]
  },
  {
   "cell_type": "code",
   "execution_count": 5,
   "metadata": {},
   "outputs": [
    {
     "data": {
      "text/plain": [
       "<matplotlib.legend.Legend at 0x20509fbbbe0>"
      ]
     },
     "execution_count": 5,
     "metadata": {},
     "output_type": "execute_result"
    },
    {
     "data": {
      "image/png": "[encoded data removed]",
      "text/plain": [
       "<Figure size 432x288 with 1 Axes>"
      ]
     },
     "metadata": {
      "needs_background": "light"
     },
     "output_type": "display_data"
    }
   ],
   "source": [
    "array = np.linspace(0, 2*np.pi, 100)\n",
    "slice_array   = array[::10]\n",
    "reverse_array = array[::-1]\n",
    "diff_array = array[abs(np.sin(array) - np.cos(array)) < 0.1]\n",
    "'''\n",
    "print(\"Original array:\", array)\n",
    "print(\"\\n Sliced array:\", slice_array)\n",
    "print(\"\\n Reverse array:\", reverse_array)\n",
    "print(\"\\n Sin/Cos difference array:\", diff_array)\n",
    "'''\n",
    "plt.plot(array, np.sin(array), label=\"Sin\")\n",
    "plt.plot(array, np.cos(array), label=\"Cos\")\n",
    "plt.plot(diff_array, np.cos(diff_array), 'ro', label=\"Close points\")\n",
    "plt.plot(diff_array, np.sin(diff_array), 'ro')\n",
    "plt.legend()"
   ]
  },
  {
   "cell_type": "markdown",
   "metadata": {},
   "source": [
    "5\\. Create a matrix that shows the 10 by 10 multiplication table.\n",
    "\n",
    " * Find the trace of the matrix\n",
    " * Extract the anto-diagonal (this should be ```array([10, 18, 24, 28, 30, 30, 28, 24, 18, 10])```)\n",
    " * Extract the diagnoal offset by 1 upwards (this should be ```array([ 2,  6, 12, 20, 30, 42, 56, 72, 90])```)"
   ]
  },
  {
   "cell_type": "code",
   "execution_count": 6,
   "metadata": {},
   "outputs": [
    {
     "name": "stdout",
     "output_type": "stream",
     "text": [
      "10x10 multiplication table:\n",
      " [[  1   2   3   4   5   6   7   8   9  10]\n",
      " [  2   4   6   8  10  12  14  16  18  20]\n",
      " [  3   6   9  12  15  18  21  24  27  30]\n",
      " [  4   8  12  16  20  24  28  32  36  40]\n",
      " [  5  10  15  20  25  30  35  40  45  50]\n",
      " [  6  12  18  24  30  36  42  48  54  60]\n",
      " [  7  14  21  28  35  42  49  56  63  70]\n",
      " [  8  16  24  32  40  48  56  64  72  80]\n",
      " [  9  18  27  36  45  54  63  72  81  90]\n",
      " [ 10  20  30  40  50  60  70  80  90 100]]\n",
      "Trace: 385\n",
      "Anti-diagonal: [10 18 24 28 30 30 28 24 18 10]\n",
      "Diagonal offset by +1: [ 2  6 12 20 30 42 56 72 90]\n"
     ]
    }
   ],
   "source": [
    "a = np.arange(1,11)\n",
    "matrix = a.reshape(10,1) * a\n",
    "trace = matrix.trace()\n",
    "antidiag = np.diagonal(np.fliplr(matrix))\n",
    "diag_1off = np.diagonal(matrix, 1)\n",
    "print(\"10x10 multiplication table:\\n\", matrix)\n",
    "print(\"Trace:\", trace)\n",
    "print(\"Anti-diagonal:\", antidiag)\n",
    "print(\"Diagonal offset by +1:\", diag_1off)"
   ]
  },
  {
   "cell_type": "markdown",
   "metadata": {},
   "source": [
    "6\\. Use broadcasting to create a grid of distances\n",
    "\n",
    "Route 66 crosses the following cities in the US: Chicago, Springfield, Saint-Louis, Tulsa, Oklahoma City, Amarillo, Santa Fe, Albuquerque, Flagstaff, Los Angeles\n",
    "The corresponding positions in miles are: 0, 198, 303, 736, 871, 1175, 1475, 1544, 1913, 2448\n",
    "\n",
    "  * Construct a 2D grid of distances among each city along Route 66\n",
    "  * Convert that in km (those savages...)"
   ]
  },
  {
   "cell_type": "code",
   "execution_count": 7,
   "metadata": {},
   "outputs": [
    {
     "name": "stdout",
     "output_type": "stream",
     "text": [
      "Distances in miles:\n",
      " [[   0  198  303  736  871 1175 1475 1544 1913 2448]\n",
      " [ 198    0  105  538  673  977 1277 1346 1715 2250]\n",
      " [ 303  105    0  433  568  872 1172 1241 1610 2145]\n",
      " [ 736  538  433    0  135  439  739  808 1177 1712]\n",
      " [ 871  673  568  135    0  304  604  673 1042 1577]\n",
      " [1175  977  872  439  304    0  300  369  738 1273]\n",
      " [1475 1277 1172  739  604  300    0   69  438  973]\n",
      " [1544 1346 1241  808  673  369   69    0  369  904]\n",
      " [1913 1715 1610 1177 1042  738  438  369    0  535]\n",
      " [2448 2250 2145 1712 1577 1273  973  904  535    0]]\n",
      "\n",
      " Distances in km:\n",
      " [[   0.    318.78  487.83 1184.96 1402.31 1891.75 2374.75 2485.84 3079.93\n",
      "  3941.28]\n",
      " [ 318.78    0.    169.05  866.18 1083.53 1572.97 2055.97 2167.06 2761.15\n",
      "  3622.5 ]\n",
      " [ 487.83  169.05    0.    697.13  914.48 1403.92 1886.92 1998.01 2592.1\n",
      "  3453.45]\n",
      " [1184.96  866.18  697.13    0.    217.35  706.79 1189.79 1300.88 1894.97\n",
      "  2756.32]\n",
      " [1402.31 1083.53  914.48  217.35    0.    489.44  972.44 1083.53 1677.62\n",
      "  2538.97]\n",
      " [1891.75 1572.97 1403.92  706.79  489.44    0.    483.    594.09 1188.18\n",
      "  2049.53]\n",
      " [2374.75 2055.97 1886.92 1189.79  972.44  483.      0.    111.09  705.18\n",
      "  1566.53]\n",
      " [2485.84 2167.06 1998.01 1300.88 1083.53  594.09  111.09    0.    594.09\n",
      "  1455.44]\n",
      " [3079.93 2761.15 2592.1  1894.97 1677.62 1188.18  705.18  594.09    0.\n",
      "   861.35]\n",
      " [3941.28 3622.5  3453.45 2756.32 2538.97 2049.53 1566.53 1455.44  861.35\n",
      "     0.  ]]\n"
     ]
    }
   ],
   "source": [
    "position = np.array([0, 198, 303, 736, 871, 1175, 1475, 1544, 1913, 2448])\n",
    "distance = abs(position.reshape(len(position), 1) - position)\n",
    "km_distance = distance * 1.61\n",
    "print(\"Distances in miles:\\n\", distance)\n",
    "print(\"\\n Distances in km:\\n\", km_distance)"
   ]
  },
  {
   "cell_type": "markdown",
   "metadata": {},
   "source": [
    "7\\. Prime numbers sieve: compute the prime numbers in the 0-N (N=99 to start with) range with a sieve (mask).\n",
    "  * Constract a shape (100,) boolean array, the mask\n",
    "  * Identify the multiples of each number starting from 2 and set accordingly the corresponding mask element\n",
    "  * Apply the mask to obtain an array of ordered prime numbers\n",
    "  * Check the performances (timeit); how does it scale with N?\n",
    "  * Implement the optimization suggested in the [sieve of Eratosthenes](https://en.wikipedia.org/wiki/Sieve_of_Eratosthenes)"
   ]
  },
  {
   "cell_type": "code",
   "execution_count": 8,
   "metadata": {},
   "outputs": [
    {
     "data": {
      "text/plain": [
       "<matplotlib.legend.Legend at 0x2050709b7b8>"
      ]
     },
     "execution_count": 8,
     "metadata": {},
     "output_type": "execute_result"
    },
    {
     "data": {
      "image/png": "[encoded data removed]",
      "text/plain": [
       "<Figure size 432x288 with 1 Axes>"
      ]
     },
     "metadata": {
      "needs_background": "light"
     },
     "output_type": "display_data"
    }
   ],
   "source": [
    "import timeit\n",
    "\n",
    "def find_prime(N):\n",
    "    number_list = np.ones(N, bool)\n",
    "    Nmax = int(N**0.5) + 1\n",
    "    for i in range(2, Nmax):\n",
    "        if number_list[i] == True:\n",
    "            for n in range(2, N):\n",
    "                j = n*i\n",
    "                if j < N:\n",
    "                    number_list[j] = False\n",
    "    return np.nonzero(number_list)\n",
    "\n",
    "def find_prime_opt(N):\n",
    "    number_list = np.ones(N, bool)\n",
    "    Nmax = int(N**0.5) + 1\n",
    "    for i in range(2, Nmax):\n",
    "        if number_list[i] == True:\n",
    "            for n in range(2, N):\n",
    "                j = i**2 + n*i\n",
    "                if j < N:\n",
    "                    number_list[j] = False\n",
    "    return np.nonzero(number_list)\n",
    "\n",
    "\n",
    "#print(find_prime(99))\n",
    "numbers = []\n",
    "time_std = []\n",
    "time_opt = []\n",
    "for N in range(0, 10000):\n",
    "    t_std = timeit.timeit('find_prime(N)', number = 1, globals = globals())\n",
    "    t_opt = timeit.timeit('find_prime_opt(N)', number = 1, globals = globals())\n",
    "    numbers.append(N)\n",
    "    time_std.append(t_std)\n",
    "    time_opt.append(t_opt)\n",
    "\n",
    "plt.plot(numbers, time_std, label=\"Standard\")\n",
    "plt.plot(numbers, time_opt, label=\"Optimized\")\n",
    "plt.legend()"
   ]
  },
  {
   "cell_type": "markdown",
   "metadata": {},
   "source": [
    "8\\. Diffusion using random walk\n",
    "\n",
    "Consider a simple random walk process: at each step in time, a walker jumps right or left (+1 or -1) with equal probability. The goal is to find the typical distance from the origin of a random walker after a given amount of time. \n",
    "To do that, let's simulate many walkers and create a 2D array with each walker as a raw and the actual time evolution as columns\n",
    "\n",
    "  * Take 1000 walkers and let them walk for 200 steps\n",
    "  * Use randint to create a 2D array of size walkers x steps with values -1 or 1\n",
    "  * Build the actual walking distances for each walker (i.e. another 2D array \"summing on each raw\")\n",
    "  * Take the square of that 2D array (elementwise)\n",
    "  * Compute the mean of the squared distances at each step (i.e. the mean along the columns)\n",
    "  * Plot the average distances (sqrt(distance\\*\\*2)) as a function of time (step)\n",
    "  \n",
    "Did you get what you expected?"
   ]
  },
  {
   "cell_type": "code",
   "execution_count": 9,
   "metadata": {},
   "outputs": [
    {
     "data": {
      "text/plain": [
       "Text(0.5, 0, 'Time')"
      ]
     },
     "execution_count": 9,
     "metadata": {},
     "output_type": "execute_result"
    },
    {
     "data": {
      "image/png": "[encoded data removed]",
      "text/plain": [
       "<Figure size 432x288 with 1 Axes>"
      ]
     },
     "metadata": {
      "needs_background": "light"
     },
     "output_type": "display_data"
    }
   ],
   "source": [
    "np.random.seed(11112018)\n",
    "n_walkers = 1000\n",
    "n_steps = 200\n",
    "# generate random numbers uniform distributed in [0, 1)\n",
    "jumps = np.random.rand(n_walkers, n_steps)\n",
    "# since jumps can be +-1:\n",
    "#   if(num <  0.5) -> set to -1\n",
    "#   if(num >= 0.5) -> set to +1\n",
    "jumps[jumps <  0.5] = -1\n",
    "jumps[jumps >= 0.5] =  1\n",
    "# create the matrix for the distances (one more column for starting position x=0)\n",
    "distance = np.zeros((n_walkers, n_steps+1))\n",
    "# update the position, summing the jump to the previous position\n",
    "for i in range(0, n_steps):\n",
    "    distance[:, i+1] = distance[:, i] + jumps[:, i]\n",
    "# get the actual distance from the starting position (x = 0) in each step\n",
    "distance = abs(distance)\n",
    "# mean distance for each step (mean over columns)\n",
    "mean = np.mean(distance**2, axis=0)**0.5\n",
    "\n",
    "plt.plot(mean)\n",
    "plt.ylabel(\"Distance\")\n",
    "plt.xlabel(\"Time\")"
   ]
  },
  {
   "cell_type": "markdown",
   "metadata": {},
   "source": [
    "9\\. Analyze a data file \n",
    "  * Download the population of hares, lynxes and carrots at the beginning of the last century.\n",
    "    ```python\n",
    "    ! wget https://www.dropbox.com/s/3vigxoqayo389uc/populations.txt\n",
    "    ```\n",
    "\n",
    "  * Check the content by looking within the file\n",
    "  * Load the data (use an appropriate numpy method) into a 2D array\n",
    "  * Create arrays out of the columns, the arrays being (in order): *year*, *hares*, *lynxes*, *carrots* \n",
    "  * Plot the 3 populations over the years\n",
    "  * Compute the main statistical properties of the dataset (mean, std, correlations, etc.)\n",
    "  * Which species has the highest population each year?\n",
    "\n",
    "Do you feel there is some evident correlation here? [Studies](https://www.enr.gov.nt.ca/en/services/lynx/lynx-snowshoe-hare-cycle) tend to believe so."
   ]
  },
  {
   "cell_type": "code",
   "execution_count": 20,
   "metadata": {},
   "outputs": [
    {
     "name": "stdout",
     "output_type": "stream",
     "text": [
      "\n",
      "***HARES***\n",
      "sum 715700.0\n",
      "min 7600.0\n",
      "argmin 17\n",
      "mean 34080.95238095238\n",
      "median 25400.0\n",
      "std 20897.906458089667\n",
      "\n",
      "***LYNXES***\n",
      "sum 423500.0\n",
      "min 4000.0\n",
      "argmin 0\n",
      "mean 20166.666666666668\n",
      "median 12300.0\n",
      "std 16254.591536908763\n",
      "\n",
      "***CARROTS***\n",
      "sum 890400.0\n",
      "min 36700.0\n",
      "argmin 16\n",
      "mean 42400.0\n",
      "median 41800.0\n",
      "std 3322.5062255844787\n"
     ]
    },
    {
     "data": {
      "image/png": "[encoded data removed]",
      "text/plain": [
       "<Figure size 432x288 with 1 Axes>"
      ]
     },
     "metadata": {
      "needs_background": "light"
     },
     "output_type": "display_data"
    }
   ],
   "source": [
    "data = np.loadtxt(\"./populations.txt\")\n",
    "#print(data)\n",
    "year = data[:, 0]\n",
    "hares = data[:, 1]\n",
    "lynxes = data[:, 2]\n",
    "carrots = data[:, 3]\n",
    "#plt.axes([0.2, 0.1, 0.5, 0.8])\n",
    "plt.xticks(year[::2])\n",
    "plt.plot(year, hares, label=\"hares\")\n",
    "plt.plot(year, lynxes, label=\"lynxes\")\n",
    "plt.plot(year, carrots, label=\"carrots\")\n",
    "plt.legend()\n",
    "\n",
    "print(\"\\n***HARES***\")\n",
    "for function in ['sum','min','argmin','mean','median','std']:\n",
    "    print (function, getattr(np, function)(hares))\n",
    "print(\"\\n***LYNXES***\")\n",
    "for function in ['sum','min','argmin','mean','median','std']:\n",
    "    print (function, getattr(np, function)(lynxes))\n",
    "print(\"\\n***CARROTS***\")\n",
    "for function in ['sum','min','argmin','mean','median','std']:\n",
    "    print (function, getattr(np, function)(carrots))"
   ]
  },
  {
   "cell_type": "code",
   "execution_count": null,
   "metadata": {},
   "outputs": [],
   "source": []
  }
 ],
 "metadata": {
  "kernelspec": {
   "display_name": "Python 3",
   "language": "python",
   "name": "python3"
  },
  "language_info": {
   "codemirror_mode": {
    "name": "ipython",
    "version": 3
   },
   "file_extension": ".py",
   "mimetype": "text/x-python",
   "name": "python",
   "nbconvert_exporter": "python",
   "pygments_lexer": "ipython3",
   "version": "3.7.1"
  }
 },
 "nbformat": 4,
 "nbformat_minor": 2
}
