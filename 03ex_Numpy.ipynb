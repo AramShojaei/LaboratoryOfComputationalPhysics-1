{
 "cells": [
  {
   "cell_type": "markdown",
   "metadata": {},
   "source": [
    "### Numpy basics"
   ]
  },
  {
   "cell_type": "markdown",
   "metadata": {},
   "source": [
    "1\\. Find the row, column and overall means for the following matrix:\n",
    "\n",
    "```python\n",
    "m = np.arange(12).reshape((3,4))\n",
    "```"
   ]
  },
  {
   "cell_type": "code",
   "execution_count": 14,
   "metadata": {},
   "outputs": [
    {
     "name": "stdout",
     "output_type": "stream",
     "text": [
      "[[ 0  1  2  3]\n",
      " [ 4  5  6  7]\n",
      " [ 8  9 10 11]]\n",
      "[ 1.5  5.5  9.5]\n",
      "[ 4.  5.  6.  7.]\n",
      "5.0\n",
      "5.5\n"
     ]
    }
   ],
   "source": [
    "import numpy as np\n",
    "m = np.arange(12).reshape((3,4))\n",
    "print(m)\n",
    "r=m.mean(axis=1)\n",
    "print(r)\n",
    "c=m.mean(axis=0)\n",
    "print(c)\n",
    "d=np.mean(m.diagonal())\n",
    "print(d)\n",
    "all=m.mean()\n",
    "print(all)"
   ]
  },
  {
   "cell_type": "markdown",
   "metadata": {},
   "source": [
    "2\\. Find the outer product of the following two vecotrs\n",
    "\n",
    "```python\n",
    "u = np.array([1,3,5,7])\n",
    "v = np.array([2,4,6,8])\n",
    "```\n",
    "\n",
    "Do this in the following ways:\n",
    "\n",
    "   * Using the function outer in numpy\n",
    "   * Using a nested for loop or list comprehension\n",
    "   * Using numpy broadcasting operatoins\n"
   ]
  },
  {
   "cell_type": "code",
   "execution_count": 43,
   "metadata": {},
   "outputs": [
    {
     "name": "stdout",
     "output_type": "stream",
     "text": [
      "[[ 2  4  6  8]\n",
      " [ 6 12 18 24]\n",
      " [10 20 30 40]\n",
      " [14 28 42 56]]\n",
      "[[  2.   4.   6.   8.]\n",
      " [  6.  12.  18.  24.]\n",
      " [ 10.  20.  30.  40.]\n",
      " [ 14.  28.  42.  56.]]\n",
      "[[ 2  4  6  8]\n",
      " [ 6 12 18 24]\n",
      " [10 20 30 40]\n",
      " [14 28 42 56]]\n"
     ]
    }
   ],
   "source": [
    "u = np.array([1,3,5,7])\n",
    "v = np.array([2,4,6,8])\n",
    "rl = np.outer(u,v)\n",
    "print(rl)\n",
    "x= np.ones((4,4))\n",
    "for i in range(len(u)):\n",
    "    for j in range(len(v)):\n",
    "        x[i,j] = u[i]*v[j]\n",
    "print(x)\n",
    "y=u[:, np.newaxis] * v\n",
    "print(y)"
   ]
  },
  {
   "cell_type": "markdown",
   "metadata": {},
   "source": [
    "3\\. Create a 10 by 6 matrix of random uniform numbers. Set all rows with any entry less than 0.1 to be zero\n",
    "\n",
    "Hint: Use the following numpy functions - np.random.random, np.any as well as Boolean indexing and the axis argument."
   ]
  },
  {
   "cell_type": "code",
   "execution_count": 45,
   "metadata": {},
   "outputs": [
    {
     "name": "stdout",
     "output_type": "stream",
     "text": [
      "[[ 0.79538644  0.98695395  0.2555849   0.98605635  0.45975354  0.12225897]\n",
      " [ 0.15696516  0.25439211  0.          0.72557365  0.71341659  0.26590534]\n",
      " [ 0.63420052  0.68150581  0.57343574  0.32418692  0.94642956  0.43892835]\n",
      " [ 0.          0.69591295  0.59175708  0.          0.6078401   0.90087638]\n",
      " [ 0.11013879  0.28829265  0.36403428  0.62332388  0.2436159   0.95695743]\n",
      " [ 0.9810248   0.78114871  0.5911614   0.94459063  0.41092369  0.9111626 ]\n",
      " [ 0.85954831  0.21527338  0.51339699  0.6342509   0.87458105  0.2517563 ]\n",
      " [ 0.31111016  0.2059022   0.21724819  0.15132381  0.96614819  0.97956584]\n",
      " [ 0.58949051  0.4199699   0.29932295  0.99427818  0.83569026  0.88159098]\n",
      " [ 0.33671451  0.          0.89475849  0.35134179  0.          0.68659866]]\n"
     ]
    }
   ],
   "source": [
    "import numpy.random as npr\n",
    "x=npr.rand(10,6)\n",
    "x[x<0.1]=0\n",
    "print(x)"
   ]
  },
  {
   "cell_type": "markdown",
   "metadata": {},
   "source": [
    "4\\. Use np.linspace to create an array of 100 numbers between 0 and 2π (includsive).\n",
    "\n",
    "  * Extract every 10th element using slice notation\n",
    "  * Reverse the array using slice notation\n",
    "  * Extract elements where the absolute difference between the sine and cosine functions evaluated at that element is less than 0.1\n",
    "  * Make a plot showing the sin and cos functions and indicate where they are close"
   ]
  },
  {
   "cell_type": "code",
   "execution_count": 63,
   "metadata": {},
   "outputs": [
    {
     "name": "stdout",
     "output_type": "stream",
     "text": [
      "[ 0.          0.63466518  1.26933037  1.90399555  2.53866073  3.17332591\n",
      "  3.8079911   4.44265628  5.07732146  5.71198664]\n",
      "[ 6.28318531  6.21971879  6.15625227  6.09278575  6.02931923  5.96585272\n",
      "  5.9023862   5.83891968  5.77545316  5.71198664  5.64852012  5.58505361\n",
      "  5.52158709  5.45812057  5.39465405  5.33118753  5.26772102  5.2042545\n",
      "  5.14078798  5.07732146  5.01385494  4.95038842  4.88692191  4.82345539\n",
      "  4.75998887  4.69652235  4.63305583  4.56958931  4.5061228   4.44265628\n",
      "  4.37918976  4.31572324  4.25225672  4.1887902   4.12532369  4.06185717\n",
      "  3.99839065  3.93492413  3.87145761  3.8079911   3.74452458  3.68105806\n",
      "  3.61759154  3.55412502  3.4906585   3.42719199  3.36372547  3.30025895\n",
      "  3.23679243  3.17332591  3.10985939  3.04639288  2.98292636  2.91945984\n",
      "  2.85599332  2.7925268   2.72906028  2.66559377  2.60212725  2.53866073\n",
      "  2.47519421  2.41172769  2.34826118  2.28479466  2.22132814  2.15786162\n",
      "  2.0943951   2.03092858  1.96746207  1.90399555  1.84052903  1.77706251\n",
      "  1.71359599  1.65012947  1.58666296  1.52319644  1.45972992  1.3962634\n",
      "  1.33279688  1.26933037  1.20586385  1.14239733  1.07893081  1.01546429\n",
      "  0.95199777  0.88853126  0.82506474  0.76159822  0.6981317   0.63466518\n",
      "  0.57119866  0.50773215  0.44426563  0.38079911  0.31733259  0.25386607\n",
      "  0.19039955  0.12693304  0.06346652  0.        ]\n",
      "[ 0.76159822  0.82506474  3.87145761  3.93492413]\n"
     ]
    },
    {
     "ename": "ValueError",
     "evalue": "The truth value of an array with more than one element is ambiguous. Use a.any() or a.all()",
     "output_type": "error",
     "traceback": [
      "\u001b[0;31m---------------------------------------------------------------------------\u001b[0m",
      "\u001b[0;31mValueError\u001b[0m                                Traceback (most recent call last)",
      "\u001b[0;32m<ipython-input-63-4d3597f08930>\u001b[0m in \u001b[0;36m<module>\u001b[0;34m()\u001b[0m\n\u001b[1;32m     14\u001b[0m \u001b[0mc\u001b[0m\u001b[0;34m=\u001b[0m\u001b[0mys\u001b[0m\u001b[0;34m.\u001b[0m\u001b[0mcopy\u001b[0m\u001b[0;34m(\u001b[0m\u001b[0;34m)\u001b[0m\u001b[0;34m\u001b[0m\u001b[0m\n\u001b[1;32m     15\u001b[0m \u001b[0;32mfor\u001b[0m \u001b[0mi\u001b[0m \u001b[0;32min\u001b[0m \u001b[0mrange\u001b[0m\u001b[0;34m(\u001b[0m\u001b[0mlen\u001b[0m\u001b[0;34m(\u001b[0m\u001b[0mxs\u001b[0m\u001b[0;34m)\u001b[0m\u001b[0;34m)\u001b[0m\u001b[0;34m:\u001b[0m\u001b[0;34m\u001b[0m\u001b[0m\n\u001b[0;32m---> 16\u001b[0;31m     \u001b[0;32mif\u001b[0m \u001b[0;34m(\u001b[0m\u001b[0mnp\u001b[0m\u001b[0;34m.\u001b[0m\u001b[0mabsolute\u001b[0m\u001b[0;34m(\u001b[0m\u001b[0mys\u001b[0m\u001b[0;34m-\u001b[0m\u001b[0mys2\u001b[0m\u001b[0;34m)\u001b[0m\u001b[0;34m>\u001b[0m\u001b[0;36m0.1\u001b[0m\u001b[0;34m)\u001b[0m\u001b[0;34m:\u001b[0m\u001b[0;34m\u001b[0m\u001b[0m\n\u001b[0m\u001b[1;32m     17\u001b[0m         \u001b[0mc\u001b[0m\u001b[0;34m[\u001b[0m\u001b[0mi\u001b[0m\u001b[0;34m]\u001b[0m\u001b[0;34m=\u001b[0m\u001b[0;36m0\u001b[0m\u001b[0;34m\u001b[0m\u001b[0m\n\u001b[1;32m     18\u001b[0m     \u001b[0;32melse\u001b[0m\u001b[0;34m:\u001b[0m\u001b[0;34m\u001b[0m\u001b[0m\n",
      "\u001b[0;31mValueError\u001b[0m: The truth value of an array with more than one element is ambiguous. Use a.any() or a.all()"
     ]
    }
   ],
   "source": [
    "xs = np.linspace(0, 2*np.pi, 100)\n",
    "import matplotlib.pyplot as plt\n",
    "y=xs[::10]\n",
    "print(y)\n",
    "rev=xs[::-1]\n",
    "print(rev)\n",
    "sc=xs[np.absolute(np.sin(xs)-np.cos(xs))<0.1]\n",
    "print(sc)\n",
    "%matplotlib inline \n",
    "# tell jupyter to plot inline\n",
    "\n",
    "ys = np.sin(xs) # np.sin is a universal function\n",
    "ys2 = np.cos(xs)\n",
    "c=ys.copy()\n",
    "for i in range(len(xs)):\n",
    "    if (np.absolute(ys-ys2)>0.1):\n",
    "        c[i]=0\n",
    "    else:\n",
    "        c[i]=ys[i]\n",
    "print(c)\n",
    "plt.plot(xs, ys,xs,ys2,xs,c);"
   ]
  },
  {
   "cell_type": "markdown",
   "metadata": {},
   "source": [
    "5\\. Create a matrix that shows the 10 by 10 multiplication table.\n",
    "\n",
    " * Find the trace of the matrix\n",
    " * Extract the anto-diagonal (this should be ```array([10, 18, 24, 28, 30, 30, 28, 24, 18, 10])```)\n",
    " * Extract the diagnoal offset by 1 upwards (this should be ```array([ 2,  6, 12, 20, 30, 42, 56, 72, 90])```)"
   ]
  },
  {
   "cell_type": "code",
   "execution_count": 71,
   "metadata": {},
   "outputs": [
    {
     "name": "stdout",
     "output_type": "stream",
     "text": [
      "[[   1.    2.    3.    4.    5.    6.    7.    8.    9.   10.]\n",
      " [   2.    4.    6.    8.   10.   12.   14.   16.   18.   20.]\n",
      " [   3.    6.    9.   12.   15.   18.   21.   24.   27.   30.]\n",
      " [   4.    8.   12.   16.   20.   24.   28.   32.   36.   40.]\n",
      " [   5.   10.   15.   20.   25.   30.   35.   40.   45.   50.]\n",
      " [   6.   12.   18.   24.   30.   36.   42.   48.   54.   60.]\n",
      " [   7.   14.   21.   28.   35.   42.   49.   56.   63.   70.]\n",
      " [   8.   16.   24.   32.   40.   48.   56.   64.   72.   80.]\n",
      " [   9.   18.   27.   36.   45.   54.   63.   72.   81.   90.]\n",
      " [  10.   20.   30.   40.   50.   60.   70.   80.   90.  100.]]\n",
      "[ 10.  18.  24.  28.  30.  30.  28.  24.  18.  10.]\n",
      "[   1.    4.    9.   16.   25.   36.   49.   64.   81.  100.]\n"
     ]
    }
   ],
   "source": [
    "x= np.ones((10,10))\n",
    "for i in range(len(x)):\n",
    "    for j in range(len(x)):\n",
    "        x[i,j] = (i+1)*(j+1)\n",
    "print(x)\n",
    "y=np.diag(x[::-1])\n",
    "print(y)\n",
    "z=np.tril(x)\n",
    "z2=np.diag(z)\n",
    "print(z2)"
   ]
  },
  {
   "cell_type": "markdown",
   "metadata": {},
   "source": [
    "6\\. Use broadcasting to create a grid of distances\n",
    "\n",
    "Route 66 crosses the following cities in the US: Chicago, Springfield, Saint-Louis, Tulsa, Oklahoma City, Amarillo, Santa Fe, Albuquerque, Flagstaff, Los Angeles\n",
    "The corresponding positions in miles are: 0, 198, 303, 736, 871, 1175, 1475, 1544, 1913, 2448\n",
    "\n",
    "  * Construct a 2D grid of distances among each city along Route 66\n",
    "  * Convert that in km (those savages...)"
   ]
  },
  {
   "cell_type": "markdown",
   "metadata": {},
   "source": [
    "7\\. Prime numbers sieve: compute the prime numbers in the 0-N (N=99 to start with) range with a sieve (mask).\n",
    "  * Constract a shape (100,) boolean array, the mask\n",
    "  * Identify the multiples of each number starting from 2 and set accordingly the corresponding mask element\n",
    "  * Apply the mask to obtain an array of ordered prime numbers\n",
    "  * Check the performances (timeit); how does it scale with N?\n",
    "  * Implement the optimization suggested in the [sieve of Eratosthenes](https://en.wikipedia.org/wiki/Sieve_of_Eratosthenes)"
   ]
  },
  {
   "cell_type": "markdown",
   "metadata": {},
   "source": [
    "8\\. Diffusion using random walk\n",
    "\n",
    "Consider a simple random walk process: at each step in time, a walker jumps right or left (+1 or -1) with equal probability. The goal is to find the typical distance from the origin of a random walker after a given amount of time. \n",
    "To do that, let's simulate many walkers and create a 2D array with each walker as a raw and the actual time evolution as columns\n",
    "\n",
    "  * Take 1000 walkers and let them walk for 200 steps\n",
    "  * Use randint to create a 2D array of size walkers x steps with values -1 or 1\n",
    "  * Build the actual walking distances for each walker (i.e. another 2D array \"summing on each raw\")\n",
    "  * Take the square of that 2D array (elementwise)\n",
    "  * Compute the mean of the squared distances at each step (i.e. the mean along the columns)\n",
    "  * Plot the average distances (sqrt(distance\\*\\*2)) as a function of time (step)\n",
    "  \n",
    "Did you get what you expected?"
   ]
  },
  {
   "cell_type": "markdown",
   "metadata": {},
   "source": [
    "9\\. Analyze a data file \n",
    "  * Download the population of hares, lynxes and carrots at the beginning of the last century.\n",
    "    ```python\n",
    "    ! wget https://www.dropbox.com/s/3vigxoqayo389uc/populations.txt\n",
    "    ```\n",
    "\n",
    "  * Check the content by looking within the file\n",
    "  * Load the data (use an appropriate numpy method) into a 2D array\n",
    "  * Create arrays out of the columns, the arrays being (in order): *year*, *hares*, *lynxes*, *carrots* \n",
    "  * Plot the 3 populations over the years\n",
    "  * Compute the main statistical properties of the dataset (mean, std, correlations, etc.)\n",
    "  * Which species has the highest population each year?\n",
    "\n",
    "Do you feel there is some evident correlation here? [Studies](https://www.enr.gov.nt.ca/en/services/lynx/lynx-snowshoe-hare-cycle) tend to believe so."
   ]
  },
  {
   "cell_type": "code",
   "execution_count": null,
   "metadata": {
    "collapsed": true
   },
   "outputs": [],
   "source": []
  }
 ],
 "metadata": {
  "kernelspec": {
   "display_name": "Python 3",
   "language": "python",
   "name": "python3"
  },
  "language_info": {
   "codemirror_mode": {
    "name": "ipython",
    "version": 3
   },
   "file_extension": ".py",
   "mimetype": "text/x-python",
   "name": "python",
   "nbconvert_exporter": "python",
   "pygments_lexer": "ipython3",
   "version": "3.6.3"
  }
 },
 "nbformat": 4,
 "nbformat_minor": 2
}
