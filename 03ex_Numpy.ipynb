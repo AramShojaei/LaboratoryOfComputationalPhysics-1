{
 "cells": [
  {
   "cell_type": "markdown",
   "metadata": {},
   "source": [
    "### Numpy basics"
   ]
  },
  {
   "cell_type": "markdown",
   "metadata": {},
   "source": [
    "1\\. Find the row, column and overall means for the following matrix:\n",
    "\n",
    "```python\n",
    "m = np.arange(12).reshape((3,4))\n",
    "```"
   ]
  },
  {
   "cell_type": "code",
   "execution_count": 1,
   "metadata": {},
   "outputs": [
    {
     "name": "stdout",
     "output_type": "stream",
     "text": [
      "[[ 0  1  2  3]\n",
      " [ 4  5  6  7]\n",
      " [ 8  9 10 11]]\n",
      "Row 0 of the matrix is  [0 1 2 3]\n",
      "Row 1 of the matrix is  [4 5 6 7]\n",
      "Row 2 of the matrix is  [ 8  9 10 11]\n",
      "Column 0 of the matrix is  [0 4 8]\n",
      "Column 1 of the matrix is  [1 5 9]\n",
      "Column 2 of the matrix is  [ 2  6 10]\n",
      "Column 3 of the matrix is  [ 3  7 11]\n"
     ]
    },
    {
     "ename": "NameError",
     "evalue": "name 'VAFFANCULO' is not defined",
     "output_type": "error",
     "traceback": [
      "\u001b[0;31m---------------------------------------------------------------------------\u001b[0m",
      "\u001b[0;31mNameError\u001b[0m                                 Traceback (most recent call last)",
      "\u001b[0;32m<ipython-input-1-1a301c154f7a>\u001b[0m in \u001b[0;36m<module>\u001b[0;34m\u001b[0m\n\u001b[1;32m     10\u001b[0m \u001b[0;34m\u001b[0m\u001b[0m\n\u001b[1;32m     11\u001b[0m \u001b[0;31m# What are overall means???       AAAAAAAAAAH\u001b[0m\u001b[0;34m\u001b[0m\u001b[0;34m\u001b[0m\u001b[0m\n\u001b[0;32m---> 12\u001b[0;31m \u001b[0mVAFFANCULO\u001b[0m\u001b[0;34m\u001b[0m\u001b[0m\n\u001b[0m",
      "\u001b[0;31mNameError\u001b[0m: name 'VAFFANCULO' is not defined"
     ]
    }
   ],
   "source": [
    "import numpy as np\n",
    "\n",
    "m = np.arange(12).reshape((3,4))\n",
    "print(m)\n",
    "\n",
    "for i in range(m.shape[0]):\n",
    "    print(\"Row\",i,\"of the matrix is \", m[i,:])\n",
    "for j in range(m.shape[1]):\n",
    "    print(\"Column\",j,\"of the matrix is \", m[:,j])\n",
    "    \n",
    "# What are overall means???       AAAAAAAAAAH\n",
    "VAFFANCULO"
   ]
  },
  {
   "cell_type": "markdown",
   "metadata": {},
   "source": [
    "2\\. Find the outer product of the following two vecotrs\n",
    "\n",
    "```python\n",
    "u = np.array([1,3,5,7])\n",
    "v = np.array([2,4,6,8])\n",
    "```\n",
    "\n",
    "Do this in the following ways:\n",
    "\n",
    "   * Using the function outer in numpy\n",
    "   * Using a nested for loop or list comprehension\n",
    "   * Using numpy broadcasting operatoins\n"
   ]
  },
  {
   "cell_type": "code",
   "execution_count": 6,
   "metadata": {},
   "outputs": [
    {
     "name": "stdout",
     "output_type": "stream",
     "text": [
      "[[ 2  4  6  8]\n",
      " [ 6 12 18 24]\n",
      " [10 20 30 40]\n",
      " [14 28 42 56]]\n",
      "[[ 2  4  6  8]\n",
      " [ 6 12 18 24]\n",
      " [10 20 30 40]\n",
      " [14 28 42 56]]\n",
      "[[ 2  4  6  8]\n",
      " [ 6 12 18 24]\n",
      " [10 20 30 40]\n",
      " [14 28 42 56]]\n"
     ]
    }
   ],
   "source": [
    "u = np.array([1,3,5,7])\n",
    "v = np.array([2,4,6,8])\n",
    "\n",
    "m1 = np.outer(u,v)\n",
    "\n",
    "list2 = [[u[i]*v[j] for j in range(len(v))] for i in range(len(u))]\n",
    "m2 = np.array(list2)\n",
    "\n",
    "u_new = u.reshape(len(u),1)\n",
    "m3 = u_new*v\n",
    "\n",
    "print(m1)\n",
    "print(m2)\n",
    "print(m3)"
   ]
  },
  {
   "cell_type": "markdown",
   "metadata": {},
   "source": [
    "3\\. Create a 10 by 6 matrix of random uniform numbers. Set all rows with any entry less than 0.1 to be zero\n",
    "\n",
    "Hint: Use the following numpy functions - np.random.random, np.any as well as Boolean indexing and the axis argument."
   ]
  },
  {
   "cell_type": "code",
   "execution_count": 37,
   "metadata": {},
   "outputs": [
    {
     "name": "stdout",
     "output_type": "stream",
     "text": [
      "[[0.26866597 0.84668273 0.58769724 0.43304381 0.94213589 0.79125067]\n",
      " [0.37917926 0.6204778  0.8234223  0.38643389 0.41532429 0.945077  ]\n",
      " [0.42039108 0.10768482 0.83891753 0.8163179  0.         0.96032846]\n",
      " [0.         0.60629311 0.         0.37855044 0.74368021 0.45191689]\n",
      " [0.64502828 0.74409945 0.79702474 0.         0.58883628 0.        ]\n",
      " [0.19218612 0.71242346 0.37391282 0.95088715 0.91167116 0.73991455]\n",
      " [0.98695111 0.16008105 0.62387671 0.1477307  0.78439273 0.88169219]\n",
      " [0.68931858 0.96198388 0.54914244 0.76990139 0.         0.99269534]\n",
      " [0.83501793 0.5789509  0.11872885 0.         0.64101524 0.        ]\n",
      " [0.65781147 0.12598809 0.89954094 0.         0.         0.17445188]]\n"
     ]
    }
   ],
   "source": [
    "matrix = np.random.random((10,6))\n",
    "mask = (matrix < 0.1)\n",
    "matrix[mask] = 0\n",
    "print(matrix)       RIVEDERE (funzione np.any())"
   ]
  },
  {
   "cell_type": "markdown",
   "metadata": {},
   "source": [
    "4\\. Use np.linspace to create an array of 100 numbers between 0 and 2π (includsive).\n",
    "\n",
    "  * Extract every 10th element using slice notation\n",
    "  * Reverse the array using slice notation\n",
    "  * Extract elements where the absolute difference between the sine and cosine functions evaluated at that element is less than 0.1\n",
    "  * Make a plot showing the sin and cos functions and indicate where they are close"
   ]
  },
  {
   "cell_type": "code",
   "execution_count": 6,
   "metadata": {},
   "outputs": [
    {
     "name": "stdout",
     "output_type": "stream",
     "text": [
      "First point:\n",
      " [0.         0.63466518 1.26933037 1.90399555 2.53866073 3.17332591\n",
      " 3.8079911  4.44265628 5.07732146 5.71198664]\n",
      "\n",
      "Second point:\n",
      " [6.28318531 6.21971879 6.15625227 6.09278575 6.02931923 5.96585272\n",
      " 5.9023862  5.83891968 5.77545316 5.71198664 5.64852012 5.58505361\n",
      " 5.52158709 5.45812057 5.39465405 5.33118753 5.26772102 5.2042545\n",
      " 5.14078798 5.07732146 5.01385494 4.95038842 4.88692191 4.82345539\n",
      " 4.75998887 4.69652235 4.63305583 4.56958931 4.5061228  4.44265628\n",
      " 4.37918976 4.31572324 4.25225672 4.1887902  4.12532369 4.06185717\n",
      " 3.99839065 3.93492413 3.87145761 3.8079911  3.74452458 3.68105806\n",
      " 3.61759154 3.55412502 3.4906585  3.42719199 3.36372547 3.30025895\n",
      " 3.23679243 3.17332591 3.10985939 3.04639288 2.98292636 2.91945984\n",
      " 2.85599332 2.7925268  2.72906028 2.66559377 2.60212725 2.53866073\n",
      " 2.47519421 2.41172769 2.34826118 2.28479466 2.22132814 2.15786162\n",
      " 2.0943951  2.03092858 1.96746207 1.90399555 1.84052903 1.77706251\n",
      " 1.71359599 1.65012947 1.58666296 1.52319644 1.45972992 1.3962634\n",
      " 1.33279688 1.26933037 1.20586385 1.14239733 1.07893081 1.01546429\n",
      " 0.95199777 0.88853126 0.82506474 0.76159822 0.6981317  0.63466518\n",
      " 0.57119866 0.50773215 0.44426563 0.38079911 0.31733259 0.25386607\n",
      " 0.19039955 0.12693304 0.06346652 0.        ]\n",
      "\n",
      "Third point:\n",
      " [0.76159822 0.82506474 3.87145761 3.93492413]\n",
      "\n",
      "Fourth point:\n",
      "\n"
     ]
    },
    {
     "data": {
      "image/png": "[encoded data removed]",
      "text/plain": [
       "<Figure size 432x288 with 1 Axes>"
      ]
     },
     "metadata": {
      "needs_background": "light"
     },
     "output_type": "display_data"
    }
   ],
   "source": [
    "import math\n",
    "%matplotlib inline\n",
    "from matplotlib import pyplot as plt\n",
    "\n",
    "array = np.linspace(0,2*math.pi,100)\n",
    "a1 = array[::10]\n",
    "a2 = array[::-1]\n",
    "mask3 = (np.abs(np.cos(array)-np.sin(array))<0.1)\n",
    "a3 = array[mask3]\n",
    "\n",
    "print(\"First point:\\n\",a1)\n",
    "print(\"\\nSecond point:\\n\",a2)\n",
    "print(\"\\nThird point:\\n\",a3)\n",
    "print(\"\\nFourth point:\\n\")\n",
    "\n",
    "mask4 = ~mask3\n",
    "mod_array = array.copy()\n",
    "mod_array[mask4] = None\n",
    "plt.plot(np.cos(array),'b')\n",
    "plt.plot(np.sin(array),'b')\n",
    "plt.plot(np.cos(mod_array),'r', marker='.')\n",
    "plt.plot(np.sin(mod_array),'r', marker='.')\n",
    "plt.show()\n"
   ]
  },
  {
   "cell_type": "markdown",
   "metadata": {},
   "source": [
    "5\\. Create a matrix that shows the 10 by 10 multiplication table.\n",
    "\n",
    " * Find the trace of the matrix\n",
    " * Extract the anto-diagonal (this should be ```array([10, 18, 24, 28, 30, 30, 28, 24, 18, 10])```)\n",
    " * Extract the diagnoal offset by 1 upwards (this should be ```array([ 2,  6, 12, 20, 30, 42, 56, 72, 90])```)"
   ]
  },
  {
   "cell_type": "code",
   "execution_count": 14,
   "metadata": {},
   "outputs": [
    {
     "name": "stdout",
     "output_type": "stream",
     "text": [
      "[[  1   2   3   4   5   6   7   8   9  10]\n",
      " [  2   4   6   8  10  12  14  16  18  20]\n",
      " [  3   6   9  12  15  18  21  24  27  30]\n",
      " [  4   8  12  16  20  24  28  32  36  40]\n",
      " [  5  10  15  20  25  30  35  40  45  50]\n",
      " [  6  12  18  24  30  36  42  48  54  60]\n",
      " [  7  14  21  28  35  42  49  56  63  70]\n",
      " [  8  16  24  32  40  48  56  64  72  80]\n",
      " [  9  18  27  36  45  54  63  72  81  90]\n",
      " [ 10  20  30  40  50  60  70  80  90 100]]\n",
      "\n",
      "Trace: 385\n",
      "[10 18 24 28 30 30 28 24 18 10]\n",
      "[ 2  6 12 20 30 42 56 72 90]\n"
     ]
    }
   ],
   "source": [
    "numbers = np.arange(1,11)\n",
    "table = np.outer(np.arange(1,11),np.arange(1,11))\n",
    "print(table)\n",
    "\n",
    "print(\"\\nTrace:\",np.trace(table))\n",
    "print(np.diagonal(np.fliplr(table)))\n",
    "off_diag = table[[i for i in range(9)],[i+1 for i in range(9)]]\n",
    "print(off_diag)"
   ]
  },
  {
   "cell_type": "markdown",
   "metadata": {},
   "source": [
    "6\\. Use broadcasting to create a grid of distances\n",
    "\n",
    "Route 66 crosses the following cities in the US: Chicago, Springfield, Saint-Louis, Tulsa, Oklahoma City, Amarillo, Santa Fe, Albuquerque, Flagstaff, Los Angeles\n",
    "The corresponding positions in miles are: 0, 198, 303, 736, 871, 1175, 1475, 1544, 1913, 2448\n",
    "\n",
    "  * Construct a 2D grid of distances among each city along Route 66\n",
    "  * Convert that in km (those savages...)"
   ]
  },
  {
   "cell_type": "code",
   "execution_count": 16,
   "metadata": {},
   "outputs": [
    {
     "name": "stdout",
     "output_type": "stream",
     "text": [
      "Distance in miles:\n",
      " [[   0  198  303  736  871 1175 1475 1544 1913 2448]\n",
      " [ 198    0  105  538  673  977 1277 1346 1715 2250]\n",
      " [ 303  105    0  433  568  872 1172 1241 1610 2145]\n",
      " [ 736  538  433    0  135  439  739  808 1177 1712]\n",
      " [ 871  673  568  135    0  304  604  673 1042 1577]\n",
      " [1175  977  872  439  304    0  300  369  738 1273]\n",
      " [1475 1277 1172  739  604  300    0   69  438  973]\n",
      " [1544 1346 1241  808  673  369   69    0  369  904]\n",
      " [1913 1715 1610 1177 1042  738  438  369    0  535]\n",
      " [2448 2250 2145 1712 1577 1273  973  904  535    0]]\n",
      "\n",
      "Distance in km:\n",
      " [[   0.         318.6482112  487.6283232 1184.4701184 1401.7302624\n",
      "  1890.96792   2373.76824   2484.8123136 3078.6567072 3939.6506112]\n",
      " [ 318.6482112    0.         168.980112   865.8219072 1083.0820512\n",
      "  1572.3197088 2055.1200288 2166.1641024 2760.008496  3621.0024   ]\n",
      " [ 487.6283232  168.980112     0.         696.8417952  914.1019392\n",
      "  1403.3395968 1886.1399168 1997.1839904 2591.028384  3452.022288 ]\n",
      " [1184.4701184  865.8219072  696.8417952    0.         217.260144\n",
      "   706.4978016 1189.2981216 1300.3421952 1894.1865888 2755.1804928]\n",
      " [1401.7302624 1083.0820512  914.1019392  217.260144     0.\n",
      "   489.2376576  972.0379776 1083.0820512 1676.9264448 2537.9203488]\n",
      " [1890.96792   1572.3197088 1403.3395968  706.4978016  489.2376576\n",
      "     0.         482.80032    593.8443936 1187.6887872 2048.6826912]\n",
      " [2373.76824   2055.1200288 1886.1399168 1189.2981216  972.0379776\n",
      "   482.80032      0.         111.0440736  704.8884672 1565.8823712]\n",
      " [2484.8123136 2166.1641024 1997.1839904 1300.3421952 1083.0820512\n",
      "   593.8443936  111.0440736    0.         593.8443936 1454.8382976]\n",
      " [3078.6567072 2760.008496  2591.028384  1894.1865888 1676.9264448\n",
      "  1187.6887872  704.8884672  593.8443936    0.         860.993904 ]\n",
      " [3939.6506112 3621.0024    3452.022288  2755.1804928 2537.9203488\n",
      "  2048.6826912 1565.8823712 1454.8382976  860.993904     0.       ]]\n"
     ]
    }
   ],
   "source": [
    "positions = np.array([0,198,303,736,871,1175,1475,1544,1913,2448])\n",
    "dist_miles = np.abs(positions.reshape(len(positions),1)-positions)\n",
    "print(\"Distance in miles:\\n\",dist_miles)\n",
    "dist_km = dist_miles * 1.6093344\n",
    "print(\"\\nDistance in km:\\n\",dist_km)"
   ]
  },
  {
   "cell_type": "markdown",
   "metadata": {},
   "source": [
    "7\\. Prime numbers sieve: compute the prime numbers in the 0-N (N=99 to start with) range with a sieve (mask).\n",
    "  * Constract a shape (100,) boolean array, the mask\n",
    "  * Identify the multiples of each number starting from 2 and set accordingly the corresponding mask element\n",
    "  * Apply the mask to obtain an array of ordered prime numbers\n",
    "  * Check the performances (timeit); how does it scale with N?\n",
    "  * Implement the optimization suggested in the [sieve of Eratosthenes](https://en.wikipedia.org/wiki/Sieve_of_Eratosthenes)"
   ]
  },
  {
   "cell_type": "code",
   "execution_count": 4,
   "metadata": {},
   "outputs": [
    {
     "name": "stdout",
     "output_type": "stream",
     "text": [
      "[ 0  1  2  3  5  7 11 13 17 19 23 29 31 37 41 43 47 53 59 61 67 71 73 79\n",
      " 83 89 97]\n"
     ]
    }
   ],
   "source": [
    "def prime_gen(N):\n",
    "    numbers = np.array(np.arange(N))\n",
    "    mask = np.array([True for i in range(N)], dtype=bool)\n",
    "    \n",
    "    #building the mask\n",
    "    for i in range(2,N):\n",
    "        if mask[i]==True: #to increase performances\n",
    "            for k in range(i+1,N):\n",
    "                if numbers[k]%numbers[i]==0:\n",
    "                    mask[k] = False\n",
    "                \n",
    "    return (numbers[mask]) \n",
    "\n",
    "\n",
    "def prime_gen_Erat(N):\n",
    "    numbers = np.array(np.arange(N))\n",
    "    mask = np.array([True for i in range(N)], dtype=bool)\n",
    "    \n",
    "    #building the mask\n",
    "    for i in range(2,N):\n",
    "        if mask[i]==True:\n",
    "            k = 2\n",
    "            while i*k<N:\n",
    "                mask[i*k] = False\n",
    "                k += 1\n",
    "                \n",
    "    return (numbers[mask])\n",
    "            \n",
    "    \n",
    "\n",
    "N = 100\n",
    "prime_numbers = prime_gen_Erat(N)\n",
    "print(prime_numbers)\n",
    "\n",
    "# N = 100 -> time = 638µs\n",
    "# N = 200 -> time = 2.01ms     It scales exponentially\n",
    "# N = 1000 -> time = 36.8ms\n",
    "# N = 2000 -> time = 127ms\n",
    "# N = 10000 -> time = 2.44s\n",
    "\n",
    "#With the sieve of Eratosthenes:\n",
    "# N = 100 -> time = 117µs\n",
    "# N = 200 -> time = 226µs      It scales linearly \n",
    "# N = 1000 -> time = 1.03ms\n",
    "# N = 2000 -> time = 2.14ms\n",
    "# N = 10000 -> time = 10ms\n"
   ]
  },
  {
   "cell_type": "markdown",
   "metadata": {},
   "source": [
    "8\\. Diffusion using random walk\n",
    "\n",
    "Consider a simple random walk process: at each step in time, a walker jumps right or left (+1 or -1) with equal probability. The goal is to find the typical distance from the origin of a random walker after a given amount of time. \n",
    "To do that, let's simulate many walkers and create a 2D array with each walker as a raw and the actual time evolution as columns\n",
    "\n",
    "  * Take 1000 walkers and let them walk for 200 steps\n",
    "  * Use randint to create a 2D array of size walkers x steps with values -1 or 1\n",
    "  * Build the actual walking distances for each walker (i.e. another 2D array \"summing on each raw\")\n",
    "  * Take the square of that 2D array (elementwise)\n",
    "  * Compute the mean of the squared distances at each step (i.e. the mean along the columns)\n",
    "  * Plot the average distances (sqrt(distance\\*\\*2)) as a function of time (step)\n",
    "  \n",
    "Did you get what you expected?"
   ]
  },
  {
   "cell_type": "code",
   "execution_count": 7,
   "metadata": {},
   "outputs": [
    {
     "name": "stdout",
     "output_type": "stream",
     "text": [
      "[[  0.   0.   0. ...   0.   0.   0.]\n",
      " [  1.  -1.  -1. ...   1.  -1.   1.]\n",
      " [  1.  -2.  -1. ...   2.  -2.   2.]\n",
      " ...\n",
      " [  2. -11.  13. ...   8.  -2.  14.]\n",
      " [  1. -12.  12. ...   9.  -2.  13.]\n",
      " [  1. -13.  13. ...   8.  -1.  12.]]\n"
     ]
    },
    {
     "data": {
      "image/png": "[encoded data removed]",
      "text/plain": [
       "<Figure size 432x288 with 1 Axes>"
      ]
     },
     "metadata": {
      "needs_background": "light"
     },
     "output_type": "display_data"
    }
   ],
   "source": [
    "import numpy.random as npr\n",
    "\n",
    "positions = np.zeros((200,1000))\n",
    "\n",
    "for i in range(1,positions.shape[0]):\n",
    "    for j in range(positions.shape[1]):\n",
    "        positions[i,j] = positions[i-1,j] + npr.randint(-1,2)\n",
    "\n",
    "print(positions)\n",
    "\n",
    "squar_pos = positions**2\n",
    "mean_sq_dist = np.array([],'float64')\n",
    "for i in range(positions.shape[0]):\n",
    "    mean = np.mean(squar_pos[i,:])\n",
    "    mean_sq_dist = np.append(mean_sq_dist, mean)\n",
    "\n",
    "plt.plot(mean_sq_dist)\n",
    "plt.show()                   _________________RIVEDERE__________________\n"
   ]
  },
  {
   "cell_type": "markdown",
   "metadata": {},
   "source": [
    "9\\. Analyze a data file \n",
    "  * Download the population of hares, lynxes and carrots at the beginning of the last century.\n",
    "    ```python\n",
    "    ! wget https://www.dropbox.com/s/3vigxoqayo389uc/populations.txt\n",
    "    ```\n",
    "\n",
    "  * Check the content by looking within the file\n",
    "  * Load the data (use an appropriate numpy method) into a 2D array\n",
    "  * Create arrays out of the columns, the arrays being (in order): *year*, *hares*, *lynxes*, *carrots* \n",
    "  * Plot the 3 populations over the years\n",
    "  * Compute the main statistical properties of the dataset (mean, std, correlations, etc.)\n",
    "  * Which species has the highest population each year?\n",
    "\n",
    "Do you feel there is some evident correlation here? [Studies](https://www.enr.gov.nt.ca/en/services/lynx/lynx-snowshoe-hare-cycle) tend to believe so."
   ]
  },
  {
   "cell_type": "code",
   "execution_count": 10,
   "metadata": {},
   "outputs": [
    {
     "data": {
      "image/png": "[encoded data removed]",
      "text/plain": [
       "<Figure size 432x288 with 1 Axes>"
      ]
     },
     "metadata": {
      "needs_background": "light"
     },
     "output_type": "display_data"
    },
    {
     "name": "stdout",
     "output_type": "stream",
     "text": [
      "Mean values of hares, lynxes, carrots: 34080.95 20166.67 42400.00\n",
      "Std values of hares, lynxes, carrots: 20897.91 16254.59 3322.51\n"
     ]
    },
    {
     "data": {
      "text/plain": [
       "array([[ 1.        , -0.38917662, -0.02544806, -0.13633321],\n",
       "       [-0.38917662,  1.        ,  0.07189206, -0.01660378],\n",
       "       [-0.02544806,  0.07189206,  1.        , -0.68057717],\n",
       "       [-0.13633321, -0.01660378, -0.68057717,  1.        ]])"
      ]
     },
     "execution_count": 10,
     "metadata": {},
     "output_type": "execute_result"
    }
   ],
   "source": [
    "#IMPORT DATA FROM TXT FILE \n",
    "data = np.loadtxt(\"populations.txt\")\n",
    "\n",
    "years = data[:,0]\n",
    "hares= data[:,1]\n",
    "lynxes = data[:,2]\n",
    "carrots = data[:,3]\n",
    "\n",
    "plt.plot(years, hares)  #blue\n",
    "plt.plot(years, lynxes) #orange\n",
    "plt.plot(years, carrots)\n",
    "plt.show()\n",
    "\n",
    "print(\"Mean values of hares, lynxes, carrots: %.2f %.2f %.2f\"\n",
    "      %(np.average(hares), np.average(lynxes), np.average(carrots)))\n",
    "print(\"Std values of hares, lynxes, carrots: %.2f %.2f %.2f\"\n",
    "      %(np.std(hares), np.std(lynxes), np.std(carrots)))\n",
    "\n",
    "np.corrcoef(data.T)"
   ]
  },
  {
   "cell_type": "code",
   "execution_count": null,
   "metadata": {},
   "outputs": [],
   "source": []
  }
 ],
 "metadata": {
  "kernelspec": {
   "display_name": "Python 3",
   "language": "python",
   "name": "python3"
  },
  "language_info": {
   "codemirror_mode": {
    "name": "ipython",
    "version": 3
   },
   "file_extension": ".py",
   "mimetype": "text/x-python",
   "name": "python",
   "nbconvert_exporter": "python",
   "pygments_lexer": "ipython3",
   "version": "3.6.6"
  }
 },
 "nbformat": 4,
 "nbformat_minor": 2
}
