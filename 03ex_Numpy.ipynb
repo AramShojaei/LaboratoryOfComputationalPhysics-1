{
 "cells": [
  {
   "cell_type": "markdown",
   "metadata": {},
   "source": [
    "### Numpy basics"
   ]
  },
  {
   "cell_type": "code",
   "execution_count": 1,
   "metadata": {},
   "outputs": [],
   "source": [
    "import numpy as np"
   ]
  },
  {
   "cell_type": "markdown",
   "metadata": {},
   "source": [
    "1\\. Find the row, column and overall means for the following matrix:\n",
    "\n",
    "```python\n",
    "m = np.arange(12).reshape((3,4))\n",
    "```"
   ]
  },
  {
   "cell_type": "code",
   "execution_count": 2,
   "metadata": {},
   "outputs": [
    {
     "name": "stdout",
     "output_type": "stream",
     "text": [
      "Matrix m:\n",
      " [[ 0  1  2  3]\n",
      " [ 4  5  6  7]\n",
      " [ 8  9 10 11]]\n",
      "\n",
      "Rows mean:  [1.5 5.5 9.5]\n",
      "Cols mean:  [4. 5. 6. 7.]\n",
      "Overall mean:  5.5\n"
     ]
    }
   ],
   "source": [
    "m = np.arange(12).reshape((3,4))\n",
    "print(\"Matrix m:\\n\", m)\n",
    "\n",
    "print(\"\\nRows mean: \", np.mean(m,1))\n",
    "print(\"Cols mean: \", np.mean(m,0))\n",
    "print(\"Overall mean: \", np.mean(m))"
   ]
  },
  {
   "cell_type": "markdown",
   "metadata": {},
   "source": [
    "2\\. Find the outer product of the following two vecotrs\n",
    "\n",
    "```python\n",
    "u = np.array([1,3,5,7])\n",
    "v = np.array([2,4,6,8])\n",
    "```\n",
    "\n",
    "Do this in the following ways:\n",
    "\n",
    "   * Using the function outer in numpy\n",
    "   * Using a nested for loop or list comprehension\n",
    "   * Using numpy broadcasting operatoins\n"
   ]
  },
  {
   "cell_type": "code",
   "execution_count": 3,
   "metadata": {},
   "outputs": [
    {
     "name": "stdout",
     "output_type": "stream",
     "text": [
      "Numpy outer function:\n",
      " [[ 2  4  6  8]\n",
      " [ 6 12 18 24]\n",
      " [10 20 30 40]\n",
      " [14 28 42 56]]\n",
      "\n",
      "List comprehension:\n",
      " [[ 2  4  6  8]\n",
      " [ 6 12 18 24]\n",
      " [10 20 30 40]\n",
      " [14 28 42 56]]\n",
      "\n",
      "Numpy broadcasting operatoins:\n",
      " [[ 2  4  6  8]\n",
      " [ 6 12 18 24]\n",
      " [10 20 30 40]\n",
      " [14 28 42 56]]\n"
     ]
    }
   ],
   "source": [
    "u = np.array([1,3,5,7])\n",
    "v = np.array([2,4,6,8])\n",
    "\n",
    "\n",
    "# Numpy outer function\n",
    "print(\"Numpy outer function:\\n\", np.outer(u,v))\n",
    "\n",
    "# List comprehension\n",
    "result = np.array([(a*b) for a in u for b in v]).reshape((4,4))\n",
    "print(\"\\nList comprehension:\\n\", result)\n",
    "\n",
    "# Numpy broadcasting operatoins\n",
    "result = np.tile( u, ( np.size(u),1 ) ).T\n",
    "print(\"\\nNumpy broadcasting operatoins:\\n\", result*v)"
   ]
  },
  {
   "cell_type": "markdown",
   "metadata": {},
   "source": [
    "3\\. Create a 10 by 6 matrix of random uniform numbers. Set all rows with any entry less than 0.1 to be zero\n",
    "\n",
    "Hint: Use the following numpy functions - np.random.random, np.any as well as Boolean indexing and the axis argument."
   ]
  },
  {
   "cell_type": "code",
   "execution_count": 4,
   "metadata": {},
   "outputs": [
    {
     "name": "stdout",
     "output_type": "stream",
     "text": [
      "[[0.         0.         0.         0.         0.         0.        ]\n",
      " [0.         0.         0.         0.         0.         0.        ]\n",
      " [0.45336231 0.41291907 0.48506972 0.68604465 0.31249518 0.43869008]\n",
      " [0.         0.         0.         0.         0.         0.        ]\n",
      " [0.63934031 0.46643865 0.78613795 0.2818773  0.50940951 0.10686072]\n",
      " [0.59507219 0.40197898 0.54533185 0.72474485 0.45924215 0.67561666]\n",
      " [0.         0.         0.         0.         0.         0.        ]\n",
      " [0.64030938 0.61135255 0.13236534 0.95456001 0.5360818  0.99285951]\n",
      " [0.         0.         0.         0.         0.         0.        ]\n",
      " [0.31079899 0.17123684 0.57528515 0.35887859 0.24951071 0.13629365]]\n"
     ]
    }
   ],
   "source": [
    "import numpy.random as npr\n",
    "npr.seed(1204533)\n",
    "\n",
    "rand_matrix = npr.rand(10,6)\n",
    "mask = ( rand_matrix < 0.1 )\n",
    "anyresult = np.any(mask,1)\n",
    "for i in range( len(anyresult) ):\n",
    "    if anyresult[i]==True:\n",
    "        rand_matrix[i,:] = 0\n",
    "print(rand_matrix)"
   ]
  },
  {
   "cell_type": "markdown",
   "metadata": {},
   "source": [
    "4\\. Use np.linspace to create an array of 100 numbers between 0 and 2π (includsive).\n",
    "\n",
    "  * Extract every 10th element using slice notation\n",
    "  * Reverse the array using slice notation\n",
    "  * Extract elements where the absolute difference between the sine and cosine functions evaluated at that element is less than 0.1\n",
    "  * Make a plot showing the sin and cos functions and indicate where they are close"
   ]
  },
  {
   "cell_type": "code",
   "execution_count": 5,
   "metadata": {},
   "outputs": [
    {
     "name": "stdout",
     "output_type": "stream",
     "text": [
      "array:\n",
      " [0.         0.06346652 0.12693304 0.19039955 0.25386607 0.31733259\n",
      " 0.38079911 0.44426563 0.50773215 0.57119866 0.63466518 0.6981317\n",
      " 0.76159822 0.82506474 0.88853126 0.95199777 1.01546429 1.07893081\n",
      " 1.14239733 1.20586385 1.26933037 1.33279688 1.3962634  1.45972992\n",
      " 1.52319644 1.58666296 1.65012947 1.71359599 1.77706251 1.84052903\n",
      " 1.90399555 1.96746207 2.03092858 2.0943951  2.15786162 2.22132814\n",
      " 2.28479466 2.34826118 2.41172769 2.47519421 2.53866073 2.60212725\n",
      " 2.66559377 2.72906028 2.7925268  2.85599332 2.91945984 2.98292636\n",
      " 3.04639288 3.10985939 3.17332591 3.23679243 3.30025895 3.36372547\n",
      " 3.42719199 3.4906585  3.55412502 3.61759154 3.68105806 3.74452458\n",
      " 3.8079911  3.87145761 3.93492413 3.99839065 4.06185717 4.12532369\n",
      " 4.1887902  4.25225672 4.31572324 4.37918976 4.44265628 4.5061228\n",
      " 4.56958931 4.63305583 4.69652235 4.75998887 4.82345539 4.88692191\n",
      " 4.95038842 5.01385494 5.07732146 5.14078798 5.2042545  5.26772102\n",
      " 5.33118753 5.39465405 5.45812057 5.52158709 5.58505361 5.64852012\n",
      " 5.71198664 5.77545316 5.83891968 5.9023862  5.96585272 6.02931923\n",
      " 6.09278575 6.15625227 6.21971879 6.28318531]\n",
      "\n",
      "extracted from initial:\n",
      " [0.         0.63466518 1.26933037 1.90399555 2.53866073 3.17332591\n",
      " 3.8079911  4.44265628 5.07732146 5.71198664]\n",
      "\n",
      "Reversed:\n",
      " [6.28318531 6.21971879 6.15625227 6.09278575 6.02931923 5.96585272\n",
      " 5.9023862  5.83891968 5.77545316 5.71198664 5.64852012 5.58505361\n",
      " 5.52158709 5.45812057 5.39465405 5.33118753 5.26772102 5.2042545\n",
      " 5.14078798 5.07732146 5.01385494 4.95038842 4.88692191 4.82345539\n",
      " 4.75998887 4.69652235 4.63305583 4.56958931 4.5061228  4.44265628\n",
      " 4.37918976 4.31572324 4.25225672 4.1887902  4.12532369 4.06185717\n",
      " 3.99839065 3.93492413 3.87145761 3.8079911  3.74452458 3.68105806\n",
      " 3.61759154 3.55412502 3.4906585  3.42719199 3.36372547 3.30025895\n",
      " 3.23679243 3.17332591 3.10985939 3.04639288 2.98292636 2.91945984\n",
      " 2.85599332 2.7925268  2.72906028 2.66559377 2.60212725 2.53866073\n",
      " 2.47519421 2.41172769 2.34826118 2.28479466 2.22132814 2.15786162\n",
      " 2.0943951  2.03092858 1.96746207 1.90399555 1.84052903 1.77706251\n",
      " 1.71359599 1.65012947 1.58666296 1.52319644 1.45972992 1.3962634\n",
      " 1.33279688 1.26933037 1.20586385 1.14239733 1.07893081 1.01546429\n",
      " 0.95199777 0.88853126 0.82506474 0.76159822 0.6981317  0.63466518\n",
      " 0.57119866 0.50773215 0.44426563 0.38079911 0.31733259 0.25386607\n",
      " 0.19039955 0.12693304 0.06346652 0.        ]\n",
      "\n",
      "Elements where the absolute difference between the sine and cosine functions evaluated at that element is less than 0.1\n",
      " [0.76159822 0.82506474 3.87145761 3.93492413]\n"
     ]
    },
    {
     "data": {
      "text/plain": [
       "<Figure size 640x480 with 1 Axes>"
      ]
     },
     "metadata": {},
     "output_type": "display_data"
    }
   ],
   "source": [
    "import math\n",
    "import matplotlib.pyplot as plt\n",
    "\n",
    "x = np.linspace( 0, 2*math.pi, 100 )\n",
    "print('array:\\n', x)\n",
    "extra1 = x[::10]\n",
    "print('\\nextracted from initial:\\n', extra1)\n",
    "rev = x[::-1]\n",
    "print('\\nReversed:\\n', rev)\n",
    "\n",
    "extra2 = x[ np.where( abs( np.sin(x) - np.cos(x) )<0.1 ) ]\n",
    "print('\\nElements where the absolute difference between the sine and cosine functions evaluated at that element is less than 0.1\\n',extra2)\n",
    "\n",
    "y1 = np.sin(x) \n",
    "y2 = np.cos(x) \n",
    "plt.plot(x, y1,'k-') \n",
    "plt.plot(x, y2,'g-')\n",
    "\n",
    "idx = np.argwhere(abs(y1-y2)<0.1).flatten()\n",
    "plt.plot(x[idx], y1[idx], 'b+')\n",
    "plt.plot(x[idx], y2[idx], 'r_')\n",
    "plt.show()"
   ]
  },
  {
   "cell_type": "markdown",
   "metadata": {},
   "source": [
    "5\\. Create a matrix that shows the 10 by 10 multiplication table.\n",
    "\n",
    " * Find the trace of the matrix\n",
    " * Extract the anto-diagonal (this should be ```array([10, 18, 24, 28, 30, 30, 28, 24, 18, 10])```)\n",
    " * Extract the diagnoal offset by 1 upwards (this should be ```array([ 2,  6, 12, 20, 30, 42, 56, 72, 90])```)"
   ]
  },
  {
   "cell_type": "code",
   "execution_count": 6,
   "metadata": {},
   "outputs": [
    {
     "name": "stdout",
     "output_type": "stream",
     "text": [
      "Trace: 385\n",
      "\n",
      "Anti diagonal [10 18 24 28 30 30 28 24 18 10]\n",
      "\n",
      "Diagonal with offset: [ 2  6 12 20 30 42 56 72 90 10]\n"
     ]
    }
   ],
   "source": [
    "matrix = np.array([i*j for i in range(1,11) for j in range(1,11)]).reshape(10,10)\n",
    "\n",
    "trace = matrix.trace()\n",
    "print(\"Trace:\", trace)\n",
    "\n",
    "anti_diag = np.diag(matrix[:,::-1])\n",
    "print(\"\\nAnti diagonal\", anti_diag)\n",
    "\n",
    "diag_off = np.diag(np.roll(matrix, -1, axis=0))\n",
    "print(\"\\nDiagonal with offset:\", diag_off)"
   ]
  },
  {
   "cell_type": "markdown",
   "metadata": {},
   "source": [
    "6\\. Use broadcasting to create a grid of distances\n",
    "\n",
    "Route 66 crosses the following cities in the US: Chicago, Springfield, Saint-Louis, Tulsa, Oklahoma City, Amarillo, Santa Fe, Albuquerque, Flagstaff, Los Angeles\n",
    "The corresponding positions in miles are: 0, 198, 303, 736, 871, 1175, 1475, 1544, 1913, 2448\n",
    "\n",
    "  * Construct a 2D grid of distances among each city along Route 66\n",
    "  * Convert that in km (those savages...)"
   ]
  },
  {
   "cell_type": "code",
   "execution_count": 7,
   "metadata": {},
   "outputs": [
    {
     "name": "stdout",
     "output_type": "stream",
     "text": [
      "Grid:\n",
      " [[    0   198   303   736   871  1175  1475  1544  1913  2448]\n",
      " [ -198     0   105   538   673   977  1277  1346  1715  2250]\n",
      " [ -303  -105     0   433   568   872  1172  1241  1610  2145]\n",
      " [ -736  -538  -433     0   135   439   739   808  1177  1712]\n",
      " [ -871  -673  -568  -135     0   304   604   673  1042  1577]\n",
      " [-1175  -977  -872  -439  -304     0   300   369   738  1273]\n",
      " [-1475 -1277 -1172  -739  -604  -300     0    69   438   973]\n",
      " [-1544 -1346 -1241  -808  -673  -369   -69     0   369   904]\n",
      " [-1913 -1715 -1610 -1177 -1042  -738  -438  -369     0   535]\n",
      " [-2448 -2250 -2145 -1712 -1577 -1273  -973  -904  -535     0]]\n",
      "\n",
      "Miles to km:\n",
      " [[    0.        318.64932   487.63002  1184.47424  1401.73514  1890.9745\n",
      "   2373.7765   2484.82096  3078.66742  3939.66432]\n",
      " [ -318.64932     0.        168.9807    865.82492  1083.08582  1572.32518\n",
      "   2055.12718  2166.17164  2760.0181   3621.015  ]\n",
      " [ -487.63002  -168.9807      0.        696.84422   914.10512  1403.34448\n",
      "   1886.14648  1997.19094  2591.0374   3452.0343 ]\n",
      " [-1184.47424  -865.82492  -696.84422     0.        217.2609    706.50026\n",
      "   1189.30226  1300.34672  1894.19318  2755.19008]\n",
      " [-1401.73514 -1083.08582  -914.10512  -217.2609      0.        489.23936\n",
      "    972.04136  1083.08582  1676.93228  2537.92918]\n",
      " [-1890.9745  -1572.32518 -1403.34448  -706.50026  -489.23936     0.\n",
      "    482.802     593.84646  1187.69292  2048.68982]\n",
      " [-2373.7765  -2055.12718 -1886.14648 -1189.30226  -972.04136  -482.802\n",
      "      0.        111.04446   704.89092  1565.88782]\n",
      " [-2484.82096 -2166.17164 -1997.19094 -1300.34672 -1083.08582  -593.84646\n",
      "   -111.04446     0.        593.84646  1454.84336]\n",
      " [-3078.66742 -2760.0181  -2591.0374  -1894.19318 -1676.93228 -1187.69292\n",
      "   -704.89092  -593.84646     0.        860.9969 ]\n",
      " [-3939.66432 -3621.015   -3452.0343  -2755.19008 -2537.92918 -2048.68982\n",
      "  -1565.88782 -1454.84336  -860.9969      0.     ]]\n"
     ]
    }
   ],
   "source": [
    "pos = np.array([0, 198, 303, 736, 871, 1175, 1475, 1544, 1913, 2448])\n",
    "grid_2d = pos - pos.reshape(10,1)\n",
    "c_miles2km = 1.60934\n",
    "print(\"Grid:\\n\", grid_2d)\n",
    "print(\"\\nMiles to km:\\n\", grid_2d*c_miles2km)"
   ]
  },
  {
   "cell_type": "markdown",
   "metadata": {},
   "source": [
    "7\\. Prime numbers sieve: compute the prime numbers in the 0-N (N=99 to start with) range with a sieve (mask).\n",
    "  * Constract a shape (100,) boolean array, the mask\n",
    "  * Identify the multiples of each number starting from 2 and set accordingly the corresponding mask element\n",
    "  * Apply the mask to obtain an array of ordered prime numbers\n",
    "  * Check the performances (timeit); how does it scale with N?\n",
    "  * Implement the optimization suggested in the [sieve of Eratosthenes](https://en.wikipedia.org/wiki/Sieve_of_Eratosthenes)"
   ]
  },
  {
   "cell_type": "code",
   "execution_count": 16,
   "metadata": {},
   "outputs": [
    {
     "name": "stdout",
     "output_type": "stream",
     "text": [
      "[ True  True  True False  True False  True False False False  True False\n",
      "  True False False False  True False  True False False False  True False\n",
      " False False False False  True False  True False False False False False\n",
      "  True False False False  True False  True False False False  True False\n",
      " False False False False  True False False False False False  True False\n",
      "  True False False False False False  True False False False  True False\n",
      "  True False False False False False  True False False False  True False\n",
      " False False False False  True False False False False False False False\n",
      "  True False False False]\n",
      "None\n"
     ]
    }
   ],
   "source": [
    "N = 100\n",
    "def prime(N):\n",
    "    mat = np.ones((N,), dtype=bool)\n",
    "    num = np.array([n for n in range(1,N+1)])\n",
    "    for i in range( 2, int(N/2) ):\n",
    "        condition = ( num > i ) & ( num%i==0 )\n",
    "        mat[ condition ] = False\n",
    "\n",
    "def sieve_Er(N):\n",
    "    mat = np.ones((N,), dtype=bool)\n",
    "    num = np.array([n for n in range(1,N+1)])\n",
    "    for i in range( 2, math.ceil(N**0.5) - 1 ):\n",
    "        if(mat[i]):\n",
    "            for j in range(i**2,N-1):\n",
    "                mat[j] = False\n",
    "                \n",
    "print(prime(100))"
   ]
  },
  {
   "cell_type": "markdown",
   "metadata": {},
   "source": [
    "8\\. Diffusion using random walk\n",
    "\n",
    "Consider a simple random walk process: at each step in time, a walker jumps right or left (+1 or -1) with equal probability. The goal is to find the typical distance from the origin of a random walker after a given amount of time. \n",
    "To do that, let's simulate many walkers and create a 2D array with each walker as a raw and the actual time evolution as columns\n",
    "\n",
    "  * Take 1000 walkers and let them walk for 200 steps\n",
    "  * Use randint to create a 2D array of size walkers x steps with values -1 or 1\n",
    "  * Build the actual walking distances for each walker (i.e. another 2D array \"summing on each raw\")\n",
    "  * Take the square of that 2D array (elementwise)\n",
    "  * Compute the mean of the squared distances at each step (i.e. the mean along the columns)\n",
    "  * Plot the average distances (sqrt(distance\\*\\*2)) as a function of time (step)\n",
    "  \n",
    "Did you get what you expected?"
   ]
  },
  {
   "cell_type": "markdown",
   "metadata": {},
   "source": [
    "9\\. Analyze a data file \n",
    "  * Download the population of hares, lynxes and carrots at the beginning of the last century.\n",
    "    ```python\n",
    "    ! wget https://www.dropbox.com/s/3vigxoqayo389uc/populations.txt\n",
    "    ```\n",
    "\n",
    "  * Check the content by looking within the file\n",
    "  * Load the data (use an appropriate numpy method) into a 2D array\n",
    "  * Create arrays out of the columns, the arrays being (in order): *year*, *hares*, *lynxes*, *carrots* \n",
    "  * Plot the 3 populations over the years\n",
    "  * Compute the main statistical properties of the dataset (mean, std, correlations, etc.)\n",
    "  * Which species has the highest population each year?\n",
    "\n",
    "Do you feel there is some evident correlation here? [Studies](https://www.enr.gov.nt.ca/en/services/lynx/lynx-snowshoe-hare-cycle) tend to believe so."
   ]
  },
  {
   "cell_type": "code",
   "execution_count": null,
   "metadata": {},
   "outputs": [],
   "source": []
  }
 ],
 "metadata": {
  "kernelspec": {
   "display_name": "Python 3",
   "language": "python",
   "name": "python3"
  },
  "language_info": {
   "codemirror_mode": {
    "name": "ipython",
    "version": 3
   },
   "file_extension": ".py",
   "mimetype": "text/x-python",
   "name": "python",
   "nbconvert_exporter": "python",
   "pygments_lexer": "ipython3",
   "version": "3.7.0"
  }
 },
 "nbformat": 4,
 "nbformat_minor": 2
}
