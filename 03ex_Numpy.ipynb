{
 "cells": [
  {
   "cell_type": "code",
   "execution_count": null,
   "metadata": {},
   "outputs": [],
   "source": [
    "import numpy as np\n",
    "import math\n",
    "import matplotlib.pyplot as plt\n",
    "%matplotlib inline"
   ]
  },
  {
   "cell_type": "markdown",
   "metadata": {},
   "source": [
    "### Numpy basics"
   ]
  },
  {
   "cell_type": "markdown",
   "metadata": {},
   "source": [
    "1\\. Find the row, column and overall means for the following matrix:\n",
    "\n",
    "```python\n",
    "m = np.arange(12).reshape((3,4))\n",
    "```"
   ]
  },
  {
   "cell_type": "code",
   "execution_count": null,
   "metadata": {},
   "outputs": [],
   "source": [
    "m = np.arange(12).reshape((3,4))\n",
    "print(\"The matrix is: \\n\",m,\"\\n\")\n",
    "\n",
    "row_mean = np.mean(m,1);\n",
    "column_mean = np.mean(m,0);\n",
    "overall_mean = np.mean(m);\n",
    "print(\"Row means is:\",(row_mean))\n",
    "print(\"Column means is:\",(column_mean))\n",
    "print(\"Matrix mean is:\",(overall_mean))"
   ]
  },
  {
   "cell_type": "markdown",
   "metadata": {},
   "source": [
    "2\\. Find the outer product of the following two vecotrs\n",
    "\n",
    "```python\n",
    "u = np.array([1,3,5,7])\n",
    "v = np.array([2,4,6,8])\n",
    "```\n",
    "\n",
    "Do this in the following ways:\n",
    "\n",
    "   * Using the function outer in numpy\n",
    "   * Using a nested for loop or list comprehension\n",
    "   * Using numpy broadcasting operatoins\n"
   ]
  },
  {
   "cell_type": "code",
   "execution_count": null,
   "metadata": {},
   "outputs": [],
   "source": [
    "u = np.array([1,3,5,7])\n",
    "v = np.array([2,4,6,8])\n",
    "\n",
    "outernp = np.outer(u,v)\n",
    "print(\"Outer product using outer: \\n\",outernp,\"\\n\")\n",
    "\n",
    "outerlc = np.array([[i*j for i in v] for j in u])\n",
    "print(\"Outer product using lc: \\n\",outerlc,\"\\n\")\n",
    "\n",
    "outerbroad = u[:,None]*(v[:, None].T)\n",
    "print(\"Outer product using numpy broadcasting: \\n\",outerbroad,\"\\n\")"
   ]
  },
  {
   "cell_type": "markdown",
   "metadata": {},
   "source": [
    "3\\. Create a 10 by 6 matrix of random uniform numbers. Set all rows with any entry less than 0.1 to be zero\n",
    "\n",
    "Hint: Use the following numpy functions - np.random.random, np.any as well as Boolean indexing and the axis argument."
   ]
  },
  {
   "cell_type": "code",
   "execution_count": null,
   "metadata": {},
   "outputs": [],
   "source": [
    "random_mat = np.array([np.random.random() for i in range(60)]).reshape((10,6))\n",
    "random_mat[random_mat < 0.1] = 0\n",
    "print(random_mat)"
   ]
  },
  {
   "cell_type": "markdown",
   "metadata": {},
   "source": [
    "4\\. Use np.linspace to create an array of 100 numbers between 0 and 2π (includsive).\n",
    "\n",
    "  * Extract every 10th element using slice notation\n",
    "  * Reverse the array using slice notation\n",
    "  * Extract elements where the absolute difference between the sine and cosine functions evaluated at that element is less than 0.1\n",
    "  * Make a plot showing the sin and cos functions and indicate where they are close"
   ]
  },
  {
   "cell_type": "code",
   "execution_count": null,
   "metadata": {},
   "outputs": [],
   "source": [
    "vec = np.linspace(0, 2*math.pi, num=100)\n",
    "print(\"Original vector:\\n\",vec,\"\\n\")\n",
    "\n",
    "vec1 = vec[0:100:10]\n",
    "print(\"Extracted vector:\\n\",vec1,\"\\n\")\n",
    "\n",
    "vec2 = vec[::-1]\n",
    "print(\"Reversed vector:\\n\",vec2,\"\\n\")\n",
    "\n",
    "vec3 = [x for x in vec if math.fabs(math.sin(x) - math.cos(x)) < 0.1]\n",
    "print(\"Values with abs less than 0.1 vector:\\n\",vec3,\"\\n\")\n",
    "\n",
    "import matplotlib.pyplot as plt\n",
    "\n",
    "vecsin = [math.sin(x) for x in vec]\n",
    "veccos = [math.cos(x) for x in vec]\n",
    "\n",
    "plt.plot(vec, vecsin, label='sine')\n",
    "plt.plot(vec, veccos, label='cosine')\n",
    "plt.xlabel('angle [rad]')\n",
    "plt.legend(loc='lower left')\n",
    "plt.show()"
   ]
  },
  {
   "cell_type": "markdown",
   "metadata": {},
   "source": [
    "5\\. Create a matrix that shows the 10 by 10 multiplication table.\n",
    "\n",
    " * Find the trace of the matrix\n",
    " * Extract the anto-diagonal (this should be ```array([10, 18, 24, 28, 30, 30, 28, 24, 18, 10])```)\n",
    " * Extract the diagnoal offset by 1 upwards (this should be ```array([ 2,  6, 12, 20, 30, 42, 56, 72, 90])```)"
   ]
  },
  {
   "cell_type": "code",
   "execution_count": null,
   "metadata": {},
   "outputs": [],
   "source": [
    "u = np.array([x for x in range(1,11)])\n",
    "table = u[:,None]*(u[:, None].T)\n",
    "print(\"The multiplication matrix is: \\n\",table,\"\\n\")\n",
    "\n",
    "trace = np.trace(table)\n",
    "print(\"The trace is:\",trace,\"\\n\")\n",
    "\n",
    "antidiagonal = np.diagonal(np.fliplr(table))\n",
    "print(\"The antidiagonal is:\\n\",antidiagonal,\"\\n\")\n",
    "\n",
    "diagonal_off1 = np.diagonal(table, 1)\n",
    "print(\"The diagonal offset by 1 upwards is:\\n\",diagonal_off1,\"\\n\")"
   ]
  },
  {
   "cell_type": "markdown",
   "metadata": {},
   "source": [
    "6\\. Use broadcasting to create a grid of distances\n",
    "\n",
    "Route 66 crosses the following cities in the US: Chicago, Springfield, Saint-Louis, Tulsa, Oklahoma City, Amarillo, Santa Fe, Albuquerque, Flagstaff, Los Angeles\n",
    "The corresponding positions in miles are: 0, 198, 303, 736, 871, 1175, 1475, 1544, 1913, 2448\n",
    "\n",
    "  * Construct a 2D grid of distances among each city along Route 66\n",
    "  * Convert that in km (those savages...)"
   ]
  },
  {
   "cell_type": "code",
   "execution_count": null,
   "metadata": {},
   "outputs": [],
   "source": [
    "dist = np.array([0, 198, 303, 736, 871, 1175, 1475, 1554, 1913, 2448])\n",
    "grid_miles = np.absolute(dist[:,None]-(dist[:, None].T))\n",
    "print(\"The grid in miles is:\\n\",grid_miles,\"\\n\")\n",
    "\n",
    "grid_km = grid_miles*1.60934\n",
    "np.set_printoptions(precision=1)\n",
    "print(\"The grid in km is:\\n\",grid_km)\n"
   ]
  },
  {
   "cell_type": "markdown",
   "metadata": {},
   "source": [
    "7\\. Prime numbers sieve: compute the prime numbers in the 0-N (N=99 to start with) range with a sieve (mask).\n",
    "  * Constract a shape (100,) boolean array, the mask\n",
    "  * Identify the multiples of each number starting from 2 and set accordingly the corresponding mask element\n",
    "  * Apply the mask to obtain an array of ordered prime numbers\n",
    "  * Check the performances (timeit); how does it scale with N?\n",
    "  * Implement the optimization suggested in the [sieve of Eratosthenes](https://en.wikipedia.org/wiki/Sieve_of_Eratosthenes)"
   ]
  },
  {
   "cell_type": "code",
   "execution_count": null,
   "metadata": {},
   "outputs": [],
   "source": [
    "N = 100\n",
    "\n",
    "def primes_eratosthenes(N):\n",
    "    mask = np.zeros(N, dtype=bool)\n",
    "    numbers = np.array(range(N))\n",
    "    for i in range(2, int(math.sqrt(N))):\n",
    "        if mask[i] == False:\n",
    "            j = i**2;\n",
    "            while (j < N):\n",
    "                mask[j] = True;\n",
    "                j = j + i;\n",
    "    y = np.ma.array(numbers, mask = mask)\n",
    "    return y[~y.mask]\n",
    "\n",
    "\n",
    "print(\"The first\", N, \"prime numbers are:\\n\",primes_eratosthenes(N))\n",
    "\n",
    "for n in [10**i for i in np.arange(5)]:\n",
    "    %timeit primes_eratosthenes(n)"
   ]
  },
  {
   "cell_type": "code",
   "execution_count": null,
   "metadata": {},
   "outputs": [],
   "source": [
    "import random\n",
    "\n",
    "steps = 200\n",
    "walkers = 1000\n",
    "\n",
    "walk = np.array([random.choice([-1, 1]) for i in range(steps*walkers)]).reshape(walkers, steps)\n",
    "dist = np.cumsum(walk, axis=1)\n",
    "\n",
    "squared_dist = np.square(dist)\n",
    "mean_dist = np.mean(squared_dist, axis=0)\n",
    "\n",
    "plt.plot(range(steps), mean_dist)\n",
    "plt.xlabel('Steps')\n",
    "plt.ylabel('Mean distance')\n",
    "plt.show()"
   ]
  },
  {
   "cell_type": "markdown",
   "metadata": {},
   "source": [
    "9\\. Analyze a data file \n",
    "  * Download the population of hares, lynxes and carrots at the beginning of the last century.\n",
    "    ```python\n",
    "    ! wget https://www.dropbox.com/s/3vigxoqayo389uc/populations.txt\n",
    "    ```\n",
    "\n",
    "  * Check the content by looking within the file\n",
    "  * Load the data (use an appropriate numpy method) into a 2D array\n",
    "  * Create arrays out of the columns, the arrays being (in order): *year*, *hares*, *lynxes*, *carrots* \n",
    "  * Plot the 3 populations over the years\n",
    "  * Compute the main statistical properties of the dataset (mean, std, correlations, etc.)\n",
    "  * Which species has the highest population each year?\n",
    "\n",
    "Do you feel there is some evident correlation here? [Studies](https://www.enr.gov.nt.ca/en/services/lynx/lynx-snowshoe-hare-cycle) tend to believe so."
   ]
  },
  {
   "cell_type": "code",
   "execution_count": null,
   "metadata": {},
   "outputs": [],
   "source": [
    "!rm populations.txt\n",
    "\n",
    "!wget https://www.dropbox.com/s/3vigxoqayo389uc/populations.txt"
   ]
  },
  {
   "cell_type": "code",
   "execution_count": null,
   "metadata": {},
   "outputs": [],
   "source": [
    "data = np.loadtxt('populations.txt')\n",
    "years, hares, lynxes, carrots = data.T # trick: columns to variables\n",
    "\n",
    "plt.axes([0.2, 0.1, 0.5, 0.8]) \n",
    "plt.plot(year, hares, year, lynxes, year, carrots) \n",
    "plt.legend(('Hare', 'Lynx', 'Carrot'), loc=(1.05, 0.5))\n",
    "\n",
    "dic = {'Hares':hares, 'Lynxes':lynxes, 'Carrots':carrots}\n",
    "for key in dic:\n",
    "    print(key)\n",
    "    for function in ['sum','min','max','mean','median','std']:\n",
    "        print (function, getattr(np, function)(dic[key]))\n",
    "    print('\\n')\n",
    "mask_hares = np.logical_and(hares > lynxes, hares > carrots)\n",
    "mask_lynxes = np.logical_and(lynxes > hares, lynxes > carrots)\n",
    "mask_carrots = np.logical_and(carrots > lynxes, carrots > hares)\n",
    "\n",
    "plt.figure()\n",
    "plt.plot( years[mask_hares],hares[mask_hares], 'ro',  years[mask_lynxes],lynxes[mask_lynxes],\n",
    "         'bo', years[mask_carrots],carrots[mask_carrots],'go')\n",
    "plt.show()"
   ]
  },
  {
   "cell_type": "code",
   "execution_count": null,
   "metadata": {},
   "outputs": [],
   "source": []
  }
 ],
 "metadata": {
  "kernelspec": {
   "display_name": "Python 3",
   "language": "python",
   "name": "python3"
  },
  "language_info": {
   "codemirror_mode": {
    "name": "ipython",
    "version": 3
   },
   "file_extension": ".py",
   "mimetype": "text/x-python",
   "name": "python",
   "nbconvert_exporter": "python",
   "pygments_lexer": "ipython3",
   "version": "3.7.1"
  }
 },
 "nbformat": 4,
 "nbformat_minor": 2
}
