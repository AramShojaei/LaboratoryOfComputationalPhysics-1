{
 "cells": [
  {
   "cell_type": "markdown",
   "metadata": {},
   "source": [
    "### Numpy basics"
   ]
  },
  {
   "cell_type": "markdown",
   "metadata": {},
   "source": [
    "1\\. Find the row, column and overall means for the following matrix:\n",
    "\n",
    "```python\n",
    "m = np.arange(12).reshape((3,4))\n",
    "```"
   ]
  },
  {
   "cell_type": "code",
   "execution_count": 3,
   "metadata": {},
   "outputs": [
    {
     "name": "stdout",
     "output_type": "stream",
     "text": [
      "the column mean is  [ 4.  5.  6.  7.] \n",
      "\n",
      "the row mean is  [ 1.5  5.5  9.5] \n",
      "\n",
      "the overall mean is  5.5 \n",
      "\n"
     ]
    }
   ],
   "source": [
    "import numpy as np\n",
    "m = np.arange(12).reshape((3,4))\n",
    "c_mean= np.mean(m, axis=0)\n",
    "print(\"the column mean is \", c_mean,'\\n')\n",
    "r_mean= np.mean(m, axis=1)\n",
    "print(\"the row mean is \", r_mean,'\\n')\n",
    "mean_all=np.mean(m)\n",
    "print(\"the overall mean is \", mean_all,'\\n')"
   ]
  },
  {
   "cell_type": "markdown",
   "metadata": {},
   "source": [
    "2\\. Find the outer product of the following two vecotrs\n",
    "\n",
    "```python\n",
    "u = np.array([1,3,5,7])\n",
    "v = np.array([2,4,6,8])\n",
    "```\n",
    "\n",
    "Do this in the following ways:\n",
    "\n",
    "   * Using the function outer in numpy\n",
    "   * Using a nested for loop or list comprehension\n",
    "   * Using numpy broadcasting operatoins\n"
   ]
  },
  {
   "cell_type": "code",
   "execution_count": 16,
   "metadata": {},
   "outputs": [
    {
     "name": "stdout",
     "output_type": "stream",
     "text": [
      "The outer product is [[ 2  4  6  8]\n",
      " [ 6 12 18 24]\n",
      " [10 20 30 40]\n",
      " [14 28 42 56]] \n",
      "\n",
      "[[  2.   4.   6.   8.]\n",
      " [  6.  12.  18.  24.]\n",
      " [ 10.  20.  30.  40.]\n",
      " [ 14.  28.  42.  56.]] \n",
      "\n",
      "[[  2.   4.   6.   8.]\n",
      " [  6.  12.  18.  24.]\n",
      " [ 10.  20.  30.  40.]\n",
      " [ 14.  28.  42.  56.]] \n",
      "\n"
     ]
    }
   ],
   "source": [
    "u = np.array([1,3,5,7])\n",
    "v = np.array([2,4,6,8])\n",
    "\n",
    "#using outer in numpy\n",
    "outer_np=np.outer(u,v)\n",
    "print('The outer product is', outer_np,'\\n')\n",
    "#using a loop\n",
    "\n",
    "M=np.zeros((len(u),len(v)))\n",
    "for i in range(0,len(u)):\n",
    "    for j in range(0,len(v)):\n",
    "        M[i,j]=u[i]*v[j]\n",
    "print(M,'\\n')\n",
    "#Using broadcasting operations\n",
    "M1=np.zeros((len(u),len(v)))\n",
    "for i in range(len(v)):\n",
    "    M1[:,i]=u*v[i]\n",
    "print(M1,'\\n')\n"
   ]
  },
  {
   "cell_type": "markdown",
   "metadata": {},
   "source": [
    "3\\. Create a 10 by 6 matrix of random uniform numbers. Set all rows with any entry less than 0.1 to be zero\n",
    "\n",
    "Hint: Use the following numpy functions - np.random.random, np.any as well as Boolean indexing and the axis argument."
   ]
  },
  {
   "cell_type": "code",
   "execution_count": 49,
   "metadata": {},
   "outputs": [
    {
     "name": "stdout",
     "output_type": "stream",
     "text": [
      "[[ 0.29746565  0.17223886  0.17265378  0.39250456  0.18492499  0.30639422]\n",
      " [ 0.21236659  0.31859145  0.79156421  0.23575399  0.17651959  0.97740265]\n",
      " [ 0.86851119  0.78040917  0.06449928  0.01720951  0.37064389  0.40147865]\n",
      " [ 0.11998033  0.14116626  0.21676708  0.71465243  0.67750816  0.38195938]\n",
      " [ 0.27570453  0.19832742  0.32988477  0.429001    0.13426749  0.31296992]\n",
      " [ 0.00476038  0.49446516  0.50613149  0.71669287  0.1622086   0.05736266]\n",
      " [ 0.33775913  0.39927001  0.81484887  0.58409956  0.72614584  0.70061853]\n",
      " [ 0.16711472  0.11472057  0.92276396  0.98281939  0.26211849  0.34470655]\n",
      " [ 0.04458757  0.30915546  0.01793436  0.72605951  0.37800899  0.91018279]\n",
      " [ 0.53639772  0.34758919  0.94011368  0.09054232  0.81258967  0.83474153]] \n",
      "\n",
      "[False False  True False False  True False False  True  True] \n",
      "\n",
      "[[ 0.29746565  0.17223886  0.17265378  0.39250456  0.18492499  0.30639422]\n",
      " [ 0.21236659  0.31859145  0.79156421  0.23575399  0.17651959  0.97740265]\n",
      " [ 0.          0.          0.          0.          0.          0.        ]\n",
      " [ 0.11998033  0.14116626  0.21676708  0.71465243  0.67750816  0.38195938]\n",
      " [ 0.27570453  0.19832742  0.32988477  0.429001    0.13426749  0.31296992]\n",
      " [ 0.          0.          0.          0.          0.          0.        ]\n",
      " [ 0.33775913  0.39927001  0.81484887  0.58409956  0.72614584  0.70061853]\n",
      " [ 0.16711472  0.11472057  0.92276396  0.98281939  0.26211849  0.34470655]\n",
      " [ 0.          0.          0.          0.          0.          0.        ]\n",
      " [ 0.          0.          0.          0.          0.          0.        ]]\n"
     ]
    }
   ],
   "source": [
    "\n",
    "a=np.random.random((10,6))\n",
    "print(a,'\\n')\n",
    "mask=np.any(a<0.1, axis=1)\n",
    "print(mask,'\\n')\n",
    "a[mask]=0\n",
    "print(a)\n"
   ]
  },
  {
   "cell_type": "markdown",
   "metadata": {},
   "source": [
    "4\\. Use np.linspace to create an array of 100 numbers between 0 and 2π (includsive).\n",
    "\n",
    "  * Extract every 10th element using slice notation\n",
    "  * Reverse the array using slice notation\n",
    "  * Extract elements where the absolute difference between the sine and cosine functions evaluated at that element is less than 0.1\n",
    "  * Make a plot showing the sin and cos functions and indicate where they are close"
   ]
  },
  {
   "cell_type": "code",
   "execution_count": 72,
   "metadata": {},
   "outputs": [
    {
     "name": "stdout",
     "output_type": "stream",
     "text": [
      "[ 0.03365503  0.0560823   0.07849545  0.01121928]\n"
     ]
    },
    {
     "data": {
      "text/plain": [
       "[<matplotlib.lines.Line2D at 0x7f273a234e80>]"
      ]
     },
     "execution_count": 72,
     "metadata": {},
     "output_type": "execute_result"
    },
    {
     "data": {
      "image/png": "[encoded data removed]",
      "text/plain": [
       "<matplotlib.figure.Figure at 0x7f273a188fd0>"
      ]
     },
     "metadata": {},
     "output_type": "display_data"
    }
   ],
   "source": [
    "nb = np.linspace(0, 2*np.pi, 100)\n",
    "#print(nb,'\\n')\n",
    "step10=nb[9::10]\n",
    "#print(step10,'\\n')\n",
    "reversed_nb=nb[::-1]\n",
    "#print(reversed_nb,'\\n')\n",
    "\n",
    "M=np.absolute(np.cos(nb)-np.sin(nb))\n",
    "mask=(M<0.1)\n",
    "el=M[mask]\n",
    "print(el)\n",
    "\n",
    "idx=np.where(M<0.1)\n",
    "\n",
    "import matplotlib.pyplot as plt # everybody imports it that way\n",
    "\n",
    "%matplotlib inline\n",
    "ys=np.sin(nb)\n",
    "yc=np.cos(nb)\n",
    "points=np.sin(nb[idx])\n",
    "plt.plot(nb,ys)\n",
    "plt.plot(nb,yc)\n",
    "plt.plot(points,'ro')\n"
   ]
  },
  {
   "cell_type": "markdown",
   "metadata": {},
   "source": [
    "5\\. Create a matrix that shows the 10 by 10 multiplication table.\n",
    "\n",
    " * Find the trace of the matrix\n",
    " * Extract the anto-diagonal (this should be ```array([10, 18, 24, 28, 30, 30, 28, 24, 18, 10])```)\n",
    " * Extract the diagnoal offset by 1 upwards (this should be ```array([ 2,  6, 12, 20, 30, 42, 56, 72, 90])```)"
   ]
  },
  {
   "cell_type": "markdown",
   "metadata": {},
   "source": [
    "6\\. Use broadcasting to create a grid of distances\n",
    "\n",
    "Route 66 crosses the following cities in the US: Chicago, Springfield, Saint-Louis, Tulsa, Oklahoma City, Amarillo, Santa Fe, Albuquerque, Flagstaff, Los Angeles\n",
    "The corresponding positions in miles are: 0, 198, 303, 736, 871, 1175, 1475, 1544, 1913, 2448\n",
    "\n",
    "  * Construct a 2D grid of distances among each city along Route 66\n",
    "  * Convert that in km (those savages...)"
   ]
  },
  {
   "cell_type": "markdown",
   "metadata": {},
   "source": [
    "7\\. Prime numbers sieve: compute the prime numbers in the 0-N (N=99 to start with) range with a sieve (mask).\n",
    "  * Constract a shape (100,) boolean array, the mask\n",
    "  * Identify the multiples of each number starting from 2 and set accordingly the corresponding mask element\n",
    "  * Apply the mask to obtain an array of ordered prime numbers\n",
    "  * Check the performances (timeit); how does it scale with N?\n",
    "  * Implement the optimization suggested in the [sieve of Eratosthenes](https://en.wikipedia.org/wiki/Sieve_of_Eratosthenes)"
   ]
  },
  {
   "cell_type": "markdown",
   "metadata": {},
   "source": [
    "8\\. Diffusion using random walk\n",
    "\n",
    "Consider a simple random walk process: at each step in time, a walker jumps right or left (+1 or -1) with equal probability. The goal is to find the typical distance from the origin of a random walker after a given amount of time. \n",
    "To do that, let's simulate many walkers and create a 2D array with each walker as a raw and the actual time evolution as columns\n",
    "\n",
    "  * Take 1000 walkers and let them walk for 200 steps\n",
    "  * Use randint to create a 2D array of size walkers x steps with values -1 or 1\n",
    "  * Build the actual walking distances for each walker (i.e. another 2D array \"summing on each raw\")\n",
    "  * Take the square of that 2D array (elementwise)\n",
    "  * Compute the mean of the squared distances at each step (i.e. the mean along the columns)\n",
    "  * Plot the average distances (sqrt(distance\\*\\*2)) as a function of time (step)\n",
    "  \n",
    "Did you get what you expected?"
   ]
  },
  {
   "cell_type": "markdown",
   "metadata": {},
   "source": [
    "9\\. Analyze a data file \n",
    "  * Download the population of hares, lynxes and carrots at the beginning of the last century.\n",
    "    ```python\n",
    "    ! wget https://www.dropbox.com/s/3vigxoqayo389uc/populations.txt\n",
    "    ```\n",
    "\n",
    "  * Check the content by looking within the file\n",
    "  * Load the data (use an appropriate numpy method) into a 2D array\n",
    "  * Create arrays out of the columns, the arrays being (in order): *year*, *hares*, *lynxes*, *carrots* \n",
    "  * Plot the 3 populations over the years\n",
    "  * Compute the main statistical properties of the dataset (mean, std, correlations, etc.)\n",
    "  * Which species has the highest population each year?\n",
    "\n",
    "Do you feel there is some evident correlation here? [Studies](https://www.enr.gov.nt.ca/en/services/lynx/lynx-snowshoe-hare-cycle) tend to believe so."
   ]
  },
  {
   "cell_type": "code",
   "execution_count": null,
   "metadata": {
    "collapsed": true
   },
   "outputs": [],
   "source": []
  }
 ],
 "metadata": {
  "kernelspec": {
   "display_name": "Python 3",
   "language": "python",
   "name": "python3"
  },
  "language_info": {
   "codemirror_mode": {
    "name": "ipython",
    "version": 3
   },
   "file_extension": ".py",
   "mimetype": "text/x-python",
   "name": "python",
   "nbconvert_exporter": "python",
   "pygments_lexer": "ipython3",
   "version": "3.6.3"
  }
 },
 "nbformat": 4,
 "nbformat_minor": 2
}
