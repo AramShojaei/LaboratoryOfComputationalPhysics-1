{
 "cells": [
  {
   "cell_type": "markdown",
   "metadata": {},
   "source": [
    "### Numpy basics"
   ]
  },
  {
   "cell_type": "markdown",
   "metadata": {},
   "source": [
    "1\\. Find the row, column and overall means for the following matrix:\n",
    "\n",
    "```python\n",
    "m = np.arange(12).reshape((3,4))\n",
    "```"
   ]
  },
  {
   "cell_type": "code",
   "execution_count": 1,
   "metadata": {},
   "outputs": [
    {
     "name": "stdout",
     "output_type": "stream",
     "text": [
      "the column mean is  [4. 5. 6. 7.] \n",
      "\n",
      "the row mean is  [1.5 5.5 9.5] \n",
      "\n",
      "the overall mean is  5.5 \n",
      "\n"
     ]
    }
   ],
   "source": [
    "import numpy as np\n",
    "m = np.arange(12).reshape((3,4))\n",
    "c_mean= np.mean(m, axis=0)\n",
    "print(\"the column mean is \", c_mean,'\\n')\n",
    "r_mean= np.mean(m, axis=1)\n",
    "print(\"the row mean is \", r_mean,'\\n')\n",
    "mean_all=np.mean(m)\n",
    "print(\"the overall mean is \", mean_all,'\\n')"
   ]
  },
  {
   "cell_type": "markdown",
   "metadata": {},
   "source": [
    "2\\. Find the outer product of the following two vecotrs\n",
    "\n",
    "```python\n",
    "u = np.array([1,3,5,7])\n",
    "v = np.array([2,4,6,8])\n",
    "```\n",
    "\n",
    "Do this in the following ways:\n",
    "\n",
    "   * Using the function outer in numpy\n",
    "   * Using a nested for loop or list comprehension\n",
    "   * Using numpy broadcasting operatoins\n"
   ]
  },
  {
   "cell_type": "code",
   "execution_count": 2,
   "metadata": {},
   "outputs": [
    {
     "name": "stdout",
     "output_type": "stream",
     "text": [
      "The outer product is [[ 2  4  6  8]\n",
      " [ 6 12 18 24]\n",
      " [10 20 30 40]\n",
      " [14 28 42 56]] \n",
      "\n",
      "[[ 2.  4.  6.  8.]\n",
      " [ 6. 12. 18. 24.]\n",
      " [10. 20. 30. 40.]\n",
      " [14. 28. 42. 56.]] \n",
      "\n",
      "[[ 2.  4.  6.  8.]\n",
      " [ 6. 12. 18. 24.]\n",
      " [10. 20. 30. 40.]\n",
      " [14. 28. 42. 56.]] \n",
      "\n"
     ]
    }
   ],
   "source": [
    "u = np.array([1,3,5,7])\n",
    "v = np.array([2,4,6,8])\n",
    "\n",
    "#using outer in numpy\n",
    "outer_np=np.outer(u,v)\n",
    "print('The outer product is', outer_np,'\\n')\n",
    "#using a loop\n",
    "\n",
    "M=np.zeros((len(u),len(v)))\n",
    "for i in range(0,len(u)):\n",
    "    for j in range(0,len(v)):\n",
    "        M[i,j]=u[i]*v[j]\n",
    "print(M,'\\n')\n",
    "#Using broadcasting operations\n",
    "M1=np.zeros((len(u),len(v)))\n",
    "for i in range(len(v)):\n",
    "    M1[:,i]=u*v[i]\n",
    "print(M1,'\\n')\n"
   ]
  },
  {
   "cell_type": "markdown",
   "metadata": {},
   "source": [
    "3\\. Create a 10 by 6 matrix of random uniform numbers. Set all rows with any entry less than 0.1 to be zero\n",
    "\n",
    "Hint: Use the following numpy functions - np.random.random, np.any as well as Boolean indexing and the axis argument."
   ]
  },
  {
   "cell_type": "code",
   "execution_count": 3,
   "metadata": {},
   "outputs": [
    {
     "name": "stdout",
     "output_type": "stream",
     "text": [
      "[[0.22442175 0.21790518 0.3845307  0.10857251 0.0135491  0.54389793]\n",
      " [0.11692111 0.00622505 0.54819107 0.50549333 0.78149033 0.38294445]\n",
      " [0.8229614  0.48983658 0.24709879 0.43931197 0.78608569 0.64123739]\n",
      " [0.53391883 0.1586694  0.24503321 0.19685909 0.59713917 0.32169909]\n",
      " [0.12404218 0.75192881 0.75665282 0.82954212 0.52827968 0.83908337]\n",
      " [0.28517365 0.89793449 0.19495956 0.78956912 0.03098622 0.69911985]\n",
      " [0.36506923 0.41544381 0.29759103 0.6745311  0.58319072 0.27411102]\n",
      " [0.71477024 0.75024388 0.59381595 0.04178594 0.35076503 0.16248238]\n",
      " [0.46558112 0.37197765 0.7512617  0.94328497 0.80598101 0.44348632]\n",
      " [0.86501168 0.1015579  0.66090141 0.98607869 0.08969454 0.1916976 ]] \n",
      "\n",
      "[ True  True False False False  True False  True False  True] \n",
      "\n",
      "[[0.         0.         0.         0.         0.         0.        ]\n",
      " [0.         0.         0.         0.         0.         0.        ]\n",
      " [0.8229614  0.48983658 0.24709879 0.43931197 0.78608569 0.64123739]\n",
      " [0.53391883 0.1586694  0.24503321 0.19685909 0.59713917 0.32169909]\n",
      " [0.12404218 0.75192881 0.75665282 0.82954212 0.52827968 0.83908337]\n",
      " [0.         0.         0.         0.         0.         0.        ]\n",
      " [0.36506923 0.41544381 0.29759103 0.6745311  0.58319072 0.27411102]\n",
      " [0.         0.         0.         0.         0.         0.        ]\n",
      " [0.46558112 0.37197765 0.7512617  0.94328497 0.80598101 0.44348632]\n",
      " [0.         0.         0.         0.         0.         0.        ]]\n"
     ]
    }
   ],
   "source": [
    "\n",
    "a=np.random.random((10,6))\n",
    "print(a,'\\n')\n",
    "mask=np.any(a<0.1, axis=1)\n",
    "print(mask,'\\n')\n",
    "a[mask]=0\n",
    "print(a)\n"
   ]
  },
  {
   "cell_type": "markdown",
   "metadata": {},
   "source": [
    "4\\. Use np.linspace to create an array of 100 numbers between 0 and 2π (includsive).\n",
    "\n",
    "  * Extract every 10th element using slice notation\n",
    "  * Reverse the array using slice notation\n",
    "  * Extract elements where the absolute difference between the sine and cosine functions evaluated at that element is less than 0.1\n",
    "  * Make a plot showing the sin and cos functions and indicate where they are close"
   ]
  },
  {
   "cell_type": "code",
   "execution_count": 4,
   "metadata": {},
   "outputs": [
    {
     "name": "stdout",
     "output_type": "stream",
     "text": [
      "[0.03365503 0.0560823  0.07849545 0.01121928]\n",
      "(array([12, 13, 61, 62], dtype=int64),)\n"
     ]
    },
    {
     "data": {
      "text/plain": [
       "[<matplotlib.lines.Line2D at 0x1e956c78c18>]"
      ]
     },
     "execution_count": 4,
     "metadata": {},
     "output_type": "execute_result"
    },
    {
     "data": {
      "image/png": "[encoded data removed]",
      "text/plain": [
       "<Figure size 432x288 with 1 Axes>"
      ]
     },
     "metadata": {
      "needs_background": "light"
     },
     "output_type": "display_data"
    }
   ],
   "source": [
    "nb = np.linspace(0, 2*np.pi, 100)\n",
    "#print(nb,'\\n')\n",
    "step10=nb[9::10]\n",
    "#print(step10,'\\n')\n",
    "reversed_nb=nb[::-1]\n",
    "#print(reversed_nb,'\\n')\n",
    "\n",
    "M=np.absolute(np.cos(nb)-np.sin(nb))\n",
    "mask=(M<0.1)\n",
    "el=M[mask]\n",
    "print(el)\n",
    "\n",
    "idx=np.where(M<0.1)\n",
    "print(idx)\n",
    "\n",
    "import matplotlib.pyplot as plt # everybody imports it that way\n",
    "\n",
    "%matplotlib inline\n",
    "ys=np.sin(nb)\n",
    "yc=np.cos(nb)\n",
    "points=np.cos(nb[idx])\n",
    "plt.plot(nb,ys)\n",
    "plt.plot(nb,yc)\n",
    "plt.plot(nb[idx],points,'ro')\n"
   ]
  },
  {
   "cell_type": "markdown",
   "metadata": {},
   "source": [
    "5\\. Create a matrix that shows the 10 by 10 multiplication table.\n",
    "\n",
    " * Find the trace of the matrix\n",
    " * Extract the anto-diagonal (this should be ```array([10, 18, 24, 28, 30, 30, 28, 24, 18, 10])```)\n",
    " * Extract the diagnoal offset by 1 upwards (this should be ```array([ 2,  6, 12, 20, 30, 42, 56, 72, 90])```)"
   ]
  },
  {
   "cell_type": "code",
   "execution_count": 10,
   "metadata": {},
   "outputs": [
    {
     "name": "stdout",
     "output_type": "stream",
     "text": [
      "Trace: 385.0 \n",
      "\n",
      "antiDiagonal [10. 18. 24. 28. 30. 30. 28. 24. 18. 10.]\n",
      "diagonal offset by 1 [ 2.  6. 12. 20. 30. 42. 56. 72. 90.]\n"
     ]
    }
   ],
   "source": [
    "M=np.zeros((10,10))\n",
    "for i in range(10):\n",
    "    for j in range (10):\n",
    "        M[i,j]=(i+1)*(j+1)\n",
    "t=np.matrix.trace(M)\n",
    "print('Trace:',t,'\\n')\n",
    "d=np.diag(M[::-1])\n",
    "print('antiDiagonal',d)\n",
    "d1=np.diag(M,k=1)\n",
    "print('diagonal offset by 1',d1)\n"
   ]
  },
  {
   "cell_type": "markdown",
   "metadata": {},
   "source": [
    "6\\. Use broadcasting to create a grid of distances\n",
    "\n",
    "Route 66 crosses the following cities in the US: Chicago, Springfield, Saint-Louis, Tulsa, Oklahoma City, Amarillo, Santa Fe, Albuquerque, Flagstaff, Los Angeles\n",
    "The corresponding positions in miles are: 0, 198, 303, 736, 871, 1175, 1475, 1544, 1913, 2448\n",
    "\n",
    "  * Construct a 2D grid of distances among each city along Route 66\n",
    "  * Convert that in km (those savages...)"
   ]
  },
  {
   "cell_type": "code",
   "execution_count": 6,
   "metadata": {},
   "outputs": [
    {
     "name": "stdout",
     "output_type": "stream",
     "text": [
      "2D distance grid in mile \n",
      " [[   0  198  303  736  871 1175 1475 1544 1913 2448]\n",
      " [ 198    0  105  538  673  977 1277 1346 1715 2250]\n",
      " [ 303  105    0  433  568  872 1172 1241 1610 2145]\n",
      " [ 736  538  433    0  135  439  739  808 1177 1712]\n",
      " [ 871  673  568  135    0  304  604  673 1042 1577]\n",
      " [1175  977  872  439  304    0  300  369  738 1273]\n",
      " [1475 1277 1172  739  604  300    0   69  438  973]\n",
      " [1544 1346 1241  808  673  369   69    0  369  904]\n",
      " [1913 1715 1610 1177 1042  738  438  369    0  535]\n",
      " [2448 2250 2145 1712 1577 1273  973  904  535    0]] \n",
      "\n",
      "2D distance grid in km \n",
      " [[   0.       318.64932  487.63002 1184.47424 1401.73514 1890.9745\n",
      "  2373.7765  2484.82096 3078.66742 3939.66432]\n",
      " [ 318.64932    0.       168.9807   865.82492 1083.08582 1572.32518\n",
      "  2055.12718 2166.17164 2760.0181  3621.015  ]\n",
      " [ 487.63002  168.9807     0.       696.84422  914.10512 1403.34448\n",
      "  1886.14648 1997.19094 2591.0374  3452.0343 ]\n",
      " [1184.47424  865.82492  696.84422    0.       217.2609   706.50026\n",
      "  1189.30226 1300.34672 1894.19318 2755.19008]\n",
      " [1401.73514 1083.08582  914.10512  217.2609     0.       489.23936\n",
      "   972.04136 1083.08582 1676.93228 2537.92918]\n",
      " [1890.9745  1572.32518 1403.34448  706.50026  489.23936    0.\n",
      "   482.802    593.84646 1187.69292 2048.68982]\n",
      " [2373.7765  2055.12718 1886.14648 1189.30226  972.04136  482.802\n",
      "     0.       111.04446  704.89092 1565.88782]\n",
      " [2484.82096 2166.17164 1997.19094 1300.34672 1083.08582  593.84646\n",
      "   111.04446    0.       593.84646 1454.84336]\n",
      " [3078.66742 2760.0181  2591.0374  1894.19318 1676.93228 1187.69292\n",
      "   704.89092  593.84646    0.       860.9969 ]\n",
      " [3939.66432 3621.015   3452.0343  2755.19008 2537.92918 2048.68982\n",
      "  1565.88782 1454.84336  860.9969     0.     ]]\n"
     ]
    }
   ],
   "source": [
    "cities = np.array(['Chicago', 'Springfield', 'Saint-Louis', 'Tulsa', 'Oklahoma City', 'Amarillo', 'Santa Fe', \n",
    "'Albuquerque', 'Flagstaff', 'Los Angeles'])\n",
    "dist=np.array([0, 198, 303, 736, 871, 1175, 1475, 1544, 1913, 2448]).reshape((-1,1))\n",
    "TDgrid_mile = abs(dist - dist.T)\n",
    "print('2D distance grid in mile \\n',TDgrid_mile,'\\n')\n",
    "TDgrid_km=TDgrid_mile*1.60934\n",
    "print('2D distance grid in km \\n',TDgrid_km)"
   ]
  },
  {
   "cell_type": "markdown",
   "metadata": {},
   "source": [
    "7\\. Prime numbers sieve: compute the prime numbers in the 0-N (N=99 to start with) range with a sieve (mask).\n",
    "  * Constract a shape (100,) boolean array, the mask\n",
    "  * Identify the multiples of each number starting from 2 and set accordingly the corresponding mask element\n",
    "  * Apply the mask to obtain an array of ordered prime numbers\n",
    "  * Check the performances (timeit); how does it scale with N?\n",
    "  * Implement the optimization suggested in the [sieve of Eratosthenes](https://en.wikipedia.org/wiki/Sieve_of_Eratosthenes)"
   ]
  },
  {
   "cell_type": "code",
   "execution_count": 11,
   "metadata": {},
   "outputs": [
    {
     "name": "stdout",
     "output_type": "stream",
     "text": [
      "[ 2  3  5  7 11 13 17 19 23 29 31 37 41 43 47 53 59 61 67 71 73 79 83 89\n",
      " 97]\n",
      "150 µs ± 8.91 µs per loop (mean ± std. dev. of 7 runs, 10000 loops each)\n",
      "27.5 µs ± 2.33 µs per loop (mean ± std. dev. of 7 runs, 10000 loops each)\n",
      "1.46 ms ± 63.1 µs per loop (mean ± std. dev. of 7 runs, 1000 loops each)\n",
      "184 µs ± 2.92 µs per loop (mean ± std. dev. of 7 runs, 10000 loops each)\n",
      "14.4 ms ± 293 µs per loop (mean ± std. dev. of 7 runs, 100 loops each)\n",
      "2.01 ms ± 419 µs per loop (mean ± std. dev. of 7 runs, 1000 loops each)\n",
      "152 ms ± 12.6 ms per loop (mean ± std. dev. of 7 runs, 10 loops each)\n",
      "29.7 ms ± 4.92 ms per loop (mean ± std. dev. of 7 runs, 100 loops each)\n"
     ]
    }
   ],
   "source": [
    "from math import sqrt\n",
    "N=100\n",
    "\n",
    "def prime_num(N):\n",
    "    mask=np.ones((N,),dtype=bool)\n",
    "    mask[0]=False\n",
    "    mask[1]=False\n",
    "    for i in range(N):\n",
    "        if mask[i]==True:\n",
    "            for j in range(2*i,N,i):\n",
    "                mask[j]=False\n",
    "    L=np.where(mask)[0]\n",
    "    return L\n",
    "print(prime_num(N))\n",
    "\n",
    "\n",
    "def prime_sieve(N):\n",
    "    mask=np.ones((N,),dtype=bool)\n",
    "    mask[0]=False\n",
    "    mask[1]=False\n",
    "    for i in range(int(sqrt(N))):\n",
    "        if mask[i]==True:\n",
    "            for j in range(i**2,N,i):\n",
    "                mask[j]=False\n",
    "    L=np.where(mask)[0]\n",
    "    return(L)\n",
    "\n",
    "%timeit prime_num(N) \n",
    "%timeit prime_sieve(N) \n",
    "%timeit  prime_num(10*N) \n",
    "%timeit prime_sieve(10*N) \n",
    "%timeit  prime_num(100*N)\n",
    "%timeit prime_sieve(100*N)\n",
    "%timeit  prime_num(1000*N)\n",
    "%timeit prime_sieve(1000*N)"
   ]
  },
  {
   "cell_type": "markdown",
   "metadata": {},
   "source": [
    "8\\. Diffusion using random walk\n",
    "\n",
    "Consider a simple random walk process: at each step in time, a walker jumps right or left (+1 or -1) with equal probability. The goal is to find the typical distance from the origin of a random walker after a given amount of time. \n",
    "To do that, let's simulate many walkers and create a 2D array with each walker as a raw and the actual time evolution as columns\n",
    "\n",
    "  * Take 1000 walkers and let them walk for 200 steps\n",
    "  * Use randint to create a 2D array of size walkers x steps with values -1 or 1\n",
    "  * Build the actual walking distances for each walker (i.e. another 2D array \"summing on each raw\")\n",
    "  * Take the square of that 2D array (elementwise)\n",
    "  * Compute the mean of the squared distances at each step (i.e. the mean along the columns)\n",
    "  * Plot the average distances (sqrt(distance\\*\\*2)) as a function of time (step)\n",
    "  \n",
    "Did you get what you expected?"
   ]
  },
  {
   "cell_type": "code",
   "execution_count": 8,
   "metadata": {},
   "outputs": [],
   "source": [
    "M=np.random.randint(-1,1,size=(1000,200))"
   ]
  },
  {
   "cell_type": "markdown",
   "metadata": {},
   "source": [
    "9\\. Analyze a data file \n",
    "  * Download the population of hares, lynxes and carrots at the beginning of the last century.\n",
    "    ```python\n",
    "    ! wget https://www.dropbox.com/s/3vigxoqayo389uc/populations.txt\n",
    "    ```\n",
    "\n",
    "  * Check the content by looking within the file\n",
    "  * Load the data (use an appropriate numpy method) into a 2D array\n",
    "  * Create arrays out of the columns, the arrays being (in order): *year*, *hares*, *lynxes*, *carrots* \n",
    "  * Plot the 3 populations over the years\n",
    "  * Compute the main statistical properties of the dataset (mean, std, correlations, etc.)\n",
    "  * Which species has the highest population each year?\n",
    "\n",
    "Do you feel there is some evident correlation here? [Studies](https://www.enr.gov.nt.ca/en/services/lynx/lynx-snowshoe-hare-cycle) tend to believe so."
   ]
  },
  {
   "cell_type": "code",
   "execution_count": 9,
   "metadata": {},
   "outputs": [
    {
     "data": {
      "image/png": "[encoded data removed]",
      "text/plain": [
       "<Figure size 432x288 with 1 Axes>"
      ]
     },
     "metadata": {
      "needs_background": "light"
     },
     "output_type": "display_data"
    },
    {
     "name": "stdout",
     "output_type": "stream",
     "text": [
      "Hares: DescribeResult(nobs=21, minmax=(7600.0, 77400.0), mean=34080.95238095238, variance=458558619.04761904, skewness=0.8707926603586706, kurtosis=-0.4713852285780282) \n",
      "\n",
      "Lynxes: DescribeResult(nobs=21, minmax=(4000.0, 59400.0), mean=20166.666666666668, variance=277422333.3333333, skewness=1.122094055331874, kurtosis=-0.11206718692648243) \n",
      "\n",
      "Carrots: DescribeResult(nobs=21, minmax=(36700.0, 48300.0), mean=42400.0, variance=11591000.0, skewness=0.328696845915367, kurtosis=-0.9133000711768431) \n",
      "\n"
     ]
    }
   ],
   "source": [
    "from scipy import stats\n",
    "matr = np.loadtxt('populations.txt')\n",
    "year = matr[:,0]\n",
    "hares = matr[:,1]\n",
    "lynxes = matr[:,2]\n",
    "carrots = matr[:,3]\n",
    "\n",
    "plt.plot(year, hares, label='hares')\n",
    "plt.plot(year, lynxes, label='lynxes')\n",
    "plt.plot(year, carrots, label='carrots')\n",
    "plt.legend()\n",
    "plt.show()\n",
    "\n",
    "print(\"Hares:\", stats.describe(hares), '\\n')\n",
    "print(\"Lynxes:\", stats.describe(lynxes),'\\n')\n",
    "print(\"Carrots:\", stats.describe(carrots),'\\n')"
   ]
  },
  {
   "cell_type": "code",
   "execution_count": null,
   "metadata": {},
   "outputs": [],
   "source": []
  }
 ],
 "metadata": {
  "kernelspec": {
   "display_name": "Python 3",
   "language": "python",
   "name": "python3"
  },
  "language_info": {
   "codemirror_mode": {
    "name": "ipython",
    "version": 3
   },
   "file_extension": ".py",
   "mimetype": "text/x-python",
   "name": "python",
   "nbconvert_exporter": "python",
   "pygments_lexer": "ipython3",
   "version": "3.7.0"
  }
 },
 "nbformat": 4,
 "nbformat_minor": 2
}
