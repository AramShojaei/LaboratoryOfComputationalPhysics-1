{
 "cells": [
  {
   "cell_type": "markdown",
   "metadata": {},
   "source": [
    "### Numpy basics"
   ]
  },
  {
   "cell_type": "markdown",
   "metadata": {},
   "source": [
    "1\\. Find the row, column and overall means for the following matrix:\n",
    "\n",
    "```python\n",
    "m = np.arange(12).reshape((3,4))\n",
    "```"
   ]
  },
  {
   "cell_type": "code",
   "execution_count": 1,
   "metadata": {},
   "outputs": [
    {
     "name": "stdout",
     "output_type": "stream",
     "text": [
      "[[ 0  1  2  3]\n",
      " [ 4  5  6  7]\n",
      " [ 8  9 10 11]]\n",
      "Row mean: [1.5 5.5 9.5]\n",
      "Column mean: [4. 5. 6. 7.]\n",
      "Overall mean: 5.5\n"
     ]
    }
   ],
   "source": [
    "import numpy as np\n",
    "\n",
    "m = np.arange(12).reshape((3,4))\n",
    "print(m)\n",
    "\n",
    "print(\"Row mean:\", np.mean(m,1))\n",
    "print(\"Column mean:\", np.mean(m,0))\n",
    "print(\"Overall mean:\", np.mean(m))\n"
   ]
  },
  {
   "cell_type": "markdown",
   "metadata": {},
   "source": [
    "2\\. Find the outer product of the following two vecotrs\n",
    "\n",
    "```python\n",
    "u = np.array([1,3,5,7])\n",
    "v = np.array([2,4,6,8])\n",
    "```\n",
    "\n",
    "Do this in the following ways:\n",
    "\n",
    "   * Using the function outer in numpy\n",
    "   * Using a nested for loop or list comprehension\n",
    "   * Using numpy broadcasting operatoins\n"
   ]
  },
  {
   "cell_type": "code",
   "execution_count": 2,
   "metadata": {},
   "outputs": [
    {
     "name": "stdout",
     "output_type": "stream",
     "text": [
      "The outer product is: \n",
      " [[ 2  4  6  8]\n",
      " [ 6 12 18 24]\n",
      " [10 20 30 40]\n",
      " [14 28 42 56]]\n",
      "\n",
      "\n",
      "The outer product is: \n",
      " [[ 2  4  6  8]\n",
      " [ 6 12 18 24]\n",
      " [10 20 30 40]\n",
      " [14 28 42 56]]\n",
      "\n",
      "\n",
      "The outer product is: \n",
      " [[ 2  4  6  8]\n",
      " [ 6 12 18 24]\n",
      " [10 20 30 40]\n",
      " [14 28 42 56]]\n"
     ]
    }
   ],
   "source": [
    "u = np.array([1,3,5,7])\n",
    "v = np.array([2,4,6,8])\n",
    "print(\"The outer product is: \\n\" , np.outer(u,v))\n",
    "print(\"\\n\")\n",
    "listcomp = np.array([(a*b) for a in u for b in v]).reshape(4,4)\n",
    "print(\"The outer product is: \\n\" , listcomp)\n",
    "print(\"\\n\")\n",
    "v = np.array([2,4,6,8])[:, np.newaxis]\n",
    "broadcasting = v*u\n",
    "print(\"The outer product is: \\n\" ,broadcasting.transpose())\n"
   ]
  },
  {
   "cell_type": "markdown",
   "metadata": {},
   "source": [
    "3\\. Create a 10 by 6 matrix of random uniform numbers. Set all rows with any entry less than 0.1 to be zero\n",
    "\n",
    "Hint: Use the following numpy functions - np.random.random, np.any as well as Boolean indexing and the axis argument."
   ]
  },
  {
   "cell_type": "code",
   "execution_count": 3,
   "metadata": {},
   "outputs": [
    {
     "name": "stdout",
     "output_type": "stream",
     "text": [
      "Random matrix: \n",
      " [[0.47351301 0.63106681 0.50327694 0.80473677 0.20615731 0.60092046]\n",
      " [0.91334323 0.7958663  0.74635459 0.06373562 0.73772828 0.42618141]\n",
      " [0.67014862 0.84212156 0.62965104 0.51536118 0.33669252 0.6522674 ]\n",
      " [0.69356998 0.21870372 0.49959463 0.24989781 0.67590915 0.06999617]\n",
      " [0.37949863 0.94588073 0.92684986 0.20664742 0.8635276  0.25378037]\n",
      " [0.07618391 0.38955268 0.32258659 0.23680613 0.03153259 0.1716097 ]\n",
      " [0.06074883 0.74955832 0.76881696 0.94308214 0.79051924 0.65228303]\n",
      " [0.56106249 0.97051089 0.92288261 0.85455862 0.40981597 0.80302032]\n",
      " [0.0250913  0.33235508 0.24807287 0.9389024  0.78565163 0.82808759]\n",
      " [0.82173694 0.11658768 0.90665057 0.69003728 0.51713434 0.75902944]]\n",
      "\n",
      "\n",
      "This is the mask matrix: \n",
      " [[False False False False False False]\n",
      " [False False False  True False False]\n",
      " [False False False False False False]\n",
      " [False False False False False  True]\n",
      " [False False False False False False]\n",
      " [ True False False False  True False]\n",
      " [ True False False False False False]\n",
      " [False False False False False False]\n",
      " [ True False False False False False]\n",
      " [False False False False False False]]\n",
      "\n",
      "\n",
      "the final result: \n",
      " [[0.47351301 0.63106681 0.50327694 0.80473677 0.20615731 0.60092046]\n",
      " [0.         0.         0.         0.         0.         0.        ]\n",
      " [0.67014862 0.84212156 0.62965104 0.51536118 0.33669252 0.6522674 ]\n",
      " [0.         0.         0.         0.         0.         0.        ]\n",
      " [0.37949863 0.94588073 0.92684986 0.20664742 0.8635276  0.25378037]\n",
      " [0.         0.         0.         0.         0.         0.        ]\n",
      " [0.         0.         0.         0.         0.         0.        ]\n",
      " [0.56106249 0.97051089 0.92288261 0.85455862 0.40981597 0.80302032]\n",
      " [0.         0.         0.         0.         0.         0.        ]\n",
      " [0.82173694 0.11658768 0.90665057 0.69003728 0.51713434 0.75902944]]\n"
     ]
    }
   ],
   "source": [
    "import numpy.random as npr\n",
    "npr.seed(1204532)\n",
    "matrix = npr.rand(10,6)\n",
    "print(\"Random matrix: \\n\", matrix)\n",
    "print(\"\\n\")\n",
    "mask = (matrix < 0.1)\n",
    "print(\"This is the mask matrix: \\n\",mask)\n",
    "anyresult = np.any(mask,1)\n",
    "print(\"\\n\")\n",
    "i = 0\n",
    "for elem in anyresult:\n",
    "    if elem==True:\n",
    "        matrix[i,:]=0\n",
    "    i=i+1\n",
    "print(\"the final result: \\n\",matrix)\n",
    "        "
   ]
  },
  {
   "cell_type": "markdown",
   "metadata": {},
   "source": [
    "4\\. Use np.linspace to create an array of 100 numbers between 0 and 2π (includsive).\n",
    "\n",
    "  * Extract every 10th element using slice notation\n",
    "  * Reverse the array using slice notation\n",
    "  * Extract elements where the absolute difference between the sine and cosine functions evaluated at that element is less than 0.1\n",
    "  * Make a plot showing the sin and cos functions and indicate where they are close"
   ]
  },
  {
   "cell_type": "code",
   "execution_count": 32,
   "metadata": {},
   "outputs": [
    {
     "name": "stdout",
     "output_type": "stream",
     "text": [
      "Extract every 10th element using slice notation: \n",
      " [0.         0.63466518 1.26933037 1.90399555 2.53866073 3.17332591\n",
      " 3.8079911  4.44265628 5.07732146 5.71198664]\n",
      "\n",
      "\n",
      "Reverse the array using slice notation: \n",
      " [6.28318531 6.21971879 6.15625227 6.09278575 6.02931923 5.96585272\n",
      " 5.9023862  5.83891968 5.77545316 5.71198664 5.64852012 5.58505361\n",
      " 5.52158709 5.45812057 5.39465405 5.33118753 5.26772102 5.2042545\n",
      " 5.14078798 5.07732146 5.01385494 4.95038842 4.88692191 4.82345539\n",
      " 4.75998887 4.69652235 4.63305583 4.56958931 4.5061228  4.44265628\n",
      " 4.37918976 4.31572324 4.25225672 4.1887902  4.12532369 4.06185717\n",
      " 3.99839065 3.93492413 3.87145761 3.8079911  3.74452458 3.68105806\n",
      " 3.61759154 3.55412502 3.4906585  3.42719199 3.36372547 3.30025895\n",
      " 3.23679243 3.17332591 3.10985939 3.04639288 2.98292636 2.91945984\n",
      " 2.85599332 2.7925268  2.72906028 2.66559377 2.60212725 2.53866073\n",
      " 2.47519421 2.41172769 2.34826118 2.28479466 2.22132814 2.15786162\n",
      " 2.0943951  2.03092858 1.96746207 1.90399555 1.84052903 1.77706251\n",
      " 1.71359599 1.65012947 1.58666296 1.52319644 1.45972992 1.3962634\n",
      " 1.33279688 1.26933037 1.20586385 1.14239733 1.07893081 1.01546429\n",
      " 0.95199777 0.88853126 0.82506474 0.76159822 0.6981317  0.63466518\n",
      " 0.57119866 0.50773215 0.44426563 0.38079911 0.31733259 0.25386607\n",
      " 0.19039955 0.12693304 0.06346652 0.        ]\n",
      "\n",
      "\n",
      "Elements where the absolute difference between the sine and cosine functions evaluated at that element is less than 0.1: \n",
      " [0.7615982190520711, 0.8250647373064104, 3.8714576135146945, 3.934924131769034]\n",
      "\n",
      "\n",
      "Points where cos(x) and sen(x) are close: \n",
      " [0.8, 3.9000000000000004]\n"
     ]
    },
    {
     "data": {
      "image/png": "[encoded data removed]",
      "text/plain": [
       "<Figure size 432x288 with 1 Axes>"
      ]
     },
     "metadata": {
      "needs_background": "light"
     },
     "output_type": "display_data"
    }
   ],
   "source": [
    "arr = np.linspace(0,2*np.pi,100)\n",
    "arr_slice = m[0::10]\n",
    "print(\"Extract every 10th element using slice notation: \\n\",arr_slice)\n",
    "print(\"\\n\")\n",
    "arr_reverse = m[::-1]\n",
    "print(\"Reverse the array using slice notation: \\n\",arr_reverse)\n",
    "arr_cs = [x for x in arr if np.absolute(np.cos(x)-np.sin(x))<0.1]\n",
    "print(\"\\n\")\n",
    "print(\"Elements where the absolute difference between the sine and cosine functions evaluated at that element is less than 0.1: \\n\", arr_cs)\n",
    "print(\"\\n\")\n",
    "\n",
    "\n",
    "import matplotlib.pyplot as plt\n",
    "%matplotlib inline\n",
    "\n",
    "x = np.arange(0,2*np.pi,0.1)\n",
    "y = np.sin(x)\n",
    "z = np.cos(x)\n",
    "\n",
    "simil = [x for x in x if np.absolute(np.sin(x)-np.cos(x))<0.1]\n",
    "print(\"Points where cos(x) and sen(x) are close: \\n\",simil)\n",
    "\n",
    "plt.plot(x,y)\n",
    "plt.plot(x,z)\n",
    "plt.show()\n"
   ]
  },
  {
   "cell_type": "markdown",
   "metadata": {},
   "source": [
    "5\\. Create a matrix that shows the 10 by 10 multiplication table.\n",
    "\n",
    " * Find the trace of the matrix\n",
    " * Extract the anto-diagonal (this should be ```array([10, 18, 24, 28, 30, 30, 28, 24, 18, 10])```)\n",
    " * Extract the diagnoal offset by 1 upwards (this should be ```array([ 2,  6, 12, 20, 30, 42, 56, 72, 90])```)"
   ]
  },
  {
   "cell_type": "code",
   "execution_count": 25,
   "metadata": {},
   "outputs": [
    {
     "name": "stdout",
     "output_type": "stream",
     "text": [
      "matrix that shows the 10 by 10 multiplication table: \n",
      " [[  1.   2.   3.   4.   5.   6.   7.   8.   9.  10.]\n",
      " [  2.   4.   6.   8.  10.  12.  14.  16.  18.  20.]\n",
      " [  3.   6.   9.  12.  15.  18.  21.  24.  27.  30.]\n",
      " [  4.   8.  12.  16.  20.  24.  28.  32.  36.  40.]\n",
      " [  5.  10.  15.  20.  25.  30.  35.  40.  45.  50.]\n",
      " [  6.  12.  18.  24.  30.  36.  42.  48.  54.  60.]\n",
      " [  7.  14.  21.  28.  35.  42.  49.  56.  63.  70.]\n",
      " [  8.  16.  24.  32.  40.  48.  56.  64.  72.  80.]\n",
      " [  9.  18.  27.  36.  45.  54.  63.  72.  81.  90.]\n",
      " [ 10.  20.  30.  40.  50.  60.  70.  80.  90. 100.]]\n",
      "\n",
      "\n",
      "The trace of the matrix is: 385.0\n",
      "\n",
      "\n",
      "The anto-diagonal matrix is: \n",
      " [10. 18. 24. 28. 30. 30. 28. 24. 18. 10.]\n",
      "\n",
      "\n",
      "The anto-diagonal matrix is: \n",
      " [ 2.  6. 12. 20. 30. 42. 56. 72. 90.]\n"
     ]
    }
   ],
   "source": [
    "import numpy as np\n",
    "\n",
    "matrix = np.ones(shape=(10,10))\n",
    "for i in range(matrix.shape[0]):\n",
    "    for j in range(matrix.shape[1]):\n",
    "        matrix[i][j] = (i+1)*(j+1)\n",
    "print(\"matrix that shows the 10 by 10 multiplication table: \\n\",matrix)\n",
    "print(\"\\n\")\n",
    "print(\"The trace of the matrix is:\",np.trace(matrix))\n",
    "print(\"\\n\")\n",
    "print(\"The anto-diagonal matrix is: \\n\", matrix[(9,8,7,6,5,4,3,2,1,0),(0,1,2,3,4,5,6,7,8,9)])\n",
    "print(\"\\n\")\n",
    "print(\"The anto-diagonal matrix is: \\n\", matrix[(0,1,2,3,4,5,6,7,8),(1,2,3,4,5,6,7,8,9)])\n",
    "\n",
    "        "
   ]
  },
  {
   "cell_type": "markdown",
   "metadata": {},
   "source": [
    "6\\. Use broadcasting to create a grid of distances\n",
    "\n",
    "Route 66 crosses the following cities in the US: Chicago, Springfield, Saint-Louis, Tulsa, Oklahoma City, Amarillo, Santa Fe, Albuquerque, Flagstaff, Los Angeles\n",
    "The corresponding positions in miles are: 0, 198, 303, 736, 871, 1175, 1475, 1544, 1913, 2448\n",
    "\n",
    "  * Construct a 2D grid of distances among each city along Route 66\n",
    "  * Convert that in km (those savages...)"
   ]
  },
  {
   "cell_type": "code",
   "execution_count": 42,
   "metadata": {},
   "outputs": [],
   "source": [
    "import numpy as np\n",
    "\n",
    "matrix = np.ones(shape=(10,10))\n"
   ]
  },
  {
   "cell_type": "markdown",
   "metadata": {},
   "source": [
    "7\\. Prime numbers sieve: compute the prime numbers in the 0-N (N=99 to start with) range with a sieve (mask).\n",
    "  * Constract a shape (100,) boolean array, the mask\n",
    "  * Identify the multiples of each number starting from 2 and set accordingly the corresponding mask element\n",
    "  * Apply the mask to obtain an array of ordered prime numbers\n",
    "  * Check the performances (timeit); how does it scale with N?\n",
    "  * Implement the optimization suggested in the [sieve of Eratosthenes](https://en.wikipedia.org/wiki/Sieve_of_Eratosthenes)"
   ]
  },
  {
   "cell_type": "code",
   "execution_count": 41,
   "metadata": {},
   "outputs": [
    {
     "name": "stdout",
     "output_type": "stream",
     "text": [
      "[ 2.  3.  4.  5.  6.  7.  8.  9. 10. 11. 12. 13. 14. 15. 16. 17. 18. 19.\n",
      " 20. 21. 22. 23. 24. 25. 26. 27. 28. 29. 30. 31. 32. 33. 34. 35. 36. 37.\n",
      " 38. 39. 40. 41. 42. 43. 44. 45. 46. 47. 48. 49. 50. 51. 52. 53. 54. 55.\n",
      " 56. 57. 58. 59. 60. 61. 62. 63. 64. 65. 66. 67. 68. 69. 70. 71. 72. 73.\n",
      " 74. 75. 76. 77. 78. 79. 80. 81. 82. 83. 84. 85. 86. 87. 88. 89. 90. 91.\n",
      " 92. 93. 94. 95. 96. 97. 98. 99.]\n"
     ]
    }
   ],
   "source": [
    "mask = np.full((100,), True, dtype=bool)\n",
    "arr = np.zeros((98,))\n",
    "for i in range(len(arr)):\n",
    "    arr[i] = i+2\n",
    "print(arr)\n",
    "\n",
    "#non_prime = [x for x in arr  if !(x%)]\n",
    "\n",
    "def Eratosthenes(A):\n",
    "    p = 2\n",
    "    \n",
    "    \n",
    "    "
   ]
  },
  {
   "cell_type": "markdown",
   "metadata": {},
   "source": [
    "8\\. Diffusion using random walk\n",
    "\n",
    "Consider a simple random walk process: at each step in time, a walker jumps right or left (+1 or -1) with equal probability. The goal is to find the typical distance from the origin of a random walker after a given amount of time. \n",
    "To do that, let's simulate many walkers and create a 2D array with each walker as a raw and the actual time evolution as columns\n",
    "\n",
    "  * Take 1000 walkers and let them walk for 200 steps\n",
    "  * Use randint to create a 2D array of size walkers x steps with values -1 or 1\n",
    "  * Build the actual walking distances for each walker (i.e. another 2D array \"summing on each raw\")\n",
    "  * Take the square of that 2D array (elementwise)\n",
    "  * Compute the mean of the squared distances at each step (i.e. the mean along the columns)\n",
    "  * Plot the average distances (sqrt(distance\\*\\*2)) as a function of time (step)\n",
    "  \n",
    "Did you get what you expected?"
   ]
  },
  {
   "cell_type": "code",
   "execution_count": 34,
   "metadata": {},
   "outputs": [
    {
     "name": "stdout",
     "output_type": "stream",
     "text": [
      "[[ 1  0  0 -1 -1  0  1  0  0 -1 -1 -1  1 -1  1 -1  0  1  1  0 -1 -1  0 -1\n",
      "   0 -1  1 -1  0 -1  1  0  0  0  0  1 -1  1  0  1 -1 -1  1  0  0  0 -1  0\n",
      "  -1 -1 -1  0  1  0  1 -1  1  1  0 -1  0  0 -1  1  1 -1  1  0  0  1  1 -1\n",
      "  -1  0  1  0 -1 -1  0  0  1  0 -1  1  0  0  1 -1  0 -1  0  1  1  0 -1  1\n",
      "  -1 -1  0  0 -1 -1  0  0  0 -1  1  1 -1  1  0 -1  1  1  1  0  0 -1  0 -1\n",
      "   1  0 -1  0  0 -1  1  0  0 -1 -1  0 -1  1  0  1 -1 -1 -1  1  0  0  0  1\n",
      "  -1  0 -1  0  0 -1 -1  1 -1  0  1  0 -1  1 -1  1  1  1 -1  1  1  1  1  1\n",
      "   0 -1  0  1  0  1  0  1 -1  1  0  1 -1 -1  1  1  0 -1  0  1 -1 -1 -1  1\n",
      "  -1 -1  1  1  1 -1  0 -1  1  1  0 -1  1  0  1  0  1  1  1  0  0  0 -1 -1\n",
      "   0  1  1  0  0 -1  0 -1  0  0  1  0 -1  0  1 -1  1 -1  1  1  0 -1  0  1\n",
      "  -1  1  1 -1  0  1  1  1  1  0  0  1  1  1  0  0 -1 -1  0  1  1  1 -1  0\n",
      "  -1  0 -1  1 -1  1  0  1  0 -1  0  1 -1 -1  0  1  0  1  0  1  0  1 -1  1\n",
      "   1 -1  0  0  0 -1  0 -1 -1  1 -1  1 -1  0  1  0  1 -1  1  0  1 -1  0 -1\n",
      "   1  1  0 -1  1  0 -1 -1 -1  1  1  1  1  0  0 -1  0 -1  0  0 -1 -1  1  1\n",
      "   0 -1  0  0  0 -1  1 -1 -1  0 -1 -1 -1  0  0 -1 -1 -1  1  1  1  1 -1  1\n",
      "   1  0  1  1 -1  1  0 -1  1 -1 -1  1 -1 -1 -1  0 -1 -1  0  0 -1 -1  0 -1\n",
      "  -1  1 -1  0  1  0 -1  0  0 -1  1  1  0  1  0  1  0  0 -1  0  1  0  1  1\n",
      "   1  1 -1 -1  0 -1  1  0  0  1 -1  1  1 -1 -1  1  0  1  1 -1  0 -1 -1  1\n",
      "   0 -1  1  1  0  1 -1  1  0 -1 -1  0 -1  0 -1  0  0  1 -1 -1  1  1 -1 -1\n",
      "   1  0  1  1  1 -1  0  0  0 -1  1 -1 -1  0  0  1  0  0  0  0  0  0  1 -1\n",
      "  -1  1  1 -1  1 -1 -1 -1  1 -1 -1  0 -1  0 -1  0 -1  0  0  0  0 -1  1  0\n",
      "  -1  1  1  1 -1  0 -1 -1  1  1  0 -1  1  1  1  0  1  0  1  1  0  1  0  1\n",
      "   0  0  0  1  1  1  0  0 -1 -1 -1  1  0 -1  1  0  0  0  0 -1  1  1  1  0\n",
      "  -1 -1  0  1  1 -1  0  1 -1 -1  0  0  1 -1  1  1  1  1  0  0  1 -1 -1  1\n",
      "  -1  1 -1  1  1  1  0  1 -1 -1  0 -1  0  0 -1  0  0 -1  1 -1 -1  1  0 -1\n",
      "  -1  0  0  1  1 -1  0 -1 -1  1  1 -1  0  1 -1  0  1  0  1 -1 -1  0  0 -1\n",
      "  -1  0 -1  0 -1  1 -1  0  1  1  1  1  1  0  0  0  0  1 -1  1 -1  1 -1  0\n",
      "   1  0  1  0 -1 -1  1  0  0 -1 -1  0 -1 -1  0  1 -1 -1  1  1  0  0  0 -1\n",
      "   1  1 -1  0  0  1 -1 -1  0  0  1 -1  0  0  1 -1  1 -1 -1  1  1  0  1  0\n",
      "   0 -1  0 -1  1  1 -1 -1  1 -1 -1  1  1  0  1  1 -1  1 -1 -1  0  1  1  0\n",
      "  -1  0  0  0 -1  0  0 -1  0  1  1  1  1  0  0 -1  1 -1  1  1  1  0  0  1\n",
      "  -1 -1 -1  0 -1  0 -1  1  0  0 -1 -1  0  0 -1  1  1  0  1  1 -1  1 -1  1\n",
      "   1  1  1  1 -1  0  0 -1 -1  1  1  0 -1 -1  0  1 -1 -1  0 -1 -1  1  1  1\n",
      "   0  1  1  1  0  0  0 -1 -1  0  0  1  1  0  1  1  0 -1 -1  1 -1 -1  0  0\n",
      "  -1  1 -1  0  0  0  0  1  0  1 -1 -1  0  1 -1  0  0 -1 -1  1  1 -1  0 -1\n",
      "  -1  1 -1  0  0  0 -1  0  0  0  0  0 -1  0  0  0 -1  0 -1 -1 -1 -1 -1 -1\n",
      "   0  1 -1  0  1 -1  1 -1  1  1  1 -1  0 -1  1  0  1  1 -1  0 -1  1  0 -1\n",
      "   0 -1 -1  0  1  0  1  1 -1  0 -1  0  1  0  0  0  1  0 -1  0 -1 -1 -1  0\n",
      "   1  1  0 -1 -1  1  0  0  1  1  0  1  0  0  1  0 -1  0  1  0  0  1  0  1\n",
      "  -1 -1 -1 -1  1 -1 -1  1  1  0  0  1 -1  1 -1 -1  1  1  0  1  0  1  0  1\n",
      "  -1  1 -1  1 -1  0  1 -1  1 -1  0  1 -1  0  1 -1  0  0  1  1  1 -1  0  0\n",
      "   1 -1 -1  0  0  1  1  1 -1 -1 -1 -1  0  1  1  0]]\n"
     ]
    }
   ],
   "source": [
    "import numpy.random as npr\n",
    "\n",
    "walk = npr.randint(-1,2,size=(1,1000))\n",
    "print(walk)"
   ]
  },
  {
   "cell_type": "markdown",
   "metadata": {},
   "source": [
    "9\\. Analyze a data file \n",
    "  * Download the population of hares, lynxes and carrots at the beginning of the last century.\n",
    "    ```python\n",
    "    ! wget https://www.dropbox.com/s/3vigxoqayo389uc/populations.txt\n",
    "    ```\n",
    "\n",
    "  * Check the content by looking within the file\n",
    "  * Load the data (use an appropriate numpy method) into a 2D array\n",
    "  * Create arrays out of the columns, the arrays being (in order): *year*, *hares*, *lynxes*, *carrots* \n",
    "  * Plot the 3 populations over the years\n",
    "  * Compute the main statistical properties of the dataset (mean, std, correlations, etc.)\n",
    "  * Which species has the highest population each year?\n",
    "\n",
    "Do you feel there is some evident correlation here? [Studies](https://www.enr.gov.nt.ca/en/services/lynx/lynx-snowshoe-hare-cycle) tend to believe so."
   ]
  },
  {
   "cell_type": "code",
   "execution_count": 4,
   "metadata": {},
   "outputs": [
    {
     "name": "stdout",
     "output_type": "stream",
     "text": [
      "array dimensions (rank): 2\n"
     ]
    },
    {
     "data": {
      "image/png": "[encoded data removed]",
      "text/plain": [
       "<Figure size 432x288 with 1 Axes>"
      ]
     },
     "metadata": {
      "needs_background": "light"
     },
     "output_type": "display_data"
    },
    {
     "name": "stdout",
     "output_type": "stream",
     "text": [
      "max: 77400.0\n",
      "mean: 34080.95238095238\n",
      "standard deviation: 20897.906458089667\n"
     ]
    },
    {
     "data": {
      "image/png": "[encoded data removed]",
      "text/plain": [
       "<Figure size 432x288 with 1 Axes>"
      ]
     },
     "metadata": {
      "needs_background": "light"
     },
     "output_type": "display_data"
    },
    {
     "name": "stdout",
     "output_type": "stream",
     "text": [
      "max: 59400.0\n",
      "mean: 20166.666666666668\n",
      "standard deviation: 16254.591536908763\n"
     ]
    },
    {
     "data": {
      "image/png": "[encoded data removed]",
      "text/plain": [
       "<Figure size 432x288 with 1 Axes>"
      ]
     },
     "metadata": {
      "needs_background": "light"
     },
     "output_type": "display_data"
    },
    {
     "name": "stdout",
     "output_type": "stream",
     "text": [
      "max: 48300.0\n",
      "mean: 42400.0\n",
      "standard deviation: 3322.5062255844787\n",
      "\n",
      "\n",
      "In the 1900 year hares have the biggest population\n",
      "In the 1901 year hares have the biggest population\n",
      "In the 1902 year hares have the biggest population\n",
      "In the 1903 year hares have the biggest population\n",
      "In the 1904 year lynxes have the biggest population\n",
      "In the 1905 year lynxes have the biggest population\n",
      "In the 1906 year lynxes have the biggest population\n",
      "In the 1907 year hares have the biggest population\n",
      "In the 1908 year hares have the biggest population\n",
      "In the 1909 year hares have the biggest population\n",
      "In the 1910 year hares have the biggest population\n",
      "In the 1911 year hares have the biggest population\n",
      "In the 1912 year hares have the biggest population\n",
      "In the 1913 year hares have the biggest population\n",
      "In the 1914 year hares have the biggest population\n",
      "In the 1915 year lynxes have the biggest population\n",
      "In the 1916 year lynxes have the biggest population\n",
      "In the 1917 year lynxes have the biggest population\n",
      "In the 1918 year hares have the biggest population\n",
      "In the 1919 year hares have the biggest population\n",
      "In the 1920 year hares have the biggest population\n"
     ]
    }
   ],
   "source": [
    "import numpy as np\n",
    "import matplotlib.pyplot as plt\n",
    "\n",
    "file = open('populations.txt', 'r') \n",
    "\n",
    "Data = np.loadtxt(\"populations.txt\", skiprows=1)\n",
    "#print(Data)\n",
    "print (\"array dimensions (rank):\", Data.ndim)\n",
    "\n",
    "year_data = Data[:,0]\n",
    "year_hare = Data[:,1]\n",
    "year_lynx = Data[:,2]\n",
    "year_carrot = Data[:,3]\n",
    "\n",
    "plt.figure()\n",
    "plt.plot(year_data,year_hare, 'r')\n",
    "plt.xlabel('years')\n",
    "plt.ylabel('hares')\n",
    "plt.show()\n",
    "\n",
    "print (\"max:\", np.max(year_hare))\n",
    "print (\"mean:\", np.mean(year_hare))\n",
    "print (\"standard deviation:\", np.std(year_hare))\n",
    "\n",
    "plt.figure()\n",
    "plt.plot(year_data,year_lynx, 'r')\n",
    "plt.xlabel('years')\n",
    "plt.ylabel('lynx')\n",
    "plt.show()\n",
    "\n",
    "print (\"max:\", np.max(year_lynx))\n",
    "print (\"mean:\", np.mean(year_lynx))\n",
    "print (\"standard deviation:\", np.std(year_lynx))\n",
    "\n",
    "plt.figure()\n",
    "plt.plot(year_data,year_carrot, 'r')\n",
    "plt.xlabel('years')\n",
    "plt.ylabel('carrot')\n",
    "plt.show()\n",
    "\n",
    "print (\"max:\", np.max(year_carrot))\n",
    "print (\"mean:\", np.mean(year_carrot))\n",
    "print (\"standard deviation:\", np.std(year_carrot))\n",
    "\n",
    "print(\"\\n\")\n",
    "for i in range(len(year_data)):\n",
    "    if year_hare[i] > year_lynx[i]:\n",
    "        print(\"In the %s year hares have the biggest population\" %int(year_data[i]))\n",
    "    elif year_hare[i] == year_lynx[i]:\n",
    "        print(\"In the %s year hares and lynxes have the same population\" %int(year_data[i]))\n",
    "    else:\n",
    "        print(\"In the %s year lynxes have the biggest population\" %int(year_data[i]))\n",
    "        \n",
    "    "
   ]
  },
  {
   "cell_type": "code",
   "execution_count": null,
   "metadata": {},
   "outputs": [],
   "source": []
  }
 ],
 "metadata": {
  "kernelspec": {
   "display_name": "Python 3",
   "language": "python",
   "name": "python3"
  },
  "language_info": {
   "codemirror_mode": {
    "name": "ipython",
    "version": 3
   },
   "file_extension": ".py",
   "mimetype": "text/x-python",
   "name": "python",
   "nbconvert_exporter": "python",
   "pygments_lexer": "ipython3",
   "version": "3.7.0"
  }
 },
 "nbformat": 4,
 "nbformat_minor": 2
}
