{
 "cells": [
  {
   "cell_type": "markdown",
   "metadata": {},
   "source": [
    "### Numpy basics"
   ]
  },
  {
   "cell_type": "markdown",
   "metadata": {},
   "source": [
    "1\\. Find the row, column and overall means for the following matrix:\n",
    "\n",
    "```python\n",
    "m = np.arange(12).reshape((3,4))\n",
    "```"
   ]
  },
  {
   "cell_type": "code",
   "execution_count": 2,
   "metadata": {},
   "outputs": [
    {
     "name": "stdout",
     "output_type": "stream",
     "text": [
      "The matrix is: \n",
      " [[ 0  1  2  3]\n",
      " [ 4  5  6  7]\n",
      " [ 8  9 10 11]] \n",
      "\n",
      "Row means is: [1.5 5.5 9.5]\n",
      "Column means is: [4. 5. 6. 7.]\n",
      "Matrix mean is: 5.5\n"
     ]
    }
   ],
   "source": [
    "import numpy as np\n",
    "m = np.arange(12).reshape((3,4))\n",
    "print(\"The matrix is: \\n\",m,\"\\n\")\n",
    "\n",
    "row_mean = np.mean(m,1);\n",
    "column_mean = np.mean(m,0);\n",
    "overall_mean = np.mean(m);\n",
    "print(\"Row means is:\",(row_mean))\n",
    "print(\"Column means is:\",(column_mean))\n",
    "print(\"Matrix mean is:\",(overall_mean))"
   ]
  },
  {
   "cell_type": "markdown",
   "metadata": {},
   "source": [
    "2\\. Find the outer product of the following two vecotrs\n",
    "\n",
    "```python\n",
    "u = np.array([1,3,5,7])\n",
    "v = np.array([2,4,6,8])\n",
    "```\n",
    "\n",
    "Do this in the following ways:\n",
    "\n",
    "   * Using the function outer in numpy\n",
    "   * Using a nested for loop or list comprehension\n",
    "   * Using numpy broadcasting operatoins\n"
   ]
  },
  {
   "cell_type": "code",
   "execution_count": 3,
   "metadata": {},
   "outputs": [
    {
     "name": "stdout",
     "output_type": "stream",
     "text": [
      "Outer product using outer: \n",
      " [[ 2  4  6  8]\n",
      " [ 6 12 18 24]\n",
      " [10 20 30 40]\n",
      " [14 28 42 56]] \n",
      "\n",
      "Outer product using lc: \n",
      " [[ 2  4  6  8]\n",
      " [ 6 12 18 24]\n",
      " [10 20 30 40]\n",
      " [14 28 42 56]] \n",
      "\n",
      "Outer product using numpy broadcasting: \n",
      " [[ 2  4  6  8]\n",
      " [ 6 12 18 24]\n",
      " [10 20 30 40]\n",
      " [14 28 42 56]] \n",
      "\n"
     ]
    }
   ],
   "source": [
    "u = np.array([1,3,5,7])\n",
    "v = np.array([2,4,6,8])\n",
    "\n",
    "outernp = np.outer(u,v)\n",
    "print(\"Outer product using outer: \\n\",outernp,\"\\n\")\n",
    "\n",
    "outerlc = np.array([[i*j for i in v] for j in u])\n",
    "print(\"Outer product using lc: \\n\",outerlc,\"\\n\")\n",
    "\n",
    "outerbroad = u[:,None]*(v[:, None].T)\n",
    "print(\"Outer product using numpy broadcasting: \\n\",outerbroad,\"\\n\")"
   ]
  },
  {
   "cell_type": "markdown",
   "metadata": {},
   "source": [
    "3\\. Create a 10 by 6 matrix of random uniform numbers. Set all rows with any entry less than 0.1 to be zero\n",
    "\n",
    "Hint: Use the following numpy functions - np.random.random, np.any as well as Boolean indexing and the axis argument."
   ]
  },
  {
   "cell_type": "code",
   "execution_count": 4,
   "metadata": {},
   "outputs": [
    {
     "name": "stdout",
     "output_type": "stream",
     "text": [
      "[[0.10973478 0.36675001 0.46980937 0.99228024 0.1783153  0.11619687]\n",
      " [0.70356352 0.22770906 0.23818876 0.95603929 0.29762453 0.44897542]\n",
      " [0.67430793 0.68513265 0.54456889 0.78277956 0.60060224 0.72071698]\n",
      " [0.90309499 0.72450832 0.66801894 0.93951552 0.61261029 0.82479695]\n",
      " [0.24583869 0.         0.87562354 0.25773698 0.34378806 0.        ]\n",
      " [0.4928128  0.89366085 0.56025872 0.77778109 0.77248521 0.77285663]\n",
      " [0.24870338 0.22327907 0.93469669 0.32583309 0.25622992 0.30761651]\n",
      " [0.69404092 0.41935427 0.185879   0.40468203 0.63229782 0.        ]\n",
      " [0.         0.99856504 0.81037733 0.42095991 0.63508871 0.50356047]\n",
      " [0.18697829 0.92924027 0.         0.55638555 0.33934043 0.59475062]]\n"
     ]
    }
   ],
   "source": [
    "random_mat = np.array([np.random.random() for i in range(60)]).reshape((10,6))\n",
    "random_mat[random_mat < 0.1] = 0\n",
    "print(random_mat)"
   ]
  },
  {
   "cell_type": "markdown",
   "metadata": {},
   "source": [
    "4\\. Use np.linspace to create an array of 100 numbers between 0 and 2π (includsive).\n",
    "\n",
    "  * Extract every 10th element using slice notation\n",
    "  * Reverse the array using slice notation\n",
    "  * Extract elements where the absolute difference between the sine and cosine functions evaluated at that element is less than 0.1\n",
    "  * Make a plot showing the sin and cos functions and indicate where they are close"
   ]
  },
  {
   "cell_type": "code",
   "execution_count": 52,
   "metadata": {},
   "outputs": [
    {
     "name": "stdout",
     "output_type": "stream",
     "text": [
      "Original vector:\n",
      " [0.  0.1 0.1 0.2 0.3 0.3 0.4 0.4 0.5 0.6 0.6 0.7 0.8 0.8 0.9 1.  1.  1.1\n",
      " 1.1 1.2 1.3 1.3 1.4 1.5 1.5 1.6 1.7 1.7 1.8 1.8 1.9 2.  2.  2.1 2.2 2.2\n",
      " 2.3 2.3 2.4 2.5 2.5 2.6 2.7 2.7 2.8 2.9 2.9 3.  3.  3.1 3.2 3.2 3.3 3.4\n",
      " 3.4 3.5 3.6 3.6 3.7 3.7 3.8 3.9 3.9 4.  4.1 4.1 4.2 4.3 4.3 4.4 4.4 4.5\n",
      " 4.6 4.6 4.7 4.8 4.8 4.9 5.  5.  5.1 5.1 5.2 5.3 5.3 5.4 5.5 5.5 5.6 5.6\n",
      " 5.7 5.8 5.8 5.9 6.  6.  6.1 6.2 6.2 6.3] \n",
      "\n",
      "Extracted vector:\n",
      " [0.  0.6 1.3 1.9 2.5 3.2 3.8 4.4 5.1 5.7] \n",
      "\n",
      "Reversed vector:\n",
      " [6.3 6.2 6.2 6.1 6.  6.  5.9 5.8 5.8 5.7 5.6 5.6 5.5 5.5 5.4 5.3 5.3 5.2\n",
      " 5.1 5.1 5.  5.  4.9 4.8 4.8 4.7 4.6 4.6 4.5 4.4 4.4 4.3 4.3 4.2 4.1 4.1\n",
      " 4.  3.9 3.9 3.8 3.7 3.7 3.6 3.6 3.5 3.4 3.4 3.3 3.2 3.2 3.1 3.  3.  2.9\n",
      " 2.9 2.8 2.7 2.7 2.6 2.5 2.5 2.4 2.3 2.3 2.2 2.2 2.1 2.  2.  1.9 1.8 1.8\n",
      " 1.7 1.7 1.6 1.5 1.5 1.4 1.3 1.3 1.2 1.1 1.1 1.  1.  0.9 0.8 0.8 0.7 0.6\n",
      " 0.6 0.5 0.4 0.4 0.3 0.3 0.2 0.1 0.1 0. ] \n",
      "\n",
      "Values with abs less than 0.1 vector:\n",
      " [0.7615982190520711, 0.8250647373064104, 3.8714576135146945, 3.934924131769034] \n",
      "\n"
     ]
    },
    {
     "data": {
      "image/png": "[encoded data removed]",
      "text/plain": [
       "<Figure size 432x288 with 1 Axes>"
      ]
     },
     "metadata": {
      "needs_background": "light"
     },
     "output_type": "display_data"
    }
   ],
   "source": [
    "import math\n",
    "vec = np.linspace(0, 2*math.pi, num=100)\n",
    "print(\"Original vector:\\n\",vec,\"\\n\")\n",
    "\n",
    "vec1 = vec[0:100:10]\n",
    "print(\"Extracted vector:\\n\",vec1,\"\\n\")\n",
    "\n",
    "vec2 = vec[::-1]\n",
    "print(\"Reversed vector:\\n\",vec2,\"\\n\")\n",
    "\n",
    "vec3 = [x for x in vec if math.fabs(math.sin(x) - math.cos(x)) < 0.1]\n",
    "print(\"Values with abs less than 0.1 vector:\\n\",vec3,\"\\n\")\n",
    "\n",
    "import matplotlib.pyplot as plt\n",
    "\n",
    "vecsin = [math.sin(x) for x in vec]\n",
    "veccos = [math.cos(x) for x in vec]\n",
    "\n",
    "plt.plot(vec, vecsin, label='sine')\n",
    "plt.plot(vec, veccos, label='cosine')\n",
    "plt.xlabel('angle [rad]')\n",
    "plt.legend(loc='lower left')\n",
    "plt.show()"
   ]
  },
  {
   "cell_type": "markdown",
   "metadata": {},
   "source": [
    "5\\. Create a matrix that shows the 10 by 10 multiplication table.\n",
    "\n",
    " * Find the trace of the matrix\n",
    " * Extract the anto-diagonal (this should be ```array([10, 18, 24, 28, 30, 30, 28, 24, 18, 10])```)\n",
    " * Extract the diagnoal offset by 1 upwards (this should be ```array([ 2,  6, 12, 20, 30, 42, 56, 72, 90])```)"
   ]
  },
  {
   "cell_type": "code",
   "execution_count": 6,
   "metadata": {},
   "outputs": [
    {
     "name": "stdout",
     "output_type": "stream",
     "text": [
      "The multiplication matrix is: \n",
      " [[  1   2   3   4   5   6   7   8   9  10]\n",
      " [  2   4   6   8  10  12  14  16  18  20]\n",
      " [  3   6   9  12  15  18  21  24  27  30]\n",
      " [  4   8  12  16  20  24  28  32  36  40]\n",
      " [  5  10  15  20  25  30  35  40  45  50]\n",
      " [  6  12  18  24  30  36  42  48  54  60]\n",
      " [  7  14  21  28  35  42  49  56  63  70]\n",
      " [  8  16  24  32  40  48  56  64  72  80]\n",
      " [  9  18  27  36  45  54  63  72  81  90]\n",
      " [ 10  20  30  40  50  60  70  80  90 100]] \n",
      "\n",
      "The trace is: 385 \n",
      "\n",
      "The antidiagonal is:\n",
      " [10 18 24 28 30 30 28 24 18 10] \n",
      "\n",
      "The diagonal offset by 1 upwards is:\n",
      " [ 2  6 12 20 30 42 56 72 90] \n",
      "\n"
     ]
    }
   ],
   "source": [
    "u = np.array([x for x in range(1,11)])\n",
    "table = u[:,None]*(u[:, None].T)\n",
    "print(\"The multiplication matrix is: \\n\",table,\"\\n\")\n",
    "\n",
    "trace = np.trace(table)\n",
    "print(\"The trace is:\",trace,\"\\n\")\n",
    "\n",
    "antidiagonal = np.diagonal(np.fliplr(table))\n",
    "print(\"The antidiagonal is:\\n\",antidiagonal,\"\\n\")\n",
    "\n",
    "diagonal_off1 = np.diagonal(table, 1)\n",
    "print(\"The diagonal offset by 1 upwards is:\\n\",diagonal_off1,\"\\n\")"
   ]
  },
  {
   "cell_type": "markdown",
   "metadata": {},
   "source": [
    "6\\. Use broadcasting to create a grid of distances\n",
    "\n",
    "Route 66 crosses the following cities in the US: Chicago, Springfield, Saint-Louis, Tulsa, Oklahoma City, Amarillo, Santa Fe, Albuquerque, Flagstaff, Los Angeles\n",
    "The corresponding positions in miles are: 0, 198, 303, 736, 871, 1175, 1475, 1544, 1913, 2448\n",
    "\n",
    "  * Construct a 2D grid of distances among each city along Route 66\n",
    "  * Convert that in km (those savages...)"
   ]
  },
  {
   "cell_type": "code",
   "execution_count": 7,
   "metadata": {},
   "outputs": [
    {
     "name": "stdout",
     "output_type": "stream",
     "text": [
      "The grid in miles is:\n",
      " [[   0  198  303  736  871 1175 1475 1554 1913 2448]\n",
      " [ 198    0  105  538  673  977 1277 1356 1715 2250]\n",
      " [ 303  105    0  433  568  872 1172 1251 1610 2145]\n",
      " [ 736  538  433    0  135  439  739  818 1177 1712]\n",
      " [ 871  673  568  135    0  304  604  683 1042 1577]\n",
      " [1175  977  872  439  304    0  300  379  738 1273]\n",
      " [1475 1277 1172  739  604  300    0   79  438  973]\n",
      " [1554 1356 1251  818  683  379   79    0  359  894]\n",
      " [1913 1715 1610 1177 1042  738  438  359    0  535]\n",
      " [2448 2250 2145 1712 1577 1273  973  894  535    0]] \n",
      "\n",
      "The grid in km is:\n",
      " [[   0.   318.6  487.6 1184.5 1401.7 1891.  2373.8 2500.9 3078.7 3939.7]\n",
      " [ 318.6    0.   169.   865.8 1083.1 1572.3 2055.1 2182.3 2760.  3621. ]\n",
      " [ 487.6  169.     0.   696.8  914.1 1403.3 1886.1 2013.3 2591.  3452. ]\n",
      " [1184.5  865.8  696.8    0.   217.3  706.5 1189.3 1316.4 1894.2 2755.2]\n",
      " [1401.7 1083.1  914.1  217.3    0.   489.2  972.  1099.2 1676.9 2537.9]\n",
      " [1891.  1572.3 1403.3  706.5  489.2    0.   482.8  609.9 1187.7 2048.7]\n",
      " [2373.8 2055.1 1886.1 1189.3  972.   482.8    0.   127.1  704.9 1565.9]\n",
      " [2500.9 2182.3 2013.3 1316.4 1099.2  609.9  127.1    0.   577.8 1438.7]\n",
      " [3078.7 2760.  2591.  1894.2 1676.9 1187.7  704.9  577.8    0.   861. ]\n",
      " [3939.7 3621.  3452.  2755.2 2537.9 2048.7 1565.9 1438.7  861.     0. ]]\n"
     ]
    }
   ],
   "source": [
    "dist = np.array([0, 198, 303, 736, 871, 1175, 1475, 1554, 1913, 2448])\n",
    "grid_miles = np.absolute(dist[:,None]-(dist[:, None].T))\n",
    "print(\"The grid in miles is:\\n\",grid_miles,\"\\n\")\n",
    "\n",
    "grid_km = grid_miles*1.60934\n",
    "np.set_printoptions(precision=1)\n",
    "print(\"The grid in km is:\\n\",grid_km)\n"
   ]
  },
  {
   "cell_type": "markdown",
   "metadata": {},
   "source": [
    "7\\. Prime numbers sieve: compute the prime numbers in the 0-N (N=99 to start with) range with a sieve (mask).\n",
    "  * Constract a shape (100,) boolean array, the mask\n",
    "  * Identify the multiples of each number starting from 2 and set accordingly the corresponding mask element\n",
    "  * Apply the mask to obtain an array of ordered prime numbers\n",
    "  * Check the performances (timeit); how does it scale with N?\n",
    "  * Implement the optimization suggested in the [sieve of Eratosthenes](https://en.wikipedia.org/wiki/Sieve_of_Eratosthenes)"
   ]
  },
  {
   "cell_type": "code",
   "execution_count": 8,
   "metadata": {},
   "outputs": [
    {
     "name": "stdout",
     "output_type": "stream",
     "text": [
      "The first 100 prime numbers are:\n",
      " [0 1 2 3 5 7 11 13 17 19 23 29 31 37 41 43 47 53 59 61 67 71 73 79 83 89\n",
      " 97]\n"
     ]
    }
   ],
   "source": [
    "N = 100\n",
    "mask = np.zeros(N, dtype=bool)\n",
    "numbers = np.array(range(N))\n",
    "\n",
    "for i in range(2, int(math.sqrt(N))):\n",
    "    if mask[i] == False:\n",
    "        j = i**2;\n",
    "        while (j < N):\n",
    "            mask[j] = True;\n",
    "            j = j + i;\n",
    "\n",
    "y = np.ma.array(numbers, mask = mask)\n",
    "prime_numbers = y[~y.mask]\n",
    "print(\"The first\", N, \"prime numbers are:\\n\",prime_numbers)\n",
    "\n"
   ]
  },
  {
   "cell_type": "markdown",
   "metadata": {},
   "source": [
    "8\\. Diffusion using random walk\n",
    "\n",
    "Consider a simple random walk process: at each step in time, a walker jumps right or left (+1 or -1) with equal probability. The goal is to find the typical distance from the origin of a random walker after a given amount of time. \n",
    "To do that, let's simulate many walkers and create a 2D array with each walker as a raw and the actual time evolution as columns\n",
    "\n",
    "  * Take 1000 walkers and let them walk for 200 steps\n",
    "  * Use randint to create a 2D array of size walkers x steps with values -1 or 1\n",
    "  * Build the actual walking distances for each walker (i.e. another 2D array \"summing on each raw\")\n",
    "  * Take the square of that 2D array (elementwise)\n",
    "  * Compute the mean of the squared distances at each step (i.e. the mean along the columns)\n",
    "  * Plot the average distances (sqrt(distance\\*\\*2)) as a function of time (step)\n",
    "  \n",
    "Did you get what you expected?"
   ]
  },
  {
   "cell_type": "code",
   "execution_count": 55,
   "metadata": {},
   "outputs": [
    {
     "data": {
      "image/png": "[encoded data removed]",
      "text/plain": [
       "<Figure size 432x288 with 1 Axes>"
      ]
     },
     "metadata": {
      "needs_background": "light"
     },
     "output_type": "display_data"
    }
   ],
   "source": [
    "import random\n",
    "\n",
    "steps = 200\n",
    "walkers = 1000\n",
    "\n",
    "walk = np.array([random.choice([-1, 1]) for i in range(steps*walkers)]).reshape(walkers, steps)\n",
    "dist = np.cumsum(walk, axis=1)\n",
    "\n",
    "squared_dist = np.square(dist)\n",
    "mean_dist = np.mean(squared_dist, axis=0)\n",
    "\n",
    "\n",
    "plt.plot(range(steps), mean_dist)\n",
    "plt.xlabel('Steps')\n",
    "plt.ylabel('Mean distance')\n",
    "plt.show()"
   ]
  },
  {
   "cell_type": "markdown",
   "metadata": {},
   "source": [
    "9\\. Analyze a data file \n",
    "  * Download the population of hares, lynxes and carrots at the beginning of the last century.\n",
    "    ```python\n",
    "    ! wget https://www.dropbox.com/s/3vigxoqayo389uc/populations.txt\n",
    "    ```\n",
    "\n",
    "  * Check the content by looking within the file\n",
    "  * Load the data (use an appropriate numpy method) into a 2D array\n",
    "  * Create arrays out of the columns, the arrays being (in order): *year*, *hares*, *lynxes*, *carrots* \n",
    "  * Plot the 3 populations over the years\n",
    "  * Compute the main statistical properties of the dataset (mean, std, correlations, etc.)\n",
    "  * Which species has the highest population each year?\n",
    "\n",
    "Do you feel there is some evident correlation here? [Studies](https://www.enr.gov.nt.ca/en/services/lynx/lynx-snowshoe-hare-cycle) tend to believe so."
   ]
  },
  {
   "cell_type": "code",
   "execution_count": 77,
   "metadata": {},
   "outputs": [
    {
     "name": "stdout",
     "output_type": "stream",
     "text": [
      "rm: cannot remove 'populations.txt': No such file or directory\n",
      "--2018-11-13 11:25:57--  https://www.dropbox.com/s/3vigxoqayo389uc/populations.txt\n",
      "Resolving www.dropbox.com (www.dropbox.com)... 162.125.69.1, 2620:100:6025:1::a27d:4501\n",
      "Connecting to www.dropbox.com (www.dropbox.com)|162.125.69.1|:443... connected.\n",
      "HTTP request sent, awaiting response... 301 Moved Permanently\n",
      "Location: /s/raw/3vigxoqayo389uc/populations.txt [following]\n",
      "--2018-11-13 11:25:58--  https://www.dropbox.com/s/raw/3vigxoqayo389uc/populations.txt\n",
      "Reusing existing connection to www.dropbox.com:443.\n",
      "HTTP request sent, awaiting response... 302 Found\n",
      "Location: https://uc79bbad5ba98d5a0d4c8a1bfa91.dl.dropboxusercontent.com/cd/0/inline/AVdcI8f57M3FDvaDhqcKw5tGQ4yEOrg0DmGD95vkunATr3grGABkrzhhesSSyazEyZFNHhozzb_evrfLenVA8r4YnL4Qy0bXalEPaSDksBr85UikKuE8TLHS8LWgmR2kTHC77-Yw-LSz9uhVjTKPmB3hXfwwCYzvDrC61ZoqWHxaTVQXq1uJO40WKD09uTtwv8E/file [following]\n",
      "--2018-11-13 11:25:58--  https://uc79bbad5ba98d5a0d4c8a1bfa91.dl.dropboxusercontent.com/cd/0/inline/AVdcI8f57M3FDvaDhqcKw5tGQ4yEOrg0DmGD95vkunATr3grGABkrzhhesSSyazEyZFNHhozzb_evrfLenVA8r4YnL4Qy0bXalEPaSDksBr85UikKuE8TLHS8LWgmR2kTHC77-Yw-LSz9uhVjTKPmB3hXfwwCYzvDrC61ZoqWHxaTVQXq1uJO40WKD09uTtwv8E/file\n",
      "Resolving uc79bbad5ba98d5a0d4c8a1bfa91.dl.dropboxusercontent.com (uc79bbad5ba98d5a0d4c8a1bfa91.dl.dropboxusercontent.com)... 162.125.69.6, 2620:100:6025:6::a27d:4506\n",
      "Connecting to uc79bbad5ba98d5a0d4c8a1bfa91.dl.dropboxusercontent.com (uc79bbad5ba98d5a0d4c8a1bfa91.dl.dropboxusercontent.com)|162.125.69.6|:443... connected.\n",
      "HTTP request sent, awaiting response... 200 OK\n",
      "Length: 525 [text/plain]\n",
      "Saving to: ‘populations.txt’\n",
      "\n",
      "populations.txt     100%[===================>]     525  --.-KB/s    in 0s      \n",
      "\n",
      "2018-11-13 11:26:04 (6.18 MB/s) - ‘populations.txt’ saved [525/525]\n",
      "\n"
     ]
    }
   ],
   "source": [
    "!rm populations.txt\n",
    "\n",
    "!wget https://www.dropbox.com/s/3vigxoqayo389uc/populations.txt"
   ]
  },
  {
   "cell_type": "code",
   "execution_count": 78,
   "metadata": {},
   "outputs": [
    {
     "data": {
      "text/plain": [
       "<matplotlib.legend.Legend at 0x7f70be875278>"
      ]
     },
     "execution_count": 78,
     "metadata": {},
     "output_type": "execute_result"
    },
    {
     "data": {
      "image/png": "[encoded data removed]",
      "text/plain": [
       "<Figure size 432x288 with 1 Axes>"
      ]
     },
     "metadata": {
      "needs_background": "light"
     },
     "output_type": "display_data"
    }
   ],
   "source": [
    "data = np.loadtxt('populations.txt')\n",
    "year, hares, lynxes, carrots = data.T # trick: columns to variables\n",
    "\n",
    "plt.axes([0.2, 0.1, 0.5, 0.8]) \n",
    "plt.plot(year, hares, year, lynxes, year, carrots) \n",
    "plt.legend(('Hare', 'Lynx', 'Carrot'), loc=(1.05, 0.5))"
   ]
  },
  {
   "cell_type": "code",
   "execution_count": null,
   "metadata": {},
   "outputs": [],
   "source": []
  }
 ],
 "metadata": {
  "kernelspec": {
   "display_name": "Python 3",
   "language": "python",
   "name": "python3"
  }
 },
 "nbformat": 4,
 "nbformat_minor": 2
}
