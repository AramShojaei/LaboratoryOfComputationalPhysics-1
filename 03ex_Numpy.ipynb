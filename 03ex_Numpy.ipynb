{
 "cells": [
  {
   "cell_type": "markdown",
   "metadata": {},
   "source": [
    "### Numpy basics"
   ]
  },
  {
   "cell_type": "code",
   "execution_count": 13,
   "metadata": {},
   "outputs": [],
   "source": [
    "import numpy as np\n",
    "import math as mt"
   ]
  },
  {
   "cell_type": "markdown",
   "metadata": {},
   "source": [
    "1\\. Find the row, column and overall means for the following matrix:\n",
    "\n",
    "```python\n",
    "m = np.arange(12).reshape((3,4))\n",
    "```"
   ]
  },
  {
   "cell_type": "code",
   "execution_count": 39,
   "metadata": {},
   "outputs": [
    {
     "name": "stdout",
     "output_type": "stream",
     "text": [
      "[[ 0  1  2  3]\n",
      " [ 4  5  6  7]\n",
      " [ 8  9 10 11]]\n",
      "Vecor of row means:\n",
      " [[1.5]\n",
      " [5.5]\n",
      " [9.5]]\n",
      "Vecor of column means:\n",
      " [[4.]\n",
      " [5.]\n",
      " [6.]\n",
      " [7.]]\n",
      "verall mean: 5.5\n"
     ]
    }
   ],
   "source": [
    "#1 senza usare le funzioni\n",
    "\n",
    "m = np.arange(12).reshape((3,4))\n",
    "#print(m)\n",
    "shape = m.shape\n",
    "\n",
    "row_m = np.zeros((shape[0],1))\n",
    "col_m = np.zeros((shape[1],1))\n",
    "overall_m = 0.\n",
    "\n",
    "#media dei valori in ogni riga\n",
    "for i in range(shape[0]):\n",
    "    for j in range(shape[1]):\n",
    "        row_m[i] += m[i,j]\n",
    "row_m /= shape[1]\n",
    "print(\"Vecor of row means:\\n\", row_m)\n",
    "\n",
    "#media dei valori in ogni colonna\n",
    "for i in range(shape[1]):\n",
    "    for j in range(shape[0]):\n",
    "        col_m[i] += m[j,i]\n",
    "col_m /= shape[0]\n",
    "print(\"Vecor of column means:\\n\", col_m)\n",
    "\n",
    "#media complessiva\n",
    "for i in range(shape[0]):\n",
    "    for j in range(shape[1]):\n",
    "        overall_m += m[i,j]\n",
    "overall_m /= (shape[0]*shape[1])\n",
    "print(\"Overall mean:\", overall_m)"
   ]
  },
  {
   "cell_type": "code",
   "execution_count": 43,
   "metadata": {},
   "outputs": [
    {
     "name": "stdout",
     "output_type": "stream",
     "text": [
      "Row means:\n",
      " [1.5 5.5 9.5]\n",
      "Column means:\n",
      " [4. 5. 6. 7.]\n",
      "Overall mean: 5.5\n"
     ]
    }
   ],
   "source": [
    "#1 usando le funzioni di numpy\n",
    "\n",
    "print(\"Row means:\\n\", m.mean(axis=1))\n",
    "print(\"Column means:\\n\", m.mean(axis=0))\n",
    "print(\"Overall mean:\", m.mean())\n"
   ]
  },
  {
   "cell_type": "markdown",
   "metadata": {},
   "source": [
    "2\\. Find the outer product of the following two vecotrs\n",
    "\n",
    "```python\n",
    "u = np.array([1,3,5,7])\n",
    "v = np.array([2,4,6,8])\n",
    "```\n",
    "\n",
    "Do this in the following ways:\n",
    "\n",
    "   * Using the function outer in numpy\n",
    "   * Using a nested for loop or list comprehension\n",
    "   * Using numpy broadcasting operatoins\n"
   ]
  },
  {
   "cell_type": "code",
   "execution_count": 45,
   "metadata": {},
   "outputs": [
    {
     "name": "stdout",
     "output_type": "stream",
     "text": [
      "[[ 2  4  6  8]\n",
      " [ 6 12 18 24]\n",
      " [10 20 30 40]\n",
      " [14 28 42 56]]\n"
     ]
    }
   ],
   "source": [
    "#2.a\n",
    "u = np.array([1,3,5,7])\n",
    "v = np.array([2,4,6,8])\n",
    "\n",
    "w = np.outer(u,v)\n",
    "#print(w)"
   ]
  },
  {
   "cell_type": "code",
   "execution_count": 74,
   "metadata": {},
   "outputs": [
    {
     "name": "stdout",
     "output_type": "stream",
     "text": [
      "[[ 2.  4.  6.  8.]\n",
      " [ 6. 12. 18. 24.]\n",
      " [10. 20. 30. 40.]\n",
      " [14. 28. 42. 56.]]\n",
      "[[ 2  4  6  8]\n",
      " [ 6 12 18 24]\n",
      " [10 20 30 40]\n",
      " [14 28 42 56]]\n"
     ]
    }
   ],
   "source": [
    "#2.b.con il for\n",
    "shape_u = u.shape\n",
    "shape_v = v.shape\n",
    "w = np.zeros((shape_u[0],shape_v[0]))\n",
    "\n",
    "for i in range(shape_u[0]):\n",
    "    for j in range(shape_v[0]):\n",
    "        w[i,j] = u[i]*v[j]\n",
    "print(w)\n",
    "\n",
    "#2.b con una lista \n",
    "z = np.array([u[i]*v[j] for i in range(shape_u[0]) for j in range(shape_v[0])]).reshape((shape_u[0],shape_v[0]))\n",
    "print(z)"
   ]
  },
  {
   "cell_type": "code",
   "execution_count": 89,
   "metadata": {},
   "outputs": [
    {
     "name": "stdout",
     "output_type": "stream",
     "text": [
      "Matrix created by broadcasting:\n",
      " [[ 2  4  6  8]\n",
      " [ 6 12 18 24]\n",
      " [10 20 30 40]\n",
      " [14 28 42 56]]\n"
     ]
    }
   ],
   "source": [
    "#2.3\n",
    "u_t = np.array([u]).T #traspone il primo vettore\n",
    "\n",
    "print(\"Matrix created by broadcasting:\\n\", u_t*v)"
   ]
  },
  {
   "cell_type": "markdown",
   "metadata": {},
   "source": [
    "3\\. Create a 10 by 6 matrix of random uniform numbers. Set all rows with any entry less than 0.1 to be zero\n",
    "\n",
    "Hint: Use the following numpy functions - np.random.random, np.any as well as Boolean indexing and the axis argument."
   ]
  },
  {
   "cell_type": "code",
   "execution_count": 11,
   "metadata": {},
   "outputs": [
    {
     "name": "stdout",
     "output_type": "stream",
     "text": [
      "[False False False  True  True  True  True False  True False]\n",
      "[[0.46574891 0.8190779  0.1683615  0.47635169 0.88800365 0.66183868]\n",
      " [0.30942117 0.40547531 0.70233856 0.45686663 0.67982297 0.76045725]\n",
      " [0.88674282 0.66309658 0.86389056 0.41912389 0.90311387 0.7446081 ]\n",
      " [0.         0.         0.         0.         0.         0.        ]\n",
      " [0.         0.         0.         0.         0.         0.        ]\n",
      " [0.         0.         0.         0.         0.         0.        ]\n",
      " [0.         0.         0.         0.         0.         0.        ]\n",
      " [0.87408629 0.73929128 0.71087864 0.75047368 0.45668758 0.37855716]\n",
      " [0.         0.         0.         0.         0.         0.        ]\n",
      " [0.2362864  0.7425631  0.77583708 0.66030548 0.18546182 0.60320594]]\n"
     ]
    }
   ],
   "source": [
    "#3\n",
    "import numpy as np\n",
    "\n",
    "#array di numeri random\n",
    "m = np.random.random((10,6))\n",
    "\n",
    "#maschera con le righe che soddisfano la condizione \"almeno un elmento della riga è < 0.1\"\n",
    "mask = np.any(m < 0.1, axis=1)\n",
    "\n",
    "#arry modificato\n",
    "m[mask] = 0\n",
    "print(m)"
   ]
  },
  {
   "cell_type": "markdown",
   "metadata": {},
   "source": [
    "4\\. Use np.linspace to create an array of 100 numbers between 0 and 2π (includsive).\n",
    "\n",
    "  * Extract every 10th element using slice notation\n",
    "  * Reverse the array using slice notation\n",
    "  * Extract elements where the absolute difference between the sine and cosine functions evaluated at that element is less than 0.1\n",
    "  * Make a plot showing the sin and cos functions and indicate where they are close"
   ]
  },
  {
   "cell_type": "code",
   "execution_count": 49,
   "metadata": {},
   "outputs": [
    {
     "data": {
      "text/plain": [
       "[<matplotlib.lines.Line2D at 0x1b8d9680c50>]"
      ]
     },
     "execution_count": 49,
     "metadata": {},
     "output_type": "execute_result"
    },
    {
     "data": {
      "image/png": "[encoded data removed]",
      "text/plain": [
       "<Figure size 432x288 with 1 Axes>"
      ]
     },
     "metadata": {
      "needs_background": "light"
     },
     "output_type": "display_data"
    }
   ],
   "source": [
    "import matplotlib.pyplot as plt # everybody imports it that way\n",
    "\n",
    "#Create the array\n",
    "a = np.linspace(0,2*mt.pi,100)\n",
    "#Extract every 10th element using slice notation\n",
    "b = a[::10]\n",
    "\n",
    "#Reverse the array using slice notation\n",
    "c = a[::-1]\n",
    "#print(c)\n",
    "mask = np.array([abs(np.sin(c) - np.cos(c)) < 0.1],dtype = bool)\n",
    "points = c[mask[0]]\n",
    "#print(points)\n",
    "\n",
    "\n",
    "%matplotlib inline \n",
    "\n",
    "plt.plot(c,np.sin(c))\n",
    "plt.plot(c,np.cos(c))\n",
    "plt.plot(points,np.sin(points), 'bo')\n",
    "plt.plot(points,np.cos(points), 'ro')"
   ]
  },
  {
   "cell_type": "markdown",
   "metadata": {},
   "source": [
    "5\\. Create a matrix that shows the 10 by 10 multiplication table.\n",
    "\n",
    " * Find the trace of the matrix\n",
    " * Extract the anto-diagonal (this should be ```array([10, 18, 24, 28, 30, 30, 28, 24, 18, 10])```)\n",
    " * Extract the diagnoal offset by 1 upwards (this should be ```array([ 2,  6, 12, 20, 30, 42, 56, 72, 90])```)"
   ]
  },
  {
   "cell_type": "code",
   "execution_count": 87,
   "metadata": {
    "scrolled": false
   },
   "outputs": [
    {
     "name": "stdout",
     "output_type": "stream",
     "text": [
      "Trace of the multiplication table matrix: 385.0\n",
      "The anti diagonal is: [10. 18. 24. 28. 30. 30. 28. 24. 18. 10.]\n",
      "The diagonal offset array is: [ 2.  6. 12. 20. 30. 42. 56. 72. 90.]\n"
     ]
    }
   ],
   "source": [
    "mult_tab = np.fromfunction(lambda i, j: (i+1)*(j+1), (10,10))\n",
    "#print(mult_tab)\n",
    "#Find the trace of the matrix\n",
    "trace = np.trace(mult_tab)\n",
    "print(\"Trace of the multiplication table matrix:\", trace)\n",
    "\n",
    "#Extract the anto-diagonal\n",
    "anti_mult_tab = mult_tab[::-1,]\n",
    "anti_diag = anti_mult_tab.diagonal()\n",
    "print(\"The anti diagonal is:\",anti_diag)\n",
    "\n",
    "#Extract the diagonal offset by 1 upwards\n",
    "offset = mult_tab[([i for i in range(0,9)]),([j for j in range(1,10)])]\n",
    "print(\"The diagonal offset array is:\",offset)\n"
   ]
  },
  {
   "cell_type": "markdown",
   "metadata": {},
   "source": [
    "6\\. Use broadcasting to create a grid of distances\n",
    "\n",
    "Route 66 crosses the following cities in the US: Chicago, Springfield, Saint-Louis, Tulsa, Oklahoma City, Amarillo, Santa Fe, Albuquerque, Flagstaff, Los Angeles\n",
    "The corresponding positions in miles are: 0, 198, 303, 736, 871, 1175, 1475, 1544, 1913, 2448\n",
    "\n",
    "  * Construct a 2D grid of distances among each city along Route 66\n",
    "  * Convert that in km (those savages...)"
   ]
  },
  {
   "cell_type": "code",
   "execution_count": 100,
   "metadata": {},
   "outputs": [
    {
     "name": "stdout",
     "output_type": "stream",
     "text": [
      "Matrix of the distances in miles:\n",
      " [[   0  198  303  736  871 1175 1475 1544 1913  448]\n",
      " [ 198    0  105  538  673  977 1277 1346 1715  250]\n",
      " [ 303  105    0  433  568  872 1172 1241 1610  145]\n",
      " [ 736  538  433    0  135  439  739  808 1177  288]\n",
      " [ 871  673  568  135    0  304  604  673 1042  423]\n",
      " [1175  977  872  439  304    0  300  369  738  727]\n",
      " [1475 1277 1172  739  604  300    0   69  438 1027]\n",
      " [1544 1346 1241  808  673  369   69    0  369 1096]\n",
      " [1913 1715 1610 1177 1042  738  438  369    0 1465]\n",
      " [ 448  250  145  288  423  727 1027 1096 1465    0]]\n",
      "Matrix of the distances in km:\n",
      " [[   0.        318.650112  487.631232 1184.477184 1401.738624 1890.9792\n",
      "  2373.7824   2484.827136 3078.675072  720.986112]\n",
      " [ 318.650112    0.        168.98112   865.827072 1083.088512 1572.329088\n",
      "  2055.132288 2166.177024 2760.02496   402.336   ]\n",
      " [ 487.631232  168.98112     0.        696.845952  914.107392 1403.347968\n",
      "  1886.151168 1997.195904 2591.04384   233.35488 ]\n",
      " [1184.477184  865.827072  696.845952    0.        217.26144   706.502016\n",
      "  1189.305216 1300.349952 1894.197888  463.491072]\n",
      " [1401.738624 1083.088512  914.107392  217.26144     0.        489.240576\n",
      "   972.043776 1083.088512 1676.936448  680.752512]\n",
      " [1890.9792   1572.329088 1403.347968  706.502016  489.240576    0.\n",
      "   482.8032    593.847936 1187.695872 1169.993088]\n",
      " [2373.7824   2055.132288 1886.151168 1189.305216  972.043776  482.8032\n",
      "     0.        111.044736  704.892672 1652.796288]\n",
      " [2484.827136 2166.177024 1997.195904 1300.349952 1083.088512  593.847936\n",
      "   111.044736    0.        593.847936 1763.841024]\n",
      " [3078.675072 2760.02496  2591.04384  1894.197888 1676.936448 1187.695872\n",
      "   704.892672  593.847936    0.       2357.68896 ]\n",
      " [ 720.986112  402.336     233.35488   463.491072  680.752512 1169.993088\n",
      "  1652.796288 1763.841024 2357.68896     0.      ]]\n"
     ]
    }
   ],
   "source": [
    "distances = np.array([0,198,303,736,871,1175,1475,1544,1913,448])\n",
    "grid = np.array(abs(distances-np.array([distances]).T))\n",
    "print(\"Matrix of the distances in miles:\\n\", grid)\n",
    "grid_km = (grid * 1.609344)\n",
    "print(\"Matrix of the distances in km:\\n\", grid_km)\n"
   ]
  },
  {
   "cell_type": "markdown",
   "metadata": {},
   "source": [
    "7\\. Prime numbers sieve: compute the prime numbers in the 0-N (N=99 to start with) range with a sieve (mask).\n",
    "  * Constract a shape (100,) boolean array, the mask\n",
    "  * Identify the multiples of each number starting from 2 and set accordingly the corresponding mask element\n",
    "  * Apply the mask to obtain an array of ordered prime numbers\n",
    "  * Check the performances (timeit); how does it scale with N?\n",
    "  * Implement the optimization suggested in the [sieve of Eratosthenes](https://en.wikipedia.org/wiki/Sieve_of_Eratosthenes)"
   ]
  },
  {
   "cell_type": "markdown",
   "metadata": {},
   "source": [
    "8\\. Diffusion using random walk\n",
    "\n",
    "Consider a simple random walk process: at each step in time, a walker jumps right or left (+1 or -1) with equal probability. The goal is to find the typical distance from the origin of a random walker after a given amount of time. \n",
    "To do that, let's simulate many walkers and create a 2D array with each walker as a raw and the actual time evolution as columns\n",
    "\n",
    "  * Take 1000 walkers and let them walk for 200 steps\n",
    "  * Use randint to create a 2D array of size walkers x steps with values -1 or 1\n",
    "  * Build the actual walking distances for each walker (i.e. another 2D array \"summing on each raw\")\n",
    "  * Take the square of that 2D array (elementwise)\n",
    "  * Compute the mean of the squared distances at each step (i.e. the mean along the columns)\n",
    "  * Plot the average distances (sqrt(distance\\*\\*2)) as a function of time (step)\n",
    "  \n",
    "Did you get what you expected?"
   ]
  },
  {
   "cell_type": "markdown",
   "metadata": {},
   "source": [
    "9\\. Analyze a data file \n",
    "  * Download the population of hares, lynxes and carrots at the beginning of the last century.\n",
    "    ```python\n",
    "    ! wget https://www.dropbox.com/s/3vigxoqayo389uc/populations.txt\n",
    "    ```\n",
    "\n",
    "  * Check the content by looking within the file\n",
    "  * Load the data (use an appropriate numpy method) into a 2D array\n",
    "  * Create arrays out of the columns, the arrays being (in order): *year*, *hares*, *lynxes*, *carrots* \n",
    "  * Plot the 3 populations over the years\n",
    "  * Compute the main statistical properties of the dataset (mean, std, correlations, etc.)\n",
    "  * Which species has the highest population each year?\n",
    "\n",
    "Do you feel there is some evident correlation here? [Studies](https://www.enr.gov.nt.ca/en/services/lynx/lynx-snowshoe-hare-cycle) tend to believe so."
   ]
  },
  {
   "cell_type": "code",
   "execution_count": null,
   "metadata": {},
   "outputs": [],
   "source": []
  }
 ],
 "metadata": {
  "kernelspec": {
   "display_name": "Python 3",
   "language": "python",
   "name": "python3"
  },
  "language_info": {
   "codemirror_mode": {
    "name": "ipython",
    "version": 3
   },
   "file_extension": ".py",
   "mimetype": "text/x-python",
   "name": "python",
   "nbconvert_exporter": "python",
   "pygments_lexer": "ipython3",
   "version": "3.7.0"
  }
 },
 "nbformat": 4,
 "nbformat_minor": 2
}
