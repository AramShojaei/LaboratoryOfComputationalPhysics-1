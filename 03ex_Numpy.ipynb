{
 "cells": [
  {
   "cell_type": "code",
   "execution_count": 1,
   "metadata": {},
   "outputs": [],
   "source": [
    "import numpy as np"
   ]
  },
  {
   "cell_type": "markdown",
   "metadata": {},
   "source": [
    "### Numpy basics"
   ]
  },
  {
   "cell_type": "markdown",
   "metadata": {},
   "source": [
    "1\\. Find the row, column and overall means for the following matrix:\n",
    "\n",
    "```python\n",
    "m = np.arange(12).reshape((3,4))\n",
    "```"
   ]
  },
  {
   "cell_type": "code",
   "execution_count": 2,
   "metadata": {},
   "outputs": [
    {
     "name": "stdout",
     "output_type": "stream",
     "text": [
      "Matrix:\n",
      " [[ 0  1  2  3]\n",
      " [ 4  5  6  7]\n",
      " [ 8  9 10 11]] \n",
      "\n",
      "Row:  [4. 5. 6. 7.] \n",
      "Col:  [1.5 5.5 9.5] \n",
      "All:  5.5\n"
     ]
    }
   ],
   "source": [
    "m = np.arange(12).reshape((3,4))\n",
    "row = np.mean(m, axis=0)\n",
    "col = np.mean(m, axis=1)\n",
    "tot = np.mean(m)\n",
    "print('Matrix:\\n',m,'\\n\\nRow: ',row,'\\nCol: ',col,'\\nAll: ',tot)"
   ]
  },
  {
   "cell_type": "markdown",
   "metadata": {},
   "source": [
    "2\\. Find the outer product of the following two vecotrs\n",
    "\n",
    "```python\n",
    "u = np.array([1,3,5,7])\n",
    "v = np.array([2,4,6,8])\n",
    "```\n",
    "\n",
    "Do this in the following ways:\n",
    "\n",
    "   * Using the function outer in numpy\n",
    "   * Using a nested for loop or list comprehension\n",
    "   * Using numpy broadcasting operations\n"
   ]
  },
  {
   "cell_type": "code",
   "execution_count": 3,
   "metadata": {},
   "outputs": [
    {
     "name": "stdout",
     "output_type": "stream",
     "text": [
      "Original: [1 3 5 7] [2 4 6 8] \n",
      "Outer:\n",
      " [[ 2  4  6  8]\n",
      " [ 6 12 18 24]\n",
      " [10 20 30 40]\n",
      " [14 28 42 56]] \n",
      "Comprehension:\n",
      " [[ 2  4  6  8]\n",
      " [ 6 12 18 24]\n",
      " [10 20 30 40]\n",
      " [14 28 42 56]] \n",
      "Broadcast:\n",
      " [[ 2  4  6  8]\n",
      " [ 6 12 18 24]\n",
      " [10 20 30 40]\n",
      " [14 28 42 56]]\n"
     ]
    }
   ],
   "source": [
    "u = np.array([1,3,5,7])\n",
    "v = np.array([2,4,6,8])\n",
    "\n",
    "o  = np.outer(u,v)\n",
    "lc = np.array([[x*y for y in v ] for x in u])\n",
    "bc = np.tile(u,(4,1)).T * np.tile(v,(4,1))\n",
    "print('Original:',u,v,'\\nOuter:\\n',o,'\\nComprehension:\\n',lc,'\\nBroadcast:\\n',bc)"
   ]
  },
  {
   "cell_type": "markdown",
   "metadata": {},
   "source": [
    "3\\. Create a 10 by 6 matrix of random uniform numbers. Set all rows with any entry less than 0.1 to be zero\n",
    "\n",
    "Hint: Use the following numpy functions - np.random.random, np.any as well as Boolean indexing and the axis argument."
   ]
  },
  {
   "cell_type": "code",
   "execution_count": 4,
   "metadata": {},
   "outputs": [
    {
     "name": "stdout",
     "output_type": "stream",
     "text": [
      "[[0.80918112 0.25960541 0.27844099 0.70756452 0.94610746 0.76287172]\n",
      " [0.13703352 0.78174214 0.30414184 0.27654588 0.00695361 0.62956521]\n",
      " [0.47597216 0.58405953 0.53266863 0.62131831 0.44368094 0.35274495]\n",
      " [0.14802242 0.7855972  0.82596785 0.79930204 0.42818281 0.92831048]\n",
      " [0.9443186  0.21771314 0.02394892 0.33216924 0.90364227 0.62463892]\n",
      " [0.47911047 0.65173567 0.7540893  0.30210675 0.2962115  0.21746126]\n",
      " [0.33966336 0.49725581 0.90395709 0.30420541 0.03590388 0.55022483]\n",
      " [0.12247217 0.28726196 0.01252162 0.33146994 0.92244251 0.78598968]\n",
      " [0.71137624 0.78826656 0.24708904 0.36014586 0.67574542 0.05778504]\n",
      " [0.42220408 0.82076754 0.24795003 0.47805052 0.65212045 0.02677952]] \n",
      "\n",
      " [False  True False False  True False  True  True  True  True] \n",
      "\n",
      "[[0.80918112 0.25960541 0.27844099 0.70756452 0.94610746 0.76287172]\n",
      " [0.         0.         0.         0.         0.         0.        ]\n",
      " [0.47597216 0.58405953 0.53266863 0.62131831 0.44368094 0.35274495]\n",
      " [0.14802242 0.7855972  0.82596785 0.79930204 0.42818281 0.92831048]\n",
      " [0.         0.         0.         0.         0.         0.        ]\n",
      " [0.47911047 0.65173567 0.7540893  0.30210675 0.2962115  0.21746126]\n",
      " [0.         0.         0.         0.         0.         0.        ]\n",
      " [0.         0.         0.         0.         0.         0.        ]\n",
      " [0.         0.         0.         0.         0.         0.        ]\n",
      " [0.         0.         0.         0.         0.         0.        ]]\n"
     ]
    }
   ],
   "source": [
    "mat = np.random.rand(10,6)\n",
    "mask = np.any(mat<=0.1, axis=1) # mask of rows with 1+ element <=0.1\n",
    "\n",
    "print(mat,'\\n\\n',mask,'\\n')\n",
    "mat[mask] = 0 # row clearing\n",
    "print(mat)"
   ]
  },
  {
   "cell_type": "markdown",
   "metadata": {},
   "source": [
    "4\\. Use np.linspace to create an array of 100 numbers between 0 and 2π (includsive).\n",
    "\n",
    "  * Extract every 10th element using slice notation\n",
    "  * Reverse the array using slice notation\n",
    "  * Extract elements where the absolute difference between the sine and cosine functions evaluated at that element is less than 0.1\n",
    "  * Make a plot showing the sin and cos functions and indicate where they are close"
   ]
  },
  {
   "cell_type": "code",
   "execution_count": 5,
   "metadata": {},
   "outputs": [
    {
     "name": "stdout",
     "output_type": "stream",
     "text": [
      "Space:\n",
      " [0.         0.06346652 0.12693304 0.19039955 0.25386607 0.31733259\n",
      " 0.38079911 0.44426563 0.50773215 0.57119866 0.63466518 0.6981317\n",
      " 0.76159822 0.82506474 0.88853126 0.95199777 1.01546429 1.07893081\n",
      " 1.14239733 1.20586385 1.26933037 1.33279688 1.3962634  1.45972992\n",
      " 1.52319644 1.58666296 1.65012947 1.71359599 1.77706251 1.84052903\n",
      " 1.90399555 1.96746207 2.03092858 2.0943951  2.15786162 2.22132814\n",
      " 2.28479466 2.34826118 2.41172769 2.47519421 2.53866073 2.60212725\n",
      " 2.66559377 2.72906028 2.7925268  2.85599332 2.91945984 2.98292636\n",
      " 3.04639288 3.10985939 3.17332591 3.23679243 3.30025895 3.36372547\n",
      " 3.42719199 3.4906585  3.55412502 3.61759154 3.68105806 3.74452458\n",
      " 3.8079911  3.87145761 3.93492413 3.99839065 4.06185717 4.12532369\n",
      " 4.1887902  4.25225672 4.31572324 4.37918976 4.44265628 4.5061228\n",
      " 4.56958931 4.63305583 4.69652235 4.75998887 4.82345539 4.88692191\n",
      " 4.95038842 5.01385494 5.07732146 5.14078798 5.2042545  5.26772102\n",
      " 5.33118753 5.39465405 5.45812057 5.52158709 5.58505361 5.64852012\n",
      " 5.71198664 5.77545316 5.83891968 5.9023862  5.96585272 6.02931923\n",
      " 6.09278575 6.15625227 6.21971879 6.28318531] \n",
      "Every 10th:\n",
      " [0.         0.63466518 1.26933037 1.90399555 2.53866073 3.17332591\n",
      " 3.8079911  4.44265628 5.07732146 5.71198664] \n",
      "Reverse:\n",
      " [6.28318531 6.21971879 6.15625227 6.09278575 6.02931923 5.96585272\n",
      " 5.9023862  5.83891968 5.77545316 5.71198664 5.64852012 5.58505361\n",
      " 5.52158709 5.45812057 5.39465405 5.33118753 5.26772102 5.2042545\n",
      " 5.14078798 5.07732146 5.01385494 4.95038842 4.88692191 4.82345539\n",
      " 4.75998887 4.69652235 4.63305583 4.56958931 4.5061228  4.44265628\n",
      " 4.37918976 4.31572324 4.25225672 4.1887902  4.12532369 4.06185717\n",
      " 3.99839065 3.93492413 3.87145761 3.8079911  3.74452458 3.68105806\n",
      " 3.61759154 3.55412502 3.4906585  3.42719199 3.36372547 3.30025895\n",
      " 3.23679243 3.17332591 3.10985939 3.04639288 2.98292636 2.91945984\n",
      " 2.85599332 2.7925268  2.72906028 2.66559377 2.60212725 2.53866073\n",
      " 2.47519421 2.41172769 2.34826118 2.28479466 2.22132814 2.15786162\n",
      " 2.0943951  2.03092858 1.96746207 1.90399555 1.84052903 1.77706251\n",
      " 1.71359599 1.65012947 1.58666296 1.52319644 1.45972992 1.3962634\n",
      " 1.33279688 1.26933037 1.20586385 1.14239733 1.07893081 1.01546429\n",
      " 0.95199777 0.88853126 0.82506474 0.76159822 0.6981317  0.63466518\n",
      " 0.57119866 0.50773215 0.44426563 0.38079911 0.31733259 0.25386607\n",
      " 0.19039955 0.12693304 0.06346652 0.        ]\n",
      "\n",
      "Diff:\n",
      " [0.76159822 0.82506474 3.87145761 3.93492413]\n"
     ]
    },
    {
     "data": {
      "text/plain": [
       "[<matplotlib.lines.Line2D at 0x23457d1f438>]"
      ]
     },
     "execution_count": 5,
     "metadata": {},
     "output_type": "execute_result"
    },
    {
     "data": {
      "image/png": "[encoded data removed]",
      "text/plain": [
       "<Figure size 432x288 with 1 Axes>"
      ]
     },
     "metadata": {
      "needs_background": "light"
     },
     "output_type": "display_data"
    }
   ],
   "source": [
    "import math\n",
    "x = np.linspace(0, 2*math.pi, 100)\n",
    "th = x[::10]\n",
    "xr = x[::-1]\n",
    "print ('Space:\\n',x,'\\nEvery 10th:\\n',th,'\\nReverse:\\n',xr)\n",
    "\n",
    "sn = np.sin(x) # derived linspaces\n",
    "cs = np.cos(x)\n",
    "idx = tuple([abs(sn-cs) < 0.1]) # list of bool where sin and cos are close\n",
    "diff = x[idx] # corresponding values\n",
    "print('\\nDiff:\\n',diff)\n",
    "\n",
    "# tuple in idx disables a FutureWarning:\n",
    "# indexing with idx = np.array is deprecated\n",
    "# the solution is to wrap the array in a tuple\n",
    "\n",
    "import matplotlib.pyplot as plt\n",
    "%matplotlib inline\n",
    "plt.plot(x,sn,'b-') # curves plots\n",
    "plt.plot(x,cs,'g-')\n",
    "plt.plot(diff,sn[idx],'r.') # points plots\n",
    "plt.plot(diff,cs[idx],'r.')\n",
    "# note: to achieve more precision use a linspace with more than 100 values"
   ]
  },
  {
   "cell_type": "markdown",
   "metadata": {},
   "source": [
    "5\\. Create a matrix that shows the 10 by 10 multiplication table.\n",
    "\n",
    " * Find the trace of the matrix\n",
    " * Extract the anto-diagonal (this should be ```array([10, 18, 24, 28, 30, 30, 28, 24, 18, 10])```)\n",
    " * Extract the diagnoal offset by 1 upwards (this should be ```array([ 2,  6, 12, 20, 30, 42, 56, 72, 90])```)"
   ]
  },
  {
   "cell_type": "code",
   "execution_count": 6,
   "metadata": {},
   "outputs": [
    {
     "name": "stdout",
     "output_type": "stream",
     "text": [
      "Matrix:\n",
      " [[  1   2   3   4   5   6   7   8   9  10]\n",
      " [  2   4   6   8  10  12  14  16  18  20]\n",
      " [  3   6   9  12  15  18  21  24  27  30]\n",
      " [  4   8  12  16  20  24  28  32  36  40]\n",
      " [  5  10  15  20  25  30  35  40  45  50]\n",
      " [  6  12  18  24  30  36  42  48  54  60]\n",
      " [  7  14  21  28  35  42  49  56  63  70]\n",
      " [  8  16  24  32  40  48  56  64  72  80]\n",
      " [  9  18  27  36  45  54  63  72  81  90]\n",
      " [ 10  20  30  40  50  60  70  80  90 100]] \n",
      "\n",
      "Trace: 385 \n",
      "Anti-diag: [10 18 24 28 30 30 28 24 18 10] \n",
      "Shifted diag: [ 2  6 12 20 30 42 56 72 90]\n"
     ]
    }
   ],
   "source": [
    "# to build the matrix first create an array,\n",
    "# then derive the same vector with one more dimension\n",
    "# and perform element-wise multiplication\n",
    "mt = np.arange(1, 11)\n",
    "mt = mt * mt[:,None]\n",
    "\n",
    "tr = np.trace(mt)\n",
    "adg = np.diagonal(np.fliplr(mt)) # antidiagonal = diagonal of the flipped matrix\n",
    "dg = np.diagonal(mt,1) # 1 for the offset\n",
    "print('Matrix:\\n',mt,'\\n\\nTrace:',tr,'\\nAnti-diag:',adg,'\\nShifted diag:',dg)"
   ]
  },
  {
   "cell_type": "markdown",
   "metadata": {},
   "source": [
    "6\\. Use broadcasting to create a grid of distances\n",
    "\n",
    "Route 66 crosses the following cities in the US: Chicago, Springfield, Saint-Louis, Tulsa, Oklahoma City, Amarillo, Santa Fe, Albuquerque, Flagstaff, Los Angeles\n",
    "\n",
    "The corresponding positions in miles are: 0, 198, 303, 736, 871, 1175, 1475, 1544, 1913, 2448\n",
    "\n",
    "  * Construct a 2D grid of distances among each city along Route 66\n",
    "  * Convert that in km (those savages...)"
   ]
  },
  {
   "cell_type": "code",
   "execution_count": 7,
   "metadata": {},
   "outputs": [
    {
     "name": "stdout",
     "output_type": "stream",
     "text": [
      "[[    0   198   303   736   871  1175  1475  1544  1913  2448]\n",
      " [ -198     0   105   538   673   977  1277  1346  1715  2250]\n",
      " [ -303  -105     0   433   568   872  1172  1241  1610  2145]\n",
      " [ -736  -538  -433     0   135   439   739   808  1177  1712]\n",
      " [ -871  -673  -568  -135     0   304   604   673  1042  1577]\n",
      " [-1175  -977  -872  -439  -304     0   300   369   738  1273]\n",
      " [-1475 -1277 -1172  -739  -604  -300     0    69   438   973]\n",
      " [-1544 -1346 -1241  -808  -673  -369   -69     0   369   904]\n",
      " [-1913 -1715 -1610 -1177 -1042  -738  -438  -369     0   535]\n",
      " [-2448 -2250 -2145 -1712 -1577 -1273  -973  -904  -535     0]]\n",
      "[[    0   198   303   736   871  1175  1475  1544  1913  2448]\n",
      " [ -198     0   105   538   673   977  1277  1346  1715  2250]\n",
      " [ -303  -105     0   433   568   872  1172  1241  1610  2145]\n",
      " [ -736  -538  -433     0   135   439   739   808  1177  1712]\n",
      " [ -871  -673  -568  -135     0   304   604   673  1042  1577]\n",
      " [-1175  -977  -872  -439  -304     0   300   369   738  1273]\n",
      " [-1475 -1277 -1172  -739  -604  -300     0    69   438   973]\n",
      " [-1544 -1346 -1241  -808  -673  -369   -69     0   369   904]\n",
      " [-1913 -1715 -1610 -1177 -1042  -738  -438  -369     0   535]\n",
      " [-2448 -2250 -2145 -1712 -1577 -1273  -973  -904  -535     0]]\n",
      "[[    0.    316.8   484.8  1177.6  1393.6  1880.   2360.   2470.4  3060.8\n",
      "   3916.8]\n",
      " [ -316.8     0.    168.    860.8  1076.8  1563.2  2043.2  2153.6  2744.\n",
      "   3600. ]\n",
      " [ -484.8  -168.      0.    692.8   908.8  1395.2  1875.2  1985.6  2576.\n",
      "   3432. ]\n",
      " [-1177.6  -860.8  -692.8     0.    216.    702.4  1182.4  1292.8  1883.2\n",
      "   2739.2]\n",
      " [-1393.6 -1076.8  -908.8  -216.      0.    486.4   966.4  1076.8  1667.2\n",
      "   2523.2]\n",
      " [-1880.  -1563.2 -1395.2  -702.4  -486.4     0.    480.    590.4  1180.8\n",
      "   2036.8]\n",
      " [-2360.  -2043.2 -1875.2 -1182.4  -966.4  -480.      0.    110.4   700.8\n",
      "   1556.8]\n",
      " [-2470.4 -2153.6 -1985.6 -1292.8 -1076.8  -590.4  -110.4     0.    590.4\n",
      "   1446.4]\n",
      " [-3060.8 -2744.  -2576.  -1883.2 -1667.2 -1180.8  -700.8  -590.4     0.\n",
      "    856. ]\n",
      " [-3916.8 -3600.  -3432.  -2739.2 -2523.2 -2036.8 -1556.8 -1446.4  -856.\n",
      "      0. ]]\n",
      "[[    0.    316.8   484.8  1177.6  1393.6  1880.   2360.   2470.4  3060.8\n",
      "   3916.8]\n",
      " [ -316.8     0.    168.    860.8  1076.8  1563.2  2043.2  2153.6  2744.\n",
      "   3600. ]\n",
      " [ -484.8  -168.      0.    692.8   908.8  1395.2  1875.2  1985.6  2576.\n",
      "   3432. ]\n",
      " [-1177.6  -860.8  -692.8     0.    216.    702.4  1182.4  1292.8  1883.2\n",
      "   2739.2]\n",
      " [-1393.6 -1076.8  -908.8  -216.      0.    486.4   966.4  1076.8  1667.2\n",
      "   2523.2]\n",
      " [-1880.  -1563.2 -1395.2  -702.4  -486.4     0.    480.    590.4  1180.8\n",
      "   2036.8]\n",
      " [-2360.  -2043.2 -1875.2 -1182.4  -966.4  -480.      0.    110.4   700.8\n",
      "   1556.8]\n",
      " [-2470.4 -2153.6 -1985.6 -1292.8 -1076.8  -590.4  -110.4     0.    590.4\n",
      "   1446.4]\n",
      " [-3060.8 -2744.  -2576.  -1883.2 -1667.2 -1180.8  -700.8  -590.4     0.\n",
      "    856. ]\n",
      " [-3916.8 -3600.  -3432.  -2739.2 -2523.2 -2036.8 -1556.8 -1446.4  -856.\n",
      "      0. ]]\n"
     ]
    }
   ],
   "source": [
    "numbers = np.array([0, 198, 303, 736, 871, 1175, 1475, 1544, 1913, 2448])\n",
    "MILE_KM = 1.6 # circa\n",
    "\n",
    "# add a dimension (on row and on column), element-wise difference\n",
    "#print(numbers[None,:]); print(numbers[:,None])\n",
    "grid = numbers[None,:] - numbers[:,None]\n",
    "print(grid)\n",
    "\n",
    "# using a double loop on the array\n",
    "# not a nice list comprehension but works\n",
    "grid2 = np.array([i-j for i in numbers for j in numbers]).reshape(10,10).T\n",
    "print(grid2)\n",
    "\n",
    "# miles conversion\n",
    "gridkm  = grid * MILE_KM\n",
    "grid2km = grid2 * MILE_KM\n",
    "print(gridkm)\n",
    "print(grid2km)"
   ]
  },
  {
   "cell_type": "markdown",
   "metadata": {},
   "source": [
    "7\\. Prime numbers sieve: compute the prime numbers in the 0-N (N=99 to start with) range with a sieve (mask).\n",
    "  * Constract a shape (100,) boolean array, the mask\n",
    "  * Identify the multiples of each number starting from 2 and set accordingly the corresponding mask element\n",
    "  * Apply the mask to obtain an array of ordered prime numbers\n",
    "  * Check the performances (timeit); how does it scale with N?\n",
    "  * Implement the optimization suggested in the [sieve of Eratosthenes](https://en.wikipedia.org/wiki/Sieve_of_Eratosthenes)"
   ]
  },
  {
   "cell_type": "code",
   "execution_count": 8,
   "metadata": {},
   "outputs": [
    {
     "name": "stdout",
     "output_type": "stream",
     "text": [
      "[ 1  2  3  5  7 11 13 17 19 23 29 31 37 41 43 47 53 59 61 67 71 73 79 83\n",
      " 89 97]\n",
      "[ 1  2  3  5  7 11 13 17 19 23 29 31 37 41 43 47 53 59 61 67 71 73 79 83\n",
      " 89 97]\n",
      "1.09 ms ± 259 µs per loop (mean ± std. dev. of 7 runs, 10 loops each)\n",
      "435 µs ± 9.31 µs per loop (mean ± std. dev. of 7 runs, 10 loops each)\n",
      "862 µs ± 5.2 µs per loop (mean ± std. dev. of 7 runs, 100 loops each)\n",
      "452 µs ± 34.9 µs per loop (mean ± std. dev. of 7 runs, 100 loops each)\n"
     ]
    }
   ],
   "source": [
    "def first():\n",
    "    mask = np.ones((N,), dtype='bool')\n",
    "    numbers = np.arange(N)+1\n",
    "    \n",
    "    for div in range(2,MAX):\n",
    "        for num in numbers:\n",
    "            # not prev. touched, multiple and is not the same number\n",
    "            if mask[num-1] and num % div == 0 and num != div:\n",
    "                mask[num-1] = False\n",
    "    return numbers[mask]\n",
    "\n",
    "def second():\n",
    "    mask = np.ones((N,), dtype='bool')\n",
    "    numbers = np.arange(N)+1\n",
    "\n",
    "    for div in range(2,MAX):\n",
    "        if mask[div-1]:\n",
    "            # this array creation could be further optimized\n",
    "            # but for low N values this should not be too complex\n",
    "            array = [] # for div^2 + k*div values\n",
    "            for k in range(N):\n",
    "                value = div**2 + k*div\n",
    "                if value < N+1:\n",
    "                    array.append(value)\n",
    "\n",
    "            # loop on array\n",
    "            for j in array:\n",
    "                mask[j-1] = False\n",
    "    return numbers[mask]\n",
    "\n",
    "N = 100\n",
    "MAX = 10 # sqrt(N)\n",
    "print(first())\n",
    "print(second())\n",
    "\n",
    "# Approx. results on my laptop: circa 2x speedup\n",
    "%timeit -n 10 first()\n",
    "%timeit -n 10 second()\n",
    "%timeit -n 100 first()\n",
    "%timeit -n 100 second()"
   ]
  },
  {
   "cell_type": "markdown",
   "metadata": {},
   "source": [
    "8\\. Diffusion using random walk\n",
    "\n",
    "Consider a simple random walk process: at each step in time, a walker jumps right or left (+1 or -1) with equal probability. The goal is to find the typical distance from the origin of a random walker after a given amount of time. \n",
    "To do that, let's simulate many walkers and create a 2D array with each walker as a row and the actual time evolution as columns\n",
    "\n",
    "  * Take 1000 walkers and let them walk for 200 steps\n",
    "  * Use randint to create a 2D array of size walkers x steps with values -1 or 1\n",
    "  * Build the actual walking distances for each walker (i.e. another 2D array \"summing on each row\")\n",
    "  * Take the square of that 2D array (elementwise)\n",
    "  * Compute the mean of the squared distances at each step (i.e. the mean along the columns)\n",
    "  * Plot the average distances (sqrt(distance\\*\\*2)) as a function of time (step)\n",
    "  \n",
    "Did you get what you expected?\n",
    "\n",
    "**Answer:** The plot shows that distance variances evolve like the `sqrt(t)` function (where `t` depicts the time, measured in steps)"
   ]
  },
  {
   "cell_type": "code",
   "execution_count": 9,
   "metadata": {},
   "outputs": [
    {
     "data": {
      "text/plain": [
       "[<matplotlib.lines.Line2D at 0x23457dd07f0>]"
      ]
     },
     "execution_count": 9,
     "metadata": {},
     "output_type": "execute_result"
    },
    {
     "data": {
      "image/png": "[encoded data removed]",
      "text/plain": [
       "<Figure size 432x288 with 1 Axes>"
      ]
     },
     "metadata": {
      "needs_background": "light"
     },
     "output_type": "display_data"
    }
   ],
   "source": [
    "walkers = 1000\n",
    "steps = 200\n",
    "\n",
    "# random 0,1 values\n",
    "np.random.seed(1234)\n",
    "rndvals = np.random.randint(0,2, size=(walkers,steps), dtype='int')\n",
    "rndvals[rndvals == 0] = -1 # back to +-1\n",
    "#print(rndvals)\n",
    "\n",
    "# cumulative sum over rows\n",
    "distances = np.cumsum(rndvals, axis=1)\n",
    "#print(distances)\n",
    "\n",
    "# another less standard way of doing that:\n",
    "# cycling through columns and parallelizing around rows\n",
    "#  distances = np.zeros((walkers,steps),dtype='int')\n",
    "#  for c in range(1,steps+1):\n",
    "#      distances[:,0:c] = np.cumsum(rndvals[:,0:c],axis=1)\n",
    "\n",
    "# means vector over squares matrix\n",
    "meanDist = np.mean(distances**2, axis=0)\n",
    "\n",
    "plt.plot(np.arange(steps), meanDist**0.5)"
   ]
  },
  {
   "cell_type": "markdown",
   "metadata": {},
   "source": [
    "9\\. Analyze a data file \n",
    "  * Download the population of hares, lynxes and carrots at the beginning of the last century.\n",
    "    ```python\n",
    "    ! wget https://www.dropbox.com/s/3vigxoqayo389uc/populations.txt\n",
    "    ```\n",
    "\n",
    "  * Check the content by looking within the file\n",
    "  * Load the data (use an appropriate numpy method) into a 2D array\n",
    "  * Create arrays out of the columns, the arrays being (in order): *year*, *hares*, *lynxes*, *carrots* \n",
    "  * Plot the 3 populations over the years\n",
    "  * Compute the main statistical properties of the dataset (mean, std, correlations, etc.)\n",
    "  * Which species has the highest population each year?\n",
    "\n",
    "Do you feel there is some evident correlation here? [Studies](https://www.enr.gov.nt.ca/en/services/lynx/lynx-snowshoe-hare-cycle) tend to believe so.\n",
    "\n",
    "**Answer:**\n",
    "\n",
    "| Type           | Correlation |\n",
    "|----------------|-------------|\n",
    "| Carrots-Hares  | 256698928   |\n",
    "| Carrots-Lynxes | 4670816     |\n",
    "| Hares-Lynxes   | 2061218112  |\n",
    "\n",
    "The first evident correlation is between hares and lynxes.\n",
    "An increase in lynx population implies a decrease of hares and vice versa: as stated in the link \"Snowshoe hare is the primary food of the lynx\" and this explains the high correlation value.\n",
    "\n",
    "Common knowledge may lead to think hares and carrots are highly correlated.\n",
    "The plot partly confirms that: it is true that hares and rabbits can eat carrots, but they can also eat a lot of other vegetables and also fruit.\n",
    "In fact, carrots are _not_ their favourite kind of food, and the correlation value is lower than in previous case.\n",
    "\n",
    "Finally, carrots and lynxes are not correlated at all (see that it is the lowest value among the three), and that's true: lynxes have no interest in carrots at all.\n",
    "\n",
    "\n"
   ]
  },
  {
   "cell_type": "code",
   "execution_count": 10,
   "metadata": {},
   "outputs": [],
   "source": [
    "! wget https://www.dropbox.com/s/3vigxoqayo389uc/populations.txt"
   ]
  },
  {
   "cell_type": "code",
   "execution_count": 11,
   "metadata": {},
   "outputs": [
    {
     "name": "stdout",
     "output_type": "stream",
     "text": [
      "Hares:   mean = 34080.952; std = 20897.906\n",
      "Lynxes:  mean = 20166.667; std = 16254.592\n",
      "Carrots: mean = 42400.000; std = 3322.506\n",
      "\n",
      "Carrots-Hares: 256698928\n",
      "[[ 1.         -0.01660378]\n",
      " [-0.01660378  1.        ]]\n",
      "\n",
      "Carrots-Lynxes: 4670816\n",
      "[[ 1.         -0.68057717]\n",
      " [-0.68057717  1.        ]]\n",
      "\n",
      "Hares-Lynxes: 2061218112\n",
      "[[1.         0.07189206]\n",
      " [0.07189206 1.        ]]\n"
     ]
    },
    {
     "data": {
      "image/png": "[encoded data removed]",
      "text/plain": [
       "<Figure size 432x288 with 1 Axes>"
      ]
     },
     "metadata": {
      "needs_background": "light"
     },
     "output_type": "display_data"
    }
   ],
   "source": [
    "# the following is not going to work with older Numpy versions\n",
    "#   content = np.loadtxt('populations.txt',dtype='int')\n",
    "# this instead works but years are not represented as ints\n",
    "content = np.loadtxt('populations.txt')\n",
    "# print(content) # cols: year hare lynx carrot\n",
    "years   = content[:,0]\n",
    "hares   = content[:,1]\n",
    "lynxes  = content[:,2]\n",
    "carrots = content[:,3]\n",
    "\n",
    "plt.plot(years,hares,label='Hares')\n",
    "plt.plot(years,lynxes,label='Lynxes')\n",
    "plt.plot(years,carrots,label='Carrots')\n",
    "plt.legend()\n",
    "\n",
    "print(\"Hares:   mean = {:.3f}; std = {:.3f}\".format(np.mean(hares),  np.std(hares)))\n",
    "print(\"Lynxes:  mean = {:.3f}; std = {:.3f}\".format(np.mean(lynxes), np.std(lynxes)))\n",
    "print(\"Carrots: mean = {:.3f}; std = {:.3f}\".format(np.mean(carrots),np.std(carrots)))\n",
    "\n",
    "print(\"\\nCarrots-Hares: {}\\n{}\" .format(np.correlate(carrots,hares)[0], np.corrcoef(carrots,hares)))\n",
    "print(\"\\nCarrots-Lynxes: {}\\n{}\".format(np.correlate(carrots,lynxes)[0],np.corrcoef(carrots,lynxes)))\n",
    "print(\"\\nHares-Lynxes: {}\\n{}\"  .format(np.correlate(hares,lynxes)[0],  np.corrcoef(hares,lynxes)))"
   ]
  }
 ],
 "metadata": {
  "kernelspec": {
   "display_name": "Python 3",
   "language": "python",
   "name": "python3"
  },
  "language_info": {
   "codemirror_mode": {
    "name": "ipython",
    "version": 3
   },
   "file_extension": ".py",
   "mimetype": "text/x-python",
   "name": "python",
   "nbconvert_exporter": "python",
   "pygments_lexer": "ipython3",
   "version": "3.7.0"
  }
 },
 "nbformat": 4,
 "nbformat_minor": 2
}
