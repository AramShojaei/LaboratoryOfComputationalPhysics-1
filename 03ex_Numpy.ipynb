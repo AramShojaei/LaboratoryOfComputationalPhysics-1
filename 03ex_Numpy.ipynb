{
 "cells": [
  {
   "cell_type": "markdown",
   "metadata": {},
   "source": [
    "### Numpy basics"
   ]
  },
  {
   "cell_type": "markdown",
   "metadata": {},
   "source": [
    "1\\. Find the row, column and overall means for the following matrix:\n",
    "\n",
    "```python\n",
    "m = np.arange(12).reshape((3,4))\n",
    "```"
   ]
  },
  {
   "cell_type": "code",
   "execution_count": null,
   "metadata": {},
   "outputs": [],
   "source": [
    "# exercise 1\n",
    "import numpy as np\n",
    "m = np.arange(12).reshape((3,4))\n",
    "\n",
    "print (m)\n",
    "print('row mean = ', np.mean(m,1))\n",
    "print('column mean = ', np.mean(m,0))\n",
    "print('Overall mean = ', np.mean(m))"
   ]
  },
  {
   "cell_type": "markdown",
   "metadata": {},
   "source": [
    "2\\. Find the outer product of the following two vecotrs\n",
    "\n",
    "```python\n",
    "u = np.array([1,3,5,7])\n",
    "v = np.array([2,4,6,8])\n",
    "```\n",
    "\n",
    "Do this in the following ways:\n",
    "\n",
    "   * Using the function outer in numpy\n",
    "   * Using a nested for loop or list comprehension\n",
    "   * Using numpy broadcasting operatoins\n"
   ]
  },
  {
   "cell_type": "code",
   "execution_count": null,
   "metadata": {},
   "outputs": [],
   "source": [
    "# exercise 2\n",
    "u = np.array([1,3,5,7])\n",
    "v = np.array([2,4,6,8])\n",
    "\n",
    "print(np.outer(u,v))\n",
    "\n",
    "#for i in range(4):\n",
    "#   for j in range(4):\n",
    "#       out[i, j] = u[i] * v[j]\n",
    "#   print(out)\n",
    "uT = u[:,np.newaxis]\n",
    "vT = v[np.newaxis,:]\n",
    "print(np.tile(uT,(1,4))*np.tile(vT,(4,1)))"
   ]
  },
  {
   "cell_type": "markdown",
   "metadata": {},
   "source": [
    "3\\. Create a 10 by 6 matrix of random uniform numbers. Set all rows with any entry less than 0.1 to be zero\n",
    "\n",
    "Hint: Use the following numpy functions - np.random.random, np.any as well as Boolean indexing and the axis argument."
   ]
  },
  {
   "cell_type": "code",
   "execution_count": null,
   "metadata": {},
   "outputs": [],
   "source": [
    "import numpy.random as npr\n",
    "a = npr.rand(10,6)\n",
    "print (\"uniform:\",a,'\\n')\n",
    "print(np.any(a,(1,0)))"
   ]
  },
  {
   "cell_type": "markdown",
   "metadata": {},
   "source": [
    "4\\. Use np.linspace to create an array of 100 numbers between 0 and 2π (includsive).\n",
    "\n",
    "  * Extract every 10th element using slice notation\n",
    "  * Reverse the array using slice notation\n",
    "  * Extract elements where the absolute difference between the sine and cosine functions evaluated at that element is less than 0.1\n",
    "  * Make a plot showing the sin and cos functions and indicate where they are close"
   ]
  },
  {
   "cell_type": "code",
   "execution_count": null,
   "metadata": {},
   "outputs": [],
   "source": [
    "# exercise 4 \n",
    "\n",
    "# PART a)\n",
    "a = np.linspace(0,2*np.pi,100)\n",
    "print('\\n',a)\n",
    "mask = np.arange(0,100,10)\n",
    "b = a[mask]\n",
    "print('\\n',b)\n",
    "\n",
    "\n",
    "# PART b)\n",
    "c = a[::-1]\n",
    "print('\\n',c)\n",
    "\n",
    "\n",
    "# PART c)\n",
    "mask2 = abs(np.sin(a)-np.cos(a))<0.1\n",
    "d = a[mask2]\n",
    "print('\\n',d)\n",
    "\n",
    "# PART d)\n",
    "import matplotlib.pyplot as plt\n",
    "%matplotlib inline \n",
    "\n",
    "e = np.sin(a)\n",
    "f = np.cos(a)\n",
    "g = np.sin(d)\n",
    "plt.plot(a,e,a,f,d,g,\"*\")\n",
    "#plt.plot(a,f)\n",
    "#plt.plot(d,g,\"*\")"
   ]
  },
  {
   "cell_type": "markdown",
   "metadata": {},
   "source": [
    "5\\. Create a matrix that shows the 10 by 10 multiplication table.\n",
    "\n",
    " * Find the trace of the matrix\n",
    " * Extract the anto-diagonal (this should be ```array([10, 18, 24, 28, 30, 30, 28, 24, 18, 10])```)\n",
    " * Extract the diagnoal offset by 1 upwards (this should be ```array([ 2,  6, 12, 20, 30, 42, 56, 72, 90])```)"
   ]
  },
  {
   "cell_type": "code",
   "execution_count": null,
   "metadata": {},
   "outputs": [],
   "source": [
    "# exercise 5\n",
    "u = np.arange(1,11)\n",
    "uT = u[:,np.newaxis]\n",
    "vT = u[np.newaxis,:]\n",
    "h = np.tile(uT,(1,10))*np.tile(vT,(10,1))\n",
    "print(h)\n",
    "\n",
    "# PART a)\n",
    "trace = np.trace(h)\n",
    "print('\\n''Trace of Matrix =',trace)\n",
    "\n",
    "# PART b)\n",
    "i = np.diag(np.flipud(h))\n",
    "print('\\n''Anti-Diagonal of Matrix =',i)\n",
    "\n",
    "# PART c)\n",
    "j= np.tril(h, -1)\n",
    "#j= np.triu(h, -1)\n",
    "print(h.shape)\n",
    "print ('\\n'\"j:\", '\\n', j , '\\n')\n",
    "print ('\\n'\"transpose:\", '\\n', j.T , '\\n') #a.T is a view!"
   ]
  },
  {
   "cell_type": "markdown",
   "metadata": {},
   "source": [
    "6\\. Use broadcasting to create a grid of distances\n",
    "\n",
    "Route 66 crosses the following cities in the US: Chicago, Springfield, Saint-Louis, Tulsa, Oklahoma City, Amarillo, Santa Fe, Albuquerque, Flagstaff, Los Angeles\n",
    "The corresponding positions in miles are: 0, 198, 303, 736, 871, 1175, 1475, 1544, 1913, 2448\n",
    "\n",
    "  * Construct a 2D grid of distances among each city along Route 66\n",
    "  * Convert that in km (those savages...)"
   ]
  },
  {
   "cell_type": "markdown",
   "metadata": {},
   "source": [
    "7\\. Prime numbers sieve: compute the prime numbers in the 0-N (N=99 to start with) range with a sieve (mask).\n",
    "  * Constract a shape (100,) boolean array, the mask\n",
    "  * Identify the multiples of each number starting from 2 and set accordingly the corresponding mask element\n",
    "  * Apply the mask to obtain an array of ordered prime numbers\n",
    "  * Check the performances (timeit); how does it scale with N?\n",
    "  * Implement the optimization suggested in the [sieve of Eratosthenes](https://en.wikipedia.org/wiki/Sieve_of_Eratosthenes)"
   ]
  },
  {
   "cell_type": "code",
   "execution_count": null,
   "metadata": {},
   "outputs": [],
   "source": [
    "import numpy as np\n",
    "\n",
    "N = 99\n",
    "x = np.linspace(0,N,N+1).astype(int)\n",
    "p = np.zeros(len(x))\n",
    "\n",
    "for i in range(8,len(x)):\n",
    "    if np.mod(x[i],2)==0 or np.mod(x[i],3)==0 or np.mod(x[i],5)==0 or np.mod(x[i],7) == 0:\n",
    "        p[i] = 0\n",
    "    else:\n",
    "        p[i] = 1\n",
    "mask1 = [2,3,5,7]\n",
    "p[mask1] = 1\n",
    "\n",
    "prime = x[p.astype(bool)]\n",
    "print(prime)"
   ]
  },
  {
   "cell_type": "markdown",
   "metadata": {},
   "source": [
    "8\\. Diffusion using random walk\n",
    "\n",
    "Consider a simple random walk process: at each step in time, a walker jumps right or left (+1 or -1) with equal probability. The goal is to find the typical distance from the origin of a random walker after a given amount of time. \n",
    "To do that, let's simulate many walkers and create a 2D array with each walker as a raw and the actual time evolution as columns\n",
    "\n",
    "  * Take 1000 walkers and let them walk for 200 steps\n",
    "  * Use randint to create a 2D array of size walkers x steps with values -1 or 1\n",
    "  * Build the actual walking distances for each walker (i.e. another 2D array \"summing on each raw\")\n",
    "  * Take the square of that 2D array (elementwise)\n",
    "  * Compute the mean of the squared distances at each step (i.e. the mean along the columns)\n",
    "  * Plot the average distances (sqrt(distance\\*\\*2)) as a function of time (step)\n",
    "  \n",
    "Did you get what you expected?"
   ]
  },
  {
   "cell_type": "code",
   "execution_count": null,
   "metadata": {},
   "outputs": [],
   "source": [
    "### Generating data\n",
    "n_w = np.zeros((1000,200))\n",
    "for i in range(n_w.shape[0]):\n",
    "    matrix = np.random.randint(-1,1,size=n_w.shape[1]) \n",
    "    matrix[matrix==0]=1\n",
    "    n_w[i] = matrix\n",
    "\n",
    "### Actual walking distances\n",
    "sum_ = np.cumsum(n_w, axis=1)\n",
    "squared_sum= sum_**2\n",
    "mu = np.mean(squared_sum, axis=0)\n",
    "\n",
    "plt.plot(np.sqrt(mu))\n",
    "plt.title(\"Random Walk\")\n",
    "plt.xlabel(\"Steps\")\n",
    "plt.ylabel(\"Distance\")\n",
    "plt.grid()\n",
    "plt.show()"
   ]
  },
  {
   "cell_type": "markdown",
   "metadata": {},
   "source": [
    "9\\. Analyze a data file \n",
    "  * Download the population of hares, lynxes and carrots at the beginning of the last century.\n",
    "    ```python\n",
    "    ! wget https://www.dropbox.com/s/3vigxoqayo389uc/populations.txt\n",
    "    ```\n",
    "\n",
    "  * Check the content by looking within the file\n",
    "  * Load the data (use an appropriate numpy method) into a 2D array\n",
    "  * Create arrays out of the columns, the arrays being (in order): *year*, *hares*, *lynxes*, *carrots* \n",
    "  * Plot the 3 populations over the years\n",
    "  * Compute the main statistical properties of the dataset (mean, std, correlations, etc.)\n",
    "  * Which species has the highest population each year?\n",
    "\n",
    "Do you feel there is some evident correlation here? [Studies](https://www.enr.gov.nt.ca/en/services/lynx/lynx-snowshoe-hare-cycle) tend to believe so."
   ]
  },
  {
   "cell_type": "code",
   "execution_count": null,
   "metadata": {},
   "outputs": [],
   "source": [
    "import matplotlib.pyplot as plt\n",
    "import pandas as pd\n",
    "\n",
    "filename = 'populations.txt'\n",
    "data=np.loadtxt(filename)\n",
    "\n",
    "hares = data[:,1]\n",
    "lynxes = data[:,2]\n",
    "carrots = data[:,3]\n",
    "year = data[:,0]\n",
    "\n",
    "### Plot the 3 populations over the years\n",
    "plt.plot(year, hares,label='hares')\n",
    "plt.plot(year, lynxes, label='lynxes')\n",
    "plt.plot(year, carrots, label='carrots')\n",
    "plt.legend()\n",
    "plt.show()\n",
    "\n",
    "### main statistical properties\n",
    "s = pd.DataFrame(data)\n",
    "s.describe()\n",
    "\n",
    "### highest population each year\n",
    "high_pop = s.max(axis=1).values\n",
    "\n",
    "plt.plot(year, hares,label ='hares')\n",
    "plt.plot(year, lynxes, label ='lynxes')\n",
    "plt.plot(year, carrots, label ='carrots')\n",
    "plt.plot(year,high_pop, label = 'High Population')\n",
    "plt.legend()\n",
    "plt.show()"
   ]
  },
  {
   "cell_type": "code",
   "execution_count": null,
   "metadata": {},
   "outputs": [],
   "source": []
  }
 ],
 "metadata": {
  "kernelspec": {
   "display_name": "Python 3",
   "language": "python",
   "name": "python3"
  },
  "language_info": {
   "codemirror_mode": {
    "name": "ipython",
    "version": 3
   },
   "file_extension": ".py",
   "mimetype": "text/x-python",
   "name": "python",
   "nbconvert_exporter": "python",
   "pygments_lexer": "ipython3",
   "version": "3.7.2"
  }
 },
 "nbformat": 4,
 "nbformat_minor": 2
}
