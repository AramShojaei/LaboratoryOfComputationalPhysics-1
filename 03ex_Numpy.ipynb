{
 "cells": [
  {
   "cell_type": "markdown",
   "metadata": {},
   "source": [
    "### Numpy basics"
   ]
  },
  {
   "cell_type": "markdown",
   "metadata": {},
   "source": [
    "1\\. Find the row, column and overall means for the following matrix:\n",
    "\n",
    "```python\n",
    "m = np.arange(12).reshape((3,4))\n",
    "```"
   ]
  },
  {
   "cell_type": "markdown",
   "metadata": {},
   "source": [
    "2\\. Find the outer product of the following two vecotrs\n",
    "\n",
    "```python\n",
    "u = np.array([1,3,5,7])\n",
    "v = np.array([2,4,6,8])\n",
    "```\n",
    "\n",
    "Do this in the following ways:\n",
    "\n",
    "   * Using the function outer in numpy\n",
    "   * Using a nested for loop or list comprehension\n",
    "   * Using numpy broadcasting operatoins\n"
   ]
  },
  {
   "cell_type": "markdown",
   "metadata": {},
   "source": [
    "3\\. Create a 10 by 6 matrix of random uniform numbers. Set all rows with any entry less than 0.1 to be zero\n",
    "\n",
    "Hint: Use the following numpy functions - np.random.random, np.any as well as Boolean indexing and the axis argument."
   ]
  },
  {
   "cell_type": "markdown",
   "metadata": {},
   "source": [
    "4\\. Use np.linspace to create an array of 100 numbers between 0 and 2π (includsive).\n",
    "\n",
    "  * Extract every 10th element using slice notation\n",
    "  * Reverse the array using slice notation\n",
    "  * Extract elements where the absolute difference between the sine and cosine functions evaluated at that element is less than 0.1\n",
    "  * Make a plot showing the sin and cos functions and indicate where they are close"
   ]
  },
  {
   "cell_type": "markdown",
   "metadata": {},
   "source": [
    "5\\. Create a matrix that shows the 10 by 10 multiplication table.\n",
    "\n",
    " * Find the trace of the matrix\n",
    " * Extract the anto-diagonal (this should be ```array([10, 18, 24, 28, 30, 30, 28, 24, 18, 10])```)\n",
    " * Extract the diagnoal offset by 1 upwards (this should be ```array([ 2,  6, 12, 20, 30, 42, 56, 72, 90])```)"
   ]
  },
  {
   "cell_type": "code",
   "execution_count": 8,
   "metadata": {},
   "outputs": [
    {
     "name": "stdout",
     "output_type": "stream",
     "text": [
      "Matrice dei prodotti tra i primi 10 interi (a.k.a. tabelline): \n",
      " [[  1   2   3   4   5   6   7   8   9  10]\n",
      " [  2   4   6   8  10  12  14  16  18  20]\n",
      " [  3   6   9  12  15  18  21  24  27  30]\n",
      " [  4   8  12  16  20  24  28  32  36  40]\n",
      " [  5  10  15  20  25  30  35  40  45  50]\n",
      " [  6  12  18  24  30  36  42  48  54  60]\n",
      " [  7  14  21  28  35  42  49  56  63  70]\n",
      " [  8  16  24  32  40  48  56  64  72  80]\n",
      " [  9  18  27  36  45  54  63  72  81  90]\n",
      " [ 10  20  30  40  50  60  70  80  90 100]]\n",
      "\n",
      "\n",
      "La traccia della matrice A è: Tr(A) =  385\n",
      "\n",
      "\n",
      "AntiDiagonale della matrice: \n",
      " [10 18 24 28 30 30 28 24 18 10]\n",
      "\n",
      "\n",
      "Diagonale con offset +1: \n",
      " [ 2  6 12 20 30 42 56 72 90]\n"
     ]
    }
   ],
   "source": [
    "# Trace \n",
    "a = np.tile(np.arange(1,11),(10,1))\n",
    "A = np.asarray( [a[j]*(j+1) for j in range(10) ] )\n",
    "print(\"Matrice dei prodotti tra i primi 10 interi (a.k.a. tabelline): \\n\", A)\n",
    "\n",
    "trace = np.sum(np.diag(A))\n",
    "print(\"\\n\\nLa traccia della matrice A è: Tr(A) = \", trace)\n",
    "\n",
    "# antidiagonale\n",
    "antiDiag = np.diag( np.flip(A,0) )\n",
    "print(\"\\n\\nAntiDiagonale della matrice: \\n\", antiDiag)\n",
    "\n",
    "# diag con offset +1\n",
    "diagOffsetOne = np.diag(A,1)\n",
    "print(\"\\n\\nDiagonale con offset +1: \\n\", diagOffsetOne)\n"
   ]
  },
  {
   "cell_type": "markdown",
   "metadata": {},
   "source": [
    "6\\. Use broadcasting to create a grid of distances\n",
    "\n",
    "Route 66 crosses the following cities in the US: Chicago, Springfield, Saint-Louis, Tulsa, Oklahoma City, Amarillo, Santa Fe, Albuquerque, Flagstaff, Los Angeles\n",
    "The corresponding positions in miles are: 0, 198, 303, 736, 871, 1175, 1475, 1544, 1913, 2448\n",
    "\n",
    "  * Construct a 2D grid of distances among each city along Route 66\n",
    "  * Convert that in km (those savages...)"
   ]
  },
  {
   "cell_type": "code",
   "execution_count": 18,
   "metadata": {},
   "outputs": [
    {
     "name": "stdout",
     "output_type": "stream",
     "text": [
      "Tabella distanze tra città: \n",
      " [[   0  198  303  736  871 1175 1475 1544 1913 2448]\n",
      " [ 198    0  105  538  673  977 1277 1346 1715 2250]\n",
      " [ 303  105    0  433  568  872 1172 1241 1610 2145]\n",
      " [ 736  538  433    0  135  439  739  808 1177 1712]\n",
      " [ 871  673  568  135    0  304  604  673 1042 1577]\n",
      " [1175  977  872  439  304    0  300  369  738 1273]\n",
      " [1475 1277 1172  739  604  300    0   69  438  973]\n",
      " [1544 1346 1241  808  673  369   69    0  369  904]\n",
      " [1913 1715 1610 1177 1042  738  438  369    0  535]\n",
      " [2448 2250 2145 1712 1577 1273  973  904  535    0]]\n",
      "\n",
      "\n",
      "Stessa in km: \n",
      " [[   0.        318.650112  487.631232 1184.477184 1401.738624 1890.9792\n",
      "  2373.7824   2484.827136 3078.675072 3939.674112]\n",
      " [ 318.650112    0.        168.98112   865.827072 1083.088512 1572.329088\n",
      "  2055.132288 2166.177024 2760.02496  3621.024   ]\n",
      " [ 487.631232  168.98112     0.        696.845952  914.107392 1403.347968\n",
      "  1886.151168 1997.195904 2591.04384  3452.04288 ]\n",
      " [1184.477184  865.827072  696.845952    0.        217.26144   706.502016\n",
      "  1189.305216 1300.349952 1894.197888 2755.196928]\n",
      " [1401.738624 1083.088512  914.107392  217.26144     0.        489.240576\n",
      "   972.043776 1083.088512 1676.936448 2537.935488]\n",
      " [1890.9792   1572.329088 1403.347968  706.502016  489.240576    0.\n",
      "   482.8032    593.847936 1187.695872 2048.694912]\n",
      " [2373.7824   2055.132288 1886.151168 1189.305216  972.043776  482.8032\n",
      "     0.        111.044736  704.892672 1565.891712]\n",
      " [2484.827136 2166.177024 1997.195904 1300.349952 1083.088512  593.847936\n",
      "   111.044736    0.        593.847936 1454.846976]\n",
      " [3078.675072 2760.02496  2591.04384  1894.197888 1676.936448 1187.695872\n",
      "   704.892672  593.847936    0.        860.99904 ]\n",
      " [3939.674112 3621.024    3452.04288  2755.196928 2537.935488 2048.694912\n",
      "  1565.891712 1454.846976  860.99904     0.      ]]\n"
     ]
    }
   ],
   "source": [
    "dist = np.array([0, 198, 303, 736, 871, 1175, 1475, 1544, 1913, 2448])\n",
    "distT = dist.reshape(dist.shape[0],1)\n",
    "\n",
    "distTab = abs(dist - distT)\n",
    "print(\"Tabella distanze tra città: \\n\",distTab)\n",
    "print(\"\\n\\nStessa in km: \\n\", 1.609344*distTab) # 1.6... è il fattore di conversione"
   ]
  },
  {
   "cell_type": "markdown",
   "metadata": {},
   "source": [
    "7\\. Prime numbers sieve: compute the prime numbers in the 0-N (N=99 to start with) range with a sieve (mask).\n",
    "  * Constract a shape (100,) boolean array, the mask\n",
    "  * Identify the multiples of each number starting from 2 and set accordingly the corresponding mask element\n",
    "  * Apply the mask to obtain an array of ordered prime numbers\n",
    "  * Check the performances (timeit); how does it scale with N?\n",
    "  * Implement the optimization suggested in the [sieve of Eratosthenes](https://en.wikipedia.org/wiki/Sieve_of_Eratosthenes)"
   ]
  },
  {
   "cell_type": "markdown",
   "metadata": {},
   "source": [
    "8\\. Diffusion using random walk\n",
    "\n",
    "Consider a simple random walk process: at each step in time, a walker jumps right or left (+1 or -1) with equal probability. The goal is to find the typical distance from the origin of a random walker after a given amount of time. \n",
    "To do that, let's simulate many walkers and create a 2D array with each walker as a raw and the actual time evolution as columns\n",
    "\n",
    "  * Take 1000 walkers and let them walk for 200 steps\n",
    "  * Use randint to create a 2D array of size walkers x steps with values -1 or 1\n",
    "  * Build the actual walking distances for each walker (i.e. another 2D array \"summing on each raw\")\n",
    "  * Take the square of that 2D array (elementwise)\n",
    "  * Compute the mean of the squared distances at each step (i.e. the mean along the columns)\n",
    "  * Plot the average distances (sqrt(distance\\*\\*2)) as a function of time (step)\n",
    "  \n",
    "Did you get what you expected?"
   ]
  },
  {
   "cell_type": "markdown",
   "metadata": {},
   "source": [
    "9\\. Analyze a data file \n",
    "  * Download the population of hares, lynxes and carrots at the beginning of the last century.\n",
    "    ```python\n",
    "    ! wget https://www.dropbox.com/s/3vigxoqayo389uc/populations.txt\n",
    "    ```\n",
    "\n",
    "  * Check the content by looking within the file\n",
    "  * Load the data (use an appropriate numpy method) into a 2D array\n",
    "  * Create arrays out of the columns, the arrays being (in order): *year*, *hares*, *lynxes*, *carrots* \n",
    "  * Plot the 3 populations over the years\n",
    "  * Compute the main statistical properties of the dataset (mean, std, correlations, etc.)\n",
    "  * Which species has the highest population each year?\n",
    "\n",
    "Do you feel there is some evident correlation here? [Studies](https://www.enr.gov.nt.ca/en/services/lynx/lynx-snowshoe-hare-cycle) tend to believe so."
   ]
  },
  {
   "cell_type": "code",
   "execution_count": 3,
   "metadata": {},
   "outputs": [
    {
     "name": "stdout",
     "output_type": "stream",
     "text": [
      "[[ 1900. 30000.  4000. 48300.]\n",
      " [ 1901. 47200.  6100. 48200.]\n",
      " [ 1902. 70200.  9800. 41500.]\n",
      " [ 1903. 77400. 35200. 38200.]\n",
      " [ 1904. 36300. 59400. 40600.]\n",
      " [ 1905. 20600. 41700. 39800.]\n",
      " [ 1906. 18100. 19000. 38600.]\n",
      " [ 1907. 21400. 13000. 42300.]\n",
      " [ 1908. 22000.  8300. 44500.]\n",
      " [ 1909. 25400.  9100. 42100.]\n",
      " [ 1910. 27100.  7400. 46000.]\n",
      " [ 1911. 40300.  8000. 46800.]\n",
      " [ 1912. 57000. 12300. 43800.]\n",
      " [ 1913. 76600. 19500. 40900.]\n",
      " [ 1914. 52300. 45700. 39400.]\n",
      " [ 1915. 19500. 51100. 39000.]\n",
      " [ 1916. 11200. 29700. 36700.]\n",
      " [ 1917.  7600. 15800. 41800.]\n",
      " [ 1918. 14600.  9700. 43300.]\n",
      " [ 1919. 16200. 10100. 41300.]\n",
      " [ 1920. 24700.  8600. 47300.]]\n"
     ]
    },
    {
     "data": {
      "image/png": "[encoded data removed]",
      "text/plain": [
       "<Figure size 432x288 with 1 Axes>"
      ]
     },
     "metadata": {
      "needs_background": "light"
     },
     "output_type": "display_data"
    }
   ],
   "source": [
    "import numpy as np\n",
    "import matplotlib.pyplot as plt\n",
    "from scipy import integrate\n",
    "\n",
    "rawData = np.loadtxt('populations.dat')\n",
    "print(rawData)\n",
    "\n",
    "years = np.array(rawData[:,0], 'uint32')\n",
    "hares = np.array(rawData[:,1], 'uint32')\n",
    "lynxs = np.array(rawData[:,2], 'uint32')\n",
    "carrs = np.array(rawData[:,3], 'uint32')\n",
    "\n",
    "plt.plot(years, hares, 'r-', years, lynxs, 'b-')\n",
    "plt.plot(years, carrs, '-', color='orange')\n",
    "plt.show()"
   ]
  },
  {
   "cell_type": "code",
   "execution_count": 4,
   "metadata": {},
   "outputs": [
    {
     "name": "stdout",
     "output_type": "stream",
     "text": [
      "Popolazione media di lepri:  34080.95238095238\n",
      "Popolazione media di linci:  20166.666666666668\n",
      "Popolazione media di carote:  42400.0\n",
      "DevStd della popolazione di lepri:  20897.906458089667\n",
      "DevStd della popolazione di linci:  16254.591536908763\n",
      "DevStd della popolazione di carote:  3322.5062255844787\n",
      "\n",
      "\n",
      "Correlazione tra lepri e linci: \n",
      " [[1.         0.07189206]\n",
      " [0.07189206 1.        ]]\n",
      "\n",
      "\n",
      "Correlazione tra lepri e carote: \n",
      " [[ 1.         -0.01660378]\n",
      " [-0.01660378  1.        ]]\n",
      "\n",
      "\n",
      "Correlazione tra linci e carote: \n",
      " [[ 1.         -0.68057717]\n",
      " [-0.68057717  1.        ]]\n"
     ]
    }
   ],
   "source": [
    "print(\"Popolazione media di lepri: \", np.mean(hares));\n",
    "print(\"Popolazione media di linci: \", np.mean(lynxs));\n",
    "print(\"Popolazione media di carote: \", np.mean(carrs));\n",
    "\n",
    "print(\"DevStd della popolazione di lepri: \", np.std(hares));\n",
    "print(\"DevStd della popolazione di linci: \", np.std(lynxs));\n",
    "print(\"DevStd della popolazione di carote: \", np.std(carrs));\n",
    "\n",
    "print(\"\\n\\nCorrelazione tra lepri e linci: \\n\", np.corrcoef(hares,lynxs))\n",
    "print(\"\\n\\nCorrelazione tra lepri e carote: \\n\", np.corrcoef(hares,carrs))\n",
    "print(\"\\n\\nCorrelazione tra linci e carote: \\n\", np.corrcoef(lynxs,carrs))"
   ]
  },
  {
   "cell_type": "markdown",
   "metadata": {},
   "source": [
    "La dimanica delle popolazioni di lepri (SnowShoe Hare) e linci dipende dal fatto che le prime sono la principale fonte di alimentazione per le seconde, in quanto questa specie di lepri permette alle linci di rimanere in forma fisica adeguata per non soccombere alla fame e alla debolezza, con conseguente pericolo di essere a loro volta predate. Di conseguenza, nel momento in cui le lepri sono presenti in numero sufficiente, la popolazione di linci prolifera. Al contrario, nel momento in cui le lepri scareggiano, le linci devono allargare il campo di ricerca per trovare il nutrimento necessario al loro sostentamento.\n",
    "\n",
    "D'altra parte, la dinamica della popolazione di lepri è legata alla disponibilità di risorse disponibili nell'ambiente. Una volta che il numero di lepri raggiunge la _capacità portante_, i.e. la quantità asintotica per la quale i fattori di disponibilità di risorse e competizione di individui della medesima specie per tali risorse, questa situazione provoca il rallentamento e quindi l'estinzione della crescita di questa popolazione. Successivamente si assiste al declino (cfr. Figura). La scarsità della popolazione di lepri provoca, per quanto detto prima sulle esigenze nutrizionali delle linci, il declino anche di queste ultime. Si giunge quindi alla situzione in cui entambe le popolazioni sono scarse.\n",
    "\n",
    "Successivamente, l'ambiente è in grado di ripristinare le condizioni ottimali per la proliferazione delle lepri, data la debole presenza di queste sul territorio. Di conseguenza, con un periodo di 8-11 anni (cfr. sito), la popolazione di lepri assiste a un aumento (una trattazione completa e olistica sull'ecologia di popolazione e comunità è data in E.P. Odum, _Fundamentals of Ecology_).\n",
    "\n",
    "**Giustificazione Teorica**. Quanto si evince dai dati può essere simulato dal modello di \\textbf{LotkaVolterra}, un sistema di due equazioni differenziali ordinarie, aventi come oggetto l'evoluzione delle variabili $x(t)$, $y(t)$, rispettivamente le due popolazioni. Queste equazioni sono\n",
    "\n",
    "\n",
    "\\begin{cases}\n",
    "        \\frac{dx}{dt} = \\left( A - By \\right) x \\\\\n",
    "        \\frac{dy}{dt} = \\left( Cx - D \\right) y \n",
    "\\end{cases}\n",
    "\n",
    "\n",
    "Notiamo che mentre questo sistema coinvolge solo le serie temporali di lepri e linci, l'informazione della disponibilità di risorse è trascurata, quindi replicando un'analisi statistica per il risultato della simulazione di questo modello, l'effetto dell'ambiente non è preso in considerazione, quindi la crescita della popolazione delle lepri è imputata unicamente alla scarsità della presenza del predatore. "
   ]
  },
  {
   "cell_type": "code",
   "execution_count": null,
   "metadata": {},
   "outputs": [],
   "source": []
  }
 ],
 "metadata": {
  "kernelspec": {
   "display_name": "Python 3",
   "language": "python",
   "name": "python3"
  },
  "language_info": {
   "codemirror_mode": {
    "name": "ipython",
    "version": 3
   },
   "file_extension": ".py",
   "mimetype": "text/x-python",
   "name": "python",
   "nbconvert_exporter": "python",
   "pygments_lexer": "ipython3",
   "version": "3.5.2"
  }
 },
 "nbformat": 4,
 "nbformat_minor": 2
}
