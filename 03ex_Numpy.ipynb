{
 "cells": [
  {
   "cell_type": "markdown",
   "metadata": {},
   "source": [
    "### Numpy basics"
   ]
  },
  {
   "cell_type": "markdown",
   "metadata": {},
   "source": [
    "1\\. Find the row, column and overall means for the following matrix:\n",
    "\n",
    "```python\n",
    "m = np.arange(12).reshape((3,4))\n",
    "```"
   ]
  },
  {
   "cell_type": "code",
   "execution_count": 1,
   "metadata": {},
   "outputs": [
    {
     "name": "stdout",
     "output_type": "stream",
     "text": [
      "[[ 0  1  2  3]\n",
      " [ 4  5  6  7]\n",
      " [ 8  9 10 11]]\n",
      "1.5 5.5 9.5\n",
      "4.0 5.0 6.0\n",
      "5.5\n"
     ]
    }
   ],
   "source": [
    "import numpy as np\n",
    "m = np.arange(12).reshape((3,4))\n",
    "print(m)\n",
    "print(m[0].mean(),m[1].mean(),m[2].mean())\n",
    "print(m[:,0].mean(),m[:,1].mean(),m[:,2].mean())\n",
    "\n",
    "print(m.mean())"
   ]
  },
  {
   "cell_type": "markdown",
   "metadata": {},
   "source": [
    "2\\. Find the outer product of the following two vecotrs\n",
    "\n",
    "```python\n",
    "u = np.array([1,3,5,7])\n",
    "v = np.array([2,4,6,8])\n",
    "```\n",
    "\n",
    "Do this in the following ways:\n",
    "\n",
    "   * Using the function outer in numpy\n",
    "   * Using a nested for loop or list comprehension\n",
    "   * Using numpy broadcasting operatoins\n"
   ]
  },
  {
   "cell_type": "code",
   "execution_count": 2,
   "metadata": {},
   "outputs": [
    {
     "name": "stdout",
     "output_type": "stream",
     "text": [
      "[[ 2  4  6  8]\n",
      " [ 6 12 18 24]\n",
      " [10 20 30 40]\n",
      " [14 28 42 56]]\n",
      "[[ 2  4  6  8]\n",
      " [ 6 12 18 24]\n",
      " [10 20 30 40]\n",
      " [14 28 42 56]]\n",
      "[[ 2  4  6  8]\n",
      " [ 6 12 18 24]\n",
      " [10 20 30 40]\n",
      " [14 28 42 56]]\n"
     ]
    }
   ],
   "source": [
    "u = np.array([1,3,5,7])\n",
    "v = np.array([2,4,6,8])\n",
    "\n",
    "print(np.outer(u,v))\n",
    " \n",
    "\n",
    "out=np.array([[(v[i]*u[j]) for i in range(4) ]for j in range(4)])    \n",
    "\n",
    "print(out)\n",
    "\n",
    "\n",
    "\n",
    "print(u.reshape(4,1)*v)"
   ]
  },
  {
   "cell_type": "markdown",
   "metadata": {},
   "source": [
    "3\\. Create a 10 by 6 matrix of random uniform numbers. Set all rows with any entry less than 0.1 to be zero\n",
    "\n",
    "Hint: Use the following numpy functions - np.random.random, np.any as well as Boolean indexing and the axis argument."
   ]
  },
  {
   "cell_type": "code",
   "execution_count": 3,
   "metadata": {},
   "outputs": [
    {
     "name": "stdout",
     "output_type": "stream",
     "text": [
      "[[0.69646919 0.28613933 0.22685145 0.55131477 0.71946897 0.42310646]\n",
      " [0.9807642  0.68482974 0.4809319  0.39211752 0.34317802 0.72904971]\n",
      " [0.43857224 0.0596779  0.39804426 0.73799541 0.18249173 0.17545176]\n",
      " [0.53155137 0.53182759 0.63440096 0.84943179 0.72445532 0.61102351]\n",
      " [0.72244338 0.32295891 0.36178866 0.22826323 0.29371405 0.63097612]\n",
      " [0.09210494 0.43370117 0.43086276 0.4936851  0.42583029 0.31226122]\n",
      " [0.42635131 0.89338916 0.94416002 0.50183668 0.62395295 0.1156184 ]\n",
      " [0.31728548 0.41482621 0.86630916 0.25045537 0.48303426 0.98555979]\n",
      " [0.51948512 0.61289453 0.12062867 0.8263408  0.60306013 0.54506801]\n",
      " [0.34276383 0.30412079 0.41702221 0.68130077 0.87545684 0.51042234]] \n",
      "\n",
      "[[0.69646919 0.28613933 0.22685145 0.55131477 0.71946897 0.42310646]\n",
      " [0.9807642  0.68482974 0.4809319  0.39211752 0.34317802 0.72904971]\n",
      " [0.         0.         0.         0.         0.         0.        ]\n",
      " [0.53155137 0.53182759 0.63440096 0.84943179 0.72445532 0.61102351]\n",
      " [0.72244338 0.32295891 0.36178866 0.22826323 0.29371405 0.63097612]\n",
      " [0.         0.         0.         0.         0.         0.        ]\n",
      " [0.42635131 0.89338916 0.94416002 0.50183668 0.62395295 0.1156184 ]\n",
      " [0.31728548 0.41482621 0.86630916 0.25045537 0.48303426 0.98555979]\n",
      " [0.51948512 0.61289453 0.12062867 0.8263408  0.60306013 0.54506801]\n",
      " [0.34276383 0.30412079 0.41702221 0.68130077 0.87545684 0.51042234]]\n"
     ]
    }
   ],
   "source": [
    "import numpy.random as npr\n",
    "npr.seed(123)\n",
    "m=npr.rand(10,6)\n",
    "print(m,\"\\n\")\n",
    "for i in range(10):\n",
    "    if((m[i]<0.1).any()):\n",
    "        m[i]=0\n",
    "print(m)"
   ]
  },
  {
   "cell_type": "markdown",
   "metadata": {},
   "source": [
    "4\\. Use np.linspace to create an array of 100 numbers between 0 and 2π (includsive).\n",
    "\n",
    "  * Extract every 10th element using slice notation\n",
    "  * Reverse the array using slice notation\n",
    "  * Extract elements where the absolute difference between the sine and cosine functions evaluated at that element is less than 0.1\n",
    "  * Make a plot showing the sin and cos functions and indicate where they are close"
   ]
  },
  {
   "cell_type": "code",
   "execution_count": 5,
   "metadata": {},
   "outputs": [
    {
     "name": "stdout",
     "output_type": "stream",
     "text": [
      "[0.         0.63466518 1.26933037 1.90399555 2.53866073 3.17332591\n",
      " 3.8079911  4.44265628 5.07732146 5.71198664] \n",
      "\n",
      "[6.28318531 6.21971879 6.15625227 6.09278575 6.02931923 5.96585272\n",
      " 5.9023862  5.83891968 5.77545316 5.71198664 5.64852012 5.58505361\n",
      " 5.52158709 5.45812057 5.39465405 5.33118753 5.26772102 5.2042545\n",
      " 5.14078798 5.07732146 5.01385494 4.95038842 4.88692191 4.82345539\n",
      " 4.75998887 4.69652235 4.63305583 4.56958931 4.5061228  4.44265628\n",
      " 4.37918976 4.31572324 4.25225672 4.1887902  4.12532369 4.06185717\n",
      " 3.99839065 3.93492413 3.87145761 3.8079911  3.74452458 3.68105806\n",
      " 3.61759154 3.55412502 3.4906585  3.42719199 3.36372547 3.30025895\n",
      " 3.23679243 3.17332591 3.10985939 3.04639288 2.98292636 2.91945984\n",
      " 2.85599332 2.7925268  2.72906028 2.66559377 2.60212725 2.53866073\n",
      " 2.47519421 2.41172769 2.34826118 2.28479466 2.22132814 2.15786162\n",
      " 2.0943951  2.03092858 1.96746207 1.90399555 1.84052903 1.77706251\n",
      " 1.71359599 1.65012947 1.58666296 1.52319644 1.45972992 1.3962634\n",
      " 1.33279688 1.26933037 1.20586385 1.14239733 1.07893081 1.01546429\n",
      " 0.95199777 0.88853126 0.82506474 0.76159822 0.6981317  0.63466518\n",
      " 0.57119866 0.50773215 0.44426563 0.38079911 0.31733259 0.25386607\n",
      " 0.19039955 0.12693304 0.06346652 0.        ] \n",
      "\n",
      "[0.76159822 0.82506474 3.87145761 3.93492413] \n",
      "\n"
     ]
    },
    {
     "data": {
      "text/plain": [
       "[<matplotlib.lines.Line2D at 0x1fc7629b748>,\n",
       " <matplotlib.lines.Line2D at 0x1fc7629b908>,\n",
       " <matplotlib.lines.Line2D at 0x1fc762a3160>,\n",
       " <matplotlib.lines.Line2D at 0x1fc762a35c0>]"
      ]
     },
     "execution_count": 5,
     "metadata": {},
     "output_type": "execute_result"
    },
    {
     "data": {
      "image/png": "[encoded data removed]",
      "text/plain": [
       "<Figure size 432x288 with 1 Axes>"
      ]
     },
     "metadata": {},
     "output_type": "display_data"
    }
   ],
   "source": [
    "a=np.linspace(0,2*np.pi,100)\n",
    "print(a[::10],\"\\n\")\n",
    "print(a[::-1],\"\\n\")\n",
    "diff=np.absolute(np.sin(a)-np.cos(a))\n",
    "\n",
    "print(a[diff<0.1],\"\\n\")\n",
    "\n",
    "import matplotlib.pyplot as plt\n",
    "%matplotlib inline\n",
    "s=np.sin(a)\n",
    "c=np.cos(a)\n",
    "y=a[diff<0.1]\n",
    "punti=y*0\n",
    "plt.plot(a,s,a,c,y,punti,\"go\",y,np.sin(y),\"ro\")"
   ]
  },
  {
   "cell_type": "markdown",
   "metadata": {},
   "source": [
    "5\\. Create a matrix that shows the 10 by 10 multiplication table.\n",
    "\n",
    " * Find the trace of the matrix\n",
    " * Extract the anto-diagonal (this should be ```array([10, 18, 24, 28, 30, 30, 28, 24, 18, 10])```)\n",
    " * Extract the diagnoal offset by 1 upwards (this should be ```array([ 2,  6, 12, 20, 30, 42, 56, 72, 90])```)"
   ]
  },
  {
   "cell_type": "code",
   "execution_count": 5,
   "metadata": {},
   "outputs": [
    {
     "name": "stdout",
     "output_type": "stream",
     "text": [
      "[[  1   2   3   4   5   6   7   8   9  10]\n",
      " [  2   4   6   8  10  12  14  16  18  20]\n",
      " [  3   6   9  12  15  18  21  24  27  30]\n",
      " [  4   8  12  16  20  24  28  32  36  40]\n",
      " [  5  10  15  20  25  30  35  40  45  50]\n",
      " [  6  12  18  24  30  36  42  48  54  60]\n",
      " [  7  14  21  28  35  42  49  56  63  70]\n",
      " [  8  16  24  32  40  48  56  64  72  80]\n",
      " [  9  18  27  36  45  54  63  72  81  90]\n",
      " [ 10  20  30  40  50  60  70  80  90 100]]\n",
      "[10 18 24 28 30 30 28 24 18 10]\n",
      "[ 2  6 12 20 30 42 56 72 90]\n"
     ]
    }
   ],
   "source": [
    "a=np.arange(1,11)\n",
    "b=a.reshape(10,1)\n",
    "c=b*a\n",
    "print(c)\n",
    "\n",
    "print(c[(0,1,2,3,4,5,6,7,8,9),(9,8,7,6,5,4,3,2,1,0)])\n",
    "d=np.array([c[i][i+1] for i in range(9)])\n",
    "print(d)\n"
   ]
  },
  {
   "cell_type": "markdown",
   "metadata": {},
   "source": [
    "6\\. Use broadcasting to create a grid of distances\n",
    "\n",
    "Route 66 crosses the following cities in the US: Chicago, Springfield, Saint-Louis, Tulsa, Oklahoma City, Amarillo, Santa Fe, Albuquerque, Flagstaff, Los Angeles\n",
    "The corresponding positions in miles are: 0, 198, 303, 736, 871, 1175, 1475, 1544, 1913, 2448\n",
    "\n",
    "  * Construct a 2D grid of distances among each city along Route 66\n",
    "  * Convert that in km (those savages...)"
   ]
  },
  {
   "cell_type": "code",
   "execution_count": 6,
   "metadata": {},
   "outputs": [
    {
     "name": "stdout",
     "output_type": "stream",
     "text": [
      "[[   0  198  303  736  871 1175 1475 1544 1913 2448]\n",
      " [ 198    0  105  538  673  977 1277 1346 1715 2250]\n",
      " [ 303  105    0  433  568  872 1172 1241 1610 2145]\n",
      " [ 736  538  433    0  135  439  739  808 1177 1712]\n",
      " [ 871  673  568  135    0  304  604  673 1042 1577]\n",
      " [1175  977  872  439  304    0  300  369  738 1273]\n",
      " [1475 1277 1172  739  604  300    0   69  438  973]\n",
      " [1544 1346 1241  808  673  369   69    0  369  904]\n",
      " [1913 1715 1610 1177 1042  738  438  369    0  535]\n",
      " [2448 2250 2145 1712 1577 1273  973  904  535    0]] \n",
      "\n",
      "[[   0.  123.  188.  457.  541.  730.  917.  960. 1189. 1521.]\n",
      " [ 123.    0.   65.  334.  418.  607.  794.  837. 1066. 1398.]\n",
      " [ 188.   65.    0.  269.  353.  542.  728.  771. 1001. 1333.]\n",
      " [ 457.  334.  269.    0.   84.  273.  459.  502.  732. 1064.]\n",
      " [ 541.  418.  353.   84.    0.  189.  375.  418.  648.  980.]\n",
      " [ 730.  607.  542.  273.  189.    0.  186.  229.  459.  791.]\n",
      " [ 917.  794.  728.  459.  375.  186.    0.   43.  272.  605.]\n",
      " [ 960.  837.  771.  502.  418.  229.   43.    0.  229.  562.]\n",
      " [1189. 1066. 1001.  732.  648.  459.  272.  229.    0.  333.]\n",
      " [1521. 1398. 1333. 1064.  980.  791.  605.  562.  333.    0.]]\n"
     ]
    }
   ],
   "source": [
    "a=np.array([0, 198, 303, 736, 871, 1175, 1475, 1544, 1913, 2448])\n",
    "\n",
    "b=a.reshape(10,1)\n",
    "\n",
    "citta=np.array([\"Chicago\", \"Springfield\", \"Saint-Louis\", \"Tulsa\", \"Oklahoma City\", \"Amarillo\", \"Santa Fe\", \"Albuquerque\", \"Flagstaff\", \"Los Angeles\"])\n",
    "#citte=citta.reshape(10,1)\n",
    "\n",
    "#un=np.array([\"\\\\\"])\n",
    "\n",
    "#citte1=np.concatenate(un,citte)\n",
    "c=np.absolute(a-b)\n",
    "print(c,\"\\n\")\n",
    "#print(citte.shape)\n",
    "#d=np.append(citta[:,None],c,1)\n",
    "#print(d)\n",
    "#print(d.shape)\n",
    "#print(np.append(citte[None,:],d,1))\n",
    "\n",
    "c=np.round(c/1.609)\n",
    "print(c)"
   ]
  },
  {
   "cell_type": "markdown",
   "metadata": {},
   "source": [
    "7\\. Prime numbers sieve: compute the prime numbers in the 0-N (N=99 to start with) range with a sieve (mask).\n",
    "  * Constract a shape (100,) boolean array, the mask\n",
    "  * Identify the multiples of each number starting from 2 and set accordingly the corresponding mask element\n",
    "  * Apply the mask to obtain an array of ordered prime numbers\n",
    "  * Check the performances (timeit); how does it scale with N?\n",
    "  * Implement the optimization suggested in the [sieve of Eratosthenes](https://en.wikipedia.org/wiki/Sieve_of_Eratosthenes)"
   ]
  },
  {
   "cell_type": "code",
   "execution_count": 16,
   "metadata": {},
   "outputs": [
    {
     "name": "stdout",
     "output_type": "stream",
     "text": [
      "[ 0  1  2  3  5  7 11 13 17 19 23 29 31 37 41 43 47 53 59 61 67 71 73 79\n",
      " 83 89 97]\n",
      "71.4 µs ± 5.79 µs per loop (mean ± std. dev. of 7 runs, 10000 loops each)\n",
      "130 µs ± 8.04 µs per loop (mean ± std. dev. of 7 runs, 10000 loops each)\n",
      "199 µs ± 16.4 µs per loop (mean ± std. dev. of 7 runs, 1000 loops each)\n",
      "250 µs ± 10.6 µs per loop (mean ± std. dev. of 7 runs, 1000 loops each)\n",
      "311 µs ± 3.97 µs per loop (mean ± std. dev. of 7 runs, 1000 loops each)\n",
      "397 µs ± 17.8 µs per loop (mean ± std. dev. of 7 runs, 1000 loops each)\n",
      "452 µs ± 1.88 µs per loop (mean ± std. dev. of 7 runs, 1000 loops each)\n",
      "624 µs ± 53.5 µs per loop (mean ± std. dev. of 7 runs, 1000 loops each)\n",
      "659 µs ± 38.6 µs per loop (mean ± std. dev. of 7 runs, 1000 loops each)\n"
     ]
    }
   ],
   "source": [
    "\n",
    "def f(a):\n",
    "    sieve=np.array([True for i in range(a)])\n",
    "\n",
    "    for i in range(1,a):\n",
    "        for j in range(2,int(i**(1/2)+1)):\n",
    "            if i%j==0 & j!=i:\n",
    "                sieve[i]=False\n",
    "    return sieve\n",
    "\n",
    "primi=np.arange(100)\n",
    "print(primi[f(100)])\n",
    "\n",
    "\n",
    "for k in range (10,100,10):\n",
    "    %timeit(f(k))\n"
   ]
  },
  {
   "cell_type": "code",
   "execution_count": 18,
   "metadata": {},
   "outputs": [
    {
     "name": "stdout",
     "output_type": "stream",
     "text": [
      "786 µs ± 99.5 µs per loop (mean ± std. dev. of 7 runs, 1000 loops each)\n",
      "1.66 ms ± 20.8 µs per loop (mean ± std. dev. of 7 runs, 1000 loops each)\n",
      "2.76 ms ± 114 µs per loop (mean ± std. dev. of 7 runs, 100 loops each)\n",
      "3.83 ms ± 20.2 µs per loop (mean ± std. dev. of 7 runs, 100 loops each)\n",
      "5.07 ms ± 9.89 µs per loop (mean ± std. dev. of 7 runs, 100 loops each)\n",
      "6.65 ms ± 684 µs per loop (mean ± std. dev. of 7 runs, 100 loops each)\n",
      "8.17 ms ± 380 µs per loop (mean ± std. dev. of 7 runs, 100 loops each)\n",
      "9.73 ms ± 337 µs per loop (mean ± std. dev. of 7 runs, 100 loops each)\n",
      "11.3 ms ± 491 µs per loop (mean ± std. dev. of 7 runs, 100 loops each)\n"
     ]
    }
   ],
   "source": [
    "for k in range (100,1000,100):\n",
    "    %timeit(f(k))"
   ]
  },
  {
   "cell_type": "code",
   "execution_count": 20,
   "metadata": {},
   "outputs": [
    {
     "data": {
      "text/plain": [
       "[<matplotlib.lines.Line2D at 0x17dc5540f98>,\n",
       " <matplotlib.lines.Line2D at 0x17dc5549160>,\n",
       " <matplotlib.lines.Line2D at 0x17dc55499b0>,\n",
       " <matplotlib.lines.Line2D at 0x17dc5549e10>,\n",
       " <matplotlib.lines.Line2D at 0x17dc55502b0>,\n",
       " <matplotlib.lines.Line2D at 0x17dc5550710>,\n",
       " <matplotlib.lines.Line2D at 0x17dc5550b70>,\n",
       " <matplotlib.lines.Line2D at 0x17dc5559048>,\n",
       " <matplotlib.lines.Line2D at 0x17dc5559470>,\n",
       " <matplotlib.lines.Line2D at 0x17dc55598d0>,\n",
       " <matplotlib.lines.Line2D at 0x17dc5559d30>,\n",
       " <matplotlib.lines.Line2D at 0x17dc55601d0>,\n",
       " <matplotlib.lines.Line2D at 0x17dc5560630>,\n",
       " <matplotlib.lines.Line2D at 0x17dc5560a90>,\n",
       " <matplotlib.lines.Line2D at 0x17dc5560ef0>,\n",
       " <matplotlib.lines.Line2D at 0x17dc5569390>,\n",
       " <matplotlib.lines.Line2D at 0x17dc55697f0>,\n",
       " <matplotlib.lines.Line2D at 0x17dc5569c50>]"
      ]
     },
     "execution_count": 20,
     "metadata": {},
     "output_type": "execute_result"
    },
    {
     "data": {
      "image/png": "[encoded data removed]",
      "text/plain": [
       "<Figure size 432x288 with 1 Axes>"
      ]
     },
     "metadata": {},
     "output_type": "display_data"
    }
   ],
   "source": [
    "plt.plot(10,71.4,\"go\",20,130,\"go\",30,199,\"go\",40,250,\"go\",50,311,\"go\",60,397,\"go\",70,452,\"go\",80,624,\"go\",90,659,\"go\",100,786,\"go\",200,1660,\"go\",300,2760,\"go\",400,3830,\"go\",500,5070,\"go\",600,6650,\"go\",700,8170,\"go\",800,9730,\"go\",900,11300,\"go\")\n",
    "#dal grafico pare essere esponenziale"
   ]
  },
  {
   "cell_type": "code",
   "execution_count": 50,
   "metadata": {},
   "outputs": [
    {
     "name": "stdout",
     "output_type": "stream",
     "text": [
      "[ 0  1  2  3  5  7 11 13 17 19 23 29 31 37 41 43 47 53 59 61 67 71 73 79\n",
      " 83 89 97]\n",
      "9.29 ms ± 1.21 ms per loop (mean ± std. dev. of 7 runs, 100 loops each)\n"
     ]
    }
   ],
   "source": [
    "\n",
    "#eratostene\n",
    "\n",
    "def f(a):\n",
    "    sieve=np.array([True for i in range(a)])\n",
    "\n",
    "    j=2\n",
    "    while j<a:\n",
    "        for i in range(j**2,a,j):\n",
    "            sieve[i]=False\n",
    "        #print(sieve)\n",
    "        \n",
    "        k=j+1\n",
    "        if k==a:\n",
    "\n",
    "            break\n",
    "            \n",
    "        while sieve[k]==False:\n",
    "            k=k+1\n",
    "            if k==a:\n",
    "\n",
    "                break\n",
    "                            \n",
    "        j=k\n",
    "              \n",
    "    return sieve\n",
    "\n",
    "primi=np.arange(100)\n",
    "print(primi[f(100)])\n",
    "\n",
    "\n",
    "#for k in range (10,100,10):\n",
    "%timeit(f(k))"
   ]
  },
  {
   "cell_type": "markdown",
   "metadata": {},
   "source": [
    "8\\. Diffusion using random walk\n",
    "\n",
    "Consider a simple random walk process: at each step in time, a walker jumps right or left (+1 or -1) with equal probability. The goal is to find the typical distance from the origin of a random walker after a given amount of time. \n",
    "To do that, let's simulate many walkers and create a 2D array with each walker as a raw and the actual time evolution as columns\n",
    "\n",
    "  * Take 1000 walkers and let them walk for 200 steps\n",
    "  * Use randint to create a 2D array of size walkers x steps with values -1 or 1\n",
    "  * Build the actual walking distances for each walker (i.e. another 2D array \"summing on each raw\")\n",
    "  * Take the square of that 2D array (elementwise)\n",
    "  * Compute the mean of the squared distances at each step (i.e. the mean along the columns)\n",
    "  * Plot the average distances (sqrt(distance\\*\\*2)) as a function of time (step)\n",
    "  \n",
    "Did you get what you expected?"
   ]
  },
  {
   "cell_type": "code",
   "execution_count": 78,
   "metadata": {},
   "outputs": [
    {
     "name": "stdout",
     "output_type": "stream",
     "text": [
      "[[-1  1 -1 ... -1  1 -1]\n",
      " [ 1  1 -1 ...  1 -1 -1]\n",
      " [ 1  1 -1 ... -1 -1  1]\n",
      " ...\n",
      " [-1  1  1 ... -1  1  1]\n",
      " [-1 -1 -1 ...  1 -1 -1]\n",
      " [-1  1 -1 ... -1  1 -1]]\n",
      "\n",
      "\n",
      "[[ -1.   0.  -1. ...  -4.  -3.  -4.]\n",
      " [  1.   2.   1. ...  18.  17.  16.]\n",
      " [  1.   2.   1. ...  16.  15.  16.]\n",
      " ...\n",
      " [ -1.   0.   1. ... -18. -17. -16.]\n",
      " [ -1.  -2.  -3. ...   4.   3.   2.]\n",
      " [ -1.   0.  -1. ...  24.  25.  24.]]\n",
      "\n",
      "\n",
      "[[  1.   0.   1. ...  16.   9.  16.]\n",
      " [  1.   4.   1. ... 324. 289. 256.]\n",
      " [  1.   4.   1. ... 256. 225. 256.]\n",
      " ...\n",
      " [  1.   0.   1. ... 324. 289. 256.]\n",
      " [  1.   4.   9. ...  16.   9.   4.]\n",
      " [  1.   0.   1. ... 576. 625. 576.]]\n",
      "\n",
      "\n",
      "[  1.      1.976   2.968   4.02    4.8     5.672   6.488   7.364   8.408\n",
      "   9.192  10.312  11.28   12.152  13.316  14.24   14.82   15.416  16.548\n",
      "  17.944  19.244  20.032  21.208  22.192  22.924  23.968  25.124  26.192\n",
      "  26.904  28.     29.036  30.136  31.26   32.552  34.256  35.544  36.768\n",
      "  37.952  38.74   39.016  39.744  41.08   42.38   43.136  44.724  45.768\n",
      "  46.664  47.56   48.584  49.464  49.7    51.12   51.9    52.832  53.22\n",
      "  54.64   56.096  57.608  59.34   60.712  62.228  64.128  64.936  64.936\n",
      "  65.584  65.848  66.812  67.528  68.288  69.624  71.224  72.328  73.74\n",
      "  74.8    75.572  76.776  78.732  79.496  80.464  80.768  82.008  83.288\n",
      "  83.884  84.544  85.996  86.576  87.376  89.32   90.496  91.28   92.08\n",
      "  92.272  92.7    93.24   93.82   94.776  95.396  96.872  98.668  97.6\n",
      "  99.552 101.336 103.048 103.984 104.22  105.752 107.028 108.328 109.432\n",
      " 110.776 111.204 112.728 112.844 113.24  113.112 113.904 114.628 116.184\n",
      " 116.812 117.376 117.676 119.52  121.64  122.04  123.892 124.536 126.24\n",
      " 127.248 128.636 129.512 130.248 130.272 131.004 133.248 134.252 136.368\n",
      " 138.86  140.112 139.112 140.576 142.416 142.72  143.056 142.968 144.344\n",
      " 144.4   145.292 146.08  147.944 149.544 151.62  154.224 154.88  157.528\n",
      " 158.268 159.344 160.244 161.096 162.732 162.56  162.948 164.216 164.504\n",
      " 163.872 163.824 163.536 164.184 166.328 168.796 169.384 172.    173.776\n",
      " 175.04  175.104 174.804 175.664 176.872 175.976 177.744 180.16  181.948\n",
      " 183.968 185.564 185.288 187.344 190.208 189.936 190.448 191.284 192.464\n",
      " 192.968 191.824 191.84  193.248 194.252 194.92  197.228 198.456 199.98\n",
      " 200.248 201.724]\n"
     ]
    },
    {
     "data": {
      "text/plain": [
       "[<matplotlib.lines.Line2D at 0x17dc56bfef0>]"
      ]
     },
     "execution_count": 78,
     "metadata": {},
     "output_type": "execute_result"
    },
    {
     "data": {
      "image/png": "[encoded data removed]",
      "text/plain": [
       "<Figure size 432x288 with 1 Axes>"
      ]
     },
     "metadata": {},
     "output_type": "display_data"
    }
   ],
   "source": [
    "import numpy.random as npr\n",
    "npr.seed(123) \n",
    "\n",
    "a=npr.randint(-1,1,size=(1000,200))\n",
    "a[a==0]=1\n",
    "print(a)\n",
    "print(\"\\n\")\n",
    "\n",
    "b=np.zeros((a.shape[0],a.shape[1]))\n",
    "\n",
    "for i in range(a.shape[0]):\n",
    "    for j in range(a.shape[1]):\n",
    "        b[i][j]=a[i,:j+1].sum()\n",
    "print(b)\n",
    "print(\"\\n\")\n",
    "\n",
    "c=b*b\n",
    "print(c)\n",
    "print(\"\\n\")\n",
    "\n",
    "d=np.zeros(a.shape[1])\n",
    "for i in range(a.shape[1]):\n",
    "    d[i]=c[:,i].mean()\n",
    "    \n",
    "print(d)\n",
    "\n",
    "t=np.arange(a.shape[1])\n",
    "plt.plot(t,np.sqrt(d),\"go\")"
   ]
  },
  {
   "cell_type": "markdown",
   "metadata": {},
   "source": [
    "la varianza delle distanze evolve come la radice del tempo come mi aspetto dal punto di vista teorico"
   ]
  },
  {
   "cell_type": "markdown",
   "metadata": {},
   "source": [
    "9\\. Analyze a data file \n",
    "  * Download the population of hares, lynxes and carrots at the beginning of the last century.\n",
    "    ```python\n",
    "    ! wget https://www.dropbox.com/s/3vigxoqayo389uc/populations.txt\n",
    "    ```\n",
    "\n",
    "  * Check the content by looking within the file\n",
    "  * Load the data (use an appropriate numpy method) into a 2D array\n",
    "  * Create arrays out of the columns, the arrays being (in order): *year*, *hares*, *lynxes*, *carrots* \n",
    "  * Plot the 3 populations over the years\n",
    "  * Compute the main statistical properties of the dataset (mean, std, correlations, etc.)\n",
    "  * Which species has the highest population each year?\n",
    "\n",
    "Do you feel there is some evident correlation here? [Studies](https://www.enr.gov.nt.ca/en/services/lynx/lynx-snowshoe-hare-cycle) tend to believe so."
   ]
  },
  {
   "cell_type": "code",
   "execution_count": 3,
   "metadata": {},
   "outputs": [
    {
     "data": {
      "image/png": "[encoded data removed]",
      "text/plain": [
       "<Figure size 432x288 with 1 Axes>"
      ]
     },
     "metadata": {},
     "output_type": "display_data"
    },
    {
     "name": "stdout",
     "output_type": "stream",
     "text": [
      "medie 1910.0 34080.95238095238 20166.666666666668 42400.0\n",
      "std 6.0553007081949835 20897.906458089667 16254.591536908763 3322.5062255844787\n",
      "corr (h,l), (l,c), (c,h)\n",
      " [[1.         0.07189206]\n",
      " [0.07189206 1.        ]] \n",
      " [[ 1.         -0.68057717]\n",
      " [-0.68057717  1.        ]] \n",
      " [[ 1.         -0.01660378]\n",
      " [-0.01660378  1.        ]]\n",
      "La popolazione maggiore dell'anno 1900.0 è composta da carote\n",
      "La popolazione maggiore dell'anno 1901.0 è composta da carote\n",
      "La popolazione maggiore dell'anno 1902.0 è composta da lepri\n",
      "La popolazione maggiore dell'anno 1903.0 è composta da lepri\n",
      "La popolazione maggiore dell'anno 1904.0 è composta da linci\n",
      "La popolazione maggiore dell'anno 1905.0 è composta da linci\n",
      "La popolazione maggiore dell'anno 1906.0 è composta da carote\n",
      "La popolazione maggiore dell'anno 1907.0 è composta da carote\n",
      "La popolazione maggiore dell'anno 1908.0 è composta da carote\n",
      "La popolazione maggiore dell'anno 1909.0 è composta da carote\n",
      "La popolazione maggiore dell'anno 1910.0 è composta da carote\n",
      "La popolazione maggiore dell'anno 1911.0 è composta da carote\n",
      "La popolazione maggiore dell'anno 1912.0 è composta da lepri\n",
      "La popolazione maggiore dell'anno 1913.0 è composta da lepri\n",
      "La popolazione maggiore dell'anno 1914.0 è composta da lepri\n",
      "La popolazione maggiore dell'anno 1915.0 è composta da linci\n",
      "La popolazione maggiore dell'anno 1916.0 è composta da carote\n",
      "La popolazione maggiore dell'anno 1917.0 è composta da carote\n",
      "La popolazione maggiore dell'anno 1918.0 è composta da carote\n",
      "La popolazione maggiore dell'anno 1919.0 è composta da carote\n",
      "La popolazione maggiore dell'anno 1920.0 è composta da carote\n"
     ]
    }
   ],
   "source": [
    "import matplotlib.pyplot as plt\n",
    "%matplotlib inline\n",
    "x=np.loadtxt(\"populations.txt\", skiprows=1)\n",
    "\n",
    "y=x[:,0]\n",
    "h=x[:,1]\n",
    "l=x[:,2]\n",
    "c=x[:,3]\n",
    "\n",
    "\n",
    "plt.plot(y,h,\"g\", label='hares')\n",
    "plt.plot(y,l,\"r\", label='lynx')\n",
    "plt.plot(y,c,\"y\", label='carrots')\n",
    "plt.legend()\n",
    "plt.show()\n",
    "\n",
    "\n",
    "y_mean=y.mean()\n",
    "h_mean=h.mean()\n",
    "l_mean=l.mean()\n",
    "c_mean=c.mean()\n",
    "\n",
    "y_std=y.std()\n",
    "h_std=h.std()\n",
    "l_std=l.std()\n",
    "c_std=c.std()\n",
    "\n",
    "\n",
    "from scipy.stats.stats import pearsonr \n",
    "\n",
    "h_corr=np.corrcoef(h,l)\n",
    "l_corr=np.corrcoef(l,c)\n",
    "c_corr=np.corrcoef(c,h)\n",
    "\n",
    "print(\"medie\",y_mean,h_mean,l_mean,c_mean)\n",
    "print(\"std\",y_std,h_std,l_std,c_std)\n",
    "print(\"corr (h,l), (l,c), (c,h)\\n\",h_corr, \"\\n\", l_corr, \"\\n\", c_corr)\n",
    "\n",
    "data=x[:,1:4]\n",
    "\n",
    "\n",
    "popolazione=np.array([\"lepri\",\"linci\",\"carote\"])\n",
    "\n",
    "for year in range(x.shape[0]):\n",
    "\n",
    "\n",
    "    print(\"La popolazione maggiore dell'anno\", x[year][0], \"è composta da\",popolazione[data[year].argmax()] )\n",
    "\n",
    "    "
   ]
  },
  {
   "cell_type": "code",
   "execution_count": null,
   "metadata": {},
   "outputs": [],
   "source": []
  }
 ],
 "metadata": {
  "kernelspec": {
   "display_name": "Python 3",
   "language": "python",
   "name": "python3"
  },
  "language_info": {
   "codemirror_mode": {
    "name": "ipython",
    "version": 3
   },
   "file_extension": ".py",
   "mimetype": "text/x-python",
   "name": "python",
   "nbconvert_exporter": "python",
   "pygments_lexer": "ipython3",
   "version": "3.6.5"
  }
 },
 "nbformat": 4,
 "nbformat_minor": 2
}
