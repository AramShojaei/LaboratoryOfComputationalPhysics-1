{
 "cells": [
  {
   "cell_type": "markdown",
   "metadata": {},
   "source": [
    "### Numpy basics"
   ]
  },
  {
   "cell_type": "markdown",
   "metadata": {},
   "source": [
    "1\\. Find the row, column and overall means for the following matrix:\n",
    "\n",
    "```python\n",
    "m = np.arange(12).reshape((3,4))\n",
    "```"
   ]
  },
  {
   "cell_type": "code",
   "execution_count": 2,
   "metadata": {
    "scrolled": true
   },
   "outputs": [
    {
     "name": "stdout",
     "output_type": "stream",
     "text": [
      "[[ 0  1  2  3]\n",
      " [ 4  5  6  7]\n",
      " [ 8  9 10 11]]\n",
      "\n",
      "mean 1 row = 1.5\n",
      "mean 2 row = 5.5\n",
      "mean 3 row = 9.5\n",
      "\n",
      "mean 1 column = 4.0\n",
      "mean 2 column = 5.0\n",
      "mean 3 column = 6.0\n",
      "mean 4 column = 7.0\n"
     ]
    }
   ],
   "source": [
    "import numpy as np\n",
    "m = np.arange(12).reshape((3,4))\n",
    "print(m)\n",
    "\n",
    "print()  \n",
    "\n",
    "for i in range(m.shape[0]):\n",
    "    row = m[i]\n",
    "    mean = 0\n",
    "    for element in row:\n",
    "        mean = mean + element/m.shape[1]\n",
    "    print('mean', i+1 ,'row =', mean)\n",
    "\n",
    "print()  \n",
    "    \n",
    "for i in range(m.shape[1]):\n",
    "    mean = 0\n",
    "    for row in m:\n",
    "        mean = mean + row[i]/m.shape[0]\n",
    "    print('mean', i+1 ,'column =', mean)\n"
   ]
  },
  {
   "cell_type": "markdown",
   "metadata": {},
   "source": [
    "2\\. Find the outer product of the following two vecotrs\n",
    "\n",
    "```python\n",
    "u = np.array([1,3,5,7])\n",
    "v = np.array([2,4,6,8])\n",
    "```\n",
    "\n",
    "Do this in the following ways:\n",
    "\n",
    "   * Using the function outer in numpy\n",
    "   * Using a nested for loop or list comprehension\n",
    "   * Using numpy broadcasting operatoins\n"
   ]
  },
  {
   "cell_type": "code",
   "execution_count": 6,
   "metadata": {},
   "outputs": [
    {
     "name": "stdout",
     "output_type": "stream",
     "text": [
      "<u,v> = [[ 2  4  6  8]\n",
      " [ 6 12 18 24]\n",
      " [10 20 30 40]\n",
      " [14 28 42 56]]\n",
      "<u,v> = [[ 2  4  6  8]\n",
      " [ 6 12 18 24]\n",
      " [10 20 30 40]\n",
      " [14 28 42 56]]\n",
      "<u,v> = [[ 2  4  6  8]\n",
      " [ 6 12 18 24]\n",
      " [10 20 30 40]\n",
      " [14 28 42 56]]\n"
     ]
    }
   ],
   "source": [
    "u = np.array([1,3,5,7])\n",
    "v = np.array([2,4,6,8])\n",
    "\n",
    "print('<u,v> =', np.outer(u, v))\n",
    "\n",
    "def vect_prod_nest(u, v):\n",
    "    return np.array([[x*y for y in v]for x in u])\n",
    "\n",
    "print('<u,v> =', vect_prod_nest(u, v))\n",
    "\n",
    "def vect_prod_broadcast(u, v):\n",
    "    u_T = u.reshape(4,1)\n",
    "    return u_T*v\n",
    "\n",
    "print('<u,v> =', vect_prod_broadcast(u, v))\n"
   ]
  },
  {
   "cell_type": "markdown",
   "metadata": {},
   "source": [
    "3\\. Create a 10 by 6 matrix of random uniform numbers. Set all rows with any entry less than 0.1 to be zero\n",
    "\n",
    "Hint: Use the following numpy functions - np.random.random, np.any as well as Boolean indexing and the axis argument."
   ]
  },
  {
   "cell_type": "code",
   "execution_count": 24,
   "metadata": {},
   "outputs": [
    {
     "name": "stdout",
     "output_type": "stream",
     "text": [
      "[[ 0.43156454  0.21017448  0.70949851  0.44031044  0.31885607  0.27707502]\n",
      " [ 0.29009612  0.11016791  0.0277394   0.64880928  0.17412882  0.16374801]\n",
      " [ 0.42315489  0.92262977  0.22419233  0.42836971  0.95399857  0.75081914]\n",
      " [ 0.86031092  0.54468869  0.19377685  0.42482887  0.67545242  0.95125048]\n",
      " [ 0.00100701  0.08671618  0.6976389   0.38803927  0.63864804  0.08521117]\n",
      " [ 0.8681053   0.68058026  0.47292549  0.09781302  0.42394663  0.7051261 ]\n",
      " [ 0.43680136  0.76874367  0.05843004  0.91699396  0.91419177  0.00523003]\n",
      " [ 0.89958084  0.24005891  0.83156557  0.86745671  0.35639183  0.83566017]\n",
      " [ 0.67355232  0.82569086  0.46317748  0.63993455  0.03273418  0.12338092]\n",
      " [ 0.43037888  0.71355956  0.68907773  0.67547377  0.44300629  0.27283532]]\n",
      "\n",
      "[[ 0.43156454  0.21017448  0.70949851  0.44031044  0.31885607  0.27707502]\n",
      " [ 0.          0.          0.          0.          0.          0.        ]\n",
      " [ 0.42315489  0.92262977  0.22419233  0.42836971  0.95399857  0.75081914]\n",
      " [ 0.86031092  0.54468869  0.19377685  0.42482887  0.67545242  0.95125048]\n",
      " [ 0.          0.          0.          0.          0.          0.        ]\n",
      " [ 0.          0.          0.          0.          0.          0.        ]\n",
      " [ 0.          0.          0.          0.          0.          0.        ]\n",
      " [ 0.89958084  0.24005891  0.83156557  0.86745671  0.35639183  0.83566017]\n",
      " [ 0.          0.          0.          0.          0.          0.        ]\n",
      " [ 0.43037888  0.71355956  0.68907773  0.67547377  0.44300629  0.27283532]]\n"
     ]
    }
   ],
   "source": [
    "m = np.array([np.random.random() for i in range(60)]).reshape((10,6))\n",
    "\n",
    "\n",
    "def cutoff(M):\n",
    "    Mcut = np.array([[True if x < 0.1 else False for x in row]for row in M])\n",
    "    for i in range(M.shape[0]):\n",
    "        if np.any(Mcut[i]):\n",
    "            M[i] = np.zeros(M.shape[1])\n",
    "    return M\n",
    "print(m)\n",
    "print()\n",
    "print(cutoff(m))\n",
    " \n"
   ]
  },
  {
   "cell_type": "markdown",
   "metadata": {},
   "source": [
    "4\\. Use np.linspace to create an array of 100 numbers between 0 and 2π (includsive).\n",
    "\n",
    "  * Extract every 10th element using slice notation\n",
    "  * Reverse the array using slice notation\n",
    "  * Extract elements where the absolute difference between the sine and cosine functions evaluated at that element is less than 0.1\n",
    "  * Make a plot showing the sin and cos functions and indicate where they are close"
   ]
  },
  {
   "cell_type": "code",
   "execution_count": 59,
   "metadata": {
    "scrolled": false
   },
   "outputs": [
    {
     "name": "stdout",
     "output_type": "stream",
     "text": [
      "[ 0.          0.06346652  0.12693304  0.19039955  0.25386607  0.31733259\n",
      "  0.38079911  0.44426563  0.50773215  0.57119866  0.63466518  0.6981317\n",
      "  0.76159822  0.82506474  0.88853126  0.95199777  1.01546429  1.07893081\n",
      "  1.14239733  1.20586385  1.26933037  1.33279688  1.3962634   1.45972992\n",
      "  1.52319644  1.58666296  1.65012947  1.71359599  1.77706251  1.84052903\n",
      "  1.90399555  1.96746207  2.03092858  2.0943951   2.15786162  2.22132814\n",
      "  2.28479466  2.34826118  2.41172769  2.47519421  2.53866073  2.60212725\n",
      "  2.66559377  2.72906028  2.7925268   2.85599332  2.91945984  2.98292636\n",
      "  3.04639288  3.10985939  3.17332591  3.23679243  3.30025895  3.36372547\n",
      "  3.42719199  3.4906585   3.55412502  3.61759154  3.68105806  3.74452458\n",
      "  3.8079911   3.87145761  3.93492413  3.99839065  4.06185717  4.12532369\n",
      "  4.1887902   4.25225672  4.31572324  4.37918976  4.44265628  4.5061228\n",
      "  4.56958931  4.63305583  4.69652235  4.75998887  4.82345539  4.88692191\n",
      "  4.95038842  5.01385494  5.07732146  5.14078798  5.2042545   5.26772102\n",
      "  5.33118753  5.39465405  5.45812057  5.52158709  5.58505361  5.64852012\n",
      "  5.71198664  5.77545316  5.83891968  5.9023862   5.96585272  6.02931923\n",
      "  6.09278575  6.15625227  6.21971879  6.28318531]\n",
      "\n",
      "[ 0.          0.63466518  1.26933037  1.90399555  2.53866073  3.17332591\n",
      "  3.8079911   4.44265628  5.07732146  5.71198664]\n",
      "\n",
      "[ 6.28318531  6.21971879  6.15625227  6.09278575  6.02931923  5.96585272\n",
      "  5.9023862   5.83891968  5.77545316  5.71198664  5.64852012  5.58505361\n",
      "  5.52158709  5.45812057  5.39465405  5.33118753  5.26772102  5.2042545\n",
      "  5.14078798  5.07732146  5.01385494  4.95038842  4.88692191  4.82345539\n",
      "  4.75998887  4.69652235  4.63305583  4.56958931  4.5061228   4.44265628\n",
      "  4.37918976  4.31572324  4.25225672  4.1887902   4.12532369  4.06185717\n",
      "  3.99839065  3.93492413  3.87145761  3.8079911   3.74452458  3.68105806\n",
      "  3.61759154  3.55412502  3.4906585   3.42719199  3.36372547  3.30025895\n",
      "  3.23679243  3.17332591  3.10985939  3.04639288  2.98292636  2.91945984\n",
      "  2.85599332  2.7925268   2.72906028  2.66559377  2.60212725  2.53866073\n",
      "  2.47519421  2.41172769  2.34826118  2.28479466  2.22132814  2.15786162\n",
      "  2.0943951   2.03092858  1.96746207  1.90399555  1.84052903  1.77706251\n",
      "  1.71359599  1.65012947  1.58666296  1.52319644  1.45972992  1.3962634\n",
      "  1.33279688  1.26933037  1.20586385  1.14239733  1.07893081  1.01546429\n",
      "  0.95199777  0.88853126  0.82506474  0.76159822  0.6981317   0.63466518\n",
      "  0.57119866  0.50773215  0.44426563  0.38079911  0.31733259  0.25386607\n",
      "  0.19039955  0.12693304  0.06346652  0.        ]\n",
      "\n",
      "[ 0.76159822  0.82506474  3.87145761  3.93492413]\n"
     ]
    },
    {
     "data": {
      "image/png": "[encoded data removed]",
      "text/plain": [
       "<matplotlib.figure.Figure at 0x7fc7bec27128>"
      ]
     },
     "metadata": {},
     "output_type": "display_data"
    }
   ],
   "source": [
    "%matplotlib inline\n",
    "import matplotlib.pyplot as plt\n",
    "\n",
    "a = np.linspace(0, 2*np.pi,100)\n",
    "print(a)\n",
    "print()\n",
    "print(a[::10])\n",
    "print()\n",
    "\n",
    "print(a[::-1])\n",
    "\n",
    "mask = np.array([True if abs(np.sin(x)-np.cos(x))<0.1 else False for x in a])\n",
    "\n",
    "print()\n",
    "print(a[mask])\n",
    "\n",
    "\n",
    "plt.plot(a, np.sin(a), 'r-')\n",
    "plt.plot(a, np.cos(a), 'b-')\n",
    "plt.plot(a[mask], np.cos(a[mask]), 'bo')\n",
    "plt.plot(a[mask], np.sin(a[mask]), 'ro')\n",
    "plt.xlabel('N')\n",
    "plt.ylabel('computation time')\n",
    "plt.show()"
   ]
  },
  {
   "cell_type": "markdown",
   "metadata": {},
   "source": [
    "5\\. Create a matrix that shows the 10 by 10 multiplication table.\n",
    "\n",
    " * Find the trace of the matrix\n",
    " * Extract the anto-diagonal (this should be ```array([10, 18, 24, 28, 30, 30, 28, 24, 18, 10])```)\n",
    " * Extract the diagnoal offset by 1 upwards (this should be ```array([ 2,  6, 12, 20, 30, 42, 56, 72, 90])```)\n",
    "\n"
   ]
  },
  {
   "cell_type": "code",
   "execution_count": 58,
   "metadata": {},
   "outputs": [
    {
     "name": "stdout",
     "output_type": "stream",
     "text": [
      "[[  1   2   3   4   5   6   7   8   9  10]\n",
      " [  2   4   6   8  10  12  14  16  18  20]\n",
      " [  3   6   9  12  15  18  21  24  27  30]\n",
      " [  4   8  12  16  20  24  28  32  36  40]\n",
      " [  5  10  15  20  25  30  35  40  45  50]\n",
      " [  6  12  18  24  30  36  42  48  54  60]\n",
      " [  7  14  21  28  35  42  49  56  63  70]\n",
      " [  8  16  24  32  40  48  56  64  72  80]\n",
      " [  9  18  27  36  45  54  63  72  81  90]\n",
      " [ 10  20  30  40  50  60  70  80  90 100]]\n"
     ]
    }
   ],
   "source": [
    " \n",
    "f = np.arange(1, 11, 1)\n",
    "h = f.reshape(10,1)\n",
    "table = f*h\n",
    "\n",
    "print(table)"
   ]
  },
  {
   "cell_type": "markdown",
   "metadata": {},
   "source": [
    "6\\. Use broadcasting to create a grid of distances\n",
    "\n",
    "Route 66 crosses the following cities in the US: Chicago, Springfield, Saint-Louis, Tulsa, Oklahoma City, Amarillo, Santa Fe, Albuquerque, Flagstaff, Los Angeles\n",
    "The corresponding positions in miles are: 0, 198, 303, 736, 871, 1175, 1475, 1544, 1913, 2448\n",
    "\n",
    "  * Construct a 2D grid of distances among each city along Route 66\n",
    "  * Convert that in km (those savages...)"
   ]
  },
  {
   "cell_type": "markdown",
   "metadata": {},
   "source": [
    "7\\. Prime numbers sieve: compute the prime numbers in the 0-N (N=99 to start with) range with a sieve (mask).\n",
    "  * Constract a shape (100,) boolean array, the mask\n",
    "  * Identify the multiples of each number starting from 2 and set accordingly the corresponding mask element\n",
    "  * Apply the mask to obtain an array of ordered prime numbers\n",
    "  * Check the performances (timeit); how does it scale with N?\n",
    "  * Implement the optimization suggested in the [sieve of Eratosthenes](https://en.wikipedia.org/wiki/Sieve_of_Eratosthenes)"
   ]
  },
  {
   "cell_type": "markdown",
   "metadata": {},
   "source": [
    "8\\. Diffusion using random walk\n",
    "\n",
    "Consider a simple random walk process: at each step in time, a walker jumps right or left (+1 or -1) with equal probability. The goal is to find the typical distance from the origin of a random walker after a given amount of time. \n",
    "To do that, let's simulate many walkers and create a 2D array with each walker as a raw and the actual time evolution as columns\n",
    "\n",
    "  * Take 1000 walkers and let them walk for 200 steps\n",
    "  * Use randint to create a 2D array of size walkers x steps with values -1 or 1\n",
    "  * Build the actual walking distances for each walker (i.e. another 2D array \"summing on each raw\")\n",
    "  * Take the square of that 2D array (elementwise)\n",
    "  * Compute the mean of the squared distances at each step (i.e. the mean along the columns)\n",
    "  * Plot the average distances (sqrt(distance\\*\\*2)) as a function of time (step)\n",
    "  \n",
    "Did you get what you expected?"
   ]
  },
  {
   "cell_type": "markdown",
   "metadata": {},
   "source": [
    "9\\. Analyze a data file \n",
    "  * Download the population of hares, lynxes and carrots at the beginning of the last century.\n",
    "    ```python\n",
    "    ! wget https://www.dropbox.com/s/3vigxoqayo389uc/populations.txt\n",
    "    ```\n",
    "\n",
    "  * Check the content by looking within the file\n",
    "  * Load the data (use an appropriate numpy method) into a 2D array\n",
    "  * Create arrays out of the columns, the arrays being (in order): *year*, *hares*, *lynxes*, *carrots* \n",
    "  * Plot the 3 populations over the years\n",
    "  * Compute the main statistical properties of the dataset (mean, std, correlations, etc.)\n",
    "  * Which species has the highest population each year?\n",
    "\n",
    "Do you feel there is some evident correlation here? [Studies](https://www.enr.gov.nt.ca/en/services/lynx/lynx-snowshoe-hare-cycle) tend to believe so."
   ]
  },
  {
   "cell_type": "code",
   "execution_count": null,
   "metadata": {
    "collapsed": true
   },
   "outputs": [],
   "source": []
  }
 ],
 "metadata": {
  "kernelspec": {
   "display_name": "Python 3",
   "language": "python",
   "name": "python3"
  },
  "language_info": {
   "codemirror_mode": {
    "name": "ipython",
    "version": 3
   },
   "file_extension": ".py",
   "mimetype": "text/x-python",
   "name": "python",
   "nbconvert_exporter": "python",
   "pygments_lexer": "ipython3",
   "version": "3.6.3"
  }
 },
 "nbformat": 4,
 "nbformat_minor": 2
}
