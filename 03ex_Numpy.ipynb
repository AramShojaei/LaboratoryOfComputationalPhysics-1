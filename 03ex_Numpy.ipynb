{
 "cells": [
  {
   "cell_type": "markdown",
   "metadata": {},
   "source": [
    "### Numpy basics"
   ]
  },
  {
   "cell_type": "code",
   "execution_count": 51,
   "metadata": {},
   "outputs": [],
   "source": [
    "import numpy as np\n",
    "import matplotlib.pyplot as plt\n",
    "%matplotlib inline"
   ]
  },
  {
   "cell_type": "markdown",
   "metadata": {},
   "source": [
    "1\\. Find the row, column and overall means for the following matrix:\n",
    "\n",
    "```python\n",
    "m = np.arange(12).reshape((3,4))\n",
    "```"
   ]
  },
  {
   "cell_type": "code",
   "execution_count": 52,
   "metadata": {},
   "outputs": [
    {
     "name": "stdout",
     "output_type": "stream",
     "text": [
      "[4. 5. 6. 7.]\n",
      "[1.5 5.5 9.5]\n",
      "5.5\n"
     ]
    }
   ],
   "source": [
    "m = np.arange(12).reshape((3,4))\n",
    "print(m.mean(axis=0))\n",
    "print(m.mean(axis=1))\n",
    "print(m.mean())\n"
   ]
  },
  {
   "cell_type": "markdown",
   "metadata": {},
   "source": [
    "2\\. Find the outer product of the following two vecotrs\n",
    "\n",
    "```python\n",
    "u = np.array([1,3,5,7])\n",
    "v = np.array([2,4,6,8])\n",
    "```\n",
    "\n",
    "Do this in the following ways:\n",
    "\n",
    "   * Using the function outer in numpy\n",
    "   * Using a nested for loop or list comprehension\n",
    "   * Using numpy broadcasting operatoins\n"
   ]
  },
  {
   "cell_type": "code",
   "execution_count": 53,
   "metadata": {},
   "outputs": [
    {
     "name": "stdout",
     "output_type": "stream",
     "text": [
      "[[ 2  4  6  8]\n",
      " [ 6 12 18 24]\n",
      " [10 20 30 40]\n",
      " [14 28 42 56]] \n",
      "\n",
      "[[ 2  4  6  8]\n",
      " [ 6 12 18 24]\n",
      " [10 20 30 40]\n",
      " [14 28 42 56]] \n",
      "\n",
      "[[ 2  4  6  8]\n",
      " [ 6 12 18 24]\n",
      " [10 20 30 40]\n",
      " [14 28 42 56]] \n",
      "\n"
     ]
    }
   ],
   "source": [
    "u = np.array([1,3,5,7])\n",
    "v = np.array([2,4,6,8])\n",
    "print(np.outer(u,v), '\\n')\n",
    "print(np.array([i*j for i in u for j in v]).reshape(4,4), '\\n')\n",
    "print(u[:,np.newaxis] * v[:,np.newaxis].T, '\\n')"
   ]
  },
  {
   "cell_type": "markdown",
   "metadata": {},
   "source": [
    "3\\. Create a 10 by 6 matrix of random uniform numbers. Set all rows with any entry less than 0.1 to be zero\n",
    "\n",
    "Hint: Use the following numpy functions - np.random.random, np.any as well as Boolean indexing and the axis argument."
   ]
  },
  {
   "cell_type": "code",
   "execution_count": 54,
   "metadata": {},
   "outputs": [
    {
     "name": "stdout",
     "output_type": "stream",
     "text": [
      "[[0.32301702 0.40028738 0.11143774 0.58419981 0.35080356 0.53570003]\n",
      " [0.         0.         0.         0.         0.         0.        ]\n",
      " [0.         0.         0.         0.         0.         0.        ]\n",
      " [0.         0.         0.         0.         0.         0.        ]\n",
      " [0.44590004 0.60723695 0.70008499 0.19395819 0.2148334  0.80016189]\n",
      " [0.         0.         0.         0.         0.         0.        ]\n",
      " [0.12337027 0.30001984 0.85849502 0.57786028 0.3508584  0.13956091]\n",
      " [0.         0.         0.         0.         0.         0.        ]\n",
      " [0.         0.         0.         0.         0.         0.        ]\n",
      " [0.68454975 0.43034971 0.77989128 0.30055989 0.90992026 0.1045219 ]]\n"
     ]
    }
   ],
   "source": [
    "a = np.random.random(size=(10,6))\n",
    "#a[a < 0.1] = 0\n",
    "a[np.any(a<0.1, axis=1)] = 0\n",
    "print(a) "
   ]
  },
  {
   "cell_type": "markdown",
   "metadata": {},
   "source": [
    "4\\. Use np.linspace to create an array of 100 numbers between 0 and 2π (includsive).\n",
    "\n",
    "  * Extract every 10th element using slice notation\n",
    "  * Reverse the array using slice notation\n",
    "  * Extract elements where the absolute difference between the sine and cosine functions evaluated at that element is less than 0.1\n",
    "  * Make a plot showing the sin and cos functions and indicate where they are close"
   ]
  },
  {
   "cell_type": "code",
   "execution_count": 55,
   "metadata": {},
   "outputs": [
    {
     "data": {
      "text/plain": [
       "Text(0, 0.5, 'y')"
      ]
     },
     "execution_count": 55,
     "metadata": {},
     "output_type": "execute_result"
    },
    {
     "data": {
      "image/png": "[encoded data removed]",
      "text/plain": [
       "<Figure size 432x288 with 1 Axes>"
      ]
     },
     "metadata": {
      "needs_background": "light"
     },
     "output_type": "display_data"
    }
   ],
   "source": [
    "a = np.linspace(0, 2*np.pi, 200)\n",
    "b = a[::10]\n",
    "b = b[::-1]\n",
    "c = a[abs(np.sin(a)-np.cos(a))<0.1]\n",
    "plt.plot(a, np.sin(a))\n",
    "plt.plot(a, np.cos(a))\n",
    "plt.scatter(c, np.sin(c), color='red', marker='.')\n",
    "plt.scatter(c, np.cos(c), color='red', marker='.')\n",
    "plt.xlabel(\"x\")\n",
    "plt.ylabel(\"y\")"
   ]
  },
  {
   "cell_type": "markdown",
   "metadata": {},
   "source": [
    "5\\. Create a matrix that shows the 10 by 10 multiplication table.\n",
    " * Find the trace of the matrix\n",
    " * Extract the anto-diagonal (this should be ```array([10, 18, 24, 28, 30, 30, 28, 24, 18, 10])```)\n",
    " * Extract the diagnoal offset by 1 upwards (this should be ```array([ 2,  6, 12, 20, 30, 42, 56, 72, 90])```)"
   ]
  },
  {
   "cell_type": "code",
   "execution_count": 56,
   "metadata": {},
   "outputs": [
    {
     "name": "stdout",
     "output_type": "stream",
     "text": [
      "[[  1   2   3   4   5   6   7   8   9  10]\n",
      " [  2   4   6   8  10  12  14  16  18  20]\n",
      " [  3   6   9  12  15  18  21  24  27  30]\n",
      " [  4   8  12  16  20  24  28  32  36  40]\n",
      " [  5  10  15  20  25  30  35  40  45  50]\n",
      " [  6  12  18  24  30  36  42  48  54  60]\n",
      " [  7  14  21  28  35  42  49  56  63  70]\n",
      " [  8  16  24  32  40  48  56  64  72  80]\n",
      " [  9  18  27  36  45  54  63  72  81  90]\n",
      " [ 10  20  30  40  50  60  70  80  90 100]] \n",
      "\n",
      "385 \n",
      "\n",
      "[10 18 24 28 30 30 28 24 18 10] \n",
      "\n",
      "[ 2  6 12 20 30 42 56 72 90]\n"
     ]
    }
   ],
   "source": [
    "a = np.arange(1,11).reshape(10,1)\n",
    "b = a*a.T\n",
    "print(b, '\\n')\n",
    "print(b.trace(), '\\n')\n",
    "print(b[::-1].diagonal(), '\\n')\n",
    "print(b[1:,:-1].diagonal())"
   ]
  },
  {
   "cell_type": "markdown",
   "metadata": {},
   "source": [
    "6\\. Use broadcasting to create a grid of distances\n",
    "\n",
    "Route 66 crosses the following cities in the US: Chicago, Springfield, Saint-Louis, Tulsa, Oklahoma City, Amarillo, Santa Fe, Albuquerque, Flagstaff, Los Angeles\n",
    "The corresponding positions in miles are: 0, 198, 303, 736, 871, 1175, 1475, 1544, 1913, 2448\n",
    "\n",
    "  * Construct a 2D grid of distances among each city along Route 66\n",
    "  * Convert that in km (those savages...)"
   ]
  },
  {
   "cell_type": "code",
   "execution_count": 57,
   "metadata": {},
   "outputs": [
    {
     "name": "stdout",
     "output_type": "stream",
     "text": [
      "[[    0.      318.582   487.527  1184.224  1401.439  1890.575  2373.275\n",
      "   2484.296  3078.017  3938.832]\n",
      " [ -318.582     0.      168.945   865.642  1082.857  1571.993  2054.693\n",
      "   2165.714  2759.435  3620.25 ]\n",
      " [ -487.527  -168.945     0.      696.697   913.912  1403.048  1885.748\n",
      "   1996.769  2590.49   3451.305]\n",
      " [-1184.224  -865.642  -696.697     0.      217.215   706.351  1189.051\n",
      "   1300.072  1893.793  2754.608]\n",
      " [-1401.439 -1082.857  -913.912  -217.215     0.      489.136   971.836\n",
      "   1082.857  1676.578  2537.393]\n",
      " [-1890.575 -1571.993 -1403.048  -706.351  -489.136     0.      482.7\n",
      "    593.721  1187.442  2048.257]\n",
      " [-2373.275 -2054.693 -1885.748 -1189.051  -971.836  -482.7       0.\n",
      "    111.021   704.742  1565.557]\n",
      " [-2484.296 -2165.714 -1996.769 -1300.072 -1082.857  -593.721  -111.021\n",
      "      0.      593.721  1454.536]\n",
      " [-3078.017 -2759.435 -2590.49  -1893.793 -1676.578 -1187.442  -704.742\n",
      "   -593.721     0.      860.815]\n",
      " [-3938.832 -3620.25  -3451.305 -2754.608 -2537.393 -2048.257 -1565.557\n",
      "  -1454.536  -860.815     0.   ]]\n"
     ]
    }
   ],
   "source": [
    "miles = np.array([0,198,303,736, 871, 1175, 1475, 1544, 1913, 2448])\n",
    "distances = miles[:,np.newaxis].T - miles[:, np.newaxis]\n",
    "distances_km = distances * 1.609\n",
    "print(distances_km)"
   ]
  },
  {
   "cell_type": "markdown",
   "metadata": {},
   "source": [
    "7\\. Prime numbers sieve: compute the prime numbers in the 0-N (N=99 to start with) range with a sieve (mask).\n",
    "  * Constract a shape (100,) boolean array, the mask\n",
    "  * Identify the multiples of each number starting from 2 and set accordingly the corresponding mask element\n",
    "  * Apply the mask to obtain an array of ordered prime numbers\n",
    "  * Check the performances (timeit); how does it scale with N?\n",
    "  * Implement the optimization suggested in the [sieve of Eratosthenes](https://en.wikipedia.org/wiki/Sieve_of_Eratosthenes)"
   ]
  },
  {
   "cell_type": "code",
   "execution_count": 58,
   "metadata": {},
   "outputs": [],
   "source": [
    "def sieve(N):\n",
    "    numbers = np.arange(N+1)\n",
    "    mask = np.ones(numbers.shape[0], dtype=np.bool)\n",
    "    mask[0] = False\n",
    "    mask[1] = False\n",
    "    for i in range(2, mask.shape[0]):\n",
    "        if mask[i]:\n",
    "            mask[i+i::i] = False\n",
    "    return numbers[mask]\n",
    "\n",
    "        \n",
    "N = 10000\n",
    "\n",
    "for N in [1e3, 1e4, 1e5, 1e6, 1e7, 1e8, 1e9]:\n",
    "    primes = sieve(N)\n",
    "\n",
    "#131 µs ± 551 ns per loop (mean ± std. dev. of 7 runs, 10000 loops each)\n",
    "#1.13 ms ± 1.38 µs per loop (mean ± std. dev. of 7 runs, 1000 loops each)\n",
    "#10.4 ms ± 171 µs per loop (mean ± std. dev. of 7 runs, 100 loops each)\n",
    "#100 ms ± 400 µs per loop (mean ± std. dev. of 7 runs, 10 loops each)\n",
    "#1.07 s ± 8.04 ms per loop (mean ± std. dev. of 7 runs, 1 loop each)\n",
    "#11.7 s ± 121 ms per loop (mean ± std. dev. of 7 runs, 1 loop each)\n",
    "#5min 7s ± 6.63 s per loop (mean ± std. dev. of 7 runs, 1 loop each)\n"
   ]
  },
  {
   "cell_type": "code",
   "execution_count": 59,
   "metadata": {},
   "outputs": [
    {
     "data": {
      "image/png": "[encoded data removed]",
      "text/plain": [
       "<Figure size 504x360 with 1 Axes>"
      ]
     },
     "metadata": {
      "needs_background": "light"
     },
     "output_type": "display_data"
    }
   ],
   "source": [
    "times = [0.131, 1.13, 10.4, 100, 1070, 11700, 307000 ]\n",
    "N = [1e3, 1e4, 1e5, 1e6, 1e7, 1e8, 1e9]\n",
    "fig, ax = plt.subplots(nrows=1, ncols=1,figsize=(7, 5))\n",
    "plt.plot(np.log10(N), np.log(times))\n",
    "plt.ylabel(\"O(t) [ms]\")\n",
    "plt.xlabel(\"O(n)\")\n",
    "#plt.arrow(8, 3, 0, 5)\n",
    "ax.annotate(\"memory overflow?\", xy=(8.05,8.7), xytext=(7.5, 5), arrowprops=dict(arrowstyle=\"->\"))\n",
    "plt.show()\n"
   ]
  },
  {
   "cell_type": "markdown",
   "metadata": {},
   "source": [
    "8\\. Diffusion using random walk\n",
    "\n",
    "Consider a simple random walk process: at each step in time, a walker jumps right or left (+1 or -1) with equal probability. The goal is to find the typical distance from the origin of a random walker after a given amount of time. \n",
    "To do that, let's simulate many walkers and create a 2D array with each walker as a raw and the actual time evolution as columns\n",
    "\n",
    "  * Take 1000 walkers and let them walk for 200 steps\n",
    "  * Use randint to create a 2D array of size walkers x steps with values -1 or 1\n",
    "  * Build the actual walking distances for each walker (i.e. another 2D array \"summing on each raw\")\n",
    "  * Take the square of that 2D array (elementwise)\n",
    "  * Compute the mean of the squared distances at each step (i.e. the mean along the columns)\n",
    "  * Plot the average distances (sqrt(distance\\*\\*2)) as a function of time (step)\n",
    "  \n",
    "Did you get what you expected? yep"
   ]
  },
  {
   "cell_type": "code",
   "execution_count": 60,
   "metadata": {},
   "outputs": [
    {
     "data": {
      "text/plain": [
       "Text(0, 0.5, 'distance')"
      ]
     },
     "execution_count": 60,
     "metadata": {},
     "output_type": "execute_result"
    },
    {
     "data": {
      "image/png": "[encoded data removed]",
      "text/plain": [
       "<Figure size 432x288 with 1 Axes>"
      ]
     },
     "metadata": {
      "needs_background": "light"
     },
     "output_type": "display_data"
    }
   ],
   "source": [
    "#walkers = np.zeros((100000, 200)) \n",
    "walkers = np.zeros((1000, 200)) \n",
    "\n",
    "for i in range(200):\n",
    "    if i > 0:\n",
    "        walkers[:,i] = walkers[:,i-1] + np.random.choice([-1,1], size=(walkers.shape[0], )) \n",
    "    else:\n",
    "        walkers[:,i] = np.random.choice([-1,1], size=(walkers.shape[0], )) \n",
    "        \n",
    "distance = np.sqrt(walkers**2).mean(axis=0)\n",
    "plt.plot(np.arange(200), distance)\n",
    "plt.xlabel(\"time\")\n",
    "plt.ylabel(\"distance\")"
   ]
  },
  {
   "cell_type": "markdown",
   "metadata": {},
   "source": [
    "\n",
    "9\\. Analyze a data file \n",
    "  * Download the population of hares, lynxes and carrots at the beginning of the last century.\n",
    "    ```python\n",
    "    ! wget https://www.dropbox.com/s/3vigxoqayo389uc/populations.txt\n",
    "    ```\n",
    "\n",
    "  * Check the content by looking within the file\n",
    "  * Load the data (use an appropriate numpy method) into a 2D array\n",
    "  * Create arrays out of the columns, the arrays being (in order): *year*, *hares*, *lynxes*, *carrots* \n",
    "  * Plot the 3 populations over the years\n",
    "  * Compute the main statistical properties of the dataset (mean, std, correlations, etc.)\n",
    "  * Which species has the highest population each year?\n",
    "\n",
    "Do you feel there is some evident correlation here? [Studies](https://www.enr.gov.nt.ca/en/services/lynx/lynx-snowshoe-hare-cycle) tend to believe so."
   ]
  },
  {
   "cell_type": "code",
   "execution_count": null,
   "metadata": {},
   "outputs": [],
   "source": [
    "! wget https://www.dropbox.com/s/3vigxoqayo389uc/populations.txt"
   ]
  },
  {
   "cell_type": "code",
   "execution_count": 62,
   "metadata": {},
   "outputs": [],
   "source": [
    "with open(\"populations.txt\") as f: \n",
    "    data = []\n",
    "    for line in f: \n",
    "        data.append(line.strip().split('\\t'))\n",
    "\n",
    "data = np.array(np.array(data)[1:], dtype='float64') # year, hare, lynx, carrot"
   ]
  },
  {
   "cell_type": "code",
   "execution_count": 65,
   "metadata": {},
   "outputs": [
    {
     "name": "stderr",
     "output_type": "stream",
     "text": [
      "/home/mango/anaconda3/lib/python3.7/site-packages/ipykernel_launcher.py:24: DeprecationWarning: Numeric-style type codes are deprecated and will result in an error in the future.\n"
     ]
    },
    {
     "data": {
      "text/plain": [
       "<matplotlib.legend.Legend at 0x7f4275bc5940>"
      ]
     },
     "execution_count": 65,
     "metadata": {},
     "output_type": "execute_result"
    },
    {
     "data": {
      "image/png": "[encoded data removed]",
      "text/plain": [
       "<Figure size 432x288 with 1 Axes>"
      ]
     },
     "metadata": {
      "needs_background": "light"
     },
     "output_type": "display_data"
    }
   ],
   "source": [
    "plt.plot(data[:,0], data[:,1], label='hare', color='blue')\n",
    "plt.plot(data[:,0], data[:,2], label='lynx', color='green')\n",
    "plt.plot(data[:,0], data[:,3], label='carrot', color='orange')\n",
    "\n",
    "\n",
    "means = data.mean(axis = 0)\n",
    "means = np.tile(means, (data.shape[0],1))\n",
    "plt.plot(data[:,0], means[:,1], alpha = 0.6, color='blue')\n",
    "plt.plot(data[:,0], means[:,2], alpha = 0.6, color='green')\n",
    "plt.plot(data[:,0], means[:,3], alpha = 0.6, color='orange')\n",
    "\n",
    "\n",
    "stds = data.std(axis = 0)\n",
    "stds = np.tile(stds, (data.shape[0],1))\n",
    "\n",
    "plt.plot(data[:,0], means[:,1]+stds[:,1], linestyle='--', alpha = 0.6, color='blue')\n",
    "plt.plot(data[:,0], means[:,2]+stds[:,2], linestyle='--', alpha = 0.6, color='green')\n",
    "plt.plot(data[:,0], means[:,3]+stds[:,3], linestyle='--', alpha = 0.6, color='orange')\n",
    "plt.plot(data[:,0], means[:,1]-stds[:,1], linestyle='--', alpha = 0.6, color='blue')\n",
    "plt.plot(data[:,0], means[:,2]-stds[:,2], linestyle='--', alpha = 0.6, color='green')\n",
    "plt.plot(data[:,0], means[:,3]-stds[:,3], linestyle='--', alpha = 0.6, color='orange')\n",
    "plt.xlabel(\"year\")\n",
    "plt.ylabel(\"population\")\n",
    "xticks = np.linspace(data[0,0], data[-1,0], 5).astype(\"Int64\")\n",
    "plt.xticks(xticks)\n",
    "plt.legend()\n"
   ]
  },
  {
   "cell_type": "code",
   "execution_count": 19,
   "metadata": {},
   "outputs": [
    {
     "data": {
      "text/plain": [
       "array([[ 1.        , -0.38917662, -0.02544806, -0.13633321],\n",
       "       [-0.38917662,  1.        ,  0.07189206, -0.01660378],\n",
       "       [-0.02544806,  0.07189206,  1.        , -0.68057717],\n",
       "       [-0.13633321, -0.01660378, -0.68057717,  1.        ]])"
      ]
     },
     "execution_count": 19,
     "metadata": {},
     "output_type": "execute_result"
    }
   ],
   "source": [
    "np.corrcoef(data.T) # year, hare, lynx, carrot"
   ]
  },
  {
   "cell_type": "code",
   "execution_count": 150,
   "metadata": {},
   "outputs": [
    {
     "data": {
      "text/plain": [
       "<matplotlib.legend.Legend at 0x7f4275086da0>"
      ]
     },
     "execution_count": 150,
     "metadata": {},
     "output_type": "execute_result"
    },
    {
     "data": {
      "image/png": "[encoded data removed]",
      "text/plain": [
       "<Figure size 432x288 with 1 Axes>"
      ]
     },
     "metadata": {
      "needs_background": "light"
     },
     "output_type": "display_data"
    }
   ],
   "source": [
    "# done with \"advanced\" numpy indexing\n",
    "maxes = data[:,1:].argmax(axis=1)\n",
    "population = data[np.arange(data.shape[0]), maxes + 1]\n",
    "hares_data = np.ma.getmaskarray(np.ma.masked_where(maxes == 0, population))\n",
    "hares_year = np.ma.getmaskarray(np.ma.masked_where(maxes == 0, data[:,0]))\n",
    "lynxes_data = np.ma.getmaskarray(np.ma.masked_where(maxes == 1, population))\n",
    "lynxes_year = np.ma.getmaskarray(np.ma.masked_where(maxes == 1, data[:,0]))\n",
    "carrots_data = np.ma.getmaskarray(np.ma.masked_where(maxes == 2, population))\n",
    "carrots_year = np.ma.getmaskarray(np.ma.masked_where(maxes == 2, data[:,0]))\n",
    "\n",
    "plt.scatter(data[hares_year,0], data[hares_data,1], c='blue', label='hare')\n",
    "plt.scatter(data[lynxes_year,0], data[lynxes_data,2], c='green', label='lynx')\n",
    "plt.scatter(data[carrots_year,0], data[carrots_data,3], c='orange', label='carrot')\n",
    "plt.xlabel(\"year\")\n",
    "plt.ylabel(\"population\")\n",
    "xticks = np.linspace(data[0,0], data[-1,0], 5).astype(np.int64)\n",
    "plt.xticks(xticks)\n",
    "plt.legend()"
   ]
  },
  {
   "cell_type": "code",
   "execution_count": null,
   "metadata": {},
   "outputs": [],
   "source": []
  }
 ],
 "metadata": {
  "kernelspec": {
   "display_name": "Python 3",
   "language": "python",
   "name": "python3"
  },
  "language_info": {
   "codemirror_mode": {
    "name": "ipython",
    "version": 3
   },
   "file_extension": ".py",
   "mimetype": "text/x-python",
   "name": "python",
   "nbconvert_exporter": "python",
   "pygments_lexer": "ipython3",
   "version": "3.6.7"
  }
 },
 "nbformat": 4,
 "nbformat_minor": 2
}
