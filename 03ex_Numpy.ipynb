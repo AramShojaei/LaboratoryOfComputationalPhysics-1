{
 "cells": [
  {
   "cell_type": "markdown",
   "metadata": {},
   "source": [
    "### Numpy basics"
   ]
  },
  {
   "cell_type": "code",
   "execution_count": 2,
   "metadata": {},
   "outputs": [],
   "source": [
    "import numpy as np"
   ]
  },
  {
   "cell_type": "markdown",
   "metadata": {},
   "source": [
    "1\\. Find the row, column and overall means for the following matrix:\n",
    "\n",
    "```python\n",
    "m = np.arange(12).reshape((3,4))\n",
    "```"
   ]
  },
  {
   "cell_type": "code",
   "execution_count": 39,
   "metadata": {},
   "outputs": [
    {
     "name": "stdout",
     "output_type": "stream",
     "text": [
      "[[ 0  1  2  3]\n",
      " [ 4  5  6  7]\n",
      " [ 8  9 10 11]]\n",
      "Vecor of row means:\n",
      " [[1.5]\n",
      " [5.5]\n",
      " [9.5]]\n",
      "Vecor of column means:\n",
      " [[4.]\n",
      " [5.]\n",
      " [6.]\n",
      " [7.]]\n",
      "verall mean: 5.5\n"
     ]
    }
   ],
   "source": [
    "#1 senza usare le funzioni\n",
    "\n",
    "m = np.arange(12).reshape((3,4))\n",
    "#print(m)\n",
    "shape = m.shape\n",
    "\n",
    "row_m = np.zeros((shape[0],1))\n",
    "col_m = np.zeros((shape[1],1))\n",
    "overall_m = 0.\n",
    "\n",
    "#media dei valori in ogni riga\n",
    "for i in range(shape[0]):\n",
    "    for j in range(shape[1]):\n",
    "        row_m[i] += m[i,j]\n",
    "row_m /= shape[1]\n",
    "print(\"Vecor of row means:\\n\", row_m)\n",
    "\n",
    "#media dei valori in ogni colonna\n",
    "for i in range(shape[1]):\n",
    "    for j in range(shape[0]):\n",
    "        col_m[i] += m[j,i]\n",
    "col_m /= shape[0]\n",
    "print(\"Vecor of column means:\\n\", col_m)\n",
    "\n",
    "#media complessiva\n",
    "for i in range(shape[0]):\n",
    "    for j in range(shape[1]):\n",
    "        overall_m += m[i,j]\n",
    "overall_m /= (shape[0]*shape[1])\n",
    "print(\"Overall mean:\", overall_m)"
   ]
  },
  {
   "cell_type": "code",
   "execution_count": 43,
   "metadata": {},
   "outputs": [
    {
     "name": "stdout",
     "output_type": "stream",
     "text": [
      "Row means:\n",
      " [1.5 5.5 9.5]\n",
      "Column means:\n",
      " [4. 5. 6. 7.]\n",
      "Overall mean: 5.5\n"
     ]
    }
   ],
   "source": [
    "#1 usando le funzioni di numpy\n",
    "\n",
    "print(\"Row means:\\n\", m.mean(axis=1))\n",
    "print(\"Column means:\\n\", m.mean(axis=0))\n",
    "print(\"Overall mean:\", m.mean())\n"
   ]
  },
  {
   "cell_type": "markdown",
   "metadata": {},
   "source": [
    "2\\. Find the outer product of the following two vecotrs\n",
    "\n",
    "```python\n",
    "u = np.array([1,3,5,7])\n",
    "v = np.array([2,4,6,8])\n",
    "```\n",
    "\n",
    "Do this in the following ways:\n",
    "\n",
    "   * Using the function outer in numpy\n",
    "   * Using a nested for loop or list comprehension\n",
    "   * Using numpy broadcasting operatoins\n"
   ]
  },
  {
   "cell_type": "code",
   "execution_count": 45,
   "metadata": {},
   "outputs": [
    {
     "name": "stdout",
     "output_type": "stream",
     "text": [
      "[[ 2  4  6  8]\n",
      " [ 6 12 18 24]\n",
      " [10 20 30 40]\n",
      " [14 28 42 56]]\n"
     ]
    }
   ],
   "source": [
    "#2.a\n",
    "u = np.array([1,3,5,7])\n",
    "v = np.array([2,4,6,8])\n",
    "\n",
    "w = np.outer(u,v)\n",
    "#print(w)"
   ]
  },
  {
   "cell_type": "code",
   "execution_count": 74,
   "metadata": {},
   "outputs": [
    {
     "name": "stdout",
     "output_type": "stream",
     "text": [
      "[[ 2.  4.  6.  8.]\n",
      " [ 6. 12. 18. 24.]\n",
      " [10. 20. 30. 40.]\n",
      " [14. 28. 42. 56.]]\n",
      "[[ 2  4  6  8]\n",
      " [ 6 12 18 24]\n",
      " [10 20 30 40]\n",
      " [14 28 42 56]]\n"
     ]
    }
   ],
   "source": [
    "#2.b.con il for\n",
    "shape_u = u.shape\n",
    "shape_v = v.shape\n",
    "w = np.zeros((shape_u[0],shape_v[0]))\n",
    "\n",
    "for i in range(shape_u[0]):\n",
    "    for j in range(shape_v[0]):\n",
    "        w[i,j] = u[i]*v[j]\n",
    "print(w)\n",
    "\n",
    "#2.b con una lista \n",
    "z = np.array([u[i]*v[j] for i in range(shape_u[0]) for j in range(shape_v[0])]).reshape((shape_u[0],shape_v[0]))\n",
    "print(z)"
   ]
  },
  {
   "cell_type": "code",
   "execution_count": 89,
   "metadata": {},
   "outputs": [
    {
     "name": "stdout",
     "output_type": "stream",
     "text": [
      "Matrix created by broadcasting:\n",
      " [[ 2  4  6  8]\n",
      " [ 6 12 18 24]\n",
      " [10 20 30 40]\n",
      " [14 28 42 56]]\n"
     ]
    }
   ],
   "source": [
    "#2.3\n",
    "u_t = np.array([u]).T #traspone il primo vettore\n",
    "\n",
    "print(\"Matrix created by broadcasting:\\n\", u_t*v)"
   ]
  },
  {
   "cell_type": "markdown",
   "metadata": {},
   "source": [
    "3\\. Create a 10 by 6 matrix of random uniform numbers. Set all rows with any entry less than 0.1 to be zero\n",
    "\n",
    "Hint: Use the following numpy functions - np.random.random, np.any as well as Boolean indexing and the axis argument."
   ]
  },
  {
   "cell_type": "code",
   "execution_count": 78,
   "metadata": {},
   "outputs": [
    {
     "name": "stdout",
     "output_type": "stream",
     "text": [
      "[[0.33983462 0.29750077 0.57687936 0.11753148 0.50937845 0.957223  ]\n",
      " [0.85147438 0.82561121 0.74327891 0.06026451 0.95021067 0.4985473 ]\n",
      " [0.38115198 0.26531903 0.20839038 0.11867331 0.5124764  0.02596294]\n",
      " [0.35552342 0.2702609  0.18723014 0.50894374 0.19138764 0.27132186]\n",
      " [0.2717619  0.53463288 0.55062395 0.96439722 0.15105699 0.93662968]\n",
      " [0.826239   0.921847   0.99114958 0.62026129 0.66877705 0.66441987]\n",
      " [0.49656196 0.07118002 0.08131222 0.15090578 0.32224597 0.88999721]\n",
      " [0.50566637 0.68909592 0.38246759 0.14617317 0.7393692  0.0494926 ]\n",
      " [0.77628483 0.70459795 0.73629805 0.87940328 0.48603227 0.69505622]\n",
      " [0.20464932 0.28021628 0.44067621 0.00866107 0.33932737 0.17429764]]\n"
     ]
    }
   ],
   "source": [
    "#3\n",
    "\n",
    "m = np.random.random((10,6))\n"
   ]
  },
  {
   "cell_type": "markdown",
   "metadata": {},
   "source": [
    "4\\. Use np.linspace to create an array of 100 numbers between 0 and 2π (includsive).\n",
    "\n",
    "  * Extract every 10th element using slice notation\n",
    "  * Reverse the array using slice notation\n",
    "  * Extract elements where the absolute difference between the sine and cosine functions evaluated at that element is less than 0.1\n",
    "  * Make a plot showing the sin and cos functions and indicate where they are close"
   ]
  },
  {
   "cell_type": "markdown",
   "metadata": {},
   "source": [
    "5\\. Create a matrix that shows the 10 by 10 multiplication table.\n",
    "\n",
    " * Find the trace of the matrix\n",
    " * Extract the anto-diagonal (this should be ```array([10, 18, 24, 28, 30, 30, 28, 24, 18, 10])```)\n",
    " * Extract the diagnoal offset by 1 upwards (this should be ```array([ 2,  6, 12, 20, 30, 42, 56, 72, 90])```)"
   ]
  },
  {
   "cell_type": "markdown",
   "metadata": {},
   "source": [
    "6\\. Use broadcasting to create a grid of distances\n",
    "\n",
    "Route 66 crosses the following cities in the US: Chicago, Springfield, Saint-Louis, Tulsa, Oklahoma City, Amarillo, Santa Fe, Albuquerque, Flagstaff, Los Angeles\n",
    "The corresponding positions in miles are: 0, 198, 303, 736, 871, 1175, 1475, 1544, 1913, 2448\n",
    "\n",
    "  * Construct a 2D grid of distances among each city along Route 66\n",
    "  * Convert that in km (those savages...)"
   ]
  },
  {
   "cell_type": "markdown",
   "metadata": {},
   "source": [
    "7\\. Prime numbers sieve: compute the prime numbers in the 0-N (N=99 to start with) range with a sieve (mask).\n",
    "  * Constract a shape (100,) boolean array, the mask\n",
    "  * Identify the multiples of each number starting from 2 and set accordingly the corresponding mask element\n",
    "  * Apply the mask to obtain an array of ordered prime numbers\n",
    "  * Check the performances (timeit); how does it scale with N?\n",
    "  * Implement the optimization suggested in the [sieve of Eratosthenes](https://en.wikipedia.org/wiki/Sieve_of_Eratosthenes)"
   ]
  },
  {
   "cell_type": "markdown",
   "metadata": {},
   "source": [
    "8\\. Diffusion using random walk\n",
    "\n",
    "Consider a simple random walk process: at each step in time, a walker jumps right or left (+1 or -1) with equal probability. The goal is to find the typical distance from the origin of a random walker after a given amount of time. \n",
    "To do that, let's simulate many walkers and create a 2D array with each walker as a raw and the actual time evolution as columns\n",
    "\n",
    "  * Take 1000 walkers and let them walk for 200 steps\n",
    "  * Use randint to create a 2D array of size walkers x steps with values -1 or 1\n",
    "  * Build the actual walking distances for each walker (i.e. another 2D array \"summing on each raw\")\n",
    "  * Take the square of that 2D array (elementwise)\n",
    "  * Compute the mean of the squared distances at each step (i.e. the mean along the columns)\n",
    "  * Plot the average distances (sqrt(distance\\*\\*2)) as a function of time (step)\n",
    "  \n",
    "Did you get what you expected?"
   ]
  },
  {
   "cell_type": "markdown",
   "metadata": {},
   "source": [
    "9\\. Analyze a data file \n",
    "  * Download the population of hares, lynxes and carrots at the beginning of the last century.\n",
    "    ```python\n",
    "    ! wget https://www.dropbox.com/s/3vigxoqayo389uc/populations.txt\n",
    "    ```\n",
    "\n",
    "  * Check the content by looking within the file\n",
    "  * Load the data (use an appropriate numpy method) into a 2D array\n",
    "  * Create arrays out of the columns, the arrays being (in order): *year*, *hares*, *lynxes*, *carrots* \n",
    "  * Plot the 3 populations over the years\n",
    "  * Compute the main statistical properties of the dataset (mean, std, correlations, etc.)\n",
    "  * Which species has the highest population each year?\n",
    "\n",
    "Do you feel there is some evident correlation here? [Studies](https://www.enr.gov.nt.ca/en/services/lynx/lynx-snowshoe-hare-cycle) tend to believe so."
   ]
  },
  {
   "cell_type": "code",
   "execution_count": null,
   "metadata": {},
   "outputs": [],
   "source": []
  }
 ],
 "metadata": {
  "kernelspec": {
   "display_name": "Python 3",
   "language": "python",
   "name": "python3"
  },
  "language_info": {
   "codemirror_mode": {
    "name": "ipython",
    "version": 3
   },
   "file_extension": ".py",
   "mimetype": "text/x-python",
   "name": "python",
   "nbconvert_exporter": "python",
   "pygments_lexer": "ipython3",
   "version": "3.7.0"
  }
 },
 "nbformat": 4,
 "nbformat_minor": 2
}
