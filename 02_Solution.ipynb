{
 "cells": [
  {
   "cell_type": "markdown",
   "metadata": {},
   "source": [
    "# 1\\. Write a function that converts number representation \n",
    "(bin<->dec<->hex)"
   ]
  },
  {
   "cell_type": "code",
   "execution_count": 1,
   "metadata": {},
   "outputs": [
    {
     "name": "stdout",
     "output_type": "stream",
     "text": [
      "Test input format integer:\n",
      "We test this with the number 42. I know that's not very original\n",
      "bin 0b101010\n",
      "dec 42\n",
      "hex 0x2a\n",
      "\n",
      "Test binary input with b =  0b10111\n",
      "bin 0b10111\n",
      "dec 23\n",
      "hex 0x17\n",
      "\n",
      "Test hex input with h =  0x1fa3\n",
      "bin 0b1111110100011\n",
      "dec 8099\n",
      "hex 0x1fa3\n"
     ]
    }
   ],
   "source": [
    "# Exercise 1\n",
    "def convert(n, base_in, base_out):\n",
    "    if (base_in == 'bin') : \n",
    "        if (base_out == 'bin') : return n\n",
    "        elif (base_out == 'dec') : return str(int(n,2))\n",
    "        elif (base_out == 'hex') : return hex(int(n,2))\n",
    "    elif (base_in == 'dec') : \n",
    "        if (base_out == 'bin') : return bin(n)\n",
    "        elif (base_out == 'dec') : return n\n",
    "        elif (base_out == 'hex') : return hex(n)\n",
    "    elif (base_in == 'hex') : \n",
    "        if (base_out == 'bin') : return bin(int(n,16))\n",
    "        elif (base_out == 'dec') : return str(int(n,16))\n",
    "        elif (base_out == 'hex') : return n\n",
    "            \n",
    "# Test the function: \n",
    "n = 42\n",
    "b = '0b10111'\n",
    "h = '0x1fa3'\n",
    "print (\"Test input format integer:\")\n",
    "print(\"We test this with the number 42. I know that's not very original\")\n",
    "bases = ['bin','dec','hex']\n",
    "for baseout in bases :\n",
    "    print (baseout, convert(n, 'dec', baseout))\n",
    "print ()\n",
    "print ('Test binary input with b = ', b)\n",
    "for baseout in bases : \n",
    "    print (baseout, convert(b, 'bin', baseout))\n",
    "print ()\n",
    "print ('Test hex input with h = ', h)\n",
    "for baseout in bases : \n",
    "    print (baseout, convert(h, 'hex', baseout))"
   ]
  },
  {
   "cell_type": "markdown",
   "metadata": {},
   "source": [
    "### 2\\. Write a function that converts a 32 bit word into a single precision floating point \n",
    "(i.e. interprets the various bits as sign, mantissa and exponent)"
   ]
  },
  {
   "cell_type": "code",
   "execution_count": 2,
   "metadata": {},
   "outputs": [
    {
     "name": "stdout",
     "output_type": "stream",
     "text": [
      "2442618573.0\n"
     ]
    }
   ],
   "source": [
    "# Exercise 2 - Convert 32 bit-Word into  single precision float\n",
    "def StringToFloat(s):\n",
    "    b = ''.join(format(ord(x), 'b') for x in s)\n",
    "    if (len(b) < 32):\n",
    "        print('Word must be at least 32 bits')\n",
    "        return 1\n",
    "    elif (len(b) > 32):\n",
    "        b = b[:32]\n",
    "    f = float(eval('0b'+str(b)))\n",
    "    return f\n",
    "\n",
    "# Testing this function\n",
    "s = 'Hello World'\n",
    "print (StringToFloat(s))"
   ]
  },
  {
   "cell_type": "markdown",
   "metadata": {},
   "source": [
    "### 3\\. Write a program to determine the underflow and overflow limits (within a factor of 2) for python on your computer. \n",
    "\n",
    "**Tips**: define two variables inizialized to 1 and halve/double them enough time to exceed the under/over-flow limits  "
   ]
  },
  {
   "cell_type": "code",
   "execution_count": 3,
   "metadata": {},
   "outputs": [
    {
     "name": "stdout",
     "output_type": "stream",
     "text": [
      "Overflow: 8.98846567431158e+307\n",
      "Underflow: 5e-324\n"
     ]
    }
   ],
   "source": [
    "# Exercise 3 - Find Overflow und Underflow\n",
    "\n",
    "def FindOverFlow():\n",
    "    x = 1.0\n",
    "    while (str(2*x) != 'inf'): \n",
    "        x*=2\n",
    "    print ('Overflow:',x)\n",
    "    \n",
    "def FindUnderFlow():\n",
    "    x = 1.0\n",
    "    while (x/2 != 0):\n",
    "        x/=2\n",
    "    print ('Underflow:',x)\n",
    "    \n",
    "FindOverFlow()\n",
    "FindUnderFlow()"
   ]
  },
  {
   "cell_type": "markdown",
   "metadata": {},
   "source": [
    "### 4\\. Write a program to determine the machine precision\n",
    "\n",
    "**Tips**: define a new variable by adding a smaller and smaller value (proceeding similarly to prob. 2) to an original variable and check the point where the two are the same "
   ]
  },
  {
   "cell_type": "code",
   "execution_count": 4,
   "metadata": {},
   "outputs": [
    {
     "name": "stdout",
     "output_type": "stream",
     "text": [
      "Machine Precision: 1e-16\n",
      "\n",
      "Testing the machine precision:\n",
      "1 + 1e-15 = 1.000000000000001\n",
      "1 + 1e-16 = 1.0\n"
     ]
    }
   ],
   "source": [
    "# Exercise 4 - Find Machine Precision\n",
    "\n",
    "def FindPrecision():\n",
    "    x = 1.0\n",
    "    n = 0\n",
    "    while (x + 10**n != x):\n",
    "        n-=1\n",
    "    print ('Machine Precision:',10**n)\n",
    "    \n",
    "FindPrecision()\n",
    "\n",
    "# Check whether this is true: \n",
    "print ('\\nTesting the machine precision:')\n",
    "print ('1 + 1e-15 =',1 + 1e-15)\n",
    "print ('1 + 1e-16 =',1 + 1e-16)"
   ]
  },
  {
   "cell_type": "markdown",
   "metadata": {},
   "source": [
    "### 5\\. Quadratic Equation\n",
    "Write a function that takes in input three parameters $a$, $b$ and $c$ and prints out the two solutions to the quadratic equation $ax^2+bx+c=0$ using the standard formula:\n",
    "$$\n",
    "x=\\frac{-b\\pm\\sqrt{b^2-4ac}}{2a}\n",
    "$$\n",
    "\n",
    "(a) use the program to compute the solution for $a=0.001$, $b=1000$ and $c=0.001$\n",
    "\n",
    "(b) re-express the standard solution formula by multiplying top and bottom by $-b\\mp\\sqrt{b^2-4ac}$ and again find the solution for $a=0.001$, $b=1000$ and $c=0.001$. How does it compare with what previously obtained? Why?\n",
    "\n",
    "(c) write a function that compute the roots of a quadratic equation accurately in all cases"
   ]
  },
  {
   "cell_type": "code",
   "execution_count": 5,
   "metadata": {},
   "outputs": [
    {
     "name": "stdout",
     "output_type": "stream",
     "text": [
      "(-9.999894245993346e-07, -999999.999999)\n",
      "(-9.999894245993346e-07, -999999.9999990001)\n",
      "(-1.000000000001e-06, -1000010.5755125057)\n",
      "(-1.000000000001e-06, -999999.999999)\n"
     ]
    }
   ],
   "source": [
    "# Exercise 5 - Quardatic Function\n",
    "from math import sqrt\n",
    "\n",
    "def SolveQuadraticEquation1(a,b,c):\n",
    "    d = b**2 - 4*a*c\n",
    "    return (-b + sqrt(d))/(2*a), (-b - sqrt(d))/(2*a)\n",
    "\n",
    "def SolveQuadraticEquation2(a,b,c):\n",
    "    det = sqrt(b**2 - 4*a*c)\n",
    "    mult1 = -b - det\n",
    "    mult2 = -b + det\n",
    "    top1 = (-b + det) * mult1\n",
    "    bot1 = 2*a*mult1\n",
    "    top2 = (-b - det) * mult2\n",
    "    bot2 = 2*a*mult2\n",
    "    x1 = top1/bot1\n",
    "    x2 = top2/bot2\n",
    "    return x1, x2\n",
    "\n",
    "def SolveQuadraticEquation3(a,b,c):\n",
    "    d = b**2 - 4*a*c\n",
    "    return (2*c)/(-b - sqrt(d)), (2*c)/(-b + sqrt(d))\n",
    "\n",
    "\n",
    "def CorrectlySolveQuadraticEquation(a,b,c):\n",
    "    '''\n",
    "    We now want to avoid catastrophic cancellation\n",
    "    i.e avoid the term -b + sqrt(d) \n",
    "    To do this, we use a combination of Version1 and Version3\n",
    "    '''\n",
    "    d = b**2 - 4*a*c\n",
    "    return (2*c)/(-b - sqrt(d)),(-b - sqrt(d))/(2*a)\n",
    "    \n",
    "print (SolveQuadraticEquation1(0.001,1000.0,0.001))\n",
    "print (SolveQuadraticEquation2(0.001,1000.0,0.001))\n",
    "print (SolveQuadraticEquation3(0.001,1000.0,0.001))\n",
    "print (CorrectlySolveQuadraticEquation(0.001,1000.0,0.001))"
   ]
  },
  {
   "cell_type": "markdown",
   "metadata": {},
   "source": [
    "# The 3rd version here uses the different solution \n",
    "$$ x_{1,2} = \\frac{2c}{-b \\mp \\sqrt{b^2 - 4ac}}$$\n",
    "We are lucky that one of the solutions of the normal solution and one of this alternative solution is numerically stable"
   ]
  },
  {
   "cell_type": "markdown",
   "metadata": {},
   "source": [
    "### 6\\. Write a program that implements the function $f(x)=x(x−1)$\n",
    "\n",
    "(a) Calculate the derivative of the function at the point $x = 1$ using the derivative definition:\n",
    "\n",
    "$$\n",
    "\\frac{{\\rm d}f}{{\\rm d}x} = \\lim_{\\delta\\to0} \\frac{f(x+\\delta)-f(x)}{\\delta}\n",
    "$$\n",
    "\n",
    "with $\\delta = 10^{−2}$. Calculate the true value of the same derivative analytically and compare with the answer your program gives. The two will not agree perfectly. Why not?\n",
    "\n",
    "(b) Repeat the calculation for $\\delta = 10^{−4}, 10^{−6}, 10^{−8}, 10^{−10}, 10^{−12}$ and $10^{−14}$. How does the accuracy scales with $\\delta$?"
   ]
  },
  {
   "cell_type": "code",
   "execution_count": 6,
   "metadata": {},
   "outputs": [
    {
     "name": "stdout",
     "output_type": "stream",
     "text": [
      "f'(x=1) calculated analytically: 3\n",
      "f'(x=1) approximated numerically: 3.0100000000000016\n",
      "\n",
      "delta: 0.01 accuracy: 0.010000000000001563\n",
      "accuracy/delta: 1.0000000000001563\n",
      "\n",
      "delta: 0.0001 accuracy: 9.999999684140448e-05\n",
      "accuracy/delta: 0.9999999684140448\n",
      "\n",
      "delta: 1e-06 accuracy: 1.0000641452734271e-06\n",
      "accuracy/delta: 1.0000641452734271\n",
      "\n",
      "delta: 1e-08 accuracy: 1.823241291276645e-08\n",
      "accuracy/delta: 1.823241291276645\n",
      "\n",
      "delta: 1e-10 accuracy: 2.482211129972711e-07\n",
      "accuracy/delta: 2482.211129972711\n",
      "\n",
      "delta: 1e-12 accuracy: 0.00026670174702303484\n",
      "accuracy/delta: 266701747.02303484\n",
      "\n",
      "delta: 1e-14 accuracy: 0.02460229400458047\n",
      "accuracy/delta: 2460229400458.0474\n",
      "\n"
     ]
    }
   ],
   "source": [
    "# Exercise 6 - Derivative of a function\n",
    "\n",
    "def f(x):\n",
    "    f = x*(x+1)\n",
    "    return f\n",
    "\n",
    "def truefprime(x):\n",
    "    fprime = 2*x + 1\n",
    "    return fprime\n",
    "\n",
    "def approxfprime(x, delta=1e-2):\n",
    "    fprime = (f(x+delta) - f(x))/delta\n",
    "    return fprime\n",
    "\n",
    "print (\"f'(x=1) calculated analytically:\",truefprime(1))\n",
    "print (\"f'(x=1) approximated numerically:\", approxfprime(1))\n",
    "print ()\n",
    "    \n",
    "deltas = [1e-2,1e-4,1e-6,1e-8,1e-10,1e-12,1e-14]\n",
    "\n",
    "for delta in deltas:\n",
    "    accuracy = abs(truefprime(1) - approxfprime(1,delta))\n",
    "    print (\"delta:\", delta, \"accuracy:\", accuracy)\n",
    "    print (\"accuracy/delta:\", accuracy/delta)\n",
    "    print ()"
   ]
  },
  {
   "cell_type": "markdown",
   "metadata": {},
   "source": [
    "The accuracy scales linear with $\\delta$ until roughly $\\delta \\approx 10^{-8}$ then accuracy starts to deterioate the reason for this probably is the machine precision. "
   ]
  },
  {
   "cell_type": "markdown",
   "metadata": {},
   "source": [
    "### 7\\. Numerical Integral\n",
    "Consider the integral of the semicircle of radius 1:\n",
    "$$\n",
    "I=\\int_{-1}^{1} \\sqrt(1-x^2) {\\rm d}x\n",
    "$$\n",
    "which it's known to be $I=\\frac{\\pi}{2}=1.57079632679...$.\n",
    "Alternatively we can use the Riemann definition of the integral:\n",
    "$$\n",
    "I=\\lim_{N\\to\\infty} \\sum_{k=1}^{N} h y_k \n",
    "$$\n",
    "\n",
    "with $h=2/N$ the width of each of the $N$ slices the domain is divided into and where\n",
    "$y_k$ is the value of the function at the $k-$th slice.\n",
    "\n",
    "(a) Write a programe to compute the integral with $N=100$. How does the result compares to the true value?\n",
    "\n",
    "(b) How much can $N$ be increased if the computation needs to be run in less than a second? What is the gain in running it for 1 minute? \n"
   ]
  },
  {
   "cell_type": "code",
   "execution_count": 7,
   "metadata": {},
   "outputs": [
    {
     "name": "stdout",
     "output_type": "stream",
     "text": [
      "19.8 µs ± 112 ns per loop (mean ± std. dev. of 7 runs, 100000 loops each)\n",
      "N 100.0 Accuracy 0.001662071245646768 N*accuracy 0.1662071245646768 \n",
      "\n",
      "204 µs ± 5.07 µs per loop (mean ± std. dev. of 7 runs, 1000 loops each)\n",
      "N 1000.0 Accuracy 5.2588293825595045e-05 N*accuracy 0.052588293825595045 \n",
      "\n",
      "2.06 ms ± 59.5 µs per loop (mean ± std. dev. of 7 runs, 100 loops each)\n",
      "N 10000.0 Accuracy 1.6630796102479195e-06 N*accuracy 0.016630796102479195 \n",
      "\n",
      "20.7 ms ± 654 µs per loop (mean ± std. dev. of 7 runs, 10 loops each)\n",
      "N 100000.0 Accuracy 5.259148228020649e-08 N*accuracy 0.005259148228020649 \n",
      "\n",
      "209 ms ± 8.9 ms per loop (mean ± std. dev. of 7 runs, 1 loop each)\n",
      "N 1000000.0 Accuracy 1.662961768289506e-09 N*accuracy 0.001662961768289506 \n",
      "\n"
     ]
    }
   ],
   "source": [
    "import math\n",
    "import matplotlib.pyplot as plt\n",
    "\n",
    "def y(x):\n",
    "    y = sqrt(1-x**2)\n",
    "    return y\n",
    "\n",
    "def Riemann(y,xlow,xhigh,N):\n",
    "    I = 0\n",
    "    step = (xhigh - xlow)/N\n",
    "    for i in range(int(N)):\n",
    "        I += y(xlow+i*step)\n",
    "    return 2/N * I\n",
    "\n",
    "Ns = [1e2,1e3,1e4,1e5,1e6]\n",
    "accuracies = []\n",
    "Iexact = math.pi/2\n",
    "\n",
    "for N in Ns:\n",
    "    %timeit Riemann(y,-1.0,1.0,N)\n",
    "    I = Riemann(y,-1.0,1.0,N)\n",
    "    accuracy = abs(I - Iexact)\n",
    "    accuracies.append(accuracy)\n",
    "    print ('N', N, 'Accuracy', accuracy, 'N*accuracy', accuracy*N,'\\n')\n"
   ]
  },
  {
   "cell_type": "code",
   "execution_count": 8,
   "metadata": {},
   "outputs": [
    {
     "data": {
      "text/plain": [
       "[<matplotlib.lines.Line2D at 0x7f5fed6506a0>]"
      ]
     },
     "execution_count": 8,
     "metadata": {},
     "output_type": "execute_result"
    },
    {
     "data": {
      "image/png": "[encoded data removed]",
      "text/plain": [
       "<Figure size 432x288 with 1 Axes>"
      ]
     },
     "metadata": {
      "needs_background": "light"
     },
     "output_type": "display_data"
    }
   ],
   "source": [
    "%matplotlib inline\n",
    "\n",
    "fig, ax = plt.subplots()\n",
    "ax.set_xscale('log')\n",
    "ax.set_yscale('log')\n",
    "ax.set_xlabel('N')\n",
    "ax.set_ylabel('accuracy')\n",
    "plt.plot(Ns, accuracies, 'o')"
   ]
  },
  {
   "cell_type": "markdown",
   "metadata": {},
   "source": [
    " - We can see, that the accurcay scales a bit better than linear with N. Increasing N by four orders of magnitudes yields six orders of magnitude improvements in the accuracy.\n",
    " $$ Accuracy \\approx N^{\\frac{3}{2}} $$\n",
    " \n",
    "- Computing time scales linear with N. this means, that $N=10^6$ is the last step that takes less than a second with $t \\approx 200 ms$ and an accuracy of $1.7 \\cdot 10^{-9}$\n",
    "\n",
    "- The last step that will be done within less than one minute will be for $N=10^8$ which will have an accuracy of about $1.7 \\cdot 10^{-12}$"
   ]
  }
 ],
 "metadata": {
  "kernelspec": {
   "display_name": "Python 3",
   "language": "python",
   "name": "python3"
  },
  "language_info": {
   "codemirror_mode": {
    "name": "ipython",
    "version": 3
   },
   "file_extension": ".py",
   "mimetype": "text/x-python",
   "name": "python",
   "nbconvert_exporter": "python",
   "pygments_lexer": "ipython3",
   "version": "3.7.0"
  }
 },
 "nbformat": 4,
 "nbformat_minor": 2
}
