{
 "cells": [
  {
   "cell_type": "markdown",
   "metadata": {},
   "source": [
    "1\\. Write a function that converts number representation (bin<->dec<->hex)"
   ]
  },
  {
   "cell_type": "code",
   "execution_count": 30,
   "metadata": {},
   "outputs": [
    {
     "name": "stdout",
     "output_type": "stream",
     "text": [
      "AD\n",
      "163\n",
      "10100011\n",
      "8388607\n"
     ]
    }
   ],
   "source": [
    "\n",
    "def rappr_to_10(x,base):\n",
    "    num=0\n",
    "    power=len(x)-1\n",
    "    for c in x:\n",
    "        if c==\"A\":\n",
    "            c=10\n",
    "        elif c==\"B\":\n",
    "            c=11\n",
    "        elif c==\"C\":\n",
    "            c=12\n",
    "        elif c==\"D\":\n",
    "            c=13\n",
    "        elif c==\"E\":\n",
    "            c=14\n",
    "        elif c==\"F\":\n",
    "            c=15\n",
    "\n",
    "        if int(c)>=base:\n",
    "            return \"il numero non e' valido\"\n",
    "        num+=base**power*int(c)\n",
    "        power -= 1\n",
    "    return str(num)\n",
    "    \n",
    "def convert_from_10(x,base):\n",
    "    num=int(x)\n",
    "    l=\"\"\n",
    "    while num>=base:\n",
    "        resto=num%base\n",
    "        num=int((num-resto)/base)\n",
    "        \n",
    "        l=str(lettere(resto))+l #la stringa aggiunge il numero davanti non in fondo\n",
    "    resto=num%base\n",
    "        \n",
    "    l=str(lettere(resto))+l\n",
    "    num=(num-resto)/base\n",
    "    return l\n",
    "        \n",
    "    \n",
    "def lettere(x):\n",
    "    if x<10:\n",
    "        y=x\n",
    "    elif x==10:\n",
    "        y=\"A\"\n",
    "    elif x==11:\n",
    "        y=\"B\"\n",
    "    elif x==12:\n",
    "        y=\"C\"\n",
    "    elif x==13:\n",
    "        y=\"D\"\n",
    "    elif x==14:\n",
    "        y=\"E\"\n",
    "    elif x==15:\n",
    "        y=\"F\"\n",
    "    return y\n",
    "\n",
    "print(convert_from_10(\"163\",15))\n",
    "print(rappr_to_10(\"AD\",15))\n",
    "print(convert_from_10(rappr_to_10(\"AD\",15),2))\n",
    "print(rappr_to_10(\"11111111111111111111111\",2))"
   ]
  },
  {
   "cell_type": "markdown",
   "metadata": {},
   "source": [
    "2\\. Write a function that converts a 32 bit word into a single precision floating point (i.e. interprets the various bits as sign, mantissa and exponent)"
   ]
  },
  {
   "cell_type": "code",
   "execution_count": 57,
   "metadata": {},
   "outputs": [
    {
     "name": "stdout",
     "output_type": "stream",
     "text": [
      "-22352.666015625\n"
     ]
    }
   ],
   "source": [
    "num=3333333333\n",
    "mask_sgn=2147483648\n",
    "mask_exp=2139095040\n",
    "mask_mant=8388607\n",
    "\n",
    "sgn=num & mask_sgn\n",
    "exp= num & mask_exp\n",
    "mant= num & mask_mant\n",
    "\n",
    "\n",
    "sgn=sgn>>31   #sposto i bit di 31 posizioni a destra\n",
    "#print(sgn)\n",
    "exp>>=23 #sposto i bit di 23 posizioni a destra\n",
    "#print(exp)\n",
    "\n",
    "#non c'è bisogno di shiftare mant\n",
    "\n",
    "exp-=127 #devo togliere il bias all'esponente\n",
    "\n",
    "mantnew=(mant+2**23)/(2**23) #devo ricordarmi che la matissa è definita con un 1,... davanti che corrisponde a un 2^23\n",
    "\n",
    "n=(-1)**sgn*(((mantnew)*2**(exp)))\n",
    "\n",
    "    \n",
    "print(n)"
   ]
  },
  {
   "cell_type": "markdown",
   "metadata": {},
   "source": [
    "3\\. Write a program to determine the underflow and overflow limits (within a factor of 2) for python on your computer. \n",
    "\n",
    "**Tips**: define two variables inizialized to 1 and halve/double them enough time to exceed the under/over-flow limits  "
   ]
  },
  {
   "cell_type": "code",
   "execution_count": 11,
   "metadata": {},
   "outputs": [
    {
     "name": "stdout",
     "output_type": "stream",
     "text": [
      "underflow limit is  5e-324\n",
      "overflow limit is  8.98846567431158e+307\n"
     ]
    }
   ],
   "source": [
    "uf=1\n",
    "of=1\n",
    "\n",
    "def underflow(x):\n",
    "    i=0\n",
    "    while x!=0:\n",
    "        x/=2\n",
    "        i+=1\n",
    "    return i\n",
    "\n",
    "\n",
    "print(\"underflow limit is \", uf/(2**(underflow(uf)-1)))\n",
    "\n",
    "\n",
    "def overflow(x):\n",
    "    i=0\n",
    "    y=float(x)\n",
    "    while y<y*2:\n",
    "        y*=2\n",
    "        i+=1\n",
    "    return i\n",
    "\n",
    "f=float(2**(overflow(of)-1))\n",
    "    \n",
    "\n",
    "print(\"overflow limit is \", f)\n"
   ]
  },
  {
   "cell_type": "markdown",
   "metadata": {},
   "source": [
    "4\\. Write a program to determine the machine precision\n",
    "\n",
    "**Tips**: define a new variable by adding a smaller and smaller value (proceeding similarly to prob. 2) to an original variable and check the point where the two are the same "
   ]
  },
  {
   "cell_type": "code",
   "execution_count": 19,
   "metadata": {},
   "outputs": [
    {
     "name": "stdout",
     "output_type": "stream",
     "text": [
      "2.220446049250313e-16\n"
     ]
    }
   ],
   "source": [
    "n=1\n",
    "eps=1\n",
    "\n",
    "while n!=n+eps:\n",
    "    eps/=2\n",
    "    \n",
    "print(eps*2) #devo mopltiplicare per 2 perché serve il penultimo epsilon perché l'ultimo è quello che diventa irrisorio"
   ]
  },
  {
   "cell_type": "markdown",
   "metadata": {},
   "source": [
    "5\\. Write a function that takes in input three parameters $a$, $b$ and $c$ and prints out the two solutions to the quadratic equation $ax^2+bx+c=0$ using the standard formula:\n",
    "$$\n",
    "x=\\frac{-b\\pm\\sqrt{b^2-4ac}}{2a}\n",
    "$$\n",
    "\n",
    "(a) use the program to compute the solution for $a=0.001$, $b=1000$ and $c=0.001$\n",
    "\n",
    "(b) re-express the standard solution formula by multiplying top and bottom by $-b\\mp\\sqrt{b^2-4ac}$ and again find the solution for $a=0.001$, $b=1000$ and $c=0.001$. How does it compare with what previously obtained? Why?\n",
    "\n",
    "(c) write a function that compute the roots of a quadratic equation accurately in all cases"
   ]
  },
  {
   "cell_type": "code",
   "execution_count": 30,
   "metadata": {},
   "outputs": [
    {
     "name": "stdout",
     "output_type": "stream",
     "text": [
      "x1= -9.999894245993346e-07\n",
      "x2= -999999.999999\n",
      "x1= -1.0000000000009999e-06\n",
      "x2= -1000010.5755125057\n",
      "x1= -1.0000000000009999e-06\n",
      "x2= -999999.999999\n"
     ]
    }
   ],
   "source": [
    "\n",
    "def sol(a,b,c):\n",
    "    x1=(-b+(b**2-4*a*c)**(0.5))/(2*a)\n",
    "\n",
    "    x2=(-b-(b**2-4*a*c)**(0.5))/(2*a)\n",
    "\n",
    "    print(\"x1=\",x1)\n",
    "    print(\"x2=\",x2)\n",
    "    \n",
    "sol(0.001,1000,0.001)\n",
    "\n",
    "def sol1(a,b,c):\n",
    "    x1=(4*a*c)/(2*a*(-b-(b**2-4*a*c)**(0.5)))\n",
    "\n",
    "    x2=(4*a*c)/(2*a*(-b+(b**2-4*a*c)**(0.5)))\n",
    "\n",
    "    print(\"x1=\",x1)\n",
    "    print(\"x2=\",x2)\n",
    "    \n",
    "sol1(0.001,1000,0.001)\n",
    "\n",
    "def solperfect(a,b,c):\n",
    "    if b>0:\n",
    "        x2=(-b-(b**2-4*a*c)**(0.5))/(2*a)\n",
    "        x1=(4*a*c)/(2*a*(-b-(b**2-4*a*c)**(0.5)))\n",
    "    else:\n",
    "        x2=(-b-(b**2-4*a*c)**(0.5))/(2*a)\n",
    "        x1=(-b+(b**2-4*a*c)**(0.5))/(2*a)\n",
    "\n",
    "    print(\"x1=\",x1)\n",
    "    print(\"x2=\",x2)\n",
    "    \n",
    "solperfect(0.001,1000,0.001)"
   ]
  },
  {
   "cell_type": "markdown",
   "metadata": {},
   "source": [
    "6\\. Write a program that implements the function $f(x)=x(x−1)$\n",
    "\n",
    "(a) Calculate the derivative of the function at the point $x = 1$ using the derivative definition:\n",
    "\n",
    "$$\n",
    "\\frac{{\\rm d}f}{{\\rm d}x} = \\lim_{\\delta\\to0} \\frac{f(x+\\delta)-f(x)}{\\delta}\n",
    "$$\n",
    "\n",
    "with $\\delta = 10^{−2}$. Calculate the true value of the same derivative analytically and compare with the answer your program gives. The two will not agree perfectly. Why not?\n",
    "\n",
    "(b) Repeat the calculation for $\\delta = 10^{−4}, 10^{−6}, 10^{−8}, 10^{−10}, 10^{−12}$ and $10^{−14}$. How does the accuracy scales with $\\delta$?"
   ]
  },
  {
   "cell_type": "code",
   "execution_count": 41,
   "metadata": {},
   "outputs": [
    {
     "name": "stdout",
     "output_type": "stream",
     "text": [
      "delta= 0.01 risultato= 1.010000000000001 accuratezza= 0.010000000000000897\n",
      "delta= 0.0001 risultato= 1.0000999999998899 accuratezza= 9.999999988985486e-05\n",
      "delta= 1e-06 risultato= 1.0000009999177333 accuratezza= 9.99917733279787e-07\n",
      "delta= 1e-08 risultato= 1.0000000039225287 accuratezza= 3.922528746258536e-09\n",
      "delta= 1e-10 risultato= 1.000000082840371 accuratezza= 8.284037100736441e-08\n",
      "delta= 1e-12 risultato= 1.0000889005833413 accuratezza= 8.890058334132256e-05\n",
      "delta= 1e-14 risultato= 0.9992007221626509 accuratezza= -0.0007992778373491216\n"
     ]
    }
   ],
   "source": [
    "#nel primo caso delta è troppo grande\n",
    "def f(x):\n",
    "    return x*(x-1)\n",
    "for i in range(2,15,2):\n",
    "    delta=10**(-i)\n",
    "    derive=(f(1+delta)-f(1))/delta\n",
    "    print(\"delta=\",10**(-i),\"risultato=\",derive, \"accuratezza=\",derive-1)\n"
   ]
  },
  {
   "cell_type": "markdown",
   "metadata": {},
   "source": [
    "7\\. Consider the integral of the semicircle of radius 1:\n",
    "$$\n",
    "I=\\int_{-1}^{1} \\sqrt{(1-x^2)} {\\rm d}x\n",
    "$$\n",
    "which it's known to be $I=\\frac{\\pi}{2}=1.57079632679...$.\n",
    "Alternatively we can use the Riemann definition of the integral:\n",
    "$$\n",
    "I=\\lim_{N\\to\\infty} \\sum_{k=1}^{N} h y_k \n",
    "$$\n",
    "\n",
    "with $h=2/N$ the width of each of the $N$ slices the domain is divided into and where\n",
    "$y_k$ is the value of the function at the $k-$th slice.\n",
    "\n",
    "(a) Write a programe to compute the integral with $N=100$. How does the result compares to the true value?\n",
    "\n",
    "(b) How much can $N$ be increased if the computation needs to be run in less than a second? What is the gain in running it for 1 minute? \n"
   ]
  },
  {
   "cell_type": "code",
   "execution_count": 62,
   "metadata": {},
   "outputs": [
    {
     "name": "stdout",
     "output_type": "stream",
     "text": [
      "1.5691342555492505\n",
      "2.54 s ± 7.63 ms per loop (mean ± std. dev. of 7 runs, 1 loop each)\n"
     ]
    }
   ],
   "source": [
    "def f(x):\n",
    "    return (1-x**2)**(0.5)\n",
    "\n",
    "\n",
    "\n",
    "\n",
    "def integral(N):\n",
    "    I=0\n",
    "    h=2/N\n",
    "    for i in range(N):\n",
    "        I=I+h*f(i*h-1)\n",
    "    return I\n",
    "        \n",
    "    \n",
    "print(I)\n",
    "\n",
    "%timeit integral(1000000)"
   ]
  },
  {
   "cell_type": "code",
   "execution_count": null,
   "metadata": {},
   "outputs": [],
   "source": []
  }
 ],
 "metadata": {
  "kernelspec": {
   "display_name": "Python 3",
   "language": "python",
   "name": "python3"
  },
  "language_info": {
   "codemirror_mode": {
    "name": "ipython",
    "version": 3
   },
   "file_extension": ".py",
   "mimetype": "text/x-python",
   "name": "python",
   "nbconvert_exporter": "python",
   "pygments_lexer": "ipython3",
   "version": "3.6.5"
  }
 },
 "nbformat": 4,
 "nbformat_minor": 2
}
