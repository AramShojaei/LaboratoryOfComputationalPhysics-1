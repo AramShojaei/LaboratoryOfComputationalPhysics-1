{
 "cells": [
  {
   "cell_type": "markdown",
   "metadata": {},
   "source": [
    "1\\. Write a function that converts number representation (bin<->dec<->hex)"
   ]
  },
  {
   "cell_type": "code",
   "execution_count": 4,
   "metadata": {},
   "outputs": [
    {
     "name": "stdout",
     "output_type": "stream",
     "text": [
      "15\n",
      "1111\n",
      "F\n",
      "15\n",
      "1111\n",
      "F\n",
      "15\n",
      "1111\n",
      "F\n"
     ]
    }
   ],
   "source": [
    "# number is entered as a string!\n",
    "\n",
    "# this version uses builtin functions\n",
    "def cnv(from_base, to_base, number):\n",
    "    \"\"\" Handles base conversions \"\"\"\n",
    "    if from_base == 'd':\n",
    "        number = int(number)\n",
    "    elif from_base == 'b':\n",
    "        number = int(number,2)\n",
    "    elif from_base == 'h':\n",
    "        number = int(number,16)\n",
    "        \n",
    "    if to_base == 'b':\n",
    "        number = bin(number)\n",
    "    elif to_base == 'h':\n",
    "        number = hex(number)\n",
    "    return str(number)\n",
    "\n",
    "def cnv(from_base, to_base, number):\n",
    "    \"\"\" Handles base conversions \"\"\"\n",
    "    if from_base == 'd':\n",
    "        if to_base == 'b':\n",
    "            return db(number)\n",
    "        elif to_base == 'h':\n",
    "            return dh(number)\n",
    "\n",
    "    elif from_base == 'b':\n",
    "        if to_base == 'd':\n",
    "            return bd(number)\n",
    "        elif to_base == 'h':\n",
    "            return dh(bd(number))\n",
    "\n",
    "    elif from_base == 'h':\n",
    "        if to_base == 'b':\n",
    "            return db(hd(number))\n",
    "        elif to_base == 'd':\n",
    "            return hd(number)\n",
    "    return str(number)\n",
    "\n",
    "\n",
    "def db(number):\n",
    "    \"\"\" DEC to BIN string conversion \"\"\"\n",
    "    integ = int(number)\n",
    "    out = ''\n",
    "    while integ != 0:\n",
    "        rem = integ % 2 # remainder\n",
    "        out = str(rem) + out\n",
    "        integ //= 2 # integer division\n",
    "    return out\n",
    "\n",
    "def dh(number):\n",
    "    \"\"\" DEC to HEX string conversion \"\"\"\n",
    "    integ = int(number)\n",
    "    out = ''\n",
    "    while integ != 0:\n",
    "        rem = integ % 16 # remainder\n",
    "        if rem == 10:\n",
    "            out = 'A' + out\n",
    "        elif rem == 11:\n",
    "            out = 'B' + out\n",
    "        elif rem == 12:\n",
    "            out = 'C' + out\n",
    "        elif rem == 13:\n",
    "            out = 'D' + out\n",
    "        elif rem == 14:\n",
    "            out = 'E' + out\n",
    "        elif rem == 15:\n",
    "            out = 'F' + out\n",
    "        else:\n",
    "            out = str(rem) + out # 0-9 fallback\n",
    "        integ //= 16 # integer division\n",
    "    return out\n",
    "\n",
    "def bd(number):\n",
    "    \"\"\" BIN to DEC string conversion \"\"\"\n",
    "    out = 0\n",
    "    expo = len(number)-1 # MSB exponent\n",
    "    for c in number:\n",
    "        out += int(c) * 2**expo\n",
    "        expo -= 1\n",
    "    return out\n",
    "\n",
    "def hd(number):\n",
    "    \"\"\" HEX to DEC string conversion \"\"\"\n",
    "    out = 0\n",
    "    expo = len(number)-1 # MSB exponent\n",
    "    for c in number:\n",
    "        try:\n",
    "            char = int(c)\n",
    "        except ValueError:\n",
    "            # conversion of a letter: substitute instead\n",
    "            if c == 'A':\n",
    "                char = 10\n",
    "            elif c == 'B':\n",
    "                char = 11\n",
    "            elif c == 'C':\n",
    "                char = 12\n",
    "            elif c == 'D':\n",
    "                char = 13\n",
    "            elif c == 'E':\n",
    "                char = 14\n",
    "            elif c == 'F':\n",
    "                char = 15\n",
    "        out += char * 16**expo\n",
    "        expo -= 1\n",
    "    return out\n",
    "\n",
    "print(cnv('d','d','15'))\n",
    "print(cnv('d','b','15'))\n",
    "print(cnv('d','h','15'))\n",
    "\n",
    "print(cnv('b','d','1111'))\n",
    "print(cnv('b','b','1111'))\n",
    "print(cnv('b','h','1111'))\n",
    "\n",
    "print(cnv('h','d','F'))\n",
    "print(cnv('h','b','F'))\n",
    "print(cnv('h','h','F'))"
   ]
  },
  {
   "cell_type": "markdown",
   "metadata": {},
   "source": [
    "2\\. Write a function that converts a 32 bit word into a single precision floating point (i.e. interprets the various bits as sign, mantissa and exponent)"
   ]
  },
  {
   "cell_type": "code",
   "execution_count": 5,
   "metadata": {},
   "outputs": [
    {
     "name": "stdout",
     "output_type": "stream",
     "text": [
      "Word: 11000011011010010111101101101111\n",
      "S: -1   E: 7   M: 1.8240793943405151\n"
     ]
    }
   ],
   "source": [
    "def single_precision(word):\n",
    "    if len(word) > 32:\n",
    "        word = word[:32] # crop\n",
    "    elif len(word) < 32:\n",
    "        word = word.zfill(32) # zero-padding\n",
    "    \n",
    "    sgn = str( (-1)**int(word[0]) )\n",
    "    exp = str( bd(word[1:9])-127 )\n",
    "    \n",
    "    man = 1\n",
    "    expo = 1\n",
    "    for c in binword[9:]:\n",
    "        man += int(c) * 2**(-expo)\n",
    "        expo += 1\n",
    "    man = str(man)\n",
    "    return sgn,exp,man\n",
    "\n",
    "binword = '11000011011010010111101101101111'\n",
    "s,e,m = single_precision(binword)\n",
    "print(\"Word: {}\".format(binword))\n",
    "print(\"S: {}   E: {}   M: {}\".format(s,e,m))\n",
    "# note that mantissa here includes 1. prefix while it should not"
   ]
  },
  {
   "cell_type": "markdown",
   "metadata": {},
   "source": [
    "3\\. Write a program to determine the underflow and overflow limits (within a factor of 2) for python on your computer. \n",
    "\n",
    "**Tips**: define two variables inizialized to 1 and halve/double them enough time to exceed the under/over-flow limits  "
   ]
  },
  {
   "cell_type": "code",
   "execution_count": 6,
   "metadata": {},
   "outputs": [
    {
     "name": "stdout",
     "output_type": "stream",
     "text": [
      "inf\n",
      "Overflow value: 8.98846567431158e+307\n",
      "0.0\n",
      "Underflow value: 5e-324\n"
     ]
    }
   ],
   "source": [
    "over = 1.0\n",
    "under = 1.0\n",
    "\n",
    "while True:\n",
    "    temp = over * 2\n",
    "    if abs(temp) != float('inf'):\n",
    "        over = temp\n",
    "    else:\n",
    "        print(temp) # should be inf\n",
    "        print(\"Overflow value: {}\".format(over))\n",
    "        break\n",
    "\n",
    "while True:\n",
    "    temp = under / 2\n",
    "    if temp != 0:\n",
    "        under = temp\n",
    "    else:\n",
    "        print(temp) # should be 0.0\n",
    "        print(\"Underflow value: {}\".format(under))\n",
    "        break"
   ]
  },
  {
   "cell_type": "markdown",
   "metadata": {},
   "source": [
    "4\\. Write a program to determine the machine precision\n",
    "\n",
    "**Tips**: define a new variable by adding a smaller and smaller value (proceeding similarly to prob. 2) to an original variable and check the point where the two are the same "
   ]
  },
  {
   "cell_type": "code",
   "execution_count": 7,
   "metadata": {},
   "outputs": [
    {
     "name": "stdout",
     "output_type": "stream",
     "text": [
      "2.220446049250313e-16\n"
     ]
    },
    {
     "data": {
      "text/plain": [
       "2.220446049250313e-16"
      ]
     },
     "execution_count": 7,
     "metadata": {},
     "output_type": "execute_result"
    }
   ],
   "source": [
    "a = 1.\n",
    "b = 1.\n",
    "qt = .5\n",
    "\n",
    "while a+qt != b:\n",
    "    qt /= 2\n",
    "print(qt*2) # one step back\n",
    "\n",
    "# compare to true result:\n",
    "import numpy as np\n",
    "np.finfo(float).eps"
   ]
  },
  {
   "cell_type": "markdown",
   "metadata": {},
   "source": [
    "5\\. Write a function that takes in input three parameters $a$, $b$ and $c$ and prints out the two solutions to the quadratic equation $ax^2+bx+c=0$ using the standard formula:\n",
    "$$\n",
    "x=\\frac{-b\\pm\\sqrt{b^2-4ac}}{2a}\n",
    "$$\n",
    "\n",
    "(a) use the program to compute the solution for $a=0.001$, $b=1000$ and $c=0.001$\n",
    "\n",
    "(b) re-express the standard solution formula by multiplying top and bottom by $-b\\mp\\sqrt{b^2-4ac}$ and again find the solution for $a=0.001$, $b=1000$ and $c=0.001$. How does it compare with what previously obtained? Why?\n",
    "\n",
    "**FR:** Analytical computation shows the real roots are $-1e\\pm 6$. The problem is we are multiplying very small $a$,$c$ with a relatively big $b$ and this causes floating point arithmetic errors: standard formula gives us a good root and one that is not exact, reversing the formula gives us inverted results, so the best strategy seems to use both methods and respectively save only the exact roots. However, these roots are always (acceptable) approximations of real values.\n",
    "\n",
    "(c) write a function that compute the roots of a quadratic equation accurately in all cases"
   ]
  },
  {
   "cell_type": "code",
   "execution_count": 8,
   "metadata": {},
   "outputs": [
    {
     "name": "stdout",
     "output_type": "stream",
     "text": [
      "(-9.999894245993346e-07, -999999.999999)\n",
      "(-1.000000000001e-06, -1000010.5755125057)\n",
      "(-999999.999999, -1.000000000001e-06)\n"
     ]
    }
   ],
   "source": [
    "from math import sqrt\n",
    "\n",
    "# this returns one bad and one good root\n",
    "def quad1(a,b,c):\n",
    "    d = sqrt(b**2 - 4*a*c)\n",
    "    return ( (-b+d)/(2*a), (-b-d)/(2*a) )\n",
    "\n",
    "# this returns one good and one bad root\n",
    "def quad2(a,b,c):\n",
    "    d = sqrt(b**2 - 4*a*c)\n",
    "    return ( (2*c)/(-b-d), (2*c)/(-b+d) )\n",
    "\n",
    "# combine previous to keep only good solutions\n",
    "def quad(a,b,c):\n",
    "    x = quad1(a,b,c)\n",
    "    y = quad2(a,b,c)\n",
    "    return (x[1],y[0])\n",
    "\n",
    "a = 0.001\n",
    "b =  1000\n",
    "c = 0.001\n",
    "print(quad1(a,b,c))\n",
    "print(quad2(a,b,c))\n",
    "print(quad(a,b,c))"
   ]
  },
  {
   "cell_type": "markdown",
   "metadata": {},
   "source": [
    "6\\. Write a program that implements the function $f(x)=x(x−1)$\n",
    "\n",
    "(a) Calculate the derivative of the function at the point $x = 1$ using the derivative definition:\n",
    "\n",
    "$$\n",
    "\\frac{{\\rm d}f}{{\\rm d}x} = \\lim_{\\delta\\to0} \\frac{f(x+\\delta)-f(x)}{\\delta}\n",
    "$$\n",
    "\n",
    "with $\\delta = 10^{−2}$. Calculate the true value of the same derivative analytically and compare with the answer your program gives. The two will not agree perfectly. Why not?\n",
    "\n",
    "**FR:** The exact result is $1$. Again, considered $\\delta$ is a small number, compared to $1$ and we have the same type of error as above.\n",
    "\n",
    "(b) Repeat the calculation for $\\delta = 10^{−4}, 10^{−6}, 10^{−8}, 10^{−10}, 10^{−12}$ and $10^{−14}$. How does the accuracy scales with $\\delta$?\n",
    "\n",
    "**FR:** Accuracy has a peak for a $\\delta$ that lies in the middle of the considered interval: if we plot the values, the resulting shape is convex on this minima point."
   ]
  },
  {
   "cell_type": "code",
   "execution_count": 9,
   "metadata": {},
   "outputs": [
    {
     "name": "stdout",
     "output_type": "stream",
     "text": [
      "delta =  2   res = 1.01000000000000089706   abs diff = 0.010000000000000897\n",
      "delta =  4   res = 1.00009999999988985486   abs diff = 9.999999988985486e-05\n",
      "delta =  6   res = 1.00000099991773327979   abs diff = 9.99917733279787e-07\n",
      "delta =  8   res = 1.00000000392252874626   abs diff = 3.922528746258536e-09\n",
      "delta = 10   res = 1.00000008284037100736   abs diff = 8.284037100736441e-08\n",
      "delta = 12   res = 1.00008890058334132256   abs diff = 8.890058334132256e-05\n",
      "delta = 14   res = 0.99920072216265087839   abs diff = 0.0007992778373491216\n"
     ]
    }
   ],
   "source": [
    "fun = lambda x: x*(x-1)\n",
    "def deriv(point, delta):\n",
    "    return (fun(point+delta) - fun(point)) / delta\n",
    "\n",
    "for delta in range(2,16,2):\n",
    "    res = deriv(1.0, 10**(-delta))\n",
    "    print(\"delta = {:2}   res = {:.20f}   abs diff = {}\".format(delta, res, abs(res-1)))\n"
   ]
  },
  {
   "cell_type": "markdown",
   "metadata": {},
   "source": [
    "7\\. Consider the integral of the semicircle of radius 1:\n",
    "$$\n",
    "I=\\int_{-1}^{1} \\sqrt(1-x^2) {\\rm d}x\n",
    "$$\n",
    "which it's known to be $I=\\frac{\\pi}{2}=1.57079632679...$.\n",
    "Alternatively we can use the Riemann definition of the integral:\n",
    "$$\n",
    "I=\\lim_{N\\to\\infty} \\sum_{k=1}^{N} h y_k \n",
    "$$\n",
    "\n",
    "with $h=2/N$ the width of each of the $N$ slices the domain is divided into and where\n",
    "$y_k$ is the value of the function at the $k-$th slice.\n",
    "\n",
    "(a) Write a program to compute the integral with $N=100$. How does the result compares to the true value?\n",
    "\n",
    "(b) How much can $N$ be increased if the computation needs to be run in less than a second? What is the gain in running it for 1 minute?\n",
    "\n",
    "**FR:** The correct value of $N$ depends heavily on the configuration of the machine this script is running on. I included as comments the values obtained in the lab."
   ]
  },
  {
   "cell_type": "code",
   "execution_count": 10,
   "metadata": {},
   "outputs": [
    {
     "name": "stdout",
     "output_type": "stream",
     "text": [
      "result = 1.5691342555492493   abs diff = 0.0016620712407506844\n"
     ]
    }
   ],
   "source": [
    "from math import sqrt\n",
    "\n",
    "fun = lambda x: sqrt(1-x**2)\n",
    "def intgrl(N):\n",
    "    mn = -1.0 # min x value\n",
    "    mx = 1.0  # max x value\n",
    "    step = (mx-mn)/N\n",
    "    \n",
    "    x = mn\n",
    "    res = 0.0\n",
    "    while x <= mx:\n",
    "        res += 2/N * fun(x)\n",
    "        x += step\n",
    "    return res\n",
    "\n",
    "real_result = 1.57079632679 # circa\n",
    "res = intgrl(100)\n",
    "print(\"result = {}   abs diff = {}\".format(res, abs(res-real_result)))\n",
    "\n",
    "# second part, by trials\n",
    "#%time intgrl(100000)  # takes circa 25ms\n",
    "#%time intgrl(1000000) # takes circa 254ms\n",
    "#%time intgrl(4000000) # takes circa 993ms: roughly this is the required N for this machine\n",
    "#%time intgrl(5000000) # takes circa 1.24s\n",
    "# N for 1-minute execution was not tested in the lab"
   ]
  }
 ],
 "metadata": {
  "kernelspec": {
   "display_name": "Python 3",
   "language": "python",
   "name": "python3"
  },
  "language_info": {
   "codemirror_mode": {
    "name": "ipython",
    "version": 3
   },
   "file_extension": ".py",
   "mimetype": "text/x-python",
   "name": "python",
   "nbconvert_exporter": "python",
   "pygments_lexer": "ipython3",
   "version": "3.7.0"
  }
 },
 "nbformat": 4,
 "nbformat_minor": 2
}
