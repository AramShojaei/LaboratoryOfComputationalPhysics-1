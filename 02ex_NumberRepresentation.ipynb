{
 "cells": [
  {
   "cell_type": "markdown",
   "metadata": {},
   "source": [
    "1\\. Write a function that converts number representation (bin<->dec<->hex)"
   ]
  },
  {
   "cell_type": "code",
   "execution_count": 1,
   "metadata": {},
   "outputs": [
    {
     "name": "stdout",
     "output_type": "stream",
     "text": [
      "1123\n",
      "163\n"
     ]
    }
   ],
   "source": [
    "def rappr_to_10(stringa, base):\n",
    "    num = 0\n",
    "    power = len(stringa) - 1\n",
    "    for c in stringa:\n",
    "        if c == \"A\":\n",
    "            c = 10\n",
    "        if c == \"B\":\n",
    "            c = 11\n",
    "        if c == \"C\":\n",
    "            c = 12\n",
    "        if c == \"D\":\n",
    "            c = 13\n",
    "        if c == \"E\":\n",
    "            c = 14\n",
    "        if c == \"F\":\n",
    "            c = 15\n",
    "\n",
    "        if int(c) >= base:\n",
    "            return \"The number is not valid in this representation\"\n",
    "\n",
    "        num += base**power * int(c)\n",
    "        power -= 1\n",
    "    return str(num)\n",
    "\n",
    "def convert_from_10(stringa, base):\n",
    "    num = int(stringa)\n",
    "    l = \"\"\n",
    "    while num >= base:\n",
    "        resto = num%base\n",
    "        num = int((num - resto)/base)\n",
    "        if resto == 10:\n",
    "            resto = \"A\"\n",
    "        if resto == 11:\n",
    "            resto = \"B\"\n",
    "        if resto == 12:\n",
    "            resto = \"C\"\n",
    "        if resto == 13:\n",
    "            resto = \"D\"\n",
    "        if resto == 14:\n",
    "            resto = \"E\"\n",
    "        if resto == 15:\n",
    "            resto = \"F\"\n",
    "        l = str(resto) + l\n",
    "\n",
    "\n",
    "    resto = num%base\n",
    "\n",
    "    if resto == 10:\n",
    "         resto = \"A\"\n",
    "    if resto == 11:\n",
    "        resto = \"B\"\n",
    "    if resto == 12:\n",
    "        resto = \"C\"\n",
    "    if resto == 13:\n",
    "        resto = \"D\"\n",
    "    if resto == 14:\n",
    "        resto = \"E\"\n",
    "    if resto == 15:\n",
    "        resto = \"F\"\n",
    "\n",
    "    l = str(resto) + l\n",
    "\n",
    "    return l\n",
    "\n",
    "\n",
    "print(convert_from_10(\"163\", 5))\n",
    "\n",
    "print(rappr_to_10(convert_from_10(\"163\", 5), 5))"
   ]
  },
  {
   "cell_type": "markdown",
   "metadata": {},
   "source": [
    "2\\. Write a function that converts a 32 bit word into a single precision floating point (i.e. interprets the various bits as sign, mantissa and exponent)"
   ]
  },
  {
   "cell_type": "code",
   "execution_count": 2,
   "metadata": {},
   "outputs": [
    {
     "name": "stdout",
     "output_type": "stream",
     "text": [
      "-22352.666015625\n"
     ]
    }
   ],
   "source": [
    "\"\"\"\n",
    "# PROVE VARIE\n",
    "print(rappr_to_10(\"11111111111111111111111111111111\", 2))\n",
    "max_ = 2**32-1\n",
    "# max = 4294967295\n",
    "print(max_)\n",
    "\"\"\"\n",
    "\n",
    "def double_num(num_ins):\n",
    "    # using functions created in the previous cell to implement in a neater way the function\n",
    "    mask_sign = int(rappr_to_10(\"10000000000000000000000000000000\", 2))\n",
    "    mask_exp  = int(rappr_to_10(\"01111111100000000000000000000000\", 2))\n",
    "    mask_mant = int(rappr_to_10(\"00000000011111111111111111111111\", 2))\n",
    "\n",
    "    # print(mask_sign, '\\t', mask_exp, '\\t', mask_mant)\n",
    "\n",
    "    # num_prova = int(3333333333)    # Testing a number with sign -\n",
    "    num_prova = int(num_ins)\n",
    "\n",
    "    sign_ = num_prova & mask_sign\n",
    "    exp_  = num_prova & mask_exp\n",
    "    mant_ = num_prova & mask_mant\n",
    "\n",
    "    # TEST VARI\n",
    "    # print(sign_, '\\t', exp_, '\\t', mant_)\n",
    "    # convert_from_10(12345678, 2)\n",
    "\n",
    "    sign_ >>= 31        # Moving sign_ to the first bit, where it will be 0 or 1\n",
    "    # print(sign_)      # Testing sign_\n",
    "    exp_ >>= 23         # Moving exp to the firsts 8 bits\n",
    "    exp_ -= (127)       # Adding bias\n",
    "    # print(exp_)\n",
    "    # mant_ >>= 0       # NO NEED TO SHIFT mant_\n",
    "\n",
    "    # N.B.: NEED TO DIVIDE FOR 2^(-23) TO HAVE THE CORRECT MANTISS\n",
    "    num_ = ((-1)**sign_) * ( mant_*(2**(exp_-23)) + 2**(exp_) )\n",
    "\n",
    "    return(num_)\n",
    "\n",
    "print(double_num(3333333333))"
   ]
  },
  {
   "cell_type": "markdown",
   "metadata": {},
   "source": [
    "3\\. Write a program to determine the underflow and overflow limits (within a factor of 2) for python on your computer. \n",
    "\n",
    "**Tips**: define two variables inizialized to 1 and halve/double them enough time to exceed the under/over-flow limits  "
   ]
  },
  {
   "cell_type": "code",
   "execution_count": 15,
   "metadata": {},
   "outputs": [
    {
     "name": "stdout",
     "output_type": "stream",
     "text": [
      "Overflow doubled  1024  times.\n",
      "Overflow:  8.98846567431158e+307\n",
      "Underflow halved  1074  times.\n",
      "Underflow:  5e-324\n"
     ]
    }
   ],
   "source": [
    "uf = 0.5\n",
    "uf_copy = uf\n",
    "cont_uf = 0\n",
    "of = float(1)\n",
    "cont_of = 0\n",
    "\n",
    "while uf_copy != 0:\n",
    "    uf_copy /= 2\n",
    "    cont_uf += 1\n",
    "    \n",
    "while of < 2*of:\n",
    "    app = of\n",
    "    of *= 2\n",
    "    cont_of += 1\n",
    "\n",
    "print(\"Overflow doubled \", cont_of, \" times.\")\n",
    "\n",
    "print(\"Overflow: \",app)    # N.B.: app is not the maximum value\n",
    "\n",
    "print(\"Underflow halved \", cont_uf, \" times.\")\n",
    "\n",
    "# re-iterating the procedure with 1 less iteration (before the number becomes 0)\n",
    "uf_copy = uf\n",
    "for i in range(cont_uf-1):\n",
    "    uf_copy /= 2\n",
    "\n",
    "print(\"Underflow: \", uf_copy)"
   ]
  },
  {
   "cell_type": "markdown",
   "metadata": {},
   "source": [
    "4\\. Write a program to determine the machine precision\n",
    "\n",
    "**Tips**: define a new variable by adding a smaller and smaller value (proceeding similarly to prob. 2) to an original variable and check the point where the two are the same "
   ]
  },
  {
   "cell_type": "code",
   "execution_count": 19,
   "metadata": {},
   "outputs": [
    {
     "name": "stdout",
     "output_type": "stream",
     "text": [
      "2.220446049250313e-16\n"
     ]
    }
   ],
   "source": [
    "num = 1.\n",
    "eps = 1.\n",
    "\n",
    "while num != num + eps:\n",
    "    eps /= 2\n",
    "\n",
    "eps *= 2    # Serve il penultimo epsilon, poiché l'ultimo è quello che diventa irrilevante\n",
    "\n",
    "print(eps)"
   ]
  },
  {
   "cell_type": "markdown",
   "metadata": {},
   "source": [
    "5\\. Write a function that takes in input three parameters $a$, $b$ and $c$ and prints out the two solutions to the quadratic equation $ax^2+bx+c=0$ using the standard formula:\n",
    "$$\n",
    "x=\\frac{-b\\pm\\sqrt{b^2-4ac}}{2a}\n",
    "$$\n",
    "\n",
    "(a) use the program to compute the solution for $a=0.001$, $b=1000$ and $c=0.001$\n",
    "\n",
    "(b) re-express the standard solution formula by multiplying top and bottom by $-b\\mp\\sqrt{b^2-4ac}$ and again find the solution for $a=0.001$, $b=1000$ and $c=0.001$. How does it compare with what previously obtained? Why?\n",
    "\n",
    "(c) write a function that compute the roots of a quadratic equation accurately in all cases"
   ]
  },
  {
   "cell_type": "code",
   "execution_count": 28,
   "metadata": {},
   "outputs": [
    {
     "name": "stdout",
     "output_type": "stream",
     "text": [
      "[-9.999894245993346e-07, -999999.999999]\n",
      "[-1.0000000000009999e-06, -1000010.5755125057]\n",
      "[-1.0000000000009999e-06, -999999.999999]\n",
      "[999999.999999, 1.0000000000009999e-06]\n"
     ]
    }
   ],
   "source": [
    "# N.B.: the solutions become troublesome when summing 2 big number, i.e.\n",
    "def solut_square(a, b, c):\n",
    "    x1 = (-b + pow(b**2 - 4*a*c , 0.5))/(2*a)\n",
    "    x2 = (-b - pow(b**2 - 4*a*c , 0.5))/(2*a)\n",
    "    solut = [x1, x2]\n",
    "    return solut\n",
    "\n",
    "a_test = 0.001\n",
    "b_test = 1000\n",
    "c_test = 0.001\n",
    "\n",
    "sols = solut_square(a_test, b_test, c_test)\n",
    "\n",
    "print(sols)\n",
    "\n",
    "def solut_alternative(a, b, c):\n",
    "    x1 = 4*a*c/(2*a*(-b - pow(b**2 - 4*a*c , 0.5)))\n",
    "    x2 = 4*a*c/(2*a*(-b + pow(b**2 - 4*a*c , 0.5)))\n",
    "    solut = [x1, x2]\n",
    "    return solut\n",
    "\n",
    "sols_altern = solut_alternative(a_test, b_test, c_test)\n",
    "print(sols_altern)\n",
    "\n",
    "def solut_correct(a, b, c):\n",
    "    if b>0:\n",
    "        x2 = (-b - pow(b**2 - 4*a*c , 0.5))/(2*a)\n",
    "        x1 = 4*a*c/(2*a*(-b - pow(b**2 - 4*a*c , 0.5)))\n",
    "        sols = [x1, x2]\n",
    "    else:\n",
    "        x1 = (-b + pow(b**2 - 4*a*c , 0.5))/(2*a)\n",
    "        x2 = 4*a*c/(2*a*(-b + pow(b**2 - 4*a*c , 0.5)))\n",
    "        sols = [x1, x2]\n",
    "    return sols\n",
    "\n",
    "\n",
    "sols_correct = solut_correct(a_test, b_test, c_test)\n",
    "print(sols_correct)\n",
    "sols_correct = solut_correct(a_test, -b_test, c_test)    # Test con b<0\n",
    "print(sols_correct)"
   ]
  },
  {
   "cell_type": "markdown",
   "metadata": {},
   "source": [
    "### Answer/comment to ex5\n",
    "N.B.: the solutions become troublesome when summing 2 big numbers which in this case are the \"b\" coefficient and the result of the discriminant.\n",
    "In fact, when \"b\" is very big w.r.t. \"4ac\", the discriminant is very close to b and its difference with \"b\" becomes dangerous for the machine computing. This happens only in one of the 2 cases: indeed in one case the difference si evaluated (and it gives troubles), while in the other the sum is evaluated (with its proper sign) and it does not arise problems.\n",
    "\n",
    "So for every pair of solutions, only one gives the \"accurate\" result, while the other is \"not correct\"; to avoid this fact, one can define the solutions as in the code above, so the solutions are case sensitive w.r.t. b sign."
   ]
  },
  {
   "cell_type": "markdown",
   "metadata": {},
   "source": [
    "## ----------------------------------------------------------------------------------------------------------------------"
   ]
  },
  {
   "cell_type": "markdown",
   "metadata": {},
   "source": [
    "6\\. Write a program that implements the function $f(x)=x(x−1)$\n",
    "\n",
    "(a) Calculate the derivative of the function at the point $x = 1$ using the derivative definition:\n",
    "\n",
    "$$\n",
    "\\frac{{\\rm d}f}{{\\rm d}x} = \\lim_{\\delta\\to0} \\frac{f(x+\\delta)-f(x)}{\\delta}\n",
    "$$\n",
    "\n",
    "with $\\delta = 10^{−2}$. Calculate the true value of the same derivative analytically and compare with the answer your program gives. The two will not agree perfectly. Why not?\n",
    "\n",
    "(b) Repeat the calculation for $\\delta = 10^{−4}, 10^{−6}, 10^{−8}, 10^{−10}, 10^{−12}$ and $10^{−14}$. How does the accuracy scales with $\\delta$?"
   ]
  },
  {
   "cell_type": "markdown",
   "metadata": {},
   "source": [
    "(a) The true anwer is:\n",
    "\n",
    "$ \\frac{{\\rm d}f}{{\\rm d}x} \\big\\vert_{x=1} = \\frac{{\\rm d}}{{\\rm d}x} (x^2 - x) \\big\\vert_{x=1} = 2x - 1 \\big\\vert_{x=1} = 1 $"
   ]
  },
  {
   "cell_type": "code",
   "execution_count": 20,
   "metadata": {},
   "outputs": [
    {
     "name": "stdout",
     "output_type": "stream",
     "text": [
      "1.010000000000001 \n",
      "\n",
      "δ =  0.01 . Il risultato è:  1.010000000000001 , con un'accuratezza di:  -0.010000000000000897\n",
      "δ =  0.0001 . Il risultato è:  1.0000999999998899 , con un'accuratezza di:  -9.999999988985486e-05\n",
      "δ =  1e-06 . Il risultato è:  1.0000009999177333 , con un'accuratezza di:  -9.99917733279787e-07\n",
      "δ =  1e-08 . Il risultato è:  1.0000000039225287 , con un'accuratezza di:  -3.922528746258536e-09\n",
      "δ =  1e-10 . Il risultato è:  1.000000082840371 , con un'accuratezza di:  -8.284037100736441e-08\n",
      "δ =  1e-12 . Il risultato è:  1.0000889005833413 , con un'accuratezza di:  -8.890058334132256e-05\n",
      "δ =  1e-14 . Il risultato è:  0.9992007221626509 , con un'accuratezza di:  0.0007992778373491216\n",
      "\n",
      "Ora provo con un passo diverso (pura intuizione, voglio solo provare...) \n",
      "\n",
      "δ =  0.25 . Result:  1.25 , accuracy:  -0.25\n",
      "δ =  0.25 . Other result:  1.25 , accuracy:  -0.25\n",
      "δ =  0.0625 . Result:  1.0625 , accuracy:  -0.0625\n",
      "δ =  0.0625 . Other result:  1.0625 , accuracy:  -0.0625\n",
      "δ =  0.015625 . Result:  1.015625 , accuracy:  -0.015625\n",
      "δ =  0.015625 . Other result:  1.015625 , accuracy:  -0.015625\n",
      "δ =  0.00390625 . Result:  1.00390625 , accuracy:  -0.00390625\n",
      "δ =  0.00390625 . Other result:  1.00390625 , accuracy:  -0.00390625\n",
      "δ =  0.0009765625 . Result:  1.0009765625 , accuracy:  -0.0009765625\n",
      "δ =  0.0009765625 . Other result:  1.0009765625 , accuracy:  -0.0009765625\n",
      "δ =  0.000244140625 . Result:  1.000244140625 , accuracy:  -0.000244140625\n",
      "δ =  0.000244140625 . Other result:  1.000244140625 , accuracy:  -0.000244140625\n",
      "δ =  6.103515625e-05 . Result:  1.00006103515625 , accuracy:  -6.103515625e-05\n",
      "δ =  6.103515625e-05 . Other result:  1.00006103515625 , accuracy:  -6.103515625e-05\n",
      "δ =  1.52587890625e-05 . Result:  1.0000152587890625 , accuracy:  -1.52587890625e-05\n",
      "δ =  1.52587890625e-05 . Other result:  1.0000152587890625 , accuracy:  -1.52587890625e-05\n",
      "δ =  3.814697265625e-06 . Result:  1.0000038146972656 , accuracy:  -3.814697265625e-06\n",
      "δ =  3.814697265625e-06 . Other result:  1.0000038146972656 , accuracy:  -3.814697265625e-06\n",
      "δ =  9.5367431640625e-07 . Result:  1.0000009536743164 , accuracy:  -9.5367431640625e-07\n",
      "δ =  9.5367431640625e-07 . Other result:  1.0000009536743164 , accuracy:  -9.5367431640625e-07\n",
      "δ =  2.384185791015625e-07 . Result:  1.000000238418579 , accuracy:  -2.384185791015625e-07\n",
      "δ =  2.384185791015625e-07 . Other result:  1.000000238418579 , accuracy:  -2.384185791015625e-07\n",
      "δ =  5.960464477539063e-08 . Result:  1.0000000596046448 , accuracy:  -5.960464477539063e-08\n",
      "δ =  5.960464477539063e-08 . Other result:  1.0000000596046448 , accuracy:  -5.960464477539063e-08\n",
      "δ =  1.4901161193847656e-08 . Result:  1.0000000149011612 , accuracy:  -1.4901161193847656e-08\n",
      "δ =  1.4901161193847656e-08 . Other result:  1.0000000149011612 , accuracy:  -1.4901161193847656e-08\n",
      "δ =  3.725290298461914e-09 . Result:  1.0000000037252903 , accuracy:  -3.725290298461914e-09\n",
      "δ =  3.725290298461914e-09 . Other result:  1.0000000037252903 , accuracy:  -3.725290298461914e-09\n",
      "δ =  9.313225746154785e-10 . Result:  1.0000000009313226 , accuracy:  -9.313225746154785e-10\n",
      "δ =  9.313225746154785e-10 . Other result:  1.0000000009313226 , accuracy:  -9.313225746154785e-10\n",
      "δ =  2.3283064365386963e-10 . Result:  1.0000000002328306 , accuracy:  -2.3283064365386963e-10\n",
      "δ =  2.3283064365386963e-10 . Other result:  1.0000000002328306 , accuracy:  -2.3283064365386963e-10\n",
      "δ =  5.820766091346741e-11 . Result:  1.0000000000582077 , accuracy:  -5.820766091346741e-11\n",
      "δ =  5.820766091346741e-11 . Other result:  1.0000000000582077 , accuracy:  -5.820766091346741e-11\n",
      "δ =  1.4551915228366852e-11 . Result:  1.000000000014552 , accuracy:  -1.4551915228366852e-11\n",
      "δ =  1.4551915228366852e-11 . Other result:  1.000000000014552 , accuracy:  -1.4551915228366852e-11\n",
      "δ =  3.637978807091713e-12 . Result:  1.000000000003638 , accuracy:  -3.637978807091713e-12\n",
      "δ =  3.637978807091713e-12 . Other result:  1.000000000003638 , accuracy:  -3.637978807091713e-12\n",
      "δ =  9.094947017729282e-13 . Result:  1.0000000000009095 , accuracy:  -9.094947017729282e-13\n",
      "δ =  9.094947017729282e-13 . Other result:  1.0000000000009095 , accuracy:  -9.094947017729282e-13\n",
      "δ =  2.2737367544323206e-13 . Result:  1.0000000000002274 , accuracy:  -2.2737367544323206e-13\n",
      "δ =  2.2737367544323206e-13 . Other result:  1.0000000000002274 , accuracy:  -2.2737367544323206e-13\n",
      "δ =  5.684341886080802e-14 . Result:  1.0000000000000568 , accuracy:  -5.684341886080802e-14\n",
      "δ =  5.684341886080802e-14 . Other result:  1.0000000000000568 , accuracy:  -5.684341886080802e-14\n",
      "δ =  1.4210854715202004e-14 . Result:  1.0000000000000142 , accuracy:  -1.4210854715202004e-14\n",
      "δ =  1.4210854715202004e-14 . Other result:  1.0000000000000142 , accuracy:  -1.4210854715202004e-14\n",
      "δ =  3.552713678800501e-15 . Result:  1.0000000000000036 , accuracy:  -3.552713678800501e-15\n",
      "δ =  3.552713678800501e-15 . Other result:  1.0000000000000036 , accuracy:  -3.552713678800501e-15\n",
      "δ =  8.881784197001252e-16 . Result:  1.0000000000000009 , accuracy:  -8.881784197001252e-16\n",
      "δ =  8.881784197001252e-16 . Other result:  1.0000000000000009 , accuracy:  -8.881784197001252e-16\n",
      "δ =  2.220446049250313e-16 . Result:  1.0000000000000002 , accuracy:  -2.220446049250313e-16\n",
      "δ =  2.220446049250313e-16 . Other result:  1.0000000000000002 , accuracy:  -2.220446049250313e-16\n",
      "δ =  5.551115123125783e-17 . Result:  0.0 , accuracy:  1.0\n",
      "δ =  5.551115123125783e-17 . Other result:  0.0 , accuracy:  1.0\n",
      "δ =  1.3877787807814457e-17 . Result:  0.0 , accuracy:  1.0\n",
      "δ =  1.3877787807814457e-17 . Other result:  0.0 , accuracy:  1.0\n",
      "δ =  3.469446951953614e-18 . Result:  0.0 , accuracy:  1.0\n",
      "δ =  3.469446951953614e-18 . Other result:  0.0 , accuracy:  1.0\n"
     ]
    }
   ],
   "source": [
    "def f(x):\n",
    "    return x*(x-1)\n",
    "\n",
    "x = 1\n",
    "δ = 1e-2\n",
    "der = (f(x+δ) - f(x)) / δ\n",
    "\n",
    "print(der, \"\\n\")\n",
    "\n",
    "for exp in range(2, 15, 2):\n",
    "    δ = 10**(-exp)\n",
    "    der = (f(x+δ) - f(x)) / δ\n",
    "    print(\"δ = \", δ, \". Il risultato è: \", der, \", con un'accuratezza di: \", 1-der)\n",
    "\n",
    "print(\"\\n\" + \"Ora provo con un passo diverso (pura intuizione, voglio solo provare...) \\n\")\n",
    "\n",
    "for exp in range(2, 60, 2):\n",
    "    δ = 2**(-exp)\n",
    "    der = (f(x+δ) - f(x)) / δ\n",
    "    der_better = f(x+δ)/δ - f(x)/δ\n",
    "    print(\"δ = \", δ, \". Result: \", der, \", accuracy: \", 1-der)\n",
    "    print(\"δ = \", δ, \". Other result: \", der_better, \", accuracy: \", 1-der)"
   ]
  },
  {
   "cell_type": "markdown",
   "metadata": {},
   "source": [
    "## ------------------------------------------------------------------------------------------------"
   ]
  },
  {
   "cell_type": "markdown",
   "metadata": {},
   "source": [
    "7\\. Consider the integral of the semicircle of radius 1:\n",
    "$$\n",
    "I=\\int_{-1}^{1} \\sqrt{(1-x^2)} {\\rm d}x = 2 \\int_{0}^{1} \\sqrt{(1-x^2)} {\\rm d}x\n",
    "$$\n",
    "which it's known to be $I=\\frac{\\pi}{2}=1.57079632679...$.\n",
    "Alternatively we can use the Riemann definition of the integral:\n",
    "$$\n",
    "I=\\lim_{N\\to\\infty} \\sum_{k=1}^{N} h y_k \n",
    "$$\n",
    "\n",
    "with $h=2/N$ the width of each of the $N$ slices the domain is divided into and where\n",
    "$y_k$ is the value of the function at the $k-$th slice.\n",
    "\n",
    "(a) Write a program to compute the integral with $N=100$. How does the result compare to the true value?\n",
    "\n",
    "(b) How much can $N$ be increased if the computation needs to be run in less than a second? What is the gain in running it for 1 minute?\n",
    "\n",
    "Answer to (b)\n",
    "\n",
    "It depends on the computer...\n"
   ]
  },
  {
   "cell_type": "code",
   "execution_count": 22,
   "metadata": {},
   "outputs": [
    {
     "name": "stdout",
     "output_type": "stream",
     "text": [
      "35 ms ± 3.58 ms per loop (mean ± std. dev. of 7 runs, 10 loops each)\n",
      "1.5707962742034223\n"
     ]
    }
   ],
   "source": [
    "def f_rad(x):\n",
    "    return pow(1-x*x, 0.5)\n",
    "\n",
    "N = 100000\n",
    "h = 2/N\n",
    "\n",
    "I = 0\n",
    "\n",
    "def process(n):\n",
    "    I = 0\n",
    "    for i in range(n):\n",
    "        I += h*f_rad(i*h-1.)\n",
    "    return I\n",
    "\n",
    "%timeit process(N)\n",
    "\n",
    "I = process(N)\n",
    "\n",
    "print(I)"
   ]
  },
  {
   "cell_type": "code",
   "execution_count": null,
   "metadata": {
    "collapsed": true
   },
   "outputs": [],
   "source": []
  }
 ],
 "metadata": {
  "kernelspec": {
   "display_name": "Python 3",
   "language": "python",
   "name": "python3"
  },
  "language_info": {
   "codemirror_mode": {
    "name": "ipython",
    "version": 3
   },
   "file_extension": ".py",
   "mimetype": "text/x-python",
   "name": "python",
   "nbconvert_exporter": "python",
   "pygments_lexer": "ipython3",
   "version": "3.7.1"
  }
 },
 "nbformat": 4,
 "nbformat_minor": 2
}
