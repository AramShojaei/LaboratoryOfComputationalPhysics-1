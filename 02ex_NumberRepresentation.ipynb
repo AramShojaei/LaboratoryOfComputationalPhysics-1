{
 "cells": [
  {
   "cell_type": "markdown",
   "metadata": {},
   "source": [
    "1\\. Write a function that converts number representation (bin<->dec<->hex)"
   ]
  },
  {
   "cell_type": "code",
   "execution_count": null,
   "metadata": {},
   "outputs": [],
   "source": []
  },
  {
   "cell_type": "markdown",
   "metadata": {},
   "source": [
    "2\\. Write a function that converts a 32 bit word into a single precision floating point (i.e. interprets the various bits as sign, mantissa and exponent)"
   ]
  },
  {
   "cell_type": "code",
   "execution_count": null,
   "metadata": {},
   "outputs": [],
   "source": []
  },
  {
   "cell_type": "markdown",
   "metadata": {},
   "source": [
    "3\\. Write a program to determine the underflow and overflow limits (within a factor of 2) for python on your computer. \n",
    "\n",
    "**Tips**: define two variables inizialized to 1 and halve/double them enough time to exceed the under/over-flow limits  "
   ]
  },
  {
   "cell_type": "code",
   "execution_count": 157,
   "metadata": {},
   "outputs": [
    {
     "name": "stdout",
     "output_type": "stream",
     "text": [
      "Using N=1023 we find the value for the overflow:\n",
      "undeflow: 1.1125369292536007e-308 \n",
      "overflow: 8.98846567431158e+307 \n",
      "\n",
      "Using N=1074 we find the value for the underflow:\n",
      "undeflow: 5e-324 \n",
      "overflow: inf \n",
      "\n",
      "Using N=1O75:\n",
      "undeflow: 0.0 \n",
      "overflow: inf \n",
      "\n"
     ]
    }
   ],
   "source": [
    "def my_flow(N):\n",
    "    under=1.0\n",
    "    over=1.0\n",
    "    for i in range(N):\n",
    "        under=under/2\n",
    "        over=over*2\n",
    "    print(\"undeflow:\",under,\"\\noverflow:\", over,\"\\n\")    \n",
    "    \n",
    "print(\"Using N=1023 we find the value for the overflow:\")\n",
    "my_flow(10**3+23)\n",
    "\n",
    "print(\"Using N=1074 we find the value for the underflow:\")\n",
    "my_flow(10**3+74)\n",
    "\n",
    "\n",
    "print(\"Using N=1O75:\")\n",
    "my_flow(10**3+75)"
   ]
  },
  {
   "cell_type": "markdown",
   "metadata": {},
   "source": [
    "4\\. Write a program to determine the machine precision\n",
    "\n",
    "**Tips**: define a new variable by adding a smaller and smaller value (proceeding similarly to prob. 2) to an original variable and check the point where the two are the same "
   ]
  },
  {
   "cell_type": "code",
   "execution_count": 112,
   "metadata": {},
   "outputs": [
    {
     "name": "stdout",
     "output_type": "stream",
     "text": [
      "Machine precision using np.finfo(np.float64).eps: 2.220446049250313e-16\n",
      "Machine precision using my function: 2.220446049250313e-16\n"
     ]
    }
   ],
   "source": [
    "print(\"Machine precision using np.finfo(np.float64).eps:\",np.finfo(np.float64).eps)\n",
    "\n",
    "one=0\n",
    "eps= 1.0\n",
    "while one != 1.0:\n",
    "    eps = eps/2\n",
    "    one=1.0 + eps\n",
    "print('Machine precision using my function:', 2*eps)"
   ]
  },
  {
   "cell_type": "markdown",
   "metadata": {},
   "source": [
    "5\\. Write a function that takes in input three parameters $a$, $b$ and $c$ and prints out the two solutions to the quadratic equation $ax^2+bx+c=0$ using the standard formula:\n",
    "$$\n",
    "x=\\frac{-b\\pm\\sqrt{b^2-4ac}}{2a}\n",
    "$$\n",
    "\n",
    "(a) use the program to compute the solution for $a=0.001$, $b=1000$ and $c=0.001$\n",
    "\n",
    "(b) re-express the standard solution formula by multiplying top and bottom by $-b\\mp\\sqrt{b^2-4ac}$ and again find the solution for $a=0.001$, $b=1000$ and $c=0.001$. How does it compare with what previously obtained? Why?\n",
    "\n",
    "(c) write a function that compute the roots of a quadratic equation accurately in all cases"
   ]
  },
  {
   "cell_type": "code",
   "execution_count": 101,
   "metadata": {},
   "outputs": [
    {
     "name": "stdout",
     "output_type": "stream",
     "text": [
      "Solutions (a): \n",
      " (-9.999894245993346e-07, -999999.999999)\n",
      "\n",
      " The mantissa is represented by a limited amount of bits, and in the solution to the quadratic equation we have to \n",
      " face the problem that b is close to np.sqrt(b**2-4*a*c).\n",
      "In fact, with 10 significan digits, b is represented by 1000.0000000000, while np.sqrt(b**2-4*a*c) by 999.9999999980.\n",
      "\n",
      "Solutions (b): \n",
      " (-9.999894245993346e-07, -999999.9999990001)\n",
      "\n",
      "The value of the second root for the two expressions is different. We are diving a big number by a small one. \n",
      "Because of float rounding the associative law does not necessarily hold. \n",
      "\n",
      "Solutions (c): \n",
      "\n",
      "I decided to move to the log scale in order to get a more accurate solution. \n",
      "I implemented the log scaling in both equations. \n",
      "\n",
      "(-9.999894245993342e-07, -999999.999999) \n",
      " (-9.999894245993342e-07, -999999.999999)\n"
     ]
    }
   ],
   "source": [
    "import numpy as np\n",
    "import math\n",
    "def my_quadratic(a,b,c):\n",
    "    x1=(-b+math.sqrt(b**2-4*a*c))/(2*a)\n",
    "    x2=(-b-math.sqrt(b**2-4*a*c))/(2*a)\n",
    "    return x1,x2\n",
    "print(\"Solutions (a): \\n\",my_quadratic(0.001,1000,0.001))\n",
    "\n",
    "print(\"\\n The mantissa is represented by a limited amount of bits, and in the solution to the quadratic equation we have to \\n face the problem that b is close to np.sqrt(b**2-4*a*c).\")\n",
    "print(\"In fact, with 10 significan digits, b is represented by %.10f, while np.sqrt(b**2-4*a*c) by %.10f.\\n\"%(1000, np.sqrt(1000**2-4*0.001*0.001)))\n",
    "def my_quadratic2(a,b,c):\n",
    "    x1=(-b+math.sqrt(b**2-4*a*c))*(-b-math.sqrt(b**2-4*a*c))/(2*a*(-b-math.sqrt(b**2-4*a*c)))\n",
    "    x2=(-b-math.sqrt(b**2-4*a*c))*(-b+math.sqrt(b**2-4*a*c))/(2*a*(-b+math.sqrt(b**2-4*a*c)))\n",
    "    return x1,x2\n",
    "print(\"Solutions (b): \\n\",my_quadratic2(0.001,1000,0.001))\n",
    "print(\"\\nThe value of the second root for the two expressions is different. We are diving a big number by a small one. \\nBecause of float rounding the associative law does not necessarily hold. \\n\")\n",
    "\n",
    "print(\"Solutions (c): \\n\")\n",
    "print(\"I decided to move to the log scale in order to get a more accurate solution. \\nI implemented the log scaling in both equations. \\n\")\n",
    "def my_quadratic3(a,b,c):\n",
    "    \n",
    "    x1=math.log10(abs((-b+math.sqrt(b**2-4*a*c))))-np.log10(abs((2*a)))\n",
    "    x1=(10**x1)*np.sign((-b+math.sqrt(b**2-4*a*c))/(2*a))\n",
    "    x2=math.log10(abs((-b-math.sqrt(b**2-4*a*c))))-math.log10(abs((2*a)))\n",
    "    x2=(10**x2)*np.sign((-b-math.sqrt(b**2-4*a*c))/(2*a))\n",
    "    return x1,x2\n",
    "\n",
    "def my_quadratic4(a,b,c):\n",
    "    num_sum= -b+math.sqrt(b**2-4*a*c)\n",
    "    num_diff=-b-math.sqrt(b**2-4*a*c)\n",
    "    \n",
    "    x1=math.log10(abs(num_sum))+math.log10(abs(num_diff))-math.log10(abs(num_diff))-math.log10(2*a)\n",
    "    x1=(10**x1)*np.sign((-b+math.sqrt(b**2-4*a*c))*a)\n",
    "    \n",
    "    x2=math.log10(abs(num_diff))+math.log10(abs(num_sum))-math.log10(abs(num_sum))-math.log10(2*a)\n",
    "    x2=(10**x2)*np.sign(num_diff*a)\n",
    "  \n",
    "    return x1,x2\n",
    "print(my_quadratic3(0.001,1000,0.001), \"\\n\",my_quadratic4(0.001,1000,0.001))"
   ]
  },
  {
   "cell_type": "markdown",
   "metadata": {},
   "source": [
    "6\\. Write a program that implements the function $f(x)=x(x−1)$\n",
    "\n",
    "(a) Calculate the derivative of the function at the point $x = 1$ using the derivative definition:\n",
    "\n",
    "$$\n",
    "\\frac{{\\rm d}f}{{\\rm d}x} = \\lim_{\\delta\\to0} \\frac{f(x+\\delta)-f(x)}{\\delta}\n",
    "$$\n",
    "\n",
    "with $\\delta = 10^{−2}$. Calculate the true value of the same derivative analytically and compare with the answer your program gives. The two will not agree perfectly. Why not?\n",
    "\n",
    "(b) Repeat the calculation for $\\delta = 10^{−4}, 10^{−6}, 10^{−8}, 10^{−10}, 10^{−12}$ and $10^{−14}$. How does the accuracy scales with $\\delta$?"
   ]
  },
  {
   "cell_type": "code",
   "execution_count": 187,
   "metadata": {},
   "outputs": [
    {
     "name": "stdout",
     "output_type": "stream",
     "text": [
      "The analytical derivative of f(x) in x=1 for 𝛿=10^−2 is: 1\n",
      "The computed derivative in x=1 for 𝛿=10^−2 is: 1.010000000000001\n",
      "I think that the difference is mainly due to the fact that I am using 𝛿=10^−2, which is quite different from 0.\n",
      "\n",
      "The derivative in x=1 for 𝛿=10^−4 is: 1.0000999999998899  error: -9.999999988985486e-05\n",
      "The derivative in x=1 for 𝛿=10^−6 is: 1.0000009999177333  error: -9.99917733279787e-07\n",
      "The derivative in x=1 for 𝛿=10^−8 is: 1.0000000039225287  error: -3.922528746258536e-09\n",
      "The derivative in x=1 for 𝛿=10^−10 is: 1.000000082840371  error: -8.284037100736441e-08\n",
      "The derivative in x=1 for 𝛿=10^−12 is: 1.0000889005833413  error: -8.890058334132256e-05\n",
      "The derivative in x=1 for 𝛿=10^−14 is: 0.9992007221626509  error: 0.0007992778373491216 \n",
      "\n",
      "As we can see, we have the best accuracy for 𝛿=10^−8. That is probably the best compromise between a value of 𝛿 that\n",
      "is both low enough to be considered null and high enough not to have problems subtracting floats that are too close  in value (f(x+𝛿)-f(x)).\n"
     ]
    }
   ],
   "source": [
    "def f(x):\n",
    "    return x*(x-1)\n",
    "\n",
    "def df(x,delta):\n",
    "    return (f(x+delta)-f(x))/delta\n",
    "print(\"The analytical derivative of f(x) in x=1 for 𝛿=10^−2 is:\",\"1\")\n",
    "print(\"The computed derivative in x=1 for 𝛿=10^−2 is:\",df(1,10**-2))\n",
    "print(\"I think that the difference is mainly due to the fact that I am using 𝛿=10^−2, which is quite different from 0.\\n\")\n",
    "\n",
    "print(\"The derivative in x=1 for 𝛿=10^−4 is:\",df(1,10**-4),\" error:\", 1-df(1,10**-4))\n",
    "print(\"The derivative in x=1 for 𝛿=10^−6 is:\",df(1,10**-6),\" error:\", 1-df(1,10**-6))\n",
    "print(\"The derivative in x=1 for 𝛿=10^−8 is:\",df(1,10**-8),\" error:\", 1-df(1,10**-8))\n",
    "print(\"The derivative in x=1 for 𝛿=10^−10 is:\",df(1,10**-10),\" error:\", 1-df(1,10**-10))\n",
    "print(\"The derivative in x=1 for 𝛿=10^−12 is:\",df(1,10**-12),\" error:\", 1-df(1,10**-12))\n",
    "print(\"The derivative in x=1 for 𝛿=10^−14 is:\",df(1,10**-14),\" error:\", 1-df(1,10**-14), \"\\n\")\n",
    "\n",
    "print(\"As we can see, we have the best accuracy for 𝛿=10^−8. That is probably the best compromise between a value of 𝛿 that\")\n",
    "print(\"is both low enough to be considered null and high enough not to have problems subtracting floats that are too close  in value (f(x+𝛿)-f(x)).\")"
   ]
  },
  {
   "cell_type": "markdown",
   "metadata": {},
   "source": [
    "7\\. Consider the integral of the semicircle of radius 1:\n",
    "$$\n",
    "I=\\int_{-1}^{1} \\sqrt(1-x^2) {\\rm d}x\n",
    "$$\n",
    "which it's known to be $I=\\frac{\\pi}{2}=1.57079632679...$.\n",
    "Alternatively we can use the Riemann definition of the integral:\n",
    "$$\n",
    "I=\\lim_{N\\to\\infty} \\sum_{k=1}^{N} h y_k \n",
    "$$\n",
    "\n",
    "with $h=2/N$ the width of each of the $N$ slices the domain is divided into and where\n",
    "$y_k$ is the value of the function at the $k-$th slice.\n",
    "\n",
    "(a) Write a programe to compute the integral with $N=100$. How does the result compares to the true value?\n",
    "\n",
    "(b) How much can $N$ be increased if the computation needs to be run in less than a second? What is the gain in running it for 1 minute? \n"
   ]
  },
  {
   "cell_type": "code",
   "execution_count": 233,
   "metadata": {},
   "outputs": [
    {
     "name": "stdout",
     "output_type": "stream",
     "text": [
      "For 𝑁=100 I get: 1.5802085158895225 , which has a %error: 0.0014979964197253484 %\n",
      "151 µs ± 1.59 µs per loop (mean ± std. dev. of 7 runs, 10000 loops each)\n",
      "For 𝑁=4*10^7, I run it for a minute and get: 1.5707963517926005 , which has a %error: 3.9785081427224914e-09 %\n",
      "1min ± 686 ms per loop (mean ± std. dev. of 7 runs, 1 loop each)\n"
     ]
    }
   ],
   "source": [
    "import numpy as np\n",
    "def my_riem(N):\n",
    "    I=0\n",
    "    for k in range(N):\n",
    "        I=np.sqrt(1-(k/N)**2)+I\n",
    "    return (I*2/N)\n",
    "\n",
    "print(\"For 𝑁=100 I get:\", my_riem(10**2),\", which has a %error:\", ((my_riem(10**2)-np.pi/2)/np.pi/2),\"%\")\n",
    "%timeit my_riem(10**2)\n",
    "print(\"For 𝑁=4*10^7, I run it for a minute and get:\", my_riem(4*10**7),\", which has a %error:\", ((my_riem(4*10**7)-np.pi/2)/np.pi/2),\"%\")\n",
    "%timeit my_riem(4*10**7)"
   ]
  },
  {
   "cell_type": "code",
   "execution_count": null,
   "metadata": {},
   "outputs": [],
   "source": []
  }
 ],
 "metadata": {
  "kernelspec": {
   "display_name": "Python 3",
   "language": "python",
   "name": "python3"
  },
  "language_info": {
   "codemirror_mode": {
    "name": "ipython",
    "version": 3
   },
   "file_extension": ".py",
   "mimetype": "text/x-python",
   "name": "python",
   "nbconvert_exporter": "python",
   "pygments_lexer": "ipython3",
   "version": "3.6.5"
  }
 },
 "nbformat": 4,
 "nbformat_minor": 2
}
