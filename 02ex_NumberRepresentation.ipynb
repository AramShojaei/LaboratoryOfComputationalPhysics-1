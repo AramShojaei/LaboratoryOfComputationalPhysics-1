{
 "cells": [
  {
   "cell_type": "markdown",
   "metadata": {},
   "source": [
    "1\\. Write a function that converts number representation (bin<->dec<->hex)"
   ]
  },
  {
   "cell_type": "code",
   "execution_count": 43,
   "metadata": {},
   "outputs": [
    {
     "name": "stdout",
     "output_type": "stream",
     "text": [
      "1A2F4\n"
     ]
    }
   ],
   "source": [
    "hex_d = {'A': 10, 'B': 11, 'C': 12, 'D': 13, 'E': 14, 'F': 15}\n",
    "hex_d_inv = {10: 'A', 11: 'B', 12: 'C', 13: 'D', 14: 'E', 15: 'F'}\n",
    "\n",
    "def convert(n, in_base, out_base):\n",
    "    if in_base == 10:\n",
    "        c_str = ''\n",
    "        while n > 0:\n",
    "            c_temp = n%out_base\n",
    "            if c_temp in hex_d_inv:\n",
    "                c_temp = hex_d_inv[c_temp]\n",
    "            c_str += str(c_temp)\n",
    "            n = n//out_base\n",
    "        c_str = c_str[::-1]\n",
    "        return c_str\n",
    "    else:\n",
    "        c_num = 0\n",
    "        n_str = str(n)\n",
    "        n_str = n_str[::-1]\n",
    "        exp = 0\n",
    "        for digit in n_str:\n",
    "            if digit in hex_d:\n",
    "                digit = hex_d[digit]\n",
    "            c_num += (int(digit))*in_base**exp\n",
    "            exp +=1\n",
    "        return c_num\n",
    "    \n",
    "a = convert(107252, 10, 16)\n",
    "print(a)"
   ]
  },
  {
   "cell_type": "markdown",
   "metadata": {},
   "source": [
    "2\\. Write a function that converts a 32 bit word into a single precision floating point (i.e. interprets the various bits as sign, mantissa and exponent)"
   ]
  },
  {
   "cell_type": "code",
   "execution_count": 14,
   "metadata": {},
   "outputs": [
    {
     "data": {
      "text/plain": [
       "17.0"
      ]
     },
     "execution_count": 14,
     "metadata": {},
     "output_type": "execute_result"
    }
   ],
   "source": [
    "def convertToFloat(binary):\n",
    "    offset = lambda x : x + 2\n",
    "    sign = int(binary[offset(0)])\n",
    "    exponent = int(binary[offset(1):offset(9)],2)\n",
    "    mantissa = binary[offset(9):]\n",
    "    mantissa = sum([1]+[int(i)*2**(-(index+1)) for index, i in enumerate(mantissa)])\n",
    "    value = mantissa*2**(exponent-127)\n",
    "    if sign:\n",
    "        return -value\n",
    "    return value\n",
    "        \n",
    "binary = '0b01000001100010000000000000000000'\n",
    "convertToFloat(binary)"
   ]
  },
  {
   "cell_type": "markdown",
   "metadata": {},
   "source": [
    "3\\. Write a program to determine the underflow and overflow limits (within a factor of 2) for python on your computer. \n",
    "\n",
    "**Tips**: define two variables inizialized to 1 and halve/double them enough time to exceed the under/over-flow limits  "
   ]
  },
  {
   "cell_type": "code",
   "execution_count": null,
   "metadata": {},
   "outputs": [],
   "source": [
    "u = 1\n",
    "o = 1\n",
    "\n",
    "u_check = True\n",
    "o_check = True\n",
    "\n",
    "while u_check or o_check:\n",
    "    if u_check:\n",
    "        u_tmp = u\n",
    "        u = u/2\n",
    "        if u >= u_tmp:\n",
    "            u_check = False\n",
    "        \n",
    "    \n",
    "    if o_check:\n",
    "        o_tmp = o\n",
    "        o = o*2\n",
    "        if o <= o_tmp:\n",
    "            o_check = False\n",
    "            \n",
    "print(\"u:\",u)\n",
    "print(\"o:\",o)"
   ]
  },
  {
   "cell_type": "markdown",
   "metadata": {},
   "source": [
    "4\\. Write a program to determine the machine precision\n",
    "\n",
    "**Tips**: define a new variable by adding a smaller and smaller value (proceeding similarly to prob. 2) to an original variable and check the point where the two are the same "
   ]
  },
  {
   "cell_type": "code",
   "execution_count": 1,
   "metadata": {},
   "outputs": [
    {
     "name": "stdout",
     "output_type": "stream",
     "text": [
      "#ITERATION 1 #\n",
      "Number: 1\n",
      "New number: 2\n",
      "#ITERATION 2 #\n",
      "Number: 2\n",
      "New number: 2.1\n",
      "#ITERATION 3 #\n",
      "Number: 2.1\n",
      "New number: 2.101\n",
      "#ITERATION 4 #\n",
      "Number: 2.101\n",
      "New number: 2.101001\n",
      "#ITERATION 5 #\n",
      "Number: 2.101001\n",
      "New number: 2.1010010001\n",
      "#ITERATION 6 #\n",
      "Number: 2.1010010001\n",
      "New number: 2.101001000100001\n",
      "#ITERATION 7 #\n",
      "Number: 2.101001000100001\n",
      "New number: 2.101001000100001\n"
     ]
    }
   ],
   "source": [
    "num = 1\n",
    "off = 1\n",
    "i = 1\n",
    "num_check = True\n",
    "\n",
    "while num_check:\n",
    "    print(\"#ITERATION\", i, \"#\")\n",
    "    print(\"Number:\", num)\n",
    "    num_temp = num\n",
    "    num += off\n",
    "    print(\"New number:\", num)\n",
    "    if num_temp == num:\n",
    "        num_check = False\n",
    "    off = off*10**-i\n",
    "    i+=1"
   ]
  },
  {
   "cell_type": "markdown",
   "metadata": {},
   "source": [
    "5\\. Write a function that takes in input three parameters $a$, $b$ and $c$ and prints out the two solutions to the quadratic equation $ax^2+bx+c=0$ using the standard formula:\n",
    "$$\n",
    "x=\\frac{-b\\pm\\sqrt{b^2-4ac}}{2a}\n",
    "$$\n",
    "\n",
    "(a) use the program to compute the solution for $a=0.001$, $b=1000$ and $c=0.001$\n",
    "\n",
    "(b) re-express the standard solution formula by multiplying top and bottom by $-b\\mp\\sqrt{b^2-4ac}$ and again find the solution for $a=0.001$, $b=1000$ and $c=0.001$. How does it compare with what previously obtained? Why?\n",
    "\n",
    "(c) write a function that compute the roots of a quadratic equation accurately in all cases"
   ]
  },
  {
   "cell_type": "code",
   "execution_count": 21,
   "metadata": {},
   "outputs": [
    {
     "name": "stdout",
     "output_type": "stream",
     "text": [
      "[-9.999894245993346e-07, -999999.999999]\n",
      "[-9.999894245993346e-07, -999999.9999989999]\n"
     ]
    }
   ],
   "source": [
    "a = 0.001\n",
    "b = 1000\n",
    "c = 0.001\n",
    "\n",
    "import math\n",
    "def solveEquation2Order(a, b, c):\n",
    "    delta = b**2 - 4*a*c\n",
    "    if delta == 0:\n",
    "        return [(-b)/(2*a)]\n",
    "    else:\n",
    "        return [(-b + math.sqrt(delta))/(2*a), (-b - math.sqrt(delta))/(2*a)]\n",
    "\n",
    "print(solveEquation2Order(a, b, c))\n",
    "\n",
    "def solveEquation2Order_2(a, b, c):\n",
    "    delta = b**2 - 4*a*c\n",
    "    if delta == 0:\n",
    "        return [(-b)/(2*a)]/(-b)\n",
    "    else:\n",
    "        return [((-b + math.sqrt(delta))/(2*a) * (-b - math.sqrt(delta))) / (-b - math.sqrt(delta)),\n",
    "                ((-b - math.sqrt(delta))/(2*a) * (-b + math.sqrt(delta))) / (-b + math.sqrt(delta))]\n",
    "    \n",
    "print(solveEquation2Order_2(a, b, c))\n",
    "\n",
    "import cmath\n",
    "print(cmath)"
   ]
  },
  {
   "cell_type": "markdown",
   "metadata": {},
   "source": [
    "6\\. Write a program that implements the function $f(x)=x(x−1)$\n",
    "\n",
    "(a) Calculate the derivative of the function at the point $x = 1$ using the derivative definition:\n",
    "\n",
    "$$\n",
    "\\frac{{\\rm d}f}{{\\rm d}x} = \\lim_{\\delta\\to0} \\frac{f(x+\\delta)-f(x)}{\\delta}\n",
    "$$\n",
    "\n",
    "with $\\delta = 10^{−2}$. Calculate the true value of the same derivative analytically and compare with the answer your program gives. The two will not agree perfectly. Why not?\n",
    "\n",
    "(b) Repeat the calculation for $\\delta = 10^{−4}, 10^{−6}, 10^{−8}, 10^{−10}, 10^{−12}$ and $10^{−14}$. How does the accuracy scales with $\\delta$?"
   ]
  },
  {
   "cell_type": "code",
   "execution_count": null,
   "metadata": {},
   "outputs": [],
   "source": []
  },
  {
   "cell_type": "markdown",
   "metadata": {},
   "source": [
    "7\\. Consider the integral of the semicircle of radius 1:\n",
    "$$\n",
    "I=\\int_{-1}^{1} \\sqrt(1-x^2) {\\rm d}x\n",
    "$$\n",
    "which it's known to be $I=\\frac{\\pi}{2}=1.57079632679...$.\n",
    "Alternatively we can use the Riemann definition of the integral:\n",
    "$$\n",
    "I=\\lim_{N\\to\\infty} \\sum_{k=1}^{N} h y_k \n",
    "$$\n",
    "\n",
    "with $h=2/N$ the width of each of the $N$ slices the domain is divided into and where\n",
    "$y_k$ is the value of the function at the $k-$th slice.\n",
    "\n",
    "(a) Write a programe to compute the integral with $N=100$. How does the result compares to the true value?\n",
    "\n",
    "(b) How much can $N$ be increased if the computation needs to be run in less than a second? What is the gain in running it for 1 minute? \n"
   ]
  },
  {
   "cell_type": "code",
   "execution_count": null,
   "metadata": {},
   "outputs": [],
   "source": []
  },
  {
   "cell_type": "code",
   "execution_count": null,
   "metadata": {},
   "outputs": [],
   "source": []
  }
 ],
 "metadata": {
  "kernelspec": {
   "display_name": "Python 3",
   "language": "python",
   "name": "python3"
  },
  "language_info": {
   "codemirror_mode": {
    "name": "ipython",
    "version": 3
   },
   "file_extension": ".py",
   "mimetype": "text/x-python",
   "name": "python",
   "nbconvert_exporter": "python",
   "pygments_lexer": "ipython3",
   "version": "3.7.0"
  }
 },
 "nbformat": 4,
 "nbformat_minor": 2
}
