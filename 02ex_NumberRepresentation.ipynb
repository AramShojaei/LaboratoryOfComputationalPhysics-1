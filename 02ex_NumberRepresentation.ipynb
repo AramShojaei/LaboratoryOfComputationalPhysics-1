{
 "cells": [
  {
   "cell_type": "markdown",
   "metadata": {},
   "source": [
    "1\\. Write a function that converts number representation (bin<->dec<->hex)"
   ]
  },
  {
   "cell_type": "markdown",
   "metadata": {},
   "source": [
    "##### Answer 1)"
   ]
  },
  {
   "cell_type": "markdown",
   "metadata": {},
   "source": [
    "2\\. Write a function that converts a 32 bit word into a single precision floating point (i.e. interprets the various bits as sign, mantissa and exponent)"
   ]
  },
  {
   "cell_type": "markdown",
   "metadata": {},
   "source": [
    "##### Answer 2)"
   ]
  },
  {
   "cell_type": "code",
   "execution_count": null,
   "metadata": {},
   "outputs": [],
   "source": [
    "def convert(word):\n",
    "    print(word)\n",
    "    word=word[::-1]\n",
    "    print(len(word))\n",
    "    sign=word[31]\n",
    "    exp=int(word[24:31],2)\n",
    "    bias=127\n",
    "    esp=exp-bias\n",
    "    mantissa=int(word[0:24],2)\n",
    "    number = (1+ mantissa*0.1)*2**esp\n",
    "    if sign=='0':\n",
    "        return '+'+str(number)\n",
    "    else:\n",
    "        return '-'+str(number)\n",
    "\n",
    "convert('11100011111110000000010101101110')"
   ]
  },
  {
   "cell_type": "markdown",
   "metadata": {},
   "source": [
    "3. Write a program to determine the underflow and overflow limits (within a factor of 2) for python on your computer.\n",
    "\n",
    "Tips: define two variables inizialized to 1 and halve/double them enough time to exceed the under/over-flow limits"
   ]
  },
  {
   "cell_type": "markdown",
   "metadata": {},
   "source": [
    "##### Answer 3)"
   ]
  },
  {
   "cell_type": "code",
   "execution_count": null,
   "metadata": {},
   "outputs": [],
   "source": [
    "#### initial parameter\n",
    "underflow=float(1)\n",
    "overflow=float(1)\n",
    "i=0\n",
    "m=0\n",
    "\n",
    "#### detect underflow\n",
    "while underflow>0:\n",
    "    i +=1\n",
    "    underflow = underflow/2\n",
    "    \n",
    "print(\"Number of division:\",i)\n",
    "print(\"underflow:\",1/2**(i-1))\n",
    "\n",
    "#### detect overflow\n",
    "while overflow<float('Inf'):\n",
    "    m+=1\n",
    "    overflow = overflow*2\n",
    "\n",
    "print(\"\\nPower\",m)    \n",
    "print(\"Over Flow Number:\",2**m)\n"
   ]
  },
  {
   "cell_type": "markdown",
   "metadata": {},
   "source": [
    "4\\. Write a program to determine the machine precision\n",
    "\n",
    "**Tips**: define a new variable by adding a smaller and smaller value (proceeding similarly to prob. 2) to an original variable and check the point where the two are the same "
   ]
  },
  {
   "cell_type": "markdown",
   "metadata": {},
   "source": [
    "##### Answer 4)"
   ]
  },
  {
   "cell_type": "code",
   "execution_count": null,
   "metadata": {},
   "outputs": [],
   "source": [
    "### Initial values\n",
    "\n",
    "var=float(1)\n",
    "eps=float(1)\n",
    "it=0\n",
    "\n",
    "while (var + eps) > var:\n",
    "    eps=eps/2\n",
    "    it +=1\n",
    "\n",
    "print(\"Machine precision\",eps)\n",
    "print(\"Number of Iteration\",it)"
   ]
  },
  {
   "cell_type": "markdown",
   "metadata": {},
   "source": [
    "5\\. Write a function that takes in input three parameters $a$, $b$ and $c$ and prints out the two solutions to the quadratic equation $ax^2+bx+c=0$ using the standard formula:\n",
    "$$\n",
    "x=\\frac{-b\\pm\\sqrt{b^2-4ac}}{2a}\n",
    "$$\n",
    "\n",
    "(a) use the program to compute the solution for $a=0.001$, $b=1000$ and $c=0.001$\n",
    "\n",
    "(b) re-express the standard solution formula by multiplying top and bottom by $-b\\mp\\sqrt{b^2-4ac}$ and again find the solution for $a=0.001$, $b=1000$ and $c=0.001$. How does it compare with what previously obtained? Why?\n",
    "\n",
    "(c) write a function that compute the roots of a quadratic equation accurately in all cases"
   ]
  },
  {
   "cell_type": "markdown",
   "metadata": {},
   "source": [
    "##### Answer 5)"
   ]
  },
  {
   "cell_type": "code",
   "execution_count": null,
   "metadata": {},
   "outputs": [],
   "source": [
    "## a)\n",
    "import numpy as np\n",
    "\n",
    "def quad_1(a,b,c):\n",
    "    d=np.sqrt(b**2-4*a*c)\n",
    "    \n",
    "    x1=(-b+d)/(2*a)\n",
    "    x2=(-b-d)/(2*a)\n",
    "       \n",
    "    return x1, x2\n",
    "\n",
    "print(\"(X1, X2) =\",quad_1(0.001,1000,0.001))"
   ]
  },
  {
   "cell_type": "code",
   "execution_count": null,
   "metadata": {},
   "outputs": [],
   "source": [
    "## b)\n",
    "def quad_2(a,b,c):\n",
    "    \n",
    "    d=np.sqrt(b**2-4*a*c)\n",
    "    x1=((-b+d)*(-b-d))/((2*a)*(-b-d))\n",
    "    x2=((-b-d)*(-b+d))/((2*a)*(-b+d))\n",
    "  \n",
    "    return x1, x2\n",
    "\n",
    "print(\"The precision for X2 has been exceeded\")\n",
    "print(\"(X1, X2) =\",quad_2(0.001,1000,0.001))"
   ]
  },
  {
   "cell_type": "markdown",
   "metadata": {},
   "source": [
    "6\\. Write a program that implements the function $f(x)=x(x−1)$\n",
    "\n",
    "(a) Calculate the derivative of the function at the point $x = 1$ using the derivative definition:\n",
    "\n",
    "$$\n",
    "\\frac{{\\rm d}f}{{\\rm d}x} = \\lim_{\\delta\\to0} \\frac{f(x+\\delta)-f(x)}{\\delta}\n",
    "$$\n",
    "\n",
    "with $\\delta = 10^{−2}$. Calculate the true value of the same derivative analytically and compare with the answer your program gives. The two will not agree perfectly. Why not?\n",
    "\n",
    "(b) Repeat the calculation for $\\delta = 10^{−4}, 10^{−6}, 10^{−8}, 10^{−10}, 10^{−12}$ and $10^{−14}$. How does the accuracy scales with $\\delta$?"
   ]
  },
  {
   "cell_type": "markdown",
   "metadata": {},
   "source": [
    "##### Answer 6)"
   ]
  },
  {
   "cell_type": "code",
   "execution_count": null,
   "metadata": {},
   "outputs": [],
   "source": [
    "### define f and its derivation functions\n",
    "def f(x):\n",
    "    return x*(x-1)\n",
    "\n",
    "def der(x,delta):\n",
    "    return (f(x+delta)-f(x))/delta"
   ]
  },
  {
   "cell_type": "code",
   "execution_count": null,
   "metadata": {},
   "outputs": [],
   "source": [
    "## a)\n",
    "x = 1\n",
    "print(\"Result By Definition = \",der(1,.001))\n",
    "print(\"Result by derivative analytically 2*x-1 = \",(2*x-1))\n",
    "print(\"Because of the dividing to small numbers the precision is different\")"
   ]
  },
  {
   "cell_type": "code",
   "execution_count": null,
   "metadata": {},
   "outputs": [],
   "source": [
    "## b)\n",
    "print(\"Result By Definition:\\n\")\n",
    "print('delta = 10^-4 :',der(1, 10**(-4)))\n",
    "print('delta = 10^-6 :',der(1, 10**(-6)))\n",
    "print('delta = 10^-8 :',der(1, 10**(-8)))\n",
    "print('delta = 10^-10:',der(1, 10**(-10)))\n",
    "print('delta = 10^-12:',der(1, 10**(-12)))\n",
    "print('delta = 10^-14:',der(1, 10**(-14)))\n",
    "print('delta = 10^-16:',der(1, 10**(-16)))"
   ]
  },
  {
   "cell_type": "markdown",
   "metadata": {},
   "source": [
    "7\\. Consider the integral of the semicircle of radius 1:\n",
    "$$\n",
    "I=\\int_{-1}^{1} \\sqrt(1-x^2) {\\rm d}x\n",
    "$$\n",
    "which it's known to be $I=\\frac{\\pi}{2}=1.57079632679...$.\n",
    "Alternatively we can use the Riemann definition of the integral:\n",
    "$$\n",
    "I=\\lim_{N\\to\\infty} \\sum_{k=1}^{N} h y_k \n",
    "$$\n",
    "\n",
    "with $h=2/N$ the width of each of the $N$ slices the domain is divided into and where\n",
    "$y_k$ is the value of the function at the $k-$th slice.\n",
    "\n",
    "(a) Write a programe to compute the integral with $N=100$. How does the result compares to the true value?\n",
    "\n",
    "(b) How much can $N$ be increased if the computation needs to be run in less than a second? What is the gain in running it for 1 minute? \n"
   ]
  },
  {
   "cell_type": "code",
   "execution_count": null,
   "metadata": {},
   "outputs": [],
   "source": []
  }
 ],
 "metadata": {
  "kernelspec": {
   "display_name": "Python 3",
   "language": "python",
   "name": "python3"
  },
  "language_info": {
   "codemirror_mode": {
    "name": "ipython",
    "version": 3
   },
   "file_extension": ".py",
   "mimetype": "text/x-python",
   "name": "python",
   "nbconvert_exporter": "python",
   "pygments_lexer": "ipython3",
   "version": "3.7.2"
  }
 },
 "nbformat": 4,
 "nbformat_minor": 2
}
