{
 "cells": [
  {
   "cell_type": "markdown",
   "metadata": {},
   "source": [
    "1\\. Write a function that converts number representation (bin<->dec<->hex)"
   ]
  },
  {
   "cell_type": "code",
   "execution_count": 1,
   "metadata": {},
   "outputs": [
    {
     "name": "stdout",
     "output_type": "stream",
     "text": [
      "Decimal Number = 15\n",
      "Converted to Bin = 1111\n",
      "Converted to Hex = F\n",
      "\n",
      " --- \n",
      "\n",
      "Binary Number = 1101\n",
      "Converted to Dec = 13\n",
      "Converted to Hex = D\n",
      "\n",
      " --- \n",
      "\n",
      "Hexadecimal Number = A\n",
      "Converted to Dec = 10\n",
      "Converted to Bin = 1010\n"
     ]
    }
   ],
   "source": [
    "# Strign to convert into binary values\n",
    "binConv = \"01\"\n",
    "# Strign to convert into hexadecimal values\n",
    "hexConv = \"0123456789ABCDEF\"\n",
    "\n",
    "def DecToBin(Dec):\n",
    "    # Result converted to binary\n",
    "    binNum = \"\"\n",
    "    while(Dec > 0):\n",
    "        # Add at the beginning of the string the rest of the division\n",
    "        binNum = binConv[Dec%2] + binNum\n",
    "        # Divide the number\n",
    "        Dec = Dec//2\n",
    "    return binNum\n",
    "\n",
    "def DecToHex(Dec):\n",
    "    # Result converted to hexadecimal\n",
    "    hexNum = \"\"\n",
    "    while(Dec > 0):\n",
    "        # Add at the beginning of the string the rest of the division\n",
    "        hexNum = hexConv[Dec%16] + hexNum\n",
    "        # Divide the number\n",
    "        Dec = Dec//16\n",
    "    return hexNum\n",
    "\n",
    "def BinToDec(Bin):\n",
    "    # Result converted to decimal\n",
    "    dec = 0\n",
    "    # Write in reverse order:\n",
    "    # LSB is the first element in the string, MSB is the last\n",
    "    Bin = Bin[::-1] #string[start:end:step]\n",
    "    for index, value in enumerate(Bin):\n",
    "        #dec = dec + int(value, 2)*2**index\n",
    "        dec = dec + binConv.find(value[:])*2**index\n",
    "    return dec\n",
    "\n",
    "def BinToHex(Bin):\n",
    "    return(DecToHex(BinToDec(Bin)))\n",
    "\n",
    "def HexToDec(Bin):\n",
    "    # Result converted to decimal\n",
    "    dec = 0\n",
    "    # Write in reverse order:\n",
    "    # LSB is the first element in the string, MSB is the last\n",
    "    Bin = Bin[::-1]\n",
    "    for index, value in enumerate(Bin):\n",
    "        dec = dec + hexConv.find(value[:])*16**index\n",
    "    return dec\n",
    "\n",
    "def HexToBin(Bin):\n",
    "    return(DecToBin(HexToDec(Bin)))\n",
    "    \n",
    "\n",
    "\n",
    "a = 15\n",
    "print(\"Decimal Number =\", a)\n",
    "print(\"Converted to Bin =\", DecToBin(a))\n",
    "print(\"Converted to Hex =\", DecToHex(a))\n",
    "print(\"\\n --- \\n\")\n",
    "\n",
    "b = \"1101\"\n",
    "print(\"Binary Number =\", b)\n",
    "print(\"Converted to Dec =\", BinToDec(b))\n",
    "print(\"Converted to Hex =\", BinToHex(b))\n",
    "print(\"\\n --- \\n\")\n",
    "\n",
    "c = \"A\"\n",
    "print(\"Hexadecimal Number =\", c)\n",
    "print(\"Converted to Dec =\", HexToDec(c))\n",
    "print(\"Converted to Bin =\", HexToBin(c))        \n",
    "    "
   ]
  },
  {
   "cell_type": "markdown",
   "metadata": {},
   "source": [
    "2\\. Write a function that converts a 32 bit word into a single precision floating point (i.e. interprets the various bits as sign, mantissa and exponent)"
   ]
  },
  {
   "cell_type": "code",
   "execution_count": 98,
   "metadata": {},
   "outputs": [
    {
     "name": "stdout",
     "output_type": "stream",
     "text": [
      "Number to convert into single precision floating point notation = -118.625\n",
      "32-bit notation = 11000010111011010100000000000000\n",
      "Sign Bit = 1 -> -\n",
      "Exponent Bits = 10000101 -> 6\n",
      "Mantissa Bits = 11011010100000000000000 -> 1.853515625\n",
      "Floating point notation = - (2**6) * (1.853515625)\n"
     ]
    }
   ],
   "source": [
    "import bitstring\n",
    "\n",
    "def BitToSign(num):\n",
    "    if(num == \"0\"): return \"+\"\n",
    "    elif(num == \"1\"): return \"-\"\n",
    "    \n",
    "\n",
    "f = -118.625\n",
    "# Pack the value as float (32 bit) with MSB in starting position\n",
    "b = bitstring.pack('>f', f)\n",
    "# Get sign, exponent and mantissa bits\n",
    "sbit, expbits, mantbits = b[:1], b[1:9], b[9:]\n",
    "print(\"Number to convert into single precision floating point notation =\", f)\n",
    "print(\"32-bit notation =\", b.bin)\n",
    "print(\"Sign Bit =\", sbit.bin, \"->\", BitToSign(sbit.bin))\n",
    "print(\"Exponent Bits =\", expbits.bin, \"->\", expbits.uint - 127) # exponent bias is 127 \n",
    "print(\"Mantissa Bits =\", mantbits.bin, \"->\", 1 + mantbits.uint / (1<<23)) # 1<<23 = 2**23\n",
    "floatNot = BitToSign(sbit.bin)+\" (2**\"+str(expbits.uint - 127)+\") * (\"+str(1 + mantbits.uint / (1<<23))+\")\"\n",
    "print(\"Floating point notation =\", floatNot)"
   ]
  },
  {
   "cell_type": "markdown",
   "metadata": {},
   "source": [
    "3\\. Write a program to determine the underflow and overflow limits (within a factor of 2) for python on your computer. \n",
    "\n",
    "**Tips**: define two variables inizialized to 1 and halve/double them enough time to exceed the under/over-flow limits  "
   ]
  },
  {
   "cell_type": "code",
   "execution_count": 3,
   "metadata": {},
   "outputs": [
    {
     "name": "stdout",
     "output_type": "stream",
     "text": [
      "Underflow limit = 5e-324\n"
     ]
    }
   ],
   "source": [
    "a = 1\n",
    "b = 1\n",
    "\n",
    "while(a/2 != 0):\n",
    "    a = a/2\n",
    "\n",
    "print(\"Underflow limit =\", a)\n",
    "\n",
    "# The code below should find the overflow limit,\n",
    "# but it doesn't stop in my tests\n",
    "\n",
    "\n",
    "#while(b+1 > b):\n",
    "#    try:\n",
    "#        b = b*2\n",
    "#    except OverflowError as e:\n",
    "#        print ('Overflowed after ', b, e)\n"
   ]
  },
  {
   "cell_type": "markdown",
   "metadata": {},
   "source": [
    "4\\. Write a program to determine the machine precision\n",
    "\n",
    "**Tips**: define a new variable by adding a smaller and smaller value (proceeding similarly to prob. 2) to an original variable and check the point where the two are the same "
   ]
  },
  {
   "cell_type": "code",
   "execution_count": 1,
   "metadata": {},
   "outputs": [
    {
     "name": "stdout",
     "output_type": "stream",
     "text": [
      "Machine precision = 2.220446049250313e-16\n"
     ]
    }
   ],
   "source": [
    "a = 1\n",
    "k = 1\n",
    "\n",
    "while(a != a+k/2):\n",
    "    k = k/2\n",
    "    \n",
    "print(\"Machine precision =\", k)"
   ]
  },
  {
   "cell_type": "markdown",
   "metadata": {},
   "source": [
    "5\\. Write a function that takes in input three parameters $a$, $b$ and $c$ and prints out the two solutions to the quadratic equation $ax^2+bx+c=0$ using the standard formula:\n",
    "$$\n",
    "x=\\frac{-b\\pm\\sqrt{b^2-4ac}}{2a}\n",
    "$$\n",
    "\n",
    "(a) use the program to compute the solution for $a=0.001$, $b=1000$ and $c=0.001$\n",
    "\n",
    "(b) re-express the standard solution formula by multiplying top and bottom by $-b\\mp\\sqrt{b^2-4ac}$ and again find the solution for $a=0.001$, $b=1000$ and $c=0.001$. How does it compare with what previously obtained? Why?\n",
    "\n",
    "(c) write a function that compute the roots of a quadratic equation accurately in all cases"
   ]
  },
  {
   "cell_type": "code",
   "execution_count": 10,
   "metadata": {},
   "outputs": [
    {
     "name": "stdout",
     "output_type": "stream",
     "text": [
      "Standard method:\n",
      "x1 = -9.999894245993346e-07 \n",
      "x2 = -999999.999999\n",
      "\n",
      "---\n",
      "\n",
      "Modified method:\n",
      "x1 = -1.000000000001e-06 \n",
      "x2 = -1000010.5755125057\n",
      "\n",
      "---\n",
      "\n",
      "Stable method:\n",
      "x1 = -1.000000000001e-06 \n",
      "x2 = -999999.999999\n"
     ]
    }
   ],
   "source": [
    "def QuadEqStandard(a, b, c):\n",
    "    delta2 = b**2 - 4*a*c\n",
    "    if(delta2 < 0): return(False)\n",
    "    else:\n",
    "        x1 = (-b + delta2**0.5) / (2*a) # possible cancellation in the numerator if b>0\n",
    "        x2 = (-b - delta2**0.5) / (2*a) # possible cancellation in the numerator if b<0\n",
    "        return(x1, x2)\n",
    "    \n",
    "def QuadEqMod(a, b, c):\n",
    "    delta2 = b**2 - 4*a*c\n",
    "    if(delta2 < 0): return(False)\n",
    "    else:\n",
    "        x1 = -2*c /  (b+delta2**0.5) # possible cancellation in the denominator if b<0\n",
    "        x2 =  2*c / (-b+delta2**0.5) # possible cancellation in the denominator if b>0\n",
    "        return(x1, x2)\n",
    "   \n",
    "    \n",
    "def QuadEqStable(a, b, c):\n",
    "    delta2 = b**2 - 4*a*c\n",
    "    if(delta2 < 0): return(False)\n",
    "    else:\n",
    "        if(b<0):\n",
    "            x1 =  2*c / (-b+delta2**0.5)    # avoids cancellation in the denominator\n",
    "            x2 = (-b + delta2**0.5) / (2*a) # avoids cancellation in the numerator\n",
    "        else:\n",
    "            x1 =  -2*c / (b+delta2**0.5)    # avoids cancellation in the denominator\n",
    "            x2 = (-b - delta2**0.5) / (2*a) # avoids cancellation in the numerator\n",
    "        return(x1, x2)\n",
    " \n",
    "a = 0.001\n",
    "b = 1000\n",
    "c = 0.001\n",
    "\n",
    "print(\"Standard method:\")\n",
    "x1, x2 = QuadEqStandard(a, b, c)\n",
    "print(\"x1 =\", x1, \"\\nx2 =\", x2)\n",
    "print(\"\\n---\\n\")\n",
    "print(\"Modified method:\")\n",
    "x1, x2 = QuadEqMod(a, b, c)\n",
    "print(\"x1 =\", x1, \"\\nx2 =\", x2)\n",
    "print(\"\\n---\\n\")\n",
    "print(\"Stable method:\")\n",
    "x1, x2 = QuadEqStable(a, b, c)\n",
    "print(\"x1 =\", x1, \"\\nx2 =\", x2)"
   ]
  },
  {
   "cell_type": "markdown",
   "metadata": {},
   "source": [
    "6\\. Write a program that implements the function $f(x)=x(x−1)$\n",
    "\n",
    "(a) Calculate the derivative of the function at the point $x = 1$ using the derivative definition:\n",
    "\n",
    "$$\n",
    "\\frac{{\\rm d}f}{{\\rm d}x} = \\lim_{\\delta\\to0} \\frac{f(x+\\delta)-f(x)}{\\delta}\n",
    "$$\n",
    "\n",
    "with $\\delta = 10^{−2}$. Calculate the true value of the same derivative analytically and compare with the answer your program gives. The two will not agree perfectly. Why not?\n",
    "\n",
    "(b) Repeat the calculation for $\\delta = 10^{−4}, 10^{−6}, 10^{−8}, 10^{−10}, 10^{−12}$ and $10^{−14}$. How does the accuracy scales with $\\delta$?"
   ]
  },
  {
   "cell_type": "code",
   "execution_count": 5,
   "metadata": {},
   "outputs": [
    {
     "name": "stdout",
     "output_type": "stream",
     "text": [
      "Analytical results (in x=1) = 1\n",
      "delta | Derivative | Accuracy\n",
      "0.01 | 1.010000000000001 | 0.010000000000000897\n",
      "0.0001 | 1.0000999999998899 | 9.999999988985486e-05\n",
      "1e-06 | 1.0000009999177333 | 9.99917733279787e-07\n",
      "1e-07 | 1.0000001005838672 | 1.0058386723521551e-07\n",
      "1e-08 | 1.0000000039225287 | 3.922528746258536e-09\n",
      "1e-10 | 1.000000082840371 | 8.284037100736441e-08\n",
      "1e-12 | 1.0000889005833413 | 8.890058334132256e-05\n",
      "1e-14 | 0.9992007221626509 | 0.0007992778373491216\n"
     ]
    }
   ],
   "source": [
    "def func(x):\n",
    "    return(x*(x-1))\n",
    "\n",
    "print(\"Analytical results (in x=1) =\", 1)\n",
    "delta = [1e-02, 1e-04, 1e-06, 1e-07, 1e-08, 1e-10, 1e-12, 1e-14]\n",
    "print(\"delta\", \"|\", \"Derivative\", \"|\", \"Accuracy\")\n",
    "for d in delta:\n",
    "    der = (func(1 + d) - func(1)) / d\n",
    "    accuracy = abs(1 - der) / 1\n",
    "    print(d, \"|\", der, \"|\", accuracy)"
   ]
  },
  {
   "cell_type": "markdown",
   "metadata": {},
   "source": [
    "7\\. Consider the integral of the semicircle of radius 1:\n",
    "$$\n",
    "I=\\int_{-1}^{1} \\sqrt(1-x^2) {\\rm d}x\n",
    "$$\n",
    "which it's known to be $I=\\frac{\\pi}{2}=1.57079632679...$.\n",
    "Alternatively we can use the Riemann definition of the integral:\n",
    "$$\n",
    "I=\\lim_{N\\to\\infty} \\sum_{k=1}^{N} h y_k \n",
    "$$\n",
    "\n",
    "with $h=2/N$ the width of each of the $N$ slices the domain is divided into and where\n",
    "$y_k$ is the value of the function at the $k-$th slice.\n",
    "\n",
    "(a) Write a programe to compute the integral with $N=100$. How does the result compares to the true value?\n",
    "\n",
    "(b) How much can $N$ be increased if the computation needs to be run in less than a second? What is the gain in running it for 1 minute? \n"
   ]
  },
  {
   "cell_type": "code",
   "execution_count": 2,
   "metadata": {
    "scrolled": true
   },
   "outputs": [
    {
     "name": "stdout",
     "output_type": "stream",
     "text": [
      "True value = 1.5707963267948966\n",
      "\n",
      "---\n",
      "\n",
      "N = 100\n",
      "Calculated value = 1.5691342555492505\n",
      "Time to calculate the value = 5.620499996439321e-05 seconds\n",
      "Accuracy = 0.0010581074180619238\n",
      "\n",
      "---\n",
      "\n",
      "N = 1900000\n",
      "Calculated value = 1.570796326159916\n",
      "Time to calculate the value = 1.0613501039999846 seconds\n",
      "Accuracy = 4.0424114939874914e-10\n",
      "\n",
      "---\n",
      "\n",
      "N = 109000000\n",
      "Calculated value = 1.5707963267933651\n",
      "Time to calculate the value = 63.73090360600008 seconds\n",
      "Accuracy = 9.7494602835795e-13\n"
     ]
    }
   ],
   "source": [
    "from math import pi\n",
    "import timeit\n",
    "\n",
    "def func(x):\n",
    "    return((1 - x**2)**0.5)\n",
    "\n",
    "def Integral(N):\n",
    "    integral = 0\n",
    "    h = 2/N\n",
    "    for k in range(1, N):\n",
    "        integral = integral + h*func(-1 + k*h)\n",
    "    return(integral)\n",
    "\n",
    "print(\"True value =\", pi/2)\n",
    "print(\"\\n---\\n\")\n",
    "\n",
    "N = 100\n",
    "integral = Integral(N)\n",
    "accuracy = abs(pi/2 - integral) / (pi/2)\n",
    "time = timeit.timeit('Integral(N)', number = 1, globals = globals())\n",
    "print(\"N =\", N)\n",
    "print(\"Calculated value =\", integral)\n",
    "print(\"Time to calculate the value =\", time, \"seconds\")\n",
    "print(\"Accuracy =\", accuracy)\n",
    "print(\"\\n---\\n\")\n",
    "\n",
    "N = int(1e06)\n",
    "\n",
    "while(time <= 1):\n",
    "    N = int(N + 1e05)\n",
    "    time = timeit.timeit('Integral(N)', number = 1, globals = globals())\n",
    "    \n",
    "integral = Integral(N)\n",
    "accuracy = abs(pi/2 - integral) / (pi/2)\n",
    "print(\"N =\", N)\n",
    "print(\"Calculated value =\", integral)\n",
    "print(\"Time to calculate the value =\", time, \"seconds\")\n",
    "print(\"Accuracy =\", accuracy)\n",
    "print(\"\\n---\\n\")\n",
    "\n",
    "N = int(9e07)\n",
    "\n",
    "while(time <= 60):\n",
    "    N = int(N + 1e06)\n",
    "    time = timeit.timeit('Integral(N)', number = 1, globals = globals())\n",
    "    \n",
    "integral = Integral(N)\n",
    "accuracy = abs(pi/2 - integral) / (pi/2)\n",
    "print(\"N =\", N)\n",
    "print(\"Calculated value =\", integral)\n",
    "print(\"Time to calculate the value =\", time, \"seconds\")\n",
    "print(\"Accuracy =\", accuracy)\n"
   ]
  },
  {
   "cell_type": "code",
   "execution_count": null,
   "metadata": {},
   "outputs": [],
   "source": []
  }
 ],
 "metadata": {
  "kernelspec": {
   "display_name": "Python 3",
   "language": "python",
   "name": "python3"
  },
  "language_info": {
   "codemirror_mode": {
    "name": "ipython",
    "version": 3
   },
   "file_extension": ".py",
   "mimetype": "text/x-python",
   "name": "python",
   "nbconvert_exporter": "python",
   "pygments_lexer": "ipython3",
   "version": "3.7.1"
  }
 },
 "nbformat": 4,
 "nbformat_minor": 2
}
