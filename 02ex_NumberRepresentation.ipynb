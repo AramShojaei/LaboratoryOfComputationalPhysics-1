{
 "cells": [
  {
   "cell_type": "markdown",
   "metadata": {},
   "source": [
    "1\\. Write a function that converts number representation (bin<->dec<->hex)"
   ]
  },
  {
   "cell_type": "code",
   "execution_count": 19,
   "metadata": {},
   "outputs": [
    {
     "name": "stdout",
     "output_type": "stream",
     "text": [
      "83\n",
      "1111011\n",
      "8388607\n"
     ]
    }
   ],
   "source": [
    "\n",
    "def rappr_to_10(x,base):\n",
    "    num=0\n",
    "    power=len(x)-1\n",
    "    for c in x:\n",
    "        if c==\"A\":\n",
    "            c=10\n",
    "        elif c==\"B\":\n",
    "            c=11\n",
    "        elif c==\"C\":\n",
    "            c=12\n",
    "        elif c==\"D\":\n",
    "            c=13\n",
    "        elif c==\"E\":\n",
    "            c=14\n",
    "        elif c==\"F\":\n",
    "            c=15\n",
    "\n",
    "        if int(c)>=base:\n",
    "            return \"il numero non e' valido\"\n",
    "        num+=base**power*int(c)\n",
    "        power -= 1\n",
    "    return str(num)\n",
    "    \n",
    "def convert_from_10(x,base):\n",
    "    num=int(x)\n",
    "    l=\"\"\n",
    "    while num>=base:\n",
    "        resto=num%base\n",
    "        num=int((num-resto)/base)\n",
    "    \n",
    "        if resto==\"A\":\n",
    "            resto=10\n",
    "        elif resto==\"B\":\n",
    "            resto=11\n",
    "        elif resto==\"C\":\n",
    "            resto=12\n",
    "        elif resto==\"D\":\n",
    "            resto=13\n",
    "        elif resto==\"E\":\n",
    "            resto=14\n",
    "        elif resto==\"F\":\n",
    "            resto=15\n",
    "        l=str(resto)+l #la stringa aggiunge il numero davanti non in fondo\n",
    "    resto=num%base\n",
    "    l=str(resto)+l\n",
    "    num=(num-resto)/base\n",
    "    return l\n",
    "        \n",
    "print(convert_from_10(\"123\",15))\n",
    "print(rappr_to_10(convert_from_10(\"123\",2),10))\n",
    "print(rappr_to_10(\"11111111111111111111111\",2))"
   ]
  },
  {
   "cell_type": "markdown",
   "metadata": {},
   "source": [
    "2\\. Write a function that converts a 32 bit word into a single precision floating point (i.e. interprets the various bits as sign, mantissa and exponent)"
   ]
  },
  {
   "cell_type": "code",
   "execution_count": 57,
   "metadata": {},
   "outputs": [
    {
     "name": "stdout",
     "output_type": "stream",
     "text": [
      "-22352.666015625\n"
     ]
    }
   ],
   "source": [
    "num=3333333333\n",
    "mask_sgn=2147483648\n",
    "mask_exp=2139095040\n",
    "mask_mant=8388607\n",
    "\n",
    "sgn=num & mask_sgn\n",
    "exp= num & mask_exp\n",
    "mant= num & mask_mant\n",
    "\n",
    "\n",
    "sgn=sgn>>31   #sposto i bit di 31 posizioni a destra\n",
    "#print(sgn)\n",
    "exp>>=23 #sposto i bit di 23 posizioni a destra\n",
    "#print(exp)\n",
    "\n",
    "#non c'è bisogno di shiftare mant\n",
    "\n",
    "exp-=127 #devo togliere il bias all'esponente\n",
    "\n",
    "mantnew=(mant+2**23)/(2**23) #devo ricordarmi che la matissa è definita con un 1,... davanti che corrisponde a un 2^23\n",
    "\n",
    "n=(-1)**sgn*(((mantnew)*2**(exp)))\n",
    "\n",
    "    \n",
    "print(n)"
   ]
  },
  {
   "cell_type": "markdown",
   "metadata": {},
   "source": [
    "3\\. Write a program to determine the underflow and overflow limits (within a factor of 2) for python on your computer. \n",
    "\n",
    "**Tips**: define two variables inizialized to 1 and halve/double them enough time to exceed the under/over-flow limits  "
   ]
  },
  {
   "cell_type": "code",
   "execution_count": 32,
   "metadata": {},
   "outputs": [
    {
     "name": "stdout",
     "output_type": "stream",
     "text": [
      "underflow limit is  5e-324\n",
      "1024\n",
      "overflow limit is  8.98846567431158e+307\n"
     ]
    }
   ],
   "source": [
    "uf=1\n",
    "of=1\n",
    "\n",
    "def underflow(x):\n",
    "    i=0\n",
    "    while x!=0:\n",
    "        x/=2\n",
    "        i+=1\n",
    "    return i\n",
    "\n",
    "\n",
    "print(\"underflow limit is \", uf/(2**(underflow(uf)-1)))\n",
    "\n",
    "\n",
    "def overflow(x):\n",
    "    i=0\n",
    "    y=float(x)\n",
    "    while y<y*2:\n",
    "        y*=2\n",
    "        i+=1\n",
    "    print(i)\n",
    "    return i\n",
    "\n",
    "f=float(2**(overflow(of)-1))\n",
    "print(\"overflow limit is \", f)\n"
   ]
  },
  {
   "cell_type": "markdown",
   "metadata": {},
   "source": [
    "4\\. Write a program to determine the machine precision\n",
    "\n",
    "**Tips**: define a new variable by adding a smaller and smaller value (proceeding similarly to prob. 2) to an original variable and check the point where the two are the same "
   ]
  },
  {
   "cell_type": "markdown",
   "metadata": {},
   "source": [
    "5\\. Write a function that takes in input three parameters $a$, $b$ and $c$ and prints out the two solutions to the quadratic equation $ax^2+bx+c=0$ using the standard formula:\n",
    "$$\n",
    "x=\\frac{-b\\pm\\sqrt{b^2-4ac}}{2a}\n",
    "$$\n",
    "\n",
    "(a) use the program to compute the solution for $a=0.001$, $b=1000$ and $c=0.001$\n",
    "\n",
    "(b) re-express the standard solution formula by multiplying top and bottom by $-b\\mp\\sqrt{b^2-4ac}$ and again find the solution for $a=0.001$, $b=1000$ and $c=0.001$. How does it compare with what previously obtained? Why?\n",
    "\n",
    "(c) write a function that compute the roots of a quadratic equation accurately in all cases"
   ]
  },
  {
   "cell_type": "markdown",
   "metadata": {},
   "source": [
    "6\\. Write a program that implements the function $f(x)=x(x−1)$\n",
    "\n",
    "(a) Calculate the derivative of the function at the point $x = 1$ using the derivative definition:\n",
    "\n",
    "$$\n",
    "\\frac{{\\rm d}f}{{\\rm d}x} = \\lim_{\\delta\\to0} \\frac{f(x+\\delta)-f(x)}{\\delta}\n",
    "$$\n",
    "\n",
    "with $\\delta = 10^{−2}$. Calculate the true value of the same derivative analytically and compare with the answer your program gives. The two will not agree perfectly. Why not?\n",
    "\n",
    "(b) Repeat the calculation for $\\delta = 10^{−4}, 10^{−6}, 10^{−8}, 10^{−10}, 10^{−12}$ and $10^{−14}$. How does the accuracy scales with $\\delta$?"
   ]
  },
  {
   "cell_type": "markdown",
   "metadata": {},
   "source": [
    "7\\. Consider the integral of the semicircle of radius 1:\n",
    "$$\n",
    "I=\\int_{-1}^{1} \\sqrt(1-x^2) {\\rm d}x\n",
    "$$\n",
    "which it's known to be $I=\\frac{\\pi}{2}=1.57079632679...$.\n",
    "Alternatively we can use the Riemann definition of the integral:\n",
    "$$\n",
    "I=\\lim_{N\\to\\infty} \\sum_{k=1}^{N} h y_k \n",
    "$$\n",
    "\n",
    "with $h=2/N$ the width of each of the $N$ slices the domain is divided into and where\n",
    "$y_k$ is the value of the function at the $k-$th slice.\n",
    "\n",
    "(a) Write a programe to compute the integral with $N=100$. How does the result compares to the true value?\n",
    "\n",
    "(b) How much can $N$ be increased if the computation needs to be run in less than a second? What is the gain in running it for 1 minute? \n"
   ]
  },
  {
   "cell_type": "code",
   "execution_count": null,
   "metadata": {
    "collapsed": true
   },
   "outputs": [],
   "source": []
  }
 ],
 "metadata": {
  "kernelspec": {
   "display_name": "Python 3",
   "language": "python",
   "name": "python3"
  },
  "language_info": {
   "codemirror_mode": {
    "name": "ipython",
    "version": 3
   },
   "file_extension": ".py",
   "mimetype": "text/x-python",
   "name": "python",
   "nbconvert_exporter": "python",
   "pygments_lexer": "ipython3",
   "version": "3.6.5"
  }
 },
 "nbformat": 4,
 "nbformat_minor": 2
}
