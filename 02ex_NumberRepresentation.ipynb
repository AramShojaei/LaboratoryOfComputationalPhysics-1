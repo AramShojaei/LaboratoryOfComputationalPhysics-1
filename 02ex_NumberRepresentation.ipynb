{
 "cells": [
  {
   "cell_type": "markdown",
   "metadata": {},
   "source": [
    "1\\. Write a function that converts number representation (bin<->dec<->hex)"
   ]
  },
  {
   "cell_type": "code",
   "execution_count": 94,
   "metadata": {
    "ExecuteTime": {
     "end_time": "2018-11-04T20:31:17.147866Z",
     "start_time": "2018-11-04T20:31:17.128907Z"
    },
    "collapsed": true
   },
   "outputs": [],
   "source": [
    "def bin_to_dec(x):\n",
    "    dec = 0\n",
    "    for i,j in enumerate(list(str(x))[::-1]):\n",
    "        dec += int(j)*2**(int(i))\n",
    "    return dec\n",
    "\n",
    "def dec_to_bin(x):\n",
    "    binary = \"\"\n",
    "    while x:\n",
    "        if x & 1 == 1:\n",
    "            binary += \"1\"\n",
    "        else:\n",
    "            binary += \"0\"\n",
    "        x //= 2\n",
    "    return binary[::-1]"
   ]
  },
  {
   "cell_type": "markdown",
   "metadata": {},
   "source": [
    "2\\. Write a function that converts a 32 bit word into a single precision floating point (i.e. interprets the various bits as sign, mantissa and exponent)"
   ]
  },
  {
   "cell_type": "code",
   "execution_count": 44,
   "metadata": {
    "ExecuteTime": {
     "end_time": "2018-11-04T20:02:27.900585Z",
     "start_time": "2018-11-04T20:02:27.860677Z"
    },
    "collapsed": true
   },
   "outputs": [],
   "source": [
    "def to_float(x, debug=False):\n",
    "    \"\"\"\n",
    "    Conversion from any given integer, treated as a 32 bit word, to the correponding single-precision floating-point number.\n",
    "    No special cases (Nan, inf, ...) are considered.\n",
    "    \"\"\"\n",
    "    read_sign = 1<<31 # '0b10000000000000000000000000000000'\n",
    "    sign = (-1)**((read_sign & x)>>31)\n",
    "    \n",
    "    read_exp = 255<<23 # '0b1111111100000000000000000000000'\n",
    "    exp = (x & read_exp)>>23\n",
    "    exp = 2**(exp-127)\n",
    "    \n",
    "    read_mantissa = 8388607 # x23 1's '0b11111111111111111111111'\n",
    "    mantissa = x & read_mantissa\n",
    "    # fraction computation\n",
    "    fraction = 0.\n",
    "    for j,i in enumerate(list(bin(mantissa)[2:]), start=1):\n",
    "        fraction += int(i)*2**(-j)\n",
    "    mantissa = 1 + fraction\n",
    "    \n",
    "    if debug == True:\n",
    "        print('Sign: ',sign)\n",
    "        print('Exp: ',exp)\n",
    "        print('Mantissa: ',mantissa,' from ', bin(x & read_mantissa))\n",
    "    \n",
    "    return sign*exp*mantissa\n",
    "        "
   ]
  },
  {
   "cell_type": "code",
   "execution_count": 45,
   "metadata": {
    "ExecuteTime": {
     "end_time": "2018-11-04T20:02:29.101766Z",
     "start_time": "2018-11-04T20:02:29.079823Z"
    }
   },
   "outputs": [
    {
     "name": "stdout",
     "output_type": "stream",
     "text": [
      "Sign:  1\n",
      "Exp:  2\n",
      "Mantissa:  1.5707963705062866  from  0b10010010000111111011011\n"
     ]
    },
    {
     "data": {
      "text/plain": [
       "3.1415927410125732"
      ]
     },
     "execution_count": 45,
     "metadata": {},
     "output_type": "execute_result"
    }
   ],
   "source": [
    "#pi = \"0 10000000 10010010000111111011011\"\n",
    "int_pi = int(\"01000000010010010000111111011011\",2)\n",
    "to_float(int_pi,debug=True)\n"
   ]
  },
  {
   "cell_type": "markdown",
   "metadata": {},
   "source": [
    "3\\. Write a program to determine the underflow and overflow limits (within a factor of 2) for python on your computer. \n",
    "\n",
    "**Tips**: define two variables inizialized to 1 and halve/double them enough time to exceed the under/over-flow limits  "
   ]
  },
  {
   "cell_type": "code",
   "execution_count": 11,
   "metadata": {},
   "outputs": [
    {
     "name": "stdout",
     "output_type": "stream",
     "text": [
      "Underflow, numbers of iterations:  1075 ; result  0.0\n",
      "0.0000000000000000000000000000000000000000000000000000000000000000000000000000000000000000000000000000\n",
      "Overflow, numbers of iterations:  53 ; result  9007199254740992.0\n"
     ]
    }
   ],
   "source": [
    "under = 1.\n",
    "counter = 0\n",
    "\n",
    "while under != 0:\n",
    "    under/=2.\n",
    "    counter+=1\n",
    "print('Underflow, numbers of iterations: ', counter, '; result ',under)\n",
    "print(format(under,'.100f'))\n",
    "\n",
    "over = 1.\n",
    "counter = 0\n",
    "while over+1 != over:\n",
    "    over*=2.\n",
    "    counter+=1\n",
    "print('Overflow, numbers of iterations: ', counter, '; result ', over)    "
   ]
  },
  {
   "cell_type": "markdown",
   "metadata": {},
   "source": [
    "4\\. Write a program to determine the machine precision\n",
    "\n",
    "**Tips**: define a new variable by adding a smaller and smaller value (proceeding similarly to prob. 2) to an original variable and check the point where the two are the same "
   ]
  },
  {
   "cell_type": "code",
   "execution_count": 5,
   "metadata": {},
   "outputs": [
    {
     "name": "stdout",
     "output_type": "stream",
     "text": [
      "Machine Precision:  1.0000000000000001e-16 = (1/10)** 16\n"
     ]
    }
   ],
   "source": [
    "a = 1.\n",
    "b = 1.\n",
    "counter = 0\n",
    "\n",
    "while a+b != a:\n",
    "    b/=10.\n",
    "    counter+=1\n",
    "print('Machine Precision: ', b, '= (1/10)**', counter)"
   ]
  },
  {
   "cell_type": "markdown",
   "metadata": {},
   "source": [
    "5\\. Write a function that takes in input three parameters $a$, $b$ and $c$ and prints out the two solutions to the quadratic equation $ax^2+bx+c=0$ using the standard formula:\n",
    "$$\n",
    "x=\\frac{-b\\pm\\sqrt{b^2-4ac}}{2a}\n",
    "$$\n",
    "\n",
    "(a) use the program to compute the solution for $a=0.001$, $b=1000$ and $c=0.001$\n",
    "\n",
    "(b) re-express the standard solution formula by multiplying top and bottom by $-b\\mp\\sqrt{b^2-4ac}$ and again find the solution for $a=0.001$, $b=1000$ and $c=0.001$. How does it compare with what previously obtained? Why?\n",
    "\n",
    "(c) write a function that compute the roots of a quadratic equation accurately in all cases"
   ]
  },
  {
   "cell_type": "code",
   "execution_count": 23,
   "metadata": {},
   "outputs": [
    {
     "name": "stdout",
     "output_type": "stream",
     "text": [
      "a) -9.999894245993346e-07 -999999.999999\n",
      "b) -9.999894245993346e-07 -999999.9999990001\n",
      "c) -0.00000100 -1.00E+6\n"
     ]
    }
   ],
   "source": [
    "import math\n",
    "from decimal import Decimal as D\n",
    "\n",
    "def quad_eq(a,b,c):\n",
    "    delta = math.sqrt(b**2-4*a*c)\n",
    "    return ((-b+delta)/(2*a),(-b-delta)/(2*a))\n",
    "\n",
    "def quad_eq_v2(a,b,c):\n",
    "    delta = math.sqrt(b**2-4*a*c)\n",
    "    return ( ((-b+delta)*(-b-delta)) / ((2*a)*(-b-delta)) , ((-b-delta)*(-b+delta)) / ((2*a)*(-b+delta)) )\n",
    "\n",
    "def quad_eq_v3(x,y,z):\n",
    "    a = D(x)\n",
    "    b = D(y)\n",
    "    c = D(z)\n",
    "    delta = D.sqrt((b**2-4*a*c))\n",
    "    x1 = D((-b+delta)/(2*a))\n",
    "    x2 = D((-b-delta)/(2*a))\n",
    "    return format(x1,'.3'), format(x2,'.3')\n",
    "\n",
    "# a \n",
    "x1,x2 = quad_eq(0.001,1000,0.001)\n",
    "print('a)',x1,x2)\n",
    "\n",
    "# b \n",
    "x1,x2 = quad_eq_v2(0.001,1000,0.001)\n",
    "print('b)',x1,x2)\n",
    "\n",
    "# c \n",
    "x1,x2 = quad_eq_v3(0.001,1000,0.001)\n",
    "print('c)',x1,x2)"
   ]
  },
  {
   "cell_type": "markdown",
   "metadata": {},
   "source": [
    "6\\. Write a program that implements the function $f(x)=x(x−1)$\n",
    "\n",
    "(a) Calculate the derivative of the function at the point $x = 1$ using the derivative definition:\n",
    "\n",
    "$$\n",
    "\\frac{{\\rm d}f}{{\\rm d}x} = \\lim_{\\delta\\to0} \\frac{f(x+\\delta)-f(x)}{\\delta}\n",
    "$$\n",
    "\n",
    "with $\\delta = 10^{−2}$. Calculate the true value of the same derivative analytically and compare with the answer your program gives. The two will not agree perfectly. Why not?\n",
    "\n",
    "(b) Repeat the calculation for $\\delta = 10^{−4}, 10^{−6}, 10^{−8}, 10^{−10}, 10^{−12}$ and $10^{−14}$. How does the accuracy scales with $\\delta$?"
   ]
  },
  {
   "cell_type": "code",
   "execution_count": 11,
   "metadata": {},
   "outputs": [
    {
     "name": "stdout",
     "output_type": "stream",
     "text": [
      "Delta:  0.0001 , f'(x=1) =  1.0000999999998899\n",
      "Delta:  1e-06 , f'(x=1) =  1.0000009999177333\n",
      "Delta:  1e-08 , f'(x=1) =  1.0000000039225287\n",
      "Delta:  1e-10 , f'(x=1) =  1.000000082840371\n",
      "Delta:  1e-12 , f'(x=1) =  1.0000889005833413\n",
      "Delta:  1e-14 , f'(x=1) =  0.9992007221626509\n"
     ]
    }
   ],
   "source": [
    "def f(x):\n",
    "    return x*(x-1.)\n",
    "\n",
    "for delta in [1.*10**(-x) for x in [2*y for y in range(2,8)]]:\n",
    "    der = (f(1.+delta)-f(1.))/delta # should be 2x-1 => f'(x=1)=1\n",
    "    print(\"Delta: \",delta, \", f'(x=1) = \",der)"
   ]
  },
  {
   "cell_type": "markdown",
   "metadata": {},
   "source": [
    "7\\. Consider the integral of the semicircle of radius 1:\n",
    "$$\n",
    "I=\\int_{-1}^{1} \\sqrt(1-x^2) {\\rm d}x\n",
    "$$\n",
    "which it's known to be $I=\\frac{\\pi}{2}=1.57079632679...$.\n",
    "Alternatively we can use the Riemann definition of the integral:\n",
    "$$\n",
    "I=\\lim_{N\\to\\infty} \\sum_{k=1}^{N} h y_k \n",
    "$$\n",
    "\n",
    "with $h=2/N$ the width of each of the $N$ slices the domain is divided into and where\n",
    "$y_k$ is the value of the function at the $k-$th slice.\n",
    "\n",
    "(a) Write a programe to compute the integral with $N=100$. How does the result compares to the true value?\n",
    "\n",
    "(b) How much can $N$ be increased if the computation needs to be run in less than a second? What is the gain in running it for 1 minute? \n"
   ]
  },
  {
   "cell_type": "code",
   "execution_count": 1,
   "metadata": {},
   "outputs": [
    {
     "name": "stdout",
     "output_type": "stream",
     "text": [
      "Riemann:  1.5707887863930305 with N =  208800\n",
      "Difference with true value 7.5404018660130134e-06\n",
      "0.9420897392081997 seconds\n"
     ]
    },
    {
     "data": {
      "text/plain": [
       "0.9422138993671254"
      ]
     },
     "execution_count": 1,
     "metadata": {},
     "output_type": "execute_result"
    }
   ],
   "source": [
    "import math\n",
    "import numpy as np\n",
    "import time \n",
    "\n",
    "def semicirc(x):\n",
    "    return math.sqrt(1.-x**2)\n",
    "\n",
    "def Riemann(N=100, output=False):\n",
    "    start = time.clock()\n",
    "    h = 2/N\n",
    "    I = 0.\n",
    "    for i in np.linspace(-1,1,N):\n",
    "            I+=h*semicirc(i)\n",
    "    if output == True:\n",
    "        print(\"Riemann: \",I,'with N = ',N)\n",
    "        print(\"Difference with true value\", np.fabs(I - math.pi/2))\n",
    "        print(time.clock() - start, \"seconds\")\n",
    "    return time.clock() - start\n",
    "\n",
    "N = 200000\n",
    "while Riemann(N) < 1:\n",
    "    N+=100\n",
    "\n",
    "Riemann(N,True)"
   ]
  },
  {
   "cell_type": "code",
   "execution_count": 5,
   "metadata": {},
   "outputs": [
    {
     "name": "stdout",
     "output_type": "stream",
     "text": [
      "Riemann:  1.5707962640901023 with N =  25056000\n",
      "Difference with true value 6.270479424586028e-08\n",
      "65.27988089158086 seconds\n"
     ]
    },
    {
     "data": {
      "text/plain": [
       "65.28008227850532"
      ]
     },
     "execution_count": 5,
     "metadata": {},
     "output_type": "execute_result"
    }
   ],
   "source": [
    "Riemann(N*120,True)"
   ]
  },
  {
   "cell_type": "code",
   "execution_count": null,
   "metadata": {
    "collapsed": true
   },
   "outputs": [],
   "source": []
  }
 ],
 "metadata": {
  "kernelspec": {
   "display_name": "Python 3",
   "language": "python",
   "name": "python3"
  },
  "language_info": {
   "codemirror_mode": {
    "name": "ipython",
    "version": 3
   },
   "file_extension": ".py",
   "mimetype": "text/x-python",
   "name": "python",
   "nbconvert_exporter": "python",
   "pygments_lexer": "ipython3",
   "version": "3.6.3"
  },
  "varInspector": {
   "cols": {
    "lenName": 16,
    "lenType": 16,
    "lenVar": 40
   },
   "kernels_config": {
    "python": {
     "delete_cmd_postfix": "",
     "delete_cmd_prefix": "del ",
     "library": "var_list.py",
     "varRefreshCmd": "print(var_dic_list())"
    },
    "r": {
     "delete_cmd_postfix": ") ",
     "delete_cmd_prefix": "rm(",
     "library": "var_list.r",
     "varRefreshCmd": "cat(var_dic_list()) "
    }
   },
   "types_to_exclude": [
    "module",
    "function",
    "builtin_function_or_method",
    "instance",
    "_Feature"
   ],
   "window_display": false
  }
 },
 "nbformat": 4,
 "nbformat_minor": 2
}
