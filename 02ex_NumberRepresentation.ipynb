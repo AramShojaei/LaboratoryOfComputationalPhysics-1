{
 "cells": [
  {
   "cell_type": "markdown",
   "metadata": {},
   "source": [
    "1\\. Write a function that converts number representation (bin<->dec<->hex)"
   ]
  },
  {
   "cell_type": "code",
   "execution_count": 43,
   "metadata": {
    "scrolled": false
   },
   "outputs": [
    {
     "name": "stdout",
     "output_type": "stream",
     "text": [
      "decimal representation of 110111100:      444\n",
      "binary representation of 444:             110111100\n",
      "binary representation of 1BC:             110111100\n",
      "haexadecimal representation of 110111100: 1BC\n",
      "haexadecimal representation of 444:       1BC\n",
      "decimal representation of 1BC:            444\n"
     ]
    }
   ],
   "source": [
    "def str_reverse(string): \n",
    "    string = \"\".join(reversed(string)) \n",
    "    return string \n",
    "\n",
    "\n",
    "def bintodec(B):\n",
    "    D = 0\n",
    "    for i in range(0, len(B)):\n",
    "            D = D + int(B[i])*2**(len(B)-i-1)\n",
    "    return str(D)\n",
    "        \n",
    "print(\"decimal representation of 110111100:     \", bintodec('110111100'))\n",
    "\n",
    "\n",
    "\n",
    "def dectobin(D):\n",
    "    D=int(D)\n",
    "    B = \"\"\n",
    "    while abs(D) > 1:\n",
    "        B = B + str(D%2)\n",
    "        D = D//2\n",
    "    B = str_reverse(B + \"1\")\n",
    "    return str(B)\n",
    "\n",
    "print(\"binary representation of 444:            \", dectobin(\"444\"))\n",
    "    \n",
    "\n",
    "\n",
    "\n",
    "def hextobin(H):\n",
    "    B = \"\"\n",
    "    b = \"\"\n",
    "    for h in H:\n",
    "        if h == \"0\":\n",
    "            b = \"0000\"\n",
    "        elif h == \"1\":\n",
    "            b = \"0001\"\n",
    "        elif h == \"2\":\n",
    "            b = \"0010\"\n",
    "        elif h == \"3\":\n",
    "            b = \"0011\"\n",
    "        elif h == \"4\":\n",
    "            b = \"0100\"\n",
    "        elif h == \"5\":\n",
    "            b = \"0101\"\n",
    "        elif h == \"6\":\n",
    "            b = \"0110\"\n",
    "        elif h == \"7\":\n",
    "            b = \"0111\"\n",
    "        elif h == \"8\":\n",
    "            b = \"1000\"\n",
    "        elif h == \"9\":\n",
    "            b = \"1001\"\n",
    "        elif h == \"A\":\n",
    "            b = \"1010\"\n",
    "        elif h == \"B\":\n",
    "            b = \"1011\"\n",
    "        elif h == \"C\":\n",
    "            b = \"1100\"\n",
    "        elif h == \"D\":\n",
    "            b = \"1101\"\n",
    "        elif h == \"E\":\n",
    "            b = \"1110\"\n",
    "        elif h == \"F\":\n",
    "            b = \"1111\"\n",
    "        B = B+b\n",
    "    for i in range(0, len(B)-1):\n",
    "        if (B[i] != \"0\"): \n",
    "            break\n",
    "    B = B[i:]\n",
    "    \n",
    "    return B\n",
    "\n",
    "print(\"binary representation of 1BC:            \", hextobin(\"1BC\"))\n",
    "\n",
    "def bintohex(B):\n",
    "    H = \"\"\n",
    "    B4 = []\n",
    "    b_less = \"\"\n",
    "    B = reverse(B)\n",
    "    for i in range(3, len(B)-(len(B)-1)%4, 4):\n",
    "        B4.append(str(B[i]) +str(B[i-1]) + str(B[i-2]) + str(B[i-3]) )\n",
    "    x = i\n",
    "    for i in range(x+1, len(B)):\n",
    "        b_less= b_less + str(B[i])\n",
    "    B4.append(b_less)    \n",
    "    h = \"\"\n",
    "    for b in B4:\n",
    "        if b == \"0000\" or b == \"000\" or b == \"00\" or b == \"0\":\n",
    "            h = \"0\"\n",
    "        elif b == \"0001\" or b == \"001\" or b == \"01\" or b == \"1\":\n",
    "            h = \"1\"\n",
    "        elif b == \"0010\" or b == \"010\" or b == \"10\":\n",
    "            h = \"2\"\n",
    "        elif b == \"0011\" or b == \"011\" or b == \"11\":\n",
    "            h = \"3\"\n",
    "        elif b == \"0100\" or b == \"100\":\n",
    "            h = \"4\"\n",
    "        elif b == \"0101\" or b == \"101\":\n",
    "            h = \"5\"\n",
    "        elif b == \"0110\" or b == \"110\":\n",
    "            h = \"6\"\n",
    "        elif b == \"0111\" or b == \"111\":\n",
    "            h = \"7\"\n",
    "        elif b == \"1000\":\n",
    "            h = \"8\"\n",
    "        elif b == \"1001\":\n",
    "            h = \"9\"\n",
    "        elif b == \"1010\":\n",
    "            h = \"A\"\n",
    "        elif b == \"1011\":\n",
    "            h = \"B\"\n",
    "        elif b == \"1100\":\n",
    "            h = \"C\"\n",
    "        elif b == \"1101\":\n",
    "            h = \"D\"\n",
    "        elif b == \"1110\":\n",
    "            h = \"E\"\n",
    "        elif b == \"1111\":\n",
    "            h = \"F\"\n",
    "        H = H+h\n",
    "    H = str_reverse(H)\n",
    "    return H\n",
    "\n",
    "print(\"haexadecimal representation of 110111100:\", bintohex(\"110111100\"))   \n",
    "\n",
    "def dectohex(D):\n",
    "    H = bintohex(dectobin(D))\n",
    "    return H\n",
    "            \n",
    "print(\"haexadecimal representation of 444:      \", dectohex(\"444\"))\n",
    "\n",
    "def hextodec(H):\n",
    "    D = bintodec(hextobin(H))\n",
    "    return(D)\n",
    "\n",
    "print(\"decimal representation of 1BC:           \", hextodec(\"1BC\"))\n"
   ]
  },
  {
   "cell_type": "markdown",
   "metadata": {},
   "source": [
    "2\\. Write a function that converts a 32 bit word into a single precision floating point (i.e. interprets the various bits as sign, mantissa and exponent)"
   ]
  },
  {
   "cell_type": "code",
   "execution_count": 390,
   "metadata": {},
   "outputs": [
    {
     "data": {
      "text/plain": [
       "3.141592502593994"
      ]
     },
     "execution_count": 390,
     "metadata": {},
     "output_type": "execute_result"
    }
   ],
   "source": [
    "def SingleFloat(x):\n",
    "    sign = x >> 31\n",
    "    exponent = (x & 0x7F800000) >> 23\n",
    "    N = bin(x & 0x007FFFFF)\n",
    "    mantissa = 1.\n",
    "    for i in range(2, len(N)-1):\n",
    "        mantissa = mantissa + int(N[i])*2**(-i-24+len(N))\n",
    "    xfloat = (-1)**sign*mantissa*2**(exponent-127)\n",
    "    return xfloat\n",
    "    \n",
    "SingleFloat(0b01000000010010010000111111011011)\n",
    "\n"
   ]
  },
  {
   "cell_type": "markdown",
   "metadata": {},
   "source": [
    "3\\. Write a program to determine the underflow and overflow limits (within a factor of 2) for python on your computer. \n",
    "\n",
    "**Tips**: define two variables inizialized to 1 and halve/double them enough time to exceed the under/over-flow limits  \n"
   ]
  },
  {
   "cell_type": "code",
   "execution_count": 11,
   "metadata": {},
   "outputs": [
    {
     "name": "stdout",
     "output_type": "stream",
     "text": [
      "Underflow occurred after 5e-324\n",
      "Overflow occurred after  8.98846567431158e+307\n"
     ]
    }
   ],
   "source": [
    "over = 1.\n",
    "under = 1.\n",
    "\n",
    "while under/2 > 0.:\n",
    "    under = under/2\n",
    "    if under/2 == 0.:\n",
    "        print('Underflow occurred after', under)\n",
    "\n",
    "while over*2 < float(\"inf\"):\n",
    "    over = over*2\n",
    "    if over*2 == float(\"inf\"):\n",
    "        print('Overflow occurred after ', over)"
   ]
  },
  {
   "cell_type": "markdown",
   "metadata": {},
   "source": [
    "4\\. Write a program to determine the machine precision\n",
    "\n",
    "**Tips**: define a new variable by adding a smaller and smaller value (proceeding similarly to prob. 2) to an original variable and check the point where the two are the same "
   ]
  },
  {
   "cell_type": "code",
   "execution_count": 1,
   "metadata": {},
   "outputs": [
    {
     "name": "stdout",
     "output_type": "stream",
     "text": [
      "5e-324\n"
     ]
    }
   ],
   "source": [
    "x = 0.\n",
    "i = 1\n",
    "while  x + 1/i > x:\n",
    "    i = 2*i\n",
    "    if x + 1/i == x:\n",
    "        print(2/i)\n"
   ]
  },
  {
   "cell_type": "markdown",
   "metadata": {},
   "source": [
    "5\\. Write a function that takes in input three parameters $a$, $b$ and $c$ and prints out the two solutions to the quadratic equation $ax^2+bx+c=0$ using the standard formula:\n",
    "$$\n",
    "x=\\frac{-b\\pm\\sqrt{b^2-4ac}}{2a}\n",
    "$$\n",
    "\n",
    "(a) use the program to compute the solution for $a=0.001$, $b=1000$ and $c=0.001$\n",
    "\n",
    "(b) re-express the standard solution formula by multiplying top and bottom by $-b\\mp\\sqrt{b^2-4ac}$ and again find the solution for $a=0.001$, $b=1000$ and $c=0.001$. How does it compare with what previously obtained? Why?\n",
    "\n",
    "(c) write a function that compute the roots of a quadratic equation accurately in all cases"
   ]
  },
  {
   "cell_type": "code",
   "execution_count": 5,
   "metadata": {},
   "outputs": [
    {
     "name": "stdout",
     "output_type": "stream",
     "text": [
      "(-9.999894245993346e-07, -999999.999999)\n",
      "(-1.000000000001e-06, -1000010.5755125057)\n",
      "(-1.000000000001e-06, -999999.9999989999)\n",
      "1.999978849198669e-09\n"
     ]
    }
   ],
   "source": [
    "import math\n",
    "import numpy as np\n",
    "\n",
    "#a\n",
    "\n",
    "def Solv(a, b, c):\n",
    "    x1 = (-b + math.sqrt(b**2-4*a*c))/(2*a)\n",
    "    x2 = (-b - math.sqrt(b**2-4*a*c))/(2*a)\n",
    "    return x1, x2\n",
    "\n",
    "print(Solv(0.001, 1000, 0.001))\n",
    "\n",
    "\n",
    "\n",
    "#b\n",
    "\n",
    "def Solv1(a, b, c):\n",
    "    x1 = -2*c/(b + math.sqrt(b**2-4*a*c))\n",
    "    x2 = -2*c/(b - math.sqrt(b**2-4*a*c))\n",
    "    return x1, x2\n",
    "\n",
    "print(Solv1(0.001, 1000, 0.001))\n",
    "\n",
    "\n",
    "def SolvStable(a, b, c):\n",
    "    x1 = -2*c/(b + np.sign(b)*math.sqrt(b**2-4*a*c))\n",
    "    x2 = c/(a*x1)\n",
    "    return x1, x2\n",
    "\n",
    "print(SolvStable(0.001, 1000, 0.001))\n",
    "\n",
    "print(1000 - np.sqrt(1000**2-4*0.001*0.001))"
   ]
  },
  {
   "cell_type": "markdown",
   "metadata": {},
   "source": [
    "The first function gives a precise result for the solution correspondent to $+\\sqrt{(\\Delta)}$ while the second in more precise for the other solution $-\\sqrt{(\\Delta)}$. This happens because subraction of a nearly equal quantities is not precise. The stable  algorithm calculates directly the solution for which the sign of $\\sqrt{(\\Delta)}$ is the same of b, the other by the property $x_1x_2 = c/a$"
   ]
  },
  {
   "cell_type": "markdown",
   "metadata": {},
   "source": [
    "6\\. Write a program that implements the function $f(x)=x(x−1)$\n",
    "\n",
    "(a) Calculate the derivative of the function at the point $x = 1$ using the derivative definition:\n",
    "\n",
    "$$\n",
    "\\frac{{\\rm d}f}{{\\rm d}x} = \\lim_{\\delta\\to0} \\frac{f(x+\\delta)-f(x)}{\\delta}\n",
    "$$\n",
    "\n",
    "with $\\delta = 10^{−2}$. Calculate the true value of the same derivative analytically and compare with the answer your program gives. The two will not agree perfectly. Why not?\n",
    "\n",
    "(b) Repeat the calculation for $\\delta = 10^{−4}, 10^{−6}, 10^{−8}, 10^{−10}, 10^{−12}$ and $10^{−14}$. How does the accuracy scales with $\\delta$?"
   ]
  },
  {
   "cell_type": "code",
   "execution_count": 52,
   "metadata": {},
   "outputs": [
    {
     "name": "stdout",
     "output_type": "stream",
     "text": [
      "0.010000000000000897\n",
      "9.999999988985486e-05\n",
      "9.99917733279787e-07\n",
      "3.922528746258536e-09\n",
      "8.284037100736441e-08\n",
      "8.890058334132256e-05\n",
      "-0.0007992778373491216\n"
     ]
    },
    {
     "data": {
      "image/png": "[encoded data removed]",
      "text/plain": [
       "<Figure size 432x288 with 1 Axes>"
      ]
     },
     "metadata": {
      "needs_background": "light"
     },
     "output_type": "display_data"
    },
    {
     "data": {
      "image/png": "[encoded data removed]",
      "text/plain": [
       "<Figure size 432x288 with 1 Axes>"
      ]
     },
     "metadata": {
      "needs_background": "light"
     },
     "output_type": "display_data"
    },
    {
     "data": {
      "image/png": "[encoded data removed]",
      "text/plain": [
       "<Figure size 432x288 with 1 Axes>"
      ]
     },
     "metadata": {
      "needs_background": "light"
     },
     "output_type": "display_data"
    }
   ],
   "source": [
    "%matplotlib inline\n",
    "import matplotlib.pyplot as plt\n",
    "import numpy as np\n",
    "\n",
    "def f(x):\n",
    "    return x*(x-1.)\n",
    "\n",
    "def derivative(f, x0, delta):\n",
    "    return (f(x0 + delta) - f(x0))/delta\n",
    "\n",
    "print(derivative(f, 1., 1e-2)-1)\n",
    "print(derivative(f, 1., 1e-4)-1)\n",
    "print(derivative(f, 1., 1e-6)-1)\n",
    "print(derivative(f, 1., 1e-8)-1)\n",
    "print(derivative(f, 1., 1e-10)-1)\n",
    "print(derivative(f, 1., 1e-12)-1)\n",
    "print(derivative(f, 1., 1e-14)-1)\n",
    "\n",
    "x = np.arange(1e-14, 1e-11, 1e-14)\n",
    "y = np.arange(1e-11, 1e-7, 1e-11)\n",
    "z = np.arange(1e-6, 1e-2, 1e-6)\n",
    "\n",
    "plt.plot(x, derivative(f, 1., x)-1, 'r-')\n",
    "plt.ylabel('error')\n",
    "plt.xlabel('delta')\n",
    "plt.show()\n",
    "plt.plot(y, derivative(f, 1., y)-1, 'r-')\n",
    "plt.ylabel('error')\n",
    "plt.xlabel('delta')\n",
    "plt.show()\n",
    "plt.plot(z, derivative(f, 1., z)-1, 'r-')\n",
    "plt.ylabel('error')\n",
    "plt.xlabel('delta')\n",
    "plt.show()\n",
    "\n"
   ]
  },
  {
   "cell_type": "markdown",
   "metadata": {},
   "source": [
    "The error oscillates around zero between $\\delta = 10^{-14}$ and $\\delta = 10^{-8}$; the oscillation becomes smaller as $\\delta$ increases. After $\\delta = 10^{-8}$ the error increases linearly with $\\delta$ "
   ]
  },
  {
   "cell_type": "markdown",
   "metadata": {},
   "source": [
    "7\\. Consider the integral of the semicircle of radius 1:\n",
    "$$\n",
    "I=\\int_{-1}^{1} \\sqrt(1-x^2) {\\rm d}x\n",
    "$$\n",
    "which it's known to be $I=\\frac{\\pi}{2}=1.57079632679...$.\n",
    "Alternatively we can use the Riemann definition of the integral:\n",
    "$$\n",
    "I=\\lim_{N\\to\\infty} \\sum_{k=1}^{N} h y_k \n",
    "$$\n",
    "\n",
    "with $h=2/N$ the width of each of the $N$ slices the domain is divided into and where\n",
    "$y_k$ is the value of the function at the $k-$th slice.\n",
    "\n",
    "(a) Write a programe to compute the integral with $N=100$. How does the result compares to the true value?\n",
    "\n",
    "(b) How much can $N$ be increased if the computation needs to be run in less than a second? What is the gain in running it for 1 minute? \n"
   ]
  },
  {
   "cell_type": "code",
   "execution_count": 5,
   "metadata": {},
   "outputs": [
    {
     "name": "stdout",
     "output_type": "stream",
     "text": [
      "computation error:  9.821921054253835e-12\n",
      "computation time:   58.34877014160156\n"
     ]
    }
   ],
   "source": [
    "import numpy as np\n",
    "import time\n",
    "\n",
    "N = 30000000\n",
    "I = 0\n",
    "\n",
    "start = time.time()\n",
    "for i in range(N):\n",
    "    hdx = (2/N)*np.sqrt(1.-(-1+2*i/N)**2)\n",
    "    \n",
    "    I = I + hdx\n",
    "\n",
    "end = time.time()\n",
    "\n",
    "\n",
    "\n",
    "\n",
    "print(\"computation error: \", abs(I-np.pi/2))\n",
    "\n",
    "print(\"computation time:  \", end-start)\n",
    "\n"
   ]
  },
  {
   "cell_type": "markdown",
   "metadata": {},
   "source": [
    "a) N can be increased nearly up to $ 5.3-5.4\\times 10^5 $ the error is of order $10^{-9}$ \n",
    "\n",
    "b) About 2 orders of magnitude"
   ]
  },
  {
   "cell_type": "code",
   "execution_count": 67,
   "metadata": {},
   "outputs": [
    {
     "data": {
      "image/png": "[encoded data removed]",
      "text/plain": [
       "<Figure size 432x288 with 1 Axes>"
      ]
     },
     "metadata": {
      "needs_background": "light"
     },
     "output_type": "display_data"
    },
    {
     "data": {
      "image/png": "[encoded data removed]",
      "text/plain": [
       "<Figure size 432x288 with 1 Axes>"
      ]
     },
     "metadata": {
      "needs_background": "light"
     },
     "output_type": "display_data"
    }
   ],
   "source": [
    "%matplotlib inline\n",
    "import matplotlib.pyplot as plt\n",
    "import numpy as np\n",
    "import time\n",
    "\n",
    "error = []\n",
    "times = []\n",
    "iterations = []\n",
    "\n",
    "for N in range(1000, 100000, 1000):\n",
    "    start = time.time()\n",
    "    I = 0.\n",
    "    for i in range(N):\n",
    "        hdx = (2/N)*np.sqrt(1.-(-1+2*i/N)**2)\n",
    "    \n",
    "        I = I + hdx\n",
    "    end = time.time()\n",
    "    times.append(end-start)\n",
    "    error.append(abs(I-np.pi/2))\n",
    "    iterations.append(N)\n",
    "\n",
    "plt.plot(iterations, times, 'r-')\n",
    "plt.xlabel('N')\n",
    "plt.ylabel('computation time')\n",
    "plt.show()\n",
    "\n",
    "plt.plot(iterations, error, 'r-')\n",
    "plt.xlabel('N')\n",
    "plt.ylabel('error')\n",
    "plt.show()\n"
   ]
  },
  {
   "cell_type": "code",
   "execution_count": null,
   "metadata": {},
   "outputs": [],
   "source": []
  }
 ],
 "metadata": {
  "kernelspec": {
   "display_name": "Python 3",
   "language": "python",
   "name": "python3"
  },
  "language_info": {
   "codemirror_mode": {
    "name": "ipython",
    "version": 3
   },
   "file_extension": ".py",
   "mimetype": "text/x-python",
   "name": "python",
   "nbconvert_exporter": "python",
   "pygments_lexer": "ipython3",
   "version": "3.7.0"
  }
 },
 "nbformat": 4,
 "nbformat_minor": 2
}
