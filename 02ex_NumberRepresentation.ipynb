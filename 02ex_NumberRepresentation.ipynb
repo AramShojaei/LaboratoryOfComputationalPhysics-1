{
 "cells": [
  {
   "cell_type": "markdown",
   "metadata": {},
   "source": [
    "1\\. Write a function that converts number representation (bin<->dec<->hex)"
   ]
  },
  {
   "cell_type": "code",
   "execution_count": 1,
   "metadata": {},
   "outputs": [
    {
     "name": "stdout",
     "output_type": "stream",
     "text": [
      "1123\n",
      "163\n"
     ]
    }
   ],
   "source": [
    "def rappr_to_10(stringa, base):\n",
    "    num = 0\n",
    "    power = len(stringa) - 1\n",
    "    for c in stringa:\n",
    "        if c == \"A\":\n",
    "            c = 10\n",
    "        if c == \"B\":\n",
    "            c = 11\n",
    "        if c == \"C\":\n",
    "            c = 12\n",
    "        if c == \"D\":\n",
    "            c = 13\n",
    "        if c == \"E\":\n",
    "            c = 14\n",
    "        if c == \"F\":\n",
    "            c = 15\n",
    "\n",
    "        if int(c) >= base:\n",
    "            return \"The number is not valid in this representation\"\n",
    "\n",
    "        num += base**power * int(c)\n",
    "        power -= 1\n",
    "    return str(num)\n",
    "\n",
    "def convert_from_10(stringa, base):\n",
    "    num = int(stringa)\n",
    "    l = \"\"\n",
    "    while num >= base:\n",
    "        resto = num%base\n",
    "        num = int((num - resto)/base)\n",
    "        if resto == 10:\n",
    "            resto = \"A\"\n",
    "        if resto == 11:\n",
    "            resto = \"B\"\n",
    "        if resto == 12:\n",
    "            resto = \"C\"\n",
    "        if resto == 13:\n",
    "            resto = \"D\"\n",
    "        if resto == 14:\n",
    "            resto = \"E\"\n",
    "        if resto == 15:\n",
    "            resto = \"F\"\n",
    "        l = str(resto) + l\n",
    "\n",
    "\n",
    "    resto = num%base\n",
    "\n",
    "    if resto == 10:\n",
    "         resto = \"A\"\n",
    "    if resto == 11:\n",
    "        resto = \"B\"\n",
    "    if resto == 12:\n",
    "        resto = \"C\"\n",
    "    if resto == 13:\n",
    "        resto = \"D\"\n",
    "    if resto == 14:\n",
    "        resto = \"E\"\n",
    "    if resto == 15:\n",
    "        resto = \"F\"\n",
    "\n",
    "    l = str(resto) + l\n",
    "\n",
    "    return l\n",
    "\n",
    "\n",
    "print(convert_from_10(\"163\", 5))\n",
    "\n",
    "print(rappr_to_10(convert_from_10(\"163\", 5), 5))"
   ]
  },
  {
   "cell_type": "markdown",
   "metadata": {},
   "source": [
    "2\\. Write a function that converts a 32 bit word into a single precision floating point (i.e. interprets the various bits as sign, mantissa and exponent)"
   ]
  },
  {
   "cell_type": "code",
   "execution_count": 22,
   "metadata": {},
   "outputs": [
    {
     "name": "stdout",
     "output_type": "stream",
     "text": [
      "-22352.666015625\n"
     ]
    }
   ],
   "source": [
    "\"\"\"\n",
    "# PROVE VARIE\n",
    "print(rappr_to_10(\"11111111111111111111111111111111\", 2))\n",
    "max_ = 2**32-1\n",
    "# max = 4294967295\n",
    "print(max_)\n",
    "\"\"\"\n",
    "\n",
    "def double_num(num_ins):\n",
    "    mask_sign = int(rappr_to_10(\"10000000000000000000000000000000\", 2))\n",
    "    mask_exp  = int(rappr_to_10(\"01111111100000000000000000000000\", 2))\n",
    "    mask_mant = int(rappr_to_10(\"00000000011111111111111111111111\", 2))\n",
    "\n",
    "    # print(mask_sign, '\\t', mask_exp, '\\t', mask_mant)\n",
    "\n",
    "    # num_prova = int(3333333333)    # Testing a number with sign -\n",
    "    num_prova = int(num_ins)\n",
    "\n",
    "    sign_ = num_prova & mask_sign\n",
    "    exp_  = num_prova & mask_exp\n",
    "    mant_ = num_prova & mask_mant\n",
    "\n",
    "    # TEST VARI\n",
    "    # print(sign_, '\\t', exp_, '\\t', mant_)\n",
    "    # convert_from_10(12345678, 2)\n",
    "\n",
    "    sign_ >>= 31        # Moving sign_ to the first bit, where it will be 0 or 1\n",
    "    # print(sign_)      # Testing sign_\n",
    "    exp_ >>= 23         # Moving exp to the firsts 8 bits, so I can work with it\n",
    "    exp_ -= (127)       # Adding bias\n",
    "    # print(exp_)\n",
    "    # mant_ >>= 0       # NO NEED TO SHIFT mant_\n",
    "\n",
    "    # N.B.: NEED TO DIVIDE FOR 2^(-23) TO HAVE THE CORRECT MANTISS\n",
    "    num_ = ((-1)**sign_) * ( mant_*(2**(exp_-23)) + 2**(exp_) )\n",
    "\n",
    "    return(num_)\n",
    "\n",
    "print(double_num(3333333333))"
   ]
  },
  {
   "cell_type": "code",
   "execution_count": 76,
   "metadata": {},
   "outputs": [
    {
     "name": "stdout",
     "output_type": "stream",
     "text": [
      "00000000000000000000000000000001\n",
      "00000000000000000000000000000000\n",
      "00000000000000000000000000000000\n",
      "0\n",
      "-2.0\n"
     ]
    }
   ],
   "source": [
    "# CELLA ERRATA!!! (non più modificata...)\n",
    "\n",
    "# use masks\n",
    "# use effective bits, not strings... (int from 0 to 2147483647 (which is 2**31 - 1))\n",
    "\n",
    "prova = \"00000000000000000000000000000001\"\n",
    "s =     \"00000000000000000000000000000001\"\n",
    "expo =  \"00000000000000000000000111111110\"\n",
    "mant =  \"11111111111111111111111000000000\"\n",
    "\n",
    "def and_str(stringa, mask):\n",
    "    app = \"\"\n",
    "    if len(stringa) != len(mask):\n",
    "        return \"Strings ha not the same langht\"\n",
    "    for c1, c2 in zip(stringa, mask):\n",
    "        app = app + str(int(c1)*int(c2))        \n",
    "    return app\n",
    "\n",
    "\n",
    "nums = and_str(prova, s)\n",
    "\n",
    "print(nums)\n",
    "\n",
    "numexpo = and_str(prova, expo)\n",
    "\n",
    "print(numexpo)\n",
    "\n",
    "nummant = and_str(prova, mant)\n",
    "\n",
    "print(nummant)\n",
    "\n",
    "\n",
    "expo_bin = \"\"\n",
    "\n",
    "for c in range (23, 32):\n",
    "    expo_bin += numexpo[c]\n",
    "\n",
    "expo_ = int(rappr_to_10(expo_bin, 2))\n",
    "\n",
    "print(expo_)\n",
    "\n",
    "num_str = \"\"\n",
    "\n",
    "for c in range(0, 23):\n",
    "    num_str += nummant[c]\n",
    "\n",
    "    \n",
    "num_ = 0\n",
    "for c in range(0, 23):\n",
    "    num_ = int(rappr_to_10((num_str), 2)) / (2**23)\n",
    "\n",
    "num_ += 2**(expo_+1)\n",
    "\n",
    "\n",
    "if int(nums[31]) == 1:\n",
    "    num_ *= -1\n",
    "\n",
    "print(num_)\n"
   ]
  },
  {
   "cell_type": "markdown",
   "metadata": {},
   "source": [
    "3\\. Write a program to determine the underflow and overflow limits (within a factor of 2) for python on your computer. \n",
    "\n",
    "**Tips**: define two variables inizialized to 1 and halve/double them enough time to exceed the under/over-flow limits  "
   ]
  },
  {
   "cell_type": "code",
   "execution_count": 8,
   "metadata": {},
   "outputs": [
    {
     "name": "stdout",
     "output_type": "stream",
     "text": [
      "Overflow doubled  1024  times.\n",
      "8.98846567431158e+307\n",
      "Underflow halved  1075  times.\n",
      "Underflow:  5e-324\n"
     ]
    }
   ],
   "source": [
    "uf = 1\n",
    "cont_uf = 0\n",
    "of = float(1)\n",
    "cont_of = 0\n",
    "\n",
    "while uf != 0:\n",
    "    uf /= 2\n",
    "    cont_uf += 1\n",
    "    \n",
    "while of < 2*of:\n",
    "    app = of\n",
    "    of *= 2\n",
    "    cont_of += 1\n",
    "\n",
    "print(\"Overflow doubled \", cont_of, \" times.\")\n",
    "\n",
    "print(app)    # N.B.: app is not the maximum value...\n",
    "\n",
    "print(\"Underflow halved \", cont_uf, \" times.\")\n",
    "\n",
    "print(\"Underflow: \", 2**-(cont_uf-1))"
   ]
  },
  {
   "cell_type": "markdown",
   "metadata": {},
   "source": [
    "4\\. Write a program to determine the machine precision\n",
    "\n",
    "**Tips**: define a new variable by adding a smaller and smaller value (proceeding similarly to prob. 2) to an original variable and check the point where the two are the same "
   ]
  },
  {
   "cell_type": "code",
   "execution_count": 21,
   "metadata": {},
   "outputs": [
    {
     "name": "stdout",
     "output_type": "stream",
     "text": [
      "2.220446049250313e-16\n"
     ]
    }
   ],
   "source": [
    "num = 1.\n",
    "eps = 1.\n",
    "\n",
    "while num != num + eps:\n",
    "    eps /= 2\n",
    "\n",
    "eps *= 2    # Serve il penultimo epsilon, poiché l'ultimo è quello che diventa irrilevante\n",
    "\n",
    "print(eps)"
   ]
  },
  {
   "cell_type": "markdown",
   "metadata": {},
   "source": [
    "5\\. Write a function that takes in input three parameters $a$, $b$ and $c$ and prints out the two solutions to the quadratic equation $ax^2+bx+c=0$ using the standard formula:\n",
    "$$\n",
    "x=\\frac{-b\\pm\\sqrt{b^2-4ac}}{2a}\n",
    "$$\n",
    "\n",
    "(a) use the program to compute the solution for $a=0.001$, $b=1000$ and $c=0.001$\n",
    "\n",
    "(b) re-express the standard solution formula by multiplying top and bottom by $-b\\mp\\sqrt{b^2-4ac}$ and again find the solution for $a=0.001$, $b=1000$ and $c=0.001$. How does it compare with what previously obtained? Why?\n",
    "\n",
    "(c) write a function that compute the roots of a quadratic equation accurately in all cases"
   ]
  },
  {
   "cell_type": "code",
   "execution_count": 28,
   "metadata": {},
   "outputs": [
    {
     "name": "stdout",
     "output_type": "stream",
     "text": [
      "[-9.999894245993346e-07, -999999.999999]\n",
      "[-1.0000000000009999e-06, -1000010.5755125057]\n",
      "[-1.0000000000009999e-06, -999999.999999]\n",
      "[999999.999999, 1.0000000000009999e-06]\n"
     ]
    }
   ],
   "source": [
    "def solut_square(a, b, c):\n",
    "    x1 = (-b + pow(b**2 - 4*a*c , 0.5))/(2*a)\n",
    "    x2 = (-b - pow(b**2 - 4*a*c , 0.5))/(2*a)\n",
    "    solut = [x1, x2]\n",
    "    return solut\n",
    "\n",
    "a_test = 0.001\n",
    "b_test = 1000\n",
    "c_test = 0.001\n",
    "\n",
    "sols = solut_square(a_test, b_test, c_test)\n",
    "\n",
    "print(sols)\n",
    "\n",
    "def solut_alternative(a, b, c):\n",
    "    x1 = 4*a*c/(2*a*(-b - pow(b**2 - 4*a*c , 0.5)))\n",
    "    x2 = 4*a*c/(2*a*(-b + pow(b**2 - 4*a*c , 0.5)))\n",
    "    solut = [x1, x2]\n",
    "    return solut\n",
    "\n",
    "sols_altern = solut_alternative(a_test, b_test, c_test)\n",
    "print(sols_altern)\n",
    "\n",
    "def solut_correct(a, b, c):\n",
    "    if b>0:\n",
    "        x2 = (-b - pow(b**2 - 4*a*c , 0.5))/(2*a)\n",
    "        x1 = 4*a*c/(2*a*(-b - pow(b**2 - 4*a*c , 0.5)))\n",
    "        sols = [x1, x2]\n",
    "    else:\n",
    "        x1 = (-b + pow(b**2 - 4*a*c , 0.5))/(2*a)\n",
    "        x2 = 4*a*c/(2*a*(-b + pow(b**2 - 4*a*c , 0.5)))\n",
    "        sols = [x1, x2]\n",
    "    return sols\n",
    "\n",
    "\n",
    "sols_correct = solut_correct(a_test, b_test, c_test)\n",
    "print(sols_correct)\n",
    "sols_correct = solut_correct(a_test, -b_test, c_test)    # Test con b<0\n",
    "print(sols_correct)"
   ]
  },
  {
   "cell_type": "markdown",
   "metadata": {},
   "source": [
    "6\\. Write a program that implements the function $f(x)=x(x−1)$\n",
    "\n",
    "(a) Calculate the derivative of the function at the point $x = 1$ using the derivative definition:\n",
    "\n",
    "$$\n",
    "\\frac{{\\rm d}f}{{\\rm d}x} = \\lim_{\\delta\\to0} \\frac{f(x+\\delta)-f(x)}{\\delta}\n",
    "$$\n",
    "\n",
    "with $\\delta = 10^{−2}$. Calculate the true value of the same derivative analytically and compare with the answer your program gives. The two will not agree perfectly. Why not?\n",
    "\n",
    "(b) Repeat the calculation for $\\delta = 10^{−4}, 10^{−6}, 10^{−8}, 10^{−10}, 10^{−12}$ and $10^{−14}$. How does the accuracy scales with $\\delta$?"
   ]
  },
  {
   "cell_type": "markdown",
   "metadata": {},
   "source": [
    "(a) The true anwer is:\n",
    "\n",
    "$ \\frac{{\\rm d}f}{{\\rm d}x} \\big\\vert_{x=1} = \\frac{{\\rm d}}{{\\rm d}x} (x^2 - x) \\big\\vert_{x=1} = 2x - 1 \\big\\vert_{x=1} = 1 $"
   ]
  },
  {
   "cell_type": "code",
   "execution_count": 20,
   "metadata": {},
   "outputs": [
    {
     "name": "stdout",
     "output_type": "stream",
     "text": [
      "1.010000000000001 \n",
      "\n",
      "δ =  0.01 . Il risultato è:  1.010000000000001 , con un'accuratezza di:  -0.010000000000000897\n",
      "δ =  0.0001 . Il risultato è:  1.0000999999998899 , con un'accuratezza di:  -9.999999988985486e-05\n",
      "δ =  1e-06 . Il risultato è:  1.0000009999177333 , con un'accuratezza di:  -9.99917733279787e-07\n",
      "δ =  1e-08 . Il risultato è:  1.0000000039225287 , con un'accuratezza di:  -3.922528746258536e-09\n",
      "δ =  1e-10 . Il risultato è:  1.000000082840371 , con un'accuratezza di:  -8.284037100736441e-08\n",
      "δ =  1e-12 . Il risultato è:  1.0000889005833413 , con un'accuratezza di:  -8.890058334132256e-05\n",
      "δ =  1e-14 . Il risultato è:  0.9992007221626509 , con un'accuratezza di:  0.0007992778373491216\n",
      "\n",
      "Ora provo con un passo diverso (pura intuizione, voglio solo provare...) \n",
      "\n",
      "δ =  0.25 . Il risultato è:  1.25 , con un'accuratezza di:  -0.25\n",
      "δ =  0.25 . Il risultato alternativo è:  1.25 , con un'accuratezza di:  -0.25\n",
      "δ =  0.0625 . Il risultato è:  1.0625 , con un'accuratezza di:  -0.0625\n",
      "δ =  0.0625 . Il risultato alternativo è:  1.0625 , con un'accuratezza di:  -0.0625\n",
      "δ =  0.015625 . Il risultato è:  1.015625 , con un'accuratezza di:  -0.015625\n",
      "δ =  0.015625 . Il risultato alternativo è:  1.015625 , con un'accuratezza di:  -0.015625\n",
      "δ =  0.00390625 . Il risultato è:  1.00390625 , con un'accuratezza di:  -0.00390625\n",
      "δ =  0.00390625 . Il risultato alternativo è:  1.00390625 , con un'accuratezza di:  -0.00390625\n",
      "δ =  0.0009765625 . Il risultato è:  1.0009765625 , con un'accuratezza di:  -0.0009765625\n",
      "δ =  0.0009765625 . Il risultato alternativo è:  1.0009765625 , con un'accuratezza di:  -0.0009765625\n",
      "δ =  0.000244140625 . Il risultato è:  1.000244140625 , con un'accuratezza di:  -0.000244140625\n",
      "δ =  0.000244140625 . Il risultato alternativo è:  1.000244140625 , con un'accuratezza di:  -0.000244140625\n",
      "δ =  6.103515625e-05 . Il risultato è:  1.00006103515625 , con un'accuratezza di:  -6.103515625e-05\n",
      "δ =  6.103515625e-05 . Il risultato alternativo è:  1.00006103515625 , con un'accuratezza di:  -6.103515625e-05\n",
      "δ =  1.52587890625e-05 . Il risultato è:  1.0000152587890625 , con un'accuratezza di:  -1.52587890625e-05\n",
      "δ =  1.52587890625e-05 . Il risultato alternativo è:  1.0000152587890625 , con un'accuratezza di:  -1.52587890625e-05\n",
      "δ =  3.814697265625e-06 . Il risultato è:  1.0000038146972656 , con un'accuratezza di:  -3.814697265625e-06\n",
      "δ =  3.814697265625e-06 . Il risultato alternativo è:  1.0000038146972656 , con un'accuratezza di:  -3.814697265625e-06\n",
      "δ =  9.5367431640625e-07 . Il risultato è:  1.0000009536743164 , con un'accuratezza di:  -9.5367431640625e-07\n",
      "δ =  9.5367431640625e-07 . Il risultato alternativo è:  1.0000009536743164 , con un'accuratezza di:  -9.5367431640625e-07\n",
      "δ =  2.384185791015625e-07 . Il risultato è:  1.000000238418579 , con un'accuratezza di:  -2.384185791015625e-07\n",
      "δ =  2.384185791015625e-07 . Il risultato alternativo è:  1.000000238418579 , con un'accuratezza di:  -2.384185791015625e-07\n",
      "δ =  5.960464477539063e-08 . Il risultato è:  1.0000000596046448 , con un'accuratezza di:  -5.960464477539063e-08\n",
      "δ =  5.960464477539063e-08 . Il risultato alternativo è:  1.0000000596046448 , con un'accuratezza di:  -5.960464477539063e-08\n",
      "δ =  1.4901161193847656e-08 . Il risultato è:  1.0000000149011612 , con un'accuratezza di:  -1.4901161193847656e-08\n",
      "δ =  1.4901161193847656e-08 . Il risultato alternativo è:  1.0000000149011612 , con un'accuratezza di:  -1.4901161193847656e-08\n",
      "δ =  3.725290298461914e-09 . Il risultato è:  1.0000000037252903 , con un'accuratezza di:  -3.725290298461914e-09\n",
      "δ =  3.725290298461914e-09 . Il risultato alternativo è:  1.0000000037252903 , con un'accuratezza di:  -3.725290298461914e-09\n",
      "δ =  9.313225746154785e-10 . Il risultato è:  1.0000000009313226 , con un'accuratezza di:  -9.313225746154785e-10\n",
      "δ =  9.313225746154785e-10 . Il risultato alternativo è:  1.0000000009313226 , con un'accuratezza di:  -9.313225746154785e-10\n",
      "δ =  2.3283064365386963e-10 . Il risultato è:  1.0000000002328306 , con un'accuratezza di:  -2.3283064365386963e-10\n",
      "δ =  2.3283064365386963e-10 . Il risultato alternativo è:  1.0000000002328306 , con un'accuratezza di:  -2.3283064365386963e-10\n",
      "δ =  5.820766091346741e-11 . Il risultato è:  1.0000000000582077 , con un'accuratezza di:  -5.820766091346741e-11\n",
      "δ =  5.820766091346741e-11 . Il risultato alternativo è:  1.0000000000582077 , con un'accuratezza di:  -5.820766091346741e-11\n",
      "δ =  1.4551915228366852e-11 . Il risultato è:  1.000000000014552 , con un'accuratezza di:  -1.4551915228366852e-11\n",
      "δ =  1.4551915228366852e-11 . Il risultato alternativo è:  1.000000000014552 , con un'accuratezza di:  -1.4551915228366852e-11\n",
      "δ =  3.637978807091713e-12 . Il risultato è:  1.000000000003638 , con un'accuratezza di:  -3.637978807091713e-12\n",
      "δ =  3.637978807091713e-12 . Il risultato alternativo è:  1.000000000003638 , con un'accuratezza di:  -3.637978807091713e-12\n",
      "δ =  9.094947017729282e-13 . Il risultato è:  1.0000000000009095 , con un'accuratezza di:  -9.094947017729282e-13\n",
      "δ =  9.094947017729282e-13 . Il risultato alternativo è:  1.0000000000009095 , con un'accuratezza di:  -9.094947017729282e-13\n",
      "δ =  2.2737367544323206e-13 . Il risultato è:  1.0000000000002274 , con un'accuratezza di:  -2.2737367544323206e-13\n",
      "δ =  2.2737367544323206e-13 . Il risultato alternativo è:  1.0000000000002274 , con un'accuratezza di:  -2.2737367544323206e-13\n",
      "δ =  5.684341886080802e-14 . Il risultato è:  1.0000000000000568 , con un'accuratezza di:  -5.684341886080802e-14\n",
      "δ =  5.684341886080802e-14 . Il risultato alternativo è:  1.0000000000000568 , con un'accuratezza di:  -5.684341886080802e-14\n",
      "δ =  1.4210854715202004e-14 . Il risultato è:  1.0000000000000142 , con un'accuratezza di:  -1.4210854715202004e-14\n",
      "δ =  1.4210854715202004e-14 . Il risultato alternativo è:  1.0000000000000142 , con un'accuratezza di:  -1.4210854715202004e-14\n",
      "δ =  3.552713678800501e-15 . Il risultato è:  1.0000000000000036 , con un'accuratezza di:  -3.552713678800501e-15\n",
      "δ =  3.552713678800501e-15 . Il risultato alternativo è:  1.0000000000000036 , con un'accuratezza di:  -3.552713678800501e-15\n",
      "δ =  8.881784197001252e-16 . Il risultato è:  1.0000000000000009 , con un'accuratezza di:  -8.881784197001252e-16\n",
      "δ =  8.881784197001252e-16 . Il risultato alternativo è:  1.0000000000000009 , con un'accuratezza di:  -8.881784197001252e-16\n",
      "δ =  2.220446049250313e-16 . Il risultato è:  1.0000000000000002 , con un'accuratezza di:  -2.220446049250313e-16\n",
      "δ =  2.220446049250313e-16 . Il risultato alternativo è:  1.0000000000000002 , con un'accuratezza di:  -2.220446049250313e-16\n",
      "δ =  5.551115123125783e-17 . Il risultato è:  0.0 , con un'accuratezza di:  1.0\n",
      "δ =  5.551115123125783e-17 . Il risultato alternativo è:  0.0 , con un'accuratezza di:  1.0\n",
      "δ =  1.3877787807814457e-17 . Il risultato è:  0.0 , con un'accuratezza di:  1.0\n",
      "δ =  1.3877787807814457e-17 . Il risultato alternativo è:  0.0 , con un'accuratezza di:  1.0\n",
      "δ =  3.469446951953614e-18 . Il risultato è:  0.0 , con un'accuratezza di:  1.0\n",
      "δ =  3.469446951953614e-18 . Il risultato alternativo è:  0.0 , con un'accuratezza di:  1.0\n"
     ]
    }
   ],
   "source": [
    "def f(x):\n",
    "    return x*(x-1)\n",
    "\n",
    "x = 1\n",
    "δ = 1e-2\n",
    "der = (f(x+δ) - f(x)) / δ\n",
    "\n",
    "print(der, \"\\n\")\n",
    "\n",
    "for exp in range(2, 15, 2):\n",
    "    δ = 10**(-exp)\n",
    "    der = (f(x+δ) - f(x)) / δ\n",
    "    print(\"δ = \", δ, \". Il risultato è: \", der, \", con un'accuratezza di: \", 1-der)\n",
    "\n",
    "print(\"\\n\" + \"Ora provo con un passo diverso (pura intuizione, voglio solo provare...) \\n\")\n",
    "\n",
    "for exp in range(2, 60, 2):\n",
    "    δ = 2**(-exp)\n",
    "    der = (f(x+δ) - f(x)) / δ\n",
    "    der_better = f(x+δ)/δ - f(x)/δ\n",
    "    print(\"δ = \", δ, \". Il risultato è: \", der, \", con un'accuratezza di: \", 1-der)\n",
    "    print(\"δ = \", δ, \". Il risultato alternativo è: \", der_better, \", con un'accuratezza di: \", 1-der)"
   ]
  },
  {
   "cell_type": "markdown",
   "metadata": {},
   "source": [
    "7\\. Consider the integral of the semicircle of radius 1:\n",
    "$$\n",
    "I=\\int_{-1}^{1} \\sqrt{(1-x^2)} {\\rm d}x = 2 \\int_{0}^{1} \\sqrt{(1-x^2)} {\\rm d}x\n",
    "$$\n",
    "which it's known to be $I=\\frac{\\pi}{2}=1.57079632679...$.\n",
    "Alternatively we can use the Riemann definition of the integral:\n",
    "$$\n",
    "I=\\lim_{N\\to\\infty} \\sum_{k=1}^{N} h y_k \n",
    "$$\n",
    "\n",
    "with $h=2/N$ the width of each of the $N$ slices the domain is divided into and where\n",
    "$y_k$ is the value of the function at the $k-$th slice.\n",
    "\n",
    "(a) Write a program to compute the integral with $N=100$. How does the result compare to the true value?\n",
    "\n",
    "(b) How much can $N$ be increased if the computation needs to be run in less than a second? What is the gain in running it for 1 minute?\n",
    "\n",
    "Answer to (b)\n",
    "\n",
    "It depends on the computer...\n"
   ]
  },
  {
   "cell_type": "code",
   "execution_count": 58,
   "metadata": {},
   "outputs": [
    {
     "name": "stdout",
     "output_type": "stream",
     "text": [
      "41.4 s ± 34.6 ms per loop (mean ± std. dev. of 7 runs, 1 loop each)\n",
      "1.570796326793284\n"
     ]
    }
   ],
   "source": [
    "def f_rad(x):\n",
    "    return pow(1-x*x, 0.5)\n",
    "\n",
    "N = 100000000\n",
    "h = 2/N\n",
    "\n",
    "I = 0\n",
    "\n",
    "def process(n):\n",
    "    I = 0\n",
    "    for i in range(n):\n",
    "        I += h*f_rad(i*h-1.)\n",
    "    return I\n",
    "\n",
    "%timeit process(N)\n",
    "\n",
    "I = process(N)\n",
    "\n",
    "print(I)"
   ]
  },
  {
   "cell_type": "code",
   "execution_count": null,
   "metadata": {
    "collapsed": true
   },
   "outputs": [],
   "source": []
  }
 ],
 "metadata": {
  "kernelspec": {
   "display_name": "Python 3",
   "language": "python",
   "name": "python3"
  },
  "language_info": {
   "codemirror_mode": {
    "name": "ipython",
    "version": 3
   },
   "file_extension": ".py",
   "mimetype": "text/x-python",
   "name": "python",
   "nbconvert_exporter": "python",
   "pygments_lexer": "ipython3",
   "version": "3.6.5"
  }
 },
 "nbformat": 4,
 "nbformat_minor": 2
}
