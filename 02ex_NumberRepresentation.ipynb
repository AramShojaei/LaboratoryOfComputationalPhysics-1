{
 "cells": [
  {
   "cell_type": "markdown",
   "metadata": {},
   "source": [
    "1\\. Write a function that converts number representation (bin<->dec<->hex)"
   ]
  },
  {
   "cell_type": "code",
   "execution_count": 27,
   "metadata": {},
   "outputs": [
    {
     "name": "stdout",
     "output_type": "stream",
     "text": [
      "10010\n",
      "18\n",
      "12\n",
      "10010\n",
      "18\n",
      "12\n",
      "10010\n",
      "18\n",
      "12\n"
     ]
    }
   ],
   "source": [
    "dic=['0','1','2','3','4','5','6','7','8','9','a','b','c','d','e','f']\n",
    "\n",
    "def rep(num,base_output):\n",
    "    s_in=(str)(num)\n",
    "    if s_in[0:2]=='0b':\n",
    "        s_in=s_in[2:]\n",
    "        base_input=2\n",
    "    elif s_in[0:2]=='0x':\n",
    "        s_in=s_in[2:]\n",
    "        base_input=16\n",
    "    else:\n",
    "        base_input=10\n",
    "    num2=0\n",
    "    l=len(s_in)\n",
    "    for i, j in enumerate(s_in):\n",
    "        for k, m in enumerate(dic):\n",
    "            if j==m:\n",
    "                num2+=k*(base_input)**(l-(i+1))\n",
    "    s_out=''\n",
    "    while num2>0:\n",
    "        resto=num2%base_output\n",
    "        s_out=dic[(int)(resto)]+s_out\n",
    "        num2=(num2-resto)/base_output\n",
    "    print(s_out)\n",
    "    \n",
    "rep(18,2)\n",
    "rep(18,10)\n",
    "rep(18,16)\n",
    "rep('0b10010',2)\n",
    "rep('0b10010',10)\n",
    "rep('0b10010',16)\n",
    "rep('0x12',2)\n",
    "rep('0x12',10)\n",
    "rep('0x12',16)"
   ]
  },
  {
   "cell_type": "markdown",
   "metadata": {},
   "source": [
    "2\\. Write a function that converts a 32 bit word into a single precision floating point (i.e. interprets the various bits as sign, mantissa and exponent)"
   ]
  },
  {
   "cell_type": "code",
   "execution_count": 10,
   "metadata": {},
   "outputs": [
    {
     "data": {
      "text/plain": [
       "'00000110'"
      ]
     },
     "execution_count": 10,
     "metadata": {},
     "output_type": "execute_result"
    }
   ],
   "source": [
    "'{0:08b}'.format(6)\n",
    "# 0 -> display from the first character\n",
    "# : -> separator\n",
    "# 0 -> put zero instead of leaving a blank space\n",
    "# 8 -> 8 character \"string\"\n",
    "# b -> binary format\n",
    "# 6 -> display what in decimal format is 6"
   ]
  },
  {
   "cell_type": "code",
   "execution_count": 32,
   "metadata": {},
   "outputs": [
    {
     "name": "stdout",
     "output_type": "stream",
     "text": [
      "3232759808\n",
      "-5.5\n"
     ]
    }
   ],
   "source": [
    "print(int('11000000101100000000000000000000',2))\n",
    "n='{0:032b}'.format(3232759808)\n",
    "e=127 # define the offset\n",
    "sign=int(n[0])\n",
    "exp=n[1:9] # I put 9 instead of 8 because the last one doesn't count\n",
    "exp=int(exp,2) # I directly convert the string in binary format to actual integer\n",
    "mant=n[9:32] # I put 32 instead of 31 because the last one doesn't count\n",
    "l_mant=len(mant)\n",
    "mant=int(mant,2)\n",
    "mant=mant/(2**l_mant)\n",
    "output=((-1)**sign)*(1+mant)*2**(exp-e)\n",
    "print(output)"
   ]
  },
  {
   "cell_type": "markdown",
   "metadata": {},
   "source": [
    "3\\. Write a program to determine the underflow and overflow limits (within a factor of 2) for python on your computer. \n",
    "\n",
    "**Tips**: define two variables inizialized to 1 and halve/double them enough time to exceed the under/over-flow limits  "
   ]
  },
  {
   "cell_type": "code",
   "execution_count": 6,
   "metadata": {},
   "outputs": [
    {
     "name": "stdout",
     "output_type": "stream",
     "text": [
      "5e-324\n",
      "8.98846567431158e+307\n"
     ]
    }
   ],
   "source": [
    "a,b=1.0,1.0\n",
    "for i in range (1074): # dividing by 2 1074 times we still get a reasonable value\n",
    "    a=a/2\n",
    "print(a)\n",
    "for j in range (1023): # multipling by 2 1023 times we still get a reasonable value\n",
    "    b=b*2\n",
    "print(b)"
   ]
  },
  {
   "cell_type": "code",
   "execution_count": 7,
   "metadata": {},
   "outputs": [
    {
     "name": "stdout",
     "output_type": "stream",
     "text": [
      "1075\n",
      "inf\n"
     ]
    }
   ],
   "source": [
    "a=1.0\n",
    "c=0\n",
    "while a!=0: # dividing by 2 1075 times we get 0\n",
    "    c=c+1\n",
    "    a=a/2\n",
    "print(c)"
   ]
  },
  {
   "cell_type": "code",
   "execution_count": 8,
   "metadata": {},
   "outputs": [
    {
     "name": "stdout",
     "output_type": "stream",
     "text": [
      "1024\n"
     ]
    }
   ],
   "source": [
    "a=1.0\n",
    "c=0\n",
    "while a!=float('inf'): # multipling by 2 1024 times we get inf\n",
    "    c=c+1\n",
    "    a=a*2\n",
    "print(c)"
   ]
  },
  {
   "cell_type": "markdown",
   "metadata": {},
   "source": [
    "4\\. Write a program to determine the machine precision\n",
    "\n",
    "**Tips**: define a new variable by adding a smaller and smaller value (proceeding similarly to prob. 2) to an original variable and check the point where the two are the same "
   ]
  },
  {
   "cell_type": "code",
   "execution_count": 56,
   "metadata": {},
   "outputs": [
    {
     "name": "stdout",
     "output_type": "stream",
     "text": [
      "-53\n"
     ]
    }
   ],
   "source": [
    "a=2.0\n",
    "b=3.0\n",
    "c=0\n",
    "while float.hex(a)!=float.hex(b):\n",
    "    a=b\n",
    "    b=b+(2**c)\n",
    "    c=c-1\n",
    "    #print(a,b)\n",
    "print(c) # aggiungendo 2^-53 non si percepisce la differenza\n",
    "#print(2.0==(2.0+(2**-51))) # aggiungendo 2^-51=4*10^-16 si percepisce la differenza\n",
    "#print(2.0==(2.0+(2**-52))) # aggiungendo 2^-52 NON si percepisce la differenza"
   ]
  },
  {
   "cell_type": "code",
   "execution_count": 59,
   "metadata": {},
   "outputs": [
    {
     "name": "stdout",
     "output_type": "stream",
     "text": [
      "3.9999999999999996\n",
      "4.0\n",
      "True\n"
     ]
    }
   ],
   "source": [
    "a=4.0-4*(10**-16)\n",
    "print(a)\n",
    "b=4.0\n",
    "print(b)\n",
    "print(a+2**-51==b)"
   ]
  },
  {
   "cell_type": "markdown",
   "metadata": {},
   "source": [
    "5\\. Write a function that takes in input three parameters $a$, $b$ and $c$ and prints out the two solutions to the quadratic equation $ax^2+bx+c=0$ using the standard formula:\n",
    "$$\n",
    "x=\\frac{-b\\pm\\sqrt{b^2-4ac}}{2a}\n",
    "$$\n",
    "\n",
    "(a) use the program to compute the solution for $a=0.001$, $b=1000$ and $c=0.001$\n",
    "\n",
    "(b) re-express the standard solution formula by multiplying top and bottom by $-b\\mp\\sqrt{b^2-4ac}$ and again find the solution for $a=0.001$, $b=1000$ and $c=0.001$. How does it compare with what previously obtained? Why?\n",
    "\n",
    "(c) write a function that compute the roots of a quadratic equation accurately in all cases"
   ]
  },
  {
   "cell_type": "code",
   "execution_count": 3,
   "metadata": {},
   "outputs": [
    {
     "name": "stdout",
     "output_type": "stream",
     "text": [
      "half wrong answer -> [-9.999894245993346e-07, -999999.999999]\n",
      "half wrong answer -> [-1.0000000000009999e-06, -1000022.1222095027]\n",
      "right answer -> [-1.0000000000009999e-06, -999999.999999]\n"
     ]
    }
   ],
   "source": [
    "import math as m\n",
    "def f1(a,b,c):\n",
    "    return [(-b+m.sqrt(b**2-4*a*c))/(2*a),(-b-m.sqrt(b**2-4*a*c))/(2*a)]\n",
    "print('half wrong answer ->',f1(0.001,1000,0.001))\n",
    "def f2(a,b,c):\n",
    "    return [(4*a*c)/(-2*a*b-2*a*m.sqrt(b**2-4*a*c)),(4*a*c)/(-2*a*b+2*a*m.sqrt(b**2-4*a*c))]\n",
    "print('half wrong answer ->',f2(0.001,1000,0.001))\n",
    "def f3(a,b,c):\n",
    "    return [(4*a*c)/(-2*a*b-2*a*m.sqrt(b**2-4*a*c)),(-b-m.sqrt(b**2-4*a*c))/(2*a)]\n",
    "print('right answer ->',f3(0.001,1000,0.001))"
   ]
  },
  {
   "cell_type": "markdown",
   "metadata": {},
   "source": [
    "6\\. Write a program that implements the function $f(x)=x(x−1)$\n",
    "\n",
    "(a) Calculate the derivative of the function at the point $x = 1$ using the derivative definition:\n",
    "\n",
    "$$\n",
    "\\frac{{\\rm d}f}{{\\rm d}x} = \\lim_{\\delta\\to0} \\frac{f(x+\\delta)-f(x)}{\\delta}\n",
    "$$\n",
    "\n",
    "with $\\delta = 10^{−2}$. Calculate the true value of the same derivative analytically and compare with the answer your program gives. The two will not agree perfectly. Why not?\n",
    "\n",
    "(b) Repeat the calculation for $\\delta = 10^{−4}, 10^{−6}, 10^{−8}, 10^{−10}, 10^{−12}$ and $10^{−14}$. How does the accuracy scales with $\\delta$?"
   ]
  },
  {
   "cell_type": "code",
   "execution_count": 2,
   "metadata": {
    "scrolled": true
   },
   "outputs": [
    {
     "data": {
      "image/png": "[encoded data removed]",
      "text/plain": [
       "<matplotlib.figure.Figure at 0x7f0216b28da0>"
      ]
     },
     "metadata": {},
     "output_type": "display_data"
    }
   ],
   "source": [
    "import math\n",
    "import matplotlib.pyplot as plt\n",
    "def f(x):\n",
    "    return x*(x-1)\n",
    "delta=[]\n",
    "err=[]\n",
    "c=0\n",
    "for i in range (1,16,1):\n",
    "    #print(i,10**-i,f(1+10**-i)-f(1),(f(1+10**-i)-f(1))/10**-i,((f(1+10**-i)-f(1))/10**-i)-1)\n",
    "    # print(i,((f(1+10**-i)-f(1))/10**-i)-1)\n",
    "    delta.append(i)\n",
    "    err.append(math.log10(abs(((f(1+10**-i)-f(1))/10**-i)-1)))\n",
    "    c=c+1\n",
    "\n",
    "plt.plot(delta, err, 'ro')\n",
    "plt.axis([0, 16, -10, 0])\n",
    "plt.show()"
   ]
  },
  {
   "cell_type": "code",
   "execution_count": 27,
   "metadata": {},
   "outputs": [
    {
     "data": {
      "image/png": "[encoded data removed]",
      "text/plain": [
       "<matplotlib.figure.Figure at 0x7f021e98db00>"
      ]
     },
     "metadata": {},
     "output_type": "display_data"
    }
   ],
   "source": [
    "import math\n",
    "import matplotlib.pyplot as plt\n",
    "def f(x):\n",
    "    #return x*(x-1)\n",
    "    #return x**2-x\n",
    "    return x**3-x**2\n",
    "    #return x**4-x**3\n",
    "delta=[]\n",
    "err=[]\n",
    "c=0\n",
    "for i in range (1,16,1):\n",
    "    # print(i,10**-i,f(1+10**-i)-f(1),(f(1+10**-i)-f(1))/10**-i,((f(1+10**-i)-f(1))/10**-i)-1)\n",
    "    # print(i,((f(1+10**-i)-f(1))/10**-i)-1)\n",
    "    delta.append(10**i)\n",
    "    err.append(abs(((f(1+10**-i)-f(1))/10**-i)-1))\n",
    "    c=c+1\n",
    "\n",
    "plt.plot(delta, err, 'ro')\n",
    "plt.axis([1, 10**16, 1e-9, 3e-1])\n",
    "plt.xscale('log')\n",
    "plt.yscale('log')\n",
    "plt.show()"
   ]
  },
  {
   "cell_type": "code",
   "execution_count": 25,
   "metadata": {},
   "outputs": [
    {
     "data": {
      "image/png": "[encoded data removed]",
      "text/plain": [
       "<matplotlib.figure.Figure at 0x7f0216a30c50>"
      ]
     },
     "metadata": {},
     "output_type": "display_data"
    }
   ],
   "source": [
    "import math\n",
    "import matplotlib.pyplot as plt\n",
    "def f(x):\n",
    "    return x*(x-1)\n",
    "    #return x**2-x\n",
    "    #return x**3-x**2\n",
    "    #return x**4-x**3\n",
    "delta=[]\n",
    "err=[]\n",
    "c=0\n",
    "for i in range (1,63,1):\n",
    "    # print(i,10**-i,f(1+10**-i)-f(1),(f(1+10**-i)-f(1))/10**-i,((f(1+10**-i)-f(1))/10**-i)-1)\n",
    "    # print(i,((f(1+10**-i)-f(1))/10**-i)-1)\n",
    "    delta.append(2**i)\n",
    "    err.append(abs(((f(1+2**-i)-f(1))/2**-i)-1))\n",
    "    c=c+1\n",
    "\n",
    "plt.plot(delta, err, 'ro')\n",
    "plt.axis([1, 2**63, 1e-18, 100])\n",
    "plt.xscale('log')\n",
    "plt.yscale('log')\n",
    "plt.show()"
   ]
  },
  {
   "cell_type": "markdown",
   "metadata": {},
   "source": [
    "7\\. Consider the integral of the semicircle of radius 1:\n",
    "$$\n",
    "I=\\int_{-1}^{1} \\sqrt(1-x^2) {\\rm d}x\n",
    "$$\n",
    "which it's known to be $I=\\frac{\\pi}{2}=1.57079632679...$.\n",
    "Alternatively we can use the Riemann definition of the integral:\n",
    "$$\n",
    "I=\\lim_{N\\to\\infty} \\sum_{k=1}^{N} h y_k \n",
    "$$\n",
    "\n",
    "with $h=2/N$ the width of each of the $N$ slices the domain is divided into and where\n",
    "$y_k$ is the value of the function at the $k-$th slice.\n",
    "\n",
    "(a) Write a programe to compute the integral with $N=100$. How does the result compares to the true value?\n",
    "\n",
    "(b) How much can $N$ be increased if the computation needs to be run in less than a second? What is the gain in running it for 1 minute? \n"
   ]
  },
  {
   "cell_type": "code",
   "execution_count": 49,
   "metadata": {},
   "outputs": [
    {
     "name": "stdout",
     "output_type": "stream",
     "text": [
      "0.00048644943489928316\n",
      "1.540161506019544e-05\n",
      "4.871011312079787e-07\n",
      "1.5403679887171506e-08\n",
      "4.871483216817296e-10\n",
      "1.5162981981120538e-11\n",
      "6.477041125663163e-13\n"
     ]
    }
   ],
   "source": [
    "import math as m\n",
    "def integral(N):\n",
    "    def y(x):\n",
    "        return m.sqrt(1-x**2)\n",
    "    I=0\n",
    "    for i in range (1,N+1):\n",
    "        I=I+(2/N)*y(-1+(2*i-1)/N)\n",
    "    return(I-(m.pi)/2)\n",
    "result=[]\n",
    "result.append(integral(100)) # 75.7 µs ± 2.77 µs per loop (mean ± std. dev. of 7 runs, 10000 loops each))\n",
    "result.append(integral(1000)) # 760 µs ± 25.8 µs per loop (mean ± std. dev. of 7 runs, 1000 loops each)\n",
    "result.append(integral(10000)) # 7.55 ms ± 38.3 µs per loop (mean ± std. dev. of 7 runs, 100 loops each)\n",
    "result.append(integral(100000)) # 75.1 ms ± 410 µs per loop (mean ± std. dev. of 7 runs, 10 loops each)\n",
    "result.append(integral(1000000)) # 761 ms ± 20.2 ms per loop (mean ± std. dev. of 7 runs, 1 loop each)\n",
    "result.append(integral(10000000)) # 7.62 s ± 96.3 ms per loop (mean ± std. dev. of 7 runs, 1 loop each)\n",
    "result.append(integral(100000000)) # 1min 24s ± 2.81 s per loop (mean ± std. dev. of 7 runs, 1 loop each)\n",
    "for a in range (7):\n",
    "              print(result[a])"
   ]
  },
  {
   "cell_type": "code",
   "execution_count": 27,
   "metadata": {},
   "outputs": [
    {
     "name": "stdout",
     "output_type": "stream",
     "text": [
      "75.7 µs ± 2.77 µs per loop (mean ± std. dev. of 7 runs, 10000 loops each)\n",
      "760 µs ± 25.8 µs per loop (mean ± std. dev. of 7 runs, 1000 loops each)\n",
      "7.55 ms ± 38.3 µs per loop (mean ± std. dev. of 7 runs, 100 loops each)\n",
      "75.1 ms ± 410 µs per loop (mean ± std. dev. of 7 runs, 10 loops each)\n",
      "761 ms ± 20.2 ms per loop (mean ± std. dev. of 7 runs, 1 loop each)\n",
      "7.62 s ± 96.3 ms per loop (mean ± std. dev. of 7 runs, 1 loop each)\n"
     ]
    }
   ],
   "source": [
    "import math as m\n",
    "def integral(N):\n",
    "    def y(x):\n",
    "        return m.sqrt(1-x**2)\n",
    "    I=0\n",
    "    for i in range (1,N+1):\n",
    "        I=I+(2/N)*y(-1+(2*i-1)/N)\n",
    "%timeit integral(100)\n",
    "%timeit integral(1000)\n",
    "%timeit integral(10000)\n",
    "%timeit integral(100000)\n",
    "%timeit integral(1000000)\n",
    "%timeit integral(10000000)\n",
    "%timeit integral(100000000)"
   ]
  },
  {
   "cell_type": "code",
   "execution_count": 48,
   "metadata": {},
   "outputs": [
    {
     "data": {
      "image/png": "[encoded data removed]",
      "text/plain": [
       "<Figure size 432x288 with 1 Axes>"
      ]
     },
     "metadata": {
      "needs_background": "light"
     },
     "output_type": "display_data"
    }
   ],
   "source": [
    "import math as m\n",
    "import matplotlib.pyplot as plt\n",
    "runs=[b for b in range (2,9)]\n",
    "times=[75.7e-6, 760e-6, 7.55e-3, 75.1e-3, 761e-3, 7.62, 84]\n",
    "for c in range (7):\n",
    "              times[c]=m.log10(times[c])\n",
    "plt.plot(runs, times, 'ro')\n",
    "plt.axis([1.5, 8.5, -5, 2.5])\n",
    "plt.show()"
   ]
  },
  {
   "cell_type": "code",
   "execution_count": 57,
   "metadata": {},
   "outputs": [
    {
     "data": {
      "image/png": "[encoded data removed]",
      "text/plain": [
       "<Figure size 432x288 with 1 Axes>"
      ]
     },
     "metadata": {
      "needs_background": "light"
     },
     "output_type": "display_data"
    }
   ],
   "source": [
    "import math as m\n",
    "import matplotlib.pyplot as plt\n",
    "runs=[10**b for b in range (2,9)]\n",
    "times=[75.7e-6, 760e-6, 7.55e-3, 75.1e-3, 761e-3, 7.62, 84]\n",
    "plt.plot(runs, times, 'ro')\n",
    "plt.xscale('log')\n",
    "plt.yscale('log')\n",
    "plt.axis([10**(1.5), 10**(8.5), 1e-5, 5e2])\n",
    "plt.show()"
   ]
  },
  {
   "cell_type": "code",
   "execution_count": null,
   "metadata": {
    "collapsed": true
   },
   "outputs": [],
   "source": []
  }
 ],
 "metadata": {
  "kernelspec": {
   "display_name": "Python 3",
   "language": "python",
   "name": "python3"
  },
  "language_info": {
   "codemirror_mode": {
    "name": "ipython",
    "version": 3
   },
   "file_extension": ".py",
   "mimetype": "text/x-python",
   "name": "python",
   "nbconvert_exporter": "python",
   "pygments_lexer": "ipython3",
   "version": "3.7.0"
  }
 },
 "nbformat": 4,
 "nbformat_minor": 2
}
