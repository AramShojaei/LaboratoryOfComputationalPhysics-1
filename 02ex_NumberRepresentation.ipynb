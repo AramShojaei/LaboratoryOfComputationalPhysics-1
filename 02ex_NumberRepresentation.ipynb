{
 "cells": [
  {
   "cell_type": "markdown",
   "metadata": {},
   "source": [
    "1\\. Write a function that converts number representation (bin<->dec<->hex)"
   ]
  },
  {
   "cell_type": "code",
   "execution_count": 44,
   "metadata": {},
   "outputs": [
    {
     "name": "stdout",
     "output_type": "stream",
     "text": [
      "2139095552\n",
      "1111111100000000000001000000000\n",
      "1333200000020000\n",
      "4600BE7C081B624A64B911A000\n"
     ]
    }
   ],
   "source": [
    "trans={'A':10, 'B':11, 'C':12, 'D':13, 'E':14, 'F':15,'1':1,'2':2, '3':3,'4':4,'5':5,'6':6,'7':7,'8':8,'9':9,'0':0}\n",
    "invtrans = {v: k for k, v in trans.items()}\n",
    "#trans is a dictionary that allows translating hex into decimal\n",
    "#invtrans is the inverse dicitonary, allowing translation from decimal to hex\n",
    "\n",
    "\n",
    "def rd(num,base): #takes a number \"num\" and turns it from base-\"base\" to base-10\n",
    "    a=str(num)\n",
    "    r=0\n",
    "    for i in range(0,len(a)):\n",
    "        r=r+trans[a[i]]*(base**(len(a)-1-i))\n",
    "    return r\n",
    "             \n",
    "def rapp(num,base): #takes a number \"num\" and turns it from base-10 to base-\"base\"\n",
    "    r=\"\"\n",
    "    while num>=base:\n",
    "        r=str(invtrans[num%base])+r\n",
    "        num=num//base\n",
    "    r=str(invtrans[num%base])+r\n",
    "    num=num//base\n",
    "    return r\n",
    "    \n",
    "    \n",
    "    \n",
    "def b12(n,b1,b2): #converts n from base b1 to base b2\n",
    "    return rapp(int(rd(n,b1)),b2)\n",
    "    \n",
    "    \n",
    "    \n",
    "    \n",
    "    \n",
    "a=\"01111111100000000000001000000000\"\n",
    "print(rd(a,2))\n",
    "print(rapp(int(rd(a,2)),2))\n",
    "\n",
    "print(b12(a,2,4))\n",
    "print(b12(a,10,15))"
   ]
  },
  {
   "cell_type": "markdown",
   "metadata": {},
   "source": [
    "2\\. Write a function that converts a 32 bit word into a single precision floating point (i.e. interprets the various bits as sign, mantissa and exponent)"
   ]
  },
  {
   "cell_type": "code",
   "execution_count": 8,
   "metadata": {},
   "outputs": [
    {
     "name": "stdout",
     "output_type": "stream",
     "text": [
      "-22352.666015625\n"
     ]
    }
   ],
   "source": [
    "def n(word):\n",
    "    s=2147483648 #mask for sign: equal to 0b10000000000000000000000000000000\n",
    "    e=2139095040 #mask for exponent: equal to 0b1111111100000000000000000000000\n",
    "    m=8388607    #mask for mantissa: equal to 0b11111111111111111111111\n",
    "    pint=8388608 #mask that adds the 1. part in front of the mantissa: equal to 0b100000000000000000000000\n",
    "\n",
    "    if ((word&e)>>23)==255: #managing of exceptions\n",
    "        if (word&m)==0:\n",
    "            if ((word&s)>>31)==0:\n",
    "                return \"+INF\"\n",
    "            elif ((word&s)>>31)==1:\n",
    "                return \"-INF\"\n",
    "        elif (word&m)>0:\n",
    "            return \"NaN\"\n",
    "    else:\n",
    "        return ((-1)**((word&s)>>31))*((((word&m)|pint)/(2**23))*2**(((word&e)>>23)-127))\n",
    "\n",
    "print(n(3333333333))"
   ]
  },
  {
   "cell_type": "markdown",
   "metadata": {},
   "source": [
    "3\\. Write a program to determine the underflow and overflow limits (within a factor of 2) for python on your computer. \n",
    "\n",
    "**Tips**: define two variables inizialized to 1 and halve/double them enough time to exceed the under/over-flow limits  "
   ]
  },
  {
   "cell_type": "code",
   "execution_count": 20,
   "metadata": {},
   "outputs": [
    {
     "name": "stdout",
     "output_type": "stream",
     "text": [
      "The underflow limit is: 5e-324\n",
      "The overflow limit is: 1.4044477616111843e+306\n"
     ]
    }
   ],
   "source": [
    "under=1 #any number is good, not just 1\n",
    "above=float(1) \n",
    "\n",
    "ul=0\n",
    "al=0\n",
    "under_app = under\n",
    "\n",
    "while under_app!=0:\n",
    "    under_app/=2\n",
    "    ul+=1 #counts the number of successive divisions\n",
    "\n",
    "for i in range(ul-1):\n",
    "    under /= 2\n",
    "\n",
    "print(\"The underflow limit is:\",under)\n",
    "\n",
    "while above<above*2:\n",
    "    above*=2\n",
    "    al+=1 #counts the number of successive multiplications\n",
    "\n",
    "print(\"The overflow limit is:\",float(2**(al-1)))"
   ]
  },
  {
   "cell_type": "markdown",
   "metadata": {},
   "source": [
    "4\\. Write a program to determine the machine precision\n",
    "\n",
    "**Tips**: define a new variable by adding a smaller and smaller value (proceeding similarly to prob. 2) to an original variable and check the point where the two are the same "
   ]
  },
  {
   "cell_type": "code",
   "execution_count": 25,
   "metadata": {},
   "outputs": [
    {
     "name": "stdout",
     "output_type": "stream",
     "text": [
      "2.220446049250313e-16\n"
     ]
    }
   ],
   "source": [
    "u=1\n",
    "v=1\n",
    "c=0\n",
    "\n",
    "while v!=v+u:\n",
    "    u=u/2\n",
    "\n",
    "print(u*2)"
   ]
  },
  {
   "cell_type": "markdown",
   "metadata": {},
   "source": [
    "5\\. Write a function that takes in input three parameters $a$, $b$ and $c$ and prints out the two solutions to the quadratic equation $ax^2+bx+c=0$ using the standard formula:\n",
    "$$\n",
    "x=\\frac{-b\\pm\\sqrt{b^2-4ac}}{2a}\n",
    "$$\n",
    "\n",
    "(a) use the program to compute the solution for $a=0.001$, $b=1000$ and $c=0.001$\n",
    "\n",
    "(b) re-express the standard solution formula by multiplying top and bottom by $-b\\mp\\sqrt{b^2-4ac}$ and again find the solution for $a=0.001$, $b=1000$ and $c=0.001$. How does it compare with what previously obtained? Why?\n",
    "\n",
    "(c) write a function that compute the roots of a quadratic equation accurately in all cases"
   ]
  },
  {
   "cell_type": "code",
   "execution_count": 27,
   "metadata": {},
   "outputs": [
    {
     "name": "stdout",
     "output_type": "stream",
     "text": [
      "(-9.999894245993346e-07, -999999.999999)\n",
      "-1000000.0\n",
      "(-1.000000000001e-06, -1000010.5755125057)\n",
      "-1000010.5755135057\n",
      "(-1.000000000001e-06, -999999.999999)\n",
      "-1000000.0\n"
     ]
    }
   ],
   "source": [
    "def sol(a,b,c):\n",
    "    return ((-b+(b**2-4*a*c)**(0.5))/(2*a)),((-b-(b**2-4*a*c)**(0.5))/(2*a))\n",
    "\n",
    "print(sol(0.001,1000,0.001))\n",
    "print(float(sol(0.001,1000,0.001)[0])+float(sol(0.001,1000,0.001)[1])) #controlling the sum of the roots\n",
    "\n",
    "\n",
    "\n",
    "def bettersol(a,b,c):\n",
    "    return (2*c)/(-b-((b**2-4*a*c)**(0.5))),(2*c)/(-b+((b**2-4*a*c)**(0.5)))\n",
    "\n",
    "print(bettersol(0.001,1000,0.001))\n",
    "print(float(bettersol(0.001,1000,0.001)[0])+float(bettersol(0.001,1000,0.001)[1]))  \n",
    "#controlling the sum of the roots\n",
    "\n",
    "\n",
    "def finalsol(a,b,c):\n",
    "    if b>0:\n",
    "        return (2*c)/(-b-((b**2-4*a*c)**(0.5))),((-b-(b**2-4*a*c)**(0.5))/(2*a))\n",
    "    else:\n",
    "        return ((-b+(b**2-4*a*c)**(0.5))/(2*a)),(2*c)/(-b+((b**2-4*a*c)**(0.5)))\n",
    "\n",
    "print(finalsol(0.001,1000,0.001))\n",
    "print(float(finalsol(0.001,1000,0.001)[0])+float(finalsol(0.001,1000,0.001)[1]))   #controlling the sum of the roots"
   ]
  },
  {
   "cell_type": "markdown",
   "metadata": {},
   "source": [
    "### Brief analysis\n",
    "The problem with sol arises when we are calculating the difference between two very close numbers, in this case -b and the result of the discriminant. The bettersol function, instead, behaves nicely when -b is summed to the root of the discriminant, and performs worse in the other case. The best solution is obtained where each root is calculated by the function which has the better accuracy."
   ]
  },
  {
   "cell_type": "markdown",
   "metadata": {},
   "source": [
    "6\\. Write a program that implements the function $f(x)=x(x−1)$\n",
    "\n",
    "(a) Calculate the derivative of the function at the point $x = 1$ using the derivative definition:\n",
    "\n",
    "$$\n",
    "\\frac{{\\rm d}f}{{\\rm d}x} = \\lim_{\\delta\\to0} \\frac{f(x+\\delta)-f(x)}{\\delta}\n",
    "$$\n",
    "\n",
    "with $\\delta = 10^{−2}$. Calculate the true value of the same derivative analytically and compare with the answer your program gives. The two will not agree perfectly. Why not?\n",
    "\n",
    "(b) Repeat the calculation for $\\delta = 10^{−4}, 10^{−6}, 10^{−8}, 10^{−10}, 10^{−12}$ and $10^{−14}$. How does the accuracy scales with $\\delta$?"
   ]
  },
  {
   "cell_type": "code",
   "execution_count": 26,
   "metadata": {},
   "outputs": [
    {
     "name": "stdout",
     "output_type": "stream",
     "text": [
      "By definition:  1.010000000000001\n",
      "Analitically:  1\n",
      "With delta= 1\n",
      "By definition:  2.0\n",
      "Analitically:  1\n",
      "\n",
      "\n",
      "With delta= 0.01\n",
      "By definition:  1.010000000000001\n",
      "Analitically:  1\n",
      "\n",
      "\n",
      "With delta= 0.0001\n",
      "By definition:  1.0000999999998899\n",
      "Analitically:  1\n",
      "\n",
      "\n",
      "With delta= 1e-06\n",
      "By definition:  1.0000009999177333\n",
      "Analitically:  1\n",
      "\n",
      "\n",
      "With delta= 1e-08\n",
      "By definition:  1.0000000039225287\n",
      "Analitically:  1\n",
      "\n",
      "\n",
      "With delta= 1e-10\n",
      "By definition:  1.000000082840371\n",
      "Analitically:  1\n",
      "\n",
      "\n",
      "With delta= 1e-12\n",
      "By definition:  1.0000889005833413\n",
      "Analitically:  1\n",
      "\n",
      "\n",
      "With delta= 1e-14\n",
      "By definition:  0.9992007221626509\n",
      "Analitically:  1\n",
      "\n",
      "\n",
      "With delta= 1e-16\n",
      "By definition:  0.0\n",
      "Analitically:  1\n",
      "\n",
      "\n",
      "With delta= 1e-18\n",
      "By definition:  0.0\n",
      "Analitically:  1\n",
      "\n",
      "\n",
      "The history saving thread hit an unexpected error (OperationalError('unable to open database file',)).History will not be written to the database.\n"
     ]
    }
   ],
   "source": [
    "def f(x):\n",
    "    return x*(x-1)\n",
    "\n",
    "d=10**-2\n",
    "\n",
    "def der(x0): #definition\n",
    "    return ((f(x0+d)-f(x0))/d)\n",
    "\n",
    "def ander(x0):\n",
    "    return (2*x0-1)\n",
    "\n",
    "\n",
    "print(\"By definition: \",der(1))\n",
    "print(\"Analitically: \",ander(1))\n",
    "\n",
    "#the two calculations do not agree because of the finite number of digits that can be stored by the computer; a \n",
    "#consequence of this is that the computational verrsion of the operation of limit can not yield the exact result, as \n",
    "#it is bounded by the precision one sets (by setting delta)\n",
    "\n",
    "\n",
    "for i in range(10):\n",
    "    d=10**(-2*i)\n",
    "    print(\"With delta=\",d)\n",
    "    print(\"By definition: \",der(1))\n",
    "    print(\"Analitically: \",ander(1))\n",
    "    print(\"\\n\")\n",
    "    \n",
    "    \n",
    "    \n",
    "#after some iterations, the result is far from correct if one was to choose the defintion approach. This is caused by\n",
    "#the inability to distinguish between two very close numbers: evaluating the function in two points that are more and\n",
    "#more close to each other leads to the same result. As a consequence, reducing delta is fruitful only up to a certain\n",
    "#point. From this initial experiment, it seems that the best results are attained by setting delta=10**-8.\n",
    "#Using smaller steps, one may find better results."
   ]
  },
  {
   "cell_type": "markdown",
   "metadata": {},
   "source": [
    "7\\. Consider the integral of the semicircle of radius 1:\n",
    "$$\n",
    "I=\\int_{-1}^{1} \\sqrt{(1-x^2)} {\\rm d}x\n",
    "$$\n",
    "which is known to be $I=\\frac{\\pi}{2}=1.57079632679...$.\n",
    "Alternatively we can use the Riemann definition of the integral:\n",
    "$$\n",
    "I=\\lim_{N\\to\\infty} \\sum_{k=1}^{N} h y_k \n",
    "$$\n",
    "\n",
    "with $h=2/N$ the width of each of the $N$ slices the domain is divided into and where\n",
    "$y_k$ is the value of the function at the $k-$th slice.\n",
    "\n",
    "(a) Write a program to compute the integral with $N=100$. How does the result compare to the true value?\n",
    "\n",
    "(b) How much can $N$ be increased if the computation needs to be run in less than a second? What is the gain in running it for 1 minute? \n"
   ]
  },
  {
   "cell_type": "code",
   "execution_count": 54,
   "metadata": {},
   "outputs": [
    {
     "name": "stdout",
     "output_type": "stream",
     "text": [
      "1.5691342555492505\n",
      "962 ms ± 3.92 ms per loop (mean ± std. dev. of 7 runs, 1 loop each)\n"
     ]
    }
   ],
   "source": [
    "def func(x):\n",
    "    return (1-x*x)**(0.5)\n",
    "\n",
    "def integral(a,b,n): #integral of func from a to b with n steps\n",
    "    I=0\n",
    "    step=(b-a)/n\n",
    "    for i in range(n):\n",
    "        I+=step*func(a+i*step)\n",
    "    return I\n",
    "    \n",
    "    \n",
    "print(integral(-1,1,100))\n",
    "    \n",
    "#the result is accurate to the second figure    \n",
    "    \n",
    "%timeit integral(-1,1,3500000)\n",
    "    \n",
    "    \n",
    "#In a test with n=100000000, the mean time was 27.6 s; the result was  I=1.5691342555492505. The gain in precision does\n",
    "#not seem to justify such a time-wise costly algorithm.\n",
    "#Complete data for n=100000000: 27.6 s ± 87 ms per loop (mean ± std. dev. of 7 runs, 1 loop each)\n",
    "\n",
    "#With n=3500000, the computation yields the following results: \n",
    "#962 ms ± 3.92 ms per loop (mean ± std. dev. of 7 runs, 1 loop each)\n",
    "\n",
    "    \n",
    "    \n",
    "    \n",
    "    \n",
    "    \n",
    "    \n",
    "    "
   ]
  },
  {
   "cell_type": "code",
   "execution_count": null,
   "metadata": {
    "collapsed": true
   },
   "outputs": [],
   "source": []
  }
 ],
 "metadata": {
  "kernelspec": {
   "display_name": "Python 3",
   "language": "python",
   "name": "python3"
  },
  "language_info": {
   "codemirror_mode": {
    "name": "ipython",
    "version": 3
   },
   "file_extension": ".py",
   "mimetype": "text/x-python",
   "name": "python",
   "nbconvert_exporter": "python",
   "pygments_lexer": "ipython3",
   "version": "3.6.3"
  }
 },
 "nbformat": 4,
 "nbformat_minor": 2
}
