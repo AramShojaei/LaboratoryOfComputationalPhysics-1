{
 "cells": [
  {
   "cell_type": "markdown",
   "metadata": {},
   "source": [
    "1\\. Write a function that converts number representation (bin<->dec<->hex)"
   ]
  },
  {
   "cell_type": "code",
   "execution_count": 1,
   "metadata": {},
   "outputs": [
    {
     "name": "stdout",
     "output_type": "stream",
     "text": [
      "\n",
      "\n",
      "Es 1\n",
      "\n",
      "Intero n =  1993\n",
      "Rappresentazione di n in binario =  0b11111001001\n",
      "Rappresentazione di n in binario =  11111001001\n",
      "Rappresentazione in binario 11111001001\n",
      "1993\n"
     ]
    }
   ],
   "source": [
    "print(\"\\n\\nEs 1\\n\")\n",
    "\n",
    "# RICORDO: se converto da intero a binario o esadecimale,\n",
    "# quello che si ottiene e` una stringa!\n",
    "# quindi il returntype della funzione che ritorna la\n",
    "# rappresentazione binaria del numero e` string\n",
    "\n",
    "def convertToBinary(n):\n",
    "    strRet = bin(n)\n",
    "    return strRet\n",
    "#enddef\n",
    "\n",
    "def convertBinary(n):\n",
    "    tmp = n\n",
    "    listBin = []\n",
    "    while tmp != 0:\n",
    "        if tmp%2 == 0:\n",
    "            listBin.append('0')\n",
    "            tmp = tmp // 2\n",
    "        elif tmp%2 != 0:\n",
    "            listBin.append('1')\n",
    "            tmp = tmp // 2\n",
    "        #endif\n",
    "    #enddo\n",
    "    listBin.reverse()\n",
    "    strBin = ''.join(listBin)\n",
    "    return strBin\n",
    "#enddef\n",
    " \n",
    "\n",
    "n = 1993\n",
    "print(\"Intero n = \", n)\n",
    "print(\"Rappresentazione di n in binario = \", convertToBinary(n))\n",
    "#print(n)\n",
    "print(\"Rappresentazione di n in binario = \", convertBinary(n))\n",
    "\n",
    "# altrimenti\n",
    "print(\"Rappresentazione in binario {0:08b}\".format(n))\n",
    "print(n) # sinceriamoci che la funzione non abbia alterato il valore di n"
   ]
  },
  {
   "cell_type": "markdown",
   "metadata": {},
   "source": [
    "2\\. Write a function that converts a 32 bit word into a single precision floating point (i.e. interprets the various bits as sign, mantissa and exponent)"
   ]
  },
  {
   "cell_type": "code",
   "execution_count": 2,
   "metadata": {},
   "outputs": [
    {
     "name": "stdout",
     "output_type": "stream",
     "text": [
      "\n",
      "\n",
      "Es 2\n",
      "\n",
      "32\n",
      "<class 'str'>\n",
      "7.46356628167595e-35\n"
     ]
    }
   ],
   "source": [
    "print(\"\\n\\nEs 2\\n\")\n",
    "\n",
    "strInt = '00110111001000100010111000110011'\n",
    "strInt = '00000011111000000000000000000000'\n",
    "print(len(strInt))\n",
    "\n",
    "print(type(strInt[0:22+1]))\n",
    "\n",
    "f = int( strInt[0:22+1] , 2 )\n",
    "e = int( strInt[23:30+1] , 2 )\n",
    "s = int( strInt[31] , 2)\n",
    "\n",
    "xFloat = (-1)**2 * (1 + 0.1 * f) * 2**(e - 127)\n",
    "print(xFloat)"
   ]
  },
  {
   "cell_type": "markdown",
   "metadata": {},
   "source": [
    "3\\. Write a program to determine the underflow and overflow limits (within a factor of 2) for python on your computer. \n",
    "\n",
    "**Tips**: define two variables inizialized to 1 and halve/double them enough time to exceed the under/over-flow limits  "
   ]
  },
  {
   "cell_type": "code",
   "execution_count": null,
   "metadata": {
    "collapsed": true
   },
   "outputs": [],
   "source": []
  },
  {
   "cell_type": "markdown",
   "metadata": {},
   "source": [
    "4\\. Write a program to determine the machine precision\n",
    "\n",
    "**Tips**: define a new variable by adding a smaller and smaller value (proceeding similarly to prob. 2) to an original variable and check the point where the two are the same "
   ]
  },
  {
   "cell_type": "markdown",
   "metadata": {},
   "source": [
    "In order to determine the machine precision, an incremental difference between tho numbers in computed as $ m^{(i)} \\frac{N - m^{(i-1)}}{2} $ and then the difference $\\Delta = N - (m^{(i)} = m^{(i-1)})$ is compared to the test tolerance $\\epsilon = 10^{-n}$ with $n = 10, \\dots 20$. As long as $\\Delta > \\epsilon$, machine precision is not attained. Susequently, values are observed. As $m^{(i)}$ does not change any further, machine precision is given by the respective key in the dictionary collecting such values."
   ]
  },
  {
   "cell_type": "code",
   "execution_count": 1,
   "metadata": {},
   "outputs": [
    {
     "name": "stdout",
     "output_type": "stream",
     "text": [
      "eps = 10^-( 10 ), tol =  5.820766091346741e-11\n",
      "eps = 10^-( 11 ), tol =  7.275957614183426e-12\n",
      "eps = 10^-( 12 ), tol =  9.094947017729282e-13\n",
      "eps = 10^-( 13 ), tol =  5.684341886080802e-14\n",
      "eps = 10^-( 14 ), tol =  7.105427357601002e-15\n",
      "eps = 10^-( 15 ), tol =  8.881784197001252e-16\n",
      "eps = 10^-( 16 ), tol =  8.881784197001252e-16\n",
      "eps = 10^-( 17 ), tol =  8.881784197001252e-16\n",
      "eps = 10^-( 18 ), tol =  8.881784197001252e-16\n",
      "eps = 10^-( 19 ), tol =  8.881784197001252e-16\n",
      "eps = 10^-( 20 ), tol =  8.881784197001252e-16\n"
     ]
    }
   ],
   "source": [
    "dict = {}\n",
    "\n",
    "def determineMP(n):\n",
    "    eps = 1 * 10**(-n)\n",
    "    N = 10\n",
    "    m = 9\n",
    "    Delta = N - m\n",
    "    while (Delta > eps):\n",
    "        tmp = (N - m)/2\n",
    "        Delta = N - (m + tmp)\n",
    "        m += tmp\n",
    "        #print(tmp)\n",
    "    #enddo\n",
    "    return tmp\n",
    "#enddef\n",
    "\n",
    "for n in range(10,21):\n",
    "    #print(\"Test n = \", n)\n",
    "    t = determineMP(n)\n",
    "    dict.update({n : t})\n",
    "#enddo\n",
    "\n",
    "for i in dict.keys():\n",
    "    print(\"eps = 10^-(\",i,\"), tol = \", dict[i])\n",
    "#enddo\n"
   ]
  },
  {
   "cell_type": "markdown",
   "metadata": {},
   "source": [
    "**RISPOSTA**: La precisione della macchina (Fujitsu dfa021, Memoria: 7.6 GiB, Processore: Intel® Core™ i5-7400 CPU @ 3.00GHz × 4) e` \n",
    "$10^{-16}$"
   ]
  },
  {
   "cell_type": "markdown",
   "metadata": {},
   "source": [
    "5\\. Write a function that takes in input three parameters $a$, $b$ and $c$ and prints out the two solutions to the quadratic equation $ax^2+bx+c=0$ using the standard formula:\n",
    "$$\n",
    "x=\\frac{-b\\pm\\sqrt{b^2-4ac}}{2a}\n",
    "$$\n",
    "\n",
    "(a) use the program to compute the solution for $a=0.001$, $b=1000$ and $c=0.001$\n",
    "\n",
    "(b) re-express the standard solution formula by multiplying top and bottom by $-b\\mp\\sqrt{b^2-4ac}$ and again find the solution for $a=0.001$, $b=1000$ and $c=0.001$. How does it compare with what previously obtained? Why?\n",
    "\n",
    "(c) write a function that compute the roots of a quadratic equation accurately in all cases"
   ]
  },
  {
   "cell_type": "code",
   "execution_count": 2,
   "metadata": {},
   "outputs": [
    {
     "name": "stdout",
     "output_type": "stream",
     "text": [
      "\n",
      "\n",
      "Es 5.1\n",
      "\n",
      "[-999999.999999, -9.999894245993346e-07]\n",
      "\n",
      "\n",
      "Es 5.2\n",
      "\n",
      "[-999999.9999989999, -9.999894245993344e-07]\n"
     ]
    }
   ],
   "source": [
    "from math import sqrt\n",
    "\n",
    "def Roots(a,b,c):\n",
    "    signs = [-1,1]\n",
    "    roots = []\n",
    "    Delta = sqrt(b**2 - 4 * a * c)\n",
    "    Den = 2 * a\n",
    "    for i in signs:\n",
    "        Num = -b + i * Delta\n",
    "        ris = Num / Den\n",
    "        roots.append(ris)\n",
    "    #enddo\n",
    "    return roots\n",
    "#enddef\n",
    "\n",
    "def RootsAlt(a,b,c):\n",
    "    signs = [-1,1]\n",
    "    roots = []\n",
    "    Delta = sqrt(b**2 - 4 * a * c)\n",
    "    for i in signs:\n",
    "        j = signs[(i+1)%len(signs)]\n",
    "        Num = (-b + i * Delta) * (j * Delta)\n",
    "        Den = (2 * a) * (j * Delta)\n",
    "        ris = Num / Den\n",
    "        roots.append(ris)\n",
    "    #enddo\n",
    "    return roots\n",
    "#enddef\n",
    "\n",
    "\n",
    "a = 0.001\n",
    "b = 1000\n",
    "c = 0.001\n",
    "\n",
    "print(\"\\n\\nEs 5.1\\n\")\n",
    "roots = Roots(a,b,c)\n",
    "print(roots)\n",
    "\n",
    "print(\"\\n\\nEs 5.2\\n\")\n",
    "roots = RootsAlt(a,b,c)\n",
    "print(roots)"
   ]
  },
  {
   "cell_type": "markdown",
   "metadata": {},
   "source": [
    "Results experience fluctuations in accuracy due to the large difference in orders of magnitude in the coefficients. If one takes for example the coefficients\n",
    "\n",
    "$a = 1.4$\n",
    "$b = -5.2$\n",
    "$c = 4.5$\n",
    "\n",
    "results are $x_{1} = 1.372690715491052$ and $x_{2} = 2.3415949987946627$ using both the two functions reported. In this latter case indeed the coefficients are all of the same order of magnitude, thus they do not imply **ill conditioning** of the result. Moreover, the default output format hides some decimal digits, thus rendering the difference.\n",
    "\n",
    "**Solution**: by formatting the output to show more decimal digits, one can do as follows (it sufficies to replace the following snippet in place of lines 35 to 41 in the previous code cell). This does not adjust the result, but at least by thus doing one has more accuracy."
   ]
  },
  {
   "cell_type": "code",
   "execution_count": 5,
   "metadata": {},
   "outputs": [
    {
     "name": "stdout",
     "output_type": "stream",
     "text": [
      "\n",
      "\n",
      "Es 5.1\n",
      "\n",
      "x_1 =  -999999.999998999992385506629943847656\n",
      "x_2 =  -0.000000999989424599334597587585\n",
      "\n",
      "\n",
      "Es 5.2\n",
      "\n",
      "x_1 =  -999999.999998999875970184803009033203\n",
      "x_2 =  -0.000000999989424599334385829349\n"
     ]
    }
   ],
   "source": [
    "print(\"\\n\\nEs 5.1\\n\")\n",
    "roots = Roots(a,b,c)\n",
    "print(\"x_1 = \", '%.30f' % (roots[0]))\n",
    "print(\"x_2 = \", '%.30f' % (roots[1]))\n",
    "\n",
    "print(\"\\n\\nEs 5.2\\n\")\n",
    "roots = RootsAlt(a,b,c)\n",
    "print(\"x_1 = \", '%.30f' % (roots[0]))\n",
    "print(\"x_2 = \", '%.30f' % (roots[1]))"
   ]
  },
  {
   "cell_type": "markdown",
   "metadata": {},
   "source": [
    "6\\. Write a program that implements the function $f(x)=x(x−1)$\n",
    "\n",
    "(a) Calculate the derivative of the function at the point $x = 1$ using the derivative definition:\n",
    "\n",
    "$$\n",
    "\\frac{{\\rm d}f}{{\\rm d}x} = \\lim_{\\delta\\to0} \\frac{f(x+\\delta)-f(x)}{\\delta}\n",
    "$$\n",
    "\n",
    "with $\\delta = 10^{−2}$. Calculate the true value of the same derivative analytically and compare with the answer your program gives. The two will not agree perfectly. Why not?\n",
    "\n",
    "(b) Repeat the calculation for $\\delta = 10^{−4}, 10^{−6}, 10^{−8}, 10^{−10}, 10^{−12}$ and $10^{−14}$. How does the accuracy scales with $\\delta$?"
   ]
  },
  {
   "cell_type": "code",
   "execution_count": 29,
   "metadata": {},
   "outputs": [
    {
     "name": "stdout",
     "output_type": "stream",
     "text": [
      "Es 6.1\n",
      "\n",
      "Derivata numerica in x = 1:  0.9992007221626509\n",
      "\n",
      "\n",
      "Es 6.2\n",
      "\n",
      "[1.0000999999998899, 1.0000100000065513, 1.0000009999177333, 1.0000001005838672, 1.0000000039225287, 1.000000083740371, 1.000000082840371, 1.000000082750371, 1.0000889005833413, 0.9992007221627407, 0.9992007221626509, 1.1102230246251577]\n"
     ]
    },
    {
     "data": {
      "image/png": "[encoded data removed]",
      "text/plain": [
       "<matplotlib.figure.Figure at 0x7f67242dbcf8>"
      ]
     },
     "metadata": {},
     "output_type": "display_data"
    }
   ],
   "source": [
    "# Es 6\n",
    "# derivata di funzione\n",
    "\n",
    "# Es 6.1\n",
    "print(\"Es 6.1\\n\")\n",
    "\n",
    "def f(x):\n",
    "    ris = x * (x - 1)\n",
    "    return ris\n",
    "#enddef\n",
    "\n",
    "def deriv(f,x,eps):\n",
    "    df = (f(x + eps) - f(x))/eps\n",
    "    return df\n",
    "#enddef\n",
    "\n",
    "eps = 1e-14\n",
    "x = 1\n",
    "\n",
    "df = deriv(f,x,eps)\n",
    "print(\"Derivata numerica in x = 1: \", df)\n",
    "\n",
    "print(\"\\n\\nEs 6.2\\n\")\n",
    "# Es 6.2\n",
    "\n",
    "import matplotlib.pyplot as plt\n",
    "\n",
    "accs = [1e-4, 1e-6, 1e-8, 1e-10, 1e-12, 1e-14]\n",
    "accs = [10**(-n) for n in range(4,16)]\n",
    "dervs = [deriv(f,x,ee) for ee in accs]\n",
    "print(dervs)\n",
    "\n",
    "dervs = [dervsEl - 1 for dervsEl in dervs]\n",
    "\n",
    "plt.loglog(accs, dervs, 'ro')\n",
    "plt.xlabel('$\\delta$')\n",
    "plt.ylabel('$ df(x) - df(x_i) $')\n",
    "plt.show()"
   ]
  },
  {
   "cell_type": "markdown",
   "metadata": {},
   "source": [
    "**Answer b)**: Analytical and numerical values of the derivative disagree because of the ill conditioning of the problem (istability)."
   ]
  },
  {
   "cell_type": "markdown",
   "metadata": {},
   "source": [
    "**Answer c)** Accuracy scales almost linearly before $10^{-8}$ then results become more and more inaccurate. This is believed to be due to the growing instability because of more precision in progressively taken into account, hence the more the accurate the value of the $\\delta$, i.e. the more the values of the derivative itself that are worked are small, the more the result is inaccurate."
   ]
  },
  {
   "cell_type": "markdown",
   "metadata": {},
   "source": [
    "7\\. Consider the integral of the semicircle of radius 1:\n",
    "$$\n",
    "I=\\int_{-1}^{1} \\sqrt(1-x^2) {\\rm d}x\n",
    "$$\n",
    "which it's known to be $I=\\frac{\\pi}{2}=1.57079632679...$.\n",
    "Alternatively we can use the Riemann definition of the integral:\n",
    "$$\n",
    "I=\\lim_{N\\to\\infty} \\sum_{k=1}^{N} h y_k \n",
    "$$\n",
    "\n",
    "with $h=2/N$ the width of each of the $N$ slices the domain is divided into and where\n",
    "$y_k$ is the value of the function at the $k-$th slice.\n",
    "\n",
    "(a) Write a programe to compute the integral with $N=100$. How does the result compares to the true value?\n",
    "\n",
    "(b) How much can $N$ be increased if the computation needs to be run in less than a second? What is the gain in running it for 1 minute? \n"
   ]
  },
  {
   "cell_type": "code",
   "execution_count": 48,
   "metadata": {},
   "outputs": [
    {
     "name": "stdout",
     "output_type": "stream",
     "text": [
      "Es 7.1\n",
      "\n",
      "Integrale numerico I =  1.565154305800823 . Valore esatto I =  1.5707963267948966\n",
      "Errore eps =  0.0056420209940735155  in  7.987022399902344e-05  s.\n",
      "\n",
      "\n",
      "Es 7.2\n",
      "\n",
      "75121862\n",
      "Integrale numerico I =  1.5707963261616746 . Valore esatto I =  1.5707963267948966\n",
      "Errore eps =  6.332219193438959e-10  in  23.95644783973694  s.\n"
     ]
    }
   ],
   "source": [
    "from math import sqrt\n",
    "from math import pi\n",
    "import time\n",
    "\n",
    "print(\"Es 7.1\\n\")\n",
    "\n",
    "def f(x):\n",
    "    ris = sqrt(1 - x**2)\n",
    "    return ris\n",
    "#enddef\n",
    "\n",
    "sum = 0.0\n",
    "N = 100\n",
    "x = -1\n",
    "h = 2/N\n",
    "\n",
    "start = time.time()\n",
    "for i in range(1,N):\n",
    "    sum += f(x) * h\n",
    "    x += h\n",
    "#enddo\n",
    "finish = time.time()\n",
    "\n",
    "print(\"Integrale numerico I = \",sum,\". Valore esatto I = \",pi/2)\n",
    "print(\"Errore eps = \", abs(sum - pi/2), \" in \", finish-start,\" s.\")\n",
    "\n",
    "print(\"\\n\\nEs 7.2\\n\")\n",
    "\n",
    "Dt = finish - start\n",
    "M = int((60 / Dt) * 100)\n",
    "#M = 10000000\n",
    "\n",
    "print(M)\n",
    "\n",
    "sum = 0.0\n",
    "x = -1\n",
    "h = 2/M\n",
    "start = time.time()\n",
    "for i in range(1,M):\n",
    "    sum += f(x) * h\n",
    "    x += 2/M\n",
    "#enddo\n",
    "finish = time.time()\n",
    "\n",
    "print(\"Integrale numerico I = \",sum,\". Valore esatto I = \",pi/2)\n",
    "print(\"Errore eps = \", abs(sum - pi/2), \" in \", finish-start,\" s.\")"
   ]
  },
  {
   "cell_type": "markdown",
   "metadata": {
    "collapsed": true
   },
   "source": [
    "We can increase $N$ to a value up to $10^{6}$ to keep computation time under 1 second. Even if program runs for fewer that 1 minute (20 seconds on average to run the time estimated in line 30), accuracy gain is of 7 orders of magnitude. The same is attained setting $M = 10^{7}$, which runs for approximately 3 seconds. Thus it can be infered that computation time scales almost linearly with orders of magnitude of number of loops. Infact we observe a linear trend by using progressively growing orders of magnitude for $M$."
   ]
  },
  {
   "cell_type": "code",
   "execution_count": null,
   "metadata": {
    "collapsed": true
   },
   "outputs": [],
   "source": []
  }
 ],
 "metadata": {
  "kernelspec": {
   "display_name": "Python 3",
   "language": "python",
   "name": "python3"
  },
  "language_info": {
   "codemirror_mode": {
    "name": "ipython",
    "version": 3
   },
   "file_extension": ".py",
   "mimetype": "text/x-python",
   "name": "python",
   "nbconvert_exporter": "python",
   "pygments_lexer": "ipython3",
   "version": "3.6.3"
  }
 },
 "nbformat": 4,
 "nbformat_minor": 2
}
