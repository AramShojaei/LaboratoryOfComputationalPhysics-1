{
 "cells": [
  {
   "cell_type": "markdown",
   "metadata": {},
   "source": [
    "1\\. Write a function that converts number representation (bin<->dec<->hex)"
   ]
  },
  {
   "cell_type": "code",
   "execution_count": 1,
   "metadata": {},
   "outputs": [
    {
     "name": "stdout",
     "output_type": "stream",
     "text": [
      "0b010101\n",
      "0x15\n",
      "21\n",
      "0x15\n",
      "21\n",
      "0b010101\n"
     ]
    }
   ],
   "source": [
    "#from decimal to  binary\n",
    "def base_db(x):\n",
    "    b={0:'0', 1:'1'}\n",
    "    bit=''\n",
    "    while x>0.5:\n",
    "        bit += b[int(x%2)]\n",
    "        x/=2      \n",
    "    return '0b'+bit[::-1]\n",
    "print(base_db(21))\n",
    " \n",
    "#from decimal to hexadecimal\n",
    "def base_dh(x):  \n",
    "    h={0:\"0\", 1:\"1\", 2:\"2\", 3:\"3\", 4:\"4\", 5:\"5\", 6:\"6\", 7:\"7\", 8:\"8\", 9:\"9\", 10:\"A\", 11:\"B\", 12:\"C\", 13:\"D\", 14:\"E\", 15:\"F\"}\n",
    "    hexa=''\n",
    "    while x>1:\n",
    "        hexa += h[int(x%16)]\n",
    "        x/=16\n",
    "    return '0x'+hexa[::-1]    \n",
    "print(base_dh(21))\n",
    "\n",
    "#from binary to decimal\n",
    "def base_bd(x):\n",
    "    dec=0 \n",
    "    for i in range(2,len(x)):\n",
    "        dec += int(x[i])*2**(len(x)-i-1)\n",
    "    return dec    \n",
    "print(base_bd('0b010101'))  \n",
    "\n",
    "#from binary to hexadecimal\n",
    "def base_bh(x):\n",
    "    return base_dh(base_bd((x)))\n",
    "print(base_bh('0x010101'))\n",
    "\n",
    "#from heaxadecimal to decimal\n",
    "def base_hd(x):\n",
    "    h={'0':0, '1':1, '2':2, '3':3, '4':4, '5':5, '6':6, '7':7, '8':8, '9':9, 'A':10, 'B':11, 'C':12, 'D':13, 'E':14, 'F':15}\n",
    "    dec=0 \n",
    "    for i in range(2,len(x)):\n",
    "        dec += h[x[i]]*16**(len(x)-i-1)\n",
    "    return dec\n",
    "print(base_hd('0x15'))\n",
    "\n",
    "#from hecadecimal to binary\n",
    "def base_hb(x):\n",
    "    return base_db(base_hd(x))\n",
    "print(base_hb('0x15'))\n",
    "\n"
   ]
  },
  {
   "cell_type": "markdown",
   "metadata": {},
   "source": [
    "2\\. Write a function that converts a 32 bit word into a single precision floating point (i.e. interprets the various bits as sign, mantissa and exponent)"
   ]
  },
  {
   "cell_type": "code",
   "execution_count": 25,
   "metadata": {},
   "outputs": [
    {
     "name": "stdout",
     "output_type": "stream",
     "text": [
      "14660154687488.0\n"
     ]
    }
   ],
   "source": [
    "def convert_precision(x):\n",
    "    if (len(x)>32): return print('Wrong input')\n",
    "    elif (x[0]=='0'): s='1' \n",
    "    elif (x[0]=='1'): s='-1'\n",
    "    exp=base_bd(('00'+x[1:9]))\n",
    "    mantissa = 1\n",
    "    for i in range(len(x[9:])):\n",
    "        mantissa += int(x[9+i])*2**(-i-1)\n",
    "    res=int(s)*mantissa*2**(exp-127)\n",
    "    return res\n",
    "    \n",
    "print(convert_precision('01010101010101010101010101010101'))"
   ]
  },
  {
   "cell_type": "markdown",
   "metadata": {},
   "source": [
    "3\\. Write a program to determine the underflow and overflow limits (within a factor of 2) for python on your computer. \n",
    "\n",
    "**Tips**: define two variables inizialized to 1 and halve/double them enough time to exceed the under/over-flow limits  "
   ]
  },
  {
   "cell_type": "code",
   "execution_count": 1,
   "metadata": {},
   "outputs": [
    {
     "name": "stdout",
     "output_type": "stream",
     "text": [
      "Overflow limit: 8.99e+307\n",
      "Underflow limit: 5e-324\n"
     ]
    }
   ],
   "source": [
    "under=1\n",
    "over=1\n",
    "\n",
    "#overflow limit\n",
    "i=0\n",
    "while (i<2000):    \n",
    "    try: \n",
    "        over *= 2\n",
    "        i += 1\n",
    "        \"{:.2e}\".format(over)\n",
    "    except:\n",
    "        print('Overflow limit:',\"{:.2e}\".format(over/2))\n",
    "        break\n",
    "\n",
    "#underflow limit\n",
    "while (under/2 != 0.0):  #in underflow -> 0.0\n",
    "    under /=2 \n",
    "print('Underflow limit:',under)\n"
   ]
  },
  {
   "cell_type": "markdown",
   "metadata": {},
   "source": [
    "4\\. Write a program to determine the machine precision\n",
    "\n",
    "**Tips**: define a new variable by adding a smaller and smaller value (proceeding similarly to prob. 2) to an original variable and check the point where the two are the same "
   ]
  },
  {
   "cell_type": "code",
   "execution_count": 2,
   "metadata": {},
   "outputs": [
    {
     "name": "stdout",
     "output_type": "stream",
     "text": [
      "Machine precision:  1.1102230246251565e-16\n"
     ]
    }
   ],
   "source": [
    "epsilon=1\n",
    "\n",
    "while(epsilon+1 != 1):\n",
    "    epsilon/=2\n",
    "print('Machine precision: ',epsilon)"
   ]
  },
  {
   "cell_type": "markdown",
   "metadata": {},
   "source": [
    "5\\. Write a function that takes in input three parameters $a$, $b$ and $c$ and prints out the two solutions to the quadratic equation $ax^2+bx+c=0$ using the standard formula:\n",
    "$$\n",
    "x=\\frac{-b\\pm\\sqrt{b^2-4ac}}{2a}\n",
    "$$\n",
    "\n",
    "(a) use the program to compute the solution for $a=0.001$, $b=1000$ and $c=0.001$\n",
    "\n",
    "(b) re-express the standard solution formula by multiplying top and bottom by $-b\\mp\\sqrt{b^2-4ac}$ and again find the solution for $a=0.001$, $b=1000$ and $c=0.001$. How does it compare with what previously obtained? Why?\n",
    "\n",
    "(c) write a function that compute the roots of a quadratic equation accurately in all cases"
   ]
  },
  {
   "cell_type": "code",
   "execution_count": 24,
   "metadata": {},
   "outputs": [
    {
     "name": "stdout",
     "output_type": "stream",
     "text": [
      "(-9.999894245993346e-07, -999999.999999)\n",
      "(-1.000000000001e-06, -1000010.5755125057)\n"
     ]
    }
   ],
   "source": [
    "from math import sqrt\n",
    "\n",
    "#a\n",
    "def quad1(a,b,c):\n",
    "    x1=(-b+sqrt(b**2-4*a*c))/(2*a)\n",
    "    x2=(-b-sqrt(b**2-4*a*c))/(2*a)\n",
    "    return x1,x2\n",
    "\n",
    "print(quad1(0.001,1000,0.001),)\n",
    "\n",
    "#b\n",
    "def quad2(a,b,c):\n",
    "    x1 = -2*c / (b+sqrt(b**2-4*a*c))\n",
    "    x2 = -2*c / (b-sqrt(b**2-4*a*c))\n",
    "    return x1,x2\n",
    "print(quad2(0.001,1000,0.001))\n"
   ]
  },
  {
   "cell_type": "markdown",
   "metadata": {},
   "source": [
    "6\\. Write a program that implements the function $f(x)=x(x−1)$\n",
    "\n",
    "(a) Calculate the derivative of the function at the point $x = 1$ using the derivative definition:\n",
    "\n",
    "$$\n",
    "\\frac{{\\rm d}f}{{\\rm d}x} = \\lim_{\\delta\\to0} \\frac{f(x+\\delta)-f(x)}{\\delta}\n",
    "$$\n",
    "\n",
    "with $\\delta = 10^{−2}$. Calculate the true value of the same derivative analytically and compare with the answer your program gives. The two will not agree perfectly. Why not?\n",
    "\n",
    "(b) Repeat the calculation for $\\delta = 10^{−4}, 10^{−6}, 10^{−8}, 10^{−10}, 10^{−12}$ and $10^{−14}$. How does the accuracy scales with $\\delta$?"
   ]
  },
  {
   "cell_type": "code",
   "execution_count": 29,
   "metadata": {},
   "outputs": [
    {
     "name": "stdout",
     "output_type": "stream",
     "text": [
      "1.010000000000001\n",
      "1.0000999999998899\n",
      "1.0000009999177333\n",
      "1.0000000039225287\n",
      "1.000000082840371\n",
      "1.0000889005833413\n",
      "0.9992007221626509\n"
     ]
    }
   ],
   "source": [
    "#function\n",
    "def f(x):\n",
    "    return x*(x-1)\n",
    "\n",
    "#derivative\n",
    "def derivative(f, delta):\n",
    "    return (f(1+delta)-f(1))/delta\n",
    "\n",
    "print(derivative(f, 10**(-2)))\n",
    "correct_derivative=1\n",
    "\n",
    "#Le derivate ottenute analiticamente e computazionalmente non coincidono poichè delta è troppo grande.\n",
    "\n",
    "print(derivative(f, 10**(-4)))\n",
    "print(derivative(f, 10**(-6)))\n",
    "print(derivative(f, 10**(-8)))\n",
    "print(derivative(f, 10**(-10)))\n",
    "print(derivative(f, 10**(-12)))\n",
    "print(derivative(f, 10**(-14)))\n",
    "\n",
    "#Al diminuire di delta il valore della derivata inizialmente diminuisce, avvicinandosi molto al valore corretto, per poi crescere e diminuire nuovamente. \n",
    "#Tale andamento è dovuto al limite computazionale.\n",
    "\n"
   ]
  },
  {
   "cell_type": "markdown",
   "metadata": {},
   "source": [
    "7\\. Consider the integral of the semicircle of radius 1:\n",
    "$$\n",
    "I=\\int_{-1}^{1} \\sqrt(1-x^2) {\\rm d}x\n",
    "$$\n",
    "which it's known to be $I=\\frac{\\pi}{2}=1.57079632679...$.\n",
    "Alternatively we can use the Riemann definition of the integral:\n",
    "$$\n",
    "I=\\lim_{N\\to\\infty} \\sum_{k=1}^{N} h y_k \n",
    "$$\n",
    "\n",
    "with $h=2/N$ the width of each of the $N$ slices the domain is divided into and where\n",
    "$y_k$ is the value of the function at the $k-$th slice.\n",
    "\n",
    "(a) Write a programe to compute the integral with $N=100$. How does the result compares to the true value?\n",
    "\n",
    "(b) How much can $N$ be increased if the computation needs to be run in less than a second? What is the gain in running it for 1 minute? \n"
   ]
  },
  {
   "cell_type": "code",
   "execution_count": 34,
   "metadata": {},
   "outputs": [
    {
     "name": "stdout",
     "output_type": "stream",
     "text": [
      "Computed integral (N=100): 1.5691342555492493\n",
      "|TrueValue-MyValue|: 1.66e-03\n",
      "N (t<1s) 1.96e+06\n",
      "Computed integral (N= 1.96e+06 ): 1.570796326176153\n",
      "|TrueValue-MyValue(N= 1.96e+06 |: 6.19e-10\n"
     ]
    }
   ],
   "source": [
    "from math import sqrt\n",
    "from math import pi\n",
    "#a\n",
    "def f(x):\n",
    "    return sqrt(1-x**2)\n",
    "\n",
    "def integral(N):\n",
    "    h=2/N\n",
    "    somma=0\n",
    "    i=-1\n",
    "    while(i<=1):\n",
    "        somma += h*f(i)\n",
    "        i +=h\n",
    "    return somma\n",
    "\n",
    "print('Computed integral (N=100):',integral(100))\n",
    "print('|TrueValue-MyValue|:',  \"{:.2e}\".format(abs(pi/2-integral(100))))\n",
    "\n",
    "import time\n",
    "\n",
    "\n",
    "#time\n",
    "#look for N s.t. time<1s\n",
    "t=0\n",
    "n=10000\n",
    "while (t<1.0):\n",
    "    result=t\n",
    "    start_time = time.process_time()\n",
    "    integral(n)\n",
    "    t=time.process_time() - start_time\n",
    "    n += 10000\n",
    "\n",
    "print('N (t<1s)', \"{:.2e}\".format(n-10000))\n",
    "print('Computed integral (N=',\"{:.2e}\".format(n-10000),'):',integral(n-10000))\n",
    "print('|TrueValue-MyValue(N=',\"{:.2e}\".format(n-10000),'|:', \"{:.2e}\".format(abs(pi/2-integral(n-10000))))\n"
   ]
  },
  {
   "cell_type": "code",
   "execution_count": 35,
   "metadata": {},
   "outputs": [
    {
     "name": "stdout",
     "output_type": "stream",
     "text": [
      "Computed integral (t=1min) 1.5707963293753076\n",
      "|TrueValue-MyValue(t=1min)|: 2.58e-09\n"
     ]
    }
   ],
   "source": [
    "#look for N s.t. time<1min\n",
    "t=0\n",
    "n=100000\n",
    "while (t<60):\n",
    "    result=t\n",
    "    start_time = time.process_time()\n",
    "    integral(n)\n",
    "    t=time.process_time() - start_time\n",
    "    n += n\n",
    "print('Computed integral (t=1min)', integral(n/2))\n",
    "print('|TrueValue-MyValue(t=1min)|:', \"{:.2e}\".format(abs(pi/2-integral(n/2))))"
   ]
  },
  {
   "cell_type": "code",
   "execution_count": null,
   "metadata": {},
   "outputs": [],
   "source": []
  }
 ],
 "metadata": {
  "kernelspec": {
   "display_name": "Python 3",
   "language": "python",
   "name": "python3"
  },
  "language_info": {
   "codemirror_mode": {
    "name": "ipython",
    "version": 3
   },
   "file_extension": ".py",
   "mimetype": "text/x-python",
   "name": "python",
   "nbconvert_exporter": "python",
   "pygments_lexer": "ipython3",
   "version": "3.7.0"
  }
 },
 "nbformat": 4,
 "nbformat_minor": 2
}
