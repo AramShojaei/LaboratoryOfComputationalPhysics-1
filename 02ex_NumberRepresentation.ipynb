{
 "cells": [
  {
   "cell_type": "markdown",
   "metadata": {},
   "source": [
    "1\\. Write a function that converts number representation (bin<->dec<->hex)"
   ]
  },
  {
   "cell_type": "code",
   "execution_count": 2,
   "metadata": {
    "scrolled": true
   },
   "outputs": [],
   "source": [
    "def int_to_bin(x):\n",
    "    if type(x) != int: print(\"Sorry, %f is not a an integer, i can't convert it into it's binary representation\" %x)\n",
    "    else:\n",
    "        x_bin=[]\n",
    "        while x != 0:\n",
    "            x_bin.append(x%2)\n",
    "            x = int(x/2)\n",
    "        x_bin.reverse()\n",
    "        str_x_bin = ''.join(str(e) for e in x_bin) \n",
    "    return str_x_bin\n"
   ]
  },
  {
   "cell_type": "code",
   "execution_count": 14,
   "metadata": {},
   "outputs": [],
   "source": [
    "def bin_to_int(x):\n",
    "    if type(x) != str: print(\"Sorry, %s is not a an string, i can't convert it into it's decimal representation\" %x)\n",
    "    else:\n",
    "        x_dec = 0\n",
    "        for j in range(len(x)):\n",
    "            x_dec += int(x[j]) * 2**(len(x) - (j + 1))\n",
    "    return x_dec"
   ]
  },
  {
   "cell_type": "code",
   "execution_count": 21,
   "metadata": {},
   "outputs": [],
   "source": [
    "def hex_to_int(x):\n",
    "    conversioni = {\"0\":0,\"1\":1,\"2\":2,\"3\":3,\"4\":4,\"5\":5,\"6\":6,\"7\":7,\"8\":8,\"9\":9,\"a\":10,\"b\":11,\"c\":12,\"d\":13,\"e\":14,\"f\":15}\n",
    "    if type(x) != str: print(\"Sorry, %s is not a an string, i can't convert it into it's decimal representation\" %x)\n",
    "    else:\n",
    "        x_dec = 0\n",
    "        for j in range(len(x)):\n",
    "            x_dec +=conversioni[x[j]] * 16**(len(x) - (j + 1))\n",
    "    return x_dec        \n"
   ]
  },
  {
   "cell_type": "code",
   "execution_count": 30,
   "metadata": {},
   "outputs": [],
   "source": [
    "def int_to_hex(x):\n",
    "    conversioni = {0: '0', 1: '1', 2: '2', 3: '3', 4: '4', 5: '5', 6: '6', 7: '7', 8: '8', 9: '9', 10: 'a', 11: 'b', 12: 'c', 13: 'd', 14: 'e', 15: 'f'}\n",
    "    if type(x) != int: print(\"Sorry, %f is not a an integer, i can't convert it into it's hexadecimal representation\" %x)\n",
    "    else:\n",
    "        x_bin=[]\n",
    "        while x != 0:\n",
    "            x_bin.append(conversioni[x%16])\n",
    "            x = int(x/16)\n",
    "        x_bin.reverse()\n",
    "        str_x_bin = ''.join(str(e) for e in x_bin) \n",
    "    return str_x_bin\n"
   ]
  },
  {
   "cell_type": "code",
   "execution_count": 32,
   "metadata": {},
   "outputs": [],
   "source": [
    "def bin_to_hex(x):\n",
    "    x_hex = []\n",
    "    if type(x) != str: print(\"Sorry, %s is not a an string, i can't convert it into it's hexadecimal representation\" %x)\n",
    "    else:\n",
    "        temp_list=list(x)\n",
    "        temp_list.reverse()\n",
    "        x = ''.join(str(e) for e in temp_list)\n",
    "        a = 0\n",
    "        b = 0\n",
    "        while len(x) > b:\n",
    "            b = b + min(len(x) - b, 4)\n",
    "            temp = x[a:b]\n",
    "            temp_list=list(temp)\n",
    "            temp_list.reverse()\n",
    "            temp = ''.join(str(e) for e in temp_list)\n",
    "            x_hex.append((int_to_hex(bin_to_int(temp))))\n",
    "            a +=4\n",
    "        x_hex.reverse()\n",
    "        str_x_hex = ''.join(str(e) for e in x_hex)   \n",
    "    return str_x_hex   \n"
   ]
  },
  {
   "cell_type": "code",
   "execution_count": 35,
   "metadata": {},
   "outputs": [
    {
     "name": "stdout",
     "output_type": "stream",
     "text": [
      "973\n"
     ]
    }
   ],
   "source": [
    "def hex_to_bin(x):\n",
    "    if type(x) != str: print(\"Sorry, %s is not a an string, i can't convert it into it's binary representation\" %x)\n",
    "    else: \n",
    "        return(int_to_bin(hex_to_int(x)))\n",
    "x=\"3cd\"\n",
    "print(hex_to_int(x))"
   ]
  },
  {
   "cell_type": "markdown",
   "metadata": {},
   "source": [
    "2\\. Write a function that converts a 32 bit word into a single precision floating point (i.e. interprets the various bits as sign, mantissa and exponent)"
   ]
  },
  {
   "cell_type": "markdown",
   "metadata": {},
   "source": [
    "3\\. Write a program to determine the underflow and overflow limits (within a factor of 2) for python on your computer. \n",
    "\n",
    "**Tips**: define two variables inizialized to 1 and halve/double them enough time to exceed the under/over-flow limits  "
   ]
  },
  {
   "cell_type": "markdown",
   "metadata": {},
   "source": [
    "4\\. Write a program to determine the machine precision\n",
    "\n",
    "**Tips**: define a new variable by adding a smaller and smaller value (proceeding similarly to prob. 2) to an original variable and check the point where the two are the same "
   ]
  },
  {
   "cell_type": "markdown",
   "metadata": {},
   "source": [
    "5\\. Write a function that takes in input three parameters $a$, $b$ and $c$ and prints out the two solutions to the quadratic equation $ax^2+bx+c=0$ using the standard formula:\n",
    "$$\n",
    "x=\\frac{-b\\pm\\sqrt{b^2-4ac}}{2a}\n",
    "$$\n",
    "\n",
    "(a) use the program to compute the solution for $a=0.001$, $b=1000$ and $c=0.001$\n",
    "\n",
    "(b) re-express the standard solution formula by multiplying top and bottom by $-b\\mp\\sqrt{b^2-4ac}$ and again find the solution for $a=0.001$, $b=1000$ and $c=0.001$. How does it compare with what previously obtained? Why?\n",
    "\n",
    "(c) write a function that compute the roots of a quadratic equation accurately in all cases"
   ]
  },
  {
   "cell_type": "markdown",
   "metadata": {},
   "source": [
    "6\\. Write a program that implements the function $f(x)=x(x−1)$\n",
    "\n",
    "(a) Calculate the derivative of the function at the point $x = 1$ using the derivative definition:\n",
    "\n",
    "$$\n",
    "\\frac{{\\rm d}f}{{\\rm d}x} = \\lim_{\\delta\\to0} \\frac{f(x+\\delta)-f(x)}{\\delta}\n",
    "$$\n",
    "\n",
    "with $\\delta = 10^{−2}$. Calculate the true value of the same derivative analytically and compare with the answer your program gives. The two will not agree perfectly. Why not?\n",
    "\n",
    "(b) Repeat the calculation for $\\delta = 10^{−4}, 10^{−6}, 10^{−8}, 10^{−10}, 10^{−12}$ and $10^{−14}$. How does the accuracy scales with $\\delta$?"
   ]
  },
  {
   "cell_type": "markdown",
   "metadata": {},
   "source": [
    "7\\. Consider the integral of the semicircle of radius 1:\n",
    "$$\n",
    "I=\\int_{-1}^{1} \\sqrt(1-x^2) {\\rm d}x\n",
    "$$\n",
    "which it's known to be $I=\\frac{\\pi}{2}=1.57079632679...$.\n",
    "Alternatively we can use the Riemann definition of the integral:\n",
    "$$\n",
    "I=\\lim_{N\\to\\infty} \\sum_{k=1}^{N} h y_k \n",
    "$$\n",
    "\n",
    "with $h=2/N$ the width of each of the $N$ slices the domain is divided into and where\n",
    "$y_k$ is the value of the function at the $k-$th slice.\n",
    "\n",
    "(a) Write a programe to compute the integral with $N=100$. How does the result compares to the true value?\n",
    "\n",
    "(b) How much can $N$ be increased if the computation needs to be run in less than a second? What is the gain in running it for 1 minute? \n"
   ]
  },
  {
   "cell_type": "code",
   "execution_count": null,
   "metadata": {},
   "outputs": [],
   "source": []
  }
 ],
 "metadata": {
  "kernelspec": {
   "display_name": "Python 3",
   "language": "python",
   "name": "python3"
  },
  "language_info": {
   "codemirror_mode": {
    "name": "ipython",
    "version": 3
   },
   "file_extension": ".py",
   "mimetype": "text/x-python",
   "name": "python",
   "nbconvert_exporter": "python",
   "pygments_lexer": "ipython3",
   "version": "3.7.0"
  }
 },
 "nbformat": 4,
 "nbformat_minor": 2
}
