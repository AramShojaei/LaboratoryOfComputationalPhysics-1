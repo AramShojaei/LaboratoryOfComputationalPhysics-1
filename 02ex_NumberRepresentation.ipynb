{
 "cells": [
  {
   "cell_type": "markdown",
   "metadata": {},
   "source": [
    "1\\. Write a function that converts number representation (bin<->dec<->hex)"
   ]
  },
  {
   "cell_type": "code",
   "execution_count": 1,
   "metadata": {},
   "outputs": [
    {
     "name": "stdout",
     "output_type": "stream",
     "text": [
      "Decimal representation of 0x12 is 18\n",
      "Binary representation of 0x12 is 0b10010\n",
      "Hexadecimal representation of 0x12 is 0x12\n"
     ]
    }
   ],
   "source": [
    "#___Dictionary_for_hex_____\n",
    "hex_dic = {\"0\":0, \"1\":1, \"2\":2, \"3\":3, \n",
    "           \"4\":4, \"5\":5, \"6\":6, \"7\":7, \n",
    "           \"8\":8, \"9\":9, \"a\":10, \"b\":11, \n",
    "           \"c\":12, \"d\":13, \"e\":14, \"f\":15 }\n",
    "\n",
    "\n",
    "#___Simple_conversions_____\n",
    "def int_to_bin(str_n):\n",
    "\n",
    "    if str_n[1]==\"x\": #if hexadecimal, convert to decimal first\n",
    "        str_n = hex_to_int(str_n)\n",
    "    n = int(str_n)\n",
    "\n",
    "    bin_n = \"\"\n",
    "    while n!=0:\n",
    "        if n%2==1:\n",
    "            bin_n = \"1\" + bin_n\n",
    "        else:\n",
    "            bin_n = \"0\" + bin_n\n",
    "        n = n//2      \n",
    "    return (\"0b\"+bin_n)\n",
    "\n",
    "\n",
    "def bin_to_int(n):\n",
    "    n = n[2:]\n",
    "    int_n = 0\n",
    "    for i in range(len(n)):\n",
    "        if n[i]==\"1\":\n",
    "            int_n += 2**(len(n)-1-i)\n",
    "    return str(int_n)\n",
    "\n",
    "\n",
    "def int_to_hex(str_n):\n",
    "    \n",
    "    if str_n[1]==\"b\": #if binary, convert to decimal first\n",
    "        str_n = bin_to_int(str_n)\n",
    "    n = int(str_n)\n",
    "    \n",
    "    hex_n = \"\"\n",
    "    while n!=0:\n",
    "        for symbol in hex_dic:\n",
    "            if hex_dic[symbol] == n%16:\n",
    "                hex_n = symbol + hex_n\n",
    "        n = n//16\n",
    "    return (\"0x\"+hex_n)\n",
    "\n",
    "\n",
    "def hex_to_int(n):\n",
    "    n = n[2:]\n",
    "    int_n = 0\n",
    "    for i in range(len(n)):\n",
    "        int_n += hex_dic[n[i]]*16**(len(n)-1-i)\n",
    "    return str(int_n)\n",
    "\n",
    "\n",
    "#___One_function_to_call_them_all______\n",
    "def convert_to_everything(n):\n",
    "   \n",
    "    if n[1]==\"b\":\n",
    "        print(\"Decimal representation of\",n,\"is\", bin_to_int(n))\n",
    "        print(\"Binary representation of\",n,\"is\", n)\n",
    "        print(\"Hexadecimal representation of\",n,\"is\", int_to_hex(n))\n",
    "    \n",
    "    elif n[1]==\"x\":\n",
    "        print(\"Decimal representation of\",n,\"is\", hex_to_int(n))\n",
    "        print(\"Binary representation of\",n,\"is\", int_to_bin(n))\n",
    "        print(\"Hexadecimal representation of\",n,\"is\", n)\n",
    "        \n",
    "    else:\n",
    "        print(\"Decimal representation of\",n,\"is\", n)\n",
    "        print(\"Binary representation of\",n,\"is\", int_to_bin(n))\n",
    "        print(\"Hexadecimal representation of\",n,\"is\", int_to_hex(n))\n",
    "        \n",
    "#choosing the number and calling the converter\n",
    "number = \"0x12\"\n",
    "convert_to_everything(number)"
   ]
  },
  {
   "cell_type": "markdown",
   "metadata": {},
   "source": [
    "2\\. Write a function that converts a 32 bit word into a single precision floating point (i.e. interprets the various bits as sign, mantissa and exponent)"
   ]
  },
  {
   "cell_type": "code",
   "execution_count": 2,
   "metadata": {},
   "outputs": [
    {
     "name": "stdout",
     "output_type": "stream",
     "text": [
      "5.965414233742897e+29\n"
     ]
    }
   ],
   "source": [
    "def float_number(string):\n",
    "    sign = string[0]\n",
    "    exponent_bin = string[1:9]\n",
    "    mantissa_bin = string[9:]\n",
    "    \n",
    "    mantissa = 1\n",
    "    for i in range(len(mantissa_bin)):\n",
    "        if mantissa_bin[i] == \"1\":\n",
    "            mantissa = mantissa + 2**(-(i+1))\n",
    "    \n",
    "    exponent = int(exponent_bin,2) - 127\n",
    "    result = 1**(int(sign)) * mantissa * 2**exponent\n",
    "    return (result)\n",
    "    \n",
    "    \n",
    "number = \"11110000111100001111000011110000\" #-5.9654142E29\n",
    "print(float_number(number))"
   ]
  },
  {
   "cell_type": "markdown",
   "metadata": {},
   "source": [
    "3\\. Write a program to determine the underflow and overflow limits (within a factor of 2) for python on your computer. \n",
    "\n",
    "**Tips**: define two variables inizialized to 1 and halve/double them enough time to exceed the under/over-flow limits  "
   ]
  },
  {
   "cell_type": "code",
   "execution_count": 3,
   "metadata": {},
   "outputs": [
    {
     "name": "stdout",
     "output_type": "stream",
     "text": [
      "Underflow limit is  5e-324\n",
      "Overflow limit is  8.98846567431158e+307\n"
     ]
    }
   ],
   "source": [
    "#find underflow limit\n",
    "number = 1.\n",
    "while number!=0:\n",
    "    minimum = number\n",
    "    number /= 2\n",
    "print(\"Underflow limit is \", minimum)\n",
    "\n",
    "#find overflow limit\n",
    "number = 1.\n",
    "while number!=float(\"inf\"):\n",
    "    maximum = number\n",
    "    number *= 2\n",
    "print(\"Overflow limit is \", maximum)"
   ]
  },
  {
   "cell_type": "markdown",
   "metadata": {},
   "source": [
    "4\\. Write a program to determine the machine precision\n",
    "\n",
    "**Tips**: define a new variable by adding a smaller and smaller value (proceeding similarly to prob. 2) to an original variable and check the point where the two are the same "
   ]
  },
  {
   "cell_type": "code",
   "execution_count": 4,
   "metadata": {},
   "outputs": [
    {
     "name": "stdout",
     "output_type": "stream",
     "text": [
      "The machine precision is 5.551115123125783e-17\n"
     ]
    }
   ],
   "source": [
    "x = 1.\n",
    "precision = 1\n",
    "while 1:\n",
    "    precision /= 2\n",
    "    x_new = x + precision\n",
    "    if x_new==x:\n",
    "        break\n",
    "    else:\n",
    "        x = x_new\n",
    "\n",
    "print(\"The machine precision is\", precision)"
   ]
  },
  {
   "cell_type": "markdown",
   "metadata": {},
   "source": [
    "5\\. Write a function that takes in input three parameters $a$, $b$ and $c$ and prints out the two solutions to the quadratic equation $ax^2+bx+c=0$ using the standard formula:\n",
    "$$\n",
    "x=\\frac{-b\\pm\\sqrt{b^2-4ac}}{2a}\n",
    "$$\n",
    "\n",
    "(a) use the program to compute the solution for $a=0.001$, $b=1000$ and $c=0.001$\n",
    "\n",
    "(b) re-express the standard solution formula by multiplying top and bottom by $-b\\mp\\sqrt{b^2-4ac}$ and again find the solution for $a=0.001$, $b=1000$ and $c=0.001$. How does it compare with what previously obtained? Why?\n",
    "\n",
    "(c) write a function that compute the roots of a quadratic equation accurately in all cases"
   ]
  },
  {
   "cell_type": "code",
   "execution_count": 5,
   "metadata": {},
   "outputs": [
    {
     "name": "stdout",
     "output_type": "stream",
     "text": [
      "Results for a):  [-9.999894245993346e-07, -999999.999999]\n",
      "Results for b):  [-1.00000761449437e-06, -1000018.1900864029]\n",
      "Results for c):  [-1.00000761449337e-06, -999999.999999]\n"
     ]
    }
   ],
   "source": [
    "from math import sqrt\n",
    "\n",
    "def quad_sol(a,b,c):\n",
    "    sol_1 = (-b+sqrt(b**2-4*a*c))/(2*a)\n",
    "    sol_2 = (-b-sqrt(b**2-4*a*c))/(2*a)\n",
    "    #print((-b+sqrt(b**2-4*a*c)),(2*a))\n",
    "    return ([sol_1,sol_2])\n",
    "\n",
    "def alternative_quad_sol(a,b,c):\n",
    "    sol_1 = (b**2 - (b**2-4*a*c))/(2*a*(-b-sqrt(b**2-4*a*c)))\n",
    "    sol_2 = (b**2 - (b**2-4*a*c))/(2*a*(-b+sqrt(b**2-4*a*c)))\n",
    "     #print((b**2 - (b**2-4*a*c)),(2*a*(-b+sqrt(b**2-4*a*c))))\n",
    "    return ([sol_1,sol_2])\n",
    "\n",
    "def best_quad_sol(a,b,c):\n",
    "    sol_1 = (-b)/(2*a) + sqrt(b**2-4*a*c)/(2*a)\n",
    "    sol_2 = (-b)/(2*a) - sqrt(b**2-4*a*c)/(2*a)\n",
    "    return ([sol_1,sol_2])\n",
    "    \n",
    "    \n",
    "print('Results for a): ', quad_sol(0.001,1000,0.001))               #sol_1 viene calcolata male\n",
    "print('Results for b): ', alternative_quad_sol(0.001,1000,0.001))   #sol_2 viene calcolata male\n",
    "print('Results for c): ', best_quad_sol(0.001,1000,0.001))\n",
    "# Utilizzando best_quad_sol si divide la frazione in due parti in modo che\n",
    "# il numeratorenon si annulli (quasi) prima di fare la divisione\n"
   ]
  },
  {
   "cell_type": "markdown",
   "metadata": {},
   "source": [
    "6\\. Write a program that implements the function $f(x)=x(x−1)$\n",
    "\n",
    "(a) Calculate the derivative of the function at the point $x = 1$ using the derivative definition:\n",
    "\n",
    "$$\n",
    "\\frac{{\\rm d}f}{{\\rm d}x} = \\lim_{\\delta\\to0} \\frac{f(x+\\delta)-f(x)}{\\delta}\n",
    "$$\n",
    "\n",
    "with $\\delta = 10^{−2}$. Calculate the true value of the same derivative analytically and compare with the answer your program gives. The two will not agree perfectly. Why not?\n",
    "\n",
    "(b) Repeat the calculation for $\\delta = 10^{−4}, 10^{−6}, 10^{−8}, 10^{−10}, 10^{−12}$ and $10^{−14}$. How does the accuracy scales with $\\delta$?"
   ]
  },
  {
   "cell_type": "code",
   "execution_count": 6,
   "metadata": {},
   "outputs": [
    {
     "name": "stdout",
     "output_type": "stream",
     "text": [
      "Derivate for sigma = 10^(-2) is equal to 1.010000000000001\n",
      "Derivate for sigma = 10^(-4) is equal to 1.0000999999998899\n",
      "Derivate for sigma = 10^(-6) is equal to 1.0000009999177333\n",
      "Derivate for sigma = 10^(-8) is equal to 1.0000000039225287\n",
      "Derivate for sigma = 10^(-10) is equal to 1.000000082840371\n",
      "Derivate for sigma = 10^(-12) is equal to 1.0000889005833413\n",
      "Derivate for sigma = 10^(-14) is equal to 0.9992007221626509\n"
     ]
    }
   ],
   "source": [
    "def f(x):\n",
    "    return x*(x-1)\n",
    "\n",
    "def derivate(sigma):\n",
    "    x = 1\n",
    "    der = (f(x+sigma) - f(x)) / sigma\n",
    "    return der\n",
    "\n",
    "for i in range(7):\n",
    "    print(\"Derivate for sigma = 10^(-\"+str(2*i+2)+\") is equal to\", derivate(10**(-2*i-2)))\n",
    "    \n",
    "#La derivata analitica è df/dx = 2x-1, che per x=1 vale 1.\n",
    "#La sigma è però molto piccola e viene persa precisione quando viene salvata. \n",
    "#Questa differenza dal caso analitico viene poi amplificata usando la sigma come\n",
    "#divisore per il calcolo della derivata (divisione per un numero molto piccolo)\n",
    "\n",
    "#C'è un massimo dell'accuratezza per 10^(-8) (???)"
   ]
  },
  {
   "cell_type": "markdown",
   "metadata": {},
   "source": [
    "7\\. Consider the integral of the semicircle of radius 1:\n",
    "$$\n",
    "I=\\int_{-1}^{1} \\sqrt(1-x^2) {\\rm d}x\n",
    "$$\n",
    "which it's known to be $I=\\frac{\\pi}{2}=1.57079632679...$.\n",
    "Alternatively we can use the Riemann definition of the integral:\n",
    "$$\n",
    "I=\\lim_{N\\to\\infty} \\sum_{k=1}^{N} h y_k \n",
    "$$\n",
    "\n",
    "with $h=2/N$ the width of each of the $N$ slices the domain is divided into and where\n",
    "$y_k$ is the value of the function at the $k-$th slice.\n",
    "\n",
    "(a) Write a programe to compute the integral with $N=100$. How does the result compares to the true value?\n",
    "\n",
    "(b) How much can $N$ be increased if the computation needs to be run in less than a second? What is the gain in running it for 1 minute? \n"
   ]
  },
  {
   "cell_type": "code",
   "execution_count": 6,
   "metadata": {},
   "outputs": [
    {
     "name": "stdout",
     "output_type": "stream",
     "text": [
      "1.5712827762297947\n"
     ]
    }
   ],
   "source": [
    "def g(x):\n",
    "    return sqrt(1-x**2)\n",
    "\n",
    "def integrate(N):\n",
    "    I = 0\n",
    "    x = -1\n",
    "    for i in range(N):\n",
    "        I += 2/N * g(x+1/N) #considero il centro del bin\n",
    "        x += 2/N\n",
    "    return I\n",
    "\n",
    "print(integrate(100))      #il risultato del programma è leggermente maggiore\n",
    "#print(integrate(5000000))  #circa un secondo\n",
    "#print(integrate(200000000)) #circa un minuto (risultato corretto fino all'ottava cifra dopo la virgola)"
   ]
  },
  {
   "cell_type": "code",
   "execution_count": null,
   "metadata": {},
   "outputs": [],
   "source": []
  },
  {
   "cell_type": "code",
   "execution_count": null,
   "metadata": {},
   "outputs": [],
   "source": []
  }
 ],
 "metadata": {
  "kernelspec": {
   "display_name": "Python 3",
   "language": "python",
   "name": "python3"
  },
  "language_info": {
   "codemirror_mode": {
    "name": "ipython",
    "version": 3
   },
   "file_extension": ".py",
   "mimetype": "text/x-python",
   "name": "python",
   "nbconvert_exporter": "python",
   "pygments_lexer": "ipython3",
   "version": "3.6.6"
  }
 },
 "nbformat": 4,
 "nbformat_minor": 2
}
