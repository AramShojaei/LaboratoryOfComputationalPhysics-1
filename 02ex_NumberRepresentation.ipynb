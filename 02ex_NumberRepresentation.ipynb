{
 "cells": [
  {
   "cell_type": "markdown",
   "metadata": {},
   "source": [
    "1\\. Write a function that converts number representation (bin<->dec<->hex)"
   ]
  },
  {
   "cell_type": "code",
   "execution_count": 41,
   "metadata": {},
   "outputs": [
    {
     "name": "stdout",
     "output_type": "stream",
     "text": [
      "83\n",
      "123\n"
     ]
    }
   ],
   "source": [
    "def rappr_to_10(stringa, base):\n",
    "    num = 0\n",
    "    power = len(stringa) - 1\n",
    "    for c in stringa:\n",
    "        if c == \"A\":\n",
    "            c = 10\n",
    "        if c == \"B\":\n",
    "            c = 11\n",
    "        if c == \"C\":\n",
    "            c = 12\n",
    "        if c == \"D\":\n",
    "            c = 13\n",
    "        if c == \"E\":\n",
    "            c = 14\n",
    "        if c == \"F\":\n",
    "            c = 15\n",
    "        if int(c) >= base:\n",
    "            return \"The number is not valid in this representation\"\n",
    "        num += base**power * int(c)\n",
    "        power -= 1\n",
    "    return str(num)\n",
    "\n",
    "def convert_from_10(stringa, base):\n",
    "    num = int(stringa)\n",
    "    l = \"\"\n",
    "    while num >= base:\n",
    "        resto = num%base\n",
    "        num = int((num - resto)/base)\n",
    "        if resto == 10:\n",
    "            resto = \"A\"\n",
    "        if resto == 11:\n",
    "            resto = \"B\"\n",
    "        if resto == 12:\n",
    "            resto = \"C\"\n",
    "        if resto == 13:\n",
    "            resto = \"D\"\n",
    "        if resto == 14:\n",
    "            resto = \"E\"\n",
    "        if resto == 15:\n",
    "            resto = \"F\"\n",
    "        l = str(resto) + l\n",
    "    resto = num%base\n",
    "    l = str(resto) + l\n",
    "    num = (num - resto)/base\n",
    "\n",
    "    return l\n",
    "\n",
    "\n",
    "print(convert_from_10(\"123\", 15))\n",
    "print(rappr_to_10(convert_from_10(\"123\", 15), 15))"
   ]
  },
  {
   "cell_type": "markdown",
   "metadata": {},
   "source": [
    "2\\. Write a function that converts a 32 bit word into a single precision floating point (i.e. interprets the various bits as sign, mantissa and exponent)"
   ]
  },
  {
   "cell_type": "code",
   "execution_count": 76,
   "metadata": {},
   "outputs": [
    {
     "name": "stdout",
     "output_type": "stream",
     "text": [
      "00000000000000000000000000000001\n",
      "00000000000000000000000000000000\n",
      "00000000000000000000000000000000\n",
      "0\n",
      "-2.0\n"
     ]
    }
   ],
   "source": [
    "# use masks\n",
    "# use effective bits, not strings... (int from 0 to 2147483647 (which is 2**31 - 1))\n",
    "\n",
    "prova = \"00000000000000000000000000000001\"\n",
    "s =     \"00000000000000000000000000000001\"\n",
    "expo =  \"00000000000000000000000111111110\"\n",
    "mant =  \"11111111111111111111111000000000\"\n",
    "\n",
    "def and_str(stringa, mask):\n",
    "    app = \"\"\n",
    "    if len(stringa) != len(mask):\n",
    "        return \"Strings ha not the same langht\"\n",
    "    for c1, c2 in zip(stringa, mask):\n",
    "        app = app + str(int(c1)*int(c2))        \n",
    "    return app\n",
    "\n",
    "\n",
    "nums = and_str(prova, s)\n",
    "\n",
    "print(nums)\n",
    "\n",
    "numexpo = and_str(prova, expo)\n",
    "\n",
    "print(numexpo)\n",
    "\n",
    "nummant = and_str(prova, mant)\n",
    "\n",
    "print(nummant)\n",
    "\n",
    "\n",
    "expo_bin = \"\"\n",
    "\n",
    "for c in range (23, 32):\n",
    "    expo_bin += numexpo[c]\n",
    "\n",
    "expo_ = int(rappr_to_10(expo_bin, 2))\n",
    "\n",
    "print(expo_)\n",
    "\n",
    "num_str = \"\"\n",
    "\n",
    "for c in range(0, 23):\n",
    "    num_str += nummant[c]\n",
    "\n",
    "    \n",
    "num_ = 0\n",
    "for c in range(0, 23):\n",
    "    num_ = int(rappr_to_10((num_str), 2)) / (2**23)\n",
    "\n",
    "num_ += 2**(expo_+1)\n",
    "\n",
    "\n",
    "if int(nums[31]) == 1:\n",
    "    num_ *= -1\n",
    "\n",
    "print(num_)\n"
   ]
  },
  {
   "cell_type": "markdown",
   "metadata": {},
   "source": [
    "3\\. Write a program to determine the underflow and overflow limits (within a factor of 2) for python on your computer. \n",
    "\n",
    "**Tips**: define two variables inizialized to 1 and halve/double them enough time to exceed the under/over-flow limits  "
   ]
  },
  {
   "cell_type": "markdown",
   "metadata": {},
   "source": [
    "4\\. Write a program to determine the machine precision\n",
    "\n",
    "**Tips**: define a new variable by adding a smaller and smaller value (proceeding similarly to prob. 2) to an original variable and check the point where the two are the same "
   ]
  },
  {
   "cell_type": "markdown",
   "metadata": {},
   "source": [
    "5\\. Write a function that takes in input three parameters $a$, $b$ and $c$ and prints out the two solutions to the quadratic equation $ax^2+bx+c=0$ using the standard formula:\n",
    "$$\n",
    "x=\\frac{-b\\pm\\sqrt{b^2-4ac}}{2a}\n",
    "$$\n",
    "\n",
    "(a) use the program to compute the solution for $a=0.001$, $b=1000$ and $c=0.001$\n",
    "\n",
    "(b) re-express the standard solution formula by multiplying top and bottom by $-b\\mp\\sqrt{b^2-4ac}$ and again find the solution for $a=0.001$, $b=1000$ and $c=0.001$. How does it compare with what previously obtained? Why?\n",
    "\n",
    "(c) write a function that compute the roots of a quadratic equation accurately in all cases"
   ]
  },
  {
   "cell_type": "markdown",
   "metadata": {},
   "source": [
    "6\\. Write a program that implements the function $f(x)=x(x−1)$\n",
    "\n",
    "(a) Calculate the derivative of the function at the point $x = 1$ using the derivative definition:\n",
    "\n",
    "$$\n",
    "\\frac{{\\rm d}f}{{\\rm d}x} = \\lim_{\\delta\\to0} \\frac{f(x+\\delta)-f(x)}{\\delta}\n",
    "$$\n",
    "\n",
    "with $\\delta = 10^{−2}$. Calculate the true value of the same derivative analytically and compare with the answer your program gives. The two will not agree perfectly. Why not?\n",
    "\n",
    "(b) Repeat the calculation for $\\delta = 10^{−4}, 10^{−6}, 10^{−8}, 10^{−10}, 10^{−12}$ and $10^{−14}$. How does the accuracy scales with $\\delta$?"
   ]
  },
  {
   "cell_type": "markdown",
   "metadata": {},
   "source": [
    "7\\. Consider the integral of the semicircle of radius 1:\n",
    "$$\n",
    "I=\\int_{-1}^{1} \\sqrt(1-x^2) {\\rm d}x\n",
    "$$\n",
    "which it's known to be $I=\\frac{\\pi}{2}=1.57079632679...$.\n",
    "Alternatively we can use the Riemann definition of the integral:\n",
    "$$\n",
    "I=\\lim_{N\\to\\infty} \\sum_{k=1}^{N} h y_k \n",
    "$$\n",
    "\n",
    "with $h=2/N$ the width of each of the $N$ slices the domain is divided into and where\n",
    "$y_k$ is the value of the function at the $k-$th slice.\n",
    "\n",
    "(a) Write a programe to compute the integral with $N=100$. How does the result compares to the true value?\n",
    "\n",
    "(b) How much can $N$ be increased if the computation needs to be run in less than a second? What is the gain in running it for 1 minute? \n"
   ]
  },
  {
   "cell_type": "code",
   "execution_count": null,
   "metadata": {
    "collapsed": true
   },
   "outputs": [],
   "source": []
  }
 ],
 "metadata": {
  "kernelspec": {
   "display_name": "Python 3",
   "language": "python",
   "name": "python3"
  },
  "language_info": {
   "codemirror_mode": {
    "name": "ipython",
    "version": 3
   },
   "file_extension": ".py",
   "mimetype": "text/x-python",
   "name": "python",
   "nbconvert_exporter": "python",
   "pygments_lexer": "ipython3",
   "version": "3.6.3"
  }
 },
 "nbformat": 4,
 "nbformat_minor": 2
}
