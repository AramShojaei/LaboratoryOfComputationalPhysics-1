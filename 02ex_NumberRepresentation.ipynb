{
 "cells": [
  {
   "cell_type": "markdown",
   "metadata": {},
   "source": [
    "1\\. Write a function that converts number representation (bin<->dec<->hex)"
   ]
  },
  {
   "cell_type": "code",
   "execution_count": 38,
   "metadata": {},
   "outputs": [],
   "source": [
    "def convertion(number, output_base):\n",
    "    if type(a) == str:\n",
    "        if number[1] == 'b':\n",
    "            if output_base == 10:\n",
    "                return int(number,2)\n",
    "            elif output_base == 16:\n",
    "                return hex(int(number,2))\n",
    "        elif number[1] == 'x':\n",
    "            if output_base == 10:\n",
    "                return int(a,16)\n",
    "            elif output_base == 2:\n",
    "                return bin(int(number,16))\n",
    "    elif type(number) == int:\n",
    "        if output_base == 2:\n",
    "            return bin(number)\n",
    "        elif output_bases == 16:\n",
    "            return hex(number)\n",
    "        elif output_base == 10:\n",
    "            return number\n",
    "        else:\n",
    "            print(\"Invalid output base\")\n",
    "    return None"
   ]
  },
  {
   "cell_type": "markdown",
   "metadata": {},
   "source": [
    "2\\. Write a function that converts a 32 bit word into a single precision floating point (i.e. interprets the various bits as sign, mantissa and exponent)"
   ]
  },
  {
   "cell_type": "code",
   "execution_count": 1,
   "metadata": {},
   "outputs": [
    {
     "data": {
      "text/plain": [
       "1.316553672920962e-36"
      ]
     },
     "execution_count": 1,
     "metadata": {},
     "output_type": "execute_result"
    }
   ],
   "source": [
    "def spfp(number):\n",
    "    if len(number)!=32:\n",
    "        print(\"You don't have inserted a 32 bit word\")\n",
    "    #elif x for x in range(20) if x % 2 == 0:\n",
    "        #print (\"You don't have inserted a bit word\")\n",
    "    else:\n",
    "        sign=int(number[0])\n",
    "        exponent = 0\n",
    "        for i in range(1,9):\n",
    "            exponent = exponent + 2**(-i+8)*int(number[i])\n",
    "        mantissa = 0\n",
    "        for i in range(9,32):\n",
    "            mantissa = mantissa + (2**(-i+8))*int(number[i])\n",
    "        if sign==0:\n",
    "            return (1+mantissa)*(2**(exponent-127))\n",
    "        else:\n",
    "            return (-1-mantissa)*(2**(exponent-127))\n",
    "spfp(\"00000011111000000000000000000000\")"
   ]
  },
  {
   "cell_type": "markdown",
   "metadata": {},
   "source": [
    "3\\. Write a program to determine the underflow and overflow limits (within a factor of 2) for python on your computer. \n",
    "\n",
    "**Tips**: define two variables inizialized to 1 and halve/double them enough time to exceed the under/over-flow limits  "
   ]
  },
  {
   "cell_type": "code",
   "execution_count": 4,
   "metadata": {},
   "outputs": [
    {
     "name": "stdout",
     "output_type": "stream",
     "text": [
      "5e-324\n",
      "1075\n"
     ]
    }
   ],
   "source": [
    "def downlimits():\n",
    "    a = 1\n",
    "    b = a/2\n",
    "    i = 0\n",
    "    while a!=b:\n",
    "        temp = a\n",
    "        a = b\n",
    "        b = a/2\n",
    "        i=i+1\n",
    "    print(temp)\n",
    "    print (i)\n",
    "downlimits()"
   ]
  },
  {
   "cell_type": "code",
   "execution_count": 9,
   "metadata": {},
   "outputs": [
    {
     "name": "stdout",
     "output_type": "stream",
     "text": [
      "8.98846567431158e+307\n",
      "1024\n"
     ]
    }
   ],
   "source": [
    "def uplimits():\n",
    "    a = float(1)\n",
    "    i=0\n",
    "    while a<float('Inf'):\n",
    "        temp = a\n",
    "        a = a*2\n",
    "        i=i+1\n",
    "    print(temp)\n",
    "    print(i)\n",
    "uplimits()"
   ]
  },
  {
   "cell_type": "markdown",
   "metadata": {},
   "source": [
    "4\\. Write a program to determine the machine precision\n",
    "\n",
    "**Tips**: define a new variable by adding a smaller and smaller value (proceeding similarly to prob. 2) to an original variable and check the point where the two are the same "
   ]
  },
  {
   "cell_type": "code",
   "execution_count": 10,
   "metadata": {},
   "outputs": [
    {
     "name": "stdout",
     "output_type": "stream",
     "text": [
      "1.1102230246251565e-16\n",
      "53\n",
      "1.0\n"
     ]
    }
   ],
   "source": [
    "a=float(1)\n",
    "b=float(1)\n",
    "i=0\n",
    "\n",
    "while (a + b) > a:\n",
    "    b=b/2\n",
    "    i=i+1\n",
    "    \n",
    "print(b)\n",
    "print(i)\n",
    "print(a+b)"
   ]
  },
  {
   "cell_type": "markdown",
   "metadata": {},
   "source": [
    "5\\. Write a function that takes in input three parameters $a$, $b$ and $c$ and prints out the two solutions to the quadratic equation $ax^2+bx+c=0$ using the standard formula:\n",
    "$$\n",
    "x=\\frac{-b\\pm\\sqrt{b^2-4ac}}{2a}\n",
    "$$\n",
    "\n",
    "(a) use the program to compute the solution for $a=0.001$, $b=1000$ and $c=0.001$\n",
    "\n",
    "(b) re-express the standard solution formula by multiplying top and bottom by $-b\\mp\\sqrt{b^2-4ac}$ and again find the solution for $a=0.001$, $b=1000$ and $c=0.001$. How does it compare with what previously obtained? Why?\n",
    "\n",
    "(c) write a function that compute the roots of a quadratic equation accurately in all cases"
   ]
  },
  {
   "cell_type": "code",
   "execution_count": 12,
   "metadata": {},
   "outputs": [
    {
     "name": "stdout",
     "output_type": "stream",
     "text": [
      "Insert a 0.001\n",
      "Insert b 1000\n",
      "Insert c 0.001\n"
     ]
    },
    {
     "data": {
      "text/plain": [
       "(-9.999894245993346e-07, -999999.999999)"
      ]
     },
     "execution_count": 12,
     "metadata": {},
     "output_type": "execute_result"
    }
   ],
   "source": [
    "import numpy as np\n",
    "\n",
    "def roots1():\n",
    "    a,b,c = float(input(\"Insert a \")),float(input(\"Insert b \")),float(input(\"Insert c \"))\n",
    "    x1 = (-b+np.sqrt(b**2-4*a*c))/(2*a)\n",
    "    x2 = (-b-np.sqrt(b**2-4*a*c))/(2*a)\n",
    "    return x1,x2\n",
    "\n",
    "\n",
    "roots1()"
   ]
  },
  {
   "cell_type": "code",
   "execution_count": 15,
   "metadata": {},
   "outputs": [
    {
     "name": "stdout",
     "output_type": "stream",
     "text": [
      "Insert a 0.001\n",
      "Insert b 1000\n",
      "Insert c 0.001\n"
     ]
    },
    {
     "data": {
      "text/plain": [
       "(-1000010.5755125057, -1.0000000000009999e-06)"
      ]
     },
     "execution_count": 15,
     "metadata": {},
     "output_type": "execute_result"
    }
   ],
   "source": [
    "def roots2():\n",
    "    a,b,c = float(input(\"Insert a \")),float(input(\"Insert b \")),float(input(\"Insert c \"))\n",
    "    x1 = (4*a*c)/(2*a*(-b+np.sqrt(b**2-4*a*c)))\n",
    "    x2 = (4*a*c)/(2*a*(-b-np.sqrt(b**2-4*a*c)))\n",
    "    return x1,x2\n",
    "\n",
    "roots2()"
   ]
  },
  {
   "cell_type": "code",
   "execution_count": 18,
   "metadata": {},
   "outputs": [
    {
     "name": "stdout",
     "output_type": "stream",
     "text": [
      "Insert a 0.001\n",
      "Insert b 1000\n",
      "Insert c 0.001\n"
     ]
    },
    {
     "data": {
      "text/plain": [
       "(-999999.999999, -1.0000000000009999e-06)"
      ]
     },
     "execution_count": 18,
     "metadata": {},
     "output_type": "execute_result"
    }
   ],
   "source": [
    "def roots3():\n",
    "    a,b,c = float(input(\"Insert a \")),float(input(\"Insert b \")),float(input(\"Insert c \"))\n",
    "    x1 = (-b-np.sqrt(b**2-4*a*c))/(2*a)\n",
    "    x2 = (4*a*c)/(2*a*(-b-np.sqrt(b**2-4*a*c)))\n",
    "    return x1,x2\n",
    "roots3()"
   ]
  },
  {
   "cell_type": "markdown",
   "metadata": {},
   "source": [
    "6\\. Write a program that implements the function $f(x)=x(x−1)$\n",
    "\n",
    "(a) Calculate the derivative of the function at the point $x = 1$ using the derivative definition:\n",
    "\n",
    "$$\n",
    "\\frac{{\\rm d}f}{{\\rm d}x} = \\lim_{\\delta\\to0} \\frac{f(x+\\delta)-f(x)}{\\delta}\n",
    "$$\n",
    "\n",
    "with $\\delta = 10^{−2}$. Calculate the true value of the same derivative analytically and compare with the answer your program gives. The two will not agree perfectly. Why not?\n",
    "\n",
    "(b) Repeat the calculation for $\\delta = 10^{−4}, 10^{−6}, 10^{−8}, 10^{−10}, 10^{−12}$ and $10^{−14}$. How does the accuracy scales with $\\delta$?"
   ]
  },
  {
   "cell_type": "code",
   "execution_count": 25,
   "metadata": {},
   "outputs": [
    {
     "data": {
      "text/plain": [
       "[<matplotlib.lines.Line2D at 0x7fb5615ef5c0>]"
      ]
     },
     "execution_count": 25,
     "metadata": {},
     "output_type": "execute_result"
    },
    {
     "data": {
      "image/png": "[encoded data removed]",
      "text/plain": [
       "<Figure size 432x288 with 1 Axes>"
      ]
     },
     "metadata": {
      "needs_background": "light"
     },
     "output_type": "display_data"
    }
   ],
   "source": [
    "from matplotlib import pyplot as plt\n",
    "\n",
    "def derivative2(x):\n",
    "    return x-1+x\n",
    "\n",
    "def function(x):\n",
    "    return x*(x-1)\n",
    "\n",
    "def derivative(fun,delta):\n",
    "    return ((function(1+delta)-fun)/delta)\n",
    "\n",
    "Delta = [10e-2,10e-4,10e-6,10e-8,10e-10,10e-12,10e-14]\n",
    "\n",
    "results=[]\n",
    "\n",
    "for delta in Delta:\n",
    "    results.append(derivative(function(1),delta))\n",
    "    \n",
    "plt.plot(results)\n",
    "plt.plot([0,5],[derivative2(1),derivative2(1)],'r--',lw=2)\n",
    "#when delta is not so small, the approximation is not very good. Decreasing delta it becomes better but \n",
    "#the best value of delta is not the smallest one because at a certain point the difference with\n",
    "#the true value restart to increase"
   ]
  },
  {
   "cell_type": "markdown",
   "metadata": {},
   "source": [
    "7\\. Consider the integral of the semicircle of radius 1:\n",
    "$$\n",
    "I=\\int_{-1}^{1} \\sqrt(1-x^2) {\\rm d}x\n",
    "$$\n",
    "which it's known to be $I=\\frac{\\pi}{2}=1.57079632679...$.\n",
    "Alternatively we can use the Riemann definition of the integral:\n",
    "$$\n",
    "I=\\lim_{N\\to\\infty} \\sum_{k=1}^{N} h y_k \n",
    "$$\n",
    "\n",
    "with $h=2/N$ the width of each of the $N$ slices the domain is divided into and where\n",
    "$y_k$ is the value of the function at the $k-$th slice.\n",
    "\n",
    "(a) Write a programe to compute the integral with $N=100$. How does the result compares to the true value?\n",
    "\n",
    "(b) How much can $N$ be increased if the computation needs to be run in less than a second? What is the gain in running it for 1 minute? \n"
   ]
  },
  {
   "cell_type": "code",
   "execution_count": 26,
   "metadata": {},
   "outputs": [],
   "source": [
    "def integral(N):\n",
    "    h = 2/N\n",
    "    integral = 0\n",
    "    for i in range(N):\n",
    "        mean = abs(np.sqrt(1-(-1+i*h)**2)+np.sqrt(1-(-1+i*h+h)**2))/2\n",
    "        integral = integral + h*mean\n",
    "    return integral\n",
    "    "
   ]
  },
  {
   "cell_type": "code",
   "execution_count": 27,
   "metadata": {},
   "outputs": [
    {
     "name": "stderr",
     "output_type": "stream",
     "text": [
      "/home/federico/anaconda3/lib/python3.6/site-packages/ipykernel_launcher.py:5: RuntimeWarning: invalid value encountered in sqrt\n",
      "  \"\"\"\n"
     ]
    }
   ],
   "source": [
    "x = np.zeros(98)\n",
    "for i in range(2,100):\n",
    "    x[i-2]=integral(i)"
   ]
  },
  {
   "cell_type": "code",
   "execution_count": 28,
   "metadata": {},
   "outputs": [
    {
     "data": {
      "text/plain": [
       "<matplotlib.legend.Legend at 0x7fb5614ea080>"
      ]
     },
     "execution_count": 28,
     "metadata": {},
     "output_type": "execute_result"
    },
    {
     "data": {
      "image/png": "[encoded data removed]",
      "text/plain": [
       "<Figure size 720x576 with 1 Axes>"
      ]
     },
     "metadata": {
      "needs_background": "light"
     },
     "output_type": "display_data"
    }
   ],
   "source": [
    "import matplotlib.pyplot as plt\n",
    "\n",
    "plt.figure(figsize=(10,8))\n",
    "plt.axis([0, 100, 0, 2])\n",
    "plt.plot([0,100],[1.57,1.57],'r--',lw=2, label='true value')\n",
    "plt.plot(x,label='empirical value')\n",
    "plt.xlabel('N')\n",
    "plt.ylabel('Area')\n",
    "plt.legend()"
   ]
  },
  {
   "cell_type": "code",
   "execution_count": 35,
   "metadata": {},
   "outputs": [
    {
     "name": "stdout",
     "output_type": "stream",
     "text": [
      "264 µs ± 11.6 µs per loop (mean ± std. dev. of 7 runs, 1000 loops each)\n",
      "2.61 ms ± 172 µs per loop (mean ± std. dev. of 7 runs, 100 loops each)\n",
      "26.2 ms ± 1.06 ms per loop (mean ± std. dev. of 7 runs, 10 loops each)\n",
      "249 ms ± 5.53 ms per loop (mean ± std. dev. of 7 runs, 1 loop each)\n",
      "2.5 s ± 50.7 ms per loop (mean ± std. dev. of 7 runs, 1 loop each)\n",
      "24.5 s ± 44.1 ms per loop (mean ± std. dev. of 7 runs, 1 loop each)\n"
     ]
    }
   ],
   "source": [
    "%timeit integral(100)\n",
    "%timeit integral(1000)\n",
    "%timeit integral(10000)\n",
    "%timeit integral(100000)\n",
    "%timeit integral(1000000)\n",
    "%timeit integral(10000000)"
   ]
  },
  {
   "cell_type": "code",
   "execution_count": 36,
   "metadata": {},
   "outputs": [
    {
     "name": "stdout",
     "output_type": "stream",
     "text": [
      "1.5691342555492493\n",
      "1.57074373850107\n",
      "1.570794663715288\n",
      "1.5707962742033925\n",
      "1.570796325131829\n",
      "1.5707963267420648\n"
     ]
    }
   ],
   "source": [
    "print(integral(100))\n",
    "print(integral(1000))\n",
    "print(integral(10000))\n",
    "print(integral(100000))\n",
    "print(integral(1000000))\n",
    "print(integral(10000000))"
   ]
  },
  {
   "cell_type": "code",
   "execution_count": null,
   "metadata": {},
   "outputs": [],
   "source": []
  }
 ],
 "metadata": {
  "kernelspec": {
   "display_name": "Python 3",
   "language": "python",
   "name": "python3"
  },
  "language_info": {
   "codemirror_mode": {
    "name": "ipython",
    "version": 3
   },
   "file_extension": ".py",
   "mimetype": "text/x-python",
   "name": "python",
   "nbconvert_exporter": "python",
   "pygments_lexer": "ipython3",
   "version": "3.6.8"
  }
 },
 "nbformat": 4,
 "nbformat_minor": 2
}
