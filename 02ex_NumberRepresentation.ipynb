{
 "cells": [
  {
   "cell_type": "markdown",
   "metadata": {},
   "source": [
    "1\\. Write a function that converts number representation (bin<->dec<->hex)"
   ]
  },
  {
   "cell_type": "code",
   "execution_count": 111,
   "metadata": {},
   "outputs": [
    {
     "name": "stdout",
     "output_type": "stream",
     "text": [
      "dec to hex and dec to bin\n",
      "0x155\n",
      "0b101010101\n",
      "second method\n",
      "0x155\n",
      "0b101010101\n",
      "\n",
      "\n",
      "hex to bin and hex to dec\n",
      "0b101010101\n",
      "341\n",
      "second method\n",
      "0b101010101\n",
      "341\n",
      "\n",
      "\n",
      "bin to hex and bin to dec\n",
      "0x155\n",
      "341\n",
      "second method\n",
      "0x155\n",
      "341\n"
     ]
    }
   ],
   "source": [
    "#the program accept as input three strings defining the two basis and the number to be converted\n",
    "#it's assumed that the user gives in input a correct representation\n",
    "#the 0x for hex and the 0b for the binary slices are not compulsory\n",
    "def conv(f, t, a):\n",
    "    if f==t:\n",
    "        return None\n",
    "    if f=='bin':\n",
    "        if t == 'hex':\n",
    "            return hex(int(str(a),2))\n",
    "        else:\n",
    "            return int(str(a),2)\n",
    "    elif f=='dec':\n",
    "        if t == 'bin':\n",
    "            return bin(int(a))\n",
    "        else:\n",
    "            return hex(int(a))\n",
    "    else:\n",
    "        if t == 'dec':\n",
    "            return int(str(a), 16)\n",
    "        else:\n",
    "            return bin(int(str(a),16))\n",
    "        \n",
    "def conv2(f, t, a):\n",
    "    if f == t:\n",
    "        return None\n",
    "    if f == 'bin':\n",
    "        if t == 'hex':\n",
    "            return conv2('dec','hex',conv2('bin','dec',a))\n",
    "        else:\n",
    "            return bintodec(a)\n",
    "    elif f == 'dec':\n",
    "        if t == 'hex':\n",
    "            return dectohex(a)\n",
    "        else:\n",
    "            return dectobin(a)\n",
    "    else:\n",
    "        if t == 'bin':\n",
    "            return dectobin(conv2('hex','dec',a))\n",
    "        else:\n",
    "            return hextodec(a)\n",
    "\n",
    "def dectohex(a):\n",
    "    quo = int(a)\n",
    "    res = ''\n",
    "    while quo != 0:\n",
    "        rem = quo%16\n",
    "        if rem == 10:\n",
    "            toadd = 'A'\n",
    "        elif rem == 11:\n",
    "            toadd = 'B'\n",
    "        elif rem == 12:\n",
    "            toadd = 'C'\n",
    "        elif rem == 13:\n",
    "            toadd = 'D'\n",
    "        elif rem == 14:\n",
    "            toadd = 'E'\n",
    "        elif rem == 15:\n",
    "            toadd = 'F'\n",
    "        else:\n",
    "            toadd = str(rem)\n",
    "        res = toadd + res\n",
    "        quo = quo // 16\n",
    "    return \"0x\"+res\n",
    "\n",
    "def hextodec(a):\n",
    "    if a.startswith(\"0x\"):\n",
    "        a = a[2:]\n",
    "    \n",
    "    cont = len(a)-1\n",
    "    res = 0\n",
    "    for x in a:\n",
    "        res = res + int(x)*16**(cont)\n",
    "        cont -= 1\n",
    "    return res\n",
    "\n",
    "def dectobin(a):\n",
    "    quo = int(a)\n",
    "    res = ''\n",
    "    while quo != 0:\n",
    "        rem = quo%2\n",
    "        res =  str(rem) + res\n",
    "        quo = quo // 2\n",
    "    return \"0b\"+res\n",
    "\n",
    "def bintodec(a):    \n",
    "    if a.startswith(\"0x\"):\n",
    "        a = a[2:]\n",
    "    \n",
    "    cont = len(a)-1\n",
    "    res = 0\n",
    "    for x in a:\n",
    "        res = res + int(x)*2**(cont)\n",
    "        cont -= 1\n",
    "    return res\n",
    "\n",
    "print('dec to hex and dec to bin')\n",
    "print(conv('dec','hex','341'))\n",
    "print(conv('dec','bin','341'))\n",
    "print('second method')\n",
    "print(conv2('dec','hex','341'))\n",
    "print(conv2('dec','bin','341'))\n",
    "print('\\n')\n",
    "\n",
    "print('hex to bin and hex to dec')\n",
    "print(conv('hex','bin','0x155'))\n",
    "print(conv('hex','dec','155'))\n",
    "print('second method')\n",
    "print(conv('hex','bin','0x155'))\n",
    "print(conv('hex','dec','155'))\n",
    "print('\\n')\n",
    "\n",
    "print('bin to hex and bin to dec')\n",
    "print(conv('bin','hex','101010101'))\n",
    "print(conv('bin','dec','101010101'))\n",
    "print('second method')\n",
    "print(conv2('bin','hex','101010101'))\n",
    "print(conv2('bin','dec','101010101'))\n"
   ]
  },
  {
   "cell_type": "markdown",
   "metadata": {},
   "source": [
    "2\\. Write a function that converts a 32 bit word into a single precision floating point (i.e. interprets the various bits as sign, mantissa and exponent)"
   ]
  },
  {
   "cell_type": "code",
   "execution_count": 62,
   "metadata": {},
   "outputs": [
    {
     "data": {
      "text/plain": [
       "'sign: -1 exponent: (2**43) mantissa: 1.8482153415679932'"
      ]
     },
     "execution_count": 62,
     "metadata": {},
     "output_type": "execute_result"
    }
   ],
   "source": [
    "#TODO I NEED TO USE A INT\n",
    "def spfp(var):\n",
    "    if len(var)!=32:\n",
    "        return None\n",
    "    k = \"sign: \" + str((-1)**int(var[0]))\n",
    "    k = k+' exponent: (2**'+str((conv('bin','dec',var[1:9])-127))+')'\n",
    "    cont = 1\n",
    "    res = 1\n",
    "    for x in var[9:]:\n",
    "        res = res + int(x)*2**(-cont)\n",
    "        cont += 1\n",
    "    return(k+\" mantissa: \"+str(res))\n",
    "    \n",
    "test = '11010101011011001001001001010010'\n",
    "spfp(test)"
   ]
  },
  {
   "cell_type": "markdown",
   "metadata": {},
   "source": [
    "3\\. Write a program to determine the underflow and overflow limits (within a factor of 2) for python on your computer. \n",
    "\n",
    "**Tips**: define two variables inizialized to 1 and halve/double them enough time to exceed the under/over-flow limits  "
   ]
  },
  {
   "cell_type": "code",
   "execution_count": 64,
   "metadata": {},
   "outputs": [
    {
     "name": "stdout",
     "output_type": "stream",
     "text": [
      "5e-324\n",
      "0.0\n",
      "8.98846567431158e+307\n",
      "inf\n"
     ]
    }
   ],
   "source": [
    "start = 1.\n",
    "while 1:\n",
    "    temp = start/2\n",
    "    if temp == 0:\n",
    "        print(start)\n",
    "        print(temp)\n",
    "        break\n",
    "    else:\n",
    "        start = temp\n",
    "\n",
    "start = 1.\n",
    "while 1:\n",
    "    temp = start*2\n",
    "    if abs(temp)==float('inf'):\n",
    "        print(start)\n",
    "        print(temp)\n",
    "        break\n",
    "    else:\n",
    "        start = temp"
   ]
  },
  {
   "cell_type": "markdown",
   "metadata": {},
   "source": [
    "4\\. Write a program to determine the machine precision\n",
    "\n",
    "**Tips**: define a new variable by adding a smaller and smaller value (proceeding similarly to prob. 2) to an original variable and check the point where the two are the same "
   ]
  },
  {
   "cell_type": "code",
   "execution_count": 65,
   "metadata": {},
   "outputs": [
    {
     "name": "stdout",
     "output_type": "stream",
     "text": [
      "2.220446049250313e-16\n",
      "2.22044604925e-16\n"
     ]
    }
   ],
   "source": [
    "import numpy as np\n",
    "start = 1.\n",
    "\n",
    "step = 2.\n",
    "end = 0.\n",
    "while start != end:\n",
    "    step = step/2\n",
    "    end = start + step\n",
    "    \n",
    "print(step*2)\n",
    "print(np.finfo(float).eps)"
   ]
  },
  {
   "cell_type": "markdown",
   "metadata": {},
   "source": [
    "5\\. Write a function that takes in input three parameters $a$, $b$ and $c$ and prints out the two solutions to the quadratic equation $ax^2+bx+c=0$ using the standard formula:\n",
    "$$\n",
    "x=\\frac{-b\\pm\\sqrt{b^2-4ac}}{2a}\n",
    "$$\n",
    "\n",
    "(a) use the program to compute the solution for $a=0.001$, $b=1000$ and $c=0.001$\n",
    "\n",
    "(b) re-express the standard solution formula by multiplying top and bottom by $-b\\mp\\sqrt{b^2-4ac}$ and again find the solution for $a=0.001$, $b=1000$ and $c=0.001$. How does it compare with what previously obtained? Why?\n",
    "\n",
    "(c) write a function that compute the roots of a quadratic equation accurately in all cases"
   ]
  },
  {
   "cell_type": "code",
   "execution_count": 66,
   "metadata": {},
   "outputs": [
    {
     "name": "stdout",
     "output_type": "stream",
     "text": [
      "(-9.999894245993346e-07, -999999.999999)\n",
      "(-1.000000000001e-06, -1000010.5755125057)\n",
      "(-1.000000000001e-06, -999999.999999)\n"
     ]
    }
   ],
   "source": [
    "from math import sqrt\n",
    "def std(a,b,c):\n",
    "    s=sqrt(b**2-4*a*c)\n",
    "    return ((-b+s)/(2*a),(-b-s)/(2*a))\n",
    "\n",
    "def std2(a,b,c):\n",
    "    s=sqrt(b**2-4*a*c)\n",
    "    return (2*c/(-b-s),2*c/(-b+s))\n",
    "\n",
    "def accurate(a,b,c):\n",
    "    return (std2(a,b,c)[0],std(a,b,c)[1])\n",
    "    \n",
    "print(std(0.001,1000,0.001))\n",
    "print(std2(0.001,1000,0.001))\n",
    "print(accurate(0.001,1000,0.001))"
   ]
  },
  {
   "cell_type": "markdown",
   "metadata": {},
   "source": [
    "6\\. Write a program that implements the function $f(x)=x(x−1)$\n",
    "\n",
    "(a) Calculate the derivative of the function at the point $x = 1$ using the derivative definition:\n",
    "\n",
    "$$\n",
    "\\frac{{\\rm d}f}{{\\rm d}x} = \\lim_{\\delta\\to0} \\frac{f(x+\\delta)-f(x)}{\\delta}\n",
    "$$\n",
    "\n",
    "with $\\delta = 10^{−2}$. Calculate the true value of the same derivative analytically and compare with the answer your program gives. The two will not agree perfectly. Why not?\n",
    "\n",
    "(b) Repeat the calculation for $\\delta = 10^{−4}, 10^{−6}, 10^{−8}, 10^{−10}, 10^{−12}$ and $10^{−14}$. How does the accuracy scales with $\\delta$?"
   ]
  },
  {
   "cell_type": "code",
   "execution_count": 89,
   "metadata": {},
   "outputs": [
    {
     "name": "stdout",
     "output_type": "stream",
     "text": [
      "[0.01, 0.0001, 1e-06, 1e-08, 1e-10, 1e-12, 1e-14]\n",
      "step:   0.01 res: 1.010000000000001 diff: -1.000000000000001\n",
      "step: 0.0001 res: 1.000099999999890 diff: -0.999999999999890\n",
      "step:  1e-06 res: 1.000000999917733 diff: -0.999999999917733\n",
      "step:  1e-08 res: 1.000000003922529 diff: -0.999999993922529\n",
      "step:  1e-10 res: 1.000000082840371 diff: -1.000000082740371\n",
      "step:  1e-12 res: 1.000088900583341 diff: -1.000088900582341\n",
      "step:  1e-14 res: 0.999200722162651 diff: -0.999200722162641\n"
     ]
    }
   ],
   "source": [
    "func = lambda x: x*(x-1)\n",
    "x = 1\n",
    "steps = [10**(-step) for step in range(2,16,2)]\n",
    "print(steps)\n",
    "res = []\n",
    "for delta in steps:\n",
    "    res.append((func(x+delta)-func(x))/delta)\n",
    "for x,y in zip(steps, res):\n",
    "    print(\"step: %6s res: %5.15f diff: %5.15f\" %(x, y, (x-y)))"
   ]
  },
  {
   "cell_type": "markdown",
   "metadata": {},
   "source": [
    "7\\. Consider the integral of the semicircle of radius 1:\n",
    "$$\n",
    "I=\\int_{-1}^{1} \\sqrt(1-x^2) {\\rm d}x\n",
    "$$\n",
    "which it's known to be $I=\\frac{\\pi}{2}=1.57079632679...$.\n",
    "Alternatively we can use the Riemann definition of the integral:\n",
    "$$\n",
    "I=\\lim_{N\\to\\infty} \\sum_{k=1}^{N} h y_k \n",
    "$$\n",
    "\n",
    "with $h=2/N$ the width of each of the $N$ slices the domain is divided into and where\n",
    "$y_k$ is the value of the function at the $k-$th slice.\n",
    "\n",
    "(a) Write a programe to compute the integral with $N=100$. How does the result compares to the true value?\n",
    "\n",
    "(b) How much can $N$ be increased if the computation needs to be run in less than a second? What is the gain in running it for 1 minute? \n"
   ]
  },
  {
   "cell_type": "code",
   "execution_count": 46,
   "metadata": {},
   "outputs": [
    {
     "name": "stdout",
     "output_type": "stream",
     "text": [
      "CPU times: user 0 ns, sys: 4 ms, total: 4 ms\n",
      "Wall time: 11.5 ms\n",
      "1.5534179294\n",
      "CPU times: user 1min 1s, sys: 360 ms, total: 1min 2s\n",
      "Wall time: 1min 2s\n",
      "1.57079631109\n"
     ]
    }
   ],
   "source": [
    "from math import sqrt\n",
    "def integral(start, end, f, N):\n",
    "    x = np.linspace(start, end, N)\n",
    "    fx = f(x)\n",
    "    res = np.sum(fx)*(end-start)/N\n",
    "    return res\n",
    "\n",
    "def integral2(start, end, f, N):\n",
    "    res = 0\n",
    "    k = np.linspace(start, end, N)\n",
    "    for i in k:\n",
    "        res = res + 2/N*f(i)\n",
    "    return res\n",
    "\n",
    "func = lambda x: (1-x**2)**0.5\n",
    "%time integral(-1,1, func, 100000000)\n",
    "print(integral(-1,1, func, 100000000))\n",
    "%time integral2(-1,1, func, 100000000)\n",
    "print(integral2(-1,1, func, 100000000))\n"
   ]
  },
  {
   "cell_type": "code",
   "execution_count": null,
   "metadata": {
    "collapsed": true
   },
   "outputs": [],
   "source": []
  }
 ],
 "metadata": {
  "kernelspec": {
   "display_name": "Python 3",
   "language": "python",
   "name": "python3"
  },
  "language_info": {
   "codemirror_mode": {
    "name": "ipython",
    "version": 3
   },
   "file_extension": ".py",
   "mimetype": "text/x-python",
   "name": "python",
   "nbconvert_exporter": "python",
   "pygments_lexer": "ipython3",
   "version": "3.6.3"
  }
 },
 "nbformat": 4,
 "nbformat_minor": 2
}
