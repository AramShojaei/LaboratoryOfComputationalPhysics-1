{
 "cells": [
  {
   "cell_type": "markdown",
   "metadata": {},
   "source": [
    "1\\. Write a function that converts number representation (bin<->dec<->hex)"
   ]
  },
  {
   "cell_type": "code",
   "execution_count": null,
   "metadata": {},
   "outputs": [],
   "source": [
    "s=''\n",
    "\n",
    "s='10'\n",
    "a=int(s)\n",
    "print(s[1])"
   ]
  },
  {
   "cell_type": "code",
   "execution_count": null,
   "metadata": {},
   "outputs": [],
   "source": [
    "#se numero intero, base_1 è la base di partenza mentre base_2 è quella finale\n",
    "def conversion(number, base_1, base_2):\n",
    "    \n",
    "    if base_1>9 and base_1<11: #caso in cui la base di partenza è decimale, il numero è int\n",
    "        cn_str=''\n",
    "        converted_number=0\n",
    "        while number>0: \n",
    "            converted_number = number%base_2\n",
    "            cn_str += str(converted_number)\n",
    "            number=number/base_2\n",
    "        cn_str=cn_str[::-1]\n",
    "        return cn_str\n",
    "    else: #se la base di partenza non è decimale il numero è una stringa\n",
    "        converted_number=0\n",
    "        n_str=str(number)\n",
    "        n_str=n_str[::-1]\n",
    "        l=len(n_str)\n",
    "        for i in range(l):\n",
    "            converted_number +=int(n_str[i])*base_1**i\n",
    "            \n",
    "        return converted_number\n",
    "\n",
    "print(conversion(1000,2,10))\n",
    "\n",
    "##bisognerebbe gestire anche parte frazionaria e i casi d'errore!!!!!!\n",
    "        "
   ]
  },
  {
   "cell_type": "markdown",
   "metadata": {},
   "source": [
    "2\\. Write a function that converts a 32 bit word into a single precision floating point (i.e. interprets the various bits as sign, mantissa and exponent)"
   ]
  },
  {
   "cell_type": "code",
   "execution_count": null,
   "metadata": {},
   "outputs": [],
   "source": [
    "s='0.110'\n",
    "print(float(s,2))"
   ]
  },
  {
   "cell_type": "code",
   "execution_count": null,
   "metadata": {},
   "outputs": [],
   "source": [
    "def spfp_conversion(word):\n",
    "    print(word)\n",
    "    word=word[::-1]\n",
    "    print(len(word))\n",
    "    segno=word[31]\n",
    "    e=int(word[24:31],2)\n",
    "    bias=127\n",
    "    esp=e-bias\n",
    "    mantissa=int(word[0:24],2)\n",
    "    number = (1+ mantissa*0.1)*2**esp\n",
    "    if segno=='0':\n",
    "        return '+'+str(number)\n",
    "    else:\n",
    "        return '-'+str(number)\n",
    "\n",
    "spfp_conversion('10011111100000000000000000000001')"
   ]
  },
  {
   "cell_type": "markdown",
   "metadata": {},
   "source": [
    "3\\. Write a program to determine the underflow and overflow limits (within a factor of 2) for python on your computer. \n",
    "\n",
    "**Tips**: define two variables inizialized to 1 and halve/double them enough time to exceed the under/over-flow limits  "
   ]
  },
  {
   "cell_type": "code",
   "execution_count": 3,
   "metadata": {},
   "outputs": [
    {
     "name": "stdout",
     "output_type": "stream",
     "text": [
      "0.0\n",
      "1075\n",
      "inf\n",
      "1024\n",
      "179769313486231590772930519078902473361797697894230657273430081157732675805500963132708477322407536021120113879871393357658789768814416622492847430639474124377767893424865485276302219601246094119453082952085005768838150682342462881473913110540827237163350510684586298239947245938479716304835356329624224137216\n"
     ]
    }
   ],
   "source": [
    "detect_under=float(1)\n",
    "detect_over=float(1)\n",
    "i=0\n",
    "m=0\n",
    "while detect_under>0:\n",
    "    i +=1\n",
    "    detect_under=detect_under/2\n",
    "print(detect_under)\n",
    "print(i)\n",
    "\n",
    "while detect_over<float('Inf'):\n",
    "    m+=1\n",
    "    detect_over=detect_over*2\n",
    "    \n",
    "print(detect_over)\n",
    "print(m)\n",
    "print(2**m)\n"
   ]
  },
  {
   "cell_type": "markdown",
   "metadata": {},
   "source": [
    "4\\. Write a program to determine the machine precision\n",
    "\n",
    "**Tips**: define a new variable by adding a smaller and smaller value (proceeding similarly to prob. 2) to an original variable and check the point where the two are the same "
   ]
  },
  {
   "cell_type": "code",
   "execution_count": 6,
   "metadata": {},
   "outputs": [
    {
     "name": "stdout",
     "output_type": "stream",
     "text": [
      "1.11022302463e-16\n",
      "53\n",
      "1.0\n"
     ]
    }
   ],
   "source": [
    "#It is the difference between 1 and the next nearest number representable as a machine number. \n",
    "# quindi è l'errore massimo che faccio quando memorizzo numeri\n",
    "var=float(1)\n",
    "eps=float(1)\n",
    "it=0\n",
    "while (var + eps) > var:\n",
    "    eps=eps/2\n",
    "    it +=1\n",
    "print(eps)\n",
    "print(it)\n",
    "print(var+eps)"
   ]
  },
  {
   "cell_type": "markdown",
   "metadata": {},
   "source": [
    "5\\. Write a function that takes in input three parameters $a$, $b$ and $c$ and prints out the two solutions to the quadratic equation $ax^2+bx+c=0$ using the standard formula:\n",
    "$$\n",
    "x=\\frac{-b\\pm\\sqrt{b^2-4ac}}{2a}\n",
    "$$\n",
    "\n",
    "(a) use the program to compute the solution for $a=0.001$, $b=1000$ and $c=0.001$\n",
    "\n",
    "(b) re-express the standard solution formula by multiplying top and bottom by $-b\\mp\\sqrt{b^2-4ac}$ and again find the solution for $a=0.001$, $b=1000$ and $c=0.001$. How does it compare with what previously obtained? Why?\n",
    "\n",
    "(c) write a function that compute the roots of a quadratic equation accurately in all cases"
   ]
  },
  {
   "cell_type": "code",
   "execution_count": null,
   "metadata": {},
   "outputs": [],
   "source": [
    "import math\n",
    "math.sqrt(4)\n",
    "print(3/4)"
   ]
  },
  {
   "cell_type": "code",
   "execution_count": 9,
   "metadata": {},
   "outputs": [
    {
     "name": "stdout",
     "output_type": "stream",
     "text": [
      "(-0.5, -1.0)\n",
      "(-9.999894245993346e-07, -999999.999999)\n",
      "(-9.999894245993346e-07, -999999.9999990001)\n",
      "(-0.5, -1.0)\n"
     ]
    },
    {
     "ename": "ZeroDivisionError",
     "evalue": "float division by zero",
     "output_type": "error",
     "traceback": [
      "\u001b[1;31m---------------------------------------------------------------------------\u001b[0m",
      "\u001b[1;31mZeroDivisionError\u001b[0m                         Traceback (most recent call last)",
      "\u001b[1;32m<ipython-input-9-8e721110f7c3>\u001b[0m in \u001b[0;36m<module>\u001b[1;34m()\u001b[0m\n\u001b[0;32m     33\u001b[0m \u001b[1;33m\u001b[0m\u001b[0m\n\u001b[0;32m     34\u001b[0m \u001b[1;32mprint\u001b[0m\u001b[1;33m(\u001b[0m\u001b[0msol_eq\u001b[0m\u001b[1;33m(\u001b[0m\u001b[1;36m2\u001b[0m\u001b[1;33m,\u001b[0m\u001b[1;36m3\u001b[0m\u001b[1;33m,\u001b[0m\u001b[1;36m1\u001b[0m\u001b[1;33m)\u001b[0m\u001b[1;33m)\u001b[0m\u001b[1;33m\u001b[0m\u001b[0m\n\u001b[1;32m---> 35\u001b[1;33m \u001b[1;32mprint\u001b[0m\u001b[1;33m(\u001b[0m\u001b[0msol_eq_3\u001b[0m\u001b[1;33m(\u001b[0m\u001b[1;36m0.001\u001b[0m\u001b[1;33m,\u001b[0m\u001b[1;36m1000\u001b[0m\u001b[1;33m,\u001b[0m\u001b[1;36m0.001\u001b[0m\u001b[1;33m)\u001b[0m\u001b[1;33m)\u001b[0m\u001b[1;33m\u001b[0m\u001b[0m\n\u001b[0m",
      "\u001b[1;32m<ipython-input-9-8e721110f7c3>\u001b[0m in \u001b[0;36msol_eq_3\u001b[1;34m(a, b, c)\u001b[0m\n\u001b[0;32m     28\u001b[0m     \u001b[0mb\u001b[0m\u001b[1;33m=\u001b[0m\u001b[0mround\u001b[0m\u001b[1;33m(\u001b[0m\u001b[0mb\u001b[0m\u001b[1;33m)\u001b[0m\u001b[1;33m\u001b[0m\u001b[0m\n\u001b[0;32m     29\u001b[0m     \u001b[0md\u001b[0m\u001b[1;33m=\u001b[0m\u001b[0mmath\u001b[0m\u001b[1;33m.\u001b[0m\u001b[0msqrt\u001b[0m\u001b[1;33m(\u001b[0m\u001b[0mb\u001b[0m\u001b[1;33m**\u001b[0m\u001b[1;36m2\u001b[0m\u001b[1;33m-\u001b[0m\u001b[1;36m4\u001b[0m\u001b[1;33m*\u001b[0m\u001b[0ma\u001b[0m\u001b[1;33m*\u001b[0m\u001b[0mc\u001b[0m\u001b[1;33m)\u001b[0m\u001b[1;33m\u001b[0m\u001b[0m\n\u001b[1;32m---> 30\u001b[1;33m     \u001b[0mx1\u001b[0m\u001b[1;33m=\u001b[0m\u001b[1;33m(\u001b[0m\u001b[0mb1\u001b[0m\u001b[1;33m+\u001b[0m\u001b[0md\u001b[0m\u001b[1;33m)\u001b[0m\u001b[1;33m/\u001b[0m\u001b[1;33m(\u001b[0m\u001b[1;36m2\u001b[0m\u001b[1;33m*\u001b[0m\u001b[0ma\u001b[0m\u001b[1;33m)\u001b[0m\u001b[1;33m\u001b[0m\u001b[0m\n\u001b[0m\u001b[0;32m     31\u001b[0m     \u001b[0mx2\u001b[0m\u001b[1;33m=\u001b[0m\u001b[1;33m(\u001b[0m\u001b[0mb1\u001b[0m\u001b[1;33m-\u001b[0m\u001b[0md\u001b[0m\u001b[1;33m)\u001b[0m\u001b[1;33m/\u001b[0m\u001b[1;33m(\u001b[0m\u001b[1;36m2\u001b[0m\u001b[1;33m*\u001b[0m\u001b[0ma\u001b[0m\u001b[1;33m)\u001b[0m\u001b[1;33m\u001b[0m\u001b[0m\n\u001b[0;32m     32\u001b[0m     \u001b[1;32mreturn\u001b[0m \u001b[0mx1\u001b[0m\u001b[1;33m,\u001b[0m \u001b[0mx2\u001b[0m\u001b[1;33m\u001b[0m\u001b[0m\n",
      "\u001b[1;31mZeroDivisionError\u001b[0m: float division by zero"
     ]
    }
   ],
   "source": [
    "import math\n",
    "def sol_eq(a,b,c):\n",
    "    d=math.sqrt(b**2-4*a*c)\n",
    "    b1=~b+1\n",
    "    x1=(b1+d)/(2*a)\n",
    "    x2=(b1-d)/(2*a)\n",
    "    return x1, x2\n",
    "\n",
    "print(sol_eq(2,3,1))\n",
    "print(sol_eq(0.001,1000,0.001))\n",
    "\n",
    "def sol_eq_2(a,b,c):\n",
    "    d=math.sqrt(b**2-4*a*c)\n",
    "    b1=~b+1\n",
    "    x1=((b1+d)*(b1-d))/((2*a)*(b1-d))\n",
    "    x2=((b1-d)*(b1+d))/((2*a)*(b1+d))\n",
    "    return x1, x2\n",
    "\n",
    "print(sol_eq_2(0.001,1000,0.001))\n",
    "\n",
    "def sol_eq_3(a,b,c):\n",
    "    a=round(a)\n",
    "    \n",
    "    c=round(c)\n",
    "    \n",
    "    b1=~b+1\n",
    "    b1=round(b1)\n",
    "    b=round(b)\n",
    "    d=math.sqrt(b**2-4*a*c)\n",
    "    x1=(b1+d)/(2*a)\n",
    "    x2=(b1-d)/(2*a)\n",
    "    return x1, x2\n",
    "\n",
    "print(sol_eq(2,3,1))\n",
    "print(sol_eq_3(0.001,1000,0.001))"
   ]
  },
  {
   "cell_type": "markdown",
   "metadata": {},
   "source": [
    "6\\. Write a program that implements a function $f(x)$ returning the value of $x(x−1)$\n",
    "\n",
    "(a)calculates the derivative of the function at the point $x = 1$ using the derivative definition:\n",
    "\n",
    "$$\n",
    "\\frac{{\\rm d}f}{{\\rm d}x} = \\lim_{\\delta\\to0} \\frac{f(x+\\delta)-f(x)}{\\delta}\n",
    "$$\n",
    "\n",
    "with δ = 10−2. Calculate the true value of the same derivative analytically and compare with the answer your program gives. The two will not agree perfectly. Why not?\n",
    "\n",
    "(b) Repeat the calculation for $\\delta = 10^{−4}, 10^{−6}, 10^{−8}, 10^{−10}, 10^{−12}$ and $10^{−14}$. How does the accuracy scales with $\\delta$?"
   ]
  },
  {
   "cell_type": "markdown",
   "metadata": {},
   "source": [
    "7\\. Calculate the integral"
   ]
  },
  {
   "cell_type": "code",
   "execution_count": null,
   "metadata": {},
   "outputs": [],
   "source": []
  }
 ],
 "metadata": {
  "kernelspec": {
   "display_name": "Python 2",
   "language": "python",
   "name": "python2"
  },
  "language_info": {
   "codemirror_mode": {
    "name": "ipython",
    "version": 2
   },
   "file_extension": ".py",
   "mimetype": "text/x-python",
   "name": "python",
   "nbconvert_exporter": "python",
   "pygments_lexer": "ipython2",
   "version": "2.7.14"
  }
 },
 "nbformat": 4,
 "nbformat_minor": 2
}
