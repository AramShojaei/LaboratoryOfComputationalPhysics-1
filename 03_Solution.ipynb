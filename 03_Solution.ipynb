{
 "cells": [
  {
   "cell_type": "markdown",
   "metadata": {},
   "source": [
    "# Numpy basics"
   ]
  },
  {
   "cell_type": "markdown",
   "metadata": {},
   "source": [
    "### 1\\. Find the row, column and overall means for the following matrix:\n",
    "\n",
    "```python\n",
    "m = np.arange(12).reshape((3,4))\n",
    "```"
   ]
  },
  {
   "cell_type": "code",
   "execution_count": 2,
   "metadata": {},
   "outputs": [
    {
     "name": "stdout",
     "output_type": "stream",
     "text": [
      "Overall mean: 5.5 \n",
      "\n",
      "Mean of row 0 : 1.5\n",
      "Mean of row 1 : 5.5\n",
      "Mean of row 2 : 9.5\n",
      "\n",
      "Mean of column 0 : 4.0\n",
      "Mean of column 1 : 5.0\n",
      "Mean of column 2 : 6.0\n",
      "Mean of column 3 : 7.0\n"
     ]
    }
   ],
   "source": [
    "# Exercise 1 \n",
    "import numpy as np\n",
    "\n",
    "m = np.arange(12).reshape((3,4))\n",
    "\n",
    "print ('Overall mean:', np.mean(m), '\\n')\n",
    "# Look at rows\n",
    "for i in range(len(m)):\n",
    "    print ('Mean of row', i, ':', np.mean(m[i]))\n",
    "print ()\n",
    "# Look at columns\n",
    "for i in range(len(m[0])):\n",
    "    print ('Mean of column', i,':', np.mean(m[:,i]))"
   ]
  },
  {
   "cell_type": "markdown",
   "metadata": {},
   "source": [
    "### 2\\. Find the outer product of the following two vecotrs\n",
    "\n",
    "```python\n",
    "u = np.array([1,3,5,7])\n",
    "v = np.array([2,4,6,8])\n",
    "```\n",
    "\n",
    "Do this in the following ways:\n",
    "\n",
    "   * Using the function outer in numpy\n",
    "   * Using a nested for loop or list comprehension\n",
    "   * Using numpy broadcasting operatoins\n"
   ]
  },
  {
   "cell_type": "code",
   "execution_count": 3,
   "metadata": {},
   "outputs": [
    {
     "name": "stdout",
     "output_type": "stream",
     "text": [
      "Numpy Function \n",
      " [[ 2  4  6  8]\n",
      " [ 6 12 18 24]\n",
      " [10 20 30 40]\n",
      " [14 28 42 56]] \n",
      "\n",
      "List Comprehension \n",
      " [[ 2  4  6  8]\n",
      " [ 6 12 18 24]\n",
      " [10 20 30 40]\n",
      " [14 28 42 56]] \n",
      "\n"
     ]
    }
   ],
   "source": [
    "# Exercise 2\n",
    "u = np.array([1,3,5,7])\n",
    "v = np.array([2,4,6,8])\n",
    "\n",
    "Outer1 = np.outer(u,v)\n",
    "Outer2 = np.array([u[i] * v[j] for i in range(len(u)) for j in range(len(v))]).reshape(4,4)\n",
    "\n",
    "print ('Numpy Function \\n', Outer1, '\\n')\n",
    "print ('List Comprehension \\n', Outer2, '\\n')\n",
    "\n",
    "# I don't know how I can use broadcasting to perform the outer product. "
   ]
  },
  {
   "cell_type": "markdown",
   "metadata": {},
   "source": [
    "### 3\\. Create a 10 by 6 matrix of random uniform numbers. Set all rows with any entry less than 0.1 to be zero\n",
    "\n",
    "Hint: Use the following numpy functions - np.random.random, np.any as well as Boolean indexing and the axis argument."
   ]
  },
  {
   "cell_type": "code",
   "execution_count": 4,
   "metadata": {},
   "outputs": [
    {
     "name": "stdout",
     "output_type": "stream",
     "text": [
      "[[0.90127279 0.96487874 0.32150362 0.51751281 0.26568255 0.74248195]\n",
      " [0.63796276 0.57723108 0.67498075 0.71644378 0.89472973 0.84867614]\n",
      " [0.68363216 0.36412527 0.51314681 0.9299866  0.98491916 0.06132117]\n",
      " [0.17830696 0.83713166 0.67894132 0.25370867 0.72169051 0.94804792]\n",
      " [0.28731383 0.86937962 0.23969881 0.16774587 0.25741049 0.89811845]\n",
      " [0.98063627 0.94267187 0.35150849 0.25664572 0.17445019 0.68647536]\n",
      " [0.78758953 0.11165492 0.79657238 0.84273881 0.68796507 0.77472966]\n",
      " [0.92566597 0.91737142 0.96878766 0.3072604  0.90054915 0.5707816 ]\n",
      " [0.64789667 0.19924809 0.2800404  0.50166243 0.03274933 0.31928783]\n",
      " [0.05505471 0.51651008 0.87814015 0.34948252 0.40240712 0.73810973]]\n",
      "\n",
      "[[0.90127279 0.96487874 0.32150362 0.51751281 0.26568255 0.74248195]\n",
      " [0.63796276 0.57723108 0.67498075 0.71644378 0.89472973 0.84867614]\n",
      " [0.         0.         0.         0.         0.         0.        ]\n",
      " [0.17830696 0.83713166 0.67894132 0.25370867 0.72169051 0.94804792]\n",
      " [0.28731383 0.86937962 0.23969881 0.16774587 0.25741049 0.89811845]\n",
      " [0.98063627 0.94267187 0.35150849 0.25664572 0.17445019 0.68647536]\n",
      " [0.78758953 0.11165492 0.79657238 0.84273881 0.68796507 0.77472966]\n",
      " [0.92566597 0.91737142 0.96878766 0.3072604  0.90054915 0.5707816 ]\n",
      " [0.         0.         0.         0.         0.         0.        ]\n",
      " [0.         0.         0.         0.         0.         0.        ]]\n"
     ]
    }
   ],
   "source": [
    "# Exercise 3\n",
    "import math\n",
    "rm = np.random.rand(10,6)\n",
    "\n",
    "\n",
    "print (rm)\n",
    "print ()\n",
    "\n",
    "for i in range(10):\n",
    "    if rm[i].min() <= 0.1:\n",
    "        rm[i] = 0\n",
    "    \n",
    "print (rm)"
   ]
  },
  {
   "cell_type": "markdown",
   "metadata": {},
   "source": [
    "### 4\\. Use np.linspace to create an array of 100 numbers between 0 and 2π (includsive).\n",
    "\n",
    "  * Extract every 10th element using slice notation\n",
    "  * Reverse the array using slice notation\n",
    "  * Extract elements where the absolute difference between the sine and cosine functions evaluated at that element is less than 0.1\n",
    "  * Make a plot showing the sin and cos functions and indicate where they are close"
   ]
  },
  {
   "cell_type": "code",
   "execution_count": 5,
   "metadata": {
    "scrolled": true
   },
   "outputs": [
    {
     "data": {
      "image/png": "[encoded data removed]",
      "text/plain": [
       "<Figure size 432x288 with 1 Axes>"
      ]
     },
     "metadata": {
      "needs_background": "light"
     },
     "output_type": "display_data"
    }
   ],
   "source": [
    "# Exercise 4\n",
    "l = np.linspace(0,2*math.pi,100)\n",
    "i = np.arange(0,100)\n",
    "j = np.arange(99,-1,-1)\n",
    "mask1 = (i % 10 == 0)\n",
    "mask2 = [(abs(math.sin(l[k]) - math.cos(l[k])) < 0.1) for k in range(len(l))]\n",
    "filtered1_l = l[mask1]\n",
    "filtered2_l = l[mask2]\n",
    "reversed_l = l[j]\n",
    "\n",
    "import matplotlib.pyplot as plt\n",
    "%matplotlib inline\n",
    "\n",
    "cos = np.sin(l)\n",
    "sin = np.cos(l)\n",
    "plt.plot(l,cos)\n",
    "plt.plot(l,sin)\n",
    "for k in range(100):\n",
    "    if mask2[k] == True : \n",
    "        plt.axvspan(l[k]-math.pi/100,l[k]+math.pi/100, color='r', alpha=0.5, lw =0)\n"
   ]
  },
  {
   "cell_type": "markdown",
   "metadata": {},
   "source": [
    "### 5\\. Create a matrix that shows the 10 by 10 multiplication table.\n",
    "\n",
    " * Find the trace of the matrix\n",
    " * Extract the anto-diagonal (this should be ```array([10, 18, 24, 28, 30, 30, 28, 24, 18, 10])```)\n",
    " * Extract the diagnoal offset by 1 upwards (this should be ```array([ 2,  6, 12, 20, 30, 42, 56, 72, 90])```)"
   ]
  },
  {
   "cell_type": "code",
   "execution_count": 6,
   "metadata": {},
   "outputs": [
    {
     "name": "stdout",
     "output_type": "stream",
     "text": [
      "Multiplication Table: \n",
      " [[  1   2   3   4   5   6   7   8   9  10]\n",
      " [  2   4   6   8  10  12  14  16  18  20]\n",
      " [  3   6   9  12  15  18  21  24  27  30]\n",
      " [  4   8  12  16  20  24  28  32  36  40]\n",
      " [  5  10  15  20  25  30  35  40  45  50]\n",
      " [  6  12  18  24  30  36  42  48  54  60]\n",
      " [  7  14  21  28  35  42  49  56  63  70]\n",
      " [  8  16  24  32  40  48  56  64  72  80]\n",
      " [  9  18  27  36  45  54  63  72  81  90]\n",
      " [ 10  20  30  40  50  60  70  80  90 100]] \n",
      "\n",
      "AntiDiagonal: \n",
      " [10 18 24 28 30 30 28 24 18 10] \n",
      "\n",
      "Offset Diagonal: \n",
      " [ 2  6 12 20 30 42 56 72 90]\n"
     ]
    }
   ],
   "source": [
    "# Exercise 5 - Multiplication Table\n",
    "Table = np.array([i*j for i in range(1,11) for j in range(1,11)])\n",
    "Table = Table.reshape(10,10)\n",
    "AntiDiag = np.diagonal(np.fliplr(Table))\n",
    "NextDiag = np.diagonal(Table, offset=1)\n",
    "\n",
    "print ('Multiplication Table: \\n',Table,'\\n')\n",
    "print ('AntiDiagonal: \\n', AntiDiag, '\\n')\n",
    "print ('Offset Diagonal: \\n', NextDiag)"
   ]
  },
  {
   "cell_type": "markdown",
   "metadata": {},
   "source": [
    "### 6\\. Use broadcasting to create a grid of distances\n",
    "\n",
    "Route 66 crosses the following cities in the US: Chicago, Springfield, Saint-Louis, Tulsa, Oklahoma City, Amarillo, Santa Fe, Albuquerque, Flagstaff, Los Angeles\n",
    "The corresponding positions in miles are: 0, 198, 303, 736, 871, 1175, 1475, 1544, 1913, 2448\n",
    "\n",
    "  * Construct a 2D grid of distances among each city along Route 66\n",
    "  * Convert that in km (those savages...)"
   ]
  },
  {
   "cell_type": "code",
   "execution_count": 7,
   "metadata": {},
   "outputs": [
    {
     "name": "stdout",
     "output_type": "stream",
     "text": [
      "[   0.         123.0314976  188.2754736  457.3292032  541.2143152\n",
      "  730.11116    916.52252    959.3971328 1188.6831056 1521.1166976\n",
      "  123.0314976    0.          65.243976   334.2977056  418.1828176\n",
      "  607.0796624  793.4910224  836.3656352 1065.651608  1398.0852\n",
      "  188.2754736   65.243976     0.         269.0537296  352.9388416\n",
      "  541.8356864  728.2470464  771.1216592 1000.407632  1332.841224\n",
      "  457.3292032  334.2977056  269.0537296    0.          83.885112\n",
      "  272.7819568  459.1933168  502.0679296  731.3539024 1063.7874944\n",
      "  541.2143152  418.1828176  352.9388416   83.885112     0.\n",
      "  188.8968448  375.3082048  418.1828176  647.4687904  979.9023824\n",
      "  730.11116    607.0796624  541.8356864  272.7819568  188.8968448\n",
      "    0.         186.41136    229.2859728  458.5719456  791.0055376\n",
      "  916.52252    793.4910224  728.2470464  459.1933168  375.3082048\n",
      "  186.41136      0.          42.8746128  272.1605856  604.5941776\n",
      "  959.3971328  836.3656352  771.1216592  502.0679296  418.1828176\n",
      "  229.2859728   42.8746128    0.         229.2859728  561.7195648\n",
      " 1188.6831056 1065.651608  1000.407632   731.3539024  647.4687904\n",
      "  458.5719456  272.1605856  229.2859728    0.         332.433592\n",
      " 1521.1166976 1398.0852    1332.841224  1063.7874944  979.9023824\n",
      "  791.0055376  604.5941776  561.7195648  332.433592     0.       ]\n"
     ]
    }
   ],
   "source": [
    "# Exercise 6 - Route 66\n",
    "\n",
    "# https://docs.scipy.org/doc/numpy/user/basics.broadcasting.html\n",
    "# According to the Numpy Documentation 'Broadcasting' is the way how numpy \n",
    "# handles arrays of different dimensions. I don't know how this can be a way to construct a \n",
    "# grid, so I am going to do it in a different way. \n",
    "\n",
    "Civilisation_Factor = 0.6213712\n",
    "Cities = ['Chicago', 'Springfield', 'Saint-Louis', 'Tulsa', 'Oklahoma City', 'Amarillo', 'Santa Fe', 'Albuquerque', 'Flagstaff', 'Los Angeles']\n",
    "Miles = [0, 198, 303, 736, 871, 1175, 1475, 1544, 1913, 2448]\n",
    "\n",
    "Distances = np.array([abs(i -j) for i in Miles for j in Miles])\n",
    "Distances.reshape(len(Miles), len(Miles))\n",
    "Distances = Distances * Civilisation_Factor\n",
    "print (Distances)"
   ]
  },
  {
   "cell_type": "markdown",
   "metadata": {},
   "source": [
    "### 7\\. Prime numbers sieve: compute the prime numbers in the 0-N (N=99 to start with) range with a sieve (mask).\n",
    "  * Constract a shape (100,) boolean array, the mask\n",
    "  * Identify the multiples of each number starting from 2 and set accordingly the corresponding mask element\n",
    "  * Apply the mask to obtain an array of ordered prime numbers\n",
    "  * Check the performances (timeit); how does it scale with N?\n",
    "  * Implement the optimization suggested in the [sieve of Eratosthenes](https://en.wikipedia.org/wiki/Sieve_of_Eratosthenes)"
   ]
  },
  {
   "cell_type": "code",
   "execution_count": 8,
   "metadata": {},
   "outputs": [
    {
     "name": "stdout",
     "output_type": "stream",
     "text": [
      "364 µs ± 11.3 µs per loop (mean ± std. dev. of 7 runs, 1000 loops each)\n"
     ]
    }
   ],
   "source": [
    "# Exercise 7 - Find Prime Numbers\n",
    "\n",
    "N = 100\n",
    "n = int(math.sqrt(N))\n",
    "small_primes = [2,3,5,7,11,13,17,19,23,29,31,37,41]\n",
    "\n",
    "def Find_Primes(N):\n",
    "    Numbers = list(range(2,N+1))\n",
    "    for i in range(2,int(math.sqrt(N))+1) :\n",
    "        for j, Number in enumerate(Numbers) :\n",
    "            if (Number % i == 0 and Number != i):\n",
    "                del Numbers[j]\n",
    "    return Numbers\n",
    "\n",
    "\n",
    "%timeit Find_Primes(1000)"
   ]
  },
  {
   "cell_type": "markdown",
   "metadata": {},
   "source": [
    "### 8\\. Diffusion using random walk\n",
    "\n",
    "Consider a simple random walk process: at each step in time, a walker jumps right or left (+1 or -1) with equal probability. The goal is to find the typical distance from the origin of a random walker after a given amount of time. \n",
    "To do that, let's simulate many walkers and create a 2D array with each walker as a raw and the actual time evolution as columns\n",
    "\n",
    "  * Take 1000 walkers and let them walk for 200 steps\n",
    "  * Use randint to create a 2D array of size walkers x steps with values -1 or 1\n",
    "  * Build the actual walking distances for each walker (i.e. another 2D array \"summing on each raw\")\n",
    "  * Take the square of that 2D array (elementwise)\n",
    "  * Compute the mean of the squared distances at each step (i.e. the mean along the columns)\n",
    "  * Plot the average distances (sqrt(distance\\*\\*2)) as a function of time (step)\n",
    "  \n",
    "Did you get what you expected?"
   ]
  },
  {
   "cell_type": "code",
   "execution_count": 9,
   "metadata": {},
   "outputs": [
    {
     "name": "stdout",
     "output_type": "stream",
     "text": [
      "\n",
      "[0.08475505] [[1.64123976e-06]]\n"
     ]
    },
    {
     "data": {
      "image/png": "[encoded data removed]",
      "text/plain": [
       "<Figure size 432x288 with 1 Axes>"
      ]
     },
     "metadata": {
      "needs_background": "light"
     },
     "output_type": "display_data"
    }
   ],
   "source": [
    "# Exercise 8 - Random Walk\n",
    "from scipy.optimize import curve_fit\n",
    "\n",
    "N_Walkers = 1000\n",
    "N_Steps = 200\n",
    "%matplotlib inline\n",
    "\n",
    "def fit(x,a):\n",
    "    return a*x\n",
    "\n",
    "Matrix = []\n",
    "for i in range(N_Walkers):\n",
    "    Row = []\n",
    "    for j in range(N_Steps):\n",
    "        Row.append(np.random.choice([-1,1]))\n",
    "    Matrix.append(Row)\n",
    "\n",
    "    \n",
    "SMatrix = np.cumsum(Matrix,axis=1)\n",
    "SSquare = SMatrix * SMatrix\n",
    "SMeans = np.mean(SSquare, axis=0)\n",
    "Means = np.sqrt(SMeans)\n",
    "X = np.arange(N_Steps)\n",
    "\n",
    "Params = curve_fit(fit,X,Means)\n",
    "\n",
    "plt.plot(Means)\n",
    "\n",
    "print ()\n",
    "print (Params[0],Params[1])"
   ]
  },
  {
   "cell_type": "code",
   "execution_count": 10,
   "metadata": {},
   "outputs": [
    {
     "name": "stdout",
     "output_type": "stream",
     "text": [
      "[[ 0  5]\n",
      " [12 21]]\n",
      "\n",
      "[[0.         2.23606798]\n",
      " [3.46410162 4.58257569]]\n"
     ]
    }
   ],
   "source": [
    "a = np.arange(4).reshape(2,2)\n",
    "b = a + 4\n",
    "c = a*b\n",
    "m1 = np.mean(c,axis=0)\n",
    "m2 = np.mean(c,axis=1)\n",
    "s = np.sqrt(c)\n",
    "\n",
    "print(c)\n",
    "print ()\n",
    "print (s)"
   ]
  },
  {
   "cell_type": "markdown",
   "metadata": {},
   "source": [
    "I would have expected the mean distances to rise with sqrt(N), which is not, what happend. It is, however possible, that this is only the case for a two-dimensional random walk. \n",
    "I also think, that the strong fluctuations in average distances are rather strange. "
   ]
  },
  {
   "cell_type": "markdown",
   "metadata": {},
   "source": [
    "### 9\\. Analyze a data file \n",
    "  * Download the population of hares, lynxes and carrots at the beginning of the last century.\n",
    "    ```python\n",
    "    ! wget https://www.dropbox.com/s/3vigxoqayo389uc/populations.txt\n",
    "    ```\n",
    "\n",
    "  * Check the content by looking within the file\n",
    "  * Load the data (use an appropriate numpy method) into a 2D array\n",
    "  * Create arrays out of the columns, the arrays being (in order): *year*, *hares*, *lynxes*, *carrots* \n",
    "  * Plot the 3 populations over the years\n",
    "  * Compute the main statistical properties of the dataset (mean, std, correlations, etc.)\n",
    "  * Which species has the highest population each year?\n",
    "\n",
    "Do you feel there is some evident correlation here? [Studies](https://www.enr.gov.nt.ca/en/services/lynx/lynx-snowshoe-hare-cycle) tend to believe so."
   ]
  },
  {
   "cell_type": "code",
   "execution_count": 11,
   "metadata": {},
   "outputs": [
    {
     "name": "stdout",
     "output_type": "stream",
     "text": [
      "Hares \n",
      " Mean:  34080 Std:  20897\n",
      "Lynxs \n",
      " Mean:  20166 Std:  16254\n",
      "Carrs \n",
      " Mean:  42400 Std:  3322\n",
      "\n",
      "Correlation Coefficients Lynx - Hares\n",
      " [[1.         0.07189206]\n",
      " [0.07189206 1.        ]] \n",
      "\n",
      "Correlation Coefficients Hares - Carrots\n",
      " [[ 1.         -0.01660378]\n",
      " [-0.01660378  1.        ]] \n",
      "\n",
      "Correlation Coefficients Carrots - Lynxs\n",
      " [[ 1.         -0.68057717]\n",
      " [-0.68057717  1.        ]] \n",
      "\n",
      "Cross-Correlation Lynx - Hares\n",
      " [1.494612e+10]\n",
      "Cross-Correlation Hares - Carrots\n",
      " [3.032147e+10]\n",
      "Cross-Correlation Carrots - Lynx\n",
      " [1.718454e+10]\n"
     ]
    },
    {
     "data": {
      "image/png": "[encoded data removed]",
      "text/plain": [
       "<Figure size 432x288 with 1 Axes>"
      ]
     },
     "metadata": {
      "needs_background": "light"
     },
     "output_type": "display_data"
    }
   ],
   "source": [
    "# Exercise 9 - Populations\n",
    "import pandas as pd\n",
    "filepath = '/home/philipp/Studium/LabCourse_ComputationalPhysics/ModulA/Data/populations.txt'\n",
    "pandas_df = pd.read_csv(filepath)\n",
    "df = np.genfromtxt(filepath)\n",
    "\n",
    "years = df[:,0]\n",
    "hares = df[:,1]\n",
    "lynxs = df[:,2]\n",
    "carrs = df[:,3]\n",
    "\n",
    "plt.plot(years, hares, 'yellow', years, lynxs, 'blue', years, carrs, 'red')\n",
    "\n",
    "print ('Hares \\n','Mean: ', int(np.mean(hares)), 'Std: ', int(np.std(hares)))\n",
    "print ('Lynxs \\n','Mean: ', int(np.mean(lynxs)), 'Std: ', int(np.std(lynxs)))\n",
    "print ('Carrs \\n','Mean: ', int(np.mean(carrs)), 'Std: ', int(np.std(carrs)))\n",
    "print ('\\nCorrelation Coefficients Lynx - Hares\\n', np.corrcoef(lynxs, hares),'\\n')\n",
    "print ('Correlation Coefficients Hares - Carrots\\n', np.corrcoef(hares, carrs), '\\n')\n",
    "print ('Correlation Coefficients Carrots - Lynxs\\n', np.corrcoef(carrs, lynxs), '\\n')\n",
    "\n",
    "print ('Cross-Correlation Lynx - Hares\\n', np.correlate(lynxs, hares))\n",
    "print ('Cross-Correlation Hares - Carrots\\n', np.correlate(hares, carrs))\n",
    "print ('Cross-Correlation Carrots - Lynx\\n', np.correlate(carrs, lynxs))\n"
   ]
  }
 ],
 "metadata": {
  "kernelspec": {
   "display_name": "Python 3",
   "language": "python",
   "name": "python3"
  },
  "language_info": {
   "codemirror_mode": {
    "name": "ipython",
    "version": 3
   },
   "file_extension": ".py",
   "mimetype": "text/x-python",
   "name": "python",
   "nbconvert_exporter": "python",
   "pygments_lexer": "ipython3",
   "version": "3.7.0"
  }
 },
 "nbformat": 4,
 "nbformat_minor": 2
}
