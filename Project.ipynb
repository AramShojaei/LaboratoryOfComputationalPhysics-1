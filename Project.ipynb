{
 "cells": [
  {
   "cell_type": "markdown",
   "metadata": {},
   "source": [
    "# The motion of intermediate-mass black holes\n",
    "\n",
    "### Description\n",
    "\n",
    "Intermediate-mass black holes (IMBHs), i.e. black holes with mass 100 - 10'000 Msun, are expected to form in massive star clusters via several dynamical processes, but they are extremely difficult to detect with current observational facilities (even with gravitational wave detectors). \n",
    "\n",
    "\n",
    "### Assignemnt\n",
    "\n",
    "In this project, the students will analyze the data of N-body simulations of star clusters hosting IMBHs to estimate the distance of the IMBH from the center of mass of the star cluster. The distribution of such distances probes the effect of Brownian motion and/or other dynamical perturbations on IMBHs.\n",
    "\n",
    "### Datasets\n",
    "\n",
    "To be defined\n",
    "\n",
    "### Contacts\n",
    "\n",
    "* Michela Mapelli <michela.mapelli@unipd.it>\n",
    "* Mario Pasquato <mario.pasquato@gmail.com>"
   ]
  },
  {
   "cell_type": "code",
   "execution_count": null,
   "metadata": {},
   "outputs": [],
   "source": []
  }
 ],
 "metadata": {
  "kernelspec": {
   "display_name": "Python 3",
   "language": "python",
   "name": "python3"
  },
  "language_info": {
   "codemirror_mode": {
    "name": "ipython",
    "version": 3
   },
   "file_extension": ".py",
   "mimetype": "text/x-python",
   "name": "python",
   "nbconvert_exporter": "python",
   "pygments_lexer": "ipython3",
   "version": "3.5.4"
  }
 },
 "nbformat": 4,
 "nbformat_minor": 2
}
