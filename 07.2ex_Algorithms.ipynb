{
 "cells": [
  {
   "cell_type": "markdown",
   "metadata": {},
   "source": [
    "1\\. **Maximum wind speed prediction at the Sprogø station**\n",
    "\n",
    "The exercise goal is to predict the maximum wind speed occurring every 50 years even if no measure exists for such a period. The available data are only measured over 21 years at the Sprogø meteorological station located in Denmark. \n",
    "\n",
    "The annual maxima are supposed to fit a normal probability density function. However such function is not going to be estimated because it gives a probability from a wind speed maxima. Finding the maximum wind speed occurring every 50 years requires the opposite approach, the result needs to be found from a defined probability. That is the quantile function role and the exercise goal will be to find it. In the current model, it is supposed that the maximum wind speed occurring every 50 years is defined as the upper 2% quantile.\n",
    "\n",
    "By definition, the quantile function is the inverse of the cumulative distribution function. The latter describes the probability distribution of an annual maxima. In the exercise, the cumulative probability $p_i$ for a given year i is defined as $p_i = i/(N+1)$ with $N = 21$, the number of measured years. Thus it will be possible to calculate the cumulative probability of every measured wind speed maxima. From those experimental points, the scipy.interpolate module will be very useful for fitting the quantile function. Finally the 50 years maxima is going to be evaluated from the cumulative probability of the 2% quantile.\n",
    "\n",
    "Practically, load the dataset:\n",
    "\n",
    "```python\n",
    "import numpy as np\n",
    "max_speeds = np.load('max-speeds.npy')\n",
    "years_nb = max_speeds.shape[0]\n",
    "```\n",
    "\n",
    "Compute then the cumulative probability $p_i$ (`cprob`) and sort the maximum speeds from the data. Use then the  UnivariateSpline from scipy.interpolate to define a quantile function and thus estimate the probabilities.\n",
    "\n",
    "In the current model, the maximum wind speed occurring every 50 years is defined as the upper 2% quantile. As a result, the cumulative probability value will be:\n",
    "\n",
    "```python\n",
    "fifty_prob = 1. - 0.02\n",
    "```\n",
    "\n",
    "So the storm wind speed occurring every 50 years can be guessed as:\n",
    "\n",
    "``` python\n",
    "fifty_wind = quantile_func(fifty_prob)\n",
    "```\n",
    "\n"
   ]
  },
  {
   "cell_type": "code",
   "execution_count": null,
   "metadata": {},
   "outputs": [],
   "source": [
    "import numpy as np\n",
    "from matplotlib import pyplot as plt\n",
    "from scipy.interpolate import UnivariateSpline\n",
    "from scipy import optimize\n",
    "import scipy as sp\n",
    "\n",
    "max_speeds = np.load('max-speeds.npy')\n",
    "years_nb = max_speeds.shape[0]"
   ]
  },
  {
   "cell_type": "code",
   "execution_count": null,
   "metadata": {},
   "outputs": [],
   "source": [
    "cprob = (np.arange(years_nb) + 1)/(years_nb + 1)\n",
    "sorted_max_speeds = np.sort(max_speeds)\n",
    "quantile_func = UnivariateSpline(cprob, sorted_max_speeds)\n",
    "fifty_prob = 1. - 0.02\n",
    "fifty_wind = quantile_func(fifty_prob)\n"
   ]
  },
  {
   "cell_type": "code",
   "execution_count": null,
   "metadata": {},
   "outputs": [],
   "source": [
    "fifty_wind"
   ]
  },
  {
   "cell_type": "code",
   "execution_count": null,
   "metadata": {},
   "outputs": [],
   "source": [
    "plt.plot(sorted_max_speeds, cprob, '*')\n",
    "plt.plot(fifty_wind, 1, 'r*')\n",
    "nprob = np.linspace(0, 1, 1000)\n",
    "fitted_max_speeds = quantile_func(nprob)\n",
    "plt.plot(fitted_max_speeds, nprob , 'g--')"
   ]
  },
  {
   "cell_type": "markdown",
   "metadata": {},
   "source": [
    "2\\. **Curve fitting of temperature in Alaska** \n",
    "\n",
    "The temperature extremes in Alaska for each month, starting in January, are given by (in degrees Celcius):\n",
    "\n",
    "max:  17,  19,  21,  28,  33,  38, 37,  37,  31,  23,  19,  18\n",
    "\n",
    "min: -62, -59, -56, -46, -32, -18, -9, -13, -25, -46, -52, -58\n",
    "\n",
    "* Plot these temperature extremes.\n",
    "* Define a function that can describe min and max temperatures. \n",
    "* Fit this function to the data with scipy.optimize.curve_fit().\n",
    "* Plot the result. Is the fit reasonable? If not, why?\n",
    "* Is the time offset for min and max temperatures the same within the fit accuracy?"
   ]
  },
  {
   "cell_type": "code",
   "execution_count": null,
   "metadata": {},
   "outputs": [],
   "source": [
    "m = np.arange(1,13)\n",
    "MT = np.array([17, 19, 21, 28, 33, 38, 37, 37, 31, 23, 19, 18])\n",
    "mt = np.array([-62, -59, -56, -46, -32, -18, -9, -13, -25, -46, -52, -58])\n",
    "plt.plot(m,mt,'b*')\n",
    "mt = mt+62 #needed to fit the gaussian\n",
    "plt.plot(m,MT,'r*')\n",
    "    \n",
    "from scipy import asarray as ar,exp\n",
    "from scipy import optimize\n",
    "\n",
    "def gaussian(x, a, x0, sigma, off):\n",
    "    return a*exp(-(x-x0)**2. / (2 * sigma**2.))+ off\n",
    "\n",
    "def f(times, avg, ampl, time_offset):\n",
    "    return (avg + ampl * np.cos((times + time_offset) * 2 * np.pi / times.max()))\n",
    "\n",
    "rM, cM = optimize.curve_fit(gaussian, m, MT, [36, 6, 4, 0])\n",
    "rm, cm = optimize.curve_fit(gaussian,m, mt, [53, 7, 2, 0])\n",
    "\n",
    "days = np.linspace(0, 12, num=365)\n",
    "plt.plot(days, gaussian(days, *rM), 'r--')\n",
    "plt.plot(days, gaussian(days, *rm)-62, 'b--')"
   ]
  },
  {
   "cell_type": "markdown",
   "metadata": {},
   "source": [
    "3\\. **2D minimization of a six-hump camelback function**\n",
    "\n",
    "$$\n",
    "f(x,y) = \\left(4-2.1x^2+\\frac{x^4}{3} \\right) x^2 +xy + (4y^2 -4)y^2\n",
    "$$\n",
    "\n",
    "has multiple global and local minima. Find the global minima of this function.\n",
    "\n",
    "Hints:\n",
    "\n",
    "* Variables can be restricted to $-2 < x < 2$ and $-1 < y < 1$.\n",
    "* Use numpy.meshgrid() and pylab.imshow() to find visually the regions.\n",
    "* Use scipy.optimize.minimize(), optionally trying out several of its methods.\n",
    "\n",
    "How many global minima are there, and what is the function value at those points? What happens for an initial guess of $(x, y) = (0, 0)$ ?\n"
   ]
  },
  {
   "cell_type": "code",
   "execution_count": null,
   "metadata": {},
   "outputs": [],
   "source": [
    "N = 1000\n",
    "def f(x,y):\n",
    "    return (4-2.1*x**2+x**4/3)*x**2+x*y+(4*y**2-4)*y**2\n",
    "x = np.linspace(-2,2,num=N)\n",
    "y = np.linspace(-1,1,num=N)\n",
    "xm, ym = np.meshgrid(x, y)\n",
    "plt.figure()\n",
    "plt.imshow(f(xm, ym), extent=[-2, 2, -1, 1])\n",
    "plt.colorbar()"
   ]
  },
  {
   "cell_type": "code",
   "execution_count": null,
   "metadata": {},
   "outputs": [],
   "source": [
    "#long time needed\n",
    "from mpl_toolkits.mplot3d import Axes3D\n",
    "fig = plt.figure(figsize=(20, 10))\n",
    "ax = fig.gca(projection='3d')\n",
    "ax.plot_surface(xm, ym, f(xm, ym),cstride=1,rstride=1)\n",
    "plt.show()"
   ]
  },
  {
   "cell_type": "code",
   "execution_count": null,
   "metadata": {},
   "outputs": [],
   "source": [
    "import matplotlib.cm as cm\n",
    "plt.imshow(f(xm,ym), origin='lower', extent=[-2, 2, -1, 1])\n",
    "plt.contour(xm,ym,f(xm,ym), cmap=cm.Blues, levels=np.arange(-2,7,0.1))\n",
    "plt.show()"
   ]
  },
  {
   "cell_type": "markdown",
   "metadata": {},
   "source": [
    "#### (0,0)\n",
    "it's a saddle point(as we can see in the graph above) so the point does not move at all"
   ]
  },
  {
   "cell_type": "code",
   "execution_count": null,
   "metadata": {},
   "outputs": [],
   "source": [
    "def f(t):\n",
    "    x,y = t\n",
    "    return (4-2.1*x**2+x**4/3)*x**2+x*y+(4*y**2-4)*y**2\n",
    "ig = [0,0]\n",
    "result = optimize.minimize(f, ig)\n",
    "print(\"fitted params {} , f={}\".format(result.x, f(result.x)))"
   ]
  },
  {
   "cell_type": "code",
   "execution_count": null,
   "metadata": {},
   "outputs": [],
   "source": [
    "#create a bunch of hypo\n",
    "xs = np.linspace(-2,2,50)\n",
    "ys = np.linspace(-1,1,25)\n",
    "found = {}\n",
    "count = 0\n",
    "\n",
    "plt.figure()\n",
    "plt.imshow(f([xm, ym]), extent=[-2, 2, -1, 1])\n",
    "plt.colorbar()\n",
    "for a in xs:\n",
    "    for b in ys:\n",
    "        ig = [a,b]\n",
    "        result = optimize.minimize(f, ig)\n",
    "        if result.success:\n",
    "            #print(\"for ig={} fitted params {} , f={}\".format(ig, result.x, f(result.x)))\n",
    "            #numpy ndarry not hashable -> tuple\n",
    "            if tuple(result.x) in found:\n",
    "                found[tuple(result.x)][0] +=1\n",
    "            else:\n",
    "                found[tuple(result.x)] = [1, f(result.x)]\n",
    "        else:\n",
    "            raise ValueError(result.message)\n",
    "        plt.plot(a,b,'r*')\n",
    "plt.title('starting points in red')\n",
    "plt.show()"
   ]
  },
  {
   "cell_type": "code",
   "execution_count": null,
   "metadata": {},
   "outputs": [],
   "source": [
    "plt.figure()\n",
    "plt.imshow(f([xm, ym]), extent=[-2, 2, -1, 1])\n",
    "plt.colorbar()\n",
    "for i in found:\n",
    "    plt.plot(i[0],i[1],'*',label='{},{} with val {}'.format(i[0],i[1],found[i][1]))\n",
    "plt.title('min found with that starting points')\n",
    "#plt.legend()\n",
    "plt.show()"
   ]
  },
  {
   "cell_type": "markdown",
   "metadata": {},
   "source": [
    "found 1250(= to the number of starting points) minima located around 6 points\n",
    "the global ones are the two with x~0 "
   ]
  },
  {
   "cell_type": "markdown",
   "metadata": {},
   "source": [
    "4\\. FFT of a simple dataset\n",
    "\n",
    "Performe a periodicity analysis on the lynxs-hares population"
   ]
  },
  {
   "cell_type": "code",
   "execution_count": null,
   "metadata": {},
   "outputs": [],
   "source": [
    "from scipy import fftpack\n",
    "from scipy import signal\n",
    "df = np.loadtxt('populations.txt')\n",
    "year, hares, lynxes, carrots = df.T\n",
    "plt.plot(year, hares, year, lynxes, year, carrots) \n",
    "plt.legend(('Hare', 'Lynx', 'Carrot'), loc=(1.01, 0.75)) \n",
    "ts = 1 #timestep\n",
    "fig = plt.figure(\"FFT\", figsize=(20,4))\n",
    "fig2 = plt.figure(\"Peak\")\n",
    "c = 1\n",
    "for i in (hares, lynxes, carrots):\n",
    "    plt.figure('FFT')\n",
    "    fft = fftpack.fft(i)\n",
    "    fft = np.abs(fft)\n",
    "    freq = fftpack.fftfreq(i.size,d=ts)\n",
    "    \n",
    "    ax1 = fig.add_subplot(1, 3, c)\n",
    "    if (c==1):\n",
    "        plt.title('Hares FFT power')\n",
    "    elif (c==2):\n",
    "        plt.title('Lynxes FFT power')\n",
    "    else:\n",
    "        plt.title('Carrot FFT power')\n",
    "    ax1=plt.plot(freq, fft)\n",
    "    plt.xlabel('Frequency')\n",
    "    plt.ylabel('power')\n",
    "    mask = np.where(freq > 0)\n",
    "    l_freq = freq[mask]\n",
    "    l_peak = l_freq[fft[mask].argmax()]\n",
    "    plt.figure('Peak')\n",
    "    axes = plt.axes([0.65, 0.4, 0.2, 0.4]) #numbers range from 0 to 1 and set position left-right, position up-down, width, height \n",
    "    plt.title('Peak frequency')\n",
    "    if (c==1):\n",
    "        leg = 'Hares'\n",
    "        print('Hares peak freq: {}'.format(l_peak))\n",
    "    elif (c==2):\n",
    "        leg = 'Lynxes'\n",
    "        print('Hares peak freq: {}'.format(l_peak))\n",
    "    else:\n",
    "        leg = 'Carrot'\n",
    "        print('Hares peak freq: {}'.format(l_peak))\n",
    "    \n",
    "    plt.plot(freq[:4], fft[:4],label=leg)\n",
    "    plt.setp(axes, yticks=[])\n",
    "    hf_fft = fftpack.fft(i)\n",
    "    hf_fft[np.abs(freq)>l_peak] = 0 #0 freq greater than peak\n",
    "    f_ifft = fftpack.ifft(hf_fft)\n",
    "    plt.figure('OrigVsFilt'+leg)\n",
    "    if (c==1):\n",
    "        plt.title('Hares FFT power')\n",
    "    elif (c==2):\n",
    "        plt.title('Lynxes FFT power')\n",
    "    else:\n",
    "        plt.title('Carrot FFT power')\n",
    "    plt.plot(year, i, label='Original signal')\n",
    "    plt.plot(year, f_ifft, linewidth=3, label='Filtered signal')\n",
    "    plt.xlabel('Time [s]')\n",
    "    plt.ylabel('Amplitude')\n",
    "    plt.legend(loc='best')\n",
    "\n",
    "    c+=1\n",
    "plt.figure('Peak')\n",
    "plt.legend(bbox_to_anchor=(1,1))"
   ]
  },
  {
   "cell_type": "markdown",
   "metadata": {},
   "source": [
    "5\\. **FFT of an image**\n",
    "\n",
    "* Examine the provided image `moonlanding.png`, which is heavily contaminated with periodic noise. In this exercise, we aim to clean up the noise using the Fast Fourier Transform.\n",
    "* Load the image using pylab.imread().\n",
    "* Find and use the 2-D FFT function in scipy.fftpack, and plot the spectrum (Fourier transform of) the image. Do you have any trouble visualising the spectrum? If so, why?\n",
    "* The spectrum consists of high and low frequency components. The noise is contained in the high-frequency part of the spectrum, so set some of those components to zero (use array slicing).\n",
    "* Apply the inverse Fourier transform to see the resulting image."
   ]
  },
  {
   "cell_type": "code",
   "execution_count": null,
   "metadata": {},
   "outputs": [],
   "source": [
    "import pylab\n",
    "from matplotlib.colors import LogNorm\n",
    "\n",
    "# Load image\n",
    "img = plt.imread('moonlanding.png')\n",
    "data = plt.imread('moonlanding.png')\n",
    "\n",
    "fft = fftpack.fft2(data)\n",
    "power = np.abs(fft)\n",
    "\n",
    "plt.figure(figsize=(18, 18))\n",
    "ax1 = plt.subplot(3, 2, 1)\n",
    "ax1.set_title('Original Image')\n",
    "ax1.imshow(img)\n",
    "\n",
    "ax1 = plt.subplot(3, 2, 2)\n",
    "ax1.set_title('Original Image - grey')\n",
    "ax1.imshow(img, cmap=plt.cm.gray)\n",
    "\n",
    "ax2 = plt.subplot(3, 2, 3)\n",
    "ax2.imshow(power, norm=LogNorm(vmin=5))\n",
    "ax2.set_title('FFT power log')\n",
    "\n",
    "ax3 = plt.subplot(3, 2, 4)\n",
    "ax3.plot(power)\n",
    "ax3.set_title(\"Spectrum\")\n",
    "\n",
    "#filtered fft, keep only 95% of freq\n",
    "filtered_fft = fft.copy()\n",
    "filtered_power = power.copy()\n",
    "for k in range(80,10000,10):\n",
    "    temp = np.where( power > k)\n",
    "    if (1-(len(temp[0]))/fft.size) > 0.995:\n",
    "        filtered_fft[power > k] = 0\n",
    "        filtered_power[power > k] = 0\n",
    "        print(\"{} retain {} of power\".format(k,(1-(len(temp[0]))/fft.size)))\n",
    "        break\n",
    "ax4 = plt.subplot(3,2,5)\n",
    "ax4.set_title('Filtered power')\n",
    "ax4.plot(filtered_power)\n",
    "\n",
    "# Plot results\n",
    "ax5 = plt.subplot(3, 2, 6)\n",
    "ax5.set_title('Cleared Image')\n",
    "cleared = fftpack.ifft2(filtered_fft).real\n",
    "ax5.imshow(cleared, cmap=plt.cm.gray)\n",
    "\n",
    "plt.show()"
   ]
  }
 ],
 "metadata": {
  "kernelspec": {
   "display_name": "Python 3",
   "language": "python",
   "name": "python3"
  },
  "language_info": {
   "codemirror_mode": {
    "name": "ipython",
    "version": 3
   },
   "file_extension": ".py",
   "mimetype": "text/x-python",
   "name": "python",
   "nbconvert_exporter": "python",
   "pygments_lexer": "ipython3",
   "version": "3.6.6"
  }
 },
 "nbformat": 4,
 "nbformat_minor": 2
}
