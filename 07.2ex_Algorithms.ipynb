{
 "cells": [
  {
   "cell_type": "code",
   "execution_count": null,
   "metadata": {},
   "outputs": [],
   "source": [
    "import pandas as pd\n",
    "import matplotlib.pyplot as plt\n",
    "from scipy import optimize\n",
    "import math\n",
    "import matplotlib.pyplot as plt\n",
    "import numpy as np\n",
    "from mpl_toolkits.mplot3d import Axes3D"
   ]
  },
  {
   "cell_type": "markdown",
   "metadata": {},
   "source": [
    "1\\. **Maximum wind speed prediction at the Sprogø station**\n",
    "\n",
    "The exercise goal is to predict the maximum wind speed occurring every 50 years even if no measure exists for such a period. The available data are only measured over 21 years at the Sprogø meteorological station located in Denmark. \n",
    "\n",
    "The annual maxima are supposed to fit a normal probability density function. However such function is not going to be estimated because it gives a probability from a wind speed maxima. Finding the maximum wind speed occurring every 50 years requires the opposite approach, the result needs to be found from a defined probability. That is the quantile function role and the exercise goal will be to find it. In the current model, it is supposed that the maximum wind speed occurring every 50 years is defined as the upper 2% quantile.\n",
    "\n",
    "By definition, the quantile function is the inverse of the cumulative distribution function. The latter describes the probability distribution of an annual maxima. In the exercise, the cumulative probability $p_i$ for a given year i is defined as $p_i = i/(N+1)$ with $N = 21$, the number of measured years. Thus it will be possible to calculate the cumulative probability of every measured wind speed maxima. From those experimental points, the scipy.interpolate module will be very useful for fitting the quantile function. Finally the 50 years maxima is going to be evaluated from the cumulative probability of the 2% quantile.\n",
    "\n",
    "Practically, load the dataset:\n",
    "\n",
    "```python\n",
    "import numpy as np\n",
    "max_speeds = np.load('max-speeds.npy')\n",
    "years_nb = max_speeds.shape[0]\n",
    "```\n",
    "\n",
    "Compute then the cumulative probability $p_i$ (`cprob`) and sort the maximum speeds from the data. Use then the  UnivariateSpline from scipy.interpolate to define a quantile function and thus estimate the probabilities.\n",
    "\n",
    "In the current model, the maximum wind speed occurring every 50 years is defined as the upper 2% quantile. As a result, the cumulative probability value will be:\n",
    "\n",
    "```python\n",
    "fifty_prob = 1. - 0.02\n",
    "```\n",
    "\n",
    "So the storm wind speed occurring every 50 years can be guessed as:\n",
    "\n",
    "``` python\n",
    "fifty_wind = quantile_func(fifty_prob)\n",
    "```\n",
    "\n"
   ]
  },
  {
   "cell_type": "markdown",
   "metadata": {},
   "source": [
    "2\\. **Curve fitting of temperature in Alaska** \n",
    "\n",
    "The temperature extremes in Alaska for each month, starting in January, are given by (in degrees Celcius):\n",
    "\n",
    "max:  17,  19,  21,  28,  33,  38, 37,  37,  31,  23,  19,  18\n",
    "\n",
    "min: -62, -59, -56, -46, -32, -18, -9, -13, -25, -46, -52, -58\n",
    "\n",
    "* Plot these temperature extremes.\n",
    "* Define a function that can describe min and max temperatures. \n",
    "* Fit this function to the data with scipy.optimize.curve_fit().\n",
    "* Plot the result. Is the fit reasonable? If not, why?\n",
    "* Is the time offset for min and max temperatures the same within the fit accuracy?"
   ]
  },
  {
   "cell_type": "code",
   "execution_count": null,
   "metadata": {},
   "outputs": [],
   "source": [
    "\n",
    "month = pd.date_range('1/January/2000',periods=12, freq='M')\n",
    "massimi = [17, 19, 21, 28, 33, 38, 37, 37, 31, 23, 19, 18]\n",
    "minimi =  [-62, -59, -56, -46, -32, -18, -9, -13, -25, -46, -52, -58]\n",
    "df = pd.DataFrame({'month':month,'massimi':massimi, 'minimi':minimi})\n",
    "df"
   ]
  },
  {
   "cell_type": "code",
   "execution_count": null,
   "metadata": {},
   "outputs": [],
   "source": [
    "fig, ax = plt.subplots(nrows=1, ncols=1,figsize=(8, 4))\n",
    "massimi = np.array([17, 19, 21, 28, 33, 38, 37, 37, 31, 23, 19, 18])\n",
    "minimi =  np.array([-62, -59, -56, -46, -32, -18, -9, -13, -25, -46, -52, -58])\n",
    "mesi = np.arange(12)\n",
    "plt.scatter(mesi,massimi)\n",
    "plt.scatter(mesi,minimi)\n",
    "print(minimi,minimi+70)\n"
   ]
  },
  {
   "cell_type": "code",
   "execution_count": null,
   "metadata": {},
   "outputs": [],
   "source": [
    "def f(x, A, mean, std):\n",
    "    return A*np.exp((-(x-mean)**2)/std**2)\n",
    "params, params_covariance = optimize.curve_fit(f, mesi, massimi, p0=[2, 2,2])\n",
    "mini=minimi+70 #se non traslo ho errore\n",
    "params_min, params_covariance_min = optimize.curve_fit(f, mesi, mini)\n",
    "print(\"RESULTS FOR MAX:\",'\\n')\n",
    "print('mean:', params[1])\n",
    "print('std:', params[2],'\\n')\n",
    "print(\"RESULTS FOR MIN:\",'\\n')\n",
    "print('mean:', params_min[1])\n",
    "print('std:', params_min[2])\n",
    "max_fitted= f(mesi,params[0],params[1],params[2])\n",
    "min_fitted=f(mesi,params_min[0],params_min[1],params_min[2])-70\n",
    "print(np.sum(massimi-max_fitted))\n",
    "print(np.sum(minimi-min_fitted))"
   ]
  },
  {
   "cell_type": "code",
   "execution_count": null,
   "metadata": {},
   "outputs": [],
   "source": [
    "plt.scatter(mesi, massimi, label='Data')\n",
    "plt.plot(mesi, f(mesi, params[0],params[1],params[2]),label='Fitted function')\n",
    "plt.legend(loc='best')\n",
    "print(f(6,params[0],params[1],params[2]))\n",
    "print(f(massimi, params[0],params[1],params[2]))\n",
    "plt.title('massimi')"
   ]
  },
  {
   "cell_type": "code",
   "execution_count": null,
   "metadata": {},
   "outputs": [],
   "source": [
    "#params, params_covariance = optimize.curve_fit(f, mesi, minimi, p0=[-10, 6,2])\n",
    "plt.scatter(mesi, minimi, label='Minimi')\n",
    "minimi=f(mesi, params_min[0],params_min[1],params_min[2])-70\n",
    "plt.plot(mesi, minimi,label='Fitted function')\n",
    "plt.legend(loc='best')\n",
    "plt.title('minimi')\n",
    "print(minimi)"
   ]
  },
  {
   "cell_type": "markdown",
   "metadata": {},
   "source": [
    "3\\. **2D minimization of a six-hump camelback function**\n",
    "\n",
    "$$\n",
    "f(x,y) = \\left(4-2.1x^2+\\frac{x^4}{3} \\right) x^2 +xy + (4y^2 -4)y^2\n",
    "$$\n",
    "\n",
    "has multiple global and local minima. Find the global minima of this function.\n",
    "\n",
    "Hints:\n",
    "\n",
    "* Variables can be restricted to $-2 < x < 2$ and $-1 < y < 1$.\n",
    "* Use numpy.meshgrid() and pylab.imshow() to find visually the regions.\n",
    "* Use scipy.optimize.minimize(), optionally trying out several of its methods.\n",
    "\n",
    "How many global minima are there, and what is the function value at those points? What happens for an initial guess of $(x, y) = (0, 0)$ ?\n"
   ]
  },
  {
   "cell_type": "code",
   "execution_count": 2,
   "metadata": {},
   "outputs": [
    {
     "data": {
      "text/plain": [
       "<matplotlib.colorbar.Colorbar at 0x24472f9a5f8>"
      ]
     },
     "execution_count": 2,
     "metadata": {},
     "output_type": "execute_result"
    },
    {
     "data": {
      "image/png": "[encoded data removed]",
      "text/plain": [
       "<Figure size 432x288 with 2 Axes>"
      ]
     },
     "metadata": {
      "needs_background": "light"
     },
     "output_type": "display_data"
    }
   ],
   "source": [
    "def six_hump(x):\n",
    "    x1=x[0]\n",
    "    x2=x[1]\n",
    "    return (4-2.1*x1**2+x1**4/3)*x1**2 + x1*x2 + (4*x2**2-4)*x2**2    \n",
    "six_hump([0,0])\n",
    "bound1=[-2,2]\n",
    "bound2=[-1,1]\n",
    "x = np.linspace(-2, 2)\n",
    "y = np.linspace(-1, 1)\n",
    "xg, yg = np.meshgrid(x, y)\n",
    "plt.figure()\n",
    "plt.imshow(six_hump([xg, yg]), extent=[-2, 2, -1, 1])\n",
    "plt.colorbar()"
   ]
  },
  {
   "cell_type": "code",
   "execution_count": null,
   "metadata": {},
   "outputs": [],
   "source": [
    "fig = plt.figure()\n",
    "ax = fig.add_subplot(111, projection='3d')\n",
    "surf = ax.plot_surface(xg, yg, six_hump([xg, yg]), rstride=1, cstride=1,\n",
    "                       cmap=plt.cm.jet, linewidth=0, antialiased=False)\n",
    "\n",
    "ax.set_xlabel('x')\n",
    "ax.set_ylabel('y')\n",
    "ax.set_zlabel('f(x, y)')\n",
    "ax.set_title('Six-hump Camelback function')"
   ]
  },
  {
   "cell_type": "code",
   "execution_count": 5,
   "metadata": {},
   "outputs": [
    {
     "name": "stdout",
     "output_type": "stream",
     "text": [
      "0.0\n",
      "-1.031628453489791\n",
      "-1.0316284534898421\n",
      "-1.0316284534898164\n"
     ]
    },
    {
     "data": {
      "image/png": "[encoded data removed]",
      "text/plain": [
       "<Figure size 432x288 with 1 Axes>"
      ]
     },
     "metadata": {
      "needs_background": "light"
     },
     "output_type": "display_data"
    }
   ],
   "source": [
    "plt.imshow(six_hump([xg, yg]), extent=[-2, 2, -1, 1])\n",
    "x_min = optimize.minimize(six_hump, x0=[0, 0])\n",
    "x_min2 = optimize.minimize(six_hump,x0=[0,1])\n",
    "x_min3 = optimize.minimize(six_hump, x0=[0, 0],method='Powell')\n",
    "x_min4 = optimize.minimize(six_hump, x0=[1, 1],method='CG')\n",
    "plt.scatter(x_min.x[0], x_min.x[1], label='none, guess 0,1')\n",
    "plt.scatter(x_min2.x[0], x_min2.x[1], label='none, guess 0,0')\n",
    "plt.scatter(x_min3.x[0], x_min3.x[1], label='Powell, guess 0,0')\n",
    "plt.scatter(x_min4.x[0], x_min4.x[1], label='CG, guess 1,1')\n",
    "plt.legend()\n",
    "print(six_hump([x_min.x[0],x_min.x[1]]))\n",
    "print(six_hump([x_min2.x[0],x_min2.x[1]]))\n",
    "print(six_hump([x_min3.x[0],x_min3.x[1]]))\n",
    "print(six_hump([x_min4.x[0],x_min4.x[1]]))\n"
   ]
  },
  {
   "cell_type": "code",
   "execution_count": 16,
   "metadata": {},
   "outputs": [
    {
     "name": "stdout",
     "output_type": "stream",
     "text": [
      "-0.5\n",
      "0.0\n",
      "0.5\n",
      "1.0\n",
      "global minima found: [-1.03162845 -1.03162845 -1.03162845] \n",
      "\n",
      "correspondent initial guess: [-2.  -1.  -2.  -0.5 -2.   0.5] \n",
      "\n",
      "x, y: [ 0.08984184  0.08984184  0.08984196  0.08984196 -0.08984205 -0.08984205] \n",
      "\n"
     ]
    }
   ],
   "source": [
    "x = -2\n",
    "y = -1\n",
    "minimo = 0\n",
    "minimi = np.zeros(0)\n",
    "initial_guess= np.zeros(0)\n",
    "x_y = np.zeros((0,0))\n",
    "while x <2:\n",
    "    while y <1:\n",
    "        x_min = optimize.minimize(six_hump, x0=[x, y])\n",
    "        minimo_found= six_hump([x_min.x[0],x_min.x[1]])\n",
    "        if minimo_found < minimo:\n",
    "            minimo = minimo_found\n",
    "            minimi = np.append(minimi, minimo_found)\n",
    "            initial_guess = np.append(initial_guess,x)\n",
    "            initial_guess = np.append(initial_guess,y)\n",
    "            x_y = np.append(x_y,[x_min.x[0],x_min.x[0]])\n",
    "            #x_y = np.append(x_y,x_min.x[1])\n",
    "        y += 0.5\n",
    "        print(y)\n",
    "    x +=0.5\n",
    "    \n",
    "print(\"global minima found:\",minimi, '\\n')\n",
    "print(\"correspondent initial guess:\",initial_guess, '\\n')\n",
    "print(\"x, y:\", x_y, '\\n')\n",
    "            \n",
    "        "
   ]
  },
  {
   "cell_type": "markdown",
   "metadata": {},
   "source": [
    "4\\. **FFT of a simple dataset**\n",
    "\n",
    "Performe a periodicity analysis on the lynxs-hares population"
   ]
  },
  {
   "cell_type": "markdown",
   "metadata": {},
   "source": [
    "5\\. **FFT of an image**\n",
    "\n",
    "* Examine the provided image `moonlanding.png`, which is heavily contaminated with periodic noise. In this exercise, we aim to clean up the noise using the Fast Fourier Transform.\n",
    "* Load the image using pylab.imread().\n",
    "* Find and use the 2-D FFT function in scipy.fftpack, and plot the spectrum (Fourier transform of) the image. Do you have any trouble visualising the spectrum? If so, why?\n",
    "* The spectrum consists of high and low frequency components. The noise is contained in the high-frequency part of the spectrum, so set some of those components to zero (use array slicing).\n",
    "* Apply the inverse Fourier transform to see the resulting image."
   ]
  },
  {
   "cell_type": "code",
   "execution_count": null,
   "metadata": {},
   "outputs": [],
   "source": []
  }
 ],
 "metadata": {
  "kernelspec": {
   "display_name": "Python 3",
   "language": "python",
   "name": "python3"
  },
  "language_info": {
   "codemirror_mode": {
    "name": "ipython",
    "version": 3
   },
   "file_extension": ".py",
   "mimetype": "text/x-python",
   "name": "python",
   "nbconvert_exporter": "python",
   "pygments_lexer": "ipython3",
   "version": "3.7.0"
  }
 },
 "nbformat": 4,
 "nbformat_minor": 2
}
