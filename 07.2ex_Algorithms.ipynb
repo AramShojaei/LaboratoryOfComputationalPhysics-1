{
 "cells": [
  {
   "cell_type": "markdown",
   "metadata": {},
   "source": [
    "1\\. **Maximum wind speed prediction at the Sprogø station**\n",
    "\n",
    "The exercise goal is to predict the maximum wind speed occurring every 50 years even if no measure exists for such a period. The available data are only measured over 21 years at the Sprogø meteorological station located in Denmark. \n",
    "\n",
    "The annual maxima are supposed to fit a normal probability density function. However such function is not going to be estimated because it gives a probability from a wind speed maxima. Finding the maximum wind speed occurring every 50 years requires the opposite approach, the result needs to be found from a defined probability. That is the quantile function role and the exercise goal will be to find it. In the current model, it is supposed that the maximum wind speed occurring every 50 years is defined as the upper 2% quantile.\n",
    "\n",
    "By definition, the quantile function is the inverse of the cumulative distribution function. The latter describes the probability distribution of an annual maxima. In the exercise, the cumulative probability $p_i$ for a given year i is defined as $p_i = i/(N+1)$ with $N = 21$, the number of measured years. Thus it will be possible to calculate the cumulative probability of every measured wind speed maxima. From those experimental points, the scipy.interpolate module will be very useful for fitting the quantile function. Finally the 50 years maxima is going to be evaluated from the cumulative probability of the 2% quantile.\n",
    "\n",
    "Practically, load the dataset:\n",
    "\n",
    "```python\n",
    "import numpy as np\n",
    "max_speeds = np.load('max-speeds.npy')\n",
    "years_nb = max_speeds.shape[0]\n",
    "```\n",
    "\n",
    "Compute then the cumulative probability $p_i$ (`cprob`) and sort the maximum speeds from the data. Use then the  UnivariateSpline from scipy.interpolate to define a quantile function and thus estimate the probabilities.\n",
    "\n",
    "In the current model, the maximum wind speed occurring every 50 years is defined as the upper 2% quantile. As a result, the cumulative probability value will be:\n",
    "\n",
    "```python\n",
    "fifty_prob = 1. - 0.02\n",
    "```\n",
    "\n",
    "So the storm wind speed occurring every 50 years can be guessed as:\n",
    "\n",
    "``` python\n",
    "fifty_wind = quantile_func(fifty_prob)\n",
    "```\n",
    "\n"
   ]
  },
  {
   "cell_type": "code",
   "execution_count": 2,
   "metadata": {
    "collapsed": true
   },
   "outputs": [],
   "source": [
    "import numpy as np # N-dimensional array / broadcasting / random numbers\n",
    "import matplotlib.pyplot as plt # graphs\n",
    "% matplotlib inline\n",
    "import scipy as sp\n",
    "from scipy import stats\n",
    "from scipy import linalg as la # linear algebra\n",
    "import pandas as pd # DataFrame and label-based slicing\n",
    "import seaborn as sns # data visualization\n",
    "\n",
    "from scipy.interpolate import interp1d\n",
    "from scipy.interpolate import UnivariateSpline\n",
    "from scipy import optimize\n",
    "from scipy.optimize import brentq\n",
    "from scipy.optimize import newton\n",
    "from scipy.optimize import root, fsolve\n",
    "from scipy.optimize import basinhopping\n",
    "from scipy.integrate import quad, quadrature\n",
    "from scipy.integrate import odeint\n",
    "from scipy import fftpack"
   ]
  },
  {
   "cell_type": "code",
   "execution_count": 3,
   "metadata": {},
   "outputs": [
    {
     "name": "stdout",
     "output_type": "stream",
     "text": [
      "32.97989825386221\n"
     ]
    },
    {
     "data": {
      "text/plain": [
       "<matplotlib.lines.Line2D at 0x7f31d7996e48>"
      ]
     },
     "execution_count": 3,
     "metadata": {},
     "output_type": "execute_result"
    },
    {
     "data": {
      "image/png": "[encoded data removed]",
      "text/plain": [
       "<Figure size 432x288 with 1 Axes>"
      ]
     },
     "metadata": {},
     "output_type": "display_data"
    }
   ],
   "source": [
    "max_speeds = np.load('max-speeds.npy') # a np.array of the maximum speeds\n",
    "years_nb = max_speeds.shape[0] # how many max we have in this np.array\n",
    "\n",
    "cprob = (np.arange(years_nb, dtype=np.float32) + 1)/(years_nb + 1)\n",
    "\n",
    "\n",
    "sorted_max_speeds = np.sort(max_speeds) # we sort the np.array of max speed\n",
    "\n",
    "quantile_func = UnivariateSpline(cprob, sorted_max_speeds)\n",
    "\n",
    "nprob = np.linspace(0, 1, 20)\n",
    "fitted_max_speeds = quantile_func(nprob)\n",
    "\n",
    "fifty_prob = 1. - 0.02\n",
    "\n",
    "\n",
    "fifty_wind = quantile_func(fifty_prob)\n",
    "print(fifty_wind)\n",
    "\n",
    "plt.plot(sorted_max_speeds,cprob, 'ro')\n",
    "plt.plot(fitted_max_speeds,nprob,linestyle='dashed',color='g')\n",
    "plt.axvline(fifty_wind,color='b',linestyle='dashed')\n",
    "plt.axhline(fifty_prob,color='b',linestyle='dashed')"
   ]
  },
  {
   "cell_type": "code",
   "execution_count": 4,
   "metadata": {},
   "outputs": [
    {
     "name": "stdout",
     "output_type": "stream",
     "text": [
      "30.779000151444674\n"
     ]
    },
    {
     "data": {
      "text/plain": [
       "<matplotlib.lines.Line2D at 0x7f31d793f828>"
      ]
     },
     "execution_count": 4,
     "metadata": {},
     "output_type": "execute_result"
    },
    {
     "data": {
      "image/png": "[encoded data removed]",
      "text/plain": [
       "<Figure size 432x288 with 1 Axes>"
      ]
     },
     "metadata": {},
     "output_type": "display_data"
    }
   ],
   "source": [
    "# what if I didn't measure the highest speed of the dataset?\n",
    "max_speeds = np.load('max-speeds.npy') # a np.array of the maximum speeds\n",
    "years_nb = max_speeds.shape[0]-1 # how many max we have in this np.array\n",
    "\n",
    "cprob = (np.arange(years_nb, dtype=np.float32) + 1)/(years_nb + 1)\n",
    "\n",
    "\n",
    "sorted_max_speeds = np.sort(max_speeds) # we sort the np.array of max speed\n",
    "sorted_max_speeds=sorted_max_speeds[0:years_nb]\n",
    "\n",
    "quantile_func = UnivariateSpline(cprob, sorted_max_speeds)\n",
    "\n",
    "nprob = np.linspace(0, 1, 20)\n",
    "fitted_max_speeds = quantile_func(nprob)\n",
    "\n",
    "fifty_prob = 1. - 0.02\n",
    "\n",
    "\n",
    "fifty_wind = quantile_func(fifty_prob)\n",
    "print(fifty_wind)\n",
    "\n",
    "plt.plot(sorted_max_speeds,cprob, 'ro')\n",
    "plt.plot(fitted_max_speeds,nprob,linestyle='dashed',color='g')\n",
    "plt.axvline(fifty_wind,color='b',linestyle='dashed')\n",
    "plt.axhline(fifty_prob,color='b',linestyle='dashed')"
   ]
  },
  {
   "cell_type": "markdown",
   "metadata": {},
   "source": [
    "2\\. **Curve fitting of temperature in Alaska** \n",
    "\n",
    "The temperature extremes in Alaska for each month, starting in January, are given by (in degrees Celcius):\n",
    "\n",
    "max:  17,  19,  21,  28,  33,  38, 37,  37,  31,  23,  19,  18\n",
    "\n",
    "min: -62, -59, -56, -46, -32, -18, -9, -13, -25, -46, -52, -58\n",
    "\n",
    "* Plot these temperature extremes.\n",
    "* Define a function that can describe min and max temperatures. \n",
    "* Fit this function to the data with scipy.optimize.curve_fit().\n",
    "* Plot the result. Is the fit reasonable? If not, why?\n",
    "* Is the time offset for min and max temperatures the same within the fit accuracy?"
   ]
  },
  {
   "cell_type": "code",
   "execution_count": 5,
   "metadata": {},
   "outputs": [
    {
     "name": "stdout",
     "output_type": "stream",
     "text": [
      "[17 19 21 28 33 38 37 37 31 23 19 18]\n",
      "[-62 -59 -56 -46 -32 -18  -9 -13 -25 -46 -52 -58]\n"
     ]
    },
    {
     "data": {
      "text/plain": [
       "[<matplotlib.lines.Line2D at 0x7f31d79a7ba8>]"
      ]
     },
     "execution_count": 5,
     "metadata": {},
     "output_type": "execute_result"
    },
    {
     "data": {
      "image/png": "[encoded data removed]",
      "text/plain": [
       "<Figure size 432x288 with 1 Axes>"
      ]
     },
     "metadata": {},
     "output_type": "display_data"
    }
   ],
   "source": [
    "# with this procedure i can only obtain a cubic, it doesn't work properly\n",
    "max=np.array([17, 19, 21, 28, 33, 38, 37, 37, 31, 23, 19, 18])\n",
    "print(max)\n",
    "min=np.array([-62, -59, -56, -46, -32, -18, -9, -13, -25, -46, -52, -58])\n",
    "print(min)\n",
    "\n",
    "\n",
    "interp = interp1d(np.linspace(1, 12, 12), max, kind='cubic')\n",
    "steps = np.linspace(1, 12, 50)\n",
    "interp_steps=interp(steps)\n",
    "\n",
    "plt.plot(steps,interp_steps,linestyle='dashed',color='g')\n",
    "plt.plot(np.linspace(1, 12, 12),max, 'ro')\n"
   ]
  },
  {
   "cell_type": "code",
   "execution_count": 31,
   "metadata": {},
   "outputs": [
    {
     "name": "stdout",
     "output_type": "stream",
     "text": [
      "[10.58169953  1.68840705  6.53794312 27.94963539]\n",
      "[[ 0.16816433  0.0024483   0.01830645  0.00655312]\n",
      " [ 0.0024483   0.00364652  0.02838003 -0.01825223]\n",
      " [ 0.01830645  0.02838003  0.22599832 -0.14165463]\n",
      " [ 0.00655312 -0.01825223 -0.14165463  0.18339644]]\n",
      "[ 25.14962036   1.66300601   5.92822339 -36.71257097]\n",
      "[[ 1.72807323e+00  6.86475986e-04 -3.64648709e-03  1.89186347e-01]\n",
      " [ 6.86475986e-04  4.05914788e-03  3.08412847e-02 -4.42503885e-02]\n",
      " [-3.64648709e-03  3.08412847e-02  2.43116558e-01 -3.31009364e-01]\n",
      " [ 1.89186347e-01 -4.42503885e-02 -3.31009364e-01  1.41860396e+00]]\n"
     ]
    },
    {
     "data": {
      "text/plain": [
       "<matplotlib.legend.Legend at 0x7f31d6b40f28>"
      ]
     },
     "execution_count": 31,
     "metadata": {},
     "output_type": "execute_result"
    },
    {
     "data": {
      "image/png": "[encoded data removed]",
      "text/plain": [
       "<Figure size 432x288 with 1 Axes>"
      ]
     },
     "metadata": {},
     "output_type": "display_data"
    }
   ],
   "source": [
    "max=np.array([17, 19, 21, 28, 33, 38, 37, 37, 31, 23, 19, 18])\n",
    "min=np.array([-62, -59, -56, -46, -32, -18, -9, -13, -25, -46, -52, -58])\n",
    "\n",
    "months= np.linspace(1, 12, 12)\n",
    "steps = np.linspace(1, 12, 50)\n",
    "\n",
    "\n",
    "def f(x, A, T, phi, trasl):\n",
    "    return A * np.sin((x+phi)/T) + trasl\n",
    "\n",
    "# fit by means of curve_fit\n",
    "# p0 are the guessed values for the parameters\n",
    "par_max, par_max_covariance = optimize.curve_fit(f, months, max)\n",
    "print(par_max)\n",
    "print (par_max_covariance)\n",
    "\n",
    "plt.plot(months,max, 'ro', label='Data')\n",
    "plt.plot(steps, f(steps, par_max[0], par_max[1], par_max[2], par_max[3]),linestyle='dashed',color='g',label='Fitted function')\n",
    "\n",
    "\n",
    "par_min, par_min_covariance = optimize.curve_fit(f, months, min)\n",
    "print(par_min)\n",
    "print (par_min_covariance)\n",
    "\n",
    "plt.plot(months,min, 'bo', label='Data')\n",
    "plt.plot(steps, f(steps, par_min[0], par_min[1], par_min[2], par_min[3]),linestyle='dashed',color='y',label='Fitted function')\n",
    "\n",
    "\n",
    "plt.legend(loc='best')"
   ]
  },
  {
   "cell_type": "markdown",
   "metadata": {},
   "source": [
    "3\\. **2D minimization of a six-hump camelback function**\n",
    "\n",
    "$$\n",
    "f(x,y) = \\left(4-2.1x^2+\\frac{x^4}{3} \\right) x^2 +xy + (4y^2 -4)y^2\n",
    "$$\n",
    "\n",
    "has multiple global and local minima. Find the global minima of this function.\n",
    "\n",
    "Hints:\n",
    "\n",
    "* Variables can be restricted to $-2 < x < 2$ and $-1 < y < 1$.\n",
    "* Use numpy.meshgrid() and pylab.imshow() to find visually the regions.\n",
    "* Use scipy.optimize.minimize(), optionally trying out several of its methods.\n",
    "\n",
    "How many global minima are there, and what is the function value at those points? What happens for an initial guess of $(x, y) = (0, 0)$ ?\n"
   ]
  },
  {
   "cell_type": "markdown",
   "metadata": {},
   "source": [
    "4\\. **FFT of a simple dataset**\n",
    "\n",
    "Performe a periodicity analysis on the lynxs-hares population"
   ]
  },
  {
   "cell_type": "markdown",
   "metadata": {},
   "source": [
    "5\\. **FFT of an image**\n",
    "\n",
    "* Examine the provided image `moonlanding.png`, which is heavily contaminated with periodic noise. In this exercise, we aim to clean up the noise using the Fast Fourier Transform.\n",
    "* Load the image using pylab.imread().\n",
    "* Find and use the 2-D FFT function in scipy.fftpack, and plot the spectrum (Fourier transform of) the image. Do you have any trouble visualising the spectrum? If so, why?\n",
    "* The spectrum consists of high and low frequency components. The noise is contained in the high-frequency part of the spectrum, so set some of those components to zero (use array slicing).\n",
    "* Apply the inverse Fourier transform to see the resulting image."
   ]
  },
  {
   "cell_type": "code",
   "execution_count": null,
   "metadata": {
    "collapsed": true
   },
   "outputs": [],
   "source": []
  }
 ],
 "metadata": {
  "kernelspec": {
   "display_name": "Python 3",
   "language": "python",
   "name": "python3"
  },
  "language_info": {
   "codemirror_mode": {
    "name": "ipython",
    "version": 3
   },
   "file_extension": ".py",
   "mimetype": "text/x-python",
   "name": "python",
   "nbconvert_exporter": "python",
   "pygments_lexer": "ipython3",
   "version": "3.6.3"
  }
 },
 "nbformat": 4,
 "nbformat_minor": 2
}
