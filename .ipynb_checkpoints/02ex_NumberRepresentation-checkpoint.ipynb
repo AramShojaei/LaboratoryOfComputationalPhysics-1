{
 "cells": [
  {
   "cell_type": "markdown",
   "metadata": {},
   "source": [
    "1\\. Write a function that converts number representation (bin<->dec<->hex)"
   ]
  },
  {
   "cell_type": "code",
   "execution_count": 1,
   "metadata": {},
   "outputs": [
    {
     "name": "stdout",
     "output_type": "stream",
     "text": [
      "8\n",
      "1111101000\n"
     ]
    }
   ],
   "source": [
    "#se numero intero, base_1 è la base di partenza mentre base_2 è quella finale\n",
    "def conversion(number, base_1, base_2):\n",
    "    \n",
    "    if base_1>9 and base_1<11: #caso in cui la base di partenza è decimale, il numero è int\n",
    "        cn_str=''\n",
    "        converted_number=0\n",
    "        while number>0: \n",
    "            converted_number = number%base_2\n",
    "            #print(converted_number)\n",
    "            cn_str += str(converted_number)\n",
    "            number=number//base_2\n",
    "        cn_str=cn_str[::-1]\n",
    "        return cn_str\n",
    "    else: #se la base di partenza non è decimale il numero è una stringa\n",
    "        converted_number=0\n",
    "        n_str=str(number)\n",
    "        n_str=n_str[::-1]\n",
    "        l=len(n_str)\n",
    "        for i in range(l):\n",
    "            converted_number +=int(n_str[i])*base_1**i\n",
    "            \n",
    "        return converted_number\n",
    "\n",
    "print(conversion(1000,2,10))\n",
    "print(conversion(1000,10,2))\n",
    "\n",
    "\n",
    "##bisognerebbe gestire anche parte frazionaria e i casi d'errore!!!!!!\n",
    "        "
   ]
  },
  {
   "cell_type": "markdown",
   "metadata": {},
   "source": [
    "2\\. Write a function that converts a 32 bit word into a single precision floating point (i.e. interprets the various bits as sign, mantissa and exponent)"
   ]
  },
  {
   "cell_type": "code",
   "execution_count": 2,
   "metadata": {},
   "outputs": [
    {
     "name": "stdout",
     "output_type": "stream",
     "text": [
      "10011111100000000000000000000001\n",
      "32\n"
     ]
    },
    {
     "data": {
      "text/plain": [
       "'-104857.7375'"
      ]
     },
     "execution_count": 2,
     "metadata": {},
     "output_type": "execute_result"
    }
   ],
   "source": [
    "def spfp_conversion(word):\n",
    "    print(word)\n",
    "    word=word[::-1]\n",
    "    print(len(word))\n",
    "    segno=word[31]\n",
    "    e=int(word[24:31],2)\n",
    "    bias=127\n",
    "    esp=e-bias\n",
    "    mantissa=int(word[0:24],2)\n",
    "    number = (1+ mantissa*0.1)*2**esp\n",
    "    if segno=='0':\n",
    "        return '+'+str(number)\n",
    "    else:\n",
    "        return '-'+str(number)\n",
    "\n",
    "spfp_conversion('10011111100000000000000000000001')"
   ]
  },
  {
   "cell_type": "markdown",
   "metadata": {},
   "source": [
    "3\\. Write a program to determine the underflow and overflow limits (within a factor of 2) for python on your computer. \n",
    "\n",
    "**Tips**: define two variables inizialized to 1 and halve/double them enough time to exceed the under/over-flow limits  "
   ]
  },
  {
   "cell_type": "code",
   "execution_count": 3,
   "metadata": {},
   "outputs": [
    {
     "name": "stdout",
     "output_type": "stream",
     "text": [
      "0.0\n",
      "1075\n",
      "inf\n",
      "1024\n",
      "179769313486231590772930519078902473361797697894230657273430081157732675805500963132708477322407536021120113879871393357658789768814416622492847430639474124377767893424865485276302219601246094119453082952085005768838150682342462881473913110540827237163350510684586298239947245938479716304835356329624224137216\n"
     ]
    }
   ],
   "source": [
    "detect_under=float(1)\n",
    "detect_over=float(1)\n",
    "i=0\n",
    "m=0\n",
    "while detect_under>0:\n",
    "    i +=1\n",
    "    detect_under=detect_under/2\n",
    "print(detect_under)\n",
    "print(i)\n",
    "\n",
    "while detect_over<float('Inf'):\n",
    "    m+=1\n",
    "    detect_over=detect_over*2\n",
    "    \n",
    "print(detect_over)\n",
    "print(m)\n",
    "print(2**m)\n"
   ]
  },
  {
   "cell_type": "markdown",
   "metadata": {},
   "source": [
    "4\\. Write a program to determine the machine precision\n",
    "\n",
    "**Tips**: define a new variable by adding a smaller and smaller value (proceeding similarly to prob. 2) to an original variable and check the point where the two are the same "
   ]
  },
  {
   "cell_type": "code",
   "execution_count": 4,
   "metadata": {},
   "outputs": [
    {
     "name": "stdout",
     "output_type": "stream",
     "text": [
      "1.1102230246251565e-16\n",
      "53\n",
      "1.0\n"
     ]
    }
   ],
   "source": [
    "#It is the difference between 1 and the next nearest number representable as a machine number. \n",
    "# quindi è l'errore massimo che faccio quando memorizzo numeri\n",
    "var=float(1)\n",
    "eps=float(1)\n",
    "it=0\n",
    "while (var + eps) > var:\n",
    "    eps=eps/2\n",
    "    it +=1\n",
    "print(eps)\n",
    "print(it)\n",
    "print(var+eps)"
   ]
  },
  {
   "cell_type": "markdown",
   "metadata": {},
   "source": [
    "5\\. Write a function that takes in input three parameters $a$, $b$ and $c$ and prints out the two solutions to the quadratic equation $ax^2+bx+c=0$ using the standard formula:\n",
    "$$\n",
    "x=\\frac{-b\\pm\\sqrt{b^2-4ac}}{2a}\n",
    "$$\n",
    "\n",
    "(a) use the program to compute the solution for $a=0.001$, $b=1000$ and $c=0.001$\n",
    "\n",
    "(b) re-express the standard solution formula by multiplying top and bottom by $-b\\mp\\sqrt{b^2-4ac}$ and again find the solution for $a=0.001$, $b=1000$ and $c=0.001$. How does it compare with what previously obtained? Why?\n",
    "\n",
    "(c) write a function that compute the roots of a quadratic equation accurately in all cases"
   ]
  },
  {
   "cell_type": "code",
   "execution_count": 5,
   "metadata": {},
   "outputs": [
    {
     "data": {
      "text/plain": [
       "Decimal('0.1000000000000000055511151231257827021181583404541015625')"
      ]
     },
     "execution_count": 5,
     "metadata": {},
     "output_type": "execute_result"
    }
   ],
   "source": [
    "from decimal import Decimal\n",
    "Decimal(1.0/10.0)"
   ]
  },
  {
   "cell_type": "code",
   "execution_count": 6,
   "metadata": {},
   "outputs": [
    {
     "name": "stdout",
     "output_type": "stream",
     "text": [
      "half wrong answer: (-9.999894245993346e-07, -999999.999999)\n"
     ]
    }
   ],
   "source": [
    "import math\n",
    "def sol_eq(a,b,c):\n",
    "    d=math.sqrt(b**2-4*a*c)\n",
    "    x1=(-b+d)/(2*a)\n",
    "    x2=(-b-d)/(2*a)\n",
    "    \n",
    "    \n",
    "    return x1, x2\n",
    "print('half wrong answer:',sol_eq(0.001,1000,0.001))\n"
   ]
  },
  {
   "cell_type": "code",
   "execution_count": 7,
   "metadata": {},
   "outputs": [
    {
     "name": "stdout",
     "output_type": "stream",
     "text": [
      "half wrong answer: (-1.0000000000009999e-06, -1000010.5755125057)\n"
     ]
    }
   ],
   "source": [
    "def sol_eq_2(a,b,c):\n",
    "    d=math.sqrt(b**2-4*a*c)\n",
    "    x1=4*a*c/((2*a)*(-b-d))\n",
    "    x2=4*a*c/((2*a)*(-b+d))\n",
    "    \n",
    "  \n",
    "    return x1, x2\n",
    "\n",
    "print('half wrong answer:',sol_eq_2(0.001,1000,0.001))"
   ]
  },
  {
   "cell_type": "code",
   "execution_count": 8,
   "metadata": {},
   "outputs": [
    {
     "name": "stdout",
     "output_type": "stream",
     "text": [
      "right answer: (-1.0000000000009999e-06, -999999.999999)\n"
     ]
    }
   ],
   "source": [
    "#from decimal import Decimal\n",
    "def sol_eq_3(a,b,c):\n",
    "    d=math.sqrt(b**2-4*a*c)\n",
    "    x1=4*a*c/((2*a)*(-b-d))\n",
    "    x2=(-b-d)/(2*a)\n",
    "    \n",
    "    return x1,x2\n",
    "    \n",
    "print('right answer:',sol_eq_3(0.001,1000,0.001))\n"
   ]
  },
  {
   "cell_type": "markdown",
   "metadata": {},
   "source": [
    "## problems arise when we subtract numbers very close in value"
   ]
  },
  {
   "cell_type": "markdown",
   "metadata": {},
   "source": [
    "6\\. Write a program that implements a function $f(x)$ returning the value of $x(x−1)$\n",
    "\n",
    "(a)calculates the derivative of the function at the point $x = 1$ using the derivative definition:\n",
    "\n",
    "$$\n",
    "\\frac{{\\rm d}f}{{\\rm d}x} = \\lim_{\\delta\\to0} \\frac{f(x+\\delta)-f(x)}{\\delta}\n",
    "$$\n",
    "\n",
    "with δ = 10−2. Calculate the true value of the same derivative analytically and compare with the answer your program gives. The two will not agree perfectly. Why not?\n",
    "\n",
    "(b) Repeat the calculation for $\\delta = 10^{−4}, 10^{−6}, 10^{−8}, 10^{−10}, 10^{−12}$ and $10^{−14}$. How does the accuracy scales with $\\delta$?"
   ]
  },
  {
   "cell_type": "code",
   "execution_count": 9,
   "metadata": {},
   "outputs": [
    {
     "name": "stdout",
     "output_type": "stream",
     "text": [
      "99990000\n"
     ]
    }
   ],
   "source": [
    "def fun(x):\n",
    "    return x*(x-1)\n",
    "\n",
    "print(fun(10000))"
   ]
  },
  {
   "cell_type": "code",
   "execution_count": 10,
   "metadata": {},
   "outputs": [
    {
     "name": "stdout",
     "output_type": "stream",
     "text": [
      "derivative with definition, delta=10^-2: 1.010000000000001\n",
      "derivative, delta=10^-2: 1\n",
      "derivative with definition, delta=10^-4: 1.0000999999998899\n",
      "derivative with definition, delta=10^-6: 1.0000009999177333\n",
      "derivative with definition, delta=10^-8: 1.0000000039225287\n",
      "derivative with definition, delta=10^-10: 1.000000082840371\n",
      "derivative with definition, delta=10^-12: 1.0000889005833413\n",
      "derivative with definition, delta=10^-14: 0.9992007221626509\n"
     ]
    }
   ],
   "source": [
    "def der(x,d):\n",
    "    delta=d\n",
    "    #print(fun(1))\n",
    "    #print((fun(1+delta)-fun(1))/delta)\n",
    "    return (fun(x+delta)-fun(x))/delta\n",
    "\n",
    "def der2(x):\n",
    "    return 2*x-1\n",
    "\n",
    "print('derivative with definition, delta=10^-2:',der(1, 10**(-2)))\n",
    "print('derivative, delta=10^-2:',der2(1))\n",
    "print('derivative with definition, delta=10^-4:',der(1, 10**(-4)))\n",
    "print('derivative with definition, delta=10^-6:',der(1, 10**(-6)))\n",
    "print('derivative with definition, delta=10^-8:',der(1, 10**(-8)))\n",
    "print('derivative with definition, delta=10^-10:',der(1, 10**(-10)))\n",
    "print('derivative with definition, delta=10^-12:',der(1, 10**(-12)))\n",
    "print('derivative with definition, delta=10^-14:',der(1, 10**(-14)))"
   ]
  },
  {
   "cell_type": "markdown",
   "metadata": {},
   "source": [
    "a) The two will not agree perfectly because delta is not small enough\n",
    "\n",
    "b) If I decrease delta the result is more accurate at first but then encrease more and more"
   ]
  },
  {
   "cell_type": "markdown",
   "metadata": {},
   "source": [
    "## ANSWER:\n",
    "The differences are due to the fact that the definition of derivative assumes that delta is close to zero. When I implemented the algorithm using the definition with delta=10^-2, delta is close to zero but not sufficiently close. Indeed, I observe that decreasing delta, the solution gets closer to the true one. The value of delta that gives the best solution is 10^-8.\n",
    "Overall, I can asser that the algorithm implemented using the definition is stable: \n",
    "i.e. it gives nearly the right answer to nearly the right question."
   ]
  },
  {
   "cell_type": "markdown",
   "metadata": {},
   "source": [
    "7\\. Consider the integral of the semicircle of radius 1:\n",
    "$$\n",
    "I=\\int_{-1}^{1} \\sqrt(1-x^2) {\\rm d}x\n",
    "$$\n",
    "which it's known to be $I=\\frac{\\pi}{2}=1.57079632679...$.\n",
    "Alternatively we can use the Riemann definition of the integral:\n",
    "$$\n",
    "I=\\lim_{N\\to\\infty} \\sum_{k=1}^{N} h y_k \n",
    "$$\n",
    "\n",
    "with $h=2/N$ the width of each of the $N$ slices the domain is divided into and where\n",
    "$y_k$ is the value of the function at the $k-$th slice.\n",
    "\n",
    "(a) Write a programe to compute the integral with $N=100$. How does the result compares to the true value?\n",
    "\n",
    "(b) How much can $N$ be increased if the computation needs to be run in less than a second? What is the gain in running it for 1 minute? \n"
   ]
  },
  {
   "cell_type": "code",
   "execution_count": 15,
   "metadata": {},
   "outputs": [
    {
     "name": "stdout",
     "output_type": "stream",
     "text": [
      "0.0\n"
     ]
    }
   ],
   "source": [
    "import math\n",
    "def semi_circle(x):\n",
    "    return math.sqrt(1-x**2)\n",
    "\n",
    "print(semi_circle(1))\n",
    "    \n",
    "    "
   ]
  },
  {
   "cell_type": "code",
   "execution_count": 27,
   "metadata": {},
   "outputs": [
    {
     "name": "stdout",
     "output_type": "stream",
     "text": [
      "computed integral: 1.5691342555492493\n",
      "difference with the true value 0.0016620712407506844\n",
      "1.000000000000001\n"
     ]
    }
   ],
   "source": [
    "N=100\n",
    "h=2/N\n",
    "I=0\n",
    "I_true=1.57079632679\n",
    "value=-1\n",
    "for i in range(1,N+1):\n",
    "    I += h*semi_circle(value)\n",
    "    value += h\n",
    "print('computed integral:',I)\n",
    "print('difference with the true value', I_true-I)\n",
    "\n",
    "print(value)\n",
    "    "
   ]
  },
  {
   "cell_type": "code",
   "execution_count": 31,
   "metadata": {},
   "outputs": [],
   "source": [
    "def integral(n):\n",
    "    N=n\n",
    "    h=2/N\n",
    "    I=0\n",
    "    I_true=1.57079632679\n",
    "    value=-1\n",
    "    for i in range(1,N+1):\n",
    "        I += h*semi_circle(value)\n",
    "        value += h\n",
    "    \n",
    "    return(I,I_true-I)"
   ]
  },
  {
   "cell_type": "code",
   "execution_count": 46,
   "metadata": {},
   "outputs": [
    {
     "name": "stdout",
     "output_type": "stream",
     "text": [
      "N: 100 result: (1.5691342555492493, 0.0016620712407506844)\n",
      "N: 1000 result: (1.5707437385010703, 5.258828892973355e-05)\n",
      "N: 10000 result: (1.5707946637153898, 1.6630746102475058e-06)\n",
      "N: 100000 result: (1.57079627420242, 5.258758006831954e-08)\n",
      "N: 1000000 result: (1.570796325147268, 1.642731950468601e-09)\n",
      "N: 10000000 result: (1.5707963267012999, 8.870015832940226e-11)\n",
      "N: 100000000 result: (1.570796327457729, -6.677289832168753e-10)\n"
     ]
    }
   ],
   "source": [
    "N=100\n",
    "for i in range(7):\n",
    "    print('N:',N,'result:',integral(N))\n",
    "    N = N*10"
   ]
  },
  {
   "cell_type": "code",
   "execution_count": 44,
   "metadata": {},
   "outputs": [
    {
     "name": "stdout",
     "output_type": "stream",
     "text": [
      "100 µs ± 1.61 µs per loop (mean ± std. dev. of 7 runs, 10000 loops each)\n",
      "1.06 ms ± 44.2 µs per loop (mean ± std. dev. of 7 runs, 1000 loops each)\n",
      "11.3 ms ± 568 µs per loop (mean ± std. dev. of 7 runs, 100 loops each)\n",
      "118 ms ± 11.2 ms per loop (mean ± std. dev. of 7 runs, 10 loops each)\n",
      "1.1 s ± 30 ms per loop (mean ± std. dev. of 7 runs, 1 loop each)\n",
      "11.1 s ± 196 ms per loop (mean ± std. dev. of 7 runs, 1 loop each)\n"
     ]
    }
   ],
   "source": [
    "%timeit integral(100)\n",
    "%timeit integral(1000)\n",
    "%timeit integral(10000)\n",
    "%timeit integral(100000)\n",
    "%timeit integral(1000000)\n",
    "%timeit integral(10000000)\n",
    "%timeit integral(100000000)\n"
   ]
  },
  {
   "cell_type": "markdown",
   "metadata": {},
   "source": [
    "I get the following results:\n",
    "- N=100: 100 µs ± 1.61 µs per loop (mean ± std. dev. of 7 runs, 10000 loops each)\n",
    "- N=1000: 1.06 ms ± 44.2 µs per loop (mean ± std. dev. of 7 runs, 1000 loops each)\n",
    "- N=10000: 11.3 ms ± 568 µs per loop (mean ± std. dev. of 7 runs, 100 loops each)\n",
    "- N=100000: 118 ms ± 11.2 ms per loop (mean ± std. dev. of 7 runs, 10 loops each)\n",
    "- N=1000000: 1.1 s ± 30 ms per loop (mean ± std. dev. of 7 runs, 1 loop each)\n",
    "- N=10000000: 11.1 s ± 196 ms per loop (mean ± std. dev. of 7 runs, 1 loop each)\n",
    "- N=100000000: 1min 40s ± 3.11 s per loop (mean ± std. dev. of 7 runs, 1 loop each)\n"
   ]
  },
  {
   "cell_type": "markdown",
   "metadata": {},
   "source": [
    "## NOTE:\n",
    "- the bigger N the closer the value to the true solution\n",
    "- I obtain the best result setting N= 10000000"
   ]
  },
  {
   "cell_type": "code",
   "execution_count": 43,
   "metadata": {},
   "outputs": [
    {
     "name": "stdout",
     "output_type": "stream",
     "text": [
      "0.08321976661682129\n",
      "1550688164.8421066\n",
      "1550688164.9253263\n"
     ]
    }
   ],
   "source": [
    "#import time\n",
    "#start=time.time()\n",
    "#integral(100000)\n",
    "#end=time.time()\n",
    "#print(end-start)\n",
    "#print(start)\n",
    "#print(end)\n"
   ]
  }
 ],
 "metadata": {
  "kernelspec": {
   "display_name": "Python 3",
   "language": "python",
   "name": "python3"
  },
  "language_info": {
   "codemirror_mode": {
    "name": "ipython",
    "version": 3
   },
   "file_extension": ".py",
   "mimetype": "text/x-python",
   "name": "python",
   "nbconvert_exporter": "python",
   "pygments_lexer": "ipython3",
   "version": "3.7.0"
  }
 },
 "nbformat": 4,
 "nbformat_minor": 2
}
