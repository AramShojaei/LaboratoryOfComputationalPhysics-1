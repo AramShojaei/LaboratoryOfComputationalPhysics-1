{
 "cells": [
  {
   "cell_type": "markdown",
   "metadata": {},
   "source": [
    "1\\. Write a function that converts number representation (bin<->dec<->hex)"
   ]
  },
  {
   "cell_type": "code",
   "execution_count": 37,
   "metadata": {},
   "outputs": [
    {
     "name": "stdout",
     "output_type": "stream",
     "text": [
      "Decimal representation of 0x12 is 18\n",
      "Binary representation of 0x12 is 0b10010\n",
      "Hexadecimal representation of 0x12 is 0x12\n"
     ]
    }
   ],
   "source": [
    "#___Dictionary_for_hex_____\n",
    "hex_dic = {\"0\":0, \"1\":1, \"2\":2, \"3\":3, \n",
    "           \"4\":4, \"5\":5, \"6\":6, \"7\":7, \n",
    "           \"8\":8, \"9\":9, \"a\":10, \"b\":11, \n",
    "           \"c\":12, \"d\":13, \"e\":14, \"f\":15 }\n",
    "\n",
    "\n",
    "#___Simple_conversions_____\n",
    "def int_to_bin(str_n):\n",
    "    \n",
    "    if str_n[1]==\"x\": #if hexadecimal, convert to decimal first\n",
    "        str_n = hex_to_int(str_n)\n",
    "    n = int(str_n)\n",
    "\n",
    "    bin_n = \"\"\n",
    "    while n!=0:\n",
    "        if n%2==1:\n",
    "            bin_n = \"1\" + bin_n\n",
    "        else:\n",
    "            bin_n = \"0\" + bin_n\n",
    "        n = n//2      \n",
    "    return (\"0b\"+bin_n)\n",
    "\n",
    "\n",
    "def bin_to_int(n):\n",
    "    n = n[2:]\n",
    "    int_n = 0\n",
    "    for i in range(len(n)):\n",
    "        if n[i]==\"1\":\n",
    "            int_n += 2**(len(n)-1-i)\n",
    "    return str(int_n)\n",
    "\n",
    "\n",
    "def int_to_hex(str_n):\n",
    "    \n",
    "    if str_n[1]==\"b\": #if binary, convert to decimal first\n",
    "        str_n = bin_to_int(str_n)\n",
    "    n = int(str_n)\n",
    "    \n",
    "    hex_n = \"\"\n",
    "    while n!=0:\n",
    "        for symbol in hex_dic:\n",
    "            if hex_dic[symbol] == n%16:\n",
    "                hex_n = symbol + hex_n\n",
    "        n = n//16\n",
    "    return (\"0x\"+hex_n)\n",
    "\n",
    "\n",
    "def hex_to_int(n):\n",
    "    n = n[2:]\n",
    "    int_n = 0\n",
    "    for i in range(len(n)):\n",
    "        int_n += hex_dic[n[i]]*16**(len(n)-1-i)\n",
    "    return str(int_n)\n",
    "\n",
    "\n",
    "#___One_function_to_rule_them_all______\n",
    "def to_everything(n):\n",
    "   \n",
    "    if n[1]==\"b\":\n",
    "        print(\"Decimal representation of\",n,\"is\", bin_to_int(n))\n",
    "        print(\"Binary representation of\",n,\"is\", n)\n",
    "        print(\"Hexadecimal representation of\",n,\"is\", int_to_hex(n))\n",
    "    \n",
    "    elif n[1]==\"x\":\n",
    "        print(\"Decimal representation of\",n,\"is\", hex_to_int(n))\n",
    "        print(\"Binary representation of\",n,\"is\", int_to_bin(n))\n",
    "        print(\"Hexadecimal representation of\",n,\"is\", n)\n",
    "        \n",
    "    else:\n",
    "        print(\"Decimal representation of\",n,\"is\", n)\n",
    "        print(\"Binary representation of\",n,\"is\", int_to_bin(n))\n",
    "        print(\"Hexadecimal representation of\",n,\"is\", int_to_hex(n))\n",
    "        \n",
    "#choosing the number and calling the converter\n",
    "number = \"0x12\"\n",
    "to_everything(number)"
   ]
  },
  {
   "cell_type": "markdown",
   "metadata": {},
   "source": [
    "2\\. Write a function that converts a 32 bit word into a single precision floating point (i.e. interprets the various bits as sign, mantissa and exponent)"
   ]
  },
  {
   "cell_type": "markdown",
   "metadata": {},
   "source": [
    "3\\. Write a program to determine the underflow and overflow limits (within a factor of 2) for python on your computer. \n",
    "\n",
    "**Tips**: define two variables inizialized to 1 and halve/double them enough time to exceed the under/over-flow limits  "
   ]
  },
  {
   "cell_type": "markdown",
   "metadata": {},
   "source": [
    "4\\. Write a program to determine the machine precision\n",
    "\n",
    "**Tips**: define a new variable by adding a smaller and smaller value (proceeding similarly to prob. 2) to an original variable and check the point where the two are the same "
   ]
  },
  {
   "cell_type": "markdown",
   "metadata": {},
   "source": [
    "5\\. Write a function that takes in input three parameters $a$, $b$ and $c$ and prints out the two solutions to the quadratic equation $ax^2+bx+c=0$ using the standard formula:\n",
    "$$\n",
    "x=\\frac{-b\\pm\\sqrt{b^2-4ac}}{2a}\n",
    "$$\n",
    "\n",
    "(a) use the program to compute the solution for $a=0.001$, $b=1000$ and $c=0.001$\n",
    "\n",
    "(b) re-express the standard solution formula by multiplying top and bottom by $-b\\mp\\sqrt{b^2-4ac}$ and again find the solution for $a=0.001$, $b=1000$ and $c=0.001$. How does it compare with what previously obtained? Why?\n",
    "\n",
    "(c) write a function that compute the roots of a quadratic equation accurately in all cases"
   ]
  },
  {
   "cell_type": "markdown",
   "metadata": {},
   "source": [
    "6\\. Write a program that implements the function $f(x)=x(x−1)$\n",
    "\n",
    "(a) Calculate the derivative of the function at the point $x = 1$ using the derivative definition:\n",
    "\n",
    "$$\n",
    "\\frac{{\\rm d}f}{{\\rm d}x} = \\lim_{\\delta\\to0} \\frac{f(x+\\delta)-f(x)}{\\delta}\n",
    "$$\n",
    "\n",
    "with $\\delta = 10^{−2}$. Calculate the true value of the same derivative analytically and compare with the answer your program gives. The two will not agree perfectly. Why not?\n",
    "\n",
    "(b) Repeat the calculation for $\\delta = 10^{−4}, 10^{−6}, 10^{−8}, 10^{−10}, 10^{−12}$ and $10^{−14}$. How does the accuracy scales with $\\delta$?"
   ]
  },
  {
   "cell_type": "markdown",
   "metadata": {},
   "source": [
    "7\\. Consider the integral of the semicircle of radius 1:\n",
    "$$\n",
    "I=\\int_{-1}^{1} \\sqrt(1-x^2) {\\rm d}x\n",
    "$$\n",
    "which it's known to be $I=\\frac{\\pi}{2}=1.57079632679...$.\n",
    "Alternatively we can use the Riemann definition of the integral:\n",
    "$$\n",
    "I=\\lim_{N\\to\\infty} \\sum_{k=1}^{N} h y_k \n",
    "$$\n",
    "\n",
    "with $h=2/N$ the width of each of the $N$ slices the domain is divided into and where\n",
    "$y_k$ is the value of the function at the $k-$th slice.\n",
    "\n",
    "(a) Write a programe to compute the integral with $N=100$. How does the result compares to the true value?\n",
    "\n",
    "(b) How much can $N$ be increased if the computation needs to be run in less than a second? What is the gain in running it for 1 minute? \n"
   ]
  },
  {
   "cell_type": "code",
   "execution_count": null,
   "metadata": {},
   "outputs": [],
   "source": []
  }
 ],
 "metadata": {
  "kernelspec": {
   "display_name": "Python 3",
   "language": "python",
   "name": "python3"
  },
  "language_info": {
   "codemirror_mode": {
    "name": "ipython",
    "version": 3
   },
   "file_extension": ".py",
   "mimetype": "text/x-python",
   "name": "python",
   "nbconvert_exporter": "python",
   "pygments_lexer": "ipython3",
   "version": "3.6.6"
  }
 },
 "nbformat": 4,
 "nbformat_minor": 2
}
