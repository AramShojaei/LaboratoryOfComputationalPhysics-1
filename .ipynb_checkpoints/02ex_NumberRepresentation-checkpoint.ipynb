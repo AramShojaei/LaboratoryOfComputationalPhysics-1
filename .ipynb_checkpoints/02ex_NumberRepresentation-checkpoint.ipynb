{
 "cells": [
  {
   "cell_type": "markdown",
   "metadata": {},
   "source": [
    "1\\. Write a function that converts number representation (bin<->dec<->hex)"
   ]
  },
  {
   "cell_type": "code",
   "execution_count": 6,
   "metadata": {},
   "outputs": [
    {
     "name": "stdout",
     "output_type": "stream",
     "text": [
      "43868\n"
     ]
    }
   ],
   "source": [
    "def dec2bin(number):\n",
    "    binumber = ''\n",
    "    while number!=0:\n",
    "        if number%2==0:\n",
    "            number = int(number/2)\n",
    "            binumber = binumber + '0'\n",
    "        else:\n",
    "            number = int(number/2)\n",
    "            binumber = binumber + '1'\n",
    "    binario = int(binumber[::-1])\n",
    "    return binario\n",
    "\n",
    "def bin2dec(binumber):\n",
    "    binumber = str(binumber)\n",
    "    decimale = 0\n",
    "    j = 0\n",
    "    for i in binumber[::-1]:\n",
    "        if i=='0':\n",
    "            decimale = decimale + 0*(2**j)\n",
    "        else:\n",
    "            decimale = decimale + 1*(2**j)\n",
    "        j = j+1\n",
    "    return decimale\n",
    "\n",
    "def dec2hex(number):\n",
    "    hexnumber = ''\n",
    "    while number!=0:\n",
    "        if number%16==0:\n",
    "            resto = int(number%16)\n",
    "            resto = str(resto)\n",
    "            hexnumber = hexnumber + resto\n",
    "        elif number%16==10:\n",
    "            hexnumber = hexnumber + 'A'\n",
    "        elif number%16==11:\n",
    "            hexnumber = hexnumber + 'B'\n",
    "        elif number%16==12:\n",
    "            hexnumber = hexnumber + 'C'\n",
    "        elif number%16==13:\n",
    "            hexnumber = hexnumber + 'D'\n",
    "        elif number%16==14:\n",
    "            hexnumber = hexnumber + 'E'\n",
    "        elif number%16==15:\n",
    "            hexnumber = hexnumber + 'F'\n",
    "        else:\n",
    "            resto = int(number%16)\n",
    "            resto = str(resto)\n",
    "            hexnumber = hexnumber + resto\n",
    "        number = int(number/16)\n",
    "    esadecimale = hexnumber[::-1]\n",
    "    return esadecimale\n",
    "\n",
    "def hex2dec(esadec):\n",
    "    esadec = str(esadec)\n",
    "    decimal = 0\n",
    "    j = 0\n",
    "    for i in esadec[::-1]:\n",
    "        if i=='A':\n",
    "            decimal = decimal + 10*(16**j)\n",
    "        elif i=='B':\n",
    "            decimal = decimal + 11*(16**j)\n",
    "        elif i=='C':\n",
    "            decimal = decimal + 12*(16**j)\n",
    "        elif i=='D':\n",
    "            decimal = decimal + 13*(16**j)\n",
    "        elif i=='E':\n",
    "            decimal = decimal + 14*(16**j)\n",
    "        elif i=='F':\n",
    "            decimal = decimal + 15*(16**j)\n",
    "        else:\n",
    "            num = int(i)\n",
    "            decimal = decimal + num*(16**j)\n",
    "        j = j+1\n",
    "    return decimal     \n",
    "\n"
   ]
  },
  {
   "cell_type": "markdown",
   "metadata": {},
   "source": [
    "2\\. Write a function that converts a 32 bit word into a single precision floating point (i.e. interprets the various bits as sign, mantissa and exponent)"
   ]
  },
  {
   "cell_type": "code",
   "execution_count": 4,
   "metadata": {},
   "outputs": [
    {
     "data": {
      "text/plain": [
       "-25.50048828125"
      ]
     },
     "execution_count": 4,
     "metadata": {},
     "output_type": "execute_result"
    }
   ],
   "source": [
    "def esponente(stringa):\n",
    "    esponente = stringa[::-1]\n",
    "    esponente = esponente[23:31]\n",
    "    exp = 0\n",
    "    k = 0\n",
    "    for i in esponente:\n",
    "        if i=='1':\n",
    "            exp = exp + 1*2**k\n",
    "        else:\n",
    "            exp = exp + 0*2**k\n",
    "        k = k+1\n",
    "    return exp-127\n",
    "\n",
    "def mantissa(stringa):\n",
    "    stringa = stringa[9:]\n",
    "    fraction = 0\n",
    "    k = 1\n",
    "    for i in stringa:\n",
    "        if i=='1':\n",
    "            fraction = fraction + 2**(-k)\n",
    "        k = k+1\n",
    "    return 1+fraction\n",
    "\n",
    "def converter(binary):\n",
    "    sign = (-1)**(int(binary[0]))\n",
    "    exponent = esponente(binary)\n",
    "    fraction = mantissa(binary)\n",
    "    floatingNumber = sign*2**(exponent)*fraction\n",
    "    return floatingNumber\n",
    "        \n",
    "\n",
    "stringa = '11000001110011000000000100000000'\n",
    "converter(stringa)\n",
    "\n",
    "\n",
    "        "
   ]
  },
  {
   "cell_type": "markdown",
   "metadata": {},
   "source": [
    "3\\. Write a program to determine the underflow and overflow limits (within a factor of 2) for python on your computer. \n",
    "\n",
    "**Tips**: define two variables inizialized to 1 and halve/double them enough time to exceed the under/over-flow limits  "
   ]
  },
  {
   "cell_type": "code",
   "execution_count": 6,
   "metadata": {},
   "outputs": [
    {
     "name": "stdout",
     "output_type": "stream",
     "text": [
      "Underflow limit 5e-324\n",
      "Overflow limit 8.98846567431158e+307\n"
     ]
    }
   ],
   "source": [
    "underflow = 1.\n",
    "while underflow!=0:\n",
    "    min_ = underflow\n",
    "    underflow = underflow/2\n",
    "print(\"Underflow limit\",min_)\n",
    "\n",
    "overflow = 1.\n",
    "while overflow/overflow==1:\n",
    "    max_ = overflow\n",
    "    overflow = overflow*2\n",
    "print(\"Overflow limit\",max_)"
   ]
  },
  {
   "cell_type": "markdown",
   "metadata": {},
   "source": [
    "4\\. Write a program to determine the machine precision\n",
    "\n",
    "**Tips**: define a new variable by adding a smaller and smaller value (proceeding similarly to prob. 2) to an original variable and check the point where the two are the same "
   ]
  },
  {
   "cell_type": "code",
   "execution_count": 7,
   "metadata": {},
   "outputs": [
    {
     "name": "stdout",
     "output_type": "stream",
     "text": [
      "2.220446049250313e-16\n",
      "2.220446049250313e-16\n"
     ]
    }
   ],
   "source": [
    "import numpy as np\n",
    "start = 1.\n",
    "\n",
    "step = 2.\n",
    "end = 0.\n",
    "while start != end:\n",
    "    step = step/2\n",
    "    end = start + step\n",
    "    \n",
    "print(step*2)\n",
    "print(np.finfo(float).eps)"
   ]
  },
  {
   "cell_type": "markdown",
   "metadata": {},
   "source": [
    "5\\. Write a function that takes in input three parameters $a$, $b$ and $c$ and prints out the two solutions to the quadratic equation $ax^2+bx+c=0$ using the standard formula:\n",
    "$$\n",
    "x=\\frac{-b\\pm\\sqrt{b^2-4ac}}{2a}\n",
    "$$\n",
    "\n",
    "(a) use the program to compute the solution for $a=0.001$, $b=1000$ and $c=0.001$\n",
    "\n",
    "(b) re-express the standard solution formula by multiplying top and bottom by $-b\\mp\\sqrt{b^2-4ac}$ and again find the solution for $a=0.001$, $b=1000$ and $c=0.001$. How does it compare with what previously obtained? Why?\n",
    "\n",
    "(c) write a function that compute the roots of a quadratic equation accurately in all cases"
   ]
  },
  {
   "cell_type": "code",
   "execution_count": 10,
   "metadata": {},
   "outputs": [
    {
     "name": "stdout",
     "output_type": "stream",
     "text": [
      "(-9.999894245993346e-07, -999999.999999)\n",
      "(-1.000000000001e-06, -1000010.5755125057)\n",
      "(-1.000000000001e-06, -999999.999999)\n"
     ]
    }
   ],
   "source": [
    "from math import sqrt\n",
    "\n",
    "def quadraticSolv1(a,b,c):\n",
    "    s=sqrt(b**2-4*a*c)\n",
    "    return ((-b+s)/(2*a),(-b-s)/(2*a))\n",
    "\n",
    "def quadraticSolv2(a,b,c):\n",
    "    s=sqrt(b**2-4*a*c)\n",
    "    return (2*c/(-b-s),2*c/(-b+s))\n",
    "\n",
    "def quadraticSolv3(a,b,c):\n",
    "    return (quadraticSolv2(a,b,c)[0],quadraticSolv1(a,b,c)[1]) \n",
    "\n",
    "a = 0.001\n",
    "b = 1000\n",
    "c = a\n",
    "\n",
    "print(quadraticSolv1(a,b,c))\n",
    "print(quadraticSolv2(a,b,c))\n",
    "print(quadraticSolv3(a,b,c))"
   ]
  },
  {
   "cell_type": "markdown",
   "metadata": {},
   "source": [
    "6\\. Write a program that implements a function $f(x)$ returning the value of $x(x−1)$\n",
    "\n",
    "(a)calculates the derivative of the function at the point $x = 1$ using the derivative definition:\n",
    "\n",
    "$$\n",
    "\\frac{{\\rm d}f}{{\\rm d}x} = \\lim_{\\delta\\to0} \\frac{f(x+\\delta)-f(x)}{\\delta}\n",
    "$$\n",
    "\n",
    "with δ = 10−2. Calculate the true value of the same derivative analytically and compare with the answer your program gives. The two will not agree perfectly. Why not?\n",
    "\n",
    "(b) Repeat the calculation for $\\delta = 10^{−4}, 10^{−6}, 10^{−8}, 10^{−10}, 10^{−12}$ and $10^{−14}$. How does the accuracy scales with $\\delta$?"
   ]
  },
  {
   "cell_type": "code",
   "execution_count": 12,
   "metadata": {},
   "outputs": [
    {
     "name": "stdout",
     "output_type": "stream",
     "text": [
      "1.010000000000001\n",
      "1.0000999999998899\n",
      "1.0000009999177333\n",
      "1.0000000039225287\n",
      "1.000000082840371\n",
      "1.0000889005833413\n",
      "0.9992007221626509\n"
     ]
    }
   ],
   "source": [
    "#a \n",
    "\n",
    "def func(x):\n",
    "    return x*(x-1)\n",
    "\n",
    "\n",
    "def diff(function,x, delta=0.01):\n",
    "    return((function(x+delta)-function(x))/delta)\n",
    "\n",
    "print(diff(func,1,delta=0.01))\n",
    "\n",
    "#b\n",
    "\n",
    "deltas = [10**(-4),10**(-6),10**(-8),10**(-10),10**(-12),10**(-14)]\n",
    "\n",
    "for d in deltas:\n",
    "    print(diff(func,1,d))\n",
    "    \n",
    "    "
   ]
  },
  {
   "cell_type": "markdown",
   "metadata": {},
   "source": [
    "7\\. Calculate the integral"
   ]
  },
  {
   "cell_type": "code",
   "execution_count": 69,
   "metadata": {},
   "outputs": [
    {
     "data": {
      "text/plain": [
       "1.0000102809119051"
      ]
     },
     "execution_count": 69,
     "metadata": {},
     "output_type": "execute_result"
    }
   ],
   "source": [
    "import numpy as np\n",
    "\n",
    "def integrate(f,a,b,N):\n",
    "    x = np.linspace(a+(b-a)/(2*N), b-(b-a)/(2*N), N)\n",
    "    fx = f(x)\n",
    "    area = np.sum(f(x))*(b-a)/N\n",
    "    return area\n",
    "\n",
    "integrate(np.sin,0,np.pi/2,100)"
   ]
  },
  {
   "cell_type": "code",
   "execution_count": null,
   "metadata": {},
   "outputs": [],
   "source": []
  }
 ],
 "metadata": {
  "kernelspec": {
   "display_name": "Python 3",
   "language": "python",
   "name": "python3"
  },
  "language_info": {
   "codemirror_mode": {
    "name": "ipython",
    "version": 3
   },
   "file_extension": ".py",
   "mimetype": "text/x-python",
   "name": "python",
   "nbconvert_exporter": "python",
   "pygments_lexer": "ipython3",
   "version": "3.7.0"
  }
 },
 "nbformat": 4,
 "nbformat_minor": 2
}
