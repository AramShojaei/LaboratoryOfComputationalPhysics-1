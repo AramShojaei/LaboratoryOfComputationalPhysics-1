{
 "cells": [
  {
   "cell_type": "markdown",
   "metadata": {},
   "source": [
    "1\\. Write a function that converts number representation (bin<->dec<->hex)"
   ]
  },
  {
   "cell_type": "code",
   "execution_count": 30,
   "metadata": {},
   "outputs": [
    {
     "name": "stdout",
     "output_type": "stream",
     "text": [
      "0b1000\n",
      "0x1D8A\n",
      "8\n",
      "0x8\n"
     ]
    }
   ],
   "source": [
    "def db_conv(a):\n",
    "    bit = []\n",
    "    while a>=1:\n",
    "        if(int(a%2)==0):\n",
    "            bit.append(0)\n",
    "        else:\n",
    "            bit.append(1)\n",
    "        a/=2\n",
    "    bit.reverse()\n",
    "    return \"0b\"+''.join(str(e) for e in bit)\n",
    "\n",
    "print(db_conv(8))                  \n",
    "\n",
    "h = {10:'A', 11:'B', 12:'C', 13:'D', 14:'E', 15:'F'}\n",
    "def dh_conv(a):\n",
    "    rep = []\n",
    "    while a>=1:\n",
    "        rest = int(a%16)\n",
    "        if(rest > 9):\n",
    "            rest = h[rest]\n",
    "        rep.append(rest)\n",
    "        a /= 16\n",
    "    rep.reverse()\n",
    "    return \"0x\"+''.join(str(e) for e in rep)\n",
    "\n",
    "print(dh_conv(7562))\n",
    "\n",
    "def bd_conv(a):\n",
    "    d = 0\n",
    "    for i in range(2, len(a)):\n",
    "        d += int(a[i])*2**(len(a)-i-1)\n",
    "    return d\n",
    "\n",
    "print(bd_conv('0b1000'))\n",
    "\n",
    "def bh_conv(a):\n",
    "    return dh_conv(bd_conv(a))\n",
    "\n",
    "print(bh_conv('0b1000'))\n",
    "\n",
    "h = {'A':10, 'B':11, 'C':12, 'D':13, 'E':14, 'F':15}\n",
    "#def hd_conv(a):\n",
    " #   d = 0\n",
    "  #  for i in range(2, len(a)):\n",
    "   #         \n",
    "    #    d += a[i]*16**(len(a)-i-1)\n",
    "\n",
    "def hb_conv(a):\n",
    "    return db_conv(hd_conv(a))"
   ]
  },
  {
   "cell_type": "markdown",
   "metadata": {},
   "source": [
    "2\\. Write a function that converts a 32 bit word into a single precision floating point (i.e. interprets the various bits as sign, mantissa and exponent)"
   ]
  },
  {
   "cell_type": "code",
   "execution_count": null,
   "metadata": {
    "collapsed": true
   },
   "outputs": [],
   "source": [
    "#hai un numero a 32 bit binario ovviamente.\n",
    "#controllare numero sia a 32 bit.\n",
    "#Il primo bit è il segno (if 0 è + altrimenti if 1 è -).\n",
    "#Successivi 8 bit per l'esponenente da convertire da binario in decimale (intero)\n",
    "#successivi bit per la mantissa (calcolarla con formula su teoria mantissa = 1.f = ......)\n",
    "#ritorni segno*mantissa*2**(esponente-127)"
   ]
  },
  {
   "cell_type": "markdown",
   "metadata": {},
   "source": [
    "3\\. Write a program to determine the underflow and overflow limits (within a factor of 2) for python on your computer. \n",
    "\n",
    "**Tips**: define two variables inizialized to 1 and halve/double them enough time to exceed the under/over-flow limits  "
   ]
  },
  {
   "cell_type": "code",
   "execution_count": null,
   "metadata": {},
   "outputs": [
    {
     "name": "stdout",
     "output_type": "stream",
     "text": [
      "5e-324\n"
     ]
    }
   ],
   "source": [
    "under = 1\n",
    "over = 1\n",
    "\n",
    "while(under/2 != 0.0):\n",
    "    under /= 2\n",
    "    \n",
    "print(under)\n",
    "\n",
    "for i in range(1, 400000):\n",
    "    try:\n",
    "        over *= 2\n",
    "    except OverflowError as err:\n",
    "        print ('Overflowed after ', over)\n",
    "        \n",
    "print(over)\n",
    "        "
   ]
  },
  {
   "cell_type": "markdown",
   "metadata": {},
   "source": [
    "4\\. Write a program to determine the machine precision\n",
    "\n",
    "**Tips**: define a new variable by adding a smaller and smaller value (proceeding similarly to prob. 2) to an original variable and check the point where the two are the same "
   ]
  },
  {
   "cell_type": "code",
   "execution_count": 5,
   "metadata": {},
   "outputs": [
    {
     "name": "stdout",
     "output_type": "stream",
     "text": [
      "1.1102230246251565e-16\n"
     ]
    }
   ],
   "source": [
    "e = 1\n",
    "somma = 1\n",
    "while(e+somma != e):\n",
    "    somma /= 2\n",
    "print(somma)"
   ]
  },
  {
   "cell_type": "markdown",
   "metadata": {},
   "source": [
    "5\\. Write a function that takes in input three parameters $a$, $b$ and $c$ and prints out the two solutions to the quadratic equation $ax^2+bx+c=0$ using the standard formula:\n",
    "$$\n",
    "x=\\frac{-b\\pm\\sqrt{b^2-4ac}}{2a}\n",
    "$$\n",
    "\n",
    "(a) use the program to compute the solution for $a=0.001$, $b=1000$ and $c=0.001$\n",
    "\n",
    "(b) re-express the standard solution formula by multiplying top and bottom by $-b\\mp\\sqrt{b^2-4ac}$ and again find the solution for $a=0.001$, $b=1000$ and $c=0.001$. How does it compare with what previously obtained? Why?\n",
    "\n",
    "(c) write a function that compute the roots of a quadratic equation accurately in all cases"
   ]
  },
  {
   "cell_type": "code",
   "execution_count": 25,
   "metadata": {},
   "outputs": [
    {
     "name": "stdout",
     "output_type": "stream",
     "text": [
      "(-9.999894245993346e-07, -999999.999999)\n",
      "(-9.999894245993346e-07, -999999.9999989999)\n"
     ]
    }
   ],
   "source": [
    "from math import sqrt\n",
    "\n",
    "def eq_solver1(a, b, c):\n",
    "    sol1 = ((-b+sqrt(b**2 - 4*a*c))/(2*a))\n",
    "    sol2 = ((-b-sqrt(b**2 - 4*a*c))/(2*a))\n",
    "    return sol1, sol2\n",
    "\n",
    "print(eq_solver1(0.001, 1000, 0.001))\n",
    "\n",
    "def eq_solver2(a, b, c):\n",
    "    sol1 = ((-b+sqrt(b**2 - 4*a*c))/(2*a)*(-b-sqrt(b**2 - 4*a*c)))/(-b-sqrt(b**2 - 4*a*c))\n",
    "    sol2 = ((-b-sqrt(b**2 - 4*a*c))/(2*a)*(-b+sqrt(b**2 - 4*a*c)))/(-b+sqrt(b**2 - 4*a*c))\n",
    "    return sol1, sol2\n",
    "\n",
    "print(eq_solver2(0.001, 1000, 0.001))"
   ]
  },
  {
   "cell_type": "markdown",
   "metadata": {},
   "source": [
    "6\\. Write a program that implements the function $f(x)=x(x−1)$\n",
    "\n",
    "(a) Calculate the derivative of the function at the point $x = 1$ using the derivative definition:\n",
    "\n",
    "$$\n",
    "\\frac{{\\rm d}f}{{\\rm d}x} = \\lim_{\\delta\\to0} \\frac{f(x+\\delta)-f(x)}{\\delta}\n",
    "$$\n",
    "\n",
    "with $\\delta = 10^{−2}$. Calculate the true value of the same derivative analytically and compare with the answer your program gives. The two will not agree perfectly. Why not?\n",
    "\n",
    "(b) Repeat the calculation for $\\delta = 10^{−4}, 10^{−6}, 10^{−8}, 10^{−10}, 10^{−12}$ and $10^{−14}$. How does the accuracy scales with $\\delta$?"
   ]
  },
  {
   "cell_type": "code",
   "execution_count": 28,
   "metadata": {},
   "outputs": [
    {
     "name": "stdout",
     "output_type": "stream",
     "text": [
      "1.010000000000001\n",
      "1.0000999999998899\n",
      "1.0000009999177333\n",
      "1.0000000039225287\n",
      "1.000000082840371\n",
      "1.0000889005833413\n",
      "0.9992007221626509\n"
     ]
    }
   ],
   "source": [
    "def func(x):\n",
    "    return x*(x-1)\n",
    "\n",
    "def der(x, delta):\n",
    "    return (func(x+delta) - func(x)) / delta\n",
    "\n",
    "print(der(1, 10**(-2)))\n",
    "print(der(1, 10**(-4)))\n",
    "print(der(1, 10**(-6)))\n",
    "print(der(1, 10**(-8)))\n",
    "print(der(1, 10**(-10)))\n",
    "print(der(1, 10**(-12)))\n",
    "print(der(1, 10**(-14)))"
   ]
  },
  {
   "cell_type": "markdown",
   "metadata": {},
   "source": [
    "7\\. Consider the integral of the semicircle of radius 1:\n",
    "$$\n",
    "I=\\int_{-1}^{1} \\sqrt(1-x^2) {\\rm d}x\n",
    "$$\n",
    "which it's known to be $I=\\frac{\\pi}{2}=1.57079632679...$.\n",
    "Alternatively we can use the Riemann definition of the integral:\n",
    "$$\n",
    "I=\\lim_{N\\to\\infty} \\sum_{k=1}^{N} h y_k \n",
    "$$\n",
    "\n",
    "with $h=2/N$ the width of each of the $N$ slices the domain is divided into and where\n",
    "$y_k$ is the value of the function at the $k-$th slice.\n",
    "\n",
    "(a) Write a programe to compute the integral with $N=100$. How does the result compares to the true value?\n",
    "\n",
    "(b) How much can $N$ be increased if the computation needs to be run in less than a second? What is the gain in running it for 1 minute? \n"
   ]
  },
  {
   "cell_type": "code",
   "execution_count": 24,
   "metadata": {},
   "outputs": [
    {
     "name": "stdout",
     "output_type": "stream",
     "text": [
      "Wall time: 0 ns\n",
      "1.5691342555492493\n"
     ]
    }
   ],
   "source": [
    "from math import sqrt\n",
    "\n",
    "N = 100\n",
    "h = 2/N\n",
    "y = 0\n",
    "\n",
    "def func(x):\n",
    "    return sqrt(1-x**2)\n",
    "\n",
    "k = -1\n",
    "while(k <= 1):\n",
    "    y += h*func(k)\n",
    "    k += h\n",
    "    \n",
    "print(y)"
   ]
  },
  {
   "cell_type": "code",
   "execution_count": null,
   "metadata": {},
   "outputs": [],
   "source": []
  }
 ],
 "metadata": {
  "kernelspec": {
   "display_name": "Python 3",
   "language": "python",
   "name": "python3"
  }
 },
 "nbformat": 4,
 "nbformat_minor": 2
}
