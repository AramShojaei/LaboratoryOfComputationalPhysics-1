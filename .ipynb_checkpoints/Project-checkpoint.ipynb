{
 "cells": [
  {
   "cell_type": "markdown",
   "metadata": {},
   "source": [
    "# The motion of intermediate-mass black holes\n",
    "\n",
    "### Description\n",
    "\n",
    "Intermediate-mass black holes (IMBHs), i.e. black holes with mass 100 - 10'000 Msun, are expected to form in massive star clusters via several dynamical processes, but they are extremely difficult to detect with current observational facilities (even with gravitational wave detectors). \n",
    "\n",
    "\n",
    "### Assignemnt\n",
    "\n",
    "In this project, the students will analyze the data of N-body simulations of star clusters hosting IMBHs to estimate the distance of the IMBH from the center of mass of the star cluster. The distribution of such distances probes the effect of Brownian motion and/or other dynamical perturbations on IMBHs.\n",
    "\n",
    "### Datasets\n",
    "\n",
    "The relevant data can be found in the directory `/data/IMBH_wobble/` on your VM. \n",
    "\n",
    "Verbatim instructions from Prof. Mapelli:\n",
    "\n",
    "```\n",
    "La cartella bigdata/IMBH_wobble/ riguarda il progetto sugli\n",
    "intermediate mass black holes.\n",
    "Dentro questa cartella si trovano 16 sottocartelle che corrispondono\n",
    "ad altrettante simulazioni.\n",
    "I nomi si interpretano come segue: bh100w08 ha un buco nero 100 volte\n",
    "più massivo della tipica stella, ecc...\n",
    "Ciascuna di queste cartelle contiene degli snapshot (salvataggi della\n",
    "simulazione a tempi evolutivi diversi), chiamati ad es. c_0000.dat,\n",
    "c_0100.dat, ... Ciascun file ha all'inizio due righe commentate con il\n",
    "carattere #, che indicano il significato di ciascuna colonna e l'età\n",
    "dello snapshot.\n",
    "\n",
    "Compito dello studente sarà individuare in ciascuna simulazione il\n",
    "buco nero di massa intermedia, se presente (è la particella più\n",
    "massiva), determinarne le componenti x,y,z della distanza dal centro\n",
    "di massa della simulazione (che pure va calcolato), graficarne\n",
    "l'evoluzione temporale e la distribuzione su tutti i tempi per una\n",
    "data simulazione - per esempio tramite istogramma, misurarne la\n",
    "deviazione standard, skewness e curtosi (all'interno di ciascuna\n",
    "simulazione). Discutere la significatività statistica dei risultati ed\n",
    "eventuali strategie per migliorarla.\n",
    "```\n",
    "\n",
    "the simulations have been produced by means of the [NBODY6](https://www.ast.cam.ac.uk/~sverre/web/pages/nbody.htm) simulation code.\n",
    "\n",
    "### Contacts\n",
    "\n",
    "* Michela Mapelli <michela.mapelli@unipd.it>\n",
    "* Mario Pasquato <mario.pasquato@gmail.com>"
   ]
  },
  {
   "cell_type": "code",
   "execution_count": null,
   "metadata": {},
   "outputs": [],
   "source": []
  }
 ],
 "metadata": {
  "kernelspec": {
   "display_name": "Python 3",
   "language": "python",
   "name": "python3"
  },
  "language_info": {
   "codemirror_mode": {
    "name": "ipython",
    "version": 3
   },
   "file_extension": ".py",
   "mimetype": "text/x-python",
   "name": "python",
   "nbconvert_exporter": "python",
   "pygments_lexer": "ipython3",
   "version": "3.5.4"
  }
 },
 "nbformat": 4,
 "nbformat_minor": 2
}
