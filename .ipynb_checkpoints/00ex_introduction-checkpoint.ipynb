{
 "cells": [
  {
   "cell_type": "markdown",
   "metadata": {},
   "source": [
    "1. The MickeyMouse problem\n",
    "\n",
    "a) Write a program that prints the numbers from 1 to 100. But for multiples of three print Mickey instead of the number and for the multiples of five print Mouse. For numbers which are multiples of both three and five print MickeyMouse\n",
    "\n",
    "b) Put the result in a tuple and substitute Mickey with Donald and Mouse with Duck"
   ]
  },
  {
   "cell_type": "code",
   "execution_count": 1,
   "metadata": {},
   "outputs": [
    {
     "name": "stdout",
     "output_type": "stream",
     "text": [
      "[1, 2, 'Mickey', 4, 'Mouse', 'Mickey', 7, 8, 'Mickey', 'Mouse', 11, 'Mickey', 13, 14, 'MickeyMouse', 16, 17, 'Mickey', 19, 'Mouse', 'Mickey', 22, 23, 'Mickey', 'Mouse', 26, 'Mickey', 28, 29, 'MickeyMouse', 31, 32, 'Mickey', 34, 'Mouse', 'Mickey', 37, 38, 'Mickey', 'Mouse', 41, 'Mickey', 43, 44, 'MickeyMouse', 46, 47, 'Mickey', 49, 'Mouse', 'Mickey', 52, 53, 'Mickey', 'Mouse', 56, 'Mickey', 58, 59, 'MickeyMouse', 61, 62, 'Mickey', 64, 'Mouse', 'Mickey', 67, 68, 'Mickey', 'Mouse', 71, 'Mickey', 73, 74, 'MickeyMouse', 76, 77, 'Mickey', 79, 'Mouse', 'Mickey', 82, 83, 'Mickey', 'Mouse', 86, 'Mickey', 88, 89, 'MickeyMouse', 91, 92, 'Mickey', 94, 'Mouse', 'Mickey', 97, 98, 'Mickey', 'Mouse']\n"
     ]
    }
   ],
   "source": [
    "a=[]\n",
    "for x in range(1,101):\n",
    "    if x % 3 == 0 and x % 5 == 0:\n",
    "        a.append(\"MickeyMouse\")\n",
    "    elif x % 3 == 0:\n",
    "        a.append(\"Mickey\")\n",
    "    elif x % 5 ==0:\n",
    "        a.append(\"Mouse\")\n",
    "    else:\n",
    "        a.append(x)\n",
    "print(a)"
   ]
  },
  {
   "cell_type": "code",
   "execution_count": 2,
   "metadata": {},
   "outputs": [
    {
     "name": "stdout",
     "output_type": "stream",
     "text": [
      "[1, 2, 'Donald', 4, 'Duck', 'Donald', 7, 8, 'Donald', 'Duck', 11, 'Donald', 13, 14, 'DonaldDuck', 16, 17, 'Donald', 19, 'Duck', 'Donald', 22, 23, 'Donald', 'Duck', 26, 'Donald', 28, 29, 'DonaldDuck', 31, 32, 'Donald', 34, 'Duck', 'Donald', 37, 38, 'Donald', 'Duck', 41, 'Donald', 43, 44, 'DonaldDuck', 46, 47, 'Donald', 49, 'Duck', 'Donald', 52, 53, 'Donald', 'Duck', 56, 'Donald', 58, 59, 'DonaldDuck', 61, 62, 'Donald', 64, 'Duck', 'Donald', 67, 68, 'Donald', 'Duck', 71, 'Donald', 73, 74, 'DonaldDuck', 76, 77, 'Donald', 79, 'Duck', 'Donald', 82, 83, 'Donald', 'Duck', 86, 'Donald', 88, 89, 'DonaldDuck', 91, 92, 'Donald', 94, 'Duck', 'Donald', 97, 98, 'Donald', 'Duck']\n"
     ]
    }
   ],
   "source": [
    "b=str(a)\n",
    "b= b.replace('Mickey', 'Donald')\n",
    "b= b.replace('Mouse', 'Duck')\n",
    "print(b)\n",
    "\n"
   ]
  },
  {
   "cell_type": "markdown",
   "metadata": {},
   "source": [
    "2\\. The swap function\n",
    "\n",
    "Write a function that swap the values of two input variables x and y (whatever the type). Try to do that also without a temporary variable"
   ]
  },
  {
   "cell_type": "code",
   "execution_count": 3,
   "metadata": {},
   "outputs": [
    {
     "data": {
      "text/plain": [
       "(5, 3)"
      ]
     },
     "execution_count": 3,
     "metadata": {},
     "output_type": "execute_result"
    }
   ],
   "source": [
    "def swap_1(x,y):\n",
    "    z=x\n",
    "    x=y\n",
    "    y=z\n",
    "    return x,y\n",
    "\n",
    "swap_1(3,5)"
   ]
  },
  {
   "cell_type": "code",
   "execution_count": 4,
   "metadata": {},
   "outputs": [
    {
     "data": {
      "text/plain": [
       "(5, 3)"
      ]
     },
     "execution_count": 4,
     "metadata": {},
     "output_type": "execute_result"
    }
   ],
   "source": [
    "def swap_2(s,t):\n",
    "    s,t = t,s\n",
    "    return s,t\n",
    "\n",
    "swap_2(3,5)   "
   ]
  },
  {
   "cell_type": "markdown",
   "metadata": {},
   "source": [
    "3\\. Computing the distance\n",
    "\n",
    "Write a function that calculates and returns the euclidean distance between two points *u* and *v*, where *u* and *v* are both 2-tuples *(x,y)*. For example, if *u=(3,0)* and *v=(0,4)*, the function should return 5"
   ]
  },
  {
   "cell_type": "code",
   "execution_count": 5,
   "metadata": {},
   "outputs": [
    {
     "data": {
      "text/plain": [
       "5.0"
      ]
     },
     "execution_count": 5,
     "metadata": {},
     "output_type": "execute_result"
    }
   ],
   "source": [
    "import math\n",
    "def ED(u,v):\n",
    "    dist = math.sqrt((u[0]-v[0])**2 + (u[1]-v[1])**2)\n",
    "    return dist\n",
    "ED([3,0],[0,4])"
   ]
  },
  {
   "cell_type": "markdown",
   "metadata": {},
   "source": [
    "4\\. Counting letters\n",
    "\n",
    "Write a program to calculate the number of times each character occurs in a given string *s*. Ignore differneces in capitalization"
   ]
  },
  {
   "cell_type": "code",
   "execution_count": 8,
   "metadata": {},
   "outputs": [],
   "source": [
    "s=\"Write a program that prints the numbers from 1 to 100. \\\n",
    "But for multiples of three print Mickey instead of the number and for the multiples of five print Mouse. \\\n",
    "For numbers which are multiples of both three and five print MickeyMouse\""
   ]
  },
  {
   "cell_type": "code",
   "execution_count": 17,
   "metadata": {},
   "outputs": [
    {
     "name": "stdout",
     "output_type": "stream",
     "text": [
      "{'w': 2, 'r': 17, 'i': 14, 't': 19, 'e': 22, ' ': 41, 'a': 7, 'p': 8, 'o': 13, 'g': 1, 'm': 12, 'h': 9, 'n': 10, 's': 9, 'u': 9, 'b': 5, 'f': 10, '1': 2, '0': 2, '.': 2, 'l': 6, 'c': 3, 'k': 2, 'y': 2, 'd': 3, 'v': 2}\n",
      "[('w', 2), ('r', 17), ('i', 14), ('t', 19), ('e', 22), (' ', 41), ('a', 7), ('p', 8), ('o', 13), ('g', 1), ('m', 12), ('h', 9), ('n', 10), ('s', 9), ('u', 9), ('b', 5), ('f', 10), ('1', 2), ('0', 2), ('.', 2), ('l', 6), ('c', 3), ('k', 2), ('y', 2), ('d', 3), ('v', 2)]\n",
      "<class 'list'>\n",
      "[(' ', 41), ('.', 2), ('0', 2), ('1', 2), ('a', 7), ('b', 5), ('c', 3), ('d', 3), ('e', 22), ('f', 10), ('g', 1), ('h', 9), ('i', 14), ('k', 2), ('l', 6), ('m', 12), ('n', 10), ('o', 13), ('p', 8), ('r', 17), ('s', 9), ('t', 19), ('u', 9), ('v', 2), ('w', 2), ('y', 2)]\n"
     ]
    }
   ],
   "source": [
    "ContaLettere = {}\n",
    "for lettera in s:\n",
    "    lettera=lettera.lower()\n",
    "    ContaLettere[lettera]= ContaLettere.get(lettera,0)+1\n",
    "\n",
    "print(ContaLettere)\n",
    "#ContaLettere è un dizionario non ordinato\n",
    "#con dict.item ottengo una lista\n",
    "lista=list(ContaLettere.items())\n",
    "print(lista)\n",
    "print(type(lista))\n",
    "lista.sort()\n",
    "print(lista)\n",
    "\n",
    "\n"
   ]
  },
  {
   "cell_type": "code",
   "execution_count": 10,
   "metadata": {},
   "outputs": [
    {
     "name": "stdout",
     "output_type": "stream",
     "text": [
      "[1, 17, 14, 19, 22, 41, 7, 41, 8, 17, 13, 1, 17, 7, 8, 41, 19, 9, 7, 19, 41, 8, 17, 14, 10, 19, 9, 41, 19, 9, 22, 41, 10, 9, 8, 4, 22, 17, 9, 41, 9, 17, 13, 8, 41, 2, 41, 19, 13, 41, 2, 2, 2, 2, 41, 1, 9, 19, 41, 9, 13, 17, 41, 8, 9, 6, 19, 14, 8, 6, 22, 9, 41, 13, 9, 41, 19, 9, 17, 22, 22, 41, 8, 17, 14, 10, 19, 41, 4, 14, 3, 2, 22, 2, 41, 14, 10, 9, 19, 22, 7, 3, 41, 13, 9, 41, 19, 9, 22, 41, 10, 9, 8, 4, 22, 17, 41, 7, 10, 3, 41, 9, 13, 17, 41, 19, 9, 22, 41, 8, 9, 6, 19, 14, 8, 6, 22, 9, 41, 13, 9, 41, 9, 14, 2, 22, 41, 8, 17, 14, 10, 19, 41, 4, 13, 9, 9, 22, 2, 41, 1, 13, 17, 41, 10, 9, 8, 4, 22, 17, 9, 41, 1, 9, 14, 3, 9, 41, 7, 17, 22, 41, 8, 9, 6, 19, 14, 8, 6, 22, 9, 41, 13, 9, 41, 4, 13, 19, 9, 41, 19, 9, 17, 22, 22, 41, 7, 10, 3, 41, 9, 14, 2, 22, 41, 8, 17, 14, 10, 19, 41, 4, 14, 3, 2, 22, 2, 4, 13, 9, 9, 22]\n"
     ]
    }
   ],
   "source": [
    "occurances=[]\n",
    "for x in s:\n",
    "    x.lower()\n",
    "    occurances.append(s.count(x))\n",
    "print(occurances)"
   ]
  },
  {
   "cell_type": "markdown",
   "metadata": {},
   "source": [
    "5\\. Isolating the unique\n",
    "\n",
    "Write a function that determines and count the unique numbers in the list *l*"
   ]
  },
  {
   "cell_type": "code",
   "execution_count": 11,
   "metadata": {},
   "outputs": [],
   "source": [
    "l = [36, 45, 58, 3, 74, 96, 64, 45, 31, 10, 24, 19, 33, 86, 99, 18, 63, 70, 85,\n",
    " 85, 63, 47, 56, 42, 70, 84, 88, 55, 20, 54, 8, 56, 51, 79, 81, 57, 37, 91,\n",
    " 1, 84, 84, 36, 66, 9, 89, 50, 42, 91, 50, 95, 90, 98, 39, 16, 82, 31, 92, 41,\n",
    " 45, 30, 66, 70, 34, 85, 94, 5, 3, 36, 72, 91, 84, 34, 87, 75, 53, 51, 20, 89, 51, 20]"
   ]
  },
  {
   "cell_type": "code",
   "execution_count": 18,
   "metadata": {},
   "outputs": [
    {
     "name": "stdout",
     "output_type": "stream",
     "text": [
      "{36: 3, 45: 3, 58: 1, 3: 2, 74: 1, 96: 1, 64: 1, 31: 2, 10: 1, 24: 1, 19: 1, 33: 1, 86: 1, 99: 1, 18: 1, 63: 2, 70: 3, 85: 3, 47: 1, 56: 2, 42: 2, 84: 4, 88: 1, 55: 1, 20: 3, 54: 1, 8: 1, 51: 3, 79: 1, 81: 1, 57: 1, 37: 1, 91: 3, 1: 1, 66: 2, 9: 1, 89: 2, 50: 2, 95: 1, 90: 1, 98: 1, 39: 1, 16: 1, 82: 1, 92: 1, 41: 1, 30: 1, 34: 2, 94: 1, 5: 1, 72: 1, 87: 1, 75: 1, 53: 1}\n",
      "{58: 1, 74: 1, 96: 1, 64: 1, 10: 1, 24: 1, 19: 1, 33: 1, 86: 1, 99: 1, 18: 1, 47: 1, 88: 1, 55: 1, 54: 1, 8: 1, 79: 1, 81: 1, 57: 1, 37: 1, 1: 1, 9: 1, 95: 1, 90: 1, 98: 1, 39: 1, 16: 1, 82: 1, 92: 1, 41: 1, 30: 1, 94: 1, 5: 1, 72: 1, 87: 1, 75: 1, 53: 1}\n",
      "37\n"
     ]
    },
    {
     "data": {
      "text/plain": [
       "({58: 1,\n",
       "  74: 1,\n",
       "  96: 1,\n",
       "  64: 1,\n",
       "  10: 1,\n",
       "  24: 1,\n",
       "  19: 1,\n",
       "  33: 1,\n",
       "  86: 1,\n",
       "  99: 1,\n",
       "  18: 1,\n",
       "  47: 1,\n",
       "  88: 1,\n",
       "  55: 1,\n",
       "  54: 1,\n",
       "  8: 1,\n",
       "  79: 1,\n",
       "  81: 1,\n",
       "  57: 1,\n",
       "  37: 1,\n",
       "  1: 1,\n",
       "  9: 1,\n",
       "  95: 1,\n",
       "  90: 1,\n",
       "  98: 1,\n",
       "  39: 1,\n",
       "  16: 1,\n",
       "  82: 1,\n",
       "  92: 1,\n",
       "  41: 1,\n",
       "  30: 1,\n",
       "  94: 1,\n",
       "  5: 1,\n",
       "  72: 1,\n",
       "  87: 1,\n",
       "  75: 1,\n",
       "  53: 1},\n",
       " 37)"
      ]
     },
     "execution_count": 18,
     "metadata": {},
     "output_type": "execute_result"
    }
   ],
   "source": [
    "def countUnique(lista):\n",
    "    ContaNumeri = {}\n",
    "    for numero in lista:\n",
    "        ContaNumeri[numero]= ContaNumeri.get(numero,0)+1\n",
    "    print(ContaNumeri)\n",
    "###################\n",
    "    unique = {}\n",
    "    for n in ContaNumeri:\n",
    "        if ContaNumeri[n]==1:\n",
    "            unique[n] = 1\n",
    "            #print(n)\n",
    "    print(unique)\n",
    "    print(len(unique))\n",
    "    return unique, len(unique)\n",
    "countUnique(l)\n",
    "\n",
    "#valori=ContaNumeri.values()\n",
    "#print(valori)\n",
    "#unique=valori.count(1)\n"
   ]
  },
  {
   "cell_type": "markdown",
   "metadata": {},
   "source": [
    "6\\. Combination of functions\n",
    "\n",
    "Write two functions - one that returns the square of a number, and one that returns the cube. Now write a third function that returns the number raised to the 6th power using the two previous functions."
   ]
  },
  {
   "cell_type": "code",
   "execution_count": 19,
   "metadata": {},
   "outputs": [
    {
     "data": {
      "text/plain": [
       "64"
      ]
     },
     "execution_count": 19,
     "metadata": {},
     "output_type": "execute_result"
    }
   ],
   "source": [
    "def square(x):\n",
    "    return x**2\n",
    "\n",
    "def cube(x):\n",
    "    return x**3\n",
    "\n",
    "def pw6(x):\n",
    "    return square(cube(x))\n",
    "\n",
    "pw6(2)"
   ]
  },
  {
   "cell_type": "markdown",
   "metadata": {},
   "source": [
    "7\\. Cubes\n",
    "\n",
    "Create a list of the cubes of x for x in *[0, 10]* using:\n",
    "\n",
    "a) a for loop\n",
    "\n",
    "b) a list comprehension"
   ]
  },
  {
   "cell_type": "code",
   "execution_count": 20,
   "metadata": {},
   "outputs": [
    {
     "name": "stdout",
     "output_type": "stream",
     "text": [
      "[0, 1, 8, 27, 64, 125, 216, 343, 512, 729, 1000]\n",
      "[0, 1, 8, 27, 64, 125, 216, 343, 512, 729, 1000]\n"
     ]
    }
   ],
   "source": [
    "cube_list=[]\n",
    "cube_lc=[]\n",
    "for x in range(0,11):\n",
    "    cube_list.append(cube(x))\n",
    "print(cube_list)\n",
    "\n",
    "cube_lc=[cube(x) for x in range(0,11)]\n",
    "print(cube_lc)"
   ]
  },
  {
   "cell_type": "markdown",
   "metadata": {},
   "source": [
    "8\\. Nested list comprehension\n",
    "\n",
    "A Pythagorean triple is an integer solution to the Pythagorean theorem $a^2+b^2=c^2$. The first Pythagorean triple is (3,4,5). Find and put in a tuple all unique Pythagorean triples for the positive integers a, b and c less than 100."
   ]
  },
  {
   "cell_type": "code",
   "execution_count": 21,
   "metadata": {},
   "outputs": [
    {
     "name": "stdout",
     "output_type": "stream",
     "text": [
      "[[3, 4, 5], [6, 8, 10], [5, 12, 13], [9, 12, 15], [8, 15, 17], [12, 16, 20], [15, 20, 25], [7, 24, 25], [10, 24, 26], [20, 21, 29], [18, 24, 30], [16, 30, 34], [21, 28, 35], [12, 35, 37], [15, 36, 39], [24, 32, 40], [9, 40, 41], [27, 36, 45], [30, 40, 50], [14, 48, 50], [24, 45, 51], [20, 48, 52], [28, 45, 53], [33, 44, 55], [40, 42, 58], [36, 48, 60], [11, 60, 61], [39, 52, 65], [33, 56, 65], [25, 60, 65], [16, 63, 65], [32, 60, 68], [42, 56, 70], [48, 55, 73], [24, 70, 74], [45, 60, 75], [21, 72, 75], [30, 72, 78], [48, 64, 80], [18, 80, 82], [51, 68, 85], [40, 75, 85], [36, 77, 85], [13, 84, 85], [60, 63, 87], [39, 80, 89], [54, 72, 90], [35, 84, 91], [57, 76, 95], [65, 72, 97], [60, 80, 100], [28, 96, 100]]\n"
     ]
    }
   ],
   "source": [
    "pit_triple=[[a,b,c] for c in range(101) for b in range(c) for a in range(b) if a**2+b**2 == c**2]\n",
    "print(pit_triple)"
   ]
  },
  {
   "cell_type": "markdown",
   "metadata": {},
   "source": [
    "9\\. Normalization\n",
    "\n",
    "Write a function that takes a tuple of numbers and returns it with the entries normalized to one"
   ]
  },
  {
   "cell_type": "code",
   "execution_count": 22,
   "metadata": {},
   "outputs": [
    {
     "name": "stdout",
     "output_type": "stream",
     "text": [
      "2.8284271247461903\n",
      "[0.70710678 0.70710678]\n",
      "[0.70710678 0.70710678]\n"
     ]
    }
   ],
   "source": [
    "from numpy import linalg as LA\n",
    "a=[2, 2]\n",
    "b=a\n",
    "norma=LA.norm(a)\n",
    "print(norma)\n",
    "a=a/norma\n",
    "print(a)\n",
    "########\n",
    "def normaVettore(vettore):\n",
    "    vettore= vettore/LA.norm(vettore)\n",
    "    return vettore\n",
    "print(normaVettore(b))"
   ]
  },
  {
   "cell_type": "code",
   "execution_count": null,
   "metadata": {},
   "outputs": [],
   "source": []
  }
 ],
 "metadata": {
  "kernelspec": {
   "display_name": "Python 3",
   "language": "python",
   "name": "python3"
  },
  "language_info": {
   "codemirror_mode": {
    "name": "ipython",
    "version": 3
   },
   "file_extension": ".py",
   "mimetype": "text/x-python",
   "name": "python",
   "nbconvert_exporter": "python",
   "pygments_lexer": "ipython3",
   "version": "3.7.0"
  }
 },
 "nbformat": 4,
 "nbformat_minor": 2
}
