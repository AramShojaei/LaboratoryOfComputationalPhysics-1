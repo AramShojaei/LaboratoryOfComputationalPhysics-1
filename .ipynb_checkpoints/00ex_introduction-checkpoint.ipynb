{
 "cells": [
  {
   "cell_type": "markdown",
   "metadata": {},
   "source": [
    "1. The MickeyMouse problem\n",
    "\n",
    "a) Write a program that prints the numbers from 1 to 100. But for multiples of three print Mickey instead of the number and for the multiples of five print Mouse. For numbers which are multiples of both three and five print MickeyMouse\n",
    "\n",
    "b) Put the result in a tuple and substitute Mickey with Donald and Mouse with Duck"
   ]
  },
  {
   "cell_type": "code",
   "execution_count": 2,
   "metadata": {},
   "outputs": [
    {
     "name": "stdout",
     "output_type": "stream",
     "text": [
      "\n",
      " First step: \n",
      " [1, 2, 'Mickey', 4, 'Mouse', 'Mickey', 7, 8, 'Mickey', 'Mouse', 11, 'Mickey', 13, 14, 'MickeyMouse', 16, 17, 'Mickey', 19, 'Mouse', 'Mickey', 22, 23, 'Mickey', 'Mouse', 26, 'Mickey', 28, 29, 'MickeyMouse', 31, 32, 'Mickey', 34, 'Mouse', 'Mickey', 37, 38, 'Mickey', 'Mouse', 41, 'Mickey', 43, 44, 'MickeyMouse', 46, 47, 'Mickey', 49, 'Mouse', 'Mickey', 52, 53, 'Mickey', 'Mouse', 56, 'Mickey', 58, 59, 'MickeyMouse', 61, 62, 'Mickey', 64, 'Mouse', 'Mickey', 67, 68, 'Mickey', 'Mouse', 71, 'Mickey', 73, 74, 'MickeyMouse', 76, 77, 'Mickey', 79, 'Mouse', 'Mickey', 82, 83, 'Mickey', 'Mouse', 86, 'Mickey', 88, 89, 'MickeyMouse', 91, 92, 'Mickey', 94, 'Mouse', 'Mickey', 97, 98, 'Mickey', 'Mouse']\n",
      "\n",
      " Second step: \n",
      " [1, 2, 'Donald', 4, 5, 'Donald', 7, 8, 'Donald', 10, 11, 'Donald', 13, 14, 'MickeyMouse', 16, 17, 'Donald', 19, 20, 'Donald', 22, 23, 'Donald', 25, 26, 'Donald', 28, 29, 'MickeyMouse', 31, 32, 'Donald', 34, 35, 'Donald', 37, 38, 'Donald', 40, 41, 'Donald', 43, 44, 'MickeyMouse', 46, 47, 'Donald', 49, 50, 'Donald', 52, 53, 'Donald', 55, 56, 'Donald', 58, 59, 'MickeyMouse', 61, 62, 'Donald', 64, 65, 'Donald', 67, 68, 'Donald', 70, 71, 'Donald', 73, 74, 'MickeyMouse', 76, 77, 'Donald', 79, 80, 'Donald', 82, 83, 'Donald', 85, 86, 'Donald', 88, 89, 'MickeyMouse', 91, 92, 'Donald', 94, 95, 'Donald', 97, 98, 'Donald', 100]\n"
     ]
    }
   ],
   "source": [
    "arr = list(range(0, 101))\n",
    "for i in range(len(arr)):\n",
    "    if (arr[i]%3==0 and arr[i]%5==0):\n",
    "        arr[i] = \"MickeyMouse\"\n",
    "    elif arr[i]%5==0:\n",
    "        arr[i] = \"Mouse\"\n",
    "    elif arr[i]%3==0:\n",
    "        arr[i] = \"Mickey\"\n",
    "    else:\n",
    "        arr[i] = i\n",
    "print(\"\\n First step: \\n\", arr[1:])\n",
    "\n",
    "for i in range(len(arr)):\n",
    "    if arr[i]==\"MickeyMouse\":\n",
    "        arr[i] = \"MickeyMouse\"\n",
    "    elif arr[i]==\"Mickey\":\n",
    "        arr[i]=\"Donald\"\n",
    "    elif arr[i]==\"Muouse\":\n",
    "        arr[i]==\"Duck\"\n",
    "    else:\n",
    "        arr[i] = i\n",
    "print(\"\\n Second step: \\n\", arr[1:])"
   ]
  },
  {
   "cell_type": "markdown",
   "metadata": {},
   "source": [
    "2\\. The swap function\n",
    "\n",
    "Write a function that swap the values of two input variables x and y (whatever the type). Try to do that also without a temporary variable"
   ]
  },
  {
   "cell_type": "code",
   "execution_count": 3,
   "metadata": {},
   "outputs": [
    {
     "name": "stdout",
     "output_type": "stream",
     "text": [
      "5b 2a\n",
      "5b 2a\n"
     ]
    }
   ],
   "source": [
    "def swap(i,j):\n",
    "    t = j\n",
    "    j = i\n",
    "    i = t\n",
    "    print(i,j)\n",
    "    \n",
    "i,j = \"2a\",\"5b\"\n",
    "swap(i,j)\n",
    "\n",
    "i, j = j, i\n",
    "print(i,j)"
   ]
  },
  {
   "cell_type": "markdown",
   "metadata": {},
   "source": [
    "3\\. Computing the distance\n",
    "\n",
    "Write a function that calculates and returns the euclidean distance between two points *u* and *v*, where *u* and *v* are both 2-tuples *(x,y)*. For example, if *u=(3,0)* and *v=(0,4)*, the function should return 5"
   ]
  },
  {
   "cell_type": "code",
   "execution_count": 4,
   "metadata": {},
   "outputs": [
    {
     "data": {
      "text/plain": [
       "5.0"
      ]
     },
     "execution_count": 4,
     "metadata": {},
     "output_type": "execute_result"
    }
   ],
   "source": [
    "def euclide(u,v):\n",
    "    return(pow((u[0]-v[0])**2+(u[1]-v[1])**2,0.5))\n",
    "euclide((3,0),(0,4))"
   ]
  },
  {
   "cell_type": "markdown",
   "metadata": {},
   "source": [
    "4\\. Counting letters\n",
    "\n",
    "Write a program to calculate the number of times each character occurs in a given string *s*. Ignore differneces in capitalization"
   ]
  },
  {
   "cell_type": "code",
   "execution_count": null,
   "metadata": {},
   "outputs": [],
   "source": [
    "s=\"Write a program that prints the numbers from 1 to 100. \\\n",
    "But for multiples of three print Mickey instead of the number and for the multiples of five print Mouse. \\\n",
    "For numbers which are multiples of both three and five print MickeyMouse\"\n",
    "\n",
    "characters = [x for x in s]\n",
    "list = {}\n",
    "\n",
    "\n",
    "for i in range(0,len(characters)):\n",
    "    char = characters[i]\n",
    "    count = 0\n",
    "    for j in range(0,len(characters)):\n",
    "        if (char.upper() == characters[j]) or (char.lower() == characters[j]):\n",
    "            count+= 1\n",
    "    list[char.upper()] = count\n",
    "print(list)\n",
    "            \n",
    "            "
   ]
  },
  {
   "cell_type": "markdown",
   "metadata": {},
   "source": [
    "5\\. Isolating the unique\n",
    "\n",
    "Write a function that determines and count the unique numbers in the list *l*"
   ]
  },
  {
   "cell_type": "code",
   "execution_count": 6,
   "metadata": {},
   "outputs": [
    {
     "name": "stdout",
     "output_type": "stream",
     "text": [
      "\n",
      " Unique numbers: \n",
      " {58: 1, 74: 1, 96: 1, 64: 1, 10: 1, 24: 1, 19: 1, 33: 1, 86: 1, 99: 1, 18: 1, 47: 1, 88: 1, 55: 1, 54: 1, 8: 1, 79: 1, 81: 1, 57: 1, 37: 1, 1: 1, 9: 1, 95: 1, 90: 1, 98: 1, 39: 1, 16: 1, 82: 1, 92: 1, 41: 1, 30: 1, 94: 1, 5: 1, 72: 1, 87: 1, 75: 1, 53: 1}\n",
      "\n",
      " Numbers of unique numbers: \n",
      " 37\n"
     ]
    }
   ],
   "source": [
    "def unique(l):\n",
    "    result={}\n",
    "    for i in range(0,len(l)):\n",
    "        count=0\n",
    "        n=l[i]\n",
    "        for j in range(0,len(l)):\n",
    "            if n==l[j]:\n",
    "                count=count+1\n",
    "        if count==1:\n",
    "            result[n]=count\n",
    "    return result,len(result)\n",
    "\n",
    "l = [36, 45, 58, 3, 74, 96, 64, 45, 31, 10, 24, 19, 33, 86, 99, 18, 63, 70, 85,\n",
    " 85, 63, 47, 56, 42, 70, 84, 88, 55, 20, 54, 8, 56, 51, 79, 81, 57, 37, 91,\n",
    " 1, 84, 84, 36, 66, 9, 89, 50, 42, 91, 50, 95, 90, 98, 39, 16, 82, 31, 92, 41,\n",
    " 45, 30, 66, 70, 34, 85, 94, 5, 3, 36, 72, 91, 84, 34, 87, 75, 53, 51, 20, 89, 51, 20]\n",
    "\n",
    "def uniqueNumber(x):\n",
    "\n",
    "    result = {}\n",
    "\n",
    "    for i in range(0,len(x)):\n",
    "        count = 0\n",
    "        number = l[i]\n",
    "        for j in range(0,len(x)):\n",
    "            if number == l[j]:\n",
    "                count+=1\n",
    "        if count==1:\n",
    "            result[number] = count\n",
    "    return result,len(result)\n",
    "    \n",
    "result, length = uniqueNumber(l)    \n",
    "print(\"Unique numbers are: \", result)\n",
    "print(\"Dimension of the list is: \",length)\n",
    "        \n",
    "    \n",
    "\n",
    "            "
   ]
  },
  {
   "cell_type": "markdown",
   "metadata": {},
   "source": [
    "6\\. Combination of functions\n",
    "\n",
    "Write two functions - one that returns the square of a number, and one that returns the cube. Now write a third function that returns the number raised to the 6th power using the two previous functions."
   ]
  },
  {
   "cell_type": "code",
   "execution_count": 82,
   "metadata": {},
   "outputs": [
    {
     "name": "stdout",
     "output_type": "stream",
     "text": [
      "\n",
      " Insert a value: 3\n",
      "\n",
      " Its 6th power is: 729.0\n"
     ]
    }
   ],
   "source": [
    "def square(x):\n",
    "    return x**2\n",
    "\n",
    "def cube(x):\n",
    "    return x**3\n",
    "\n",
    "def sixPower(x):\n",
    "    return square(cube(x))\n",
    "\n",
    "a = input(\"insert a value \")\n",
    "x = float(a)\n",
    "print(\"The 6th power is\", sixPower(x))"
   ]
  },
  {
   "cell_type": "markdown",
   "metadata": {},
   "source": [
    "7\\. Cubes\n",
    "\n",
    "Create a list of the cubes of x for x in *[0, 10]* using:\n",
    "\n",
    "a) a for loop\n",
    "\n",
    "b) a list comprehension"
   ]
  },
  {
   "cell_type": "code",
   "execution_count": 87,
   "metadata": {},
   "outputs": [
    {
     "name": "stdout",
     "output_type": "stream",
     "text": [
      "\n",
      " With for loop: [0, 1, 8, 27, 64, 125, 216, 343, 512, 729, 1000]\n",
      "\n",
      " List comprehension: [0, 1, 8, 27, 64, 125, 216, 343, 512, 729, 1000]\n"
     ]
    }
   ],
   "source": [
    "#esercizio parte a\n",
    "\n",
    "cubes = []\n",
    "\n",
    "for i in range(0,11):\n",
    "    cubes.append(i**3)\n",
    "    \n",
    "print(cubes)\n",
    "\n",
    "#esercizio parte b\n",
    "\n",
    "cubes = [x**3 for x in range(0,11)]\n",
    "print(cubes)\n",
    "    "
   ]
  },
  {
   "cell_type": "markdown",
   "metadata": {},
   "source": [
    "8\\. Nested list comprehension\n",
    "\n",
    "A Pythagorean triple is an integer solution to the Pythagorean theorem $a^2+b^2=c^2$. The first Pythagorean triple is (3,4,5). Find and put in a tuple all unique Pythagorean triples for the positive integers a, b and c less than 100."
   ]
  },
  {
   "cell_type": "code",
   "execution_count": 7,
   "metadata": {},
   "outputs": [
    {
     "name": "stdout",
     "output_type": "stream",
     "text": [
      "[(3, 4, 5), (5, 12, 13), (6, 8, 10), (7, 24, 25), (8, 15, 17), (9, 12, 15), (9, 40, 41), (10, 24, 26), (11, 60, 61), (12, 16, 20), (12, 35, 37), (13, 84, 85), (14, 48, 50), (15, 20, 25), (15, 36, 39), (16, 30, 34), (16, 63, 65), (18, 24, 30), (18, 80, 82), (20, 21, 29), (20, 48, 52), (21, 28, 35), (21, 72, 75), (24, 32, 40), (24, 45, 51), (24, 70, 74), (25, 60, 65), (27, 36, 45), (28, 45, 53), (28, 96, 100), (30, 40, 50), (30, 72, 78), (32, 60, 68), (33, 44, 55), (33, 56, 65), (35, 84, 91), (36, 48, 60), (36, 77, 85), (39, 52, 65), (39, 80, 89), (40, 42, 58), (40, 75, 85), (42, 56, 70), (45, 60, 75), (48, 55, 73), (48, 64, 80), (51, 68, 85), (54, 72, 90), (57, 76, 95), (60, 63, 87), (60, 80, 100), (65, 72, 97)]\n"
     ]
    }
   ],
   "source": [
    "triple = [(x,y,z) for x in range(1,100) for y in range(x,100) for z in range(0,101) if z**2 == x**2+y**2] \n",
    "print(triple)"
   ]
  },
  {
   "cell_type": "markdown",
   "metadata": {},
   "source": [
    "9\\. Normalization\n",
    "\n",
    "Write a function that takes a tuple of numbers and returns it with the entries normalized to one"
   ]
  },
  {
   "cell_type": "code",
   "execution_count": 11,
   "metadata": {},
   "outputs": [
    {
     "name": "stdout",
     "output_type": "stream",
     "text": [
      "6.0\n",
      "(0.16666666666666666, 0.16666666666666666, 0.16666666666666666, 0.16666666666666666, 0.16666666666666666, 0.16666666666666666)\n"
     ]
    }
   ],
   "source": [
    "import math\n",
    "\n",
    "def normalization(x):\n",
    "    sumx = math.fsum(x)\n",
    "    return tuple(i/sumx for i in x)\n",
    "\n",
    "a = (1,1,1,1,1,1)\n",
    "print(normalization(a))\n",
    "        "
   ]
  },
  {
   "cell_type": "code",
   "execution_count": null,
   "metadata": {},
   "outputs": [],
   "source": []
  }
 ],
 "metadata": {
  "kernelspec": {
   "display_name": "Python 3",
   "language": "python",
   "name": "python3"
  },
  "language_info": {
   "codemirror_mode": {
    "name": "ipython",
    "version": 3
   },
   "file_extension": ".py",
   "mimetype": "text/x-python",
   "name": "python",
   "nbconvert_exporter": "python",
   "pygments_lexer": "ipython3",
   "version": "3.7.0"
  }
 },
 "nbformat": 4,
 "nbformat_minor": 2
}
