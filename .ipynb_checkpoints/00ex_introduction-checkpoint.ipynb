{
 "cells": [
  {
   "cell_type": "markdown",
   "metadata": {},
   "source": [
    "1. The MickeyMouse problem\n",
    "\n",
    "a) Write a program that prints the numbers from 1 to 100. But for multiples of three print Mickey instead of the number and for the multiples of five print Mouse. For numbers which are multiples of both three and five print MickeyMouse\n",
    "\n",
    "b) Put the result in a tuple and substitute Mickey with Donald and Mouse with Duck"
   ]
  },
  {
   "cell_type": "code",
   "execution_count": 13,
   "metadata": {},
   "outputs": [
    {
     "name": "stdout",
     "output_type": "stream",
     "text": [
      "1\n",
      "2\n",
      "Mickey\n",
      "4\n",
      "Mouse\n",
      "Mickey\n",
      "7\n",
      "8\n",
      "Mickey\n",
      "Mouse\n",
      "11\n",
      "Mickey\n",
      "13\n",
      "14\n",
      "MickeyMouse\n",
      "16\n",
      "17\n",
      "Mickey\n",
      "19\n",
      "Mouse\n",
      "Mickey\n",
      "22\n",
      "23\n",
      "Mickey\n",
      "Mouse\n",
      "26\n",
      "Mickey\n",
      "28\n",
      "29\n",
      "MickeyMouse\n",
      "31\n",
      "32\n",
      "Mickey\n",
      "34\n",
      "Mouse\n",
      "Mickey\n",
      "37\n",
      "38\n",
      "Mickey\n",
      "Mouse\n",
      "41\n",
      "Mickey\n",
      "43\n",
      "44\n",
      "MickeyMouse\n",
      "46\n",
      "47\n",
      "Mickey\n",
      "49\n",
      "Mouse\n",
      "Mickey\n",
      "52\n",
      "53\n",
      "Mickey\n",
      "Mouse\n",
      "56\n",
      "Mickey\n",
      "58\n",
      "59\n",
      "MickeyMouse\n",
      "61\n",
      "62\n",
      "Mickey\n",
      "64\n",
      "Mouse\n",
      "Mickey\n",
      "67\n",
      "68\n",
      "Mickey\n",
      "Mouse\n",
      "71\n",
      "Mickey\n",
      "73\n",
      "74\n",
      "MickeyMouse\n",
      "76\n",
      "77\n",
      "Mickey\n",
      "79\n",
      "Mouse\n",
      "Mickey\n",
      "82\n",
      "83\n",
      "Mickey\n",
      "Mouse\n",
      "86\n",
      "Mickey\n",
      "88\n",
      "89\n",
      "MickeyMouse\n",
      "91\n",
      "92\n",
      "Mickey\n",
      "94\n",
      "Mouse\n",
      "Mickey\n",
      "97\n",
      "98\n",
      "Mickey\n",
      "Mouse\n"
     ]
    },
    {
     "data": {
      "text/plain": [
       "[1,\n",
       " 2,\n",
       " 'Mickey',\n",
       " 4,\n",
       " 'Mouse',\n",
       " 'Mickey',\n",
       " 7,\n",
       " 8,\n",
       " 'Mickey',\n",
       " 'Mouse',\n",
       " 11,\n",
       " 'Mickey',\n",
       " 13,\n",
       " 14,\n",
       " 'MickeyMouse',\n",
       " 16,\n",
       " 17,\n",
       " 'Mickey',\n",
       " 19,\n",
       " 'Mouse',\n",
       " 'Mickey',\n",
       " 22,\n",
       " 23,\n",
       " 'Mickey',\n",
       " 'Mouse',\n",
       " 26,\n",
       " 'Mickey',\n",
       " 28,\n",
       " 29,\n",
       " 'MickeyMouse',\n",
       " 31,\n",
       " 32,\n",
       " 'Mickey',\n",
       " 34,\n",
       " 'Mouse',\n",
       " 'Mickey',\n",
       " 37,\n",
       " 38,\n",
       " 'Mickey',\n",
       " 'Mouse',\n",
       " 41,\n",
       " 'Mickey',\n",
       " 43,\n",
       " 44,\n",
       " 'MickeyMouse',\n",
       " 46,\n",
       " 47,\n",
       " 'Mickey',\n",
       " 49,\n",
       " 'Mouse',\n",
       " 'Mickey',\n",
       " 52,\n",
       " 53,\n",
       " 'Mickey',\n",
       " 'Mouse',\n",
       " 56,\n",
       " 'Mickey',\n",
       " 58,\n",
       " 59,\n",
       " 'MickeyMouse',\n",
       " 61,\n",
       " 62,\n",
       " 'Mickey',\n",
       " 64,\n",
       " 'Mouse',\n",
       " 'Mickey',\n",
       " 67,\n",
       " 68,\n",
       " 'Mickey',\n",
       " 'Mouse',\n",
       " 71,\n",
       " 'Mickey',\n",
       " 73,\n",
       " 74,\n",
       " 'MickeyMouse',\n",
       " 76,\n",
       " 77,\n",
       " 'Mickey',\n",
       " 79,\n",
       " 'Mouse',\n",
       " 'Mickey',\n",
       " 82,\n",
       " 83,\n",
       " 'Mickey',\n",
       " 'Mouse',\n",
       " 86,\n",
       " 'Mickey',\n",
       " 88,\n",
       " 89,\n",
       " 'MickeyMouse',\n",
       " 91,\n",
       " 92,\n",
       " 'Mickey',\n",
       " 94,\n",
       " 'Mouse',\n",
       " 'Mickey',\n",
       " 97,\n",
       " 98,\n",
       " 'Mickey',\n",
       " 'Mouse']"
      ]
     },
     "execution_count": 13,
     "metadata": {},
     "output_type": "execute_result"
    }
   ],
   "source": [
    "tuple = []\n",
    "for i in range(1,101):\n",
    "    if ((i % 3 == 0) and (i % 5 == 0)):\n",
    "        print (\"MickeyMouse\")\n",
    "        tuple.append(\"MickeyMouse\")\n",
    "    else:\n",
    "        if ((i % 3 == 0) and (i % 5 != 0)):\n",
    "            tuple.append(\"Mickey\")\n",
    "            print(\"Mickey\")\n",
    "        else:\n",
    "            if ((i % 3 != 0 ) and (i % 5 ==0)):\n",
    "                tuple.append(\"Mouse\")\n",
    "                print(\"Mouse\")\n",
    "            else:\n",
    "                print(i)\n",
    "                tuple.append(i)\n",
    "tuple"
   ]
  },
  {
   "cell_type": "code",
   "execution_count": 14,
   "metadata": {},
   "outputs": [
    {
     "data": {
      "text/plain": [
       "[1,\n",
       " 2,\n",
       " 'Donald',\n",
       " 4,\n",
       " 'Duck',\n",
       " 'Donald',\n",
       " 7,\n",
       " 8,\n",
       " 'Donald',\n",
       " 'Duck',\n",
       " 11,\n",
       " 'Donald',\n",
       " 13,\n",
       " 14,\n",
       " 'MickeyMouse',\n",
       " 16,\n",
       " 17,\n",
       " 'Donald',\n",
       " 19,\n",
       " 'Duck',\n",
       " 'Donald',\n",
       " 22,\n",
       " 23,\n",
       " 'Donald',\n",
       " 'Duck',\n",
       " 26,\n",
       " 'Donald',\n",
       " 28,\n",
       " 29,\n",
       " 'MickeyMouse',\n",
       " 31,\n",
       " 32,\n",
       " 'Donald',\n",
       " 34,\n",
       " 'Duck',\n",
       " 'Donald',\n",
       " 37,\n",
       " 38,\n",
       " 'Donald',\n",
       " 'Duck',\n",
       " 41,\n",
       " 'Donald',\n",
       " 43,\n",
       " 44,\n",
       " 'MickeyMouse',\n",
       " 46,\n",
       " 47,\n",
       " 'Donald',\n",
       " 49,\n",
       " 'Duck',\n",
       " 'Donald',\n",
       " 52,\n",
       " 53,\n",
       " 'Donald',\n",
       " 'Duck',\n",
       " 56,\n",
       " 'Donald',\n",
       " 58,\n",
       " 59,\n",
       " 'MickeyMouse',\n",
       " 61,\n",
       " 62,\n",
       " 'Donald',\n",
       " 64,\n",
       " 'Duck',\n",
       " 'Donald',\n",
       " 67,\n",
       " 68,\n",
       " 'Donald',\n",
       " 'Duck',\n",
       " 71,\n",
       " 'Donald',\n",
       " 73,\n",
       " 74,\n",
       " 'MickeyMouse',\n",
       " 76,\n",
       " 77,\n",
       " 'Donald',\n",
       " 79,\n",
       " 'Duck',\n",
       " 'Donald',\n",
       " 82,\n",
       " 83,\n",
       " 'Donald',\n",
       " 'Duck',\n",
       " 86,\n",
       " 'Donald',\n",
       " 88,\n",
       " 89,\n",
       " 'MickeyMouse',\n",
       " 91,\n",
       " 92,\n",
       " 'Donald',\n",
       " 94,\n",
       " 'Duck',\n",
       " 'Donald',\n",
       " 97,\n",
       " 98,\n",
       " 'Donald',\n",
       " 'Duck']"
      ]
     },
     "execution_count": 14,
     "metadata": {},
     "output_type": "execute_result"
    }
   ],
   "source": [
    "for i in range (100):\n",
    "    if tuple[i] == \"Mickey\":\n",
    "        tuple.remove(tuple[i])\n",
    "        tuple.insert(i,\"Donald\")\n",
    "    else:\n",
    "        if tuple[i] == \"Mouse\":\n",
    "            tuple.remove(tuple[i])\n",
    "            tuple.insert(i,\"Duck\")\n",
    "tuple            "
   ]
  },
  {
   "cell_type": "markdown",
   "metadata": {},
   "source": [
    "2\\. The swap function\n",
    "\n",
    "Write a function that swap the values of two input variables x and y (whatever the type). Try to do that also without a temporary variable"
   ]
  },
  {
   "cell_type": "code",
   "execution_count": 2,
   "metadata": {},
   "outputs": [],
   "source": [
    "def swap1(a,b):\n",
    "    temp = a\n",
    "    a = b\n",
    "    b = temp\n",
    "    return a,b\n",
    "\n",
    "def swap2(a,b):\n",
    "    return b,a"
   ]
  },
  {
   "cell_type": "code",
   "execution_count": 3,
   "metadata": {},
   "outputs": [
    {
     "data": {
      "text/plain": [
       "(4, 3)"
      ]
     },
     "execution_count": 3,
     "metadata": {},
     "output_type": "execute_result"
    }
   ],
   "source": [
    "swap1(3,4)"
   ]
  },
  {
   "cell_type": "code",
   "execution_count": 4,
   "metadata": {},
   "outputs": [
    {
     "data": {
      "text/plain": [
       "(4, 3)"
      ]
     },
     "execution_count": 4,
     "metadata": {},
     "output_type": "execute_result"
    }
   ],
   "source": [
    "swap2(3,4)"
   ]
  },
  {
   "cell_type": "markdown",
   "metadata": {},
   "source": [
    "3\\. Computing the distance\n",
    "\n",
    "Write a function that calculates and returns the euclidean distance between two points *u* and *v*, where *u* and *v* are both 2-tuples *(x,y)*. For example, if *u=(3,0)* and *v=(0,4)*, the function should return 5"
   ]
  },
  {
   "cell_type": "code",
   "execution_count": 5,
   "metadata": {},
   "outputs": [
    {
     "data": {
      "text/plain": [
       "1.4142135623730951"
      ]
     },
     "execution_count": 5,
     "metadata": {},
     "output_type": "execute_result"
    }
   ],
   "source": [
    "import math\n",
    "def distance(a,b):\n",
    "    distance = math.sqrt((a[0]-b[0])^2+(a[1]-b[1])^2)\n",
    "    return distance\n",
    "\n",
    "distance([1,0],[0,1])"
   ]
  },
  {
   "cell_type": "markdown",
   "metadata": {},
   "source": [
    "4\\. Counting letters\n",
    "\n",
    "Write a program to calculate the number of times each character occurs in a given string *s*. Ignore differneces in capitalization"
   ]
  },
  {
   "cell_type": "code",
   "execution_count": 6,
   "metadata": {},
   "outputs": [
    {
     "name": "stdout",
     "output_type": "stream",
     "text": [
      "The letter  w  is present  2  times\n",
      "The letter  r  is present  17  times\n",
      "The letter  i  is present  14  times\n",
      "The letter  t  is present  19  times\n",
      "The letter  e  is present  22  times\n",
      "The letter     is present  41  times\n",
      "The letter  a  is present  7  times\n",
      "The letter  p  is present  8  times\n",
      "The letter  o  is present  13  times\n",
      "The letter  g  is present  1  times\n",
      "The letter  m  is present  12  times\n",
      "The letter  h  is present  9  times\n",
      "The letter  n  is present  10  times\n",
      "The letter  s  is present  9  times\n",
      "The letter  u  is present  9  times\n",
      "The letter  b  is present  5  times\n",
      "The letter  f  is present  10  times\n",
      "The letter  1  is present  2  times\n",
      "The letter  0  is present  2  times\n",
      "The letter  .  is present  2  times\n",
      "The letter  l  is present  6  times\n",
      "The letter  c  is present  3  times\n",
      "The letter  k  is present  2  times\n",
      "The letter  y  is present  2  times\n",
      "The letter  d  is present  3  times\n"
     ]
    }
   ],
   "source": [
    "import numpy\n",
    "s=\"Write a program that prints the numbers from 1 to 100. \\\n",
    "But for multiples of three print Mickey instead of the number and for the multiples of five print Mouse. \\\n",
    "For numbers which are multiples of both three and five print MickeyMouse\"\n",
    "\n",
    "s = s.lower()\n",
    "unique = []\n",
    "times = []\n",
    "z = 0\n",
    "for i in range(len(s)):\n",
    "    if not(s[i] in unique):\n",
    "        unique.append(s[i])\n",
    "        times.append(1)\n",
    "        z = z+1\n",
    "    else:\n",
    "        where = unique.index(s[i])\n",
    "        times[where] = times[where]+1\n",
    "for i in range(z-1) :    \n",
    "    print(\"The letter \",unique[i],\" is present \",times[i],\" times\")\n"
   ]
  },
  {
   "cell_type": "markdown",
   "metadata": {},
   "source": [
    "5\\. Isolating the unique\n",
    "\n",
    "Write a function that determines and count the unique numbers in the list *l*"
   ]
  },
  {
   "cell_type": "code",
   "execution_count": 7,
   "metadata": {},
   "outputs": [
    {
     "name": "stdout",
     "output_type": "stream",
     "text": [
      "The unique numbers in the list are  54\n",
      "The number  36  is present  3  times\n",
      "The number  45  is present  3  times\n",
      "The number  58  is present  1  times\n",
      "The number  3  is present  2  times\n",
      "The number  74  is present  1  times\n",
      "The number  96  is present  1  times\n",
      "The number  64  is present  1  times\n",
      "The number  31  is present  2  times\n",
      "The number  10  is present  1  times\n",
      "The number  24  is present  1  times\n",
      "The number  19  is present  1  times\n",
      "The number  33  is present  1  times\n",
      "The number  86  is present  1  times\n",
      "The number  99  is present  1  times\n",
      "The number  18  is present  1  times\n",
      "The number  63  is present  2  times\n",
      "The number  70  is present  3  times\n",
      "The number  85  is present  3  times\n",
      "The number  47  is present  1  times\n",
      "The number  56  is present  2  times\n",
      "The number  42  is present  2  times\n",
      "The number  84  is present  4  times\n",
      "The number  88  is present  1  times\n",
      "The number  55  is present  1  times\n",
      "The number  20  is present  3  times\n",
      "The number  54  is present  1  times\n",
      "The number  8  is present  1  times\n",
      "The number  51  is present  3  times\n",
      "The number  79  is present  1  times\n",
      "The number  81  is present  1  times\n",
      "The number  57  is present  1  times\n",
      "The number  37  is present  1  times\n",
      "The number  91  is present  3  times\n",
      "The number  1  is present  1  times\n",
      "The number  66  is present  2  times\n",
      "The number  9  is present  1  times\n",
      "The number  89  is present  2  times\n",
      "The number  50  is present  2  times\n",
      "The number  95  is present  1  times\n",
      "The number  90  is present  1  times\n",
      "The number  98  is present  1  times\n",
      "The number  39  is present  1  times\n",
      "The number  16  is present  1  times\n",
      "The number  82  is present  1  times\n",
      "The number  92  is present  1  times\n",
      "The number  41  is present  1  times\n",
      "The number  30  is present  1  times\n",
      "The number  34  is present  2  times\n",
      "The number  94  is present  1  times\n",
      "The number  5  is present  1  times\n",
      "The number  72  is present  1  times\n",
      "The number  87  is present  1  times\n",
      "The number  75  is present  1  times\n"
     ]
    }
   ],
   "source": [
    "import numpy    \n",
    "l = [36, 45, 58, 3, 74, 96, 64, 45, 31, 10, 24, 19, 33, 86, 99, 18, 63, 70, 85,\n",
    " 85, 63, 47, 56, 42, 70, 84, 88, 55, 20, 54, 8, 56, 51, 79, 81, 57, 37, 91,\n",
    " 1, 84, 84, 36, 66, 9, 89, 50, 42, 91, 50, 95, 90, 98, 39, 16, 82, 31, 92, 41,\n",
    " 45, 30, 66, 70, 34, 85, 94, 5, 3, 36, 72, 91, 84, 34, 87, 75, 53, 51, 20, 89, 51, 20]\n",
    "unique = []\n",
    "times = []\n",
    "z = 0\n",
    "for i in range(len(l)):\n",
    "    if not(l[i] in unique):\n",
    "        unique.append(l[i])\n",
    "        times.append(1)\n",
    "        z = z+1\n",
    "    else:\n",
    "        where = unique.index(l[i])\n",
    "        times[where] = times[where]+1\n",
    "print (\"The unique numbers in the list are \",z)\n",
    "for i in range(z-1) :    \n",
    "    print(\"The number \",unique[i],\" is present \",times[i],\" times\")"
   ]
  },
  {
   "cell_type": "markdown",
   "metadata": {},
   "source": [
    "6\\. Combination of functions\n",
    "\n",
    "Write two functions - one that returns the square of a number, and one that returns the cube. Now write a third function that returns the number raised to the 6th power using the two previous functions."
   ]
  },
  {
   "cell_type": "code",
   "execution_count": 8,
   "metadata": {},
   "outputs": [
    {
     "data": {
      "text/plain": [
       "64"
      ]
     },
     "execution_count": 8,
     "metadata": {},
     "output_type": "execute_result"
    }
   ],
   "source": [
    "def square(a):\n",
    "    return a**2\n",
    "\n",
    "def third_power(a):\n",
    "    return a**3\n",
    "\n",
    "def sixth_power(a):\n",
    "    return square(third_power(a))\n",
    "sixth_power(2)"
   ]
  },
  {
   "cell_type": "markdown",
   "metadata": {},
   "source": [
    "7\\. Cubes\n",
    "\n",
    "Create a list of the cubes of x for x in *[0, 10]* using:\n",
    "\n",
    "a) a for loop\n",
    "\n",
    "b) a list comprehension"
   ]
  },
  {
   "cell_type": "code",
   "execution_count": 9,
   "metadata": {},
   "outputs": [
    {
     "name": "stdout",
     "output_type": "stream",
     "text": [
      "[0, 1, 8, 27, 64, 125, 216, 343, 512, 729, 1000]\n",
      "[0, 1, 8, 27, 64, 125, 216, 343, 512, 729, 1000]\n"
     ]
    }
   ],
   "source": [
    "cubes1=[]\n",
    "for i in range(11):\n",
    "    cubes1.append(third_power(i))\n",
    "print (cubes1)    \n",
    "\n",
    "cubes2 = [third_power(x) for x in range(11)]\n",
    "print (cubes2)"
   ]
  },
  {
   "cell_type": "markdown",
   "metadata": {},
   "source": [
    "8\\. Nested list comprehension\n",
    "\n",
    "A Pythagorean triple is an integer solution to the Pythagorean theorem $a^2+b^2=c^2$. The first Pythagorean triple is (3,4,5). Find and put in a tuple all unique Pythagorean triples for the positive integers a, b and c less than 100."
   ]
  },
  {
   "cell_type": "code",
   "execution_count": 29,
   "metadata": {},
   "outputs": [
    {
     "data": {
      "text/plain": [
       "[[3, 4, 5],\n",
       " [5, 12, 13],\n",
       " [6, 8, 10],\n",
       " [7, 24, 25],\n",
       " [8, 15, 17],\n",
       " [9, 12, 15],\n",
       " [9, 40, 41],\n",
       " [10, 24, 26],\n",
       " [11, 60, 61],\n",
       " [12, 16, 20],\n",
       " [12, 35, 37],\n",
       " [13, 84, 85],\n",
       " [14, 48, 50],\n",
       " [15, 20, 25],\n",
       " [15, 36, 39],\n",
       " [16, 30, 34],\n",
       " [16, 63, 65],\n",
       " [18, 24, 30],\n",
       " [18, 80, 82],\n",
       " [20, 21, 29],\n",
       " [20, 48, 52],\n",
       " [21, 28, 35],\n",
       " [21, 72, 75],\n",
       " [24, 32, 40],\n",
       " [24, 45, 51],\n",
       " [24, 70, 74],\n",
       " [25, 60, 65],\n",
       " [27, 36, 45],\n",
       " [28, 45, 53],\n",
       " [30, 40, 50],\n",
       " [30, 72, 78],\n",
       " [32, 60, 68],\n",
       " [33, 44, 55],\n",
       " [33, 56, 65],\n",
       " [35, 84, 91],\n",
       " [36, 48, 60],\n",
       " [36, 77, 85],\n",
       " [39, 52, 65],\n",
       " [39, 80, 89],\n",
       " [40, 42, 58],\n",
       " [40, 75, 85],\n",
       " [42, 56, 70],\n",
       " [45, 60, 75],\n",
       " [48, 55, 73],\n",
       " [48, 64, 80],\n",
       " [51, 68, 85],\n",
       " [54, 72, 90],\n",
       " [57, 76, 95],\n",
       " [60, 63, 87],\n",
       " [65, 72, 97]]"
      ]
     },
     "execution_count": 29,
     "metadata": {},
     "output_type": "execute_result"
    }
   ],
   "source": [
    "triplet = []\n",
    "a = 1\n",
    "b = 1\n",
    "c = 1\n",
    "for a in range(100):\n",
    "    for b in range(100):\n",
    "        for c in range(100):\n",
    "            if ((c**2)==(a**2)+(b**2)) and (a>0) and (b>0) and (c>0) and (c>a) and (c>b) and (b>a):\n",
    "                #the last condition, b>a, is used if we want that b>a. Otherwise, it can also be\n",
    "                #removed and we have also triplets like 4,3,5 instead of onyl 3,4,5 for example\n",
    "                triplet.append([a,b,c])\n",
    "triplet"
   ]
  },
  {
   "cell_type": "markdown",
   "metadata": {},
   "source": [
    "9\\. Normalization\n",
    "\n",
    "Write a function that takes a tuple of numbers and returns it with the entries normalized to one"
   ]
  },
  {
   "cell_type": "code",
   "execution_count": 15,
   "metadata": {},
   "outputs": [
    {
     "name": "stdout",
     "output_type": "stream",
     "text": [
      "25\n",
      "34\n",
      "38\n"
     ]
    },
    {
     "data": {
      "text/plain": [
       "array([0.81110711, 0.48666426, 0.32444284])"
      ]
     },
     "execution_count": 15,
     "metadata": {},
     "output_type": "execute_result"
    }
   ],
   "source": [
    "import math\n",
    "import numpy as np\n",
    "def normalization(a):\n",
    "    s = 0\n",
    "    for i in a:\n",
    "        s = s + i**2\n",
    "        print (s)\n",
    "    return (a/math.sqrt((s)))\n",
    "\n",
    "normalization(np.array([5,3,2]))"
   ]
  },
  {
   "cell_type": "code",
   "execution_count": null,
   "metadata": {},
   "outputs": [],
   "source": []
  }
 ],
 "metadata": {
  "kernelspec": {
   "display_name": "Python 3",
   "language": "python",
   "name": "python3"
  },
  "language_info": {
   "codemirror_mode": {
    "name": "ipython",
    "version": 3
   },
   "file_extension": ".py",
   "mimetype": "text/x-python",
   "name": "python",
   "nbconvert_exporter": "python",
   "pygments_lexer": "ipython3",
   "version": "3.6.6"
  }
 },
 "nbformat": 4,
 "nbformat_minor": 2
}
