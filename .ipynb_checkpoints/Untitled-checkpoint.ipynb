{
 "cells": [
  {
   "cell_type": "code",
   "execution_count": null,
   "metadata": {},
   "outputs": [],
   "source": [
    "import numpy as np # N-dimensional array / broadcasting / random numbers\n",
    "import matplotlib.pyplot as plt # graphs\n",
    "% matplotlib inline # display graphs in the notebook\n",
    "import scipy as sp\n",
    "from scipy import stats\n",
    "from scipy import linalg as la # linear algebra\n",
    "import pandas as pd # DataFrame and label-based slicing\n",
    "import seaborn as sns\n",
    "\n",
    "import math as m\n",
    "from functools import reduce\n",
    "from IPython.display import Image # to display images\n",
    "import sys # system information such as maximum number storable in a certain data type\n",
    "import urllib.request # use data from the web without downloading\n",
    "import csv # read from csv files\n",
    "import json # json are like nested dictionaries\n",
    "import struct, time # used for FPGAs data\n",
    "import os\n",
    "import gzip\n",
    "from string import ascii_lowercase as letters\n",
    "import datetime as dt # used to define a date\n",
    "from bokeh.plotting import figure, output_file, show # plots accessible from remote, published on web servers\n",
    "from matplotlib.ticker import AutoMinorLocator, MultipleLocator, FuncFormatter # advanced graph visualization\n",
    "from matplotlib.patches import Circle # advanced graph visualization\n",
    "from matplotlib.patheffects import withStroke # advanced graph visualization\n",
    "from io import BytesIO\n",
    "import tarfile\n",
    "\n",
    "# MACHINE LEARNING\n",
    "import sklearn as sl\n",
    "from sklearn import linear_model\n",
    "from sklearn import datasets\n",
    "import sklearn.metrics as skm\n",
    "from sklearn.svm import SVC\n",
    "from sklearn.model_selection import GridSearchCV\n",
    "from mpl_toolkits.mplot3d import Axes3D # advanced 3d plots\n",
    "from sklearn import preprocessing # scaling the data\n",
    "from sklearn.preprocessing import LabelEncoder, OneHotEncoder # splitting categorical data\n",
    "from sklearn.model_selection import train_test_split # train-test splitting"
   ]
  }
 ],
 "metadata": {
  "kernelspec": {
   "display_name": "Python 3",
   "language": "python",
   "name": "python3"
  },
  "language_info": {
   "codemirror_mode": {
    "name": "ipython",
    "version": 3
   },
   "file_extension": ".py",
   "mimetype": "text/x-python",
   "name": "python",
   "nbconvert_exporter": "python",
   "pygments_lexer": "ipython3",
   "version": "3.7.0"
  }
 },
 "nbformat": 4,
 "nbformat_minor": 2
}
