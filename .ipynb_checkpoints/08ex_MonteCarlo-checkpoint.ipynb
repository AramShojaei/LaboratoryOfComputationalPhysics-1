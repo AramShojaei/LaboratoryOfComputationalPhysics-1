{
 "cells": [
  {
   "cell_type": "markdown",
   "metadata": {},
   "source": [
    "1\\. **Radioactive decay chain**\n",
    "\n",
    "${\\rm Tl}^{208}$ decays to ${\\rm Pb}^{208}$ with a half-lieve of 3.052 minutes. Suppose to start with a sample of 1000 Thallium atoms and 0 of Lead atoms.\n",
    "\n",
    "* Take steps in time of 1 second and at each time-step decide whether each Tl atom has decayed or not, accordingly to the probability $p(t)=1-2^{-t/\\tau}$. Subtract the total number of Tl atoms that decayed at each step from the Tl sample and add them to the Lead one. Plot the evolution of the two sets as a function of time  \n",
    "* Repeat the exercise by means of the inverse transform method: draw 1000 random numbers from the non-uniform probability distribution $p(t)=2^{-t/\\tau}\\frac{\\ln 2}{\\tau}$ to represent the times of decay of the 1000 Tl atoms. Make a plot showing the number of atoms that have not decayed as a function of time"
   ]
  },
  {
   "cell_type": "code",
   "execution_count": 1,
   "metadata": {},
   "outputs": [],
   "source": [
    "import numpy as np\n",
    "import matplotlib.pyplot as plt\n",
    "from statsmodels.distributions.empirical_distribution import ECDF\n",
    "from scipy.interpolate import interp1d"
   ]
  },
  {
   "cell_type": "code",
   "execution_count": 2,
   "metadata": {},
   "outputs": [
    {
     "name": "stdout",
     "output_type": "stream",
     "text": [
      "\n",
      " Total sec of decay: 183\n"
     ]
    },
    {
     "data": {
      "image/png": "[encoded data removed]",
      "text/plain": [
       "<Figure size 432x288 with 1 Axes>"
      ]
     },
     "metadata": {
      "needs_background": "light"
     },
     "output_type": "display_data"
    }
   ],
   "source": [
    "thal = []\n",
    "lead = []\n",
    "\n",
    "thal_n = 1000\n",
    "lead_n = 0\n",
    "\n",
    "tau_sec = int(3.052*60)\n",
    "time = 1000\n",
    "\n",
    "print(\"\\n Total sec of decay:\",tau_sec)\n",
    "\n",
    "prob = 1-2**(-1/tau_sec)\n",
    "\n",
    "for i in range(time):\n",
    "    thal.append(thal_n)\n",
    "    lead.append(lead_n)\n",
    "    th = np.random.uniform(0,1,size=thal_n)\n",
    "    n_decay = [x for x in th if x<prob]\n",
    "    thal_n = thal_n - len(n_decay)\n",
    "    lead_n = lead_n + len(n_decay)\n",
    "    \n",
    "lin = np.linspace(0,time,time)\n",
    "\n",
    "labels = [\"Tallium decay\",\"Lead evolution\"]\n",
    "plt.plot(lin,thal)\n",
    "plt.plot(lin,lead)\n",
    "plt.legend(labels)\n",
    "plt.xlabel(\"Seconds\")\n",
    "plt.ylabel(\"Decay\")\n",
    "plt.show()"
   ]
  },
  {
   "cell_type": "markdown",
   "metadata": {},
   "source": [
    "2\\. **Rutherford Scattering**\n",
    "\n",
    "The scattering angle $\\theta$ of $\\alpha$ particles hitting a positively charged nucleus of a Gold atom ($Z=79$) follows the rule:\n",
    "\n",
    "$$\n",
    "\\tan{\\frac{1}{2} \\theta} = \\frac{Z e^2} {2\\pi \\epsilon_0 E b}\n",
    "$$\n",
    "\n",
    "where $E=7.7$ MeV and $b$ beam is the impact parameter. The beam is represented by a 2D gaussian distribution with $\\sigma=a_0/100$ for both coordinates ($a_0$ being the Bohr radius). Assume 1 million $\\alpha$ particles are shot on the gold atom.\n",
    "\n",
    "Computing the fraction of particles that \"bounce back\",i.e. those particle whose scattering angle is greater than $\\pi/2$ (which set a condition on the impact parameter $b$)"
   ]
  },
  {
   "cell_type": "code",
   "execution_count": 11,
   "metadata": {},
   "outputs": [
    {
     "data": {
      "text/plain": [
       "1.2e-05"
      ]
     },
     "execution_count": 11,
     "metadata": {},
     "output_type": "execute_result"
    }
   ],
   "source": [
    "# Exercise done with the help of the Computational Physics students\n",
    "\n",
    "N = 1000000\n",
    "a_0 = 0.529*10**(-9)\n",
    "g = np.random.random(N)\n",
    "# The Box-Muller method\n",
    "b = np.sqrt(-2*(a_0/100)**(2)*np.log(1-g)) \n",
    "Z=79\n",
    "e=1.609*10**(-19)\n",
    "eps0=8.89*10**(-12)\n",
    "E=7.7*1.609*10**(-13)\n",
    "const=Z*e**2/(2*np.pi*eps0*E)\n",
    "theta=2*np.arctan(const/b)\n",
    "\n",
    "len(theta[theta>np.pi/2])/N "
   ]
  },
  {
   "cell_type": "markdown",
   "metadata": {},
   "source": [
    "3\\. **Monte Carlo integration: hit/miss vs mean value method**\n",
    "\n",
    "Consider the function \n",
    "\n",
    "$$f(x) =\\sin^2{\\frac{1}{x(2-x)}}$$\n",
    "\n",
    "* Compute the integral of $f(x)$ between 0 and 2 with the hit/miss method. Evaluate the error of your estimate\n",
    "* Repeat the integral with the mean value method. Evaluate the error and compare it with the previous one"
   ]
  },
  {
   "cell_type": "code",
   "execution_count": 5,
   "metadata": {},
   "outputs": [
    {
     "name": "stdout",
     "output_type": "stream",
     "text": [
      "Hit/miss method:  1.436\n",
      "Error:  0.015\n"
     ]
    }
   ],
   "source": [
    "# Compute the integral of  f(x)  between 0 and 2 with the hit/miss method. Evaluate the error of your estimate\n",
    "\n",
    "def f(x):\n",
    "    return (np.sin(1/(x*(2-x))))**2\n",
    "\n",
    "# Now we compute the integral using the Monte Carlo method\n",
    "count=0\n",
    "random_points =1000\n",
    "\n",
    "for i in range(random_points):\n",
    "\n",
    "    x=2*np.random.random() \n",
    "    # Since we want that x goes from 0 to 2\n",
    "    y=np.random.random()\n",
    "    if y<f(x): \n",
    "        count+=1\n",
    "\n",
    "box_area = 2*1\n",
    "\n",
    "result = (box_area*count)/random_points\n",
    "\n",
    "true_value =1.451\n",
    "\n",
    "print('Hit/miss method: ', np.round(result,6))\n",
    "print('Error: ', np.abs(np.round((result-true_value),6)))"
   ]
  },
  {
   "cell_type": "code",
   "execution_count": 6,
   "metadata": {},
   "outputs": [
    {
     "name": "stdout",
     "output_type": "stream",
     "text": [
      "Hit/miss method:  1.4483\n",
      "Error:  0.0027\n"
     ]
    }
   ],
   "source": [
    "# Now the same but we more random points\n",
    "\n",
    "def f(x):\n",
    "    return (np.sin(1/(x*(2-x))))**2\n",
    "\n",
    "# Now we compute the integral using the Monte Carlo method\n",
    "count=0\n",
    "random_points =100000\n",
    "\n",
    "for i in range(random_points):\n",
    "\n",
    "    x=2*np.random.random() \n",
    "    # Since we want that x goes from 0 to 2\n",
    "    y=np.random.random()\n",
    "    if y<f(x): \n",
    "        count+=1\n",
    "\n",
    "box_area = 2*1\n",
    "\n",
    "result = (box_area*count)/random_points\n",
    "\n",
    "true_value =1.451\n",
    "\n",
    "print('Hit/miss method: ', np.round(result,6))\n",
    "print('Error: ', np.abs(np.round((result-true_value),6)))"
   ]
  },
  {
   "cell_type": "code",
   "execution_count": 7,
   "metadata": {},
   "outputs": [
    {
     "name": "stdout",
     "output_type": "stream",
     "text": [
      "Result with mean value method:  1.449056\n",
      "Error:  0.001944\n"
     ]
    }
   ],
   "source": [
    "# Repeat the integral with the mean value method. Evaluate the error and compare it with the previous one\n",
    "def f(x):\n",
    "    return (np.sin(1/(x*(2-x))))**2\n",
    "\n",
    "random_points =100000\n",
    "\n",
    "x=2*np.random.random(random_points)\n",
    "\n",
    "result = 2/random_points*np.sum(f(x))\n",
    "print('Result with mean value method: ', np.round(result,6))\n",
    "print('Error: ', np.abs(np.round((result-true_value),6)))"
   ]
  },
  {
   "cell_type": "markdown",
   "metadata": {},
   "source": [
    "4\\. **Monte Carlo integration in high dimension**\n",
    "\n",
    "* Start of by computing the area of a circle of unit radius, by integrating the function \n",
    "\n",
    "$$\n",
    "f(x,y)=\n",
    "\\left\\{\n",
    "\\begin{array}{ll}\n",
    "      1 & x^2+y^2\\le 1 \\\\\n",
    "      0 & {\\rm elsewhere}\n",
    "\\end{array} \n",
    "\\right.\n",
    "$$\n",
    "\n",
    "* Generalize the result for a 10D sphere\n",
    "\n"
   ]
  },
  {
   "cell_type": "code",
   "execution_count": 8,
   "metadata": {},
   "outputs": [
    {
     "name": "stdout",
     "output_type": "stream",
     "text": [
      "Result with hit/miss method:  3.13864\n",
      "The error with the hit/miss method is:  0.002953\n"
     ]
    }
   ],
   "source": [
    "true_area = np.pi \n",
    "\n",
    "random_points = 100000\n",
    "\n",
    "iterat = 0\n",
    "\n",
    "for i in range(random_points): \n",
    "    x_coord = 2*np.random.random()-1 # multiply by 2 for having points from -1 to 1\n",
    "    y_coord = 2*np.random.random()-1 \n",
    "    \n",
    "    if (x_coord)**2 + (y_coord)**2 <= 1:\n",
    "        iterat+=1\n",
    "\n",
    "area = 2*2 # The area of the window \n",
    "\n",
    "result = area*iterat/random_points\n",
    "print('Result with hit/miss method: ',np.round(result,6))\n",
    "print('The error with the hit/miss method is: ',np.abs(np.round(result-true_area,6)))"
   ]
  },
  {
   "cell_type": "markdown",
   "metadata": {},
   "source": [
    "5\\. **Monte Carlo integration with importance sampling** \n",
    "\n",
    "Calculate the value of the integral:\n",
    "\n",
    "$$\n",
    "I=\\int_0^1 \\frac{x^{-1/2}}{e^x+1} dx\n",
    "$$\n",
    "\n",
    "using the importance sampling method with $w(x)=1/\\sqrt{x}$. You should get a result about 0.84"
   ]
  },
  {
   "cell_type": "code",
   "execution_count": 9,
   "metadata": {},
   "outputs": [
    {
     "name": "stdout",
     "output_type": "stream",
     "text": [
      "Result:  0.759888\n",
      "Error:  0.079012\n"
     ]
    }
   ],
   "source": [
    "random_points = 1000000\n",
    "\n",
    "def func(x):\n",
    "    return x**(-1/2)/(np.exp(x)+1)\n",
    "\n",
    "def w(x):\n",
    "    return x**(-1/2)\n",
    "\n",
    "true_value = 0.8389\n",
    "\n",
    "x=np.random.random(random_points)\n",
    "\n",
    "value = 2 \n",
    "result=1/random_points*np.sum(func(x)/w(x))*value\n",
    "\n",
    "print('Result: ', np.round(result,6)) \n",
    "print('Error: ', np.abs(np.round(result-true_value,6)))\n"
   ]
  },
  {
   "cell_type": "code",
   "execution_count": null,
   "metadata": {},
   "outputs": [],
   "source": []
  }
 ],
 "metadata": {
  "kernelspec": {
   "display_name": "Python 3",
   "language": "python",
   "name": "python3"
  },
  "language_info": {
   "codemirror_mode": {
    "name": "ipython",
    "version": 3
   },
   "file_extension": ".py",
   "mimetype": "text/x-python",
   "name": "python",
   "nbconvert_exporter": "python",
   "pygments_lexer": "ipython3",
   "version": "3.7.0"
  }
 },
 "nbformat": 4,
 "nbformat_minor": 2
}
