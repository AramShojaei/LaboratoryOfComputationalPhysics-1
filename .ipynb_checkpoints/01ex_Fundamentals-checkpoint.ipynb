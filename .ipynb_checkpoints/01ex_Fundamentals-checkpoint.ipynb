{
 "cells": [
  {
   "cell_type": "markdown",
   "metadata": {},
   "source": [
    "1\\. Write the following as a list comprehension"
   ]
  },
  {
   "cell_type": "code",
<<<<<<< HEAD
<<<<<<< HEAD
   "execution_count": 1,
=======
   "execution_count": 6,
>>>>>>> upstream/master
=======
   "execution_count": 4,
>>>>>>> 1ddd86f32a5dd9ef412f47fe38db8e00a88cd264
   "metadata": {},
   "outputs": [
    {
     "name": "stdout",
     "output_type": "stream",
     "text": [
      "[(0, 0), (0, 1), (0, 2), (0, 3), (1, 0), (1, 1), (1, 2), (1, 3), (2, 0), (2, 1), (2, 2), (2, 3)]\n",
      "[0, 4, 16]\n"
     ]
    }
   ],
   "source": [
    "# 1\n",
    "ans = []\n",
    "for i in range(3):\n",
    "    for j in range(4):\n",
    "        ans.append((i, j))\n",
    "print (ans)\n",
    "\n",
    "# 2\n",
    "ans = map(lambda x: x*x, filter(lambda x: x%2 == 0, range(5)))\n",
    "print (list(ans))\n",
    "\n"
   ]
  },
  {
<<<<<<< HEAD
   "cell_type": "code",
<<<<<<< HEAD
   "execution_count": 12,
=======
   "execution_count": 7,
   "metadata": {},
   "outputs": [
    {
     "name": "stdout",
     "output_type": "stream",
     "text": [
      "[(0, 0), (0, 1), (0, 2), (0, 3), (1, 0), (1, 1), (1, 2), (1, 3), (2, 0), (2, 1), (2, 2), (2, 3)]\n"
     ]
    }
   ],
   "source": [
    "#1.1\n",
    "ans=[]\n",
    "ans=[(i,j) for i in range(3) for j in range(4)]\n",
    "\n",
    "print(ans)\n"
   ]
  },
  {
   "cell_type": "code",
   "execution_count": 8,
>>>>>>> upstream/master
   "metadata": {},
   "outputs": [
    {
     "name": "stdout",
     "output_type": "stream",
     "text": [
<<<<<<< HEAD
      "[(0, 0), (0, 1), (0, 2), (0, 3), (1, 0), (1, 1), (1, 2), (1, 3), (2, 0), (2, 1), (2, 2), (2, 3)]\n",
=======
>>>>>>> upstream/master
      "[0, 4, 16]\n"
     ]
    }
   ],
   "source": [
<<<<<<< HEAD
    "# 1\n",
    "ans = [(x,y) for x in range(3) for y in range(4)]\n",
    "print(ans)\n",
    "\n",
    "# 2\n",
    "ans = [x**2 for x in filter(lambda x: x%2 == 0, range(5))]\n",
=======
    "#1.2\n",
    "ans=[]\n",
    "ans=[x*x for x in range(5) if x%2==0]\n",
    "\n",
>>>>>>> upstream/master
    "print(ans)"
   ]
  },
  {
   "cell_type": "markdown",
   "metadata": {},
   "source": [
    "2\\. Convert the following function into a pure function with no global variables or side effects"
=======
   "cell_type": "markdown",
   "metadata": {},
   "source": [
    "2\\. Converte the following function into a pure function with no global variables or side effects"
>>>>>>> 1ddd86f32a5dd9ef412f47fe38db8e00a88cd264
   ]
  },
  {
   "cell_type": "code",
<<<<<<< HEAD
<<<<<<< HEAD
   "execution_count": 18,
=======
   "execution_count": 58,
>>>>>>> upstream/master
=======
   "execution_count": 6,
>>>>>>> 1ddd86f32a5dd9ef412f47fe38db8e00a88cd264
   "metadata": {},
   "outputs": [
    {
     "name": "stdout",
     "output_type": "stream",
     "text": [
      "[1, 2, 3, 0, 1, 2, 3, 4]\n",
<<<<<<< HEAD
<<<<<<< HEAD
      "[1, 2, 3]\n"
=======
      "[1, 2, 3, 0, 1, 2, 3, 4]\n"
>>>>>>> upstream/master
=======
      "[1, 2, 3, 0, 1, 2, 3, 4]\n"
>>>>>>> 1ddd86f32a5dd9ef412f47fe38db8e00a88cd264
     ]
    }
   ],
   "source": [
<<<<<<< HEAD
<<<<<<< HEAD
    "def f(l, y):\n",
    "    return l + [x for x in range(y)]\n",
    "\n",
    "x = 5\n",
    "alist = [1,2,3]\n",
    "ans = f(alist,x)\n",
=======
    "x = 5\n",
    "def f(alist):\n",
    "    for i in range(x):\n",
    "         alist.append(i)\n",
=======
    "x = 5\n",
    "def f(alist):\n",
    "    for i in range(x):\n",
    "        alist.append(i)\n",
>>>>>>> 1ddd86f32a5dd9ef412f47fe38db8e00a88cd264
    "    return alist\n",
    "\n",
    "alist = [1,2,3]\n",
    "ans = f(alist)\n",
<<<<<<< HEAD
>>>>>>> upstream/master
=======
>>>>>>> 1ddd86f32a5dd9ef412f47fe38db8e00a88cd264
    "print (ans)\n",
    "print (alist) # alist has been changed!"
   ]
  },
  {
<<<<<<< HEAD
<<<<<<< HEAD
=======
   "cell_type": "code",
   "execution_count": 59,
   "metadata": {},
   "outputs": [
    {
     "name": "stdout",
     "output_type": "stream",
     "text": [
      "[0, 1, 2, 3, 4]\n",
      "[1, 2, 3]\n"
     ]
    }
   ],
   "source": [
    "#2\n",
    "x=5\n",
    "def no_mod(my_list):\n",
    "    temp_list=[]\n",
    "    temp_list=[i for i in range(x)]\n",
    "    my_list = temp_list\n",
    "    return my_list\n",
    "\n",
    "my_list = [1,2,3]\n",
    "ans = no_mod(my_list)\n",
    "print (ans)\n",
    "print (my_list) # my_list hasn't been changed!\n",
    "    "
   ]
  },
  {
>>>>>>> upstream/master
=======
>>>>>>> 1ddd86f32a5dd9ef412f47fe38db8e00a88cd264
   "cell_type": "markdown",
   "metadata": {},
   "source": [
    "3\\. Write a `decorator` hello that makes every wrapped function print “Hello!”, i.e. something like:\n",
    "\n",
    "```python\n",
    "@hello\n",
    "def square(x):\n",
    "    return x*x\n",
    "```\n",
    "\n"
   ]
  },
  {
<<<<<<< HEAD
<<<<<<< HEAD
   "cell_type": "code",
   "execution_count": 144,
   "metadata": {},
   "outputs": [],
   "source": [
    "def my_dec(f):\n",
    "    def wrapper(args):\n",
    "        print(\"Hello!\")\n",
    "        return f(args)\n",
    "    return wrapper\n",
    "\n",
    "def square(x):\n",
    "    return x*x\n",
    "\n",
    "square = my_dec(square)"
=======
=======
>>>>>>> 1ddd86f32a5dd9ef412f47fe38db8e00a88cd264
   "cell_type": "markdown",
   "metadata": {},
   "source": [
    "4\\. Write the factorial function so that it a) does and b) does not use recursion."
<<<<<<< HEAD
>>>>>>> upstream/master
   ]
  },
  {
   "cell_type": "code",
<<<<<<< HEAD
   "execution_count": 145,
=======
   "execution_count": 55,
>>>>>>> upstream/master
   "metadata": {},
   "outputs": [
    {
     "name": "stdout",
     "output_type": "stream",
     "text": [
<<<<<<< HEAD
      "Hello!\n"
     ]
    },
    {
     "data": {
      "text/plain": [
       "100"
      ]
     },
     "execution_count": 145,
     "metadata": {},
     "output_type": "execute_result"
    }
   ],
   "source": [
    "square(10)"
=======
>>>>>>> 1ddd86f32a5dd9ef412f47fe38db8e00a88cd264
   ]
  },
  {
   "cell_type": "markdown",
   "metadata": {},
   "source": [
<<<<<<< HEAD
    "4\\. Write the factorial function so that it a) does and b) does not use recursion."
=======
      "[1, 1, 2, 6, 24, 120, 720]\n"
     ]
    }
   ],
   "source": [
    "#4.a\n",
    "\n",
    "def factorial(x):\n",
    "    if x==0 or x==1: \n",
    "        return 1\n",
    "    else: \n",
    "        return x*factorial(x-1)\n",
    "    \n",
    "\n",
    "print([factorial(i) for i in range(7)])\n",
    "    "
>>>>>>> upstream/master
   ]
  },
  {
   "cell_type": "code",
<<<<<<< HEAD
   "execution_count": 13,
=======
   "execution_count": 79,
>>>>>>> upstream/master
   "metadata": {},
   "outputs": [
    {
     "name": "stdout",
     "output_type": "stream",
     "text": [
<<<<<<< HEAD
      "120\n",
      "120\n"
=======
      "[1, 1, 2, 6, 24, 120, 720]\n"
>>>>>>> upstream/master
     ]
    }
   ],
   "source": [
<<<<<<< HEAD
    "# a\n",
    "def factorialRecur(x):\n",
    "    if (x == 0):\n",
    "        return 1\n",
    "    return x*factorialRecur(x-1)\n",
    "\n",
    "# b\n",
    "def factorialIter(x):\n",
    "    if (x == 0):\n",
    "        return 1\n",
    "    prod = 1\n",
    "    for i in range(1, x+1):\n",
    "        prod*= i\n",
    "    return prod\n",
    "\n",
    "f = 5\n",
    "print(factorialRecur(f))\n",
    "print(factorialIter(f))"
=======
    "#4.b\n",
    "\n",
    "def factorial2(x):\n",
    "    if x==0 or x==1: \n",
    "        return 1\n",
    "    else:\n",
    "        a , b = x, x-1\n",
    "        for i in range(1,x):\n",
    "            a , b = a*b, b-1\n",
    "        return a\n",
    "\n",
    "print([factorial2(x) for x in range(7)])\n",
    "            "
>>>>>>> upstream/master
   ]
  },
  {
   "cell_type": "markdown",
   "metadata": {},
   "source": [
    "5\\. Use HOFs (zip in particular) to compute the weight of a circle, a disk and a sphere, assuming different radii and different densities:\n",
    "\n",
    "```python\n",
    "densities = {\"Al\":[0.5,1,2],\"Fe\":[3,4,5],\"Pb\": [15,20,30]}\n",
    "radii = [1,2,3]\n",
    "```\n",
    "\n",
    "where the entries of the dictionary's values are the linear, superficial and volumetric densities of the materials respectively.\n",
    "\n",
    "In particular define a list of three lambda functions using a comprehension that computes the circumference, the area and the volume for a given radius.\n"
   ]
  },
  {
   "cell_type": "code",
<<<<<<< HEAD
   "execution_count": 188,
   "metadata": {},
   "outputs": [
    {
     "ename": "SyntaxError",
     "evalue": "invalid syntax (<ipython-input-188-e69017392a88>, line 14)",
     "output_type": "error",
     "traceback": [
      "\u001b[1;36m  File \u001b[1;32m\"<ipython-input-188-e69017392a88>\"\u001b[1;36m, line \u001b[1;32m14\u001b[0m\n\u001b[1;33m    print func[i](x*y)\u001b[0m\n\u001b[1;37m             ^\u001b[0m\n\u001b[1;31mSyntaxError\u001b[0m\u001b[1;31m:\u001b[0m invalid syntax\n"
     ]
    }
   ],
   "source": [
    "import math\n",
    "\n",
    "# Data\n",
    "densities = {\"Al\":[0.5,1,2],\"Fe\":[3,4,5],\"Pb\": [15,20,30]}\n",
    "radii = [1,2,3]\n",
    "\n",
    "\n",
    "# Function\n",
    "func = [lambda x: x*math.pi*2, lambda x: x**2*math.pi, lambda x: 4/3*math.pi*x**3]\n",
    "\n",
    "for j in densities:  \n",
    "    for x, y in zip(radii, densities[j]):\n",
    "        for i in func: \n",
    "            print func[i](x*y)"
=======
   "execution_count": 99,
   "metadata": {},
   "outputs": [],
   "source": [
    "#5\n",
    "from math import pi\n",
    "\n",
    "densities = {\"Al\":[0.5,1,2],\"Fe\":[3,4,5],\"Pb\": [15,20,30]}\n",
    "\n",
    "radii = [1,2,3]\n",
    "\n",
    "funcs = {\n",
    "    'circum' : lambda r: 2*pi*r,\n",
    "    'surf' : lambda r: pi*r*r,\n",
    "    'vol' : lambda r : 4*pi*r*r*r/3\n",
    "}\n",
    "\n",
    "#calcola circ, area e volume per ogni raggio e li mette in un dizionari\n",
    "\n",
    "r_dim = {}\n",
    "for r in radii:\n",
    "    dim=[(funcs[func](1)) for func in funcs]\n",
    "    r_dim[r]=dim\n",
    "\n",
    "\n",
    "#for i in densities: print(i, densities[i][1]) per accedere all'i-esimo elemento della lista, a sua volta elemento di un diz.\n",
    "\n"
>>>>>>> upstream/master
   ]
  },
  {
   "cell_type": "markdown",
   "metadata": {},
   "source": [
    "6\\. Edit the class defintion to add an instance attribute of is_hungry = True to the Dog class. Then add a method called eat() which changes the value of is_hungry to False when called. Figure out the best way to feed each dog and then output “My dogs are hungry.” if all are hungry or “My dogs are not hungry.” if all are not hungry. The final output should look like this:\n",
=======
    "5\\. Edit the class defintion to add an instance attribute of is_hungry = True to the Dog class. Then add a method called eat() which changes the value of is_hungry to False when called. Figure out the best way to feed each dog and then output “My dogs are hungry.” if all are hungry or “My dogs are not hungry.” if all are not hungry. The final output should look like this:\n",
>>>>>>> 1ddd86f32a5dd9ef412f47fe38db8e00a88cd264
    "\n",
    "`I have 3 dogs. \n",
    "Tom is 6. \n",
    "Fletcher is 7. \n",
    "Larry is 9. \n",
    "And they're all mammals, of course. \n",
    "My dogs are not hungry.\n",
    "`\n",
    "\n",
    "```python\n",
    "# Parent class\n",
    "class Dog:\n",
    "\n",
    "    # Class attribute\n",
    "    species = 'mammal'\n",
    "\n",
    "    # Initializer / Instance attributes\n",
    "    def __init__(self, name, age):\n",
    "        self.name = name\n",
    "        self.age = age\n",
    "\n",
    "    # instance method\n",
    "    def description(self):\n",
    "        return \"{} is {} years old\".format(self.name, self.age)\n",
    "\n",
    "    # instance method\n",
    "    def speak(self, sound):\n",
    "        return \"{} says {}\".format(self.name, sound)\n",
    "\n",
    "# Child class (inherits from Dog class)\n",
    "class RussellTerrier(Dog):\n",
    "    def run(self, speed):\n",
    "        return \"{} runs {}\".format(self.name, speed)\n",
    "\n",
    "# Child class (inherits from Dog class)\n",
    "class Bulldog(Dog):\n",
    "    def run(self, speed):\n",
    "        return \"{} runs {}\".format(self.name, speed)\n",
    "```"
   ]
  },
  {
   "cell_type": "code",
<<<<<<< HEAD
<<<<<<< HEAD
   "execution_count": 209,
   "metadata": {},
   "outputs": [
    {
     "name": "stdout",
     "output_type": "stream",
     "text": [
      "My dogs are hungry.\n",
      "I have 1.\n",
      "My dogs are not hungry.\n"
     ]
=======
   "execution_count": 116,
   "metadata": {
    "scrolled": true
   },
   "outputs": [
    {
     "data": {
      "text/plain": [
       "'Bolan is not hungry anymore!'"
      ]
     },
     "execution_count": 116,
     "metadata": {},
     "output_type": "execute_result"
>>>>>>> upstream/master
    }
   ],
   "source": [
    "# Parent class\n",
    "class Dog:\n",
    "\n",
    "    # Class attribute\n",
    "    species = 'mammal'\n",
<<<<<<< HEAD
    "    s_hungry = True\n",
=======
    "    hungry = 'True'\n",
>>>>>>> upstream/master
    "\n",
    "    # Initializer / Instance attributes\n",
    "    def __init__(self, name, age):\n",
    "        self.name = name\n",
    "        self.age = age\n",
    "\n",
<<<<<<< HEAD
    "    def eat(self):\n",
    "        self.s_hungry = False\n",
    "    \n",
=======
>>>>>>> upstream/master
    "    # instance method\n",
    "    def description(self):\n",
    "        return \"{} is {} years old\".format(self.name, self.age)\n",
    "\n",
    "    # instance method\n",
    "    def speak(self, sound):\n",
    "        return \"{} says {}\".format(self.name, sound)\n",
<<<<<<< HEAD
    "\n",
    "# Child class (inherits from Dog class)\n",
    "class RussellTerrier(Dog):\n",
    "    def run(self, speed):\n",
    "        return \"{} runs {}\".format(self.name, speed)\n",
    "\n",
    "# Child class (inherits from Dog class)\n",
    "class Bulldog(Dog):\n",
    "    def run(self, speed):\n",
    "        return \"{} runs {}\".format(self.name, speed)\n",
    "    \n",
    "class dogs_Owner:\n",
    "    \n",
    "    # Class attribute\n",
    "    dogs_owned = []\n",
    "    \n",
    "    def __init__(self, name):\n",
    "        self.name = name\n",
    "        self.dogs_owned = []\n",
    "    \n",
    "    def buy_dog(self, dog):\n",
    "        self.dogs_owned.append(dog)\n",
    "    \n",
    "    def feed_dog(self):\n",
    "        for x in self.dogs_owned:\n",
    "            x.eat();\n",
    "\n",
    "    def list_dogs(self):\n",
    "        for x in self.dogs_owned:\n",
    "            print(\"{} is {}.\".format(x.name, x.age))\n",
    "    \n",
    "    def num_dogs(self):\n",
    "            print(\"I have {}.\".format(len(self.dogs_owned)))\n",
    "            \n",
    "    def are_hungry(self):\n",
    "        are_hungry = False\n",
    "        for x in self.dogs_owned:\n",
    "            if (x.s_hungry):\n",
    "                are_hungry = True\n",
    "        if (are_hungry):\n",
    "            print(\"My dogs are hungry.\")\n",
    "        else:\n",
    "            print(\"My dogs are not hungry.\")\n",
    "\n",
    "    def are_mammals(self):\n",
    "        are_mam = True\n",
    "        for x in dogs_owned:\n",
    "            if (x.species != \"mammal\"):\n",
    "                are_mam = False\n",
    "        if (are_mam):\n",
    "            print(\"And they're all mammals, of course.\")\n",
    "        else:\n",
    "            print(\"And they're not all mammals, of course.\")\n",
    "            \n",
    "            \n",
    "owner = dogs_Owner(\"Alessandro\")\n",
    "owner.buy_dog(Dog(\"Sansone\", 4))\n",
    "owner.are_hungry()\n",
    "owner.num_dogs()\n",
    "owner.feed_dog()\n",
    "owner.are_hungry()"
   ]
=======
    "    \n",
    "    def eat(self):\n",
    "        self.hungry = 'False'\n",
    "        return \"{} is not hungry anymore!\".format(self.name)\n",
    "\n",
    "#un po' di prove\n",
    "\n",
    "bolan = Dog(\"Bolan\",10)\n",
    "#bolan.description()\n",
    "#bolan.speak(\"ciao Sofia, io ti odio\")\n",
    "\n",
    "bolan.eat()\n",
    "\n"
   ]
  },
  {
   "cell_type": "code",
   "execution_count": null,
   "metadata": {},
   "outputs": [],
   "source": []
>>>>>>> upstream/master
=======
   "execution_count": null,
   "metadata": {
    "collapsed": true
   },
   "outputs": [],
   "source": []
>>>>>>> 1ddd86f32a5dd9ef412f47fe38db8e00a88cd264
  }
 ],
 "metadata": {
  "kernelspec": {
   "display_name": "Python 3",
   "language": "python",
   "name": "python3"
  },
  "language_info": {
   "codemirror_mode": {
    "name": "ipython",
    "version": 3
   },
   "file_extension": ".py",
   "mimetype": "text/x-python",
   "name": "python",
   "nbconvert_exporter": "python",
   "pygments_lexer": "ipython3",
<<<<<<< HEAD
<<<<<<< HEAD
   "version": "3.6.5"
=======
   "version": "3.7.0"
>>>>>>> upstream/master
=======
   "version": "3.6.3"
>>>>>>> 1ddd86f32a5dd9ef412f47fe38db8e00a88cd264
  }
 },
 "nbformat": 4,
 "nbformat_minor": 2
}
