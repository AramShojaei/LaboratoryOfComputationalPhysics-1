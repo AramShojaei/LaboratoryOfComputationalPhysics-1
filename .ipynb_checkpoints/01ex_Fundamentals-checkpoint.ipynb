{
 "cells": [
  {
   "cell_type": "markdown",
   "metadata": {},
   "source": [
    "1\\. Write the following as a list comprehension"
   ]
  },
  {
   "cell_type": "code",
   "execution_count": 1,
   "metadata": {},
   "outputs": [
    {
     "name": "stdout",
     "output_type": "stream",
     "text": [
      "[(0, 0), (0, 1), (0, 2), (0, 3), (1, 0), (1, 1), (1, 2), (1, 3), (2, 0), (2, 1), (2, 2), (2, 3)]\n",
      "[0, 4, 16]\n"
     ]
    }
   ],
   "source": [
    "# 1\n",
    "ans = []\n",
    "for i in range(3):\n",
    "    for j in range(4):\n",
    "        ans.append((i, j))\n",
    "print (ans)\n",
    "\n",
    "# 2\n",
    "ans = map(lambda x: x*x, filter(lambda x: x%2 == 0, range(5)))\n",
    "print (list(ans))\n",
    "\n"
   ]
  },
  {
   "cell_type": "code",
   "execution_count": 2,
   "metadata": {},
   "outputs": [
    {
     "name": "stdout",
     "output_type": "stream",
     "text": [
      "[(0, 0), (0, 1), (0, 2), (0, 3), (1, 0), (1, 1), (1, 2), (1, 3), (2, 0), (2, 1), (2, 2), (2, 3)]\n",
      "[0, 4, 16]\n"
     ]
    }
   ],
   "source": [
    "ans1=[(i,j) for i in range(3) for j in range(4)]\n",
    "print(ans1)\n",
    "ans2=[x*x for x in  filter(lambda x: x%2 == 0, range(5))]\n",
    "print(ans2)"
   ]
  },
  {
   "cell_type": "markdown",
   "metadata": {},
   "source": [
    "2\\. Converte the following function into a pure function with no global variables or side effects"
   ]
  },
  {
   "cell_type": "code",
   "execution_count": 3,
   "metadata": {},
   "outputs": [
    {
     "name": "stdout",
     "output_type": "stream",
     "text": [
      "[1, 2, 3, 0, 1, 2, 3, 4]\n",
      "[1, 2, 3, 0, 1, 2, 3, 4]\n"
     ]
    }
   ],
   "source": [
    "x = 5\n",
    "def f(alist):\n",
    "    for i in range(x):\n",
    "        alist.append(i)\n",
    "    return alist\n",
    "\n",
    "alist = [1,2,3]\n",
    "ans = f(alist)\n",
    "print (ans)\n",
    "print (alist) # alist has been changed!"
   ]
  },
  {
   "cell_type": "code",
   "execution_count": 4,
   "metadata": {},
   "outputs": [
    {
     "name": "stdout",
     "output_type": "stream",
     "text": [
      "[1, 2, 3]\n",
      "[1, 2, 3]\n",
      "[1, 2, 3, 0, 1, 2, 3, 4]\n",
      "[1, 2, 3]\n"
     ]
    }
   ],
   "source": [
    "x = 5\n",
    "def f(alist):\n",
    "    y=alist[:] ##copia della lista\n",
    "    print(y)\n",
    "    for i in range(x):\n",
    "        y.append(i)\n",
    "        \n",
    "    return y\n",
    "\n",
    "alist = [1,2,3]\n",
    "print(alist)\n",
    "ans = f(alist)\n",
    "print (ans)\n",
    "print (alist) # alist has not been changed!"
   ]
  },
  {
   "cell_type": "markdown",
   "metadata": {},
   "source": [
    "3\\. Write a `decorator` hello that makes every wrapped function print “Hello!”, i.e. something like:\n",
    "\n",
    "```python\n",
    "@hello\n",
    "def square(x):\n",
    "    return x*x\n",
    "```\n",
    "\n"
   ]
  },
  {
   "cell_type": "code",
   "execution_count": 19,
   "metadata": {},
   "outputs": [
    {
     "name": "stdout",
     "output_type": "stream",
     "text": [
      "Hello.\n",
      "4\n"
     ]
    }
   ],
   "source": [
    "def hello(func):\n",
    "    def wrapper(*args, **kwargs):\n",
    "        print(\"Hello.\")\n",
    "        func(*args, **kwargs)\n",
    "        return func(*args, **kwargs)\n",
    "        #print(\"Hello\")\n",
    "    return wrapper\n",
    "@hello\n",
    "def square(x):\n",
    "    #print(x*x)\n",
    "    return x*x\n",
    "\n",
    "print(square(2))"
   ]
  },
  {
   "cell_type": "markdown",
   "metadata": {},
   "source": [
    "4\\. Write the factorial function so that it a) does and b) does not use recursion."
   ]
  },
  {
   "cell_type": "code",
   "execution_count": 6,
   "metadata": {},
   "outputs": [
    {
     "name": "stdout",
     "output_type": "stream",
     "text": [
      "[1, 1, 2, 6, 24]\n"
     ]
    }
   ],
   "source": [
    "def fattoriale(n):\n",
    "    if n==0:\n",
    "        return 1\n",
    "    else:\n",
    "        return n*fattoriale(n-1)\n",
    "print([fattoriale(i) for i in range(5)])"
   ]
  },
  {
   "cell_type": "code",
   "execution_count": 7,
   "metadata": {},
   "outputs": [
    {
     "name": "stdout",
     "output_type": "stream",
     "text": [
      "[1, 1, 2, 6, 24]\n"
     ]
    }
   ],
   "source": [
    "def fattoriale2(n):\n",
    "    if n==0:\n",
    "        return 1\n",
    "    else:\n",
    "        x=1\n",
    "        for i in range(n):\n",
    "            y=i+1\n",
    "            x=x*y\n",
    "            \n",
    "        return x\n",
    "print([fattoriale2(i) for i in range(5)])\n",
    "\n",
    "    "
   ]
  },
  {
   "cell_type": "markdown",
   "metadata": {},
   "source": [
    "5\\. Use HOFs (zip in particular) to compute the weight of a circle, a disk and a sphere, assuming different radii and different densities:\n",
    "\n",
    "```python\n",
    "densities = {\"Al\":[0.5,1,2],\"Fe\":[3,4,5],\"Pb\": [15,20,30]}\n",
    "radii = [1,2,3]\n",
    "```\n",
    "\n",
    "where the entries of the dictionary's values are the linear, superficial and volumetric densities of the materials respectively.\n",
    "\n",
    "In particular define a list of three lambda functions using a comprehension that computes the circumference, the area and the volume for a given radius.\n"
   ]
  },
  {
   "cell_type": "code",
   "execution_count": 30,
   "metadata": {},
   "outputs": [
    {
     "name": "stdout",
     "output_type": "stream",
     "text": [
      "Radii: 1 \n",
      "\n",
      "circumference\n",
      "Al: 3.141592653589793 Fe: 18.84955592153876 Pb: 94.24777960769379 \n",
      "\n",
      "area\n",
      "Al: 3.141592653589793 Fe: 12.566370614359172 Pb: 62.83185307179586 \n",
      "\n",
      "volume\n",
      "Al: 8.377580409572781 Fe: 20.94395102393195 Pb: 125.66370614359171 \n",
      "\n",
      "Radii: 2 \n",
      "\n",
      "circumference\n",
      "Al: 6.283185307179586 Fe: 37.69911184307752 Pb: 188.49555921538757 \n",
      "\n",
      "area\n",
      "Al: 12.566370614359172 Fe: 50.26548245743669 Pb: 251.32741228718345 \n",
      "\n",
      "volume\n",
      "Al: 67.02064327658225 Fe: 167.5516081914556 Pb: 1005.3096491487337 \n",
      "\n",
      "Radii: 3 \n",
      "\n",
      "circumference\n",
      "Al: 9.42477796076938 Fe: 56.548667764616276 Pb: 282.7433388230814 \n",
      "\n",
      "area\n",
      "Al: 28.274333882308138 Fe: 113.09733552923255 Pb: 565.4866776461628 \n",
      "\n",
      "volume\n",
      "Al: 226.1946710584651 Fe: 565.4866776461628 Pb: 3392.9200658769764 \n",
      "\n"
     ]
    }
   ],
   "source": [
    "import math \n",
    "radii = [1,2,3]\n",
    "func=[lambda r: 2*math.pi*r,lambda r: math.pi*r*r,lambda r: (4/3)*math.pi*r*r*r]\n",
    "C =[func[0](r) for r in radii]\n",
    "A =[func[1](r) for r in radii]\n",
    "V =[func[2](r) for r in radii]\n",
    "Al=[0.5,1,2]\n",
    "Fe=[3,4,5]\n",
    "Pb=[15,20,30]\n",
    "name=['circumference','area','volume']\n",
    "for r in radii:\n",
    "    print('Radii:',r,'\\n')\n",
    "    for (i,a, b, c) in zip(range(3),Al, Fe, Pb):\n",
    "        print(name[i])\n",
    "        print(\"Al:\",func[i](r)*a,\"Fe:\",func[i](r)*b,\"Pb:\",func[i](r)*c,'\\n')"
   ]
  },
  {
   "cell_type": "markdown",
   "metadata": {},
   "source": [
    "6\\. Edit the class defintion to add an instance attribute of is_hungry = True to the Dog class. Then add a method called eat() which changes the value of is_hungry to False when called. Figure out the best way to feed each dog and then output “My dogs are hungry.” if all are hungry or “My dogs are not hungry.” if all are not hungry. The final output should look like this:\n",
    "\n",
    "`I have 3 dogs. \n",
    "Tom is 6. \n",
    "Fletcher is 7. \n",
    "Larry is 9. \n",
    "And they're all mammals, of course. \n",
    "My dogs are not hungry.\n",
    "`\n",
    "\n",
    "```python\n",
    "# Parent class\n",
    "class Dog:\n",
    "\n",
    "    # Class attribute\n",
    "    species = 'mammal'\n",
    "\n",
    "    # Initializer / Instance attributes\n",
    "    def __init__(self, name, age):\n",
    "        self.name = name\n",
    "        self.age = age\n",
    "\n",
    "    # instance method\n",
    "    def description(self):\n",
    "        return \"{} is {} years old\".format(self.name, self.age)\n",
    "\n",
    "    # instance method\n",
    "    def speak(self, sound):\n",
    "        return \"{} says {}\".format(self.name, sound)\n",
    "\n",
    "# Child class (inherits from Dog class)\n",
    "class RussellTerrier(Dog):\n",
    "    def run(self, speed):\n",
    "        return \"{} runs {}\".format(self.name, speed)\n",
    "\n",
    "# Child class (inherits from Dog class)\n",
    "class Bulldog(Dog):\n",
    "    def run(self, speed):\n",
    "        return \"{} runs {}\".format(self.name, speed)\n",
    "```"
   ]
  },
  {
   "cell_type": "code",
   "execution_count": 32,
   "metadata": {},
   "outputs": [],
   "source": [
    "class Dog:\n",
    "    species = 'mammal'\n",
    "    def __init__(self, name, age):\n",
    "        self.name=name\n",
    "        self.age=age\n",
    "        self.is_hungry=True\n",
    "    \n",
    "    def description(self):\n",
    "        return \"{} is {} years old\".format(self.name, self.age)\n",
    "\n",
    "    # instance method\n",
    "    def speak(self, sound):\n",
    "        return \"{} says {}\".format(self.name, sound)\n",
    "    \n",
    "    def eat(self):\n",
    "        self.is_hungry=False"
   ]
  },
  {
   "cell_type": "code",
   "execution_count": 33,
   "metadata": {},
   "outputs": [
    {
     "name": "stdout",
     "output_type": "stream",
     "text": [
      "I have 3 dogs.\n",
      "True\n",
      "My dogs are not hungry\n"
     ]
    }
   ],
   "source": [
    "numDogs=3\n",
    "dogs=[ Dog('Tom',6), Dog('Fletcher',7),Dog('Larry',9)]\n",
    "print(\"I have\", len(dogs),\"dogs.\")\n",
    "Tom=dogs[0]\n",
    "Tom.eat()\n",
    "print(dogs[1].is_hungry)\n",
    "x=1\n",
    "for i in range(numDogs):\n",
    "    if dogs[i].is_hungry==False:\n",
    "        x=0\n",
    "        print('My dogs are not hungry')\n",
    "        break\n",
    "if x==1:\n",
    "    print('My dogs are hungry')\n",
    "    \n",
    "\n",
    "    "
   ]
  },
  {
   "cell_type": "code",
   "execution_count": 34,
   "metadata": {},
   "outputs": [
    {
     "data": {
      "text/plain": [
       "'Tom is 6 years old'"
      ]
     },
     "execution_count": 34,
     "metadata": {},
     "output_type": "execute_result"
    }
   ],
   "source": [
    "Tom.speak('ciao')\n",
    "Tom.description()\n"
   ]
  },
  {
   "cell_type": "code",
   "execution_count": 37,
   "metadata": {},
   "outputs": [
    {
     "name": "stdout",
     "output_type": "stream",
     "text": [
      "I have 3 dogs\n",
      "Tom is 6 years old\n",
      "Fletcher is 7 years old\n",
      "Larry is 9 years old\n",
      "And they're all mammals, of course.\n",
      "My dogs are not hungry.\n"
     ]
    }
   ],
   "source": [
    "print('I have', len(dogs),'dogs')\n",
    "all_mammals=1\n",
    "none_mammals=1\n",
    "all_fed=1\n",
    "none_fed=1\n",
    "for d in dogs:\n",
    "    d.eat()\n",
    "    if d.species != 'mammal':\n",
    "        all_mammals=0\n",
    "    if d.species == 'mammal':\n",
    "        none_mammals=0\n",
    "    if d.is_hungry==True:\n",
    "        all_fed=0\n",
    "    if d.is_hungry==False:\n",
    "        none_fed=0\n",
    "    print(d.description())\n",
    "if all_mammals==1:\n",
    "    print(\"And they're all mammals, of course.\")\n",
    "if none_mammals==1:\n",
    "    print(\"But none of them are mammals.\")\n",
    "if all_fed==1:\n",
    "    print(\"My dogs are not hungry.\")\n",
    "if none_fed==1:\n",
    "    print(\"My dogs are hungry.\")"
   ]
  },
  {
   "cell_type": "code",
   "execution_count": null,
   "metadata": {},
   "outputs": [],
   "source": []
  }
 ],
 "metadata": {
  "kernelspec": {
   "display_name": "Python 3",
   "language": "python",
   "name": "python3"
  },
  "language_info": {
   "codemirror_mode": {
    "name": "ipython",
    "version": 3
   },
   "file_extension": ".py",
   "mimetype": "text/x-python",
   "name": "python",
   "nbconvert_exporter": "python",
   "pygments_lexer": "ipython3",
   "version": "3.7.0"
  }
 },
 "nbformat": 4,
 "nbformat_minor": 2
}
