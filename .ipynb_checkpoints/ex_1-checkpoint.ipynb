{
 "cells": [
  {
   "cell_type": "markdown",
   "metadata": {},
   "source": [
    "ex_1"
   ]
  },
  {
   "cell_type": "markdown",
   "metadata": {},
   "source": [
    "The MickeyMouse problem\n",
    "a) Write a program that prints the numbers from 1 to 100. But for multiples of three print Mickey instead of the number and for the multiples of five print Mouse. For numbers which are multiples of both three and five print MickeyMouse\n",
    "\n",
    "b) Put the result in a tuple and substitute Mickey with Donald and Mouse with Duck"
   ]
  },
  {
   "cell_type": "markdown",
   "metadata": {},
   "source": [
    "for i in range(1,11): \n",
    " if i % 3 ==0:\n",
    "     print (\"Mickey\")    \n",
    " elif i % 5 ==0:\n",
    "     print (\"Mouse\")    \n",
    " else:\n",
    "     print (i)"
   ]
  },
  {
   "cell_type": "markdown",
   "metadata": {},
   "source": [
    "a=[]\n",
    "for i in range(1,11): \n",
    " if i % 3 ==0:\n",
    "     print (\"Mickey\") \n",
    "     a.append(\"Mickey\")   \n",
    " elif i % 5 ==0:\n",
    "     print (\"Mouse\")\n",
    "     a.append(\"Mouse\")  \n",
    " else:\n",
    "     print (i)\n",
    "     a.append(i)   \n",
    "print(a)\n",
    "b=a\n",
    "for n, i in enumerate(a):\n",
    "    if i == \"Mickey\":\n",
    "     b[n]=\"Donald\"\n",
    "    elif i == \"Mouse\":\n",
    "        b[n]=\"Duck\"\n",
    "    else:\n",
    "        b[n]=a[n]\n",
    "print(b)"
   ]
  },
  {
   "cell_type": "markdown",
   "metadata": {},
   "source": [
    "2. The swap function\n",
    "\n",
    "Write a function that swap the values of two input variables x and y (whatever the type). Try to do that also without a temporary variable"
   ]
  },
  {
   "cell_type": "code",
   "execution_count": 4,
   "metadata": {},
   "outputs": [
    {
     "name": "stdout",
     "output_type": "stream",
     "text": [
      "(3, 2)\n"
     ]
    }
   ],
   "source": [
    "def my_swap(x,y):\n",
    "     return y,x\n",
    "print(my_swap(2,3))    "
   ]
  },
  {
   "cell_type": "markdown",
   "metadata": {},
   "source": [
    "3. Computing the distance\n",
    "\n",
    "Write a function that calculates and returns the euclidean distance between two points u and v, where u and v are both 2-tuples (x,y). For example, if u=(3,0) and v=(0,4), the function should return 5"
   ]
  },
  {
   "cell_type": "code",
   "execution_count": 98,
   "metadata": {},
   "outputs": [
    {
     "data": {
      "text/plain": [
       "5.0"
      ]
     },
     "execution_count": 98,
     "metadata": {},
     "output_type": "execute_result"
    }
   ],
   "source": [
    "import math\n",
    "\n",
    "def my_distance(u,v):\n",
    "    d= math.sqrt( (u[0]-v[0])**2 + (u[1]-v[1])**2)\n",
    "    return d\n",
    "\n",
    "#prova\n",
    "a=[4,0]\n",
    "m=[0,3]\n",
    "my_distance(a,m)   "
   ]
  },
  {
   "cell_type": "markdown",
   "metadata": {},
   "source": [
    "4. Counting letters\n",
    "\n",
    "Write a program to calculate the number of times each character occurs in a given string s. Ignore differneces in capitalization"
   ]
  },
  {
   "cell_type": "code",
   "execution_count": 57,
   "metadata": {},
   "outputs": [
    {
     "name": "stdout",
     "output_type": "stream",
     "text": [
      "g appears 1 times\n",
      "s appears 9 times\n",
      "1 appears 2 times\n",
      "0 appears 2 times\n",
      "i appears 14 times\n",
      "h appears 9 times\n",
      "f appears 9 times\n",
      "b appears 4 times\n",
      "o appears 13 times\n",
      "l appears 6 times\n",
      "a appears 7 times\n",
      ". appears 2 times\n",
      "e appears 22 times\n",
      "y appears 2 times\n",
      "k appears 2 times\n",
      "w appears 1 times\n",
      "t appears 19 times\n",
      "r appears 17 times\n",
      "c appears 3 times\n",
      "v appears 2 times\n",
      "m appears 8 times\n",
      "d appears 3 times\n",
      "n appears 10 times\n",
      "u appears 9 times\n",
      "  appears 41 times\n",
      "p appears 8 times\n"
     ]
    }
   ],
   "source": [
    "s=\"Write a program that prints the numbers from 1 to 100. \\\n",
    "But for multiples of three print Mickey instead of the number and for the multiples of five print Mouse. \\\n",
    "For numbers which are multiples of both three and five print MickeyMouse\"\n",
    "def my_count_strings(s):\n",
    "    m=list(set(s.lower()))\n",
    "    for i in range(0,(len(m))): \n",
    "     count_i = s.count(m[i])\n",
    "     print (m[i], \"appears\", count_i, \"times\")\n",
    "my_count_strings(s)"
   ]
  },
  {
   "cell_type": "markdown",
   "metadata": {
    "collapsed": true
   },
   "source": [
    "5. Isolating the unique\n",
    "Write a function that determines and count the unique numbers in the list l.\n",
    "l = [36, 45, 58, 3, 74, 96, 64, 45, 31, 10, 24, 19, 33, 86, 99, 18, 63, 70, 85,\n",
    " 85, 63, 47, 56, 42, 70, 84, 88, 55, 20, 54, 8, 56, 51, 79, 81, 57, 37, 91,\n",
    " 1, 84, 84, 36, 66, 9, 89, 50, 42, 91, 50, 95, 90, 98, 39, 16, 82, 31, 92, 41,\n",
    " 45, 30, 66, 70, 34, 85, 94, 5, 3, 36, 72, 91, 84, 34, 87, 75, 53, 51, 20, 89, 51, 20]"
   ]
  },
  {
   "cell_type": "code",
   "execution_count": 62,
   "metadata": {},
   "outputs": [
    {
     "name": "stdout",
     "output_type": "stream",
     "text": [
      "1 appears 1 times\n",
      "3 appears 2 times\n",
      "5 appears 1 times\n",
      "8 appears 1 times\n",
      "9 appears 1 times\n",
      "10 appears 1 times\n",
      "16 appears 1 times\n",
      "18 appears 1 times\n",
      "19 appears 1 times\n",
      "20 appears 3 times\n",
      "24 appears 1 times\n",
      "30 appears 1 times\n",
      "31 appears 2 times\n",
      "33 appears 1 times\n",
      "34 appears 2 times\n",
      "36 appears 3 times\n",
      "37 appears 1 times\n",
      "39 appears 1 times\n",
      "41 appears 1 times\n",
      "42 appears 2 times\n",
      "45 appears 3 times\n",
      "47 appears 1 times\n",
      "50 appears 2 times\n",
      "51 appears 3 times\n",
      "53 appears 1 times\n",
      "54 appears 1 times\n",
      "55 appears 1 times\n",
      "56 appears 2 times\n",
      "57 appears 1 times\n",
      "58 appears 1 times\n",
      "63 appears 2 times\n",
      "64 appears 1 times\n",
      "66 appears 2 times\n",
      "70 appears 3 times\n",
      "72 appears 1 times\n",
      "74 appears 1 times\n",
      "75 appears 1 times\n",
      "79 appears 1 times\n",
      "81 appears 1 times\n",
      "82 appears 1 times\n",
      "84 appears 4 times\n",
      "85 appears 3 times\n",
      "86 appears 1 times\n",
      "87 appears 1 times\n",
      "88 appears 1 times\n",
      "89 appears 2 times\n",
      "90 appears 1 times\n",
      "91 appears 3 times\n",
      "92 appears 1 times\n",
      "94 appears 1 times\n",
      "95 appears 1 times\n",
      "96 appears 1 times\n",
      "98 appears 1 times\n",
      "99 appears 1 times\n"
     ]
    }
   ],
   "source": [
    "l = [36, 45, 58, 3, 74, 96, 64, 45, 31, 10, 24, 19, 33, 86, 99, 18, 63, 70, 85,\n",
    " 85, 63, 47, 56, 42, 70, 84, 88, 55, 20, 54, 8, 56, 51, 79, 81, 57, 37, 91,\n",
    " 1, 84, 84, 36, 66, 9, 89, 50, 42, 91, 50, 95, 90, 98, 39, 16, 82, 31, 92, 41,\n",
    " 45, 30, 66, 70, 34, 85, 94, 5, 3, 36, 72, 91, 84, 34, 87, 75, 53, 51, 20, 89, 51, 20]\n",
    "def my_countlist(l):\n",
    " m=list(set(l))\n",
    "for i in range(0, len(m)):\n",
    "        count_i=l.count(m[i])\n",
    "        print(m[i], \"appears\", count_i, \"times\")\n",
    "    \n",
    "my_countlist(l)    "
   ]
  },
  {
   "cell_type": "markdown",
   "metadata": {},
   "source": [
    "6. Combination of functions\n",
    "\n",
    "Write two functions - one that returns the square of a number, and one that returns the cube. Now write a third function that returns the number raised to the 6th power using the two previous functions."
   ]
  },
  {
   "cell_type": "code",
   "execution_count": 63,
   "metadata": {},
   "outputs": [
    {
     "data": {
      "text/plain": [
       "117649"
      ]
     },
     "execution_count": 63,
     "metadata": {},
     "output_type": "execute_result"
    }
   ],
   "source": [
    "def my_square(a):\n",
    "    square=a*a\n",
    "    return square\n",
    "# example \n",
    "my_square(10)\n",
    "\n",
    "def my_cube(a):\n",
    "    cube= a*a*a\n",
    "    return cube\n",
    "#example\n",
    "my_cube(3)\n",
    "\n",
    "def my_6th(a):\n",
    "    sixth= my_square(my_cube(a))\n",
    "    return sixth\n",
    "#example \n",
    "my_6th(7)"
   ]
  },
  {
   "cell_type": "markdown",
   "metadata": {},
   "source": [
    "7. Cubes\n",
    "\n",
    "Create a list of the cubes of x for x in [0, 10] using:\n",
    "\n",
    "a) a for loop\n",
    "\n",
    "b) a list comprehension"
   ]
  },
  {
   "cell_type": "code",
   "execution_count": 81,
   "metadata": {},
   "outputs": [
    {
     "name": "stdout",
     "output_type": "stream",
     "text": [
      "[0, 1, 8, 27, 64, 125, 216, 343, 512, 729, 1000]\n"
     ]
    }
   ],
   "source": [
    "a=[]\n",
    "for i in range(0, 11):\n",
    "    a.append(i*i*i)\n",
    "print(a)    "
   ]
  },
  {
   "cell_type": "code",
   "execution_count": 2,
   "metadata": {},
   "outputs": [
    {
     "data": {
      "text/plain": [
       "[0, 1, 8, 27, 64, 125, 216, 343, 512, 729, 1000]"
      ]
     },
     "execution_count": 2,
     "metadata": {},
     "output_type": "execute_result"
    }
   ],
   "source": [
    "def my_cube(a):\n",
    "    cube= a*a*a\n",
    "    return cube\n",
    "list(map(my_cube, range(0, 11)))"
   ]
  },
  {
   "cell_type": "markdown",
   "metadata": {
    "collapsed": true
   },
   "source": [
    "8. Nested list comprehension\n",
    "\n",
    "A Pythagorean triple is an integer solution to the Pythagorean theorem  a2+b2=c2a2+b2=c2 . The first Pythagorean triple is (3,4,5). Find and put in a tuple all unique Pythagorean triples for the positive integers a, b and c less than 100."
   ]
  },
  {
   "cell_type": "code",
   "execution_count": 31,
   "metadata": {},
   "outputs": [
    {
     "name": "stdout",
     "output_type": "stream",
     "text": [
      "[(3, 4, 5), (5, 12, 13), (6, 8, 10), (7, 24, 25), (8, 15, 17), (9, 12, 15), (9, 40, 41), (10, 24, 26), (11, 60, 61), (12, 16, 20), (12, 35, 37), (13, 84, 85), (14, 48, 50), (15, 20, 25), (15, 36, 39), (16, 30, 34), (16, 63, 65), (18, 24, 30), (18, 80, 82), (20, 21, 29), (20, 48, 52), (21, 28, 35), (21, 72, 75), (24, 32, 40), (24, 45, 51), (24, 70, 74), (25, 60, 65), (27, 36, 45), (28, 45, 53), (30, 40, 50), (30, 72, 78), (32, 60, 68), (33, 44, 55), (33, 56, 65), (35, 84, 91), (36, 48, 60), (36, 77, 85), (39, 52, 65), (39, 80, 89), (40, 42, 58), (40, 75, 85), (42, 56, 70), (45, 60, 75), (48, 55, 73), (48, 64, 80), (51, 68, 85), (54, 72, 90), (57, 76, 95), (60, 63, 87), (65, 72, 97)]\n"
     ]
    }
   ],
   "source": [
    "a=[]\n",
    "for x in range(1,100):\n",
    "    for y in range(x,100):\n",
    "            for z in range(y,100):\n",
    "                if x*x+y*y==z*z:\n",
    "                    a.append((x,y,z))\n",
    "print(a)"
   ]
  },
  {
   "cell_type": "markdown",
   "metadata": {
    "collapsed": true
   },
   "source": [
    "9. Normalization\n",
    "\n",
    "Write a function that takes a tuple of numbers and returns it with the entries normalized to one"
   ]
  },
  {
   "cell_type": "code",
   "execution_count": 78,
   "metadata": {},
   "outputs": [
    {
     "name": "stdout",
     "output_type": "stream",
     "text": [
      "1\n",
      "2\n",
      "3\n",
      "12\n"
     ]
    },
    {
     "data": {
      "text/plain": [
       "[0.08333333333333333, 0.08333333333333333, 0.08333333333333333, 0.75]"
      ]
     },
     "execution_count": 78,
     "metadata": {},
     "output_type": "execute_result"
    }
   ],
   "source": [
    "def my_norm(a):\n",
    "    tot=0\n",
    "    for x in range(0, len(a)):\n",
    "        tot=tot+a[x]\n",
    "        print(tot)\n",
    "    for x in range(0, len(a)):\n",
    "        a[x]=a[x]/tot\n",
    "    return a\n",
    "my_norm([1,1,1,9])"
   ]
  },
  {
   "cell_type": "code",
   "execution_count": null,
   "metadata": {
    "collapsed": true
   },
   "outputs": [],
   "source": []
  }
 ],
 "metadata": {
  "kernelspec": {
   "display_name": "Python 3",
   "language": "python",
   "name": "python3"
  },
  "language_info": {
   "codemirror_mode": {
    "name": "ipython",
    "version": 3
   },
   "file_extension": ".py",
   "mimetype": "text/x-python",
   "name": "python",
   "nbconvert_exporter": "python",
   "pygments_lexer": "ipython3",
   "version": "3.6.5"
  }
 },
 "nbformat": 4,
 "nbformat_minor": 2
}
