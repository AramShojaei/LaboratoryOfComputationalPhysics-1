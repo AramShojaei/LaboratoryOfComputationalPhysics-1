{
 "cells": [
  {
   "cell_type": "markdown",
   "metadata": {},
   "source": [
    "# Data science is OSEMN\n",
    "\n",
    "According to a popular model, the elements of data science are\n",
    "\n",
    "* Obtaining data\n",
    "* Scrubbing data\n",
    "* Exploring data\n",
    "* Modeling data\n",
    "* iNterpreting data\n",
    "\n",
    "and hence the acronym OSEMN, pronounced as “Awesome”.\n",
    "\n",
    "We will start with the **O**, moving towards the rest later, but first let's have a quick look at what it all boils down to:"
   ]
  },
  {
   "cell_type": "code",
   "execution_count": 5,
   "metadata": {},
   "outputs": [
    {
     "data": {
      "text/plain": [
       "<matplotlib.legend.Legend at 0x7f2a28052dd8>"
      ]
     },
     "execution_count": 5,
     "metadata": {},
     "output_type": "execute_result"
    },
    {
     "data": {
      "image/png": "[encoded data removed]",
      "text/plain": [
       "<matplotlib.figure.Figure at 0x7f2a2afc9710>"
      ]
     },
     "metadata": {},
     "output_type": "display_data"
    }
   ],
   "source": [
    "import numpy as np\n",
    "\n",
    "data = np.loadtxt('populations.txt')\n",
    "year, hares, lynxes, carrots = data.T # trick: columns to variables\n",
    "\n",
    "\n",
    "from matplotlib import pyplot as plt\n",
    "%matplotlib inline\n",
    "\n",
    "plt.axes([0.2, 0.1, 0.5, 0.8]) \n",
    "plt.plot(year, hares, year, lynxes, year, carrots) \n",
    "plt.legend(('Hare', 'Lynx', 'Carrot'), loc=(1.05, 0.5)) "
   ]
  },
  {
   "cell_type": "markdown",
   "metadata": {},
   "source": [
    "By plotting the data a clear (and reasonable) correlations between pray and predator becomes evident. How can it be quantified? Is that statistical significant? What about the correlation between carrots and hares? Is that evident? Is that significant?\n",
    "\n",
    "Finding correlations in data is the main goal of data science, though that is not the end of the story: as this precious [site](http://tylervigen.com/spurious-correlations) demonstrates, **correlations is not causation**. \n"
   ]
  },
  {
   "cell_type": "markdown",
   "metadata": {},
   "source": [
    "*Exercise*: write an algorithm that determins and quantifies a correlation between two time series. Use as an example the hare-lynx-carrot dataset."
   ]
  },
  {
   "cell_type": "markdown",
   "metadata": {},
   "source": [
    "# Obtaining and processing (remote) data\n",
    "\n",
    "Accessing data is a really serious business. Data can sit on public or on remote machines. In the case of the former, things may be straightforward, whereas in the latter case you need to worry about a few things.\n",
    "\n",
    "In both cases, depending on the size of the dataset, the managment of the dataset can become extremely complicated. We won't deal here with large datasets, which require a whole course per se.., but still care should be put. In particular, it is not wise to keep (and even worse commit) data into a git repository!\n",
    "\n",
    "The suggestion is then to create a directory somewhere and copy the example datasets there. From a terminal:\n",
    "\n",
    "```bash\n",
    "\n",
    "# create a data directory in your home directory\n",
    "mkdir ~/data/\n",
    "\n",
    "# check the content (it's empty now of course)\n",
    "ls -ltr ~/data/\n",
    "\n",
    "# in the case you need to move there:\n",
    "cd ~/data/\n",
    "```"
   ]
  },
  {
   "cell_type": "markdown",
   "metadata": {},
   "source": [
    "### Download data from a server\n",
    "\n",
    "A nice set of interesting datasets can be found on this [server](https://archive.ics.uci.edu/ml/datasets.html?sort=nameUp&view=list) that collects training/test data for machine learning developments. Several of those pertein physical sciences, it is worth browsing through those.\n",
    "\n",
    "You can download any of those, in the following we will consider a dataset from the MAGIC experiment. For that we will the `wget` command"
   ]
  },
  {
   "cell_type": "code",
   "execution_count": 2,
   "metadata": {},
   "outputs": [
    {
     "name": "stdout",
     "output_type": "stream",
     "text": [
      "--2018-11-12 14:59:17--  https://archive.ics.uci.edu/ml/machine-learning-databases/magic/magic04.data\n",
      "Resolving archive.ics.uci.edu (archive.ics.uci.edu)... 128.195.10.249\n",
      "Connecting to archive.ics.uci.edu (archive.ics.uci.edu)|128.195.10.249|:443... connected.\n",
      "HTTP request sent, awaiting response... 200 OK\n",
      "Length: 1477391 (1.4M) [text/plain]\n",
      "Saving to: ‘/home/jebrilh/data/magic04.data’\n",
      "\n",
      "magic04.data        100%[===================>]   1.41M   858KB/s    in 1.7s    \n",
      "\n",
      "2018-11-12 14:59:21 (858 KB/s) - ‘/home/jebrilh/data/magic04.data’ saved [1477391/1477391]\n",
      "\n",
      "--2018-11-12 14:59:21--  https://archive.ics.uci.edu/ml/machine-learning-databases/magic/magic04.names\n",
      "Resolving archive.ics.uci.edu (archive.ics.uci.edu)... 128.195.10.249\n",
      "Connecting to archive.ics.uci.edu (archive.ics.uci.edu)|128.195.10.249|:443... connected.\n",
      "HTTP request sent, awaiting response... 200 OK\n",
      "Length: 5400 (5.3K) [text/plain]\n",
      "Saving to: ‘/home/jebrilh/data/magic04.names’\n",
      "\n",
      "magic04.names       100%[===================>]   5.27K  --.-KB/s    in 0s      \n",
      "\n",
      "2018-11-12 14:59:21 (102 MB/s) - ‘/home/jebrilh/data/magic04.names’ saved [5400/5400]\n",
      "\n"
     ]
    }
   ],
   "source": [
    "# get the dataset and its description on the proper data directory\n",
    "!wget https://archive.ics.uci.edu/ml/machine-learning-databases/magic/magic04.data -P ~/data/\n",
    "!wget https://archive.ics.uci.edu/ml/machine-learning-databases/magic/magic04.names -P ~/data/    "
   ]
  },
  {
   "cell_type": "code",
   "execution_count": 3,
   "metadata": {},
   "outputs": [
    {
     "name": "stdout",
     "output_type": "stream",
     "text": [
      "1. Title of Database: MAGIC gamma telescope data 2004\r\n",
      "\r\n",
      "2. Sources:\r\n",
      "\r\n",
      "   (a) Original owner of the database:\r\n",
      "\r\n",
      "       R. K. Bock\r\n",
      "       Major Atmospheric Gamma Imaging Cherenkov Telescope project (MAGIC)\r\n",
      "       http://wwwmagic.mppmu.mpg.de\r\n",
      "       rkb@mail.cern.ch\r\n",
      "\r\n",
      "   (b) Donor:\r\n",
      "\r\n",
      "       P. Savicky\r\n",
      "       Institute of Computer Science, AS of CR\r\n",
      "       Czech Republic\r\n",
      "       savicky@cs.cas.cz\r\n",
      "\r\n",
      "   (c) Date received: May 2007\r\n",
      "\r\n",
      "3. Past Usage:\r\n",
      "\r\n",
      "   (a) Bock, R.K., Chilingarian, A., Gaug, M., Hakl, F., Hengstebeck, T.,\r\n",
      "       Jirina, M., Klaschka, J., Kotrc, E., Savicky, P., Towers, S.,\r\n",
      "       Vaicilius, A., Wittek W. (2004).\r\n",
      "       Methods for multidimensional event classification: a case study\r\n",
      "       using images from a Cherenkov gamma-ray telescope.\r\n",
      "       Nucl.Instr.Meth. A, 516, pp. 511-528.\r\n",
      "\r\n",
      "   (b) P. Savicky, E. Kotrc.\r\n",
      "       Experimental Study of Leaf Confidences for Random Forest.\r\n",
      "       Proceedings of COMPSTAT 2004, In: Computational Statistics.\r\n",
      "       (Ed.: Antoch J.) - Heidelberg, Physica Verlag 2004, pp. 1767-1774.\r\n",
      "\r\n",
      "   (c) J. Dvorak, P. Savicky.\r\n",
      "       Softening Splits in Decision Trees Using Simulated Annealing.\r\n",
      "       Proceedings of ICANNGA 2007, Warsaw, (Ed.: Beliczynski et. al),\r\n",
      "       Part I, LNCS 4431, pp. 721-729.\r\n",
      "\r\n",
      "4. Relevant Information:\r\n",
      "\r\n",
      "   The data are MC generated (see below) to simulate registration of high energy\r\n",
      "   gamma particles in a ground-based atmospheric Cherenkov gamma telescope using the\r\n",
      "   imaging technique. Cherenkov gamma telescope observes high energy gamma rays,\r\n",
      "   taking advantage of the radiation emitted by charged particles produced\r\n",
      "   inside the electromagnetic showers initiated by the gammas, and developing in the\r\n",
      "   atmosphere. This Cherenkov radiation (of visible to UV wavelengths) leaks\r\n",
      "   through the atmosphere and gets recorded in the detector, allowing reconstruction\r\n",
      "   of the shower parameters. The available information consists of pulses left by\r\n",
      "   the incoming Cherenkov photons on the photomultiplier tubes, arranged in a\r\n",
      "   plane, the camera. Depending on the energy of the primary gamma, a total of\r\n",
      "   few hundreds to some 10000 Cherenkov photons get collected, in patterns\r\n",
      "   (called the shower image), allowing to discriminate statistically those\r\n",
      "   caused by primary gammas (signal) from the images of hadronic showers\r\n",
      "   initiated by cosmic rays in the upper atmosphere (background).\r\n",
      "\r\n",
      "   Typically, the image of a shower after some pre-processing is an elongated\r\n",
      "   cluster. Its long axis is oriented towards the camera center if the shower axis\r\n",
      "   is parallel to the telescope's optical axis, i.e. if the telescope axis is\r\n",
      "   directed towards a point source. A principal component analysis is performed\r\n",
      "   in the camera plane, which results in a correlation axis and defines an ellipse.\r\n",
      "   If the depositions were distributed as a bivariate Gaussian, this would be\r\n",
      "   an equidensity ellipse. The characteristic parameters of this ellipse\r\n",
      "   (often called Hillas parameters) are among the image parameters that can be\r\n",
      "   used for discrimination. The energy depositions are typically asymmetric\r\n",
      "   along the major axis, and this asymmetry can also be used in discrimination.\r\n",
      "   There are, in addition, further discriminating characteristics, like the\r\n",
      "   extent of the cluster in the image plane, or the total sum of depositions.\r\n",
      "\r\n",
      "   The data set was generated by a Monte Carlo program, Corsika, described in \r\n",
      "      D. Heck et al., CORSIKA, A Monte Carlo code to simulate extensive air showers,\r\n",
      "      Forschungszentrum Karlsruhe FZKA 6019 (1998).\r\n",
      "   The program was run with parameters allowing to observe events with energies down\r\n",
      "   to below 50 GeV.\r\n",
      "\r\n",
      "5. Number of Instances: 19020\r\n",
      "\r\n",
      "6. Number of Attributes: 11 (including the class)\r\n",
      "\r\n",
      "7. Attribute information:\r\n",
      "\r\n",
      "    1.  fLength:  continuous  # major axis of ellipse [mm]\r\n",
      "    2.  fWidth:   continuous  # minor axis of ellipse [mm] \r\n",
      "    3.  fSize:    continuous  # 10-log of sum of content of all pixels [in #phot]\r\n",
      "    4.  fConc:    continuous  # ratio of sum of two highest pixels over fSize  [ratio]\r\n",
      "    5.  fConc1:   continuous  # ratio of highest pixel over fSize  [ratio]\r\n",
      "    6.  fAsym:    continuous  # distance from highest pixel to center, projected onto major axis [mm]\r\n",
      "    7.  fM3Long:  continuous  # 3rd root of third moment along major axis  [mm] \r\n",
      "    8.  fM3Trans: continuous  # 3rd root of third moment along minor axis  [mm]\r\n",
      "    9.  fAlpha:   continuous  # angle of major axis with vector to origin [deg]\r\n",
      "   10.  fDist:    continuous  # distance from origin to center of ellipse [mm]\r\n",
      "   11.  class:    g,h         # gamma (signal), hadron (background)\r\n",
      "\r\n",
      "8. Missing Attribute Values: None\r\n",
      "\r\n",
      "9. Class Distribution:\r\n",
      "\r\n",
      "   g = gamma (signal):     12332\r\n",
      "   h = hadron (background): 6688\r\n",
      "\r\n",
      "   For technical reasons, the number of h events is underestimated.\r\n",
      "   In the real data, the h class represents the majority of the events.\r\n",
      "\r\n",
      "   The simple classification accuracy is not meaningful for this data, since\r\n",
      "   classifying a background event as signal is worse than classifying a signal\r\n",
      "   event as background. For comparison of different classifiers an ROC curve\r\n",
      "   has to be used. The relevant points on this curve are those, where the\r\n",
      "   probability of accepting a background event as signal is below one of the\r\n",
      "   following thresholds: 0.01, 0.02, 0.05, 0.1, 0.2 depending on the required\r\n",
      "   quality of the sample of the accepted events for different experiments.\r\n",
      "\r\n"
     ]
    }
   ],
   "source": [
    "# print the description. This can (and better) be done from a terminal\n",
    "!cat ~/data/magic04.names"
   ]
  },
  {
   "cell_type": "markdown",
   "metadata": {},
   "source": [
    "It is possible to download and load remote files via their url's directly from within python (and thus on a jupyter session). This is a rather powerful tool as it allows http communications, IO streaming and so on.\n",
    "\n",
    "Care should be put as the dataset is stored in memory."
   ]
  },
  {
   "cell_type": "code",
   "execution_count": 6,
   "metadata": {},
   "outputs": [
    {
     "name": "stdout",
     "output_type": "stream",
     "text": [
      "b'1. Title of Database: MAGIC gamma telescope data 2004\\n'\n",
      "b'\\n'\n",
      "b'2. Sources:\\n'\n",
      "b'\\n'\n",
      "b'   (a) Original owner of the database:\\n'\n",
      "b'\\n'\n",
      "b'       R. K. Bock\\n'\n",
      "b'       Major Atmospheric Gamma Imaging Cherenkov Telescope project (MAGIC)\\n'\n",
      "b'       http://wwwmagic.mppmu.mpg.de\\n'\n",
      "b'       rkb@mail.cern.ch\\n'\n",
      "b'\\n'\n",
      "b'   (b) Donor:\\n'\n",
      "b'\\n'\n",
      "b'       P. Savicky\\n'\n",
      "b'       Institute of Computer Science, AS of CR\\n'\n",
      "b'       Czech Republic\\n'\n",
      "b'       savicky@cs.cas.cz\\n'\n",
      "b'\\n'\n",
      "b'   (c) Date received: May 2007\\n'\n",
      "b'\\n'\n",
      "b'3. Past Usage:\\n'\n",
      "b'\\n'\n",
      "b'   (a) Bock, R.K., Chilingarian, A., Gaug, M., Hakl, F., Hengstebeck, T.,\\n'\n",
      "b'       Jirina, M., Klaschka, J., Kotrc, E., Savicky, P., Towers, S.,\\n'\n",
      "b'       Vaicilius, A., Wittek W. (2004).\\n'\n",
      "b'       Methods for multidimensional event classification: a case study\\n'\n",
      "b'       using images from a Cherenkov gamma-ray telescope.\\n'\n",
      "b'       Nucl.Instr.Meth. A, 516, pp. 511-528.\\n'\n",
      "b'\\n'\n",
      "b'   (b) P. Savicky, E. Kotrc.\\n'\n",
      "b'       Experimental Study of Leaf Confidences for Random Forest.\\n'\n",
      "b'       Proceedings of COMPSTAT 2004, In: Computational Statistics.\\n'\n",
      "b'       (Ed.: Antoch J.) - Heidelberg, Physica Verlag 2004, pp. 1767-1774.\\n'\n",
      "b'\\n'\n",
      "b'   (c) J. Dvorak, P. Savicky.\\n'\n",
      "b'       Softening Splits in Decision Trees Using Simulated Annealing.\\n'\n",
      "b'       Proceedings of ICANNGA 2007, Warsaw, (Ed.: Beliczynski et. al),\\n'\n",
      "b'       Part I, LNCS 4431, pp. 721-729.\\n'\n",
      "b'\\n'\n",
      "b'4. Relevant Information:\\n'\n",
      "b'\\n'\n",
      "b'   The data are MC generated (see below) to simulate registration of high energy\\n'\n",
      "b'   gamma particles in a ground-based atmospheric Cherenkov gamma telescope using the\\n'\n",
      "b'   imaging technique. Cherenkov gamma telescope observes high energy gamma rays,\\n'\n",
      "b'   taking advantage of the radiation emitted by charged particles produced\\n'\n",
      "b'   inside the electromagnetic showers initiated by the gammas, and developing in the\\n'\n",
      "b'   atmosphere. This Cherenkov radiation (of visible to UV wavelengths) leaks\\n'\n",
      "b'   through the atmosphere and gets recorded in the detector, allowing reconstruction\\n'\n",
      "b'   of the shower parameters. The available information consists of pulses left by\\n'\n",
      "b'   the incoming Cherenkov photons on the photomultiplier tubes, arranged in a\\n'\n",
      "b'   plane, the camera. Depending on the energy of the primary gamma, a total of\\n'\n",
      "b'   few hundreds to some 10000 Cherenkov photons get collected, in patterns\\n'\n",
      "b'   (called the shower image), allowing to discriminate statistically those\\n'\n",
      "b'   caused by primary gammas (signal) from the images of hadronic showers\\n'\n",
      "b'   initiated by cosmic rays in the upper atmosphere (background).\\n'\n",
      "b'\\n'\n",
      "b'   Typically, the image of a shower after some pre-processing is an elongated\\n'\n",
      "b'   cluster. Its long axis is oriented towards the camera center if the shower axis\\n'\n",
      "b\"   is parallel to the telescope's optical axis, i.e. if the telescope axis is\\n\"\n",
      "b'   directed towards a point source. A principal component analysis is performed\\n'\n",
      "b'   in the camera plane, which results in a correlation axis and defines an ellipse.\\n'\n",
      "b'   If the depositions were distributed as a bivariate Gaussian, this would be\\n'\n",
      "b'   an equidensity ellipse. The characteristic parameters of this ellipse\\n'\n",
      "b'   (often called Hillas parameters) are among the image parameters that can be\\n'\n",
      "b'   used for discrimination. The energy depositions are typically asymmetric\\n'\n",
      "b'   along the major axis, and this asymmetry can also be used in discrimination.\\n'\n",
      "b'   There are, in addition, further discriminating characteristics, like the\\n'\n",
      "b'   extent of the cluster in the image plane, or the total sum of depositions.\\n'\n",
      "b'\\n'\n",
      "b'   The data set was generated by a Monte Carlo program, Corsika, described in \\n'\n",
      "b'      D. Heck et al., CORSIKA, A Monte Carlo code to simulate extensive air showers,\\n'\n",
      "b'      Forschungszentrum Karlsruhe FZKA 6019 (1998).\\n'\n",
      "b'   The program was run with parameters allowing to observe events with energies down\\n'\n",
      "b'   to below 50 GeV.\\n'\n",
      "b'\\n'\n",
      "b'5. Number of Instances: 19020\\n'\n",
      "b'\\n'\n",
      "b'6. Number of Attributes: 11 (including the class)\\n'\n",
      "b'\\n'\n",
      "b'7. Attribute information:\\n'\n",
      "b'\\n'\n",
      "b'    1.  fLength:  continuous  # major axis of ellipse [mm]\\n'\n",
      "b'    2.  fWidth:   continuous  # minor axis of ellipse [mm] \\n'\n",
      "b'    3.  fSize:    continuous  # 10-log of sum of content of all pixels [in #phot]\\n'\n",
      "b'    4.  fConc:    continuous  # ratio of sum of two highest pixels over fSize  [ratio]\\n'\n",
      "b'    5.  fConc1:   continuous  # ratio of highest pixel over fSize  [ratio]\\n'\n",
      "b'    6.  fAsym:    continuous  # distance from highest pixel to center, projected onto major axis [mm]\\n'\n",
      "b'    7.  fM3Long:  continuous  # 3rd root of third moment along major axis  [mm] \\n'\n",
      "b'    8.  fM3Trans: continuous  # 3rd root of third moment along minor axis  [mm]\\n'\n",
      "b'    9.  fAlpha:   continuous  # angle of major axis with vector to origin [deg]\\n'\n",
      "b'   10.  fDist:    continuous  # distance from origin to center of ellipse [mm]\\n'\n",
      "b'   11.  class:    g,h         # gamma (signal), hadron (background)\\n'\n",
      "b'\\n'\n",
      "b'8. Missing Attribute Values: None\\n'\n",
      "b'\\n'\n",
      "b'9. Class Distribution:\\n'\n",
      "b'\\n'\n",
      "b'   g = gamma (signal):     12332\\n'\n",
      "b'   h = hadron (background): 6688\\n'\n",
      "b'\\n'\n",
      "b'   For technical reasons, the number of h events is underestimated.\\n'\n",
      "b'   In the real data, the h class represents the majority of the events.\\n'\n",
      "b'\\n'\n",
      "b'   The simple classification accuracy is not meaningful for this data, since\\n'\n",
      "b'   classifying a background event as signal is worse than classifying a signal\\n'\n",
      "b'   event as background. For comparison of different classifiers an ROC curve\\n'\n",
      "b'   has to be used. The relevant points on this curve are those, where the\\n'\n",
      "b'   probability of accepting a background event as signal is below one of the\\n'\n",
      "b'   following thresholds: 0.01, 0.02, 0.05, 0.1, 0.2 depending on the required\\n'\n",
      "b'   quality of the sample of the accepted events for different experiments.\\n'\n",
      "b'\\n'\n"
     ]
    }
   ],
   "source": [
    "import urllib.request\n",
    "url ='https://archive.ics.uci.edu/ml/machine-learning-databases/magic/magic04.names'\n",
    "with urllib.request.urlopen(url) as data_file:\n",
    "    #print (data_file.read(300))\n",
    "    for line in data_file:\n",
    "        print (line)"
   ]
  },
  {
   "cell_type": "markdown",
   "metadata": {},
   "source": [
    "###  Copy data from a remote machine\n",
    "\n",
    "Often datasets are not available on websites but rather they are sitting on some remote machine. Several tools are there that can allow you to get hold off remote data, even from within python (e.g. [paramiko](https://www.paramiko.org/)), but best in this case is to get a local copy. E.g. from a terminal:\n",
    "\n",
    "```bash\n",
    "scp lemma@lxplus.cern.ch:/eos/project/l/lemma/data/2018/raw/Run000333/data_000637.* ~/data/\n",
    "```\n",
    "\n",
    "by issuing that command you are immediately exposed to the most relevant problem in obtaining the data: permissions/authorization.\n",
    "\n",
    "Secondily (essentially a further consequence of the same issue), the remote machine itself may have accessibility restrictions, e.g. being behind a firewall. In that case you may need to use a tunnel:\n",
    "\n",
    "``` bash\n",
    "ssh -L 1234:<address of R known to G>:22 <user at G>@<address of G> \n",
    "\n",
    "scp -P 1234 <user at R>@127.0.0.1:/path/to/file file-name-to-be-copied\n",
    "```\n",
    "\n",
    "In summary, just getting the data is a complicated business."
   ]
  },
  {
   "cell_type": "markdown",
   "metadata": {},
   "source": [
    "## Data Formats\n",
    "\n",
    "datasets can be stored in a gazillion different ways, often they have formats which are application dependent, even though more and more standards are being established. Python have \"readers\" for most of the formats, another reason for being the optimal programming language for data analysis."
   ]
  },
  {
   "cell_type": "markdown",
   "metadata": {},
   "source": [
    "### Text files \n",
    "\n",
    "Plain text files are commonly used for \"readibility\", at the price of a very poor storing efficiency due to their low entropy. [UTF-8](https://en.wikipedia.org/wiki/UTF-8) is the most common encoding.\n",
    "\n",
    "Reading (and writing) text files in python is straightforward:"
   ]
  },
  {
   "cell_type": "code",
   "execution_count": 7,
   "metadata": {},
   "outputs": [
    {
     "ename": "FileNotFoundError",
     "evalue": "[Errno 2] No such file or directory: '~/data/magic04.data'",
     "output_type": "error",
     "traceback": [
      "\u001b[0;31m---------------------------------------------------------------------------\u001b[0m",
      "\u001b[0;31mFileNotFoundError\u001b[0m                         Traceback (most recent call last)",
      "\u001b[0;32m<ipython-input-7-bd138e7829b1>\u001b[0m in \u001b[0;36m<module>\u001b[0;34m()\u001b[0m\n\u001b[1;32m      2\u001b[0m \u001b[0;34m\u001b[0m\u001b[0m\n\u001b[1;32m      3\u001b[0m \u001b[0;31m# mode can be specified for writing, reading or both\u001b[0m\u001b[0;34m\u001b[0m\u001b[0;34m\u001b[0m\u001b[0m\n\u001b[0;32m----> 4\u001b[0;31m \u001b[0;32mwith\u001b[0m \u001b[0mopen\u001b[0m\u001b[0;34m(\u001b[0m\u001b[0mfile_name\u001b[0m\u001b[0;34m,\u001b[0m \u001b[0mmode\u001b[0m\u001b[0;34m=\u001b[0m\u001b[0;34m'r'\u001b[0m\u001b[0;34m)\u001b[0m \u001b[0;32mas\u001b[0m \u001b[0mf\u001b[0m\u001b[0;34m:\u001b[0m\u001b[0;34m\u001b[0m\u001b[0m\n\u001b[0m\u001b[1;32m      5\u001b[0m     \u001b[0;31m# print-out the whole file\u001b[0m\u001b[0;34m\u001b[0m\u001b[0;34m\u001b[0m\u001b[0m\n\u001b[1;32m      6\u001b[0m     \u001b[0;31m# print (f.read())\u001b[0m\u001b[0;34m\u001b[0m\u001b[0;34m\u001b[0m\u001b[0m\n",
      "\u001b[0;31mFileNotFoundError\u001b[0m: [Errno 2] No such file or directory: '~/data/magic04.data'"
     ]
    }
   ],
   "source": [
    "file_name = \"~/data/magic04.data\"\n",
    "\n",
    "# mode can be specified for writing, reading or both\n",
    "with open(file_name, mode='r') as f:\n",
    "    # print-out the whole file\n",
    "    # print (f.read()) \n",
    "    for line in f:\n",
    "        ## print line by line\n",
    "        print (line)\n",
    "        ## each line is a string, you need to split it yourself\n",
    "        # for c in line.split(): print(c) # check the functionalities of the split() method "
   ]
  },
  {
   "cell_type": "markdown",
   "metadata": {},
   "source": [
    "### CSV files\n",
    "\n",
    "If you are lucky text files are already framed into a defined structured, in a \"table-like\" manner. These files are colled \"comma separated values\" (csv), even though the separator may well not be the \",\" symbol.\n",
    "Python have package to deal with that:"
   ]
  },
  {
   "cell_type": "code",
   "execution_count": 8,
   "metadata": {},
   "outputs": [
    {
     "ename": "FileNotFoundError",
     "evalue": "[Errno 2] No such file or directory: 'magic04.data'",
     "output_type": "error",
     "traceback": [
      "\u001b[0;31m---------------------------------------------------------------------------\u001b[0m",
      "\u001b[0;31mFileNotFoundError\u001b[0m                         Traceback (most recent call last)",
      "\u001b[0;32m<ipython-input-8-c21ebff376f6>\u001b[0m in \u001b[0;36m<module>\u001b[0;34m()\u001b[0m\n\u001b[1;32m      1\u001b[0m \u001b[0;32mimport\u001b[0m \u001b[0mcsv\u001b[0m\u001b[0;34m\u001b[0m\u001b[0m\n\u001b[1;32m      2\u001b[0m \u001b[0;34m\u001b[0m\u001b[0m\n\u001b[0;32m----> 3\u001b[0;31m \u001b[0;32mwith\u001b[0m \u001b[0mopen\u001b[0m\u001b[0;34m(\u001b[0m\u001b[0;34m'magic04.data'\u001b[0m\u001b[0;34m)\u001b[0m \u001b[0;32mas\u001b[0m \u001b[0mdata_file\u001b[0m\u001b[0;34m:\u001b[0m\u001b[0;34m\u001b[0m\u001b[0m\n\u001b[0m\u001b[1;32m      4\u001b[0m     \u001b[0;32mfor\u001b[0m \u001b[0mline\u001b[0m \u001b[0;32min\u001b[0m \u001b[0mcsv\u001b[0m\u001b[0;34m.\u001b[0m\u001b[0mreader\u001b[0m\u001b[0;34m(\u001b[0m\u001b[0mdata_file\u001b[0m\u001b[0;34m,\u001b[0m \u001b[0mdelimiter\u001b[0m\u001b[0;34m=\u001b[0m\u001b[0;34m','\u001b[0m\u001b[0;34m)\u001b[0m\u001b[0;34m:\u001b[0m \u001b[0;31m# the delimiter is often guessed by the reader\u001b[0m\u001b[0;34m\u001b[0m\u001b[0m\n\u001b[1;32m      5\u001b[0m         \u001b[0;31m# again note that elements of each line are treated as strings\u001b[0m\u001b[0;34m\u001b[0m\u001b[0;34m\u001b[0m\u001b[0m\n",
      "\u001b[0;31mFileNotFoundError\u001b[0m: [Errno 2] No such file or directory: 'magic04.data'"
     ]
    }
   ],
   "source": [
    "import csv\n",
    "\n",
    "with open('magic04.data') as data_file:\n",
    "    for line in csv.reader(data_file, delimiter=','): # the delimiter is often guessed by the reader\n",
    "        # again note that elements of each line are treated as strings\n",
    "        # if you need to convert them into numbers, you need to to that yourself\n",
    "        fLength,fWidth,fSize,\\\n",
    "        fConc,fConc1,fAsym,\\\n",
    "        fM3Long,fM3Trans,fAlpha,fDist = map(float,line[:-1])\n",
    "        category = line[-1]\n",
    "        print (fLength,fWidth,fSize,fConc,fConc1,fAsym,fM3Long,fM3Trans,fAlpha,fDist)\n",
    "        print (category)\n",
    "        break"
   ]
  },
  {
   "cell_type": "markdown",
   "metadata": {},
   "source": [
    "More often than not, csv files have comments (e.g. starting with '#'), which cannot be interpreted by the reader. Tricks like:\n",
    "\n",
    "```python\n",
    "csv.reader(row for row in f if not row.startswith('#'))\n",
    "```\n",
    "\n",
    "may be useful"
   ]
  },
  {
   "cell_type": "markdown",
   "metadata": {},
   "source": [
    "## Binary (hexadecimal) files\n",
    "\n",
    "The output of sensors often is stored as hexadecimal files. Information is packed in a well defined format (similarly to how floating point numbers are formatted).\n",
    "To read and process hexadecimal files in python you need to use the \"b\" option of `open` and progress along the file at step of defined lenght (depending on the size of the words information is packed into)\n",
    "\n",
    "The following is an example from data collected from an FPGA implementing a TDC. Relevant infomation are the coordinates of the TDC channels and their time measurements."
   ]
  },
  {
   "cell_type": "code",
   "execution_count": null,
   "metadata": {
    "collapsed": true
   },
   "outputs": [],
   "source": [
    "import struct, time\n",
    "\n",
    "with  open('~/data/data_000636.dat','rb') as file:\n",
    "    word_counter=0\n",
    "    word_size = 8 # size of the word in bytes\n",
    "    for i in range(0, len(file.read()), word_size):\n",
    "        if word_counter>100: break\n",
    "        time.sleep(0.1)\n",
    "        thisInt = struct.unpack('<q', fileContent[i:i+word_size])[0]\n",
    "        head = (thisInt >> 62) & 0x3\n",
    "        if head == 1:\n",
    "            fpga     = (thisInt >> 58) & 0xF\n",
    "            tdc_chan = (thisInt >> 49) & 0x1FF\n",
    "            orb_cnt  = (thisInt >> 17) & 0xFFFFFFFF\n",
    "            bx       = (thisInt >> 5 ) & 0xFFF\n",
    "            tdc_meas = (thisInt >> 0 ) & 0x1F\n",
    "            if i==0 : print ('{0},{1},{2},{3},{4},{5}'.format('HEAD', 'FPGA', 'TDC_CHANNEL', 'ORB_CNT', 'BX', 'TDC_MEAS'))\n",
    "            print ('{0},{1},{2},{3},{4},{5}'.format(head, fpga, tdc_chan, orb_cnt, bx, tdc_meas))\n",
    "        else:\n",
    "            print ('ERROR! head =', head)\n",
    "\n"
   ]
  },
  {
   "cell_type": "markdown",
   "metadata": {},
   "source": [
    "### JSON files\n",
    "\n",
    "JSON is JavaScript Object Notation - a format used widely for web-based resource sharing. It is very similar in structure to a Python nested dictionary. Here is an example from http://json.org/example"
   ]
  },
  {
   "cell_type": "code",
   "execution_count": null,
   "metadata": {
    "collapsed": true
   },
   "outputs": [],
   "source": [
    "%%file example.json\n",
    "{\n",
    "    \"glossary\": {\n",
    "        \"title\": \"example glossary\",\n",
    "            \"GlossDiv\": {\n",
    "            \"title\": \"S\",\n",
    "                    \"GlossList\": {\n",
    "                \"GlossEntry\": {\n",
    "                    \"ID\": \"SGML\",\n",
    "                                    \"SortAs\": \"SGML\",\n",
    "                                    \"GlossTerm\": \"Standard Generalized Markup Language\",\n",
    "                                    \"Acronym\": \"SGML\",\n",
    "                                    \"Abbrev\": \"ISO 8879:1986\",\n",
    "                                    \"GlossDef\": {\n",
    "                        \"para\": \"A meta-markup language, used to create markup languages such as DocBook.\",\n",
    "                                            \"GlossSeeAlso\": [\"GML\", \"XML\"]\n",
    "                    },\n",
    "                                    \"GlossSee\": \"markup\"\n",
    "                }\n",
    "            }\n",
    "        }\n",
    "    }\n",
    "}"
   ]
  },
  {
   "cell_type": "code",
   "execution_count": null,
   "metadata": {
    "collapsed": true
   },
   "outputs": [],
   "source": [
    "!cat example.json"
   ]
  },
  {
   "cell_type": "code",
   "execution_count": null,
   "metadata": {
    "collapsed": true
   },
   "outputs": [],
   "source": [
    "import json\n",
    "data = json.load(open('example.json'))\n",
    "print (data)"
   ]
  },
  {
   "cell_type": "code",
   "execution_count": null,
   "metadata": {
    "collapsed": true
   },
   "outputs": [],
   "source": [
    "# and can be parsed using standard key lookups\n",
    "data['glossary']['GlossDiv']['GlossList']"
   ]
  },
  {
   "cell_type": "markdown",
   "metadata": {},
   "source": [
    "### HDF5\n",
    "\n",
    "HDF5 is a hierarchical format often used to store complex scientific data. For instance, Matlab now saves its data to HDF5. It is particularly useful to store complex hierarchical data sets with associated metadata, for example, the results of a computer simulation experiment.\n",
    "\n",
    "The main concepts associated with HDF5 are\n",
    "\n",
    "* file: container for hierachical data - serves as ‘root’ for tree\n",
    "* group: a node for a tree\n",
    "* dataset: array for numeric data - can be huge\n",
    "* attribute: small pieces of metadata that provide additional context\n"
   ]
  },
  {
   "cell_type": "code",
   "execution_count": null,
   "metadata": {
    "collapsed": true
   },
   "outputs": [],
   "source": [
    "import h5py\n",
    "import numpy as np\n",
    "\n",
    "# creating a HDF5 file\n",
    "import datetime\n",
    "\n",
    "if not os.path.exists('example.hdf5'):\n",
    "\n",
    "    with h5py.File('example.hdf5') as f:\n",
    "        project = f.create_group('project')\n",
    "        project.attrs.create('name', 'My project')\n",
    "        project.attrs.create('date', str(datetime.date.today()))\n",
    "\n",
    "        expt1 = project.create_group('expt1')\n",
    "        expt2 = project.create_group('expt2')\n",
    "        expt1.create_dataset('counts', (100,), dtype='i')\n",
    "        expt2.create_dataset('values', (1000,), dtype='f')\n",
    "\n",
    "        expt1['counts'][:] = range(100)\n",
    "        expt2['values'][:] = np.random.random(1000)"
   ]
  },
  {
   "cell_type": "code",
   "execution_count": null,
   "metadata": {
    "collapsed": true
   },
   "outputs": [],
   "source": [
    "with h5py.File('example.hdf5') as f:\n",
    "    project = f['project']\n",
    "    print project.attrs['name']\n",
    "    print project.attrs['date']\n",
    "    print project['expt1']['counts'][:10]\n",
    "    print project['expt2']['values'][:10]"
   ]
  },
  {
   "cell_type": "markdown",
   "metadata": {},
   "source": [
    "### Pandas\n",
    "\n",
    "the most convenient tool to read and process formatted dataset is however Pandas. In the following a couple of examples. Pandas will be the main subject of one of the next classes\n"
   ]
  },
  {
   "cell_type": "code",
   "execution_count": null,
   "metadata": {
    "collapsed": true
   },
   "outputs": [],
   "source": [
    "import pandas as pd\n",
    "file_name=\"/Users/mzanetti/data/LEMMA2018/DT/raw/data_000636.txt\"\n",
    "data=pd.read_csv(file_name,nrows=10,skiprows=range(1,1))\n",
    "data"
   ]
  },
  {
   "cell_type": "code",
   "execution_count": null,
   "metadata": {
    "collapsed": true
   },
   "outputs": [],
   "source": [
    "import pandas as pd\n",
    "file_name=\"/Users/mzanetti/data/magic04.data\"\n",
    "data=pd.read_csv(file_name,nrows=1000)\n",
    "data.columns=['fLength','fWidth','fSize',\n",
    "        'fConc','fConc1','fAsym',\n",
    "        'fM3Long','fM3Trans','fAlpha','fDist','category']\n",
    "data"
   ]
  },
  {
   "cell_type": "code",
   "execution_count": null,
   "metadata": {
    "collapsed": true
   },
   "outputs": [],
   "source": [
    "%matplotlib inline\n",
    "\n",
    "data.plot.scatter(\"fLength\",\"fWidth\",)\n"
   ]
  },
  {
   "cell_type": "code",
   "execution_count": null,
   "metadata": {
    "collapsed": true
   },
   "outputs": [],
   "source": [
    "data.plot.hist(\"fAlpha\")"
   ]
  },
  {
   "cell_type": "code",
   "execution_count": null,
   "metadata": {
    "collapsed": true
   },
   "outputs": [],
   "source": []
  }
 ],
 "metadata": {
  "kernelspec": {
   "display_name": "Python 3",
   "language": "python",
   "name": "python3"
  },
  "language_info": {
   "codemirror_mode": {
    "name": "ipython",
    "version": 3
   },
   "file_extension": ".py",
   "mimetype": "text/x-python",
   "name": "python",
   "nbconvert_exporter": "python",
   "pygments_lexer": "ipython3",
   "version": "3.6.3"
  }
 },
 "nbformat": 4,
 "nbformat_minor": 2
}
