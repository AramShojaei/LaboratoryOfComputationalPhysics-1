{
 "cells": [
  {
   "cell_type": "markdown",
   "metadata": {},
   "source": [
    "### Numpy basics"
   ]
  },
  {
   "cell_type": "markdown",
   "metadata": {},
   "source": [
    "1\\. Find the row, column and overall means for the following matrix:\n",
    "\n",
    "```python\n",
    "m = np.arange(12).reshape((3,4))\n",
    "```"
   ]
  },
  {
   "cell_type": "code",
   "execution_count": 1,
   "metadata": {},
   "outputs": [],
   "source": [
    "import numpy as np"
   ]
  },
  {
   "cell_type": "code",
   "execution_count": 3,
   "metadata": {},
   "outputs": [
    {
     "name": "stdout",
     "output_type": "stream",
     "text": [
      "[[ 0  1  2  3]\n",
      " [ 4  5  6  7]\n",
      " [ 8  9 10 11]] [1.5 5.5 9.5] \n",
      " [4. 5. 6. 7.] \n",
      " 5.5\n"
     ]
    }
   ],
   "source": [
    "m = np.arange(12).reshape((3,4))\n",
    "# row mean\n",
    "m1 = np.mean(m, axis=1)\n",
    "# column mean\n",
    "m2 = np.mean(m, axis=0)\n",
    "# row mean\n",
    "m3 = np.mean(m)\n",
    "print(m,m1,\"\\n\",m2,\"\\n\",m3)"
   ]
  },
  {
   "cell_type": "markdown",
   "metadata": {},
   "source": [
    "2\\. Find the outer product of the following two vecotrs\n",
    "\n",
    "```python\n",
    "u = np.array([1,3,5,7])\n",
    "v = np.array([2,4,6,8])\n",
    "```\n",
    "\n",
    "Do this in the following ways:\n",
    "\n",
    "   * Using the function outer in numpy\n",
    "   * Using a nested for loop or list comprehension\n",
    "   * Using numpy broadcasting operatoins\n"
   ]
  },
  {
   "cell_type": "code",
   "execution_count": 4,
   "metadata": {},
   "outputs": [
    {
     "name": "stdout",
     "output_type": "stream",
     "text": [
      "The outer products are: \n",
      "\n",
      " [[ 2  4  6  8]\n",
      " [ 6 12 18 24]\n",
      " [10 20 30 40]\n",
      " [14 28 42 56]] \n",
      "\n",
      " [[ 2.  4.  6.  8.]\n",
      " [ 6. 12. 18. 24.]\n",
      " [10. 20. 30. 40.]\n",
      " [14. 28. 42. 56.]] \n",
      "\n",
      " [[ 2  4  6  8]\n",
      " [ 6 12 18 24]\n",
      " [10 20 30 40]\n",
      " [14 28 42 56]]\n"
     ]
    }
   ],
   "source": [
    "u = np.array([1,3,5,7])\n",
    "v = np.array([2,4,6,8])\n",
    "\n",
    "outer1=np.outer(u,v)\n",
    "\n",
    "outer2= np.ones((len(u),len(u)))\n",
    "for i in range(len(u)):\n",
    "    for j in range(len(u)):\n",
    "        outer2[i][j]=u[i]*v[j]\n",
    "        \n",
    "outer3= u[:,None]*v[:]  \n",
    "\n",
    "print(\"The outer products are:\",\"\\n\\n\",outer1,\"\\n\\n\",outer2,\"\\n\\n\",outer3)   "
   ]
  },
  {
   "cell_type": "markdown",
   "metadata": {},
   "source": [
    "3\\. Create a 10 by 6 matrix of random uniform numbers. Set all rows with any entry less than 0.1 to be zero\n",
    "\n",
    "Hint: Use the following numpy functions - np.random.random, np.any as well as Boolean indexing and the axis argument."
   ]
  },
  {
   "cell_type": "code",
   "execution_count": 25,
   "metadata": {},
   "outputs": [
    {
     "name": "stdout",
     "output_type": "stream",
     "text": [
      "1Ox6 random matrix: \n",
      "\n",
      " [[0.51359057 0.80161166 0.18538303 0.53149202 0.86646413 0.31083886]\n",
      " [0.12254461 0.47023261 0.2809458  0.17936728 0.17790428 0.27431141]\n",
      " [0.03828971 0.47109685 0.15715518 0.56849296 0.30925407 0.93747116]\n",
      " [0.50670894 0.89103958 0.08900909 0.22966668 0.11539923 0.08118012]\n",
      " [0.42332494 0.16608755 0.90664898 0.69644092 0.65984916 0.81902912]\n",
      " [0.45931166 0.79568762 0.55921964 0.65099335 0.34539367 0.08777461]\n",
      " [0.16335653 0.77149001 0.22145087 0.96932266 0.06542954 0.94052554]\n",
      " [0.79659467 0.1217021  0.93306694 0.18618369 0.07873321 0.82875195]\n",
      " [0.82469073 0.43809824 0.50092469 0.55330084 0.98772654 0.02625824]\n",
      " [0.63655174 0.94716498 0.56876644 0.35575798 0.62513506 0.20189749]] \n",
      "\n",
      "All rows with any entry less than 0.1 are null: \n",
      "\n",
      " [[0.51359057 0.80161166 0.18538303 0.53149202 0.86646413 0.31083886]\n",
      " [0.12254461 0.47023261 0.2809458  0.17936728 0.17790428 0.27431141]\n",
      " [0.         0.         0.         0.         0.         0.        ]\n",
      " [0.         0.         0.         0.         0.         0.        ]\n",
      " [0.42332494 0.16608755 0.90664898 0.69644092 0.65984916 0.81902912]\n",
      " [0.         0.         0.         0.         0.         0.        ]\n",
      " [0.         0.         0.         0.         0.         0.        ]\n",
      " [0.         0.         0.         0.         0.         0.        ]\n",
      " [0.         0.         0.         0.         0.         0.        ]\n",
      " [0.63655174 0.94716498 0.56876644 0.35575798 0.62513506 0.20189749]]\n"
     ]
    }
   ],
   "source": [
    "m=np.random.uniform(size=(10,6))\n",
    "print(\"1Ox6 random matrix: \\n\\n\",m, \"\\n\")\n",
    "m[np.any(m<0.1,axis=1)]=0\n",
    "print(\"All rows with any entry less than 0.1 are null: \\n\\n\",m)"
   ]
  },
  {
   "cell_type": "markdown",
   "metadata": {},
   "source": [
    "4\\. Use np.linspace to create an array of 100 numbers between 0 and 2π (includsive).\n",
    "\n",
    "  * Extract every 10th element using slice notation\n",
    "  * Reverse the array using slice notation\n",
    "  * Extract elements where the absolute difference between the sine and cosine functions evaluated at that element is less than 0.1\n",
    "  * Make a plot showing the sin and cos functions and indicate where they are close"
   ]
  },
  {
   "cell_type": "code",
   "execution_count": 47,
   "metadata": {},
   "outputs": [
    {
     "name": "stdout",
     "output_type": "stream",
     "text": [
      "The array is: \n",
      " [0.         0.06346652 0.12693304 0.19039955 0.25386607 0.31733259\n",
      " 0.38079911 0.44426563 0.50773215 0.57119866 0.63466518 0.6981317\n",
      " 0.76159822 0.82506474 0.88853126 0.95199777 1.01546429 1.07893081\n",
      " 1.14239733 1.20586385 1.26933037 1.33279688 1.3962634  1.45972992\n",
      " 1.52319644 1.58666296 1.65012947 1.71359599 1.77706251 1.84052903\n",
      " 1.90399555 1.96746207 2.03092858 2.0943951  2.15786162 2.22132814\n",
      " 2.28479466 2.34826118 2.41172769 2.47519421 2.53866073 2.60212725\n",
      " 2.66559377 2.72906028 2.7925268  2.85599332 2.91945984 2.98292636\n",
      " 3.04639288 3.10985939 3.17332591 3.23679243 3.30025895 3.36372547\n",
      " 3.42719199 3.4906585  3.55412502 3.61759154 3.68105806 3.74452458\n",
      " 3.8079911  3.87145761 3.93492413 3.99839065 4.06185717 4.12532369\n",
      " 4.1887902  4.25225672 4.31572324 4.37918976 4.44265628 4.5061228\n",
      " 4.56958931 4.63305583 4.69652235 4.75998887 4.82345539 4.88692191\n",
      " 4.95038842 5.01385494 5.07732146 5.14078798 5.2042545  5.26772102\n",
      " 5.33118753 5.39465405 5.45812057 5.52158709 5.58505361 5.64852012\n",
      " 5.71198664 5.77545316 5.83891968 5.9023862  5.96585272 6.02931923\n",
      " 6.09278575 6.15625227 6.21971879 6.28318531] \n",
      "\n",
      " Extraction every 1O elements: \n",
      " [0.         0.63466518 1.26933037 1.90399555 2.53866073 3.17332591\n",
      " 3.8079911  4.44265628 5.07732146 5.71198664] \n",
      "\n",
      " Reverse array:\n",
      " [6.28318531 6.21971879 6.15625227 6.09278575 6.02931923 5.96585272\n",
      " 5.9023862  5.83891968 5.77545316 5.71198664 5.64852012 5.58505361\n",
      " 5.52158709 5.45812057 5.39465405 5.33118753 5.26772102 5.2042545\n",
      " 5.14078798 5.07732146 5.01385494 4.95038842 4.88692191 4.82345539\n",
      " 4.75998887 4.69652235 4.63305583 4.56958931 4.5061228  4.44265628\n",
      " 4.37918976 4.31572324 4.25225672 4.1887902  4.12532369 4.06185717\n",
      " 3.99839065 3.93492413 3.87145761 3.8079911  3.74452458 3.68105806\n",
      " 3.61759154 3.55412502 3.4906585  3.42719199 3.36372547 3.30025895\n",
      " 3.23679243 3.17332591 3.10985939 3.04639288 2.98292636 2.91945984\n",
      " 2.85599332 2.7925268  2.72906028 2.66559377 2.60212725 2.53866073\n",
      " 2.47519421 2.41172769 2.34826118 2.28479466 2.22132814 2.15786162\n",
      " 2.0943951  2.03092858 1.96746207 1.90399555 1.84052903 1.77706251\n",
      " 1.71359599 1.65012947 1.58666296 1.52319644 1.45972992 1.3962634\n",
      " 1.33279688 1.26933037 1.20586385 1.14239733 1.07893081 1.01546429\n",
      " 0.95199777 0.88853126 0.82506474 0.76159822 0.6981317  0.63466518\n",
      " 0.57119866 0.50773215 0.44426563 0.38079911 0.31733259 0.25386607\n",
      " 0.19039955 0.12693304 0.06346652 0.        ]\n",
      "\n",
      "\n",
      "Elements where the absolute difference between the sine and cosine < 0.1: \n",
      " [0.76159822 0.82506474 3.87145761 3.93492413]\n"
     ]
    }
   ],
   "source": [
    "array=np.linspace(0, 2*np.pi, 100)\n",
    "tenth_elements=array[::10]\n",
    "reverse=array[::-1]\n",
    "print(\"The array is: \\n\", array, \"\\n\\n Extraction every 1O elements: \\n\", tenth_elements, \"\\n\\n Reverse array:\\n\", reverse)\n",
    "diff=array[abs(np.sin(array)-np.cos(array))<0.1]\n",
    "print(\"\\n\\nElements where the absolute difference between the sine and cosine < 0.1: \\n\",diff)"
   ]
  },
  {
   "cell_type": "code",
   "execution_count": 16,
   "metadata": {
    "scrolled": true
   },
   "outputs": [
    {
     "data": {
      "image/png": "[encoded data removed]",
      "text/plain": [
       "<Figure size 432x288 with 1 Axes>"
      ]
     },
     "metadata": {},
     "output_type": "display_data"
    }
   ],
   "source": [
    "#plot of sine and cosine\n",
    "import matplotlib.pyplot as plt \n",
    "%matplotlib inline \n",
    "xs = np.linspace(0, 2*np.pi, 100)\n",
    "ys = np.sin(xs)\n",
    "zs =np.cos(xs)\n",
    "plt.plot(xs, zs);\n",
    "plt.plot(xs, ys);\n",
    "plt.plot(xs, abs(ys-zs)<0.1);\n",
    "plt.plot(0.76159822, np.sin(0.76159822), 'b.');\n",
    "plt.plot(0.82506474, np.sin(0.82506474), 'r.');\n",
    "plt.plot(3.87145761, np.sin(3.87145761), 'g.');\n",
    "plt.plot(3.93492413, np.sin(3.93492413), 'y.');\n",
    "plt.plot(0.76159822, np.cos(0.76159822), 'b.');\n",
    "plt.plot(0.82506474, np.cos(0.82506474), 'r.');\n",
    "plt.plot(3.87145761, np.cos(3.87145761), 'g.');\n",
    "plt.plot(3.93492413, np.cos(3.93492413), 'y.');\n"
   ]
  },
  {
   "cell_type": "markdown",
   "metadata": {},
   "source": [
    "5\\. Create a matrix that shows the 10 by 10 multiplication table.\n",
    "\n",
    " * Find the trace of the matrix\n",
    " * Extract the anto-diagonal (this should be ```array([10, 18, 24, 28, 30, 30, 28, 24, 18, 10])```)\n",
    " * Extract the diagnoal offset by 1 upwards (this should be ```array([ 2,  6, 12, 20, 30, 42, 56, 72, 90])```)"
   ]
  },
  {
   "cell_type": "code",
   "execution_count": 102,
   "metadata": {},
   "outputs": [
    {
     "name": "stdout",
     "output_type": "stream",
     "text": [
      "10 by 10 multiplication table:\n",
      " [[  1   2   3   4   5   6   7   8   9  10]\n",
      " [  2   4   6   8  10  12  14  16  18  20]\n",
      " [  3   6   9  12  15  18  21  24  27  30]\n",
      " [  4   8  12  16  20  24  28  32  36  40]\n",
      " [  5  10  15  20  25  30  35  40  45  50]\n",
      " [  6  12  18  24  30  36  42  48  54  60]\n",
      " [  7  14  21  28  35  42  49  56  63  70]\n",
      " [  8  16  24  32  40  48  56  64  72  80]\n",
      " [  9  18  27  36  45  54  63  72  81  90]\n",
      " [ 10  20  30  40  50  60  70  80  90 100]] \n",
      "\n",
      "Trace: \n",
      " 385\n",
      "\n",
      "Anti-diagonal: \n",
      " [10 18 24 28 30 30 28 24 18 10]\n",
      "\n",
      "Offset-diagonal by 1 upwards: \n",
      " [ 2  6 12 20 30 42 56 72 90]\n"
     ]
    }
   ],
   "source": [
    "a=np.array(range(1,11))\n",
    "mul=np.outer(a,a)\n",
    "print(\"10 by 10 multiplication table:\\n\",mul,\"\\n\")\n",
    "trace=np.trace(mul)\n",
    "print(\"Trace: \\n\",trace)\n",
    "antid=np.diag(mul[::-1])\n",
    "print(\"\\nAnti-diagonal: \\n\",antid)\n",
    "\n",
    "offsetdiag=np.diag(mul,+1)\n",
    "print(\"\\nOffset-diagonal by 1 upwards: \\n\",offsetdiag)"
   ]
  },
  {
   "cell_type": "markdown",
   "metadata": {},
   "source": [
    "6\\. Use broadcasting to create a grid of distances\n",
    "\n",
    "Route 66 crosses the following cities in the US: Chicago, Springfield, Saint-Louis, Tulsa, Oklahoma City, Amarillo, Santa Fe, Albuquerque, Flagstaff, Los Angeles\n",
    "The corresponding positions in miles are: 0, 198, 303, 736, 871, 1175, 1475, 1544, 1913, 2448\n",
    "\n",
    "  * Construct a 2D grid of distances among each city along Route 66\n",
    "  * Convert that in km (those savages...)"
   ]
  },
  {
   "cell_type": "code",
   "execution_count": 139,
   "metadata": {},
   "outputs": [
    {
     "name": "stdout",
     "output_type": "stream",
     "text": [
      "Grid in miles:\n",
      "\n",
      " [[   0  198  303  736  871 1175 1475 1544 1913 2448]\n",
      " [ 198    0  105  538  673  977 1277 1346 1715 2250]\n",
      " [ 303  105    0  433  568  872 1172 1241 1610 2145]\n",
      " [ 736  538  433    0  135  439  739  808 1177 1712]\n",
      " [ 871  673  568  135    0  304  604  673 1042 1577]\n",
      " [1175  977  872  439  304    0  300  369  738 1273]\n",
      " [1475 1277 1172  739  604  300    0   69  438  973]\n",
      " [1544 1346 1241  808  673  369   69    0  369  904]\n",
      " [1913 1715 1610 1177 1042  738  438  369    0  535]\n",
      " [2448 2250 2145 1712 1577 1273  973  904  535    0]]\n",
      "\n",
      " Grid in km:\n",
      "\n",
      " [[  -0.  123.  188.  457.  541.  730.  916.  959. 1188. 1521.]\n",
      " [ 123.   -0.   65.  334.  418.  607.  793.  836. 1065. 1398.]\n",
      " [ 188.   65.   -0.  269.  353.  541.  728.  771. 1000. 1333.]\n",
      " [ 457.  334.  269.   -0.   83.  272.  459.  502.  731. 1064.]\n",
      " [ 541.  418.  353.   83.   -0.  188.  375.  418.  647.  980.]\n",
      " [ 730.  607.  541.  272.  188.   -0.  186.  229.  458.  791.]\n",
      " [ 916.  793.  728.  459.  375.  186.   -0.   42.  272.  604.]\n",
      " [ 959.  836.  771.  502.  418.  229.   42.   -0.  229.  561.]\n",
      " [1188. 1065. 1000.  731.  647.  458.  272.  229.   -0.  332.]\n",
      " [1521. 1398. 1333. 1064.  980.  791.  604.  561.  332.   -0.]]\n"
     ]
    }
   ],
   "source": [
    "cities=np.array((0, 198, 303, 736, 871, 1175, 1475, 1544, 1913, 2448))\n",
    "citiesT=cities.reshape(10,1)\n",
    "distances=abs(citiesT-cities)\n",
    "print(\"Grid in miles:\\n\\n\",distances)\n",
    "#1mile=1.609km\n",
    "print(\"\\n Grid in km:\\n\\n\",distances//1.609)"
   ]
  },
  {
   "cell_type": "markdown",
   "metadata": {},
   "source": [
    "7\\. Prime numbers sieve: compute the prime numbers in the 0-N (N=99 to start with) range with a sieve (mask).\n",
    "  * Constract a shape (100,) boolean array, the mask\n",
    "  * Identify the multiples of each number starting from 2 and set accordingly the corresponding mask element\n",
    "  * Apply the mask to obtain an array of ordered prime numbers\n",
    "  * Check the performances (timeit); how does it scale with N?\n",
    "  * Implement the optimization suggested in the [sieve of Eratosthenes](https://en.wikipedia.org/wiki/Sieve_of_Eratosthenes)"
   ]
  },
  {
   "cell_type": "code",
   "execution_count": 250,
   "metadata": {},
   "outputs": [
    {
     "name": "stdout",
     "output_type": "stream",
     "text": [
      "16 ms ± 195 µs per loop (mean ± std. dev. of 7 runs, 100 loops each)\n",
      "66.7 ms ± 252 µs per loop (mean ± std. dev. of 7 runs, 10 loops each)\n",
      "151 ms ± 344 µs per loop (mean ± std. dev. of 7 runs, 10 loops each)\n"
     ]
    }
   ],
   "source": [
    "def my_primes(N):\n",
    "    a=np.arange(N)\n",
    "    a=[[i for i in range(len(a)) if sum([a[i]%val==0 for val in range(2,a[i]-1)])==0]]\n",
    "    return a\n",
    "my_primes(99)\n",
    "% timeit my_primes(99)\n",
    "% timeit my_primes(200)\n",
    "% timeit my_primes(300)"
   ]
  },
  {
   "cell_type": "markdown",
   "metadata": {},
   "source": [
    "8\\. Diffusion using random walk\n",
    "\n",
    "Consider a simple random walk process: at each step in time, a walker jumps right or left (+1 or -1) with equal probability. The goal is to find the typical distance from the origin of a random walker after a given amount of time. \n",
    "To do that, let's simulate many walkers and create a 2D array with each walker as a raw and the actual time evolution as columns\n",
    "\n",
    "  * Take 1000 walkers and let them walk for 200 steps\n",
    "  * Use randint to create a 2D array of size walkers x steps with values -1 or 1\n",
    "  * Build the actual walking distances for each walker (i.e. another 2D array \"summing on each raw\")\n",
    "  * Take the square of that 2D array (elementwise)\n",
    "  * Compute the mean of the squared distances at each step (i.e. the mean along the columns)\n",
    "  * Plot the average distances (sqrt(distance\\*\\*2)) as a function of time (step)\n",
    "  \n",
    "Did you get what you expected?"
   ]
  },
  {
   "cell_type": "code",
   "execution_count": 78,
   "metadata": {},
   "outputs": [
    {
     "data": {
      "image/png": "[encoded data removed]",
      "text/plain": [
       "<Figure size 432x288 with 1 Axes>"
      ]
     },
     "metadata": {},
     "output_type": "display_data"
    }
   ],
   "source": [
    "walkers=np.random.randint(0,2,(1000,200))\n",
    "walkers[walkers==0]=-1\n",
    "distance=walkers.sum(axis=1)\n",
    "#print(\"The walkers' steps are:\\n\",walkers,\"\\n\\n The walked distances are:\\n\",distance)\n",
    "square_distance=np.square(distance)\n",
    "mean_steps=abs(walkers.sum(axis=0))\n",
    "#print(\"The means of the squared distances at each step are:\\n\",mean_steps)\n",
    "\n",
    "import matplotlib.pyplot as plt \n",
    "%matplotlib inline \n",
    "xs = np.linspace(0, 200, 200)\n",
    "ys = mean_steps\n",
    "plt.plot(xs, ys, 'r');\n",
    "plt.plot(xs, ys, 'b*');"
   ]
  },
  {
   "cell_type": "markdown",
   "metadata": {},
   "source": [
    "9\\. Analyze a data file \n",
    "  * Download the population of hares, lynxes and carrots at the beginning of the last century.\n",
    "    ```python\n",
    "    ! wget https://www.dropbox.com/s/3vigxoqayo389uc/populations.txt\n",
    "    ```\n",
    "\n",
    "  * Check the content by looking within the file\n",
    "  * Load the data (use an appropriate numpy method) into a 2D array\n",
    "  * Create arrays out of the columns, the arrays being (in order): *year*, *hares*, *lynxes*, *carrots* \n",
    "  * Plot the 3 populations over the years\n",
    "  * Compute the main statistical properties of the dataset (mean, std, correlations, etc.)\n",
    "  * Which species has the highest population each year?\n",
    "\n",
    "Do you feel there is some evident correlation here? [Studies](https://www.enr.gov.nt.ca/en/services/lynx/lynx-snowshoe-hare-cycle) tend to believe so."
   ]
  },
  {
   "cell_type": "code",
   "execution_count": 201,
   "metadata": {},
   "outputs": [
    {
     "name": "stdout",
     "output_type": "stream",
     "text": [
      "/bin/sh: wget: command not found\r\n"
     ]
    }
   ],
   "source": [
    "! wget https://www.dropbox.com/s/3vigxoqayo389uc/populations.txt"
   ]
  },
  {
   "cell_type": "code",
   "execution_count": null,
   "metadata": {},
   "outputs": [],
   "source": []
  }
 ],
 "metadata": {
  "kernelspec": {
   "display_name": "Python 3",
   "language": "python",
   "name": "python3"
  },
  "language_info": {
   "codemirror_mode": {
    "name": "ipython",
    "version": 3
   },
   "file_extension": ".py",
   "mimetype": "text/x-python",
   "name": "python",
   "nbconvert_exporter": "python",
   "pygments_lexer": "ipython3",
   "version": "3.6.5"
  }
 },
 "nbformat": 4,
 "nbformat_minor": 2
}
