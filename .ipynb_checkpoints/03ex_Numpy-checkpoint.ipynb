{
 "cells": [
  {
   "cell_type": "markdown",
   "metadata": {},
   "source": [
    "### Numpy basics"
   ]
  },
  {
   "cell_type": "markdown",
   "metadata": {},
   "source": [
    "1\\. Find the row, column and overall means for the following matrix:\n",
    "\n",
    "```python\n",
    "m = np.arange(12).reshape((3,4))\n",
    "```"
   ]
  },
  {
   "cell_type": "code",
   "execution_count": 2,
   "metadata": {},
   "outputs": [],
   "source": [
    "import numpy as np # importing convention"
   ]
  },
  {
   "cell_type": "code",
   "execution_count": 2,
   "metadata": {},
   "outputs": [
    {
     "name": "stdout",
     "output_type": "stream",
     "text": [
      "original m: [ 0  1  2  3  4  5  6  7  8  9 10 11]\n",
      "reshaped m: [[ 0  1  2  3]\n",
      " [ 4  5  6  7]\n",
      " [ 8  9 10 11]]\n",
      "m's rows: 3\n",
      "m's columns: 4\n",
      "m's mean: 5.5\n"
     ]
    }
   ],
   "source": [
    "m= np.arange(12)\n",
    "print('original m:', m)\n",
    "m = m.reshape((3,4))\n",
    "print ('reshaped m:',m)\n",
    "print('m\\'s rows:', m.shape[0])\n",
    "print('m\\'s columns:', m.shape[1])\n",
    "print('m\\'s mean:', np.mean(m))"
   ]
  },
  {
   "cell_type": "markdown",
   "metadata": {},
   "source": [
    "2\\. Find the outer product of the following two vecotrs\n",
    "\n",
    "```python\n",
    "u = np.array([1,3,5,7])\n",
    "v = np.array([2,4,6,8])\n",
    "```\n",
    "\n",
    "Do this in the following ways:\n",
    "\n",
    "   * Using the function outer in numpy\n",
    "   * Using a nested for loop or list comprehension\n",
    "   * Using numpy broadcasting operatoins\n"
   ]
  },
  {
   "cell_type": "code",
   "execution_count": null,
   "metadata": {},
   "outputs": [],
   "source": [
    "u = np.array([1,3,5,7])\n",
    "v = np.array([2,4,6,8])\n",
    "print('numpy\\'s function:',np.outer(u,v))\n",
    "outer_2=[u[i]*v[j] for i in range(u.size) for j in range(v.size)] #è equivalente a for i for j\n",
    "outer_2_array=np.array(outer_2).reshape(4,4)\n",
    "print(v.size)\n",
    "print('list comprehension',outer_2)\n",
    "print(outer_2_array)\n",
    "print(v.reshape((4,1)))\n",
    "outer_3=u*v.reshape(4,1) #broadcasting\n",
    "\n",
    "                  \n",
    "print('broadcasting:',outer_3)\n",
    "outer_4=u.reshape(4,1)*v\n",
    "print(outer_4)"
   ]
  },
  {
   "cell_type": "markdown",
   "metadata": {},
   "source": [
    "3\\. Create a 10 by 6 matrix of random uniform numbers. Set all rows with any entry less than 0.1 to be zero\n",
    "\n",
    "Hint: Use the following numpy functions - np.random.random, np.any as well as Boolean indexing and the axis argument."
   ]
  },
  {
   "cell_type": "code",
   "execution_count": null,
   "metadata": {},
   "outputs": [],
   "source": [
    "random_numbers= np.random.random((10,6))\n",
    "print(random_numbers)\n",
    "print(np.greater(random_numbers,0.1)) #più facile cosi, np.any non riesco a farlo andare\n",
    "random_numbers[np.less(random_numbers,0.1)]=0\n",
    "print(random_numbers)\n",
    "\n"
   ]
  },
  {
   "cell_type": "markdown",
   "metadata": {},
   "source": [
    "4\\. Use np.linspace to create an array of 100 numbers between 0 and 2π (includsive).\n",
    "\n",
    "  * Extract every 10th element using slice notation\n",
    "  * Reverse the array using slice notation\n",
    "  * Extract elements where the absolute difference between the sine and cosine functions evaluated at that element is less than 0.1\n",
    "  * Make a plot showing the sin and cos functions and indicate where they are close"
   ]
  },
  {
   "cell_type": "code",
   "execution_count": null,
   "metadata": {},
   "outputs": [],
   "source": [
    "numbers= np.linspace(0,2*np.pi, 100)\n",
    "print(numbers)\n",
    "n_sliced= numbers[::10]\n",
    "print(n_sliced)\n",
    "n_reversed= numbers[::-1]\n",
    "print(n_reversed)\n"
   ]
  },
  {
   "cell_type": "code",
   "execution_count": null,
   "metadata": {},
   "outputs": [],
   "source": [
    "import matplotlib.pyplot as plt\n",
    "idx = np.abs(np.sin(numbers)-np.cos(numbers)) < 0.1\n",
    "print(idx)\n",
    "print(numbers[idx])\n",
    "plt.scatter(numbers[idx], np.sin(numbers[idx]))\n",
    "plt.plot(numbers, np.sin(numbers), numbers, np.cos(numbers));"
   ]
  },
  {
   "cell_type": "markdown",
   "metadata": {},
   "source": [
    "5\\. Create a matrix that shows the 10 by 10 multiplication table.\n",
    "\n",
    " * Find the trace of the matrix\n",
    " * Extract the anto-diagonal (this should be ```array([10, 18, 24, 28, 30, 30, 28, 24, 18, 10])```)\n",
    " * Extract the diagnoal offset by 1 upwards (this should be ```array([ 2,  6, 12, 20, 30, 42, 56, 72, 90])```)"
   ]
  },
  {
   "cell_type": "code",
   "execution_count": null,
   "metadata": {},
   "outputs": [],
   "source": [
    "v1= np.arange(1,11)\n",
    "v2= np.arange(1,11)\n",
    "outer_product=np.outer(v1,v2)\n",
    "print(np.outer(v1,v2))\n",
    "traccia=np.trace(outer_product)\n",
    "print(traccia)\n",
    "diag1=np.diag(outer_product[::-1])\n",
    "diag2=np.diag(outer_product,1)\n",
    "print(diag2)\n",
    "print(diag1)"
   ]
  },
  {
   "cell_type": "markdown",
   "metadata": {},
   "source": [
    "6\\. Use broadcasting to create a grid of distances\n",
    "\n",
    "Route 66 crosses the following cities in the US: Chicago, Springfield, Saint-Louis, Tulsa, Oklahoma City, Amarillo, Santa Fe, Albuquerque, Flagstaff, Los Angeles\n",
    "The corresponding positions in miles are: 0, 198, 303, 736, 871, 1175, 1475, 1544, 1913, 2448\n",
    "\n",
    "  * Construct a 2D grid of distances among each city along Route 66\n",
    "  * Convert that in km (those savages...)"
   ]
  },
  {
   "cell_type": "code",
   "execution_count": null,
   "metadata": {},
   "outputs": [],
   "source": [
    "route66=np.array([0,198, 303, 736, 871,1175, 1475, 1544, 1913, 2448])\n",
    "route66_t=route66[:,np.newaxis]\n",
    "print(route66[:,np.newaxis])\n",
    "distances=route66-route66_t\n",
    "print(distances)\n",
    "km=1.6\n",
    "converted=distances/km\n",
    "print(converted)"
   ]
  },
  {
   "cell_type": "markdown",
   "metadata": {},
   "source": [
    "7\\. Prime numbers sieve: compute the prime numbers in the 0-N (N=99 to start with) range with a sieve (mask).\n",
    "  * Constract a shape (100,) boolean array, the mask\n",
    "  * Identify the multiples of each number starting from 2 and set accordingly the corresponding mask element\n",
    "  * Apply the mask to obtain an array of ordered prime numbers\n",
    "  * Check the performances (timeit); how does it scale with N?\n",
    "  * Implement the optimization suggested in the [sieve of Eratosthenes](https://en.wikipedia.org/wiki/Sieve_of_Eratosthenes)"
   ]
  },
  {
   "cell_type": "code",
   "execution_count": 11,
   "metadata": {},
   "outputs": [],
   "source": [
    "def numeriPrimi(N):\n",
    "    \n",
    "    setaccio=np.arange(0,N)\n",
    "    mask = (setaccio%2==0)\n",
    "    print(mask)\n",
    "    for i in setaccio:\n",
    "        if i:\n",
    "            \n",
    "            mask = (setaccio%i==0)\n",
    "    print(mask)\n",
    "    return setaccio[mask]\n",
    "#%timeit numeriPrimi(100)\n",
    "\n"
   ]
  },
  {
   "cell_type": "code",
   "execution_count": null,
   "metadata": {},
   "outputs": [],
   "source": [
    "def numeriPrimi_v2(N):\n",
    "    \n",
    "    setaccio=np.arange(0,N)\n",
    "    primi=[]\n",
    "    print(setaccio.shape)\n",
    "    i=2\n",
    "    while i < np.square(N):\n",
    "        if setaccio[i] > 0:\n",
    "            primi.append(i)\n",
    "            j=i**2\n",
    "            while j < N:\n",
    "                setaccio[j]= -1\n",
    "                j=j + i\n",
    "                \n",
    "    \n",
    "    return primi\n",
    "numeriPrimi_v2(10)"
   ]
  },
  {
   "cell_type": "markdown",
   "metadata": {},
   "source": [
    "8\\. Diffusion using random walk\n",
    "\n",
    "Consider a simple random walk process: at each step in time, a walker jumps right or left (+1 or -1) with equal probability. The goal is to find the typical distance from the origin of a random walker after a given amount of time. \n",
    "To do that, let's simulate many walkers and create a 2D array with each walker as a raw and the actual time evolution as columns\n",
    "\n",
    "  * Take 1000 walkers and let them walk for 200 steps\n",
    "  * Use randint to create a 2D array of size walkers x steps with values -1 or 1\n",
    "  * Build the actual walking distances for each walker (i.e. another 2D array \"summing on each raw\")\n",
    "  * Take the square of that 2D array (elementwise)\n",
    "  * Compute the mean of the squared distances at each step (i.e. the mean along the columns)\n",
    "  * Plot the average distances (sqrt(distance\\*\\*2)) as a function of time (step)\n",
    "  \n",
    "Did you get what you expected?"
   ]
  },
  {
   "cell_type": "code",
   "execution_count": 38,
   "metadata": {},
   "outputs": [
    {
     "name": "stdout",
     "output_type": "stream",
     "text": [
      "(2, 2)\n"
     ]
    },
    {
     "data": {
      "text/plain": [
       "5"
      ]
     },
     "execution_count": 38,
     "metadata": {},
     "output_type": "execute_result"
    }
   ],
   "source": [
    "prova=np.random.choice([5, 3], size=(2,2))\n",
    "print(prova.shape)\n",
    "prova[1,1]\n",
    "\n"
   ]
  },
  {
   "cell_type": "code",
   "execution_count": 61,
   "metadata": {
    "scrolled": false
   },
   "outputs": [
    {
     "name": "stdout",
     "output_type": "stream",
     "text": [
      "(1000, 200)\n",
      "(3,)\n",
      "[[0. 0. 0. ... 0. 0. 0.]\n",
      " [0. 0. 0. ... 0. 0. 0.]\n",
      " [0. 0. 0. ... 0. 0. 0.]\n",
      " ...\n",
      " [0. 0. 0. ... 0. 0. 0.]\n",
      " [0. 0. 0. ... 0. 0. 0.]\n",
      " [0. 0. 0. ... 0. 0. 0.]]\n"
     ]
    }
   ],
   "source": [
    "n_w= 1000\n",
    "n_s= 200\n",
    "r_w=np.random.choice([-1,1],size=(n_w,n_s))\n",
    "print(r_w.shape)\n",
    "val_ass=np.absolute(r_w)\n",
    "distance=np.zeros((n_w,n_s))\n",
    "print(np.sum(val_ass[0:3,0:2], axis=1).shape)\n",
    "print(distance)\n",
    "\n",
    "#for i in range(n_s):\n",
    "#    distance[0:3,i]=np.sum(val_ass[0:3,0:i], axis=1)\n"
   ]
  },
  {
   "cell_type": "markdown",
   "metadata": {},
   "source": [
    "9\\. Analyze a data file \n",
    "  * Download the population of hares, lynxes and carrots at the beginning of the last century.\n",
    "    ```python\n",
    "    ! wget https://www.dropbox.com/s/3vigxoqayo389uc/populations.txt\n",
    "    ```\n",
    "\n",
    "  * Check the content by looking within the file\n",
    "  * Load the data (use an appropriate numpy method) into a 2D array\n",
    "  * Create arrays out of the columns, the arrays being (in order): *year*, *hares*, *lynxes*, *carrots* \n",
    "  * Plot the 3 populations over the years\n",
    "  * Compute the main statistical properties of the dataset (mean, std, correlations, etc.)\n",
    "  * Which species has the highest population each year?\n",
    "\n",
    "Do you feel there is some evident correlation here? [Studies](https://www.enr.gov.nt.ca/en/services/lynx/lynx-snowshoe-hare-cycle) tend to believe so."
   ]
  },
  {
   "cell_type": "code",
   "execution_count": 5,
   "metadata": {},
   "outputs": [
    {
     "name": "stdout",
     "output_type": "stream",
     "text": [
      "(21, 4)\n"
     ]
    }
   ],
   "source": [
    "filename = 'populations.txt'\n",
    "data=np.loadtxt(filename)\n",
    "print(data.shape)\n",
    "hares=data[]"
   ]
  },
  {
   "cell_type": "code",
   "execution_count": null,
   "metadata": {},
   "outputs": [],
   "source": []
  }
 ],
 "metadata": {
  "kernelspec": {
   "display_name": "Python 3",
   "language": "python",
   "name": "python3"
  },
  "language_info": {
   "codemirror_mode": {
    "name": "ipython",
    "version": 3
   },
   "file_extension": ".py",
   "mimetype": "text/x-python",
   "name": "python",
   "nbconvert_exporter": "python",
   "pygments_lexer": "ipython3",
   "version": "3.7.0"
  }
 },
 "nbformat": 4,
 "nbformat_minor": 2
}
