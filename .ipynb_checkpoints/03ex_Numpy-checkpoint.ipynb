{
 "cells": [
  {
   "cell_type": "markdown",
   "metadata": {},
   "source": [
    "### Numpy basics"
   ]
  },
  {
   "cell_type": "markdown",
   "metadata": {},
   "source": [
    "1\\. Find the row, column and overall means for the following matrix:\n",
    "\n",
    "```python\n",
    "m = np.arange(12).reshape((3,4))\n",
    "```"
   ]
  },
  {
   "cell_type": "code",
   "execution_count": 2,
   "metadata": {},
   "outputs": [
    {
     "name": "stdout",
     "output_type": "stream",
     "text": [
      "[[ 0  1  2  3]\n",
      " [ 4  5  6  7]\n",
      " [ 8  9 10 11]]\n",
      "Mean of the rows: \n",
      "1.5\n",
      "5.5\n",
      "9.5\n",
      "Mean of the columns: \n",
      "4.0\n",
      "5.0\n",
      "6.0\n",
      "7.0\n",
      "Overall mean of the matrix: \n",
      "5.5\n"
     ]
    }
   ],
   "source": [
    "import numpy\n",
    "import numpy as np\n",
    "m = np.arange(12).reshape((3,4))\n",
    "print (m)\n",
    "print (\"Mean of the rows: \")\n",
    "for i in range(3):\n",
    "    print(m[i].mean())\n",
    "print (\"Mean of the columns: \")\n",
    "for i in range(4):\n",
    "    print(m[:,i].mean())\n",
    "print(\"Overall mean of the matrix: \")\n",
    "print(m.mean())"
   ]
  },
  {
   "cell_type": "markdown",
   "metadata": {},
   "source": [
    "2\\. Find the outer product of the following two vecotrs\n",
    "\n",
    "```python\n",
    "u = np.array([1,3,5,7])\n",
    "v = np.array([2,4,6,8])\n",
    "```\n",
    "\n",
    "Do this in the following ways:\n",
    "\n",
    "   * Using the function outer in numpy\n",
    "   * Using a nested for loop or list comprehension\n",
    "   * Using numpy broadcasting operatoins\n"
   ]
  },
  {
   "cell_type": "code",
   "execution_count": 3,
   "metadata": {},
   "outputs": [
    {
     "name": "stdout",
     "output_type": "stream",
     "text": [
      "100\n",
      "100\n"
     ]
    }
   ],
   "source": [
    "u = np.array([1,3,5,7])\n",
    "v = np.array([2,4,6,8])\n",
    "p1 = u.dot(v)\n",
    "print(p1)\n",
    "p2 = sum(u[i]*v[i] for i in range(len(u)))\n",
    "print (p2)"
   ]
  },
  {
   "cell_type": "markdown",
   "metadata": {},
   "source": [
    "3\\. Create a 10 by 6 matrix of random uniform numbers. Set all rows with any entry less than 0.1 to be zero\n",
    "\n",
    "Hint: Use the following numpy functions - np.random.random, np.any as well as Boolean indexing and the axis argument."
   ]
  },
  {
   "cell_type": "code",
   "execution_count": 4,
   "metadata": {},
   "outputs": [
    {
     "name": "stdout",
     "output_type": "stream",
     "text": [
      "uniform: \n",
      " [[0.94649501 0.99056076 0.5115068  0.31017767 0.23637631 0.33256258]\n",
      " [0.86782814 0.42195884 0.95894707 0.89500727 0.10921391 0.24761842]\n",
      " [0.88904621 0.36503243 0.08457203 0.3557959  0.20117426 0.64189225]\n",
      " [0.17594106 0.25325334 0.17076753 0.65055669 0.17337434 0.67670336]\n",
      " [0.0633855  0.26639151 0.83390487 0.95257248 0.92395251 0.66452013]\n",
      " [0.41124295 0.39737311 0.93137694 0.85818581 0.45773394 0.47099548]\n",
      " [0.88220294 0.01822612 0.78263143 0.10648663 0.97613401 0.76921441]\n",
      " [0.33219813 0.71168684 0.41082001 0.13036076 0.04705917 0.01439901]\n",
      " [0.70347353 0.46922099 0.1508618  0.84230307 0.84464593 0.15812893]\n",
      " [0.08779833 0.29668816 0.98914361 0.44213204 0.97025837 0.24287156]] \n",
      "\n",
      "uniform: \n",
      " [[0.94649501 0.99056076 0.5115068  0.31017767 0.23637631 0.33256258]\n",
      " [0.86782814 0.42195884 0.95894707 0.89500727 0.10921391 0.24761842]\n",
      " [0.         0.         0.         0.         0.         0.        ]\n",
      " [0.17594106 0.25325334 0.17076753 0.65055669 0.17337434 0.67670336]\n",
      " [0.         0.         0.         0.         0.         0.        ]\n",
      " [0.41124295 0.39737311 0.93137694 0.85818581 0.45773394 0.47099548]\n",
      " [0.         0.         0.         0.         0.         0.        ]\n",
      " [0.         0.         0.         0.         0.         0.        ]\n",
      " [0.70347353 0.46922099 0.1508618  0.84230307 0.84464593 0.15812893]\n",
      " [0.         0.         0.         0.         0.         0.        ]] \n",
      "\n"
     ]
    }
   ],
   "source": [
    "import numpy.random as npr\n",
    "matrix = npr.rand(10,6)\n",
    "print (\"uniform:\",'\\n', matrix,'\\n')\n",
    "for i in range(10):\n",
    "    if np.any(matrix[i]<0.1):\n",
    "        matrix[i]=0\n",
    "print (\"uniform:\",'\\n', matrix,'\\n')"
   ]
  },
  {
   "cell_type": "markdown",
   "metadata": {},
   "source": [
    "4\\. Use np.linspace to create an array of 100 numbers between 0 and 2π (includsive).\n",
    "\n",
    "  * Extract every 10th element using slice notation\n",
    "  * Reverse the array using slice notation\n",
    "  * Extract elements where the absolute difference between the sine and cosine functions evaluated at that element is less than 0.1\n",
    "  * Make a plot showing the sin and cos functions and indicate where they are close"
   ]
  },
  {
   "cell_type": "code",
   "execution_count": 5,
   "metadata": {},
   "outputs": [
    {
     "name": "stdout",
     "output_type": "stream",
     "text": [
      "Vector x: \n",
      " [0.         0.06346652 0.12693304 0.19039955 0.25386607 0.31733259\n",
      " 0.38079911 0.44426563 0.50773215 0.57119866 0.63466518 0.6981317\n",
      " 0.76159822 0.82506474 0.88853126 0.95199777 1.01546429 1.07893081\n",
      " 1.14239733 1.20586385 1.26933037 1.33279688 1.3962634  1.45972992\n",
      " 1.52319644 1.58666296 1.65012947 1.71359599 1.77706251 1.84052903\n",
      " 1.90399555 1.96746207 2.03092858 2.0943951  2.15786162 2.22132814\n",
      " 2.28479466 2.34826118 2.41172769 2.47519421 2.53866073 2.60212725\n",
      " 2.66559377 2.72906028 2.7925268  2.85599332 2.91945984 2.98292636\n",
      " 3.04639288 3.10985939 3.17332591 3.23679243 3.30025895 3.36372547\n",
      " 3.42719199 3.4906585  3.55412502 3.61759154 3.68105806 3.74452458\n",
      " 3.8079911  3.87145761 3.93492413 3.99839065 4.06185717 4.12532369\n",
      " 4.1887902  4.25225672 4.31572324 4.37918976 4.44265628 4.5061228\n",
      " 4.56958931 4.63305583 4.69652235 4.75998887 4.82345539 4.88692191\n",
      " 4.95038842 5.01385494 5.07732146 5.14078798 5.2042545  5.26772102\n",
      " 5.33118753 5.39465405 5.45812057 5.52158709 5.58505361 5.64852012\n",
      " 5.71198664 5.77545316 5.83891968 5.9023862  5.96585272 6.02931923\n",
      " 6.09278575 6.15625227 6.21971879 6.28318531] \n",
      "\n",
      "Elements of x that are in positions multiple of 10: \n",
      "\n",
      "0.5711986642890533\n",
      "1.1423973285781066\n",
      "1.71359599286716\n",
      "2.284794657156213\n",
      "2.8559933214452666\n",
      "3.42719198573432\n",
      "3.998390650023373\n",
      "4.569589314312426\n",
      "5.14078797860148\n",
      "5.711986642890533\n",
      "6.283185307179586\n"
     ]
    },
    {
     "data": {
      "text/plain": [
       "[<matplotlib.lines.Line2D at 0x7f016c27f710>]"
      ]
     },
     "execution_count": 5,
     "metadata": {},
     "output_type": "execute_result"
    }
   ],
   "source": [
    "import matplotlib.pyplot as plt\n",
    "x = np.linspace(0, 2*np.pi, 100)\n",
    "print (\"Vector x: \"'\\n',x,'\\n')\n",
    "\n",
    "print (\"Elements of x that are in positions multiple of 10: \"'\\n')\n",
    "for i in range(100):\n",
    "    if i%9==0 and i>0:\n",
    "        print (x[i])\n",
    "        \n",
    "c = np.cos(x)\n",
    "s = np.sin(x)   \n",
    "\n",
    "plt.plot(x,s)\n",
    "plt.plot(x,c)\n",
    "\n",
    "diff=[]\n",
    "for i in range(100):\n",
    "    if abs(c[i]-s[i])<0.1:\n",
    "        diff.append(i)\n",
    "plt.plot(x[diff],c[diff],'*')"
   ]
  },
  {
   "cell_type": "markdown",
   "metadata": {},
   "source": [
    "5\\. Create a matrix that shows the 10 by 10 multiplication table.\n",
    "\n",
    " * Find the trace of the matrix\n",
    " * Extract the anto-diagonal (this should be ```array([10, 18, 24, 28, 30, 30, 28, 24, 18, 10])```)\n",
    " * Extract the diagnoal offset by 1 upwards (this should be ```array([ 2,  6, 12, 20, 30, 42, 56, 72, 90])```)"
   ]
  },
  {
   "cell_type": "code",
   "execution_count": 6,
   "metadata": {},
   "outputs": [
    {
     "name": "stdout",
     "output_type": "stream",
     "text": [
      "\n",
      "Matrix:  \n",
      " [[  1.   2.   3.   4.   5.   6.   7.   8.   9.  10.]\n",
      " [  2.   4.   6.   8.  10.  12.  14.  16.  18.  20.]\n",
      " [  3.   6.   9.  12.  15.  18.  21.  24.  27.  30.]\n",
      " [  4.   8.  12.  16.  20.  24.  28.  32.  36.  40.]\n",
      " [  5.  10.  15.  20.  25.  30.  35.  40.  45.  50.]\n",
      " [  6.  12.  18.  24.  30.  36.  42.  48.  54.  60.]\n",
      " [  7.  14.  21.  28.  35.  42.  49.  56.  63.  70.]\n",
      " [  8.  16.  24.  32.  40.  48.  56.  64.  72.  80.]\n",
      " [  9.  18.  27.  36.  45.  54.  63.  72.  81.  90.]\n",
      " [ 10.  20.  30.  40.  50.  60.  70.  80.  90. 100.]]\n",
      "\n",
      " Trace of the matrix:  \n",
      " 385.0\n",
      "\n",
      " Anto-diagonal:  \n",
      " [10. 18. 24. 28. 30. 30. 28. 24. 18. 10.]\n",
      "\n",
      " Diagonal offset by 1 upwards: \n",
      " [ 2.  6. 12. 20. 30. 42. 56. 72. 90.]\n"
     ]
    }
   ],
   "source": [
    "ones = np.linspace(1,10,10)\n",
    "ones = ones.T\n",
    "M = np.zeros((10,10))\n",
    "for i in range(10):\n",
    "    for j in range(10):\n",
    "        M[i,j]=(i+1)*(j+1)\n",
    "print ('\\n'\"Matrix: \",'\\n',M)\n",
    "print ('\\n',\"Trace of the matrix: \",'\\n',M.trace())\n",
    "print ('\\n',\"Anto-diagonal: \",'\\n',numpy.diagonal(np.fliplr(M)))\n",
    "print('\\n',\"Diagonal offset by 1 upwards: \" '\\n',numpy.diagonal(M,1))"
   ]
  },
  {
   "cell_type": "markdown",
   "metadata": {},
   "source": [
    "6\\. Use broadcasting to create a grid of distances\n",
    "\n",
    "Route 66 crosses the following cities in the US: Chicago, Springfield, Saint-Louis, Tulsa, Oklahoma City, Amarillo, Santa Fe, Albuquerque, Flagstaff, Los Angeles\n",
    "The corresponding positions in miles are: 0, 198, 303, 736, 871, 1175, 1475, 1544, 1913, 2448\n",
    "\n",
    "  * Construct a 2D grid of distances among each city along Route 66\n",
    "  * Convert that in km (those savages...)"
   ]
  },
  {
   "cell_type": "code",
   "execution_count": 7,
   "metadata": {},
   "outputs": [
    {
     "name": "stdout",
     "output_type": "stream",
     "text": [
      "[[   0.   316.8  484.8 1177.6 1393.6 1880.  2360.  2470.4 3060.8 3916.8]\n",
      " [ 316.8    0.   168.   860.8 1076.8 1563.2 2043.2 2153.6 2744.  3600. ]\n",
      " [ 484.8  168.     0.   692.8  908.8 1395.2 1875.2 1985.6 2576.  3432. ]\n",
      " [1177.6  860.8  692.8    0.   216.   702.4 1182.4 1292.8 1883.2 2739.2]\n",
      " [1393.6 1076.8  908.8  216.     0.   486.4  966.4 1076.8 1667.2 2523.2]\n",
      " [1880.  1563.2 1395.2  702.4  486.4    0.   480.   590.4 1180.8 2036.8]\n",
      " [2360.  2043.2 1875.2 1182.4  966.4  480.     0.   110.4  700.8 1556.8]\n",
      " [2470.4 2153.6 1985.6 1292.8 1076.8  590.4  110.4    0.   590.4 1446.4]\n",
      " [3060.8 2744.  2576.  1883.2 1667.2 1180.8  700.8  590.4    0.   856. ]\n",
      " [3916.8 3600.  3432.  2739.2 2523.2 2036.8 1556.8 1446.4  856.     0. ]]\n"
     ]
    }
   ],
   "source": [
    "distances = [0,198,303,736,871,1175,1475,1544,1913,2448]\n",
    "dist = np.zeros((10,10))\n",
    "for i in range(10):\n",
    "    for j in range(10):\n",
    "        dist[i,j]=abs(distances[j]-distances[i])\n",
    "dist = dist*1.6\n",
    "print (dist)"
   ]
  },
  {
   "cell_type": "markdown",
   "metadata": {},
   "source": [
    "7\\. Prime numbers sieve: compute the prime numbers in the 0-N (N=99 to start with) range with a sieve (mask).\n",
    "  * Constract a shape (100,) boolean array, the mask\n",
    "  * Identify the multiples of each number starting from 2 and set accordingly the corresponding mask element\n",
    "  * Apply the mask to obtain an array of ordered prime numbers\n",
    "  * Check the performances (timeit); how does it scale with N?\n",
    "  * Implement the optimization suggested in the [sieve of Eratosthenes](https://en.wikipedia.org/wiki/Sieve_of_Eratosthenes)"
   ]
  },
  {
   "cell_type": "code",
   "execution_count": 8,
   "metadata": {},
   "outputs": [
    {
     "name": "stdout",
     "output_type": "stream",
     "text": [
      "[ 0  1  2  3  4  5  6  7  8  9 10 11 12 13 14 15 16 17 18 19 20 21 22 23\n",
      " 24 25 26 27 28 29 30 31 32 33 34 35 36 37 38 39 40 41 42 43 44 45 46 47\n",
      " 48 49 50 51 52 53 54 55 56 57 58 59 60 61 62 63 64 65 66 67 68 69 70 71\n",
      " 72 73 74 75 76 77 78 79 80 81 82 83 84 85 86 87 88 89 90 91 92 93 94 95\n",
      " 96 97 98 99]\n",
      "[ 0  1  2  3  5  7 11 13 17 19 23 29 31 37 41 43 47 53 59 61 67 71 73 79\n",
      " 83 89 97]\n"
     ]
    }
   ],
   "source": [
    "n = np.arange(0,100,1)\n",
    "print (n)\n",
    "mask = np.ones(100, dtype=bool)\n",
    "\n",
    "for i in range(1,100):\n",
    "    for j in range (1,100):\n",
    "        if n[i]%j==0 and n[i]!=j and j!=1:\n",
    "            mask[i] = False\n",
    "print (n[mask])"
   ]
  },
  {
   "cell_type": "markdown",
   "metadata": {},
   "source": [
    "8\\. Diffusion using random walk\n",
    "\n",
    "Consider a simple random walk process: at each step in time, a walker jumps right or left (+1 or -1) with equal probability. The goal is to find the typical distance from the origin of a random walker after a given amount of time. \n",
    "To do that, let's simulate many walkers and create a 2D array with each walker as a raw and the actual time evolution as columns\n",
    "\n",
    "  * Take 1000 walkers and let them walk for 200 steps\n",
    "  * Use randint to create a 2D array of size walkers x steps with values -1 or 1\n",
    "  * Build the actual walking distances for each walker (i.e. another 2D array \"summing on each raw\")\n",
    "  * Take the square of that 2D array (elementwise)\n",
    "  * Compute the mean of the squared distances at each step (i.e. the mean along the columns)\n",
    "  * Plot the average distances (sqrt(distance\\*\\*2)) as a function of time (step)\n",
    "  \n",
    "Did you get what you expected?"
   ]
  },
  {
   "cell_type": "code",
   "execution_count": 9,
   "metadata": {},
   "outputs": [
    {
     "name": "stdout",
     "output_type": "stream",
     "text": [
      "[[ 1.  1.  1. ...  1.  1. -1.]\n",
      " [ 1.  1. -1. ...  1. -1. -1.]\n",
      " [ 1. -1. -1. ... -1.  1. -1.]\n",
      " ...\n",
      " [-1.  1.  1. ... -1.  1.  1.]\n",
      " [-1.  1. -1. ...  1.  1.  1.]\n",
      " [-1.  1.  1. ... -1. -1.  1.]] \n",
      "\n"
     ]
    },
    {
     "data": {
      "text/plain": [
       "[<matplotlib.lines.Line2D at 0x7f016c075128>]"
      ]
     },
     "execution_count": 9,
     "metadata": {},
     "output_type": "execute_result"
    },
    {
     "data": {
      "image/png": "[encoded data removed]",
      "text/plain": [
       "<Figure size 432x288 with 1 Axes>"
      ]
     },
     "metadata": {
      "needs_background": "light"
     },
     "output_type": "display_data"
    }
   ],
   "source": [
    "import random\n",
    "time_steps = 20000\n",
    "movements = np.zeros((1000,time_steps))\n",
    "for i in range(1000):\n",
    "    for j in range(time_steps):\n",
    "        x = random.randint(1,2)\n",
    "        if x==1:\n",
    "            movements[i,j]=-1\n",
    "        else:\n",
    "            movements[i,j]=1\n",
    "print (movements,'\\n')\n",
    "\n",
    "actual = movements\n",
    "actual = actual.cumsum(axis=1)\n",
    "actual = np.square(actual)\n",
    "mean_distances_per_timestep = np.zeros(time_steps)\n",
    "for i in range(time_steps):\n",
    "    mean_distances_per_timestep[i] =  actual[:,i].mean()\n",
    "mean_distances_per_timestep = np.sqrt(mean_distances_per_timestep)\n",
    "plt.plot(mean_distances_per_timestep)"
   ]
  },
  {
   "cell_type": "markdown",
   "metadata": {},
   "source": [
    "9\\. Analyze a data file \n",
    "  * Download the population of hares, lynxes and carrots at the beginning of the last century.\n",
    "    ```python\n",
    "    ! wget https://www.dropbox.com/s/3vigxoqayo389uc/populations.txt\n",
    "    ```\n",
    "\n",
    "  * Check the content by looking within the file\n",
    "  * Load the data (use an appropriate numpy method) into a 2D array\n",
    "  * Create arrays out of the columns, the arrays being (in order): *year*, *hares*, *lynxes*, *carrots* \n",
    "  * Plot the 3 populations over the years\n",
    "  * Compute the main statistical properties of the dataset (mean, std, correlations, etc.)\n",
    "  * Which species has the highest population each year?\n",
    "\n",
    "Do you feel there is some evident correlation here? [Studies](https://www.enr.gov.nt.ca/en/services/lynx/lynx-snowshoe-hare-cycle) tend to believe so."
   ]
  },
  {
   "cell_type": "code",
   "execution_count": 60,
   "metadata": {},
   "outputs": [
    {
     "name": "stdout",
     "output_type": "stream",
     "text": [
      "\n",
      " Min of the population:  7600.0\n",
      "max: 77400.0\n",
      "Year of the minimum of the population:  17\n",
      "Year of the maximum of the hares population:  3\n",
      "Mean of the hares population: 34080.95238095238\n",
      "Median of the hares population: 25400.0\n",
      "Standard deviation of the hares population: \n",
      " 20897.906458089667\n",
      "\n",
      " Min of the population:  4000.0\n",
      "max: 59400.0\n",
      "Year of the minimum of the population:  0\n",
      "Year of the maximum of the hares population:  4\n",
      "Mean of the hares population: 20166.666666666668\n",
      "Median of the hares population: 12300.0\n",
      "Standard deviation of the hares population: \n",
      " 16254.591536908763\n",
      "\n",
      " Min of the population:  36700.0\n",
      "max: 48300.0\n",
      "Year of the minimum of the population:  16\n",
      "Year of the maximum of the hares population:  0\n",
      "Mean of the hares population: 42400.0\n",
      "Median of the hares population: 41800.0\n",
      "Standard deviation of the hares population: \n",
      " 3322.5062255844787\n"
     ]
    },
    {
     "data": {
      "text/plain": [
       "<matplotlib.legend.Legend at 0x7f014a82eac8>"
      ]
     },
     "execution_count": 60,
     "metadata": {},
     "output_type": "execute_result"
    },
    {
     "data": {
      "image/png": "[encoded data removed]",
      "text/plain": [
       "<Figure size 432x288 with 1 Axes>"
      ]
     },
     "metadata": {
      "needs_background": "light"
     },
     "output_type": "display_data"
    }
   ],
   "source": [
    "data = numpy.genfromtxt('populations.txt',skip_header=0)\n",
    "\n",
    "years = data[:,0]\n",
    "hares = data[:,1]\n",
    "lynxes = data[:,2]\n",
    "carrots = data[:,3]\n",
    "\n",
    "populations = [hares, lynxes, carrots]\n",
    "\n",
    "for i in populations:\n",
    "    print ('\\n',\"Min of the population: \", i.min())\n",
    "    print (\"max:\", i.max())\n",
    "    print (\"Year of the minimum of the population: \", i.argmin())\n",
    "    print (\"Year of the maximum of the hares population: \", i.argmax())\n",
    "    print (\"Mean of the hares population:\", i.mean())\n",
    "    print (\"Median of the hares population:\", np.median(i)) \n",
    "    print (\"Standard deviation of the hares population:\",'\\n', i.std())\n",
    "\n",
    "plt.plot(years,hares)\n",
    "plt.plot(years,lynxes)\n",
    "plt.plot(years,carrots)\n",
    "plt.legend(['Hares','Lynxes','Carrots'])"
   ]
  },
  {
   "cell_type": "code",
   "execution_count": 57,
   "metadata": {},
   "outputs": [
    {
     "name": "stdout",
     "output_type": "stream",
     "text": [
      "None\n"
     ]
    }
   ],
   "source": [
    "print (hares.dtype.names)"
   ]
  },
  {
   "cell_type": "code",
   "execution_count": null,
   "metadata": {},
   "outputs": [],
   "source": [
    "#It can be seen that when the lynxes population grows, the hares population decreases, for the basic \n",
    "#relation prey-predator"
   ]
  }
 ],
 "metadata": {
  "kernelspec": {
   "display_name": "Python 3",
   "language": "python",
   "name": "python3"
  },
  "language_info": {
   "codemirror_mode": {
    "name": "ipython",
    "version": 3
   },
   "file_extension": ".py",
   "mimetype": "text/x-python",
   "name": "python",
   "nbconvert_exporter": "python",
   "pygments_lexer": "ipython3",
   "version": "3.6.8"
  }
 },
 "nbformat": 4,
 "nbformat_minor": 2
}
