{
 "cells": [
  {
   "cell_type": "markdown",
   "metadata": {},
   "source": [
    "### Numpy basics"
   ]
  },
  {
   "cell_type": "markdown",
   "metadata": {},
   "source": [
    "1\\. Find the row, column and overall means for the following matrix:\n",
    "\n",
    "```python\n",
    "m = np.arange(12).reshape((3,4))\n",
    "```"
   ]
  },
  {
   "cell_type": "code",
   "execution_count": 1,
   "metadata": {},
   "outputs": [],
   "source": [
    "import numpy as np # importing convention"
   ]
  },
  {
   "cell_type": "code",
   "execution_count": 2,
   "metadata": {},
   "outputs": [
    {
     "name": "stdout",
     "output_type": "stream",
     "text": [
      "original m: [ 0  1  2  3  4  5  6  7  8  9 10 11]\n",
      "reshaped m: [[ 0  1  2  3]\n",
      " [ 4  5  6  7]\n",
      " [ 8  9 10 11]]\n",
      "m's rows: 3\n",
      "m's columns: 4\n",
      "m's mean: 5.5\n"
     ]
    }
   ],
   "source": [
    "m= np.arange(12)\n",
    "print('original m:', m)\n",
    "m = m.reshape((3,4))\n",
    "print ('reshaped m:',m)\n",
    "print('m\\'s rows:', m.shape[0])\n",
    "print('m\\'s columns:', m.shape[1])\n",
    "print('m\\'s mean:', np.mean(m))"
   ]
  },
  {
   "cell_type": "markdown",
   "metadata": {},
   "source": [
    "2\\. Find the outer product of the following two vecotrs\n",
    "\n",
    "```python\n",
    "u = np.array([1,3,5,7])\n",
    "v = np.array([2,4,6,8])\n",
    "```\n",
    "\n",
    "Do this in the following ways:\n",
    "\n",
    "   * Using the function outer in numpy\n",
    "   * Using a nested for loop or list comprehension\n",
    "   * Using numpy broadcasting operatoins\n"
   ]
  },
  {
   "cell_type": "code",
   "execution_count": 3,
   "metadata": {},
   "outputs": [
    {
     "name": "stdout",
     "output_type": "stream",
     "text": [
      "numpy's function: [[ 2  4  6  8]\n",
      " [ 6 12 18 24]\n",
      " [10 20 30 40]\n",
      " [14 28 42 56]]\n",
      "4\n",
      "list comprehension [2, 4, 6, 8, 6, 12, 18, 24, 10, 20, 30, 40, 14, 28, 42, 56]\n",
      "[[ 2  4  6  8]\n",
      " [ 6 12 18 24]\n",
      " [10 20 30 40]\n",
      " [14 28 42 56]]\n",
      "[[2]\n",
      " [4]\n",
      " [6]\n",
      " [8]]\n",
      "broadcasting: [[ 2  6 10 14]\n",
      " [ 4 12 20 28]\n",
      " [ 6 18 30 42]\n",
      " [ 8 24 40 56]]\n",
      "[[ 2  4  6  8]\n",
      " [ 6 12 18 24]\n",
      " [10 20 30 40]\n",
      " [14 28 42 56]]\n"
     ]
    }
   ],
   "source": [
    "u = np.array([1,3,5,7])\n",
    "v = np.array([2,4,6,8])\n",
    "print('numpy\\'s function:',np.outer(u,v))\n",
    "outer_2=[u[i]*v[j] for i in range(u.size) for j in range(v.size)] #è equivalente a for i for j\n",
    "outer_2_array=np.array(outer_2).reshape(4,4)\n",
    "print(v.size)\n",
    "print('list comprehension',outer_2)\n",
    "print(outer_2_array)\n",
    "print(v.reshape((4,1)))\n",
    "outer_3=u*v.reshape(4,1) #broadcasting\n",
    "\n",
    "                  \n",
    "print('broadcasting:',outer_3)\n",
    "outer_4=u.reshape(4,1)*v\n",
    "print(outer_4)"
   ]
  },
  {
   "cell_type": "markdown",
   "metadata": {},
   "source": [
    "3\\. Create a 10 by 6 matrix of random uniform numbers. Set all rows with any entry less than 0.1 to be zero\n",
    "\n",
    "Hint: Use the following numpy functions - np.random.random, np.any as well as Boolean indexing and the axis argument."
   ]
  },
  {
   "cell_type": "code",
   "execution_count": 4,
   "metadata": {},
   "outputs": [
    {
     "name": "stdout",
     "output_type": "stream",
     "text": [
      "[[0.95725378 0.11140281 0.51550165 0.99081457 0.5523395  0.26049201]\n",
      " [0.36088867 0.19679674 0.89232772 0.75337534 0.12717714 0.13262411]\n",
      " [0.26115422 0.22976986 0.90001375 0.03239998 0.34770459 0.29858619]\n",
      " [0.15742142 0.42866328 0.46172729 0.2560618  0.03697976 0.07810986]\n",
      " [0.82453756 0.77977569 0.40515645 0.69624642 0.9102633  0.53418839]\n",
      " [0.23595775 0.10437694 0.43010051 0.71750869 0.22270336 0.12584512]\n",
      " [0.62031479 0.89749157 0.72431704 0.74973498 0.55666611 0.4643854 ]\n",
      " [0.08540589 0.79400823 0.71837866 0.61249089 0.21416497 0.96383302]\n",
      " [0.17124285 0.48602837 0.87288619 0.42631257 0.51465318 0.2071536 ]\n",
      " [0.27339999 0.99199212 0.44146887 0.35185284 0.67917496 0.27257924]]\n",
      "[[ True  True  True  True  True  True]\n",
      " [ True  True  True  True  True  True]\n",
      " [ True  True  True False  True  True]\n",
      " [ True  True  True  True False False]\n",
      " [ True  True  True  True  True  True]\n",
      " [ True  True  True  True  True  True]\n",
      " [ True  True  True  True  True  True]\n",
      " [False  True  True  True  True  True]\n",
      " [ True  True  True  True  True  True]\n",
      " [ True  True  True  True  True  True]]\n",
      "[[0.95725378 0.11140281 0.51550165 0.99081457 0.5523395  0.26049201]\n",
      " [0.36088867 0.19679674 0.89232772 0.75337534 0.12717714 0.13262411]\n",
      " [0.26115422 0.22976986 0.90001375 0.         0.34770459 0.29858619]\n",
      " [0.15742142 0.42866328 0.46172729 0.2560618  0.         0.        ]\n",
      " [0.82453756 0.77977569 0.40515645 0.69624642 0.9102633  0.53418839]\n",
      " [0.23595775 0.10437694 0.43010051 0.71750869 0.22270336 0.12584512]\n",
      " [0.62031479 0.89749157 0.72431704 0.74973498 0.55666611 0.4643854 ]\n",
      " [0.         0.79400823 0.71837866 0.61249089 0.21416497 0.96383302]\n",
      " [0.17124285 0.48602837 0.87288619 0.42631257 0.51465318 0.2071536 ]\n",
      " [0.27339999 0.99199212 0.44146887 0.35185284 0.67917496 0.27257924]]\n",
      "[[0.95725378 0.11140281 0.51550165 0.99081457 0.5523395  0.26049201]\n",
      " [0.36088867 0.19679674 0.89232772 0.75337534 0.12717714 0.13262411]\n",
      " [0.         0.         0.         0.         0.         0.        ]\n",
      " [0.         0.         0.         0.         0.         0.        ]\n",
      " [0.82453756 0.77977569 0.40515645 0.69624642 0.9102633  0.53418839]\n",
      " [0.23595775 0.10437694 0.43010051 0.71750869 0.22270336 0.12584512]\n",
      " [0.62031479 0.89749157 0.72431704 0.74973498 0.55666611 0.4643854 ]\n",
      " [0.         0.         0.         0.         0.         0.        ]\n",
      " [0.17124285 0.48602837 0.87288619 0.42631257 0.51465318 0.2071536 ]\n",
      " [0.27339999 0.99199212 0.44146887 0.35185284 0.67917496 0.27257924]]\n"
     ]
    }
   ],
   "source": [
    "random_numbers= np.random.random((10,6))\n",
    "print(random_numbers)\n",
    "print(np.greater(random_numbers,0.1)) \n",
    "random_numbers[np.less(random_numbers,0.1)]=0 #solo elementi <0.1 set to zero\n",
    "print(random_numbers)\n",
    "for i in range(10):\n",
    "    if((random_numbers<0.1)[i].any()): \n",
    "        random_numbers[i]=0 #tutti elementi alla riga i set to 0\n",
    "print(random_numbers)\n",
    "\n"
   ]
  },
  {
   "cell_type": "markdown",
   "metadata": {},
   "source": [
    "4\\. Use np.linspace to create an array of 100 numbers between 0 and 2π (includsive).\n",
    "\n",
    "  * Extract every 10th element using slice notation\n",
    "  * Reverse the array using slice notation\n",
    "  * Extract elements where the absolute difference between the sine and cosine functions evaluated at that element is less than 0.1\n",
    "  * Make a plot showing the sin and cos functions and indicate where they are close"
   ]
  },
  {
   "cell_type": "code",
   "execution_count": 5,
   "metadata": {},
   "outputs": [
    {
     "name": "stdout",
     "output_type": "stream",
     "text": [
      "[0.         0.06346652 0.12693304 0.19039955 0.25386607 0.31733259\n",
      " 0.38079911 0.44426563 0.50773215 0.57119866 0.63466518 0.6981317\n",
      " 0.76159822 0.82506474 0.88853126 0.95199777 1.01546429 1.07893081\n",
      " 1.14239733 1.20586385 1.26933037 1.33279688 1.3962634  1.45972992\n",
      " 1.52319644 1.58666296 1.65012947 1.71359599 1.77706251 1.84052903\n",
      " 1.90399555 1.96746207 2.03092858 2.0943951  2.15786162 2.22132814\n",
      " 2.28479466 2.34826118 2.41172769 2.47519421 2.53866073 2.60212725\n",
      " 2.66559377 2.72906028 2.7925268  2.85599332 2.91945984 2.98292636\n",
      " 3.04639288 3.10985939 3.17332591 3.23679243 3.30025895 3.36372547\n",
      " 3.42719199 3.4906585  3.55412502 3.61759154 3.68105806 3.74452458\n",
      " 3.8079911  3.87145761 3.93492413 3.99839065 4.06185717 4.12532369\n",
      " 4.1887902  4.25225672 4.31572324 4.37918976 4.44265628 4.5061228\n",
      " 4.56958931 4.63305583 4.69652235 4.75998887 4.82345539 4.88692191\n",
      " 4.95038842 5.01385494 5.07732146 5.14078798 5.2042545  5.26772102\n",
      " 5.33118753 5.39465405 5.45812057 5.52158709 5.58505361 5.64852012\n",
      " 5.71198664 5.77545316 5.83891968 5.9023862  5.96585272 6.02931923\n",
      " 6.09278575 6.15625227 6.21971879 6.28318531]\n",
      "[0.         0.63466518 1.26933037 1.90399555 2.53866073 3.17332591\n",
      " 3.8079911  4.44265628 5.07732146 5.71198664]\n",
      "[6.28318531 6.21971879 6.15625227 6.09278575 6.02931923 5.96585272\n",
      " 5.9023862  5.83891968 5.77545316 5.71198664 5.64852012 5.58505361\n",
      " 5.52158709 5.45812057 5.39465405 5.33118753 5.26772102 5.2042545\n",
      " 5.14078798 5.07732146 5.01385494 4.95038842 4.88692191 4.82345539\n",
      " 4.75998887 4.69652235 4.63305583 4.56958931 4.5061228  4.44265628\n",
      " 4.37918976 4.31572324 4.25225672 4.1887902  4.12532369 4.06185717\n",
      " 3.99839065 3.93492413 3.87145761 3.8079911  3.74452458 3.68105806\n",
      " 3.61759154 3.55412502 3.4906585  3.42719199 3.36372547 3.30025895\n",
      " 3.23679243 3.17332591 3.10985939 3.04639288 2.98292636 2.91945984\n",
      " 2.85599332 2.7925268  2.72906028 2.66559377 2.60212725 2.53866073\n",
      " 2.47519421 2.41172769 2.34826118 2.28479466 2.22132814 2.15786162\n",
      " 2.0943951  2.03092858 1.96746207 1.90399555 1.84052903 1.77706251\n",
      " 1.71359599 1.65012947 1.58666296 1.52319644 1.45972992 1.3962634\n",
      " 1.33279688 1.26933037 1.20586385 1.14239733 1.07893081 1.01546429\n",
      " 0.95199777 0.88853126 0.82506474 0.76159822 0.6981317  0.63466518\n",
      " 0.57119866 0.50773215 0.44426563 0.38079911 0.31733259 0.25386607\n",
      " 0.19039955 0.12693304 0.06346652 0.        ]\n"
     ]
    }
   ],
   "source": [
    "numbers= np.linspace(0,2*np.pi, 100)\n",
    "print(numbers)\n",
    "n_sliced= numbers[::10]\n",
    "print(n_sliced)\n",
    "n_reversed= numbers[::-1]\n",
    "print(n_reversed)\n"
   ]
  },
  {
   "cell_type": "code",
   "execution_count": 6,
   "metadata": {},
   "outputs": [],
   "source": [
    "import matplotlib.pyplot as plt\n",
    "idx = np.abs(np.sin(numbers)-np.cos(numbers)) < 0.1\n",
    "#print(idx)\n",
    "#print(numbers[idx])\n",
    "plt.scatter(numbers[idx], np.sin(numbers[idx]))\n",
    "plt.plot(numbers, np.sin(numbers), numbers, np.cos(numbers));"
   ]
  },
  {
   "cell_type": "code",
   "execution_count": 7,
   "metadata": {},
   "outputs": [
    {
     "name": "stdout",
     "output_type": "stream",
     "text": [
      "[False False False False False False False False False False False False\n",
      "  True  True False False False False False False False False False False\n",
      " False False False False False False False False False False False False\n",
      " False False False False False False False False False False False False\n",
      " False False False False False False False False False False False False\n",
      " False  True  True False False False False False False False False False\n",
      " False False False False False False False False False False False False\n",
      " False False False False False False False False False False False False\n",
      " False False False False]\n",
      "[0.76159822 0.82506474 3.87145761 3.93492413]\n"
     ]
    }
   ],
   "source": [
    "print(idx)\n",
    "print(numbers[idx])"
   ]
  },
  {
   "cell_type": "markdown",
   "metadata": {},
   "source": [
    "5\\. Create a matrix that shows the 10 by 10 multiplication table.\n",
    "\n",
    " * Find the trace of the matrix\n",
    " * Extract the anto-diagonal (this should be ```array([10, 18, 24, 28, 30, 30, 28, 24, 18, 10])```)\n",
    " * Extract the diagnoal offset by 1 upwards (this should be ```array([ 2,  6, 12, 20, 30, 42, 56, 72, 90])```)"
   ]
  },
  {
   "cell_type": "code",
   "execution_count": 8,
   "metadata": {},
   "outputs": [
    {
     "name": "stdout",
     "output_type": "stream",
     "text": [
      "[[  1   2   3   4   5   6   7   8   9  10]\n",
      " [  2   4   6   8  10  12  14  16  18  20]\n",
      " [  3   6   9  12  15  18  21  24  27  30]\n",
      " [  4   8  12  16  20  24  28  32  36  40]\n",
      " [  5  10  15  20  25  30  35  40  45  50]\n",
      " [  6  12  18  24  30  36  42  48  54  60]\n",
      " [  7  14  21  28  35  42  49  56  63  70]\n",
      " [  8  16  24  32  40  48  56  64  72  80]\n",
      " [  9  18  27  36  45  54  63  72  81  90]\n",
      " [ 10  20  30  40  50  60  70  80  90 100]]\n",
      "385\n",
      "[ 2  6 12 20 30 42 56 72 90]\n",
      "[10 18 24 28 30 30 28 24 18 10]\n"
     ]
    }
   ],
   "source": [
    "v1= np.arange(1,11)\n",
    "v2= np.arange(1,11)\n",
    "outer_product=np.outer(v1,v2)\n",
    "print(np.outer(v1,v2))\n",
    "traccia=np.trace(outer_product)\n",
    "print(traccia)\n",
    "diag1=np.diag(outer_product[::-1])\n",
    "diag2=np.diag(outer_product,1)\n",
    "print(diag2)\n",
    "print(diag1)"
   ]
  },
  {
   "cell_type": "markdown",
   "metadata": {},
   "source": [
    "6\\. Use broadcasting to create a grid of distances\n",
    "\n",
    "Route 66 crosses the following cities in the US: Chicago, Springfield, Saint-Louis, Tulsa, Oklahoma City, Amarillo, Santa Fe, Albuquerque, Flagstaff, Los Angeles\n",
    "The corresponding positions in miles are: 0, 198, 303, 736, 871, 1175, 1475, 1544, 1913, 2448\n",
    "\n",
    "  * Construct a 2D grid of distances among each city along Route 66\n",
    "  * Convert that in km (those savages...)"
   ]
  },
  {
   "cell_type": "code",
   "execution_count": 9,
   "metadata": {},
   "outputs": [
    {
     "name": "stdout",
     "output_type": "stream",
     "text": [
      "[   0  198  303  736  871 1175 1475 1544 1913 2448]\n",
      "[[    0   198   303   736   871  1175  1475  1544  1913  2448]\n",
      " [ -198     0   105   538   673   977  1277  1346  1715  2250]\n",
      " [ -303  -105     0   433   568   872  1172  1241  1610  2145]\n",
      " [ -736  -538  -433     0   135   439   739   808  1177  1712]\n",
      " [ -871  -673  -568  -135     0   304   604   673  1042  1577]\n",
      " [-1175  -977  -872  -439  -304     0   300   369   738  1273]\n",
      " [-1475 -1277 -1172  -739  -604  -300     0    69   438   973]\n",
      " [-1544 -1346 -1241  -808  -673  -369   -69     0   369   904]\n",
      " [-1913 -1715 -1610 -1177 -1042  -738  -438  -369     0   535]\n",
      " [-2448 -2250 -2145 -1712 -1577 -1273  -973  -904  -535     0]]\n",
      "[[    0.      123.75    189.375   460.      544.375   734.375   921.875\n",
      "    965.     1195.625  1530.   ]\n",
      " [ -123.75      0.       65.625   336.25    420.625   610.625   798.125\n",
      "    841.25   1071.875  1406.25 ]\n",
      " [ -189.375   -65.625     0.      270.625   355.      545.      732.5\n",
      "    775.625  1006.25   1340.625]\n",
      " [ -460.     -336.25   -270.625     0.       84.375   274.375   461.875\n",
      "    505.      735.625  1070.   ]\n",
      " [ -544.375  -420.625  -355.      -84.375     0.      190.      377.5\n",
      "    420.625   651.25    985.625]\n",
      " [ -734.375  -610.625  -545.     -274.375  -190.        0.      187.5\n",
      "    230.625   461.25    795.625]\n",
      " [ -921.875  -798.125  -732.5    -461.875  -377.5    -187.5       0.\n",
      "     43.125   273.75    608.125]\n",
      " [ -965.     -841.25   -775.625  -505.     -420.625  -230.625   -43.125\n",
      "      0.      230.625   565.   ]\n",
      " [-1195.625 -1071.875 -1006.25   -735.625  -651.25   -461.25   -273.75\n",
      "   -230.625     0.      334.375]\n",
      " [-1530.    -1406.25  -1340.625 -1070.     -985.625  -795.625  -608.125\n",
      "   -565.     -334.375     0.   ]]\n"
     ]
    }
   ],
   "source": [
    "route66=np.array([0,198, 303, 736, 871,1175, 1475, 1544, 1913, 2448])\n",
    "print(route66)\n",
    "#route66_t=route66[:,np.newaxis]\n",
    "#print(route66_t.shape)\n",
    "#print(route66[:,np.newaxis])\n",
    "distances=route66-route66.reshape(10,1)\n",
    "print(distances)\n",
    "km=1.6\n",
    "converted=distances/km\n",
    "print(converted)"
   ]
  },
  {
   "cell_type": "markdown",
   "metadata": {},
   "source": [
    "7\\. Prime numbers sieve: compute the prime numbers in the 0-N (N=99 to start with) range with a sieve (mask).\n",
    "  * Constract a shape (100,) boolean array, the mask\n",
    "  * Identify the multiples of each number starting from 2 and set accordingly the corresponding mask element\n",
    "  * Apply the mask to obtain an array of ordered prime numbers\n",
    "  * Check the performances (timeit); how does it scale with N?\n",
    "  * Implement the optimization suggested in the [sieve of Eratosthenes](https://en.wikipedia.org/wiki/Sieve_of_Eratosthenes)"
   ]
  },
  {
   "cell_type": "code",
   "execution_count": 10,
   "metadata": {},
   "outputs": [],
   "source": [
    "def numeriPrimi(n):\n",
    "    N=n\n",
    "    setaccio=np.arange(0,N)\n",
    "    mask = (setaccio%2!=0)\n",
    "    #print(setaccio)\n",
    "    #print(mask)\n",
    "    mask[0]=False\n",
    "    mask[1]=False\n",
    "    mask[2]=True\n",
    "    #print(mask)\n",
    "    for i in setaccio:\n",
    "        if mask[i]:\n",
    "            #print(i)\n",
    "            for a in range(i+1,N):\n",
    "                if a%i==0:\n",
    "                    mask[a]= False\n",
    "    return setaccio[mask]"
   ]
  },
  {
   "cell_type": "code",
   "execution_count": 11,
   "metadata": {},
   "outputs": [
    {
     "data": {
      "text/plain": [
       "array([2, 3, 5, 7])"
      ]
     },
     "execution_count": 11,
     "metadata": {},
     "output_type": "execute_result"
    }
   ],
   "source": [
    "numeriPrimi(10)"
   ]
  },
  {
   "cell_type": "code",
   "execution_count": 12,
   "metadata": {},
   "outputs": [
    {
     "name": "stdout",
     "output_type": "stream",
     "text": [
      "28.5 µs ± 3.31 µs per loop (mean ± std. dev. of 7 runs, 10000 loops each)\n",
      "845 µs ± 3.3 µs per loop (mean ± std. dev. of 7 runs, 1000 loops each)\n",
      "56.1 ms ± 1.96 ms per loop (mean ± std. dev. of 7 runs, 10 loops each)\n"
     ]
    }
   ],
   "source": [
    "%timeit numeriPrimi(10)\n",
    "%timeit numeriPrimi(100)\n",
    "%timeit numeriPrimi(1000)"
   ]
  },
  {
   "cell_type": "markdown",
   "metadata": {},
   "source": [
    "## O(N$^2$)\n",
    "-N=10: 28.9 µs ± 149 ns per loop (mean ± std. dev. of 7 runs, 10000 loops each)\n",
    "\n",
    "-N=100: 850 µs ± 5.79 µs per loop (mean ± std. dev. of 7 runs, 1000 loops each)\n",
    "\n",
    "-N=1000: 51.3 ms ± 139 µs per loop (mean ± std. dev. of 7 runs, 10 loops each)"
   ]
  },
  {
   "cell_type": "code",
   "execution_count": 13,
   "metadata": {},
   "outputs": [
    {
     "data": {
      "text/plain": [
       "array([ 1,  3,  5,  7, 11, 13, 17, 19, 23, 29, 31, 37, 41, 43, 47, 53, 59,\n",
       "       61, 67, 71, 73, 79, 83, 89, 97])"
      ]
     },
     "execution_count": 13,
     "metadata": {},
     "output_type": "execute_result"
    }
   ],
   "source": [
    "import numpy as np\n",
    "def numeriPrimi_v2(N):\n",
    "    \n",
    "    setaccio=np.arange(0,N)\n",
    "    mask = (setaccio%2!=0)\n",
    "    \n",
    "    #print(mask)\n",
    "    #print(setaccio.shape)\n",
    "    \n",
    "    for i in range(2,int(np.sqrt(N))):\n",
    "        #print(i)\n",
    "        if mask[i]:\n",
    "            for j in range(i**2,N,i):\n",
    "                mask[j]= False\n",
    "                \n",
    "                \n",
    "    \n",
    "    return setaccio[mask]\n",
    "numeriPrimi_v2(100)"
   ]
  },
  {
   "cell_type": "code",
   "execution_count": 14,
   "metadata": {},
   "outputs": [
    {
     "name": "stdout",
     "output_type": "stream",
     "text": [
      "11.7 µs ± 809 ns per loop (mean ± std. dev. of 7 runs, 100000 loops each)\n",
      "28.7 µs ± 2.93 µs per loop (mean ± std. dev. of 7 runs, 10000 loops each)\n",
      "185 µs ± 2.18 µs per loop (mean ± std. dev. of 7 runs, 10000 loops each)\n"
     ]
    }
   ],
   "source": [
    "%timeit numeriPrimi_v2(10)\n",
    "%timeit numeriPrimi_v2(100)\n",
    "%timeit numeriPrimi_v2(1000)"
   ]
  },
  {
   "cell_type": "markdown",
   "metadata": {},
   "source": [
    "## O(n log log n)\n",
    "-N=10: 11.2 µs ± 872 ns per loop (mean ± std. dev. of 7 runs, 100000 loops each)\n",
    "\n",
    "-N=100: 27.4 µs ± 3.86 µs per loop (mean ± std. dev. of 7 runs, 10000 loops each)\n",
    "\n",
    "-N=1000: 201 µs ± 17.7 µs per loop (mean ± std. dev. of 7 runs, 1000 loops each)"
   ]
  },
  {
   "cell_type": "markdown",
   "metadata": {},
   "source": [
    "8\\. Diffusion using random walk\n",
    "\n",
    "Consider a simple random walk process: at each step in time, a walker jumps right or left (+1 or -1) with equal probability. The goal is to find the typical distance from the origin of a random walker after a given amount of time. \n",
    "To do that, let's simulate many walkers and create a 2D array with each walker as a raw and the actual time evolution as columns\n",
    "\n",
    "  * Take 1000 walkers and let them walk for 200 steps\n",
    "  * Use randint to create a 2D array of size walkers x steps with values -1 or 1\n",
    "  * Build the actual walking distances for each walker (i.e. another 2D array \"summing on each raw\")\n",
    "  * Take the square of that 2D array (elementwise)\n",
    "  * Compute the mean of the squared distances at each step (i.e. the mean along the columns)\n",
    "  * Plot the average distances (sqrt(distance\\*\\*2)) as a function of time (step)\n",
    "  \n",
    "Did you get what you expected?"
   ]
  },
  {
   "cell_type": "code",
   "execution_count": 17,
   "metadata": {},
   "outputs": [
    {
     "name": "stdout",
     "output_type": "stream",
     "text": [
      "(2, 2)\n",
      "[[3 5]\n",
      " [3 3]]\n"
     ]
    }
   ],
   "source": [
    "prova=np.random.choice([5, 3], size=(2,2))\n",
    "print(prova.shape)\n",
    "print(prova)\n"
   ]
  },
  {
   "cell_type": "code",
   "execution_count": 42,
   "metadata": {},
   "outputs": [
    {
     "name": "stdout",
     "output_type": "stream",
     "text": [
      "[[-1  1 -1 ...  1 -1 -1]\n",
      " [ 1 -1  1 ...  1  1 -1]\n",
      " [-1  1  1 ...  1 -1  1]\n",
      " ...\n",
      " [ 1  1 -1 ...  1 -1 -1]\n",
      " [ 1  1 -1 ... -1  1 -1]\n",
      " [-1 -1  1 ... -1  1 -1]]\n",
      "[[ -1.   0.  -1. ... -24. -25. -26.]\n",
      " [  1.   0.   1. ... -10.  -9. -10.]\n",
      " [ -1.   0.   1. ...  -6.  -7.  -6.]\n",
      " ...\n",
      " [  1.   2.   1. ...  -8.  -9. -10.]\n",
      " [  1.   2.   1. ... -18. -17. -18.]\n",
      " [ -1.  -2.  -1. ... -12. -11. -12.]]\n",
      "[[  1.   0.   1. ... 576. 625. 676.]\n",
      " [  1.   0.   1. ... 100.  81. 100.]\n",
      " [  1.   0.   1. ...  36.  49.  36.]\n",
      " ...\n",
      " [  1.   4.   1. ...  64.  81. 100.]\n",
      " [  1.   4.   1. ... 324. 289. 324.]\n",
      " [  1.   4.   1. ... 144. 121. 144.]]\n",
      "(200,)\n"
     ]
    },
    {
     "data": {
      "image/png": "[encoded data removed]",
      "text/plain": [
       "<Figure size 432x288 with 1 Axes>"
      ]
     },
     "metadata": {
      "needs_background": "light"
     },
     "output_type": "display_data"
    }
   ],
   "source": [
    "n_w= 1000\n",
    "n_s= 200\n",
    "r_w=np.random.choice([-1,1],size=(n_w,n_s))\n",
    "print(r_w)\n",
    "distance=np.zeros((n_w,n_s))\n",
    "for i in range(n_s):\n",
    "    d=np.sum(r_w[:,:i+1], axis=1)\n",
    "    distance[:,i]=d\n",
    "    #print(i,distance)\n",
    "print(distance)\n",
    "distance=distance**2\n",
    "print(distance)\n",
    "media=np.mean(distance,axis=0)\n",
    "print(media.shape)\n",
    "time=[j for j in range(n_s)]\n",
    "plt.plot(time, np.sqrt(media), 'ro', linestyle='dashed')\n",
    "plt.show()"
   ]
  },
  {
   "cell_type": "markdown",
   "metadata": {},
   "source": [
    "## Answer\n",
    "The root mean square distance from the origin after a random walk of n unit steps is $\\sqrt{n}$\n",
    "\n",
    "Indeed, the random walk can be modeled as a variable x that takes value -1 or 1. The mean value is 0 why the mean squared value is 1 (after one step).\n",
    "\n",
    "After n step the mean value is still 0 why the mean squared value is n.\n",
    "\n",
    "Hence, taking the root I get $\\sqrt{n}$.\n"
   ]
  },
  {
   "cell_type": "markdown",
   "metadata": {},
   "source": [
    "9\\. Analyze a data file \n",
    "  * Download the population of hares, lynxes and carrots at the beginning of the last century.\n",
    "    ```python\n",
    "    ! wget https://www.dropbox.com/s/3vigxoqayo389uc/populations.txt\n",
    "    ```\n",
    "\n",
    "  * Check the content by looking within the file\n",
    "  * Load the data (use an appropriate numpy method) into a 2D array\n",
    "  * Create arrays out of the columns, the arrays being (in order): *year*, *hares*, *lynxes*, *carrots* \n",
    "  * Plot the 3 populations over the years\n",
    "  * Compute the main statistical properties of the dataset (mean, std, correlations, etc.)\n",
    "  * Which species has the highest population each year?\n",
    "\n",
    "Do you feel there is some evident correlation here? [Studies](https://www.enr.gov.nt.ca/en/services/lynx/lynx-snowshoe-hare-cycle) tend to believe so."
   ]
  },
  {
   "cell_type": "code",
   "execution_count": 47,
   "metadata": {},
   "outputs": [
    {
     "name": "stdout",
     "output_type": "stream",
     "text": [
      "(21, 4)\n",
      "[1900 1901 1902 1903 1904 1905 1906 1907 1908 1909 1910 1911 1912 1913\n",
      " 1914 1915 1916 1917 1918 1919 1920]\n"
     ]
    },
    {
     "data": {
      "text/plain": [
       "<matplotlib.legend.Legend at 0x253aba8bf98>"
      ]
     },
     "execution_count": 47,
     "metadata": {},
     "output_type": "execute_result"
    },
    {
     "data": {
      "image/png": "[encoded data removed]",
      "text/plain": [
       "<Figure size 432x288 with 1 Axes>"
      ]
     },
     "metadata": {
      "needs_background": "light"
     },
     "output_type": "display_data"
    }
   ],
   "source": [
    "import matplotlib.pyplot as plt\n",
    "filename = 'populations.txt'\n",
    "data=np.loadtxt(filename)\n",
    "print(data.shape)\n",
    "hares=data[:,1]\n",
    "lynxes=data[:,2]\n",
    "carrots=data[:,3]\n",
    "year=data[:,0].astype(int)\n",
    "print(year)\n",
    "plt.plot(year, hares,label='hares')\n",
    "plt.plot(year, lynxes, label='lynxes')\n",
    "plt.plot(year, carrots, label='carrots')\n",
    "plt.axis([1898, 1922, 0, 80000])\n",
    "plt.legend()"
   ]
  },
  {
   "cell_type": "code",
   "execution_count": 48,
   "metadata": {},
   "outputs": [
    {
     "name": "stdout",
     "output_type": "stream",
     "text": [
      "hares\n",
      "min: 7600.0\n",
      "year of the minimum: 1917\n",
      "max: 77400.0\n",
      "year of the maximum: 1903\n",
      "mean: 34080.95238095238\n",
      "standard deviation: 20897.906458089667\n"
     ]
    }
   ],
   "source": [
    "print(\"hares\")\n",
    "print (\"min:\",np.min(hares))\n",
    "print (\"year of the minimum:\", year[np.argmin(hares)])\n",
    "print (\"max:\", np.max(hares))\n",
    "print (\"year of the maximum:\", year[np.argmax(hares)])\n",
    "print (\"mean:\", np.mean(hares))\n",
    "print (\"standard deviation:\", np.std(hares))"
   ]
  },
  {
   "cell_type": "code",
   "execution_count": 49,
   "metadata": {},
   "outputs": [
    {
     "name": "stdout",
     "output_type": "stream",
     "text": [
      "lynxes\n",
      "min: 4000.0\n",
      "year of the minimum: 1900\n",
      "max: 59400.0\n",
      "year of the maximum: 1904\n",
      "mean: 20166.666666666668\n",
      "standard deviation: 16254.591536908763\n"
     ]
    }
   ],
   "source": [
    "print(\"lynxes\")\n",
    "print (\"min:\",np.min(lynxes))\n",
    "print (\"year of the minimum:\", year[np.argmin(lynxes)])\n",
    "print (\"max:\", np.max(lynxes))\n",
    "print (\"year of the maximum:\", year[np.argmax(lynxes)])\n",
    "print (\"mean:\", np.mean(lynxes))\n",
    "print (\"standard deviation:\", np.std(lynxes))"
   ]
  },
  {
   "cell_type": "code",
   "execution_count": 50,
   "metadata": {},
   "outputs": [
    {
     "name": "stdout",
     "output_type": "stream",
     "text": [
      "carrots\n",
      "min: 36700.0\n",
      "year of the minimum: 1916\n",
      "max: 48300.0\n",
      "year of the maximum: 1900\n",
      "mean: 42400.0\n",
      "standard deviation: 3322.5062255844787\n"
     ]
    }
   ],
   "source": [
    "print(\"carrots\")\n",
    "print (\"min:\",np.min(carrots))\n",
    "print (\"year of the minimum:\", year[np.argmin(carrots)])\n",
    "print (\"max:\", np.max(carrots))\n",
    "print (\"year of the maximum:\", year[np.argmax(carrots)])\n",
    "print (\"mean:\", np.mean(carrots))\n",
    "print (\"standard deviation:\", np.std(carrots))"
   ]
  },
  {
   "cell_type": "markdown",
   "metadata": {},
   "source": [
    "## correlations between pray and predator "
   ]
  },
  {
   "cell_type": "code",
   "execution_count": null,
   "metadata": {},
   "outputs": [],
   "source": []
  }
 ],
 "metadata": {
  "kernelspec": {
   "display_name": "Python 3",
   "language": "python",
   "name": "python3"
  },
  "language_info": {
   "codemirror_mode": {
    "name": "ipython",
    "version": 3
   },
   "file_extension": ".py",
   "mimetype": "text/x-python",
   "name": "python",
   "nbconvert_exporter": "python",
   "pygments_lexer": "ipython3",
   "version": "3.7.0"
  }
 },
 "nbformat": 4,
 "nbformat_minor": 2
}
