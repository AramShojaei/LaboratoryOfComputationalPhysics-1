{
 "cells": [
  {
   "cell_type": "markdown",
   "metadata": {},
   "source": [
    "### Numpy basics"
   ]
  },
  {
   "cell_type": "markdown",
   "metadata": {},
   "source": [
    "1\\. Find the row, column and overall means for the following matrix:\n",
    "\n",
    "```python\n",
    "m = np.arange(12).reshape((3,4))\n",
    "```"
   ]
  },
  {
   "cell_type": "code",
   "execution_count": 2,
   "metadata": {},
   "outputs": [
    {
     "name": "stdout",
     "output_type": "stream",
     "text": [
      "[[ 0  1  2  3]\n",
      " [ 4  5  6  7]\n",
      " [ 8  9 10 11]]\n",
      "Mean of the rows: \n",
      "1.5\n",
      "5.5\n",
      "9.5\n",
      "Mean of the columns: \n",
      "4.0\n",
      "5.0\n",
      "6.0\n",
      "7.0\n",
      "Overall mean of the matrix: \n",
      "5.5\n"
     ]
    }
   ],
   "source": [
    "import numpy\n",
    "import numpy as np\n",
    "m = np.arange(12).reshape((3,4))\n",
    "print (m)\n",
    "print (\"Mean of the rows: \")\n",
    "for i in range(3):\n",
    "    print(m[i].mean())\n",
    "print (\"Mean of the columns: \")\n",
    "for i in range(4):\n",
    "    print(m[:,i].mean())\n",
    "print(\"Overall mean of the matrix: \")\n",
    "print(m.mean())"
   ]
  },
  {
   "cell_type": "markdown",
   "metadata": {},
   "source": [
    "2\\. Find the outer product of the following two vecotrs\n",
    "\n",
    "```python\n",
    "u = np.array([1,3,5,7])\n",
    "v = np.array([2,4,6,8])\n",
    "```\n",
    "\n",
    "Do this in the following ways:\n",
    "\n",
    "   * Using the function outer in numpy\n",
    "   * Using a nested for loop or list comprehension\n",
    "   * Using numpy broadcasting operatoins\n"
   ]
  },
  {
   "cell_type": "code",
   "execution_count": 3,
   "metadata": {},
   "outputs": [
    {
     "name": "stdout",
     "output_type": "stream",
     "text": [
      "[[ 2  4  6  8]\n",
      " [ 6 12 18 24]\n",
      " [10 20 30 40]\n",
      " [14 28 42 56]]\n",
      "[[ 2  4  6  8]\n",
      " [ 6 12 18 24]\n",
      " [10 20 30 40]\n",
      " [14 28 42 56]]\n"
     ]
    }
   ],
   "source": [
    "u = np.array([1,3,5,7])\n",
    "v = np.array([2,4,6,8])\n",
    "\n",
    "p1 = np.outer(u,v)\n",
    "print(p1)\n",
    "\n",
    "p2=np.array([[i*j for i in v] for j in u]) # istead of range(4) we put u and v\n",
    "print(p2)\n",
    "\n"
   ]
  },
  {
   "cell_type": "markdown",
   "metadata": {},
   "source": [
    "3\\. Create a 10 by 6 matrix of random uniform numbers. Set all rows with any entry less than 0.1 to be zero\n",
    "\n",
    "Hint: Use the following numpy functions - np.random.random, np.any as well as Boolean indexing and the axis argument."
   ]
  },
  {
   "cell_type": "code",
   "execution_count": 4,
   "metadata": {},
   "outputs": [
    {
     "name": "stdout",
     "output_type": "stream",
     "text": [
      "uniform: \n",
      " [[0.08884789 0.14280581 0.93694569 0.42833043 0.15053323 0.23979649]\n",
      " [0.70764372 0.83236991 0.66345611 0.75763568 0.86616709 0.1355771 ]\n",
      " [0.76088844 0.29943611 0.10661373 0.98565192 0.62557189 0.16180175]\n",
      " [0.50539665 0.9949271  0.87121487 0.58913096 0.23643467 0.26283205]\n",
      " [0.70299846 0.95785044 0.02640084 0.6499879  0.62464288 0.93781608]\n",
      " [0.02673044 0.17743226 0.02241439 0.45066225 0.30072329 0.1837097 ]\n",
      " [0.12946872 0.43722997 0.9173101  0.1652495  0.62703866 0.20705449]\n",
      " [0.3975694  0.51957215 0.62889824 0.54818644 0.8362814  0.78706376]\n",
      " [0.37660819 0.65877446 0.7850732  0.63404273 0.59371126 0.27620026]\n",
      " [0.59414783 0.68699611 0.68824704 0.51001662 0.75503357 0.61700743]] \n",
      "\n",
      "uniform: \n",
      " [[0.         0.         0.         0.         0.         0.        ]\n",
      " [0.70764372 0.83236991 0.66345611 0.75763568 0.86616709 0.1355771 ]\n",
      " [0.76088844 0.29943611 0.10661373 0.98565192 0.62557189 0.16180175]\n",
      " [0.50539665 0.9949271  0.87121487 0.58913096 0.23643467 0.26283205]\n",
      " [0.         0.         0.         0.         0.         0.        ]\n",
      " [0.         0.         0.         0.         0.         0.        ]\n",
      " [0.12946872 0.43722997 0.9173101  0.1652495  0.62703866 0.20705449]\n",
      " [0.3975694  0.51957215 0.62889824 0.54818644 0.8362814  0.78706376]\n",
      " [0.37660819 0.65877446 0.7850732  0.63404273 0.59371126 0.27620026]\n",
      " [0.59414783 0.68699611 0.68824704 0.51001662 0.75503357 0.61700743]] \n",
      "\n"
     ]
    }
   ],
   "source": [
    "import numpy.random as npr\n",
    "matrix = npr.rand(10,6)\n",
    "print (\"uniform:\",'\\n', matrix,'\\n')\n",
    "for i in range(10):\n",
    "    if np.any(matrix[i]<0.1):\n",
    "        matrix[i]=0\n",
    "print (\"uniform:\",'\\n', matrix,'\\n')"
   ]
  },
  {
   "cell_type": "markdown",
   "metadata": {},
   "source": [
    "4\\. Use np.linspace to create an array of 100 numbers between 0 and 2π (includsive).\n",
    "\n",
    "  * Extract every 10th element using slice notation\n",
    "  * Reverse the array using slice notation\n",
    "  * Extract elements where the absolute difference between the sine and cosine functions evaluated at that element is less than 0.1\n",
    "  * Make a plot showing the sin and cos functions and indicate where they are close"
   ]
  },
  {
   "cell_type": "code",
   "execution_count": 5,
   "metadata": {},
   "outputs": [
    {
     "name": "stdout",
     "output_type": "stream",
     "text": [
      "Vector x: \n",
      " [0.         0.06346652 0.12693304 0.19039955 0.25386607 0.31733259\n",
      " 0.38079911 0.44426563 0.50773215 0.57119866 0.63466518 0.6981317\n",
      " 0.76159822 0.82506474 0.88853126 0.95199777 1.01546429 1.07893081\n",
      " 1.14239733 1.20586385 1.26933037 1.33279688 1.3962634  1.45972992\n",
      " 1.52319644 1.58666296 1.65012947 1.71359599 1.77706251 1.84052903\n",
      " 1.90399555 1.96746207 2.03092858 2.0943951  2.15786162 2.22132814\n",
      " 2.28479466 2.34826118 2.41172769 2.47519421 2.53866073 2.60212725\n",
      " 2.66559377 2.72906028 2.7925268  2.85599332 2.91945984 2.98292636\n",
      " 3.04639288 3.10985939 3.17332591 3.23679243 3.30025895 3.36372547\n",
      " 3.42719199 3.4906585  3.55412502 3.61759154 3.68105806 3.74452458\n",
      " 3.8079911  3.87145761 3.93492413 3.99839065 4.06185717 4.12532369\n",
      " 4.1887902  4.25225672 4.31572324 4.37918976 4.44265628 4.5061228\n",
      " 4.56958931 4.63305583 4.69652235 4.75998887 4.82345539 4.88692191\n",
      " 4.95038842 5.01385494 5.07732146 5.14078798 5.2042545  5.26772102\n",
      " 5.33118753 5.39465405 5.45812057 5.52158709 5.58505361 5.64852012\n",
      " 5.71198664 5.77545316 5.83891968 5.9023862  5.96585272 6.02931923\n",
      " 6.09278575 6.15625227 6.21971879 6.28318531] \n",
      "\n",
      "Elements of x that are in positions multiple of 10: \n",
      "\n",
      "0.5711986642890533\n",
      "1.1423973285781066\n",
      "1.71359599286716\n",
      "2.284794657156213\n",
      "2.8559933214452666\n",
      "3.42719198573432\n",
      "3.998390650023373\n",
      "4.569589314312426\n",
      "5.14078797860148\n",
      "5.711986642890533\n",
      "6.283185307179586\n"
     ]
    },
    {
     "data": {
      "text/plain": [
       "[<matplotlib.lines.Line2D at 0x7f99a43e9908>]"
      ]
     },
     "execution_count": 5,
     "metadata": {},
     "output_type": "execute_result"
    },
    {
     "data": {
      "image/png": "[encoded data removed]",
      "text/plain": [
       "<Figure size 432x288 with 1 Axes>"
      ]
     },
     "metadata": {
      "needs_background": "light"
     },
     "output_type": "display_data"
    }
   ],
   "source": [
    "import matplotlib.pyplot as plt\n",
    "x = np.linspace(0, 2*np.pi, 100)\n",
    "print (\"Vector x: \"'\\n',x,'\\n')\n",
    "\n",
    "print (\"Elements of x that are in positions multiple of 10: \"'\\n')\n",
    "for i in range(100):\n",
    "    if i%9==0 and i>0:\n",
    "        print (x[i])\n",
    "        \n",
    "c = np.cos(x)\n",
    "s = np.sin(x)   \n",
    "\n",
    "plt.plot(x,s)\n",
    "plt.plot(x,c)\n",
    "\n",
    "diff=[]\n",
    "for i in range(100):\n",
    "    if abs(c[i]-s[i])<0.1:\n",
    "        diff.append(i)\n",
    "plt.plot(x[diff],c[diff],'*')"
   ]
  },
  {
   "cell_type": "markdown",
   "metadata": {},
   "source": [
    "5\\. Create a matrix that shows the 10 by 10 multiplication table.\n",
    "\n",
    " * Find the trace of the matrix\n",
    " * Extract the anto-diagonal (this should be ```array([10, 18, 24, 28, 30, 30, 28, 24, 18, 10])```)\n",
    " * Extract the diagnoal offset by 1 upwards (this should be ```array([ 2,  6, 12, 20, 30, 42, 56, 72, 90])```)"
   ]
  },
  {
   "cell_type": "code",
   "execution_count": 6,
   "metadata": {
    "scrolled": false
   },
   "outputs": [
    {
     "name": "stdout",
     "output_type": "stream",
     "text": [
      "\n",
      "Matrix:  \n",
      " [[  1.   2.   3.   4.   5.   6.   7.   8.   9.  10.]\n",
      " [  2.   4.   6.   8.  10.  12.  14.  16.  18.  20.]\n",
      " [  3.   6.   9.  12.  15.  18.  21.  24.  27.  30.]\n",
      " [  4.   8.  12.  16.  20.  24.  28.  32.  36.  40.]\n",
      " [  5.  10.  15.  20.  25.  30.  35.  40.  45.  50.]\n",
      " [  6.  12.  18.  24.  30.  36.  42.  48.  54.  60.]\n",
      " [  7.  14.  21.  28.  35.  42.  49.  56.  63.  70.]\n",
      " [  8.  16.  24.  32.  40.  48.  56.  64.  72.  80.]\n",
      " [  9.  18.  27.  36.  45.  54.  63.  72.  81.  90.]\n",
      " [ 10.  20.  30.  40.  50.  60.  70.  80.  90. 100.]]\n",
      "\n",
      " Trace of the matrix:  \n",
      " 385.0\n",
      "\n",
      " Anto-diagonal:  \n",
      " [10. 18. 24. 28. 30. 30. 28. 24. 18. 10.]\n",
      "\n",
      " Diagonal offset by 1 upwards: \n",
      " [ 2.  6. 12. 20. 30. 42. 56. 72. 90.]\n"
     ]
    }
   ],
   "source": [
    "ones = np.linspace(1,10,10)\n",
    "ones = ones.T\n",
    "M = np.zeros((10,10))\n",
    "for i in range(10):\n",
    "    for j in range(10):\n",
    "        M[i,j]=(i+1)*(j+1)\n",
    "print ('\\n'\"Matrix: \",'\\n',M)\n",
    "print ('\\n',\"Trace of the matrix: \",'\\n',M.trace())\n",
    "print ('\\n',\"Anto-diagonal: \",'\\n',numpy.diagonal(np.fliplr(M)))\n",
    "print('\\n',\"Diagonal offset by 1 upwards: \" '\\n',numpy.diagonal(M,1))"
   ]
  },
  {
   "cell_type": "markdown",
   "metadata": {},
   "source": [
    "6\\. Use broadcasting to create a grid of distances\n",
    "\n",
    "Route 66 crosses the following cities in the US: Chicago, Springfield, Saint-Louis, Tulsa, Oklahoma City, Amarillo, Santa Fe, Albuquerque, Flagstaff, Los Angeles\n",
    "The corresponding positions in miles are: 0, 198, 303, 736, 871, 1175, 1475, 1544, 1913, 2448\n",
    "\n",
    "  * Construct a 2D grid of distances among each city along Route 66\n",
    "  * Convert that in km (those savages...)"
   ]
  },
  {
   "cell_type": "code",
   "execution_count": 8,
   "metadata": {},
   "outputs": [
    {
     "name": "stdout",
     "output_type": "stream",
     "text": [
      "[[   0.       318.64932  487.63002 1184.47424 1401.73514 1890.9745\n",
      "  2373.7765  2484.82096 3078.66742 3939.66432]\n",
      " [ 318.64932    0.       168.9807   865.82492 1083.08582 1572.32518\n",
      "  2055.12718 2166.17164 2760.0181  3621.015  ]\n",
      " [ 487.63002  168.9807     0.       696.84422  914.10512 1403.34448\n",
      "  1886.14648 1997.19094 2591.0374  3452.0343 ]\n",
      " [1184.47424  865.82492  696.84422    0.       217.2609   706.50026\n",
      "  1189.30226 1300.34672 1894.19318 2755.19008]\n",
      " [1401.73514 1083.08582  914.10512  217.2609     0.       489.23936\n",
      "   972.04136 1083.08582 1676.93228 2537.92918]\n",
      " [1890.9745  1572.32518 1403.34448  706.50026  489.23936    0.\n",
      "   482.802    593.84646 1187.69292 2048.68982]\n",
      " [2373.7765  2055.12718 1886.14648 1189.30226  972.04136  482.802\n",
      "     0.       111.04446  704.89092 1565.88782]\n",
      " [2484.82096 2166.17164 1997.19094 1300.34672 1083.08582  593.84646\n",
      "   111.04446    0.       593.84646 1454.84336]\n",
      " [3078.66742 2760.0181  2591.0374  1894.19318 1676.93228 1187.69292\n",
      "   704.89092  593.84646    0.       860.9969 ]\n",
      " [3939.66432 3621.015   3452.0343  2755.19008 2537.92918 2048.68982\n",
      "  1565.88782 1454.84336  860.9969     0.     ]]\n"
     ]
    }
   ],
   "source": [
    "distances = [0,198,303,736,871,1175,1475,1544,1913,2448]\n",
    "dist = np.zeros((10,10))\n",
    "for i in range(10):\n",
    "    for j in range(10):\n",
    "        dist[i,j]=abs(distances[j]-distances[i])\n",
    "dist = dist*1.60934\n",
    "print (dist)"
   ]
  },
  {
   "cell_type": "markdown",
   "metadata": {},
   "source": [
    "7\\. Prime numbers sieve: compute the prime numbers in the 0-N (N=99 to start with) range with a sieve (mask).\n",
    "  * Constract a shape (100,) boolean array, the mask\n",
    "  * Identify the multiples of each number starting from 2 and set accordingly the corresponding mask element\n",
    "  * Apply the mask to obtain an array of ordered prime numbers\n",
    "  * Check the performances (timeit); how does it scale with N?\n",
    "  * Implement the optimization suggested in the [sieve of Eratosthenes](https://en.wikipedia.org/wiki/Sieve_of_Eratosthenes)"
   ]
  },
  {
   "cell_type": "code",
   "execution_count": 8,
   "metadata": {},
   "outputs": [
    {
     "name": "stdout",
     "output_type": "stream",
     "text": [
      "[ 0  1  2  3  4  5  6  7  8  9 10 11 12 13 14 15 16 17 18 19 20 21 22 23\n",
      " 24 25 26 27 28 29 30 31 32 33 34 35 36 37 38 39 40 41 42 43 44 45 46 47\n",
      " 48 49 50 51 52 53 54 55 56 57 58 59 60 61 62 63 64 65 66 67 68 69 70 71\n",
      " 72 73 74 75 76 77 78 79 80 81 82 83 84 85 86 87 88 89 90 91 92 93 94 95\n",
      " 96 97 98 99]\n",
      "[ 0  1  2  3  5  7 11 13 17 19 23 29 31 37 41 43 47 53 59 61 67 71 73 79\n",
      " 83 89 97]\n"
     ]
    }
   ],
   "source": [
    "n = np.arange(0,100,1)\n",
    "print (n)\n",
    "mask = np.ones(100, dtype=bool)\n",
    "\n",
    "for i in range(1,100):\n",
    "    for j in range (1,100):\n",
    "        if n[i]%j==0 and n[i]!=j and j!=1:\n",
    "            mask[i] = False\n",
    "print (n[mask])"
   ]
  },
  {
   "cell_type": "markdown",
   "metadata": {},
   "source": [
    "8\\. Diffusion using random walk\n",
    "\n",
    "Consider a simple random walk process: at each step in time, a walker jumps right or left (+1 or -1) with equal probability. The goal is to find the typical distance from the origin of a random walker after a given amount of time. \n",
    "To do that, let's simulate many walkers and create a 2D array with each walker as a raw and the actual time evolution as columns\n",
    "\n",
    "  * Take 1000 walkers and let them walk for 200 steps\n",
    "  * Use randint to create a 2D array of size walkers x steps with values -1 or 1\n",
    "  * Build the actual walking distances for each walker (i.e. another 2D array \"summing on each raw\")\n",
    "  * Take the square of that 2D array (elementwise)\n",
    "  * Compute the mean of the squared distances at each step (i.e. the mean along the columns)\n",
    "  * Plot the average distances (sqrt(distance\\*\\*2)) as a function of time (step)\n",
    "  \n",
    "Did you get what you expected?"
   ]
  },
  {
   "cell_type": "code",
   "execution_count": 9,
   "metadata": {},
   "outputs": [
    {
     "name": "stdout",
     "output_type": "stream",
     "text": [
      "[[ 1. -1.  1. ...  1.  1. -1.]\n",
      " [ 1. -1.  1. ... -1. -1.  1.]\n",
      " [-1.  1. -1. ...  1. -1.  1.]\n",
      " ...\n",
      " [ 1. -1.  1. ... -1. -1.  1.]\n",
      " [-1. -1. -1. ...  1.  1. -1.]\n",
      " [ 1. -1.  1. ... -1.  1. -1.]] \n",
      "\n"
     ]
    },
    {
     "data": {
      "text/plain": [
       "[<matplotlib.lines.Line2D at 0x7f99a4396470>]"
      ]
     },
     "execution_count": 9,
     "metadata": {},
     "output_type": "execute_result"
    },
    {
     "data": {
      "image/png": "[encoded data removed]",
      "text/plain": [
       "<Figure size 432x288 with 1 Axes>"
      ]
     },
     "metadata": {
      "needs_background": "light"
     },
     "output_type": "display_data"
    }
   ],
   "source": [
    "import random\n",
    "time_steps = 200\n",
    "movements = np.zeros((1000,time_steps))\n",
    "for i in range(1000):\n",
    "    for j in range(time_steps):\n",
    "        x = random.randint(1,2)\n",
    "        if x==1:\n",
    "            movements[i,j]=-1\n",
    "        else:\n",
    "            movements[i,j]=1\n",
    "print (movements,'\\n')\n",
    "\n",
    "actual = movements\n",
    "actual = actual.cumsum(axis=1)\n",
    "actual = np.square(actual)\n",
    "mean_distances_per_timestep = np.zeros(time_steps)\n",
    "for i in range(time_steps):\n",
    "    mean_distances_per_timestep[i] =  actual[:,i].mean()\n",
    "mean_distances_per_timestep = np.sqrt(mean_distances_per_timestep)\n",
    "plt.plot(mean_distances_per_timestep)"
   ]
  },
  {
   "cell_type": "markdown",
   "metadata": {},
   "source": [
    "9\\. Analyze a data file \n",
    "  * Download the population of hares, lynxes and carrots at the beginning of the last century.\n",
    "    ```python\n",
    "    ! wget https://www.dropbox.com/s/3vigxoqayo389uc/populations.txt\n",
    "    ```\n",
    "\n",
    "  * Check the content by looking within the file\n",
    "  * Load the data (use an appropriate numpy method) into a 2D array\n",
    "  * Create arrays out of the columns, the arrays being (in order): *year*, *hares*, *lynxes*, *carrots* \n",
    "  * Plot the 3 populations over the years\n",
    "  * Compute the main statistical properties of the dataset (mean, std, correlations, etc.)\n",
    "  * Which species has the highest population each year?\n",
    "\n",
    "Do you feel there is some evident correlation here? [Studies](https://www.enr.gov.nt.ca/en/services/lynx/lynx-snowshoe-hare-cycle) tend to believe so."
   ]
  },
  {
   "cell_type": "code",
   "execution_count": 24,
   "metadata": {
    "scrolled": false
   },
   "outputs": [
    {
     "name": "stdout",
     "output_type": "stream",
     "text": [
      "\n",
      " Min of the hares population: 7600.0\n",
      "Max of the population: 77400.0\n",
      "Year of the minimum of the hares population: 1917\n",
      "Year of the maximum of the hares population: 1903\n",
      "Mean of the hares population: 34080.95238095238\n",
      "Median of the hares population: 25400.0\n",
      "Standard deviation of the hares population: 20897.906458089667\n",
      "\n",
      " Min of the lynxes population: 4000.0\n",
      "Max of the population: 59400.0\n",
      "Year of the minimum of the lynxes population: 1900\n",
      "Year of the maximum of the lynxes population: 1904\n",
      "Mean of the lynxes population: 20166.666666666668\n",
      "Median of the lynxes population: 12300.0\n",
      "Standard deviation of the lynxes population: 16254.591536908763\n",
      "\n",
      " Min of the carrots population: 36700.0\n",
      "Max of the population: 48300.0\n",
      "Year of the minimum of the carrots population: 1916\n",
      "Year of the maximum of the carrots population: 1900\n",
      "Mean of the carrots population: 42400.0\n",
      "Median of the carrots population: 41800.0\n",
      "Standard deviation of the carrots population: 3322.5062255844787\n"
     ]
    },
    {
     "data": {
      "text/plain": [
       "<matplotlib.legend.Legend at 0x7f99a2e80550>"
      ]
     },
     "execution_count": 24,
     "metadata": {},
     "output_type": "execute_result"
    },
    {
     "data": {
      "image/png": "[encoded data removed]",
      "text/plain": [
       "<Figure size 432x288 with 1 Axes>"
      ]
     },
     "metadata": {
      "needs_background": "light"
     },
     "output_type": "display_data"
    }
   ],
   "source": [
    "data = numpy.genfromtxt('populations.txt',skip_header=0)\n",
    "\n",
    "years = data[:,0]\n",
    "hares = data[:,1]\n",
    "lynxes = data[:,2]\n",
    "carrots = data[:,3]\n",
    "\n",
    "populations = [hares, lynxes, carrots]\n",
    "\n",
    "for i in range(3):\n",
    "    if i==0:\n",
    "        pop=\"hares population:\"\n",
    "    elif i==1:\n",
    "        pop=\"lynxes population:\"\n",
    "    else:\n",
    "        pop=\"carrots population:\"\n",
    "        \n",
    "    print ('\\n',\"Min of the\",pop, populations[i].min())\n",
    "    print (\"Max of the population:\", populations[i].max())\n",
    "    print (\"Year of the minimum of the\",pop, 1900+(populations[i].argmin()))\n",
    "    print (\"Year of the maximum of the\",pop, 1900+(populations[i].argmax()))\n",
    "    print (\"Mean of the\",pop, populations[i].mean())\n",
    "    print (\"Median of the\",pop, np.median(populations[i])) \n",
    "    print (\"Standard deviation of the\",pop, populations[i].std())\n",
    "\n",
    "plt.plot(years,hares)\n",
    "plt.plot(years,lynxes)\n",
    "plt.plot(years,carrots)\n",
    "plt.legend(['Hares','Lynxes','Carrots'])"
   ]
  },
  {
   "cell_type": "code",
   "execution_count": null,
   "metadata": {},
   "outputs": [],
   "source": [
    "#It can be seen that when the lynxes population grows, the hares population decreases, for the basic \n",
    "#relation prey-predator"
   ]
  }
 ],
 "metadata": {
  "kernelspec": {
   "display_name": "Python 3",
   "language": "python",
   "name": "python3"
  },
  "language_info": {
   "codemirror_mode": {
    "name": "ipython",
    "version": 3
   },
   "file_extension": ".py",
   "mimetype": "text/x-python",
   "name": "python",
   "nbconvert_exporter": "python",
   "pygments_lexer": "ipython3",
   "version": "3.6.8"
  }
 },
 "nbformat": 4,
 "nbformat_minor": 2
}
