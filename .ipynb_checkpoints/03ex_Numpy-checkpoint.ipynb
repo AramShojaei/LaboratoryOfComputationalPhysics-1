{
 "cells": [
  {
   "cell_type": "markdown",
   "metadata": {},
   "source": [
    "### Numpy basics"
   ]
  },
  {
   "cell_type": "markdown",
   "metadata": {},
   "source": [
    "1\\. Find the row, column and overall means for the following matrix:\n",
    "\n",
    "```python\n",
    "m = np.arange(12).reshape((3,4))\n",
    "```"
   ]
  },
  {
   "cell_type": "code",
   "execution_count": 1,
   "metadata": {},
   "outputs": [
    {
     "name": "stdout",
     "output_type": "stream",
     "text": [
      "[[ 0  1  2  3]\n",
      " [ 4  5  6  7]\n",
      " [ 8  9 10 11]]\n",
      "mean along the columns: [4. 5. 6. 7.]\n",
      "mean along the rows: [1.5 5.5 9.5]\n",
      "averall mean: 5.5\n",
      "check: 5.5\n"
     ]
    }
   ],
   "source": [
    "import numpy as np\n",
    "m = np.arange(12).reshape((3,4))\n",
    "print (m)\n",
    "\n",
    "print (\"mean along the columns:\", m.mean(axis=0))\n",
    "print (\"mean along the rows:\", m.mean(axis=1))\n",
    "print (\"averall mean:\", m.mean())\n",
    "print (\"check:\", np.mean(np.arange(12)))"
   ]
  },
  {
   "cell_type": "markdown",
   "metadata": {},
   "source": [
    "2\\. Find the outer product of the following two vecotrs\n",
    "\n",
    "```python\n",
    "u = np.array([1,3,5,7])\n",
    "v = np.array([2,4,6,8])\n",
    "```\n",
    "\n",
    "Do this in the following ways:\n",
    "\n",
    "   * Using the function outer in numpy\n",
    "   * Using a nested for loop or list comprehension\n",
    "   * Using numpy broadcasting operatoins\n"
   ]
  },
  {
   "cell_type": "code",
   "execution_count": 36,
   "metadata": {},
   "outputs": [
    {
     "name": "stdout",
     "output_type": "stream",
     "text": [
      "[[ 2  4  6  8]\n",
      " [ 6 12 18 24]\n",
      " [10 20 30 40]\n",
      " [14 28 42 56]] \n",
      "\n",
      "[[ 2  4  6  8]\n",
      " [ 6 12 18 24]\n",
      " [10 20 30 40]\n",
      " [14 28 42 56]] \n",
      "\n",
      "[[ 2  4  6  8]\n",
      " [ 6 12 18 24]\n",
      " [10 20 30 40]\n",
      " [14 28 42 56]]\n"
     ]
    }
   ],
   "source": [
    "u = np.array([1,3,5,7])\n",
    "v = np.array([2,4,6,8])\n",
    "\n",
    "# function np.outer:\n",
    "print (np.outer(u,v), \"\\n\")\n",
    "\n",
    "# loop:\n",
    "l = [i*v for i in u]\n",
    "print(np.array(l), \"\\n\")\n",
    "\n",
    "\n",
    "a = np.tile(u,(4,1))\n",
    "b = np.tile(v,(4,1))\n",
    "print(a.T*b)\n"
   ]
  },
  {
   "cell_type": "markdown",
   "metadata": {},
   "source": [
    "3\\. Create a 10 by 6 matrix of random uniform numbers. Set all rows with any entry less than 0.1 to be zero\n",
    "\n",
    "Hint: Use the following numpy functions - np.random.random, np.any as well as Boolean indexing and the axis argument."
   ]
  },
  {
   "cell_type": "code",
   "execution_count": 2,
   "metadata": {},
   "outputs": [
    {
     "name": "stdout",
     "output_type": "stream",
     "text": [
      "[[0.0885134  0.2014338  0.81625851 0.71535225 0.22896897 0.54059426]\n",
      " [0.6391666  0.07239911 0.28303261 0.7747222  0.87546212 0.7826142 ]\n",
      " [0.42744009 0.12246397 0.91227593 0.27152803 0.25041739 0.80346436]\n",
      " [0.72427977 0.63590284 0.38323395 0.31246114 0.34134485 0.30695785]\n",
      " [0.78972546 0.89221793 0.53509721 0.57326082 0.52367718 0.13090842]\n",
      " [0.62576507 0.7911953  0.45304433 0.2788737  0.96263445 0.13803009]\n",
      " [0.45577015 0.23084367 0.59325554 0.41330027 0.59483862 0.34242919]\n",
      " [0.7053681  0.69768504 0.70564576 0.4677263  0.76412685 0.70145315]\n",
      " [0.91936753 0.31751089 0.67304545 0.80155658 0.01358341 0.35241767]\n",
      " [0.71713467 0.89661437 0.81364896 0.58828727 0.0742236  0.27738695]] \n",
      "\n",
      "[ True  True False False False False False False  True  True] \n",
      "\n",
      "[[0.         0.         0.         0.         0.         0.        ]\n",
      " [0.         0.         0.         0.         0.         0.        ]\n",
      " [0.42744009 0.12246397 0.91227593 0.27152803 0.25041739 0.80346436]\n",
      " [0.72427977 0.63590284 0.38323395 0.31246114 0.34134485 0.30695785]\n",
      " [0.78972546 0.89221793 0.53509721 0.57326082 0.52367718 0.13090842]\n",
      " [0.62576507 0.7911953  0.45304433 0.2788737  0.96263445 0.13803009]\n",
      " [0.45577015 0.23084367 0.59325554 0.41330027 0.59483862 0.34242919]\n",
      " [0.7053681  0.69768504 0.70564576 0.4677263  0.76412685 0.70145315]\n",
      " [0.         0.         0.         0.         0.         0.        ]\n",
      " [0.         0.         0.         0.         0.         0.        ]]\n"
     ]
    }
   ],
   "source": [
    "import numpy.random as npr\n",
    "\n",
    "m = npr.random(60).reshape(10,6)\n",
    "print (m, \"\\n\")\n",
    "\n",
    "mask = (m < 0.1)\n",
    "newmask = np.any(mask,axis=1)\n",
    "print (newmask, \"\\n\")\n",
    "\n",
    "m[newmask,:] = 0\n",
    "print(m)"
   ]
  },
  {
   "cell_type": "markdown",
   "metadata": {},
   "source": [
    "4\\. Use np.linspace to create an array of 100 numbers between 0 and 2π (includsive).\n",
    "\n",
    "  * Extract every 10th element using slice notation\n",
    "  * Reverse the array using slice notation\n",
    "  * Extract elements where the absolute difference between the sine and cosine functions evaluated at that element is less than 0.1\n",
    "  * Make a plot showing the sin and cos functions and indicate where they are close"
   ]
  },
  {
   "cell_type": "code",
   "execution_count": 82,
   "metadata": {},
   "outputs": [
    {
     "data": {
      "image/png": "[encoded data removed]",
      "text/plain": [
       "<Figure size 432x288 with 1 Axes>"
      ]
     },
     "metadata": {},
     "output_type": "display_data"
    }
   ],
   "source": [
    "a = np.linspace(0, 2*np.pi, 100)\n",
    "#print(a)\n",
    "a_tenth = (a[10::10])\n",
    "a_reverse = (a[::-1])\n",
    "a_filtered = a[abs(np.cos(a)-np.sin(a)) < 0.1]\n",
    "\n",
    "import matplotlib.pyplot as plt\n",
    "%matplotlib inline\n",
    "ysin = np.sin(a)\n",
    "ycos = np.cos(a)\n",
    "\n",
    "plt.plot(a,ysin)\n",
    "plt.plot(a,ycos)\n",
    "\n",
    "for close in a_filtered :\n",
    "    plt.axvline(close,color='g')"
   ]
  },
  {
   "cell_type": "markdown",
   "metadata": {},
   "source": [
    "5\\. Create a matrix that shows the 10 by 10 multiplication table.\n",
    "\n",
    " * Find the trace of the matrix\n",
    " * Extract the anto-diagonal (this should be ```array([10, 18, 24, 28, 30, 30, 28, 24, 18, 10])```)\n",
    " * Extract the diagnoal offset by 1 upwards (this should be ```array([ 2,  6, 12, 20, 30, 42, 56, 72, 90])```)"
   ]
  },
  {
   "cell_type": "code",
   "execution_count": 115,
   "metadata": {},
   "outputs": [
    {
     "name": "stdout",
     "output_type": "stream",
     "text": [
      "anti diagonal: [10 18 24 28 30 30 28 24 18 10] \n",
      "\n",
      "diagonal offset by 1 upwards: [ 2  6 12 20 30 42 56 72 90]\n"
     ]
    }
   ],
   "source": [
    "a = np.arange(1,11)\n",
    "b = np.tile(a,(10,1))\n",
    "m = b*b.T\n",
    "#print (m)\n",
    "anti_diag = m[a-1,-a]\n",
    "diag_off = m[(0,1,2,3,4,5,6,7,8),(1,2,3,4,5,6,7,8,9)]\n",
    "print (\"anti diagonal:\", anti_diag, \"\\n\")\n",
    "print (\"diagonal offset by 1 upwards:\", diag_off)"
   ]
  },
  {
   "cell_type": "markdown",
   "metadata": {},
   "source": [
    "6\\. Use broadcasting to create a grid of distances\n",
    "\n",
    "Route 66 crosses the following cities in the US: Chicago, Springfield, Saint-Louis, Tulsa, Oklahoma City, Amarillo, Santa Fe, Albuquerque, Flagstaff, Los Angeles\n",
    "The corresponding positions in miles are: 0, 198, 303, 736, 871, 1175, 1475, 1544, 1913, 2448\n",
    "\n",
    "  * Construct a 2D grid of distances among each city along Route 66\n",
    "  * Convert that in km (those savages...)"
   ]
  },
  {
   "cell_type": "code",
   "execution_count": 161,
   "metadata": {},
   "outputs": [
    {
     "name": "stdout",
     "output_type": "stream",
     "text": [
      "[[    0   198   303   736   871  1175  1475  1544  1913  2448]\n",
      " [ -198     0   105   538   673   977  1277  1346  1715  2250]\n",
      " [ -303  -105     0   433   568   872  1172  1241  1610  2145]\n",
      " [ -736  -538  -433     0   135   439   739   808  1177  1712]\n",
      " [ -871  -673  -568  -135     0   304   604   673  1042  1577]\n",
      " [-1175  -977  -872  -439  -304     0   300   369   738  1273]\n",
      " [-1475 -1277 -1172  -739  -604  -300     0    69   438   973]\n",
      " [-1544 -1346 -1241  -808  -673  -369   -69     0   369   904]\n",
      " [-1913 -1715 -1610 -1177 -1042  -738  -438  -369     0   535]\n",
      " [-2448 -2250 -2145 -1712 -1577 -1273  -973  -904  -535     0]]\n",
      "[[    0.         318.650112   487.631232  1184.477184  1401.738624\n",
      "   1890.9792    2373.7824    2484.827136  3078.675072  3939.674112]\n",
      " [ -318.650112     0.         168.98112    865.827072  1083.088512\n",
      "   1572.329088  2055.132288  2166.177024  2760.02496   3621.024   ]\n",
      " [ -487.631232  -168.98112      0.         696.845952   914.107392\n",
      "   1403.347968  1886.151168  1997.195904  2591.04384   3452.04288 ]\n",
      " [-1184.477184  -865.827072  -696.845952     0.         217.26144\n",
      "    706.502016  1189.305216  1300.349952  1894.197888  2755.196928]\n",
      " [-1401.738624 -1083.088512  -914.107392  -217.26144      0.\n",
      "    489.240576   972.043776  1083.088512  1676.936448  2537.935488]\n",
      " [-1890.9792   -1572.329088 -1403.347968  -706.502016  -489.240576\n",
      "      0.         482.8032     593.847936  1187.695872  2048.694912]\n",
      " [-2373.7824   -2055.132288 -1886.151168 -1189.305216  -972.043776\n",
      "   -482.8032       0.         111.044736   704.892672  1565.891712]\n",
      " [-2484.827136 -2166.177024 -1997.195904 -1300.349952 -1083.088512\n",
      "   -593.847936  -111.044736     0.         593.847936  1454.846976]\n",
      " [-3078.675072 -2760.02496  -2591.04384  -1894.197888 -1676.936448\n",
      "  -1187.695872  -704.892672  -593.847936     0.         860.99904 ]\n",
      " [-3939.674112 -3621.024    -3452.04288  -2755.196928 -2537.935488\n",
      "  -2048.694912 -1565.891712 -1454.846976  -860.99904      0.      ]]\n"
     ]
    }
   ],
   "source": [
    "dista = np.array([0, 198, 303, 736, 871, 1175, 1475, 1544, 1913, 2448])\n",
    "aa = np.tile(dista,(len(dista),1))\n",
    "bb = aa.T\n",
    "final = aa-bb\n",
    "print(final)\n",
    "\n",
    "final_km = final * 1.609344 # km\n",
    "print (final_km)"
   ]
  },
  {
   "cell_type": "markdown",
   "metadata": {},
   "source": [
    "7\\. Prime numbers sieve: compute the prime numbers in the 0-N (N=99 to start with) range with a sieve (mask).\n",
    "  * Constract a shape (100,) boolean array, the mask\n",
    "  * Identify the multiples of each number starting from 2 and set accordingly the corresponding mask element\n",
    "  * Apply the mask to obtain an array of ordered prime numbers\n",
    "  * Check the performances (timeit); how does it scale with N?\n",
    "  * Implement the optimization suggested in the [sieve of Eratosthenes](https://en.wikipedia.org/wiki/Sieve_of_Eratosthenes)"
   ]
  },
  {
   "cell_type": "code",
   "execution_count": 38,
   "metadata": {},
   "outputs": [
    {
     "name": "stdout",
     "output_type": "stream",
     "text": [
      "N = 10 :\n",
      "33.8 µs ± 2.4 µs per loop (mean ± std. dev. of 7 runs, 10000 loops each)\n",
      "N = 50 :\n",
      "452 µs ± 20.7 µs per loop (mean ± std. dev. of 7 runs, 1000 loops each)\n",
      "N = 100 :\n",
      "1.66 ms ± 20 µs per loop (mean ± std. dev. of 7 runs, 1000 loops each)\n"
     ]
    }
   ],
   "source": [
    "def mask_func(N) :\n",
    "    mask = np.ones(N, dtype=bool)\n",
    "    #print(mask)\n",
    "    i = 2\n",
    "    while i < N :\n",
    "        for index, elem in enumerate(mask) :\n",
    "            if index / i > 1 and index % i == 0 :\n",
    "                mask[index] = 0\n",
    "        i += 1\n",
    "    return mask\n",
    "    #print (mask)\n",
    "\n",
    "mm = np.arange(10)\n",
    "print (\"N = 10 :\")\n",
    "%timeit mm[mask_func(10)]\n",
    "\n",
    "nn = np.arange(50)\n",
    "print (\"N = 50 :\")\n",
    "%timeit nn[mask_func(50)]\n",
    "\n",
    "pp = np.arange(100)\n",
    "print (\"N = 100 :\")\n",
    "%timeit pp[mask_func(100)]\n"
   ]
  },
  {
   "cell_type": "code",
   "execution_count": 58,
   "metadata": {},
   "outputs": [
    {
     "name": "stdout",
     "output_type": "stream",
     "text": [
      "8.8 µs ± 80.7 ns per loop (mean ± std. dev. of 7 runs, 100000 loops each)\n",
      "[0 1 2 3 5 7]\n",
      "66 µs ± 1.55 µs per loop (mean ± std. dev. of 7 runs, 10000 loops each)\n",
      "[ 0  1  2  3  5  7 11 13 17 19 23 29 31 37 41 43 47 53 59 61 67 71 73 79\n",
      " 83 89 97]\n"
     ]
    }
   ],
   "source": [
    "def sleve_func(N):\n",
    "    mask = np.ones(N, dtype=bool)\n",
    "    i = 2\n",
    "    while i < N :\n",
    "        mask[i+i::i]=0\n",
    "        i+=1\n",
    "    return mask\n",
    "\n",
    "mm2 = np.arange(10)\n",
    "%timeit mm2[sleve_func(10)]\n",
    "print (mm2[sleve_func(10)])\n",
    "\n",
    "nn2 = np.arange(100)\n",
    "%timeit nn2[sleve_func(100)]\n",
    "print (nn2[sleve_func(100)])"
   ]
  },
  {
   "cell_type": "markdown",
   "metadata": {},
   "source": [
    "8\\. Diffusion using random walk\n",
    "\n",
    "Consider a simple random walk process: at each step in time, a walker jumps right or left (+1 or -1) with equal probability. The goal is to find the typical distance from the origin of a random walker after a given amount of time. \n",
    "To do that, let's simulate many walkers and create a 2D array with each walker as a raw and the actual time evolution as columns\n",
    "\n",
    "  * Take 1000 walkers and let them walk for 200 steps\n",
    "  * Use randint to create a 2D array of size walkers x steps with values -1 or 1\n",
    "  * Build the actual walking distances for each walker (i.e. another 2D array \"summing on each raw\")\n",
    "  * Take the square of that 2D array (elementwise)\n",
    "  * Compute the mean of the squared distances at each step (i.e. the mean along the columns)\n",
    "  * Plot the average distances (sqrt(distance\\*\\*2)) as a function of time (step)\n",
    "  \n",
    "Did you get what you expected?"
   ]
  },
  {
   "cell_type": "code",
   "execution_count": 86,
   "metadata": {},
   "outputs": [
    {
     "data": {
      "text/plain": [
       "[<matplotlib.lines.Line2D at 0x10a49ee48>]"
      ]
     },
     "execution_count": 86,
     "metadata": {},
     "output_type": "execute_result"
    },
    {
     "data": {
      "image/png": "[encoded data removed]",
      "text/plain": [
       "<Figure size 432x288 with 1 Axes>"
      ]
     },
     "metadata": {},
     "output_type": "display_data"
    }
   ],
   "source": [
    "def average_dist(st) :\n",
    "    walkers=1000\n",
    "    mat = npr.randint(-1,1,(walkers,st))\n",
    "    mat[(mat==0)]=1\n",
    "    summ = mat.sum(axis=1)\n",
    "    mean=np.mean(summ*summ)\n",
    "    av_dist = np.sqrt(mean)\n",
    "    return av_dist\n",
    "steps = np.arange(400)\n",
    "averages = [average_dist(step) for step in steps]\n",
    "\n",
    "plt.plot(steps,averages)"
   ]
  },
  {
   "cell_type": "markdown",
   "metadata": {},
   "source": [
    "9\\. Analyze a data file \n",
    "  * Download the population of hares, lynxes and carrots at the beginning of the last century.\n",
    "    ```python\n",
    "    ! wget https://www.dropbox.com/s/3vigxoqayo389uc/populations.txt\n",
    "    ```\n",
    "\n",
    "  * Check the content by looking within the file\n",
    "  * Load the data (use an appropriate numpy method) into a 2D array\n",
    "  * Create arrays out of the columns, the arrays being (in order): *year*, *hares*, *lynxes*, *carrots* \n",
    "  * Plot the 3 populations over the years\n",
    "  * Compute the main statistical properties of the dataset (mean, std, correlations, etc.)\n",
    "  * Which species has the highest population each year?\n",
    "\n",
    "Do you feel there is some evident correlation here? [Studies](https://www.enr.gov.nt.ca/en/services/lynx/lynx-snowshoe-hare-cycle) tend to believe so."
   ]
  },
  {
   "cell_type": "code",
   "execution_count": 112,
   "metadata": {},
   "outputs": [
    {
     "name": "stdout",
     "output_type": "stream",
     "text": [
      "hares mean, std: 34080.95238095238 20897.906458089667\n",
      "lynxes mean, std: 20166.666666666668 16254.591536908763\n",
      "carrots mean, std: 42400.0 3322.5062255844787\n",
      "correlation between hares and lynxes population:\n",
      " [[1.         0.07189206]\n",
      " [0.07189206 1.        ]]\n",
      "correlation between hares and carrots population:\n",
      " [[ 1.         -0.01660378]\n",
      " [-0.01660378  1.        ]]\n"
     ]
    },
    {
     "data": {
      "image/png": "[encoded data removed]",
      "text/plain": [
       "<Figure size 432x288 with 1 Axes>"
      ]
     },
     "metadata": {},
     "output_type": "display_data"
    }
   ],
   "source": [
    "data = np.loadtxt(\"populations.txt\")\n",
    "year=data[:,0]\n",
    "hares = data[:,1]\n",
    "lynxes = data[:,2]\n",
    "carrots = data[:,3]\n",
    "\n",
    "plt.plot(year,hares,label='hares')\n",
    "plt.plot(year,lynxes,label='lynxes')\n",
    "plt.plot(year,carrots,label='carrots')\n",
    "plt.legend()\n",
    "\n",
    "print(\"hares mean, std:\", hares.mean(), hares.std())\n",
    "print(\"lynxes mean, std:\", lynxes.mean(), lynxes.std())\n",
    "print(\"carrots mean, std:\", carrots.mean(), carrots.std())\n",
    "print(\"correlation between hares and lynxes population:\\n\", np.corrcoef(hares,lynxes))\n",
    "print(\"correlation between hares and carrots population:\\n\", np.corrcoef(hares,carrots))"
   ]
  },
  {
   "cell_type": "code",
   "execution_count": null,
   "metadata": {},
   "outputs": [],
   "source": []
  }
 ],
 "metadata": {
  "kernelspec": {
   "display_name": "Python 3",
   "language": "python",
   "name": "python3"
  },
  "language_info": {
   "codemirror_mode": {
    "name": "ipython",
    "version": 3
   },
   "file_extension": ".py",
   "mimetype": "text/x-python",
   "name": "python",
   "nbconvert_exporter": "python",
   "pygments_lexer": "ipython3",
   "version": "3.7.0"
  }
 },
 "nbformat": 4,
 "nbformat_minor": 2
}
