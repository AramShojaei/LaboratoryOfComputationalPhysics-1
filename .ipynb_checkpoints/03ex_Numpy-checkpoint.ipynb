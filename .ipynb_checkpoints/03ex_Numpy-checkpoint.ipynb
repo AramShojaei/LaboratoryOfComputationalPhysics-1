{
 "cells": [
  {
   "cell_type": "markdown",
   "metadata": {},
   "source": [
    "### Numpy basics"
   ]
  },
  {
   "cell_type": "markdown",
   "metadata": {},
   "source": [
    "1\\. Find the row, column and overall means for the following matrix:\n",
    "\n",
    "```python\n",
    "m = np.arange(12).reshape((3,4))\n",
    "```"
   ]
  },
  {
   "cell_type": "code",
   "execution_count": 1,
   "metadata": {},
   "outputs": [],
   "source": [
    "import numpy as np\n",
    "import numpy.random as npr\n",
    "import matplotlib.pyplot as plt\n",
    "import math \n",
    "%matplotlib inline"
   ]
  },
  {
   "cell_type": "code",
   "execution_count": 2,
   "metadata": {},
   "outputs": [
    {
     "name": "stdout",
     "output_type": "stream",
     "text": [
      "\n",
      " MATRIX: \n",
      " [[ 0  1  2  3]\n",
      " [ 4  5  6  7]\n",
      " [ 8  9 10 11]]\n",
      "\n",
      " Row mean: \n",
      " [1.5 5.5 9.5]\n",
      "\n",
      " Column mean: \n",
      " [4. 5. 6. 7.]\n",
      "\n",
      " Overall mean: \n",
      " 5.5\n"
     ]
    }
   ],
   "source": [
    "m = np.arange(12).reshape((3,4))\n",
    "print(\"\\n MATRIX: \\n\",m)\n",
    "\n",
    "print(\"\\n Row mean: \\n\", np.mean(m,1))\n",
    "print(\"\\n Column mean: \\n\", np.mean(m,0))\n",
    "print(\"\\n Overall mean: \\n\", np.mean(m))\n"
   ]
  },
  {
   "cell_type": "markdown",
   "metadata": {},
   "source": [
    "2\\. Find the outer product of the following two vecotrs\n",
    "\n",
    "```python\n",
    "u = np.array([1,3,5,7])\n",
    "v = np.array([2,4,6,8])\n",
    "```\n",
    "\n",
    "Do this in the following ways:\n",
    "\n",
    "   * Using the function outer in numpy\n",
    "   * Using a nested for loop or list comprehension\n",
    "   * Using numpy broadcasting operatoins\n"
   ]
  },
  {
   "cell_type": "code",
   "execution_count": 3,
   "metadata": {},
   "outputs": [
    {
     "name": "stdout",
     "output_type": "stream",
     "text": [
      "\n",
      " The outer product is: \n",
      " [[ 2  4  6  8]\n",
      " [ 6 12 18 24]\n",
      " [10 20 30 40]\n",
      " [14 28 42 56]]\n",
      "\n",
      " The outer product is: \n",
      " [[ 2  4  6  8]\n",
      " [ 6 12 18 24]\n",
      " [10 20 30 40]\n",
      " [14 28 42 56]]\n",
      "\n",
      " The outer product is: \n",
      " [[ 2  4  6  8]\n",
      " [ 6 12 18 24]\n",
      " [10 20 30 40]\n",
      " [14 28 42 56]]\n"
     ]
    }
   ],
   "source": [
    "u = np.array([1,3,5,7])\n",
    "v = np.array([2,4,6,8])\n",
    "print(\"\\n The outer product is: \\n\" , np.outer(u,v))\n",
    "listcomp = np.array([(a*b) for a in u for b in v]).reshape(4,4)\n",
    "print(\"\\n The outer product is: \\n\" , listcomp)\n",
    "v = np.array([2,4,6,8])[:, np.newaxis]\n",
    "broadcasting = v*u\n",
    "print(\"\\n The outer product is: \\n\" ,broadcasting.transpose())\n"
   ]
  },
  {
   "cell_type": "markdown",
   "metadata": {},
   "source": [
    "3\\. Create a 10 by 6 matrix of random uniform numbers. Set all rows with any entry less than 0.1 to be zero\n",
    "\n",
    "Hint: Use the following numpy functions - np.random.random, np.any as well as Boolean indexing and the axis argument."
   ]
  },
  {
   "cell_type": "code",
   "execution_count": 4,
   "metadata": {},
   "outputs": [
    {
     "name": "stdout",
     "output_type": "stream",
     "text": [
      "\n",
      " Random matrix: \n",
      " [[0.47351301 0.63106681 0.50327694 0.80473677 0.20615731 0.60092046]\n",
      " [0.91334323 0.7958663  0.74635459 0.06373562 0.73772828 0.42618141]\n",
      " [0.67014862 0.84212156 0.62965104 0.51536118 0.33669252 0.6522674 ]\n",
      " [0.69356998 0.21870372 0.49959463 0.24989781 0.67590915 0.06999617]\n",
      " [0.37949863 0.94588073 0.92684986 0.20664742 0.8635276  0.25378037]\n",
      " [0.07618391 0.38955268 0.32258659 0.23680613 0.03153259 0.1716097 ]\n",
      " [0.06074883 0.74955832 0.76881696 0.94308214 0.79051924 0.65228303]\n",
      " [0.56106249 0.97051089 0.92288261 0.85455862 0.40981597 0.80302032]\n",
      " [0.0250913  0.33235508 0.24807287 0.9389024  0.78565163 0.82808759]\n",
      " [0.82173694 0.11658768 0.90665057 0.69003728 0.51713434 0.75902944]]\n",
      "\n",
      " This is the mask matrix: \n",
      " [[False False False False False False]\n",
      " [False False False  True False False]\n",
      " [False False False False False False]\n",
      " [False False False False False  True]\n",
      " [False False False False False False]\n",
      " [ True False False False  True False]\n",
      " [ True False False False False False]\n",
      " [False False False False False False]\n",
      " [ True False False False False False]\n",
      " [False False False False False False]]\n",
      "\n",
      " The final result: \n",
      " [[0.47351301 0.63106681 0.50327694 0.80473677 0.20615731 0.60092046]\n",
      " [0.         0.         0.         0.         0.         0.        ]\n",
      " [0.67014862 0.84212156 0.62965104 0.51536118 0.33669252 0.6522674 ]\n",
      " [0.         0.         0.         0.         0.         0.        ]\n",
      " [0.37949863 0.94588073 0.92684986 0.20664742 0.8635276  0.25378037]\n",
      " [0.         0.         0.         0.         0.         0.        ]\n",
      " [0.         0.         0.         0.         0.         0.        ]\n",
      " [0.56106249 0.97051089 0.92288261 0.85455862 0.40981597 0.80302032]\n",
      " [0.         0.         0.         0.         0.         0.        ]\n",
      " [0.82173694 0.11658768 0.90665057 0.69003728 0.51713434 0.75902944]]\n"
     ]
    }
   ],
   "source": [
    "npr.seed(1204532)\n",
    "matrix = npr.rand(10,6)\n",
    "print(\"\\n Random matrix: \\n\", matrix)\n",
    "mask = (matrix < 0.1)\n",
    "print(\"\\n This is the mask matrix: \\n\",mask)\n",
    "anyresult = np.any(mask,1)\n",
    "i = 0\n",
    "for elem in anyresult:\n",
    "    if elem==True:\n",
    "        matrix[i,:]=0\n",
    "    i=i+1\n",
    "print(\"\\n The final result: \\n\",matrix)\n",
    "        "
   ]
  },
  {
   "cell_type": "markdown",
   "metadata": {},
   "source": [
    "4\\. Use np.linspace to create an array of 100 numbers between 0 and 2π (includsive).\n",
    "\n",
    "  * Extract every 10th element using slice notation\n",
    "  * Reverse the array using slice notation\n",
    "  * Extract elements where the absolute difference between the sine and cosine functions evaluated at that element is less than 0.1\n",
    "  * Make a plot showing the sin and cos functions and indicate where they are close"
   ]
  },
  {
   "cell_type": "code",
   "execution_count": 5,
   "metadata": {},
   "outputs": [
    {
     "name": "stdout",
     "output_type": "stream",
     "text": [
      "\n",
      " Extract every 10th element using slice notation: \n",
      " [0.         0.63466518 1.26933037 1.90399555 2.53866073 3.17332591\n",
      " 3.8079911  4.44265628 5.07732146 5.71198664]\n",
      "\n",
      " Reverse the array using slice notation: \n",
      " [6.28318531 6.21971879 6.15625227 6.09278575 6.02931923 5.96585272\n",
      " 5.9023862  5.83891968 5.77545316 5.71198664 5.64852012 5.58505361\n",
      " 5.52158709 5.45812057 5.39465405 5.33118753 5.26772102 5.2042545\n",
      " 5.14078798 5.07732146 5.01385494 4.95038842 4.88692191 4.82345539\n",
      " 4.75998887 4.69652235 4.63305583 4.56958931 4.5061228  4.44265628\n",
      " 4.37918976 4.31572324 4.25225672 4.1887902  4.12532369 4.06185717\n",
      " 3.99839065 3.93492413 3.87145761 3.8079911  3.74452458 3.68105806\n",
      " 3.61759154 3.55412502 3.4906585  3.42719199 3.36372547 3.30025895\n",
      " 3.23679243 3.17332591 3.10985939 3.04639288 2.98292636 2.91945984\n",
      " 2.85599332 2.7925268  2.72906028 2.66559377 2.60212725 2.53866073\n",
      " 2.47519421 2.41172769 2.34826118 2.28479466 2.22132814 2.15786162\n",
      " 2.0943951  2.03092858 1.96746207 1.90399555 1.84052903 1.77706251\n",
      " 1.71359599 1.65012947 1.58666296 1.52319644 1.45972992 1.3962634\n",
      " 1.33279688 1.26933037 1.20586385 1.14239733 1.07893081 1.01546429\n",
      " 0.95199777 0.88853126 0.82506474 0.76159822 0.6981317  0.63466518\n",
      " 0.57119866 0.50773215 0.44426563 0.38079911 0.31733259 0.25386607\n",
      " 0.19039955 0.12693304 0.06346652 0.        ]\n",
      "\n",
      " Elements where the absolute difference between the sine and cosine functions evaluated at that element is less than 0.1: \n",
      " [0.7615982190520711, 0.8250647373064104, 3.8714576135146945, 3.934924131769034]\n"
     ]
    },
    {
     "data": {
      "image/png": "[encoded data removed]",
      "text/plain": [
       "<Figure size 432x288 with 1 Axes>"
      ]
     },
     "metadata": {
      "needs_background": "light"
     },
     "output_type": "display_data"
    }
   ],
   "source": [
    "arr = np.linspace(0,2*math.pi,100,endpoint=True)\n",
    "arr_slice = arr[0::10]\n",
    "print(\"\\n Extract every 10th element using slice notation: \\n\",arr_slice)\n",
    "arr_reverse = arr[::-1]\n",
    "print(\"\\n Reverse the array using slice notation: \\n\",arr_reverse)\n",
    "arr_cs = [x for x in arr if np.absolute(np.cos(x)-np.sin(x))<0.1]\n",
    "print(\"\\n Elements where the absolute difference between the sine and cosine functions evaluated at that element is less than 0.1: \\n\", arr_cs)\n",
    "\n",
    "\n",
    "y = np.sin(arr)\n",
    "z = np.cos(arr)\n",
    "\n",
    "plt.plot(arr, y) \n",
    "plt.plot(arr, z)\n",
    "plt.xlabel(\"Functions\")\n",
    "plt.ylabel(\"Values\")\n",
    "\n",
    "\n",
    "idx = np.argwhere(abs(y-z)<0.1).flatten()\n",
    "\n",
    "plt.plot(arr[idx], y[idx], 'ro')\n",
    "plt.plot(arr[idx], z[idx], 'ro')\n",
    "plt.show()\n"
   ]
  },
  {
   "cell_type": "markdown",
   "metadata": {},
   "source": [
    "5\\. Create a matrix that shows the 10 by 10 multiplication table.\n",
    "\n",
    " * Find the trace of the matrix\n",
    " * Extract the anto-diagonal (this should be ```array([10, 18, 24, 28, 30, 30, 28, 24, 18, 10])```)\n",
    " * Extract the diagnoal offset by 1 upwards (this should be ```array([ 2,  6, 12, 20, 30, 42, 56, 72, 90])```)"
   ]
  },
  {
   "cell_type": "code",
   "execution_count": 6,
   "metadata": {},
   "outputs": [
    {
     "name": "stdout",
     "output_type": "stream",
     "text": [
      "[[  2   4   6   8  10  12  14  16  18  20]\n",
      " [  3   6   9  12  15  18  21  24  27  30]\n",
      " [  4   8  12  16  20  24  28  32  36  40]\n",
      " [  5  10  15  20  25  30  35  40  45  50]\n",
      " [  6  12  18  24  30  36  42  48  54  60]\n",
      " [  7  14  21  28  35  42  49  56  63  70]\n",
      " [  8  16  24  32  40  48  56  64  72  80]\n",
      " [  9  18  27  36  45  54  63  72  81  90]\n",
      " [ 10  20  30  40  50  60  70  80  90 100]\n",
      " [  1   2   3   4   5   6   7   8   9  10]]\n",
      "\n",
      " Matrix that shows the 10 by 10 multiplication table: \n",
      " [[  1   2   3   4   5   6   7   8   9  10]\n",
      " [  2   4   6   8  10  12  14  16  18  20]\n",
      " [  3   6   9  12  15  18  21  24  27  30]\n",
      " [  4   8  12  16  20  24  28  32  36  40]\n",
      " [  5  10  15  20  25  30  35  40  45  50]\n",
      " [  6  12  18  24  30  36  42  48  54  60]\n",
      " [  7  14  21  28  35  42  49  56  63  70]\n",
      " [  8  16  24  32  40  48  56  64  72  80]\n",
      " [  9  18  27  36  45  54  63  72  81  90]\n",
      " [ 10  20  30  40  50  60  70  80  90 100]]\n",
      "\n",
      " The trace of the matrix is: 385\n",
      "\n",
      " The anto-diagonal matrix is: \n",
      " [10 18 24 28 30 30 28 24 18 10]\n",
      "\n",
      " The diagonal matrix is: \n",
      " [ 2  6 12 20 30 42 56 72 90]\n"
     ]
    }
   ],
   "source": [
    "matrix = np.array([i*j for i in range(1,11) for j in range(1,11)]).reshape(10,10)\n",
    "\n",
    "print(np.roll(matrix, -1, axis=0))\n",
    "\n",
    "print(\"\\n Matrix that shows the 10 by 10 multiplication table: \\n\",matrix)\n",
    "print(\"\\n The trace of the matrix is:\",np.trace(matrix))\n",
    "print(\"\\n The anto-diagonal matrix is: \\n\", np.diag(matrix[:,::-1]))\n",
    "print(\"\\n The diagonal matrix is: \\n\", matrix[(0,1,2,3,4,5,6,7,8),(1,2,3,4,5,6,7,8,9)])\n",
    "\n",
    "        "
   ]
  },
  {
   "cell_type": "markdown",
   "metadata": {},
   "source": [
    "6\\. Use broadcasting to create a grid of distances\n",
    "\n",
    "Route 66 crosses the following cities in the US: Chicago, Springfield, Saint-Louis, Tulsa, Oklahoma City, Amarillo, Santa Fe, Albuquerque, Flagstaff, Los Angeles\n",
    "The corresponding positions in miles are: 0, 198, 303, 736, 871, 1175, 1475, 1544, 1913, 2448\n",
    "\n",
    "  * Construct a 2D grid of distances among each city along Route 66\n",
    "  * Convert that in km (those savages...)"
   ]
  },
  {
   "cell_type": "code",
   "execution_count": 7,
   "metadata": {},
   "outputs": [
    {
     "name": "stdout",
     "output_type": "stream",
     "text": [
      "Grid: \n",
      " [[    0   198   303   736   871  1175  1475  1544  1913  2448]\n",
      " [ -198     0   105   538   673   977  1277  1346  1715  2250]\n",
      " [ -303  -105     0   433   568   872  1172  1241  1610  2145]\n",
      " [ -736  -538  -433     0   135   439   739   808  1177  1712]\n",
      " [ -871  -673  -568  -135     0   304   604   673  1042  1577]\n",
      " [-1175  -977  -872  -439  -304     0   300   369   738  1273]\n",
      " [-1475 -1277 -1172  -739  -604  -300     0    69   438   973]\n",
      " [-1544 -1346 -1241  -808  -673  -369   -69     0   369   904]\n",
      " [-1913 -1715 -1610 -1177 -1042  -738  -438  -369     0   535]\n",
      " [-2448 -2250 -2145 -1712 -1577 -1273  -973  -904  -535     0]]\n",
      "Grid in km: \n",
      " [[    0.        318.64932   487.63002  1184.47424  1401.73514  1890.9745\n",
      "   2373.7765   2484.82096  3078.66742  3939.66432]\n",
      " [ -318.64932     0.        168.9807    865.82492  1083.08582  1572.32518\n",
      "   2055.12718  2166.17164  2760.0181   3621.015  ]\n",
      " [ -487.63002  -168.9807      0.        696.84422   914.10512  1403.34448\n",
      "   1886.14648  1997.19094  2591.0374   3452.0343 ]\n",
      " [-1184.47424  -865.82492  -696.84422     0.        217.2609    706.50026\n",
      "   1189.30226  1300.34672  1894.19318  2755.19008]\n",
      " [-1401.73514 -1083.08582  -914.10512  -217.2609      0.        489.23936\n",
      "    972.04136  1083.08582  1676.93228  2537.92918]\n",
      " [-1890.9745  -1572.32518 -1403.34448  -706.50026  -489.23936     0.\n",
      "    482.802     593.84646  1187.69292  2048.68982]\n",
      " [-2373.7765  -2055.12718 -1886.14648 -1189.30226  -972.04136  -482.802\n",
      "      0.        111.04446   704.89092  1565.88782]\n",
      " [-2484.82096 -2166.17164 -1997.19094 -1300.34672 -1083.08582  -593.84646\n",
      "   -111.04446     0.        593.84646  1454.84336]\n",
      " [-3078.66742 -2760.0181  -2591.0374  -1894.19318 -1676.93228 -1187.69292\n",
      "   -704.89092  -593.84646     0.        860.9969 ]\n",
      " [-3939.66432 -3621.015   -3452.0343  -2755.19008 -2537.92918 -2048.68982\n",
      "  -1565.88782 -1454.84336  -860.9969      0.     ]]\n"
     ]
    }
   ],
   "source": [
    "route_66 = np.array([0, 198, 303, 736, 871, 1175, 1475, 1544, 1913, 2448])\n",
    "d2_grid = route_66 - route_66.reshape(10,1)\n",
    "cost_km = 1.60934\n",
    "print(\"Grid: \\n\", format(d2_grid))\n",
    "print(\"Grid in km: \\n\", format(d2_grid*cost_km))\n"
   ]
  },
  {
   "cell_type": "markdown",
   "metadata": {},
   "source": [
    "7\\. Prime numbers sieve: compute the prime numbers in the 0-N (N=99 to start with) range with a sieve (mask).\n",
    "  * Constract a shape (100,) boolean array, the mask\n",
    "  * Identify the multiples of each number starting from 2 and set accordingly the corresponding mask element\n",
    "  * Apply the mask to obtain an array of ordered prime numbers\n",
    "  * Check the performances (timeit); how does it scale with N?\n",
    "  * Implement the optimization suggested in the [sieve of Eratosthenes](https://en.wikipedia.org/wiki/Sieve_of_Eratosthenes)"
   ]
  },
  {
   "cell_type": "code",
   "execution_count": 20,
   "metadata": {},
   "outputs": [
    {
     "name": "stdout",
     "output_type": "stream",
     "text": [
      "[2, 3, 5, 7, 11, 13, 17, 19, 23, 29, 31, 37, 41, 43, 47, 53, 59, 61, 67, 71, 73, 79, 83, 89, 97, 101, 103, 107, 109, 113, 127, 131, 137, 139, 149, 151, 157, 163, 167, 173, 179, 181, 191, 193, 197, 199, 211, 223, 227, 229, 233, 239, 241, 251, 257, 263, 269, 271, 277, 281, 283, 293, 307, 311, 313, 317, 331, 337, 347, 349, 353, 359, 367, 373, 379, 383, 389, 397, 401, 409, 419, 421, 431, 433, 439, 443, 449, 457, 461, 463, 467, 479, 487, 491, 499, 503, 509, 521, 523, 541, 547, 557, 563, 569, 571, 577, 587, 593, 599, 601, 607, 613, 617, 619, 631, 641, 643, 647, 653, 659, 661, 673, 677, 683, 691, 701, 709, 719, 727, 733, 739, 743, 751, 757, 761, 769, 773, 787, 797, 809, 811, 821, 823, 827, 829, 839, 853, 857, 859, 863, 877, 881, 883, 887, 907, 911, 919, 929, 937, 941, 947, 953, 967, 971, 977, 983, 991, 997, 1009, 1013, 1019, 1021, 1031, 1033, 1039, 1049, 1051, 1061, 1063, 1069, 1087, 1091, 1093, 1097, 1103, 1109, 1117, 1123, 1129, 1151, 1153, 1163, 1171, 1181, 1187, 1193, 1201, 1213, 1217, 1223, 1229, 1231, 1237, 1249, 1259, 1277, 1279, 1283, 1289, 1291, 1297, 1301, 1303, 1307, 1319, 1321, 1327, 1361, 1367, 1373, 1381, 1399, 1409, 1423, 1427, 1429, 1433, 1439, 1447, 1451, 1453, 1459, 1471, 1481, 1483, 1487, 1489, 1493, 1499, 1511, 1523, 1531, 1543, 1549, 1553, 1559, 1567, 1571, 1579, 1583, 1597, 1601, 1607, 1609, 1613, 1619, 1621, 1627, 1637, 1657, 1663, 1667, 1669, 1693, 1697, 1699, 1709, 1721, 1723, 1733, 1741, 1747, 1753, 1759, 1777, 1783, 1787, 1789, 1801, 1811, 1823, 1831, 1847, 1861, 1867, 1871, 1873, 1877, 1879, 1889, 1901, 1907, 1913, 1931, 1933, 1949, 1951, 1973, 1979, 1987, 1993, 1997, 1999, 2003, 2011, 2017]\n",
      "729 µs ± 188 µs per loop (mean ± std. dev. of 7 runs, 10 loops each)\n",
      "78.2 µs ± 19.8 µs per loop (mean ± std. dev. of 7 runs, 10 loops each)\n",
      "13.5 ms ± 884 µs per loop (mean ± std. dev. of 7 runs, 10 loops each)\n",
      "28.7 ms ± 1.19 ms per loop (mean ± std. dev. of 7 runs, 10 loops each)\n"
     ]
    }
   ],
   "source": [
    "N = 100\n",
    "def method_1(N):\n",
    "    matrix = np.ones((N-1,), dtype=bool)\n",
    "    num = np.array([x for x in range(1,N)])\n",
    "    for n in range(2,math.ceil(N/2)):\n",
    "        prime_cond = (num%n==0) & (num > n)\n",
    "        matrix[prime_cond] = False\n",
    "        \n",
    "\n",
    "def method_2(N):\n",
    "    matrix = np.ones((N-1,), dtype=bool)\n",
    "    num = np.array([x for x in range(1,N)])\n",
    "    \n",
    "    for k in range(2,math.ceil(N/2)-1):\n",
    "        if(matrix[k]):\n",
    "            for j in range(i**2,N-1):\n",
    "                matrix[j] = False\n",
    "                \n",
    "def sieve_of_eratosthenes(max_integer):\n",
    "    sieve = [True for _ in range(max_integer + 1)]\n",
    "    sieve[0:1] = [False, False]\n",
    "    for start in range(2, max_integer + 1):\n",
    "        if sieve[start]:\n",
    "            for i in range(2 * start, max_integer + 1, start):\n",
    "                sieve[i] = False\n",
    "    primes = []\n",
    "    for i in range(2, max_integer + 1):\n",
    "        if sieve[i]:\n",
    "            primes.append(i)\n",
    "    return primes\n",
    "\n",
    "print(sieve_of_eratosthenes(2019))\n",
    "                \n",
    "\n",
    "print(\"\\nHere some checks of the performances: \")\n",
    "%timeit -n 10 method_1(N)\n",
    "%timeit -n 10 method_2(N)\n",
    "%timeit -n 10 method_1(10*N)\n",
    "%timeit -n 10 method_2(10*N)"
   ]
  },
  {
   "cell_type": "markdown",
   "metadata": {},
   "source": [
    "8\\. Diffusion using random walk\n",
    "\n",
    "Consider a simple random walk process: at each step in time, a walker jumps right or left (+1 or -1) with equal probability. The goal is to find the typical distance from the origin of a random walker after a given amount of time. \n",
    "To do that, let's simulate many walkers and create a 2D array with each walker as a raw and the actual time evolution as columns\n",
    "\n",
    "  * Take 1000 walkers and let them walk for 200 steps\n",
    "  * Use randint to create a 2D array of size walkers x steps with values -1 or 1\n",
    "  * Build the actual walking distances for each walker (i.e. another 2D array \"summing on each raw\")\n",
    "  * Take the square of that 2D array (elementwise)\n",
    "  * Compute the mean of the squared distances at each step (i.e. the mean along the columns)\n",
    "  * Plot the average distances (sqrt(distance\\*\\*2)) as a function of time (step)\n",
    "  \n",
    "Did you get what you expected?\n",
    "\n",
    "Yes because i'm plotting the mean squared, so at each step i'm taking elements that are on average greater than the previous step. For example at the step 1 i can only have -1 or 1, but since i'm taking the squared value i can only have 1. At the second step i can only have 0 or 4 (already squared) and so on. "
   ]
  },
  {
   "cell_type": "code",
   "execution_count": 9,
   "metadata": {},
   "outputs": [
    {
     "data": {
      "image/png": "[encoded data removed]",
      "text/plain": [
       "<Figure size 432x288 with 1 Axes>"
      ]
     },
     "metadata": {
      "needs_background": "light"
     },
     "output_type": "display_data"
    }
   ],
   "source": [
    "np.random.seed(100)\n",
    "\n",
    "walkers = np.zeros((1000,200))\n",
    "matrix = np.random.randint(-1,1,size=walkers.shape) \n",
    "matrix[matrix==0]=1\n",
    "\n",
    "sum_ = np.cumsum(matrix, axis=1)\n",
    "squared_sum= sum_**2\n",
    "mean_ = np.mean(squared_sum, axis=0)\n",
    "plt.plot(mean_**0.5)\n",
    "plt.xlabel(\"Steps of the walkers\")\n",
    "plt.ylabel(\"Average distances\")\n",
    "plt.show()"
   ]
  },
  {
   "cell_type": "markdown",
   "metadata": {},
   "source": [
    "9\\. Analyze a data file \n",
    "  * Download the population of hares, lynxes and carrots at the beginning of the last century.\n",
    "    ```python\n",
    "    ! wget https://www.dropbox.com/s/3vigxoqayo389uc/populations.txt\n",
    "    ```\n",
    "\n",
    "  * Check the content by looking within the file\n",
    "  * Load the data (use an appropriate numpy method) into a 2D array\n",
    "  * Create arrays out of the columns, the arrays being (in order): *year*, *hares*, *lynxes*, *carrots* \n",
    "  * Plot the 3 populations over the years\n",
    "  * Compute the main statistical properties of the dataset (mean, std, correlations, etc.)\n",
    "  * Which species has the highest population each year?\n",
    "\n",
    "Do you feel there is some evident correlation here? [Studies](https://www.enr.gov.nt.ca/en/services/lynx/lynx-snowshoe-hare-cycle) tend to believe so."
   ]
  },
  {
   "cell_type": "code",
   "execution_count": 10,
   "metadata": {},
   "outputs": [
    {
     "name": "stdout",
     "output_type": "stream",
     "text": [
      "array dimensions (rank): 2\n"
     ]
    },
    {
     "data": {
      "image/png": "[encoded data removed]",
      "text/plain": [
       "<Figure size 432x288 with 1 Axes>"
      ]
     },
     "metadata": {
      "needs_background": "light"
     },
     "output_type": "display_data"
    },
    {
     "name": "stdout",
     "output_type": "stream",
     "text": [
      "max: 77400.0\n",
      "mean: 34080.95238095238\n",
      "standard deviation: 20897.906458089667\n"
     ]
    },
    {
     "data": {
      "image/png": "[encoded data removed]",
      "text/plain": [
       "<Figure size 432x288 with 1 Axes>"
      ]
     },
     "metadata": {
      "needs_background": "light"
     },
     "output_type": "display_data"
    },
    {
     "name": "stdout",
     "output_type": "stream",
     "text": [
      "max: 59400.0\n",
      "mean: 20166.666666666668\n",
      "standard deviation: 16254.591536908763\n"
     ]
    },
    {
     "data": {
      "image/png": "[encoded data removed]",
      "text/plain": [
       "<Figure size 432x288 with 1 Axes>"
      ]
     },
     "metadata": {
      "needs_background": "light"
     },
     "output_type": "display_data"
    },
    {
     "name": "stdout",
     "output_type": "stream",
     "text": [
      "max: 48300.0\n",
      "mean: 42400.0\n",
      "standard deviation: 3322.5062255844787\n",
      "\n",
      "\n",
      "In the 1900 year hares have the biggest population\n",
      "In the 1901 year hares have the biggest population\n",
      "In the 1902 year hares have the biggest population\n",
      "In the 1903 year hares have the biggest population\n",
      "In the 1904 year lynxes have the biggest population\n",
      "In the 1905 year lynxes have the biggest population\n",
      "In the 1906 year lynxes have the biggest population\n",
      "In the 1907 year hares have the biggest population\n",
      "In the 1908 year hares have the biggest population\n",
      "In the 1909 year hares have the biggest population\n",
      "In the 1910 year hares have the biggest population\n",
      "In the 1911 year hares have the biggest population\n",
      "In the 1912 year hares have the biggest population\n",
      "In the 1913 year hares have the biggest population\n",
      "In the 1914 year hares have the biggest population\n",
      "In the 1915 year lynxes have the biggest population\n",
      "In the 1916 year lynxes have the biggest population\n",
      "In the 1917 year lynxes have the biggest population\n",
      "In the 1918 year hares have the biggest population\n",
      "In the 1919 year hares have the biggest population\n",
      "In the 1920 year hares have the biggest population\n"
     ]
    },
    {
     "data": {
      "image/png": "[encoded data removed]",
      "text/plain": [
       "<Figure size 432x288 with 1 Axes>"
      ]
     },
     "metadata": {
      "needs_background": "light"
     },
     "output_type": "display_data"
    }
   ],
   "source": [
    "file = open('populations.txt', 'r') \n",
    "\n",
    "Data = np.loadtxt(\"populations.txt\", skiprows=1)\n",
    "#print(Data)\n",
    "print (\"array dimensions (rank):\", Data.ndim)\n",
    "\n",
    "year_data = Data[:,0]\n",
    "year_hare = Data[:,1]\n",
    "year_lynx = Data[:,2]\n",
    "year_carrot = Data[:,3]\n",
    "\n",
    "plt.figure()\n",
    "plt.plot(year_data,year_hare, 'r')\n",
    "plt.xlabel('years')\n",
    "plt.ylabel('hares')\n",
    "plt.show()\n",
    "\n",
    "print (\"max:\", np.max(year_hare))\n",
    "print (\"mean:\", np.mean(year_hare))\n",
    "print (\"standard deviation:\", np.std(year_hare))\n",
    "\n",
    "plt.figure()\n",
    "plt.plot(year_data,year_lynx, 'r')\n",
    "plt.xlabel('years')\n",
    "plt.ylabel('lynx')\n",
    "plt.show()\n",
    "\n",
    "print (\"max:\", np.max(year_lynx))\n",
    "print (\"mean:\", np.mean(year_lynx))\n",
    "print (\"standard deviation:\", np.std(year_lynx))\n",
    "\n",
    "plt.figure()\n",
    "plt.plot(year_data,year_carrot, 'r')\n",
    "plt.xlabel('years')\n",
    "plt.ylabel('carrot')\n",
    "plt.show()\n",
    "\n",
    "plt.plot(year_data, year_lynx, year_data, year_carrot, year_data, year_hare, 'r')\n",
    "\n",
    "print (\"max:\", np.max(year_carrot))\n",
    "print (\"mean:\", np.mean(year_carrot))\n",
    "print (\"standard deviation:\", np.std(year_carrot))\n",
    "\n",
    "print(\"\\n\")\n",
    "for i in range(len(year_data)):\n",
    "    if year_hare[i] > year_lynx[i]:\n",
    "        print(\"In the %s year hares have the biggest population\" %int(year_data[i]))\n",
    "    elif year_hare[i] == year_lynx[i]:\n",
    "        print(\"In the %s year hares and lynxes have the same population\" %int(year_data[i]))\n",
    "    else:\n",
    "        print(\"In the %s year lynxes have the biggest population\" %int(year_data[i]))\n",
    "        \n",
    "    "
   ]
  },
  {
   "cell_type": "markdown",
   "metadata": {},
   "source": [
    "*Exercise*: write an algorithm that determins and quantifies a correlation between two time series. Use as an example the hare-lynx-carrot dataset."
   ]
  },
  {
   "cell_type": "code",
   "execution_count": 11,
   "metadata": {},
   "outputs": [
    {
     "name": "stdout",
     "output_type": "stream",
     "text": [
      "Lynxes and Hares have max correlation of: 0.9272216513116693 shifting 2 years.\n",
      "Lynxes and Carrots have max correlation of: 0.8223515889558037 shifting 17 years.\n",
      "Carrots and Hares have max correlation of: 0.87011064924829 shifting 19 years.\n"
     ]
    }
   ],
   "source": [
    "corr_tot = 0\n",
    "for i in range(len(year_lynx)):\n",
    "    corr = np.corrcoef(year_hare,np.roll(year_lynx,-i))\n",
    "    if corr_tot < corr[0,1]:\n",
    "        corr_tot = corr[0,1]\n",
    "        shifting = i\n",
    "        \n",
    "print(\"Lynxes and Hares have max correlation of: {} shifting {} years.\".format(corr_tot,shifting))\n",
    "\n",
    "corr_tot = 0\n",
    "for i in range(len(year_lynx)):\n",
    "    corr = np.corrcoef(year_lynx,np.roll(year_carrot,-i))\n",
    "    if corr_tot < corr[0,1]:\n",
    "        corr_tot = corr[0,1]\n",
    "        shifting = i\n",
    "        \n",
    "print(\"Lynxes and Carrots have max correlation of: {} shifting {} years.\".format(corr_tot,shifting))\n",
    "\n",
    "corr_tot = 0\n",
    "for i in range(len(year_lynx)):\n",
    "    corr = np.corrcoef(year_hare,np.roll(year_carrot,-i))\n",
    "    if corr_tot < corr[0,1]:\n",
    "        corr_tot = corr[0,1]\n",
    "        shifting = i\n",
    "        \n",
    "print(\"Carrots and Hares have max correlation of: {} shifting {} years.\".format(corr_tot,shifting))\n",
    "\n"
   ]
  },
  {
   "cell_type": "code",
   "execution_count": null,
   "metadata": {},
   "outputs": [],
   "source": []
  },
  {
   "cell_type": "code",
   "execution_count": null,
   "metadata": {},
   "outputs": [],
   "source": []
  }
 ],
 "metadata": {
  "kernelspec": {
   "display_name": "Python 3",
   "language": "python",
   "name": "python3"
  },
  "language_info": {
   "codemirror_mode": {
    "name": "ipython",
    "version": 3
   },
   "file_extension": ".py",
   "mimetype": "text/x-python",
   "name": "python",
   "nbconvert_exporter": "python",
   "pygments_lexer": "ipython3",
   "version": "3.7.0"
  }
 },
 "nbformat": 4,
 "nbformat_minor": 2
}
