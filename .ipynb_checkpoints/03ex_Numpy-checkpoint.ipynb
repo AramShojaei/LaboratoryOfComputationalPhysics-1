{
 "cells": [
  {
   "cell_type": "markdown",
   "metadata": {},
   "source": [
    "### Numpy basics"
   ]
  },
  {
   "cell_type": "code",
   "execution_count": 1,
   "metadata": {},
   "outputs": [],
   "source": [
    "import numpy as np # importing convention"
   ]
  },
  {
   "cell_type": "markdown",
   "metadata": {},
   "source": [
    "1\\. Find the row, column and overall means for the following matrix:\n",
    "\n",
    "```python\n",
    "m = np.arange(12).reshape((3,4))\n",
    "```"
   ]
  },
  {
   "cell_type": "code",
   "execution_count": 2,
   "metadata": {},
   "outputs": [
    {
     "name": "stdout",
     "output_type": "stream",
     "text": [
      "[[ 0  1  2  3]\n",
      " [ 4  5  6  7]\n",
      " [ 8  9 10 11]]\n",
      "mean column 1: 4.0\n",
      "mean column 2: 5.0\n",
      "mean column 3: 6.0\n",
      "mean column 4: 7.0\n",
      "mean row 1: 1.5\n",
      "mean row 2: 5.5\n",
      "mean row 3: 9.5\n",
      "overall mean : 5.5\n"
     ]
    }
   ],
   "source": [
    "m = np.arange(12).reshape((3,4))\n",
    "print(m)\n",
    "\n",
    "for i in range(np.shape(m)[1]):\n",
    "    print(\"mean column \" + str(i+1) +\": \" + str(np.mean(m[:, i])))\n",
    "\n",
    "for i in range(np.shape(m)[0]):\n",
    "    print(\"mean row \" + str(i+1) +\": \" + str(np.mean(m[i, :])))\n",
    "    \n",
    "print(\"overall mean : \" + str(np.mean(m)))"
   ]
  },
  {
   "cell_type": "markdown",
   "metadata": {},
   "source": [
    "2\\. Find the outer product of the following two vectors\n",
    "\n",
    "```python\n",
    "u = np.array([1,3,5,7])\n",
    "v = np.array([2,4,6,8])\n",
    "```\n",
    "\n",
    "Do this in the following ways:\n",
    "\n",
    "   * Using the function outer in numpy\n",
    "   * Using a nested for loop or list comprehension\n",
    "   * Using numpy broadcasting operatoins\n"
   ]
  },
  {
   "cell_type": "code",
   "execution_count": 3,
   "metadata": {},
   "outputs": [
    {
     "name": "stdout",
     "output_type": "stream",
     "text": [
      "[[ 2  4  6  8]\n",
      " [ 6 12 18 24]\n",
      " [10 20 30 40]\n",
      " [14 28 42 56]]\n",
      "[[ 2  4  6  8]\n",
      " [ 6 12 18 24]\n",
      " [10 20 30 40]\n",
      " [14 28 42 56]]\n",
      "[[ 2  4  6  8]\n",
      " [ 6 12 18 24]\n",
      " [10 20 30 40]\n",
      " [14 28 42 56]]\n"
     ]
    }
   ],
   "source": [
    "u = np.array([1,3,5,7])\n",
    "v = np.array([2,4,6,8])\n",
    "\n",
    "print(np.outer(u,v))\n",
    "\n",
    "res = np.array([u[i]*v for i in range(np.shape(v)[0])])\n",
    "\n",
    "print(res)\n",
    "\n",
    "x = np.tile(v, (np.shape(v)[0], 1))\n",
    "t = u.reshape(4, 1)\n",
    "y = np.tile(t, (1, np.shape(t)[0]))\n",
    "\n",
    "res2 = np.array([x[i, j] * y[i, j] for i in range(4) for j in range(4)]).reshape(4, 4)\n",
    "\n",
    "print(res2)"
   ]
  },
  {
   "cell_type": "markdown",
   "metadata": {},
   "source": [
    "3\\. Create a 10 by 6 matrix of random uniform numbers. Set all rows with any entry less than 0.1 to be zero\n",
    "\n",
    "Hint: Use the following numpy functions - np.random.random, np.any as well as Boolean indexing and the axis argument."
   ]
  },
  {
   "cell_type": "code",
   "execution_count": 4,
   "metadata": {},
   "outputs": [
    {
     "name": "stdout",
     "output_type": "stream",
     "text": [
      "[[0.69646919 0.28613933 0.22685145 0.55131477 0.71946897 0.42310646]\n",
      " [0.9807642  0.68482974 0.4809319  0.39211752 0.34317802 0.72904971]\n",
      " [0.43857224 0.0596779  0.39804426 0.73799541 0.18249173 0.17545176]\n",
      " [0.53155137 0.53182759 0.63440096 0.84943179 0.72445532 0.61102351]\n",
      " [0.72244338 0.32295891 0.36178866 0.22826323 0.29371405 0.63097612]\n",
      " [0.09210494 0.43370117 0.43086276 0.4936851  0.42583029 0.31226122]\n",
      " [0.42635131 0.89338916 0.94416002 0.50183668 0.62395295 0.1156184 ]\n",
      " [0.31728548 0.41482621 0.86630916 0.25045537 0.48303426 0.98555979]\n",
      " [0.51948512 0.61289453 0.12062867 0.8263408  0.60306013 0.54506801]\n",
      " [0.34276383 0.30412079 0.41702221 0.68130077 0.87545684 0.51042234]]\n",
      "[[0.69646919 0.28613933 0.22685145 0.55131477 0.71946897 0.42310646]\n",
      " [0.9807642  0.68482974 0.4809319  0.39211752 0.34317802 0.72904971]\n",
      " [0.         0.         0.         0.         0.         0.        ]\n",
      " [0.53155137 0.53182759 0.63440096 0.84943179 0.72445532 0.61102351]\n",
      " [0.72244338 0.32295891 0.36178866 0.22826323 0.29371405 0.63097612]\n",
      " [0.         0.         0.         0.         0.         0.        ]\n",
      " [0.42635131 0.89338916 0.94416002 0.50183668 0.62395295 0.1156184 ]\n",
      " [0.31728548 0.41482621 0.86630916 0.25045537 0.48303426 0.98555979]\n",
      " [0.51948512 0.61289453 0.12062867 0.8263408  0.60306013 0.54506801]\n",
      " [0.34276383 0.30412079 0.41702221 0.68130077 0.87545684 0.51042234]]\n"
     ]
    }
   ],
   "source": [
    "np.random.seed(123) \n",
    "\n",
    "m = np.random.rand(10, 6)\n",
    "\n",
    "print(m)\n",
    "\n",
    "mask = (m < 0.1)\n",
    "m[mask] = 0\n",
    "\n",
    "for i in range(np.shape(m)[0]):\n",
    "    for j in range(np.shape(m)[1]):\n",
    "        if (m[i,j] == 0):\n",
    "            m[i, :] = 0\n",
    "\n",
    "print(m)"
   ]
  },
  {
   "cell_type": "markdown",
   "metadata": {},
   "source": [
    "4\\. Use np.linspace to create an array of 100 numbers between 0 and 2π (includsive).\n",
    "\n",
    "  * Extract every 10th element using slice notation\n",
    "  * Reverse the array using slice notation\n",
    "  * Extract elements where the absolute difference between the sine and cosine functions evaluated at that element is less than 0.1\n",
    "  * Make a plot showing the sin and cos functions and indicate where they are close"
   ]
  },
  {
   "cell_type": "code",
   "execution_count": 11,
   "metadata": {},
   "outputs": [
    {
     "name": "stdout",
     "output_type": "stream",
     "text": [
      "[0.         0.06346652 0.12693304 0.19039955 0.25386607 0.31733259\n",
      " 0.38079911 0.44426563 0.50773215 0.57119866 0.63466518 0.6981317\n",
      " 0.76159822 0.82506474 0.88853126 0.95199777 1.01546429 1.07893081\n",
      " 1.14239733 1.20586385 1.26933037 1.33279688 1.3962634  1.45972992\n",
      " 1.52319644 1.58666296 1.65012947 1.71359599 1.77706251 1.84052903\n",
      " 1.90399555 1.96746207 2.03092858 2.0943951  2.15786162 2.22132814\n",
      " 2.28479466 2.34826118 2.41172769 2.47519421 2.53866073 2.60212725\n",
      " 2.66559377 2.72906028 2.7925268  2.85599332 2.91945984 2.98292636\n",
      " 3.04639288 3.10985939 3.17332591 3.23679243 3.30025895 3.36372547\n",
      " 3.42719199 3.4906585  3.55412502 3.61759154 3.68105806 3.74452458\n",
      " 3.8079911  3.87145761 3.93492413 3.99839065 4.06185717 4.12532369\n",
      " 4.1887902  4.25225672 4.31572324 4.37918976 4.44265628 4.5061228\n",
      " 4.56958931 4.63305583 4.69652235 4.75998887 4.82345539 4.88692191\n",
      " 4.95038842 5.01385494 5.07732146 5.14078798 5.2042545  5.26772102\n",
      " 5.33118753 5.39465405 5.45812057 5.52158709 5.58505361 5.64852012\n",
      " 5.71198664 5.77545316 5.83891968 5.9023862  5.96585272 6.02931923\n",
      " 6.09278575 6.15625227 6.21971879 6.28318531]\n",
      "[0.         0.63466518 1.26933037 1.90399555 2.53866073 3.17332591\n",
      " 3.8079911  4.44265628 5.07732146 5.71198664]\n",
      "[5.71198664 5.07732146 4.44265628 3.8079911  3.17332591 2.53866073\n",
      " 1.90399555 1.26933037 0.63466518]\n",
      "[0.76159822 0.82506474 3.87145761 3.93492413]\n"
     ]
    },
    {
     "data": {
      "image/png": "[encoded data removed]",
      "text/plain": [
       "<Figure size 432x288 with 1 Axes>"
      ]
     },
     "metadata": {
      "needs_background": "light"
     },
     "output_type": "display_data"
    }
   ],
   "source": [
    "from math import pi\n",
    "import matplotlib.pyplot as plt\n",
    "\n",
    "a = np.linspace(0, 2*pi, 100)\n",
    "ex = a[0:100:10]\n",
    "rev = ex[10:0:-1]\n",
    "mask = (abs(np.sin(a) - np.cos(a)) < 0.1)\n",
    "m = a[mask]\n",
    "\n",
    "print(a)\n",
    "print(ex)\n",
    "print(rev)\n",
    "print(m)\n",
    "\n",
    "%matplotlib inline \n",
    "\n",
    "xs = a\n",
    "plt.plot(xs, np.sin(xs));\n",
    "plt.plot(xs, np.cos(xs));\n",
    "plt.plot(m, np.sin(m), 'ro');\n",
    "plt.plot(m, np.cos(m), 'bo');"
   ]
  },
  {
   "cell_type": "markdown",
   "metadata": {},
   "source": [
    "5\\. Create a matrix that shows the 10 by 10 multiplication table.\n",
    "\n",
    " * Find the trace of the matrix\n",
    " * Extract the anto-diagonal (this should be ```array([10, 18, 24, 28, 30, 30, 28, 24, 18, 10])```)\n",
    " * Extract the diagnoal offset by 1 upwards (this should be ```array([ 2,  6, 12, 20, 30, 42, 56, 72, 90])```)"
   ]
  },
  {
   "cell_type": "code",
   "execution_count": 6,
   "metadata": {},
   "outputs": [
    {
     "name": "stdout",
     "output_type": "stream",
     "text": [
      "[[  1   2   3   4   5   6   7   8   9  10]\n",
      " [  2   4   6   8  10  12  14  16  18  20]\n",
      " [  3   6   9  12  15  18  21  24  27  30]\n",
      " [  4   8  12  16  20  24  28  32  36  40]\n",
      " [  5  10  15  20  25  30  35  40  45  50]\n",
      " [  6  12  18  24  30  36  42  48  54  60]\n",
      " [  7  14  21  28  35  42  49  56  63  70]\n",
      " [  8  16  24  32  40  48  56  64  72  80]\n",
      " [  9  18  27  36  45  54  63  72  81  90]\n",
      " [ 10  20  30  40  50  60  70  80  90 100]]\n",
      "385\n",
      "[10 18 24 28 30 30 28 24 18 10]\n",
      "[ 2  6 12 20 30 42 56 72 90]\n"
     ]
    }
   ],
   "source": [
    "a = np.array([i*j for i in range(1, 11) for j in range(1, 11)]).reshape(10, 10)\n",
    "\n",
    "print(a)\n",
    "\n",
    "dim = np.shape(a)[0]\n",
    "trace = 0\n",
    "for i in range(dim):\n",
    "    trace += a[i,i]\n",
    "    \n",
    "print(trace)\n",
    "\n",
    "antidiagonal = np.array([a[i, dim-i-1] for i in range(dim)])\n",
    "\n",
    "print(antidiagonal)\n",
    "\n",
    "ant3 = np.triu(a, 1)\n",
    "ant3 = np.tril(ant3, 1)\n",
    "mask = (ant3 != 0)\n",
    "antoff = ant3[mask]\n",
    "\n",
    "print(antoff)"
   ]
  },
  {
   "cell_type": "markdown",
   "metadata": {},
   "source": [
    "6\\. Use broadcasting to create a grid of distances\n",
    "\n",
    "Route 66 crosses the following cities in the US: Chicago, Springfield, Saint-Louis, Tulsa, Oklahoma City, Amarillo, Santa Fe, Albuquerque, Flagstaff, Los Angeles\n",
    "The corresponding positions in miles are: 0, 198, 303, 736, 871, 1175, 1475, 1544, 1913, 2448\n",
    "\n",
    "  * Construct a 2D grid of distances among each city along Route 66\n",
    "  * Convert that in km (those savages...)"
   ]
  },
  {
   "cell_type": "code",
   "execution_count": 7,
   "metadata": {},
   "outputs": [
    {
     "name": "stdout",
     "output_type": "stream",
     "text": [
      "[[   0  198  303  736  871 1175 1475 1544 1913 2448]\n",
      " [ 198    0  105  538  673  977 1277 1346 1715 2250]\n",
      " [ 303  105    0  433  568  872 1172 1241 1610 2145]\n",
      " [ 736  538  433    0  135  439  739  808 1177 1712]\n",
      " [ 871  673  568  135    0  304  604  673 1042 1577]\n",
      " [1175  977  872  439  304    0  300  369  738 1273]\n",
      " [1475 1277 1172  739  604  300    0   69  438  973]\n",
      " [1544 1346 1241  808  673  369   69    0  369  904]\n",
      " [1913 1715 1610 1177 1042  738  438  369    0  535]\n",
      " [2448 2250 2145 1712 1577 1273  973  904  535    0]]\n",
      "1 [[        0  12064932  18463002  44847424  53073514  71597450  89877650\n",
      "   94082096 116566742 149166432]\n",
      " [ 12064932         0   6398070  32782492  41008582  59532518  77812718\n",
      "   82017164 104501810 137101500]\n",
      " [ 18463002   6398070         0  26384422  34610512  53134448  71414648\n",
      "   75619094  98103740 130703430]\n",
      " [ 44847424  32782492  26384422         0   8226090  26750026  45030226\n",
      "   49234672  71719318 104319008]\n",
      " [ 53073514  41008582  34610512   8226090         0  18523936  36804136\n",
      "   41008582  63493228  96092918]\n",
      " [ 71597450  59532518  53134448  26750026  18523936         0  18280200\n",
      "   22484646  44969292  77568982]\n",
      " [ 89877650  77812718  71414648  45030226  36804136  18280200         0\n",
      "    4204446  26689092  59288782]\n",
      " [ 94082096  82017164  75619094  49234672  41008582  22484646   4204446\n",
      "          0  22484646  55084336]\n",
      " [116566742 104501810  98103740  71719318  63493228  44969292  26689092\n",
      "   22484646         0  32599690]\n",
      " [149166432 137101500 130703430 104319008  96092918  77568982  59288782\n",
      "   55084336  32599690         0]]\n"
     ]
    }
   ],
   "source": [
    "d = [0, 198, 303, 736, 871, 1175, 1475, 1544, 1913, 2448]\n",
    "dim = np.shape(d)[0]\n",
    "\n",
    "a = np.array([abs(d[i] - d[j]) for i in range(dim) for j in range(dim)]).reshape(dim, dim)\n",
    "\n",
    "print(a)\n",
    "\n",
    "print(1,60934*a)"
   ]
  },
  {
   "cell_type": "markdown",
   "metadata": {},
   "source": [
    "7\\. Prime numbers sieve: compute the prime numbers in the 0-N (N=99 to start with) range with a sieve (mask).\n",
    "  * Constract a shape (100,) boolean array, the mask\n",
    "  * Identify the multiples of each number starting from 2 and set accordingly the corresponding mask element\n",
    "  * Apply the mask to obtain an array of ordered prime numbers\n",
    "  * Check the performances (timeit); how does it scale with N?\n",
    "  * Implement the optimization suggested in the [sieve of Eratosthenes](https://en.wikipedia.org/wiki/Sieve_of_Eratosthenes)"
   ]
  },
  {
   "cell_type": "code",
   "execution_count": 120,
   "metadata": {},
   "outputs": [
    {
     "name": "stdout",
     "output_type": "stream",
     "text": [
      "[ 0  1  2  3  5  7 11 13 17 19 23 29 31 37 41 43 47 53 59 61 67 71 73 79\n",
      " 83 89 97]\n"
     ]
    }
   ],
   "source": [
    "N = 100\n",
    "\n",
    "mask = np.array([False for i in range(N)])\n",
    "a = np.arange(N)\n",
    "\n",
    "#print(a)\n",
    "\n",
    "for i in range(2, N):\n",
    "    for j in range(i+1, N):\n",
    "        if(mask[j] == False):\n",
    "            mask[j] = (a[j] % i == 0)\n",
    "\n",
    "mask = ~mask\n",
    "\n",
    "primes = a[mask]\n",
    "print(primes)"
   ]
  },
  {
   "cell_type": "markdown",
   "metadata": {},
   "source": [
    "8\\. Diffusion using random walk\n",
    "\n",
    "Consider a simple random walk process: at each step in time, a walker jumps right or left (+1 or -1) with equal probability. The goal is to find the typical distance from the origin of a random walker after a given amount of time. \n",
    "To do that, let's simulate many walkers and create a 2D array with each walker as a raw and the actual time evolution as columns\n",
    "\n",
    "  * Take 1000 walkers and let them walk for 200 steps\n",
    "  * Use randint to create a 2D array of size walkers x steps with values -1 or 1\n",
    "  * Build the actual walking distances for each walker (i.e. another 2D array \"summing on each raw\")\n",
    "  * Take the square of that 2D array (elementwise)\n",
    "  * Compute the mean of the squared distances at each step (i.e. the mean along the columns)\n",
    "  * Plot the average distances (sqrt(distance\\*\\*2)) as a function of time (step)\n",
    "  \n",
    "Did you get what you expected?"
   ]
  },
  {
   "cell_type": "code",
   "execution_count": 82,
   "metadata": {},
   "outputs": [
    {
     "name": "stdout",
     "output_type": "stream",
     "text": [
      "[149.74  24.2   59.38  39.5   87.44 121.04  25.1   46.16  85.58 137.2\n",
      "  53.62  36.72  84.26  24.96  13.66  46.26  50.54  92.72  12.72  66.88\n",
      "  56.16  86.8   41.24 535.5  412.64  50.9   76.4   40.44 117.66 272.18\n",
      "  28.78 351.64  10.54 449.78  29.24   6.46  55.48  34.86  20.38  50.6\n",
      "  14.96  36.02  96.96  81.46 249.46  49.86  34.86  53.8   56.6  157.58\n",
      "  35.84 152.44  35.34  14.1   61.4   37.92  15.3   40.26  52.8   10.46\n",
      "  58.    29.4   26.44  26.14  17.52  38.76  30.66  19.56  95.28  51.98\n",
      " 177.82  14.2   32.86   7.94  18.72  55.16  43.02  61.76 374.42 104.24\n",
      "  27.36   7.48 260.24 134.2  124.86  42.86 218.8  196.34  50.7  119.36\n",
      "  38.86  56.16 235.2  101.84  58.64  22.2   20.88  14.1   40.26  77.32\n",
      "  15.56 119.38  25.48 339.48  84.58  26.06 148.76 160.54  49.68 114.16\n",
      "  86.22  43.88  98.18  83.9   54.24  78.16   7.82 198.68  27.76  30.58\n",
      "  59.12 158.66 144.44   7.44  49.9   12.44 217.88  32.02 560.04  74.36\n",
      "  19.98  53.56 175.76  70.34  66.6   52.14  18.72 260.82  81.08  84.04\n",
      "  69.48 275.42 571.04  35.26 243.     7.98  24.1   20.98 367.28 149.54\n",
      "  86.84  73.56  19.92 134.52  18.18 165.    39.96  12.9  123.08  30.62\n",
      "  57.32  74.54  83.24  68.6   89.92  47.08  66.4   97.18  34.92  36.02\n",
      "  17.96 102.92  40.26  29.74 748.94  24.02   9.9   21.68 227.58  31.7\n",
      "  66.3   10.24  40.54 366.38  43.5   10.6    9.26  47.4  214.52 122.38\n",
      "  27.18  66.98 204.06 268.22 151.48  14.64  29.62 230.28  43.78  60.02]\n"
     ]
    },
    {
     "data": {
      "text/plain": [
       "[<matplotlib.lines.Line2D at 0x29f280e8c50>]"
      ]
     },
     "execution_count": 82,
     "metadata": {},
     "output_type": "execute_result"
    },
    {
     "data": {
      "image/png": "[encoded data removed]",
      "text/plain": [
       "<Figure size 432x288 with 1 Axes>"
      ]
     },
     "metadata": {
      "needs_background": "light"
     },
     "output_type": "display_data"
    }
   ],
   "source": [
    "m = np.random.randint(-1, 1, size=(1000, 200))\n",
    "m[(m == 0)] = 1\n",
    "\n",
    "dist = m.copy()\n",
    "for i in range(1, 200):\n",
    "    dist[:, i] = dist[:, i-1] + dist[:, i]\n",
    "\n",
    "dist = dist**2\n",
    "msq = np.array([np.mean(dist[i, :]) for i in range(200)])\n",
    "\n",
    "print(msq)\n",
    "\n",
    "plt.plot(np.arange(200), np.sqrt(msq))"
   ]
  },
  {
   "cell_type": "markdown",
   "metadata": {},
   "source": [
    "9\\. Analyze a data file \n",
    "  * Download the population of hares, lynxes and carrots at the beginning of the last century.\n",
    "    ```python\n",
    "    ! wget https://www.dropbox.com/s/3vigxoqayo389uc/populations.txt\n",
    "    ```\n",
    "\n",
    "  * Check the content by looking within the file\n",
    "  * Load the data (use an appropriate numpy method) into a 2D array\n",
    "  * Create arrays out of the columns, the arrays being (in order): *year*, *hares*, *lynxes*, *carrots* \n",
    "  * Plot the 3 populations over the years\n",
    "  * Compute the main statistical properties of the dataset (mean, std, correlations, etc.)\n",
    "  * Which species has the highest population each year?\n",
    "\n",
    "Do you feel there is some evident correlation here? [Studies](https://www.enr.gov.nt.ca/en/services/lynx/lynx-snowshoe-hare-cycle) tend to believe so."
   ]
  },
  {
   "cell_type": "code",
   "execution_count": 152,
   "metadata": {},
   "outputs": [
    {
     "name": "stdout",
     "output_type": "stream",
     "text": [
      "Hares mean: 34080.95, Lynxes mean: 20166.67, Carrots mean: 42400.00\n",
      "Hares median: 25400.00, Lynxes median: 12300.00, Carrots median: 41800.00\n",
      "Hares standard deviation: 20897.91, Lynxes standard deviation: 16254.59, Carrots standard deviation: 3322.51\n",
      "Hares/Lynxes correlation: 0.07189\n",
      "Hares/Carrots correlation: -0.01660\n",
      "Carrots/Lynxes correlation: -0.68058\n",
      "['Carrots', 'Carrots', 'Hares', 'Hares', 'Lynxes', 'Lynxes', 'Carrots', 'Carrots', 'Carrots', 'Carrots', 'Carrots', 'Carrots', 'Hares', 'Hares', 'Hares', 'Lynxes', 'Carrots', 'Carrots', 'Carrots', 'Carrots', 'Carrots']\n"
     ]
    },
    {
     "data": {
      "image/png": "[encoded data removed]",
      "text/plain": [
       "<Figure size 432x288 with 1 Axes>"
      ]
     },
     "metadata": {
      "needs_background": "light"
     },
     "output_type": "display_data"
    }
   ],
   "source": [
    "filename = 'populations.txt'\n",
    "data = np.loadtxt(filename)\n",
    "\n",
    "year = data[:, 0]\n",
    "hares = data[:, 1]\n",
    "lynxes = data[:, 2]\n",
    "carrots = data[:, 3]\n",
    "\n",
    "plt.plot(year, hares, 'b')\n",
    "plt.plot(year, lynxes, 'g')\n",
    "plt.plot(year, carrots, 'orange')\n",
    "\n",
    "hmean = np.mean(hares)\n",
    "lmean = np.mean(lynxes)\n",
    "cmean = np.mean(carrots)\n",
    "hmedian = np.median(hares)\n",
    "lmedian = np.median(lynxes)\n",
    "cmedian = np.median(carrots)\n",
    "hstd = np.std(hares)\n",
    "lstd = np.std(lynxes)\n",
    "cstd = np.std(carrots)\n",
    "print(\"Hares mean: %.2f, Lynxes mean: %.2f, Carrots mean: %.2f\" % (hmean,lmean,cmean))\n",
    "print(\"Hares median: %.2f, Lynxes median: %.2f, Carrots median: %.2f\" % (hmedian,lmedian,cmedian))\n",
    "print(\"Hares standard deviation: %.2f, Lynxes standard deviation: %.2f, Carrots standard deviation: %.2f\" % (hstd,lstd,cstd))\n",
    "print(\"Hares/Lynxes correlation: %.5f\" % (np.corrcoef(hares, lynxes)[0, 1]))\n",
    "print(\"Hares/Carrots correlation: %.5f\" % (np.corrcoef(hares, carrots)[0, 1]))\n",
    "print(\"Carrots/Lynxes correlation: %.5f\" % (np.corrcoef(carrots, lynxes)[0, 1]))\n",
    "\n",
    "a = []\n",
    "for i in range(np.shape(year)[0]):\n",
    "    m = max(hares[i], lynxes[i], carrots[i])\n",
    "    if(m == hares[i]):\n",
    "        a.append(\"Hares\")\n",
    "    elif(m == lynxes[i]):\n",
    "        a.append(\"Lynxes\")\n",
    "    elif(m == carrots[i]):\n",
    "        a.append(\"Carrots\")\n",
    "\n",
    "print(a)"
   ]
  },
  {
   "cell_type": "code",
   "execution_count": null,
   "metadata": {},
   "outputs": [],
   "source": []
  }
 ],
 "metadata": {
  "kernelspec": {
   "display_name": "Python 3",
   "language": "python",
   "name": "python3"
  },
  "language_info": {
   "codemirror_mode": {
    "name": "ipython",
    "version": 3
   },
   "file_extension": ".py",
   "mimetype": "text/x-python",
   "name": "python",
   "nbconvert_exporter": "python",
   "pygments_lexer": "ipython3",
   "version": "3.7.0"
  }
 },
 "nbformat": 4,
 "nbformat_minor": 2
}
