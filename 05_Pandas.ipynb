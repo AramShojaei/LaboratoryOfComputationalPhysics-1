{
 "cells": [
  {
   "cell_type": "markdown",
   "metadata": {},
   "source": [
    "# Pandas\n",
    "\n",
    "The `numpy` module is excellent for numerical computations, but to handle missing data or arrays with mixed types takes more work. The `pandas` module is currently the most widely used tool for data manipulation, providing high-performance, easy-to-use data structures and advanced data analysis tools.\n",
    "\n",
    "In particular `pandas` features:\n",
    "\n",
    "* A fast and efficient \"DataFrame\" object for data manipulation with integrated indexing;\n",
    "* Tools for reading and writing data between in-memory data structures and different formats (CSV, Excel, SQL, HDF5);\n",
    "* Intelligent data alignment and integrated handling of missing data;\n",
    "* Intelligent label-based slicing, fancy indexing, and subsetting of large data sets;\n",
    "* Aggregating or transforming data with a powerful \"group-by\" engine; \n",
    "* High performance merging and joining of data sets;\n",
    "* Hierarchical axis indexing provides an intuitive way of working with high-dimensional data in a lower-dimensional data structure;\n",
    "* Time series-functionalities;\n",
    "* Highly optimized for performance, with critical code paths written in Cython or C.\n"
   ]
  },
  {
   "cell_type": "code",
<<<<<<< HEAD
   "execution_count": 2,
=======
   "execution_count": 1,
>>>>>>> origin/saraBordin
   "metadata": {},
   "outputs": [],
   "source": [
    "import pandas as pd\n",
    "import numpy as np"
   ]
  },
  {
   "cell_type": "markdown",
   "metadata": {},
   "source": [
    "## Series\n",
    "\n",
    "Series are completely equivalent to 1D array but with axis labels and the possibility to store heterogeneous elements. Of paramount importance are the time-series, used to define time evolutions of a phenomenon. \n"
   ]
  },
  {
   "cell_type": "code",
   "execution_count": 3,
   "metadata": {},
   "outputs": [
    {
<<<<<<< HEAD
     "ename": "NameError",
     "evalue": "name 'Series' is not defined",
     "output_type": "error",
     "traceback": [
      "\u001b[1;31m---------------------------------------------------------------------------\u001b[0m",
      "\u001b[1;31mNameError\u001b[0m                                 Traceback (most recent call last)",
      "\u001b[1;32m<ipython-input-3-51a8fa1570a0>\u001b[0m in \u001b[0;36m<module>\u001b[1;34m()\u001b[0m\n\u001b[0;32m      2\u001b[0m \u001b[1;33m\u001b[0m\u001b[0m\n\u001b[0;32m      3\u001b[0m \u001b[1;31m# Creating a series, accessing indexes, values and values by their index\u001b[0m\u001b[1;33m\u001b[0m\u001b[1;33m\u001b[0m\u001b[0m\n\u001b[1;32m----> 4\u001b[1;33m \u001b[0mxs\u001b[0m \u001b[1;33m=\u001b[0m \u001b[0mSeries\u001b[0m\u001b[1;33m(\u001b[0m\u001b[0mnp\u001b[0m\u001b[1;33m.\u001b[0m\u001b[0marange\u001b[0m\u001b[1;33m(\u001b[0m\u001b[1;36m10\u001b[0m\u001b[1;33m)\u001b[0m\u001b[1;33m*\u001b[0m\u001b[1;36m0.5\u001b[0m\u001b[1;33m,\u001b[0m \u001b[0mindex\u001b[0m\u001b[1;33m=\u001b[0m\u001b[0mtuple\u001b[0m\u001b[1;33m(\u001b[0m\u001b[0mletters\u001b[0m\u001b[1;33m[\u001b[0m\u001b[1;33m:\u001b[0m\u001b[1;36m10\u001b[0m\u001b[1;33m]\u001b[0m\u001b[1;33m)\u001b[0m\u001b[1;33m)\u001b[0m\u001b[1;33m\u001b[0m\u001b[0m\n\u001b[0m\u001b[0;32m      5\u001b[0m \u001b[0mprint\u001b[0m \u001b[1;33m(\u001b[0m\u001b[0mxs\u001b[0m\u001b[1;33m,\u001b[0m\u001b[1;34m'\\n'\u001b[0m\u001b[1;33m)\u001b[0m\u001b[1;33m\u001b[0m\u001b[0m\n\u001b[0;32m      6\u001b[0m \u001b[0mprint\u001b[0m \u001b[1;33m(\u001b[0m\u001b[0mxs\u001b[0m\u001b[1;33m.\u001b[0m\u001b[0mindex\u001b[0m\u001b[1;33m,\u001b[0m\u001b[1;34m'\\n'\u001b[0m\u001b[1;33m)\u001b[0m\u001b[1;33m\u001b[0m\u001b[0m\n",
      "\u001b[1;31mNameError\u001b[0m: name 'Series' is not defined"
=======
     "name": "stdout",
     "output_type": "stream",
     "text": [
      "a    0.0\n",
      "b    0.5\n",
      "c    1.0\n",
      "d    1.5\n",
      "e    2.0\n",
      "f    2.5\n",
      "g    3.0\n",
      "h    3.5\n",
      "i    4.0\n",
      "j    4.5\n",
      "dtype: float64 \n",
      "\n",
      "Index(['a', 'b', 'c', 'd', 'e', 'f', 'g', 'h', 'i', 'j'], dtype='object') \n",
      "\n",
      "[0.  0.5 1.  1.5 2.  2.5 3.  3.5 4.  4.5] <class 'numpy.ndarray'> \n",
      "\n",
      "2.5 2.5 3.5 \n",
      "\n",
      "d    1.5\n",
      "f    2.5\n",
      "h    3.5\n",
      "dtype: float64 \n",
      "\n"
>>>>>>> origin/saraBordin
     ]
    }
   ],
   "source": [
    "from string import ascii_lowercase as letters\n",
    "\n",
    "# Creating a series, accessing indexes, values and values by their index \n",
<<<<<<< HEAD
    "xs = Series(np.arange(10)*0.5, index=tuple(letters[:10]))\n",
=======
    "xs = pd.Series(np.arange(10)*0.5, index=tuple(letters[:10]))\n",
>>>>>>> origin/saraBordin
    "print (xs,'\\n')\n",
    "print (xs.index,'\\n')\n",
    "# Values of the Series are actually a numpy array\n",
    "print (xs.values, type(xs.values),'\\n')\n",
    "print (xs['f'], xs.f, xs.h, '\\n')\n",
    "print (xs[['d', 'f', 'h']], '\\n')"
   ]
  },
  {
   "cell_type": "code",
<<<<<<< HEAD
   "execution_count": null,
   "metadata": {},
   "outputs": [],
=======
   "execution_count": 4,
   "metadata": {},
   "outputs": [
    {
     "name": "stdout",
     "output_type": "stream",
     "text": [
      "a    0.0\n",
      "b    0.5\n",
      "c    1.0\n",
      "dtype: float64 \n",
      "\n",
      "h    3.5\n",
      "i    4.0\n",
      "j    4.5\n",
      "dtype: float64 \n",
      "\n",
      "a    0.0\n",
      "d    1.5\n",
      "g    3.0\n",
      "j    4.5\n",
      "dtype: float64 \n",
      "\n",
      "h    3.5\n",
      "i    4.0\n",
      "j    4.5\n",
      "dtype: float64 \n",
      "\n",
      "a     1.000000\n",
      "b     1.648721\n",
      "c     2.718282\n",
      "d     4.481689\n",
      "e     7.389056\n",
      "f    12.182494\n",
      "g    20.085537\n",
      "h    33.115452\n",
      "i    54.598150\n",
      "j    90.017131\n",
      "dtype: float64 \n",
      "\n",
      "2.25 1.4361406616345072 \n",
      "\n"
     ]
    }
   ],
>>>>>>> origin/saraBordin
   "source": [
    "# Extracting elements and operations: same as numpy array\n",
    "print (xs[:3],'\\n')\n",
    "print (xs[7:], '\\n')\n",
    "print (xs[::3], '\\n')\n",
    "print (xs[xs>3], '\\n')\n",
    "print (np.exp(xs), '\\n')\n",
    "print (np.mean(xs), np.std(xs), '\\n')"
   ]
  },
  {
   "cell_type": "code",
<<<<<<< HEAD
   "execution_count": null,
   "metadata": {},
   "outputs": [],
=======
   "execution_count": 5,
   "metadata": {},
   "outputs": [
    {
     "data": {
      "text/plain": [
       "b         1\n",
       "a       cat\n",
       "c    [2, 3]\n",
       "dtype: object"
      ]
     },
     "execution_count": 5,
     "metadata": {},
     "output_type": "execute_result"
    }
   ],
>>>>>>> origin/saraBordin
   "source": [
    "# Series can be created from python dictionary too.\n",
    "# Not that the elements can be whatever!\n",
    "d = {'b' : 1, 'a' : 'cat', 'c' : [2,3]}\n",
    "pd.Series(d)\n",
    "\n"
   ]
  },
  {
   "cell_type": "markdown",
   "metadata": {},
   "source": [
    "A key difference between Series and ndarray is that operations between Series automatically align the data based on label. Thus, you can write computations without giving consideration to whether the Series involved have the same labels."
   ]
  },
  {
   "cell_type": "code",
<<<<<<< HEAD
   "execution_count": null,
   "metadata": {},
   "outputs": [],
=======
   "execution_count": 6,
   "metadata": {},
   "outputs": [
    {
     "data": {
      "text/plain": [
       "a         NaN\n",
       "b    2.235008\n",
       "c   -3.490376\n",
       "d    2.349070\n",
       "e         NaN\n",
       "dtype: float64"
      ]
     },
     "execution_count": 6,
     "metadata": {},
     "output_type": "execute_result"
    }
   ],
>>>>>>> origin/saraBordin
   "source": [
    "s = pd.Series(np.random.randn(5), index=tuple(letters[:5]))\n",
    "s[1:] + s[:-1]"
   ]
  },
  {
   "cell_type": "markdown",
   "metadata": {},
   "source": [
    "### Time series\n",
    "\n",
    "Time series are very often used to profile the behaviour of a quantity as a function of time. Pandas as a special index for that, `DatetimeIndex`, that can be created e.g. with the function `pd.data_range()`"
   ]
  },
  {
   "cell_type": "code",
<<<<<<< HEAD
   "execution_count": null,
   "metadata": {},
   "outputs": [],
=======
   "execution_count": 7,
   "metadata": {},
   "outputs": [
    {
     "name": "stdout",
     "output_type": "stream",
     "text": [
      "2018-11-19 14:45:10.000015\n",
      "19/11/2018 14:45:00\n",
      "DatetimeIndex(['2018-11-19 14:45:00', '2018-11-20 14:45:00',\n",
      "               '2018-11-21 14:45:00', '2018-11-22 14:45:00',\n",
      "               '2018-11-23 14:45:00', '2018-11-24 14:45:00',\n",
      "               '2018-11-25 14:45:00'],\n",
      "              dtype='datetime64[ns]', freq='D')\n",
      "DatetimeIndex(['2018-11-19 14:45:00', '2018-11-19 14:45:01',\n",
      "               '2018-11-19 14:45:02', '2018-11-19 14:45:03',\n",
      "               '2018-11-19 14:45:04', '2018-11-19 14:45:05',\n",
      "               '2018-11-19 14:45:06', '2018-11-19 14:45:07',\n",
      "               '2018-11-19 14:45:08', '2018-11-19 14:45:09',\n",
      "               ...\n",
      "               '2018-11-19 15:44:50', '2018-11-19 15:44:51',\n",
      "               '2018-11-19 15:44:52', '2018-11-19 15:44:53',\n",
      "               '2018-11-19 15:44:54', '2018-11-19 15:44:55',\n",
      "               '2018-11-19 15:44:56', '2018-11-19 15:44:57',\n",
      "               '2018-11-19 15:44:58', '2018-11-19 15:44:59'],\n",
      "              dtype='datetime64[ns]', length=3600, freq='S')\n"
     ]
    }
   ],
>>>>>>> origin/saraBordin
   "source": [
    "# to define a date, the datetime module is very useful\n",
    "import datetime as dt\n",
    "date = dt.date.today()\n",
    "date = dt.datetime(2018,11,19,14,45,10,15)\n",
    "print (date)\n",
    "\n",
    "# otherwise, several notations are interpreted too\n",
    "date = 'Nov 19 2018'\n",
    "date = '19/11/2018 14:45:00'\n",
    "print (date)\n",
    "\n",
    "days = pd.date_range(date, periods=7, freq='D')\n",
    "print (days)\n",
    "\n",
    "seconds = pd.date_range(date, periods=3600, freq='s')\n",
    "print (seconds)\n"
   ]
  },
  {
   "cell_type": "markdown",
   "metadata": {},
   "source": [
    "To learn more about the frequency strings, please see this [link](http://pandas.pydata.org/pandas-docs/stable/timeseries.html#offset-aliases)\n",
    "\n",
    "\n",
    "Timestamped data is the most basic type of time series data that associates values with points in time. For pandas objects it means using the points in time.\n",
    "\n",
    "functions like `pd.to_datetime` can be used, for instance, when reading information as string from a dataset"
   ]
  },
  {
   "cell_type": "code",
<<<<<<< HEAD
   "execution_count": null,
   "metadata": {},
   "outputs": [],
=======
   "execution_count": 8,
   "metadata": {},
   "outputs": [
    {
     "name": "stdout",
     "output_type": "stream",
     "text": [
      "1542585600000000000\n",
      "2010-11-12 00:00:00\n",
      "2010-11-12 00:00:00\n"
     ]
    }
   ],
>>>>>>> origin/saraBordin
   "source": [
    "tstamp = pd.Timestamp(dt.datetime(2018, 11, 19))\n",
    "\n",
    "# internally it counts the nanoseconds from January 1st 19\n",
    "#tstamp = pd.Timestamp(dt.datetime(1970, 1, 1, 0, 0, 0, 1))\n",
    "print(tstamp.value)\n",
    "\n",
    "# when creating a timestamp the format can be explicitly passed\n",
    "print (pd.to_datetime('2010/11/12', format='%Y/%m/%d'))\n",
    "print (pd.to_datetime('12-11-2010 00:00', format='%d-%m-%Y %H:%M'))\n"
   ]
  },
  {
   "cell_type": "markdown",
   "metadata": {},
   "source": [
    "A standard series can be created and (range of) elements can be used as indexes"
   ]
  },
  {
   "cell_type": "code",
<<<<<<< HEAD
   "execution_count": null,
   "metadata": {
    "scrolled": true
   },
   "outputs": [],
   "source": [
    "tseries = Series(np.random.normal(10, 1, len(days)), index=days)\n",
=======
   "execution_count": 10,
   "metadata": {
    "scrolled": true
   },
   "outputs": [
    {
     "name": "stdout",
     "output_type": "stream",
     "text": [
      "2018-11-19 14:45:00    9.531039\n",
      "2018-11-20 14:45:00    8.920724\n",
      "2018-11-21 14:45:00    7.842752\n",
      "2018-11-22 14:45:00    9.760745\n",
      "Freq: D, dtype: float64 \n",
      "\n",
      "2018-11-19 14:45:00    9.531039\n",
      "2018-11-20 14:45:00    8.920724\n",
      "2018-11-21 14:45:00    7.842752\n",
      "Freq: D, dtype: float64 \n",
      "\n"
     ]
    }
   ],
   "source": [
    "tseries = pd.Series(np.random.normal(10, 1, len(days)), index=days)\n",
>>>>>>> origin/saraBordin
    "# Extracting elements\n",
    "print (tseries[0:4], '\\n')\n",
    "print (tseries['2018-11-19':'2018-11-21'], '\\n') # Note - includes end time\n"
   ]
  },
  {
   "cell_type": "markdown",
   "metadata": {},
   "source": [
    "`pd.to_datetime` can also be used to create a `DatetimeIndex`:"
   ]
  },
  {
   "cell_type": "code",
   "execution_count": null,
   "metadata": {},
   "outputs": [],
   "source": [
    "pd.to_datetime([1, 2, 3], unit='D', origin=pd.Timestamp('1980-02-03'))"
   ]
  },
  {
   "cell_type": "markdown",
   "metadata": {},
   "source": [
    "## DataFrame\n",
    "\n",
    "A pandas DataFrame is like a simple tabular spreadsheet. For future reference (or for people already familiar with R), a pandas DataFrame is very similar to the R DataFrame.\n",
    "\n",
    "Each column in a DataFrame is a Series object.\n",
    "\n",
    "The element can be whatever, missing data are dealt with too (as NaN)"
   ]
  },
  {
   "cell_type": "markdown",
   "metadata": {},
   "source": [
    "### DataFrame creation\n",
    "\n",
    "A DataFrame can be created implicitly, with, e.g., a DatatimeIndex object as index:"
   ]
  },
  {
   "cell_type": "code",
<<<<<<< HEAD
   "execution_count": 4,
=======
   "execution_count": 11,
>>>>>>> origin/saraBordin
   "metadata": {},
   "outputs": [
    {
     "data": {
      "text/html": [
       "<div>\n",
       "<style scoped>\n",
       "    .dataframe tbody tr th:only-of-type {\n",
       "        vertical-align: middle;\n",
       "    }\n",
       "\n",
       "    .dataframe tbody tr th {\n",
       "        vertical-align: top;\n",
       "    }\n",
       "\n",
       "    .dataframe thead th {\n",
       "        text-align: right;\n",
       "    }\n",
       "</style>\n",
       "<table border=\"1\" class=\"dataframe\">\n",
       "  <thead>\n",
       "    <tr style=\"text-align: right;\">\n",
       "      <th></th>\n",
       "      <th>A</th>\n",
       "      <th>B</th>\n",
       "      <th>C</th>\n",
       "      <th>D</th>\n",
       "    </tr>\n",
       "  </thead>\n",
       "  <tbody>\n",
       "    <tr>\n",
       "      <th>2018-11-19 14:45:00</th>\n",
<<<<<<< HEAD
       "      <td>-1.706743</td>\n",
       "      <td>0.388637</td>\n",
       "      <td>-0.617199</td>\n",
       "      <td>0.782708</td>\n",
       "    </tr>\n",
       "    <tr>\n",
       "      <th>2018-11-19 15:45:00</th>\n",
       "      <td>-0.821334</td>\n",
       "      <td>-0.686356</td>\n",
       "      <td>-0.782509</td>\n",
       "      <td>-0.158758</td>\n",
       "    </tr>\n",
       "    <tr>\n",
       "      <th>2018-11-19 16:45:00</th>\n",
       "      <td>0.468958</td>\n",
       "      <td>0.248650</td>\n",
       "      <td>-1.339556</td>\n",
       "      <td>0.800499</td>\n",
       "    </tr>\n",
       "    <tr>\n",
       "      <th>2018-11-19 17:45:00</th>\n",
       "      <td>-1.264571</td>\n",
       "      <td>-0.880018</td>\n",
       "      <td>-0.847406</td>\n",
       "      <td>-1.114394</td>\n",
       "    </tr>\n",
       "    <tr>\n",
       "      <th>2018-11-19 18:45:00</th>\n",
       "      <td>-0.388948</td>\n",
       "      <td>-0.852496</td>\n",
       "      <td>-1.159098</td>\n",
       "      <td>0.803687</td>\n",
       "    </tr>\n",
       "    <tr>\n",
       "      <th>2018-11-19 19:45:00</th>\n",
       "      <td>0.547222</td>\n",
       "      <td>0.791766</td>\n",
       "      <td>-0.927587</td>\n",
       "      <td>-0.363850</td>\n",
       "    </tr>\n",
       "    <tr>\n",
       "      <th>2018-11-19 20:45:00</th>\n",
       "      <td>0.420760</td>\n",
       "      <td>1.483110</td>\n",
       "      <td>0.148978</td>\n",
       "      <td>0.182563</td>\n",
       "    </tr>\n",
       "    <tr>\n",
       "      <th>2018-11-19 21:45:00</th>\n",
       "      <td>0.575928</td>\n",
       "      <td>1.538947</td>\n",
       "      <td>-0.443356</td>\n",
       "      <td>0.293524</td>\n",
       "    </tr>\n",
       "    <tr>\n",
       "      <th>2018-11-19 22:45:00</th>\n",
       "      <td>-0.391042</td>\n",
       "      <td>-0.623351</td>\n",
       "      <td>-0.248142</td>\n",
       "      <td>1.305715</td>\n",
       "    </tr>\n",
       "    <tr>\n",
       "      <th>2018-11-19 23:45:00</th>\n",
       "      <td>-2.749495</td>\n",
       "      <td>-1.812235</td>\n",
       "      <td>-0.676599</td>\n",
       "      <td>-0.769012</td>\n",
=======
       "      <td>0.667637</td>\n",
       "      <td>-0.491807</td>\n",
       "      <td>2.202829</td>\n",
       "      <td>1.241955</td>\n",
       "    </tr>\n",
       "    <tr>\n",
       "      <th>2018-11-19 15:45:00</th>\n",
       "      <td>-2.007701</td>\n",
       "      <td>-2.406459</td>\n",
       "      <td>0.725650</td>\n",
       "      <td>-1.031714</td>\n",
       "    </tr>\n",
       "    <tr>\n",
       "      <th>2018-11-19 16:45:00</th>\n",
       "      <td>-0.662375</td>\n",
       "      <td>-0.553592</td>\n",
       "      <td>-0.129108</td>\n",
       "      <td>0.320727</td>\n",
       "    </tr>\n",
       "    <tr>\n",
       "      <th>2018-11-19 17:45:00</th>\n",
       "      <td>0.151004</td>\n",
       "      <td>0.036521</td>\n",
       "      <td>1.177614</td>\n",
       "      <td>-0.023050</td>\n",
       "    </tr>\n",
       "    <tr>\n",
       "      <th>2018-11-19 18:45:00</th>\n",
       "      <td>-1.344305</td>\n",
       "      <td>0.433821</td>\n",
       "      <td>-0.736984</td>\n",
       "      <td>1.453917</td>\n",
       "    </tr>\n",
       "    <tr>\n",
       "      <th>2018-11-19 19:45:00</th>\n",
       "      <td>0.795871</td>\n",
       "      <td>-0.419894</td>\n",
       "      <td>-0.571587</td>\n",
       "      <td>0.270833</td>\n",
       "    </tr>\n",
       "    <tr>\n",
       "      <th>2018-11-19 20:45:00</th>\n",
       "      <td>2.077796</td>\n",
       "      <td>0.873576</td>\n",
       "      <td>1.359858</td>\n",
       "      <td>-0.139610</td>\n",
       "    </tr>\n",
       "    <tr>\n",
       "      <th>2018-11-19 21:45:00</th>\n",
       "      <td>0.924867</td>\n",
       "      <td>0.312134</td>\n",
       "      <td>-0.376361</td>\n",
       "      <td>1.008438</td>\n",
       "    </tr>\n",
       "    <tr>\n",
       "      <th>2018-11-19 22:45:00</th>\n",
       "      <td>0.148717</td>\n",
       "      <td>-1.146749</td>\n",
       "      <td>0.630580</td>\n",
       "      <td>0.420375</td>\n",
       "    </tr>\n",
       "    <tr>\n",
       "      <th>2018-11-19 23:45:00</th>\n",
       "      <td>0.412956</td>\n",
       "      <td>-0.416899</td>\n",
       "      <td>1.048633</td>\n",
       "      <td>0.394991</td>\n",
>>>>>>> origin/saraBordin
       "    </tr>\n",
       "  </tbody>\n",
       "</table>\n",
       "</div>"
      ],
      "text/plain": [
       "                            A         B         C         D\n",
<<<<<<< HEAD
       "2018-11-19 14:45:00 -1.706743  0.388637 -0.617199  0.782708\n",
       "2018-11-19 15:45:00 -0.821334 -0.686356 -0.782509 -0.158758\n",
       "2018-11-19 16:45:00  0.468958  0.248650 -1.339556  0.800499\n",
       "2018-11-19 17:45:00 -1.264571 -0.880018 -0.847406 -1.114394\n",
       "2018-11-19 18:45:00 -0.388948 -0.852496 -1.159098  0.803687\n",
       "2018-11-19 19:45:00  0.547222  0.791766 -0.927587 -0.363850\n",
       "2018-11-19 20:45:00  0.420760  1.483110  0.148978  0.182563\n",
       "2018-11-19 21:45:00  0.575928  1.538947 -0.443356  0.293524\n",
       "2018-11-19 22:45:00 -0.391042 -0.623351 -0.248142  1.305715\n",
       "2018-11-19 23:45:00 -2.749495 -1.812235 -0.676599 -0.769012"
      ]
     },
     "execution_count": 4,
=======
       "2018-11-19 14:45:00  0.667637 -0.491807  2.202829  1.241955\n",
       "2018-11-19 15:45:00 -2.007701 -2.406459  0.725650 -1.031714\n",
       "2018-11-19 16:45:00 -0.662375 -0.553592 -0.129108  0.320727\n",
       "2018-11-19 17:45:00  0.151004  0.036521  1.177614 -0.023050\n",
       "2018-11-19 18:45:00 -1.344305  0.433821 -0.736984  1.453917\n",
       "2018-11-19 19:45:00  0.795871 -0.419894 -0.571587  0.270833\n",
       "2018-11-19 20:45:00  2.077796  0.873576  1.359858 -0.139610\n",
       "2018-11-19 21:45:00  0.924867  0.312134 -0.376361  1.008438\n",
       "2018-11-19 22:45:00  0.148717 -1.146749  0.630580  0.420375\n",
       "2018-11-19 23:45:00  0.412956 -0.416899  1.048633  0.394991"
      ]
     },
     "execution_count": 11,
>>>>>>> origin/saraBordin
     "metadata": {},
     "output_type": "execute_result"
    }
   ],
   "source": [
    "entries=10\n",
    "dates=pd.date_range('19/11/2018 14:45:00',freq='h', periods=entries)\n",
    "df = pd.DataFrame(np.random.randn(entries,4), index=dates, columns=['A','B','C','D'])\n",
    "df\n"
   ]
  },
  {
   "cell_type": "markdown",
   "metadata": {},
   "source": [
    "or by means of a dictionary:\n"
   ]
  },
  {
   "cell_type": "code",
<<<<<<< HEAD
   "execution_count": 5,
=======
   "execution_count": 12,
>>>>>>> origin/saraBordin
   "metadata": {},
   "outputs": [],
   "source": [
    "df2 = pd.DataFrame(\n",
    "    { 'A' : 1.,\n",
    "      'B' : pd.Timestamp('20130102'),\n",
    "      'C' : pd.Series(1,index=range(4),dtype='float32'),\n",
    "      'D' : np.arange(7,11),\n",
    "      'E' : pd.Categorical([\"test\",\"train\",\"test\",\"train\"]),\n",
    "    }\n",
    "    )\n",
    "   "
   ]
  },
  {
   "cell_type": "code",
<<<<<<< HEAD
   "execution_count": 6,
=======
   "execution_count": 13,
>>>>>>> origin/saraBordin
   "metadata": {},
   "outputs": [
    {
     "data": {
      "text/html": [
       "<div>\n",
       "<style scoped>\n",
       "    .dataframe tbody tr th:only-of-type {\n",
       "        vertical-align: middle;\n",
       "    }\n",
       "\n",
       "    .dataframe tbody tr th {\n",
       "        vertical-align: top;\n",
       "    }\n",
       "\n",
       "    .dataframe thead th {\n",
       "        text-align: right;\n",
       "    }\n",
       "</style>\n",
       "<table border=\"1\" class=\"dataframe\">\n",
       "  <thead>\n",
       "    <tr style=\"text-align: right;\">\n",
       "      <th></th>\n",
       "      <th>A</th>\n",
       "      <th>B</th>\n",
       "      <th>C</th>\n",
       "      <th>D</th>\n",
       "      <th>E</th>\n",
       "    </tr>\n",
       "  </thead>\n",
       "  <tbody>\n",
       "    <tr>\n",
       "      <th>0</th>\n",
       "      <td>1.0</td>\n",
       "      <td>2013-01-02</td>\n",
       "      <td>1.0</td>\n",
       "      <td>7</td>\n",
       "      <td>test</td>\n",
       "    </tr>\n",
       "    <tr>\n",
       "      <th>1</th>\n",
       "      <td>1.0</td>\n",
       "      <td>2013-01-02</td>\n",
       "      <td>1.0</td>\n",
       "      <td>8</td>\n",
       "      <td>train</td>\n",
       "    </tr>\n",
       "    <tr>\n",
       "      <th>2</th>\n",
       "      <td>1.0</td>\n",
       "      <td>2013-01-02</td>\n",
       "      <td>1.0</td>\n",
       "      <td>9</td>\n",
       "      <td>test</td>\n",
       "    </tr>\n",
       "    <tr>\n",
       "      <th>3</th>\n",
       "      <td>1.0</td>\n",
       "      <td>2013-01-02</td>\n",
       "      <td>1.0</td>\n",
       "      <td>10</td>\n",
       "      <td>train</td>\n",
       "    </tr>\n",
       "  </tbody>\n",
       "</table>\n",
       "</div>"
      ],
      "text/plain": [
       "     A          B    C   D      E\n",
       "0  1.0 2013-01-02  1.0   7   test\n",
       "1  1.0 2013-01-02  1.0   8  train\n",
       "2  1.0 2013-01-02  1.0   9   test\n",
       "3  1.0 2013-01-02  1.0  10  train"
      ]
     },
<<<<<<< HEAD
     "execution_count": 6,
=======
     "execution_count": 13,
>>>>>>> origin/saraBordin
     "metadata": {},
     "output_type": "execute_result"
    }
   ],
   "source": [
    "df2"
   ]
  },
  {
   "cell_type": "markdown",
   "metadata": {},
   "source": [
    "### Viewing Data"
   ]
  },
  {
   "cell_type": "code",
<<<<<<< HEAD
   "execution_count": 9,
=======
   "execution_count": 14,
>>>>>>> origin/saraBordin
   "metadata": {},
   "outputs": [
    {
     "data": {
<<<<<<< HEAD
      "text/plain": [
       "DatetimeIndex(['2018-11-19 14:45:00', '2018-11-19 15:45:00',\n",
       "               '2018-11-19 16:45:00', '2018-11-19 17:45:00',\n",
       "               '2018-11-19 18:45:00'],\n",
       "              dtype='datetime64[ns]', freq='H')"
      ]
     },
     "execution_count": 9,
=======
      "text/html": [
       "<div>\n",
       "<style scoped>\n",
       "    .dataframe tbody tr th:only-of-type {\n",
       "        vertical-align: middle;\n",
       "    }\n",
       "\n",
       "    .dataframe tbody tr th {\n",
       "        vertical-align: top;\n",
       "    }\n",
       "\n",
       "    .dataframe thead th {\n",
       "        text-align: right;\n",
       "    }\n",
       "</style>\n",
       "<table border=\"1\" class=\"dataframe\">\n",
       "  <thead>\n",
       "    <tr style=\"text-align: right;\">\n",
       "      <th></th>\n",
       "      <th>A</th>\n",
       "      <th>B</th>\n",
       "      <th>C</th>\n",
       "      <th>D</th>\n",
       "    </tr>\n",
       "  </thead>\n",
       "  <tbody>\n",
       "    <tr>\n",
       "      <th>2018-11-19 14:45:00</th>\n",
       "      <td>0.667637</td>\n",
       "      <td>-0.491807</td>\n",
       "      <td>2.202829</td>\n",
       "      <td>1.241955</td>\n",
       "    </tr>\n",
       "    <tr>\n",
       "      <th>2018-11-19 15:45:00</th>\n",
       "      <td>-2.007701</td>\n",
       "      <td>-2.406459</td>\n",
       "      <td>0.725650</td>\n",
       "      <td>-1.031714</td>\n",
       "    </tr>\n",
       "    <tr>\n",
       "      <th>2018-11-19 16:45:00</th>\n",
       "      <td>-0.662375</td>\n",
       "      <td>-0.553592</td>\n",
       "      <td>-0.129108</td>\n",
       "      <td>0.320727</td>\n",
       "    </tr>\n",
       "    <tr>\n",
       "      <th>2018-11-19 17:45:00</th>\n",
       "      <td>0.151004</td>\n",
       "      <td>0.036521</td>\n",
       "      <td>1.177614</td>\n",
       "      <td>-0.023050</td>\n",
       "    </tr>\n",
       "    <tr>\n",
       "      <th>2018-11-19 18:45:00</th>\n",
       "      <td>-1.344305</td>\n",
       "      <td>0.433821</td>\n",
       "      <td>-0.736984</td>\n",
       "      <td>1.453917</td>\n",
       "    </tr>\n",
       "  </tbody>\n",
       "</table>\n",
       "</div>"
      ],
      "text/plain": [
       "                            A         B         C         D\n",
       "2018-11-19 14:45:00  0.667637 -0.491807  2.202829  1.241955\n",
       "2018-11-19 15:45:00 -2.007701 -2.406459  0.725650 -1.031714\n",
       "2018-11-19 16:45:00 -0.662375 -0.553592 -0.129108  0.320727\n",
       "2018-11-19 17:45:00  0.151004  0.036521  1.177614 -0.023050\n",
       "2018-11-19 18:45:00 -1.344305  0.433821 -0.736984  1.453917"
      ]
     },
     "execution_count": 14,
>>>>>>> origin/saraBordin
     "metadata": {},
     "output_type": "execute_result"
    }
   ],
   "source": [
<<<<<<< HEAD
    "df.head().index"
=======
    "df.head() #posso vedere ma anche settare"
>>>>>>> origin/saraBordin
   ]
  },
  {
   "cell_type": "code",
<<<<<<< HEAD
   "execution_count": null,
   "metadata": {},
   "outputs": [],
=======
   "execution_count": 15,
   "metadata": {},
   "outputs": [
    {
     "data": {
      "text/html": [
       "<div>\n",
       "<style scoped>\n",
       "    .dataframe tbody tr th:only-of-type {\n",
       "        vertical-align: middle;\n",
       "    }\n",
       "\n",
       "    .dataframe tbody tr th {\n",
       "        vertical-align: top;\n",
       "    }\n",
       "\n",
       "    .dataframe thead th {\n",
       "        text-align: right;\n",
       "    }\n",
       "</style>\n",
       "<table border=\"1\" class=\"dataframe\">\n",
       "  <thead>\n",
       "    <tr style=\"text-align: right;\">\n",
       "      <th></th>\n",
       "      <th>A</th>\n",
       "      <th>B</th>\n",
       "      <th>C</th>\n",
       "      <th>D</th>\n",
       "    </tr>\n",
       "  </thead>\n",
       "  <tbody>\n",
       "    <tr>\n",
       "      <th>2018-11-19 20:45:00</th>\n",
       "      <td>2.077796</td>\n",
       "      <td>0.873576</td>\n",
       "      <td>1.359858</td>\n",
       "      <td>-0.139610</td>\n",
       "    </tr>\n",
       "    <tr>\n",
       "      <th>2018-11-19 21:45:00</th>\n",
       "      <td>0.924867</td>\n",
       "      <td>0.312134</td>\n",
       "      <td>-0.376361</td>\n",
       "      <td>1.008438</td>\n",
       "    </tr>\n",
       "    <tr>\n",
       "      <th>2018-11-19 22:45:00</th>\n",
       "      <td>0.148717</td>\n",
       "      <td>-1.146749</td>\n",
       "      <td>0.630580</td>\n",
       "      <td>0.420375</td>\n",
       "    </tr>\n",
       "    <tr>\n",
       "      <th>2018-11-19 23:45:00</th>\n",
       "      <td>0.412956</td>\n",
       "      <td>-0.416899</td>\n",
       "      <td>1.048633</td>\n",
       "      <td>0.394991</td>\n",
       "    </tr>\n",
       "  </tbody>\n",
       "</table>\n",
       "</div>"
      ],
      "text/plain": [
       "                            A         B         C         D\n",
       "2018-11-19 20:45:00  2.077796  0.873576  1.359858 -0.139610\n",
       "2018-11-19 21:45:00  0.924867  0.312134 -0.376361  1.008438\n",
       "2018-11-19 22:45:00  0.148717 -1.146749  0.630580  0.420375\n",
       "2018-11-19 23:45:00  0.412956 -0.416899  1.048633  0.394991"
      ]
     },
     "execution_count": 15,
     "metadata": {},
     "output_type": "execute_result"
    }
   ],
>>>>>>> origin/saraBordin
   "source": [
    "df.tail(4)"
   ]
  },
  {
   "cell_type": "code",
<<<<<<< HEAD
   "execution_count": 8,
=======
   "execution_count": 16,
>>>>>>> origin/saraBordin
   "metadata": {},
   "outputs": [
    {
     "data": {
      "text/plain": [
       "DatetimeIndex(['2018-11-19 14:45:00', '2018-11-19 15:45:00',\n",
       "               '2018-11-19 16:45:00', '2018-11-19 17:45:00',\n",
       "               '2018-11-19 18:45:00', '2018-11-19 19:45:00',\n",
       "               '2018-11-19 20:45:00', '2018-11-19 21:45:00',\n",
       "               '2018-11-19 22:45:00', '2018-11-19 23:45:00'],\n",
       "              dtype='datetime64[ns]', freq='H')"
      ]
     },
<<<<<<< HEAD
     "execution_count": 8,
=======
     "execution_count": 16,
>>>>>>> origin/saraBordin
     "metadata": {},
     "output_type": "execute_result"
    }
   ],
   "source": [
    "df.index"
   ]
  },
  {
   "cell_type": "code",
<<<<<<< HEAD
   "execution_count": 28,
=======
   "execution_count": 17,
>>>>>>> origin/saraBordin
   "metadata": {},
   "outputs": [
    {
     "data": {
      "text/plain": [
       "Index(['A', 'B', 'C', 'D'], dtype='object')"
      ]
     },
<<<<<<< HEAD
     "execution_count": 28,
=======
     "execution_count": 17,
>>>>>>> origin/saraBordin
     "metadata": {},
     "output_type": "execute_result"
    }
   ],
   "source": [
    "df.columns"
   ]
  },
  {
   "cell_type": "code",
<<<<<<< HEAD
   "execution_count": 29,
=======
   "execution_count": 18,
>>>>>>> origin/saraBordin
   "metadata": {},
   "outputs": [
    {
     "data": {
      "text/plain": [
<<<<<<< HEAD
       "array([[-1.70674328,  0.388637  , -0.6171989 ,  0.78270796],\n",
       "       [-0.82133368, -0.68635634, -0.78250942, -0.15875848],\n",
       "       [ 0.46895789,  0.2486496 , -1.3395557 ,  0.80049868],\n",
       "       [-1.2645715 , -0.88001785, -0.84740559, -1.11439386],\n",
       "       [-0.38894806, -0.85249636, -1.15909809,  0.80368659],\n",
       "       [ 0.54722227,  0.7917661 , -0.92758732, -0.36385004],\n",
       "       [ 0.42075961,  1.48311012,  0.14897835,  0.18256306],\n",
       "       [ 0.57592753,  1.5389474 , -0.44335562,  0.29352404],\n",
       "       [-0.39104226, -0.62335053, -0.24814163,  1.30571543],\n",
       "       [-2.74949459, -1.81223519, -0.67659879, -0.76901211]])"
      ]
     },
     "execution_count": 29,
=======
       "array([[ 0.66763693, -0.49180692,  2.20282882,  1.24195544],\n",
       "       [-2.00770111, -2.40645902,  0.72565006, -1.03171392],\n",
       "       [-0.6623752 , -0.55359161, -0.12910757,  0.32072735],\n",
       "       [ 0.15100388,  0.03652101,  1.17761378, -0.02305033],\n",
       "       [-1.34430513,  0.43382074, -0.73698386,  1.45391681],\n",
       "       [ 0.79587054, -0.41989414, -0.57158667,  0.27083286],\n",
       "       [ 2.07779643,  0.87357607,  1.35985791, -0.1396096 ],\n",
       "       [ 0.92486744,  0.31213368, -0.37636055,  1.00843783],\n",
       "       [ 0.1487174 , -1.14674924,  0.63057998,  0.42037465],\n",
       "       [ 0.4129565 , -0.41689872,  1.04863279,  0.39499125]])"
      ]
     },
     "execution_count": 18,
>>>>>>> origin/saraBordin
     "metadata": {},
     "output_type": "execute_result"
    }
   ],
   "source": [
    "df.values"
   ]
  },
  {
   "cell_type": "code",
<<<<<<< HEAD
   "execution_count": 30,
=======
   "execution_count": 19,
>>>>>>> origin/saraBordin
   "metadata": {},
   "outputs": [
    {
     "data": {
      "text/html": [
       "<div>\n",
       "<style scoped>\n",
       "    .dataframe tbody tr th:only-of-type {\n",
       "        vertical-align: middle;\n",
       "    }\n",
       "\n",
       "    .dataframe tbody tr th {\n",
       "        vertical-align: top;\n",
       "    }\n",
       "\n",
       "    .dataframe thead th {\n",
       "        text-align: right;\n",
       "    }\n",
       "</style>\n",
       "<table border=\"1\" class=\"dataframe\">\n",
       "  <thead>\n",
       "    <tr style=\"text-align: right;\">\n",
       "      <th></th>\n",
       "      <th>A</th>\n",
       "      <th>B</th>\n",
       "      <th>C</th>\n",
       "      <th>D</th>\n",
       "    </tr>\n",
       "  </thead>\n",
       "  <tbody>\n",
       "    <tr>\n",
       "      <th>count</th>\n",
       "      <td>10.000000</td>\n",
       "      <td>10.000000</td>\n",
       "      <td>10.000000</td>\n",
       "      <td>10.000000</td>\n",
       "    </tr>\n",
       "    <tr>\n",
       "      <th>mean</th>\n",
<<<<<<< HEAD
       "      <td>-0.530927</td>\n",
       "      <td>-0.040335</td>\n",
       "      <td>-0.689247</td>\n",
       "      <td>0.176268</td>\n",
       "    </tr>\n",
       "    <tr>\n",
       "      <th>std</th>\n",
       "      <td>1.118525</td>\n",
       "      <td>1.107374</td>\n",
       "      <td>0.434254</td>\n",
       "      <td>0.774873</td>\n",
       "    </tr>\n",
       "    <tr>\n",
       "      <th>min</th>\n",
       "      <td>-2.749495</td>\n",
       "      <td>-1.812235</td>\n",
       "      <td>-1.339556</td>\n",
       "      <td>-1.114394</td>\n",
       "    </tr>\n",
       "    <tr>\n",
       "      <th>25%</th>\n",
       "      <td>-1.153762</td>\n",
       "      <td>-0.810961</td>\n",
       "      <td>-0.907542</td>\n",
       "      <td>-0.312577</td>\n",
       "    </tr>\n",
       "    <tr>\n",
       "      <th>50%</th>\n",
       "      <td>-0.389995</td>\n",
       "      <td>-0.187350</td>\n",
       "      <td>-0.729554</td>\n",
       "      <td>0.238044</td>\n",
       "    </tr>\n",
       "    <tr>\n",
       "      <th>75%</th>\n",
       "      <td>0.456908</td>\n",
       "      <td>0.690984</td>\n",
       "      <td>-0.486816</td>\n",
       "      <td>0.796051</td>\n",
       "    </tr>\n",
       "    <tr>\n",
       "      <th>max</th>\n",
       "      <td>0.575928</td>\n",
       "      <td>1.538947</td>\n",
       "      <td>0.148978</td>\n",
       "      <td>1.305715</td>\n",
=======
       "      <td>0.116447</td>\n",
       "      <td>-0.377935</td>\n",
       "      <td>0.533112</td>\n",
       "      <td>0.391686</td>\n",
       "    </tr>\n",
       "    <tr>\n",
       "      <th>std</th>\n",
       "      <td>1.183609</td>\n",
       "      <td>0.920524</td>\n",
       "      <td>0.960229</td>\n",
       "      <td>0.725144</td>\n",
       "    </tr>\n",
       "    <tr>\n",
       "      <th>min</th>\n",
       "      <td>-2.007701</td>\n",
       "      <td>-2.406459</td>\n",
       "      <td>-0.736984</td>\n",
       "      <td>-1.031714</td>\n",
       "    </tr>\n",
       "    <tr>\n",
       "      <th>25%</th>\n",
       "      <td>-0.459602</td>\n",
       "      <td>-0.538145</td>\n",
       "      <td>-0.314547</td>\n",
       "      <td>0.050420</td>\n",
       "    </tr>\n",
       "    <tr>\n",
       "      <th>50%</th>\n",
       "      <td>0.281980</td>\n",
       "      <td>-0.418396</td>\n",
       "      <td>0.678115</td>\n",
       "      <td>0.357859</td>\n",
       "    </tr>\n",
       "    <tr>\n",
       "      <th>75%</th>\n",
       "      <td>0.763812</td>\n",
       "      <td>0.243231</td>\n",
       "      <td>1.145369</td>\n",
       "      <td>0.861422</td>\n",
       "    </tr>\n",
       "    <tr>\n",
       "      <th>max</th>\n",
       "      <td>2.077796</td>\n",
       "      <td>0.873576</td>\n",
       "      <td>2.202829</td>\n",
       "      <td>1.453917</td>\n",
>>>>>>> origin/saraBordin
       "    </tr>\n",
       "  </tbody>\n",
       "</table>\n",
       "</div>"
      ],
      "text/plain": [
       "               A          B          C          D\n",
       "count  10.000000  10.000000  10.000000  10.000000\n",
<<<<<<< HEAD
       "mean   -0.530927  -0.040335  -0.689247   0.176268\n",
       "std     1.118525   1.107374   0.434254   0.774873\n",
       "min    -2.749495  -1.812235  -1.339556  -1.114394\n",
       "25%    -1.153762  -0.810961  -0.907542  -0.312577\n",
       "50%    -0.389995  -0.187350  -0.729554   0.238044\n",
       "75%     0.456908   0.690984  -0.486816   0.796051\n",
       "max     0.575928   1.538947   0.148978   1.305715"
      ]
     },
     "execution_count": 30,
=======
       "mean    0.116447  -0.377935   0.533112   0.391686\n",
       "std     1.183609   0.920524   0.960229   0.725144\n",
       "min    -2.007701  -2.406459  -0.736984  -1.031714\n",
       "25%    -0.459602  -0.538145  -0.314547   0.050420\n",
       "50%     0.281980  -0.418396   0.678115   0.357859\n",
       "75%     0.763812   0.243231   1.145369   0.861422\n",
       "max     2.077796   0.873576   2.202829   1.453917"
      ]
     },
     "execution_count": 19,
>>>>>>> origin/saraBordin
     "metadata": {},
     "output_type": "execute_result"
    }
   ],
   "source": [
    "df.describe()"
   ]
  },
  {
   "cell_type": "code",
<<<<<<< HEAD
   "execution_count": null,
   "metadata": {},
   "outputs": [],
   "source": [
    "df.T"
   ]
  },
  {
   "cell_type": "code",
   "execution_count": null,
   "metadata": {},
   "outputs": [],
   "source": [
    "df.sort_index(axis=1,ascending=False)"
   ]
  },
  {
   "cell_type": "code",
   "execution_count": null,
   "metadata": {},
   "outputs": [],
   "source": [
    "df.sort_values(by=\"C\")"
   ]
  },
  {
   "cell_type": "markdown",
   "metadata": {},
   "source": [
    "## Selection\n",
    "\n",
    "### Getting slices\n",
    "\n",
    "The following show how to get part of the DataFrame (i.e. not just the elements)"
   ]
  },
  {
   "cell_type": "code",
   "execution_count": 10,
   "metadata": {},
   "outputs": [
    {
     "name": "stdout",
     "output_type": "stream",
     "text": [
      "2018-11-19 14:45:00   -1.706743\n",
      "2018-11-19 15:45:00   -0.821334\n",
      "2018-11-19 16:45:00    0.468958\n",
      "2018-11-19 17:45:00   -1.264571\n",
      "2018-11-19 18:45:00   -0.388948\n",
      "2018-11-19 19:45:00    0.547222\n",
      "2018-11-19 20:45:00    0.420760\n",
      "2018-11-19 21:45:00    0.575928\n",
      "2018-11-19 22:45:00   -0.391042\n",
      "2018-11-19 23:45:00   -2.749495\n",
      "Freq: H, Name: A, dtype: float64 \n",
      "\n",
      "2018-11-19 14:45:00   -1.706743\n",
      "2018-11-19 15:45:00   -0.821334\n",
      "2018-11-19 16:45:00    0.468958\n",
      "2018-11-19 17:45:00   -1.264571\n",
      "2018-11-19 18:45:00   -0.388948\n",
      "2018-11-19 19:45:00    0.547222\n",
      "2018-11-19 20:45:00    0.420760\n",
      "2018-11-19 21:45:00    0.575928\n",
      "2018-11-19 22:45:00   -0.391042\n",
      "2018-11-19 23:45:00   -2.749495\n",
      "Freq: H, Name: A, dtype: float64\n"
     ]
    }
   ],
   "source": [
    "## standard and safe\n",
    "print (df['A'],'\\n')\n",
    "\n",
    "## equivalent but dangerous (imagine blank spaces in the name of the column..)\n",
    "print (df.A)"
   ]
  },
  {
   "cell_type": "code",
   "execution_count": null,
   "metadata": {},
   "outputs": [],
   "source": [
    "# selecting rows by counting\n",
    "print (df[0:3])\n",
    "\n",
    "# or by index\n",
    "print (df[\"2018-11-19 14:45:00\":\"2018-11-19 16:45:00\"])"
   ]
  },
  {
   "cell_type": "markdown",
   "metadata": {},
   "source": [
    "### Selection by label"
=======
   "execution_count": 20,
   "metadata": {},
   "outputs": [
    {
     "data": {
      "text/html": [
       "<div>\n",
       "<style scoped>\n",
       "    .dataframe tbody tr th:only-of-type {\n",
       "        vertical-align: middle;\n",
       "    }\n",
       "\n",
       "    .dataframe tbody tr th {\n",
       "        vertical-align: top;\n",
       "    }\n",
       "\n",
       "    .dataframe thead th {\n",
       "        text-align: right;\n",
       "    }\n",
       "</style>\n",
       "<table border=\"1\" class=\"dataframe\">\n",
       "  <thead>\n",
       "    <tr style=\"text-align: right;\">\n",
       "      <th></th>\n",
       "      <th>2018-11-19 14:45:00</th>\n",
       "      <th>2018-11-19 15:45:00</th>\n",
       "      <th>2018-11-19 16:45:00</th>\n",
       "      <th>2018-11-19 17:45:00</th>\n",
       "      <th>2018-11-19 18:45:00</th>\n",
       "      <th>2018-11-19 19:45:00</th>\n",
       "      <th>2018-11-19 20:45:00</th>\n",
       "      <th>2018-11-19 21:45:00</th>\n",
       "      <th>2018-11-19 22:45:00</th>\n",
       "      <th>2018-11-19 23:45:00</th>\n",
       "    </tr>\n",
       "  </thead>\n",
       "  <tbody>\n",
       "    <tr>\n",
       "      <th>A</th>\n",
       "      <td>0.667637</td>\n",
       "      <td>-2.007701</td>\n",
       "      <td>-0.662375</td>\n",
       "      <td>0.151004</td>\n",
       "      <td>-1.344305</td>\n",
       "      <td>0.795871</td>\n",
       "      <td>2.077796</td>\n",
       "      <td>0.924867</td>\n",
       "      <td>0.148717</td>\n",
       "      <td>0.412956</td>\n",
       "    </tr>\n",
       "    <tr>\n",
       "      <th>B</th>\n",
       "      <td>-0.491807</td>\n",
       "      <td>-2.406459</td>\n",
       "      <td>-0.553592</td>\n",
       "      <td>0.036521</td>\n",
       "      <td>0.433821</td>\n",
       "      <td>-0.419894</td>\n",
       "      <td>0.873576</td>\n",
       "      <td>0.312134</td>\n",
       "      <td>-1.146749</td>\n",
       "      <td>-0.416899</td>\n",
       "    </tr>\n",
       "    <tr>\n",
       "      <th>C</th>\n",
       "      <td>2.202829</td>\n",
       "      <td>0.725650</td>\n",
       "      <td>-0.129108</td>\n",
       "      <td>1.177614</td>\n",
       "      <td>-0.736984</td>\n",
       "      <td>-0.571587</td>\n",
       "      <td>1.359858</td>\n",
       "      <td>-0.376361</td>\n",
       "      <td>0.630580</td>\n",
       "      <td>1.048633</td>\n",
       "    </tr>\n",
       "    <tr>\n",
       "      <th>D</th>\n",
       "      <td>1.241955</td>\n",
       "      <td>-1.031714</td>\n",
       "      <td>0.320727</td>\n",
       "      <td>-0.023050</td>\n",
       "      <td>1.453917</td>\n",
       "      <td>0.270833</td>\n",
       "      <td>-0.139610</td>\n",
       "      <td>1.008438</td>\n",
       "      <td>0.420375</td>\n",
       "      <td>0.394991</td>\n",
       "    </tr>\n",
       "  </tbody>\n",
       "</table>\n",
       "</div>"
      ],
      "text/plain": [
       "   2018-11-19 14:45:00  2018-11-19 15:45:00  2018-11-19 16:45:00  \\\n",
       "A             0.667637            -2.007701            -0.662375   \n",
       "B            -0.491807            -2.406459            -0.553592   \n",
       "C             2.202829             0.725650            -0.129108   \n",
       "D             1.241955            -1.031714             0.320727   \n",
       "\n",
       "   2018-11-19 17:45:00  2018-11-19 18:45:00  2018-11-19 19:45:00  \\\n",
       "A             0.151004            -1.344305             0.795871   \n",
       "B             0.036521             0.433821            -0.419894   \n",
       "C             1.177614            -0.736984            -0.571587   \n",
       "D            -0.023050             1.453917             0.270833   \n",
       "\n",
       "   2018-11-19 20:45:00  2018-11-19 21:45:00  2018-11-19 22:45:00  \\\n",
       "A             2.077796             0.924867             0.148717   \n",
       "B             0.873576             0.312134            -1.146749   \n",
       "C             1.359858            -0.376361             0.630580   \n",
       "D            -0.139610             1.008438             0.420375   \n",
       "\n",
       "   2018-11-19 23:45:00  \n",
       "A             0.412956  \n",
       "B            -0.416899  \n",
       "C             1.048633  \n",
       "D             0.394991  "
      ]
     },
     "execution_count": 20,
     "metadata": {},
     "output_type": "execute_result"
    }
   ],
   "source": [
    "df.T"
   ]
  },
  {
   "cell_type": "code",
   "execution_count": 24,
   "metadata": {},
   "outputs": [
    {
     "data": {
      "text/html": [
       "<div>\n",
       "<style scoped>\n",
       "    .dataframe tbody tr th:only-of-type {\n",
       "        vertical-align: middle;\n",
       "    }\n",
       "\n",
       "    .dataframe tbody tr th {\n",
       "        vertical-align: top;\n",
       "    }\n",
       "\n",
       "    .dataframe thead th {\n",
       "        text-align: right;\n",
       "    }\n",
       "</style>\n",
       "<table border=\"1\" class=\"dataframe\">\n",
       "  <thead>\n",
       "    <tr style=\"text-align: right;\">\n",
       "      <th></th>\n",
       "      <th>D</th>\n",
       "      <th>C</th>\n",
       "      <th>B</th>\n",
       "      <th>A</th>\n",
       "    </tr>\n",
       "  </thead>\n",
       "  <tbody>\n",
       "    <tr>\n",
       "      <th>2018-11-19 14:45:00</th>\n",
       "      <td>1.241955</td>\n",
       "      <td>2.202829</td>\n",
       "      <td>-0.491807</td>\n",
       "      <td>0.667637</td>\n",
       "    </tr>\n",
       "    <tr>\n",
       "      <th>2018-11-19 15:45:00</th>\n",
       "      <td>-1.031714</td>\n",
       "      <td>0.725650</td>\n",
       "      <td>-2.406459</td>\n",
       "      <td>-2.007701</td>\n",
       "    </tr>\n",
       "    <tr>\n",
       "      <th>2018-11-19 16:45:00</th>\n",
       "      <td>0.320727</td>\n",
       "      <td>-0.129108</td>\n",
       "      <td>-0.553592</td>\n",
       "      <td>-0.662375</td>\n",
       "    </tr>\n",
       "    <tr>\n",
       "      <th>2018-11-19 17:45:00</th>\n",
       "      <td>-0.023050</td>\n",
       "      <td>1.177614</td>\n",
       "      <td>0.036521</td>\n",
       "      <td>0.151004</td>\n",
       "    </tr>\n",
       "    <tr>\n",
       "      <th>2018-11-19 18:45:00</th>\n",
       "      <td>1.453917</td>\n",
       "      <td>-0.736984</td>\n",
       "      <td>0.433821</td>\n",
       "      <td>-1.344305</td>\n",
       "    </tr>\n",
       "    <tr>\n",
       "      <th>2018-11-19 19:45:00</th>\n",
       "      <td>0.270833</td>\n",
       "      <td>-0.571587</td>\n",
       "      <td>-0.419894</td>\n",
       "      <td>0.795871</td>\n",
       "    </tr>\n",
       "    <tr>\n",
       "      <th>2018-11-19 20:45:00</th>\n",
       "      <td>-0.139610</td>\n",
       "      <td>1.359858</td>\n",
       "      <td>0.873576</td>\n",
       "      <td>2.077796</td>\n",
       "    </tr>\n",
       "    <tr>\n",
       "      <th>2018-11-19 21:45:00</th>\n",
       "      <td>1.008438</td>\n",
       "      <td>-0.376361</td>\n",
       "      <td>0.312134</td>\n",
       "      <td>0.924867</td>\n",
       "    </tr>\n",
       "    <tr>\n",
       "      <th>2018-11-19 22:45:00</th>\n",
       "      <td>0.420375</td>\n",
       "      <td>0.630580</td>\n",
       "      <td>-1.146749</td>\n",
       "      <td>0.148717</td>\n",
       "    </tr>\n",
       "    <tr>\n",
       "      <th>2018-11-19 23:45:00</th>\n",
       "      <td>0.394991</td>\n",
       "      <td>1.048633</td>\n",
       "      <td>-0.416899</td>\n",
       "      <td>0.412956</td>\n",
       "    </tr>\n",
       "  </tbody>\n",
       "</table>\n",
       "</div>"
      ],
      "text/plain": [
       "                            D         C         B         A\n",
       "2018-11-19 14:45:00  1.241955  2.202829 -0.491807  0.667637\n",
       "2018-11-19 15:45:00 -1.031714  0.725650 -2.406459 -2.007701\n",
       "2018-11-19 16:45:00  0.320727 -0.129108 -0.553592 -0.662375\n",
       "2018-11-19 17:45:00 -0.023050  1.177614  0.036521  0.151004\n",
       "2018-11-19 18:45:00  1.453917 -0.736984  0.433821 -1.344305\n",
       "2018-11-19 19:45:00  0.270833 -0.571587 -0.419894  0.795871\n",
       "2018-11-19 20:45:00 -0.139610  1.359858  0.873576  2.077796\n",
       "2018-11-19 21:45:00  1.008438 -0.376361  0.312134  0.924867\n",
       "2018-11-19 22:45:00  0.420375  0.630580 -1.146749  0.148717\n",
       "2018-11-19 23:45:00  0.394991  1.048633 -0.416899  0.412956"
      ]
     },
     "execution_count": 24,
     "metadata": {},
     "output_type": "execute_result"
    }
   ],
   "source": [
    "df.sort_index(axis=1,ascending=False)"
>>>>>>> origin/saraBordin
   ]
  },
  {
   "cell_type": "code",
<<<<<<< HEAD
   "execution_count": 13,
=======
   "execution_count": 25,
>>>>>>> origin/saraBordin
   "metadata": {},
   "outputs": [
    {
     "data": {
<<<<<<< HEAD
      "text/plain": [
       "A   -1.706743\n",
       "B    0.388637\n",
       "C   -0.617199\n",
       "D    0.782708\n",
       "Name: 2018-11-19 14:45:00, dtype: float64"
      ]
     },
     "execution_count": 13,
=======
      "text/html": [
       "<div>\n",
       "<style scoped>\n",
       "    .dataframe tbody tr th:only-of-type {\n",
       "        vertical-align: middle;\n",
       "    }\n",
       "\n",
       "    .dataframe tbody tr th {\n",
       "        vertical-align: top;\n",
       "    }\n",
       "\n",
       "    .dataframe thead th {\n",
       "        text-align: right;\n",
       "    }\n",
       "</style>\n",
       "<table border=\"1\" class=\"dataframe\">\n",
       "  <thead>\n",
       "    <tr style=\"text-align: right;\">\n",
       "      <th></th>\n",
       "      <th>A</th>\n",
       "      <th>B</th>\n",
       "      <th>C</th>\n",
       "      <th>D</th>\n",
       "    </tr>\n",
       "  </thead>\n",
       "  <tbody>\n",
       "    <tr>\n",
       "      <th>2018-11-19 18:45:00</th>\n",
       "      <td>-1.344305</td>\n",
       "      <td>0.433821</td>\n",
       "      <td>-0.736984</td>\n",
       "      <td>1.453917</td>\n",
       "    </tr>\n",
       "    <tr>\n",
       "      <th>2018-11-19 19:45:00</th>\n",
       "      <td>0.795871</td>\n",
       "      <td>-0.419894</td>\n",
       "      <td>-0.571587</td>\n",
       "      <td>0.270833</td>\n",
       "    </tr>\n",
       "    <tr>\n",
       "      <th>2018-11-19 21:45:00</th>\n",
       "      <td>0.924867</td>\n",
       "      <td>0.312134</td>\n",
       "      <td>-0.376361</td>\n",
       "      <td>1.008438</td>\n",
       "    </tr>\n",
       "    <tr>\n",
       "      <th>2018-11-19 16:45:00</th>\n",
       "      <td>-0.662375</td>\n",
       "      <td>-0.553592</td>\n",
       "      <td>-0.129108</td>\n",
       "      <td>0.320727</td>\n",
       "    </tr>\n",
       "    <tr>\n",
       "      <th>2018-11-19 22:45:00</th>\n",
       "      <td>0.148717</td>\n",
       "      <td>-1.146749</td>\n",
       "      <td>0.630580</td>\n",
       "      <td>0.420375</td>\n",
       "    </tr>\n",
       "    <tr>\n",
       "      <th>2018-11-19 15:45:00</th>\n",
       "      <td>-2.007701</td>\n",
       "      <td>-2.406459</td>\n",
       "      <td>0.725650</td>\n",
       "      <td>-1.031714</td>\n",
       "    </tr>\n",
       "    <tr>\n",
       "      <th>2018-11-19 23:45:00</th>\n",
       "      <td>0.412956</td>\n",
       "      <td>-0.416899</td>\n",
       "      <td>1.048633</td>\n",
       "      <td>0.394991</td>\n",
       "    </tr>\n",
       "    <tr>\n",
       "      <th>2018-11-19 17:45:00</th>\n",
       "      <td>0.151004</td>\n",
       "      <td>0.036521</td>\n",
       "      <td>1.177614</td>\n",
       "      <td>-0.023050</td>\n",
       "    </tr>\n",
       "    <tr>\n",
       "      <th>2018-11-19 20:45:00</th>\n",
       "      <td>2.077796</td>\n",
       "      <td>0.873576</td>\n",
       "      <td>1.359858</td>\n",
       "      <td>-0.139610</td>\n",
       "    </tr>\n",
       "    <tr>\n",
       "      <th>2018-11-19 14:45:00</th>\n",
       "      <td>0.667637</td>\n",
       "      <td>-0.491807</td>\n",
       "      <td>2.202829</td>\n",
       "      <td>1.241955</td>\n",
       "    </tr>\n",
       "  </tbody>\n",
       "</table>\n",
       "</div>"
      ],
      "text/plain": [
       "                            A         B         C         D\n",
       "2018-11-19 18:45:00 -1.344305  0.433821 -0.736984  1.453917\n",
       "2018-11-19 19:45:00  0.795871 -0.419894 -0.571587  0.270833\n",
       "2018-11-19 21:45:00  0.924867  0.312134 -0.376361  1.008438\n",
       "2018-11-19 16:45:00 -0.662375 -0.553592 -0.129108  0.320727\n",
       "2018-11-19 22:45:00  0.148717 -1.146749  0.630580  0.420375\n",
       "2018-11-19 15:45:00 -2.007701 -2.406459  0.725650 -1.031714\n",
       "2018-11-19 23:45:00  0.412956 -0.416899  1.048633  0.394991\n",
       "2018-11-19 17:45:00  0.151004  0.036521  1.177614 -0.023050\n",
       "2018-11-19 20:45:00  2.077796  0.873576  1.359858 -0.139610\n",
       "2018-11-19 14:45:00  0.667637 -0.491807  2.202829  1.241955"
      ]
     },
     "execution_count": 25,
>>>>>>> origin/saraBordin
     "metadata": {},
     "output_type": "execute_result"
    }
   ],
   "source": [
<<<<<<< HEAD
    "# getting a cross section (part of the DataFrame) using a label\n",
    "df.loc[dates[0]]"
   ]
  },
  {
   "cell_type": "code",
   "execution_count": null,
   "metadata": {},
   "outputs": [],
   "source": [
    "# selecting on a multi-axis by label:\n",
    "df.loc[:,['A','B']]"
=======
    "df.sort_values(by=\"C\")"
   ]
  },
  {
   "cell_type": "markdown",
   "metadata": {},
   "source": [
    "## Selection\n",
    "\n",
    "### Getting slices\n",
    "\n",
    "The following show how to get part of the DataFrame (i.e. not just the elements)"
>>>>>>> origin/saraBordin
   ]
  },
  {
   "cell_type": "code",
<<<<<<< HEAD
   "execution_count": null,
   "metadata": {},
   "outputs": [],
   "source": [
    "# showing label slicing, both endpoints are included:\n",
    "df.loc['2018-11-19 18:45:00':'2018-11-19 20:45:00',['A','B']]"
=======
   "execution_count": 26,
   "metadata": {},
   "outputs": [
    {
     "name": "stdout",
     "output_type": "stream",
     "text": [
      "2018-11-19 14:45:00    0.667637\n",
      "2018-11-19 15:45:00   -2.007701\n",
      "2018-11-19 16:45:00   -0.662375\n",
      "2018-11-19 17:45:00    0.151004\n",
      "2018-11-19 18:45:00   -1.344305\n",
      "2018-11-19 19:45:00    0.795871\n",
      "2018-11-19 20:45:00    2.077796\n",
      "2018-11-19 21:45:00    0.924867\n",
      "2018-11-19 22:45:00    0.148717\n",
      "2018-11-19 23:45:00    0.412956\n",
      "Freq: H, Name: A, dtype: float64 \n",
      "\n",
      "2018-11-19 14:45:00    0.667637\n",
      "2018-11-19 15:45:00   -2.007701\n",
      "2018-11-19 16:45:00   -0.662375\n",
      "2018-11-19 17:45:00    0.151004\n",
      "2018-11-19 18:45:00   -1.344305\n",
      "2018-11-19 19:45:00    0.795871\n",
      "2018-11-19 20:45:00    2.077796\n",
      "2018-11-19 21:45:00    0.924867\n",
      "2018-11-19 22:45:00    0.148717\n",
      "2018-11-19 23:45:00    0.412956\n",
      "Freq: H, Name: A, dtype: float64\n"
     ]
    }
   ],
   "source": [
    "## standard and safe\n",
    "print (df['A'],'\\n')\n",
    "\n",
    "## equivalent but dangerous (imagine blank spaces in the name of the column..) metodo con blank space\n",
    "print (df.A)"
>>>>>>> origin/saraBordin
   ]
  },
  {
   "cell_type": "code",
<<<<<<< HEAD
   "execution_count": 12,
=======
   "execution_count": 27,
>>>>>>> origin/saraBordin
   "metadata": {},
   "outputs": [
    {
     "name": "stdout",
     "output_type": "stream",
     "text": [
<<<<<<< HEAD
      "-0.8213336829894439\n",
      "-0.8213336829894439\n"
=======
      "                            A         B         C         D\n",
      "2018-11-19 14:45:00  0.667637 -0.491807  2.202829  1.241955\n",
      "2018-11-19 15:45:00 -2.007701 -2.406459  0.725650 -1.031714\n",
      "2018-11-19 16:45:00 -0.662375 -0.553592 -0.129108  0.320727\n",
      "                            A         B         C         D\n",
      "2018-11-19 14:45:00  0.667637 -0.491807  2.202829  1.241955\n",
      "2018-11-19 15:45:00 -2.007701 -2.406459  0.725650 -1.031714\n",
      "2018-11-19 16:45:00 -0.662375 -0.553592 -0.129108  0.320727\n"
>>>>>>> origin/saraBordin
     ]
    }
   ],
   "source": [
<<<<<<< HEAD
    "# getting an individual element\n",
    "print (df.loc[dates[1],'A'])\n",
    "\n",
    "# equivalently\n",
=======
    "# selecting rows by counting\n",
    "print (df[0:3])\n",
    "\n",
    "# or by index\n",
    "print (df[\"2018-11-19 14:45:00\":\"2018-11-19 16:45:00\"])"
   ]
  },
  {
   "cell_type": "markdown",
   "metadata": {},
   "source": [
    "### Selection by label"
   ]
  },
  {
   "cell_type": "code",
   "execution_count": 29,
   "metadata": {},
   "outputs": [
    {
     "data": {
      "text/plain": [
       "A    0.667637\n",
       "B   -0.491807\n",
       "C    2.202829\n",
       "D    1.241955\n",
       "Name: 2018-11-19 14:45:00, dtype: float64"
      ]
     },
     "execution_count": 29,
     "metadata": {},
     "output_type": "execute_result"
    }
   ],
   "source": [
    "# getting a cross section (part of the DataFrame) using a label\n",
    "df.loc[dates[0]]"
   ]
  },
  {
   "cell_type": "code",
   "execution_count": 30,
   "metadata": {},
   "outputs": [
    {
     "data": {
      "text/html": [
       "<div>\n",
       "<style scoped>\n",
       "    .dataframe tbody tr th:only-of-type {\n",
       "        vertical-align: middle;\n",
       "    }\n",
       "\n",
       "    .dataframe tbody tr th {\n",
       "        vertical-align: top;\n",
       "    }\n",
       "\n",
       "    .dataframe thead th {\n",
       "        text-align: right;\n",
       "    }\n",
       "</style>\n",
       "<table border=\"1\" class=\"dataframe\">\n",
       "  <thead>\n",
       "    <tr style=\"text-align: right;\">\n",
       "      <th></th>\n",
       "      <th>A</th>\n",
       "      <th>B</th>\n",
       "    </tr>\n",
       "  </thead>\n",
       "  <tbody>\n",
       "    <tr>\n",
       "      <th>2018-11-19 14:45:00</th>\n",
       "      <td>0.667637</td>\n",
       "      <td>-0.491807</td>\n",
       "    </tr>\n",
       "    <tr>\n",
       "      <th>2018-11-19 15:45:00</th>\n",
       "      <td>-2.007701</td>\n",
       "      <td>-2.406459</td>\n",
       "    </tr>\n",
       "    <tr>\n",
       "      <th>2018-11-19 16:45:00</th>\n",
       "      <td>-0.662375</td>\n",
       "      <td>-0.553592</td>\n",
       "    </tr>\n",
       "    <tr>\n",
       "      <th>2018-11-19 17:45:00</th>\n",
       "      <td>0.151004</td>\n",
       "      <td>0.036521</td>\n",
       "    </tr>\n",
       "    <tr>\n",
       "      <th>2018-11-19 18:45:00</th>\n",
       "      <td>-1.344305</td>\n",
       "      <td>0.433821</td>\n",
       "    </tr>\n",
       "    <tr>\n",
       "      <th>2018-11-19 19:45:00</th>\n",
       "      <td>0.795871</td>\n",
       "      <td>-0.419894</td>\n",
       "    </tr>\n",
       "    <tr>\n",
       "      <th>2018-11-19 20:45:00</th>\n",
       "      <td>2.077796</td>\n",
       "      <td>0.873576</td>\n",
       "    </tr>\n",
       "    <tr>\n",
       "      <th>2018-11-19 21:45:00</th>\n",
       "      <td>0.924867</td>\n",
       "      <td>0.312134</td>\n",
       "    </tr>\n",
       "    <tr>\n",
       "      <th>2018-11-19 22:45:00</th>\n",
       "      <td>0.148717</td>\n",
       "      <td>-1.146749</td>\n",
       "    </tr>\n",
       "    <tr>\n",
       "      <th>2018-11-19 23:45:00</th>\n",
       "      <td>0.412956</td>\n",
       "      <td>-0.416899</td>\n",
       "    </tr>\n",
       "  </tbody>\n",
       "</table>\n",
       "</div>"
      ],
      "text/plain": [
       "                            A         B\n",
       "2018-11-19 14:45:00  0.667637 -0.491807\n",
       "2018-11-19 15:45:00 -2.007701 -2.406459\n",
       "2018-11-19 16:45:00 -0.662375 -0.553592\n",
       "2018-11-19 17:45:00  0.151004  0.036521\n",
       "2018-11-19 18:45:00 -1.344305  0.433821\n",
       "2018-11-19 19:45:00  0.795871 -0.419894\n",
       "2018-11-19 20:45:00  2.077796  0.873576\n",
       "2018-11-19 21:45:00  0.924867  0.312134\n",
       "2018-11-19 22:45:00  0.148717 -1.146749\n",
       "2018-11-19 23:45:00  0.412956 -0.416899"
      ]
     },
     "execution_count": 30,
     "metadata": {},
     "output_type": "execute_result"
    }
   ],
   "source": [
    "# selecting on a multi-axis by label:\n",
    "df.loc[:,['A','B']]"
   ]
  },
  {
   "cell_type": "code",
   "execution_count": 31,
   "metadata": {},
   "outputs": [
    {
     "data": {
      "text/html": [
       "<div>\n",
       "<style scoped>\n",
       "    .dataframe tbody tr th:only-of-type {\n",
       "        vertical-align: middle;\n",
       "    }\n",
       "\n",
       "    .dataframe tbody tr th {\n",
       "        vertical-align: top;\n",
       "    }\n",
       "\n",
       "    .dataframe thead th {\n",
       "        text-align: right;\n",
       "    }\n",
       "</style>\n",
       "<table border=\"1\" class=\"dataframe\">\n",
       "  <thead>\n",
       "    <tr style=\"text-align: right;\">\n",
       "      <th></th>\n",
       "      <th>A</th>\n",
       "      <th>B</th>\n",
       "    </tr>\n",
       "  </thead>\n",
       "  <tbody>\n",
       "    <tr>\n",
       "      <th>2018-11-19 18:45:00</th>\n",
       "      <td>-1.344305</td>\n",
       "      <td>0.433821</td>\n",
       "    </tr>\n",
       "    <tr>\n",
       "      <th>2018-11-19 19:45:00</th>\n",
       "      <td>0.795871</td>\n",
       "      <td>-0.419894</td>\n",
       "    </tr>\n",
       "    <tr>\n",
       "      <th>2018-11-19 20:45:00</th>\n",
       "      <td>2.077796</td>\n",
       "      <td>0.873576</td>\n",
       "    </tr>\n",
       "  </tbody>\n",
       "</table>\n",
       "</div>"
      ],
      "text/plain": [
       "                            A         B\n",
       "2018-11-19 18:45:00 -1.344305  0.433821\n",
       "2018-11-19 19:45:00  0.795871 -0.419894\n",
       "2018-11-19 20:45:00  2.077796  0.873576"
      ]
     },
     "execution_count": 31,
     "metadata": {},
     "output_type": "execute_result"
    }
   ],
   "source": [
    "# showing label slicing, both endpoints are included:\n",
    "df.loc['2018-11-19 18:45:00':'2018-11-19 20:45:00',['A','B']]"
   ]
  },
  {
   "cell_type": "code",
   "execution_count": 32,
   "metadata": {},
   "outputs": [
    {
     "name": "stdout",
     "output_type": "stream",
     "text": [
      "-2.0077011140713714\n",
      "-2.0077011140713714\n"
     ]
    }
   ],
   "source": [
    "# getting an individual element\n",
    "print (df.loc[dates[1],'A'])\n",
    "\n",
    "# equivalently\n",
>>>>>>> origin/saraBordin
    "print (df.at[dates[1],'A'])"
   ]
  },
  {
   "cell_type": "markdown",
   "metadata": {},
   "source": [
    "### Selecting by position"
   ]
  },
  {
   "cell_type": "code",
<<<<<<< HEAD
   "execution_count": null,
   "metadata": {},
   "outputs": [],
=======
   "execution_count": 33,
   "metadata": {},
   "outputs": [
    {
     "name": "stdout",
     "output_type": "stream",
     "text": [
      "A    0.151004\n",
      "B    0.036521\n",
      "C    1.177614\n",
      "D   -0.023050\n",
      "Name: 2018-11-19 17:45:00, dtype: float64 \n",
      "\n",
      "                            A         B\n",
      "2018-11-19 17:45:00  0.151004  0.036521\n",
      "2018-11-19 18:45:00 -1.344305  0.433821\n"
     ]
    }
   ],
>>>>>>> origin/saraBordin
   "source": [
    "# select via the position of the passed integers:\n",
    "print (df.iloc[3],'\\n')\n",
    "\n",
    "# notation similar to numpy/python\n",
    "print (df.iloc[3:5,0:2])"
   ]
  },
  {
   "cell_type": "code",
<<<<<<< HEAD
   "execution_count": null,
   "metadata": {},
   "outputs": [],
=======
   "execution_count": 34,
   "metadata": {},
   "outputs": [
    {
     "data": {
      "text/html": [
       "<div>\n",
       "<style scoped>\n",
       "    .dataframe tbody tr th:only-of-type {\n",
       "        vertical-align: middle;\n",
       "    }\n",
       "\n",
       "    .dataframe tbody tr th {\n",
       "        vertical-align: top;\n",
       "    }\n",
       "\n",
       "    .dataframe thead th {\n",
       "        text-align: right;\n",
       "    }\n",
       "</style>\n",
       "<table border=\"1\" class=\"dataframe\">\n",
       "  <thead>\n",
       "    <tr style=\"text-align: right;\">\n",
       "      <th></th>\n",
       "      <th>A</th>\n",
       "      <th>C</th>\n",
       "    </tr>\n",
       "  </thead>\n",
       "  <tbody>\n",
       "    <tr>\n",
       "      <th>2018-11-19 15:45:00</th>\n",
       "      <td>-2.007701</td>\n",
       "      <td>0.725650</td>\n",
       "    </tr>\n",
       "    <tr>\n",
       "      <th>2018-11-19 16:45:00</th>\n",
       "      <td>-0.662375</td>\n",
       "      <td>-0.129108</td>\n",
       "    </tr>\n",
       "    <tr>\n",
       "      <th>2018-11-19 18:45:00</th>\n",
       "      <td>-1.344305</td>\n",
       "      <td>-0.736984</td>\n",
       "    </tr>\n",
       "  </tbody>\n",
       "</table>\n",
       "</div>"
      ],
      "text/plain": [
       "                            A         C\n",
       "2018-11-19 15:45:00 -2.007701  0.725650\n",
       "2018-11-19 16:45:00 -0.662375 -0.129108\n",
       "2018-11-19 18:45:00 -1.344305 -0.736984"
      ]
     },
     "execution_count": 34,
     "metadata": {},
     "output_type": "execute_result"
    }
   ],
>>>>>>> origin/saraBordin
   "source": [
    "# selecting raws 1,2 and 4 for columns 0 and 2\n",
    "df.iloc[[1,2,4],[0,2]]"
   ]
  },
  {
   "cell_type": "code",
<<<<<<< HEAD
   "execution_count": null,
   "metadata": {},
   "outputs": [],
=======
   "execution_count": 35,
   "metadata": {},
   "outputs": [
    {
     "name": "stdout",
     "output_type": "stream",
     "text": [
      "                            A         B         C         D\n",
      "2018-11-19 15:45:00 -2.007701 -2.406459  0.725650 -1.031714\n",
      "2018-11-19 16:45:00 -0.662375 -0.553592 -0.129108  0.320727 \n",
      "\n",
      "                            B         C\n",
      "2018-11-19 14:45:00 -0.491807  2.202829\n",
      "2018-11-19 15:45:00 -2.406459  0.725650\n",
      "2018-11-19 16:45:00 -0.553592 -0.129108\n",
      "2018-11-19 17:45:00  0.036521  1.177614\n",
      "2018-11-19 18:45:00  0.433821 -0.736984\n",
      "2018-11-19 19:45:00 -0.419894 -0.571587\n",
      "2018-11-19 20:45:00  0.873576  1.359858\n",
      "2018-11-19 21:45:00  0.312134 -0.376361\n",
      "2018-11-19 22:45:00 -1.146749  0.630580\n",
      "2018-11-19 23:45:00 -0.416899  1.048633\n"
     ]
    }
   ],
>>>>>>> origin/saraBordin
   "source": [
    "# slicing rows explicitly\n",
    "print (df.iloc[1:3,:],'\\n')\n",
    "\n",
    "# slicing columns explicitly\n",
    "print (df.iloc[:,1:3])\n"
   ]
  },
  {
   "cell_type": "code",
<<<<<<< HEAD
   "execution_count": null,
   "metadata": {},
   "outputs": [],
   "source": [
    "# selecting an individual element by position\n",
    "df.iloc[1,1]\n",
    "df.iat[1,1]\n"
   ]
  },
  {
   "cell_type": "markdown",
   "metadata": {},
   "source": [
    "### Boolean index\n",
    "\n",
    "Very powerful way of filtering out data with certain features. Notation is very similar to numpy arrays."
=======
   "execution_count": 36,
   "metadata": {},
   "outputs": [
    {
     "data": {
      "text/plain": [
       "-2.4064590231924146"
      ]
     },
     "execution_count": 36,
     "metadata": {},
     "output_type": "execute_result"
    }
   ],
   "source": [
    "# selecting an individual element by position, equivalent\n",
    "df.iloc[1,1]\n",
    "df.iat[1,1]\n"
   ]
  },
  {
   "cell_type": "markdown",
   "metadata": {},
   "source": [
    "### Boolean index\n",
    "\n",
    "Very powerful way of filtering out data with certain features. Notation is very similar to numpy arrays."
   ]
  },
  {
   "cell_type": "code",
   "execution_count": 37,
   "metadata": {},
   "outputs": [
    {
     "data": {
      "text/html": [
       "<div>\n",
       "<style scoped>\n",
       "    .dataframe tbody tr th:only-of-type {\n",
       "        vertical-align: middle;\n",
       "    }\n",
       "\n",
       "    .dataframe tbody tr th {\n",
       "        vertical-align: top;\n",
       "    }\n",
       "\n",
       "    .dataframe thead th {\n",
       "        text-align: right;\n",
       "    }\n",
       "</style>\n",
       "<table border=\"1\" class=\"dataframe\">\n",
       "  <thead>\n",
       "    <tr style=\"text-align: right;\">\n",
       "      <th></th>\n",
       "      <th>A</th>\n",
       "      <th>B</th>\n",
       "      <th>C</th>\n",
       "      <th>D</th>\n",
       "    </tr>\n",
       "  </thead>\n",
       "  <tbody>\n",
       "    <tr>\n",
       "      <th>2018-11-19 17:45:00</th>\n",
       "      <td>0.151004</td>\n",
       "      <td>0.036521</td>\n",
       "      <td>1.177614</td>\n",
       "      <td>-0.023050</td>\n",
       "    </tr>\n",
       "    <tr>\n",
       "      <th>2018-11-19 18:45:00</th>\n",
       "      <td>-1.344305</td>\n",
       "      <td>0.433821</td>\n",
       "      <td>-0.736984</td>\n",
       "      <td>1.453917</td>\n",
       "    </tr>\n",
       "    <tr>\n",
       "      <th>2018-11-19 20:45:00</th>\n",
       "      <td>2.077796</td>\n",
       "      <td>0.873576</td>\n",
       "      <td>1.359858</td>\n",
       "      <td>-0.139610</td>\n",
       "    </tr>\n",
       "    <tr>\n",
       "      <th>2018-11-19 21:45:00</th>\n",
       "      <td>0.924867</td>\n",
       "      <td>0.312134</td>\n",
       "      <td>-0.376361</td>\n",
       "      <td>1.008438</td>\n",
       "    </tr>\n",
       "  </tbody>\n",
       "</table>\n",
       "</div>"
      ],
      "text/plain": [
       "                            A         B         C         D\n",
       "2018-11-19 17:45:00  0.151004  0.036521  1.177614 -0.023050\n",
       "2018-11-19 18:45:00 -1.344305  0.433821 -0.736984  1.453917\n",
       "2018-11-19 20:45:00  2.077796  0.873576  1.359858 -0.139610\n",
       "2018-11-19 21:45:00  0.924867  0.312134 -0.376361  1.008438"
      ]
     },
     "execution_count": 37,
     "metadata": {},
     "output_type": "execute_result"
    }
   ],
   "source": [
    "# Filter by a boolean condition on the values of a single column\n",
    "df[df['B'] > 0]"
   ]
  },
  {
   "cell_type": "code",
   "execution_count": 38,
   "metadata": {},
   "outputs": [
    {
     "data": {
      "text/html": [
       "<div>\n",
       "<style scoped>\n",
       "    .dataframe tbody tr th:only-of-type {\n",
       "        vertical-align: middle;\n",
       "    }\n",
       "\n",
       "    .dataframe tbody tr th {\n",
       "        vertical-align: top;\n",
       "    }\n",
       "\n",
       "    .dataframe thead th {\n",
       "        text-align: right;\n",
       "    }\n",
       "</style>\n",
       "<table border=\"1\" class=\"dataframe\">\n",
       "  <thead>\n",
       "    <tr style=\"text-align: right;\">\n",
       "      <th></th>\n",
       "      <th>A</th>\n",
       "      <th>B</th>\n",
       "      <th>C</th>\n",
       "      <th>D</th>\n",
       "    </tr>\n",
       "  </thead>\n",
       "  <tbody>\n",
       "    <tr>\n",
       "      <th>2018-11-19 14:45:00</th>\n",
       "      <td>0.667637</td>\n",
       "      <td>NaN</td>\n",
       "      <td>2.202829</td>\n",
       "      <td>1.241955</td>\n",
       "    </tr>\n",
       "    <tr>\n",
       "      <th>2018-11-19 15:45:00</th>\n",
       "      <td>NaN</td>\n",
       "      <td>NaN</td>\n",
       "      <td>0.725650</td>\n",
       "      <td>NaN</td>\n",
       "    </tr>\n",
       "    <tr>\n",
       "      <th>2018-11-19 16:45:00</th>\n",
       "      <td>NaN</td>\n",
       "      <td>NaN</td>\n",
       "      <td>NaN</td>\n",
       "      <td>0.320727</td>\n",
       "    </tr>\n",
       "    <tr>\n",
       "      <th>2018-11-19 17:45:00</th>\n",
       "      <td>0.151004</td>\n",
       "      <td>0.036521</td>\n",
       "      <td>1.177614</td>\n",
       "      <td>NaN</td>\n",
       "    </tr>\n",
       "    <tr>\n",
       "      <th>2018-11-19 18:45:00</th>\n",
       "      <td>NaN</td>\n",
       "      <td>0.433821</td>\n",
       "      <td>NaN</td>\n",
       "      <td>1.453917</td>\n",
       "    </tr>\n",
       "    <tr>\n",
       "      <th>2018-11-19 19:45:00</th>\n",
       "      <td>0.795871</td>\n",
       "      <td>NaN</td>\n",
       "      <td>NaN</td>\n",
       "      <td>0.270833</td>\n",
       "    </tr>\n",
       "    <tr>\n",
       "      <th>2018-11-19 20:45:00</th>\n",
       "      <td>2.077796</td>\n",
       "      <td>0.873576</td>\n",
       "      <td>1.359858</td>\n",
       "      <td>NaN</td>\n",
       "    </tr>\n",
       "    <tr>\n",
       "      <th>2018-11-19 21:45:00</th>\n",
       "      <td>0.924867</td>\n",
       "      <td>0.312134</td>\n",
       "      <td>NaN</td>\n",
       "      <td>1.008438</td>\n",
       "    </tr>\n",
       "    <tr>\n",
       "      <th>2018-11-19 22:45:00</th>\n",
       "      <td>0.148717</td>\n",
       "      <td>NaN</td>\n",
       "      <td>0.630580</td>\n",
       "      <td>0.420375</td>\n",
       "    </tr>\n",
       "    <tr>\n",
       "      <th>2018-11-19 23:45:00</th>\n",
       "      <td>0.412956</td>\n",
       "      <td>NaN</td>\n",
       "      <td>1.048633</td>\n",
       "      <td>0.394991</td>\n",
       "    </tr>\n",
       "  </tbody>\n",
       "</table>\n",
       "</div>"
      ],
      "text/plain": [
       "                            A         B         C         D\n",
       "2018-11-19 14:45:00  0.667637       NaN  2.202829  1.241955\n",
       "2018-11-19 15:45:00       NaN       NaN  0.725650       NaN\n",
       "2018-11-19 16:45:00       NaN       NaN       NaN  0.320727\n",
       "2018-11-19 17:45:00  0.151004  0.036521  1.177614       NaN\n",
       "2018-11-19 18:45:00       NaN  0.433821       NaN  1.453917\n",
       "2018-11-19 19:45:00  0.795871       NaN       NaN  0.270833\n",
       "2018-11-19 20:45:00  2.077796  0.873576  1.359858       NaN\n",
       "2018-11-19 21:45:00  0.924867  0.312134       NaN  1.008438\n",
       "2018-11-19 22:45:00  0.148717       NaN  0.630580  0.420375\n",
       "2018-11-19 23:45:00  0.412956       NaN  1.048633  0.394991"
      ]
     },
     "execution_count": 38,
     "metadata": {},
     "output_type": "execute_result"
    }
   ],
   "source": [
    "# Selecting on the basis of boolean conditions applied to the whole DataFrame\n",
    "df[df>0]\n",
    "\n",
    "# a DataFrame with the same shape is returned, with NaN's where condition is not met"
   ]
  },
  {
   "cell_type": "markdown",
   "metadata": {},
   "source": [
    "### Setting\n",
    "\n",
    "Combination of selection and setting of values"
   ]
  },
  {
   "cell_type": "code",
   "execution_count": 47,
   "metadata": {},
   "outputs": [],
   "source": [
    "# setting values by label (same as by position)\n",
    "df.at[dates[0],'A'] = 0\n",
    "\n",
    "# setting and assigning a numpy array\n",
    "df.loc[:,'D'] = np.array([5] * len(df))\n",
    "\n",
    "# defining a brend new column\n",
    "df['E'] = np.arange(len(df))*0.5\n",
    "\n",
    "\n",
    "# defining a brend new column by means of a pd.Series: indexes must be the same!\n",
    "df['E prime'] = pd.Series(np.arange(len(df))*2, index=df.index)\n"
   ]
  },
  {
   "cell_type": "code",
   "execution_count": 48,
   "metadata": {},
   "outputs": [
    {
     "data": {
      "text/html": [
       "<div>\n",
       "<style scoped>\n",
       "    .dataframe tbody tr th:only-of-type {\n",
       "        vertical-align: middle;\n",
       "    }\n",
       "\n",
       "    .dataframe tbody tr th {\n",
       "        vertical-align: top;\n",
       "    }\n",
       "\n",
       "    .dataframe thead th {\n",
       "        text-align: right;\n",
       "    }\n",
       "</style>\n",
       "<table border=\"1\" class=\"dataframe\">\n",
       "  <thead>\n",
       "    <tr style=\"text-align: right;\">\n",
       "      <th></th>\n",
       "      <th>A</th>\n",
       "      <th>B</th>\n",
       "      <th>C</th>\n",
       "      <th>D</th>\n",
       "      <th>E</th>\n",
       "      <th>E prime</th>\n",
       "      <th>cosine</th>\n",
       "    </tr>\n",
       "  </thead>\n",
       "  <tbody>\n",
       "    <tr>\n",
       "      <th>2018-11-19 14:45:00</th>\n",
       "      <td>0.000000</td>\n",
       "      <td>-0.491807</td>\n",
       "      <td>2.202829</td>\n",
       "      <td>5</td>\n",
       "      <td>0.0</td>\n",
       "      <td>0</td>\n",
       "      <td>1.000000</td>\n",
       "    </tr>\n",
       "    <tr>\n",
       "      <th>2018-11-19 15:45:00</th>\n",
       "      <td>-2.007701</td>\n",
       "      <td>-2.406459</td>\n",
       "      <td>0.725650</td>\n",
       "      <td>5</td>\n",
       "      <td>0.5</td>\n",
       "      <td>2</td>\n",
       "      <td>0.999962</td>\n",
       "    </tr>\n",
       "    <tr>\n",
       "      <th>2018-11-19 16:45:00</th>\n",
       "      <td>-0.662375</td>\n",
       "      <td>-0.553592</td>\n",
       "      <td>-0.129108</td>\n",
       "      <td>5</td>\n",
       "      <td>1.0</td>\n",
       "      <td>4</td>\n",
       "      <td>0.999848</td>\n",
       "    </tr>\n",
       "    <tr>\n",
       "      <th>2018-11-19 17:45:00</th>\n",
       "      <td>0.151004</td>\n",
       "      <td>0.036521</td>\n",
       "      <td>1.177614</td>\n",
       "      <td>5</td>\n",
       "      <td>1.5</td>\n",
       "      <td>6</td>\n",
       "      <td>0.999657</td>\n",
       "    </tr>\n",
       "    <tr>\n",
       "      <th>2018-11-19 18:45:00</th>\n",
       "      <td>-1.344305</td>\n",
       "      <td>0.433821</td>\n",
       "      <td>-0.736984</td>\n",
       "      <td>5</td>\n",
       "      <td>2.0</td>\n",
       "      <td>8</td>\n",
       "      <td>0.999391</td>\n",
       "    </tr>\n",
       "    <tr>\n",
       "      <th>2018-11-19 19:45:00</th>\n",
       "      <td>0.795871</td>\n",
       "      <td>-0.419894</td>\n",
       "      <td>-0.571587</td>\n",
       "      <td>5</td>\n",
       "      <td>2.5</td>\n",
       "      <td>10</td>\n",
       "      <td>0.999048</td>\n",
       "    </tr>\n",
       "    <tr>\n",
       "      <th>2018-11-19 20:45:00</th>\n",
       "      <td>2.077796</td>\n",
       "      <td>0.873576</td>\n",
       "      <td>1.359858</td>\n",
       "      <td>5</td>\n",
       "      <td>3.0</td>\n",
       "      <td>12</td>\n",
       "      <td>0.998630</td>\n",
       "    </tr>\n",
       "    <tr>\n",
       "      <th>2018-11-19 21:45:00</th>\n",
       "      <td>0.924867</td>\n",
       "      <td>0.312134</td>\n",
       "      <td>-0.376361</td>\n",
       "      <td>5</td>\n",
       "      <td>3.5</td>\n",
       "      <td>14</td>\n",
       "      <td>0.998135</td>\n",
       "    </tr>\n",
       "    <tr>\n",
       "      <th>2018-11-19 22:45:00</th>\n",
       "      <td>0.148717</td>\n",
       "      <td>-1.146749</td>\n",
       "      <td>0.630580</td>\n",
       "      <td>5</td>\n",
       "      <td>4.0</td>\n",
       "      <td>16</td>\n",
       "      <td>0.997564</td>\n",
       "    </tr>\n",
       "    <tr>\n",
       "      <th>2018-11-19 23:45:00</th>\n",
       "      <td>0.412956</td>\n",
       "      <td>-0.416899</td>\n",
       "      <td>1.048633</td>\n",
       "      <td>5</td>\n",
       "      <td>4.5</td>\n",
       "      <td>18</td>\n",
       "      <td>0.996917</td>\n",
       "    </tr>\n",
       "  </tbody>\n",
       "</table>\n",
       "</div>"
      ],
      "text/plain": [
       "                            A         B         C  D    E  E prime    cosine\n",
       "2018-11-19 14:45:00  0.000000 -0.491807  2.202829  5  0.0        0  1.000000\n",
       "2018-11-19 15:45:00 -2.007701 -2.406459  0.725650  5  0.5        2  0.999962\n",
       "2018-11-19 16:45:00 -0.662375 -0.553592 -0.129108  5  1.0        4  0.999848\n",
       "2018-11-19 17:45:00  0.151004  0.036521  1.177614  5  1.5        6  0.999657\n",
       "2018-11-19 18:45:00 -1.344305  0.433821 -0.736984  5  2.0        8  0.999391\n",
       "2018-11-19 19:45:00  0.795871 -0.419894 -0.571587  5  2.5       10  0.999048\n",
       "2018-11-19 20:45:00  2.077796  0.873576  1.359858  5  3.0       12  0.998630\n",
       "2018-11-19 21:45:00  0.924867  0.312134 -0.376361  5  3.5       14  0.998135\n",
       "2018-11-19 22:45:00  0.148717 -1.146749  0.630580  5  4.0       16  0.997564\n",
       "2018-11-19 23:45:00  0.412956 -0.416899  1.048633  5  4.5       18  0.996917"
      ]
     },
     "execution_count": 48,
     "metadata": {},
     "output_type": "execute_result"
    }
   ],
   "source": [
    "def dcos(theta):\n",
    "    theta = theta*(np.pi/180)\n",
    "    return np.cos(theta)\n",
    " \n",
    "df['cosine'] = pd.Series(df[\"E\"].apply(dcos), index=df.index)\n",
    "df"
   ]
  },
  {
   "cell_type": "code",
   "execution_count": 49,
   "metadata": {},
   "outputs": [
    {
     "data": {
      "text/html": [
       "<div>\n",
       "<style scoped>\n",
       "    .dataframe tbody tr th:only-of-type {\n",
       "        vertical-align: middle;\n",
       "    }\n",
       "\n",
       "    .dataframe tbody tr th {\n",
       "        vertical-align: top;\n",
       "    }\n",
       "\n",
       "    .dataframe thead th {\n",
       "        text-align: right;\n",
       "    }\n",
       "</style>\n",
       "<table border=\"1\" class=\"dataframe\">\n",
       "  <thead>\n",
       "    <tr style=\"text-align: right;\">\n",
       "      <th></th>\n",
       "      <th>A</th>\n",
       "      <th>B</th>\n",
       "      <th>C</th>\n",
       "      <th>D</th>\n",
       "      <th>E</th>\n",
       "      <th>E prime</th>\n",
       "      <th>cosine</th>\n",
       "    </tr>\n",
       "  </thead>\n",
       "  <tbody>\n",
       "    <tr>\n",
       "      <th>2018-11-19 14:45:00</th>\n",
       "      <td>0.000000</td>\n",
       "      <td>-0.491807</td>\n",
       "      <td>-2.202829</td>\n",
       "      <td>-5</td>\n",
       "      <td>0.0</td>\n",
       "      <td>0</td>\n",
       "      <td>-1.000000</td>\n",
       "    </tr>\n",
       "    <tr>\n",
       "      <th>2018-11-19 15:45:00</th>\n",
       "      <td>-2.007701</td>\n",
       "      <td>-2.406459</td>\n",
       "      <td>-0.725650</td>\n",
       "      <td>-5</td>\n",
       "      <td>-0.5</td>\n",
       "      <td>-2</td>\n",
       "      <td>-0.999962</td>\n",
       "    </tr>\n",
       "    <tr>\n",
       "      <th>2018-11-19 16:45:00</th>\n",
       "      <td>-0.662375</td>\n",
       "      <td>-0.553592</td>\n",
       "      <td>-0.129108</td>\n",
       "      <td>-5</td>\n",
       "      <td>-1.0</td>\n",
       "      <td>-4</td>\n",
       "      <td>-0.999848</td>\n",
       "    </tr>\n",
       "    <tr>\n",
       "      <th>2018-11-19 17:45:00</th>\n",
       "      <td>-0.151004</td>\n",
       "      <td>-0.036521</td>\n",
       "      <td>-1.177614</td>\n",
       "      <td>-5</td>\n",
       "      <td>-1.5</td>\n",
       "      <td>-6</td>\n",
       "      <td>-0.999657</td>\n",
       "    </tr>\n",
       "    <tr>\n",
       "      <th>2018-11-19 18:45:00</th>\n",
       "      <td>-1.344305</td>\n",
       "      <td>-0.433821</td>\n",
       "      <td>-0.736984</td>\n",
       "      <td>-5</td>\n",
       "      <td>-2.0</td>\n",
       "      <td>-8</td>\n",
       "      <td>-0.999391</td>\n",
       "    </tr>\n",
       "    <tr>\n",
       "      <th>2018-11-19 19:45:00</th>\n",
       "      <td>-0.795871</td>\n",
       "      <td>-0.419894</td>\n",
       "      <td>-0.571587</td>\n",
       "      <td>-5</td>\n",
       "      <td>-2.5</td>\n",
       "      <td>-10</td>\n",
       "      <td>-0.999048</td>\n",
       "    </tr>\n",
       "    <tr>\n",
       "      <th>2018-11-19 20:45:00</th>\n",
       "      <td>-2.077796</td>\n",
       "      <td>-0.873576</td>\n",
       "      <td>-1.359858</td>\n",
       "      <td>-5</td>\n",
       "      <td>-3.0</td>\n",
       "      <td>-12</td>\n",
       "      <td>-0.998630</td>\n",
       "    </tr>\n",
       "    <tr>\n",
       "      <th>2018-11-19 21:45:00</th>\n",
       "      <td>-0.924867</td>\n",
       "      <td>-0.312134</td>\n",
       "      <td>-0.376361</td>\n",
       "      <td>-5</td>\n",
       "      <td>-3.5</td>\n",
       "      <td>-14</td>\n",
       "      <td>-0.998135</td>\n",
       "    </tr>\n",
       "    <tr>\n",
       "      <th>2018-11-19 22:45:00</th>\n",
       "      <td>-0.148717</td>\n",
       "      <td>-1.146749</td>\n",
       "      <td>-0.630580</td>\n",
       "      <td>-5</td>\n",
       "      <td>-4.0</td>\n",
       "      <td>-16</td>\n",
       "      <td>-0.997564</td>\n",
       "    </tr>\n",
       "    <tr>\n",
       "      <th>2018-11-19 23:45:00</th>\n",
       "      <td>-0.412956</td>\n",
       "      <td>-0.416899</td>\n",
       "      <td>-1.048633</td>\n",
       "      <td>-5</td>\n",
       "      <td>-4.5</td>\n",
       "      <td>-18</td>\n",
       "      <td>-0.996917</td>\n",
       "    </tr>\n",
       "  </tbody>\n",
       "</table>\n",
       "</div>"
      ],
      "text/plain": [
       "                            A         B         C  D    E  E prime    cosine\n",
       "2018-11-19 14:45:00  0.000000 -0.491807 -2.202829 -5  0.0        0 -1.000000\n",
       "2018-11-19 15:45:00 -2.007701 -2.406459 -0.725650 -5 -0.5       -2 -0.999962\n",
       "2018-11-19 16:45:00 -0.662375 -0.553592 -0.129108 -5 -1.0       -4 -0.999848\n",
       "2018-11-19 17:45:00 -0.151004 -0.036521 -1.177614 -5 -1.5       -6 -0.999657\n",
       "2018-11-19 18:45:00 -1.344305 -0.433821 -0.736984 -5 -2.0       -8 -0.999391\n",
       "2018-11-19 19:45:00 -0.795871 -0.419894 -0.571587 -5 -2.5      -10 -0.999048\n",
       "2018-11-19 20:45:00 -2.077796 -0.873576 -1.359858 -5 -3.0      -12 -0.998630\n",
       "2018-11-19 21:45:00 -0.924867 -0.312134 -0.376361 -5 -3.5      -14 -0.998135\n",
       "2018-11-19 22:45:00 -0.148717 -1.146749 -0.630580 -5 -4.0      -16 -0.997564\n",
       "2018-11-19 23:45:00 -0.412956 -0.416899 -1.048633 -5 -4.5      -18 -0.996917"
      ]
     },
     "execution_count": 49,
     "metadata": {},
     "output_type": "execute_result"
    }
   ],
   "source": [
    "# another example of global setting\n",
    "df2=df.copy()\n",
    "df2[df2>0] = -df2\n",
    "df2"
   ]
  },
  {
   "cell_type": "markdown",
   "metadata": {},
   "source": [
    "### Dropping\n",
    "\n",
    "N.B.: dropping doesn't act permanently on the DataFrame, i.e. to get that do :\n",
    "```python\n",
    "df = df.drop(....)\n",
    "```"
   ]
  },
  {
   "cell_type": "code",
   "execution_count": 50,
   "metadata": {},
   "outputs": [
    {
     "data": {
      "text/html": [
       "<div>\n",
       "<style scoped>\n",
       "    .dataframe tbody tr th:only-of-type {\n",
       "        vertical-align: middle;\n",
       "    }\n",
       "\n",
       "    .dataframe tbody tr th {\n",
       "        vertical-align: top;\n",
       "    }\n",
       "\n",
       "    .dataframe thead th {\n",
       "        text-align: right;\n",
       "    }\n",
       "</style>\n",
       "<table border=\"1\" class=\"dataframe\">\n",
       "  <thead>\n",
       "    <tr style=\"text-align: right;\">\n",
       "      <th></th>\n",
       "      <th>A</th>\n",
       "      <th>B</th>\n",
       "      <th>C</th>\n",
       "      <th>D</th>\n",
       "      <th>E</th>\n",
       "      <th>cosine</th>\n",
       "    </tr>\n",
       "  </thead>\n",
       "  <tbody>\n",
       "    <tr>\n",
       "      <th>2018-11-19 14:45:00</th>\n",
       "      <td>0.000000</td>\n",
       "      <td>-0.491807</td>\n",
       "      <td>2.202829</td>\n",
       "      <td>5</td>\n",
       "      <td>0.0</td>\n",
       "      <td>1.000000</td>\n",
       "    </tr>\n",
       "    <tr>\n",
       "      <th>2018-11-19 15:45:00</th>\n",
       "      <td>-2.007701</td>\n",
       "      <td>-2.406459</td>\n",
       "      <td>0.725650</td>\n",
       "      <td>5</td>\n",
       "      <td>0.5</td>\n",
       "      <td>0.999962</td>\n",
       "    </tr>\n",
       "    <tr>\n",
       "      <th>2018-11-19 16:45:00</th>\n",
       "      <td>-0.662375</td>\n",
       "      <td>-0.553592</td>\n",
       "      <td>-0.129108</td>\n",
       "      <td>5</td>\n",
       "      <td>1.0</td>\n",
       "      <td>0.999848</td>\n",
       "    </tr>\n",
       "    <tr>\n",
       "      <th>2018-11-19 17:45:00</th>\n",
       "      <td>0.151004</td>\n",
       "      <td>0.036521</td>\n",
       "      <td>1.177614</td>\n",
       "      <td>5</td>\n",
       "      <td>1.5</td>\n",
       "      <td>0.999657</td>\n",
       "    </tr>\n",
       "    <tr>\n",
       "      <th>2018-11-19 18:45:00</th>\n",
       "      <td>-1.344305</td>\n",
       "      <td>0.433821</td>\n",
       "      <td>-0.736984</td>\n",
       "      <td>5</td>\n",
       "      <td>2.0</td>\n",
       "      <td>0.999391</td>\n",
       "    </tr>\n",
       "    <tr>\n",
       "      <th>2018-11-19 19:45:00</th>\n",
       "      <td>0.795871</td>\n",
       "      <td>-0.419894</td>\n",
       "      <td>-0.571587</td>\n",
       "      <td>5</td>\n",
       "      <td>2.5</td>\n",
       "      <td>0.999048</td>\n",
       "    </tr>\n",
       "    <tr>\n",
       "      <th>2018-11-19 20:45:00</th>\n",
       "      <td>2.077796</td>\n",
       "      <td>0.873576</td>\n",
       "      <td>1.359858</td>\n",
       "      <td>5</td>\n",
       "      <td>3.0</td>\n",
       "      <td>0.998630</td>\n",
       "    </tr>\n",
       "    <tr>\n",
       "      <th>2018-11-19 21:45:00</th>\n",
       "      <td>0.924867</td>\n",
       "      <td>0.312134</td>\n",
       "      <td>-0.376361</td>\n",
       "      <td>5</td>\n",
       "      <td>3.5</td>\n",
       "      <td>0.998135</td>\n",
       "    </tr>\n",
       "    <tr>\n",
       "      <th>2018-11-19 22:45:00</th>\n",
       "      <td>0.148717</td>\n",
       "      <td>-1.146749</td>\n",
       "      <td>0.630580</td>\n",
       "      <td>5</td>\n",
       "      <td>4.0</td>\n",
       "      <td>0.997564</td>\n",
       "    </tr>\n",
       "    <tr>\n",
       "      <th>2018-11-19 23:45:00</th>\n",
       "      <td>0.412956</td>\n",
       "      <td>-0.416899</td>\n",
       "      <td>1.048633</td>\n",
       "      <td>5</td>\n",
       "      <td>4.5</td>\n",
       "      <td>0.996917</td>\n",
       "    </tr>\n",
       "  </tbody>\n",
       "</table>\n",
       "</div>"
      ],
      "text/plain": [
       "                            A         B         C  D    E    cosine\n",
       "2018-11-19 14:45:00  0.000000 -0.491807  2.202829  5  0.0  1.000000\n",
       "2018-11-19 15:45:00 -2.007701 -2.406459  0.725650  5  0.5  0.999962\n",
       "2018-11-19 16:45:00 -0.662375 -0.553592 -0.129108  5  1.0  0.999848\n",
       "2018-11-19 17:45:00  0.151004  0.036521  1.177614  5  1.5  0.999657\n",
       "2018-11-19 18:45:00 -1.344305  0.433821 -0.736984  5  2.0  0.999391\n",
       "2018-11-19 19:45:00  0.795871 -0.419894 -0.571587  5  2.5  0.999048\n",
       "2018-11-19 20:45:00  2.077796  0.873576  1.359858  5  3.0  0.998630\n",
       "2018-11-19 21:45:00  0.924867  0.312134 -0.376361  5  3.5  0.998135\n",
       "2018-11-19 22:45:00  0.148717 -1.146749  0.630580  5  4.0  0.997564\n",
       "2018-11-19 23:45:00  0.412956 -0.416899  1.048633  5  4.5  0.996917"
      ]
     },
     "execution_count": 50,
     "metadata": {},
     "output_type": "execute_result"
    }
   ],
   "source": [
    "# Dropping by column\n",
    "#df.drop(['E prime'], axis=1)\n",
    "\n",
    "#which is equivalent to\n",
    "df.drop(columns=['E prime'])"
   ]
  },
  {
   "cell_type": "code",
   "execution_count": 51,
   "metadata": {},
   "outputs": [
    {
     "data": {
      "text/html": [
       "<div>\n",
       "<style scoped>\n",
       "    .dataframe tbody tr th:only-of-type {\n",
       "        vertical-align: middle;\n",
       "    }\n",
       "\n",
       "    .dataframe tbody tr th {\n",
       "        vertical-align: top;\n",
       "    }\n",
       "\n",
       "    .dataframe thead th {\n",
       "        text-align: right;\n",
       "    }\n",
       "</style>\n",
       "<table border=\"1\" class=\"dataframe\">\n",
       "  <thead>\n",
       "    <tr style=\"text-align: right;\">\n",
       "      <th></th>\n",
       "      <th>A</th>\n",
       "      <th>B</th>\n",
       "      <th>C</th>\n",
       "      <th>D</th>\n",
       "      <th>E</th>\n",
       "      <th>E prime</th>\n",
       "      <th>cosine</th>\n",
       "    </tr>\n",
       "  </thead>\n",
       "  <tbody>\n",
       "    <tr>\n",
       "      <th>2018-11-19 14:45:00</th>\n",
       "      <td>0.000000</td>\n",
       "      <td>-0.491807</td>\n",
       "      <td>2.202829</td>\n",
       "      <td>5</td>\n",
       "      <td>0.0</td>\n",
       "      <td>0</td>\n",
       "      <td>1.000000</td>\n",
       "    </tr>\n",
       "    <tr>\n",
       "      <th>2018-11-19 19:45:00</th>\n",
       "      <td>0.795871</td>\n",
       "      <td>-0.419894</td>\n",
       "      <td>-0.571587</td>\n",
       "      <td>5</td>\n",
       "      <td>2.5</td>\n",
       "      <td>10</td>\n",
       "      <td>0.999048</td>\n",
       "    </tr>\n",
       "    <tr>\n",
       "      <th>2018-11-19 20:45:00</th>\n",
       "      <td>2.077796</td>\n",
       "      <td>0.873576</td>\n",
       "      <td>1.359858</td>\n",
       "      <td>5</td>\n",
       "      <td>3.0</td>\n",
       "      <td>12</td>\n",
       "      <td>0.998630</td>\n",
       "    </tr>\n",
       "    <tr>\n",
       "      <th>2018-11-19 21:45:00</th>\n",
       "      <td>0.924867</td>\n",
       "      <td>0.312134</td>\n",
       "      <td>-0.376361</td>\n",
       "      <td>5</td>\n",
       "      <td>3.5</td>\n",
       "      <td>14</td>\n",
       "      <td>0.998135</td>\n",
       "    </tr>\n",
       "    <tr>\n",
       "      <th>2018-11-19 22:45:00</th>\n",
       "      <td>0.148717</td>\n",
       "      <td>-1.146749</td>\n",
       "      <td>0.630580</td>\n",
       "      <td>5</td>\n",
       "      <td>4.0</td>\n",
       "      <td>16</td>\n",
       "      <td>0.997564</td>\n",
       "    </tr>\n",
       "    <tr>\n",
       "      <th>2018-11-19 23:45:00</th>\n",
       "      <td>0.412956</td>\n",
       "      <td>-0.416899</td>\n",
       "      <td>1.048633</td>\n",
       "      <td>5</td>\n",
       "      <td>4.5</td>\n",
       "      <td>18</td>\n",
       "      <td>0.996917</td>\n",
       "    </tr>\n",
       "  </tbody>\n",
       "</table>\n",
       "</div>"
      ],
      "text/plain": [
       "                            A         B         C  D    E  E prime    cosine\n",
       "2018-11-19 14:45:00  0.000000 -0.491807  2.202829  5  0.0        0  1.000000\n",
       "2018-11-19 19:45:00  0.795871 -0.419894 -0.571587  5  2.5       10  0.999048\n",
       "2018-11-19 20:45:00  2.077796  0.873576  1.359858  5  3.0       12  0.998630\n",
       "2018-11-19 21:45:00  0.924867  0.312134 -0.376361  5  3.5       14  0.998135\n",
       "2018-11-19 22:45:00  0.148717 -1.146749  0.630580  5  4.0       16  0.997564\n",
       "2018-11-19 23:45:00  0.412956 -0.416899  1.048633  5  4.5       18  0.996917"
      ]
     },
     "execution_count": 51,
     "metadata": {},
     "output_type": "execute_result"
    }
   ],
   "source": [
    "# Dropping by raws\n",
    "# save and always working\n",
    "df.drop(df.index[[1,2,3,4]])"
   ]
  },
  {
   "cell_type": "code",
   "execution_count": 52,
   "metadata": {},
   "outputs": [
    {
     "data": {
      "text/html": [
       "<div>\n",
       "<style scoped>\n",
       "    .dataframe tbody tr th:only-of-type {\n",
       "        vertical-align: middle;\n",
       "    }\n",
       "\n",
       "    .dataframe tbody tr th {\n",
       "        vertical-align: top;\n",
       "    }\n",
       "\n",
       "    .dataframe thead th {\n",
       "        text-align: right;\n",
       "    }\n",
       "</style>\n",
       "<table border=\"1\" class=\"dataframe\">\n",
       "  <thead>\n",
       "    <tr style=\"text-align: right;\">\n",
       "      <th></th>\n",
       "      <th>A</th>\n",
       "      <th>B</th>\n",
       "      <th>C</th>\n",
       "      <th>D</th>\n",
       "      <th>E</th>\n",
       "      <th>E prime</th>\n",
       "      <th>cosine</th>\n",
       "    </tr>\n",
       "  </thead>\n",
       "  <tbody>\n",
       "    <tr>\n",
       "      <th>2018-11-19 14:45:00</th>\n",
       "      <td>0.000000</td>\n",
       "      <td>-0.491807</td>\n",
       "      <td>2.202829</td>\n",
       "      <td>5</td>\n",
       "      <td>0.0</td>\n",
       "      <td>0</td>\n",
       "      <td>1.000000</td>\n",
       "    </tr>\n",
       "    <tr>\n",
       "      <th>2018-11-19 15:45:00</th>\n",
       "      <td>-2.007701</td>\n",
       "      <td>-2.406459</td>\n",
       "      <td>0.725650</td>\n",
       "      <td>5</td>\n",
       "      <td>0.5</td>\n",
       "      <td>2</td>\n",
       "      <td>0.999962</td>\n",
       "    </tr>\n",
       "    <tr>\n",
       "      <th>2018-11-19 16:45:00</th>\n",
       "      <td>-0.662375</td>\n",
       "      <td>-0.553592</td>\n",
       "      <td>-0.129108</td>\n",
       "      <td>5</td>\n",
       "      <td>1.0</td>\n",
       "      <td>4</td>\n",
       "      <td>0.999848</td>\n",
       "    </tr>\n",
       "    <tr>\n",
       "      <th>2018-11-19 17:45:00</th>\n",
       "      <td>0.151004</td>\n",
       "      <td>0.036521</td>\n",
       "      <td>1.177614</td>\n",
       "      <td>5</td>\n",
       "      <td>1.5</td>\n",
       "      <td>6</td>\n",
       "      <td>0.999657</td>\n",
       "    </tr>\n",
       "    <tr>\n",
       "      <th>2018-11-19 18:45:00</th>\n",
       "      <td>-1.344305</td>\n",
       "      <td>0.433821</td>\n",
       "      <td>-0.736984</td>\n",
       "      <td>5</td>\n",
       "      <td>2.0</td>\n",
       "      <td>8</td>\n",
       "      <td>0.999391</td>\n",
       "    </tr>\n",
       "    <tr>\n",
       "      <th>2018-11-19 19:45:00</th>\n",
       "      <td>0.795871</td>\n",
       "      <td>-0.419894</td>\n",
       "      <td>-0.571587</td>\n",
       "      <td>5</td>\n",
       "      <td>2.5</td>\n",
       "      <td>10</td>\n",
       "      <td>0.999048</td>\n",
       "    </tr>\n",
       "    <tr>\n",
       "      <th>2018-11-19 20:45:00</th>\n",
       "      <td>2.077796</td>\n",
       "      <td>0.873576</td>\n",
       "      <td>1.359858</td>\n",
       "      <td>5</td>\n",
       "      <td>3.0</td>\n",
       "      <td>12</td>\n",
       "      <td>0.998630</td>\n",
       "    </tr>\n",
       "    <tr>\n",
       "      <th>2018-11-19 21:45:00</th>\n",
       "      <td>0.924867</td>\n",
       "      <td>0.312134</td>\n",
       "      <td>-0.376361</td>\n",
       "      <td>5</td>\n",
       "      <td>3.5</td>\n",
       "      <td>14</td>\n",
       "      <td>0.998135</td>\n",
       "    </tr>\n",
       "    <tr>\n",
       "      <th>2018-11-19 22:45:00</th>\n",
       "      <td>0.148717</td>\n",
       "      <td>-1.146749</td>\n",
       "      <td>0.630580</td>\n",
       "      <td>5</td>\n",
       "      <td>4.0</td>\n",
       "      <td>16</td>\n",
       "      <td>0.997564</td>\n",
       "    </tr>\n",
       "    <tr>\n",
       "      <th>2018-11-19 23:45:00</th>\n",
       "      <td>0.412956</td>\n",
       "      <td>-0.416899</td>\n",
       "      <td>1.048633</td>\n",
       "      <td>5</td>\n",
       "      <td>4.5</td>\n",
       "      <td>18</td>\n",
       "      <td>0.996917</td>\n",
       "    </tr>\n",
       "  </tbody>\n",
       "</table>\n",
       "</div>"
      ],
      "text/plain": [
       "                            A         B         C  D    E  E prime    cosine\n",
       "2018-11-19 14:45:00  0.000000 -0.491807  2.202829  5  0.0        0  1.000000\n",
       "2018-11-19 15:45:00 -2.007701 -2.406459  0.725650  5  0.5        2  0.999962\n",
       "2018-11-19 16:45:00 -0.662375 -0.553592 -0.129108  5  1.0        4  0.999848\n",
       "2018-11-19 17:45:00  0.151004  0.036521  1.177614  5  1.5        6  0.999657\n",
       "2018-11-19 18:45:00 -1.344305  0.433821 -0.736984  5  2.0        8  0.999391\n",
       "2018-11-19 19:45:00  0.795871 -0.419894 -0.571587  5  2.5       10  0.999048\n",
       "2018-11-19 20:45:00  2.077796  0.873576  1.359858  5  3.0       12  0.998630\n",
       "2018-11-19 21:45:00  0.924867  0.312134 -0.376361  5  3.5       14  0.998135\n",
       "2018-11-19 22:45:00  0.148717 -1.146749  0.630580  5  4.0       16  0.997564\n",
       "2018-11-19 23:45:00  0.412956 -0.416899  1.048633  5  4.5       18  0.996917"
      ]
     },
     "execution_count": 52,
     "metadata": {},
     "output_type": "execute_result"
    }
   ],
   "source": [
    "# something like df.drop('index_name') \n",
    "# would work but the type of index must be specificed, \n",
    "# in particular with DatetimeIndex\n",
    "df.drop(pd.to_datetime(\"2018-11-19 22:45:00\"))\n",
    "df #drop non modifica"
   ]
  },
  {
   "cell_type": "markdown",
   "metadata": {},
   "source": [
    "## Missing data\n",
    "\n",
    "pandas primarily uses the value np.nan to represent missing data. It is by default not included in computations."
   ]
  },
  {
   "cell_type": "code",
   "execution_count": 62,
   "metadata": {},
   "outputs": [
    {
     "data": {
      "text/html": [
       "<div>\n",
       "<style scoped>\n",
       "    .dataframe tbody tr th:only-of-type {\n",
       "        vertical-align: middle;\n",
       "    }\n",
       "\n",
       "    .dataframe tbody tr th {\n",
       "        vertical-align: top;\n",
       "    }\n",
       "\n",
       "    .dataframe thead th {\n",
       "        text-align: right;\n",
       "    }\n",
       "</style>\n",
       "<table border=\"1\" class=\"dataframe\">\n",
       "  <thead>\n",
       "    <tr style=\"text-align: right;\">\n",
       "      <th></th>\n",
       "      <th>D</th>\n",
       "      <th>E</th>\n",
       "      <th>E prime</th>\n",
       "      <th>cosine</th>\n",
       "    </tr>\n",
       "  </thead>\n",
       "  <tbody>\n",
       "    <tr>\n",
       "      <th>2018-11-19 14:45:00</th>\n",
       "      <td>5</td>\n",
       "      <td>NaN</td>\n",
       "      <td>NaN</td>\n",
       "      <td>1.000000</td>\n",
       "    </tr>\n",
       "    <tr>\n",
       "      <th>2018-11-19 15:45:00</th>\n",
       "      <td>5</td>\n",
       "      <td>0.5</td>\n",
       "      <td>2.0</td>\n",
       "      <td>0.999962</td>\n",
       "    </tr>\n",
       "    <tr>\n",
       "      <th>2018-11-19 16:45:00</th>\n",
       "      <td>5</td>\n",
       "      <td>1.0</td>\n",
       "      <td>4.0</td>\n",
       "      <td>0.999848</td>\n",
       "    </tr>\n",
       "    <tr>\n",
       "      <th>2018-11-19 17:45:00</th>\n",
       "      <td>5</td>\n",
       "      <td>1.5</td>\n",
       "      <td>6.0</td>\n",
       "      <td>0.999657</td>\n",
       "    </tr>\n",
       "    <tr>\n",
       "      <th>2018-11-19 18:45:00</th>\n",
       "      <td>5</td>\n",
       "      <td>2.0</td>\n",
       "      <td>8.0</td>\n",
       "      <td>0.999391</td>\n",
       "    </tr>\n",
       "    <tr>\n",
       "      <th>2018-11-19 19:45:00</th>\n",
       "      <td>5</td>\n",
       "      <td>2.5</td>\n",
       "      <td>10.0</td>\n",
       "      <td>0.999048</td>\n",
       "    </tr>\n",
       "    <tr>\n",
       "      <th>2018-11-19 20:45:00</th>\n",
       "      <td>5</td>\n",
       "      <td>3.0</td>\n",
       "      <td>12.0</td>\n",
       "      <td>0.998630</td>\n",
       "    </tr>\n",
       "    <tr>\n",
       "      <th>2018-11-19 21:45:00</th>\n",
       "      <td>5</td>\n",
       "      <td>3.5</td>\n",
       "      <td>14.0</td>\n",
       "      <td>0.998135</td>\n",
       "    </tr>\n",
       "    <tr>\n",
       "      <th>2018-11-19 22:45:00</th>\n",
       "      <td>5</td>\n",
       "      <td>4.0</td>\n",
       "      <td>16.0</td>\n",
       "      <td>0.997564</td>\n",
       "    </tr>\n",
       "    <tr>\n",
       "      <th>2018-11-19 23:45:00</th>\n",
       "      <td>5</td>\n",
       "      <td>4.5</td>\n",
       "      <td>18.0</td>\n",
       "      <td>0.996917</td>\n",
       "    </tr>\n",
       "  </tbody>\n",
       "</table>\n",
       "</div>"
      ],
      "text/plain": [
       "                     D    E  E prime    cosine\n",
       "2018-11-19 14:45:00  5  NaN      NaN  1.000000\n",
       "2018-11-19 15:45:00  5  0.5      2.0  0.999962\n",
       "2018-11-19 16:45:00  5  1.0      4.0  0.999848\n",
       "2018-11-19 17:45:00  5  1.5      6.0  0.999657\n",
       "2018-11-19 18:45:00  5  2.0      8.0  0.999391\n",
       "2018-11-19 19:45:00  5  2.5     10.0  0.999048\n",
       "2018-11-19 20:45:00  5  3.0     12.0  0.998630\n",
       "2018-11-19 21:45:00  5  3.5     14.0  0.998135\n",
       "2018-11-19 22:45:00  5  4.0     16.0  0.997564\n",
       "2018-11-19 23:45:00  5  4.5     18.0  0.996917"
      ]
     },
     "execution_count": 62,
     "metadata": {},
     "output_type": "execute_result"
    }
   ],
   "source": [
    "df_wNan = df[df>0].drop(['A', 'B', 'C'], axis=1)\n",
    "df_wNan"
   ]
  },
  {
   "cell_type": "code",
   "execution_count": 63,
   "metadata": {},
   "outputs": [
    {
     "data": {
      "text/html": [
       "<div>\n",
       "<style scoped>\n",
       "    .dataframe tbody tr th:only-of-type {\n",
       "        vertical-align: middle;\n",
       "    }\n",
       "\n",
       "    .dataframe tbody tr th {\n",
       "        vertical-align: top;\n",
       "    }\n",
       "\n",
       "    .dataframe thead th {\n",
       "        text-align: right;\n",
       "    }\n",
       "</style>\n",
       "<table border=\"1\" class=\"dataframe\">\n",
       "  <thead>\n",
       "    <tr style=\"text-align: right;\">\n",
       "      <th></th>\n",
       "      <th>D</th>\n",
       "      <th>E</th>\n",
       "      <th>E prime</th>\n",
       "      <th>cosine</th>\n",
       "    </tr>\n",
       "  </thead>\n",
       "  <tbody>\n",
       "    <tr>\n",
       "      <th>2018-11-19 15:45:00</th>\n",
       "      <td>5</td>\n",
       "      <td>0.5</td>\n",
       "      <td>2.0</td>\n",
       "      <td>0.999962</td>\n",
       "    </tr>\n",
       "    <tr>\n",
       "      <th>2018-11-19 16:45:00</th>\n",
       "      <td>5</td>\n",
       "      <td>1.0</td>\n",
       "      <td>4.0</td>\n",
       "      <td>0.999848</td>\n",
       "    </tr>\n",
       "    <tr>\n",
       "      <th>2018-11-19 17:45:00</th>\n",
       "      <td>5</td>\n",
       "      <td>1.5</td>\n",
       "      <td>6.0</td>\n",
       "      <td>0.999657</td>\n",
       "    </tr>\n",
       "    <tr>\n",
       "      <th>2018-11-19 18:45:00</th>\n",
       "      <td>5</td>\n",
       "      <td>2.0</td>\n",
       "      <td>8.0</td>\n",
       "      <td>0.999391</td>\n",
       "    </tr>\n",
       "    <tr>\n",
       "      <th>2018-11-19 19:45:00</th>\n",
       "      <td>5</td>\n",
       "      <td>2.5</td>\n",
       "      <td>10.0</td>\n",
       "      <td>0.999048</td>\n",
       "    </tr>\n",
       "    <tr>\n",
       "      <th>2018-11-19 20:45:00</th>\n",
       "      <td>5</td>\n",
       "      <td>3.0</td>\n",
       "      <td>12.0</td>\n",
       "      <td>0.998630</td>\n",
       "    </tr>\n",
       "    <tr>\n",
       "      <th>2018-11-19 21:45:00</th>\n",
       "      <td>5</td>\n",
       "      <td>3.5</td>\n",
       "      <td>14.0</td>\n",
       "      <td>0.998135</td>\n",
       "    </tr>\n",
       "    <tr>\n",
       "      <th>2018-11-19 22:45:00</th>\n",
       "      <td>5</td>\n",
       "      <td>4.0</td>\n",
       "      <td>16.0</td>\n",
       "      <td>0.997564</td>\n",
       "    </tr>\n",
       "    <tr>\n",
       "      <th>2018-11-19 23:45:00</th>\n",
       "      <td>5</td>\n",
       "      <td>4.5</td>\n",
       "      <td>18.0</td>\n",
       "      <td>0.996917</td>\n",
       "    </tr>\n",
       "  </tbody>\n",
       "</table>\n",
       "</div>"
      ],
      "text/plain": [
       "                     D    E  E prime    cosine\n",
       "2018-11-19 15:45:00  5  0.5      2.0  0.999962\n",
       "2018-11-19 16:45:00  5  1.0      4.0  0.999848\n",
       "2018-11-19 17:45:00  5  1.5      6.0  0.999657\n",
       "2018-11-19 18:45:00  5  2.0      8.0  0.999391\n",
       "2018-11-19 19:45:00  5  2.5     10.0  0.999048\n",
       "2018-11-19 20:45:00  5  3.0     12.0  0.998630\n",
       "2018-11-19 21:45:00  5  3.5     14.0  0.998135\n",
       "2018-11-19 22:45:00  5  4.0     16.0  0.997564\n",
       "2018-11-19 23:45:00  5  4.5     18.0  0.996917"
      ]
     },
     "execution_count": 63,
     "metadata": {},
     "output_type": "execute_result"
    }
   ],
   "source": [
    "# dropping raws with at least a Nan\n",
    "\n",
    "df_wNan.dropna(how='any')"
>>>>>>> origin/saraBordin
   ]
  },
  {
   "cell_type": "code",
<<<<<<< HEAD
   "execution_count": 27,
=======
   "execution_count": 57,
>>>>>>> origin/saraBordin
   "metadata": {},
   "outputs": [
    {
     "data": {
      "text/html": [
       "<div>\n",
       "<style scoped>\n",
       "    .dataframe tbody tr th:only-of-type {\n",
       "        vertical-align: middle;\n",
       "    }\n",
       "\n",
       "    .dataframe tbody tr th {\n",
       "        vertical-align: top;\n",
       "    }\n",
       "\n",
       "    .dataframe thead th {\n",
       "        text-align: right;\n",
       "    }\n",
       "</style>\n",
       "<table border=\"1\" class=\"dataframe\">\n",
       "  <thead>\n",
       "    <tr style=\"text-align: right;\">\n",
       "      <th></th>\n",
       "      <th>A</th>\n",
       "      <th>B</th>\n",
       "      <th>C</th>\n",
       "      <th>D</th>\n",
<<<<<<< HEAD
=======
       "      <th>E</th>\n",
       "      <th>E prime</th>\n",
       "      <th>cosine</th>\n",
>>>>>>> origin/saraBordin
       "    </tr>\n",
       "  </thead>\n",
       "  <tbody>\n",
       "    <tr>\n",
       "      <th>2018-11-19 14:45:00</th>\n",
<<<<<<< HEAD
       "      <td>-1.706743</td>\n",
       "      <td>0.388637</td>\n",
       "      <td>-0.617199</td>\n",
       "      <td>0.782708</td>\n",
       "    </tr>\n",
       "    <tr>\n",
       "      <th>2018-11-19 16:45:00</th>\n",
       "      <td>0.468958</td>\n",
       "      <td>0.248650</td>\n",
       "      <td>-1.339556</td>\n",
       "      <td>0.800499</td>\n",
       "    </tr>\n",
       "    <tr>\n",
       "      <th>2018-11-19 19:45:00</th>\n",
       "      <td>0.547222</td>\n",
       "      <td>0.791766</td>\n",
       "      <td>-0.927587</td>\n",
       "      <td>-0.363850</td>\n",
       "    </tr>\n",
       "    <tr>\n",
       "      <th>2018-11-19 20:45:00</th>\n",
       "      <td>0.420760</td>\n",
       "      <td>1.483110</td>\n",
       "      <td>0.148978</td>\n",
       "      <td>0.182563</td>\n",
       "    </tr>\n",
       "    <tr>\n",
       "      <th>2018-11-19 21:45:00</th>\n",
       "      <td>0.575928</td>\n",
       "      <td>1.538947</td>\n",
       "      <td>-0.443356</td>\n",
       "      <td>0.293524</td>\n",
=======
       "      <td>True</td>\n",
       "      <td>True</td>\n",
       "      <td>False</td>\n",
       "      <td>False</td>\n",
       "      <td>True</td>\n",
       "      <td>True</td>\n",
       "      <td>False</td>\n",
       "    </tr>\n",
       "    <tr>\n",
       "      <th>2018-11-19 15:45:00</th>\n",
       "      <td>True</td>\n",
       "      <td>True</td>\n",
       "      <td>False</td>\n",
       "      <td>False</td>\n",
       "      <td>False</td>\n",
       "      <td>False</td>\n",
       "      <td>False</td>\n",
       "    </tr>\n",
       "    <tr>\n",
       "      <th>2018-11-19 16:45:00</th>\n",
       "      <td>True</td>\n",
       "      <td>True</td>\n",
       "      <td>True</td>\n",
       "      <td>False</td>\n",
       "      <td>False</td>\n",
       "      <td>False</td>\n",
       "      <td>False</td>\n",
       "    </tr>\n",
       "    <tr>\n",
       "      <th>2018-11-19 17:45:00</th>\n",
       "      <td>False</td>\n",
       "      <td>False</td>\n",
       "      <td>False</td>\n",
       "      <td>False</td>\n",
       "      <td>False</td>\n",
       "      <td>False</td>\n",
       "      <td>False</td>\n",
       "    </tr>\n",
       "    <tr>\n",
       "      <th>2018-11-19 18:45:00</th>\n",
       "      <td>True</td>\n",
       "      <td>False</td>\n",
       "      <td>True</td>\n",
       "      <td>False</td>\n",
       "      <td>False</td>\n",
       "      <td>False</td>\n",
       "      <td>False</td>\n",
       "    </tr>\n",
       "    <tr>\n",
       "      <th>2018-11-19 19:45:00</th>\n",
       "      <td>False</td>\n",
       "      <td>True</td>\n",
       "      <td>True</td>\n",
       "      <td>False</td>\n",
       "      <td>False</td>\n",
       "      <td>False</td>\n",
       "      <td>False</td>\n",
       "    </tr>\n",
       "    <tr>\n",
       "      <th>2018-11-19 20:45:00</th>\n",
       "      <td>False</td>\n",
       "      <td>False</td>\n",
       "      <td>False</td>\n",
       "      <td>False</td>\n",
       "      <td>False</td>\n",
       "      <td>False</td>\n",
       "      <td>False</td>\n",
       "    </tr>\n",
       "    <tr>\n",
       "      <th>2018-11-19 21:45:00</th>\n",
       "      <td>False</td>\n",
       "      <td>False</td>\n",
       "      <td>True</td>\n",
       "      <td>False</td>\n",
       "      <td>False</td>\n",
       "      <td>False</td>\n",
       "      <td>False</td>\n",
       "    </tr>\n",
       "    <tr>\n",
       "      <th>2018-11-19 22:45:00</th>\n",
       "      <td>False</td>\n",
       "      <td>True</td>\n",
       "      <td>False</td>\n",
       "      <td>False</td>\n",
       "      <td>False</td>\n",
       "      <td>False</td>\n",
       "      <td>False</td>\n",
       "    </tr>\n",
       "    <tr>\n",
       "      <th>2018-11-19 23:45:00</th>\n",
       "      <td>False</td>\n",
       "      <td>True</td>\n",
       "      <td>False</td>\n",
       "      <td>False</td>\n",
       "      <td>False</td>\n",
       "      <td>False</td>\n",
       "      <td>False</td>\n",
>>>>>>> origin/saraBordin
       "    </tr>\n",
       "  </tbody>\n",
       "</table>\n",
       "</div>"
      ],
      "text/plain": [
<<<<<<< HEAD
       "                            A         B         C         D\n",
       "2018-11-19 14:45:00 -1.706743  0.388637 -0.617199  0.782708\n",
       "2018-11-19 16:45:00  0.468958  0.248650 -1.339556  0.800499\n",
       "2018-11-19 19:45:00  0.547222  0.791766 -0.927587 -0.363850\n",
       "2018-11-19 20:45:00  0.420760  1.483110  0.148978  0.182563\n",
       "2018-11-19 21:45:00  0.575928  1.538947 -0.443356  0.293524"
      ]
     },
     "execution_count": 27,
=======
       "                         A      B      C      D      E  E prime  cosine\n",
       "2018-11-19 14:45:00   True   True  False  False   True     True   False\n",
       "2018-11-19 15:45:00   True   True  False  False  False    False   False\n",
       "2018-11-19 16:45:00   True   True   True  False  False    False   False\n",
       "2018-11-19 17:45:00  False  False  False  False  False    False   False\n",
       "2018-11-19 18:45:00   True  False   True  False  False    False   False\n",
       "2018-11-19 19:45:00  False   True   True  False  False    False   False\n",
       "2018-11-19 20:45:00  False  False  False  False  False    False   False\n",
       "2018-11-19 21:45:00  False  False   True  False  False    False   False\n",
       "2018-11-19 22:45:00  False   True  False  False  False    False   False\n",
       "2018-11-19 23:45:00  False   True  False  False  False    False   False"
      ]
     },
     "execution_count": 57,
>>>>>>> origin/saraBordin
     "metadata": {},
     "output_type": "execute_result"
    }
   ],
   "source": [
<<<<<<< HEAD
    "# Filter by a boolean condition on the values of a single column\n",
    "df[df['B'] > 0]\n"
   ]
  },
  {
   "cell_type": "code",
   "execution_count": null,
   "metadata": {},
   "outputs": [],
   "source": [
    "# Selecting on the basis of boolean conditions applied to the whole DataFrame\n",
    "df[df>0]\n",
    "\n",
    "# a DataFrame with the same shape is returned, with NaN's where condition is not met"
   ]
  },
  {
   "cell_type": "markdown",
   "metadata": {},
   "source": [
    "### Setting\n",
    "\n",
    "Combination of selection and setting of values"
   ]
  },
  {
   "cell_type": "code",
   "execution_count": null,
   "metadata": {},
   "outputs": [],
   "source": [
    "# setting values by label (same as by position)\n",
    "df.at[dates[0],'A'] = 0\n",
    "\n",
    "# setting and assigning a numpy array\n",
    "df.loc[:,'D'] = np.array([5] * len(df))\n",
    "\n",
    "# defining a brend new column\n",
    "df['E'] = np.arange(len(df))*0.5\n",
    "\n",
    "# defining a brend new column by means of a pd.Series: indexes must be the same!\n",
    "df['E prime'] = pd.Series(np.arange(len(df))*2, index=df.index)\n"
   ]
  },
  {
   "cell_type": "code",
   "execution_count": null,
   "metadata": {},
   "outputs": [],
   "source": [
    "def dcos(theta):\n",
    "    theta = theta*(np.pi/180)\n",
    "    return np.cos(theta)\n",
    " \n",
    "df['cosine'] = pd.Series(df[\"E\"].apply(dcos), index=df.index)\n",
    "df"
   ]
  },
  {
   "cell_type": "code",
   "execution_count": null,
   "metadata": {},
   "outputs": [],
   "source": [
    "# another example of global setting\n",
    "df2=df.copy()\n",
    "df2[df2>0] = -df2\n",
    "df2"
   ]
  },
  {
   "cell_type": "markdown",
   "metadata": {},
   "source": [
    "### Dropping\n",
    "\n",
    "N.B.: dropping doesn't act permanently on the DataFrame, i.e. to get that do :\n",
    "```python\n",
    "df = df.drop(....)\n",
    "```"
   ]
  },
  {
   "cell_type": "code",
   "execution_count": null,
   "metadata": {},
   "outputs": [],
   "source": [
    "# Dropping by column\n",
    "df.drop(['E prime'], axis=1)\n",
    "\n",
    "#which is equivalent to\n",
    "df.drop(columns=['E prime'])"
   ]
  },
  {
   "cell_type": "code",
   "execution_count": null,
   "metadata": {},
   "outputs": [],
   "source": [
    "# Dropping by raws\n",
    "# save and always working\n",
    "df.drop(df.index[[1,2,3,4]])"
   ]
  },
  {
   "cell_type": "code",
   "execution_count": null,
   "metadata": {},
   "outputs": [],
   "source": [
    "# something like df.drop('index_name') \n",
    "# would work but the type of index must be specificed, \n",
    "# in particular with DatetimeIndex\n",
    "df.drop(pd.to_datetime(\"2018-11-19 22:45:00\"))"
   ]
  },
  {
   "cell_type": "markdown",
   "metadata": {},
   "source": [
    "## Missing data\n",
    "\n",
    "pandas primarily uses the value np.nan to represent missing data. It is by default not included in computations."
   ]
  },
  {
   "cell_type": "code",
   "execution_count": null,
   "metadata": {},
   "outputs": [],
   "source": [
    "df_wNan = df[df>0]\n",
    "df_wNan"
   ]
  },
  {
   "cell_type": "code",
   "execution_count": null,
   "metadata": {},
   "outputs": [],
   "source": [
    "# dropping raws with at least a Nan\n",
    "df_wNan.dropna(how='any')"
   ]
  },
  {
   "cell_type": "code",
   "execution_count": null,
   "metadata": {},
   "outputs": [],
   "source": [
=======
>>>>>>> origin/saraBordin
    "# getting a mask\n",
    "df_wNan.isna()\n",
    "#df_wNan.notna()"
   ]
  },
  {
   "cell_type": "code",
<<<<<<< HEAD
   "execution_count": null,
   "metadata": {},
   "outputs": [],
=======
   "execution_count": 64,
   "metadata": {},
   "outputs": [
    {
     "data": {
      "text/html": [
       "<div>\n",
       "<style scoped>\n",
       "    .dataframe tbody tr th:only-of-type {\n",
       "        vertical-align: middle;\n",
       "    }\n",
       "\n",
       "    .dataframe tbody tr th {\n",
       "        vertical-align: top;\n",
       "    }\n",
       "\n",
       "    .dataframe thead th {\n",
       "        text-align: right;\n",
       "    }\n",
       "</style>\n",
       "<table border=\"1\" class=\"dataframe\">\n",
       "  <thead>\n",
       "    <tr style=\"text-align: right;\">\n",
       "      <th></th>\n",
       "      <th>D</th>\n",
       "      <th>E</th>\n",
       "      <th>E prime</th>\n",
       "      <th>cosine</th>\n",
       "    </tr>\n",
       "  </thead>\n",
       "  <tbody>\n",
       "    <tr>\n",
       "      <th>2018-11-19 14:45:00</th>\n",
       "      <td>5</td>\n",
       "      <td>0.0</td>\n",
       "      <td>0.0</td>\n",
       "      <td>1.000000</td>\n",
       "    </tr>\n",
       "    <tr>\n",
       "      <th>2018-11-19 15:45:00</th>\n",
       "      <td>5</td>\n",
       "      <td>0.5</td>\n",
       "      <td>2.0</td>\n",
       "      <td>0.999962</td>\n",
       "    </tr>\n",
       "    <tr>\n",
       "      <th>2018-11-19 16:45:00</th>\n",
       "      <td>5</td>\n",
       "      <td>1.0</td>\n",
       "      <td>4.0</td>\n",
       "      <td>0.999848</td>\n",
       "    </tr>\n",
       "    <tr>\n",
       "      <th>2018-11-19 17:45:00</th>\n",
       "      <td>5</td>\n",
       "      <td>1.5</td>\n",
       "      <td>6.0</td>\n",
       "      <td>0.999657</td>\n",
       "    </tr>\n",
       "    <tr>\n",
       "      <th>2018-11-19 18:45:00</th>\n",
       "      <td>5</td>\n",
       "      <td>2.0</td>\n",
       "      <td>8.0</td>\n",
       "      <td>0.999391</td>\n",
       "    </tr>\n",
       "    <tr>\n",
       "      <th>2018-11-19 19:45:00</th>\n",
       "      <td>5</td>\n",
       "      <td>2.5</td>\n",
       "      <td>10.0</td>\n",
       "      <td>0.999048</td>\n",
       "    </tr>\n",
       "    <tr>\n",
       "      <th>2018-11-19 20:45:00</th>\n",
       "      <td>5</td>\n",
       "      <td>3.0</td>\n",
       "      <td>12.0</td>\n",
       "      <td>0.998630</td>\n",
       "    </tr>\n",
       "    <tr>\n",
       "      <th>2018-11-19 21:45:00</th>\n",
       "      <td>5</td>\n",
       "      <td>3.5</td>\n",
       "      <td>14.0</td>\n",
       "      <td>0.998135</td>\n",
       "    </tr>\n",
       "    <tr>\n",
       "      <th>2018-11-19 22:45:00</th>\n",
       "      <td>5</td>\n",
       "      <td>4.0</td>\n",
       "      <td>16.0</td>\n",
       "      <td>0.997564</td>\n",
       "    </tr>\n",
       "    <tr>\n",
       "      <th>2018-11-19 23:45:00</th>\n",
       "      <td>5</td>\n",
       "      <td>4.5</td>\n",
       "      <td>18.0</td>\n",
       "      <td>0.996917</td>\n",
       "    </tr>\n",
       "  </tbody>\n",
       "</table>\n",
       "</div>"
      ],
      "text/plain": [
       "                     D    E  E prime    cosine\n",
       "2018-11-19 14:45:00  5  0.0      0.0  1.000000\n",
       "2018-11-19 15:45:00  5  0.5      2.0  0.999962\n",
       "2018-11-19 16:45:00  5  1.0      4.0  0.999848\n",
       "2018-11-19 17:45:00  5  1.5      6.0  0.999657\n",
       "2018-11-19 18:45:00  5  2.0      8.0  0.999391\n",
       "2018-11-19 19:45:00  5  2.5     10.0  0.999048\n",
       "2018-11-19 20:45:00  5  3.0     12.0  0.998630\n",
       "2018-11-19 21:45:00  5  3.5     14.0  0.998135\n",
       "2018-11-19 22:45:00  5  4.0     16.0  0.997564\n",
       "2018-11-19 23:45:00  5  4.5     18.0  0.996917"
      ]
     },
     "execution_count": 64,
     "metadata": {},
     "output_type": "execute_result"
    }
   ],
>>>>>>> origin/saraBordin
   "source": [
    "# filling missing data\n",
    "df_wNan.fillna(value=0)"
   ]
  },
  {
   "cell_type": "markdown",
   "metadata": {},
   "source": [
    "Fill gaps forward or backward by propagating non-NA values forward or backward:"
   ]
  },
  {
   "cell_type": "code",
<<<<<<< HEAD
   "execution_count": null,
   "metadata": {},
   "outputs": [],
=======
   "execution_count": 65,
   "metadata": {},
   "outputs": [
    {
     "data": {
      "text/html": [
       "<div>\n",
       "<style scoped>\n",
       "    .dataframe tbody tr th:only-of-type {\n",
       "        vertical-align: middle;\n",
       "    }\n",
       "\n",
       "    .dataframe tbody tr th {\n",
       "        vertical-align: top;\n",
       "    }\n",
       "\n",
       "    .dataframe thead th {\n",
       "        text-align: right;\n",
       "    }\n",
       "</style>\n",
       "<table border=\"1\" class=\"dataframe\">\n",
       "  <thead>\n",
       "    <tr style=\"text-align: right;\">\n",
       "      <th></th>\n",
       "      <th>D</th>\n",
       "      <th>E</th>\n",
       "      <th>E prime</th>\n",
       "      <th>cosine</th>\n",
       "    </tr>\n",
       "  </thead>\n",
       "  <tbody>\n",
       "    <tr>\n",
       "      <th>2018-11-19 14:45:00</th>\n",
       "      <td>5</td>\n",
       "      <td>NaN</td>\n",
       "      <td>NaN</td>\n",
       "      <td>1.000000</td>\n",
       "    </tr>\n",
       "    <tr>\n",
       "      <th>2018-11-19 15:45:00</th>\n",
       "      <td>5</td>\n",
       "      <td>0.5</td>\n",
       "      <td>2.0</td>\n",
       "      <td>0.999962</td>\n",
       "    </tr>\n",
       "    <tr>\n",
       "      <th>2018-11-19 16:45:00</th>\n",
       "      <td>5</td>\n",
       "      <td>1.0</td>\n",
       "      <td>4.0</td>\n",
       "      <td>0.999848</td>\n",
       "    </tr>\n",
       "    <tr>\n",
       "      <th>2018-11-19 17:45:00</th>\n",
       "      <td>5</td>\n",
       "      <td>1.5</td>\n",
       "      <td>6.0</td>\n",
       "      <td>0.999657</td>\n",
       "    </tr>\n",
       "    <tr>\n",
       "      <th>2018-11-19 18:45:00</th>\n",
       "      <td>5</td>\n",
       "      <td>2.0</td>\n",
       "      <td>8.0</td>\n",
       "      <td>0.999391</td>\n",
       "    </tr>\n",
       "    <tr>\n",
       "      <th>2018-11-19 19:45:00</th>\n",
       "      <td>5</td>\n",
       "      <td>2.5</td>\n",
       "      <td>10.0</td>\n",
       "      <td>0.999048</td>\n",
       "    </tr>\n",
       "    <tr>\n",
       "      <th>2018-11-19 20:45:00</th>\n",
       "      <td>5</td>\n",
       "      <td>3.0</td>\n",
       "      <td>12.0</td>\n",
       "      <td>0.998630</td>\n",
       "    </tr>\n",
       "    <tr>\n",
       "      <th>2018-11-19 21:45:00</th>\n",
       "      <td>5</td>\n",
       "      <td>3.5</td>\n",
       "      <td>14.0</td>\n",
       "      <td>0.998135</td>\n",
       "    </tr>\n",
       "    <tr>\n",
       "      <th>2018-11-19 22:45:00</th>\n",
       "      <td>5</td>\n",
       "      <td>4.0</td>\n",
       "      <td>16.0</td>\n",
       "      <td>0.997564</td>\n",
       "    </tr>\n",
       "    <tr>\n",
       "      <th>2018-11-19 23:45:00</th>\n",
       "      <td>5</td>\n",
       "      <td>4.5</td>\n",
       "      <td>18.0</td>\n",
       "      <td>0.996917</td>\n",
       "    </tr>\n",
       "  </tbody>\n",
       "</table>\n",
       "</div>"
      ],
      "text/plain": [
       "                     D    E  E prime    cosine\n",
       "2018-11-19 14:45:00  5  NaN      NaN  1.000000\n",
       "2018-11-19 15:45:00  5  0.5      2.0  0.999962\n",
       "2018-11-19 16:45:00  5  1.0      4.0  0.999848\n",
       "2018-11-19 17:45:00  5  1.5      6.0  0.999657\n",
       "2018-11-19 18:45:00  5  2.0      8.0  0.999391\n",
       "2018-11-19 19:45:00  5  2.5     10.0  0.999048\n",
       "2018-11-19 20:45:00  5  3.0     12.0  0.998630\n",
       "2018-11-19 21:45:00  5  3.5     14.0  0.998135\n",
       "2018-11-19 22:45:00  5  4.0     16.0  0.997564\n",
       "2018-11-19 23:45:00  5  4.5     18.0  0.996917"
      ]
     },
     "execution_count": 65,
     "metadata": {},
     "output_type": "execute_result"
    }
   ],
>>>>>>> origin/saraBordin
   "source": [
    "df_wNan.fillna(method='pad')"
   ]
  },
  {
   "cell_type": "markdown",
   "metadata": {},
   "source": [
    "## Operations\n",
    "\n",
    "Here comes the most relevant advantage of DataFrame. Operations on columns are extremly fast, almost as fast as the actual operation between elements in a raw"
   ]
  },
  {
   "cell_type": "code",
<<<<<<< HEAD
   "execution_count": null,
   "metadata": {},
   "outputs": [],
=======
   "execution_count": 66,
   "metadata": {},
   "outputs": [
    {
     "name": "stdout",
     "output_type": "stream",
     "text": [
      "A          0.049683\n",
      "B         -0.377935\n",
      "C          0.533112\n",
      "D          5.000000\n",
      "E          2.250000\n",
      "E prime    9.000000\n",
      "cosine     0.998915\n",
      "dtype: float64 \n",
      "\n",
      "2018-11-19 14:45:00    1.101575\n",
      "2018-11-19 15:45:00    0.687350\n",
      "2018-11-19 16:45:00    1.379253\n",
      "2018-11-19 17:45:00    2.123542\n",
      "2018-11-19 18:45:00    2.050275\n",
      "2018-11-19 19:45:00    2.614777\n",
      "2018-11-19 20:45:00    3.615694\n",
      "2018-11-19 21:45:00    3.479825\n",
      "2018-11-19 22:45:00    3.661445\n",
      "2018-11-19 23:45:00    4.220230\n",
      "Freq: H, dtype: float64 \n",
      "\n"
     ]
    }
   ],
>>>>>>> origin/saraBordin
   "source": [
    "# Some statistics (mean() just as an example)\n",
    "# raws\n",
    "print (df.mean(axis=0),'\\n')\n",
    "# columns\n",
    "print (df.mean(axis=1),'\\n')"
   ]
  },
  {
   "cell_type": "code",
<<<<<<< HEAD
   "execution_count": null,
   "metadata": {},
   "outputs": [],
=======
   "execution_count": 67,
   "metadata": {},
   "outputs": [
    {
     "data": {
      "text/html": [
       "<div>\n",
       "<style scoped>\n",
       "    .dataframe tbody tr th:only-of-type {\n",
       "        vertical-align: middle;\n",
       "    }\n",
       "\n",
       "    .dataframe tbody tr th {\n",
       "        vertical-align: top;\n",
       "    }\n",
       "\n",
       "    .dataframe thead th {\n",
       "        text-align: right;\n",
       "    }\n",
       "</style>\n",
       "<table border=\"1\" class=\"dataframe\">\n",
       "  <thead>\n",
       "    <tr style=\"text-align: right;\">\n",
       "      <th></th>\n",
       "      <th>A</th>\n",
       "      <th>B</th>\n",
       "      <th>C</th>\n",
       "      <th>D</th>\n",
       "      <th>E</th>\n",
       "      <th>E prime</th>\n",
       "      <th>cosine</th>\n",
       "    </tr>\n",
       "  </thead>\n",
       "  <tbody>\n",
       "    <tr>\n",
       "      <th>2018-11-19 14:45:00</th>\n",
       "      <td>0.000000</td>\n",
       "      <td>-0.491807</td>\n",
       "      <td>2.202829</td>\n",
       "      <td>5</td>\n",
       "      <td>0.0</td>\n",
       "      <td>0</td>\n",
       "      <td>1.000000</td>\n",
       "    </tr>\n",
       "    <tr>\n",
       "      <th>2018-11-19 15:45:00</th>\n",
       "      <td>-2.007701</td>\n",
       "      <td>-2.898266</td>\n",
       "      <td>2.928479</td>\n",
       "      <td>10</td>\n",
       "      <td>0.5</td>\n",
       "      <td>2</td>\n",
       "      <td>1.999962</td>\n",
       "    </tr>\n",
       "    <tr>\n",
       "      <th>2018-11-19 16:45:00</th>\n",
       "      <td>-2.670076</td>\n",
       "      <td>-3.451858</td>\n",
       "      <td>2.799371</td>\n",
       "      <td>15</td>\n",
       "      <td>1.5</td>\n",
       "      <td>6</td>\n",
       "      <td>2.999810</td>\n",
       "    </tr>\n",
       "    <tr>\n",
       "      <th>2018-11-19 17:45:00</th>\n",
       "      <td>-2.519072</td>\n",
       "      <td>-3.415337</td>\n",
       "      <td>3.976985</td>\n",
       "      <td>20</td>\n",
       "      <td>3.0</td>\n",
       "      <td>12</td>\n",
       "      <td>3.999467</td>\n",
       "    </tr>\n",
       "    <tr>\n",
       "      <th>2018-11-19 18:45:00</th>\n",
       "      <td>-3.863378</td>\n",
       "      <td>-2.981516</td>\n",
       "      <td>3.240001</td>\n",
       "      <td>25</td>\n",
       "      <td>5.0</td>\n",
       "      <td>20</td>\n",
       "      <td>4.998858</td>\n",
       "    </tr>\n",
       "    <tr>\n",
       "      <th>2018-11-19 19:45:00</th>\n",
       "      <td>-3.067507</td>\n",
       "      <td>-3.401410</td>\n",
       "      <td>2.668415</td>\n",
       "      <td>30</td>\n",
       "      <td>7.5</td>\n",
       "      <td>30</td>\n",
       "      <td>5.997906</td>\n",
       "    </tr>\n",
       "    <tr>\n",
       "      <th>2018-11-19 20:45:00</th>\n",
       "      <td>-0.989711</td>\n",
       "      <td>-2.527834</td>\n",
       "      <td>4.028272</td>\n",
       "      <td>35</td>\n",
       "      <td>10.5</td>\n",
       "      <td>42</td>\n",
       "      <td>6.996536</td>\n",
       "    </tr>\n",
       "    <tr>\n",
       "      <th>2018-11-19 21:45:00</th>\n",
       "      <td>-0.064843</td>\n",
       "      <td>-2.215700</td>\n",
       "      <td>3.651912</td>\n",
       "      <td>40</td>\n",
       "      <td>14.0</td>\n",
       "      <td>56</td>\n",
       "      <td>7.994670</td>\n",
       "    </tr>\n",
       "    <tr>\n",
       "      <th>2018-11-19 22:45:00</th>\n",
       "      <td>0.083874</td>\n",
       "      <td>-3.362449</td>\n",
       "      <td>4.282492</td>\n",
       "      <td>45</td>\n",
       "      <td>18.0</td>\n",
       "      <td>72</td>\n",
       "      <td>8.992234</td>\n",
       "    </tr>\n",
       "    <tr>\n",
       "      <th>2018-11-19 23:45:00</th>\n",
       "      <td>0.496831</td>\n",
       "      <td>-3.779348</td>\n",
       "      <td>5.331125</td>\n",
       "      <td>50</td>\n",
       "      <td>22.5</td>\n",
       "      <td>90</td>\n",
       "      <td>9.989152</td>\n",
       "    </tr>\n",
       "  </tbody>\n",
       "</table>\n",
       "</div>"
      ],
      "text/plain": [
       "                            A         B         C   D     E  E prime    cosine\n",
       "2018-11-19 14:45:00  0.000000 -0.491807  2.202829   5   0.0        0  1.000000\n",
       "2018-11-19 15:45:00 -2.007701 -2.898266  2.928479  10   0.5        2  1.999962\n",
       "2018-11-19 16:45:00 -2.670076 -3.451858  2.799371  15   1.5        6  2.999810\n",
       "2018-11-19 17:45:00 -2.519072 -3.415337  3.976985  20   3.0       12  3.999467\n",
       "2018-11-19 18:45:00 -3.863378 -2.981516  3.240001  25   5.0       20  4.998858\n",
       "2018-11-19 19:45:00 -3.067507 -3.401410  2.668415  30   7.5       30  5.997906\n",
       "2018-11-19 20:45:00 -0.989711 -2.527834  4.028272  35  10.5       42  6.996536\n",
       "2018-11-19 21:45:00 -0.064843 -2.215700  3.651912  40  14.0       56  7.994670\n",
       "2018-11-19 22:45:00  0.083874 -3.362449  4.282492  45  18.0       72  8.992234\n",
       "2018-11-19 23:45:00  0.496831 -3.779348  5.331125  50  22.5       90  9.989152"
      ]
     },
     "execution_count": 67,
     "metadata": {},
     "output_type": "execute_result"
    }
   ],
>>>>>>> origin/saraBordin
   "source": [
    "# global operations on columns\n",
    "df.apply(np.cumsum)"
   ]
  },
  {
   "cell_type": "code",
<<<<<<< HEAD
   "execution_count": null,
   "metadata": {},
   "outputs": [],
=======
   "execution_count": 68,
   "metadata": {},
   "outputs": [
    {
     "data": {
      "text/plain": [
       "A           4.085498\n",
       "B           3.280035\n",
       "C           2.939813\n",
       "D           0.000000\n",
       "E           4.500000\n",
       "E prime    18.000000\n",
       "cosine      0.003083\n",
       "dtype: float64"
      ]
     },
     "execution_count": 68,
     "metadata": {},
     "output_type": "execute_result"
    }
   ],
>>>>>>> origin/saraBordin
   "source": [
    "df.apply(lambda x: x.max() - x.min())"
   ]
  },
  {
   "cell_type": "code",
<<<<<<< HEAD
   "execution_count": null,
   "metadata": {},
   "outputs": [],
=======
   "execution_count": 69,
   "metadata": {},
   "outputs": [
    {
     "data": {
      "text/plain": [
       "2018-11-19 14:45:00   -0.491807\n",
       "2018-11-19 15:45:00   -4.414160\n",
       "2018-11-19 16:45:00   -1.215967\n",
       "2018-11-19 17:45:00    0.187525\n",
       "2018-11-19 18:45:00   -0.910484\n",
       "2018-11-19 19:45:00    0.375976\n",
       "2018-11-19 20:45:00    2.951373\n",
       "2018-11-19 21:45:00    1.237001\n",
       "2018-11-19 22:45:00   -0.998032\n",
       "2018-11-19 23:45:00   -0.003942\n",
       "Freq: H, dtype: float64"
      ]
     },
     "execution_count": 69,
     "metadata": {},
     "output_type": "execute_result"
    }
   ],
>>>>>>> origin/saraBordin
   "source": [
    "# syntax is as usual similar to that of numpy arrays\n",
    "df['A']+df['B']"
   ]
  },
  {
   "cell_type": "markdown",
   "metadata": {},
   "source": [
    "Let's play it hard and load (in memory) a (relatively) large dataset"
   ]
  },
  {
   "cell_type": "code",
<<<<<<< HEAD
   "execution_count": null,
   "metadata": {},
   "outputs": [],
   "source": [
    "file_name=\"data/data_000637.txt\"\n",
=======
   "execution_count": 70,
   "metadata": {},
   "outputs": [
    {
     "ename": "FileNotFoundError",
     "evalue": "File b'/Users/mzanetti/data/LEMMA2018/DT/raw/data_000636.txt' does not exist",
     "output_type": "error",
     "traceback": [
      "\u001b[0;31m---------------------------------------------------------------------------\u001b[0m",
      "\u001b[0;31mFileNotFoundError\u001b[0m                         Traceback (most recent call last)",
      "\u001b[0;32m<ipython-input-70-182e577f0967>\u001b[0m in \u001b[0;36m<module>\u001b[0;34m()\u001b[0m\n\u001b[1;32m      1\u001b[0m \u001b[0mfile_name\u001b[0m\u001b[0;34m=\u001b[0m\u001b[0;34m\"/Users/mzanetti/data/LEMMA2018/DT/raw/data_000636.txt\"\u001b[0m\u001b[0;34m\u001b[0m\u001b[0m\n\u001b[0;32m----> 2\u001b[0;31m \u001b[0mdata\u001b[0m\u001b[0;34m=\u001b[0m\u001b[0mpd\u001b[0m\u001b[0;34m.\u001b[0m\u001b[0mread_csv\u001b[0m\u001b[0;34m(\u001b[0m\u001b[0mfile_name\u001b[0m\u001b[0;34m)\u001b[0m\u001b[0;34m\u001b[0m\u001b[0m\n\u001b[0m\u001b[1;32m      3\u001b[0m \u001b[0mdata\u001b[0m\u001b[0;34m\u001b[0m\u001b[0m\n",
      "\u001b[0;32m~/anaconda3/lib/python3.7/site-packages/pandas/io/parsers.py\u001b[0m in \u001b[0;36mparser_f\u001b[0;34m(filepath_or_buffer, sep, delimiter, header, names, index_col, usecols, squeeze, prefix, mangle_dupe_cols, dtype, engine, converters, true_values, false_values, skipinitialspace, skiprows, nrows, na_values, keep_default_na, na_filter, verbose, skip_blank_lines, parse_dates, infer_datetime_format, keep_date_col, date_parser, dayfirst, iterator, chunksize, compression, thousands, decimal, lineterminator, quotechar, quoting, escapechar, comment, encoding, dialect, tupleize_cols, error_bad_lines, warn_bad_lines, skipfooter, doublequote, delim_whitespace, low_memory, memory_map, float_precision)\u001b[0m\n\u001b[1;32m    676\u001b[0m                     skip_blank_lines=skip_blank_lines)\n\u001b[1;32m    677\u001b[0m \u001b[0;34m\u001b[0m\u001b[0m\n\u001b[0;32m--> 678\u001b[0;31m         \u001b[0;32mreturn\u001b[0m \u001b[0m_read\u001b[0m\u001b[0;34m(\u001b[0m\u001b[0mfilepath_or_buffer\u001b[0m\u001b[0;34m,\u001b[0m \u001b[0mkwds\u001b[0m\u001b[0;34m)\u001b[0m\u001b[0;34m\u001b[0m\u001b[0m\n\u001b[0m\u001b[1;32m    679\u001b[0m \u001b[0;34m\u001b[0m\u001b[0m\n\u001b[1;32m    680\u001b[0m     \u001b[0mparser_f\u001b[0m\u001b[0;34m.\u001b[0m\u001b[0m__name__\u001b[0m \u001b[0;34m=\u001b[0m \u001b[0mname\u001b[0m\u001b[0;34m\u001b[0m\u001b[0m\n",
      "\u001b[0;32m~/anaconda3/lib/python3.7/site-packages/pandas/io/parsers.py\u001b[0m in \u001b[0;36m_read\u001b[0;34m(filepath_or_buffer, kwds)\u001b[0m\n\u001b[1;32m    438\u001b[0m \u001b[0;34m\u001b[0m\u001b[0m\n\u001b[1;32m    439\u001b[0m     \u001b[0;31m# Create the parser.\u001b[0m\u001b[0;34m\u001b[0m\u001b[0;34m\u001b[0m\u001b[0m\n\u001b[0;32m--> 440\u001b[0;31m     \u001b[0mparser\u001b[0m \u001b[0;34m=\u001b[0m \u001b[0mTextFileReader\u001b[0m\u001b[0;34m(\u001b[0m\u001b[0mfilepath_or_buffer\u001b[0m\u001b[0;34m,\u001b[0m \u001b[0;34m**\u001b[0m\u001b[0mkwds\u001b[0m\u001b[0;34m)\u001b[0m\u001b[0;34m\u001b[0m\u001b[0m\n\u001b[0m\u001b[1;32m    441\u001b[0m \u001b[0;34m\u001b[0m\u001b[0m\n\u001b[1;32m    442\u001b[0m     \u001b[0;32mif\u001b[0m \u001b[0mchunksize\u001b[0m \u001b[0;32mor\u001b[0m \u001b[0miterator\u001b[0m\u001b[0;34m:\u001b[0m\u001b[0;34m\u001b[0m\u001b[0m\n",
      "\u001b[0;32m~/anaconda3/lib/python3.7/site-packages/pandas/io/parsers.py\u001b[0m in \u001b[0;36m__init__\u001b[0;34m(self, f, engine, **kwds)\u001b[0m\n\u001b[1;32m    785\u001b[0m             \u001b[0mself\u001b[0m\u001b[0;34m.\u001b[0m\u001b[0moptions\u001b[0m\u001b[0;34m[\u001b[0m\u001b[0;34m'has_index_names'\u001b[0m\u001b[0;34m]\u001b[0m \u001b[0;34m=\u001b[0m \u001b[0mkwds\u001b[0m\u001b[0;34m[\u001b[0m\u001b[0;34m'has_index_names'\u001b[0m\u001b[0;34m]\u001b[0m\u001b[0;34m\u001b[0m\u001b[0m\n\u001b[1;32m    786\u001b[0m \u001b[0;34m\u001b[0m\u001b[0m\n\u001b[0;32m--> 787\u001b[0;31m         \u001b[0mself\u001b[0m\u001b[0;34m.\u001b[0m\u001b[0m_make_engine\u001b[0m\u001b[0;34m(\u001b[0m\u001b[0mself\u001b[0m\u001b[0;34m.\u001b[0m\u001b[0mengine\u001b[0m\u001b[0;34m)\u001b[0m\u001b[0;34m\u001b[0m\u001b[0m\n\u001b[0m\u001b[1;32m    788\u001b[0m \u001b[0;34m\u001b[0m\u001b[0m\n\u001b[1;32m    789\u001b[0m     \u001b[0;32mdef\u001b[0m \u001b[0mclose\u001b[0m\u001b[0;34m(\u001b[0m\u001b[0mself\u001b[0m\u001b[0;34m)\u001b[0m\u001b[0;34m:\u001b[0m\u001b[0;34m\u001b[0m\u001b[0m\n",
      "\u001b[0;32m~/anaconda3/lib/python3.7/site-packages/pandas/io/parsers.py\u001b[0m in \u001b[0;36m_make_engine\u001b[0;34m(self, engine)\u001b[0m\n\u001b[1;32m   1012\u001b[0m     \u001b[0;32mdef\u001b[0m \u001b[0m_make_engine\u001b[0m\u001b[0;34m(\u001b[0m\u001b[0mself\u001b[0m\u001b[0;34m,\u001b[0m \u001b[0mengine\u001b[0m\u001b[0;34m=\u001b[0m\u001b[0;34m'c'\u001b[0m\u001b[0;34m)\u001b[0m\u001b[0;34m:\u001b[0m\u001b[0;34m\u001b[0m\u001b[0m\n\u001b[1;32m   1013\u001b[0m         \u001b[0;32mif\u001b[0m \u001b[0mengine\u001b[0m \u001b[0;34m==\u001b[0m \u001b[0;34m'c'\u001b[0m\u001b[0;34m:\u001b[0m\u001b[0;34m\u001b[0m\u001b[0m\n\u001b[0;32m-> 1014\u001b[0;31m             \u001b[0mself\u001b[0m\u001b[0;34m.\u001b[0m\u001b[0m_engine\u001b[0m \u001b[0;34m=\u001b[0m \u001b[0mCParserWrapper\u001b[0m\u001b[0;34m(\u001b[0m\u001b[0mself\u001b[0m\u001b[0;34m.\u001b[0m\u001b[0mf\u001b[0m\u001b[0;34m,\u001b[0m \u001b[0;34m**\u001b[0m\u001b[0mself\u001b[0m\u001b[0;34m.\u001b[0m\u001b[0moptions\u001b[0m\u001b[0;34m)\u001b[0m\u001b[0;34m\u001b[0m\u001b[0m\n\u001b[0m\u001b[1;32m   1015\u001b[0m         \u001b[0;32melse\u001b[0m\u001b[0;34m:\u001b[0m\u001b[0;34m\u001b[0m\u001b[0m\n\u001b[1;32m   1016\u001b[0m             \u001b[0;32mif\u001b[0m \u001b[0mengine\u001b[0m \u001b[0;34m==\u001b[0m \u001b[0;34m'python'\u001b[0m\u001b[0;34m:\u001b[0m\u001b[0;34m\u001b[0m\u001b[0m\n",
      "\u001b[0;32m~/anaconda3/lib/python3.7/site-packages/pandas/io/parsers.py\u001b[0m in \u001b[0;36m__init__\u001b[0;34m(self, src, **kwds)\u001b[0m\n\u001b[1;32m   1706\u001b[0m         \u001b[0mkwds\u001b[0m\u001b[0;34m[\u001b[0m\u001b[0;34m'usecols'\u001b[0m\u001b[0;34m]\u001b[0m \u001b[0;34m=\u001b[0m \u001b[0mself\u001b[0m\u001b[0;34m.\u001b[0m\u001b[0musecols\u001b[0m\u001b[0;34m\u001b[0m\u001b[0m\n\u001b[1;32m   1707\u001b[0m \u001b[0;34m\u001b[0m\u001b[0m\n\u001b[0;32m-> 1708\u001b[0;31m         \u001b[0mself\u001b[0m\u001b[0;34m.\u001b[0m\u001b[0m_reader\u001b[0m \u001b[0;34m=\u001b[0m \u001b[0mparsers\u001b[0m\u001b[0;34m.\u001b[0m\u001b[0mTextReader\u001b[0m\u001b[0;34m(\u001b[0m\u001b[0msrc\u001b[0m\u001b[0;34m,\u001b[0m \u001b[0;34m**\u001b[0m\u001b[0mkwds\u001b[0m\u001b[0;34m)\u001b[0m\u001b[0;34m\u001b[0m\u001b[0m\n\u001b[0m\u001b[1;32m   1709\u001b[0m \u001b[0;34m\u001b[0m\u001b[0m\n\u001b[1;32m   1710\u001b[0m         \u001b[0mpassed_names\u001b[0m \u001b[0;34m=\u001b[0m \u001b[0mself\u001b[0m\u001b[0;34m.\u001b[0m\u001b[0mnames\u001b[0m \u001b[0;32mis\u001b[0m \u001b[0;32mNone\u001b[0m\u001b[0;34m\u001b[0m\u001b[0m\n",
      "\u001b[0;32mpandas/_libs/parsers.pyx\u001b[0m in \u001b[0;36mpandas._libs.parsers.TextReader.__cinit__\u001b[0;34m()\u001b[0m\n",
      "\u001b[0;32mpandas/_libs/parsers.pyx\u001b[0m in \u001b[0;36mpandas._libs.parsers.TextReader._setup_parser_source\u001b[0;34m()\u001b[0m\n",
      "\u001b[0;31mFileNotFoundError\u001b[0m: File b'/Users/mzanetti/data/LEMMA2018/DT/raw/data_000636.txt' does not exist"
     ]
    }
   ],
   "source": [
    "file_name=\"/Users/mzanetti/data/LEMMA2018/DT/raw/data_000636.txt\"\n",
>>>>>>> origin/saraBordin
    "data=pd.read_csv(file_name)\n",
    "data"
   ]
  },
  {
   "cell_type": "markdown",
   "metadata": {},
   "source": [
    "Let's know do some operations among (elements of) columns"
   ]
  },
  {
   "cell_type": "code",
   "execution_count": null,
   "metadata": {},
   "outputs": [],
   "source": [
    "# the one-liner killing it all\n",
    "data['timens']=data['TDC_MEAS']*25/30+data['BX_COUNTER']*25"
   ]
  },
  {
   "cell_type": "code",
   "execution_count": null,
   "metadata": {},
   "outputs": [],
   "source": [
    "# the old slooow way\n",
    "def conversion(data):\n",
    "    result=[]\n",
    "    for i in range(len(data)): \n",
    "        result.append(data.loc[data.index[i],'TDC_MEAS']*25/30.+data.loc[data.index[i],'BX_COUNTER']*25)\n",
    "    return result\n",
    "\n",
    "data['timens']=conversion(data)"
   ]
  },
  {
<<<<<<< HEAD
=======
   "cell_type": "code",
   "execution_count": null,
   "metadata": {},
   "outputs": [],
   "source": [
    "data"
   ]
  },
  {
>>>>>>> origin/saraBordin
   "cell_type": "markdown",
   "metadata": {},
   "source": [
    "## Merge\n",
    "\n",
    "pandas provides various facilities for easily combining together Series, DataFrame, and Panel objects with various kinds of set logic for the indexes and relational algebra functionality in the case of join / merge-type operations.\n",
    "\n",
    "### Concat\n",
    "\n",
    "concatenation (adding raws) is straightforward\n"
   ]
  },
  {
   "cell_type": "code",
   "execution_count": null,
   "metadata": {},
   "outputs": [],
   "source": [
    "rdf = pd.DataFrame(np.random.randn(10, 4))\n",
    "rdf"
   ]
  },
  {
   "cell_type": "code",
   "execution_count": null,
   "metadata": {},
   "outputs": [],
   "source": [
    "# divide it into pieaces raw-wise\n",
    "pieces = [rdf[:3], rdf[3:7], rdf[7:]]\n",
    "pieces"
   ]
  },
  {
   "cell_type": "code",
   "execution_count": null,
   "metadata": {},
   "outputs": [],
   "source": [
    "# put it back together\n",
    "pd.concat(pieces)\n",
    "\n",
    "# indexes can be ignored\n",
    "#pd.concat(pieces, ignore_index=True)\n",
    "\n",
    "# in case of dimension mismatch, Nan are added where needed"
   ]
  },
  {
   "cell_type": "code",
   "execution_count": null,
   "metadata": {},
   "outputs": [],
   "source": [
    "# appending a single raw (as a Series)\n",
    "s = rdf.iloc[3]\n",
    "rdf.append(s, ignore_index=True)\n"
   ]
  },
  {
   "cell_type": "markdown",
   "metadata": {},
   "source": [
    "### Merge/Join\n",
    "\n",
    "SQL like operations on table can be performed on DataFrames. This is all rather sophisticated, refer to the [doc](https://pandas.pydata.org/pandas-docs/stable/merging.html#merging) for more info/examples"
   ]
  },
  {
   "cell_type": "code",
<<<<<<< HEAD
   "execution_count": null,
   "metadata": {},
   "outputs": [],
   "source": [
    "left = pd.DataFrame({'key': ['foo', 'bar'], 'lval': [1, 2]})\n",
    "right = pd.DataFrame({'key': ['foo', 'bar'], 'rval': [4, 5]})\n",
    "\n",
    "pd.merge(left,right,on=\"key\")"
   ]
  },
  {
   "cell_type": "markdown",
   "metadata": {},
   "source": [
    "## Grouping\n",
    "\n",
    "By “group by” we are referring to a process involving one or more of the following steps:\n",
    "\n",
    "* Splitting the data into groups based on some criteria\n",
    "* Applying a function to each group independently\n",
    "* Combining the results into a data structure\n"
   ]
  },
  {
   "cell_type": "code",
   "execution_count": 15,
=======
   "execution_count": 71,
>>>>>>> origin/saraBordin
   "metadata": {},
   "outputs": [
    {
     "data": {
      "text/html": [
       "<div>\n",
       "<style scoped>\n",
       "    .dataframe tbody tr th:only-of-type {\n",
       "        vertical-align: middle;\n",
       "    }\n",
       "\n",
       "    .dataframe tbody tr th {\n",
       "        vertical-align: top;\n",
       "    }\n",
       "\n",
       "    .dataframe thead th {\n",
       "        text-align: right;\n",
       "    }\n",
       "</style>\n",
       "<table border=\"1\" class=\"dataframe\">\n",
       "  <thead>\n",
       "    <tr style=\"text-align: right;\">\n",
       "      <th></th>\n",
<<<<<<< HEAD
       "      <th>A</th>\n",
       "      <th>B</th>\n",
       "      <th>C</th>\n",
       "      <th>D</th>\n",
=======
       "      <th>key</th>\n",
       "      <th>lval</th>\n",
       "      <th>rval</th>\n",
>>>>>>> origin/saraBordin
       "    </tr>\n",
       "  </thead>\n",
       "  <tbody>\n",
       "    <tr>\n",
       "      <th>0</th>\n",
       "      <td>foo</td>\n",
<<<<<<< HEAD
       "      <td>one</td>\n",
       "      <td>-0.317126</td>\n",
       "      <td>-0.342903</td>\n",
=======
       "      <td>1</td>\n",
       "      <td>4</td>\n",
>>>>>>> origin/saraBordin
       "    </tr>\n",
       "    <tr>\n",
       "      <th>1</th>\n",
       "      <td>bar</td>\n",
<<<<<<< HEAD
       "      <td>one</td>\n",
       "      <td>-1.474510</td>\n",
       "      <td>-0.511440</td>\n",
       "    </tr>\n",
       "    <tr>\n",
       "      <th>2</th>\n",
       "      <td>foo</td>\n",
       "      <td>two</td>\n",
       "      <td>-0.221645</td>\n",
       "      <td>0.737519</td>\n",
       "    </tr>\n",
       "    <tr>\n",
       "      <th>3</th>\n",
       "      <td>bar</td>\n",
       "      <td>three</td>\n",
       "      <td>0.037891</td>\n",
       "      <td>-0.885056</td>\n",
       "    </tr>\n",
       "    <tr>\n",
       "      <th>4</th>\n",
       "      <td>foo</td>\n",
       "      <td>two</td>\n",
       "      <td>-0.441793</td>\n",
       "      <td>0.673288</td>\n",
       "    </tr>\n",
       "    <tr>\n",
       "      <th>5</th>\n",
       "      <td>bar</td>\n",
       "      <td>two</td>\n",
       "      <td>0.227153</td>\n",
       "      <td>0.721218</td>\n",
       "    </tr>\n",
       "    <tr>\n",
       "      <th>6</th>\n",
       "      <td>foo</td>\n",
       "      <td>one</td>\n",
       "      <td>-0.000225</td>\n",
       "      <td>1.001744</td>\n",
       "    </tr>\n",
       "    <tr>\n",
       "      <th>7</th>\n",
       "      <td>foo</td>\n",
       "      <td>three</td>\n",
       "      <td>0.632684</td>\n",
       "      <td>0.384988</td>\n",
=======
       "      <td>2</td>\n",
       "      <td>5</td>\n",
>>>>>>> origin/saraBordin
       "    </tr>\n",
       "  </tbody>\n",
       "</table>\n",
       "</div>"
      ],
      "text/plain": [
<<<<<<< HEAD
       "     A      B         C         D\n",
       "0  foo    one -0.317126 -0.342903\n",
       "1  bar    one -1.474510 -0.511440\n",
       "2  foo    two -0.221645  0.737519\n",
       "3  bar  three  0.037891 -0.885056\n",
       "4  foo    two -0.441793  0.673288\n",
       "5  bar    two  0.227153  0.721218\n",
       "6  foo    one -0.000225  1.001744\n",
       "7  foo  three  0.632684  0.384988"
      ]
     },
     "execution_count": 15,
=======
       "   key  lval  rval\n",
       "0  foo     1     4\n",
       "1  bar     2     5"
      ]
     },
     "execution_count": 71,
>>>>>>> origin/saraBordin
     "metadata": {},
     "output_type": "execute_result"
    }
   ],
   "source": [
<<<<<<< HEAD
=======
    "left = pd.DataFrame({'key': ['foo', 'bar'], 'lval': [1, 2]})\n",
    "right = pd.DataFrame({'key': ['foo', 'bar'], 'rval': [4, 5]})\n",
    "\n",
    "pd.merge(left,right,on=\"key\")"
   ]
  },
  {
   "cell_type": "markdown",
   "metadata": {},
   "source": [
    "## Grouping\n",
    "\n",
    "By “group by” we are referring to a process involving one or more of the following steps:\n",
    "\n",
    "* Splitting the data into groups based on some criteria\n",
    "* Applying a function to each group independently\n",
    "* Combining the results into a data structure\n"
   ]
  },
  {
   "cell_type": "code",
   "execution_count": null,
   "metadata": {},
   "outputs": [],
   "source": [
>>>>>>> origin/saraBordin
    "gdf = pd.DataFrame({'A' : ['foo', 'bar', 'foo', 'bar',\n",
    "                          'foo', 'bar', 'foo', 'foo'],\n",
    "                    'B' : ['one', 'one', 'two', 'three',\n",
    "                           'two', 'two', 'one', 'three'],\n",
    "                    'C' : np.random.randn(8),\n",
    "                    'D' : np.random.randn(8)})\n",
    "gdf"
   ]
  },
  {
   "cell_type": "code",
<<<<<<< HEAD
   "execution_count": 24,
   "metadata": {},
   "outputs": [
    {
     "data": {
      "text/html": [
       "<div>\n",
       "<style scoped>\n",
       "    .dataframe tbody tr th:only-of-type {\n",
       "        vertical-align: middle;\n",
       "    }\n",
       "\n",
       "    .dataframe tbody tr th {\n",
       "        vertical-align: top;\n",
       "    }\n",
       "\n",
       "    .dataframe thead th {\n",
       "        text-align: right;\n",
       "    }\n",
       "</style>\n",
       "<table border=\"1\" class=\"dataframe\">\n",
       "  <thead>\n",
       "    <tr style=\"text-align: right;\">\n",
       "      <th></th>\n",
       "      <th>C</th>\n",
       "      <th>D</th>\n",
       "    </tr>\n",
       "    <tr>\n",
       "      <th>A</th>\n",
       "      <th></th>\n",
       "      <th></th>\n",
       "    </tr>\n",
       "  </thead>\n",
       "  <tbody>\n",
       "    <tr>\n",
       "      <th>bar</th>\n",
       "      <td>-1.209465</td>\n",
       "      <td>-0.675277</td>\n",
       "    </tr>\n",
       "    <tr>\n",
       "      <th>foo</th>\n",
       "      <td>-0.348105</td>\n",
       "      <td>2.454635</td>\n",
       "    </tr>\n",
       "  </tbody>\n",
       "</table>\n",
       "</div>"
      ],
      "text/plain": [
       "            C         D\n",
       "A                      \n",
       "bar -1.209465 -0.675277\n",
       "foo -0.348105  2.454635"
      ]
     },
     "execution_count": 24,
     "metadata": {},
     "output_type": "execute_result"
    }
   ],
=======
   "execution_count": null,
   "metadata": {},
   "outputs": [],
>>>>>>> origin/saraBordin
   "source": [
    "# Grouping and then applying the sum() \n",
    "# function to the resulting groups (effective only where number are there).\n",
    "gdf.groupby('A').sum()"
   ]
  },
  {
   "cell_type": "markdown",
   "metadata": {},
   "source": [
    "## Multi-indexing\n",
    "\n",
    "\n",
    "Hierarchical / Multi-level indexing allows sophisticated data analysis on higher dimensional data. In essence, it enables you to store and manipulate data with an arbitrary number of dimensions in lower dimensional data structures like Series (1d) and DataFrame (2d)."
   ]
  },
  {
   "cell_type": "code",
<<<<<<< HEAD
   "execution_count": null,
   "metadata": {},
   "outputs": [],
=======
   "execution_count": 74,
   "metadata": {},
   "outputs": [
    {
     "name": "stdout",
     "output_type": "stream",
     "text": [
      "MultiIndex(levels=[['bar', 'baz', 'foo', 'qux'], ['one', 'two']],\n",
      "           labels=[[0, 0, 1, 1, 2, 2, 3, 3], [0, 1, 0, 1, 0, 1, 0, 1]],\n",
      "           names=['first', 'second']) \n",
      "\n",
      "first  second\n",
      "bar    one      -0.878001\n",
      "       two      -1.990543\n",
      "baz    one       0.394189\n",
      "       two      -0.494454\n",
      "foo    one       0.345873\n",
      "       two       0.369239\n",
      "qux    one      -1.757055\n",
      "       two      -1.226651\n",
      "dtype: float64\n"
     ]
    }
   ],
>>>>>>> origin/saraBordin
   "source": [
    "tuples = list(zip(['bar', 'bar', 'baz', 'baz', 'foo', 'foo', 'qux', 'qux'],\n",
    "          ['one', 'two', 'one', 'two', 'one', 'two', 'one', 'two']))\n",
    "multi_index = pd.MultiIndex.from_tuples(tuples, names=['first', 'second'])\n",
<<<<<<< HEAD
    "print (index,'\\n')\n",
=======
    "print (multi_index,'\\n')\n",
>>>>>>> origin/saraBordin
    "\n",
    "s = pd.Series(np.random.randn(8), index=multi_index)\n",
    "print (s)\n"
   ]
  },
  {
   "cell_type": "code",
<<<<<<< HEAD
   "execution_count": 25,
   "metadata": {},
   "outputs": [
    {
     "data": {
      "text/html": [
       "<div>\n",
       "<style scoped>\n",
       "    .dataframe tbody tr th:only-of-type {\n",
       "        vertical-align: middle;\n",
       "    }\n",
       "\n",
       "    .dataframe tbody tr th {\n",
       "        vertical-align: top;\n",
       "    }\n",
       "\n",
       "    .dataframe thead th {\n",
       "        text-align: right;\n",
       "    }\n",
       "</style>\n",
       "<table border=\"1\" class=\"dataframe\">\n",
       "  <thead>\n",
       "    <tr style=\"text-align: right;\">\n",
       "      <th></th>\n",
       "      <th></th>\n",
       "      <th>C</th>\n",
       "      <th>D</th>\n",
       "    </tr>\n",
       "    <tr>\n",
       "      <th>A</th>\n",
       "      <th>B</th>\n",
       "      <th></th>\n",
       "      <th></th>\n",
       "    </tr>\n",
       "  </thead>\n",
       "  <tbody>\n",
       "    <tr>\n",
       "      <th rowspan=\"3\" valign=\"top\">bar</th>\n",
       "      <th>one</th>\n",
       "      <td>-1.474510</td>\n",
       "      <td>-0.511440</td>\n",
       "    </tr>\n",
       "    <tr>\n",
       "      <th>three</th>\n",
       "      <td>0.037891</td>\n",
       "      <td>-0.885056</td>\n",
       "    </tr>\n",
       "    <tr>\n",
       "      <th>two</th>\n",
       "      <td>0.227153</td>\n",
       "      <td>0.721218</td>\n",
       "    </tr>\n",
       "    <tr>\n",
       "      <th rowspan=\"3\" valign=\"top\">foo</th>\n",
       "      <th>one</th>\n",
       "      <td>-0.317351</td>\n",
       "      <td>0.658841</td>\n",
       "    </tr>\n",
       "    <tr>\n",
       "      <th>three</th>\n",
       "      <td>0.632684</td>\n",
       "      <td>0.384988</td>\n",
       "    </tr>\n",
       "    <tr>\n",
       "      <th>two</th>\n",
       "      <td>-0.663438</td>\n",
       "      <td>1.410807</td>\n",
       "    </tr>\n",
       "  </tbody>\n",
       "</table>\n",
       "</div>"
      ],
      "text/plain": [
       "                  C         D\n",
       "A   B                        \n",
       "bar one   -1.474510 -0.511440\n",
       "    three  0.037891 -0.885056\n",
       "    two    0.227153  0.721218\n",
       "foo one   -0.317351  0.658841\n",
       "    three  0.632684  0.384988\n",
       "    two   -0.663438  1.410807"
      ]
     },
     "execution_count": 25,
     "metadata": {},
     "output_type": "execute_result"
    }
   ],
=======
   "execution_count": null,
   "metadata": {},
   "outputs": [],
>>>>>>> origin/saraBordin
   "source": [
    "# it enables further features of the groupby method,\n",
    "# e.g. when group-by by multiple columns\n",
    "gdf.groupby(['A','B']).sum()"
   ]
  },
  {
   "cell_type": "code",
   "execution_count": null,
   "metadata": {},
   "outputs": [],
   "source": [
    "# stack() method “compresses” a level in the DataFrame’s columns\n",
    "gdf.groupby(['A','B']).sum().stack()"
   ]
  },
  {
   "cell_type": "markdown",
   "metadata": {},
   "source": [
    "## Plotting\n",
    "\n",
    "Just a preview, more on the next lab class!"
   ]
  },
  {
   "cell_type": "code",
<<<<<<< HEAD
   "execution_count": 19,
   "metadata": {},
   "outputs": [
    {
     "data": {
      "text/plain": [
       "<matplotlib.axes._subplots.AxesSubplot at 0x29ea43882e8>"
      ]
     },
     "execution_count": 19,
     "metadata": {},
     "output_type": "execute_result"
    },
    {
     "data": {
      "image/png": "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\n",
      "text/plain": [
       "<Figure size 432x288 with 1 Axes>"
      ]
     },
     "metadata": {
      "needs_background": "light"
     },
     "output_type": "display_data"
    }
   ],
=======
   "execution_count": null,
   "metadata": {},
   "outputs": [],
>>>>>>> origin/saraBordin
   "source": [
    "ts = pd.Series(np.random.randn(1000), index=pd.date_range('1/1/2000', periods=1000))\n",
    "ts.cumsum().plot()"
   ]
  },
  {
   "cell_type": "code",
<<<<<<< HEAD
   "execution_count": 22,
   "metadata": {},
   "outputs": [
    {
     "data": {
      "text/plain": [
       "2000-01-01   -0.501480\n",
       "2000-01-02    0.444978\n",
       "2000-01-03    0.179161\n",
       "2000-01-04    1.288859\n",
       "2000-01-05   -0.327733\n",
       "2000-01-06    0.916704\n",
       "2000-01-07   -0.033778\n",
       "2000-01-08    1.204371\n",
       "2000-01-09   -0.602940\n",
       "2000-01-10    0.510606\n",
       "2000-01-11    0.818660\n",
       "2000-01-12   -1.347506\n",
       "2000-01-13   -0.827364\n",
       "2000-01-14   -1.443417\n",
       "2000-01-15    1.193039\n",
       "2000-01-16   -0.542734\n",
       "2000-01-17   -0.209037\n",
       "2000-01-18   -0.553547\n",
       "2000-01-19   -1.904362\n",
       "2000-01-20   -1.212039\n",
       "2000-01-21   -0.729043\n",
       "2000-01-22   -1.793048\n",
       "2000-01-23   -0.926451\n",
       "2000-01-24    1.074347\n",
       "2000-01-25   -0.426792\n",
       "2000-01-26   -1.518351\n",
       "2000-01-27   -0.405382\n",
       "2000-01-28    1.024016\n",
       "2000-01-29    0.044480\n",
       "2000-01-30    1.465324\n",
       "                ...   \n",
       "2002-08-28    0.098087\n",
       "2002-08-29    0.447971\n",
       "2002-08-30   -0.362227\n",
       "2002-08-31    0.171472\n",
       "2002-09-01   -0.514163\n",
       "2002-09-02   -0.745256\n",
       "2002-09-03    0.426743\n",
       "2002-09-04   -1.786521\n",
       "2002-09-05    1.183781\n",
       "2002-09-06   -0.075525\n",
       "2002-09-07    0.413428\n",
       "2002-09-08   -0.119611\n",
       "2002-09-09    0.926068\n",
       "2002-09-10    1.787921\n",
       "2002-09-11    0.058923\n",
       "2002-09-12   -1.140125\n",
       "2002-09-13    0.713270\n",
       "2002-09-14   -0.928156\n",
       "2002-09-15    0.239233\n",
       "2002-09-16   -2.187240\n",
       "2002-09-17   -0.343057\n",
       "2002-09-18   -0.320921\n",
       "2002-09-19    1.255240\n",
       "2002-09-20   -0.589921\n",
       "2002-09-21   -0.926093\n",
       "2002-09-22   -1.496101\n",
       "2002-09-23   -0.656334\n",
       "2002-09-24   -0.327239\n",
       "2002-09-25   -1.274895\n",
       "2002-09-26   -1.180340\n",
       "Freq: D, Length: 1000, dtype: float64"
      ]
     },
     "execution_count": 22,
     "metadata": {},
     "output_type": "execute_result"
    }
   ],
   "source": [
    "ts"
   ]
  },
  {
   "cell_type": "code",
   "execution_count": 23,
   "metadata": {},
   "outputs": [
    {
     "data": {
      "text/plain": [
       "2000-01-01    -0.501480\n",
       "2000-01-02    -0.056502\n",
       "2000-01-03     0.122659\n",
       "2000-01-04     1.411518\n",
       "2000-01-05     1.083786\n",
       "2000-01-06     2.000489\n",
       "2000-01-07     1.966711\n",
       "2000-01-08     3.171083\n",
       "2000-01-09     2.568142\n",
       "2000-01-10     3.078749\n",
       "2000-01-11     3.897409\n",
       "2000-01-12     2.549904\n",
       "2000-01-13     1.722540\n",
       "2000-01-14     0.279123\n",
       "2000-01-15     1.472162\n",
       "2000-01-16     0.929428\n",
       "2000-01-17     0.720391\n",
       "2000-01-18     0.166844\n",
       "2000-01-19    -1.737518\n",
       "2000-01-20    -2.949557\n",
       "2000-01-21    -3.678600\n",
       "2000-01-22    -5.471648\n",
       "2000-01-23    -6.398099\n",
       "2000-01-24    -5.323752\n",
       "2000-01-25    -5.750544\n",
       "2000-01-26    -7.268895\n",
       "2000-01-27    -7.674277\n",
       "2000-01-28    -6.650261\n",
       "2000-01-29    -6.605781\n",
       "2000-01-30    -5.140458\n",
       "                ...    \n",
       "2002-08-28   -50.442552\n",
       "2002-08-29   -49.994581\n",
       "2002-08-30   -50.356808\n",
       "2002-08-31   -50.185336\n",
       "2002-09-01   -50.699499\n",
       "2002-09-02   -51.444755\n",
       "2002-09-03   -51.018012\n",
       "2002-09-04   -52.804534\n",
       "2002-09-05   -51.620753\n",
       "2002-09-06   -51.696278\n",
       "2002-09-07   -51.282850\n",
       "2002-09-08   -51.402461\n",
       "2002-09-09   -50.476392\n",
       "2002-09-10   -48.688472\n",
       "2002-09-11   -48.629548\n",
       "2002-09-12   -49.769673\n",
       "2002-09-13   -49.056403\n",
       "2002-09-14   -49.984559\n",
       "2002-09-15   -49.745326\n",
       "2002-09-16   -51.932566\n",
       "2002-09-17   -52.275623\n",
       "2002-09-18   -52.596543\n",
       "2002-09-19   -51.341304\n",
       "2002-09-20   -51.931225\n",
       "2002-09-21   -52.857317\n",
       "2002-09-22   -54.353418\n",
       "2002-09-23   -55.009753\n",
       "2002-09-24   -55.336992\n",
       "2002-09-25   -56.611887\n",
       "2002-09-26   -57.792227\n",
       "Freq: D, Length: 1000, dtype: float64"
      ]
     },
     "execution_count": 23,
     "metadata": {},
     "output_type": "execute_result"
    }
   ],
   "source": [
    "ts.cumsum()"
   ]
  },
  {
   "cell_type": "code",
=======
>>>>>>> origin/saraBordin
   "execution_count": null,
   "metadata": {},
   "outputs": [],
   "source": [
    "pdf=pd.DataFrame(np.random.randn(1000, 4), index=ts.index,columns=['A', 'B', 'C', 'D'])\n",
    "df = df.cumsum()\n",
    "plt.figure(); df.plot(); plt.legend(loc='best')"
   ]
  },
  {
   "cell_type": "code",
   "execution_count": null,
   "metadata": {},
   "outputs": [],
   "source": []
  }
 ],
 "metadata": {
  "kernelspec": {
   "display_name": "Python 3",
   "language": "python",
   "name": "python3"
  },
  "language_info": {
   "codemirror_mode": {
    "name": "ipython",
    "version": 3
   },
   "file_extension": ".py",
   "mimetype": "text/x-python",
   "name": "python",
   "nbconvert_exporter": "python",
   "pygments_lexer": "ipython3",
   "version": "3.7.0"
  }
 },
 "nbformat": 4,
 "nbformat_minor": 2
}
