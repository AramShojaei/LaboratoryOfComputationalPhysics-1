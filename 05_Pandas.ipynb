{
 "cells": [
  {
   "cell_type": "markdown",
   "metadata": {},
   "source": [
    "# Pandas\n",
    "\n",
    "The `numpy` module is excellent for numerical computations, but to handle missing data or arrays with mixed types takes more work. The `pandas` module is currently the most widely used tool for data manipulation, providing high-performance, easy-to-use data structures and advanced data analysis tools.\n",
    "\n",
    "In particular `pandas` features:\n",
    "\n",
    "* A fast and efficient \"DataFrame\" object for data manipulation with integrated indexing;\n",
    "* Tools for reading and writing data between in-memory data structures and different formats (CSV, Excel, SQL, HDF5);\n",
    "* Intelligent data alignment and integrated handling of missing data;\n",
    "* Intelligent label-based slicing, fancy indexing, and subsetting of large data sets;\n",
    "* Aggregating or transforming data with a powerful \"group-by\" engine; \n",
    "* High performance merging and joining of data sets;\n",
    "* Hierarchical axis indexing provides an intuitive way of working with high-dimensional data in a lower-dimensional data structure;\n",
    "* Time series-functionalities;\n",
    "* Highly optimized for performance, with critical code paths written in Cython or C.\n"
   ]
  },
  {
   "cell_type": "code",
   "execution_count": 1,
   "metadata": {},
   "outputs": [],
   "source": [
    "import pandas as pd\n",
    "import numpy as np"
   ]
  },
  {
   "cell_type": "markdown",
   "metadata": {},
   "source": [
    "## Series\n",
    "\n",
    "Series are completely equivalent to 1D array but with axis labels and the possibility to store heterogeneous elements. Of paramount importance are the time-series, used to define time evolutions of a phenomenon. \n"
   ]
  },
  {
   "cell_type": "code",
   "execution_count": 3,
   "metadata": {},
   "outputs": [
    {
     "name": "stdout",
     "output_type": "stream",
     "text": [
      "a    0.0\n",
      "b    0.5\n",
      "c    1.0\n",
      "d    1.5\n",
      "e    2.0\n",
      "f    2.5\n",
      "g    3.0\n",
      "h    3.5\n",
      "i    4.0\n",
      "j    4.5\n",
      "dtype: float64 \n",
      "\n",
      "Index(['a', 'b', 'c', 'd', 'e', 'f', 'g', 'h', 'i', 'j'], dtype='object') \n",
      "\n",
      "[0.  0.5 1.  1.5 2.  2.5 3.  3.5 4.  4.5] <class 'numpy.ndarray'> \n",
      "\n",
      "2.5 2.5 3.5 \n",
      "\n",
      "d    1.5\n",
      "f    2.5\n",
      "h    3.5\n",
      "dtype: float64 \n",
      "\n"
     ]
    }
   ],
   "source": [
    "from string import ascii_lowercase as letters\n",
    "\n",
    "# Creating a series, accessing indexes, values and values by their index \n",
    "xs = pd.Series(np.arange(10)*0.5, index=tuple(letters[:10]))\n",
    "print (xs,'\\n')\n",
    "print (xs.index,'\\n')\n",
    "# Values of the Series are actually a numpy array\n",
    "print (xs.values, type(xs.values),'\\n')\n",
    "print (xs['f'], xs.f, xs.h, '\\n')\n",
    "print (xs[['d', 'f', 'h']], '\\n')"
   ]
  },
  {
   "cell_type": "code",
   "execution_count": 4,
   "metadata": {},
   "outputs": [
    {
     "name": "stdout",
     "output_type": "stream",
     "text": [
      "a    0.0\n",
      "b    0.5\n",
      "c    1.0\n",
      "dtype: float64 \n",
      "\n",
      "h    3.5\n",
      "i    4.0\n",
      "j    4.5\n",
      "dtype: float64 \n",
      "\n",
      "a    0.0\n",
      "d    1.5\n",
      "g    3.0\n",
      "j    4.5\n",
      "dtype: float64 \n",
      "\n",
      "h    3.5\n",
      "i    4.0\n",
      "j    4.5\n",
      "dtype: float64 \n",
      "\n",
      "a     1.000000\n",
      "b     1.648721\n",
      "c     2.718282\n",
      "d     4.481689\n",
      "e     7.389056\n",
      "f    12.182494\n",
      "g    20.085537\n",
      "h    33.115452\n",
      "i    54.598150\n",
      "j    90.017131\n",
      "dtype: float64 \n",
      "\n",
      "2.25 1.4361406616345072 \n",
      "\n"
     ]
    }
   ],
   "source": [
    "# Extracting elements and operations: same as numpy array\n",
    "print (xs[:3],'\\n')\n",
    "print (xs[7:], '\\n')\n",
    "print (xs[::3], '\\n')\n",
    "print (xs[xs>3], '\\n')\n",
    "print (np.exp(xs), '\\n')\n",
    "print (np.mean(xs), np.std(xs), '\\n')"
   ]
  },
  {
   "cell_type": "code",
   "execution_count": 5,
   "metadata": {},
   "outputs": [
    {
     "data": {
      "text/plain": [
       "b         1\n",
       "a       cat\n",
       "c    [2, 3]\n",
       "dtype: object"
      ]
     },
     "execution_count": 5,
     "metadata": {},
     "output_type": "execute_result"
    }
   ],
   "source": [
    "# Series can be created from python dictionary too.\n",
    "# Not that the elements can be whatever!\n",
    "d = {'b' : 1, 'a' : 'cat', 'c' : [2,3]}\n",
    "pd.Series(d)\n",
    "\n"
   ]
  },
  {
   "cell_type": "markdown",
   "metadata": {},
   "source": [
    "A key difference between Series and ndarray is that operations between Series automatically align the data based on label. Thus, you can write computations without giving consideration to whether the Series involved have the same labels."
   ]
  },
  {
   "cell_type": "code",
   "execution_count": 6,
   "metadata": {},
   "outputs": [
    {
     "data": {
      "text/plain": [
       "a         NaN\n",
       "b    1.695627\n",
       "c    2.875590\n",
       "d   -3.203765\n",
       "e         NaN\n",
       "dtype: float64"
      ]
     },
     "execution_count": 6,
     "metadata": {},
     "output_type": "execute_result"
    }
   ],
   "source": [
    "s = pd.Series(np.random.randn(5), index=tuple(letters[:5]))\n",
    "s[1:] + s[:-1]"
   ]
  },
  {
   "cell_type": "markdown",
   "metadata": {},
   "source": [
    "### Time series\n",
    "\n",
    "Time series are very often used to profile the behaviour of a quantity as a function of time. Pandas as a special index for that, `DatetimeIndex`, that can be created e.g. with the function `pd.data_range()`"
   ]
  },
  {
   "cell_type": "code",
   "execution_count": 9,
   "metadata": {},
   "outputs": [
    {
     "name": "stdout",
     "output_type": "stream",
     "text": [
      "2018-11-19 14:45:10.000015\n",
      "19/11/2018 14:45:00\n",
      "DatetimeIndex(['2018-11-19 14:45:00', '2018-11-20 14:45:00',\n",
      "               '2018-11-21 14:45:00', '2018-11-22 14:45:00',\n",
      "               '2018-11-23 14:45:00', '2018-11-24 14:45:00',\n",
      "               '2018-11-25 14:45:00'],\n",
      "              dtype='datetime64[ns]', freq='D')\n",
      "DatetimeIndex(['2018-11-19 14:45:00', '2018-11-19 14:45:01',\n",
      "               '2018-11-19 14:45:02', '2018-11-19 14:45:03',\n",
      "               '2018-11-19 14:45:04', '2018-11-19 14:45:05',\n",
      "               '2018-11-19 14:45:06', '2018-11-19 14:45:07',\n",
      "               '2018-11-19 14:45:08', '2018-11-19 14:45:09',\n",
      "               ...\n",
      "               '2018-11-19 15:44:50', '2018-11-19 15:44:51',\n",
      "               '2018-11-19 15:44:52', '2018-11-19 15:44:53',\n",
      "               '2018-11-19 15:44:54', '2018-11-19 15:44:55',\n",
      "               '2018-11-19 15:44:56', '2018-11-19 15:44:57',\n",
      "               '2018-11-19 15:44:58', '2018-11-19 15:44:59'],\n",
      "              dtype='datetime64[ns]', length=3600, freq='S')\n"
     ]
    }
   ],
   "source": [
    "# to define a date, the datetime module is very useful\n",
    "import datetime as dt\n",
    "date = dt.date.today()\n",
    "date = dt.datetime(2018,11,19,14,45,10,15)\n",
    "print (date)\n",
    "\n",
    "# otherwise, several notations are interpreted too\n",
    "date = 'Nov 19 2018'\n",
    "date = '19/11/2018 14:45:00'\n",
    "print (date)\n",
    "\n",
    "days = pd.date_range(date, periods=7, freq='D')\n",
    "print (days)\n",
    "\n",
    "seconds = pd.date_range(date, periods=3600, freq='s')\n",
    "print (seconds)\n"
   ]
  },
  {
   "cell_type": "markdown",
   "metadata": {},
   "source": [
    "To learn more about the frequency strings, please see this [link](http://pandas.pydata.org/pandas-docs/stable/timeseries.html#offset-aliases)\n",
    "\n",
    "\n",
    "Timestamped data is the most basic type of time series data that associates values with points in time. For pandas objects it means using the points in time.\n",
    "\n",
    "functions like `pd.to_datetime` can be used, for instance, when reading information as string from a dataset"
   ]
  },
  {
   "cell_type": "code",
   "execution_count": 16,
   "metadata": {},
   "outputs": [
    {
     "name": "stdout",
     "output_type": "stream",
     "text": [
      "1000\n",
      "2010-11-12 00:00:00\n",
      "2010-11-12 00:00:00\n"
     ]
    }
   ],
   "source": [
    "tstamp = pd.Timestamp(dt.datetime(2018, 11, 19))\n",
    "\n",
    "# internally it counts the nanoseconds from January 1st 19\n",
    "tstamp = pd.Timestamp(dt.datetime(1970, 1, 1, 0, 0, 0, 1))\n",
    "print(tstamp.value)\n",
    "\n",
    "# when creating a timestamp the format can be explicitly passed\n",
    "print (pd.to_datetime('2010/11/12', format='%Y/%m/%d'))\n",
    "print (pd.to_datetime('12-11-2010 00:00', format='%d-%m-%Y %H:%M'))\n"
   ]
  },
  {
   "cell_type": "markdown",
   "metadata": {},
   "source": [
    "A standard series can be created and (range of) elements can be used as indexes"
   ]
  },
  {
   "cell_type": "code",
   "execution_count": 18,
   "metadata": {
    "scrolled": true
   },
   "outputs": [
    {
     "name": "stdout",
     "output_type": "stream",
     "text": [
      "2018-11-19 14:45:00    10.293020\n",
      "2018-11-20 14:45:00     8.746652\n",
      "2018-11-21 14:45:00    10.561283\n",
      "2018-11-22 14:45:00     9.633513\n",
      "Freq: D, dtype: float64 \n",
      "\n",
      "2018-11-19 14:45:00    10.293020\n",
      "2018-11-20 14:45:00     8.746652\n",
      "2018-11-21 14:45:00    10.561283\n",
      "Freq: D, dtype: float64 \n",
      "\n"
     ]
    }
   ],
   "source": [
    "tseries = pd.Series(np.random.normal(10, 1, len(days)), index=days)\n",
    "# Extracting elements\n",
    "print (tseries[0:4], '\\n')\n",
    "print (tseries['2018-11-19':'2018-11-21'], '\\n') # Note - includes end time\n"
   ]
  },
  {
   "cell_type": "markdown",
   "metadata": {},
   "source": [
    "`pd.to_datetime` can also be used to create a `DatetimeIndex`:"
   ]
  },
  {
   "cell_type": "code",
   "execution_count": 19,
   "metadata": {},
   "outputs": [
    {
     "data": {
      "text/plain": [
       "DatetimeIndex(['1980-02-04', '1980-02-05', '1980-02-06'], dtype='datetime64[ns]', freq=None)"
      ]
     },
     "execution_count": 19,
     "metadata": {},
     "output_type": "execute_result"
    }
   ],
   "source": [
    "pd.to_datetime([1, 2, 3], unit='D', origin=pd.Timestamp('1980-02-03'))"
   ]
  },
  {
   "cell_type": "markdown",
   "metadata": {},
   "source": [
    "## DataFrame\n",
    "\n",
    "A pandas DataFrame is like a simple tabular spreadsheet. For future reference (or for people already familiar with R), a pandas DataFrame is very similar to the R DataFrame.\n",
    "\n",
    "Each column in a DataFrame is a Series object.\n",
    "\n",
    "The element can be whatever, missing data are dealt with too (as NaN)"
   ]
  },
  {
   "cell_type": "markdown",
   "metadata": {},
   "source": [
    "### DataFrame creation\n",
    "\n",
    "A DataFrame can be created implicitly, with, e.g., a DatatimeIndex object as index:"
   ]
  },
  {
   "cell_type": "code",
   "execution_count": 22,
   "metadata": {},
   "outputs": [
    {
     "data": {
      "text/html": [
       "<div>\n",
       "<style scoped>\n",
       "    .dataframe tbody tr th:only-of-type {\n",
       "        vertical-align: middle;\n",
       "    }\n",
       "\n",
       "    .dataframe tbody tr th {\n",
       "        vertical-align: top;\n",
       "    }\n",
       "\n",
       "    .dataframe thead th {\n",
       "        text-align: right;\n",
       "    }\n",
       "</style>\n",
       "<table border=\"1\" class=\"dataframe\">\n",
       "  <thead>\n",
       "    <tr style=\"text-align: right;\">\n",
       "      <th></th>\n",
       "      <th>A</th>\n",
       "      <th>B</th>\n",
       "      <th>C</th>\n",
       "      <th>D</th>\n",
       "    </tr>\n",
       "  </thead>\n",
       "  <tbody>\n",
       "    <tr>\n",
       "      <th>2018-11-19 14:45:00</th>\n",
       "      <td>-0.708083</td>\n",
       "      <td>-0.114159</td>\n",
       "      <td>-0.853287</td>\n",
       "      <td>0.139956</td>\n",
       "    </tr>\n",
       "    <tr>\n",
       "      <th>2018-11-19 15:45:00</th>\n",
       "      <td>0.630853</td>\n",
       "      <td>0.914895</td>\n",
       "      <td>-0.248738</td>\n",
       "      <td>-0.646401</td>\n",
       "    </tr>\n",
       "    <tr>\n",
       "      <th>2018-11-19 16:45:00</th>\n",
       "      <td>-0.774763</td>\n",
       "      <td>-1.160682</td>\n",
       "      <td>0.902693</td>\n",
       "      <td>0.283060</td>\n",
       "    </tr>\n",
       "    <tr>\n",
       "      <th>2018-11-19 17:45:00</th>\n",
       "      <td>-1.042235</td>\n",
       "      <td>0.022226</td>\n",
       "      <td>-0.536958</td>\n",
       "      <td>-0.983041</td>\n",
       "    </tr>\n",
       "    <tr>\n",
       "      <th>2018-11-19 18:45:00</th>\n",
       "      <td>-2.661153</td>\n",
       "      <td>-0.529436</td>\n",
       "      <td>-0.249016</td>\n",
       "      <td>-0.407574</td>\n",
       "    </tr>\n",
       "    <tr>\n",
       "      <th>2018-11-19 19:45:00</th>\n",
       "      <td>0.062590</td>\n",
       "      <td>-0.185487</td>\n",
       "      <td>0.556424</td>\n",
       "      <td>-1.422630</td>\n",
       "    </tr>\n",
       "    <tr>\n",
       "      <th>2018-11-19 20:45:00</th>\n",
       "      <td>-1.249051</td>\n",
       "      <td>-1.252840</td>\n",
       "      <td>0.646796</td>\n",
       "      <td>0.859532</td>\n",
       "    </tr>\n",
       "    <tr>\n",
       "      <th>2018-11-19 21:45:00</th>\n",
       "      <td>-1.138137</td>\n",
       "      <td>0.347142</td>\n",
       "      <td>0.956401</td>\n",
       "      <td>1.158590</td>\n",
       "    </tr>\n",
       "    <tr>\n",
       "      <th>2018-11-19 22:45:00</th>\n",
       "      <td>0.316238</td>\n",
       "      <td>-0.359495</td>\n",
       "      <td>0.747854</td>\n",
       "      <td>-1.553945</td>\n",
       "    </tr>\n",
       "    <tr>\n",
       "      <th>2018-11-19 23:45:00</th>\n",
       "      <td>-0.627633</td>\n",
       "      <td>1.348372</td>\n",
       "      <td>0.622907</td>\n",
       "      <td>-0.620078</td>\n",
       "    </tr>\n",
       "  </tbody>\n",
       "</table>\n",
       "</div>"
      ],
      "text/plain": [
       "                            A         B         C         D\n",
       "2018-11-19 14:45:00 -0.708083 -0.114159 -0.853287  0.139956\n",
       "2018-11-19 15:45:00  0.630853  0.914895 -0.248738 -0.646401\n",
       "2018-11-19 16:45:00 -0.774763 -1.160682  0.902693  0.283060\n",
       "2018-11-19 17:45:00 -1.042235  0.022226 -0.536958 -0.983041\n",
       "2018-11-19 18:45:00 -2.661153 -0.529436 -0.249016 -0.407574\n",
       "2018-11-19 19:45:00  0.062590 -0.185487  0.556424 -1.422630\n",
       "2018-11-19 20:45:00 -1.249051 -1.252840  0.646796  0.859532\n",
       "2018-11-19 21:45:00 -1.138137  0.347142  0.956401  1.158590\n",
       "2018-11-19 22:45:00  0.316238 -0.359495  0.747854 -1.553945\n",
       "2018-11-19 23:45:00 -0.627633  1.348372  0.622907 -0.620078"
      ]
     },
     "execution_count": 22,
     "metadata": {},
     "output_type": "execute_result"
    }
   ],
   "source": [
    "entries=10\n",
    "dates=pd.date_range('19/11/2018 14:45:00',freq='h', periods=entries)\n",
    "df = pd.DataFrame(np.random.randn(entries,4), index=dates, columns=['A','B','C','D'])\n",
    "df\n"
   ]
  },
  {
   "cell_type": "markdown",
   "metadata": {},
   "source": [
    "or by means of a dictionary:\n"
   ]
  },
  {
   "cell_type": "code",
   "execution_count": 23,
   "metadata": {},
   "outputs": [],
   "source": [
    "df2 = pd.DataFrame(\n",
    "    { 'A' : 1.,\n",
    "      'B' : pd.Timestamp('20130102'),\n",
    "      'C' : pd.Series(1,index=range(4),dtype='float32'),\n",
    "      'D' : np.arange(7,11),\n",
    "      'E' : pd.Categorical([\"test\",\"train\",\"test\",\"train\"]),\n",
    "    }\n",
    "    )\n",
    "   "
   ]
  },
  {
   "cell_type": "code",
   "execution_count": 24,
   "metadata": {},
   "outputs": [
    {
     "data": {
      "text/html": [
       "<div>\n",
       "<style scoped>\n",
       "    .dataframe tbody tr th:only-of-type {\n",
       "        vertical-align: middle;\n",
       "    }\n",
       "\n",
       "    .dataframe tbody tr th {\n",
       "        vertical-align: top;\n",
       "    }\n",
       "\n",
       "    .dataframe thead th {\n",
       "        text-align: right;\n",
       "    }\n",
       "</style>\n",
       "<table border=\"1\" class=\"dataframe\">\n",
       "  <thead>\n",
       "    <tr style=\"text-align: right;\">\n",
       "      <th></th>\n",
       "      <th>A</th>\n",
       "      <th>B</th>\n",
       "      <th>C</th>\n",
       "      <th>D</th>\n",
       "      <th>E</th>\n",
       "    </tr>\n",
       "  </thead>\n",
       "  <tbody>\n",
       "    <tr>\n",
       "      <th>0</th>\n",
       "      <td>1.0</td>\n",
       "      <td>2013-01-02</td>\n",
       "      <td>1.0</td>\n",
       "      <td>7</td>\n",
       "      <td>test</td>\n",
       "    </tr>\n",
       "    <tr>\n",
       "      <th>1</th>\n",
       "      <td>1.0</td>\n",
       "      <td>2013-01-02</td>\n",
       "      <td>1.0</td>\n",
       "      <td>8</td>\n",
       "      <td>train</td>\n",
       "    </tr>\n",
       "    <tr>\n",
       "      <th>2</th>\n",
       "      <td>1.0</td>\n",
       "      <td>2013-01-02</td>\n",
       "      <td>1.0</td>\n",
       "      <td>9</td>\n",
       "      <td>test</td>\n",
       "    </tr>\n",
       "    <tr>\n",
       "      <th>3</th>\n",
       "      <td>1.0</td>\n",
       "      <td>2013-01-02</td>\n",
       "      <td>1.0</td>\n",
       "      <td>10</td>\n",
       "      <td>train</td>\n",
       "    </tr>\n",
       "  </tbody>\n",
       "</table>\n",
       "</div>"
      ],
      "text/plain": [
       "     A          B    C   D      E\n",
       "0  1.0 2013-01-02  1.0   7   test\n",
       "1  1.0 2013-01-02  1.0   8  train\n",
       "2  1.0 2013-01-02  1.0   9   test\n",
       "3  1.0 2013-01-02  1.0  10  train"
      ]
     },
     "execution_count": 24,
     "metadata": {},
     "output_type": "execute_result"
    }
   ],
   "source": [
    "df2"
   ]
  },
  {
   "cell_type": "markdown",
   "metadata": {},
   "source": [
    "### Viewing Data"
   ]
  },
  {
   "cell_type": "code",
   "execution_count": 25,
   "metadata": {},
   "outputs": [
    {
     "data": {
      "text/html": [
       "<div>\n",
       "<style scoped>\n",
       "    .dataframe tbody tr th:only-of-type {\n",
       "        vertical-align: middle;\n",
       "    }\n",
       "\n",
       "    .dataframe tbody tr th {\n",
       "        vertical-align: top;\n",
       "    }\n",
       "\n",
       "    .dataframe thead th {\n",
       "        text-align: right;\n",
       "    }\n",
       "</style>\n",
       "<table border=\"1\" class=\"dataframe\">\n",
       "  <thead>\n",
       "    <tr style=\"text-align: right;\">\n",
       "      <th></th>\n",
       "      <th>A</th>\n",
       "      <th>B</th>\n",
       "      <th>C</th>\n",
       "      <th>D</th>\n",
       "    </tr>\n",
       "  </thead>\n",
       "  <tbody>\n",
       "    <tr>\n",
       "      <th>2018-11-19 14:45:00</th>\n",
       "      <td>-0.708083</td>\n",
       "      <td>-0.114159</td>\n",
       "      <td>-0.853287</td>\n",
       "      <td>0.139956</td>\n",
       "    </tr>\n",
       "    <tr>\n",
       "      <th>2018-11-19 15:45:00</th>\n",
       "      <td>0.630853</td>\n",
       "      <td>0.914895</td>\n",
       "      <td>-0.248738</td>\n",
       "      <td>-0.646401</td>\n",
       "    </tr>\n",
       "    <tr>\n",
       "      <th>2018-11-19 16:45:00</th>\n",
       "      <td>-0.774763</td>\n",
       "      <td>-1.160682</td>\n",
       "      <td>0.902693</td>\n",
       "      <td>0.283060</td>\n",
       "    </tr>\n",
       "    <tr>\n",
       "      <th>2018-11-19 17:45:00</th>\n",
       "      <td>-1.042235</td>\n",
       "      <td>0.022226</td>\n",
       "      <td>-0.536958</td>\n",
       "      <td>-0.983041</td>\n",
       "    </tr>\n",
       "    <tr>\n",
       "      <th>2018-11-19 18:45:00</th>\n",
       "      <td>-2.661153</td>\n",
       "      <td>-0.529436</td>\n",
       "      <td>-0.249016</td>\n",
       "      <td>-0.407574</td>\n",
       "    </tr>\n",
       "  </tbody>\n",
       "</table>\n",
       "</div>"
      ],
      "text/plain": [
       "                            A         B         C         D\n",
       "2018-11-19 14:45:00 -0.708083 -0.114159 -0.853287  0.139956\n",
       "2018-11-19 15:45:00  0.630853  0.914895 -0.248738 -0.646401\n",
       "2018-11-19 16:45:00 -0.774763 -1.160682  0.902693  0.283060\n",
       "2018-11-19 17:45:00 -1.042235  0.022226 -0.536958 -0.983041\n",
       "2018-11-19 18:45:00 -2.661153 -0.529436 -0.249016 -0.407574"
      ]
     },
     "execution_count": 25,
     "metadata": {},
     "output_type": "execute_result"
    }
   ],
   "source": [
    "df.head()"
   ]
  },
  {
   "cell_type": "code",
   "execution_count": 26,
   "metadata": {},
   "outputs": [
    {
     "data": {
      "text/html": [
       "<div>\n",
       "<style scoped>\n",
       "    .dataframe tbody tr th:only-of-type {\n",
       "        vertical-align: middle;\n",
       "    }\n",
       "\n",
       "    .dataframe tbody tr th {\n",
       "        vertical-align: top;\n",
       "    }\n",
       "\n",
       "    .dataframe thead th {\n",
       "        text-align: right;\n",
       "    }\n",
       "</style>\n",
       "<table border=\"1\" class=\"dataframe\">\n",
       "  <thead>\n",
       "    <tr style=\"text-align: right;\">\n",
       "      <th></th>\n",
       "      <th>A</th>\n",
       "      <th>B</th>\n",
       "      <th>C</th>\n",
       "      <th>D</th>\n",
       "    </tr>\n",
       "  </thead>\n",
       "  <tbody>\n",
       "    <tr>\n",
       "      <th>2018-11-19 20:45:00</th>\n",
       "      <td>-1.249051</td>\n",
       "      <td>-1.252840</td>\n",
       "      <td>0.646796</td>\n",
       "      <td>0.859532</td>\n",
       "    </tr>\n",
       "    <tr>\n",
       "      <th>2018-11-19 21:45:00</th>\n",
       "      <td>-1.138137</td>\n",
       "      <td>0.347142</td>\n",
       "      <td>0.956401</td>\n",
       "      <td>1.158590</td>\n",
       "    </tr>\n",
       "    <tr>\n",
       "      <th>2018-11-19 22:45:00</th>\n",
       "      <td>0.316238</td>\n",
       "      <td>-0.359495</td>\n",
       "      <td>0.747854</td>\n",
       "      <td>-1.553945</td>\n",
       "    </tr>\n",
       "    <tr>\n",
       "      <th>2018-11-19 23:45:00</th>\n",
       "      <td>-0.627633</td>\n",
       "      <td>1.348372</td>\n",
       "      <td>0.622907</td>\n",
       "      <td>-0.620078</td>\n",
       "    </tr>\n",
       "  </tbody>\n",
       "</table>\n",
       "</div>"
      ],
      "text/plain": [
       "                            A         B         C         D\n",
       "2018-11-19 20:45:00 -1.249051 -1.252840  0.646796  0.859532\n",
       "2018-11-19 21:45:00 -1.138137  0.347142  0.956401  1.158590\n",
       "2018-11-19 22:45:00  0.316238 -0.359495  0.747854 -1.553945\n",
       "2018-11-19 23:45:00 -0.627633  1.348372  0.622907 -0.620078"
      ]
     },
     "execution_count": 26,
     "metadata": {},
     "output_type": "execute_result"
    }
   ],
   "source": [
    "df.tail(4)"
   ]
  },
  {
   "cell_type": "code",
   "execution_count": 27,
   "metadata": {},
   "outputs": [
    {
     "data": {
      "text/plain": [
       "DatetimeIndex(['2018-11-19 14:45:00', '2018-11-19 15:45:00',\n",
       "               '2018-11-19 16:45:00', '2018-11-19 17:45:00',\n",
       "               '2018-11-19 18:45:00', '2018-11-19 19:45:00',\n",
       "               '2018-11-19 20:45:00', '2018-11-19 21:45:00',\n",
       "               '2018-11-19 22:45:00', '2018-11-19 23:45:00'],\n",
       "              dtype='datetime64[ns]', freq='H')"
      ]
     },
     "execution_count": 27,
     "metadata": {},
     "output_type": "execute_result"
    }
   ],
   "source": [
    "df.index"
   ]
  },
  {
   "cell_type": "code",
   "execution_count": 28,
   "metadata": {},
   "outputs": [
    {
     "data": {
      "text/plain": [
       "Index(['A', 'B', 'C', 'D'], dtype='object')"
      ]
     },
     "execution_count": 28,
     "metadata": {},
     "output_type": "execute_result"
    }
   ],
   "source": [
    "df.columns"
   ]
  },
  {
   "cell_type": "code",
   "execution_count": 29,
   "metadata": {},
   "outputs": [
    {
     "data": {
      "text/plain": [
       "array([[-0.70808347, -0.11415853, -0.85328739,  0.13995583],\n",
       "       [ 0.63085254,  0.91489453, -0.24873799, -0.646401  ],\n",
       "       [-0.77476308, -1.16068173,  0.90269279,  0.28305965],\n",
       "       [-1.04223512,  0.02222601, -0.53695794, -0.98304144],\n",
       "       [-2.66115311, -0.52943646, -0.24901551, -0.40757435],\n",
       "       [ 0.06258979, -0.18548749,  0.55642393, -1.42263013],\n",
       "       [-1.24905147, -1.25283981,  0.64679601,  0.85953203],\n",
       "       [-1.13813695,  0.34714187,  0.95640119,  1.15859003],\n",
       "       [ 0.31623811, -0.35949484,  0.747854  , -1.553945  ],\n",
       "       [-0.6276332 ,  1.34837208,  0.6229075 , -0.62007816]])"
      ]
     },
     "execution_count": 29,
     "metadata": {},
     "output_type": "execute_result"
    }
   ],
   "source": [
    "df.values"
   ]
  },
  {
   "cell_type": "code",
   "execution_count": 30,
   "metadata": {},
   "outputs": [
    {
     "data": {
      "text/html": [
       "<div>\n",
       "<style scoped>\n",
       "    .dataframe tbody tr th:only-of-type {\n",
       "        vertical-align: middle;\n",
       "    }\n",
       "\n",
       "    .dataframe tbody tr th {\n",
       "        vertical-align: top;\n",
       "    }\n",
       "\n",
       "    .dataframe thead th {\n",
       "        text-align: right;\n",
       "    }\n",
       "</style>\n",
       "<table border=\"1\" class=\"dataframe\">\n",
       "  <thead>\n",
       "    <tr style=\"text-align: right;\">\n",
       "      <th></th>\n",
       "      <th>A</th>\n",
       "      <th>B</th>\n",
       "      <th>C</th>\n",
       "      <th>D</th>\n",
       "    </tr>\n",
       "  </thead>\n",
       "  <tbody>\n",
       "    <tr>\n",
       "      <th>count</th>\n",
       "      <td>10.000000</td>\n",
       "      <td>10.000000</td>\n",
       "      <td>10.000000</td>\n",
       "      <td>10.000000</td>\n",
       "    </tr>\n",
       "    <tr>\n",
       "      <th>mean</th>\n",
       "      <td>-0.719138</td>\n",
       "      <td>-0.096946</td>\n",
       "      <td>0.254508</td>\n",
       "      <td>-0.319253</td>\n",
       "    </tr>\n",
       "    <tr>\n",
       "      <th>std</th>\n",
       "      <td>0.933890</td>\n",
       "      <td>0.820293</td>\n",
       "      <td>0.658059</td>\n",
       "      <td>0.915002</td>\n",
       "    </tr>\n",
       "    <tr>\n",
       "      <th>min</th>\n",
       "      <td>-2.661153</td>\n",
       "      <td>-1.252840</td>\n",
       "      <td>-0.853287</td>\n",
       "      <td>-1.553945</td>\n",
       "    </tr>\n",
       "    <tr>\n",
       "      <th>25%</th>\n",
       "      <td>-1.114161</td>\n",
       "      <td>-0.486951</td>\n",
       "      <td>-0.248946</td>\n",
       "      <td>-0.898881</td>\n",
       "    </tr>\n",
       "    <tr>\n",
       "      <th>50%</th>\n",
       "      <td>-0.741423</td>\n",
       "      <td>-0.149823</td>\n",
       "      <td>0.589666</td>\n",
       "      <td>-0.513826</td>\n",
       "    </tr>\n",
       "    <tr>\n",
       "      <th>75%</th>\n",
       "      <td>-0.109966</td>\n",
       "      <td>0.265913</td>\n",
       "      <td>0.722589</td>\n",
       "      <td>0.247284</td>\n",
       "    </tr>\n",
       "    <tr>\n",
       "      <th>max</th>\n",
       "      <td>0.630853</td>\n",
       "      <td>1.348372</td>\n",
       "      <td>0.956401</td>\n",
       "      <td>1.158590</td>\n",
       "    </tr>\n",
       "  </tbody>\n",
       "</table>\n",
       "</div>"
      ],
      "text/plain": [
       "               A          B          C          D\n",
       "count  10.000000  10.000000  10.000000  10.000000\n",
       "mean   -0.719138  -0.096946   0.254508  -0.319253\n",
       "std     0.933890   0.820293   0.658059   0.915002\n",
       "min    -2.661153  -1.252840  -0.853287  -1.553945\n",
       "25%    -1.114161  -0.486951  -0.248946  -0.898881\n",
       "50%    -0.741423  -0.149823   0.589666  -0.513826\n",
       "75%    -0.109966   0.265913   0.722589   0.247284\n",
       "max     0.630853   1.348372   0.956401   1.158590"
      ]
     },
     "execution_count": 30,
     "metadata": {},
     "output_type": "execute_result"
    }
   ],
   "source": [
    "df.describe()"
   ]
  },
  {
   "cell_type": "code",
   "execution_count": 31,
   "metadata": {},
   "outputs": [
    {
     "data": {
      "text/html": [
       "<div>\n",
       "<style scoped>\n",
       "    .dataframe tbody tr th:only-of-type {\n",
       "        vertical-align: middle;\n",
       "    }\n",
       "\n",
       "    .dataframe tbody tr th {\n",
       "        vertical-align: top;\n",
       "    }\n",
       "\n",
       "    .dataframe thead th {\n",
       "        text-align: right;\n",
       "    }\n",
       "</style>\n",
       "<table border=\"1\" class=\"dataframe\">\n",
       "  <thead>\n",
       "    <tr style=\"text-align: right;\">\n",
       "      <th></th>\n",
       "      <th>2018-11-19 14:45:00</th>\n",
       "      <th>2018-11-19 15:45:00</th>\n",
       "      <th>2018-11-19 16:45:00</th>\n",
       "      <th>2018-11-19 17:45:00</th>\n",
       "      <th>2018-11-19 18:45:00</th>\n",
       "      <th>2018-11-19 19:45:00</th>\n",
       "      <th>2018-11-19 20:45:00</th>\n",
       "      <th>2018-11-19 21:45:00</th>\n",
       "      <th>2018-11-19 22:45:00</th>\n",
       "      <th>2018-11-19 23:45:00</th>\n",
       "    </tr>\n",
       "  </thead>\n",
       "  <tbody>\n",
       "    <tr>\n",
       "      <th>A</th>\n",
       "      <td>-0.708083</td>\n",
       "      <td>0.630853</td>\n",
       "      <td>-0.774763</td>\n",
       "      <td>-1.042235</td>\n",
       "      <td>-2.661153</td>\n",
       "      <td>0.062590</td>\n",
       "      <td>-1.249051</td>\n",
       "      <td>-1.138137</td>\n",
       "      <td>0.316238</td>\n",
       "      <td>-0.627633</td>\n",
       "    </tr>\n",
       "    <tr>\n",
       "      <th>B</th>\n",
       "      <td>-0.114159</td>\n",
       "      <td>0.914895</td>\n",
       "      <td>-1.160682</td>\n",
       "      <td>0.022226</td>\n",
       "      <td>-0.529436</td>\n",
       "      <td>-0.185487</td>\n",
       "      <td>-1.252840</td>\n",
       "      <td>0.347142</td>\n",
       "      <td>-0.359495</td>\n",
       "      <td>1.348372</td>\n",
       "    </tr>\n",
       "    <tr>\n",
       "      <th>C</th>\n",
       "      <td>-0.853287</td>\n",
       "      <td>-0.248738</td>\n",
       "      <td>0.902693</td>\n",
       "      <td>-0.536958</td>\n",
       "      <td>-0.249016</td>\n",
       "      <td>0.556424</td>\n",
       "      <td>0.646796</td>\n",
       "      <td>0.956401</td>\n",
       "      <td>0.747854</td>\n",
       "      <td>0.622907</td>\n",
       "    </tr>\n",
       "    <tr>\n",
       "      <th>D</th>\n",
       "      <td>0.139956</td>\n",
       "      <td>-0.646401</td>\n",
       "      <td>0.283060</td>\n",
       "      <td>-0.983041</td>\n",
       "      <td>-0.407574</td>\n",
       "      <td>-1.422630</td>\n",
       "      <td>0.859532</td>\n",
       "      <td>1.158590</td>\n",
       "      <td>-1.553945</td>\n",
       "      <td>-0.620078</td>\n",
       "    </tr>\n",
       "  </tbody>\n",
       "</table>\n",
       "</div>"
      ],
      "text/plain": [
       "   2018-11-19 14:45:00  2018-11-19 15:45:00  2018-11-19 16:45:00  \\\n",
       "A            -0.708083             0.630853            -0.774763   \n",
       "B            -0.114159             0.914895            -1.160682   \n",
       "C            -0.853287            -0.248738             0.902693   \n",
       "D             0.139956            -0.646401             0.283060   \n",
       "\n",
       "   2018-11-19 17:45:00  2018-11-19 18:45:00  2018-11-19 19:45:00  \\\n",
       "A            -1.042235            -2.661153             0.062590   \n",
       "B             0.022226            -0.529436            -0.185487   \n",
       "C            -0.536958            -0.249016             0.556424   \n",
       "D            -0.983041            -0.407574            -1.422630   \n",
       "\n",
       "   2018-11-19 20:45:00  2018-11-19 21:45:00  2018-11-19 22:45:00  \\\n",
       "A            -1.249051            -1.138137             0.316238   \n",
       "B            -1.252840             0.347142            -0.359495   \n",
       "C             0.646796             0.956401             0.747854   \n",
       "D             0.859532             1.158590            -1.553945   \n",
       "\n",
       "   2018-11-19 23:45:00  \n",
       "A            -0.627633  \n",
       "B             1.348372  \n",
       "C             0.622907  \n",
       "D            -0.620078  "
      ]
     },
     "execution_count": 31,
     "metadata": {},
     "output_type": "execute_result"
    }
   ],
   "source": [
    "df.T"
   ]
  },
  {
   "cell_type": "code",
   "execution_count": 32,
   "metadata": {},
   "outputs": [
    {
     "data": {
      "text/html": [
       "<div>\n",
       "<style scoped>\n",
       "    .dataframe tbody tr th:only-of-type {\n",
       "        vertical-align: middle;\n",
       "    }\n",
       "\n",
       "    .dataframe tbody tr th {\n",
       "        vertical-align: top;\n",
       "    }\n",
       "\n",
       "    .dataframe thead th {\n",
       "        text-align: right;\n",
       "    }\n",
       "</style>\n",
       "<table border=\"1\" class=\"dataframe\">\n",
       "  <thead>\n",
       "    <tr style=\"text-align: right;\">\n",
       "      <th></th>\n",
       "      <th>D</th>\n",
       "      <th>C</th>\n",
       "      <th>B</th>\n",
       "      <th>A</th>\n",
       "    </tr>\n",
       "  </thead>\n",
       "  <tbody>\n",
       "    <tr>\n",
       "      <th>2018-11-19 14:45:00</th>\n",
       "      <td>0.139956</td>\n",
       "      <td>-0.853287</td>\n",
       "      <td>-0.114159</td>\n",
       "      <td>-0.708083</td>\n",
       "    </tr>\n",
       "    <tr>\n",
       "      <th>2018-11-19 15:45:00</th>\n",
       "      <td>-0.646401</td>\n",
       "      <td>-0.248738</td>\n",
       "      <td>0.914895</td>\n",
       "      <td>0.630853</td>\n",
       "    </tr>\n",
       "    <tr>\n",
       "      <th>2018-11-19 16:45:00</th>\n",
       "      <td>0.283060</td>\n",
       "      <td>0.902693</td>\n",
       "      <td>-1.160682</td>\n",
       "      <td>-0.774763</td>\n",
       "    </tr>\n",
       "    <tr>\n",
       "      <th>2018-11-19 17:45:00</th>\n",
       "      <td>-0.983041</td>\n",
       "      <td>-0.536958</td>\n",
       "      <td>0.022226</td>\n",
       "      <td>-1.042235</td>\n",
       "    </tr>\n",
       "    <tr>\n",
       "      <th>2018-11-19 18:45:00</th>\n",
       "      <td>-0.407574</td>\n",
       "      <td>-0.249016</td>\n",
       "      <td>-0.529436</td>\n",
       "      <td>-2.661153</td>\n",
       "    </tr>\n",
       "    <tr>\n",
       "      <th>2018-11-19 19:45:00</th>\n",
       "      <td>-1.422630</td>\n",
       "      <td>0.556424</td>\n",
       "      <td>-0.185487</td>\n",
       "      <td>0.062590</td>\n",
       "    </tr>\n",
       "    <tr>\n",
       "      <th>2018-11-19 20:45:00</th>\n",
       "      <td>0.859532</td>\n",
       "      <td>0.646796</td>\n",
       "      <td>-1.252840</td>\n",
       "      <td>-1.249051</td>\n",
       "    </tr>\n",
       "    <tr>\n",
       "      <th>2018-11-19 21:45:00</th>\n",
       "      <td>1.158590</td>\n",
       "      <td>0.956401</td>\n",
       "      <td>0.347142</td>\n",
       "      <td>-1.138137</td>\n",
       "    </tr>\n",
       "    <tr>\n",
       "      <th>2018-11-19 22:45:00</th>\n",
       "      <td>-1.553945</td>\n",
       "      <td>0.747854</td>\n",
       "      <td>-0.359495</td>\n",
       "      <td>0.316238</td>\n",
       "    </tr>\n",
       "    <tr>\n",
       "      <th>2018-11-19 23:45:00</th>\n",
       "      <td>-0.620078</td>\n",
       "      <td>0.622907</td>\n",
       "      <td>1.348372</td>\n",
       "      <td>-0.627633</td>\n",
       "    </tr>\n",
       "  </tbody>\n",
       "</table>\n",
       "</div>"
      ],
      "text/plain": [
       "                            D         C         B         A\n",
       "2018-11-19 14:45:00  0.139956 -0.853287 -0.114159 -0.708083\n",
       "2018-11-19 15:45:00 -0.646401 -0.248738  0.914895  0.630853\n",
       "2018-11-19 16:45:00  0.283060  0.902693 -1.160682 -0.774763\n",
       "2018-11-19 17:45:00 -0.983041 -0.536958  0.022226 -1.042235\n",
       "2018-11-19 18:45:00 -0.407574 -0.249016 -0.529436 -2.661153\n",
       "2018-11-19 19:45:00 -1.422630  0.556424 -0.185487  0.062590\n",
       "2018-11-19 20:45:00  0.859532  0.646796 -1.252840 -1.249051\n",
       "2018-11-19 21:45:00  1.158590  0.956401  0.347142 -1.138137\n",
       "2018-11-19 22:45:00 -1.553945  0.747854 -0.359495  0.316238\n",
       "2018-11-19 23:45:00 -0.620078  0.622907  1.348372 -0.627633"
      ]
     },
     "execution_count": 32,
     "metadata": {},
     "output_type": "execute_result"
    }
   ],
   "source": [
    "df.sort_index(axis=1,ascending=False)"
   ]
  },
  {
   "cell_type": "code",
   "execution_count": 33,
   "metadata": {},
   "outputs": [
    {
     "data": {
      "text/html": [
       "<div>\n",
       "<style scoped>\n",
       "    .dataframe tbody tr th:only-of-type {\n",
       "        vertical-align: middle;\n",
       "    }\n",
       "\n",
       "    .dataframe tbody tr th {\n",
       "        vertical-align: top;\n",
       "    }\n",
       "\n",
       "    .dataframe thead th {\n",
       "        text-align: right;\n",
       "    }\n",
       "</style>\n",
       "<table border=\"1\" class=\"dataframe\">\n",
       "  <thead>\n",
       "    <tr style=\"text-align: right;\">\n",
       "      <th></th>\n",
       "      <th>A</th>\n",
       "      <th>B</th>\n",
       "      <th>C</th>\n",
       "      <th>D</th>\n",
       "    </tr>\n",
       "  </thead>\n",
       "  <tbody>\n",
       "    <tr>\n",
       "      <th>2018-11-19 14:45:00</th>\n",
       "      <td>-0.708083</td>\n",
       "      <td>-0.114159</td>\n",
       "      <td>-0.853287</td>\n",
       "      <td>0.139956</td>\n",
       "    </tr>\n",
       "    <tr>\n",
       "      <th>2018-11-19 17:45:00</th>\n",
       "      <td>-1.042235</td>\n",
       "      <td>0.022226</td>\n",
       "      <td>-0.536958</td>\n",
       "      <td>-0.983041</td>\n",
       "    </tr>\n",
       "    <tr>\n",
       "      <th>2018-11-19 18:45:00</th>\n",
       "      <td>-2.661153</td>\n",
       "      <td>-0.529436</td>\n",
       "      <td>-0.249016</td>\n",
       "      <td>-0.407574</td>\n",
       "    </tr>\n",
       "    <tr>\n",
       "      <th>2018-11-19 15:45:00</th>\n",
       "      <td>0.630853</td>\n",
       "      <td>0.914895</td>\n",
       "      <td>-0.248738</td>\n",
       "      <td>-0.646401</td>\n",
       "    </tr>\n",
       "    <tr>\n",
       "      <th>2018-11-19 19:45:00</th>\n",
       "      <td>0.062590</td>\n",
       "      <td>-0.185487</td>\n",
       "      <td>0.556424</td>\n",
       "      <td>-1.422630</td>\n",
       "    </tr>\n",
       "    <tr>\n",
       "      <th>2018-11-19 23:45:00</th>\n",
       "      <td>-0.627633</td>\n",
       "      <td>1.348372</td>\n",
       "      <td>0.622907</td>\n",
       "      <td>-0.620078</td>\n",
       "    </tr>\n",
       "    <tr>\n",
       "      <th>2018-11-19 20:45:00</th>\n",
       "      <td>-1.249051</td>\n",
       "      <td>-1.252840</td>\n",
       "      <td>0.646796</td>\n",
       "      <td>0.859532</td>\n",
       "    </tr>\n",
       "    <tr>\n",
       "      <th>2018-11-19 22:45:00</th>\n",
       "      <td>0.316238</td>\n",
       "      <td>-0.359495</td>\n",
       "      <td>0.747854</td>\n",
       "      <td>-1.553945</td>\n",
       "    </tr>\n",
       "    <tr>\n",
       "      <th>2018-11-19 16:45:00</th>\n",
       "      <td>-0.774763</td>\n",
       "      <td>-1.160682</td>\n",
       "      <td>0.902693</td>\n",
       "      <td>0.283060</td>\n",
       "    </tr>\n",
       "    <tr>\n",
       "      <th>2018-11-19 21:45:00</th>\n",
       "      <td>-1.138137</td>\n",
       "      <td>0.347142</td>\n",
       "      <td>0.956401</td>\n",
       "      <td>1.158590</td>\n",
       "    </tr>\n",
       "  </tbody>\n",
       "</table>\n",
       "</div>"
      ],
      "text/plain": [
       "                            A         B         C         D\n",
       "2018-11-19 14:45:00 -0.708083 -0.114159 -0.853287  0.139956\n",
       "2018-11-19 17:45:00 -1.042235  0.022226 -0.536958 -0.983041\n",
       "2018-11-19 18:45:00 -2.661153 -0.529436 -0.249016 -0.407574\n",
       "2018-11-19 15:45:00  0.630853  0.914895 -0.248738 -0.646401\n",
       "2018-11-19 19:45:00  0.062590 -0.185487  0.556424 -1.422630\n",
       "2018-11-19 23:45:00 -0.627633  1.348372  0.622907 -0.620078\n",
       "2018-11-19 20:45:00 -1.249051 -1.252840  0.646796  0.859532\n",
       "2018-11-19 22:45:00  0.316238 -0.359495  0.747854 -1.553945\n",
       "2018-11-19 16:45:00 -0.774763 -1.160682  0.902693  0.283060\n",
       "2018-11-19 21:45:00 -1.138137  0.347142  0.956401  1.158590"
      ]
     },
     "execution_count": 33,
     "metadata": {},
     "output_type": "execute_result"
    }
   ],
   "source": [
    "df.sort_values(by=\"C\")"
   ]
  },
  {
   "cell_type": "markdown",
   "metadata": {},
   "source": [
    "## Selection\n",
    "\n",
    "### Getting slices\n",
    "\n",
    "The following show how to get part of the DataFrame (i.e. not just the elements)"
   ]
  },
  {
   "cell_type": "code",
   "execution_count": null,
   "metadata": {},
   "outputs": [],
   "source": [
    "## standard and safe\n",
    "print (df['A'],'\\n')\n",
    "\n",
    "## equivalent but dangerous (imagine blank spaces in the name of the column..)\n",
    "print (df.A)"
   ]
  },
  {
   "cell_type": "code",
   "execution_count": null,
   "metadata": {},
   "outputs": [],
   "source": [
    "# selecting rows by counting\n",
    "print (df[0:3])\n",
    "\n",
    "# or by index\n",
    "print (df[\"2018-11-19 14:45:00\":\"2018-11-19 16:45:00\"])"
   ]
  },
  {
   "cell_type": "markdown",
   "metadata": {},
   "source": [
    "### Selection by label"
   ]
  },
  {
   "cell_type": "code",
   "execution_count": null,
   "metadata": {},
   "outputs": [],
   "source": [
    "# getting a cross section (part of the DataFrame) using a label\n",
    "df.loc[dates[0])"
   ]
  },
  {
   "cell_type": "code",
   "execution_count": null,
   "metadata": {},
   "outputs": [],
   "source": [
    "# selecting on a multi-axis by label:\n",
    "df.loc[:,['A','B']]"
   ]
  },
  {
   "cell_type": "code",
   "execution_count": null,
   "metadata": {},
   "outputs": [],
   "source": [
    "# showing label slicing, both endpoints are included:\n",
    "df.loc['2018-11-19 18:45:00':'2018-11-19 20:45:00',['A','B']]"
   ]
  },
  {
   "cell_type": "code",
   "execution_count": null,
   "metadata": {},
   "outputs": [],
   "source": [
    "# getting an individual element\n",
    "print (df.loc[dates[1],'A'])\n",
    "\n",
    "# equivalently\n",
    "print (df.at[dates[1],'A'])"
   ]
  },
  {
   "cell_type": "markdown",
   "metadata": {},
   "source": [
    "### Selecting by position"
   ]
  },
  {
   "cell_type": "code",
   "execution_count": null,
   "metadata": {},
   "outputs": [],
   "source": [
    "# select via the position of the passed integers:\n",
    "print (df.iloc[3],'\\n')\n",
    "\n",
    "# notation similar to numpy/python\n",
    "print (df.iloc[3:5,0:2])"
   ]
  },
  {
   "cell_type": "code",
   "execution_count": null,
   "metadata": {},
   "outputs": [],
   "source": [
    "# selecting raws 1,2 and 4 for columns 0 and 2\n",
    "df.iloc[[1,2,4],[0,2]]"
   ]
  },
  {
   "cell_type": "code",
   "execution_count": null,
   "metadata": {},
   "outputs": [],
   "source": [
    "# slicing rows explicitly\n",
    "print (df.iloc[1:3,:],'\\n')\n",
    "\n",
    "# slicing columns explicitly\n",
    "print (df.iloc[:,1:3])\n"
   ]
  },
  {
   "cell_type": "code",
   "execution_count": null,
   "metadata": {},
   "outputs": [],
   "source": [
    "# selecting an individual element by position\n",
    "df.iloc[1,1]\n",
    "df.iat[1,1]\n"
   ]
  },
  {
   "cell_type": "markdown",
   "metadata": {},
   "source": [
    "### Boolean index\n",
    "\n",
    "Very powerful way of filtering out data with certain features. Notation is very similar to numpy arrays."
   ]
  },
  {
   "cell_type": "code",
   "execution_count": null,
   "metadata": {},
   "outputs": [],
   "source": [
    "# Filter by a boolean condition on the values of a single column\n",
    "df[df['B'] > 0]"
   ]
  },
  {
   "cell_type": "code",
   "execution_count": null,
   "metadata": {},
   "outputs": [],
   "source": [
    "# Selecting on the basis of boolean conditions applied to the whole DataFrame\n",
    "df[df>0]\n",
    "\n",
    "# a DataFrame with the same shape is returned, with NaN's where condition is not met"
   ]
  },
  {
   "cell_type": "markdown",
   "metadata": {},
   "source": [
    "### Setting\n",
    "\n",
    "Combination of selection and setting of values"
   ]
  },
  {
   "cell_type": "code",
   "execution_count": null,
   "metadata": {},
   "outputs": [],
   "source": [
    "# setting values by label (same as by position)\n",
    "df.at[dates[0],'A'] = 0\n",
    "\n",
    "# setting and assigning a numpy array\n",
    "df.loc[:,'D'] = np.array([5] * len(df))\n",
    "\n",
    "# defining a brend new column\n",
    "df['E'] = np.arange(len(df))*0.5\n",
    "\n",
    "# defining a brend new column by means of a pd.Series: indexes must be the same!\n",
    "df['E prime'] = pd.Series(np.arange(len(df))*2, index=df.index)\n"
   ]
  },
  {
   "cell_type": "code",
   "execution_count": null,
   "metadata": {},
   "outputs": [],
   "source": [
    "def dcos(theta):\n",
    "    theta = theta*(np.pi/180)\n",
    "    return np.cos(theta)\n",
    " \n",
    "df['cosine'] = pd.Series(df[\"E\"].apply(dcos), index=df.index)\n",
    "df"
   ]
  },
  {
   "cell_type": "code",
   "execution_count": null,
   "metadata": {},
   "outputs": [],
   "source": [
    "# another example of global setting\n",
    "df2=df.copy()\n",
    "df2[df2>0] = -df2\n",
    "df2"
   ]
  },
  {
   "cell_type": "markdown",
   "metadata": {},
   "source": [
    "### Dropping\n",
    "\n",
    "N.B.: dropping doesn't act permanently on the DataFrame, i.e. to get that do :\n",
    "```python\n",
    "df = df.drop(....)\n",
    "```"
   ]
  },
  {
   "cell_type": "code",
   "execution_count": null,
   "metadata": {},
   "outputs": [],
   "source": [
    "# Dropping by column\n",
    "df.drop(['E prime'], axis=1)\n",
    "\n",
    "#which is equivalent to\n",
    "df.drop(columns=['E prime'])"
   ]
  },
  {
   "cell_type": "code",
   "execution_count": null,
   "metadata": {},
   "outputs": [],
   "source": [
    "# Dropping by raws\n",
    "# save and always working\n",
    "df.drop(df.index[[1,2,3,4]])"
   ]
  },
  {
   "cell_type": "code",
   "execution_count": null,
   "metadata": {},
   "outputs": [],
   "source": [
    "# something like df.drop('index_name') \n",
    "# would work but the type of index must be specificed, \n",
    "# in particular with DatetimeIndex\n",
    "df.drop(pd.to_datetime(\"2018-11-19 22:45:00\"))"
   ]
  },
  {
   "cell_type": "markdown",
   "metadata": {},
   "source": [
    "## Missing data\n",
    "\n",
    "pandas primarily uses the value np.nan to represent missing data. It is by default not included in computations."
   ]
  },
  {
   "cell_type": "code",
   "execution_count": null,
   "metadata": {},
   "outputs": [],
   "source": [
    "df_wNan = df[df>0]\n",
    "df_wNan"
   ]
  },
  {
   "cell_type": "code",
   "execution_count": null,
   "metadata": {},
   "outputs": [],
   "source": [
    "# dropping raws with at least a Nan\n",
    "df_wNan.dropna(how='any')"
   ]
  },
  {
   "cell_type": "code",
   "execution_count": null,
   "metadata": {},
   "outputs": [],
   "source": [
    "# getting a mask\n",
    "df_wNan.isna()\n",
    "#df_wNan.notna()"
   ]
  },
  {
   "cell_type": "code",
   "execution_count": null,
   "metadata": {},
   "outputs": [],
   "source": [
    "# filling missing data\n",
    "df_wNan.fillna(value=0)"
   ]
  },
  {
   "cell_type": "markdown",
   "metadata": {},
   "source": [
    "Fill gaps forward or backward by propagating non-NA values forward or backward:"
   ]
  },
  {
   "cell_type": "code",
   "execution_count": null,
   "metadata": {},
   "outputs": [],
   "source": [
    "df_wNan.fillna(method='pad')"
   ]
  },
  {
   "cell_type": "markdown",
   "metadata": {},
   "source": [
    "## Operations\n",
    "\n",
    "Here comes the most relevant advantage of DataFrame. Operations on columns are extremly fast, almost as fast as the actual operation between elements in a raw"
   ]
  },
  {
   "cell_type": "code",
   "execution_count": null,
   "metadata": {},
   "outputs": [],
   "source": [
    "# Some statistics (mean() just as an example)\n",
    "# raws\n",
    "print (df.mean(axis=0),'\\n')\n",
    "# columns\n",
    "print (df.mean(axis=1),'\\n')"
   ]
  },
  {
   "cell_type": "code",
   "execution_count": null,
   "metadata": {},
   "outputs": [],
   "source": [
    "# global operations on columns\n",
    "df.apply(np.cumsum)"
   ]
  },
  {
   "cell_type": "code",
   "execution_count": null,
   "metadata": {},
   "outputs": [],
   "source": [
    "df.apply(lambda x: x.max() - x.min())"
   ]
  },
  {
   "cell_type": "code",
   "execution_count": null,
   "metadata": {},
   "outputs": [],
   "source": [
    "# syntax is as usual similar to that of numpy arrays\n",
    "df['A']+df['B']"
   ]
  },
  {
   "cell_type": "markdown",
   "metadata": {},
   "source": [
    "Let's play it hard and load (in memory) a (relatively) large dataset"
   ]
  },
  {
   "cell_type": "code",
   "execution_count": null,
   "metadata": {},
   "outputs": [],
   "source": [
    "file_name=\"/Users/mzanetti/data/LEMMA2018/DT/raw/data_000636.txt\"\n",
    "data=pd.read_csv(file_name)\n",
    "data"
   ]
  },
  {
   "cell_type": "markdown",
   "metadata": {},
   "source": [
    "Let's know do some operations among (elements of) columns"
   ]
  },
  {
   "cell_type": "code",
   "execution_count": null,
   "metadata": {},
   "outputs": [],
   "source": [
    "# the one-liner killing it all\n",
    "data['timens']=data['TDC_MEAS']*25/30+data['BX_COUNTER']*25"
   ]
  },
  {
   "cell_type": "code",
   "execution_count": null,
   "metadata": {},
   "outputs": [],
   "source": [
    "# the old slooow way\n",
    "def conversion(data):\n",
    "    result=[]\n",
    "    for i in range(len(data)): \n",
    "        result.append(data.loc[data.index[i],'TDC_MEAS']*25/30.+data.loc[data.index[i],'BX_COUNTER']*25)\n",
    "    return result\n",
    "\n",
    "data['timens']=conversion(data)"
   ]
  },
  {
   "cell_type": "markdown",
   "metadata": {},
   "source": [
    "## Merge\n",
    "\n",
    "pandas provides various facilities for easily combining together Series, DataFrame, and Panel objects with various kinds of set logic for the indexes and relational algebra functionality in the case of join / merge-type operations.\n",
    "\n",
    "### Concat\n",
    "\n",
    "concatenation (adding raws) is straightforward\n"
   ]
  },
  {
   "cell_type": "code",
   "execution_count": null,
   "metadata": {},
   "outputs": [],
   "source": [
    "rdf = pd.DataFrame(np.random.randn(10, 4))\n",
    "rdf"
   ]
  },
  {
   "cell_type": "code",
   "execution_count": null,
   "metadata": {},
   "outputs": [],
   "source": [
    "# divide it into pieaces raw-wise\n",
    "pieces = [rdf[:3], rdf[3:7], rdf[7:]]\n",
    "pieces"
   ]
  },
  {
   "cell_type": "code",
   "execution_count": null,
   "metadata": {},
   "outputs": [],
   "source": [
    "# put it back together\n",
    "pd.concat(pieces)\n",
    "\n",
    "# indexes can be ignored\n",
    "#pd.concat(pieces, ignore_index=True)\n",
    "\n",
    "# in case of dimension mismatch, Nan are added where needed"
   ]
  },
  {
   "cell_type": "code",
   "execution_count": null,
   "metadata": {},
   "outputs": [],
   "source": [
    "# appending a single raw (as a Series)\n",
    "s = rdf.iloc[3]\n",
    "rdf.append(s, ignore_index=True)\n"
   ]
  },
  {
   "cell_type": "markdown",
   "metadata": {},
   "source": [
    "### Merge/Join\n",
    "\n",
    "SQL like operations on table can be performed on DataFrames. This is all rather sophisticated, refer to the [doc](https://pandas.pydata.org/pandas-docs/stable/merging.html#merging) for more info/examples"
   ]
  },
  {
   "cell_type": "code",
   "execution_count": null,
   "metadata": {},
   "outputs": [],
   "source": [
    "left = pd.DataFrame({'key': ['foo', 'bar'], 'lval': [1, 2]})\n",
    "right = pd.DataFrame({'key': ['foo', 'bar'], 'rval': [4, 5]})\n",
    "\n",
    "pd.merge(left,right,on=\"key\")"
   ]
  },
  {
   "cell_type": "markdown",
   "metadata": {},
   "source": [
    "## Grouping\n",
    "\n",
    "By “group by” we are referring to a process involving one or more of the following steps:\n",
    "\n",
    "* Splitting the data into groups based on some criteria\n",
    "* Applying a function to each group independently\n",
    "* Combining the results into a data structure\n"
   ]
  },
  {
   "cell_type": "code",
   "execution_count": null,
   "metadata": {},
   "outputs": [],
   "source": [
    "gdf = pd.DataFrame({'A' : ['foo', 'bar', 'foo', 'bar',\n",
    "                          'foo', 'bar', 'foo', 'foo'],\n",
    "                    'B' : ['one', 'one', 'two', 'three',\n",
    "                           'two', 'two', 'one', 'three'],\n",
    "                    'C' : np.random.randn(8),\n",
    "                    'D' : np.random.randn(8)})\n",
    "gdf"
   ]
  },
  {
   "cell_type": "code",
   "execution_count": null,
   "metadata": {},
   "outputs": [],
   "source": [
    "# Grouping and then applying the sum() \n",
    "# function to the resulting groups (effective only where number are there).\n",
    "gdf.groupby('A').sum()"
   ]
  },
  {
   "cell_type": "markdown",
   "metadata": {},
   "source": [
    "## Multi-indexing\n",
    "\n",
    "\n",
    "Hierarchical / Multi-level indexing allows sophisticated data analysis on higher dimensional data. In essence, it enables you to store and manipulate data with an arbitrary number of dimensions in lower dimensional data structures like Series (1d) and DataFrame (2d)."
   ]
  },
  {
   "cell_type": "code",
   "execution_count": null,
   "metadata": {},
   "outputs": [],
   "source": [
    "tuples = list(zip(['bar', 'bar', 'baz', 'baz', 'foo', 'foo', 'qux', 'qux'],\n",
    "          ['one', 'two', 'one', 'two', 'one', 'two', 'one', 'two']))\n",
    "multi_index = pd.MultiIndex.from_tuples(tuples, names=['first', 'second'])\n",
    "print (index,'\\n')\n",
    "\n",
    "s = pd.Series(np.random.randn(8), index=multi_index)\n",
    "print (s)\n"
   ]
  },
  {
   "cell_type": "code",
   "execution_count": null,
   "metadata": {},
   "outputs": [],
   "source": [
    "# it enables further features of the groupby method,\n",
    "# e.g. when group-by by multiple columns\n",
    "gdf.groupby(['A','B']).sum()"
   ]
  },
  {
   "cell_type": "code",
   "execution_count": null,
   "metadata": {},
   "outputs": [],
   "source": [
    "# stack() method “compresses” a level in the DataFrame’s columns\n",
    "gdf.groupby(['A','B']).sum().stack()"
   ]
  },
  {
   "cell_type": "markdown",
   "metadata": {},
   "source": [
    "## Plotting\n",
    "\n",
    "Just a preview, more on the next lab class!"
   ]
  },
  {
   "cell_type": "code",
   "execution_count": null,
   "metadata": {},
   "outputs": [],
   "source": [
    "ts = pd.Series(np.random.randn(1000), index=pd.date_range('1/1/2000', periods=1000))\n",
    "ts.cumsum().plot()"
   ]
  },
  {
   "cell_type": "code",
   "execution_count": null,
   "metadata": {},
   "outputs": [],
   "source": [
    "pdf=pd.DataFrame(np.random.randn(1000, 4), index=ts.index,columns=['A', 'B', 'C', 'D'])\n",
    "df = df.cumsum()\n",
    "plt.figure(); df.plot(); plt.legend(loc='best')"
   ]
  },
  {
   "cell_type": "code",
   "execution_count": null,
   "metadata": {},
   "outputs": [],
   "source": []
  }
 ],
 "metadata": {
  "kernelspec": {
   "display_name": "Python 3",
   "language": "python",
   "name": "python3"
  },
  "language_info": {
   "codemirror_mode": {
    "name": "ipython",
    "version": 3
   },
   "file_extension": ".py",
   "mimetype": "text/x-python",
   "name": "python",
   "nbconvert_exporter": "python",
   "pygments_lexer": "ipython3",
   "version": "3.7.0"
  }
 },
 "nbformat": 4,
 "nbformat_minor": 2
}
