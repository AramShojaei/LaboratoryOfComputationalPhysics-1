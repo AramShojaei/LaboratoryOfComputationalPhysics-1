{
 "cells": [
  {
   "cell_type": "code",
   "execution_count": 1,
   "metadata": {},
   "outputs": [],
   "source": [
    "import numpy as np\n",
    "import pandas as pd\n",
    "import scipy as sp\n",
    "from scipy import stats\n",
    "\n",
    "import matplotlib.pyplot as plt\n",
    "import seaborn as sns\n",
    "%matplotlib inline"
   ]
  },
  {
   "cell_type": "markdown",
   "metadata": {},
   "source": [
    "1\\. **Radioactive decay chain**\n",
    "\n",
    "${\\rm Tl}^{208}$ decays to ${\\rm Pb}^{208}$ with a half-lieve of 3.052 minutes. Suppose to start with a sample of 1000 Thallium atoms and 0 of Lead atoms.\n",
    "\n",
    "* Take steps in time of 1 second and at each time-step decide whether each Tl atom has decayed or not, accordingly to the probability $p(t)=1-2^{-t/\\tau}$. Subtract the total number of Tl atoms that decayed at each step from the Tl sample and add them to the Lead one. Plot the evolution of the two sets as a function of time  \n",
    "* Repeat the exercise by means of the inverse transform method: draw 1000 random numbers from the non-uniform probability distribution $p(t)=2^{-t/\\tau}\\frac{\\ln 2}{\\tau}$ to represent the times of decay of the 1000 Tl atoms. Make a plot showing the number of atoms that have not decayed as a function of time"
   ]
  },
  {
   "cell_type": "code",
   "execution_count": 3,
   "metadata": {},
   "outputs": [],
   "source": [
    "#help(stats.expon)\n",
    "#help(np.random.random)"
   ]
  },
  {
   "cell_type": "code",
   "execution_count": 14,
   "metadata": {},
   "outputs": [
    {
     "name": "stdout",
     "output_type": "stream",
     "text": [
      "T half = 183.12\n",
      "\n",
      "tau = 264.186315887587\n",
      "\n",
      "Number of steps considered = 1000\n",
      "\n"
     ]
    }
   ],
   "source": [
    "T_half = 3.052*60\n",
    "print('T half = {}\\n'.format(T_half))\n",
    "tau = T_half / np.log(2)\n",
    "print('tau = {}\\n'.format(tau))\n",
    "N = 1000\n",
    "tot_time = 1000\n",
    "print('Number of steps considered = {}\\n'.format(tot_time))\n",
    "Thallium = np.array([N for i in range(tot_time)])\n",
    "Lead = np.zeros(tot_time)\n",
    "\n",
    "def p(t):\n",
    "    return np.exp(-t/tau)\n",
    "\n",
    "def cum_p(t):\n",
    "    return 1 - np.exp(-t/tau)\n",
    "\n",
    "def ITM(z):\n",
    "    return -tau*np.log(1-z)\n",
    "    "
   ]
  },
  {
   "cell_type": "code",
   "execution_count": 15,
   "metadata": {},
   "outputs": [],
   "source": [
    "Thallium = np.array([N for i in range(tot_time)])\n",
    "Lead = np.zeros(tot_time)\n",
    "\n",
    "for i in range(tot_time-1):\n",
    "    decays = 0\n",
    "    for j in range(Thallium[i]):\n",
    "        u1 = np.random.random()\n",
    "        if u1 < cum_p(1):\n",
    "            decays = decays + 1\n",
    "        else:\n",
    "            continue\n",
    "            \n",
    "    Thallium[i+1] = Thallium[i] - decays\n",
    "    Lead[i+1] = Lead[i] + decays"
   ]
  },
  {
   "cell_type": "code",
   "execution_count": 16,
   "metadata": {},
   "outputs": [
    {
     "data": {
      "text/plain": [
       "<matplotlib.legend.Legend at 0x7f3f67392d68>"
      ]
     },
     "execution_count": 16,
     "metadata": {},
     "output_type": "execute_result"
    },
    {
     "data": {
      "image/png": "[encoded data removed]",
      "text/plain": [
       "<Figure size 432x288 with 1 Axes>"
      ]
     },
     "metadata": {
      "needs_background": "light"
     },
     "output_type": "display_data"
    }
   ],
   "source": [
    "times = np.array([i for i in range(tot_time)])\n",
    "ITM_times = ITM(np.random.random(1000))\n",
    "plt.plot(times, Thallium, '.r', label = 'Thallium')\n",
    "plt.plot(times, Lead, '.b', label = 'Lead')\n",
    "plt.hist(ITM_times, range = (0,tot_time), bins = 100, cumulative = -1)\n",
    "plt.legend()"
   ]
  },
  {
   "cell_type": "markdown",
   "metadata": {},
   "source": [
    "2\\. **Rutherford Scattering**\n",
    "\n",
    "The scattering angle $\\theta$ of $\\alpha$ particles hitting a positively charged nucleus of a Gold atom ($Z=79$) follows the rule:\n",
    "\n",
    "$$\n",
    "\\tan{\\frac{1}{2} \\theta} = \\frac{Z e^2} {2\\pi \\epsilon_0 E b}\n",
    "$$\n",
    "\n",
    "where $E=7.7$ MeV and $b$ beam is the impact parameter. The beam is represented by a 2D gaussian distribution with $\\sigma=a_0/100$ for both coordinates ($a_0$ being the Bohr radius). Assume 1 million $\\alpha$ particles are shot on the gold atom.\n",
    "\n",
    "Computing the fraction of particles that \"bounce back\",i.e. those particle whose scattering angle is greater than $\\pi/2$ (which set a condition on the impact parameter $b$)"
   ]
  },
  {
   "cell_type": "markdown",
   "metadata": {},
   "source": [
    "Condition b < C for scattering angle > $\\frac{\\pi}{2}$, with $C = \\frac{Z e^2} {2\\pi \\epsilon_0 E }$"
   ]
  },
  {
   "cell_type": "code",
   "execution_count": 17,
   "metadata": {},
   "outputs": [],
   "source": [
    "from scipy.stats import norm"
   ]
  },
  {
   "cell_type": "code",
   "execution_count": 32,
   "metadata": {},
   "outputs": [],
   "source": [
    "# units expressed in 10^-14 m\n",
    "C = 2.95\n",
    "a0 = 5292\n",
    "sigma = a0 / 100\n",
    "\n",
    "def b(z):\n",
    "    return sp.sqrt(-2*sigma**2 *sp.log(1-z))\n"
   ]
  },
  {
   "cell_type": "code",
   "execution_count": 33,
   "metadata": {},
   "outputs": [
    {
     "data": {
      "image/png": "[encoded data removed]",
      "text/plain": [
       "<Figure size 432x288 with 1 Axes>"
      ]
     },
     "metadata": {
      "needs_background": "light"
     },
     "output_type": "display_data"
    }
   ],
   "source": [
    "N = 10000\n",
    "z = np.random.random(N)\n",
    "bs = b(z)\n",
    "plt.hist(bs, bins = 100, cumulative = -1)\n",
    "plt.axvline(C, color = 'red')\n",
    "plt.show()"
   ]
  },
  {
   "cell_type": "code",
   "execution_count": 38,
   "metadata": {},
   "outputs": [
    {
     "name": "stdout",
     "output_type": "stream",
     "text": [
      "Percentage of alpha particles back-scattered: 1.8 %\n"
     ]
    }
   ],
   "source": [
    "back_scattered = bs[bs < C]\n",
    "fraction = len(back_scattered)/N\n",
    "print('Percentage of alpha particles back-scattered: {} %'.format(round(fraction*100,2)))"
   ]
  },
  {
   "cell_type": "markdown",
   "metadata": {},
   "source": [
    "3\\. **Monte Carlo integration: hit/miss vs mean value method**\n",
    "\n",
    "Consider the function \n",
    "\n",
    "$$f(x) =\\sin^2{\\frac{1}{x(2-x)}}$$\n",
    "\n",
    "* Compute the integral of $f(x)$ between 0 and 2 with the hit/miss method. Evaluate the error of your estimate\n",
    "* Repeat the integral with the mean value method. Evaluate the error and compare it with the previous one"
   ]
  },
  {
   "cell_type": "code",
   "execution_count": 11,
   "metadata": {},
   "outputs": [],
   "source": [
    "def f(x):\n",
    "    return sp.sin(1/(x*(x-2)))**2"
   ]
  },
  {
   "cell_type": "code",
   "execution_count": 12,
   "metadata": {},
   "outputs": [
    {
     "data": {
      "text/plain": [
       "[<matplotlib.lines.Line2D at 0x7f373287f3c8>]"
      ]
     },
     "execution_count": 12,
     "metadata": {},
     "output_type": "execute_result"
    },
    {
     "data": {
      "image/png": "[encoded data removed]",
      "text/plain": [
       "<Figure size 432x288 with 1 Axes>"
      ]
     },
     "metadata": {
      "needs_background": "light"
     },
     "output_type": "display_data"
    }
   ],
   "source": [
    "x=np.linspace(0.001,1.999,1000)\n",
    "plt.plot(x,f(x),'r-')"
   ]
  },
  {
   "cell_type": "code",
   "execution_count": 13,
   "metadata": {},
   "outputs": [
    {
     "name": "stdout",
     "output_type": "stream",
     "text": [
      "1.45134\n"
     ]
    }
   ],
   "source": [
    "# hit / miss method\n",
    "N = 100000\n",
    "count=0\n",
    "for i in range(N):\n",
    "    x=2*np.random.random()\n",
    "    y=np.random.random()\n",
    "    if y < f(x): \n",
    "        count+=1\n",
    "I=2*count/N\n",
    "print(I)"
   ]
  },
  {
   "cell_type": "code",
   "execution_count": 14,
   "metadata": {},
   "outputs": [
    {
     "name": "stdout",
     "output_type": "stream",
     "text": [
      "1.4505248141837437\n"
     ]
    }
   ],
   "source": [
    "# mean value method\n",
    "# I_mean = (b-a)*<f>\n",
    "b_a = 2\n",
    "fs = f(2*np.random.random(N))\n",
    "f_mean = fs.mean()\n",
    "I_mean = b_a * f_mean\n",
    "print(I_mean)"
   ]
  },
  {
   "cell_type": "code",
   "execution_count": 15,
   "metadata": {},
   "outputs": [
    {
     "name": "stdout",
     "output_type": "stream",
     "text": [
      "Help on built-in function random_sample:\n",
      "\n",
      "random_sample(...) method of mtrand.RandomState instance\n",
      "    random_sample(size=None)\n",
      "    \n",
      "    Return random floats in the half-open interval [0.0, 1.0).\n",
      "    \n",
      "    Results are from the \"continuous uniform\" distribution over the\n",
      "    stated interval.  To sample :math:`Unif[a, b), b > a` multiply\n",
      "    the output of `random_sample` by `(b-a)` and add `a`::\n",
      "    \n",
      "      (b - a) * random_sample() + a\n",
      "    \n",
      "    Parameters\n",
      "    ----------\n",
      "    size : int or tuple of ints, optional\n",
      "        Output shape.  If the given shape is, e.g., ``(m, n, k)``, then\n",
      "        ``m * n * k`` samples are drawn.  Default is None, in which case a\n",
      "        single value is returned.\n",
      "    \n",
      "    Returns\n",
      "    -------\n",
      "    out : float or ndarray of floats\n",
      "        Array of random floats of shape `size` (unless ``size=None``, in which\n",
      "        case a single float is returned).\n",
      "    \n",
      "    Examples\n",
      "    --------\n",
      "    >>> np.random.random_sample()\n",
      "    0.47108547995356098\n",
      "    >>> type(np.random.random_sample())\n",
      "    <type 'float'>\n",
      "    >>> np.random.random_sample((5,))\n",
      "    array([ 0.30220482,  0.86820401,  0.1654503 ,  0.11659149,  0.54323428])\n",
      "    \n",
      "    Three-by-two array of random numbers from [-5, 0):\n",
      "    \n",
      "    >>> 5 * np.random.random_sample((3, 2)) - 5\n",
      "    array([[-3.99149989, -0.52338984],\n",
      "           [-2.99091858, -0.79479508],\n",
      "           [-1.23204345, -1.75224494]])\n",
      "\n"
     ]
    }
   ],
   "source": [
    "help(np.random.random)"
   ]
  },
  {
   "cell_type": "code",
   "execution_count": 16,
   "metadata": {},
   "outputs": [],
   "source": [
    "def hit_miss_integral(func, a = 0, b = 1, M = 1, m = 0, N = 10000):\n",
    "    count=0\n",
    "    for i in range(N):\n",
    "        # uniform distribution over [a,b)\n",
    "        x=(b-a)*np.random.random() + a\n",
    "        # uniform distribution over [0,h), M > max(f([a,b])), m < min(f([a,b])) (or equal)\n",
    "        y= (M-m)*np.random.random() + m\n",
    "        if y < f(x): \n",
    "            count+=1\n",
    "    I=(b-a)*(M-m)*count/N # Area A = (b-a)*(M-m)\n",
    "    return I"
   ]
  },
  {
   "cell_type": "code",
   "execution_count": 18,
   "metadata": {},
   "outputs": [
    {
     "name": "stdout",
     "output_type": "stream",
     "text": [
      "43.6 ms ± 1.87 ms per loop (mean ± std. dev. of 7 runs, 10 loops each)\n"
     ]
    }
   ],
   "source": [
    "%timeit hit_miss_integral(f, b = 2)"
   ]
  },
  {
   "cell_type": "code",
   "execution_count": 17,
   "metadata": {},
   "outputs": [
    {
     "name": "stdout",
     "output_type": "stream",
     "text": [
      "1.4444\n"
     ]
    }
   ],
   "source": [
    "print(hit_miss_integral(f, b = 2))"
   ]
  },
  {
   "cell_type": "code",
   "execution_count": 19,
   "metadata": {},
   "outputs": [],
   "source": [
    "def mean_value_integral(f, a = 0, b = 1, N = 10000):\n",
    "    x = (b-a)*np.random.random(N) + a\n",
    "    fs = f(x)\n",
    "    f_mean = fs.mean()\n",
    "    I_mean = (b-a) * f_mean\n",
    "    return I_mean"
   ]
  },
  {
   "cell_type": "code",
   "execution_count": 20,
   "metadata": {},
   "outputs": [
    {
     "name": "stdout",
     "output_type": "stream",
     "text": [
      "1.4426722748162886\n"
     ]
    }
   ],
   "source": [
    "print(mean_value_integral(f, b=2))"
   ]
  },
  {
   "cell_type": "code",
   "execution_count": 23,
   "metadata": {},
   "outputs": [
    {
     "name": "stdout",
     "output_type": "stream",
     "text": [
      "Result for N = 10000 : 1.450 \n",
      "\n",
      "Result for N = 20000 : 1.447 \n",
      "\n",
      "Result for N = 30000 : 1.451 \n",
      "\n",
      "Result for N = 40000 : 1.464 \n",
      "\n",
      "Result for N = 50000 : 1.456 \n",
      "\n",
      "Result for N = 60000 : 1.451 \n",
      "\n",
      "Result for N = 70000 : 1.453 \n",
      "\n",
      "Result for N = 80000 : 1.448 \n",
      "\n",
      "Result for N = 90000 : 1.455 \n",
      "\n"
     ]
    }
   ],
   "source": [
    "for N in range(10000,100000, 10000):\n",
    "    print('Result for N = {} : %.3f \\n'.format(N) %mean_value_integral(f, b=2))"
   ]
  },
  {
   "cell_type": "code",
   "execution_count": 25,
   "metadata": {},
   "outputs": [
    {
     "name": "stdout",
     "output_type": "stream",
     "text": [
      "322 µs ± 20.5 µs per loop (mean ± std. dev. of 7 runs, 1000 loops each)\n"
     ]
    }
   ],
   "source": [
    "# much faster method!!\n",
    "%timeit  mean_value_integral(f, b = 2)"
   ]
  },
  {
   "cell_type": "markdown",
   "metadata": {},
   "source": [
    "4\\. **Monte Carlo integration in high dimension**\n",
    "\n",
    "* Start of by computing the area of a circle of unit radius, by integrating the function \n",
    "\n",
    "$$\n",
    "f(x,y)=\n",
    "\\left\\{\n",
    "\\begin{array}{ll}\n",
    "      1 & x^2+y^2\\le 1 \\\\\n",
    "      0 & {\\rm elsewhere}\n",
    "\\end{array} \n",
    "\\right.\n",
    "$$\n",
    "\n",
    "* Generalize the result for a 10D sphere\n",
    "\n"
   ]
  },
  {
   "cell_type": "code",
   "execution_count": 41,
   "metadata": {},
   "outputs": [],
   "source": [
    "import math\n",
    "\n",
    "def area(d = 2, N = 10000):\n",
    "    # hit-miss method\n",
    "    # consider a square [-1,1]x[-1,1] <=> consider 4 times the result of integration on [0,1]x[0,1]\n",
    "    x = np.random.random((d,N))\n",
    "    r_squared = np.zeros(N)\n",
    "    for i in range(d):\n",
    "        r_squared = r_squared + x[i]**2 \n",
    "    mask = (r_squared < 1)\n",
    "    r_squared = r_squared[mask]\n",
    "    hits = len(r_squared)\n",
    "    # the d-dimensional cube has always area (or volume) = 1\n",
    "    I = hits/N * 2**d\n",
    "    return I"
   ]
  },
  {
   "cell_type": "code",
   "execution_count": 48,
   "metadata": {},
   "outputs": [
    {
     "name": "stdout",
     "output_type": "stream",
     "text": [
      "4.1184\n",
      "4.1887902047863905\n",
      "2.2528\n",
      "2.5122816\n"
     ]
    }
   ],
   "source": [
    "print(area(d = 3))\n",
    "print(4/3*math.pi)\n",
    "print(area(d = 10))\n",
    "# more dimensions => more data needed to estimate correctly the integral\n",
    "print(area(d = 10, N = 10000000))"
   ]
  },
  {
   "cell_type": "markdown",
   "metadata": {},
   "source": [
    "5\\. **Monte Carlo integration with importance sampling** \n",
    "\n",
    "Calculate the value of the integral:\n",
    "\n",
    "$$\n",
    "I=\\int_0^1 \\frac{x^{-1/2}}{e^x+1} dx\n",
    "$$\n",
    "\n",
    "using the importance sampling method with $w(x)=1/\\sqrt{x}$. You should get a result about 0.84"
   ]
  },
  {
   "cell_type": "code",
   "execution_count": 100,
   "metadata": {},
   "outputs": [],
   "source": [
    "def f1(x):\n",
    "    return 1/(np.sqrt(x)*(np.exp(x) + 1))\n",
    "\n",
    "def w(x):\n",
    "    return 1/np.sqrt(x)\n",
    "\n",
    "# f/w\n",
    "def g(x):\n",
    "    return 1/(np.exp(x) + 1)"
   ]
  },
  {
   "cell_type": "code",
   "execution_count": 109,
   "metadata": {},
   "outputs": [
    {
     "name": "stdout",
     "output_type": "stream",
     "text": [
      "0.8388033086919968\n"
     ]
    }
   ],
   "source": [
    "N = 1000000\n",
    "# no importance sampling\n",
    "I = mean_value_integral(f1, a = 0, b = 1, N = N)\n",
    "print(I)"
   ]
  },
  {
   "cell_type": "code",
   "execution_count": 110,
   "metadata": {},
   "outputs": [],
   "source": [
    "# importance sampling\n",
    "def importance_sampling_integral(func, weight, a = 0, b = 1, N = 10000):\n",
    "    x = (b-a)*np.random.random(N) + a\n",
    "    g = func(x)/weight(x)\n",
    "    g_mean = g.mean()\n",
    "    print('f/w mean : ', g_mean)\n",
    "    mv_int = mean_value_integral(weight, a = 0, b = 1, N = N)\n",
    "    I_mean = g_mean * mv_int\n",
    "    print('Integral of w between a and b : ', mv_int)\n",
    "    return I_mean"
   ]
  },
  {
   "cell_type": "code",
   "execution_count": 111,
   "metadata": {},
   "outputs": [
    {
     "name": "stdout",
     "output_type": "stream",
     "text": [
      "f/w mean :  0.37994662420610864\n",
      "Integral of w between a and b :  2.002805646137922\n",
      "0.7609592441910376\n"
     ]
    }
   ],
   "source": [
    "N = 1000000\n",
    "# with importance sampling\n",
    "I1 = importance_sampling_integral(f1, w, a = 0, b = 1, N = N)\n",
    "print(I1)"
   ]
  },
  {
   "cell_type": "code",
   "execution_count": 116,
   "metadata": {},
   "outputs": [],
   "source": [
    "def w_uniform(x):\n",
    "    return x/x"
   ]
  },
  {
   "cell_type": "code",
   "execution_count": 117,
   "metadata": {},
   "outputs": [
    {
     "name": "stdout",
     "output_type": "stream",
     "text": [
      "f/w mean :  0.8401791416456407\n",
      "Integral of w between a and b :  1.0\n",
      "0.8401791416456407\n"
     ]
    }
   ],
   "source": [
    "N = 1000000\n",
    "# with importance sampling\n",
    "I1 = importance_sampling_integral(f1, w_uniform, a = 0, b = 1, N = N)\n",
    "print(I1)"
   ]
  }
 ],
 "metadata": {
  "kernelspec": {
   "display_name": "Python 3",
   "language": "python",
   "name": "python3"
  },
  "language_info": {
   "codemirror_mode": {
    "name": "ipython",
    "version": 3
   },
   "file_extension": ".py",
   "mimetype": "text/x-python",
   "name": "python",
   "nbconvert_exporter": "python",
   "pygments_lexer": "ipython3",
   "version": "3.7.0"
  }
 },
 "nbformat": 4,
 "nbformat_minor": 2
}
