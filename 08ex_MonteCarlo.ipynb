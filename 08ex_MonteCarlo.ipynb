{
 "cells": [
  {
   "cell_type": "code",
   "execution_count": null,
   "metadata": {},
   "outputs": [],
   "source": [
    "import numpy as np\n",
    "import pandas as pd\n",
    "from scipy import stats\n",
    "import numpy.random as rnd\n",
    "\n",
    "import matplotlib.pyplot as plt\n",
    "import seaborn as sns\n",
    "%matplotlib inline\n",
    "%precision 3"
   ]
  },
  {
   "cell_type": "markdown",
   "metadata": {},
   "source": [
    "1\\. **Radioactive decay chain**\n",
    "\n",
    "${\\rm Tl}^{208}$ decays to ${\\rm Pb}^{208}$ with a half-lieve of 3.052 minutes. Suppose to start with a sample of 1000 Thallium atoms and 0 of Lead atoms.\n",
    "\n",
    "* Take steps in time of 1 second and at each time-step decide whether each Tl atom has decayed or not, accordingly to the probability $p(t)=1-2^{-t/\\tau}$. Subtract the total number of Tl atoms that decayed at each step from the Tl sample and add them to the Lead one. Plot the evolution of the two sets as a function of time  \n",
    "* Repeat the exercise by means of the inverse transform method: draw 1000 random numbers from the non-uniform probability distribution $p(t)=2^{-t/\\tau}\\frac{\\ln 2}{\\tau}$ to represent the times of decay of the 1000 Tl atoms. Make a plot showing the number of atoms that have not decayed as a function of time"
   ]
  },
  {
   "cell_type": "markdown",
   "metadata": {},
   "source": [
    "##### Answer 1)"
   ]
  },
  {
   "cell_type": "code",
   "execution_count": null,
   "metadata": {},
   "outputs": [],
   "source": [
    "tau = 3.052*60 \n",
    "TI_num = 1000.0\n",
    "Pb_num = 0.0\n",
    "\n",
    "# define the prob. distribution function:\n",
    "def prob(t):\n",
    "    a = 1 - (2**(-t/tau)) \n",
    "    return a\n",
    "t = 1 #TIME_STEP \n",
    "pb_list = []\n",
    "ti_list = []\n",
    "iteration = 200\n",
    "epsilon = 1e-3\n",
    "\n",
    "\n",
    "for i in range(iteration,t):\n",
    "    for i in range ():\n",
    "        a = rnd.rand.uniform(1,2)\n",
    "        if a <= p(i):\n",
    "        N[i] = 1000\n",
    "        M[i] = N - 1000\n",
    "    Pb_num = TI_num*prob(j) + Pb_num\n",
    "    TI_num = TI_num - TI_num*prob(j)\n",
    "    pb_list.append(Pb_num)\n",
    "    ti_list.append(TI_num)\n",
    "#print('\\nNumber of Thallium atoms\\n',ti_list,'\\n\\nNumber of Lead atoms\\n',pb_list)  \n",
    "\n",
    "# Plot the results\n",
    "lin = np.linspace(1,1000,iteration)\n",
    "plt.plot(lin,pb_list,lin,ti_list)\n",
    "plt.grid()\n",
    "plt.xlabel('Time-Steps')\n",
    "plt.ylabel('Number of Atoms')\n",
    "labels = ['Lead Atoms','Thiliam Atoms']\n",
    "plt.legend(labels)\n",
    "plt.show()\n"
   ]
  },
  {
   "cell_type": "markdown",
   "metadata": {},
   "source": [
    "2\\. **Rutherford Scattering**\n",
    "\n",
    "The scattering angle $\\theta$ of $\\alpha$ particles hitting a positively charged nucleus of a Gold atom ($Z=79$) follows the rule:\n",
    "\n",
    "$$\n",
    "\\tan{\\frac{1}{2} \\theta} = \\frac{Z e^2} {2\\pi \\epsilon_0 E b}\n",
    "$$\n",
    "\n",
    "where $E=7.7$ MeV and $b$ beam is the impact parameter. The beam is represented by a 2D gaussian distribution with $\\sigma=a_0/100$ for both coordinates ($a_0$ being the Bohr radius). Assume 1 million $\\alpha$ particles are shot on the gold atom.\n",
    "\n",
    "Computing the fraction of particles that \"bounce back\",i.e. those particle whose scattering angle is greater than $\\pi/2$ (which set a condition on the impact parameter $b$)"
   ]
  },
  {
   "cell_type": "markdown",
   "metadata": {},
   "source": [
    "##### Answer 2)"
   ]
  },
  {
   "cell_type": "code",
   "execution_count": null,
   "metadata": {},
   "outputs": [],
   "source": []
  },
  {
   "cell_type": "markdown",
   "metadata": {},
   "source": [
    "3\\. **Monte Carlo integration: hit/miss vs mean value method**\n",
    "\n",
    "Consider the function \n",
    "\n",
    "$$f(x) =\\sin^2{\\frac{1}{x(2-x)}}$$\n",
    "\n",
    "* Compute the integral of $f(x)$ between 0 and 2 with the hit/miss method. Evaluate the error of your estimate\n",
    "* Repeat the integral with the mean value method. Evaluate the error and compare it with the previous one"
   ]
  },
  {
   "cell_type": "code",
   "execution_count": null,
   "metadata": {},
   "outputs": [],
   "source": [
    "def f(x):\n",
    "    return (np.sin(1/(x*(2-x))))**2\n",
    "\n",
    "x=np.linspace(0.001,1.999,1000)\n",
    "plt.plot(x,f(x),'r-')\n",
    "plt.grid()\n",
    "plt.show()\n",
    "\n",
    "## hit/miss method\n",
    "## x = a + r1(b-a) , y = r2*f_max ===> N\n",
    "N=100000\n",
    "count=0\n",
    "for i in range(N):\n",
    "    x=2*np.random.random()\n",
    "    y=np.random.random()\n",
    "    if y<f(x): count+=1\n",
    "I=2*count/N\n",
    "print(\"Monte Carlo Integration = \",I)\n",
    "print(\"Error for Monte Carlo Method = \",1/np.sqrt(N)) ### it could be proved due to literature which sigma_M = sigma / sqrt(N)\n",
    "\n",
    "## Mean Value Method\n",
    "x2 = np.linspace(0.00001,1.99999,100000)\n",
    "y2 = np.sum(f(x2))\n",
    "I2 = 2*y2/N\n",
    "print(\"\\nMean Value Method = \",I2)\n",
    "print(\"Error for Mean value Method = \",1/np.sqrt(N))\n"
   ]
  },
  {
   "cell_type": "markdown",
   "metadata": {},
   "source": [
    "4\\. **Monte Carlo integration in high dimension**\n",
    "\n",
    "* Start of by computing the area of a circle of unit radius, by integrating the function \n",
    "\n",
    "$$\n",
    "f(x,y)=\n",
    "\\left\\{\n",
    "\\begin{array}{ll}\n",
    "      1 & x^2+y^2\\le 1 \\\\\n",
    "      0 & {\\rm elsewhere}\n",
    "\\end{array} \n",
    "\\right.\n",
    "$$\n",
    "\n",
    "* Generalize the result for a 10D sphere\n",
    "\n"
   ]
  },
  {
   "cell_type": "markdown",
   "metadata": {},
   "source": [
    "##### Answer 4)"
   ]
  },
  {
   "cell_type": "code",
   "execution_count": null,
   "metadata": {},
   "outputs": [],
   "source": [
    "def f(x,y):\n",
    "    return (x**2+y**2)\n",
    "\n",
    "N=100000\n",
    "count1=0\n",
    "for i in range(N):\n",
    "    x=np.random.random()\n",
    "    y=np.random.random()\n",
    "    if f(x,y)<=1: count1+=1\n",
    "I=4*count1/N\n",
    "print(\"Area of the Circle = \",I)\n",
    "\n",
    "\n",
    "## Generalize for 10D Sphere\n",
    "def fd(d):\n",
    "    a,b = 0,0\n",
    "    for i in range(d+1):\n",
    "        a = np.random.random()\n",
    "        a,b = b,a**2+b\n",
    "    return (a)\n",
    "\n",
    "## dummy Method\n",
    "def k(x1,x2,x3,x4,x5,x6,x7,x8,x9,x10):\n",
    "    return (x1**2+x2**2+x3**2+x4**2+x5**2+x6**2+x7**2+x8**2+x9**2+x10**2)\n",
    "\n",
    "N=100000\n",
    "count2=0\n",
    "for i in range(N):\n",
    "    if fd(d=10)<=1: count2+=1\n",
    "I1=(2**10)*count2/N\n",
    "print(\"Area of 10D Sphere = \",I1)\n",
    "\n",
    "## Dummy Method to check\n",
    "N=100000\n",
    "count3=0\n",
    "for i in range(N):\n",
    "    x1=np.random.random()\n",
    "    x2=np.random.random()\n",
    "    x3=np.random.random()\n",
    "    x4=np.random.random()\n",
    "    x5=np.random.random()\n",
    "    x6=np.random.random()\n",
    "    x7=np.random.random()\n",
    "    x8=np.random.random()\n",
    "    x9=np.random.random()\n",
    "    x10=np.random.random()\n",
    "    if k(x1,x2,x3,x4,x5,x6,x7,x8,x9,x10)<=1: count3+=1\n",
    "I2=(2**10)*count3/N\n",
    "print(\"Area of 10D Sphere = \",I2)"
   ]
  },
  {
   "cell_type": "markdown",
   "metadata": {},
   "source": [
    "5\\. **Monte Carlo integration with importance sampling** \n",
    "\n",
    "Calculate the value of the integral:\n",
    "\n",
    "$$\n",
    "I=\\int_0^1 \\frac{x^{-1/2}}{e^x+1} dx\n",
    "$$\n",
    "\n",
    "using the importance sampling method with $w(x)=1/\\sqrt{x}$. You should get a result about 0.84"
   ]
  },
  {
   "cell_type": "markdown",
   "metadata": {},
   "source": [
    "##### Answer 5)"
   ]
  },
  {
   "cell_type": "code",
   "execution_count": null,
   "metadata": {},
   "outputs": [],
   "source": [
    "def g(x):\n",
    "    return (x**(-(1/2))/(np.exp(x)+1))\n",
    "\n",
    "def w(x):\n",
    "    return (1/np.sqrt(x))\n",
    "\n",
    "N=100000\n",
    "count=0\n",
    "for i in range(N):\n",
    "    x=np.random.random()\n",
    "    y=w(0.000001)*np.random.random()\n",
    "    if y<w(x): count+=1\n",
    "I_w=w(0.000001)*count/N\n",
    "\n",
    "x2 = np.linspace(0.00001,0.99999,100000)\n",
    "I_g = np.sum(g(x2)/w(x2))\n",
    "I_importance = I_g*I_w*(1/N)\n",
    "print(\"result for Importance sampling method = \",I_importance)\n",
    "    \n"
   ]
  },
  {
   "cell_type": "code",
   "execution_count": null,
   "metadata": {},
   "outputs": [],
   "source": []
  }
 ],
 "metadata": {
  "kernelspec": {
   "display_name": "Python 3",
   "language": "python",
   "name": "python3"
  },
  "language_info": {
   "codemirror_mode": {
    "name": "ipython",
    "version": 3
   },
   "file_extension": ".py",
   "mimetype": "text/x-python",
   "name": "python",
   "nbconvert_exporter": "python",
   "pygments_lexer": "ipython3",
   "version": "3.7.1"
  }
 },
 "nbformat": 4,
 "nbformat_minor": 2
}
