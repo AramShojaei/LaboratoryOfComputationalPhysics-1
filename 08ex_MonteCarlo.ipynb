{
 "cells": [
  {
   "cell_type": "code",
   "execution_count": 1,
   "metadata": {},
   "outputs": [],
   "source": [
    "import numpy as np\n",
    "import pandas as pd\n",
    "from scipy import stats\n",
    "from numba import jit\n",
    "\n",
    "import matplotlib.pyplot as plt\n",
    "import seaborn as sns"
   ]
  },
  {
   "cell_type": "code",
   "execution_count": 2,
   "metadata": {},
   "outputs": [],
   "source": [
    "%matplotlib inline"
   ]
  },
  {
   "cell_type": "markdown",
   "metadata": {},
   "source": [
    "1\\. **Radioactive decay chain**\n",
    "\n",
    "${\\rm Tl}^{208}$ decays to ${\\rm Pb}^{208}$ with a half-lieve of 3.052 minutes. Suppose to start with a sample of 1000 Thallium atoms and 0 of Lead atoms.\n",
    "\n",
    "* Take steps in time of 1 second and at each time-step decide whether each Tl atom has decayed or not, accordingly to the probability $p(t)=1-2^{-t/\\tau}$. Subtract the total number of Tl atoms that decayed at each step from the Tl sample and add them to the Lead one. Plot the evolution of the two sets as a function of time  \n",
    "* Repeat the exercise by means of the inverse transform method: draw 1000 random numbers from the non-uniform probability distribution $p(t)=2^{-t/\\tau}\\frac{\\ln 2}{\\tau}$ to represent the times of decay of the 1000 Tl atoms. Make a plot showing the number of atoms that have not decayed as a function of time"
   ]
  },
  {
   "cell_type": "code",
   "execution_count": 16,
   "metadata": {},
   "outputs": [
    {
     "ename": "KeyboardInterrupt",
     "evalue": "",
     "output_type": "error",
     "traceback": [
      "\u001b[1;31m---------------------------------------------------------------------------\u001b[0m",
      "\u001b[1;31mKeyboardInterrupt\u001b[0m                         Traceback (most recent call last)",
      "\u001b[1;32m<ipython-input-16-5e97dc62651e>\u001b[0m in \u001b[0;36m<module>\u001b[1;34m()\u001b[0m\n\u001b[0;32m      9\u001b[0m \u001b[1;32mwhile\u001b[0m \u001b[0mnp\u001b[0m\u001b[1;33m.\u001b[0m\u001b[0msum\u001b[0m\u001b[1;33m(\u001b[0m\u001b[0mTl\u001b[0m\u001b[1;33m)\u001b[0m\u001b[1;33m>\u001b[0m\u001b[1;36m400\u001b[0m\u001b[1;33m:\u001b[0m\u001b[1;33m\u001b[0m\u001b[0m\n\u001b[0;32m     10\u001b[0m     \u001b[1;32mfor\u001b[0m \u001b[0mi\u001b[0m \u001b[1;32min\u001b[0m \u001b[0mrange\u001b[0m\u001b[1;33m(\u001b[0m\u001b[1;36m1000\u001b[0m\u001b[1;33m)\u001b[0m\u001b[1;33m:\u001b[0m\u001b[1;33m\u001b[0m\u001b[0m\n\u001b[1;32m---> 11\u001b[1;33m         \u001b[1;32mif\u001b[0m \u001b[0mnp\u001b[0m\u001b[1;33m.\u001b[0m\u001b[0mrandom\u001b[0m\u001b[1;33m.\u001b[0m\u001b[0mrandom\u001b[0m\u001b[1;33m(\u001b[0m\u001b[1;36m1\u001b[0m\u001b[1;33m)\u001b[0m\u001b[1;33m<\u001b[0m\u001b[0mp\u001b[0m\u001b[1;33m:\u001b[0m\u001b[1;33m\u001b[0m\u001b[0m\n\u001b[0m\u001b[0;32m     12\u001b[0m             \u001b[0mTl\u001b[0m\u001b[1;33m[\u001b[0m\u001b[0mi\u001b[0m\u001b[1;33m]\u001b[0m\u001b[1;33m=\u001b[0m\u001b[1;36m0\u001b[0m\u001b[1;33m\u001b[0m\u001b[0m\n\u001b[0;32m     13\u001b[0m             \u001b[0mPb\u001b[0m\u001b[1;33m[\u001b[0m\u001b[0mi\u001b[0m\u001b[1;33m]\u001b[0m\u001b[1;33m=\u001b[0m\u001b[1;36m1\u001b[0m\u001b[1;33m\u001b[0m\u001b[0m\n",
      "\u001b[1;31mKeyboardInterrupt\u001b[0m: "
     ]
    },
    {
     "data": {
      "image/png": "[encoded data removed]",
      "text/plain": [
       "<Figure size 432x288 with 1 Axes>"
      ]
     },
     "metadata": {},
     "output_type": "display_data"
    }
   ],
   "source": [
    "Tl=np.ones(1000)\n",
    "Pb=np.zeros(1000)\n",
    "t=0\n",
    "tau=3052*60\n",
    "\n",
    "p=1-2**(-1/tau)\n",
    "\n",
    "\n",
    "while np.sum(Tl)>400:\n",
    "    for i in range(1000):\n",
    "        if np.random.random(1)<p:\n",
    "            Tl[i]=0\n",
    "            Pb[i]=1\n",
    "    plt.plot(t,np.sum(Tl),'o',t,np.sum(Pb),'o')\n",
    "    #np.append(nTl,np.sum(Tl))\n",
    "    #np.append(nPb,np.sum(Pb))\n",
    "    t+=1\n"
   ]
  },
  {
   "cell_type": "code",
   "execution_count": 24,
   "metadata": {},
   "outputs": [
    {
     "ename": "KeyboardInterrupt",
     "evalue": "",
     "output_type": "error",
     "traceback": [
      "\u001b[1;31m---------------------------------------------------------------------------\u001b[0m",
      "\u001b[1;31mKeyboardInterrupt\u001b[0m                         Traceback (most recent call last)",
      "\u001b[1;32m<ipython-input-24-f79fb619eb94>\u001b[0m in \u001b[0;36m<module>\u001b[1;34m()\u001b[0m\n\u001b[0;32m     15\u001b[0m \u001b[1;32mwhile\u001b[0m \u001b[0mnTl\u001b[0m\u001b[1;33m[\u001b[0m\u001b[1;33m-\u001b[0m\u001b[1;36m1\u001b[0m\u001b[1;33m]\u001b[0m\u001b[1;33m>\u001b[0m\u001b[1;36m500\u001b[0m\u001b[1;33m:\u001b[0m\u001b[1;33m\u001b[0m\u001b[0m\n\u001b[0;32m     16\u001b[0m     \u001b[1;32mfor\u001b[0m \u001b[0mi\u001b[0m \u001b[1;32min\u001b[0m \u001b[0mnp\u001b[0m\u001b[1;33m.\u001b[0m\u001b[0marange\u001b[0m\u001b[1;33m(\u001b[0m\u001b[0mTl\u001b[0m\u001b[1;33m)\u001b[0m\u001b[1;33m:\u001b[0m\u001b[1;33m\u001b[0m\u001b[0m\n\u001b[1;32m---> 17\u001b[1;33m         \u001b[1;32mif\u001b[0m \u001b[0mnp\u001b[0m\u001b[1;33m.\u001b[0m\u001b[0mrandom\u001b[0m\u001b[1;33m.\u001b[0m\u001b[0mrandom\u001b[0m\u001b[1;33m(\u001b[0m\u001b[1;33m)\u001b[0m\u001b[1;33m<\u001b[0m\u001b[0mp\u001b[0m\u001b[1;33m:\u001b[0m\u001b[1;33m\u001b[0m\u001b[0m\n\u001b[0m\u001b[0;32m     18\u001b[0m             \u001b[0mTl\u001b[0m\u001b[1;33m-=\u001b[0m\u001b[1;36m1\u001b[0m\u001b[1;33m\u001b[0m\u001b[0m\n\u001b[0;32m     19\u001b[0m     \u001b[0mnTl\u001b[0m\u001b[1;33m=\u001b[0m\u001b[0mnp\u001b[0m\u001b[1;33m.\u001b[0m\u001b[0mappend\u001b[0m\u001b[1;33m(\u001b[0m\u001b[0mnTl\u001b[0m\u001b[1;33m,\u001b[0m\u001b[0mTl\u001b[0m\u001b[1;33m)\u001b[0m\u001b[1;33m\u001b[0m\u001b[0m\n",
      "\u001b[1;31mKeyboardInterrupt\u001b[0m: "
     ]
    }
   ],
   "source": [
    "Tl=1000\n",
    "Pb=0\n",
    "t=0\n",
    "tau=3052*60\n",
    "\n",
    "p=1-2**(-1/tau)\n",
    "\n",
    "\n",
    "nTl=np.array([])\n",
    "nPb=np.array([])\n",
    "\n",
    "nTl=np.append(nTl,1000)\n",
    "nPb=np.append(nPb,0)\n",
    "\n",
    "while nTl[-1]>500:\n",
    "    for i in np.arange(Tl):   \n",
    "        if np.random.random()<p:\n",
    "            Tl-=1\n",
    "    nTl=np.append(nTl,Tl)\n",
    "    nPb=np.append(nPb, 1000-Tl)\n",
    "    \n",
    "plt.plot(np.arange(len(nTl)),nTl,'o',np.arange(len(nPb)),nPb,'o')"
   ]
  },
  {
   "cell_type": "code",
   "execution_count": 25,
   "metadata": {},
   "outputs": [
    {
     "data": {
      "text/plain": [
       "[<matplotlib.lines.Line2D at 0x19544eb2048>,\n",
       " <matplotlib.lines.Line2D at 0x19544eb21d0>]"
      ]
     },
     "execution_count": 25,
     "metadata": {},
     "output_type": "execute_result"
    },
    {
     "data": {
      "image/png": "[encoded data removed]",
      "text/plain": [
       "<Figure size 432x288 with 1 Axes>"
      ]
     },
     "metadata": {},
     "output_type": "display_data"
    }
   ],
   "source": [
    "plt.plot(np.arange(len(nTl)),nTl,'o',np.arange(len(nPb)),nPb,'o')"
   ]
  },
  {
   "cell_type": "code",
   "execution_count": 65,
   "metadata": {},
   "outputs": [
    {
     "data": {
      "text/plain": [
       "[<matplotlib.lines.Line2D at 0x1954b608390>,\n",
       " <matplotlib.lines.Line2D at 0x1954b6084e0>]"
      ]
     },
     "execution_count": 65,
     "metadata": {},
     "output_type": "execute_result"
    },
    {
     "data": {
      "image/png": "[encoded data removed]",
      "text/plain": [
       "<Figure size 432x288 with 1 Axes>"
      ]
     },
     "metadata": {},
     "output_type": "display_data"
    }
   ],
   "source": [
    "#versione veloce\n",
    "\n",
    "\n",
    "@jit(nopython=True, parallel =True)\n",
    "def evolution(Ain, Bin, tau):\n",
    "    Ae=[]\n",
    "    Be=[]\n",
    "    A=Ain\n",
    "    B=0\n",
    "    while A>0:\n",
    "        for i in range(A):\n",
    "            if  np.random.rand()<1-2**(-1/tau):\n",
    "                A-=1\n",
    "                B+=1\n",
    "        Ae.append(A)\n",
    "        Be.append(B)\n",
    "    return Ae, Be\n",
    "\n",
    "\n",
    "Tl = 1000\n",
    "Pb = 0\n",
    "tau=3052*60\n",
    "\n",
    "T,P = evolution(Tl,Pb,tau)\n",
    "time = np.arange(len(T))\n",
    "plt.plot(time, T, time, P)"
   ]
  },
  {
   "cell_type": "markdown",
   "metadata": {},
   "source": [
    "Trovo la distribuzione comulativa a partire da $$p(t)=2^{-t/\\tau}\\frac{\\ln 2}{\\tau}$$.\n",
    "Ossia faccio $$\\int^{+\\infty}_{0}e^{-t\\cdot \\ln 2 /\\tau}\\frac{\\ln 2}{\\tau}=-e^{-t\\cdot \\ln 2 /\\tau}$$\n",
    "Quindi partendo da quest'ultima dove z è uniforme: $$z=-e^{-t\\cdot \\ln 2 /\\tau}$$\n",
    "La inverto e trovo la variabile distribuita come la distribuzione voluta: $$t=-\\frac{\\tau}{\\ln 2}\\cdot \\ln z$$"
   ]
  },
  {
   "cell_type": "code",
   "execution_count": 24,
   "metadata": {},
   "outputs": [
    {
     "data": {
      "text/plain": [
       "[<matplotlib.lines.Line2D at 0x2b44caf6a20>]"
      ]
     },
     "execution_count": 24,
     "metadata": {},
     "output_type": "execute_result"
    },
    {
     "data": {
      "image/png": "[encoded data removed]",
      "text/plain": [
       "<Figure size 864x576 with 1 Axes>"
      ]
     },
     "metadata": {},
     "output_type": "display_data"
    }
   ],
   "source": [
    "z=np.random.random(1000)\n",
    "t=np.array([])\n",
    "\n",
    "\n",
    "tau=3052*60\n",
    "for i in range(1000):\n",
    "    t=np.append(t,-tau*(np.log(z[i]))/np.log(2))\n",
    "    \n",
    "    \n",
    "    \n",
    "time=np.round(t)\n",
    "\n",
    "nTl=np.zeros(int(max(time))+1)\n",
    "c=1000\n",
    "\n",
    "for i in range(int(np.round(max(time)))+1):\n",
    "    if i in time:\n",
    "        cont=len(time[time==i])\n",
    "        c-=cont\n",
    "    nTl[i]=c\n",
    "\n",
    "    \n",
    "    \n",
    "fig, ax = plt.subplots(figsize=(12, 8))\n",
    "#ax.hist(t,histtype='step', bins=50, density=True, linewidth=2)\n",
    "ax.plot(np.arange(len(nTl)), nTl)"
   ]
  },
  {
   "cell_type": "markdown",
   "metadata": {},
   "source": [
    "2\\. **Rutherford Scattering**\n",
    "\n",
    "The scattering angle $\\theta$ of $\\alpha$ particles hitting a positively charged nucleus of a Gold atom ($Z=79$) follows the rule:\n",
    "\n",
    "$$\n",
    "\\tan{\\frac{1}{2} \\theta} = \\frac{Z e^2} {2\\pi \\epsilon_0 E b}\n",
    "$$\n",
    "\n",
    "where $E=7.7$ MeV and $b$ beam is the impact parameter. The beam is represented by a 2D gaussian distribution with $\\sigma=a_0/100$ for both coordinates ($a_0$ being the Bohr radius). Assume 1 million $\\alpha$ particles are shot on the gold atom.\n",
    "\n",
    "Computing the fraction of particles that \"bounce back\",i.e. those particle whose scattering angle is greater than $\\pi/2$ (which set a condition on the impact parameter $b$)"
   ]
  },
  {
   "cell_type": "code",
   "execution_count": 34,
   "metadata": {},
   "outputs": [
    {
     "data": {
      "text/plain": [
       "array([1.97286022e-12, 8.51227976e-12, 5.30058800e-12, ...,\n",
       "       2.66648656e-12, 2.33566737e-12, 4.51812671e-12])"
      ]
     },
     "execution_count": 34,
     "metadata": {},
     "output_type": "execute_result"
    }
   ],
   "source": [
    "N=1000000\n",
    "beam=np.random.normal(scale=0.529*10**(-9)/100,size=(N,2))\n",
    "\n",
    "E=7.7*1.609*10**(-13)\n",
    "\n",
    "b=np.zeros(N)\n",
    "for i in range(N):\n",
    "    b[i]=(beam[i,0]**2+beam[i,1]**2)**(1/2)\n",
    "b"
   ]
  },
  {
   "cell_type": "code",
   "execution_count": 39,
   "metadata": {},
   "outputs": [
    {
     "data": {
      "text/plain": [
       "1.3e-05"
      ]
     },
     "execution_count": 39,
     "metadata": {},
     "output_type": "execute_result"
    }
   ],
   "source": [
    "const=79*(1.609*10**(-19))**2/(2*np.pi*8.89*10**(-12)*E)\n",
    "theta=2*np.arctan(const/b)\n",
    "len(theta[theta>np.pi/2])/N"
   ]
  },
  {
   "cell_type": "code",
   "execution_count": 60,
   "metadata": {},
   "outputs": [
    {
     "data": {
      "text/plain": [
       "2.7e-05"
      ]
     },
     "execution_count": 60,
     "metadata": {},
     "output_type": "execute_result"
    }
   ],
   "source": [
    "#Versione giusta\n",
    "\n",
    "z = np.random.random(N)\n",
    "u = np.random.random(N)\n",
    "r_squared = -2*(0.529*10**(-9)/100)**(2)*np.log(z)   #qui calcolo r^2 ossia il quadrato anche del parametro d'impatto\n",
    "b = np.sqrt(r_squared)\n",
    "\n",
    "\n",
    "const=79*(1.609*10**(-19))**2/(2*np.pi*8.89*10**(-12)*E)\n",
    "theta=2*np.arctan(const/b)\n",
    "len(theta[theta>np.pi/2])/N\n"
   ]
  },
  {
   "cell_type": "markdown",
   "metadata": {},
   "source": [
    "3\\. **Monte Carlo integration: hit/miss vs mean value method**\n",
    "\n",
    "Consider the function \n",
    "\n",
    "$$f(x) =\\sin^2{\\frac{1}{x(2-x)}}$$\n",
    "\n",
    "* Compute the integral of $f(x)$ between 0 and 2 with the hit/miss method. Evaluate the error of your estimate\n",
    "* Repeat the integral with the mean value method. Evaluate the error and compare it with the previous one"
   ]
  },
  {
   "cell_type": "code",
   "execution_count": 95,
   "metadata": {},
   "outputs": [
    {
     "name": "stdout",
     "output_type": "stream",
     "text": [
      "Risultato dell integrale: 1.4524 errore: 0.001\n"
     ]
    }
   ],
   "source": [
    "\n",
    "def f(x):\n",
    "    return np.sin(1/(x*(2-x)))**2\n",
    "\n",
    "\n",
    "N=10000\n",
    "count=0\n",
    "for i in range(N):\n",
    "    x=2*np.random.random()  #nelle x il dominio va da 0 a 2\n",
    "    y=np.random.random()    #mentre la y va da 0 a 1 perché la funzione seno quadro va da 0 a 1\n",
    "    if y<f(x): count+=1\n",
    "I=2*count/N\n",
    "print('Risultato dell integrale:',I, 'errore:',np.abs(np.round((I-1.4514),6)))"
   ]
  },
  {
   "cell_type": "code",
   "execution_count": 96,
   "metadata": {},
   "outputs": [
    {
     "name": "stdout",
     "output_type": "stream",
     "text": [
      "Risultato dell integrale: 1.4408080533497385 errore: 0.010592\n"
     ]
    }
   ],
   "source": [
    "x=2*np.random.random(N)\n",
    "I=2/N*np.sum(f(x))\n",
    "print('Risultato dell integrale:',I, 'errore:',np.abs(np.round((I-1.4514),6)))"
   ]
  },
  {
   "cell_type": "markdown",
   "metadata": {},
   "source": [
    "4\\. **Monte Carlo integration in high dimension**\n",
    "\n",
    "* Start of by computing the area of a circle of unit radius, by integrating the function \n",
    "\n",
    "$$\n",
    "f(x,y)=\n",
    "\\left\\{\n",
    "\\begin{array}{ll}\n",
    "      1 & x^2+y^2\\le 1 \\\\\n",
    "      0 & {\\rm elsewhere}\n",
    "\\end{array} \n",
    "\\right.\n",
    "$$\n",
    "\n",
    "* Generalize the result for a 10D sphere\n",
    "\n"
   ]
  },
  {
   "cell_type": "code",
   "execution_count": 97,
   "metadata": {},
   "outputs": [
    {
     "name": "stdout",
     "output_type": "stream",
     "text": [
      "Risultato dell integrale: 3.13 errore: 0.011593\n"
     ]
    }
   ],
   "source": [
    "c=0\n",
    "for i in range(N):\n",
    "    x=np.random.random()\n",
    "    y=np.random.random()\n",
    "    if x**2+y**2<1:\n",
    "        c+=1\n",
    "I=c/N*4\n",
    "print('Risultato dell integrale:',I, 'errore:',np.abs(np.round((I-np.pi),6)))"
   ]
  },
  {
   "cell_type": "code",
   "execution_count": 98,
   "metadata": {},
   "outputs": [
    {
     "name": "stdout",
     "output_type": "stream",
     "text": [
      "Risultato dell integrale: 2.7648 errore: 0.214636\n"
     ]
    }
   ],
   "source": [
    "\n",
    "c=0\n",
    "for i in range(N):\n",
    "    x=np.random.rand(10)\n",
    "    r=(x**2).sum()\n",
    "    if r<1:\n",
    "        c+=1\n",
    "I=c/N*2**10\n",
    "print('Risultato dell integrale:',I, 'errore:',np.abs(np.round((I-np.pi**5/(120)),6)))\n"
   ]
  },
  {
   "cell_type": "markdown",
   "metadata": {},
   "source": [
    "5\\. **Monte Carlo integration with importance sampling** \n",
    "\n",
    "Calculate the value of the integral:\n",
    "\n",
    "$$\n",
    "I=\\int_0^1 \\frac{x^{-1/2}}{e^x+1} dx\n",
    "$$\n",
    "\n",
    "using the importance sampling method with $w(x)=1/\\sqrt{x}$. You should get a result about 0.84"
   ]
  },
  {
   "cell_type": "code",
   "execution_count": 133,
   "metadata": {},
   "outputs": [
    {
     "name": "stdout",
     "output_type": "stream",
     "text": [
      "Risultato dell integrale: 0.7596453250060426 errore: 0.08\n"
     ]
    }
   ],
   "source": [
    "N=1000000\n",
    "def f(x):\n",
    "    return x**(-1/2)/(np.exp(x)+1)\n",
    "\n",
    "def w(x):\n",
    "    return x**(-1/2)\n",
    "\n",
    "x=np.random.random(N)\n",
    "I=1/N*np.sum(f(x)/w(x))*2    #molitplico per 2 perché litegrale di w(x) in quell'intervallo fa 2\n",
    "\n",
    "print('Risultato dell integrale:',I, 'errore:',np.abs(np.round((I-0.84),3)))\n"
   ]
  },
  {
   "cell_type": "code",
   "execution_count": 134,
   "metadata": {},
   "outputs": [
    {
     "name": "stdout",
     "output_type": "stream",
     "text": [
      "Risultato dell integrale: 0.8397015333507849 errore: 0.0\n"
     ]
    }
   ],
   "source": [
    "N=1000000\n",
    "def f(x):\n",
    "    return x**(-1/2)/(np.exp(x)+1)\n",
    "\n",
    "def w(x):\n",
    "    return 1\n",
    "\n",
    "x=np.random.random(N)\n",
    "I=1/N*np.sum(f(x)/w(x))    \n",
    "\n",
    "print('Risultato dell integrale:',I, 'errore:',np.abs(np.round((I-0.84),3)))\n",
    "#funziona meglio mean value method"
   ]
  },
  {
   "cell_type": "code",
   "execution_count": null,
   "metadata": {},
   "outputs": [],
   "source": []
  }
 ],
 "metadata": {
  "kernelspec": {
   "display_name": "Python 3",
   "language": "python",
   "name": "python3"
  },
  "language_info": {
   "codemirror_mode": {
    "name": "ipython",
    "version": 3
   },
   "file_extension": ".py",
   "mimetype": "text/x-python",
   "name": "python",
   "nbconvert_exporter": "python",
   "pygments_lexer": "ipython3",
   "version": "3.6.5"
  }
 },
 "nbformat": 4,
 "nbformat_minor": 2
}
