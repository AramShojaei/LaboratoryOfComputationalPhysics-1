{
 "cells": [
  {
   "cell_type": "code",
   "execution_count": 1,
   "metadata": {},
   "outputs": [],
   "source": [
    "import matplotlib.pyplot as plt\n",
    "import numpy as np\n",
    "import math\n",
    "%matplotlib inline"
   ]
  },
  {
   "cell_type": "markdown",
   "metadata": {},
   "source": [
    "1\\. **Radioactive decay chain**\n",
    "\n",
    "${\\rm Tl}^{208}$ decays to ${\\rm Pb}^{208}$ with a half-lieve of 3.052 minutes. Suppose to start with a sample of 1000 Thallium atoms and 0 of Lead atoms.\n",
    "\n",
    "* Take steps in time of 1 second and at each time-step decide whether each Tl atom has decayed or not, accordingly to the probability $p(t)=1-2^{-t/\\tau}$. Subtract the total number of Tl atoms that decayed at each step from the Tl sample and add them to the Lead one. Plot the evolution of the two sets as a function of time  \n",
    "* Repeat the exercise by means of the inverse transform method: draw 1000 random numbers from the non-uniform probability distribution $p(t)=2^{-t/\\tau}\\frac{\\ln 2}{\\tau}$ to represent the times of decay of the 1000 Tl atoms. Make a plot showing the number of atoms that have not decayed as a function of time"
   ]
  },
  {
   "cell_type": "code",
   "execution_count": 5,
   "metadata": {},
   "outputs": [
    {
     "data": {
      "image/png": "[encoded data removed]",
      "text/plain": [
       "<Figure size 432x288 with 1 Axes>"
      ]
     },
     "metadata": {
      "needs_background": "light"
     },
     "output_type": "display_data"
    }
   ],
   "source": [
    "def evolution(A_in = 1000, B_in = 0, tau = 3052*60):\n",
    "    ev_A = []\n",
    "    ev_B = []\n",
    "    current_A = A_in\n",
    "    current_B = B_in\n",
    "    t = 0\n",
    "    while current_A > 0:\n",
    "        for i in range(current_A):\n",
    "            if np.random.rand() < (1-2**(-t/tau)):\n",
    "                current_A -= 1\n",
    "                current_B += 1\n",
    "        ev_A.append(current_A)\n",
    "        ev_B.append(current_B)\n",
    "        t+=1\n",
    "    return ev_A, ev_B, t\n",
    "    \n",
    "tot_Tl = 1000\n",
    "tot_Pb = 0\n",
    "    \n",
    "T, P, total_time = evolution(tot_Tl, tot_Pb)\n",
    "time = np.linspace(0, total_time, total_time)\n",
    "plt.plot(time, T, label='Tl atoms')\n",
    "plt.plot(time, P, label='Pb atoms')\n",
    "plt.xlabel('time')\n",
    "plt.ylabel('# of atoms')\n",
    "plt.legend()\n",
    "plt.show()"
   ]
  },
  {
   "cell_type": "code",
   "execution_count": 6,
   "metadata": {},
   "outputs": [
    {
     "data": {
      "image/png": "[encoded data removed]",
      "text/plain": [
       "<Figure size 432x288 with 1 Axes>"
      ]
     },
     "metadata": {
      "needs_background": "light"
     },
     "output_type": "display_data"
    }
   ],
   "source": [
    "def p(t):\n",
    "    p = 2**(-t/(3.052*60))*math.log(2)/3.052*60\n",
    "    return p\n",
    "\n",
    "plt.figure()\n",
    "plt.plot([p(t) for t in range(2000)])\n",
    "plt.show()"
   ]
  },
  {
   "cell_type": "markdown",
   "metadata": {},
   "source": [
    "2\\. **Rutherford Scattering**\n",
    "\n",
    "The scattering angle $\\theta$ of $\\alpha$ particles hitting a positively charged nucleus of a Gold atom ($Z=79$) follows the rule:\n",
    "\n",
    "$$\n",
    "\\tan{\\frac{1}{2} \\theta} = \\frac{Z e^2} {2\\pi \\epsilon_0 E b}\n",
    "$$\n",
    "\n",
    "where $E=7.7$ MeV and $b$ beam is the impact parameter. The beam is represented by a 2D gaussian distribution with $\\sigma=a_0/100$ for both coordinates ($a_0$ being the Bohr radius). Assume 1 million $\\alpha$ particles are shot on the gold atom.\n",
    "\n",
    "Computing the fraction of particles that \"bounce back\",i.e. those particle whose scattering angle is greater than $\\pi/2$ (which set a condition on the impact parameter $b$)"
   ]
  },
  {
   "cell_type": "code",
   "execution_count": 11,
   "metadata": {},
   "outputs": [
    {
     "name": "stdout",
     "output_type": "stream",
     "text": [
      "Percentage of patricles (over 1000000 particles) with scattering angle greater than 90°: 0.000506%\n"
     ]
    }
   ],
   "source": [
    "from scipy.constants import epsilon_0, e, pi\n",
    "\n",
    "def beam(n=1):\n",
    "    a0 = 5.29177249e-11\n",
    "    return (np.random.randn(n)*a0/100, np.random.randn(n)*a0/100)\n",
    "\n",
    "def get_theta(b):\n",
    "    Z = 79.\n",
    "    E = 7.7e6*e\n",
    "    return 2*np.arctan((Z*e**2)/(np.asarray(2*pi*epsilon_0*E)*b))\n",
    "\n",
    "trials = 10**6\n",
    "print(\"Percentage of patricles (over \" + str(trials) + \" particles) with scattering angle greater than 90°: \" + \n",
    "      str(np.sum((get_theta(beam(trials)) > pi/2).all(axis = 0))/trials) + \"%\")"
   ]
  },
  {
   "cell_type": "markdown",
   "metadata": {},
   "source": [
    "3\\. **Monte Carlo integration: hit/miss vs mean value method**\n",
    "\n",
    "Consider the function \n",
    "\n",
    "$$f(x) =\\sin^2{\\frac{1}{x(2-x)}}$$\n",
    "\n",
    "* Compute the integral of $f(x)$ between 0 and 2 with the hit/miss method. Evaluate the error of your estimate\n",
    "* Repeat the integral with the mean value method. Evaluate the error and compare it with the previous one"
   ]
  },
  {
   "cell_type": "code",
   "execution_count": 14,
   "metadata": {},
   "outputs": [
    {
     "name": "stdout",
     "output_type": "stream",
     "text": [
      "Integral result with hit/miss method: 1.44994\n",
      "Integral result with meanvalue method: 1.4167335227945141e-05\n"
     ]
    }
   ],
   "source": [
    "def f(x):\n",
    "    return (np.sin(1/(x*(2-x))))**2\n",
    "\n",
    "# Monte Carlo integration\n",
    "N=100000\n",
    "count=0\n",
    "for i in range(N):\n",
    "    x=2*np.random.random()\n",
    "    y=np.random.random()\n",
    "    if y<f(x): count+=1\n",
    "ihm=2*count/N\n",
    "\n",
    "print(\"Integral result with hit/miss method:\", ihm)\n",
    "\n",
    "# Mean value\n",
    "imv = 2*np.sum(f(x))/N\n",
    "print(\"Integral result with meanvalue method:\", imv)"
   ]
  },
  {
   "cell_type": "markdown",
   "metadata": {},
   "source": [
    "4\\. **Monte Carlo integration in high dimension**\n",
    "\n",
    "* Start of by computing the area of a circle of unit radius, by integrating the function \n",
    "\n",
    "$$\n",
    "f(x,y)=\n",
    "\\left\\{\n",
    "\\begin{array}{ll}\n",
    "      1 & x^2+y^2\\le 1 \\\\\n",
    "      0 & {\\rm elsewhere}\n",
    "\\end{array} \n",
    "\\right.\n",
    "$$\n",
    "\n",
    "* Generalize the result for a 10D sphere\n",
    "\n"
   ]
  },
  {
   "cell_type": "code",
   "execution_count": 19,
   "metadata": {},
   "outputs": [
    {
     "name": "stdout",
     "output_type": "stream",
     "text": [
      "2D-Integral result: 3.139588\n",
      "10D-Integral result: 2.525184\n"
     ]
    }
   ],
   "source": [
    "#2 dimensions\n",
    "c = 0\n",
    "for i in range(N):\n",
    "    x = np.random.random()\n",
    "    y = np.random.random()\n",
    "    if x**2 + y**2 < 1:\n",
    "        c += 1\n",
    "I_2d = c/N*4\n",
    "print('2D-Integral result:',I_2d)\n",
    "\n",
    "#10 dimensions\n",
    "c=0\n",
    "for i in range(N):\n",
    "    x = np.random.rand(10)\n",
    "    r = (x**2).sum()\n",
    "    if r < 1:\n",
    "        c += 1\n",
    "I_10d = c/N*2**10\n",
    "print('10D-Integral result:',I_10d)"
   ]
  },
  {
   "cell_type": "markdown",
   "metadata": {},
   "source": [
    "5\\. **Monte Carlo integration with importance sampling** \n",
    "\n",
    "Calculate the value of the integral:\n",
    "\n",
    "$$\n",
    "I=\\int_0^1 \\frac{x^{-1/2}}{e^x+1} dx\n",
    "$$\n",
    "\n",
    "using the importance sampling method with $w(x)=1/\\sqrt{x}$. You should get a result about 0.84"
   ]
  },
  {
   "cell_type": "code",
   "execution_count": 20,
   "metadata": {},
   "outputs": [
    {
     "name": "stdout",
     "output_type": "stream",
     "text": [
      "Integral result with importance sampling method: 0.7598233970613585\n"
     ]
    }
   ],
   "source": [
    "N = 1000000\n",
    "\n",
    "def f(x):\n",
    "    return x**(-1/2)/(np.exp(x)+1)\n",
    "\n",
    "def w(x):\n",
    "    return x**(-1/2)\n",
    "\n",
    "x = np.random.random(N)\n",
    "I_is = 1/N*np.sum(f(x)/w(x))*2\n",
    "\n",
    "print(\"Integral result with importance sampling method:\", I_is)"
   ]
  },
  {
   "cell_type": "code",
   "execution_count": null,
   "metadata": {},
   "outputs": [],
   "source": []
  }
 ],
 "metadata": {
  "kernelspec": {
   "display_name": "Python 3",
   "language": "python",
   "name": "python3"
  },
  "language_info": {
   "codemirror_mode": {
    "name": "ipython",
    "version": 3
   },
   "file_extension": ".py",
   "mimetype": "text/x-python",
   "name": "python",
   "nbconvert_exporter": "python",
   "pygments_lexer": "ipython3",
   "version": "3.7.1"
  }
 },
 "nbformat": 4,
 "nbformat_minor": 2
}
