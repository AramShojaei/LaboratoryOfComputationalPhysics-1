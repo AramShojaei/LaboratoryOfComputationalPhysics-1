{
 "cells": [
  {
   "cell_type": "markdown",
   "metadata": {},
   "source": [
    "1\\. **Radioactive decay chain**\n",
    "\n",
    "${\\rm Tl}^{208}$ decays to ${\\rm Pb}^{208}$ with a half-lieve of 3.052 minutes. Suppose to start with a sample of 1000 Thallium atoms and 0 of Lead atoms.\n",
    "\n",
    "* Take steps in time of 1 second and at each time-step decide whether each Tl atom has decayed or not, accordingly to the probability $p(t)=1-2^{-t/\\tau}$. Subtract the total number of Tl atoms that decayed at each step from the Tl sample and add them to the Lead one. Plot the evolution of the two sets as a function of time  \n",
    "* Repeat the exercise by means of the inverse transform method: draw 1000 random numbers from the non-uniform probability distribution $p(t)=2^{-t/\\tau}\\frac{\\ln 2}{\\tau}$ to represent the times of decay of the 1000 Tl atoms. Make a plot showing the number of atoms that have not decayed as a function of time"
   ]
  },
  {
   "cell_type": "code",
   "execution_count": 2,
   "metadata": {},
   "outputs": [],
   "source": [
    "import numpy as np\n",
    "import matplotlib.pyplot as plt\n",
    "\n",
    "def prob(tau):\n",
    "    return np.log(2)/tau\n",
    "\n",
    "def p2(t, tau):\n",
    "    return 2**(-t/tau) * np.log(2)/tau\n",
    "\n",
    "def inverse_coumulative_normed_p2(z, tau ,tmax):\n",
    "    return tau * np.log2(z*(1-2**(-tmax/tau)))"
   ]
  },
  {
   "cell_type": "code",
   "execution_count": 4,
   "metadata": {},
   "outputs": [
    {
     "data": {
      "image/png": "[encoded data removed]",
      "text/plain": [
       "<Figure size 432x288 with 1 Axes>"
      ]
     },
     "metadata": {
      "needs_background": "light"
     },
     "output_type": "display_data"
    }
   ],
   "source": [
    "n_tallium = 1000\n",
    "n_lead = 0\n",
    "half_life = 3.052*60 #in secondi\n",
    "time_max = 1000\n",
    "\n",
    "tallium_evol = np.zeros(time_max)\n",
    "lead_evol = np.zeros(time_max)\n",
    "\n",
    "for i in range(time_max):\n",
    "    \n",
    "    decayed_atoms = 0\n",
    "    tallium_evol[i] = n_tallium\n",
    "    lead_evol[i] = n_lead\n",
    "    \n",
    "    for k in range(n_tallium):\n",
    "        sample = np.random.random()\n",
    "        if sample < prob(half_life):\n",
    "            decayed_atoms += 1\n",
    "            \n",
    "    n_tallium -= decayed_atoms\n",
    "    n_lead += decayed_atoms\n",
    "    \n",
    "plt.plot(tallium_evol, label='Tallium')\n",
    "plt.plot(lead_evol, label='Lead')\n",
    "plt.xlabel('Time [s]')\n",
    "plt.ylabel('Population')\n",
    "plt.legend()\n",
    "plt.show()"
   ]
  },
  {
   "cell_type": "code",
   "execution_count": 15,
   "metadata": {},
   "outputs": [
    {
     "name": "stderr",
     "output_type": "stream",
     "text": [
      "/usr/local/lib/python3.6/dist-packages/ipykernel_launcher.py:11: RuntimeWarning: divide by zero encountered in log2\n",
      "  # This is added back by InteractiveShellApp.init_path()\n"
     ]
    },
    {
     "data": {
      "text/plain": [
       "\"\\nfor i in range(time_max):\\n    \\n    decayed_atoms = 0\\n    tallium_evol[i] = n_tallium\\n    lead_evol[i] = n_lead\\n    \\n    for k in range(n_tallium):\\n        sample = np.random.random()\\n        if sample < prob(half_life):\\n            decayed_atoms += 1\\n            \\n    n_tallium -= decayed_atoms\\n    n_lead += decayed_atoms\\n    \\nplt.plot(tallium_evol, label='Tallium')\\nplt.plot(lead_evol, label='Lead')\\nplt.xlabel('Time [s]')\\nplt.ylabel('Population')\\nplt.legend()\\nplt.show()\\n\""
      ]
     },
     "execution_count": 15,
     "metadata": {},
     "output_type": "execute_result"
    },
    {
     "data": {
      "image/png": "[encoded data removed]",
      "text/plain": [
       "<Figure size 432x288 with 1 Axes>"
      ]
     },
     "metadata": {
      "needs_background": "light"
     },
     "output_type": "display_data"
    }
   ],
   "source": [
    "tallium_evol = np.zeros(time_max)\n",
    "lead_evol = np.zeros(time_max)\n",
    "\n",
    "sample_points = inverse_coumulative_normed_p2( np.linspace(0,time_max,1000), half_life, time_max )\n",
    "plt.plot(sample_points)\n",
    "plt.plot(1000- sample_points)\n",
    "\"\"\"\n",
    "for i in range(time_max):\n",
    "    \n",
    "    decayed_atoms = 0\n",
    "    tallium_evol[i] = n_tallium\n",
    "    lead_evol[i] = n_lead\n",
    "    \n",
    "    for k in range(n_tallium):\n",
    "        sample = np.random.random()\n",
    "        if sample < prob(half_life):\n",
    "            decayed_atoms += 1\n",
    "            \n",
    "    n_tallium -= decayed_atoms\n",
    "    n_lead += decayed_atoms\n",
    "    \n",
    "plt.plot(tallium_evol, label='Tallium')\n",
    "plt.plot(lead_evol, label='Lead')\n",
    "plt.xlabel('Time [s]')\n",
    "plt.ylabel('Population')\n",
    "plt.legend()\n",
    "plt.show()\n",
    "\"\"\"\n"
   ]
  },
  {
   "cell_type": "markdown",
   "metadata": {},
   "source": [
    "2\\. **Rutherford Scattering**\n",
    "\n",
    "The scattering angle $\\theta$ of $\\alpha$ particles hitting a positively charged nucleus of a Gold atom ($Z=79$) follows the rule:\n",
    "\n",
    "$$\n",
    "\\tan{\\frac{1}{2} \\theta} = \\frac{Z e^2} {2\\pi \\epsilon_0 E b}\n",
    "$$\n",
    "\n",
    "where $E=7.7$ MeV and $b$ beam is the impact parameter. The beam is represented by a 2D gaussian distribution with $\\sigma=a_0/100$ for both coordinates ($a_0$ being the Bohr radius). Assume 1 million $\\alpha$ particles are shot on the gold atom.\n",
    "\n",
    "Computing the fraction of particles that \"bounce back\",i.e. those particle whose scattering angle is greater than $\\pi/2$ (which set a condition on the impact parameter $b$)"
   ]
  },
  {
   "cell_type": "code",
   "execution_count": 3,
   "metadata": {},
   "outputs": [],
   "source": [
    "def scatter_angle(b, Z=79, E=7700000): #E in MeV\n",
    "    e = 1.6 * 10**(-19) #C\n",
    "    eps = 8.854 * 10**(-12) #F/m\n",
    "    return 2 * np.arctan((Z*e) / (2*np.pi*eps*E*b))"
   ]
  },
  {
   "cell_type": "code",
   "execution_count": 4,
   "metadata": {},
   "outputs": [
    {
     "name": "stdout",
     "output_type": "stream",
     "text": [
      "Number of particles that \"bounce back\":  1551\n"
     ]
    }
   ],
   "source": [
    "N = 1000000\n",
    "r_bohr = 5.292*10**(-11) #m\n",
    "sigma = r_bohr/100\n",
    "\n",
    "x = np.random.normal(0,sigma,N)\n",
    "y = np.random.normal(0,sigma,N)\n",
    "theta = scatter_angle(np.sqrt(x**2+y**2))\n",
    "print('Number of particles that \"bounce back\": ',theta[theta>np.pi/2].shape[0])\n"
   ]
  },
  {
   "cell_type": "markdown",
   "metadata": {},
   "source": [
    "3\\. **Monte Carlo integration: hit/miss vs mean value method**\n",
    "\n",
    "Consider the function \n",
    "\n",
    "$$f(x) =\\sin^2{\\frac{1}{x(2-x)}}$$\n",
    "\n",
    "* Compute the integral of $f(x)$ between 0 and 2 with the hit/miss method. Evaluate the error of your estimate\n",
    "* Repeat the integral with the mean value method. Evaluate the error and compare it with the previous one"
   ]
  },
  {
   "cell_type": "code",
   "execution_count": 5,
   "metadata": {},
   "outputs": [
    {
     "data": {
      "image/png": "[encoded data removed]",
      "text/plain": [
       "<Figure size 432x288 with 1 Axes>"
      ]
     },
     "metadata": {
      "needs_background": "light"
     },
     "output_type": "display_data"
    }
   ],
   "source": [
    "def f(x):\n",
    "    return np.sin(1/(x*(2-x)))**2\n",
    "\n",
    "x_val = np.linspace(0.00001,1.99999,1000)\n",
    "y_val= f(x_val)\n",
    "\n",
    "plt.plot(x_val,y_val)\n",
    "plt.show()"
   ]
  },
  {
   "cell_type": "code",
   "execution_count": 6,
   "metadata": {},
   "outputs": [
    {
     "name": "stdout",
     "output_type": "stream",
     "text": [
      "Integral of f(x) in [0,2] with Hit/Miss method:  1.4530239852297149\n"
     ]
    }
   ],
   "source": [
    "# HIT or MISS\n",
    "\n",
    "box_area = (x_val.max()-x_val.min())*(y_val.max()-y_val.min())\n",
    "sample_points = np.random.rand(1000000,2)*(2,1)\n",
    "good_points = sample_points[ sample_points[:,1] < f(sample_points[:,0]) ]\n",
    "integral = len(good_points)/len(sample_points) * box_area\n",
    "print('Integral of f(x) in [0,2] with Hit/Miss method: ', integral)"
   ]
  },
  {
   "cell_type": "code",
   "execution_count": 7,
   "metadata": {},
   "outputs": [
    {
     "name": "stdout",
     "output_type": "stream",
     "text": [
      "Integral of f(x) in [0,2] with Mean Value method:  1.4517788552021391\n"
     ]
    }
   ],
   "source": [
    "# MEAN VALUE\n",
    "\n",
    "sample_points = np.random.rand(1000000)\n",
    "average = np.average( f(sample_points) )\n",
    "integral = (x_val.max()-x_val.min()) * average\n",
    "err_integral = (x_val.max()-x_val.min()) * np.sqrt(f(sample_points))\n",
    "print('Integral of f(x) in [0,2] with Mean Value method: ', integral)"
   ]
  },
  {
   "cell_type": "markdown",
   "metadata": {},
   "source": [
    "4\\. **Monte Carlo integration in high dimension**\n",
    "\n",
    "* Start of by computing the area of a circle of unit radius, by integrating the function \n",
    "\n",
    "$$\n",
    "f(x,y)=\n",
    "\\left\\{\n",
    "\\begin{array}{ll}\n",
    "      1 & x^2+y^2\\le 1 \\\\\n",
    "      0 & {\\rm elsewhere}\n",
    "\\end{array} \n",
    "\\right.\n",
    "$$\n",
    "\n",
    "* Generalize the result for a 10D sphere\n",
    "\n"
   ]
  },
  {
   "cell_type": "code",
   "execution_count": 8,
   "metadata": {},
   "outputs": [
    {
     "name": "stdout",
     "output_type": "stream",
     "text": [
      "Volume of 10D sphere of unit radius:  2.5309184\n"
     ]
    }
   ],
   "source": [
    "n_dimensions = 10\n",
    "N = 10000000\n",
    "\n",
    "box_volume = 2**n_dimensions\n",
    "sample_points = (np.random.rand(N, n_dimensions)-0.5) * 2\n",
    "good_points = sample_points[ np.sum(sample_points**2,axis=1) < 1 ]\n",
    "integral = len(good_points)/len(sample_points) * box_volume\n",
    "print('Volume of '+str(n_dimensions)+'D sphere of unit radius: ', integral)"
   ]
  },
  {
   "cell_type": "markdown",
   "metadata": {},
   "source": [
    "5\\. **Monte Carlo integration with importance sampling** \n",
    "\n",
    "Calculate the value of the integral:\n",
    "\n",
    "$$\n",
    "I=\\int_0^1 \\frac{x^{-1/2}}{e^x+1} dx\n",
    "$$\n",
    "\n",
    "using the importance sampling method with $w(x)=1/\\sqrt{x}$. You should get a result about 0.84"
   ]
  },
  {
   "cell_type": "code",
   "execution_count": 26,
   "metadata": {},
   "outputs": [],
   "source": [
    "def f(x):\n",
    "    return 1/(np.sqrt(x)*(np.exp(x)+1))\n",
    "\n",
    "def w(x):\n",
    "    return 1/np.sqrt(x)\n",
    "\n",
    "def inverse_coumulative_normed_w(z):\n",
    "    return (z)**2"
   ]
  },
  {
   "cell_type": "code",
   "execution_count": 32,
   "metadata": {},
   "outputs": [
    {
     "name": "stdout",
     "output_type": "stream",
     "text": [
      "Value of the integral: 0.8369705006042291\n"
     ]
    }
   ],
   "source": [
    "N = 1000000\n",
    "x_val = np.linspace(0.000001,1,N)\n",
    "\n",
    "# Sampling points from w using inverse transform method\n",
    "sample_points = inverse_coumulative_normed_w( np.random.rand(N) )\n",
    "\n",
    "# Compute integral of w\n",
    "w_mean = np.average( w(np.random.rand(N)) )\n",
    "w_integral = (x_val.max()-x_val.min()) * w_mean\n",
    "\n",
    "Integral = np.sum(f(sample_points)/w(sample_points) * w_integral) / N\n",
    "print('Value of the integral:', Integral)"
   ]
  },
  {
   "cell_type": "code",
   "execution_count": null,
   "metadata": {},
   "outputs": [],
   "source": []
  }
 ],
 "metadata": {
  "kernelspec": {
   "display_name": "Python 3",
   "language": "python",
   "name": "python3"
  },
  "language_info": {
   "codemirror_mode": {
    "name": "ipython",
    "version": 3
   },
   "file_extension": ".py",
   "mimetype": "text/x-python",
   "name": "python",
   "nbconvert_exporter": "python",
   "pygments_lexer": "ipython3",
   "version": "3.7.1"
  }
 },
 "nbformat": 4,
 "nbformat_minor": 2
}
