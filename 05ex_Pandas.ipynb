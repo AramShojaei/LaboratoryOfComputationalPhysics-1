{
 "cells": [
  {
   "cell_type": "markdown",
   "metadata": {},
   "source": [
    "## Pandas analysis\n",
    "\n",
    "In the following a series of exercises is proposed on a dataset containg timing information from a series of Time-to-Digital-Converters (TDC) implemented in a couple of FPGA's. Each measurement (i.e. each raw) consists of the address of the TDC providing the signal, 'FPGA' and 'TDC_Channel, and the timing information itself, 'ORBIT_CNT', 'BX_COUNTER' and 'TDC_MEAS'. Each TDC count correspond 25/30 ns, whereas the BX_COUNTER feauters gets updated every 25 ns and the ORBIT_CNT every 'x' BX_COUNTER. You can see these way of storing the time as similar to hours, minutes and seconds.\n",
    "\n",
    "1\\. Create a Pandas DataFrame by read N raws of the 'data_000637.txt' dataset. Choose N to be smaller than or equal to the maximum number of raws and larger that 10k.\n",
    "\n",
    "2\\. Find out the value of 'x'\n",
    "\n",
    "3\\. Find out how much the data taking lasted. You can either make an estimate on the baseis of the fraction of the measurements (raws) you read, or perform this check precisely by reading out the whole dataset\n",
    "\n",
    "4\\. Create a new column with the actual time in ns (as a combination of the other three columns with timing information)\n",
    "\n",
    "5\\. Replace the values (all 1) of the HEAD column randomly with 0 or 1\n",
    "\n",
    "6\\. Create a new DataFrame with only the raws with HEAD=1\n",
    "\n",
    "7\\. Make two occupancy plots (one per FPGA), i.e. plot the number of counts per TDC channel\n",
    "\n",
    "8\\. Use the groupby method to find out the noisy channels, i.e. the TDC channels with most counts (say the top 3)\n",
    "\n",
    "9\\. Count the number of unique orbits. Count the number of unique orbits with at least one measurement from TDC_CHANNEL=139"
   ]
  },
  {
   "cell_type": "code",
   "execution_count": null,
   "metadata": {},
   "outputs": [],
<<<<<<< HEAD
   "source": [
    "import pandas as pd\n",
    "import numpy as np\n",
    "\n",
    "## exercise 1)\n",
    "### IMPORT DATA\n",
    "file_data = 'C:/Users/Mohammad/Desktop/HLP/data/data_000557.txt'\n",
    "dataset = pd.read_csv(file_data)\n",
    "data = pd.DataFrame(dataset)\n",
    "\n",
    "### SLICING DATA\n",
    "N = 15000\n",
    "data = data[0:N]\n",
    "\n",
    "\n",
    "## Exercise 2)\n",
    "x = np.max(data['BX_COUNTER'])\n",
    "print('\\nsolution 2: X factor = ' ,x)\n",
    "\n",
    "## Exercise 3,4)\n",
    "data['time(ns)']=data['TDC_MEAS']*25/30 + data['BX_COUNTER']*25 + data['ORBIT_CNT']*x*25\n",
    "period_time = np.max(data['time(ns)']) - np.min(data['time(ns)'])\n",
    "print('\\nsolution 3,4: time in nSec = ' ,period_time)\n",
    "\n",
    "\n",
    "## Exercise 5)\n",
    "Head = np.random.randint(0,2,N)\n",
    "data['HEAD'] = Head\n",
    "\n",
    "## Exercise 6)\n",
    "HEAD_1 = data[data['HEAD'] == 1]\n",
    "print('\\nsolution 6: DataFrame with Head = 1\\n',HEAD_1)\n",
    "\n",
    "\n",
    "\n",
    "## Exercise 7)\n",
    "%matplotlib inline\n",
    "import matplotlib.pyplot as plt\n",
    "print('\\nsolution 7:')\n",
    "\n",
    "FPGA1 = data[data['FPGA'] == 0]\n",
    "FPGA2 = data[data['FPGA'] == 1]\n",
    "FPGA1 = FPGA1['TDC_CHANNEL'].value_counts()\n",
    "FPGA2 = FPGA2['TDC_CHANNEL'].value_counts()\n",
    "plt.scatter(FPGA1.index,FPGA1, s=3)\n",
    "plt.scatter(FPGA2.index,FPGA2, s=3)\n",
    "plt.xlabel('TDC Channel Number')\n",
    "plt.ylabel('Number of counts per TDC Channel')\n",
    "plt.grid()\n",
    "plt.show()\n",
    "\n",
    "\n",
    "## Exercise 8)\n",
    "occurance = data.groupby('TDC_CHANNEL').count()\n",
    "noisy_channel = np.zeros(3,)\n",
    "for i in range (1,4):\n",
    "    noisy_channel[i-1] = occurance['FPGA'].idxmax()\n",
    "    occurance = occurance.drop(noisy_channel[i-1])\n",
    "print('\\nsolution 8: Noisy Channels(first 3 elemnts)\\n', noisy_channel)\n",
    "\n",
    "\n",
    "## Exercise 9)\n",
    "print('solution 9:')\n",
    "mask = data['TDC_CHANNEL'] == 139\n",
    "channel_139 = data[mask]\n",
    "unique_orbit = channel_139.groupby(['ORBIT_CNT','TDC_CHANNEL']).nunique()\n",
    "print(unique_orbit)\n"
   ]
  },
  {
   "cell_type": "code",
   "execution_count": null,
   "metadata": {},
   "outputs": [],
=======
>>>>>>> upstream/master
   "source": []
  }
 ],
 "metadata": {
  "kernelspec": {
   "display_name": "Python 3",
   "language": "python",
   "name": "python3"
  },
  "language_info": {
   "codemirror_mode": {
    "name": "ipython",
    "version": 3
   },
   "file_extension": ".py",
   "mimetype": "text/x-python",
   "name": "python",
   "nbconvert_exporter": "python",
   "pygments_lexer": "ipython3",
<<<<<<< HEAD
   "version": "3.7.1"
=======
   "version": "3.5.4"
>>>>>>> upstream/master
  }
 },
 "nbformat": 4,
 "nbformat_minor": 2
}
