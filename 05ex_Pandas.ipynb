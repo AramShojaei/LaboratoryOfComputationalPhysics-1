{
 "cells": [
  {
   "cell_type": "markdown",
   "metadata": {},
   "source": [
    "## Pandas analysis\n",
    "\n",
    "In the following a series of exercises is proposed on a dataset containg timing information from a series of Time-to-Digital-Converters (TDC) implemented in a couple of FPGA's. Each measurement (i.e. each raw) consists of the address of the TDC providing the signal, 'FPGA' and 'TDC_Channel, and the timing information itself, 'ORBIT_CNT', 'BX_COUNTER' and 'TDC_MEAS'. Each TDC count correspond 25/30 ns, whereas the BX_COUNTER feauters gets updated every 25 ns and the ORBIT_CNT every 'x' BX_COUNTER. You can see these way of storing the time as similar to hours, minutes and seconds.\n",
    "\n",
    "1\\. Create a Pandas DataFrame by read N raws of the 'data_000637.txt' dataset. Choose N to be smaller than or equal to the maximum number of raws and larger that 10k.\n",
    "\n",
    "2\\. Find out the value of 'x'\n",
    "\n",
    "3\\. Find out how much the data taking lasted. You can either make an estimate on the baseis of the fraction of the measurements (raws) you read, or perform this check precisely by reading out the whole dataset\n",
    "\n",
    "4\\. Create a new column with the actual time in ns (as a combination of the other three columns with timing information)\n",
    "\n",
    "5\\. Replace the values (all 1) of the HEAD column randomly with 0 or 1\n",
    "\n",
    "6\\. Create a new DataFrame with only the raws with HEAD=1\n",
    "\n",
    "7\\. Make two occupancy plots (one per FPGA), i.e. plot the number of counts per TDC channel\n",
    "\n",
    "8\\. Use the groupby method to find out the noisy channels, i.e. the TDC channels with most counts (say the top 3)\n",
    "\n",
    "9\\. Count the number of unique orbits. Count the number of unique orbits with at least one measurement from TDC_CHANNEL=139"
   ]
  },
  {
   "cell_type": "code",
   "execution_count": null,
   "metadata": {},
   "outputs": [],
   "source": [
    "import pandas as pd\n",
    "import numpy as np\n",
    "import matplotlib.pyplot as plt"
   ]
  },
  {
   "cell_type": "markdown",
   "metadata": {},
   "source": [
    "1. Create a Pandas DataFrame by read N raws of the 'data_000637.txt' dataset. Choose N to be smaller than or equal to the maximum number of raws and larger that 10k."
   ]
  },
  {
   "cell_type": "code",
   "execution_count": null,
   "metadata": {},
   "outputs": [],
   "source": [
    "df = pd.read_csv(\"./data/data_000637.txt\")\n",
    "df"
   ]
  },
  {
   "cell_type": "markdown",
   "metadata": {},
   "source": [
    "2\\. Find out the value of 'x'"
   ]
  },
  {
   "cell_type": "code",
   "execution_count": null,
   "metadata": {},
   "outputs": [],
   "source": [
    "numb_bx = df['BX_COUNTER'].max()+1"
   ]
  },
  {
   "cell_type": "markdown",
   "metadata": {},
   "source": [
    "3\\. Find out how much the data taking lasted. You can either make an estimate on the baseis of the fraction of the measurements (raws) you read, or perform this check precisely by reading out the whole dataset"
   ]
  },
  {
   "cell_type": "code",
   "execution_count": null,
   "metadata": {},
   "outputs": [],
   "source": [
    "df_0 = df[df['FPGA']==0]\n",
    "df_1 = df[df['FPGA']==1]"
   ]
  },
  {
   "cell_type": "markdown",
   "metadata": {},
   "source": [
    "`o` is the orbit_cnt time in ns(update every `numb_bx` bx_counter time 25 ns\n",
    "\n",
    "`b` is the bx_counter effective time in ns (updated every 25 ns)\n",
    "\n",
    "`t` is the tdc_meas effective time\n",
    "\n",
    "for every time I take the difference between the minimum and the maximum value so I take account for offset since I don't know time 0.\n",
    "In my implementation time 0 is the minimum time over the dataset"
   ]
  },
  {
   "cell_type": "code",
   "execution_count": null,
   "metadata": {},
   "outputs": [],
   "source": [
    "#TIME FOR FPGA0\n",
    "o = (df_0['ORBIT_CNT'].max()-df_0['ORBIT_CNT'].min())*numb_bx*25 \n",
    "b = (df_0[df_0['ORBIT_CNT'] == df_0['ORBIT_CNT'].max()]['BX_COUNTER'].max()-df_0[df_0['ORBIT_CNT'] == df_0['ORBIT_CNT'].min()]['BX_COUNTER'].min())*25\n",
    "\n",
    "temp = df_0[df_0['ORBIT_CNT'] == df_0['ORBIT_CNT'].max()]\n",
    "upper = temp[temp['BX_COUNTER']== temp['BX_COUNTER'].max()]['TDC_MEAS'].max()\n",
    "\n",
    "temp = df_0[df_0['ORBIT_CNT'] == df_0['ORBIT_CNT'].min()]\n",
    "lower = temp[temp['BX_COUNTER']== temp['BX_COUNTER'].min()]['TDC_MEAS'].min()\n",
    "\n",
    "t = upper - lower\n",
    "o+b+t*25/30"
   ]
  },
  {
   "cell_type": "code",
   "execution_count": null,
   "metadata": {},
   "outputs": [],
   "source": [
    "#TIME FOR FPGA1\n",
    "o = (df_1['ORBIT_CNT'].max()-df_1['ORBIT_CNT'].min())*numb_bx*25\n",
    "b = (df_1[df_1['ORBIT_CNT'] == df_1['ORBIT_CNT'].max()]['BX_COUNTER'].max()-df_1[df_1['ORBIT_CNT'] == df_1['ORBIT_CNT'].min()]['BX_COUNTER'].min())*25 \n",
    "\n",
    "temp = df_1[df_1['ORBIT_CNT'] == df_1['ORBIT_CNT'].max()]\n",
    "upper = temp[temp['BX_COUNTER']== temp['BX_COUNTER'].max()]['TDC_MEAS'].max()\n",
    "\n",
    "temp = df_1[df_1['ORBIT_CNT'] == df_1['ORBIT_CNT'].min()]\n",
    "lower = temp[temp['BX_COUNTER']== temp['BX_COUNTER'].min()]['TDC_MEAS'].min()\n",
    "t = upper - lower\n",
    "\n",
    "o + b + t*25/30"
   ]
  },
  {
   "cell_type": "code",
   "execution_count": null,
   "metadata": {},
   "outputs": [],
   "source": [
    "#TIME FOR all dataset\n",
    "o = (df['ORBIT_CNT'].max()-df['ORBIT_CNT'].min())*numb_bx*25\n",
    "b = (df[df['ORBIT_CNT'] == df['ORBIT_CNT'].max()]['BX_COUNTER'].max()-df[df['ORBIT_CNT'] == df['ORBIT_CNT'].min()]['BX_COUNTER'].min())*25 \n",
    "\n",
    "temp = df[df['ORBIT_CNT'] == df['ORBIT_CNT'].max()]\n",
    "upper = temp[temp['BX_COUNTER']== temp['BX_COUNTER'].max()]['TDC_MEAS'].max()\n",
    "\n",
    "temp = df[df['ORBIT_CNT'] == df['ORBIT_CNT'].min()]\n",
    "lower = temp[temp['BX_COUNTER']== temp['BX_COUNTER'].min()]['TDC_MEAS'].min()\n",
    "t = upper - lower\n",
    "o+b+t*25/30"
   ]
  },
  {
   "cell_type": "markdown",
   "metadata": {},
   "source": [
    "4\\. Create a new column with the actual time in ns (as a combination of the other three columns with timing information)\n",
    "\n"
   ]
  },
  {
   "cell_type": "code",
   "execution_count": null,
   "metadata": {},
   "outputs": [],
   "source": [
    "df['time'] = (df['ORBIT_CNT']*numb_bx + df['BX_COUNTER'])*25+ df['TDC_MEAS']*25/30 #"
   ]
  },
  {
   "cell_type": "code",
   "execution_count": null,
   "metadata": {},
   "outputs": [],
   "source": [
    "df['time'].max()-df['time'].min()"
   ]
  },
  {
   "cell_type": "markdown",
   "metadata": {},
   "source": [
    "We can see here that the results are comparable. Precisions errors are expected due to the number and the operations. (if we do the 25/30 multiplication before or after the sum)\n",
    "We notice also a small disalignment between df_0 and df_1"
   ]
  },
  {
   "cell_type": "markdown",
   "metadata": {},
   "source": [
    "5\\. Replace the values (all 1) of the HEAD column randomly with 0 or 1"
   ]
  },
  {
   "cell_type": "code",
   "execution_count": null,
   "metadata": {},
   "outputs": [],
   "source": [
    "df['HEAD'] = np.random.randint(0,2, len(df['HEAD']))"
   ]
  },
  {
   "cell_type": "markdown",
   "metadata": {},
   "source": [
    "6\\. Create a new DataFrame with only the raws with HEAD=1\n",
    "\n"
   ]
  },
  {
   "cell_type": "code",
   "execution_count": null,
   "metadata": {},
   "outputs": [],
   "source": [
    "new_df = df[df['HEAD']==1]"
   ]
  },
  {
   "cell_type": "markdown",
   "metadata": {},
   "source": [
    "7\\. Make two occupancy plots (one per FPGA), i.e. plot the number of counts per TDC channel\n"
   ]
  },
  {
   "cell_type": "code",
   "execution_count": null,
   "metadata": {},
   "outputs": [],
   "source": [
    "a = new_df[new_df['FPGA'] == 0]\n",
    "a.groupby(['TDC_CHANNEL']).sum()['HEAD'].plot()"
   ]
  },
  {
   "cell_type": "code",
   "execution_count": null,
   "metadata": {},
   "outputs": [],
   "source": [
    "a = new_df[new_df['FPGA'] == 1]\n",
    "a.groupby(['TDC_CHANNEL']).sum()['HEAD'].plot()"
   ]
  },
  {
   "cell_type": "markdown",
   "metadata": {},
   "source": [
    "\n",
    "8\\. Use the groupby method to find out the noisy channels, i.e. the TDC channels with most counts (say the top 3)"
   ]
  },
  {
   "cell_type": "code",
   "execution_count": null,
   "metadata": {},
   "outputs": [],
   "source": [
    "new_df[['HEAD','TDC_CHANNEL']].groupby(['TDC_CHANNEL']).count().sort_values(['HEAD'], ascending=False).head(5)"
   ]
  },
  {
   "cell_type": "markdown",
   "metadata": {},
   "source": [
    "\n",
    "9\\. Count the number of unique orbits. Count the number of unique orbits with at least one measurement from TDC_CHANNEL=139\n"
   ]
  },
  {
   "cell_type": "code",
   "execution_count": null,
   "metadata": {},
   "outputs": [],
   "source": [
    "len(df[df['TDC_CHANNEL']==139]['ORBIT_CNT'].unique())"
   ]
  }
 ],
 "metadata": {
  "kernelspec": {
   "display_name": "Python 3",
   "language": "python",
   "name": "python3"
  },
  "language_info": {
   "codemirror_mode": {
    "name": "ipython",
    "version": 3
   },
   "file_extension": ".py",
   "mimetype": "text/x-python",
   "name": "python",
   "nbconvert_exporter": "python",
   "pygments_lexer": "ipython3",
   "version": "3.6.6"
  }
 },
 "nbformat": 4,
 "nbformat_minor": 2
}
