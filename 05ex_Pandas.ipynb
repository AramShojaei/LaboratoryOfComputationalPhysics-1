{
 "cells": [
  {
   "cell_type": "markdown",
   "metadata": {},
   "source": [
    "## Pandas analysis\n",
    "\n",
    "In the following a series of exercises is proposed on a dataset containg timing information from a series of Time-to-Digital-Converters (TDC) implemented in a couple of FPGA's. Each measurement (i.e. each raw) consists of the address of the TDC providing the signal, 'FPGA' and 'TDC_Channel, and the timing information itself, 'ORBIT_CNT', 'BX_COUNTER' and 'TDC_MEAS'. Each TDC count correspond 25/30 ns, whereas the BX_COUNTER feauters gets updated every 25 ns and the ORBIT_CNT every 'x' BX_COUNTER. You can see these way of storing the time as similar to hours, minutes and seconds.\n",
    "\n",
    "1\\. Create a Pandas DataFrame by read N raws of the 'data_000637.txt' dataset. Choose N to be smaller than or equal to the maximum number of raws and larger that 10k.\n",
    "\n",
    "2\\. Find out the value of 'x'\n",
    "\n",
    "3\\. Find out how much the data taking lasted. You can either make an estimate on the basics of the fraction of the measurements (raws) you read, or perform this check precisely by reading out the whole dataset\n",
    "\n",
    "4\\. Create a new column with the actual time in ns (as a combination of the other three columns with timing information)\n",
    "\n",
    "5\\. Replace the values (all 1) of the HEAD column randomly with 0 or 1\n",
    "\n",
    "6\\. Create a new DataFrame with only the raws with HEAD=1\n",
    "\n",
    "7\\. Make two occupancy plots (one per FPGA), i.e. plot the number of counts per TDC channel\n",
    "\n",
    "8\\. Use the groupby method to find out the noisy channels, i.e. the TDC channels with most counts (say the top 3)\n",
    "\n",
    "9\\. Count the number of unique orbits. Count the number of unique orbits with at least one measurement from TDC_CHANNEL=139"
   ]
  },
  {
   "cell_type": "code",
   "execution_count": 92,
   "metadata": {},
   "outputs": [
    {
     "name": "stdout",
     "output_type": "stream",
     "text": [
      "The value of x: \n",
      " 3563\n",
      "How my data lasted: \n",
      " 0.9801411533125001\n",
      "Number of counts per TDC channel with FPGA=0:\n"
     ]
    },
    {
     "data": {
      "image/png": "[encoded data removed]",
      "text/plain": [
       "<Figure size 432x288 with 1 Axes>"
      ]
     },
     "metadata": {
      "needs_background": "light"
     },
     "output_type": "display_data"
    },
    {
     "name": "stdout",
     "output_type": "stream",
     "text": [
      "Number of counts per TDC channel with FPGA=1:\n"
     ]
    },
    {
     "data": {
      "image/png": "[encoded data removed]",
      "text/plain": [
       "<Figure size 432x288 with 1 Axes>"
      ]
     },
     "metadata": {
      "needs_background": "light"
     },
     "output_type": "display_data"
    },
    {
     "name": "stdout",
     "output_type": "stream",
     "text": [
      "The most 3 TDC noisy channels: \n",
      " 139    108059\n",
      "64      66020\n",
      "63      64642\n",
      "Name: TDC_CHANNEL, dtype: int64\n",
      "\n",
      "\n",
      "Number of unique orbits: \n",
      " 11001\n",
      "Number of unique orbits with TDC_CHANNEL = 139: \n",
      " 10976\n"
     ]
    }
   ],
   "source": [
    "import pandas as pd\n",
    "import numpy as np\n",
    "import random\n",
    "import math\n",
    "import matplotlib.pyplot as plt\n",
    "\n",
    "########## 1. ##########\n",
    "file_name = \"../data/data_000637.txt\"\n",
    "data=pd.read_csv(file_name)\n",
    "\n",
    "# To read the first N elements of my data:\n",
    "# N = 3000\n",
    "# data_N = pd.read_csv(file_name,nrows=N)\n",
    "# print(\"all data from 0 to N: \\n\", data[0:N])\n",
    "\n",
    "########## 2. ##########\n",
    "x = np.max(data['BX_COUNTER'])\n",
    "print(\"The value of x: \\n\", x)\n",
    "\n",
    "########## 3. & 4. ##########\n",
    "data['TIMENS'] = data['TDC_MEAS']*25/30+data['BX_COUNTER']*25+data['ORBIT_CNT']*(x*25)\n",
    "max_timens = np.max(data['TIMENS'])\n",
    "min_timens = np.min(data['TIMENS'])\n",
    "data_lasted = max_timens - min_timens\n",
    "print(\"How my data lasted: \\n\", data_lasted*1e-9)\n",
    "\n",
    "########## 5. ##########\n",
    "rdn_vec = np.random.randint(2,size=(data.shape[0],1))\n",
    "data['HEAD'] = rdn_vec\n",
    "#print(data)\n",
    "\n",
    "########## 6. ##########\n",
    "one_head = pd.DataFrame(data.loc[data['HEAD'] == 1])\n",
    "#print(one_head)\n",
    "\n",
    "########## 7. ##########\n",
    "fpga0_data = pd.DataFrame(one_head.loc[data['FPGA'] == 0])\n",
    "fpga1_data = pd.DataFrame(one_head.loc[data['FPGA'] == 1])\n",
    "#print(fpga0_data)\n",
    "\n",
    "# for fpga0\n",
    "count_tdc0 = fpga0_data['TDC_CHANNEL'].value_counts()\n",
    "\n",
    "# Save the values of count_tdc to plot the data\n",
    "y = count_tdc0.values\n",
    "x = count_tdc0.keys()\n",
    "\n",
    "%matplotlib inline\n",
    "print(\"Number of counts per TDC channel with FPGA=0:\")\n",
    "plt.scatter(x,y,marker='^',s=8,label='FPGA=0')\n",
    "plt.xlabel('TDC_CHANNEL')\n",
    "plt.ylabel('Number of counts')\n",
    "plt.show()\n",
    "\n",
    "#for fpga1\n",
    "count_tdc1 = fpga1_data['TDC_CHANNEL'].value_counts()\n",
    "\n",
    "# Save the values of count_tdc to plot the data\n",
    "y = count_tdc1.values\n",
    "x = count_tdc1.keys()\n",
    "\n",
    "%matplotlib inline\n",
    "print(\"Number of counts per TDC channel with FPGA=1:\")\n",
    "plt.scatter(x,y,marker='.',s=8,label='FPGA=1')\n",
    "plt.xlabel('TDC_CHANNEL')\n",
    "plt.ylabel('Number of counts')\n",
    "plt.show()\n",
    "\n",
    "########## 8. ##########\n",
    "count_tdc = data['TDC_CHANNEL'].value_counts()\n",
    "top3_tdc = count_tdc.groupby(count_tdc.keys()).nlargest(3)\n",
    "print(\"The most 3 TDC noisy channels: \\n\", top3_tdc[:3])\n",
    "print(\"\\n\")\n",
    "\n",
    "########## 9. ##########\n",
    "print(\"Number of unique orbits: \\n\", data['ORBIT_CNT'].nunique())\n",
    "\n",
    "tdc_139 = data.loc[data['TDC_CHANNEL'] == 139, 'ORBIT_CNT']\n",
    "print(\"Number of unique orbits with TDC_CHANNEL = 139: \\n\",tdc_139.nunique())\n",
    "\n"
   ]
  },
  {
   "cell_type": "code",
   "execution_count": null,
   "metadata": {},
   "outputs": [],
   "source": []
  },
  {
   "cell_type": "code",
   "execution_count": null,
   "metadata": {},
   "outputs": [],
   "source": []
  }
 ],
 "metadata": {
  "kernelspec": {
   "display_name": "Python 3",
   "language": "python",
   "name": "python3"
  },
  "language_info": {
   "codemirror_mode": {
    "name": "ipython",
    "version": 3
   },
   "file_extension": ".py",
   "mimetype": "text/x-python",
   "name": "python",
   "nbconvert_exporter": "python",
   "pygments_lexer": "ipython3",
   "version": "3.7.0"
  }
 },
 "nbformat": 4,
 "nbformat_minor": 2
}
