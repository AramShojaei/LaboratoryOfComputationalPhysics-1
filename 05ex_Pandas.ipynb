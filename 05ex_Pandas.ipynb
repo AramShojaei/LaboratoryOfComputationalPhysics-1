{
 "cells": [
  {
   "cell_type": "markdown",
   "metadata": {},
   "source": [
    "## Pandas analysis\n",
    "\n",
    "In the following a series of exercises is proposed on a dataset containg timing information from a series of Time-to-Digital-Converters (TDC) implemented in a couple of FPGA's. Each measurement (i.e. each raw) consists of the address of the TDC providing the signal, 'FPGA' and 'TDC_Channel, and the timing information itself, 'ORBIT_CNT', 'BX_COUNTER' and 'TDC_MEAS'. Each TDC count correspond 25/30 ns, whereas the BX_COUNTER feauters gets updated every 25 ns and the ORBIT_CNT every 'x' BX_COUNTER. You can see these way of storing the time as similar to hours, minutes and seconds.\n",
    "\n",
    "1\\. Create a Pandas DataFrame by read N raws of the 'data_000637.txt' dataset. Choose N to be smaller than or equal to the maximum number of raws and larger that 10k.\n",
    "\n",
    "2\\. Find out the value of 'x'\n",
    "\n",
    "3\\. Find out how much the data taking lasted. You can either make an estimate on the baseis of the fraction of the measurements (raws) you read, or perform this check precisely by reading out the whole dataset\n",
    "\n",
    "4\\. Create a new column with the actual time in ns (as a combination of the other three columns with timing information)\n",
    "\n",
    "5\\. Replace the values (all 1) of the HEAD column randomly with 0 or 1\n",
    "\n",
    "6\\. Create a new DataFrame with only the raws with HEAD=1\n",
    "\n",
    "7\\. Make two occupancy plots (one per FPGA), i.e. plot the number of counts per TDC channel\n",
    "\n",
    "8\\. Use the groupby method to find out the noisy channels, i.e. the TDC channels with most counts (say the top 3)\n",
    "\n",
    "9\\. Count the number of unique orbits. Count the number of unique orbits with at least one measurement from TDC_CHANNEL=139\n",
    "\n",
    "---\n",
    "\n",
    "**1)** Create a Pandas DataFrame by read N raws of the 'data_000637.txt' dataset.\n",
    "\n",
    "Choose N to be smaller than or equal to the maximum number of raws and larger that 10k."
   ]
  },
  {
   "cell_type": "code",
   "execution_count": 1,
   "metadata": {},
   "outputs": [],
   "source": [
    "import os\n",
    "import numpy as np\n",
    "import pandas as pd\n",
    "import matplotlib.pyplot as plt"
   ]
  },
  {
   "cell_type": "code",
   "execution_count": 2,
   "metadata": {},
   "outputs": [],
   "source": [
    "# read all file\n",
    "filename = os.path.expanduser('~/data/data_000637.txt')\n",
    "dsFull = pd.read_csv(filename)\n",
    "#print(len(dsFull))\n",
    "\n",
    "# extract reduced dataset\n",
    "N = 20000\n",
    "ds = dsFull[:N].copy()\n",
    "#ds = dsFull\n",
    "\n",
    "# split by FPGA (useful later)\n",
    "ds0 = ds[ ds['FPGA']==0 ]\n",
    "ds1 = ds[ ds['FPGA']==1 ]"
   ]
  },
  {
   "cell_type": "markdown",
   "metadata": {},
   "source": [
    "**2)** Find 'x' (here named `bxPerOrbit`).\n",
    "\n",
    "- Each TDC count is 25/30 ns\n",
    "- BX_COUNTER gets updated every 30 ns\n",
    "- ORBIT_CNT every 'x' BX_COUNTER."
   ]
  },
  {
   "cell_type": "code",
   "execution_count": 3,
   "metadata": {},
   "outputs": [
    {
     "name": "stdout",
     "output_type": "stream",
     "text": [
      "3564\n"
     ]
    }
   ],
   "source": [
    "# note: this is the only value computed on the full dataset\n",
    "bxPerOrbit = np.max(dsFull['BX_COUNTER'])+1\n",
    "print(bxPerOrbit)"
   ]
  },
  {
   "cell_type": "markdown",
   "metadata": {},
   "source": [
    "**3)** Find out how much the data taking lasted. You can either make an estimate on the baseis of the fraction of the measurements (raws) you read, or perform this check precisely by reading out the whole dataset"
   ]
  },
  {
   "cell_type": "code",
   "execution_count": 4,
   "metadata": {},
   "outputs": [
    {
     "name": "stdout",
     "output_type": "stream",
     "text": [
      "21281544.1875\n",
      "21170154.1875\n"
     ]
    }
   ],
   "source": [
    "omin0 = ds0['ORBIT_CNT'].min() # orbit min and max on both FPGAs\n",
    "omax0 = ds0['ORBIT_CNT'].max()\n",
    "omin1 = ds1['ORBIT_CNT'].min()\n",
    "omax1 = ds1['ORBIT_CNT'].max()\n",
    "\n",
    "bmin0 = ds0[ ds0['ORBIT_CNT']==omin0 ]['BX_COUNTER'].min() # min bx of min orbit on FPGA0\n",
    "bmax0 = ds0[ ds0['ORBIT_CNT']==omax0 ]['BX_COUNTER'].max() # max bx of max orbit on FPGA0\n",
    "bmin1 = ds1[ ds1['ORBIT_CNT']==omin1 ]['BX_COUNTER'].min() # same for FPGA 1\n",
    "bmax1 = ds1[ ds1['ORBIT_CNT']==omax1 ]['BX_COUNTER'].max()\n",
    "\n",
    "tmin0 = ds0['TDC_MEAS'].min() # quite an approximation, but trying\n",
    "tmax0 = ds0['TDC_MEAS'].max() # not to over-complicate the computation\n",
    "tmin1 = ds1['TDC_MEAS'].min()\n",
    "tmax1 = ds1['TDC_MEAS'].max()\n",
    "\n",
    "delta0 = (omax0*bxPerOrbit*30 + bmax0*30 + tmax0*25/30) - \\\n",
    "         (omin0*bxPerOrbit*30 + bmin0*30 + tmin0*25/30) # difference (last - first)\n",
    "delta1 = (omax1*bxPerOrbit*30 + bmax1*30 + tmax1*25/30) - \\\n",
    "         (omin1*bxPerOrbit*30 + bmin1*30 + tmin1*25/30)\n",
    "print(delta0)\n",
    "print(delta1)"
   ]
  },
  {
   "cell_type": "markdown",
   "metadata": {},
   "source": [
    "**4)** Create a new column with the actual time in ns (as a combination of the other three columns with timing information)"
   ]
  },
  {
   "cell_type": "code",
   "execution_count": 5,
   "metadata": {},
   "outputs": [],
   "source": [
    "ds['TIME'] = ds['ORBIT_CNT']*bxPerOrbit*30 + ds['BX_COUNTER']*30 + ds['TDC_MEAS']*25/30\n",
    "# ds"
   ]
  },
  {
   "cell_type": "markdown",
   "metadata": {},
   "source": [
    "**5)** Replace the values (all 1) of the HEAD column randomly with 0 or 1"
   ]
  },
  {
   "cell_type": "code",
   "execution_count": 6,
   "metadata": {},
   "outputs": [],
   "source": [
    "ds['HEAD'] = np.random.randint(0,2, len(ds['HEAD']))\n",
    "# ds"
   ]
  },
  {
   "cell_type": "markdown",
   "metadata": {},
   "source": [
    "**6)** Create a new DataFrame with only the raws with HEAD=1"
   ]
  },
  {
   "cell_type": "code",
   "execution_count": 7,
   "metadata": {},
   "outputs": [],
   "source": [
    "dsH1 = ds[ ds['HEAD']==1 ].copy()\n",
    "# dsH1"
   ]
  },
  {
   "cell_type": "markdown",
   "metadata": {},
   "source": [
    "**7)** Make two occupancy plots (one per FPGA), i.e. plot the number of counts per TDC channel"
   ]
  },
  {
   "cell_type": "code",
   "execution_count": 8,
   "metadata": {},
   "outputs": [
    {
     "data": {
      "image/png": "[encoded data removed]",
      "text/plain": [
       "<Figure size 432x288 with 1 Axes>"
      ]
     },
     "metadata": {
      "needs_background": "light"
     },
     "output_type": "display_data"
    },
    {
     "data": {
      "image/png": "[encoded data removed]",
      "text/plain": [
       "<Figure size 432x288 with 1 Axes>"
      ]
     },
     "metadata": {
      "needs_background": "light"
     },
     "output_type": "display_data"
    }
   ],
   "source": [
    "# get max number of channels = number of \"bins\" of the histogram\n",
    "max_tdc_channel = ds['TDC_CHANNEL'].max()\n",
    "\n",
    "plt.hist(ds0['TDC_CHANNEL'], bins=max_tdc_channel)\n",
    "plt.title(\"FPGA 0\")\n",
    "plt.show()\n",
    "\n",
    "plt.hist(ds1['TDC_CHANNEL'], bins=max_tdc_channel)\n",
    "plt.title(\"FPGA 1\")\n",
    "plt.show()"
   ]
  },
  {
   "cell_type": "markdown",
   "metadata": {},
   "source": [
    "**8)** Use the groupby method to find out the noisy channels, i.e. the TDC channels with most counts (say the top 3)"
   ]
  },
  {
   "cell_type": "code",
   "execution_count": 9,
   "metadata": {},
   "outputs": [
    {
     "name": "stdout",
     "output_type": "stream",
     "text": [
      "Most noisy channels on FPGA0: [139, 64, 63, 61, 62]\n",
      "Most noisy channels on FPGA1: [139, 2, 1, 4, 3]\n"
     ]
    }
   ],
   "source": [
    "HOWMANY = 5\n",
    "\n",
    "# group by channel, keep only one column\n",
    "# count occurrencies, sort by values\n",
    "# get last indexes (from their column), reverse\n",
    "group0 = ds0.groupby('TDC_CHANNEL')['HEAD']\n",
    "count0 = group0.count().sort_values()\n",
    "noisy0 = list(count0.index[-HOWMANY:])\n",
    "print(\"Most noisy channels on FPGA0:\", noisy0[::-1])\n",
    "\n",
    "group1 = ds1.groupby('TDC_CHANNEL')['HEAD']\n",
    "count1 = group1.count().sort_values()\n",
    "noisy1 = list(count1.index[-HOWMANY:])\n",
    "print(\"Most noisy channels on FPGA1:\", noisy1[::-1])\n",
    "\n",
    "# list() is used only for displaying reasons: it is an array of Int64Index\n",
    "# not automatically casted to list(int), and print() outputs a lot of clutter"
   ]
  },
  {
   "cell_type": "markdown",
   "metadata": {},
   "source": [
    "**9)** Count the number of unique orbits. Count the number of unique orbits with at least one measurement from TDC_CHANNEL=139\n"
   ]
  },
  {
   "cell_type": "code",
   "execution_count": 10,
   "metadata": {},
   "outputs": [
    {
     "name": "stdout",
     "output_type": "stream",
     "text": [
      "Unique orbits per FPGA = 200, 199\n",
      "With at least one meas. from channel 139 = 200, 187\n",
      "\n",
      "Not splitting dataset by FPGAs:\n",
      "Unique orbits = 200\n",
      "With at least one meas. from channel 139 = 200\n"
     ]
    }
   ],
   "source": [
    "unique0 = len(ds0['ORBIT_CNT'].unique())\n",
    "unique1 = len(ds1['ORBIT_CNT'].unique())\n",
    "uniqueT = len(ds ['ORBIT_CNT'].unique())\n",
    "\n",
    "unique0h = len(ds0[ ds0['TDC_CHANNEL']==139 ]['ORBIT_CNT'].unique())\n",
    "unique1h = len(ds1[ ds1['TDC_CHANNEL']==139 ]['ORBIT_CNT'].unique())\n",
    "uniqueTh = len(ds [ ds ['TDC_CHANNEL']==139 ]['ORBIT_CNT'].unique())\n",
    "\n",
    "print(\"Unique orbits per FPGA = {}, {}\".format(unique0, unique1))\n",
    "print(\"With at least one meas. from channel 139 = {}, {}\".format(unique0h, unique1h))\n",
    "\n",
    "print(\"\\nNot splitting dataset by FPGAs:\\nUnique orbits = {}\".format(uniqueT))\n",
    "print(\"With at least one meas. from channel 139 = {}\".format(uniqueTh))"
   ]
  }
 ],
 "metadata": {
  "kernelspec": {
   "display_name": "Python 3",
   "language": "python",
   "name": "python3"
  },
  "language_info": {
   "codemirror_mode": {
    "name": "ipython",
    "version": 3
   },
   "file_extension": ".py",
   "mimetype": "text/x-python",
   "name": "python",
   "nbconvert_exporter": "python",
   "pygments_lexer": "ipython3",
   "version": "3.7.0"
  }
 },
 "nbformat": 4,
 "nbformat_minor": 2
}
