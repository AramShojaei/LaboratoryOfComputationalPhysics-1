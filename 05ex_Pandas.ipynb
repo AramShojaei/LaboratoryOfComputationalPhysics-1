{
 "cells": [
  {
   "cell_type": "markdown",
   "metadata": {},
   "source": [
    "## Pandas analysis\n",
    "\n",
    "In the following a series of exercises is proposed on a dataset containg timing information from a series of Time-to-Digital-Converters (TDC) implemented in a couple of FPGA's. Each measurement (i.e. each raw) consists of the address of the TDC providing the signal, 'FPGA' and 'TDC_Channel, and the timing information itself, 'ORBIT_CNT', 'BX_COUNTER' and 'TDC_MEAS'. Each TDC count correspond 25/30 ns, whereas the BX_COUNTER feauters gets updated every 25 ns and the ORBIT_CNT every 'x' BX_COUNTER. You can see these way of storing the time as similar to hours, minutes and seconds.\n",
    "\n",
    "1\\. Create a Pandas DataFrame by read N raws of the 'data_000637.txt' dataset. Choose N to be smaller than or equal to the maximum number of raws and larger that 10k.\n",
    "\n",
    "2\\. Find out the value of 'x'\n",
    "\n",
    "3\\. Find out how much the data taking lasted. You can either make an estimate on the baseis of the fraction of the measurements (raws) you read, or perform this check precisely by reading out the whole dataset\n",
    "\n",
    "4\\. Create a new column with the actual time in ns (as a combination of the other three columns with timing information)\n",
    "\n",
    "5\\. Replace the values (all 1) of the HEAD column randomly with 0 or 1\n",
    "\n",
    "6\\. Create a new DataFrame with only the raws with HEAD=1\n",
    "\n",
    "7\\. Make two occupancy plots (one per FPGA), i.e. plot the number of counts per TDC channel\n",
    "\n",
    "8\\. Use the groupby method to find out the noisy channels, i.e. the TDC channels with most counts (say the top 3)\n",
    "\n",
    "9\\. Count the number of unique orbits. Count the number of unique orbits with at least one measurement from TDC_CHANNEL=139"
   ]
  },
  {
   "cell_type": "markdown",
   "metadata": {},
   "source": [
    "## EX 1"
   ]
  },
  {
   "cell_type": "code",
   "execution_count": 1,
   "metadata": {},
   "outputs": [],
   "source": [
    "import pandas as pd\n",
    "import numpy as np"
   ]
  },
  {
   "cell_type": "code",
   "execution_count": 3,
   "metadata": {},
   "outputs": [],
   "source": [
    "filename = 'data_000637.txt'\n",
    "#data=pd.read_csv(filename, nrows=2000)\n",
    "data = pd.read_csv(filename)"
   ]
  },
  {
   "cell_type": "code",
   "execution_count": 4,
   "metadata": {},
   "outputs": [],
   "source": [
    "#data.describe()"
   ]
  },
  {
   "cell_type": "code",
   "execution_count": 5,
   "metadata": {},
   "outputs": [
    {
     "data": {
      "text/plain": [
       "Index(['HEAD', 'FPGA', 'TDC_CHANNEL', 'ORBIT_CNT', 'BX_COUNTER', 'TDC_MEAS'], dtype='object')"
      ]
     },
     "execution_count": 5,
     "metadata": {},
     "output_type": "execute_result"
    }
   ],
   "source": [
    "data.columns"
   ]
  },
  {
   "cell_type": "code",
   "execution_count": 6,
   "metadata": {},
   "outputs": [
    {
     "data": {
      "text/html": [
       "<div>\n",
       "<style scoped>\n",
       "    .dataframe tbody tr th:only-of-type {\n",
       "        vertical-align: middle;\n",
       "    }\n",
       "\n",
       "    .dataframe tbody tr th {\n",
       "        vertical-align: top;\n",
       "    }\n",
       "\n",
       "    .dataframe thead th {\n",
       "        text-align: right;\n",
       "    }\n",
       "</style>\n",
       "<table border=\"1\" class=\"dataframe\">\n",
       "  <thead>\n",
       "    <tr style=\"text-align: right;\">\n",
       "      <th></th>\n",
       "      <th>HEAD</th>\n",
       "      <th>FPGA</th>\n",
       "      <th>TDC_CHANNEL</th>\n",
       "      <th>ORBIT_CNT</th>\n",
       "      <th>BX_COUNTER</th>\n",
       "      <th>TDC_MEAS</th>\n",
       "    </tr>\n",
       "  </thead>\n",
       "  <tbody>\n",
       "    <tr>\n",
       "      <th>0</th>\n",
       "      <td>1</td>\n",
       "      <td>0</td>\n",
       "      <td>123</td>\n",
       "      <td>3869200167</td>\n",
       "      <td>2374</td>\n",
       "      <td>26</td>\n",
       "    </tr>\n",
       "    <tr>\n",
       "      <th>1</th>\n",
       "      <td>1</td>\n",
       "      <td>0</td>\n",
       "      <td>124</td>\n",
       "      <td>3869200167</td>\n",
       "      <td>2374</td>\n",
       "      <td>27</td>\n",
       "    </tr>\n",
       "    <tr>\n",
       "      <th>2</th>\n",
       "      <td>1</td>\n",
       "      <td>0</td>\n",
       "      <td>63</td>\n",
       "      <td>3869200167</td>\n",
       "      <td>2553</td>\n",
       "      <td>28</td>\n",
       "    </tr>\n",
       "    <tr>\n",
       "      <th>3</th>\n",
       "      <td>1</td>\n",
       "      <td>0</td>\n",
       "      <td>64</td>\n",
       "      <td>3869200167</td>\n",
       "      <td>2558</td>\n",
       "      <td>19</td>\n",
       "    </tr>\n",
       "    <tr>\n",
       "      <th>4</th>\n",
       "      <td>1</td>\n",
       "      <td>0</td>\n",
       "      <td>64</td>\n",
       "      <td>3869200167</td>\n",
       "      <td>2760</td>\n",
       "      <td>25</td>\n",
       "    </tr>\n",
       "    <tr>\n",
       "      <th>5</th>\n",
       "      <td>1</td>\n",
       "      <td>0</td>\n",
       "      <td>63</td>\n",
       "      <td>3869200167</td>\n",
       "      <td>2762</td>\n",
       "      <td>4</td>\n",
       "    </tr>\n",
       "    <tr>\n",
       "      <th>6</th>\n",
       "      <td>1</td>\n",
       "      <td>0</td>\n",
       "      <td>61</td>\n",
       "      <td>3869200167</td>\n",
       "      <td>2772</td>\n",
       "      <td>14</td>\n",
       "    </tr>\n",
       "    <tr>\n",
       "      <th>7</th>\n",
       "      <td>1</td>\n",
       "      <td>0</td>\n",
       "      <td>139</td>\n",
       "      <td>3869200167</td>\n",
       "      <td>2776</td>\n",
       "      <td>0</td>\n",
       "    </tr>\n",
       "    <tr>\n",
       "      <th>8</th>\n",
       "      <td>1</td>\n",
       "      <td>0</td>\n",
       "      <td>62</td>\n",
       "      <td>3869200167</td>\n",
       "      <td>2774</td>\n",
       "      <td>21</td>\n",
       "    </tr>\n",
       "    <tr>\n",
       "      <th>9</th>\n",
       "      <td>1</td>\n",
       "      <td>0</td>\n",
       "      <td>60</td>\n",
       "      <td>3869200167</td>\n",
       "      <td>2788</td>\n",
       "      <td>7</td>\n",
       "    </tr>\n",
       "    <tr>\n",
       "      <th>10</th>\n",
       "      <td>1</td>\n",
       "      <td>1</td>\n",
       "      <td>7</td>\n",
       "      <td>3869200167</td>\n",
       "      <td>2785</td>\n",
       "      <td>4</td>\n",
       "    </tr>\n",
       "    <tr>\n",
       "      <th>11</th>\n",
       "      <td>1</td>\n",
       "      <td>0</td>\n",
       "      <td>64</td>\n",
       "      <td>3869200167</td>\n",
       "      <td>2786</td>\n",
       "      <td>19</td>\n",
       "    </tr>\n",
       "    <tr>\n",
       "      <th>12</th>\n",
       "      <td>1</td>\n",
       "      <td>1</td>\n",
       "      <td>6</td>\n",
       "      <td>3869200167</td>\n",
       "      <td>2792</td>\n",
       "      <td>18</td>\n",
       "    </tr>\n",
       "    <tr>\n",
       "      <th>13</th>\n",
       "      <td>1</td>\n",
       "      <td>0</td>\n",
       "      <td>36</td>\n",
       "      <td>3869200167</td>\n",
       "      <td>2791</td>\n",
       "      <td>23</td>\n",
       "    </tr>\n",
       "    <tr>\n",
       "      <th>14</th>\n",
       "      <td>1</td>\n",
       "      <td>0</td>\n",
       "      <td>56</td>\n",
       "      <td>3869200167</td>\n",
       "      <td>2789</td>\n",
       "      <td>3</td>\n",
       "    </tr>\n",
       "  </tbody>\n",
       "</table>\n",
       "</div>"
      ],
      "text/plain": [
       "    HEAD  FPGA  TDC_CHANNEL   ORBIT_CNT  BX_COUNTER  TDC_MEAS\n",
       "0      1     0          123  3869200167        2374        26\n",
       "1      1     0          124  3869200167        2374        27\n",
       "2      1     0           63  3869200167        2553        28\n",
       "3      1     0           64  3869200167        2558        19\n",
       "4      1     0           64  3869200167        2760        25\n",
       "5      1     0           63  3869200167        2762         4\n",
       "6      1     0           61  3869200167        2772        14\n",
       "7      1     0          139  3869200167        2776         0\n",
       "8      1     0           62  3869200167        2774        21\n",
       "9      1     0           60  3869200167        2788         7\n",
       "10     1     1            7  3869200167        2785         4\n",
       "11     1     0           64  3869200167        2786        19\n",
       "12     1     1            6  3869200167        2792        18\n",
       "13     1     0           36  3869200167        2791        23\n",
       "14     1     0           56  3869200167        2789         3"
      ]
     },
     "execution_count": 6,
     "metadata": {},
     "output_type": "execute_result"
    }
   ],
   "source": [
    "data.head(15)"
   ]
  },
  {
   "cell_type": "markdown",
   "metadata": {},
   "source": [
    " Each measurement (i.e. each raw) consists of the address of the TDC providing the signal, 'FPGA' and 'TDC_Channel, and the timing information itself, 'ORBIT_CNT', 'BX_COUNTER' and 'TDC_MEAS'. Each TDC count correspond 25/30 ns, whereas the BX_COUNTER feauters gets updated every 25 ns and the ORBIT_CNT every 'x' BX_COUNTER.\n",
    " time = TDC*25ns/30 + bx counter * 25"
   ]
  },
  {
   "cell_type": "code",
   "execution_count": 7,
   "metadata": {},
   "outputs": [],
   "source": [
    "#data.mean()"
   ]
  },
  {
   "cell_type": "code",
   "execution_count": 8,
   "metadata": {},
   "outputs": [
    {
     "data": {
      "text/plain": [
       "<Figure size 640x480 with 1 Axes>"
      ]
     },
     "metadata": {},
     "output_type": "display_data"
    }
   ],
   "source": [
    "import matplotlib.pyplot as plt\n",
    "data['ORBIT_CNT'].plot()\n",
    "plt.show()"
   ]
  },
  {
   "cell_type": "code",
   "execution_count": 9,
   "metadata": {},
   "outputs": [],
   "source": [
    "#data['BX_COUNTER'].plot()\n",
    "#plt.show()"
   ]
  },
  {
   "cell_type": "markdown",
   "metadata": {},
   "source": [
    "## EX2"
   ]
  },
  {
   "cell_type": "code",
   "execution_count": 10,
   "metadata": {},
   "outputs": [],
   "source": [
    "#data[data.BX_COUNTER > 3400]"
   ]
  },
  {
   "cell_type": "code",
   "execution_count": 11,
   "metadata": {},
   "outputs": [
    {
     "data": {
      "text/plain": [
       "3563"
      ]
     },
     "execution_count": 11,
     "metadata": {},
     "output_type": "execute_result"
    }
   ],
   "source": [
    "x = data['BX_COUNTER'].max()\n",
    "x"
   ]
  },
  {
   "cell_type": "code",
   "execution_count": 12,
   "metadata": {},
   "outputs": [
    {
     "data": {
      "image/png": "[encoded data removed]",
      "text/plain": [
       "<Figure size 432x288 with 1 Axes>"
      ]
     },
     "metadata": {
      "needs_background": "light"
     },
     "output_type": "display_data"
    }
   ],
   "source": [
    "data['TDC_MEAS'].plot()\n",
    "plt.show()"
   ]
  },
  {
   "cell_type": "markdown",
   "metadata": {},
   "source": [
    "## EX4"
   ]
  },
  {
   "cell_type": "code",
   "execution_count": 13,
   "metadata": {},
   "outputs": [],
   "source": [
    "a = 3563*25\n",
    "b = 25\n",
    "c = 25/30\n",
    "#data['time'] = pd.Series(data[['ORBIT_CNT', 'BX_COUNTER', 'TDC_MEAS']].apply(lambda x,y,z : x*a + y*b + z*c))\n",
    "data['time_ns'] = data['ORBIT_CNT']*a + data['BX_COUNTER']*b + data['TDC_MEAS']*c \n",
    "#data['time_ns'] = data['BX_COUNTER']*b + data['TDC_MEAS']*c "
   ]
  },
  {
   "cell_type": "code",
   "execution_count": 14,
   "metadata": {},
   "outputs": [
    {
     "data": {
      "text/plain": [
       "0          3.446490e+14\n",
       "1          3.446490e+14\n",
       "2          3.446490e+14\n",
       "3          3.446490e+14\n",
       "4          3.446490e+14\n",
       "5          3.446490e+14\n",
       "6          3.446490e+14\n",
       "7          3.446490e+14\n",
       "8          3.446490e+14\n",
       "9          3.446490e+14\n",
       "10         3.446490e+14\n",
       "11         3.446490e+14\n",
       "12         3.446490e+14\n",
       "13         3.446490e+14\n",
       "14         3.446490e+14\n",
       "15         3.446490e+14\n",
       "16         3.446490e+14\n",
       "17         3.446490e+14\n",
       "18         3.446490e+14\n",
       "19         3.446490e+14\n",
       "20         3.446490e+14\n",
       "21         3.446490e+14\n",
       "22         3.446490e+14\n",
       "23         3.446490e+14\n",
       "24         3.446490e+14\n",
       "25         3.446490e+14\n",
       "26         3.446490e+14\n",
       "27         3.446490e+14\n",
       "28         3.446490e+14\n",
       "29         3.446490e+14\n",
       "               ...     \n",
       "1310690    3.446500e+14\n",
       "1310691    3.446500e+14\n",
       "1310692    3.446500e+14\n",
       "1310693    3.446500e+14\n",
       "1310694    3.446500e+14\n",
       "1310695    3.446500e+14\n",
       "1310696    3.446500e+14\n",
       "1310697    3.446500e+14\n",
       "1310698    3.446500e+14\n",
       "1310699    3.446500e+14\n",
       "1310700    3.446500e+14\n",
       "1310701    3.446500e+14\n",
       "1310702    3.446500e+14\n",
       "1310703    3.446500e+14\n",
       "1310704    3.446500e+14\n",
       "1310705    3.446500e+14\n",
       "1310706    3.446500e+14\n",
       "1310707    3.446500e+14\n",
       "1310708    3.446500e+14\n",
       "1310709    3.446500e+14\n",
       "1310710    3.446500e+14\n",
       "1310711    3.446500e+14\n",
       "1310712    3.446500e+14\n",
       "1310713    3.446500e+14\n",
       "1310714    3.446500e+14\n",
       "1310715    3.446500e+14\n",
       "1310716    3.446500e+14\n",
       "1310717    3.446500e+14\n",
       "1310718    3.446500e+14\n",
       "1310719    3.446500e+14\n",
       "Name: time_ns, Length: 1310720, dtype: float64"
      ]
     },
     "execution_count": 14,
     "metadata": {},
     "output_type": "execute_result"
    }
   ],
   "source": [
    "data['time_ns']"
   ]
  },
  {
   "cell_type": "code",
   "execution_count": 15,
   "metadata": {},
   "outputs": [
    {
     "data": {
      "image/png": "[encoded data removed]",
      "text/plain": [
       "<Figure size 432x288 with 1 Axes>"
      ]
     },
     "metadata": {
      "needs_background": "light"
     },
     "output_type": "display_data"
    }
   ],
   "source": [
    "data['time_ns'].plot()\n",
    "plt.show()"
   ]
  },
  {
   "cell_type": "markdown",
   "metadata": {},
   "source": [
    "## EX3"
   ]
  },
  {
   "cell_type": "code",
   "execution_count": 16,
   "metadata": {},
   "outputs": [
    {
     "name": "stdout",
     "output_type": "stream",
     "text": [
      "980140993.3125 ns\n"
     ]
    }
   ],
   "source": [
    "elapsed_time = (data['time_ns'].iloc[-1] - data['time_ns'].iloc[0])\n",
    "print(elapsed_time, 'ns')"
   ]
  },
  {
   "cell_type": "markdown",
   "metadata": {},
   "source": [
    "## EX5"
   ]
  },
  {
   "cell_type": "code",
   "execution_count": 17,
   "metadata": {},
   "outputs": [],
   "source": [
    "N = data.shape[0]\n",
    "data['HEAD'] = np.random.randint(0, high = 2, size = N)"
   ]
  },
  {
   "cell_type": "code",
   "execution_count": 18,
   "metadata": {},
   "outputs": [],
   "source": [
    "#help(np.random.randint)"
   ]
  },
  {
   "cell_type": "code",
   "execution_count": 19,
   "metadata": {},
   "outputs": [
    {
     "data": {
      "text/plain": [
       "0.4999961853027344"
      ]
     },
     "execution_count": 19,
     "metadata": {},
     "output_type": "execute_result"
    }
   ],
   "source": [
    "data['HEAD'].mean()"
   ]
  },
  {
   "cell_type": "markdown",
   "metadata": {},
   "source": [
    "## EX 6 /  7 / 8\n",
    "Make two occupancy plots (one per FPGA), i.e. plot the number of counts per TDC channel"
   ]
  },
  {
   "cell_type": "code",
   "execution_count": 22,
   "metadata": {},
   "outputs": [],
   "source": [
    "data['counts'] = 0\n",
    "one_one = data[(data['HEAD'] == 1) & (data['FPGA'] == 1)]\n",
    "one_zero = data[(data['HEAD'] == 1) & (data['FPGA'] == 0)]\n",
    "zero_one = data[(data['HEAD'] == 0) & (data['FPGA'] == 1)]\n",
    "zero_zero = data[(data['HEAD'] == 0) & (data['FPGA'] == 0)]"
   ]
  },
  {
   "cell_type": "code",
   "execution_count": 23,
   "metadata": {},
   "outputs": [
    {
     "data": {
      "image/png": "[encoded data removed]",
      "text/plain": [
       "<Figure size 432x288 with 1 Axes>"
      ]
     },
     "metadata": {
      "needs_background": "light"
     },
     "output_type": "display_data"
    }
   ],
   "source": [
    "one_one_ch_count = one_one.groupby('TDC_CHANNEL')['counts'].count()\n",
    "one_zero_ch_count = one_zero.groupby('TDC_CHANNEL')['counts'].count()\n",
    "zero_one_ch_count = zero_one.groupby('TDC_CHANNEL')['counts'].count()\n",
    "zero_zero_ch_count = zero_zero.groupby('TDC_CHANNEL')['counts'].count()\n",
    "\n",
    "one_one_ch_count.plot()\n",
    "one_zero_ch_count.plot()\n",
    "plt.show()"
   ]
  },
  {
   "cell_type": "code",
   "execution_count": 24,
   "metadata": {},
   "outputs": [
    {
     "data": {
      "image/png": "[encoded data removed]",
      "text/plain": [
       "<Figure size 432x288 with 1 Axes>"
      ]
     },
     "metadata": {
      "needs_background": "light"
     },
     "output_type": "display_data"
    }
   ],
   "source": [
    "#doesn't depend on head (of course), but only on FPGA\n",
    "zero_one_ch_count.plot()\n",
    "zero_zero_ch_count.plot()\n",
    "plt.show()"
   ]
  },
  {
   "cell_type": "markdown",
   "metadata": {},
   "source": [
    "## EX8\n",
    "Use the groupby method to find out the noisy channels, i.e. the TDC channels with most counts (say the top 3)"
   ]
  },
  {
   "cell_type": "code",
   "execution_count": 43,
   "metadata": {},
   "outputs": [
    {
     "data": {
      "text/plain": [
       "TDC_CHANNEL\n",
       "139    16323\n",
       "2      16316\n",
       "1      14251\n",
       "4      13293\n",
       "3      10939\n",
       "6       9397\n",
       "8       8798\n",
       "5       7555\n",
       "7       6824\n",
       "10      6484\n",
       "12      6315\n",
       "11      4604\n",
       "14      4226\n",
       "16      4200\n",
       "13      3059\n",
       "20      2845\n",
       "15      2815\n",
       "18      2626\n",
       "24      2200\n",
       "22      1835\n",
       "28      1797\n",
       "17      1785\n",
       "19      1715\n",
       "32      1423\n",
       "26      1377\n",
       "23      1261\n",
       "36      1254\n",
       "21      1190\n",
       "30      1061\n",
       "40      1037\n",
       "       ...  \n",
       "71       159\n",
       "72       156\n",
       "93       146\n",
       "95       133\n",
       "74       132\n",
       "96       121\n",
       "81       108\n",
       "94       107\n",
       "75       104\n",
       "77       102\n",
       "85       100\n",
       "89        98\n",
       "76        93\n",
       "80        88\n",
       "91        86\n",
       "78        82\n",
       "83        80\n",
       "90        77\n",
       "84        76\n",
       "87        75\n",
       "92        71\n",
       "79        70\n",
       "88        65\n",
       "86        60\n",
       "82        58\n",
       "9         37\n",
       "138       21\n",
       "137       18\n",
       "129       15\n",
       "130       14\n",
       "Name: counts, Length: 132, dtype: int64"
      ]
     },
     "execution_count": 43,
     "metadata": {},
     "output_type": "execute_result"
    }
   ],
   "source": [
    "#top 3\n",
    "#one_one_ch_count.sort_values(ascending = False)[:3]\n",
    "# or all\n",
    "one_one_ch_count.sort_values(ascending = False)"
   ]
  },
  {
   "cell_type": "markdown",
   "metadata": {},
   "source": [
    "## EX9\n",
    "\n",
    "Count the number of unique orbits. Count the number of unique orbits with at least one measurement from TDC_CHANNEL=139"
   ]
  },
  {
   "cell_type": "code",
   "execution_count": 40,
   "metadata": {},
   "outputs": [
    {
     "name": "stdout",
     "output_type": "stream",
     "text": [
      "Number of unique orbits:  11001\n"
     ]
    }
   ],
   "source": [
    "orbits = np.array(data['ORBIT_CNT'])\n",
    "unique_orbits = np.unique(orbits)\n",
    "print('Number of unique orbits: ', len(unique_orbits))"
   ]
  },
  {
   "cell_type": "code",
   "execution_count": 42,
   "metadata": {},
   "outputs": [
    {
     "name": "stdout",
     "output_type": "stream",
     "text": [
      "Number of unique orbits with at least one measurement from TDC_CHANNEL=139:  10976\n"
     ]
    }
   ],
   "source": [
    "# TDC_CHANNEL=139 (that is the most busy channel!)\n",
    "data139 = data[data['TDC_CHANNEL'] == 139]\n",
    "orbits139 = np.array(data139['ORBIT_CNT'])\n",
    "unique_orbits139 = np.unique(orbits139)\n",
    "print('Number of unique orbits with at least one measurement from TDC_CHANNEL=139: ', len(unique_orbits139))"
   ]
  },
  {
   "cell_type": "code",
   "execution_count": 45,
   "metadata": {},
   "outputs": [
    {
     "name": "stdout",
     "output_type": "stream",
     "text": [
      "Number of unique orbits with at least one measurement from TDC_CHANNEL=130:  67\n"
     ]
    }
   ],
   "source": [
    "# let's see for the least busy channel: TDC_CHANNEL = 130\n",
    "data130 = data[data['TDC_CHANNEL'] == 130]\n",
    "orbits130 = np.array(data130['ORBIT_CNT'])\n",
    "unique_orbits130 = np.unique(orbits130)\n",
    "print('Number of unique orbits with at least one measurement from TDC_CHANNEL=130: ', len(unique_orbits130))"
   ]
  }
 ],
 "metadata": {
  "kernelspec": {
   "display_name": "Python 3",
   "language": "python",
   "name": "python3"
  },
  "language_info": {
   "codemirror_mode": {
    "name": "ipython",
    "version": 3
   },
   "file_extension": ".py",
   "mimetype": "text/x-python",
   "name": "python",
   "nbconvert_exporter": "python",
   "pygments_lexer": "ipython3",
   "version": "3.7.0"
  }
 },
 "nbformat": 4,
 "nbformat_minor": 2
}
