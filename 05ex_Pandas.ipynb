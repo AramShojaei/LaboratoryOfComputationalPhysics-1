{
 "cells": [
  {
   "cell_type": "markdown",
   "metadata": {},
   "source": [
    "## Pandas analysis\n",
    "\n",
    "In the following a series of exercises is proposed on a dataset containg timing information from a series of Time-to-Digital-Converters (TDC) implemented in a couple of FPGA's. Each measurement (i.e. each raw) consists of the address of the TDC providing the signal, 'FPGA' and 'TDC_Channel, and the timing information itself, 'ORBIT_CNT', 'BX_COUNTER' and 'TDC_MEAS'. Each TDC count correspond 25/30 ns, whereas the BX_COUNTER feauters gets updated every 25 ns and the ORBIT_CNT every 'x' BX_COUNTER. You can see these way of storing the time as similar to hours, minutes and seconds.\n",
    "\n",
    "1\\. Create a Pandas DataFrame by read N raws of the 'data_000637.txt' dataset. Choose N to be smaller than or equal to the maximum number of raws and larger that 10k."
   ]
  },
  {
   "cell_type": "code",
   "execution_count": 1,
   "metadata": {},
   "outputs": [],
   "source": [
    "import pandas as pd\n",
    "import numpy as np\n",
    "import matplotlib.pyplot as plt\n",
    "%matplotlib inline\n",
    "\n",
    "file_name = \"/home/mango/Documents/unipd/magistrale/LaboratoryOfComputationalPhysics/data_000637.txt\"\n",
    "data = pd.read_csv(file_name, nrows=1e5, skiprows=range(1, 1))"
   ]
  },
  {
   "cell_type": "markdown",
   "metadata": {},
   "source": [
    "2\\. Find out the value of 'x'"
   ]
  },
  {
   "cell_type": "code",
   "execution_count": 2,
   "metadata": {},
   "outputs": [
    {
     "name": "stdout",
     "output_type": "stream",
     "text": [
      "3563\n"
     ]
    }
   ],
   "source": [
    "x = data[\"BX_COUNTER\"].max()\n",
    "print(x)"
   ]
  },
  {
   "cell_type": "markdown",
   "metadata": {},
   "source": [
    "3\\. Find out how much the data taking lasted. You can either make an estimate on the baseis of the fraction of the measurements (raws) you read, or perform this check precisely by reading out the whole dataset"
   ]
  },
  {
   "cell_type": "code",
   "execution_count": 3,
   "metadata": {},
   "outputs": [
    {
     "name": "stdout",
     "output_type": "stream",
     "text": [
      "My estimation of the time elapsed is:  28.4252577 s\n"
     ]
    }
   ],
   "source": [
    "# Assuming that BX_COUNTER is shared among channels (which is not obvous), the time should be:\n",
    "full_dataset = pd.read_csv(file_name, skiprows = range(1, 1))\n",
    "\n",
    "ORBIT_CNT_max = full_dataset[\"ORBIT_CNT\"].max()\n",
    "ORBIT_CNT_min = full_dataset[\"ORBIT_CNT\"].min()\n",
    "TDC_MEAS_max = full_dataset[\"TDC_MEAS\"].max()\n",
    "estimated_time = (ORBIT_CNT_max - ORBIT_CNT_min) * x * TDC_MEAS_max * 25 # ns\n",
    "print(\"My estimation of the time elapsed is: \", estimated_time / 1e9, \"s\")"
   ]
  },
  {
   "cell_type": "markdown",
   "metadata": {},
   "source": [
    "4\\. Create a new column with the actual time in ns (as a combination of the other three columns with timing information)"
   ]
  },
  {
   "cell_type": "code",
   "execution_count": 5,
   "metadata": {},
   "outputs": [
    {
     "data": {
      "text/html": [
       "<div>\n",
       "<style scoped>\n",
       "    .dataframe tbody tr th:only-of-type {\n",
       "        vertical-align: middle;\n",
       "    }\n",
       "\n",
       "    .dataframe tbody tr th {\n",
       "        vertical-align: top;\n",
       "    }\n",
       "\n",
       "    .dataframe thead th {\n",
       "        text-align: right;\n",
       "    }\n",
       "</style>\n",
       "<table border=\"1\" class=\"dataframe\">\n",
       "  <thead>\n",
       "    <tr style=\"text-align: right;\">\n",
       "      <th></th>\n",
       "      <th>HEAD</th>\n",
       "      <th>FPGA</th>\n",
       "      <th>TDC_CHANNEL</th>\n",
       "      <th>ORBIT_CNT</th>\n",
       "      <th>BX_COUNTER</th>\n",
       "      <th>TDC_MEAS</th>\n",
       "      <th>TIME</th>\n",
       "    </tr>\n",
       "  </thead>\n",
       "  <tbody>\n",
       "    <tr>\n",
       "      <th>10</th>\n",
       "      <td>1</td>\n",
       "      <td>1</td>\n",
       "      <td>7</td>\n",
       "      <td>3869200167</td>\n",
       "      <td>2785</td>\n",
       "      <td>4</td>\n",
       "      <td>80865</td>\n",
       "    </tr>\n",
       "    <tr>\n",
       "      <th>11</th>\n",
       "      <td>1</td>\n",
       "      <td>0</td>\n",
       "      <td>64</td>\n",
       "      <td>3869200167</td>\n",
       "      <td>2786</td>\n",
       "      <td>19</td>\n",
       "      <td>81269</td>\n",
       "    </tr>\n",
       "    <tr>\n",
       "      <th>12</th>\n",
       "      <td>1</td>\n",
       "      <td>1</td>\n",
       "      <td>6</td>\n",
       "      <td>3869200167</td>\n",
       "      <td>2792</td>\n",
       "      <td>18</td>\n",
       "      <td>81418</td>\n",
       "    </tr>\n",
       "    <tr>\n",
       "      <th>13</th>\n",
       "      <td>1</td>\n",
       "      <td>0</td>\n",
       "      <td>36</td>\n",
       "      <td>3869200167</td>\n",
       "      <td>2791</td>\n",
       "      <td>23</td>\n",
       "      <td>81514</td>\n",
       "    </tr>\n",
       "    <tr>\n",
       "      <th>14</th>\n",
       "      <td>1</td>\n",
       "      <td>0</td>\n",
       "      <td>56</td>\n",
       "      <td>3869200167</td>\n",
       "      <td>2789</td>\n",
       "      <td>3</td>\n",
       "      <td>80956</td>\n",
       "    </tr>\n",
       "    <tr>\n",
       "      <th>15</th>\n",
       "      <td>1</td>\n",
       "      <td>1</td>\n",
       "      <td>139</td>\n",
       "      <td>3869200167</td>\n",
       "      <td>2797</td>\n",
       "      <td>0</td>\n",
       "      <td>81113</td>\n",
       "    </tr>\n",
       "    <tr>\n",
       "      <th>16</th>\n",
       "      <td>1</td>\n",
       "      <td>1</td>\n",
       "      <td>8</td>\n",
       "      <td>3869200167</td>\n",
       "      <td>2787</td>\n",
       "      <td>14</td>\n",
       "      <td>81173</td>\n",
       "    </tr>\n",
       "    <tr>\n",
       "      <th>17</th>\n",
       "      <td>1</td>\n",
       "      <td>0</td>\n",
       "      <td>63</td>\n",
       "      <td>3869200167</td>\n",
       "      <td>2790</td>\n",
       "      <td>10</td>\n",
       "      <td>81160</td>\n",
       "    </tr>\n",
       "    <tr>\n",
       "      <th>18</th>\n",
       "      <td>1</td>\n",
       "      <td>1</td>\n",
       "      <td>5</td>\n",
       "      <td>3869200167</td>\n",
       "      <td>2795</td>\n",
       "      <td>4</td>\n",
       "      <td>81155</td>\n",
       "    </tr>\n",
       "    <tr>\n",
       "      <th>19</th>\n",
       "      <td>1</td>\n",
       "      <td>0</td>\n",
       "      <td>53</td>\n",
       "      <td>3869200167</td>\n",
       "      <td>2796</td>\n",
       "      <td>26</td>\n",
       "      <td>81734</td>\n",
       "    </tr>\n",
       "  </tbody>\n",
       "</table>\n",
       "</div>"
      ],
      "text/plain": [
       "    HEAD  FPGA  TDC_CHANNEL   ORBIT_CNT  BX_COUNTER  TDC_MEAS   TIME\n",
       "10     1     1            7  3869200167        2785         4  80865\n",
       "11     1     0           64  3869200167        2786        19  81269\n",
       "12     1     1            6  3869200167        2792        18  81418\n",
       "13     1     0           36  3869200167        2791        23  81514\n",
       "14     1     0           56  3869200167        2789         3  80956\n",
       "15     1     1          139  3869200167        2797         0  81113\n",
       "16     1     1            8  3869200167        2787        14  81173\n",
       "17     1     0           63  3869200167        2790        10  81160\n",
       "18     1     1            5  3869200167        2795         4  81155\n",
       "19     1     0           53  3869200167        2796        26  81734"
      ]
     },
     "execution_count": 5,
     "metadata": {},
     "output_type": "execute_result"
    }
   ],
   "source": [
    "def summarize(*args):\n",
    "    value = 0\n",
    "    for arg in args:\n",
    "        value += arg\n",
    "    return value\n",
    "    \n",
    "data['TIME'] = np.vectorize(summarize)((data[\"ORBIT_CNT\"]-ORBIT_CNT_min)*x, data[\"BX_COUNTER\"]*TDC_MEAS_max, data[\"TDC_MEAS\"]*25)\n",
    "data[10:20]"
   ]
  },
  {
   "cell_type": "markdown",
   "metadata": {},
   "source": [
    "5\\. Replace the values (all 1) of the HEAD column randomly with 0 or 1"
   ]
  },
  {
   "cell_type": "code",
   "execution_count": 6,
   "metadata": {},
   "outputs": [],
   "source": [
    "data[\"HEAD\"] = np.random.randint(0, 2, data.shape[0])"
   ]
  },
  {
   "cell_type": "markdown",
   "metadata": {},
   "source": [
    "6\\. Create a new DataFrame with only the raws with HEAD=1"
   ]
  },
  {
   "cell_type": "code",
   "execution_count": 7,
   "metadata": {},
   "outputs": [],
   "source": [
    "filtered_df = data[data[\"HEAD\"] == 1]"
   ]
  },
  {
   "cell_type": "markdown",
   "metadata": {},
   "source": [
    "7\\. Make two occupancy plots (one per FPGA), i.e. plot the number of counts per TDC channel"
   ]
  },
  {
   "cell_type": "code",
   "execution_count": 8,
   "metadata": {},
   "outputs": [
    {
     "data": {
      "text/plain": [
       "<matplotlib.legend.Legend at 0x7ff75c1e4048>"
      ]
     },
     "execution_count": 8,
     "metadata": {},
     "output_type": "execute_result"
    },
    {
     "data": {
      "image/png": "[encoded data removed]",
      "text/plain": [
       "<Figure size 432x288 with 1 Axes>"
      ]
     },
     "metadata": {
      "needs_background": "light"
     },
     "output_type": "display_data"
    }
   ],
   "source": [
    "TCSs0 = data[data[\"FPGA\"] == 0]['TDC_CHANNEL'].value_counts()\n",
    "TCSs1 = data[data[\"FPGA\"] == 1]['TDC_CHANNEL'].value_counts()\n",
    "\n",
    "plt.scatter(TCSs0.index, TCSs0.values, marker = '.', label = 'FPGA 0')\n",
    "plt.scatter(TCSs1.index, TCSs1.values, marker = '.', label = 'FPGA 1')\n",
    "plt.legend()\n"
   ]
  },
  {
   "cell_type": "markdown",
   "metadata": {},
   "source": [
    "8\\. Use the groupby method to find out the noisy channels, i.e. the TDC channels with most counts (say the top 3)"
   ]
  },
  {
   "cell_type": "code",
   "execution_count": 9,
   "metadata": {},
   "outputs": [
    {
     "data": {
      "text/plain": [
       "[139, 64, 63]"
      ]
     },
     "execution_count": 9,
     "metadata": {},
     "output_type": "execute_result"
    }
   ],
   "source": [
    "noisy_channels = [1,1,1]\n",
    "dictionary = data.groupby([\"TDC_CHANNEL\"]).groups\n",
    "for key in dictionary:\n",
    "    if dictionary[noisy_channels[0]].shape[0] < dictionary[key].shape[0]:\n",
    "        noisy_channels[2] = noisy_channels[1]\n",
    "        noisy_channels[1] = noisy_channels[0]\n",
    "        noisy_channels[0] = key\n",
    "        \n",
    "    \n",
    "noisy_channels"
   ]
  },
  {
   "cell_type": "markdown",
   "metadata": {},
   "source": [
    "9\\. Count the number of unique orbits. Count the number of unique orbits with at least one measurement from TDC_CHANNEL=139"
   ]
  },
  {
   "cell_type": "code",
   "execution_count": 10,
   "metadata": {},
   "outputs": [
    {
     "name": "stdout",
     "output_type": "stream",
     "text": [
      "995\n",
      "994\n"
     ]
    }
   ],
   "source": [
    "# orbits = data[\"ORBIT_CNT\"].max() - data[\"ORBIT_CNT\"].min() <- lead to the wrong result\n",
    "orbits = len(data.groupby([\"ORBIT_CNT\"]).groups.keys())\n",
    "orbits_with_139 = len(data[data[\"TDC_CHANNEL\"] == 139].groupby([\"ORBIT_CNT\"]).groups.keys())\n",
    "\n",
    "print(orbits)\n",
    "print(orbits_with_139)\n"
   ]
  }
 ],
 "metadata": {
  "kernelspec": {
   "display_name": "Python 3",
   "language": "python",
   "name": "python3"
  },
  "language_info": {
   "codemirror_mode": {
    "name": "ipython",
    "version": 3
   },
   "file_extension": ".py",
   "mimetype": "text/x-python",
   "name": "python",
   "nbconvert_exporter": "python",
   "pygments_lexer": "ipython3",
   "version": "3.6.7"
  }
 },
 "nbformat": 4,
 "nbformat_minor": 2
}
