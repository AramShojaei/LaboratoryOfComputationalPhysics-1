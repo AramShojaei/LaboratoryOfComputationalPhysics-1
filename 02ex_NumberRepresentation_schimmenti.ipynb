{
 "cells": [
  {
   "cell_type": "code",
   "execution_count": null,
   "metadata": {},
   "outputs": [],
   "source": [
    "#Esercizio 1\n",
    "def convert(num, baseFrom, baseTo):\n",
    "    if baseTo == 10:\n",
    "        return int(num, baseFrom)\n",
    "    elif baseTo == 2:\n",
    "        if baseFrom == 10:\n",
    "            return bin(num)\n",
    "        elif baseFrom == 16:\n",
    "            return bin(int(num, 16))\n",
    "    elif baseTo == 16:\n",
    "        if baseFrom == 10:\n",
    "            return hex(num)\n",
    "        elif baseFrom == 2:\n",
    "            return hex(int(num, 2))\n",
    "    else:\n",
    "        return a\n",
    "\n",
    "convert(hex(100), 16, 2)\n",
    "    "
   ]
  },
  {
   "cell_type": "code",
   "execution_count": 8,
   "metadata": {},
   "outputs": [
    {
     "data": {
      "text/plain": [
       "3.5999999046325684"
      ]
     },
     "execution_count": 8,
     "metadata": {},
     "output_type": "execute_result"
    }
   ],
   "source": [
    "#Esercizio 2\n",
    "bias = 127\n",
    "def int32tofloat32(num):\n",
    "    try:\n",
    "        sgn = (num & 0x80000000) >> 31\n",
    "        exponent = (num & 0x7F800000) >> 23\n",
    "        mant = (num & 0x7FFFFF)\n",
    "        base = 1\n",
    "        for i in range(1,23):\n",
    "            base +=(2.0**(-i))*((mant >> (23 - i))&0x1)\n",
    "        temp = base*(2.0**(exponent-bias))\n",
    "        if sgn == 1:\n",
    "            return -temp\n",
    "        return temp\n",
    "    except:\n",
    "        print(\"error\")\n",
    "        \n",
    "#this should be 3.6        \n",
    "int32tofloat32(0x40666666)"
   ]
  },
  {
   "cell_type": "code",
   "execution_count": null,
   "metadata": {},
   "outputs": [],
   "source": [
    "#Esercizio 3\n",
    "lastu = 0\n",
    "lasto = 0\n",
    "underx = 1\n",
    "overx = 1\n",
    "\n",
    "while True:\n",
    "    u = underx/2.0\n",
    "    if(underx == u):\n",
    "        print(lastu)\n",
    "        break\n",
    "    else:\n",
    "        lastu = underx\n",
    "        underx = u\n",
    "        \n",
    "while True:\n",
    "    o = overx*2.0\n",
    "    if(overx == o):\n",
    "        print(lasto)\n",
    "        break\n",
    "    else:\n",
    "        lasto = overx\n",
    "        overx = o\n"
   ]
  },
  {
   "cell_type": "code",
   "execution_count": 1,
   "metadata": {},
   "outputs": [
    {
     "name": "stdout",
     "output_type": "stream",
     "text": [
      "1.862645149230957e-16\n"
     ]
    }
   ],
   "source": [
    "#Esercizio 4\n",
    "x = 1.204565\n",
    "addendum = 0.0000001\n",
    "\n",
    "while True:\n",
    "    y = x + (addendum/2)\n",
    "    if(y == x):\n",
    "        print(addendum)\n",
    "        break\n",
    "    else:\n",
    "        addendum = addendum/2\n"
   ]
  },
  {
   "cell_type": "code",
   "execution_count": null,
   "metadata": {
    "collapsed": true
   },
   "outputs": [],
   "source": []
  }
 ],
 "metadata": {
  "kernelspec": {
   "display_name": "Python 3",
   "language": "python",
   "name": "python3"
  },
  "language_info": {
   "codemirror_mode": {
    "name": "ipython",
    "version": 3
   },
   "file_extension": ".py",
   "mimetype": "text/x-python",
   "name": "python",
   "nbconvert_exporter": "python",
   "pygments_lexer": "ipython3",
   "version": "3.6.3"
  }
 },
 "nbformat": 4,
 "nbformat_minor": 2
}
