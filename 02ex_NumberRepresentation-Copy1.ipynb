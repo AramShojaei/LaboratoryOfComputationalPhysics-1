{
 "cells": [
  {
   "cell_type": "markdown",
   "metadata": {},
   "source": [
    "1\\. Write a function that converts number representation (bin<->dec<->hex)"
   ]
  },
  {
   "cell_type": "code",
   "execution_count": 1,
   "metadata": {},
   "outputs": [
    {
     "name": "stdout",
     "output_type": "stream",
     "text": [
      "1316\n",
      "0b10100100100\n",
      "0b10000\n",
      "0x10\n",
      "2\n",
      "0x2\n"
     ]
    }
   ],
   "source": [
    "def Convert_Fun(nb):\n",
    "    \n",
    "    #binary case\n",
    "    Binary=False\n",
    "    Hexa=False\n",
    "    deci=nb.isdigit()\n",
    "    try:\n",
    "        int(nb,2)\n",
    "        Binary=True\n",
    "    except (ValueError):\n",
    "        Binary=False\n",
    "    \n",
    "    if Binary==True:\n",
    "        decimal=int(nb,2)\n",
    "        print(decimal)\n",
    "        print(hex(decimal))\n",
    "    elif deci==True:\n",
    "        a=int(nb)\n",
    "        print(bin(a))\n",
    "        print(hex(a))\n",
    "    else:\n",
    "        \n",
    "        decimal_h=int(nb,16)\n",
    "        print(decimal_h)\n",
    "        print(bin(decimal_h))\n",
    "a='0x524'\n",
    "Convert_Fun(a)\n",
    "b='16'\n",
    "Convert_Fun(b)\n",
    "c='0010'\n",
    "Convert_Fun(c)"
   ]
  },
  {
   "cell_type": "markdown",
   "metadata": {},
   "source": [
    "2\\. Write a function that converts a 32 bit word into a single precision floating point (i.e. interprets the various bits as sign, mantissa and exponent)"
   ]
  },
  {
   "cell_type": "code",
   "execution_count": 2,
   "metadata": {},
   "outputs": [
    {
     "data": {
      "text/plain": [
       "3.402823669209385e+38"
      ]
     },
     "execution_count": 2,
     "metadata": {},
     "output_type": "execute_result"
    }
   ],
   "source": [
    "def single_pre(word):\n",
    "    sign_bit=word[0]\n",
    "    if sign_bit=='0':\n",
    "        sign='Positive'\n",
    "    else:\n",
    "        sign='Negative'\n",
    "    Exponent=word[1:9]\n",
    "    Exp=int(Exponent,2)\n",
    "    \n",
    "    Mantissa_bits=word[9:32] \n",
    "    Mantissa=1\n",
    "    for i in range(0,len(Mantissa_bits)):\n",
    "        Mantissa=Mantissa+int(Mantissa_bits[i])*pow(2,-i)\n",
    "    \n",
    "    Float_num=(-1)**int(sign_bit) * Mantissa * pow(2,(Exp -127))\n",
    "    \n",
    "    return Float_num\n",
    "    \n",
    "word='01111111100000000000000000000000'\n",
    "single_pre(word)\n",
    "\n",
    "\n",
    "    "
   ]
  },
  {
   "cell_type": "markdown",
   "metadata": {},
   "source": [
    "3\\. Write a program to determine the underflow and overflow limits (within a factor of 2) for python on your computer. \n",
    "\n",
    "**Tips**: define two variables inizialized to 1 and halve/double them enough time to exceed the under/over-flow limits  "
   ]
  },
  {
   "cell_type": "code",
   "execution_count": 4,
   "metadata": {},
   "outputs": [],
   "source": [
    "def UnOv():\n",
    "    Ov=1\n",
    "    Un=1\n",
    "    Ov_lim=0\n",
    "    Un_lim=0\n",
    "    a=True\n",
    "    \n",
    "   # while \n",
    "    #    Ov=Ov*2\n",
    "     #   Ov_lim=Ov_lim+1\n",
    "      #  Un=Un/2\n",
    "       # Un_lim=Un_lim+1\n",
    "\n",
    "    \n",
    "    \n",
    "    "
   ]
  },
  {
   "cell_type": "markdown",
   "metadata": {},
   "source": [
    "4\\. Write a program to determine the machine precision\n",
    "\n",
    "**Tips**: define a new variable by adding a smaller and smaller value (proceeding similarly to prob. 2) to an original variable and check the point where the two are the same "
   ]
  },
  {
   "cell_type": "code",
   "execution_count": 31,
   "metadata": {},
   "outputs": [
    {
     "name": "stdout",
     "output_type": "stream",
     "text": [
      "2.22044604925e-16\n",
      "2.22044604925e-16\n"
     ]
    }
   ],
   "source": [
    "import numpy as np\n",
    "\n",
    "val=1.0\n",
    "epsi=1.0\n",
    "\n",
    "\n",
    "while(val+0.5*epsi!=val):\n",
    "    epsi=0.5*epsi\n",
    "    \n",
    "\n",
    "print(epsi)\n",
    "print(np.finfo(float).eps)\n",
    "    \n",
    "    \n"
   ]
  },
  {
   "cell_type": "markdown",
   "metadata": {},
   "source": [
    "5\\. Write a function that takes in input three parameters $a$, $b$ and $c$ and prints out the two solutions to the quadratic equation $ax^2+bx+c=0$ using the standard formula:\n",
    "$$\n",
    "x=\\frac{-b\\pm\\sqrt{b^2-4ac}}{2a}\n",
    "$$\n",
    "\n",
    "(a) use the program to compute the solution for $a=0.001$, $b=1000$ and $c=0.001$\n",
    "\n",
    "(b) re-express the standard solution formula by multiplying top and bottom by $-b\\mp\\sqrt{b^2-4ac}$ and again find the solution for $a=0.001$, $b=1000$ and $c=0.001$. How does it compare with what previously obtained? Why?\n",
    "\n",
    "(c) write a function that compute the roots of a quadratic equation accurately in all cases"
   ]
  },
  {
   "cell_type": "code",
   "execution_count": 40,
   "metadata": {},
   "outputs": [
    {
     "name": "stdout",
     "output_type": "stream",
     "text": [
      "(-9.999894245993345e-13, -0.999999999999)\n",
      "(-3.9998730965340794e-30, -3999999.999988)\n"
     ]
    }
   ],
   "source": [
    "from math import sqrt\n",
    "def SolveFunc(a,b,c):\n",
    "    x1=(-b+sqrt(b**2-4*a*c))/2*a\n",
    "    x2=(-b-sqrt(b**2-4*a*c))/2*a\n",
    "    \n",
    "    return x1,x2\n",
    "\n",
    "print(SolveFunc(0.001,1000,0.001))\n",
    "\n",
    "def SolveFunc_p(a,b,c):\n",
    "    x1=((-b+sqrt(b**2-4*a*c))*(-b+sqrt(b**2-4*a*c)))/2*a*(-b+sqrt(b**2-4*a*c))\n",
    "    x2=((-b-sqrt(b**2-4*a*c))*(-b-sqrt(b**2-4*a*c)))/2*a*(-b-sqrt(b**2-4*a*c))\n",
    "    return x1,x2\n",
    "                                                    \n",
    "                                                    \n",
    "print(SolveFunc_p(0.001,1000,0.001))\n"
   ]
  },
  {
   "cell_type": "markdown",
   "metadata": {},
   "source": [
    "6\\. Write a program that implements a function $f(x)$ returning the value of $x(x−1)$\n",
    "\n",
    "(a)calculates the derivative of the function at the point $x = 1$ using the derivative definition:\n",
    "\n",
    "$$\n",
    "\\frac{{\\rm d}f}{{\\rm d}x} = \\lim_{\\delta\\to0} \\frac{f(x+\\delta)-f(x)}{\\delta}\n",
    "$$\n",
    "\n",
    "with δ = 10−2. Calculate the true value of the same derivative analytically and compare with the answer your program gives. The two will not agree perfectly. Why not?\n",
    "\n",
    "(b) Repeat the calculation for $\\delta = 10^{−4}, 10^{−6}, 10^{−8}, 10^{−10}, 10^{−12}$ and $10^{−14}$. How does the accuracy scales with $\\delta$?"
   ]
  },
  {
   "cell_type": "code",
   "execution_count": 51,
   "metadata": {},
   "outputs": [
    {
     "name": "stdout",
     "output_type": "stream",
     "text": [
      "1.01\n",
      "('for delta =', 0.01, 'the result is', 1.010000000000001)\n",
      "('for delta =', 0.0001, 'the result is', 1.0000999999998899)\n",
      "('for delta =', 1e-06, 'the result is', 1.0000009999177333)\n",
      "('for delta =', 1e-08, 'the result is', 1.0000000039225287)\n",
      "('for delta =', 1e-10, 'the result is', 1.000000082840371)\n",
      "('for delta =', 1e-12, 'the result is', 1.0000889005833413)\n",
      "('for delta =', 1e-14, 'the result is', 0.9992007221626509)\n"
     ]
    }
   ],
   "source": [
    "def Func_f(x):\n",
    "    y=x*(x-1)\n",
    "    return y\n",
    "\n",
    "Der=(Func_f(1+0.01)-Func_f(1))/0.01\n",
    "print(Der)\n",
    "\n",
    "delta=[10**(-step) for step in range(2,16,2)]\n",
    "\n",
    "for k in delta:\n",
    "    print('for delta =',k,'the result is',(Func_f(1+k)-Func_f(1))/k)\n"
   ]
  },
  {
   "cell_type": "markdown",
   "metadata": {},
   "source": [
    "7\\.\n",
    "Consider the integral of the semicircle of radius 1: $$\n",
    "I=\\int_{-1}^{1} \\sqrt(1-x^2) {\\rm d}x\n",
    "$$ which it's known to be $I=\\frac{\\pi}{2}=1.57079632679...$. Alternatively we can use the Riemann definition of the integral: $$\n",
    "I=\\lim_{N\\to\\infty} \\sum_{k=1}^{N} h y_k \n",
    "$$\n",
    "\n",
    "with $h=2/N$ the width of each of the $N$ slices the domain is divided into and where $y_k$ is the value of the function at the $k-$th slice.\n",
    "\n",
    "(a) Write a programe to compute the integral with $N=100$. How does the result compares to the true value?\n",
    "\n",
    "(b) How much can $N$ be increased if the computation needs to be run in less than a second? What is the gain in running it for 1 minute?\n",
    "\n",
    "What is requested is on the second version of the function:\n",
    "\n",
    "badly we have an high difference\n",
    "$1250000$ is the new N to do the run in less than a second, in the first version though N can be increase up to $100000000$\n",
    "$10^{-6}$ difference"
   ]
  },
  {
   "cell_type": "code",
   "execution_count": null,
   "metadata": {
    "collapsed": true
   },
   "outputs": [],
   "source": []
  }
 ],
 "metadata": {
  "kernelspec": {
   "display_name": "Python 2",
   "language": "python",
   "name": "python2"
  },
  "language_info": {
   "codemirror_mode": {
    "name": "ipython",
    "version": 2
   },
   "file_extension": ".py",
   "mimetype": "text/x-python",
   "name": "python",
   "nbconvert_exporter": "python",
   "pygments_lexer": "ipython2",
   "version": "2.7.13"
  }
 },
 "nbformat": 4,
 "nbformat_minor": 2
}
