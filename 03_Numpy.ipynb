{
 "cells": [
  {
   "cell_type": "markdown",
   "metadata": {},
   "source": [
    "NumPy is the fundamental package for scientific computing with Python. It contains among other things:\n",
    "\n",
    "  * a powerful N-dimensional array object\n",
    "  * sophisticated (broadcasting) functions\n",
    "  * tools for integrating C/C++ and Fortran code\n",
    "  * useful linear algebra, Fourier transform, and random number capabilities\n",
    "\n",
    "Besides its obvious scientific uses, NumPy can also be used as an efficient multi-dimensional container of generic data. Arbitrary data-types can be defined and this allows NumPy to seamlessly and speedily integrate with a wide variety of projects\n",
    "\n"
   ]
  },
  {
   "cell_type": "code",
   "execution_count": null,
   "metadata": {},
   "outputs": [],
   "source": [
    "import numpy as np # importing convention"
   ]
  },
  {
   "cell_type": "markdown",
   "metadata": {},
   "source": [
    "# Arrays\n",
    "\n",
    "A numpy array is a grid of values, **all of the same type**, and is indexed by a tuple of nonnegative integers\n",
    "\n",
    "With respect to standard python lists, Numpy provides:\n",
    "* extension package to Python for multi-dimensional arrays\n",
    "* closer to hardware (efficiency)\n",
    "* designed for scientific computation (convenience)\n",
    "* Also known as array oriented computing\n",
    "\n",
    "\n",
    "All standard data types are available:"
   ]
  },
  {
   "cell_type": "code",
   "execution_count": 78,
   "metadata": {},
   "outputs": [
    {
     "name": "stdout",
     "output_type": "stream",
     "text": [
      "[1. 2. 3.] float64 \n",
      "\n",
      "[1 2 3] uint32 \n",
      "\n",
      "[1.+2.j 3.+4.j 5.+6.j] complex128 \n",
      "\n",
      "[ True False False  True] bool \n",
      "\n",
      "['bonjour messieurs dames' 'Hello' 'Hallo'] <U23 \n",
      "\n"
     ]
    }
   ],
   "source": [
    "# type can be set\n",
    "a=np.array([1, 2, 3],'float64')\n",
    "print (a,a.dtype,'\\n')\n",
    "a=np.array([1, 2, 3],'uint32')\n",
    "print (a,a.dtype,'\\n')\n",
    "\n",
    "# or inferred: \n",
    "\n",
    "# complex\n",
    "a=np.array([1+2j, 3+4j, 5+6*1j])\n",
    "print (a,a.dtype,'\\n')\n",
    "\n",
    "# bool\n",
    "a = np.array([True, False, False, True])\n",
    "print (a,a.dtype,'\\n')\n",
    "\n",
    "# string\n",
    "a=np.array(['bonjour messieurs dames', 'Hello', 'Hallo'])\n",
    "print (a,a.dtype,'\\n')\n"
   ]
  },
  {
   "cell_type": "markdown",
   "metadata": {},
   "source": [
    "Arrays are memory-efficient container that provides fast numerical operations"
   ]
  },
  {
   "cell_type": "code",
   "execution_count": 16,
   "metadata": {},
   "outputs": [
    {
     "name": "stdout",
     "output_type": "stream",
     "text": [
      "372 µs ± 7.55 µs per loop (mean ± std. dev. of 7 runs, 1000 loops each)\n",
      "1.22 µs ± 19.9 ns per loop (mean ± std. dev. of 7 runs, 1000000 loops each)\n"
     ]
    }
   ],
   "source": [
    "# standard python\n",
    "L = range(1000)\n",
    "%timeit [i**2 for i in L]\n",
    "\n",
    "# numpy\n",
    "a = np.arange(1000)\n",
    "%timeit a**2\n"
   ]
  },
  {
   "cell_type": "markdown",
   "metadata": {},
   "source": [
    "### Dimensions\n",
    "\n",
    "The number of dimensions is the rank of the array; the shape of an array is a tuple of integers giving the size of the array along each dimension.\n",
    "\n",
    "1D containers"
   ]
  },
  {
   "cell_type": "code",
   "execution_count": 31,
   "metadata": {},
   "outputs": [
    {
     "name": "stdout",
     "output_type": "stream",
     "text": [
      "[0 1 2 3]\n",
      "array dimensions (rank): 1\n",
      "shape of the array: (4,)\n",
      "size of the first dimension (axis): 4\n"
     ]
    }
   ],
   "source": [
    "a1 = np.array([0, 1, 2, 3])\n",
    "print (a1)\n",
    "print (\"array dimensions (rank):\", a1.ndim)\n",
    "print (\"shape of the array:\", a1.shape)\n",
    "print (\"size of the first dimension (axis):\", len(a1))"
   ]
  },
  {
   "cell_type": "markdown",
   "metadata": {},
   "source": [
    "2D, 3D and so on"
   ]
  },
  {
   "cell_type": "code",
   "execution_count": 44,
   "metadata": {},
   "outputs": [
    {
     "name": "stdout",
     "output_type": "stream",
     "text": [
      "2 x 3 array:\n",
      "[[0 1 2]\n",
      " [3 4 5]]\n",
      "array dimensions (rank): 2\n",
      "shape of the array: (2, 3)\n",
      "size of the first dimension (axis): 2\n",
      "\n",
      "2 x 3 x 2 array:\n",
      "[[[ 1 10]\n",
      "  [ 2 20]\n",
      "  [ 3 30]]\n",
      "\n",
      " [[ 4 40]\n",
      "  [ 5 50]\n",
      "  [ 6 60]]]\n",
      "array dimensions (rank): 3\n",
      "shape of the array: (2, 3, 2)\n",
      "size of the first dimension (axis): 2\n"
     ]
    }
   ],
   "source": [
    "a2_3 = np.array([[0, 1, 2], [3, 4, 5]])    # 2 x 3 array (dim x raws x columns)\n",
    "print (\"2 x 3 array:\") \n",
    "print (a2_3)\n",
    "print (\"array dimensions (rank):\", a2_3.ndim)\n",
    "print (\"shape of the array:\", a2_3.shape)\n",
    "print (\"size of the first dimension (axis):\", len(a2_3))\n",
    "\n",
    "print (\"\")\n",
    "\n",
    "a3_2_2 = np.array([[[1,10], [2,20], [3,30]], [[4,40], [5,50], [6,60]]])# 2 x 3 x 2 array (dim x raws x columns)\n",
    "print (\"2 x 3 x 2 array:\")\n",
    "print (a3_2_2)\n",
    "print (\"array dimensions (rank):\", a3_2_2.ndim)\n",
    "print (\"shape of the array:\", a3_2_2.shape)\n",
    "print (\"size of the first dimension (axis):\", len(a3_2_2))\n"
   ]
  },
  {
   "cell_type": "markdown",
   "metadata": {},
   "source": [
    "### Generating arrays"
   ]
  },
  {
   "cell_type": "code",
   "execution_count": 51,
   "metadata": {},
   "outputs": [
    {
     "name": "stdout",
     "output_type": "stream",
     "text": [
      "[1 3 5 7]\n",
      "[0.         0.05263158 0.10526316 0.15789474 0.21052632 0.26315789\n",
      " 0.31578947 0.36842105 0.42105263 0.47368421 0.52631579 0.57894737\n",
      " 0.63157895 0.68421053 0.73684211 0.78947368 0.84210526 0.89473684\n",
      " 0.94736842 1.        ]\n"
     ]
    }
   ],
   "source": [
    "# evenly spaced:\n",
    "print (np.arange(1,9,2)) # same as \"range\": start, end (exclusive), step\n",
    "\n",
    "# or by number of points:\n",
    "print (np.linspace(0, 1, 20)) # start, end, num-points (to be used for plotting f(x))\n"
   ]
  },
  {
   "cell_type": "code",
   "execution_count": 59,
   "metadata": {},
   "outputs": [
    {
     "name": "stdout",
     "output_type": "stream",
     "text": [
      "[[1. 1. 1.]\n",
      " [1. 1. 1.]\n",
      " [1. 1. 1.]] \n",
      "\n",
      "[[0. 0.]\n",
      " [0. 0.]] \n",
      "\n",
      "[[1. 0. 0.]\n",
      " [0. 1. 0.]\n",
      " [0. 0. 1.]] \n",
      "\n",
      "[[ 1  0  0  0]\n",
      " [ 0 20  0  0]\n",
      " [ 0  0  3  0]\n",
      " [ 0  0  0  4]] \n",
      "\n",
      "[[0 0]\n",
      " [0 1]\n",
      " [0 2]\n",
      " [1 0]\n",
      " [1 1]\n",
      " [1 2]] \n",
      "\n",
      "[[ 4.  5.  8. 13. 20.]\n",
      " [ 2.  1.  2.  5. 10.]\n",
      " [ 4.  1.  0.  1.  4.]\n",
      " [10.  5.  2.  1.  2.]\n",
      " [20. 13.  8.  5.  4.]] \n",
      "\n"
     ]
    }
   ],
   "source": [
    "# 3x3 matrix of 1's\n",
    "ones = np.ones((3, 3))\n",
    "print (ones,'\\n')\n",
    "\n",
    "# 2x2 matrix of 0's\n",
    "zeros = np.zeros((2, 2))\n",
    "print (zeros,'\\n')\n",
    "\n",
    "# 3x3 unitary matrix\n",
    "unity3d = np.eye(3)\n",
    "print (unity3d,'\\n')\n",
    "\n",
    "# generic diagonal matrix\n",
    "diagonal = np.diag(np.array([1, 20, 3, 4]))\n",
    "print (diagonal,'\\n')\n",
    "\n",
    "# from lists\n",
    "array = np.array([(i,j) for i in range(2) for j in range(3)])\n",
    "print (array,'\\n')\n",
    "\n",
    "# from a function\n",
    "fromfunct = np.fromfunction(lambda i, j: (i-2)**2+(j-i)**2, (5,5))\n",
    "print (fromfunct,'\\n')"
   ]
  },
  {
   "cell_type": "code",
   "execution_count": 65,
   "metadata": {},
   "outputs": [
    {
     "name": "stdout",
     "output_type": "stream",
     "text": [
      "[0.95376258 0.99212647 0.47960292 0.94340686] \n",
      "\n",
      "[ 0.66805361  0.48883782 -0.67978825 -1.30747938  1.47030437] \n",
      "\n"
     ]
    }
   ],
   "source": [
    "## more on random later!\n",
    "\n",
    "# Setting the random seed\n",
    "np.random.seed(1235)        \n",
    "\n",
    "# filling an array with random numers\n",
    "uniform = np.random.rand(4) # 4 random numbers in [0,1]\n",
    "print (uniform,'\\n')\n",
    "\n",
    "gaussian = np.random.randn(5) # 5 random numbers drawn from a gaussian with mean=0 and sigma=1\n",
    "print (gaussian,'\\n')"
   ]
  },
  {
   "cell_type": "markdown",
   "metadata": {},
   "source": [
    "## Indexing and slicing\n",
    "\n",
    "The items of an array can be accessed and assigned to the same way as other Python sequences (e.g. lists):"
   ]
  },
  {
   "cell_type": "code",
   "execution_count": 80,
   "metadata": {},
   "outputs": [
    {
     "name": "stdout",
     "output_type": "stream",
     "text": [
      "0 2 9\n",
      "[9 8 7 6 5 4 3 2 1 0]\n"
     ]
    }
   ],
   "source": [
    "a = np.arange(10)\n",
    "print (a[0], a[2], a[-1])\n",
    "\n",
    "# reminder: the [start:stop:step] works as well. \n",
    "# step can be negative and a reverse sequence is thus obtained\n",
    "print (a[2:9:3])\n",
    "print (a[::-1])\n"
   ]
  },
  {
   "cell_type": "code",
   "execution_count": 89,
   "metadata": {},
   "outputs": [
    {
     "data": {
      "text/html": [
       "<img src=\"numpy_indexing.png\"/>"
      ],
      "text/plain": [
       "<IPython.core.display.Image object>"
      ]
     },
     "execution_count": 89,
     "metadata": {},
     "output_type": "execute_result"
    }
   ],
   "source": [
    "#! wget https://www.dropbox.com/s/vgy4mmdm7jd00xd/numpy_indexing.png\n",
    "from IPython.display import Image\n",
    "Image(url=\"numpy_indexing.png\")"
   ]
  },
  {
   "cell_type": "markdown",
   "metadata": {},
   "source": [
    "For multidimensional arrays, indexes are tuples of integers.\n",
    "\n",
    "Note:\n",
    "* in 2D, the first dimension corresponds to rows, the second to columns.\n",
    "* for multidimensional a, a[0] is interpreted by taking all elements in the unspecified dimensions."
   ]
  },
  {
   "cell_type": "code",
   "execution_count": 90,
   "metadata": {},
   "outputs": [
    {
     "name": "stdout",
     "output_type": "stream",
     "text": [
      "[[0 0 0]\n",
      " [0 1 0]\n",
      " [0 0 2]] \n",
      "\n",
      "1 \n",
      "\n",
      "[0 0 2] \n",
      "\n",
      "[[ 0  0  0]\n",
      " [ 0  1  0]\n",
      " [ 0 10  2]] \n",
      "\n"
     ]
    }
   ],
   "source": [
    "a = np.diag(np.arange(3))\n",
    "print (a,'\\n')\n",
    "print (a[1,1],'\\n')\n",
    "print (a[2],'\\n')\n",
    "\n",
    "# assignment\n",
    "a[2, 1] = 10 # third line, second column\n",
    "print (a,'\\n')"
   ]
  },
  {
   "cell_type": "markdown",
   "metadata": {},
   "source": [
    "A slicing operation creates a view on the original array, which is just a way of accessing array data. Thus the original array is not copied in memory. You can use `np.may_share_memory()` to check if two arrays share the same memory block. Note however, that this uses heuristics and may give you false positives.\n",
    "\n",
    "When modifying the view, the original array is modified as well, watch out!"
   ]
  },
  {
   "cell_type": "code",
   "execution_count": null,
   "metadata": {},
   "outputs": [],
   "source": []
  }
 ],
 "metadata": {
  "kernelspec": {
   "display_name": "Python 3",
   "language": "python",
   "name": "python3"
  },
  "language_info": {
   "codemirror_mode": {
    "name": "ipython",
    "version": 3
   },
   "file_extension": ".py",
   "mimetype": "text/x-python",
   "name": "python",
   "nbconvert_exporter": "python",
   "pygments_lexer": "ipython3",
   "version": "3.5.4"
  }
 },
 "nbformat": 4,
 "nbformat_minor": 2
}
