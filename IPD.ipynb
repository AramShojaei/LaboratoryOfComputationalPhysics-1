{
 "cells": [
  {
   "cell_type": "markdown",
   "metadata": {},
   "source": [
    "# A study on the Iterative Prisoner's Dilemma\n",
    "\n",
    "_Group 9 - Elia Bonetto, Filippo Rigotto, Luca Attanasio, Francesco Savio_\n",
    "\n",
    "This notebook is a brief presentation of the code we developed for our project involving the Iterative Prisoner's Dilemma (IPD).\n",
    "\n",
    "For more detailed informations, please see the [full report in PDF](report/report.pdf) and optionally the [supplementary material](report/report-suppl.pdf).\n",
    "\n",
    "We start by defining the classes we built our code upon and then proceed to show many variations of the game."
   ]
  },
  {
   "cell_type": "markdown",
   "metadata": {},
   "source": [
    "## Base classes\n",
    "\n",
    "### Player and Strategy\n",
    "\n",
    "We defined a class Player with different methods that aim to store the history of moves and plays against other players.\n",
    "\n",
    "We also defined a base class Strategy to represent all strategies.\n",
    "From this base class, we derived the ProbStrategy class to represent through a parameter $k$ those strategies where cooperation occurs with a given probability (namely _Bad guy_, _MainlyBad_, _Nice guy_, _MainlyNice_, _Indifferent_).\n",
    "Tit-for-Tat (_TfT_), Tit-for-2-Tat (_Tf2T_) and Grim-Trigger (_GrT_) strategies are also derived from the base Strategy class.\n",
    "\n",
    "These are all the strategies we considered in our work, even if many more exist and could be used."
   ]
  },
  {
   "cell_type": "code",
   "execution_count": null,
   "metadata": {},
   "outputs": [],
   "source": [
    "%load code/strategy.py"
   ]
  },
  {
   "cell_type": "code",
   "execution_count": null,
   "metadata": {},
   "outputs": [],
   "source": [
    "%load code/player.py"
   ]
  },
  {
   "cell_type": "markdown",
   "metadata": {},
   "source": [
    "### Matrix Generator function\n",
    "\n",
    "Even if in our tests we used the default payoff matrix, we defined a function to generate a valid matrix to be used for the game."
   ]
  },
  {
   "cell_type": "code",
   "execution_count": null,
   "metadata": {},
   "outputs": [],
   "source": [
    "%load code/mgen.py"
   ]
  },
  {
   "cell_type": "code",
   "execution_count": null,
   "metadata": {},
   "outputs": [],
   "source": [
    "%run code/mgen.py\n",
    "generatePayoffMatrix()"
   ]
  },
  {
   "cell_type": "markdown",
   "metadata": {},
   "source": [
    "## Analyzed scenarios\n",
    "\n",
    "### IPD between two players\n",
    "\n",
    "For the simple IPD between two players, each player plays against all others and itself.\n",
    "\n",
    "Since in this case every player has a different fixed strategy, it is the same as checking how each strategy performs against itself and all the others. For each match, we iterate the game `NUM_REPETITIONS` times in order to have some statistics on the final result, namely mean and standard deviation. \n",
    "\n",
    "We plot these statistics for each player (strategy) in the form of boxplots, and the history of moves related to the last repetition."
   ]
  },
  {
   "cell_type": "markdown",
   "metadata": {},
   "source": [
    "Available options:\n",
    "```\n",
    "--nplay NPLAY  number of players in the game (default: 8)\n",
    "--niter NITER  number of repetitions for each match (default: 50)\n",
    "--nrep NREP    number of repetitions of the game (default: 10)\n",
    "--seed [SEED]  seed for the PRNG (not issued = clock-based; no number = 100 is used)\n",
    "--fixed        fix Mainly bad/good probabilities to 0.75/0.25 (default: False)\n",
    "--saveimg      save output images instead of showing them (default: False)\n",
    "--latex        output dataframes as latex code (default: False)\n",
    "```"
   ]
  },
  {
   "cell_type": "code",
   "execution_count": null,
   "metadata": {
    "scrolled": true
   },
   "outputs": [],
   "source": [
    "%matplotlib inline\n",
    "%run code/ipd2p.py --seed"
   ]
  },
  {
   "cell_type": "markdown",
   "metadata": {},
   "source": [
    "### IPD between multiple players (MPIPD)\n",
    "\n",
    "The MPIPD is a simple generalization of the 2-player version seen above.\n",
    "\n",
    "Given the number of players, we generate one strategy for each of them and setup a round-robin tournament: each player play against all the other participants.\n",
    "Strategies are fixed throughout the whole tournament.\n",
    "\n",
    "We iterate each match and the whole tournament multiple times to collect statistics, and show them using boxplots."
   ]
  },
  {
   "cell_type": "markdown",
   "metadata": {},
   "source": [
    "Available options:\n",
    "```\n",
    "--nplay NPLAY  number of players in the game (default: 50)\n",
    "--niter NITER  number of repetitions for each match (default: 50)\n",
    "--nrep NREP    number of repetitions of the game (default: 10)\n",
    "--seed [SEED]  seed for the PRNG (not issued = clock-based; no number = 100 is used)\n",
    "--fixed        fix Mainly bad/good probabilities to 0.75/0.25 (default: False)\n",
    "--saveimg      save output images instead of showing them (default: False)\n",
    "--latex        output dataframes as latex code (default: False)\n",
    "```"
   ]
  },
  {
   "cell_type": "code",
   "execution_count": null,
   "metadata": {},
   "outputs": [],
   "source": [
    "%matplotlib inline\n",
    "%run code/ipdmp.py --seed"
   ]
  },
  {
   "cell_type": "markdown",
   "metadata": {},
   "source": [
    "### Repeated Multiple Players IPD (rMPIPD)\n",
    "\n",
    "The MPIPD shown above is repeated multiple times, but at each iteration the population changes.\n",
    "We stop at convergence (more than 3/4 of the population has the same strategy) or if we reach a maximum number of iterations.\n",
    "\n",
    "We implement two different ways:\n",
    "\n",
    "1. The population remains constant: we add strategies that achieve good results and remove those that do not perform well. The percentage of players added and removed for each iteration is set before starting the game rounds.\n",
    "\n",
    "2. The population increases: we start with one player per strategy and on each iteration we only add players with strategies that perform well in the previus iteration. We used three metrics to decide how to modify the population, all based on the sorted list of players' rank (score):\n",
    "    - according to $i/num\\_players$ where $i$ is the $i$-th player in the list\n",
    "    - dividing the ordered population in three sets and using a different probability value for each of the three (add more from first set, less from the last)\n",
    "    - according to each players' score, computed as $pl\\_points/max(points\\_list)$"
   ]
  },
  {
   "cell_type": "markdown",
   "metadata": {},
   "source": [
    "Common available options:\n",
    "```\n",
    "--nplay NPLAY      number of players in the game (default: 50)\n",
    "--niter NITER      number of repetitions for each match (default: 50)\n",
    "--maxrep MAXREP    max number of allowed repetitions (default: 5)\n",
    "--percent PERCENT  percentage of the population to be considered [if applicable] (default: 0.3)\n",
    "--seed [SEED]      seed for the PRNG (not issued = clock-based; no number = 100 is used)\n",
    "--fixed            fix Mainly bad/good probabilities to 0.75/0.25 (default: False)\n",
    "--saveimg          save output images instead of showing them (default: False)\n",
    "--latex            output dataframes as latex code (default: False)\n",
    "```"
   ]
  },
  {
   "cell_type": "markdown",
   "metadata": {},
   "source": [
    "#### 1. Constant Population"
   ]
  },
  {
   "cell_type": "code",
   "execution_count": null,
   "metadata": {
    "scrolled": true
   },
   "outputs": [],
   "source": [
    "%matplotlib inline\n",
    "%run code/ripdmp_const_pop.py --seed"
   ]
  },
  {
   "cell_type": "markdown",
   "metadata": {},
   "source": [
    "#### 2. Increasing population"
   ]
  },
  {
   "cell_type": "markdown",
   "metadata": {},
   "source": [
    "Additional option to common ones:\n",
    "```\n",
    "--altern ALTERN  method to be used when changing population [details in the report] (default: 1)\n",
    "```"
   ]
  },
  {
   "cell_type": "code",
   "execution_count": null,
   "metadata": {},
   "outputs": [],
   "source": [
    "%matplotlib inline\n",
    "%run code/ripdmp_incr_pop.py --seed"
   ]
  },
  {
   "cell_type": "markdown",
   "metadata": {},
   "source": [
    "### rMPIPD with mutating strategies\n",
    "\n",
    "Player's strategies are allowed to mutate according to a random parameter $c$ that encodes the attitude of cooperation of a player.\n",
    "\n",
    "Again we propose two alternatives to update the gene:\n",
    "\n",
    "1. the new $c_N$ is randomly generated\n",
    "\n",
    "2. based on player's ranking: bad players obey to $c_N = (c+(i/num\\_players)^2)/2$, (players high in the chart will go less cooperative and vice-versa). $1-i$ is instead used for good players, for the opposite behavior.\n",
    "\n",
    "If $c_N$ differs significantly from the old $c$ value the strategy will change ($c=0.5$ as divider).\n",
    "The new strategy is selected among a list of some default and some random $k$ values, bounded between $(1-c)\\times 100$ and $\\min(id,50)$ (more coop direction) or between $\\max(id,50)$ and $(1-c)\\times 100$ (less coop).\n"
   ]
  },
  {
   "cell_type": "markdown",
   "metadata": {},
   "source": [
    "Available options:\n",
    "```\n",
    "--nplay NPLAY      number of players in the game (default: 50)\n",
    "--niter NITER      number of repetitions for each match (default: 50)\n",
    "--maxrep MAXREP    max number of allowed repetitions (default: 5)\n",
    "--altern ALTERN    method to be used when changing population [details in the report] (default: 1)\n",
    "--seed [SEED]      seed for the PRNG (not issued = clock-based; no number = 100 is used)\n",
    "--fixed            fix Mainly bad/good probabilities to 0.75/0.25 (default: False)\n",
    "--saveimg          save output images instead of showing them (default: False)\n",
    "--latex            output dataframes as latex code (default: False)\n",
    "```"
   ]
  },
  {
   "cell_type": "code",
   "execution_count": null,
   "metadata": {},
   "outputs": [],
   "source": [
    "%matplotlib inline\n",
    "%run code/cipdmp.py --seed"
   ]
  }
 ],
 "metadata": {
  "kernelspec": {
   "display_name": "Python 3",
   "language": "python",
   "name": "python3"
  },
  "language_info": {
   "codemirror_mode": {
    "name": "ipython",
    "version": 3
   },
   "file_extension": ".py",
   "mimetype": "text/x-python",
   "name": "python",
   "nbconvert_exporter": "python",
   "pygments_lexer": "ipython3",
   "version": "3.6.7"
  }
 },
 "nbformat": 4,
 "nbformat_minor": 2
}
