{
 "cells": [
  {
   "cell_type": "markdown",
   "metadata": {},
   "source": [
    "# Iterative Prisoner's Dilemma\n",
    "\n",
    "_Group 9 - Elia Bonetto, Filippo Rigotto, Luca Attanasio, Francesco Savio_\n",
    "\n",
    "This notebook is a brief presentation of the code we developed for our project involving the Iterative Prisoner's Dilemma (IPD).\n",
    "\n",
    "For more detailed informations, please see the full report available in [PDF](report/report.pdf).\n",
    "\n",
    "**TODO remember to add a generated pdf to the repo (currently pdfs are gitignored)**\n",
    "\n",
    "We start by defining the classes we built our code upon and then proceed to show many variations of the game."
   ]
  },
  {
   "cell_type": "markdown",
   "metadata": {},
   "source": [
    "## Base classes\n",
    "\n",
    "### Player and Strategy\n",
    "\n",
    "We defined a class Player with different methods that aim to store the history of moves and plays against other players.\n",
    "\n",
    "We also defined a base class Strategy to represent all strategies.\n",
    "From this base class, we derived the ProbStrategy class to represent through a parameter $k$ those strategies where cooperation occurs with a given probability (namely _Bad guy_, _MainlyBad_, _Nice guy_, _MainlyNice_, _Indifferent_).\n",
    "Tit-for-Tat (_TfT_), Tit-for-2-Tat (_Tf2T_) and Grim-Trigger (_GrT_) strategies are also derived from the base Strategy class.\n",
    "\n",
    "These are all the strategies we considered in our work, even if many more exist and could be used."
   ]
  },
  {
   "cell_type": "code",
   "execution_count": null,
   "metadata": {},
   "outputs": [],
   "source": [
    "%load code/strategy.py"
   ]
  },
  {
   "cell_type": "markdown",
   "metadata": {},
   "source": [
    "### Matrix Generator function\n",
    "\n",
    "Even if in our tests we used the default payoff matrix, we defined a function to generate a valid matrix to be used for the game."
   ]
  },
  {
   "cell_type": "code",
   "execution_count": null,
   "metadata": {},
   "outputs": [],
   "source": [
    "%load code/mgen.py"
   ]
  },
  {
   "cell_type": "code",
   "execution_count": null,
   "metadata": {},
   "outputs": [],
   "source": [
    "%run code/mgen.py\n",
    "generatePayoffMatrix()"
   ]
  },
  {
   "cell_type": "markdown",
   "metadata": {},
   "source": [
    "## Analyzed scenarios\n",
    "\n",
    "### IPD between two players\n",
    "\n",
    "For the simple IPD between two players, each player plays against all others and itself.\n",
    "\n",
    "Since in this case a player is assigned to one fixed strategy, it is the same as checking how each strategy performs against itself and all the others. For each match, we iterate the game `NUM_REPETITIONS` times in order to have some statistics on the final result, namely mean and standard deviation. \n",
    "\n",
    "We plot these statistics for each player (strategy) in the form of boxplots, and the history of moves related to the last repetition."
   ]
  },
  {
   "cell_type": "markdown",
   "metadata": {},
   "source": [
    "Available options:\n",
    "```\n",
    "    --saveimg SAVEIMG  save output images (default: False)\n",
    "    --nplay NPLAY      number of players in the game (default: 8)\n",
    "    --niter NITER      number of repetitions for each match (default: 50)\n",
    "    --fixed FIXED      choose to fix all the Mainly bad/good probabilities to 25 and 75 (default: False)\n",
    "    --nrep NREP        number of repetitions of the game (default: 10)\n",
    "```\n",
    "nrep is needed to get statistical insights"
   ]
  },
  {
   "cell_type": "code",
   "execution_count": null,
   "metadata": {
    "scrolled": true
   },
   "outputs": [],
   "source": [
    "#Necessary in the first run\n",
    "%matplotlib inline\n",
    "%run code/ipd2p.py"
   ]
  },
  {
   "cell_type": "markdown",
   "metadata": {},
   "source": [
    "### IPD between multiple players (MPIPD)\n",
    "\n",
    "The MPIPD is a simple generalization of the 2-player version seen above.\n",
    "\n",
    "Given a number of players, we generate one strategy for each of them and setup a round-robin tournament: each player play against all the other participants.\n",
    "Strategies are fixed throughout the whole tournament.\n",
    "\n",
    "We iterate each match and the whole tournament multiple times to collect statistics, and show them using boxplots."
   ]
  },
  {
   "cell_type": "markdown",
   "metadata": {},
   "source": [
    "Available options:\n",
    "```\n",
    "  --saveimg SAVEIMG  save output images (default: False)\n",
    "  --nplay NPLAY      number of players in the game (default: 50)\n",
    "  --niter NITER      number of iterations for each match (default: 50)\n",
    "  --fixed FIXED      choose to fix all the Mainly bad/good probabilities to 25 and 75 respectively(default: False)\n",
    "  --nrep NREP        number of repetitions of the game (default: 10)\n",
    "```"
   ]
  },
  {
   "cell_type": "code",
   "execution_count": null,
   "metadata": {},
   "outputs": [],
   "source": [
    "%matplotlib inline\n",
    "%run code/ipdmp.py"
   ]
  },
  {
   "cell_type": "markdown",
   "metadata": {},
   "source": [
    "### Repeated Multiple Players IPD (rMPIPD)\n",
    "\n",
    "The MPIPD shown above is repeated multiple times, but at each iteration the population changes.\n",
    "We stop at convergence (more than 3/4 of the population has the same strategy) or if we reach a maximum number of iterations.\n",
    "\n",
    "We implement two different ways:\n",
    "\n",
    "1. The population remains constant: we add strategies that achieve good results and remove those that do not perform well. The percentage of players added and removed for each iteration is fixed.\n",
    "\n",
    "2. The population increases: we start with one player per strategy and on each iteration we only add players with strategies that perform well in the previus iteration. We used three metrics to decide how to modify the population, all based on the sorted list of players' rank (score):\n",
    "    - according to $i/num\\_players$ where $i$ is the $i$th player in the list\n",
    "    - dividing the ordered population in three sets and using a different probability value for each of the three (add more from first set, less from the last)\n",
    "    - according to each players' score, computed as $pl\\_points/max(points\\_list)$"
   ]
  },
  {
   "cell_type": "markdown",
   "metadata": {},
   "source": [
    "Available options:\n",
    "```\n",
    "  --saveimg SAVEIMG    save output images (default: False)\n",
    "  --nplay NPLAY        number of players in the game (default: 50)\n",
    "  --niter NITER        number of iterations for each match (default: 50)\n",
    "  --fixed FIXED        choose to fix the Mainly bad/good probabilities to 25 and 75 respectively (default: False)\n",
    "  --nrep NREP          number of NUM_REPETITIONS of the game (default: 10)\n",
    "  --maxallow MAXALLOW  max number of repetitions allowed (default: 10)\n",
    "  --percent PERCENT    percentage of the population to be considered [if applicable] (default: 0.3)\n",
    "```"
   ]
  },
  {
   "cell_type": "markdown",
   "metadata": {},
   "source": [
    "#### 1. Constant Population"
   ]
  },
  {
   "cell_type": "code",
   "execution_count": null,
   "metadata": {
    "scrolled": true
   },
   "outputs": [],
   "source": [
    "%matplotlib inline\n",
    "%run code/ripdmp_const_pop.py"
   ]
  },
  {
   "cell_type": "markdown",
   "metadata": {},
   "source": [
    "#### 2. Increasing population"
   ]
  },
  {
   "cell_type": "markdown",
   "metadata": {},
   "source": [
    "Additional option:\n",
    "```\n",
    "--altern ALTERN      choose between different alternatives for increasing population (more details in the report) (default: 1)\n",
    "```"
   ]
  },
  {
   "cell_type": "code",
   "execution_count": null,
   "metadata": {},
   "outputs": [],
   "source": [
    "%matplotlib inline\n",
    "%run code/ripdmp_incr_pop.py"
   ]
  },
  {
   "cell_type": "markdown",
   "metadata": {},
   "source": [
    "### rMPIPD with mutating strategies\n",
    "\n",
    "A parameter (gene) encodes the attidue of an individual strategie to cooperate. The gene can mutate randomly.\n",
    "**TODO adapt it to new code**"
   ]
  },
  {
   "cell_type": "code",
   "execution_count": null,
   "metadata": {},
   "outputs": [],
   "source": [
    "%matplotlib inline\n",
    "%run code/cipdmp.py -h"
   ]
  }
 ],
 "metadata": {
  "kernelspec": {
   "display_name": "Python 3",
   "language": "python",
   "name": "python3"
  },
  "language_info": {
   "codemirror_mode": {
    "name": "ipython",
    "version": 3
   },
   "file_extension": ".py",
   "mimetype": "text/x-python",
   "name": "python",
   "nbconvert_exporter": "python",
   "pygments_lexer": "ipython3",
   "version": "3.6.6"
  }
 },
 "nbformat": 4,
 "nbformat_minor": 2
}
