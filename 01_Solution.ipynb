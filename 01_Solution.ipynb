{
 "cells": [
  {
   "cell_type": "markdown",
   "metadata": {},
   "source": [
    "### 1. Write the following as a list comprehension"
   ]
  },
  {
   "cell_type": "code",
   "execution_count": 1,
   "metadata": {},
   "outputs": [
    {
     "name": "stdout",
     "output_type": "stream",
     "text": [
      "[(0, 0), (0, 1), (0, 2), (0, 3), (1, 0), (1, 1), (1, 2), (1, 3), (2, 0), (2, 1), (2, 2), (2, 3)]\n",
      "[0, 4, 16]\n",
      "\n",
      "Output of my Solution:\n",
      "[(0, 0), (0, 1), (0, 2), (0, 3), (1, 0), (1, 1), (1, 2), (1, 3), (2, 0), (2, 1), (2, 2), (2, 3)]\n",
      "[0, 4, 16]\n"
     ]
    }
   ],
   "source": [
    "# 1\n",
    "ans = []\n",
    "for i in range(3):\n",
    "    for j in range(4):\n",
    "        ans.append((i, j))\n",
    "print (ans)\n",
    "\n",
    "# 2\n",
    "ans = map(lambda x: x*x, filter(lambda x: x%2 == 0, range(5)))\n",
    "print (list(ans))\n",
    "\n",
    "# List Comprehension\n",
    "print ('\\nOutput of my Solution:')\n",
    "List1 = [(i,j) for i in range(3) for j in range(4)]\n",
    "print (List1)\n",
    "\n",
    "List2 = [i**2 for i in range(5) if i%2 == 0]\n",
    "print (List2)\n"
   ]
  },
  {
   "cell_type": "markdown",
   "metadata": {},
   "source": [
    "### 2. Convert the following function into a pure function with no global variables or side effects"
   ]
  },
  {
   "cell_type": "code",
   "execution_count": 2,
   "metadata": {},
   "outputs": [
    {
     "name": "stdout",
     "output_type": "stream",
     "text": [
      "[1, 2, 3, 0, 1, 2, 3, 4]\n",
      "[1, 2, 3, 0, 1, 2, 3, 4]\n",
      "\n",
      "[1, 2, 3]\n",
      "[1, 2, 3, 0, 1, 2, 3, 4]\n"
     ]
    }
   ],
   "source": [
    "x = 5\n",
    "def f(alist):\n",
    "    for i in range(x):\n",
    "         alist.append(i)\n",
    "    return alist\n",
    "\n",
    "alist = [1,2,3]\n",
    "ans = f(alist)\n",
    "print (ans)\n",
    "print (alist) # alist has been changed!\n",
    "\n",
    "# My Solution\n",
    "def purefunc(blist) :\n",
    "    y = 5\n",
    "    templist = blist[:]\n",
    "    for i in range(y) :\n",
    "        templist.append(i)\n",
    "    return templist\n",
    "\n",
    "'''\n",
    "I hope I understood this exercise correctly:\n",
    "I removed the dependency on any global variable, made sure our input is not changed \n",
    "and moved the print statement inside the function. \n",
    "'''\n",
    "# Test the function:\n",
    "print ('')\n",
    "blist = [1,2,3]\n",
    "bns = purefunc(blist)\n",
    "print (blist)\n",
    "print (bns)"
   ]
  },
  {
   "cell_type": "markdown",
   "metadata": {},
   "source": [
    "### 3\\. Write a `decorator` hello that makes every wrapped function print “Hello!”, i.e. something like:\n",
    "\n",
    "```python\n",
    "@hello\n",
    "def square(x):\n",
    "    return x*x\n",
    "```\n",
    "\n"
   ]
  },
  {
   "cell_type": "code",
   "execution_count": 3,
   "metadata": {},
   "outputs": [
    {
     "name": "stdout",
     "output_type": "stream",
     "text": [
      "Hello\n",
      "Hello World\n"
     ]
    }
   ],
   "source": [
    "# Exercise 3 - Wrapper\n",
    "\n",
    "def Decorator(func):\n",
    "    def wrapper():\n",
    "        print(\"Hello\")\n",
    "        func()\n",
    "    return wrapper\n",
    "\n",
    "\n",
    "#Test this: \n",
    "def Hello_World() :\n",
    "    print ('Hello World')\n",
    "    return\n",
    "\n",
    "newfunc = Decorator(Hello_World)\n",
    "newfunc()"
   ]
  },
  {
   "cell_type": "markdown",
   "metadata": {},
   "source": [
    "### 4\\. Write the factorial function so that it a) does and b) does not use recursion."
   ]
  },
  {
   "cell_type": "code",
   "execution_count": 4,
   "metadata": {},
   "outputs": [
    {
     "name": "stdout",
     "output_type": "stream",
     "text": [
      "Non Recursive: \n",
      "5! = 120\n",
      "Recursive: \n",
      "5! = 120\n"
     ]
    }
   ],
   "source": [
    "# Exercise 4 - Factorial\n",
    "\n",
    "def non_rec_fact(n) :\n",
    "    result = 1\n",
    "    for i in range(1,n+1) : result *= i\n",
    "    return result\n",
    "\n",
    "def rec_fact(n) :\n",
    "    if n == 0 : return 1\n",
    "    else : return n*rec_fact(n-1)\n",
    "    \n",
    "# Test this\n",
    "print (\"Non Recursive: \\n5! = \" + str(non_rec_fact(5)))\n",
    "print (\"Recursive: \\n5! = \" + str(rec_fact(5)))"
   ]
  },
  {
   "cell_type": "markdown",
   "metadata": {},
   "source": [
    "### 5\\. Use HOFs (zip in particular) to compute the weight of a circle, a disk and a sphere, assuming different radii and different densities:\n",
    "\n",
    "```python\n",
    "densities = {\"Al\":[0.5,1,2],\"Fe\":[3,4,5],\"Pb\": [15,20,30]}\n",
    "radii = [1,2,3]\n",
    "```\n",
    "\n",
    "where the entries of the dictionary's values are the linear, superficial and volumetric densities of the materials respectively.\n",
    "\n",
    "In particular define a list of three lambda functions using a comprehension that computes the circumference, the area and the volume for a given radius.\n"
   ]
  },
  {
   "cell_type": "code",
   "execution_count": 5,
   "metadata": {},
   "outputs": [
    {
     "name": "stdout",
     "output_type": "stream",
     "text": [
      "Test with all three materials:\n",
      "[12.566370614359172, 134.0412865531645, 565.4866776461627]\n",
      "[2.0943951023931953, 33.510321638291124, 226.19467105846508]\n",
      "[62.831853071795855, 670.2064327658225, 3392.920065876976]\n",
      "\n",
      "Test with a material, that doesn't exist:\n",
      "Please enter a valid material (Fe, Al or Pb)\n",
      "None\n"
     ]
    }
   ],
   "source": [
    "# Exercise 5 - Weights\n",
    "import math\n",
    "\n",
    "Densities = {\"Al\":[0.5,1,2],\"Fe\":[3,4,5],\"Pb\": [15,20,30]}\n",
    "Radii = [1,2,3]\n",
    "\n",
    "Radius = lambda r : 2 * math.pi * r\n",
    "Circumference = lambda r : math.pi * r**2\n",
    "Volume = lambda r : 4/3 * math.pi * r**3\n",
    "V_List = [Radius, Circumference, Volume]\n",
    "\n",
    "def Calc_Weight(Material) : \n",
    "    if not ((Material == 'Fe') or (Material == 'Al') or (Material == 'Pb')) : \n",
    "        print ('Please enter a valid material (Fe, Al or Pb)')\n",
    "        return\n",
    "    Dens = Densities[Material]\n",
    "    Weights = []\n",
    "    for r, rho, volume in zip(Radii, Dens, V_List) :\n",
    "        Weights.append(rho * Volume(r))\n",
    "    return Weights\n",
    "\n",
    "print ('Test with all three materials:')\n",
    "print (Calc_Weight('Fe'))\n",
    "print (Calc_Weight('Al'))\n",
    "print (Calc_Weight('Pb'))\n",
    "print (\"\\nTest with a material, that doesn't exist:\")\n",
    "print (Calc_Weight('Ne'))"
   ]
  },
  {
   "cell_type": "markdown",
   "metadata": {},
   "source": [
    "### 6\\. Classes\n",
    "Edit the class defintion to add an instance attribute of is_hungry = True to the Dog class. Then add a method called eat() which changes the value of is_hungry to False when called. Figure out the best way to feed each dog and then output “My dogs are hungry.” if all are hungry or “My dogs are not hungry.” if all are not hungry. The final output should look like this:\n",
    "\n",
    "`I have 3 dogs. \n",
    "Tom is 6. \n",
    "Fletcher is 7. \n",
    "Larry is 9. \n",
    "And they're all mammals, of course. \n",
    "My dogs are not hungry.\n",
    "`\n",
    "\n",
    "```python\n",
    "# Parent class\n",
    "class Dog:\n",
    "\n",
    "    # Class attribute\n",
    "    species = 'mammal'\n",
    "\n",
    "    # Initializer / Instance attributes\n",
    "    def __init__(self, name, age):\n",
    "        self.name = name\n",
    "        self.age = age\n",
    "\n",
    "    # instance method\n",
    "    def description(self):\n",
    "        return \"{} is {} years old\".format(self.name, self.age)\n",
    "\n",
    "    # instance method\n",
    "    def speak(self, sound):\n",
    "        return \"{} says {}\".format(self.name, sound)\n",
    "\n",
    "# Child class (inherits from Dog class)\n",
    "class RussellTerrier(Dog):\n",
    "    def run(self, speed):\n",
    "        return \"{} runs {}\".format(self.name, speed)\n",
    "\n",
    "# Child class (inherits from Dog class)\n",
    "class Bulldog(Dog):\n",
    "    def run(self, speed):\n",
    "        return \"{} runs {}\".format(self.name, speed)\n",
    "```"
   ]
  },
  {
   "cell_type": "code",
   "execution_count": 6,
   "metadata": {},
   "outputs": [
    {
     "name": "stdout",
     "output_type": "stream",
     "text": [
      "I have 3 dogs.\n",
      "Tom is 6 years old\n",
      "Fletcher is 7 years old\n",
      "Larry is 9 years old\n",
      "And they're all mammals of course\n",
      "My dogs are not hungry\n"
     ]
    }
   ],
   "source": [
    "# Exercise 6 - Dogs\n",
    "\n",
    "class Dog:\n",
    "\n",
    "    # Class attribute\n",
    "    species = 'mammal'\n",
    "    is_hungry = True\n",
    "\n",
    "    # Initializer / Instance attributes\n",
    "    def __init__(self, name, age):\n",
    "        self.name = name\n",
    "        self.age = age\n",
    "\n",
    "    # instance method\n",
    "    def description(self):\n",
    "        return \"{} is {} years old\".format(self.name, self.age)\n",
    "\n",
    "    # instance method\n",
    "    def speak(self, sound):\n",
    "        return \"{} says {}\".format(self.name, sound)\n",
    "    \n",
    "    # Eating Method\n",
    "    def eat(self):\n",
    "        self.is_hungry = False\n",
    "        return True\n",
    "\n",
    "# Child class (inherits from Dog class)\n",
    "class RussellTerrier(Dog):\n",
    "    def run(self, speed):\n",
    "        return \"{} runs {}\".format(self.name, speed)\n",
    "\n",
    "# Child class (inherits from Dog class)\n",
    "class Bulldog(Dog):\n",
    "    def run(self, speed):\n",
    "        return \"{} runs {}\".format(self.name, speed)\n",
    "    \n",
    "def Feeding(DogList):\n",
    "    for dog in DogList : dog.eat()\n",
    "    return\n",
    "        \n",
    "def Check_if_Dogs_hungry(DogList) :\n",
    "    AllHungry = True\n",
    "    AllFed = True\n",
    "    for dog in DogList: \n",
    "        if dog.is_hungry : AllFed = False\n",
    "        else : AllHungry = False\n",
    "    if AllHungry : print ('My dogs are hungry')\n",
    "    elif AllFed : print ('My dogs are not hungry')\n",
    "\n",
    "def Check_if_Mammals(DogList):\n",
    "    AllMammals = True\n",
    "    for dog in DogList: \n",
    "        if not (dog.species == 'mammal') : AllMammals = False\n",
    "    if AllMammals : print (\"And they're all mammals of course\")\n",
    "    else : print (\"Something went wrong with my code (or evolution)\")\n",
    "        \n",
    "    \n",
    "''' Desired Output: \n",
    "I have 3 dogs. \n",
    "Tom is 6. \n",
    "Fletcher is 7. \n",
    "Larry is 9. \n",
    "And they're all mammals, of course. \n",
    "My dogs are not hungry.\n",
    "'''\n",
    "\n",
    "# Let's create the output with the functions we defined: \n",
    "Tom = Dog('Tom', 6)\n",
    "Fletcher = Dog('Fletcher', 7)\n",
    "Larry = Dog('Larry', 9)\n",
    "MyDogs = [Tom, Fletcher, Larry]\n",
    "\n",
    "print ('I have ' + str(len(MyDogs)) + ' dogs.')\n",
    "for dog in MyDogs : print (dog.description())\n",
    "Check_if_Mammals(MyDogs)\n",
    "Feeding(MyDogs)\n",
    "Check_if_Dogs_hungry(MyDogs)"
   ]
  }
 ],
 "metadata": {
  "kernelspec": {
   "display_name": "Python 3",
   "language": "python",
   "name": "python3"
  },
  "language_info": {
   "codemirror_mode": {
    "name": "ipython",
    "version": 3
   },
   "file_extension": ".py",
   "mimetype": "text/x-python",
   "name": "python",
   "nbconvert_exporter": "python",
   "pygments_lexer": "ipython3",
   "version": "3.7.0"
  }
 },
 "nbformat": 4,
 "nbformat_minor": 2
}
