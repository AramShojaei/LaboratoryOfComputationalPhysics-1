{
 "cells": [
  {
   "cell_type": "markdown",
   "metadata": {},
   "source": [
    "### Numpy basics"
   ]
  },
  {
   "cell_type": "markdown",
   "metadata": {},
   "source": [
    "1\\. Find the row, column and overall means for the following matrix:\n",
    "\n",
    "```python\n",
    "m = np.arange(12).reshape((3,4))\n",
    "```"
   ]
  },
  {
   "cell_type": "code",
   "execution_count": 73,
   "metadata": {},
   "outputs": [
    {
     "name": "stdout",
     "output_type": "stream",
     "text": [
      "Row mean: \n",
      " [[1.5]\n",
      " [5.5]\n",
      " [9.5]]\n",
      "Column mean: \n",
      " [[4.]\n",
      " [5.]\n",
      " [6.]\n",
      " [7.]]\n",
      "Overall mean: \n",
      " [[5.5]]\n"
     ]
    }
   ],
   "source": [
    "import numpy as np\n",
    "\n",
    "mean_row = np.zeros((3,1))\n",
    "mean_column = np.zeros((1,4))\n",
    "mean_overall = np.zeros((1,1))\n",
    "\n",
    "m = np.arange(12).reshape((3,4))\n",
    "\n",
    "# Row mean\n",
    "one = np.ones((4,1))\n",
    "mean_row = (m.dot(one))/4\n",
    "\n",
    "# Column mean\n",
    "one = np.ones((3,1))\n",
    "mean_column = (np.transpose(m).dot(one))/3\n",
    "\n",
    "# Overall mean\n",
    "mean = ((np.ones((1,4))).dot(mean_column*3))/12\n",
    "\n",
    "print(\"Row mean: \\n\",mean_row)\n",
    "print(\"Column mean: \\n\", mean_column)\n",
    "print(\"Overall mean: \\n\", mean)"
   ]
  },
  {
   "cell_type": "markdown",
   "metadata": {},
   "source": [
    "2\\. Find the outer product of the following two vecotrs\n",
    "\n",
    "```python\n",
    "u = np.array([1,3,5,7])\n",
    "v = np.array([2,4,6,8])\n",
    "```\n",
    "\n",
    "Do this in the following ways:\n",
    "\n",
    "   * Using the function outer in numpy\n",
    "   * Using a nested for loop or list comprehension\n",
    "   * Using numpy broadcasting operatoins\n"
   ]
  },
  {
   "cell_type": "code",
   "execution_count": 74,
   "metadata": {},
   "outputs": [
    {
     "name": "stdout",
     "output_type": "stream",
     "text": [
      "Outer product in the first way:\n",
      " [[ 2  4  6  8]\n",
      " [ 6 12 18 24]\n",
      " [10 20 30 40]\n",
      " [14 28 42 56]]\n",
      "Outer product in the second way:\n",
      " [[ 2  4  6  8]\n",
      " [ 6 12 18 24]\n",
      " [10 20 30 40]\n",
      " [14 28 42 56]]\n",
      "Outer product in the third way:\n",
      " [[ 2  4  6  8]\n",
      " [ 6 12 18 24]\n",
      " [10 20 30 40]\n",
      " [14 28 42 56]]\n"
     ]
    }
   ],
   "source": [
    "u = np.array([1,3,5,7])\n",
    "v = np.array([2,4,6,8])\n",
    "\n",
    "# Outer product 1\n",
    "outer_1 = np.outer(u,v)\n",
    "\n",
    "# Outer product 2\n",
    "list_2 = [x*y for x in u for y in v]\n",
    "outer_2 = (np.array(list_2)).reshape(4,4)\n",
    "\n",
    "# Outer product 3\n",
    "outer_3 = u.reshape(4,1)*v.reshape(1,4)\n",
    "\n",
    "print(\"Outer product in the first way:\\n\", outer_1)\n",
    "print(\"Outer product in the second way:\\n\", outer_2)\n",
    "print(\"Outer product in the third way:\\n\", outer_3)"
   ]
  },
  {
   "cell_type": "markdown",
   "metadata": {},
   "source": [
    "3\\. Create a 10 by 6 matrix of random uniform numbers. Set all rows with any entry less than 0.1 to be zero\n",
    "\n",
    "Hint: Use the following numpy functions - np.random.random, np.any as well as Boolean indexing and the axis argument."
   ]
  },
  {
   "cell_type": "code",
   "execution_count": 75,
   "metadata": {},
   "outputs": [
    {
     "name": "stdout",
     "output_type": "stream",
     "text": [
      "[[0.         0.         0.         0.         0.         0.        ]\n",
      " [0.69987298 0.7568769  0.36132311 0.52673741 0.36602153 0.31990302]\n",
      " [0.67061938 0.9403369  0.44941978 0.55270074 0.71887315 0.72241628]\n",
      " [0.6496528  0.80192244 0.32060184 0.18351197 0.34315374 0.31789452]\n",
      " [0.         0.         0.         0.         0.         0.        ]\n",
      " [0.86436528 0.65116971 0.27750623 0.30656764 0.70413422 0.21101742]\n",
      " [0.58127483 0.7075042  0.43307846 0.24234809 0.76027234 0.41388451]\n",
      " [0.25758675 0.85745159 0.46308909 0.22801007 0.13668768 0.2639085 ]\n",
      " [0.23040142 0.66527263 0.61002917 0.13573223 0.54025625 0.66802556]\n",
      " [0.49308771 0.34963815 0.41093052 0.40270446 0.37992874 0.2831678 ]]\n"
     ]
    }
   ],
   "source": [
    "rand_mat = np.random.random_sample((10, 6))\n",
    "\n",
    "mask = (rand_mat < 0.1)\n",
    "row_mask = np.any(mask, axis=1)\n",
    "rand_mat[row_mask] = 0\n",
    "\n",
    "print(rand_mat)"
   ]
  },
  {
   "cell_type": "markdown",
   "metadata": {},
   "source": [
    "4\\. Use np.linspace to create an array of 100 numbers between 0 and 2π (includsive).\n",
    "\n",
    "  * Extract every 10th element using slice notation\n",
    "  * Reverse the array using slice notation\n",
    "  * Extract elements where the absolute difference between the sine and cosine functions evaluated at that element is less than 0.1\n",
    "  * Make a plot showing the sin and cos functions and indicate where they are close"
   ]
  },
  {
   "cell_type": "code",
   "execution_count": 76,
   "metadata": {},
   "outputs": [
    {
     "data": {
      "image/png": "[encoded data removed]",
      "text/plain": [
       "<Figure size 432x288 with 1 Axes>"
      ]
     },
     "metadata": {},
     "output_type": "display_data"
    }
   ],
   "source": [
    "import matplotlib.pyplot as plt\n",
    "x = np.linspace(0, 2*np.pi, 100)\n",
    "extract_10 = x[0:100:10]\n",
    "reverse = x[::-1]\n",
    "mask = (abs(np.sin(x)-np.cos(x))<0.1)\n",
    "extract_diff = x[mask]\n",
    "plt.plot(x, np.cos(x))\n",
    "plt.plot(x, np.sin(x))\n",
    "\n",
    "# Plot points where the absolute difference between the sin and the cosine function is less than 0.1\n",
    "# Plot the mean value at this point\n",
    "plt.plot(extract_diff, (np.cos(extract_diff) + np.sin(extract_diff))/2,'r.')\n",
    "\n",
    "plt.show()"
   ]
  },
  {
   "cell_type": "markdown",
   "metadata": {},
   "source": [
    "5\\. Create a matrix that shows the 10 by 10 multiplication table.\n",
    "\n",
    " * Find the trace of the matrix\n",
    " * Extract the anto-diagonal (this should be ```array([10, 18, 24, 28, 30, 30, 28, 24, 18, 10])```)\n",
    " * Extract the diagnoal offset by 1 upwards (this should be ```array([ 2,  6, 12, 20, 30, 42, 56, 72, 90])```)"
   ]
  },
  {
   "cell_type": "code",
   "execution_count": 244,
   "metadata": {},
   "outputs": [
    {
     "name": "stdout",
     "output_type": "stream",
     "text": [
      "Trace: 385\n",
      "Anti-Diagonal: [10 18 24 28 30 30 28 24 18 10]\n",
      "Diagonal with offset: [ 2  6 12 20 30 42 56 72 90]\n"
     ]
    }
   ],
   "source": [
    "lin = np.arange(1, 11)\n",
    "matrix_10_x_10 = lin.reshape((1,-1))*lin.reshape((-1,1))\n",
    "trace = np.trace(matrix_10_x_10)\n",
    "reverse_mat = np.fliplr(matrix_10_x_10)\n",
    "anti_diag = np.diag(reverse_mat)\n",
    "\n",
    "# Create a mask to reduce the matrix and then get it diagonal\n",
    "mask = np.full((10,10), True)\n",
    "mask[:,0] = False\n",
    "mask[9,:] = False\n",
    "mat = matrix_10_x_10[mask].reshape((9,9))\n",
    "result = np.diag(mat)\n",
    "\n",
    "print(\"Trace:\",trace)\n",
    "print(\"Anti-Diagonal:\",anti_diag)\n",
    "print(\"Diagonal with offset:\",result)\n"
   ]
  },
  {
   "cell_type": "markdown",
   "metadata": {},
   "source": [
    "6\\. Use broadcasting to create a grid of distances\n",
    "\n",
    "Route 66 crosses the following cities in the US: Chicago, Springfield, Saint-Louis, Tulsa, Oklahoma City, Amarillo, Santa Fe, Albuquerque, Flagstaff, Los Angeles\n",
    "The corresponding positions in miles are: 0, 198, 303, 736, 871, 1175, 1475, 1544, 1913, 2448\n",
    "\n",
    "  * Construct a 2D grid of distances among each city along Route 66\n",
    "  * Convert that in km (those savages...)"
   ]
  },
  {
   "cell_type": "code",
   "execution_count": 77,
   "metadata": {},
   "outputs": [
    {
     "name": "stdout",
     "output_type": "stream",
     "text": [
      "\n",
      "Miles 2D Grid:\n",
      "\n",
      "[[   0  198  303  736  871 1175 1475 1544 1913 2448]\n",
      " [ 198    0  105  538  673  977 1277 1346 1715 2250]\n",
      " [ 303  105    0  433  568  872 1172 1241 1610 2145]\n",
      " [ 736  538  433    0  135  439  739  808 1177 1712]\n",
      " [ 871  673  568  135    0  304  604  673 1042 1577]\n",
      " [1175  977  872  439  304    0  300  369  738 1273]\n",
      " [1475 1277 1172  739  604  300    0   69  438  973]\n",
      " [1544 1346 1241  808  673  369   69    0  369  904]\n",
      " [1913 1715 1610 1177 1042  738  438  369    0  535]\n",
      " [2448 2250 2145 1712 1577 1273  973  904  535    0]]\n",
      "\n",
      "Kilometres 2D Grid:\n",
      "\n",
      "[[   0.       318.64932  487.63002 1184.47424 1401.73514 1890.9745\n",
      "  2373.7765  2484.82096 3078.66742 3939.66432]\n",
      " [ 318.64932    0.       168.9807   865.82492 1083.08582 1572.32518\n",
      "  2055.12718 2166.17164 2760.0181  3621.015  ]\n",
      " [ 487.63002  168.9807     0.       696.84422  914.10512 1403.34448\n",
      "  1886.14648 1997.19094 2591.0374  3452.0343 ]\n",
      " [1184.47424  865.82492  696.84422    0.       217.2609   706.50026\n",
      "  1189.30226 1300.34672 1894.19318 2755.19008]\n",
      " [1401.73514 1083.08582  914.10512  217.2609     0.       489.23936\n",
      "   972.04136 1083.08582 1676.93228 2537.92918]\n",
      " [1890.9745  1572.32518 1403.34448  706.50026  489.23936    0.\n",
      "   482.802    593.84646 1187.69292 2048.68982]\n",
      " [2373.7765  2055.12718 1886.14648 1189.30226  972.04136  482.802\n",
      "     0.       111.04446  704.89092 1565.88782]\n",
      " [2484.82096 2166.17164 1997.19094 1300.34672 1083.08582  593.84646\n",
      "   111.04446    0.       593.84646 1454.84336]\n",
      " [3078.66742 2760.0181  2591.0374  1894.19318 1676.93228 1187.69292\n",
      "   704.89092  593.84646    0.       860.9969 ]\n",
      " [3939.66432 3621.015   3452.0343  2755.19008 2537.92918 2048.68982\n",
      "  1565.88782 1454.84336  860.9969     0.     ]]\n"
     ]
    }
   ],
   "source": [
    "mile_to_km = 1.60934\n",
    "name_city = np.array(['Chicago', 'Springfield', 'Saint-Louis', 'Tulsa', 'Oklahoma City', 'Amarillo', 'Santa Fe', 'Albuquerque', 'Flagstaff', 'Los Angeles'])\n",
    "distances_mile = np.array([0, 198, 303, 736, 871, 1175, 1475, 1544, 1913, 2448]).reshape((-1,1))\n",
    "grid_2D_mile = abs(distances_mile.T - distances_mile)\n",
    "grid_2D_km = grid_2D_mile*mile_to_km\n",
    "print(\"\\nMiles 2D Grid:\\n\")\n",
    "print(grid_2D_mile)\n",
    "print(\"\\nKilometres 2D Grid:\\n\")\n",
    "print(grid_2D_km)"
   ]
  },
  {
   "cell_type": "markdown",
   "metadata": {},
   "source": [
    "7\\. Prime numbers sieve: compute the prime numbers in the 0-N (N=99 to start with) range with a sieve (mask).\n",
    "  * Constract a shape (100,) boolean array, the mask\n",
    "  * Identify the multiples of each number starting from 2 and set accordingly the corresponding mask element\n",
    "  * Apply the mask to obtain an array of ordered prime numbers\n",
    "  * Check the performances (timeit); how does it scale with N?\n",
    "  * Implement the optimization suggested in the [sieve of Eratosthenes](https://en.wikipedia.org/wiki/Sieve_of_Eratosthenes)"
   ]
  },
  {
   "cell_type": "code",
   "execution_count": 189,
   "metadata": {},
   "outputs": [
    {
     "data": {
      "image/png": "[encoded data removed]",
      "text/plain": [
       "<Figure size 432x288 with 1 Axes>"
      ]
     },
     "metadata": {},
     "output_type": "display_data"
    },
    {
     "name": "stdout",
     "output_type": "stream",
     "text": [
      "Prime numbers are: [ 1  2  3  5  7 11 13 17 19 23 29 31 37 41 43 47 53 59 61 67 71 73 79 83\n",
      " 89 97]\n",
      "Prime numbers are: [ 0  1  2  3  5  7 11 13 17 19 23 29 31 37 41 43 47 53 59 61 67 71 73 79\n",
      " 83 89 97]\n"
     ]
    }
   ],
   "source": [
    "def prime_num(max_num):\n",
    "    num_array = np.arange(max_num)\n",
    "    for i in range(2, max_num):\n",
    "        mask_1 = (num_array == i)\n",
    "        mask_2 = (num_array % i != 0)\n",
    "        mask = (mask_1 + mask_2)\n",
    "        num_array = num_array[mask]\n",
    "    return num_array\n",
    "\n",
    "def prime_num_sieve(n):\n",
    "    num = np.arange(n)\n",
    "    A = np.full(n, True)\n",
    "    for i in range(2, int(n**(1/2))):\n",
    "        if A[i] == True:\n",
    "            j = [i**2 + x*i for x in num if (i**2+x*i) < n]\n",
    "            A[j] = False\n",
    "    return num[A]\n",
    "    \n",
    "prime = prime_num(100)\n",
    "prime_sieve = prime_num_sieve(100)\n",
    "N = np.array([10,50,100,200,300,400,500,600,700,800,900,1000,1500,2000,3000,5000,7000,8500,9500,10000])\n",
    "t = np.array([0.056,0.329,0.679,1.45,2.23,3.15,3.93,4.88,5.72,6.65,7.97,8.57,14.1,21.1,35.2,81.5,131,178,215,230])\n",
    "plt.plot(N,t)\n",
    "plt.show()\n",
    "\n",
    "# The algorithm scale as N*loglog(N)\n",
    "print(\"Prime numbers are:\", prime)\n",
    "print(\"Prime numbers are:\", prime_sieve)"
   ]
  },
  {
   "cell_type": "markdown",
   "metadata": {},
   "source": [
    "8\\. Diffusion using random walk\n",
    "\n",
    "Consider a simple random walk process: at each step in time, a walker jumps right or left (+1 or -1) with equal probability. The goal is to find the typical distance from the origin of a random walker after a given amount of time. \n",
    "To do that, let's simulate many walkers and create a 2D array with each walker as a raw and the actual time evolution as columns\n",
    "\n",
    "  * Take 1000 walkers and let them walk for 200 steps\n",
    "  * Use randint to create a 2D array of size walkers x steps with values -1 or 1\n",
    "  * Build the actual walking distances for each walker (i.e. another 2D array \"summing on each raw\")\n",
    "  * Take the square of that 2D array (elementwise)\n",
    "  * Compute the mean of the squared distances at each step (i.e. the mean along the columns)\n",
    "  * Plot the average distances (sqrt(distance\\*\\*2)) as a function of time (step)\n",
    "  \n",
    "Did you get what you expected?"
   ]
  },
  {
   "cell_type": "code",
   "execution_count": 190,
   "metadata": {},
   "outputs": [
    {
     "data": {
      "image/png": "[encoded data removed]",
      "text/plain": [
       "<Figure size 432x288 with 1 Axes>"
      ]
     },
     "metadata": {},
     "output_type": "display_data"
    }
   ],
   "source": [
    "import numpy.random as npr\n",
    "\n",
    "# Create the initial maatrix \n",
    "array_2D = npr.randint(0,2,size=(1000,200))\n",
    "array_2D[array_2D == 0] = -1\n",
    "\n",
    "# Calculate actual distance from the origin at each step\n",
    "column = array_2D[:,0].reshape((-1,1))\n",
    "for i in range(1,array_2D.shape[1]):\n",
    "    column = column + array_2D[:,i].reshape((-1,1))\n",
    "    array_2D[:,i] = column.flatten()\n",
    "\n",
    "array_2D_square = array_2D**2\n",
    "one = 1/array_2D_square.shape[0]*np.ones((array_2D_square.shape[0],1))\n",
    "distance_square_mean = (array_2D_square.T).dot(one)\n",
    "distance_mean = distance_square_mean**(1/2)\n",
    "\n",
    "plt.plot(np.arange(distance_mean.shape[0]),distance_mean)\n",
    "plt.show()"
   ]
  },
  {
   "cell_type": "markdown",
   "metadata": {},
   "source": [
    "9\\. Analyze a data file \n",
    "  * Download the population of hares, lynxes and carrots at the beginning of the last century.\n",
    "    ```python\n",
    "    ! wget https://www.dropbox.com/s/3vigxoqayo389uc/populations.txt\n",
    "    ```\n",
    "\n",
    "  * Check the content by looking within the file\n",
    "  * Load the data (use an appropriate numpy method) into a 2D array\n",
    "  * Create arrays out of the columns, the arrays being (in order): *year*, *hares*, *lynxes*, *carrots* \n",
    "  * Plot the 3 populations over the years\n",
    "  * Compute the main statistical properties of the dataset (mean, std, correlations, etc.)\n",
    "  * Which species has the highest population each year?\n",
    "\n",
    "Do you feel there is some evident correlation here? [Studies](https://www.enr.gov.nt.ca/en/services/lynx/lynx-snowshoe-hare-cycle) tend to believe so.\n",
    "\n",
    "*Exercise*: write an algorithm that determins and quantifies a correlation between two time series. Use as an example the hare-lynx-carrot dataset."
   ]
  },
  {
   "cell_type": "code",
   "execution_count": 1,
   "metadata": {},
   "outputs": [
    {
     "ename": "NameError",
     "evalue": "name 'np' is not defined",
     "output_type": "error",
     "traceback": [
      "\u001b[1;31m---------------------------------------------------------------------------\u001b[0m",
      "\u001b[1;31mNameError\u001b[0m                                 Traceback (most recent call last)",
      "\u001b[1;32m<ipython-input-1-35c65755028e>\u001b[0m in \u001b[0;36m<module>\u001b[1;34m\u001b[0m\n\u001b[0;32m      3\u001b[0m \u001b[1;33m\u001b[0m\u001b[0m\n\u001b[0;32m      4\u001b[0m \u001b[1;31m# Open file and load the matrix\u001b[0m\u001b[1;33m\u001b[0m\u001b[1;33m\u001b[0m\u001b[1;33m\u001b[0m\u001b[0m\n\u001b[1;32m----> 5\u001b[1;33m \u001b[0mmat\u001b[0m \u001b[1;33m=\u001b[0m \u001b[0mnp\u001b[0m\u001b[1;33m.\u001b[0m\u001b[0mloadtxt\u001b[0m\u001b[1;33m(\u001b[0m\u001b[1;34m'populations.txt'\u001b[0m\u001b[1;33m)\u001b[0m\u001b[1;33m\u001b[0m\u001b[1;33m\u001b[0m\u001b[0m\n\u001b[0m\u001b[0;32m      6\u001b[0m \u001b[0myear\u001b[0m \u001b[1;33m=\u001b[0m \u001b[0mmat\u001b[0m\u001b[1;33m[\u001b[0m\u001b[1;33m:\u001b[0m\u001b[1;33m,\u001b[0m\u001b[1;36m0\u001b[0m\u001b[1;33m]\u001b[0m\u001b[1;33m\u001b[0m\u001b[1;33m\u001b[0m\u001b[0m\n\u001b[0;32m      7\u001b[0m \u001b[0mhares\u001b[0m \u001b[1;33m=\u001b[0m \u001b[0mmat\u001b[0m\u001b[1;33m[\u001b[0m\u001b[1;33m:\u001b[0m\u001b[1;33m,\u001b[0m\u001b[1;36m1\u001b[0m\u001b[1;33m]\u001b[0m\u001b[1;33m\u001b[0m\u001b[1;33m\u001b[0m\u001b[0m\n",
      "\u001b[1;31mNameError\u001b[0m: name 'np' is not defined"
     ]
    }
   ],
   "source": [
    "from scipy import stats\n",
    "\n",
    "# Open file and load the matrix\n",
    "mat = np.loadtxt('populations.txt')\n",
    "year = mat[:,0]\n",
    "hares = mat[:,1]\n",
    "lynxes = mat[:,2]\n",
    "carrots = mat[:,3]\n",
    "\n",
    "plt.plot(year, hares, label='hares')\n",
    "plt.plot(year, lynxes, label='lynxes')\n",
    "plt.plot(year, carrots, label='carrots')\n",
    "plt.legend()\n",
    "plt.show()\n",
    "\n",
    "print(\"\\nHares:\", stats.describe(hares))\n",
    "print(\"\\nLynxes:\", stats.describe(lynxes))\n",
    "print(\"\\nCarrots:\", stats.describe(carrots))"
   ]
  },
  {
   "cell_type": "markdown",
   "metadata": {},
   "source": [
    "From the graph we can see that in average the carrots have the highest population each year. I think that there is a correlation between hares and lynxes as said in the studies linked above."
   ]
  }
 ],
 "metadata": {
  "kernelspec": {
   "display_name": "Python 3",
   "language": "python",
   "name": "python3"
  },
  "language_info": {
   "codemirror_mode": {
    "name": "ipython",
    "version": 3
   },
   "file_extension": ".py",
   "mimetype": "text/x-python",
   "name": "python",
   "nbconvert_exporter": "python",
   "pygments_lexer": "ipython3",
   "version": "3.6.7"
  }
 },
 "nbformat": 4,
 "nbformat_minor": 2
}
