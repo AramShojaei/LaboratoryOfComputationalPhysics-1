{
 "cells": [
  {
   "cell_type": "markdown",
   "metadata": {},
   "source": [
    "1\\. Write a function that converts number representation (bin<->dec<->hex)"
   ]
  },
  {
   "cell_type": "code",
   "execution_count": 34,
   "metadata": {},
   "outputs": [
    {
     "name": "stdout",
     "output_type": "stream",
     "text": [
      "0xC7\n"
     ]
    }
   ],
   "source": [
    "# a is the input number given as a string\n",
    "# b is the base to which you wanat to convert the input number a\n",
    "def convert_num(a, b):\n",
    "    hex_base = ['0','1','2','3','4','5','6','7','8','9','A','B','C','D','E','F']\n",
    "    result = 0;\n",
    "    if len(a)<2: # Decimal\n",
    "        result = int(a)\n",
    "    elif a[1] == 'x': # Hexadecimal\n",
    "        for x in range(2,len(a)):\n",
    "            result = result + hex_base.index(a[x].upper())*(16**(len(a)-x-1))\n",
    "    elif a[1] == 'b': # Binary\n",
    "        for x in range(2,len(a)):\n",
    "            result = result + int(a[x])*(2**(len(a)-x-1))\n",
    "    else: # Decimal\n",
    "        result = int(a)\n",
    "    # Convert the result to the desired bases\n",
    "    listR = []\n",
    "    finalRes = \"\"\n",
    "    if (b == 'bin'):\n",
    "        while result > 0:\n",
    "            finalRes = str(result%2) + finalRes\n",
    "            result = result//2\n",
    "        finalRes = \"0b\" + finalRes\n",
    "    elif (b == 'hex'):\n",
    "        while result > 0:\n",
    "            finalRes = hex_base[result%16] + finalRes\n",
    "            result = result//16\n",
    "        finalRes = \"0x\" + finalRes\n",
    "    elif (b == 'dec'):\n",
    "        finalRes = str(result)\n",
    "    else:\n",
    "        finalRes = \"Error: Incorrect Base\"\n",
    "    return finalRes\n",
    "\n",
    "x = '199'\n",
    "print(convert_num(x, 'hex'))"
   ]
  },
  {
   "cell_type": "markdown",
   "metadata": {},
   "source": [
    "2\\. Write a function that converts a 32 bit word into a single precision floating point (i.e. interprets the various bits as sign, mantissa and exponent)"
   ]
  },
  {
   "cell_type": "code",
   "execution_count": 35,
   "metadata": {},
   "outputs": [
    {
     "name": "stdout",
     "output_type": "stream",
     "text": [
      "-398400.28125\n"
     ]
    }
   ],
   "source": [
    "def get_float32(value):\n",
    "    mantissa_mask = 0x007FFFFF\n",
    "    mantissa_one = 0x00000001\n",
    "    exponent_mask = 0x7F800000\n",
    "    myNum = value & 0xFFFFFFFF\n",
    "    sign_bit = myNum >> 31\n",
    "    exponent_bit = (myNum & exponent_mask) >> 23\n",
    "    mantissa_bit = myNum & mantissa_mask\n",
    "    result = 1\n",
    "    for i in range(23):\n",
    "        result = result + ((mantissa_bit >> (22-i)) & mantissa_one)*2**(-i-1)\n",
    "    bias = 127\n",
    "    result = result*2**(exponent_bit-bias)\n",
    "    if sign_bit > 0:\n",
    "        result = result*-1\n",
    "    return result\n",
    "\n",
    "x = 0xc8c28809\n",
    "print(get_float32(x))"
   ]
  },
  {
   "cell_type": "markdown",
   "metadata": {},
   "source": [
    "3\\. Write a program to determine the underflow and overflow limits (within a factor of 2) for python on your computer. \n",
    "\n",
    "**Tips**: define two variables inizialized to 1 and halve/double them enough time to exceed the under/over-flow limits  "
   ]
  },
  {
   "cell_type": "code",
   "execution_count": 44,
   "metadata": {},
   "outputs": [
    {
     "name": "stdout",
     "output_type": "stream",
     "text": [
      "5e-324\n",
      "8.98846567431158e+307\n"
     ]
    }
   ],
   "source": [
    "under, over = 1.0, 1.0\n",
    "prev = under\n",
    "while under/2 > 0:\n",
    "    under = under/2\n",
    "print(under)\n",
    "while over*2 < float('inf'):\n",
    "    over = over*2\n",
    "print(over)"
   ]
  },
  {
   "cell_type": "markdown",
   "metadata": {},
   "source": [
    "4\\. Write a program to determine the machine precision\n",
    "\n",
    "**Tips**: define a new variable by adding a smaller and smaller value (proceeding similarly to prob. 2) to an original variable and check the point where the two are the same "
   ]
  },
  {
   "cell_type": "code",
   "execution_count": 64,
   "metadata": {},
   "outputs": [
    {
     "name": "stdout",
     "output_type": "stream",
     "text": [
      "Precision: 1e-15\n"
     ]
    }
   ],
   "source": [
    "value = 2.0\n",
    "i = 0\n",
    "while value != 1.0:\n",
    "    value = 1.0 + 10**(-i)\n",
    "    i = i + 1\n",
    "i = i - 2\n",
    "print(\"Precision:\", 10**(-i))"
   ]
  },
  {
   "cell_type": "markdown",
   "metadata": {},
   "source": [
    "5\\. Write a function that takes in input three parameters $a$, $b$ and $c$ and prints out the two solutions to the quadratic equation $ax^2+bx+c=0$ using the standard formula:\n",
    "$$\n",
    "x=\\frac{-b\\pm\\sqrt{b^2-4ac}}{2a}\n",
    "$$\n",
    "\n",
    "(a) use the program to compute the solution for $a=0.001$, $b=1000$ and $c=0.001$\n",
    "\n",
    "(b) re-express the standard solution formula by multiplying top and bottom by $-b\\mp\\sqrt{b^2-4ac}$ and again find the solution for $a=0.001$, $b=1000$ and $c=0.001$. How does it compare with what previously obtained? Why?\n",
    "\n",
    "(c) write a function that compute the roots of a quadratic equation accurately in all cases"
   ]
  },
  {
   "cell_type": "code",
   "execution_count": 29,
   "metadata": {},
   "outputs": [
    {
     "name": "stdout",
     "output_type": "stream",
     "text": [
      "1000000.000001 and -1.00000761449337e-06\n"
     ]
    }
   ],
   "source": [
    "# a\n",
    "def quadratic_sol_1(a, b, c):\n",
    "    # NUM: discordant sign (- and +)\n",
    "    x1 = (-b + (b**2 - 4*a*c)**(1/2))/(2*a) \n",
    "    # NUM: same sign (both -)\n",
    "    x2 = (-b - (b**2 - 4*a*c)**(1/2))/(2*a) \n",
    "    return x1, x2 # x1 is wrong \n",
    "\n",
    "# b \n",
    "def quadratic_sol_2(a, b, c):\n",
    "    # DEN: same sign (both +)\n",
    "    x1 = (-4*a*c)/(2*a*b+2*a*(b**2-4*a*c)**(1/2))\n",
    "    # DEN: discordant sign (- and +)\n",
    "    x2 = (4*a*c)/(-2*a*b+2*a*(b**2-4*a*c)**(1/2)) \n",
    "    return x1, x2 # x2 is wrong\n",
    "\n",
    "\n",
    "# c \n",
    "# In this way the operation are between number less different\n",
    "def quadratic_sol_3(a, b, c):\n",
    "    x1=-b/(2*a)+(b**2/(4*a**2)-c/a)**(1/2)\n",
    "    x2=-b/(2*a)-(b**2/(4*a**2)-c/a)**(1/2)\n",
    "    return x1, x2 \n",
    "\n",
    "# Python fails when computing operation between numbers that differ too much\n",
    "i, k, j = -0.001, 1000, 0.001\n",
    "xa, xb = quadratic_sol_3(i, k, j)\n",
    "print(xa,\"and\", xb)"
   ]
  },
  {
   "cell_type": "markdown",
   "metadata": {},
   "source": [
    "6\\. Write a program that implements the function $f(x)=x(x−1)$\n",
    "\n",
    "(a) Calculate the derivative of the function at the point $x = 1$ using the derivative definition:\n",
    "\n",
    "$$\n",
    "\\frac{{\\rm d}f}{{\\rm d}x} = \\lim_{\\delta\\to0} \\frac{f(x+\\delta)-f(x)}{\\delta}\n",
    "$$\n",
    "\n",
    "with $\\delta = 10^{−2}$. Calculate the true value of the same derivative analytically and compare with the answer your program gives. The two will not agree perfectly. Why not?\n",
    "\n",
    "(b) Repeat the calculation for $\\delta = 10^{−4}, 10^{−6}, 10^{−8}, 10^{−10}, 10^{−12}$ and $10^{−14}$. How does the accuracy scales with $\\delta$?"
   ]
  },
  {
   "cell_type": "code",
   "execution_count": 72,
   "metadata": {},
   "outputs": [
    {
     "name": "stdout",
     "output_type": "stream",
     "text": [
      "Numerical result: 1.010000000000001\n",
      "Analytical result: 1\n",
      "Error: 0.010000000000000897\n"
     ]
    },
    {
     "data": {
      "image/png": "[encoded data removed]",
      "text/plain": [
       "<Figure size 432x288 with 1 Axes>"
      ]
     },
     "metadata": {},
     "output_type": "display_data"
    }
   ],
   "source": [
    "import numpy as np\n",
    "import matplotlib.pyplot as plt\n",
    "\n",
    "def f(x):\n",
    "    return x*(x-1)\n",
    "\n",
    "def derivative_f(x, delta):\n",
    "    return (f(x+delta)-f(x))/delta\n",
    "\n",
    "def derivative_f_analytical(x):\n",
    "    return 2*x-1\n",
    "\n",
    "def func_error(x, delta):\n",
    "    return abs(derivative_f_analytical(point)-derivative_f(x, delta))\n",
    "\n",
    "# a\n",
    "# The two result are not equivalent because the numerical method is an\n",
    "# approximation of the real result, which is obtained by the analytical method.\n",
    "point = 1\n",
    "der_1 = derivative_f(point, 10**(-2))\n",
    "der_2 = derivative_f_analytical(1)\n",
    "error = func_error(point, 10**(-2))\n",
    "print(\"Numerical result:\", der_1)\n",
    "print(\"Analytical result:\", der_2)\n",
    "print(\"Error:\", error)\n",
    "\n",
    "# b\n",
    "deltas = [10**(-2*x) for x in range(1,8)]\n",
    "errors = [func_error(point, y) for y in deltas]\n",
    "% matplotlib inline\n",
    "x = np.logspace(-14, -2, 100)\n",
    "\n",
    "# In the graph there is the behaviour of the error w.r.t delta\n",
    "plt.xscale('log')\n",
    "plt.plot(x,func_error(point,x));"
   ]
  },
  {
   "cell_type": "markdown",
   "metadata": {},
   "source": [
    "7\\. Consider the integral of the semicircle of radius 1:\n",
    "$$\n",
    "I=\\int_{-1}^{1} \\sqrt(1-x^2) {\\rm d}x\n",
    "$$\n",
    "which it's known to be $I=\\frac{\\pi}{2}=1.57079632679...$.\n",
    "Alternatively we can use the Riemann definition of the integral:\n",
    "$$\n",
    "I=\\lim_{N\\to\\infty} \\sum_{k=1}^{N} h y_k \n",
    "$$\n",
    "\n",
    "with $h=2/N$ the width of each of the $N$ slices the domain is divided into and where\n",
    "$y_k$ is the value of the function at the $k-$th slice.\n",
    "\n",
    "(a) Write a programe to compute the integral with $N=100$. How does the result compares to the true value?\n",
    "\n",
    "(b) How much can $N$ be increased if the computation needs to be run in less than a second? What is the gain in running it for 1 minute? \n"
   ]
  },
  {
   "cell_type": "code",
   "execution_count": 93,
   "metadata": {},
   "outputs": [
    {
     "ename": "SyntaxError",
     "evalue": "invalid syntax (<ipython-input-93-8bbb18e81367>, line 2)",
     "output_type": "error",
     "traceback": [
      "\u001b[1;36m  File \u001b[1;32m\"<ipython-input-93-8bbb18e81367>\"\u001b[1;36m, line \u001b[1;32m2\u001b[0m\n\u001b[1;33m    %%time\u001b[0m\n\u001b[1;37m    ^\u001b[0m\n\u001b[1;31mSyntaxError\u001b[0m\u001b[1;31m:\u001b[0m invalid syntax\n"
     ]
    }
   ],
   "source": [
    "import math \n",
    "\n",
    "# a\n",
    "def numerical_integral(N):\n",
    "    h = 2/N  \n",
    "    sum = 0.0\n",
    "    for i in range(N+1):\n",
    "        sum = sum + h*f((i*h-1))\n",
    "    return sum\n",
    "    \n",
    "def f(x):\n",
    "    return (1-x**2)**(1/2)\n",
    "\n",
    "res = numerical_integral(100)\n",
    "print(res)\n",
    "print(\"Error:\", abs(res-math.pi/2))"
   ]
  },
  {
   "cell_type": "code",
   "execution_count": 103,
   "metadata": {},
   "outputs": [
    {
     "name": "stdout",
     "output_type": "stream",
     "text": [
      "1.5707963267911924\n",
      "Error: 3.704148099359372e-12\n",
      "Wall time: 1min 5s\n"
     ]
    }
   ],
   "source": [
    "%%time\n",
    "import math \n",
    "\n",
    "# b\n",
    "def numerical_integral(N):\n",
    "    h = 2/N  \n",
    "    sum = 0.0\n",
    "    for i in range(N+1):\n",
    "        sum = sum + h*f((i*h-1))\n",
    "    return sum\n",
    "    \n",
    "def f(x):\n",
    "    return (1-x**2)**(1/2)\n",
    "\n",
    "Nsecond = 9*10**(5)\n",
    "Nminute = 6*10**(7)\n",
    "res = numerical_integral(Nminute)\n",
    "print(res)\n",
    "print(\"Error:\", abs(res-math.pi/2))\n",
    "\n",
    "# One second gives us a very high precision and it doesn't woth the effort to wait one minute for a little more precision"
   ]
  }
 ],
 "metadata": {
  "kernelspec": {
   "display_name": "Python 3",
   "language": "python",
   "name": "python3"
  },
  "language_info": {
   "codemirror_mode": {
    "name": "ipython",
    "version": 3
   },
   "file_extension": ".py",
   "mimetype": "text/x-python",
   "name": "python",
   "nbconvert_exporter": "python",
   "pygments_lexer": "ipython3",
   "version": "3.6.3"
  }
 },
 "nbformat": 4,
 "nbformat_minor": 2
}
