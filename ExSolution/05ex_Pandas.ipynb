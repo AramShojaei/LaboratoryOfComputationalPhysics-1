{
 "cells": [
  {
   "cell_type": "markdown",
   "metadata": {},
   "source": [
    "## Pandas analysis\n",
    "\n",
    "In the following a series of exercises is proposed on a dataset containg timing information from a series of Time-to-Digital-Converters (TDC) implemented in a couple of FPGA's. Each measurement (i.e. each raw) consists of the address of the TDC providing the signal, 'FPGA' and 'TDC_Channel, and the timing information itself, 'ORBIT_CNT', 'BX_COUNTER' and 'TDC_MEAS'. Each TDC count correspond 25/30 ns, whereas the BX_COUNTER feauters gets updated every 25 ns and the ORBIT_CNT every 'x' BX_COUNTER. You can see these way of storing the time as similar to hours, minutes and seconds.\n",
    "\n",
    "1\\. Create a Pandas DataFrame by read N raws of the 'data_000637.txt' dataset. Choose N to be smaller than or equal to the maximum number of raws and larger that 10k.\n",
    "\n",
    "2\\. Find out the value of 'x'\n",
    "\n",
    "3\\. Find out how much the data taking lasted. You can either make an estimate on the baseis of the fraction of the measurements (raws) you read, or perform this check precisely by reading out the whole dataset\n",
    "\n",
    "4\\. Create a new column with the actual time in ns (as a combination of the other three columns with timing information)\n",
    "\n",
    "5\\. Replace the values (all 1) of the HEAD column randomly with 0 or 1\n",
    "\n",
    "6\\. Create a new DataFrame with only the raws with HEAD=1\n",
    "\n",
    "7\\. Make two occupancy plots (one per FPGA), i.e. plot the number of counts per TDC channel\n",
    "\n",
    "8\\. Use the groupby method to find out the noisy channels, i.e. the TDC channels with most counts (say the top 3)\n",
    "\n",
    "9\\. Count the number of unique orbits. Count the number of unique orbits with at least one measurement from TDC_CHANNEL=139"
   ]
  },
  {
   "cell_type": "code",
   "execution_count": 1,
   "metadata": {},
   "outputs": [
    {
     "data": {
      "text/html": [
       "<div>\n",
       "<style scoped>\n",
       "    .dataframe tbody tr th:only-of-type {\n",
       "        vertical-align: middle;\n",
       "    }\n",
       "\n",
       "    .dataframe tbody tr th {\n",
       "        vertical-align: top;\n",
       "    }\n",
       "\n",
       "    .dataframe thead th {\n",
       "        text-align: right;\n",
       "    }\n",
       "</style>\n",
       "<table border=\"1\" class=\"dataframe\">\n",
       "  <thead>\n",
       "    <tr style=\"text-align: right;\">\n",
       "      <th></th>\n",
       "      <th>HEAD</th>\n",
       "      <th>FPGA</th>\n",
       "      <th>TDC_CHANNEL</th>\n",
       "      <th>ORBIT_CNT</th>\n",
       "      <th>BX_COUNTER</th>\n",
       "      <th>TDC_MEAS</th>\n",
       "    </tr>\n",
       "  </thead>\n",
       "  <tbody>\n",
       "    <tr>\n",
       "      <th>0</th>\n",
       "      <td>1</td>\n",
       "      <td>0</td>\n",
       "      <td>123</td>\n",
       "      <td>3869200167</td>\n",
       "      <td>2374</td>\n",
       "      <td>26</td>\n",
       "    </tr>\n",
       "    <tr>\n",
       "      <th>1</th>\n",
       "      <td>1</td>\n",
       "      <td>0</td>\n",
       "      <td>124</td>\n",
       "      <td>3869200167</td>\n",
       "      <td>2374</td>\n",
       "      <td>27</td>\n",
       "    </tr>\n",
       "    <tr>\n",
       "      <th>2</th>\n",
       "      <td>1</td>\n",
       "      <td>0</td>\n",
       "      <td>63</td>\n",
       "      <td>3869200167</td>\n",
       "      <td>2553</td>\n",
       "      <td>28</td>\n",
       "    </tr>\n",
       "    <tr>\n",
       "      <th>3</th>\n",
       "      <td>1</td>\n",
       "      <td>0</td>\n",
       "      <td>64</td>\n",
       "      <td>3869200167</td>\n",
       "      <td>2558</td>\n",
       "      <td>19</td>\n",
       "    </tr>\n",
       "    <tr>\n",
       "      <th>4</th>\n",
       "      <td>1</td>\n",
       "      <td>0</td>\n",
       "      <td>64</td>\n",
       "      <td>3869200167</td>\n",
       "      <td>2760</td>\n",
       "      <td>25</td>\n",
       "    </tr>\n",
       "  </tbody>\n",
       "</table>\n",
       "</div>"
      ],
      "text/plain": [
       "   HEAD  FPGA  TDC_CHANNEL   ORBIT_CNT  BX_COUNTER  TDC_MEAS\n",
       "0     1     0          123  3869200167        2374        26\n",
       "1     1     0          124  3869200167        2374        27\n",
       "2     1     0           63  3869200167        2553        28\n",
       "3     1     0           64  3869200167        2558        19\n",
       "4     1     0           64  3869200167        2760        25"
      ]
     },
     "execution_count": 1,
     "metadata": {},
     "output_type": "execute_result"
    }
   ],
   "source": [
    "import pandas as pd\n",
    "import numpy as np\n",
    "import matplotlib.pyplot as plt\n",
    "%matplotlib inline\n",
    "\n",
    "# 1 - Load data from file\n",
    "f_name = \"~/data/data_000637.txt\"\n",
    "data = pd.read_csv(f_name, nrows = 20**4, dtype=np.int)\n",
    "data.head()"
   ]
  },
  {
   "cell_type": "code",
   "execution_count": 2,
   "metadata": {},
   "outputs": [
    {
     "name": "stdout",
     "output_type": "stream",
     "text": [
      "x = 3564\n"
     ]
    }
   ],
   "source": [
    "# 2 - Find value of x\n",
    "counter = data.loc[:,['BX_COUNTER']]\n",
    "x = int(counter.max() + 1)\n",
    "print('x =',x)"
   ]
  },
  {
   "cell_type": "code",
   "execution_count": 3,
   "metadata": {},
   "outputs": [
    {
     "name": "stdout",
     "output_type": "stream",
     "text": [
      "Total time (ns): 141841007.5\n"
     ]
    }
   ],
   "source": [
    "# 3 - Find out duration time\n",
    "def compute_time(sample):\n",
    "    result = sample['ORBIT_CNT'].iloc[0]*x*25 + sample['TDC_MEAS'].iloc[0]*25/30 + sample['BX_COUNTER'].iloc[0]*25\n",
    "    return result\n",
    "\n",
    "# Search fisrt sample, data is ot ordered\n",
    "smallest_orbit = data[data['ORBIT_CNT'] <= data['ORBIT_CNT'].min()]\n",
    "smallest_bx = smallest_orbit[smallest_orbit['BX_COUNTER'] <= smallest_orbit['BX_COUNTER'].min()]\n",
    "first_sample = smallest_bx[smallest_bx['TDC_MEAS'] <= smallest_bx['TDC_MEAS'].min()]\n",
    "time_first_sample = compute_time(first_sample)\n",
    "\n",
    "# Search fisrt sample, data is ot ordered\n",
    "biggest_orbit = data[data['ORBIT_CNT'] >= data['ORBIT_CNT'].max()]\n",
    "biggest_bx = biggest_orbit[biggest_orbit['BX_COUNTER'] >= biggest_orbit['BX_COUNTER'].max()]\n",
    "last_sample = biggest_bx[biggest_bx['TDC_MEAS'] >= biggest_bx['TDC_MEAS'].max()]\n",
    "time_last_sample = compute_time(last_sample)\n",
    "\n",
    "# Compute total time\n",
    "total_time = time_last_sample - time_first_sample\n",
    "print(\"Total time (ns):\", total_time)"
   ]
  },
  {
   "cell_type": "code",
   "execution_count": 4,
   "metadata": {},
   "outputs": [
    {
     "name": "stdout",
     "output_type": "stream",
     "text": [
      "Total time (ns): 141841007.5\n"
     ]
    }
   ],
   "source": [
    "# 4 - Add new column \n",
    "data['TIME_NS'] = data['ORBIT_CNT']*x*25 + data['TDC_MEAS']*25/30 + data['BX_COUNTER']*25\n",
    "# recompute the duration time\n",
    "duration = data['TIME_NS'].max()-data['TIME_NS'].min()\n",
    "print('Total time (ns):', duration)"
   ]
  },
  {
   "cell_type": "code",
   "execution_count": 5,
   "metadata": {},
   "outputs": [],
   "source": [
    "# 5 - Replace values of column HEAD\n",
    "k = np.random.randint(0, 2)\n",
    "data['HEAD'] = pd.DataFrame(np.random.randint(0,2,data.shape[0]))"
   ]
  },
  {
   "cell_type": "code",
   "execution_count": 6,
   "metadata": {},
   "outputs": [
    {
     "data": {
      "text/html": [
       "<div>\n",
       "<style scoped>\n",
       "    .dataframe tbody tr th:only-of-type {\n",
       "        vertical-align: middle;\n",
       "    }\n",
       "\n",
       "    .dataframe tbody tr th {\n",
       "        vertical-align: top;\n",
       "    }\n",
       "\n",
       "    .dataframe thead th {\n",
       "        text-align: right;\n",
       "    }\n",
       "</style>\n",
       "<table border=\"1\" class=\"dataframe\">\n",
       "  <thead>\n",
       "    <tr style=\"text-align: right;\">\n",
       "      <th></th>\n",
       "      <th>HEAD</th>\n",
       "      <th>FPGA</th>\n",
       "      <th>TDC_CHANNEL</th>\n",
       "      <th>ORBIT_CNT</th>\n",
       "      <th>BX_COUNTER</th>\n",
       "      <th>TDC_MEAS</th>\n",
       "      <th>TIME_NS</th>\n",
       "    </tr>\n",
       "  </thead>\n",
       "  <tbody>\n",
       "    <tr>\n",
       "      <th>1</th>\n",
       "      <td>1</td>\n",
       "      <td>0</td>\n",
       "      <td>124</td>\n",
       "      <td>3869200167</td>\n",
       "      <td>2374</td>\n",
       "      <td>27</td>\n",
       "      <td>3.447457e+14</td>\n",
       "    </tr>\n",
       "    <tr>\n",
       "      <th>2</th>\n",
       "      <td>1</td>\n",
       "      <td>0</td>\n",
       "      <td>63</td>\n",
       "      <td>3869200167</td>\n",
       "      <td>2553</td>\n",
       "      <td>28</td>\n",
       "      <td>3.447457e+14</td>\n",
       "    </tr>\n",
       "    <tr>\n",
       "      <th>4</th>\n",
       "      <td>1</td>\n",
       "      <td>0</td>\n",
       "      <td>64</td>\n",
       "      <td>3869200167</td>\n",
       "      <td>2760</td>\n",
       "      <td>25</td>\n",
       "      <td>3.447457e+14</td>\n",
       "    </tr>\n",
       "    <tr>\n",
       "      <th>5</th>\n",
       "      <td>1</td>\n",
       "      <td>0</td>\n",
       "      <td>63</td>\n",
       "      <td>3869200167</td>\n",
       "      <td>2762</td>\n",
       "      <td>4</td>\n",
       "      <td>3.447457e+14</td>\n",
       "    </tr>\n",
       "    <tr>\n",
       "      <th>6</th>\n",
       "      <td>1</td>\n",
       "      <td>0</td>\n",
       "      <td>61</td>\n",
       "      <td>3869200167</td>\n",
       "      <td>2772</td>\n",
       "      <td>14</td>\n",
       "      <td>3.447457e+14</td>\n",
       "    </tr>\n",
       "  </tbody>\n",
       "</table>\n",
       "</div>"
      ],
      "text/plain": [
       "   HEAD  FPGA  TDC_CHANNEL   ORBIT_CNT  BX_COUNTER  TDC_MEAS       TIME_NS\n",
       "1     1     0          124  3869200167        2374        27  3.447457e+14\n",
       "2     1     0           63  3869200167        2553        28  3.447457e+14\n",
       "4     1     0           64  3869200167        2760        25  3.447457e+14\n",
       "5     1     0           63  3869200167        2762         4  3.447457e+14\n",
       "6     1     0           61  3869200167        2772        14  3.447457e+14"
      ]
     },
     "execution_count": 6,
     "metadata": {},
     "output_type": "execute_result"
    }
   ],
   "source": [
    "# 6 - Create new DataFrame\n",
    "data_new = data[data['HEAD']>0]\n",
    "data_new.head()"
   ]
  },
  {
   "cell_type": "code",
   "execution_count": 7,
   "metadata": {},
   "outputs": [
    {
     "data": {
      "text/plain": [
       "<Figure size 432x288 with 0 Axes>"
      ]
     },
     "metadata": {},
     "output_type": "display_data"
    },
    {
     "data": {
      "image/png": "[encoded data removed]",
      "text/plain": [
       "<Figure size 432x288 with 1 Axes>"
      ]
     },
     "metadata": {},
     "output_type": "display_data"
    }
   ],
   "source": [
    "# 7 - Plot FPGA\n",
    "FPGA_0 = data_new[data_new['FPGA']<1]\n",
    "FPGA_1 = data_new[data_new['FPGA']>0]\n",
    "\n",
    "plt.figure()\n",
    "# Sum all columns, but we are only interested in the sum of HEAD column, which conteins all 1\n",
    "data_group = data_new.groupby(['FPGA','TDC_CHANNEL']).sum() \n",
    "# unstack columns\n",
    "data_plot = data_group.unstack('FPGA')['HEAD'].fillna(value=0)\n",
    "data_plot.plot()\n",
    "plt.show()"
   ]
  },
  {
   "cell_type": "code",
   "execution_count": 38,
   "metadata": {},
   "outputs": [
    {
     "data": {
      "text/html": [
       "<div>\n",
       "<style scoped>\n",
       "    .dataframe tbody tr th:only-of-type {\n",
       "        vertical-align: middle;\n",
       "    }\n",
       "\n",
       "    .dataframe tbody tr th {\n",
       "        vertical-align: top;\n",
       "    }\n",
       "\n",
       "    .dataframe thead th {\n",
       "        text-align: right;\n",
       "    }\n",
       "</style>\n",
       "<table border=\"1\" class=\"dataframe\">\n",
       "  <thead>\n",
       "    <tr style=\"text-align: right;\">\n",
       "      <th></th>\n",
       "      <th>TDC</th>\n",
       "    </tr>\n",
       "  </thead>\n",
       "  <tbody>\n",
       "    <tr>\n",
       "      <th>1st</th>\n",
       "      <td>139.0</td>\n",
       "    </tr>\n",
       "    <tr>\n",
       "      <th>2nd</th>\n",
       "      <td>64.0</td>\n",
       "    </tr>\n",
       "    <tr>\n",
       "      <th>3rd</th>\n",
       "      <td>63.0</td>\n",
       "    </tr>\n",
       "  </tbody>\n",
       "</table>\n",
       "</div>"
      ],
      "text/plain": [
       "       TDC\n",
       "1st  139.0\n",
       "2nd   64.0\n",
       "3rd   63.0"
      ]
     },
     "execution_count": 38,
     "metadata": {},
     "output_type": "execute_result"
    }
   ],
   "source": [
    "# 8 - Use the groupby method to find out the noisy channels, i.e. the TDC channels with most counts (say the top 3)\n",
    "num = 3\n",
    "data_channel = data_new.groupby(['FPGA','TDC_CHANNEL']).sum()\n",
    "noisy = pd.DataFrame([data_channel['HEAD'].nlargest(num).index]).T # (FPGA,TDC_CHANNEL)\n",
    "\n",
    "# Build the table to display the result\n",
    "top_hit = np.zeros(noisy.shape[0])\n",
    "for i in range(noisy.shape[0]):\n",
    "    top_hit[i] = noisy.iloc[i][0][1]\n",
    "result = pd.DataFrame(top_hit,index=['1st','2nd','3rd'],columns=[\"TDC\"])\n",
    "result"
   ]
  },
  {
   "cell_type": "code",
   "execution_count": 9,
   "metadata": {},
   "outputs": [
    {
     "name": "stdout",
     "output_type": "stream",
     "text": [
      "Unique obits: 0\n",
      "Unique obits from 139: 109\n"
     ]
    }
   ],
   "source": [
    "# 9 - Count the number of unique orbits. Count the number of unique orbits with at least one measurement \n",
    "# from TDC_CHANNEL=139\n",
    "\n",
    "orb = data_new.groupby('ORBIT_CNT').sum()['HEAD']\n",
    "\n",
    "# Search unique orbits\n",
    "unique = orb[orb == 1] \n",
    "print('Unique obits:', unique.sum())\n",
    "\n",
    "# Uniques from 139\n",
    "orbit_139 = data_new[data_new['TDC_CHANNEL'] == 139].groupby('ORBIT_CNT').sum()['HEAD']\n",
    "unique_139 = orbit_139[orbit_139 == 1] \n",
    "print('Unique obits from 139:',unique_139.sum())"
   ]
  },
  {
   "cell_type": "code",
   "execution_count": null,
   "metadata": {},
   "outputs": [],
   "source": []
  }
 ],
 "metadata": {
  "kernelspec": {
   "display_name": "Python 3",
   "language": "python",
   "name": "python3"
  },
  "language_info": {
   "codemirror_mode": {
    "name": "ipython",
    "version": 3
   },
   "file_extension": ".py",
   "mimetype": "text/x-python",
   "name": "python",
   "nbconvert_exporter": "python",
   "pygments_lexer": "ipython3",
   "version": "3.6.5"
  }
 },
 "nbformat": 4,
 "nbformat_minor": 2
}
