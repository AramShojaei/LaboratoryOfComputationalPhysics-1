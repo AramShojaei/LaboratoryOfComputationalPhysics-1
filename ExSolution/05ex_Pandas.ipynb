{
 "cells": [
  {
   "cell_type": "markdown",
   "metadata": {},
   "source": [
    "## Pandas analysis\n",
    "\n",
    "In the following a series of exercises is proposed on a dataset containg timing information from a series of Time-to-Digital-Converters (TDC) implemented in a couple of FPGA's. Each measurement (i.e. each raw) consists of the address of the TDC providing the signal, 'FPGA' and 'TDC_Channel, and the timing information itself, 'ORBIT_CNT', 'BX_COUNTER' and 'TDC_MEAS'. Each TDC count correspond 25/30 ns, whereas the BX_COUNTER feauters gets updated every 25 ns and the ORBIT_CNT every 'x' BX_COUNTER. You can see these way of storing the time as similar to hours, minutes and seconds.\n",
    "\n",
    "1\\. Create a Pandas DataFrame by read N raws of the 'data_000637.txt' dataset. Choose N to be smaller than or equal to the maximum number of raws and larger that 10k.\n",
    "\n",
    "2\\. Find out the value of 'x'\n",
    "\n",
    "3\\. Find out how much the data taking lasted. You can either make an estimate on the baseis of the fraction of the measurements (raws) you read, or perform this check precisely by reading out the whole dataset\n",
    "\n",
    "4\\. Create a new column with the actual time in ns (as a combination of the other three columns with timing information)\n",
    "\n",
    "5\\. Replace the values (all 1) of the HEAD column randomly with 0 or 1\n",
    "\n",
    "6\\. Create a new DataFrame with only the raws with HEAD=1\n",
    "\n",
    "7\\. Make two occupancy plots (one per FPGA), i.e. plot the number of counts per TDC channel\n",
    "\n",
    "8\\. Use the groupby method to find out the noisy channels, i.e. the TDC channels with most counts (say the top 3)\n",
    "\n",
    "9\\. Count the number of unique orbits. Count the number of unique orbits with at least one measurement from TDC_CHANNEL=139"
   ]
  },
  {
   "cell_type": "code",
   "execution_count": 39,
   "metadata": {},
   "outputs": [
    {
     "name": "stdout",
     "output_type": "stream",
     "text": [
      "BX_COUNTER    3564\n",
      "dtype: int64\n",
      "Total time: BX_COUNTER    316464.167969\n",
      "dtype: float64\n"
     ]
    }
   ],
   "source": [
    "import pandas as pd\n",
    "import numpy as np\n",
    "\n",
    "# 1 - Load data from file\n",
    "f_name = \"~/data/data_000637.txt\"\n",
    "data = pd.read_csv(f_name, nrows = 10**4)\n",
    "\n",
    "# 2 - Find value of x\n",
    "counter = data.loc[:,['BX_COUNTER']]\n",
    "x = counter.max() + 1\n",
    "print(x)\n",
    "\n",
    "# 3 - Find out duration time\n",
    "def compute_time(index):\n",
    "    result = data['ORBIT_CNT'].iloc[index]*x + data['TDC_MEAS'].iloc[index]*25/30 + data['BX_COUNTER'].iloc[index]*25\n",
    "    return result\n",
    "\n",
    "time_first_sample = compute_time(0)\n",
    "time_last_sample = compute_time(-1)\n",
    "total_time = time_last_sample - time_first_sample\n",
    "print(\"Total time:\", total_time)\n",
    "\n",
    "# 4 - Add new column \n"
   ]
  },
  {
   "cell_type": "code",
   "execution_count": null,
   "metadata": {
    "collapsed": true
   },
   "outputs": [],
   "source": []
  }
 ],
 "metadata": {
  "kernelspec": {
   "display_name": "Python 3",
   "language": "python",
   "name": "python3"
  },
  "language_info": {
   "codemirror_mode": {
    "name": "ipython",
    "version": 3
   },
   "file_extension": ".py",
   "mimetype": "text/x-python",
   "name": "python",
   "nbconvert_exporter": "python",
   "pygments_lexer": "ipython3",
   "version": "3.6.3"
  }
 },
 "nbformat": 4,
 "nbformat_minor": 2
}
