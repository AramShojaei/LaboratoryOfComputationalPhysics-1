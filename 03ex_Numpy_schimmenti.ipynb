{
 "cells": [
  {
   "cell_type": "code",
   "execution_count": 6,
   "metadata": {
    "collapsed": true
   },
   "outputs": [],
   "source": [
    "import numpy as np\n",
    "import math\n",
    "import matplotlib.pyplot as pl"
   ]
  },
  {
   "cell_type": "code",
   "execution_count": null,
   "metadata": {
    "collapsed": true
   },
   "outputs": [],
   "source": [
    "#Esercizio 1\n",
    "m = np.arange(12).reshape((3,4))\n",
    "print(\"The matrix is\",m)\n",
    "for i in range(m.shape[0]):\n",
    "    print(i,\"-th row mean is:\", np.mean(m[i,:]))\n",
    "for j in range(m.shape[1]):\n",
    "    print(j,\"-th column mean is:\", np.mean(m[:,j]))\n",
    "print(\"Overall mean is:\", np.mean(m))"
   ]
  },
  {
   "cell_type": "code",
   "execution_count": null,
   "metadata": {
    "collapsed": true
   },
   "outputs": [],
   "source": [
    "#Esercizio 2\n",
    "u = np.array([1,3,5,7])\n",
    "v = np.array([2,4,6,8])\n",
    "\n",
    "p1 = np.outer(u,v)\n",
    "p2 = np.array([u[i]*v[j] for i in range(4) for j in range(4)]).reshape(4,4)\n",
    "p3 = u.reshape(4,1)*v\n",
    "print(p1)\n",
    "print(p2)\n",
    "print(p3)"
   ]
  },
  {
   "cell_type": "code",
   "execution_count": null,
   "metadata": {
    "collapsed": true
   },
   "outputs": [],
   "source": [
    "#Esercizio 3\n",
    "x = np.random.rand(10,6)\n",
    "x[x < 0.1] = 0\n",
    "print(x)"
   ]
  },
  {
   "cell_type": "code",
   "execution_count": null,
   "metadata": {
    "collapsed": true
   },
   "outputs": [],
   "source": [
    "#Esercizio 4\n",
    "x = np.linspace(0,2*math.pi,100)\n",
    "sliced = x[:10:]\n",
    "rev = x[::-1]\n",
    "closesc = x[np.abs(np.sin(x)-np.cos(x))<0.1]\n",
    "pl.figure()\n",
    "pl.plot(x, np.sin(x))\n",
    "pl.plot(x, np.cos(x))\n",
    "pl.scatter(closesc, np.sin(closesc))\n",
    "pl.show()"
   ]
  },
  {
   "cell_type": "code",
   "execution_count": null,
   "metadata": {
    "collapsed": true
   },
   "outputs": [],
   "source": [
    "#Esercizio 5\n",
    "nums = np.arange(1,11)\n",
    "mtab = np.outer(nums,nums)\n",
    "tr = np.sum(np.diag(mtab))\n",
    "adiag = np.diag(mtab[:,::-1])\n",
    "print(mtab)\n",
    "print(tr)\n",
    "print(adiag)\n",
    "mask = np.fromfunction(lambda i,j: i == j-1, (10,10))\n",
    "print(mtab[mask])"
   ]
  },
  {
   "cell_type": "code",
   "execution_count": null,
   "metadata": {
    "collapsed": true
   },
   "outputs": [],
   "source": [
    "#Esercizio 6\n",
    "dist = np.array([ 0, 198, 303, 736, 871, 1175, 1475, 1544, 1913, 2448])\n",
    "grid = (-np.tile(dist,(10,1)).T + dist)*1.60934\n",
    "print(grid)"
   ]
  },
  {
   "cell_type": "code",
   "execution_count": null,
   "metadata": {
    "collapsed": true
   },
   "outputs": [],
   "source": [
    "#Esercizio 7\n",
    "N = 99\n",
    "numbers = np.arange(0,N+1)\n",
    "mask = np.ones(N+1,dtype=bool)\n"
   ]
  },
  {
   "cell_type": "code",
   "execution_count": null,
   "metadata": {
    "collapsed": true
   },
   "outputs": [],
   "source": [
    "#Esercizio 8\n",
    "\n",
    "def sampleJumps(N):\n",
    "    return np.array([-1 if np.random.rand() < 0.5 else 1 for x in range(N)])\n",
    "walkersN = 1000\n",
    "iters = 20\n",
    "\n",
    "expDist = np.zeros(iters)\n",
    "for t in range(iters):\n",
    "    steps = t*200   \n",
    "    rwalk = np.array([sampleJumps(steps) for x in range(walkersN)])\n",
    "    distances = np.zeros(walkersN)\n",
    "    for w in range(walkersN):\n",
    "        distances[w] = np.abs(np.sum(rwalk[w,:]))\n",
    "    expDist[t] = np.mean(distances**2)\n",
    "pl.plot(np.arange(iters)*200, expDist)\n",
    "pl.show()"
   ]
  },
  {
   "cell_type": "code",
   "execution_count": 26,
   "metadata": {},
   "outputs": [
    {
     "name": "stdout",
     "output_type": "stream",
     "text": [
      "['# year', 'hare', 'lynx', 'carrot']\n",
      "[  1900.  30000.   4000.  48300.]\n",
      "[  1901.  47200.   6100.  48200.]\n",
      "[  1902.  70200.   9800.  41500.]\n",
      "[  1903.  77400.  35200.  38200.]\n",
      "[  1904.  36300.  59400.  40600.]\n",
      "[  1905.  20600.  41700.  39800.]\n",
      "[  1906.  18100.  19000.  38600.]\n",
      "[  1907.  21400.  13000.  42300.]\n",
      "[  1908.  22000.   8300.  44500.]\n",
      "[  1909.  25400.   9100.  42100.]\n",
      "[  1910.  27100.   7400.  46000.]\n",
      "[  1911.  40300.   8000.  46800.]\n",
      "[  1912.  57000.  12300.  43800.]\n",
      "[  1913.  76600.  19500.  40900.]\n",
      "[  1914.  52300.  45700.  39400.]\n",
      "[  1915.  19500.  51100.  39000.]\n",
      "[  1916.  11200.  29700.  36700.]\n",
      "[  1917.   7600.  15800.  41800.]\n",
      "[  1918.  14600.   9700.  43300.]\n",
      "[  1919.  16200.  10100.  41300.]\n",
      "[  1920.  24700.   8600.  47300.]\n"
     ]
    }
   ],
   "source": [
    "#Esercizio 9\n",
    "import csv\n",
    "\n",
    "x = []\n",
    "names = []\n",
    "with open('populations.txt') as csv_file:\n",
    "    csv_reader = csv.reader(csv_file, delimiter='\t')\n",
    "    line_count = 0\n",
    "    for row in csv_reader:\n",
    "        if line_count == 0:\n",
    "            names = row\n",
    "            line_count += 1\n",
    "        else:\n",
    "            x.append(np.array(row, dtype=float))\n",
    "            line_count += 1\n",
    "print(names)\n"
   ]
  },
  {
   "cell_type": "code",
   "execution_count": null,
   "metadata": {
    "collapsed": true
   },
   "outputs": [],
   "source": []
  }
 ],
 "metadata": {
  "kernelspec": {
   "display_name": "Python 3",
   "language": "python",
   "name": "python3"
  },
  "language_info": {
   "codemirror_mode": {
    "name": "ipython",
    "version": 3
   },
   "file_extension": ".py",
   "mimetype": "text/x-python",
   "name": "python",
   "nbconvert_exporter": "python",
   "pygments_lexer": "ipython3",
   "version": "3.6.3"
  }
 },
 "nbformat": 4,
 "nbformat_minor": 2
}
