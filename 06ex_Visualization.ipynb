{
 "cells": [
  {
   "cell_type": "markdown",
   "metadata": {},
   "source": [
    "1\\. **Kernel Density Estimate**\n",
    "\n",
    "Produce a KDE for a given distribution (by hand, not using seaborn!):\n",
    "\n",
    "* Fill a numpy array, x,  of len(N) (with N=O(100)) with a variable normally distributed, with a given mean a standard deviation\n",
    "* Fill an histogram in pyplot taking properly care about the aesthetic\n",
    "   * use a meaningful number of bins\n",
    "   * set a proper y axis label\n",
    "   * set proper value of y axis major ticks labels (e.g. you want to display only integer labels)\n",
    "   * display the histograms as data points with errors (the error being the poisson uncertainty)\n",
    "* for every element of x, create a gaussian with the mean corresponding the element value and std as a parameter that can be tuned. The std default value should be:\n",
    "$$ 1.06 * x.std() * x.size ^{-\\frac{1}{5.}} $$\n",
    "you can use the scipy function `stats.norm()` for that.\n",
    "* In a separate plot (to be placed beside the original histogram), plot all the gaussian functions so obtained\n",
    "* Sum (with np.sum()) all the gaussian functions and normalize the result such that the integral matches the integral of the original histogram. For that you could use the `scipy.integrate.trapz()` method\n"
   ]
  },
  {
   "cell_type": "code",
   "execution_count": null,
   "metadata": {},
   "outputs": [],
   "source": [
    "import numpy as np\n",
    "import pandas as pd\n",
    "import matplotlib.pyplot as plt\n",
    "import seaborn as sns\n",
    "import random as rnd\n",
    "from scipy.stats import norm\n",
    "import matplotlib.mlab as mlab"
   ]
  },
  {
   "cell_type": "code",
   "execution_count": null,
   "metadata": {},
   "outputs": [],
   "source": [
    "## Kernel Density Estimate ##\n",
    "\n",
    "# INTRINSIC PARAMETER\n",
    "N = 100\n",
    "sigma = 1\n",
    "mu = 3\n",
    "\n",
    "\n",
    "#NORMAL DISTRIBUTION\n",
    "x = sigma*np.random.randn(N)+mu\n",
    "\n",
    "# FINDING THE OPTIMAL NBINS (from stats.stackexchange.com)\n",
    "IQR = np.percentile(x, 75) - np.percentile(x, 25)\n",
    "h = 2*N**(-1/3)*IQR\n",
    "nbins = np.floor((np.max(x)-np.min(x))/h)\n",
    "nbins = int(nbins)\n",
    "print('\\nOptimal Number of bins = ',nbins)\n",
    "\n",
    "# PLOT HIST\n",
    "fig, ax = plt.subplots()\n",
    "ax.hist(x, color = 'blue', edgecolor = 'black',bins = nbins)\n",
    "\n",
    "\n",
    "# ADD LABELS\n",
    "ax.set_title('Histogram of a Variable Normally Distributed With errors')\n",
    "ax.set_xlabel('Range')\n",
    "ax.set_ylabel('Number of Occurrence')\n",
    "\n",
    "# Histograms as data points with errors\n",
    "counts,bin_edges = np.histogram(x,nbins)\n",
    "bin_centres = (bin_edges[:-1] + bin_edges[1:])/2.\n",
    "err = np.sqrt(counts) #poisson error\n",
    "ax.errorbar(bin_centres, counts, yerr=err, fmt='o',ecolor=\"red\")\n",
    "\n",
    "#locs, labels = xticks()\n",
    "rng = int((np.max(counts)+np.max(err)-np.min(counts))/7)\n",
    "plt.yticks(np.arange(np.min(counts), np.max(counts)+np.max(err),step=rng))\n",
    "ax.grid()\n",
    "plt.show()\n",
    "\n",
    "\n",
    "\n",
    "### Create a gaussian for every element of x\n",
    "std = 3*(1.06*x.std()*x.size**(-1/5))\n",
    "linespace = np.linspace(mu - 6, mu + 6, 100)\n",
    "gau_element = np.zeros((N,len(linespace)))\n",
    "\n",
    "for i in range(N):\n",
    "    mu = x[i]\n",
    "    g = norm(mu,std)\n",
    "    gau_element [i,:] = g.pdf(linespace)\n",
    "    plt.plot(linespace,g.pdf(linespace))\n",
    "\n",
    "plt.grid()\n",
    "plt.show()\n",
    "\n",
    "#### Guassian sum \n",
    "gau_sum = np.sum(gau_element,axis =0)\n",
    "\n",
    "#### plotting\n",
    "#fig, (ax1, ax2) = plt.subplots(nrows=1, ncols=2,figsize=(10, 20))\n",
    "#\n",
    "#ax1.plot(linespace,gau_sum)\n",
    "#ax1.set_title('Guassian')\n",
    "#ax1.set_xlabel('$x$')\n",
    "#ax1.set_ylabel('Guassian Distribution')"
   ]
  },
  {
   "cell_type": "code",
   "execution_count": null,
   "metadata": {},
   "outputs": [],
   "source": []
  },
  {
   "cell_type": "markdown",
   "metadata": {},
   "source": [
    "2\\. **Color-coded scatter plot**\n",
    "\n",
    "Produce a scatter plot out of a dataset with two categories\n",
    "\n",
    "* Write a function that generate a 2D datasets of 2 categories. Each category should distribute as a 2D gaussian with a given mean and std (clearly it is better to have different values means..)\n",
    "* Display the dataset in a scatter plot marking the two categories with different marker colors.\n",
    "\n",
    "An example is given below\n",
    "\n",
    "You can try to make the procedure more general by allowing a given number $n\\ge 2$ of categories"
   ]
  },
  {
   "cell_type": "code",
   "execution_count": null,
   "metadata": {},
   "outputs": [],
   "source": [
    "! wget https://www.dropbox.com/s/u4y3k4kk5tc7j46/two_categories_scatter_plot.png\n",
    "from IPython.display import Image\n",
    "Image('two_categories_scatter_plot.png')\n"
   ]
  },
  {
   "cell_type": "markdown",
   "metadata": {},
   "source": [
    "##### Answer 2)"
   ]
  },
  {
   "cell_type": "code",
   "execution_count": null,
   "metadata": {},
   "outputs": [],
   "source": [
    "#### producing data\n",
    "import matplotlib.cm as cm\n",
    "#n_categ = 5 #number of categories\n",
    "#mu = 3  #given mean range\n",
    "#std = 5 #given std range\n",
    "min_data = 10    #Minimum range of data\n",
    "max_data = 1000  #Maximum range of data\n",
    "\n",
    "fig, ax = plt.subplots(figsize=(10, 5))\n",
    "\n",
    "def two_D_gau (n_categ,mu=3,std=5,):\n",
    "    for i in range(n_categ):\n",
    "        data_size = np.random.randint(min_data,max_data)\n",
    "\n",
    "        m1=np.random.uniform(-mu,mu)\n",
    "        m2=np.random.uniform(-mu,mu)\n",
    "\n",
    "        std1=np.random.uniform(0,std)\n",
    "        std2=np.random.uniform(0,std)\n",
    "        \n",
    "        x = np.random.normal(m1,std1,data_size)\n",
    "        y = np.random.normal(m2,std2,data_size)\n",
    "        \n",
    "        #colors = cm.rainbow(np.linspace(0, 1, len(x)))\n",
    "        \n",
    "        ax.scatter(x,y,label='category'+str(i+1))\n",
    "        \n",
    "two_D_gau(8,5,2)\n",
    "ax.legend()\n",
    "plt.show()"
   ]
  },
  {
   "cell_type": "markdown",
   "metadata": {},
   "source": [
    "3\\. **Profile plot**\n",
    "\n",
    "Produce a profile plot from a scatter plot.\n",
    "* Download the following dataset and load it as a pandas dataframe:\n",
    "```bash\n",
    "wget https://www.dropbox.com/s/hgnvyj9abatk8g6/residuals_261.npy\n",
    "```\n",
    "Note that you should you the `np.load()` function to load the file as a numpy array and then pass it to the `pd.DataFrame()` constructor.\n",
    "* Inspect the dataset, you'll find two variables (features)\n",
    "* Clean the sample by selecting the entries (rows) with the variable \"residual\" in absolute value smaller than 2\n",
    "* perform a linear regression of \"residuals\" versus \"distances\" using `scipy.stats.linregress()` \n",
    "* plot a seaborn jointplot of  \"residuals\" versus \"distances\", having seaborn performing a linear regression. The result of the regression should be displayed on the plot\n",
    "* Fill 3 numpy arrays\n",
    "  * x, serving as an array of bin centers for the \"distance\" variable. It should range from 0 to 20 with reasonable number of steps (bins)\n",
    "  * y, the mean values of the \"residuals\", estimated in slices (bins) of \"distance\"\n",
    "  * erry, the standard deviation of the  of the \"residuals\", estimated in slices (bins) of \"distance\"\n",
    "* Plot the profile plot on top of the scatter plot"
   ]
  },
  {
   "cell_type": "markdown",
   "metadata": {},
   "source": [
    "##### Answer 3)"
   ]
  },
  {
   "cell_type": "code",
   "execution_count": null,
   "metadata": {},
   "outputs": [],
   "source": [
    "### Load and Cleaning the data\n",
    "\n",
    "import pandas as pd\n",
    "res = np.load('residuals_261.npy').item()\n",
    "df = pd.DataFrame(res)\n",
    "df.head()"
   ]
  },
  {
   "cell_type": "code",
   "execution_count": null,
   "metadata": {},
   "outputs": [],
   "source": [
    "### Implementing the regression\n",
    "\n",
    "import scipy.stats as ss\n",
    "df = df[abs(df[\"residuals\"])<2]\n",
    "slope,intercept,_, _, _ = ss.linregress(df['residuals'],df['distances'])"
   ]
  },
  {
   "cell_type": "code",
   "execution_count": null,
   "metadata": {},
   "outputs": [],
   "source": [
    "import seaborn as sns\n",
    "#### Joint plot\n",
    "joint_plt = sns.jointplot(x = \"distances\", y = \"residuals\", data = df, kind=\"reg\")\n",
    "\n",
    "#### 3-numpy array\n",
    "\n",
    "#x as bin centers\n",
    "nbin=20\n",
    "bin_edges = np.linspace(0,20,nbin+1)\n",
    "x =(bin_edges[1:] + bin_edges[:-1])/2\n",
    "\n",
    "#y as mean value of each center\n",
    "y = np.zeros(nbin)\n",
    "for i in range(nbin):\n",
    "    y[i] = df[(df['distances'] >=bin_edges[i]) & (df['distances'] <bin_edges[i+1])]['residuals'].mean()\n",
    "\n",
    "#erry as std of distances\n",
    "erry = np.zeros(nbin)\n",
    "for i in range(nbin):\n",
    "    erry[i] = df[(df['distances'] >=bin_edges[i]) & (df['distances'] <bin_edges[i+1])]['residuals'].mean()\n",
    "\n",
    "#plotting profile\n",
    "plt.errorbar(x,y,yerr=erry,color ='r',marker='*')\n",
    "plt.show()"
   ]
  },
  {
   "cell_type": "code",
   "execution_count": null,
   "metadata": {},
   "outputs": [],
   "source": []
  }
 ],
 "metadata": {
  "kernelspec": {
   "display_name": "Python 3",
   "language": "python",
   "name": "python3"
  },
  "language_info": {
   "codemirror_mode": {
    "name": "ipython",
    "version": 3
   },
   "file_extension": ".py",
   "mimetype": "text/x-python",
   "name": "python",
   "nbconvert_exporter": "python",
   "pygments_lexer": "ipython3",
   "version": "3.7.2"
  }
 },
 "nbformat": 4,
 "nbformat_minor": 2
}
