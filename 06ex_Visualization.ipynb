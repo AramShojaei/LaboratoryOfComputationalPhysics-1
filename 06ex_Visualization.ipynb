{
 "cells": [
  {
   "cell_type": "markdown",
   "metadata": {},
   "source": [
    "1\\. **Kernel Density Estimate**\n",
    "\n",
    "Produce a KDE for a given distribution (by hand, not using seaborn!):\n",
    "\n",
    "* Fill a numpy array, x,  of len(N) (with N=O(100)) with a variable normally distributed, with a given mean a standard deviation\n",
    "* Fill an histogram in pyplot taking properly care about the aesthetic\n",
    "   * use a meaningful number of bins\n",
    "   * set a proper y axis label\n",
    "   * set proper value of y axis major ticks labels (e.g. you want to display only integer labels)\n",
    "   * display the histograms as data points with errors (the error being the poisson uncertainty)\n",
    "   \n",
    "* for every element of x, create a gaussian with the mean corresponding the element value and std as a parameter that can be tuned. The std default value should be:\n",
    "$$ 1.06 * x.std() * x.size ^{-\\frac{1}{5.}} $$\n",
    "you can use the scipy function `stats.norm()` for that.\n",
    "* In a separate plot (to be placed beside the original histogram), plot all the gaussian functions so obtained\n",
    "* Sum (with np.sum()) all the gaussian functions and normalize the result such that the integral matches the integral of the original histogram. For that you could use the `scipy.integrate.trapz()` method\n"
   ]
  },
  {
   "cell_type": "code",
   "execution_count": null,
   "metadata": {},
   "outputs": [],
   "source": [
    "import numpy as np\n",
    "import matplotlib.pyplot as plt\n",
    "import pandas as pd\n",
    "import seaborn as sb\n",
    "import scipy as sp"
   ]
  },
  {
   "cell_type": "code",
   "execution_count": null,
   "metadata": {},
   "outputs": [],
   "source": [
    "N = 1000\n",
    "mean = 0\n",
    "std = 1\n",
    "x = np.random.normal(loc=mean, scale=std, size=N)"
   ]
  },
  {
   "cell_type": "code",
   "execution_count": null,
   "metadata": {
    "scrolled": false
   },
   "outputs": [],
   "source": [
    "fig, (ax1, ax2) = plt.subplots(nrows=1, ncols=2, figsize=(14,7))\n",
    "y, var, bins = ax1.hist(x,bins=10,histtype='step',label='My distribution')\n",
    "cent = 0.5*(var[1:] + var[:-1])\n",
    "\n",
    "ax1.errorbar(\n",
    "    cent,\n",
    "    y,\n",
    "    yerr = y**0.5,\n",
    "    marker = '.',\n",
    "    drawstyle = 'steps-mid',\n",
    "    ls='none',\n",
    "    label = 'errorbar'\n",
    ")\n",
    "ax1.set_title('Histogram and obtained KDE')\n",
    "ax1.set_ylabel('Frequencies')\n",
    "ax1.set_yticks(ticks=np.linspace(0,y.max(),10,dtype=int))\n",
    "\n",
    "s = 1.06 * x.std() * x.size**(-1/5)\n",
    "gauss = []\n",
    "for el in x:\n",
    "    ls = np.linspace(-5, +5, num=N)\n",
    "    rv = sp.stats.norm(el, s)\n",
    "    gauss.append(rv.pdf(ls))\n",
    "    ax2.plot(ls, gauss[-1])\n",
    "ax2.set_title('Generated gaussians')\n",
    "\n",
    "summed = np.sum(gauss, axis=0)/1000*(sp.integrate.trapz(y,x=var[1:]))\n",
    "ax1.plot(ls, summed,label='KDE')\n",
    "ax1.legend(markerscale=1)\n"
   ]
  },
  {
   "cell_type": "markdown",
   "metadata": {},
   "source": [
    "2\\. **Color-coded scatter plot**\n",
    "\n",
    "Produce a scatter plot out of a dataset with two categories\n",
    "\n",
    "* Write a function that generate a 2D datasets of 2 categories. Each category should distribute as a 2D gaussian with a given mean and std (clearly it is better to have different values means..)\n",
    "* Display the dataset in a scatter plot marking the two categories with different marker colors.\n",
    "\n",
    "An example is given below"
   ]
  },
  {
   "cell_type": "code",
   "execution_count": null,
   "metadata": {},
   "outputs": [],
   "source": [
    "#! wget https://www.dropbox.com/s/u4y3k4kk5tc7j46/two_categories_scatter_plot.png\n",
    "from IPython.display import Image\n",
    "Image('two_categories_scatter_plot.png')\n"
   ]
  },
  {
   "cell_type": "code",
   "execution_count": null,
   "metadata": {},
   "outputs": [],
   "source": [
    "avg = [0, 0]\n",
    "cov = [[0.5, 0], [0, 0.5]]\n",
    "x, y  = np.random.multivariate_normal(avg, cov, 400).T\n",
    "plt.plot(x,y,'r*')\n",
    "avg = [1.25, 1.25]\n",
    "cov = [[0.1, 0], [0, 0.1]]\n",
    "x, y  = np.random.multivariate_normal(avg, cov, 400).T\n",
    "plt.plot(x,y,'y*')\n",
    "\n",
    "#all needed to do for N > 2 cats is replicate the code above\n",
    "def scatter_n(n=2, mean = [-10,10], std = [-2, 2]):\n",
    "    np.random.seed(10)\n",
    "    for i in range(n):\n",
    "        avg = np.random.uniform(low=mean[0],high=mean[1],size=2)\n",
    "        cov = np.random.uniform(std[0],std[1],size=(2,2))\n",
    "        cov = np.dot(cov, cov.T)\n",
    "        x, y  = np.random.multivariate_normal(avg, cov, 100).T\n",
    "        plt.plot(x,y,'*')"
   ]
  },
  {
   "cell_type": "code",
   "execution_count": null,
   "metadata": {},
   "outputs": [],
   "source": [
    "scatter_n(7)"
   ]
  },
  {
   "cell_type": "markdown",
   "metadata": {},
   "source": [
    "3\\. **Profile plot**\n",
    "\n",
    "Produce a profile plot from a scatter plot.\n",
    "* Download the following dataset and load it as a pandas dataframe:\n",
    "```bash\n",
    "wget https://www.dropbox.com/s/hgnvyj9abatk8g6/residuals_261.npy\n",
    "```\n",
    "Note that you should you the `np.load()` function to load the file as a numpy array and then pass it to the `pd.DataFrame()` constructor.\n",
    "* Inspect the dataset, you'll find two variables (features)\n",
    "* Clean the sample by selecting the entries (rows) with the variable \"residual\" in absolute value smaller than 2\n",
    "* perform a linear regression of \"residuals\" versus \"distances\" using `scipy.stats.linregress()` \n",
    "* plot a seaborn jointplot of  \"residuals\" versus \"distances\", having seaborn performing a linear regression. The result of the regression should be displayed on the plot\n",
    "* Fill 3 numpy arrays\n",
    "  * x, serving as an array of bin centers for the \"distance\" variable. It should range from 0 to 20 with reasonable number of steps (bins)\n",
    "  * y, the mean values of the \"residuals\", estimated in slices (bins) of \"distance\"\n",
    "  * erry, the standard deviation of the  of the \"residuals\", estimated in slices (bins) of \"distance\"\n",
    "* Plot the profile plot on top of the scatter plot"
   ]
  },
  {
   "cell_type": "code",
   "execution_count": null,
   "metadata": {},
   "outputs": [],
   "source": [
    "temp = np.load('residuals_261.npy').item()\n",
    "df = pd.DataFrame(temp)\n",
    "df = df[abs(df['residuals']) < 2]\n",
    "lin = sp.stats.linregress(df['distances'], df['residuals'])\n",
    "sb.jointplot( df['distances'],df['residuals'],kind='reg',\n",
    "             scatter_kws = {'alpha':0.3},line_kws={'color':'black', 'label':'regression line'})\n",
    "\n",
    "x = np.linspace(0,20,20)\n",
    "df = df.sort_values('distances')\n",
    "\n",
    "y = np.zeros(len(x))\n",
    "count = 0\n",
    "prev = x[0]\n",
    "erry = np.zeros(len(x))\n",
    "\n",
    "for i in x[1:]:\n",
    "    temp = df[df['distances'] < i]\n",
    "    temp = temp[temp['distances']>=prev]\n",
    "    y[count] = temp['residuals'].mean()\n",
    "    erry[count] = temp['residuals'].std()\n",
    "    count += 1\n",
    "    prev = i\n",
    "    \n",
    "plt.errorbar(x,y,yerr=erry, color='red', label='Profile w/ errorbars')\n",
    "plt.legend()"
   ]
  }
 ],
 "metadata": {
  "kernelspec": {
   "display_name": "Python 3",
   "language": "python",
   "name": "python3"
  },
  "language_info": {
   "codemirror_mode": {
    "name": "ipython",
    "version": 3
   },
   "file_extension": ".py",
   "mimetype": "text/x-python",
   "name": "python",
   "nbconvert_exporter": "python",
   "pygments_lexer": "ipython3",
   "version": "3.6.6"
  }
 },
 "nbformat": 4,
 "nbformat_minor": 2
}
