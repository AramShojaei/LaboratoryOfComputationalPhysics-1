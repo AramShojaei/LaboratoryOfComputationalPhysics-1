{
 "cells": [
  {
   "cell_type": "markdown",
   "metadata": {},
   "source": [
    "1\\. **Kernel Density Estimate**\n",
    "\n",
    "Produce a KDE for a given distribution (by hand, not using seaborn!):\n",
    "\n",
    "* Fill a numpy array, x,  of len(N) (with N=O(100)) with a variable normally distributed, with a given mean a standard deviation\n",
    "* Fill an histogram in pyplot taking properly care about the aesthetic\n",
    "   * use a meaningful number of bins\n",
    "   * set a proper y axis label\n",
    "   * set proper value of y axis major ticks labels (e.g. you want to display only integer labels)\n",
    "   * display the histograms as data points with errors (the error being the poisson uncertainty)\n",
    "* for every element of x, create a gaussian with the mean corresponding the element value and std as a parameter that can be tuned. The std default value should be:\n",
    "$$ 1.06 * x.std() * x.size ^{-\\frac{1}{5.}} $$\n",
    "you can use the scipy function `stats.norm()` for that.\n",
    "* In a separate plot (to be placed beside the original histogram), plot all the gaussian functions so obtained\n",
    "* Sum (with np.sum()) all the gaussian functions and normalize the result such that the integral matches the integral of the original histogram. For that you could use the `scipy.integrate.trapz()` method\n"
   ]
  },
  {
   "cell_type": "code",
   "execution_count": 11,
   "metadata": {
    "collapsed": true
   },
   "outputs": [],
   "source": [
    "import numpy as np\n",
    "import matplotlib.pyplot as plt\n",
    "%matplotlib inline\n",
    "from matplotlib.ticker import AutoMinorLocator, MultipleLocator, FuncFormatter\n",
    "import seaborn as sns"
   ]
  },
  {
   "cell_type": "code",
   "execution_count": 76,
   "metadata": {},
   "outputs": [
    {
     "name": "stdout",
     "output_type": "stream",
     "text": [
      "-6.538658604546294 6.265522086794933\n"
     ]
    },
    {
     "data": {
      "image/png": "[encoded data removed]",
      "text/plain": [
       "<Figure size 576x288 with 1 Axes>"
      ]
     },
     "metadata": {},
     "output_type": "display_data"
    }
   ],
   "source": [
    "mean,std,N=0,2,300 # 300 is of order O(100)\n",
    "x=np.random.normal(mean,std,N)\n",
    "print(x.min(),x.max())\n",
    "fig, ax = plt.subplots(nrows=1, ncols=1, figsize=(8, 4))\n",
    "#plt.xticks(x) RIGHT FUNCTION BUT NEEDS TO BE FIXED\n",
    "y = ax.hist(x, bins=np.arange(int(x.min()-1),int(x.max())+1,0.5*int(std/(2*0.5))),label='x', alpha=0.5)\n",
    "# BASICALLY THIS GIVES A DIFFERENT BIN WIDTH DEPENDING ON STD\n",
    "# std=1.0 -> width=0.5 std=1.5 -> width=0.5 std=2.0 -> width=1.0"
   ]
  },
  {
   "cell_type": "code",
   "execution_count": 57,
   "metadata": {},
   "outputs": [
    {
     "data": {
      "text/plain": [
       "1"
      ]
     },
     "execution_count": 57,
     "metadata": {},
     "output_type": "execute_result"
    }
   ],
   "source": [
    "int(1.8)"
   ]
  },
  {
   "cell_type": "markdown",
   "metadata": {},
   "source": [
    "2\\. **Color-coded scatter plot**\n",
    "\n",
    "Produce a scatter plot out of a dataset with two categories\n",
    "\n",
    "* Write a function that generate a 2D datasets of 2 categories. Each category should distribute as a 2D gaussian with a given mean and std (clearly it is better to have different values means..)\n",
    "* Display the dataset in a scatter plot marking the two categories with different marker colors.\n",
    "\n",
    "An example is given below\n",
    "\n",
    "You can try to make the procedure more general by allowing a given number $n\\ge 2$ of categories"
   ]
  },
  {
   "cell_type": "code",
   "execution_count": 2,
   "metadata": {},
   "outputs": [
    {
     "name": "stdout",
     "output_type": "stream",
     "text": [
      "--2018-11-27 14:59:33--  https://www.dropbox.com/s/u4y3k4kk5tc7j46/two_categories_scatter_plot.png\n",
      "Resolving www.dropbox.com (www.dropbox.com)... 162.125.69.1, 2620:100:6025:1::a27d:4501\n",
      "Connecting to www.dropbox.com (www.dropbox.com)|162.125.69.1|:443... connected.\n",
      "HTTP request sent, awaiting response... 301 Moved Permanently\n",
      "Location: /s/raw/u4y3k4kk5tc7j46/two_categories_scatter_plot.png [following]\n",
      "--2018-11-27 14:59:33--  https://www.dropbox.com/s/raw/u4y3k4kk5tc7j46/two_categories_scatter_plot.png\n",
      "Reusing existing connection to www.dropbox.com:443.\n",
      "HTTP request sent, awaiting response... 302 Found\n",
      "Location: https://uc42a30e0d6a784bd3cf9f943e6c.dl.dropboxusercontent.com/cd/0/inline/AWbLF3axlib7w534zWcV1YN7NkouPS1N0Q3ERnuE9JnUrQVFQYx9oF-uxq8xOUSrRXePboQ1Q1iVhB1QZ-Q_GKFqkbERCeTek0pQyfUkKLeWWKLXCb4d5Ukqwm4bMQjc87FQrGtSlh1tvdkYH-UMFYMblgrgigVS8F4X-jrh_s0I_d9B4wMCXO_NPwPHpvziZRE/file [following]\n",
      "--2018-11-27 14:59:33--  https://uc42a30e0d6a784bd3cf9f943e6c.dl.dropboxusercontent.com/cd/0/inline/AWbLF3axlib7w534zWcV1YN7NkouPS1N0Q3ERnuE9JnUrQVFQYx9oF-uxq8xOUSrRXePboQ1Q1iVhB1QZ-Q_GKFqkbERCeTek0pQyfUkKLeWWKLXCb4d5Ukqwm4bMQjc87FQrGtSlh1tvdkYH-UMFYMblgrgigVS8F4X-jrh_s0I_d9B4wMCXO_NPwPHpvziZRE/file\n",
      "Resolving uc42a30e0d6a784bd3cf9f943e6c.dl.dropboxusercontent.com (uc42a30e0d6a784bd3cf9f943e6c.dl.dropboxusercontent.com)... 162.125.69.6, 2620:100:6025:6::a27d:4506\n",
      "Connecting to uc42a30e0d6a784bd3cf9f943e6c.dl.dropboxusercontent.com (uc42a30e0d6a784bd3cf9f943e6c.dl.dropboxusercontent.com)|162.125.69.6|:443... connected.\n",
      "HTTP request sent, awaiting response... 200 OK\n",
      "Length: 43828 (43K) [image/png]\n",
      "Saving to: ‘two_categories_scatter_plot.png.1’\n",
      "\n",
      "two_categories_scat 100%[===================>]  42.80K  --.-KB/s    in 0.006s  \n",
      "\n",
      "2018-11-27 14:59:34 (7.14 MB/s) - ‘two_categories_scatter_plot.png.1’ saved [43828/43828]\n",
      "\n"
     ]
    }
   ],
   "source": [
    "! wget https://www.dropbox.com/s/u4y3k4kk5tc7j46/two_categories_scatter_plot.png\n",
    "# saves the file in the current directory hence LaboratoryOfComputationalPhysics"
   ]
  },
  {
   "cell_type": "code",
   "execution_count": 9,
   "metadata": {},
   "outputs": [
    {
     "data": {
      "image/png": "two_categories_scatter_plot.png",
      "text/plain": [
       "<IPython.core.display.Image object>"
      ]
     },
     "execution_count": 9,
     "metadata": {},
     "output_type": "execute_result"
    }
   ],
   "source": [
    "from IPython.display import Image\n",
    "Image('two_categories_scatter_plot.png')"
   ]
  },
  {
   "cell_type": "markdown",
   "metadata": {},
   "source": [
    "3\\. **Profile plot**\n",
    "\n",
    "Produce a profile plot from a scatter plot.\n",
    "* Download the following dataset and load it as a pandas dataframe:\n",
    "```bash\n",
    "wget https://www.dropbox.com/s/hgnvyj9abatk8g6/residuals_261.npy\n",
    "```\n",
    "Note that you should you the `np.load()` function to load the file as a numpy array and then pass it to the `pd.DataFrame()` constructor.\n",
    "* Inspect the dataset, you'll find two variables (features)\n",
    "* Clean the sample by selecting the entries (rows) with the variable \"residual\" in absolute value smaller than 2\n",
    "* perform a linear regression of \"residuals\" versus \"distances\" using `scipy.stats.linregress()` \n",
    "* plot a seaborn jointplot of  \"residuals\" versus \"distances\", having seaborn performing a linear regression. The result of the regression should be displayed on the plot\n",
    "* Fill 3 numpy arrays\n",
    "  * x, serving as an array of bin centers for the \"distance\" variable. It should range from 0 to 20 with reasonable number of steps (bins)\n",
    "  * y, the mean values of the \"residuals\", estimated in slices (bins) of \"distance\"\n",
    "  * erry, the standard deviation of the  of the \"residuals\", estimated in slices (bins) of \"distance\"\n",
    "* Plot the profile plot on top of the scatter plot"
   ]
  },
  {
   "cell_type": "code",
   "execution_count": 7,
   "metadata": {},
   "outputs": [
    {
     "name": "stdout",
     "output_type": "stream",
     "text": [
      "--2018-11-27 15:03:45--  https://www.dropbox.com/s/hgnvyj9abatk8g6/residuals_261.npy\n",
      "Resolving www.dropbox.com (www.dropbox.com)... 162.125.69.1, 2620:100:6025:1::a27d:4501\n",
      "Connecting to www.dropbox.com (www.dropbox.com)|162.125.69.1|:443... connected.\n",
      "HTTP request sent, awaiting response... 301 Moved Permanently\n",
      "Location: /s/raw/hgnvyj9abatk8g6/residuals_261.npy [following]\n",
      "--2018-11-27 15:03:45--  https://www.dropbox.com/s/raw/hgnvyj9abatk8g6/residuals_261.npy\n",
      "Reusing existing connection to www.dropbox.com:443.\n",
      "HTTP request sent, awaiting response... 302 Found\n",
      "Location: https://ucfd918e9d3b6c5ea5a0d97b806e.dl.dropboxusercontent.com/cd/0/inline/AWau_vD2JOZI5N9JxUJNAVfHpCKDLOKSH1V7esNu2PIUr3_ONvPQPD-y7ZbRVkxcpZ8xRHcZZikORIilacpROIy_k_Sx1wKwVfkQhqWdKhuvJ6Xz6A5JUS85zgzqopLJwaS18dqDxHZMx4eXJMeDOaRCQvrG4AOun3M78MPShd1cv8WWAjY3TKphoU6Pybeacvw/file [following]\n",
      "--2018-11-27 15:03:46--  https://ucfd918e9d3b6c5ea5a0d97b806e.dl.dropboxusercontent.com/cd/0/inline/AWau_vD2JOZI5N9JxUJNAVfHpCKDLOKSH1V7esNu2PIUr3_ONvPQPD-y7ZbRVkxcpZ8xRHcZZikORIilacpROIy_k_Sx1wKwVfkQhqWdKhuvJ6Xz6A5JUS85zgzqopLJwaS18dqDxHZMx4eXJMeDOaRCQvrG4AOun3M78MPShd1cv8WWAjY3TKphoU6Pybeacvw/file\n",
      "Resolving ucfd918e9d3b6c5ea5a0d97b806e.dl.dropboxusercontent.com (ucfd918e9d3b6c5ea5a0d97b806e.dl.dropboxusercontent.com)... 162.125.69.6, 2620:100:6025:6::a27d:4506\n",
      "Connecting to ucfd918e9d3b6c5ea5a0d97b806e.dl.dropboxusercontent.com (ucfd918e9d3b6c5ea5a0d97b806e.dl.dropboxusercontent.com)|162.125.69.6|:443... connected.\n",
      "HTTP request sent, awaiting response... 302 FOUND\n",
      "Location: /cd/0/inline2/AWavWD5SKiHBcHekEEmtgADd937TcYtZ5v2F3mUzVIq-pxWwUn2W0L_3MDUtMvl7yjqaXYq70oUL0mxBm2XY_iTxt77EiQPdgDr9fmxASqilAjdda7KPWDf8z0Tq7UzS4JGTRDYHXLc1PsKYhBx_XrSs0GPJOXiJOEZmtkh5pTCUB8EJGCehXHOXdrbEE-LBFiwA0eKniE6IlIVfLsICx2UTKxeH83nZSl9MfiEDG00luq-RS4ixjxR7emo5dwO1bWEJXh0TxT53dVL2SI3s1JuRzAbW-XVVspXpzcA4jiKHu1ToCkLHrX89sYcLJpTlMAGXtu-gj69Vz48kKjXaHgyiyn8uxTopGSxXT7JOQ4yjpXm9uTlJVJ_N0Y4jic7LEdh89kc19U44EPYd0H3ytGiwfeFz9AM5eo9jpzLNO822bdE7GRWyPnH0-AHs7xVPhoE/file [following]\n",
      "--2018-11-27 15:03:46--  https://ucfd918e9d3b6c5ea5a0d97b806e.dl.dropboxusercontent.com/cd/0/inline2/AWavWD5SKiHBcHekEEmtgADd937TcYtZ5v2F3mUzVIq-pxWwUn2W0L_3MDUtMvl7yjqaXYq70oUL0mxBm2XY_iTxt77EiQPdgDr9fmxASqilAjdda7KPWDf8z0Tq7UzS4JGTRDYHXLc1PsKYhBx_XrSs0GPJOXiJOEZmtkh5pTCUB8EJGCehXHOXdrbEE-LBFiwA0eKniE6IlIVfLsICx2UTKxeH83nZSl9MfiEDG00luq-RS4ixjxR7emo5dwO1bWEJXh0TxT53dVL2SI3s1JuRzAbW-XVVspXpzcA4jiKHu1ToCkLHrX89sYcLJpTlMAGXtu-gj69Vz48kKjXaHgyiyn8uxTopGSxXT7JOQ4yjpXm9uTlJVJ_N0Y4jic7LEdh89kc19U44EPYd0H3ytGiwfeFz9AM5eo9jpzLNO822bdE7GRWyPnH0-AHs7xVPhoE/file\n",
      "Reusing existing connection to ucfd918e9d3b6c5ea5a0d97b806e.dl.dropboxusercontent.com:443.\n",
      "HTTP request sent, awaiting response... 200 OK\n",
      "Length: 252081 (246K) [application/octet-stream]\n",
      "Saving to: ‘residuals_261.npy.1’\n",
      "\n",
      "residuals_261.npy.1 100%[===================>] 246.17K  --.-KB/s    in 0.03s   \n",
      "\n",
      "2018-11-27 15:03:47 (9.30 MB/s) - ‘residuals_261.npy.1’ saved [252081/252081]\n",
      "\n"
     ]
    }
   ],
   "source": [
    "! wget https://www.dropbox.com/s/hgnvyj9abatk8g6/residuals_261.npy\n",
    "# saves the file in the current directory hence LaboratoryOfComputationalPhysics"
   ]
  },
  {
   "cell_type": "code",
   "execution_count": null,
   "metadata": {
    "collapsed": true
   },
   "outputs": [],
   "source": []
  }
 ],
 "metadata": {
  "kernelspec": {
   "display_name": "Python 3",
   "language": "python",
   "name": "python3"
  },
  "language_info": {
   "codemirror_mode": {
    "name": "ipython",
    "version": 3
   },
   "file_extension": ".py",
   "mimetype": "text/x-python",
   "name": "python",
   "nbconvert_exporter": "python",
   "pygments_lexer": "ipython3",
   "version": "3.6.3"
  }
 },
 "nbformat": 4,
 "nbformat_minor": 2
}
