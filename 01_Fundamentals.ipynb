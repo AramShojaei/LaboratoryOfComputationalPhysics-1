{
 "cells": [
  {
   "cell_type": "markdown",
   "metadata": {},
   "source": [
    "# Modules/packages/libraries\n",
    "\n",
    "Definitions:\n",
    "\n",
    "  * Modules:\n",
    "  A module is a file which contains python functions, global variables etc. It is nothing but .py file which has python executable code / statement.\n",
    "\n",
    "  * Packages:\n",
    "  A package is namespace which contains multiple package/modules. It is a directory which contains a special file `__init__.py`\n",
    "  \n",
    "  * Libraries:\n",
    "  A library is a collection of various packages. There is no difference between package and python library conceptually.\n",
    "  \n",
    "Modules/packages/libraries can be easily \"imported\" and made functional in your python code. A set of libriaries comes with every python installation. Others can be installed locally and then imported. Your own code sitting somewhere else in your local computer can be imported too.\n",
    "\n",
    "Further details (very important!) on packages and how to create them can be found online. We may find the need of creating our own during the course."
   ]
  },
  {
   "cell_type": "code",
   "execution_count": 1,
   "metadata": {},
   "outputs": [
    {
     "name": "stdout",
     "output_type": "stream",
     "text": [
      "3.14159265359\n",
      "3.14159265359\n",
      "3.14159265359\n",
      "2.64575131106\n"
     ]
    }
   ],
   "source": [
    "###### all the \"stuff\" that is in the math library can be used\n",
    "import math\n",
    "print(math.pi)\n",
    "\n",
    "# you can give math a label for convenience\n",
    "import math as m\n",
    "print (m.pi)\n",
    "\n",
    "# alternatively you can import only a given \"thing\" from the library\n",
    "from math import pi\n",
    "print (pi)\n",
    "\n",
    "# or just get everything (very dangerous!!!)\n",
    "from math import *\n",
    "print (sqrt(7))"
   ]
  },
  {
   "cell_type": "markdown",
   "metadata": {},
   "source": [
    "To know which modules are there for you to use just type:"
   ]
  },
  {
   "cell_type": "code",
   "execution_count": 2,
   "metadata": {},
   "outputs": [
    {
     "name": "stdout",
     "output_type": "stream",
     "text": [
      "\n",
      "Please wait a moment while I gather a list of all available modules...\n",
      "\n"
     ]
    },
    {
     "name": "stderr",
     "output_type": "stream",
     "text": [
      "C:\\Users\\saret\\Anaconda2\\lib\\site-packages\\IPython\\kernel\\__init__.py:13: ShimWarning: The `IPython.kernel` package has been deprecated since IPython 4.0.You should import from ipykernel or jupyter_client instead.\n",
      "  \"You should import from ipykernel or jupyter_client instead.\", ShimWarning)\n",
      "WARNING: AstropyDeprecationWarning: The astropy.vo.samp module has now been moved to astropy.samp [astropy.vo.samp]\n",
      "C:\\Users\\saret\\Anaconda2\\lib\\site-packages\\h5py\\__init__.py:36: FutureWarning: Conversion of the second argument of issubdtype from `float` to `np.floating` is deprecated. In future, it will be treated as `np.float64 == np.dtype(float).type`.\n",
      "  from ._conv import register_converters as _register_converters\n",
      "C:\\Users\\saret\\Anaconda2\\lib\\site-packages\\odo\\backends\\pandas.py:102: FutureWarning: pandas.tslib is deprecated and will be removed in a future version.\n",
      "You can access NaTType as type(pandas.NaT)\n",
      "  @convert.register((pd.Timestamp, pd.Timedelta), (pd.tslib.NaTType, type(None)))\n",
      "C:\\Users\\saret\\Anaconda2\\lib\\site-packages\\nltk\\twitter\\__init__.py:20: UserWarning: The twython library has not been installed. Some functionality from the twitter package will not be available.\n",
      "  warnings.warn(\"The twython library has not been installed. \"\n",
      "C:\\Users\\saret\\Anaconda2\\lib\\site-packages\\skimage\\viewer\\utils\\core.py:10: UserWarning: Recommended matplotlib backend is `Agg` for full skimage.viewer functionality.\n",
      "  warn(\"Recommended matplotlib backend is `Agg` for full \"\n",
      "C:\\Users\\saret\\Anaconda2\\lib\\site-packages\\qtawesome\\iconic_font.py:268: UserWarning: You need to have a running QApplication to use QtAwesome!\n",
      "  warnings.warn(\"You need to have a running \"\n",
      "C:\\Users\\saret\\Anaconda2\\lib\\site-packages\\statsmodels\\compat\\pandas.py:56: FutureWarning: The pandas.core.datetools module is deprecated and will be removed in a future version. Please use the pandas.tseries module instead.\n",
      "  from pandas.core import datetools\n"
     ]
    },
    {
     "name": "stdout",
     "output_type": "stream",
     "text": [
      "BaseHTTPServer      calendar            mhlib               spyder_breakpoints\n",
      "Bastion             cdecimal            mimetools           spyder_io_dcm\n",
      "CGIHTTPServer       certifi             mimetypes           spyder_io_hdf5\n",
      "Canvas              cffi                mimify              spyder_profiler\n",
      "ConfigParser        cgi                 mistune             spyder_pylint\n",
      "Cookie              cgitb               mkl                 sqlalchemy\n",
      "Crypto              chardet             mmap                sqlite3\n",
      "Cython              chunk               mmapfile            sre\n",
      "Dialog              click               mmsystem            sre_compile\n",
      "DocXMLRPCServer     cloudpickle         modulefinder        sre_constants\n",
      "FileDialog          clyent              mpmath              sre_parse\n",
      "FixTk               cmath               msgpack             ssl\n",
      "HTMLParser          cmd                 msilib              sspi\n",
      "IPython             code                msvcrt              sspicon\n",
      "MimeWriter          codecs              multifile           stat\n",
      "OpenSSL             codeop              multipledispatch    statsmodels\n",
      "PIL                 collections         multiprocessing     statvfs\n",
      "PyQt5               colorama            mutex               storemagic\n",
      "Queue               colorsys            navigator_updater   string\n",
      "ScrolledText        commands            nbconvert           stringold\n",
      "SimpleDialog        commctrl            nbformat            stringprep\n",
      "SimpleHTTPServer    compileall          netbios             strop\n",
      "SimpleXMLRPCServer  compiler            netrc               struct\n",
      "SocketServer        comtypes            networkx            subprocess\n",
      "StringIO            concurrent          new                 subprocess32\n",
      "Tix                 conda               nltk                sunau\n",
      "Tkconstants         conda_build         nntplib             sunaudio\n",
      "Tkdnd               conda_env           nose                symbol\n",
      "Tkinter             conda_verify        notebook            sympy\n",
      "UserDict            configparser        nt                  sympyprinting\n",
      "UserList            contextlib          ntpath              symtable\n",
      "UserString          contextlib2         ntsecuritycon       sys\n",
      "_LWPCookieJar       cookielib           nturl2path          sysconfig\n",
      "_MozillaCookieJar   copy                numba               tables\n",
      "__builtin__         copy_reg            numbers             tabnanny\n",
      "__future__          cryptography        numexpr             tarfile\n",
      "_abcoll             csv                 numpy               tblib\n",
      "_ast                ctypes              numpydoc            telnetlib\n",
      "_bisect             curl                odbc                tempfile\n",
      "_bsddb              curses              odo                 terminado\n",
      "_cffi_backend       cwp                 olefile             test\n",
      "_codecs             cycler              opcode              test_path\n",
      "_codecs_cn          cython              openpyxl            test_pycosat\n",
      "_codecs_hk          cythonmagic         operator            testpath\n",
      "_codecs_iso2022     cytoolz             optparse            tests\n",
      "_codecs_jp          dask                os                  textwrap\n",
      "_codecs_kr          datashape           os2emxpath          this\n",
      "_codecs_tw          datetime            packaging           thread\n",
      "_collections        dateutil            pandas              threading\n",
      "_csv                dbhash              pandocfilters       time\n",
      "_ctypes             dbi                 parser              timeit\n",
      "_ctypes_test        dde                 parso               timer\n",
      "_elementtree        decimal             partd               tkColorChooser\n",
      "_functools          decorator           path                tkCommonDialog\n",
      "_hashlib            difflib             pathlib2            tkFileDialog\n",
      "_heapq              dircache            patsy               tkFont\n",
      "_hotshot            dis                 pdb                 tkMessageBox\n",
      "_io                 distributed         pep8                tkSimpleDialog\n",
      "_json               distutils           perfmon             tlz\n",
      "_locale             doctest             pickle              toaiff\n",
      "_lsprof             docutils            pickleshare         token\n",
      "_md5                dumbdbm             pickletools         tokenize\n",
      "_msi                dummy_thread        pip                 toolz\n",
      "_multibytecodec     dummy_threading     pipes               tornado\n",
      "_multiprocessing    easy_install        pkg_resources       trace\n",
      "_nsis               email               pkginfo             traceback\n",
      "_osx_support        encodings           pkgutil             traitlets\n",
      "_pyio               ensurepip           platform            ttk\n",
      "_pytest             entrypoints         plistlib            tty\n",
      "_random             enum                pluggy              turtle\n",
      "_scandir            errno               ply                 types\n",
      "_sha                et_xmlfile          popen2              typing\n",
      "_sha256             exceptions          poplib              unicodecsv\n",
      "_sha512             fastcache           posixfile           unicodedata\n",
      "_socket             filecmp             posixpath           unittest\n",
      "_sqlite3            fileinput           pprint              urllib\n",
      "_sre                filelock            profile             urllib2\n",
      "_ssl                flask               prompt_toolkit      urllib3\n",
      "_strptime           flask_cors          pstats              urlparse\n",
      "_struct             fnmatch             psutil              user\n",
      "_subprocess         formatter           pty                 uu\n",
      "_symtable           fpformat            py                  uuid\n",
      "_system_path        fractions           py_compile          warnings\n",
      "_testcapi           ftplib              pyclbr              wave\n",
      "_threading_local    funcsigs            pycodestyle         wcwidth\n",
      "_tkinter            functools           pycosat             weakref\n",
      "_warnings           functools32         pycparser           webbrowser\n",
      "_weakref            future_builtins     pycurl              webencodings\n",
      "_weakrefset         gc                  pydoc               werkzeug\n",
      "_win32sysloader     genericpath         pydoc_data          wheel\n",
      "_winpty             getopt              pyexpat             whichdb\n",
      "_winreg             getpass             pyflakes            widgetsnbextension\n",
      "_winxptheme         gettext             pygments            win2kras\n",
      "_yaml               gevent              pylab               win32api\n",
      "abc                 glob                pylint              win32clipboard\n",
      "adodbapi            glob2               pyodbc              win32com\n",
      "afxres              greenlet            pyparsing           win32con\n",
      "aifc                grin                pytest              win32console\n",
      "alabaster           gzip                pythoncom           win32cred\n",
      "anaconda_navigator  h5py                pytz                win32crypt\n",
      "anaconda_project    hashlib             pywin               win32cryptcon\n",
      "antigravity         heapdict            pywin32_testutil    win32event\n",
      "anydbm              heapq               pywintypes          win32evtlog\n",
      "argparse            hmac                pywt                win32evtlogutil\n",
      "array               hotshot             pyximport           win32file\n",
      "asn1crypto          html5lib            qtawesome           win32gui\n",
      "ast                 htmlentitydefs      qtconsole           win32gui_struct\n",
      "astroid             htmllib             qtpy                win32help\n",
      "astropy             httplib             quopri              win32inet\n",
      "asynchat            idlelib             random              win32inetcon\n",
      "asyncore            idna                rasutil             win32job\n",
      "atexit              ihooks              re                  win32lz\n",
      "attr                imageio             regcheck            win32net\n",
      "audiodev            imageop             regutil             win32netcon\n",
      "audioop             imagesize           repr                win32pdh\n",
      "autoreload          imaplib             requests            win32pdhquery\n",
      "babel               imghdr              rexec               win32pdhutil\n",
      "backports           imp                 rfc822              win32pipe\n",
      "backports_abc       importlib           rlcompleter         win32print\n",
      "base64              imputil             rmagic              win32process\n",
      "bdb                 inspect             robotparser         win32profile\n",
      "binascii            io                  rope                win32ras\n",
      "binhex              ipaddress           ruamel_yaml         win32rcparser\n",
      "binstar_client      ipykernel           run                 win32security\n",
      "bisect              ipykernel_launcher  runpy               win32service\n",
      "bitarray            ipython_genutils    scandir             win32serviceutil\n",
      "bkcharts            ipywidgets          sched               win32timezone\n",
      "blaze               isapi               scipy               win32trace\n",
      "bleach              isort               scripts             win32traceutil\n",
      "bokeh               itertools           seaborn             win32transaction\n",
      "boto                itsdangerous        select              win32ts\n",
      "bottleneck          jdcal               send2trash          win32ui\n",
      "brain_attrs         jedi                servicemanager      win32uiole\n",
      "brain_builtin_inference jinja2              sets                win32verstamp\n",
      "brain_collections   json                setuptools          win32wnet\n",
      "brain_curses        jsonschema          sgmllib             win_inet_pton\n",
      "brain_dateutil      jupyter             sha                 win_unicode_console\n",
      "brain_fstrings      jupyter_client      shelve              wincertstore\n",
      "brain_functools     jupyter_console     shlex               winerror\n",
      "brain_gi            jupyter_core        shutil              winioctlcon\n",
      "brain_hashlib       jupyterlab          signal              winnt\n",
      "brain_io            jupyterlab_launcher simplegeneric       winperf\n",
      "brain_mechanize     keyword             singledispatch      winpty\n",
      "brain_multiprocessing lazy_object_proxy   singledispatch_helpers winsound\n",
      "brain_namedtuple_enum lib2to3             sip                 winxpgui\n",
      "brain_nose          linecache           sipconfig           winxptheme\n",
      "brain_numpy         llvmlite            sipdistutils        wrapt\n",
      "brain_pkg_resources locale              site                wsgiref\n",
      "brain_pytest        locket              six                 xdrlib\n",
      "brain_qt            logging             skimage             xlrd\n",
      "brain_re            lxml                sklearn             xlsxwriter\n",
      "brain_six           macpath             smtpd               xlwings\n",
      "brain_ssl           macurl2path         smtplib             xlwt\n",
      "brain_subprocess    mailbox             sndhdr              xml\n",
      "brain_threading     mailcap             snowballstemmer     xmllib\n",
      "brain_typing        markupbase          socket              xmlrpclib\n",
      "brain_uuid          markupsafe          socks               xxsubtype\n",
      "bs4                 marshal             sockshandler        yaml\n",
      "bsddb               math                sortedcollections   zict\n",
      "bz2                 matplotlib          sortedcontainers    zipfile\n",
      "cPickle             mccabe              sphinx              zipimport\n",
      "cProfile            md5                 sphinxcontrib       zlib\n",
      "cStringIO           menuinst            spyder              zmq\n",
      "\n",
      "Enter any module name to get more help.  Or, type \"modules spam\" to search\n",
      "for modules whose descriptions contain the word \"spam\".\n",
      "\n",
      "None\n"
     ]
    }
   ],
   "source": [
    "print (help('modules') )"
   ]
  },
  {
   "cell_type": "markdown",
   "metadata": {},
   "source": [
    "`pip` is a special package. It is used from the command line to install properly (e.g. matching the version of the local packages) new packages. It can also be used from within python to check i.e. the set installed packages and their versions. N.B.: only the installed packages on top of the default ones will be listed "
   ]
  },
  {
   "cell_type": "code",
   "execution_count": 3,
   "metadata": {},
   "outputs": [
    {
     "data": {
      "text/plain": [
       "['alabaster==0.7.10',\n",
       " 'anaconda-client==1.6.9',\n",
       " 'anaconda-navigator==1.7.0',\n",
       " 'anaconda-project==0.8.2',\n",
       " 'asn1crypto==0.24.0',\n",
       " 'astroid==1.6.1',\n",
       " 'astropy==2.0.3',\n",
       " 'attrs==17.4.0',\n",
       " 'babel==2.5.3',\n",
       " 'backports-abc==0.5',\n",
       " 'backports.functools-lru-cache==1.4',\n",
       " 'backports.shutil-get-terminal-size==1.0.0',\n",
       " 'backports.shutil-which==3.5.1',\n",
       " 'backports.ssl-match-hostname==3.5.0.1',\n",
       " 'beautifulsoup4==4.6.0',\n",
       " 'bitarray==0.8.1',\n",
       " 'bkcharts==0.2',\n",
       " 'blaze==0.11.3',\n",
       " 'bleach==2.1.2',\n",
       " 'bokeh==0.12.13',\n",
       " 'boto==2.48.0',\n",
       " 'bottleneck==1.2.1',\n",
       " 'cdecimal==2.3',\n",
       " 'certifi==2018.1.18',\n",
       " 'cffi==1.11.4',\n",
       " 'chardet==3.0.4',\n",
       " 'click==6.7',\n",
       " 'cloudpickle==0.5.2',\n",
       " 'clyent==1.2.2',\n",
       " 'colorama==0.3.9',\n",
       " 'comtypes==1.1.4',\n",
       " 'conda-build==3.4.1',\n",
       " 'conda-verify==2.0.0',\n",
       " 'conda==4.4.10',\n",
       " 'configparser==3.5.0',\n",
       " 'contextlib2==0.5.5',\n",
       " 'cryptography==2.1.4',\n",
       " 'cycler==0.10.0',\n",
       " 'cython==0.27.3',\n",
       " 'cytoolz==0.9.0',\n",
       " 'dask==0.16.1',\n",
       " 'datashape==0.5.4',\n",
       " 'decorator==4.2.1',\n",
       " 'distributed==1.20.2',\n",
       " 'docutils==0.14',\n",
       " 'entrypoints==0.2.3',\n",
       " 'enum34==1.1.6',\n",
       " 'et-xmlfile==1.0.1',\n",
       " 'fastcache==1.0.2',\n",
       " 'filelock==2.0.13',\n",
       " 'flask-cors==3.0.3',\n",
       " 'flask==0.12.2',\n",
       " 'funcsigs==1.0.2',\n",
       " 'functools32==3.2.3.post2',\n",
       " 'futures==3.2.0',\n",
       " 'gevent==1.2.2',\n",
       " 'glob2==0.6',\n",
       " 'greenlet==0.4.12',\n",
       " 'grin==1.2.1',\n",
       " 'h5py==2.7.1',\n",
       " 'heapdict==1.0.0',\n",
       " 'html5lib==1.0.1',\n",
       " 'idna==2.6',\n",
       " 'imageio==2.2.0',\n",
       " 'imagesize==0.7.1',\n",
       " 'ipaddress==1.0.19',\n",
       " 'ipython-genutils==0.2.0',\n",
       " 'ipython==5.4.1',\n",
       " 'ipywidgets==7.1.1',\n",
       " 'isort==4.2.15',\n",
       " 'itsdangerous==0.24',\n",
       " 'jdcal==1.3',\n",
       " 'jedi==0.11.1',\n",
       " 'jinja2==2.10',\n",
       " 'jsonschema==2.6.0',\n",
       " 'jupyter-client==5.2.2',\n",
       " 'jupyter-console==5.2.0',\n",
       " 'jupyter-core==4.4.0',\n",
       " 'jupyter==1.0.0',\n",
       " 'jupyterlab-launcher==0.10.2',\n",
       " 'jupyterlab==0.31.4',\n",
       " 'lazy-object-proxy==1.3.1',\n",
       " 'llvmlite==0.21.0',\n",
       " 'locket==0.2.0',\n",
       " 'lxml==4.1.1',\n",
       " 'markupsafe==1.0',\n",
       " 'matplotlib==2.1.2',\n",
       " 'mccabe==0.6.1',\n",
       " 'menuinst==1.4.11',\n",
       " 'mistune==0.8.3',\n",
       " 'mpmath==1.0.0',\n",
       " 'msgpack-python==0.5.1',\n",
       " 'multipledispatch==0.4.9',\n",
       " 'navigator-updater==0.1.0',\n",
       " 'nbconvert==5.3.1',\n",
       " 'nbformat==4.4.0',\n",
       " 'networkx==2.1',\n",
       " 'nltk==3.2.5',\n",
       " 'nose==1.3.7',\n",
       " 'notebook==5.4.0',\n",
       " 'numba==0.36.2+0.g540650d.dirty',\n",
       " 'numexpr==2.6.4',\n",
       " 'numpy==1.14.0',\n",
       " 'numpydoc==0.7.0',\n",
       " 'odo==0.5.1',\n",
       " 'olefile==0.45.1',\n",
       " 'openpyxl==2.4.10',\n",
       " 'packaging==16.8',\n",
       " 'pandas==0.22.0',\n",
       " 'pandocfilters==1.4.2',\n",
       " 'parso==0.1.1',\n",
       " 'partd==0.3.8',\n",
       " 'path.py==10.5',\n",
       " 'pathlib2==2.3.0',\n",
       " 'patsy==0.5.0',\n",
       " 'pep8==1.7.1',\n",
       " 'pickleshare==0.7.4',\n",
       " 'pillow==5.0.0',\n",
       " 'pip==9.0.1',\n",
       " 'pkginfo==1.4.1',\n",
       " 'pluggy==0.6.0',\n",
       " 'ply==3.10',\n",
       " 'prompt-toolkit==1.0.15',\n",
       " 'psutil==5.4.3',\n",
       " 'py==1.5.2',\n",
       " 'pycodestyle==2.3.1',\n",
       " 'pycosat==0.6.3',\n",
       " 'pycparser==2.18',\n",
       " 'pycrypto==2.6.1',\n",
       " 'pycurl==7.43.0.1',\n",
       " 'pyflakes==1.6.0',\n",
       " 'pygments==2.2.0',\n",
       " 'pylint==1.8.2',\n",
       " 'pyodbc==4.0.22',\n",
       " 'pyopenssl==17.5.0',\n",
       " 'pyparsing==2.2.0',\n",
       " 'pysocks==1.6.7',\n",
       " 'pytest==3.3.2',\n",
       " 'python-dateutil==2.6.1',\n",
       " 'pytz==2017.3',\n",
       " 'pywavelets==0.5.2',\n",
       " 'pywin32==222',\n",
       " 'pywinpty==0.5',\n",
       " 'pyyaml==3.12',\n",
       " 'pyzmq==16.0.3',\n",
       " 'qtawesome==0.4.4',\n",
       " 'qtconsole==4.3.1',\n",
       " 'qtpy==1.3.1',\n",
       " 'requests==2.18.4',\n",
       " 'rope==0.10.7',\n",
       " 'ruamel-yaml==0.15.35',\n",
       " 'scandir==1.6',\n",
       " 'scikit-image==0.13.1',\n",
       " 'scikit-learn==0.19.1',\n",
       " 'scipy==1.0.0',\n",
       " 'seaborn==0.8.1',\n",
       " 'send2trash==1.4.2',\n",
       " 'setuptools==38.4.0',\n",
       " 'simplegeneric==0.8.1',\n",
       " 'singledispatch==3.4.0.3',\n",
       " 'six==1.11.0',\n",
       " 'snowballstemmer==1.2.1',\n",
       " 'sortedcollections==0.5.3',\n",
       " 'sortedcontainers==1.5.9',\n",
       " 'sphinx==1.6.6',\n",
       " 'sphinxcontrib-websupport==1.0.1',\n",
       " 'spyder==3.2.6',\n",
       " 'sqlalchemy==1.2.1',\n",
       " 'statsmodels==0.8.0',\n",
       " 'subprocess32==3.2.7',\n",
       " 'sympy==1.1.1',\n",
       " 'tables==3.4.2',\n",
       " 'tblib==1.3.2',\n",
       " 'terminado==0.8.1',\n",
       " 'testpath==0.3.1',\n",
       " 'toolz==0.9.0',\n",
       " 'tornado==4.5.3',\n",
       " 'traitlets==4.3.2',\n",
       " 'typing==3.6.2',\n",
       " 'unicodecsv==0.14.1',\n",
       " 'urllib3==1.22',\n",
       " 'wcwidth==0.1.7',\n",
       " 'webencodings==0.5.1',\n",
       " 'werkzeug==0.14.1',\n",
       " 'wheel==0.30.0',\n",
       " 'widgetsnbextension==3.1.0',\n",
       " 'win-inet-pton==1.0.1',\n",
       " 'win-unicode-console==0.5',\n",
       " 'wincertstore==0.2',\n",
       " 'wrapt==1.10.11',\n",
       " 'xlrd==1.1.0',\n",
       " 'xlsxwriter==1.0.2',\n",
       " 'xlwings==0.11.5',\n",
       " 'xlwt==1.3.0',\n",
       " 'zict==0.1.3']"
      ]
     },
     "execution_count": 3,
     "metadata": {},
     "output_type": "execute_result"
    }
   ],
   "source": [
    "import pip\n",
    "sorted([\"%s==%s\" % (i.key, i.version) for i in pip.get_installed_distributions()])"
   ]
  },
  {
   "cell_type": "markdown",
   "metadata": {},
   "source": [
    "# Functions"
   ]
  },
  {
   "cell_type": "code",
   "execution_count": 4,
   "metadata": {},
   "outputs": [
    {
     "name": "stdout",
     "output_type": "stream",
     "text": [
      "4\n",
      "8\n",
      "('cube', 8)\n",
      "('square', 4)\n"
     ]
    }
   ],
   "source": [
    "def square(x):\n",
    "    \"\"\"Square of x.\"\"\"\n",
    "    return x*x\n",
    "\n",
    "def cube(x):\n",
    "    \"\"\"Cube of x.\"\"\"\n",
    "    return x*x*x\n",
    "\n",
    "# create a dictionary of functions\n",
    "funcs = {\n",
    "    'square': square,\n",
    "    'cube': cube,\n",
    "}\n",
    "\n",
    "x = 2\n",
    "print(square(x))\n",
    "print(cube(x))\n",
    "\n",
    "for func in sorted(funcs):\n",
    "    print (func, funcs[func](x))"
   ]
  },
  {
   "cell_type": "markdown",
   "metadata": {},
   "source": [
    "## Functions arguments"
   ]
  },
  {
   "cell_type": "markdown",
   "metadata": {},
   "source": [
    "what is passsed to a function is a copy of the input. Imagine we have a list *x =[1, 2, 3]*. If within the function the content of *x* is directly changed (e.g. *x[0] = 999*), then *x* chanes outside the funciton as well. However, if *x* is reassigned within the function to a new object (e.g. another list), then the copy of the name *x* now points to the new object, but *x* outside the function is unhcanged."
   ]
  },
  {
   "cell_type": "code",
   "execution_count": 5,
   "metadata": {},
   "outputs": [
    {
     "name": "stdout",
     "output_type": "stream",
     "text": [
      "[1, 2, 3]\n",
      "[999, 2, 3]\n",
      "[999, 2, 3]\n"
     ]
    }
   ],
   "source": [
    "def modify(x):\n",
    "    x[0] = 999\n",
    "    return x\n",
    "\n",
    "x = [1,2,3]\n",
    "print (x)\n",
    "print (modify(x))\n",
    "print (x)"
   ]
  },
  {
   "cell_type": "code",
   "execution_count": 6,
   "metadata": {},
   "outputs": [
    {
     "name": "stdout",
     "output_type": "stream",
     "text": [
      "[1, 2, 3]\n",
      "[4, 5, 6]\n",
      "[1, 2, 3]\n"
     ]
    }
   ],
   "source": [
    "def no_modify(x):\n",
    "    x = [4,5,6]\n",
    "    return x\n",
    "\n",
    "x = [1,2,3]\n",
    "print (x)\n",
    "print (no_modify(x))\n",
    "print (x)\n"
   ]
  },
  {
   "cell_type": "markdown",
   "metadata": {},
   "source": [
    "Binding of default arguments occurs at function definition:"
   ]
  },
  {
   "cell_type": "code",
   "execution_count": 7,
   "metadata": {},
   "outputs": [
    {
     "name": "stdout",
     "output_type": "stream",
     "text": [
      "[1]\n",
      "[1, 1]\n",
      "[9, 9, 9, 1]\n",
      "[1, 1, 1]\n",
      "[1, 1, 1, 1]\n"
     ]
    }
   ],
   "source": [
    "def f(x = []):\n",
    "    x.append(1)\n",
    "    return x\n",
    "\n",
    "print (f())\n",
    "print (f())\n",
    "print (f(x = [9,9,9]))\n",
    "print (f())\n",
    "print (f())"
   ]
  },
  {
   "cell_type": "markdown",
   "metadata": {},
   "source": [
    "Try to aviod that!!"
   ]
  },
  {
   "cell_type": "code",
   "execution_count": 8,
   "metadata": {},
   "outputs": [
    {
     "name": "stdout",
     "output_type": "stream",
     "text": [
      "[1]\n",
      "[1]\n",
      "[9, 9, 9, 1]\n",
      "[1]\n",
      "[1]\n"
     ]
    }
   ],
   "source": [
    "def f(x = None):\n",
    "    if x is None:\n",
    "        x = []\n",
    "    x.append(1)\n",
    "    return x\n",
    "\n",
    "print (f())\n",
    "print (f())\n",
    "print (f(x = [9,9,9]))\n",
    "print (f())\n",
    "print (f())"
   ]
  },
  {
   "cell_type": "markdown",
   "metadata": {},
   "source": [
    "## Higher order functions\n",
    "\n",
    "A function that uses another function as an input argument or returns a function (HOF) is known as a higher-order function. The most familiar examples are `map` and `filter`."
   ]
  },
  {
   "cell_type": "markdown",
   "metadata": {},
   "source": [
    "### map\n",
    "\n",
    "The map function applies a function to each member of a collection"
   ]
  },
  {
   "cell_type": "code",
   "execution_count": 9,
   "metadata": {},
   "outputs": [
    {
     "name": "stdout",
     "output_type": "stream",
     "text": [
      "[0, 1, 4, 9, 16]\n",
      "0\n",
      "1\n",
      "4\n",
      "9\n",
      "16\n"
     ]
    }
   ],
   "source": [
    "x = list(map(square, range(5)))\n",
    "print (x)\n",
    "\n",
    "# Note the difference w.r.t python 2. In python 3 map retuns an iterator so you can do stuff like:\n",
    "for i in map(square,range(5)): print(i)"
   ]
  },
  {
   "cell_type": "markdown",
   "metadata": {},
   "source": [
    "### filter\n",
    "\n",
    "The filter function applies a predicate to each memmber of a collection, retaining only those members where the predicate is True"
   ]
  },
  {
   "cell_type": "code",
   "execution_count": 10,
   "metadata": {},
   "outputs": [
    {
     "name": "stdout",
     "output_type": "stream",
     "text": [
      "[0, 2, 4]\n"
     ]
    }
   ],
   "source": [
    "def is_even(x):\n",
    "    return x%2 == 0\n",
    "\n",
    "print (list(filter(is_even, range(5))))"
   ]
  },
  {
   "cell_type": "code",
   "execution_count": 11,
   "metadata": {},
   "outputs": [
    {
     "data": {
      "text/plain": [
       "[0, 4, 16]"
      ]
     },
     "execution_count": 11,
     "metadata": {},
     "output_type": "execute_result"
    }
   ],
   "source": [
    "list(map(square, filter(is_even, range(5))))\n"
   ]
  },
  {
   "cell_type": "markdown",
   "metadata": {},
   "source": [
    "### reduce\n",
    "\n",
    "The reduce function reduces a collection using a binary operator to combine items two at a time. More often than not reduce can be substituted with a more efficient for loop. It is worth mentioning it for its key role in big-data applications together with map (the map-reduce paradigm). \n",
    "N.B.: it no loger exist in python 3, it is now part of the `functools` library"
   ]
  },
  {
   "cell_type": "code",
   "execution_count": 12,
   "metadata": {},
   "outputs": [
    {
     "data": {
      "text/plain": [
       "15"
      ]
     },
     "execution_count": 12,
     "metadata": {},
     "output_type": "execute_result"
    }
   ],
   "source": [
    "from functools import reduce\n",
    "\n",
    "def my_add(x, y):\n",
    "    return x + y\n",
    "\n",
    "# another implementation of the sum function\n",
    "reduce(my_add, [1,2,3,4,5])"
   ]
  },
  {
   "cell_type": "markdown",
   "metadata": {},
   "source": [
    "### zip\n",
    "\n",
    "zip is useful when you need to iterate over matched elements of multiple lists"
   ]
  },
  {
   "cell_type": "code",
   "execution_count": 13,
   "metadata": {},
   "outputs": [
    {
     "name": "stdout",
     "output_type": "stream",
     "text": [
      "(1, 10, 'a')\n",
      "(2, 20, 'b')\n",
      "(3, 30, 'c')\n",
      "(4, 40, 'd')\n"
     ]
    }
   ],
   "source": [
    "xs = [1, 2, 3, 4]\n",
    "ys = [10, 20, 30, 40]\n",
    "zs = ['a', 'b', 'c', 'd', 'e']\n",
    "\n",
    "for x, y, z in zip(xs, ys, zs):\n",
    "    print (x, y, z)"
   ]
  },
  {
   "cell_type": "markdown",
   "metadata": {},
   "source": [
    "### Custom HOF"
   ]
  },
  {
   "cell_type": "code",
   "execution_count": 14,
   "metadata": {},
   "outputs": [
    {
     "name": "stdout",
     "output_type": "stream",
     "text": [
      "30\n",
      "100\n"
     ]
    }
   ],
   "source": [
    "def custom_sum(xs, transform):\n",
    "    \"\"\"Returns the sum of xs after a user specified transform.\"\"\"\n",
    "    return sum(map(transform, xs))\n",
    "\n",
    "xs = range(5)\n",
    "print (custom_sum(xs, square))\n",
    "print (custom_sum(xs, cube))\n",
    "\n"
   ]
  },
  {
   "cell_type": "markdown",
   "metadata": {},
   "source": [
    "### Returning a function"
   ]
  },
  {
   "cell_type": "code",
   "execution_count": 18,
   "metadata": {},
   "outputs": [],
   "source": [
    "def make_logger(target):\n",
    "    def logger(data):\n",
    "        with open(target, 'a') as f:\n",
    "            f.write(data + '\\n')\n",
    "    return logger\n",
    "\n",
    "foo_logger = make_logger('foo.txt')\n",
    "foo_logger('Hello')\n",
    "foo_logger('World')"
   ]
  },
  {
   "cell_type": "code",
   "execution_count": 19,
   "metadata": {},
   "outputs": [
    {
     "name": "stderr",
     "output_type": "stream",
     "text": [
      "Impossibile trovare il file specificato.\n"
     ]
    }
   ],
   "source": [
    "! type 'foo.txt'"
   ]
  },
  {
   "cell_type": "markdown",
   "metadata": {},
   "source": [
    "## Anonimous functions (lambda)\n",
    "\n",
    "When using functional style, there is often the need to create small specific functions that perform a limited task as input to a HOF such as map or filter. In such cases, these functions are often written as anonymous or lambda functions. \n",
    "The syntax is as follows:\n",
    "\n",
    "lambda *arguments* : *expression*\n",
    "\n",
    "\n",
    "If you find it hard to understand what a lambda function is doing, it should probably be rewritten as a regular function."
   ]
  },
  {
   "cell_type": "code",
   "execution_count": 20,
   "metadata": {},
   "outputs": [
    {
     "data": {
      "text/plain": [
       "7"
      ]
     },
     "execution_count": 20,
     "metadata": {},
     "output_type": "execute_result"
    }
   ],
   "source": [
    "sum = lambda x,y: x+y\n",
    "sum(3,4)"
   ]
  },
  {
   "cell_type": "code",
   "execution_count": 21,
   "metadata": {},
   "outputs": [
    {
     "name": "stdout",
     "output_type": "stream",
     "text": [
      "0\n",
      "1\n",
      "4\n",
      "9\n",
      "16\n"
     ]
    }
   ],
   "source": [
    "for i in map(lambda x: x*x, range(5)): print (i)"
   ]
  },
  {
   "cell_type": "code",
   "execution_count": 22,
   "metadata": {},
   "outputs": [
    {
     "name": "stdout",
     "output_type": "stream",
     "text": [
      "285\n"
     ]
    }
   ],
   "source": [
    "# what does this function do?\n",
    "from functools import reduce\n",
    "s1 = reduce(lambda x, y: x+y, map(lambda x: x**2, range(1,10)))\n",
    "print(s1)\n"
   ]
  },
  {
   "cell_type": "markdown",
   "metadata": {},
   "source": [
    "## Recursive functions "
   ]
  },
  {
   "cell_type": "code",
   "execution_count": 1,
   "metadata": {},
   "outputs": [
    {
     "name": "stdout",
     "output_type": "stream",
     "text": [
      "[1, 1, 2, 3, 5, 8, 13, 21, 34, 55]\n"
     ]
    }
   ],
   "source": [
    "def fib1(n):\n",
    "    \"\"\"Fib with recursion.\"\"\"\n",
    "\n",
    "    # base case\n",
    "    if n==0 or n==1:\n",
    "        return 1\n",
    "    # recurssive caae\n",
    "    else:\n",
    "        return fib1(n-1) + fib1(n-2)\n",
    "\n",
    "    \n",
    "print ([fib1(i) for i in range(10)])"
   ]
  },
  {
   "cell_type": "code",
   "execution_count": 2,
   "metadata": {},
   "outputs": [
    {
     "name": "stdout",
     "output_type": "stream",
     "text": [
      "[1, 1, 2, 3, 5, 8, 13, 21, 34, 55]\n"
     ]
    }
   ],
   "source": [
    "# In Python, a more efficient version that does not use recursion is\n",
    "\n",
    "def fib2(n):\n",
    "    \"\"\"Fib without recursion.\"\"\"\n",
    "    a, b = 0, 1\n",
    "    for i in range(1, n+1):\n",
    "        a, b = b, a+b\n",
    "    return b\n",
    "\n",
    "print ([fib2(i) for i in range(10)])"
   ]
  },
  {
   "cell_type": "code",
   "execution_count": 9,
   "metadata": {},
   "outputs": [
    {
     "name": "stdout",
     "output_type": "stream",
     "text": [
      "10000 loops, best of 3: 17.1 µs per loop\n",
      "1000000 loops, best of 3: 695 ns per loop\n"
     ]
    }
   ],
   "source": [
    "# check indeed the timing:\n",
    "\n",
    "%timeit fib1(10)\n",
    "%timeit fib2(10)\n"
   ]
  },
  {
   "cell_type": "markdown",
   "metadata": {},
   "source": [
    "## Iterators\n",
    "\n",
    "Iterators represent streams of values. Because only one value is consumed at a time, they use very little memory. Use of iterators is very helpful for working with data sets too large to fit into RAM."
   ]
  },
  {
   "cell_type": "code",
   "execution_count": null,
   "metadata": {},
   "outputs": [],
   "source": [
    "# Iterators can be created from sequences with the built-in function iter()\n",
    "\n",
    "xs = [1,2,3]\n",
    "x_iter = iter(xs)\n",
    "\n",
    "print (next(x_iter))\n",
    "print (next(x_iter))\n",
    "print (next(x_iter))\n",
    "print (next(x_iter))"
   ]
  },
  {
   "cell_type": "code",
   "execution_count": null,
   "metadata": {},
   "outputs": [],
   "source": [
    "# Most commonly, iterators are used (automatically) within a for loop\n",
    "# which terminates when it encouters a StopIteration exception\n",
    "\n",
    "x_iter = iter(xs)\n",
    "for x in x_iter:\n",
    "    print (x)"
   ]
  },
  {
   "cell_type": "markdown",
   "metadata": {},
   "source": [
    "## More on comprehensions"
   ]
  },
  {
   "cell_type": "code",
   "execution_count": null,
   "metadata": {},
   "outputs": [],
   "source": [
    "# A generator expression\n",
    "\n",
    "print ((x for x in range(10)))\n",
    "\n",
    "# A list comprehesnnion\n",
    "\n",
    "print ([x for x in range(10)])\n",
    "\n",
    "# A set comprehension\n",
    "\n",
    "print ({x for x in range(10)})\n",
    "\n",
    "# A dictionary comprehension\n",
    "\n",
    "print ({x: x for x in range(10)})"
   ]
  },
  {
   "cell_type": "markdown",
   "metadata": {},
   "source": [
    "## Useful Modules\n",
    "\n",
    "You may want to have a look at the content of the following modules for further usage of (HO) functions:\n",
    "  - [operator](https://docs.python.org/3/library/operator.html)\n",
    "  - [functools](https://docs.python.org/3/library/functools.html)\n",
    "  - [itertools](https://docs.python.org/3/library/itertools.html)\n",
    "  - [toolz](https://pypi.org/project/toolz/)\n",
    "  - [funcy](https://pypi.org/project/funcy/)"
   ]
  },
  {
   "cell_type": "markdown",
   "metadata": {},
   "source": [
    "## Decorators\n",
    "\n",
    "Decorators are a type of HOF that take a function and return a wrapped function that provides additional useful properties.\n",
    "\n",
    "Examples:\n",
    "\n",
    "  - logging\n",
    "  - profiling\n",
    "  - Just-In-Time (JIT) compilation"
   ]
  },
  {
   "cell_type": "code",
   "execution_count": 29,
   "metadata": {},
   "outputs": [],
   "source": [
    "def my_decorator(func):\n",
    "    def wrapper():\n",
    "        print(\"Something is happening before the function is called.\")\n",
    "        func()\n",
    "        print(\"Something is happening after the function is called.\")\n",
    "    return wrapper\n",
    "@my_decorator\n",
    "def say_whee():\n",
    "    print(\"Whee!\")\n",
    "\n",
    "#say_whee = my_decorator(say_whee)\n"
   ]
  },
  {
   "cell_type": "code",
   "execution_count": 30,
   "metadata": {},
   "outputs": [
    {
     "name": "stdout",
     "output_type": "stream",
     "text": [
      "Whee!\n"
     ]
    }
   ],
   "source": [
    "say_whee()"
   ]
  },
  {
   "cell_type": "markdown",
   "metadata": {},
   "source": [
    "# Classes and Objects\n",
    "\n",
    "Old school object-oriented programming is possible and often used in python. Classes are defined similarly to standard object-oriented languages, with similar functionalities.\n",
    "\n",
    "The main python doc [page](https://docs.python.org/3.6/tutorial/classes.html) is worth reading through "
   ]
  },
  {
   "cell_type": "code",
   "execution_count": null,
   "metadata": {},
   "outputs": [],
   "source": [
    "class Pet:\n",
    "    # the \"constructor\"\n",
    "    def __init__(self, name, age):\n",
    "        self.name=name\n",
    "        self.age=age\n",
    "    # class functions take the \"self\" parameter \n",
    "    def set_name(self,name):\n",
    "        self.name=name\n",
    "    def convert_age(self,factor):\n",
    "        self.age*=factor\n",
    "\n",
    "buddy=Pet(\"buddy\",12)\n",
    "print (buddy.name, buddy.age)\n",
    "buddy.convert_age(0.5)\n",
    "print (buddy.age)\n",
    "\n"
   ]
  },
  {
   "cell_type": "code",
   "execution_count": null,
   "metadata": {},
   "outputs": [],
   "source": [
    "# ineritance is straightforward\n",
    "class Dog(Pet):\n",
    "    # the following variables is \"global\", i.e. holds for all \"Dog\" objects\n",
    "    species = \"mammal\"\n",
    "    # functions can be redefined as usual\n",
    "    def convert_age(self):\n",
    "        self.age*=7\n",
    "    def set_species(self, species):\n",
    "        self.species = species\n",
    "        \n",
    "puppy=Dog(\"tobia\",10)\n",
    "print(puppy.name)\n",
    "puppy.convert_age()\n",
    "print(puppy.age)\n",
    "\n"
   ]
  },
  {
   "cell_type": "code",
   "execution_count": null,
   "metadata": {},
   "outputs": [],
   "source": []
  }
 ],
 "metadata": {
  "kernelspec": {
   "display_name": "Python 2",
   "language": "python",
   "name": "python2"
  },
  "language_info": {
   "codemirror_mode": {
    "name": "ipython",
    "version": 2
   },
   "file_extension": ".py",
   "mimetype": "text/x-python",
   "name": "python",
   "nbconvert_exporter": "python",
   "pygments_lexer": "ipython2",
   "version": "2.7.14"
  }
 },
 "nbformat": 4,
 "nbformat_minor": 2
}
