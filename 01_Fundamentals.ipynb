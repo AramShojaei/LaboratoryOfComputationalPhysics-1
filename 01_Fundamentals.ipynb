{
 "cells": [
  {
   "cell_type": "markdown",
   "metadata": {},
   "source": [
    "# Modules/packages/libraries\n",
    "\n",
    "Definitions:\n",
    "\n",
    "  * Modules:\n",
    "  A module is a file which contains python functions, global variables etc. It is nothing but .py file which has python executable code / statement.\n",
    "\n",
    "  * Packages:\n",
    "  A package is namespace which contains multiple package/modules. It is a directory which contains a special file `__init__.py`\n",
    "  \n",
    "  * Libraries:\n",
    "  A library is a collection of various packages. There is no difference between package and python library conceptually.\n",
    "  \n",
    "Modules/packages/libraries can be easily \"imported\" and made functional in your python code. A set of libriaries comes with every python installation. Others can be installed locally and then imported. Your own code sitting somewhere else in your local computer can be imported too.\n",
    "\n",
    "Further details (very important!) on packages and how to create them can be found online. We may find the need of creating our own during the course."
   ]
  },
  {
   "cell_type": "code",
   "execution_count": 3,
   "metadata": {},
   "outputs": [
    {
     "name": "stdout",
     "output_type": "stream",
     "text": [
      "3.141592653589793\n",
      "3.141592653589793\n",
      "3.141592653589793\n",
      "2.6457513110645907\n"
     ]
    }
   ],
   "source": [
    "###### all the \"stuff\" that is in the math library can be used\n",
    "import math\n",
    "print(math.pi)\n",
    "\n",
    "# you can give math a label for convenience\n",
    "import math as m\n",
    "print (m.pi)\n",
    "\n",
    "# alternatively you can import only a given \"thing\" from the library\n",
    "from math import pi    #se ci metto una virgola e altre cose, le importa\n",
    "print (pi)\n",
    "\n",
    "# or just get everything (very dangerous!!!)\n",
    "from math import * #scomodo perché magari importa roba con un nome specifico che non posso più usare, ma non conoscendole non me ne accorgo\n",
    "print (sqrt(7))"
   ]
  },
  {
   "cell_type": "markdown",
   "metadata": {},
   "source": [
    "To know which modules are there for you to use just type:"
   ]
  },
  {
   "cell_type": "code",
   "execution_count": 4,
   "metadata": {},
   "outputs": [
    {
     "name": "stdout",
     "output_type": "stream",
     "text": [
      "\n",
      "Please wait a moment while I gather a list of all available modules...\n",
      "\n"
     ]
    },
    {
     "name": "stderr",
     "output_type": "stream",
     "text": [
      "C:\\Users\\Mohammad\\Anaconda3\\lib\\site-packages\\IPython\\kernel\\__init__.py:13: ShimWarning: The `IPython.kernel` package has been deprecated since IPython 4.0.You should import from ipykernel or jupyter_client instead.\n",
      "  \"You should import from ipykernel or jupyter_client instead.\", ShimWarning)\n",
      "WARNING: AstropyDeprecationWarning: astropy.utils.compat.futures is now deprecated - use concurrent.futures instead [astropy.utils.compat.futures]\n",
      "C:\\Users\\Mohammad\\Anaconda3\\lib\\site-packages\\odo\\backends\\pandas.py:102: FutureWarning: pandas.tslib is deprecated and will be removed in a future version.\n",
      "You can access NaTType as type(pandas.NaT)\n",
      "  @convert.register((pd.Timestamp, pd.Timedelta), (pd.tslib.NaTType, type(None)))\n"
     ]
    },
    {
     "name": "stdout",
     "output_type": "stream",
     "text": [
      "DEBUG:matplotlib.pyplot:Loaded backend module://ipykernel.pylab.backend_inline version unknown.\n"
     ]
    },
    {
     "name": "stderr",
     "output_type": "stream",
     "text": [
      "C:\\Users\\Mohammad\\Anaconda3\\lib\\site-packages\\nltk\\twitter\\__init__.py:20: UserWarning: The twython library has not been installed. Some functionality from the twitter package will not be available.\n",
      "  warnings.warn(\"The twython library has not been installed. \"\n"
     ]
    },
    {
     "name": "stdout",
     "output_type": "stream",
     "text": [
      "DEBUG:pip._internal.vcs:Registered VCS backend: git\n",
      "DEBUG:pip._internal.vcs:Registered VCS backend: hg\n",
      "DEBUG:pip._internal.vcs:Registered VCS backend: svn\n",
      "DEBUG:pip._internal.vcs:Registered VCS backend: bzr\n"
     ]
    },
    {
     "name": "stderr",
     "output_type": "stream",
     "text": [
      "C:\\Users\\Mohammad\\Anaconda3\\lib\\site-packages\\skimage\\novice\\__init__.py:103: UserWarning: The `skimage.novice` module was deprecated in version 0.14. It will be removed in 0.16.\n",
      "  warnings.warn(\"The `skimage.novice` module was deprecated in version 0.14. \"\n",
      "C:\\Users\\Mohammad\\Anaconda3\\lib\\site-packages\\skimage\\viewer\\utils\\core.py:10: UserWarning: Recommended matplotlib backend is `Agg` for full skimage.viewer functionality.\n",
      "  warn(\"Recommended matplotlib backend is `Agg` for full \"\n",
      "C:\\Users\\Mohammad\\Anaconda3\\lib\\site-packages\\sphinx\\websupport\\__init__.py:25: RemovedInSphinx20Warning: sphinx.websupport module is now provided as sphinxcontrib-websupport. sphinx.websupport will be removed at Sphinx-2.0. Please use the package instead.\n",
      "  RemovedInSphinx20Warning)\n",
      "C:\\Users\\Mohammad\\Anaconda3\\lib\\site-packages\\qtawesome\\iconic_font.py:276: UserWarning: You need to have a running QApplication to use QtAwesome!\n",
      "  warnings.warn(\"You need to have a running \"\n",
      "C:\\Users\\Mohammad\\Anaconda3\\lib\\pkgutil.py:107: VisibleDeprecationWarning: zmq.eventloop.minitornado is deprecated in pyzmq 14.0 and will be removed.\n",
      "    Install tornado itself to use zmq with the tornado IOLoop.\n",
      "    \n",
      "  yield from walk_packages(path, info.name+'.', onerror)\n"
     ]
    },
    {
     "name": "stdout",
     "output_type": "stream",
     "text": [
      "Crypto              builtins            matplotlib          sortedcollections\n",
      "Cython              bz2                 mccabe              sortedcontainers\n",
      "IPython             cProfile            menuinst            sphinx\n",
      "OpenSSL             calendar            mimetypes           sphinxcontrib\n",
      "PIL                 certifi             mistune             spyder\n",
      "PyQt5               cffi                mkl                 spyder_breakpoints\n",
      "__future__          cgi                 mkl_fft             spyder_io_dcm\n",
      "_abc                cgitb               mkl_random          spyder_io_hdf5\n",
      "_ast                chardet             mmap                spyder_kernels\n",
      "_ast27              chunk               mmapfile            spyder_profiler\n",
      "_ast3               click               mmsystem            spyder_pylint\n",
      "_asyncio            cloudpickle         modulefinder        sqlalchemy\n",
      "_bisect             clyent              more_itertools      sqlite3\n",
      "_blake2             cmath               mpmath              sre_compile\n",
      "_bootlocale         cmd                 msgpack             sre_constants\n",
      "_bz2                code                msilib              sre_parse\n",
      "_cffi_backend       codecs              msvcrt              ssl\n",
      "_codecs             codeop              multipledispatch    sspi\n",
      "_codecs_cn          collections         multiprocessing     sspicon\n",
      "_codecs_hk          colorama            navigator_updater   stat\n",
      "_codecs_iso2022     colorsys            nbconvert           statistics\n",
      "_codecs_jp          commctrl            nbformat            statsmodels\n",
      "_codecs_kr          compileall          netbios             storemagic\n",
      "_codecs_tw          comtypes            netrc               string\n",
      "_collections        concurrent          networkx            stringprep\n",
      "_collections_abc    conda               nltk                struct\n",
      "_compat_pickle      conda_build         nntplib             subprocess\n",
      "_compression        conda_env           nose                sunau\n",
      "_contextvars        conda_verify        notebook            symbol\n",
      "_csv                configparser        nt                  sympy\n",
      "_ctypes             constantly          ntpath              sympyprinting\n",
      "_ctypes_test        contextlib          ntsecuritycon       symtable\n",
      "_datetime           contextlib2         nturl2path          sys\n",
      "_decimal            contextvars         numba               sysconfig\n",
      "_distutils_findvs   copy                numbers             tables\n",
      "_dummy_thread       copyreg             numexpr             tabnanny\n",
      "_elementtree        crypt               numpy               tarfile\n",
      "_functools          cryptography        numpydoc            tblib\n",
      "_hashlib            csv                 odbc                telnetlib\n",
      "_heapq              ctypes              odo                 tempfile\n",
      "_imp                curl                olefile             tensorflow\n",
      "_io                 curses              opcode              terminado\n",
      "_json               cwp                 openpyxl            test\n",
      "_locale             cycler              operator            test_path\n",
      "_lsprof             cython              optparse            test_pycosat\n",
      "_lzma               cythonmagic         os                  testpath\n",
      "_markupbase         cytoolz             packaging           tests\n",
      "_md5                dask                pandas              textwrap\n",
      "_msi                dataclasses         pandocfilters       this\n",
      "_multibytecodec     datashape           parser              threading\n",
      "_multiprocessing    datetime            parso               time\n",
      "_nsis               dateutil            partd               timeit\n",
      "_opcode             dbi                 past                timer\n",
      "_operator           dbm                 path                tkinter\n",
      "_osx_support        dde                 pathlib             tlz\n",
      "_overlapped         decimal             pathlib2            token\n",
      "_pickle             decorator           patsy               tokenize\n",
      "_py_abc             defusedxml          pdb                 toolz\n",
      "_pydecimal          difflib             pep8                tornado\n",
      "_pyio               dis                 perfmon             tqdm\n",
      "_pytest             distributed         pickle              trace\n",
      "_queue              distutils           pickleshare         traceback\n",
      "_random             doctest             pickletools         tracemalloc\n",
      "_sha1               docutils            pip                 traitlets\n",
      "_sha256             dummy_threading     pipes               tty\n",
      "_sha3               easy_install        pkg_resources       turtle\n",
      "_sha512             email               pkginfo             turtledemo\n",
      "_signal             encodings           pkgutil             twisted\n",
      "_sitebuiltins       ensurepip           platform            typed_ast\n",
      "_socket             entrypoints         plistlib            types\n",
      "_sqlite3            enum                pluggy              typing\n",
      "_sre                errno               ply                 unicodecsv\n",
      "_ssl                et_xmlfile          poplib              unicodedata\n",
      "_stat               fastcache           posixpath           unittest\n",
      "_string             faulthandler        pprint              urllib\n",
      "_strptime           filecmp             profile             urllib3\n",
      "_struct             fileinput           prometheus_client   uu\n",
      "_symtable           filelock            prompt_toolkit      uuid\n",
      "_system_path        flask               pstats              venv\n",
      "_testbuffer         flask_cors          psutil              warnings\n",
      "_testcapi           fnmatch             pty                 wave\n",
      "_testconsole        formatter           py                  wcwidth\n",
      "_testimportmultiple fractions           py_compile          weakref\n",
      "_testmultiphase     ftplib              pyasn1              webbrowser\n",
      "_thread             functools           pyasn1_modules      webencodings\n",
      "_threading_local    future              pyclbr              werkzeug\n",
      "_tkinter            gc                  pycodestyle         wheel\n",
      "_tracemalloc        genericpath         pycosat             widgetsnbextension\n",
      "_warnings           getopt              pycparser           win2kras\n",
      "_weakref            getpass             pycurl              win32api\n",
      "_weakrefset         gettext             pydoc               win32clipboard\n",
      "_win32sysloader     gevent              pydoc_data          win32com\n",
      "_winapi             glob                pyexpat             win32con\n",
      "_winxptheme         glob2               pyflakes            win32console\n",
      "_yaml               greenlet            pygments            win32cred\n",
      "abc                 gzip                pylab               win32crypt\n",
      "adodbapi            h5py                pylint              win32cryptcon\n",
      "afxres              hamcrest            pyodbc              win32event\n",
      "aifc                hashlib             pyparsing           win32evtlog\n",
      "alabaster           heapdict            pytest              win32evtlogutil\n",
      "anaconda_navigator  heapq               pytest_arraydiff    win32file\n",
      "anaconda_project    hmac                pytest_doctestplus  win32gui\n",
      "antigravity         html                pytest_openfiles    win32gui_struct\n",
      "appdirs             html5lib            pytest_remotedata   win32help\n",
      "argparse            http                pythoncom           win32inet\n",
      "array               hyperlink           pytz                win32inetcon\n",
      "asn1crypto          idlelib             pywin               win32job\n",
      "ast                 idna                pywin32_testutil    win32lz\n",
      "astroid             imageio             pywintypes          win32net\n",
      "astropy             imagesize           pywt                win32netcon\n",
      "asynchat            imaplib             pyximport           win32pdh\n",
      "asyncio             imghdr              qtawesome           win32pdhquery\n",
      "asyncore            imp                 qtconsole           win32pdhutil\n",
      "atexit              importlib           qtpy                win32pipe\n",
      "atomicwrites        importlib_metadata  queue               win32print\n",
      "attr                incremental         quopri              win32process\n",
      "audioop             inspect             random              win32profile\n",
      "automat             io                  rasutil             win32ras\n",
      "autoreload          ipaddress           re                  win32rcparser\n",
      "babel               ipykernel           regcheck            win32security\n",
      "backcall            ipykernel_launcher  regutil             win32service\n",
      "backports           ipython_genutils    reprlib             win32serviceutil\n",
      "base64              ipywidgets          requests            win32timezone\n",
      "bdb                 isapi               rlcompleter         win32trace\n",
      "binascii            isort               rmagic              win32traceutil\n",
      "binhex              isympy              rope                win32transaction\n",
      "binstar_client      itertools           ruamel_yaml         win32ts\n",
      "bisect              itsdangerous        run                 win32ui\n",
      "bitarray            jdcal               runpy               win32uiole\n",
      "bkcharts            jedi                sched               win32verstamp\n",
      "blaze               jinja2              scipy               win32wnet\n",
      "bleach              json                scripts             win_inet_pton\n",
      "bokeh               jsonschema          seaborn             win_unicode_console\n",
      "boto                jupyter             secrets             wincertstore\n",
      "bottleneck          jupyter_client      select              winerror\n",
      "brain_attrs         jupyter_console     selectors           winioctlcon\n",
      "brain_builtin_inference jupyter_core        send2trash          winnt\n",
      "brain_collections   jupyterlab          service_identity    winperf\n",
      "brain_curses        jupyterlab_launcher servicemanager      winpty\n",
      "brain_dateutil      jupyterlab_server   setuptools          winreg\n",
      "brain_fstrings      keyring             shelve              winsound\n",
      "brain_functools     keyword             shlex               winxpgui\n",
      "brain_gi            kiwisolver          shutil              winxptheme\n",
      "brain_hashlib       lazy_object_proxy   signal              wrapt\n",
      "brain_io            lib2to3             simplegeneric       wsgiref\n",
      "brain_mechanize     libarchive          singledispatch      xdrlib\n",
      "brain_multiprocessing libfuturize         singledispatch_helpers xlrd\n",
      "brain_namedtuple_enum libpasteurize       sip                 xlsxwriter\n",
      "brain_nose          linecache           sipconfig           xlwings\n",
      "brain_numpy         llvmlite            sipdistutils        xlwt\n",
      "brain_pkg_resources locale              site                xml\n",
      "brain_pytest        locket              six                 xmlrpc\n",
      "brain_qt            logging             skimage             xxsubtype\n",
      "brain_random        lxml                sklearn             yaml\n",
      "brain_re            lzma                smtpd               zict\n",
      "brain_six           macpath             smtplib             zipapp\n",
      "brain_ssl           mailbox             sndhdr              zipfile\n",
      "brain_subprocess    mailcap             snowballstemmer     zipimport\n",
      "brain_threading     markdown            socket              zlib\n",
      "brain_typing        markupsafe          socketserver        zmq\n",
      "brain_uuid          marshal             socks               zope\n",
      "bs4                 math                sockshandler        \n",
      "\n",
      "Enter any module name to get more help.  Or, type \"modules spam\" to search\n",
      "for modules whose name or summary contain the string \"spam\".\n",
      "\n",
      "None\n",
      "DEBUG:matplotlib.pyplot:Loaded backend module://ipykernel.pylab.backend_inline version unknown.\n"
     ]
    }
   ],
   "source": [
    "print (help('modules') )"
   ]
  },
  {
   "cell_type": "markdown",
   "metadata": {},
   "source": [
    "`pip` is a special package. It is used from the command line to install properly (e.g. matching the version of the local packages) new packages. It can also be used from within python to check i.e. the set installed packages and their versions. N.B.: only the installed packages on top of the default ones will be listed "
   ]
  },
  {
   "cell_type": "code",
   "execution_count": 5,
   "metadata": {},
   "outputs": [
    {
     "ename": "AttributeError",
     "evalue": "module 'pip' has no attribute 'get_installed_distributions'",
     "output_type": "error",
     "traceback": [
      "\u001b[1;31m---------------------------------------------------------------------------\u001b[0m",
      "\u001b[1;31mAttributeError\u001b[0m                            Traceback (most recent call last)",
      "\u001b[1;32m<ipython-input-5-b91e9c983804>\u001b[0m in \u001b[0;36m<module>\u001b[1;34m\u001b[0m\n\u001b[0;32m      1\u001b[0m \u001b[1;32mimport\u001b[0m \u001b[0mpip\u001b[0m\u001b[1;33m\u001b[0m\u001b[1;33m\u001b[0m\u001b[0m\n\u001b[1;32m----> 2\u001b[1;33m \u001b[0msorted\u001b[0m\u001b[1;33m(\u001b[0m\u001b[1;33m[\u001b[0m\u001b[1;34m\"%s==%s\"\u001b[0m \u001b[1;33m%\u001b[0m \u001b[1;33m(\u001b[0m\u001b[0mi\u001b[0m\u001b[1;33m.\u001b[0m\u001b[0mkey\u001b[0m\u001b[1;33m,\u001b[0m \u001b[0mi\u001b[0m\u001b[1;33m.\u001b[0m\u001b[0mversion\u001b[0m\u001b[1;33m)\u001b[0m \u001b[1;32mfor\u001b[0m \u001b[0mi\u001b[0m \u001b[1;32min\u001b[0m \u001b[0mpip\u001b[0m\u001b[1;33m.\u001b[0m\u001b[0mget_installed_distributions\u001b[0m\u001b[1;33m(\u001b[0m\u001b[1;33m)\u001b[0m\u001b[1;33m]\u001b[0m\u001b[1;33m)\u001b[0m\u001b[1;33m\u001b[0m\u001b[1;33m\u001b[0m\u001b[0m\n\u001b[0m",
      "\u001b[1;31mAttributeError\u001b[0m: module 'pip' has no attribute 'get_installed_distributions'"
     ]
    }
   ],
   "source": [
    "import pip\n",
    "sorted([\"%s==%s\" % (i.key, i.version) for i in pip.get_installed_distributions()])"
   ]
  },
  {
   "cell_type": "markdown",
   "metadata": {},
   "source": [
    "# Functions"
   ]
  },
  {
   "cell_type": "code",
   "execution_count": 2,
   "metadata": {},
   "outputs": [
    {
     "name": "stdout",
     "output_type": "stream",
     "text": [
      "4\n",
      "8\n",
      "cube 8\n",
      "square 4\n"
     ]
    }
   ],
   "source": [
    "def square(x):\n",
    "    \"\"\"Square of x.\"\"\"\n",
    "    return x*x\n",
    "\n",
    "def cube(x):\n",
    "    \"\"\"Cube of x.\"\"\"\n",
    "    return x*x*x\n",
    "\n",
    "# create a dictionary of functions\n",
    "funcs = {\n",
    "    'square': square,\n",
    "    'cube': cube,\n",
    "}\n",
    "\n",
    "x = 2\n",
    "print(square(x))\n",
    "print(cube(x))\n",
    "\n",
    "for func in sorted(funcs):\n",
    "    print (func, funcs[func](x))"
   ]
  },
  {
   "cell_type": "markdown",
   "metadata": {},
   "source": [
    "## Functions arguments"
   ]
  },
  {
   "cell_type": "markdown",
   "metadata": {},
   "source": [
    "what is passsed to a function is a copy of the input. Imagine we have a list *x =[1, 2, 3]*. If within the function the content of *x* is directly changed (e.g. *x[0] = 999*), then *x* chanes outside the funciton as well. However, if *x* is reassigned within the function to a new object (e.g. another list), then the copy of the name *x* now points to the new object, but *x* outside the function is unhcanged."
   ]
  },
  {
   "cell_type": "code",
   "execution_count": 7,
   "metadata": {},
   "outputs": [
    {
     "name": "stdout",
     "output_type": "stream",
     "text": [
      "[1, 2, 3]\n",
      "[999, 2, 3]\n",
      "[999, 2, 3]\n"
     ]
    }
   ],
   "source": [
    "def modify(x):\n",
    "    x[0] = 999\n",
    "    return x\n",
    "\n",
    "x = [1,2,3]\n",
    "print (x)\n",
    "print (modify(x))\n",
    "print (x)"
   ]
  },
  {
   "cell_type": "code",
   "execution_count": 8,
   "metadata": {},
   "outputs": [
    {
     "name": "stdout",
     "output_type": "stream",
     "text": [
      "[1, 2, 3]\n",
      "[4, 5, 6]\n",
      "[1, 2, 3]\n"
     ]
    }
   ],
   "source": [
    "def no_modify(x):\n",
    "    x = [4,5,6]\n",
    "    return x\n",
    "\n",
    "x = [1,2,3]\n",
    "print (x)\n",
    "print (no_modify(x))\n",
    "print (x)\n"
   ]
  },
  {
   "cell_type": "markdown",
   "metadata": {},
   "source": [
    "La prima funzione riassegna al \"\"\"\"\"puntatore\"\"\"\"\" a x[0] un numero nuovo, che quindi è cambiato per sempre. !! se provassi a farlo con una variabile semplice (un numero) non funzionerebbe"
   ]
  },
  {
   "cell_type": "markdown",
   "metadata": {},
   "source": [
    "Binding of default arguments occurs at function definition:"
   ]
  },
  {
   "cell_type": "code",
   "execution_count": 9,
   "metadata": {},
   "outputs": [
    {
     "name": "stdout",
     "output_type": "stream",
     "text": [
      "[1]\n",
      "[1, 1]\n",
      "[9, 9, 9, 1]\n",
      "[1, 1, 1]\n",
      "[1, 1, 1, 1]\n"
     ]
    }
   ],
   "source": [
    "def f(x = []):\n",
    "    x.append(1)\n",
    "    return x\n",
    "\n",
    "print (f())\n",
    "print (f())\n",
    "print (f(x = [9,9,9]))\n",
    "print (f())\n",
    "print (f())"
   ]
  },
  {
   "cell_type": "markdown",
   "metadata": {},
   "source": [
    "Try to aviod that!!"
   ]
  },
  {
   "cell_type": "code",
   "execution_count": 10,
   "metadata": {},
   "outputs": [
    {
     "name": "stdout",
     "output_type": "stream",
     "text": [
      "[1]\n",
      "[1]\n",
      "[9, 9, 9, 1]\n",
      "[1]\n",
      "[1]\n"
     ]
    }
   ],
   "source": [
    "def f(x = None):\n",
    "    if x is None:\n",
    "        x = []\n",
    "    x.append(1)\n",
    "    return x\n",
    "\n",
    "print (f())\n",
    "print (f())\n",
    "print (f(x = [9,9,9]))\n",
    "print (f())\n",
    "print (f())"
   ]
  },
  {
   "cell_type": "markdown",
   "metadata": {},
   "source": [
    "## Higher order functions\n",
    "\n",
    "A function that uses another function as an input argument or returns a function (HOF) is known as a higher-order function. The most familiar examples are `map` and `filter`."
   ]
  },
  {
   "cell_type": "markdown",
   "metadata": {},
   "source": [
    "### map\n",
    "\n",
    "The map function applies a function to each member of a collection"
   ]
  },
  {
   "cell_type": "code",
   "execution_count": 3,
   "metadata": {},
   "outputs": [
    {
     "name": "stdout",
     "output_type": "stream",
     "text": [
      "[0, 1, 4, 9, 16]\n",
      "0\n",
      "1\n",
      "4\n",
      "9\n",
      "16\n"
     ]
    }
   ],
   "source": [
    "x = list(map(square, range(5))) \n",
    "print (x)\n",
    "\n",
    "# Note the difference w.r.t python 2. In python 3 map retuns an iterator so you can do stuff like:\n",
    "for i in map(square,range(5)): print(i)"
   ]
  },
  {
   "cell_type": "markdown",
   "metadata": {},
   "source": [
    "### filter\n",
    "\n",
    "The filter function applies a predicate to each memmber of a collection, retaining only those members where the predicate is True"
   ]
  },
  {
   "cell_type": "code",
   "execution_count": 14,
   "metadata": {},
   "outputs": [
    {
     "name": "stdout",
     "output_type": "stream",
     "text": [
      "[0, 2, 4]\n",
      "[True, False, True, False, True]\n"
     ]
    }
   ],
   "source": [
    "def is_even(x):\n",
    "    return x%2 == 0\n",
    "\n",
    "print (list(filter(is_even, range(5))))\n",
    "print (list(map(is_even, range(5))))"
   ]
  },
  {
   "cell_type": "code",
   "execution_count": 13,
   "metadata": {},
   "outputs": [
    {
     "data": {
      "text/plain": [
       "[0, 4, 16]"
      ]
     },
     "execution_count": 13,
     "metadata": {},
     "output_type": "execute_result"
    }
   ],
   "source": [
    "list(map(square, filter(is_even, range(5))))\n"
   ]
  },
  {
   "cell_type": "markdown",
   "metadata": {},
   "source": [
    "### reduce\n",
    "\n",
    "The reduce function reduces a collection using a binary operator to combine items two at a time. More often than not reduce can be substituted with a more efficient for loop. It is worth mentioning it for its key role in big-data applications together with map (the map-reduce paradigm). \n",
    "N.B.: it no loger exist in python 3, it is now part of the `functools` library"
   ]
  },
  {
   "cell_type": "code",
   "execution_count": 15,
   "metadata": {},
   "outputs": [
    {
     "data": {
      "text/plain": [
       "15"
      ]
     },
     "execution_count": 15,
     "metadata": {},
     "output_type": "execute_result"
    }
   ],
   "source": [
    "from functools import reduce\n",
    "\n",
    "def my_add(x, y):\n",
    "    return x + y\n",
    "\n",
    "# another implementation of the sum function\n",
    "reduce(my_add, [1,2,3,4,5])"
   ]
  },
  {
   "cell_type": "markdown",
   "metadata": {},
   "source": [
    "### zip\n",
    "\n",
    "zip is useful when you need to iterate over matched elements of multiple lists"
   ]
  },
  {
   "cell_type": "code",
   "execution_count": 16,
   "metadata": {},
   "outputs": [
    {
     "name": "stdout",
     "output_type": "stream",
     "text": [
      "1 10 a\n",
      "2 20 b\n",
      "3 30 c\n",
      "4 40 d\n"
     ]
    }
   ],
   "source": [
    "xs = [1, 2, 3, 4]\n",
    "ys = [10, 20, 30, 40]\n",
    "zs = ['a', 'b', 'c', 'd', 'e']\n",
    "\n",
    "for x, y, z in zip(xs, ys, zs):\n",
    "    print (x, y, z)"
   ]
  },
  {
   "cell_type": "markdown",
   "metadata": {},
   "source": [
    "### Custom HOF"
   ]
  },
  {
   "cell_type": "code",
   "execution_count": null,
   "metadata": {},
   "outputs": [],
   "source": [
    "def custom_sum(xs, transform):\n",
    "    \"\"\"Returns the sum of xs after a user specified transform.\"\"\"\n",
    "    return sum(map(transform, xs))\n",
    "\n",
    "xs = range(5)\n",
    "print (custom_sum(xs, square))\n",
    "print (custom_sum(xs, cube))\n",
    "\n"
   ]
  },
  {
   "cell_type": "markdown",
   "metadata": {},
   "source": [
    "### Returning a function"
   ]
  },
  {
   "cell_type": "code",
   "execution_count": null,
   "metadata": {},
   "outputs": [],
   "source": [
    "def make_logger(target):\n",
    "    def logger(data):\n",
    "        with open(target, 'a') as f:\n",
    "            f.write(data + '\\n')\n",
    "    return logger\n",
    "\n",
    "foo_logger = make_logger('foo.txt') #foo.txt verrà creato se non esiste già\n",
    "foo_logger('Hello')\n",
    "foo_logger('World')"
   ]
  },
  {
   "cell_type": "code",
   "execution_count": null,
   "metadata": {},
   "outputs": [],
   "source": [
    "! type 'foo.txt'"
   ]
  },
  {
   "cell_type": "markdown",
   "metadata": {},
   "source": [
    "## Anonimous functions (lambda)\n",
    "\n",
    "When using functional style, there is often the need to create small specific functions that perform a limited task as input to a HOF such as map or filter. In such cases, these functions are often written as anonymous or lambda functions. \n",
    "The syntax is as follows:\n",
    "\n",
    "lambda *arguments* : *expression*\n",
    "\n",
    "\n",
    "If you find it hard to understand what a lambda function is doing, it should probably be rewritten as a regular function."
   ]
  },
  {
   "cell_type": "code",
   "execution_count": null,
   "metadata": {},
   "outputs": [],
   "source": [
    "sum = lambda x,y: x+y\n",
    "sum(3,4)"
   ]
  },
  {
   "cell_type": "code",
   "execution_count": null,
   "metadata": {},
   "outputs": [],
   "source": [
    "for i in map(lambda x: x*x, range(5)): print (i)"
   ]
  },
  {
   "cell_type": "code",
   "execution_count": null,
   "metadata": {},
   "outputs": [],
   "source": [
    "# what does this function do?\n",
    "from functools import reduce\n",
    "s1 = reduce(lambda x, y: x+y, map(lambda x: x**2, range(1,10))) #reduce serve a sommare tutte le coppie\n",
    "print(s1)\n"
   ]
  },
  {
   "cell_type": "markdown",
   "metadata": {},
   "source": [
    "## Recursive functions "
   ]
  },
  {
   "cell_type": "code",
   "execution_count": null,
   "metadata": {},
   "outputs": [],
   "source": [
    "def fib1(n):\n",
    "    \"\"\"Fib with recursion.\"\"\"\n",
    "\n",
    "    # base case\n",
    "    if n==0 or n==1:\n",
    "        return 1\n",
    "    # recurssive case\n",
    "    else:\n",
    "        return fib1(n-1) + fib1(n-2)\n",
    "\n",
    "    \n",
    "print ([fib1(i) for i in range(10)])"
   ]
  },
  {
   "cell_type": "code",
   "execution_count": null,
   "metadata": {},
   "outputs": [],
   "source": [
    "# In Python, a more efficient version that does not use recursion is\n",
    "\n",
    "def fib2(n):\n",
    "    \"\"\"Fib without recursion.\"\"\"\n",
    "    a, b = 0, 1\n",
    "    for i in range(1, n+1):\n",
    "        a, b = b, a+b\n",
    "    return b\n",
    "\n",
    "print ([fib2(i) for i in range(10)])"
   ]
  },
  {
   "cell_type": "code",
   "execution_count": null,
   "metadata": {},
   "outputs": [],
   "source": [
    "# check indeed the timing:\n",
    "\n",
    "%timeit fib1(20)\n",
    "%timeit fib2(20)\n"
   ]
  },
  {
   "cell_type": "markdown",
   "metadata": {},
   "source": [
    "## Iterators\n",
    "\n",
    "Iterators represent streams of values. Because only one value is consumed at a time, they use very little memory. Use of iterators is very helpful for working with data sets too large to fit into RAM."
   ]
  },
  {
   "cell_type": "code",
   "execution_count": null,
   "metadata": {},
   "outputs": [],
   "source": [
    "# Iterators can be created from sequences with the built-in function iter()\n",
    "\n",
    "xs = [1,2,3]\n",
    "x_iter = iter(xs)\n",
    "\n",
    "print (next(x_iter))\n",
    "print (next(x_iter))\n",
    "print (next(x_iter))\n",
    "print (next(x_iter))"
   ]
  },
  {
   "cell_type": "code",
   "execution_count": null,
   "metadata": {},
   "outputs": [],
   "source": [
    "# Most commonly, iterators are used (automatically) within a for loop\n",
    "# which terminates when it encouters a StopIteration exception\n",
    "\n",
    "x_iter = iter(xs)\n",
    "for x in x_iter:\n",
    "    print (x)"
   ]
  },
  {
   "cell_type": "markdown",
   "metadata": {},
   "source": [
    "## More on comprehensions"
   ]
  },
  {
   "cell_type": "code",
   "execution_count": null,
   "metadata": {},
   "outputs": [],
   "source": [
    "# A generator expression\n",
    "\n",
    "print ((x for x in range(10)))\n",
    "\n",
    "# A list comprehesnnion\n",
    "\n",
    "print ([x for x in range(10)])\n",
    "\n",
    "# A set comprehension\n",
    "\n",
    "print ({x for x in range(10)})\n",
    "\n",
    "# A dictionary comprehension\n",
    "\n",
    "print ({x: x for x in range(10)})"
   ]
  },
  {
   "cell_type": "markdown",
   "metadata": {},
   "source": [
    "## Useful Modules\n",
    "\n",
    "You may want to have a look at the content of the following modules for further usage of (HO) functions:\n",
    "  - [operator](https://docs.python.org/3/library/operator.html)\n",
    "  - [functools](https://docs.python.org/3/library/functools.html)\n",
    "  - [itertools](https://docs.python.org/3/library/itertools.html)\n",
    "  - [toolz](https://pypi.org/project/toolz/)\n",
    "  - [funcy](https://pypi.org/project/funcy/)"
   ]
  },
  {
   "cell_type": "markdown",
   "metadata": {},
   "source": [
    "## Decorators\n",
    "\n",
    "Decorators are a type of HOF that take a function and return a wrapped function that provides additional useful properties.\n",
    "\n",
    "Examples:\n",
    "\n",
    "  - logging\n",
    "  - profiling\n",
    "  - Just-In-Time (JIT) compilation"
   ]
  },
  {
   "cell_type": "code",
   "execution_count": null,
   "metadata": {},
   "outputs": [],
   "source": [
    "def my_decorator(func):\n",
    "    def wrapper():\n",
    "        print(\"Something is happening before the function is called.\")\n",
    "        func()\n",
    "        print(\"Something is happening after the function is called.\")\n",
    "    return wrapper\n",
    "\n",
    "def say_whee():\n",
    "    print(\"Whee!\")\n",
    "\n",
    "say_whee = my_decorator(say_whee)"
   ]
  },
  {
   "cell_type": "code",
   "execution_count": null,
   "metadata": {},
   "outputs": [],
   "source": [
    "say_whee()"
   ]
  },
  {
   "cell_type": "markdown",
   "metadata": {},
   "source": [
    "# Classes and Objects\n",
    "\n",
    "Old school object-oriented programming is possible and often used in python. Classes are defined similarly to standard object-oriented languages, with similar functionalities.\n",
    "\n",
    "The main python doc [page](https://docs.python.org/3.6/tutorial/classes.html) is worth reading through "
   ]
  },
  {
   "cell_type": "code",
   "execution_count": null,
   "metadata": {},
   "outputs": [],
   "source": [
    "class Pet:\n",
    "    # the \"constructor\"\n",
    "    def __init__(self, name, age):  #inizializza gli elementi delle classe Pet\n",
    "        self.name=name\n",
    "        self.age=age\n",
    "    # class functions take the \"self\" parameter !!!\n",
    "    def set_name(self,name):\n",
    "        self.name=name\n",
    "    def convert_age(self,factor):\n",
    "        self.age*=factor\n",
    "\n",
    "buddy=Pet(\"buddy\",12)\n",
    "print (buddy.name, buddy.age)\n",
    "buddy.age=3\n",
    "print (buddy.age)\n",
    "\n"
   ]
  },
  {
   "cell_type": "code",
   "execution_count": null,
   "metadata": {},
   "outputs": [],
   "source": [
    "# ineritance is straightforward\n",
    "class Dog(Pet):\n",
    "    # the following variables is \"global\", i.e. holds for all \"Dog\" objects\n",
    "    species = \"mammal\"\n",
    "    # functions can be redefined as usual\n",
    "    def convert_age(self):\n",
    "        self.age*=7\n",
    "    def set_species(self, species):\n",
    "        self.species = species\n",
    "        \n",
    "puppy=Dog(\"tobia\",10)\n",
    "print(puppy.name)\n",
    "puppy.convert_age()\n",
    "print(puppy.age)\n",
    "\n"
   ]
  },
  {
   "cell_type": "markdown",
   "metadata": {},
   "source": [
    "! tenere le def delle funzioni dentro la classe mi permette di riferirmi alle proprietà della classe"
   ]
  },
  {
   "cell_type": "markdown",
   "metadata": {},
   "source": [
    "! sono come struct, ma che prima definisci e poi riempi"
   ]
  },
  {
   "cell_type": "code",
   "execution_count": null,
   "metadata": {},
   "outputs": [],
   "source": []
  }
 ],
 "metadata": {
  "kernelspec": {
   "display_name": "Python 3",
   "language": "python",
   "name": "python3"
  },
  "language_info": {
   "codemirror_mode": {
    "name": "ipython",
    "version": 3
   },
   "file_extension": ".py",
   "mimetype": "text/x-python",
   "name": "python",
   "nbconvert_exporter": "python",
   "pygments_lexer": "ipython3",
   "version": "3.7.1"
  }
 },
 "nbformat": 4,
 "nbformat_minor": 2
}
