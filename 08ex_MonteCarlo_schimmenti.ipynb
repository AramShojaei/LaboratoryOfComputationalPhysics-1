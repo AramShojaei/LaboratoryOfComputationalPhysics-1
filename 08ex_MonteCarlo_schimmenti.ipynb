{
 "cells": [
  {
   "cell_type": "code",
   "execution_count": 3,
   "metadata": {
    "collapsed": true
   },
   "outputs": [],
   "source": [
    "import numpy as np\n",
    "import matplotlib.pyplot as plt\n",
    "import math\n",
    "from scipy.interpolate import UnivariateSpline"
   ]
  },
  {
   "cell_type": "code",
   "execution_count": 4,
   "metadata": {
    "collapsed": true
   },
   "outputs": [],
   "source": [
    "#Esercizio 1"
   ]
  },
  {
   "cell_type": "code",
   "execution_count": 5,
   "metadata": {
    "collapsed": true
   },
   "outputs": [],
   "source": [
    "tau = 3.052*60\n",
    "steps = 1000\n",
    "th0=1000"
   ]
  },
  {
   "cell_type": "code",
   "execution_count": 6,
   "metadata": {},
   "outputs": [
    {
     "data": {
      "image/png": "[encoded data removed]",
      "text/plain": [
       "<Figure size 432x288 with 1 Axes>"
      ]
     },
     "metadata": {},
     "output_type": "display_data"
    }
   ],
   "source": [
    "#first way\n",
    "thCount = np.zeros(steps)\n",
    "thCount[0] = th0\n",
    "stopTime = steps\n",
    "p_decay = 1 - 2**(-1/tau)\n",
    "for i in range(1,steps):\n",
    "    if thCount[i-1] == 0:\n",
    "        stopTime = i-1\n",
    "        break\n",
    "    mask = np.random.rand(int(thCount[i-1])) <= p_decay\n",
    "    thCount[i]=thCount[i-1]-len(mask[mask])\n",
    "plt.plot(thCount[0:stopTime],label='Thelllium atoms')\n",
    "plt.plot(th0-thCount[0:stopTime],label='Lead atoms')\n",
    "plt.show()"
   ]
  },
  {
   "cell_type": "code",
   "execution_count": 7,
   "metadata": {},
   "outputs": [
    {
     "data": {
      "image/png": "[encoded data removed]",
      "text/plain": [
       "<Figure size 432x288 with 1 Axes>"
      ]
     },
     "metadata": {},
     "output_type": "display_data"
    }
   ],
   "source": [
    "#second way\n",
    "steps = 1000\n",
    "d_times = np.zeros(steps)\n",
    "d_times[0]=0\n",
    "for i in range(1,steps):\n",
    "    d_times[i]=d_times[i-1]-(tau/np.log(2))*np.log(np.random.rand())\n",
    "N_t = np.arange(th0,th0-steps,-1)\n",
    "plt.plot(d_times,N_t)\n",
    "plt.show()"
   ]
  },
  {
   "cell_type": "code",
   "execution_count": 8,
   "metadata": {
    "collapsed": true
   },
   "outputs": [],
   "source": [
    "#Esercizio 2"
   ]
  },
  {
   "cell_type": "code",
   "execution_count": 9,
   "metadata": {},
   "outputs": [],
   "source": [
    "q_e = 1.60218E-19 #Coulombs\n",
    "Z = 79\n",
    "e0 = 8.854187817E-12\n",
    "E = 7.7*(q_e*1E6)\n",
    "a0 = 0.5292E-10\n",
    "sigma = a0/100\n",
    "beam = np.random.randn(2,1000000)*sigma\n",
    "factor = (Z*q_e*q_e)/(2*np.pi*e0*E)\n",
    "b = np.sqrt(beam[0,:]**2+beam[1,:]**2) #fix this one\n",
    "angles = 2*np.arctan(factor/b)\n",
    "angles = np.sort(angles[angles>np.pi/2])\n",
    "#cprob = (np.arange(len(angles), dtype=float)+1)/(len(angles)+1)\n",
    "#icdf = UnivariateSpline(x=cprob, y=angles)\n",
    "#probs = np.arange(0,1, 1e-2)\n",
    "#plt.figure()\n",
    "#plt.plot(icdf(probs),probs, color='r', label='Cumulative')\n",
    "#plt.legend()\n",
    "#plt.show()"
   ]
  },
  {
   "cell_type": "code",
   "execution_count": 10,
   "metadata": {
    "collapsed": true
   },
   "outputs": [],
   "source": [
    "#Esercizio 3"
   ]
  },
  {
   "cell_type": "code",
   "execution_count": 11,
   "metadata": {
    "collapsed": true
   },
   "outputs": [],
   "source": [
    "f = lambda x:  (np.sin(1/(x*(2-x))))**2"
   ]
  },
  {
   "cell_type": "code",
   "execution_count": 13,
   "metadata": {},
   "outputs": [
    {
     "name": "stdout",
     "output_type": "stream",
     "text": [
      "1.2452553497515647e-11\n",
      "0.9999999999993969\n",
      "1.45157\n"
     ]
    }
   ],
   "source": [
    "nSamples = 1000000\n",
    "a = 0.0\n",
    "b = 2.0\n",
    "x = np.random.rand(nSamples)*(b-a)+a\n",
    "f_x = f(x)\n",
    "min_f = np.min(f_x)\n",
    "max_f = np.max(f_x)\n",
    "print(min_f)\n",
    "print(max_f)\n",
    "y = np.random.rand(nSamples)*(max_f-min_f)+min_f\n",
    "hits = f_x[y < f_x]\n",
    "print(2*len(hits)/nSamples)\n",
    "#estimate the error?"
   ]
  },
  {
   "cell_type": "code",
   "execution_count": 14,
   "metadata": {
    "collapsed": true
   },
   "outputs": [],
   "source": [
    "#Esercizio 4"
   ]
  },
  {
   "cell_type": "code",
   "execution_count": 39,
   "metadata": {
    "collapsed": true
   },
   "outputs": [],
   "source": [
    "insideSphere = lambda x : np.linalg.norm(x,axis=0) <= 1"
   ]
  },
  {
   "cell_type": "code",
   "execution_count": 40,
   "metadata": {},
   "outputs": [
    {
     "name": "stdout",
     "output_type": "stream",
     "text": [
      "3.247104\n"
     ]
    }
   ],
   "source": [
    "d=9\n",
    "nSamples = 500000\n",
    "\n",
    "pts = np.random.rand(d,nSamples)\n",
    "hit = len(pts[0,:][insideSphere(pts)])\n",
    "print(hit*2**d/nSamples)"
   ]
  },
  {
   "cell_type": "code",
   "execution_count": null,
   "metadata": {
    "collapsed": true
   },
   "outputs": [],
   "source": []
  }
 ],
 "metadata": {
  "kernelspec": {
   "display_name": "Python 3",
   "language": "python",
   "name": "python3"
  },
  "language_info": {
   "codemirror_mode": {
    "name": "ipython",
    "version": 3
   },
   "file_extension": ".py",
   "mimetype": "text/x-python",
   "name": "python",
   "nbconvert_exporter": "python",
   "pygments_lexer": "ipython3",
   "version": "3.6.3"
  }
 },
 "nbformat": 4,
 "nbformat_minor": 2
}
