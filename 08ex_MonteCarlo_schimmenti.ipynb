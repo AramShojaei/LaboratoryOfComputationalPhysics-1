{
 "cells": [
  {
   "cell_type": "code",
   "execution_count": 96,
   "metadata": {
    "collapsed": true
   },
   "outputs": [],
   "source": [
    "import numpy as np\n",
    "import matplotlib.pyplot as plt\n",
    "import math\n",
    "from scipy.interpolate import UnivariateSpline"
   ]
  },
  {
   "cell_type": "code",
   "execution_count": 36,
   "metadata": {
    "collapsed": true
   },
   "outputs": [],
   "source": [
    "#Esercizio 1"
   ]
  },
  {
   "cell_type": "code",
   "execution_count": 319,
   "metadata": {
    "collapsed": true
   },
   "outputs": [],
   "source": [
    "tau = 3.052*60\n",
    "steps = 2000"
   ]
  },
  {
   "cell_type": "code",
   "execution_count": 392,
   "metadata": {},
   "outputs": [
    {
     "data": {
      "image/png": "[encoded data removed]",
      "text/plain": [
       "<Figure size 432x288 with 1 Axes>"
      ]
     },
     "metadata": {},
     "output_type": "display_data"
    }
   ],
   "source": [
    "th0=1000\n",
    "thCount = np.zeros(steps)\n",
    "thCount[0] = th0\n",
    "stopTime = 0\n",
    "for i in range(1,steps):\n",
    "    if thCount[i-1] == 0:\n",
    "        stopTime = i-1\n",
    "        break\n",
    "    p_decay = 1 - 2**(-i/tau)\n",
    "    if np.random.rand() <= p_decay:\n",
    "        thCount[i] = thCount[i-1]-1\n",
    "    else:\n",
    "        thCount[i] = thCount[i-1]\n",
    "plt.plot(thCount[0:stopTime])\n",
    "plt.plot(th0-thCount[0:stopTime])\n",
    "plt.show()"
   ]
  },
  {
   "cell_type": "code",
   "execution_count": null,
   "metadata": {
    "collapsed": true
   },
   "outputs": [],
   "source": []
  },
  {
   "cell_type": "code",
   "execution_count": null,
   "metadata": {
    "collapsed": true
   },
   "outputs": [],
   "source": []
  },
  {
   "cell_type": "code",
   "execution_count": null,
   "metadata": {
    "collapsed": true
   },
   "outputs": [],
   "source": []
  },
  {
   "cell_type": "code",
   "execution_count": 17,
   "metadata": {
    "collapsed": true
   },
   "outputs": [],
   "source": [
    "#Esercizio 2"
   ]
  },
  {
   "cell_type": "code",
   "execution_count": 322,
   "metadata": {
    "collapsed": true
   },
   "outputs": [],
   "source": [
    "q_e = 1.60218E-19 #Coulombs\n",
    "Z = 79\n",
    "e0 = 8.854187817E-12\n",
    "E = 7.7*(q_e*1E6)\n",
    "a0 = 0.5292E-10\n",
    "sigma = a0/100\n",
    "beam = np.random.randn(2,1000000)*sigma\n",
    "factor = (Z*q_e*q_e)/(2*np.pi*e0*E)\n",
    "b = np.sqrt(beam[0,:]**2+beam[1,:]**2) #fix this one\n",
    "angles = 2*np.arctan(factor/b)\n",
    "angles = np.sort(angles[angles>np.pi/2])\n",
    "#cprob = (np.arange(len(angles), dtype=float)+1)/(len(angles)+1)\n",
    "#icdf = UnivariateSpline(x=cprob, y=angles)\n",
    "#probs = np.arange(0,1, 1e-2)\n",
    "#plt.figure()\n",
    "#plt.plot(icdf(probs),probs, color='r', label='Cumulative')\n",
    "#plt.legend()\n",
    "#plt.show()"
   ]
  },
  {
   "cell_type": "code",
   "execution_count": 323,
   "metadata": {
    "collapsed": true
   },
   "outputs": [],
   "source": [
    "#Esercizio 3"
   ]
  },
  {
   "cell_type": "code",
   "execution_count": 324,
   "metadata": {
    "collapsed": true
   },
   "outputs": [],
   "source": [
    "f = lambda x:  (np.sin(1/(x*(2-x))))**2"
   ]
  },
  {
   "cell_type": "code",
   "execution_count": 325,
   "metadata": {},
   "outputs": [
    {
     "name": "stdout",
     "output_type": "stream",
     "text": [
      "1.8119404307119289e-10\n",
      "0.9999999999976472\n",
      "1.450892\n"
     ]
    }
   ],
   "source": [
    "nSamples = 1000000\n",
    "a = 0.0\n",
    "b = 2.0\n",
    "x = np.random.rand(nSamples)*(b-a)+a\n",
    "f_x = f(x)\n",
    "min_f = np.min(f_x)\n",
    "max_f = np.max(f_x)\n",
    "print(min_f)\n",
    "print(max_f)\n",
    "y = np.random.rand(nSamples)*(max_f-min_f)+min_f\n",
    "hits = f_x[y < f_x]\n",
    "print(2*len(hits)/nSamples)\n",
    "#estimate the error?"
   ]
  },
  {
   "cell_type": "code",
   "execution_count": 326,
   "metadata": {
    "collapsed": true
   },
   "outputs": [],
   "source": [
    "#Esercizio 4"
   ]
  },
  {
   "cell_type": "code",
   "execution_count": 383,
   "metadata": {
    "collapsed": true
   },
   "outputs": [],
   "source": [
    "insideSphere = lambda x : np.linalg.norm(x,axis=0) <= 1"
   ]
  },
  {
   "cell_type": "code",
   "execution_count": 388,
   "metadata": {},
   "outputs": [
    {
     "name": "stdout",
     "output_type": "stream",
     "text": [
      "4.19784\n"
     ]
    }
   ],
   "source": [
    "d=3\n",
    "nSamples = 100000\n",
    "pts = np.random.rand(d,nSamples)\n",
    "hit = len(pts[0,:][insideSphere(pts)])\n",
    "print(hit*2**d/nSamples)"
   ]
  },
  {
   "cell_type": "code",
   "execution_count": null,
   "metadata": {
    "collapsed": true
   },
   "outputs": [],
   "source": []
  }
 ],
 "metadata": {
  "kernelspec": {
   "display_name": "Python 3",
   "language": "python",
   "name": "python3"
  },
  "language_info": {
   "codemirror_mode": {
    "name": "ipython",
    "version": 3
   },
   "file_extension": ".py",
   "mimetype": "text/x-python",
   "name": "python",
   "nbconvert_exporter": "python",
   "pygments_lexer": "ipython3",
   "version": "3.6.3"
  }
 },
 "nbformat": 4,
 "nbformat_minor": 2
}
