{
 "cells": [
  {
   "cell_type": "markdown",
   "metadata": {},
   "source": [
    "1. The MickeyMouse problem\n",
    "\n",
    "a) Write a program that prints the numbers from 1 to 100. But for multiples of three print Mickey instead of the number and for the multiples of five print Mouse. For numbers which are multiples of both three and five print MickeyMouse\n",
    "\n",
    "b) Put the result in a tuple and substitute Mickey with Donald and Mouse with Duck"
   ]
  },
  {
   "cell_type": "code",
   "execution_count": 1,
   "metadata": {},
   "outputs": [
    {
     "name": "stdout",
     "output_type": "stream",
     "text": [
      "\n",
      "\n",
      "Es1\n",
      "\n",
      "1.a)\n",
      "\n",
      "Misha 3\n",
      "Misha 6\n",
      "Misha 9\n",
      "Misha 12\n",
      "Misha 15\n",
      "MishaMouse 15\n",
      "Misha 18\n",
      "Misha 21\n",
      "Misha 24\n",
      "Misha 27\n",
      "Misha 30\n",
      "MishaMouse 30\n",
      "Misha 33\n",
      "Misha 36\n",
      "Misha 39\n",
      "Misha 42\n",
      "Misha 45\n",
      "MishaMouse 45\n",
      "Misha 48\n",
      "Misha 51\n",
      "Misha 54\n",
      "Misha 57\n",
      "Misha 60\n",
      "MishaMouse 60\n",
      "Misha 63\n",
      "Misha 66\n",
      "Misha 69\n",
      "Misha 72\n",
      "Misha 75\n",
      "MishaMouse 75\n",
      "Misha 78\n",
      "Misha 81\n",
      "Misha 84\n",
      "Misha 87\n",
      "Misha 90\n",
      "MishaMouse 90\n",
      "Misha 93\n",
      "Misha 96\n",
      "Misha 99\n"
     ]
    }
   ],
   "source": [
    "print(\"\\n\\nEs1\\n\\n1.a)\\n\")\n",
    "\n",
    "listToAdd = []\n",
    "\n",
    "for i in range(1,100):\n",
    "\tif i % 3 == 0:\n",
    "\t\tprint(\"Misha\", i)\n",
    "\t\tlistToAdd.append(\"Misha\")\n",
    "\tif i % 3 == 0 and i % 5 == 0:\n",
    "\t\tprint(\"MishaMouse\", i)\n",
    "\t\tlistToAdd.append(\"MishaMouse\")\n",
    "#enddo"
   ]
  },
  {
   "cell_type": "code",
   "execution_count": 2,
   "metadata": {},
   "outputs": [
    {
     "name": "stdout",
     "output_type": "stream",
     "text": [
      "\n",
      "\n",
      "1.b)\n",
      "\n",
      "['Donald', 'Donald', 'Donald', 'Donald', 'Donald', 'DonaldDuck', 'Donald', 'Donald', 'Donald', 'Donald', 'Donald', 'DonaldDuck', 'Donald', 'Donald', 'Donald', 'Donald', 'Donald', 'DonaldDuck', 'Donald', 'Donald', 'Donald', 'Donald', 'Donald', 'DonaldDuck', 'Donald', 'Donald', 'Donald', 'Donald', 'Donald', 'DonaldDuck', 'Donald', 'Donald', 'Donald', 'Donald', 'Donald', 'DonaldDuck', 'Donald', 'Donald', 'Donald']\n"
     ]
    }
   ],
   "source": [
    "print(\"\\n\\n1.b)\\n\")\n",
    "\n",
    "for i in range(len(listToAdd)):\n",
    "\tif listToAdd[i] == \"Misha\":\n",
    "\t\tlistToAdd[i] = \"Donald\"\n",
    "\tif listToAdd[i] == \"MishaMouse\":\n",
    "\t\tlistToAdd[i] = \"DonaldDuck\"\n",
    "#enddo\n",
    "\n",
    "print(listToAdd)"
   ]
  },
  {
   "cell_type": "markdown",
   "metadata": {},
   "source": [
    "2\\. The swap function\n",
    "\n",
    "Write a function that swap the values of two input variables x and y (whatever the type). Try to do that also without a temporary variable"
   ]
  },
  {
   "cell_type": "code",
   "execution_count": 3,
   "metadata": {},
   "outputs": [
    {
     "name": "stdout",
     "output_type": "stream",
     "text": [
      "\n",
      "\n",
      "Es2\n",
      "\n",
      "prima seconda =  3 6\n",
      "prima seconda =  6 3\n"
     ]
    }
   ],
   "source": [
    "print(\"\\n\\nEs2\\n\")\n",
    "\n",
    "def Swap(x,y):\n",
    "\n",
    "\ttoSwap = [x,y]\n",
    "\ttoSwap.reverse()\n",
    "\t\n",
    "\treturn toSwap[0], toSwap[1]\n",
    "#enddef\n",
    "\n",
    "prima = 3\n",
    "seconda = 6\n",
    "\n",
    "print(\"prima seconda = \", prima, seconda)\n",
    "prima, seconda = Swap(prima,seconda)\n",
    "print(\"prima seconda = \", prima, seconda)"
   ]
  },
  {
   "cell_type": "markdown",
   "metadata": {},
   "source": [
    "3\\. Computing the distance\n",
    "\n",
    "Write a function that calculates and returns the euclidean distance between two points *u* and *v*, where *u* and *v* are both 2-tuples *(x,y)*. For example, if *u=(3,0)* and *v=(0,4)*, the function should return 5"
   ]
  },
  {
   "cell_type": "code",
   "execution_count": 4,
   "metadata": {},
   "outputs": [
    {
     "name": "stdout",
     "output_type": "stream",
     "text": [
      "\n",
      "\n",
      "Es 3\n",
      "\n",
      "Distanza =  5.0\n"
     ]
    }
   ],
   "source": [
    "print(\"\\n\\nEs 3\\n\")\n",
    "\n",
    "def dist(x1, x2):\n",
    "\t\n",
    "\t# dist = || (x1 - y1)^2 + (x2 - y2)^2 ||^0.5\n",
    "\td = ( (x1[0] - x2[0])**2 + (x1[1] - x2[1])**2 )**(1/2)\n",
    "\treturn d\n",
    "#enddef\n",
    "\n",
    "x1 = [3.0, 0.0]\n",
    "x2 = [0.0, 4.0]\n",
    "\n",
    "d = dist(x1,x2)\n",
    "\n",
    "print(\"Distanza = \", d)"
   ]
  },
  {
   "cell_type": "markdown",
   "metadata": {},
   "source": [
    "4\\. Counting letters\n",
    "\n",
    "Write a program to calculate the number of times each character occurs in a given string *s*. Ignore differneces in capitalization"
   ]
  },
  {
   "cell_type": "code",
   "execution_count": null,
   "metadata": {
    "collapsed": true
   },
   "outputs": [],
   "source": [
    "s=\"Write a program that prints the numbers from 1 to 100. \\\n",
    "But for multiples of three print Mickey instead of the number and for the multiples of five print Mouse. \\\n",
    "For numbers which are multiples of both three and five print MickeyMouse\""
   ]
  },
  {
   "cell_type": "code",
   "execution_count": 5,
   "metadata": {},
   "outputs": [
    {
     "name": "stdout",
     "output_type": "stream",
     "text": [
      "\n",
      "\n",
      "Es 4\n",
      "\n",
      "Write a program that prints the numbers from 1 to 100.      But for multiples of three print Mickey instead of the number and for the multiples of five print Mouse.      For numbers which are multiples of both three and five print MickeyMouse\n",
      "w 2\n",
      "r 17\n",
      "i 14\n",
      "t 19\n",
      "e 22\n",
      "  51\n",
      "a 7\n",
      "p 8\n",
      "o 13\n",
      "g 1\n",
      "m 12\n",
      "h 9\n",
      "n 10\n",
      "s 9\n",
      "u 9\n",
      "b 5\n",
      "f 10\n",
      "1 2\n",
      "0 2\n",
      ". 2\n",
      "l 6\n",
      "c 3\n",
      "k 2\n",
      "y 2\n",
      "d 3\n",
      "v 2\n"
     ]
    }
   ],
   "source": [
    "print(\"\\n\\nEs 4\\n\")\n",
    "\n",
    "s = \"Write a program that prints the numbers from 1 to 100. \\\n",
    "     But for multiples of three print Mickey instead of the number and for the multiples of five print Mouse. \\\n",
    "     For numbers which are multiples of both three and five print MickeyMouse\"\n",
    "\n",
    "print(s)\n",
    "\t \n",
    "s = s.lower()\n",
    "lettere = [c for c in s]\n",
    "\n",
    "\n",
    "dictCheck = { }\n",
    "matches = [chrs for chrs in lettere if chrs == lettere[0]]\n",
    "dictCheck.update({ lettere[0] : len(matches) })\n",
    "for i in range(1,len(lettere)):\n",
    "\tif i not in dictCheck.keys():\n",
    "\t\tmatches = [chrs for chrs in lettere if lettere[i] == chrs]\n",
    "\t\tdictCheck.update({ lettere[i] : len(matches) })\n",
    "\t#endif\n",
    "#enddo\t\n",
    "\n",
    "for keys in dictCheck:\n",
    "\tprint(keys , dictCheck[keys])\n",
    "#enddo\n",
    "\t"
   ]
  },
  {
   "cell_type": "markdown",
   "metadata": {},
   "source": [
    "5\\. Isolating the unique\n",
    "\n",
    "Write a function that determines and count the unique numbers in the list *l*"
   ]
  },
  {
   "cell_type": "code",
   "execution_count": null,
   "metadata": {
    "collapsed": true
   },
   "outputs": [],
   "source": [
    "l = [36, 45, 58, 3, 74, 96, 64, 45, 31, 10, 24, 19, 33, 86, 99, 18, 63, 70, 85,\n",
    " 85, 63, 47, 56, 42, 70, 84, 88, 55, 20, 54, 8, 56, 51, 79, 81, 57, 37, 91,\n",
    " 1, 84, 84, 36, 66, 9, 89, 50, 42, 91, 50, 95, 90, 98, 39, 16, 82, 31, 92, 41,\n",
    " 45, 30, 66, 70, 34, 85, 94, 5, 3, 36, 72, 91, 84, 34, 87, 75, 53, 51, 20, 89, 51, 20]"
   ]
  },
  {
   "cell_type": "code",
   "execution_count": 6,
   "metadata": {},
   "outputs": [
    {
     "name": "stdout",
     "output_type": "stream",
     "text": [
      "\n",
      "\n",
      "Es 5\n",
      "\n",
      "[58, 74, 96, 64, 10, 24, 19, 33, 86, 99, 18, 47, 88, 55, 54, 8, 79, 81, 57, 37, 1, 9, 95, 90, 98, 39, 16, 82, 92, 41, 30, 94, 5, 72, 87, 75, 53]\n",
      "I numeri unici sono:  37  mentre la lista di numeri è di  80\n"
     ]
    }
   ],
   "source": [
    "print(\"\\n\\nEs 5\\n\")\n",
    "\n",
    "l = [36, 45, 58, 3, 74, 96, 64, 45, 31, 10, 24, 19, 33, 86, 99, 18, 63, 70, 85,\n",
    " 85, 63, 47, 56, 42, 70, 84, 88, 55, 20, 54, 8, 56, 51, 79, 81, 57, 37, 91,\n",
    " 1, 84, 84, 36, 66, 9, 89, 50, 42, 91, 50, 95, 90, 98, 39, 16, 82, 31, 92, 41,\n",
    " 45, 30, 66, 70, 34, 85, 94, 5, 3, 36, 72, 91, 84, 34, 87, 75, 53, 51, 20, 89, 51, 20]\n",
    " \n",
    "def CountUniques(listNumbers):\n",
    "\t\n",
    "\tlistUniques = [ ]\n",
    "\tfor nums in listNumbers:\n",
    "\t\tmatches = [n for n in listNumbers if n == nums]\n",
    "\t\tif len(matches) == 1:\n",
    "\t\t\tlistUniques.append(nums)\n",
    "\t\t#endif\n",
    "\t#enddo\n",
    "\treturn listUniques\n",
    "#enddef\n",
    "\n",
    "unici = CountUniques(l)\n",
    "\n",
    "print(unici)\n",
    "\n",
    "print(\"I numeri unici sono: \", len(unici), \" mentre la lista di numeri è di \", len(l))\n",
    "\t"
   ]
  },
  {
   "cell_type": "markdown",
   "metadata": {},
   "source": [
    "6\\. Combination of functions\n",
    "\n",
    "Write two functions - one that returns the square of a number, and one that returns the cube. Now write a third function that returns the number raised to the 6th power using the two previous functions."
   ]
  },
  {
   "cell_type": "code",
   "execution_count": 7,
   "metadata": {},
   "outputs": [
    {
     "name": "stdout",
     "output_type": "stream",
     "text": [
      "\n",
      "\n",
      "Es 6\n",
      "\n",
      "La sesta potenza di 2  è  64\n"
     ]
    }
   ],
   "source": [
    "print(\"\\n\\nEs 6\\n\")\n",
    "\n",
    "def Square(n):\n",
    "\tris = n**2\n",
    "\treturn ris\n",
    "#enddef\n",
    "\n",
    "def Cube(n):\n",
    "\tris = n**3\n",
    "\treturn ris\n",
    "#enddef\n",
    "\n",
    "def SixthPower(m):\n",
    "\t#ris = Square(m)\n",
    "\t#ris = Cube(ris)\n",
    "\tris = Square(Cube(m))\n",
    "\treturn ris\n",
    "#enddef\n",
    "\n",
    "pizdec = 2\n",
    "ris = SixthPower(pizdec)\n",
    "print(\"La sesta potenza di\", pizdec, \" è \", ris)"
   ]
  },
  {
   "cell_type": "markdown",
   "metadata": {},
   "source": [
    "7\\. Cubes\n",
    "\n",
    "Create a list of the cubes of x for x in *[0, 10]* using:\n",
    "\n",
    "a) a for loop\n",
    "\n",
    "b) a list comprehension"
   ]
  },
  {
   "cell_type": "code",
   "execution_count": 8,
   "metadata": {},
   "outputs": [
    {
     "name": "stdout",
     "output_type": "stream",
     "text": [
      "\n",
      "\n",
      "Es 7\n",
      "\n",
      "7.a)\n",
      "\n",
      "[0, 1, 8, 27, 64, 125, 216, 343, 512, 729, 1000]\n",
      "\n",
      "7.b)\n",
      "\n",
      "[0, 1, 8, 27, 64, 125, 216, 343, 512, 729, 1000]\n"
     ]
    }
   ],
   "source": [
    "print(\"\\n\\nEs 7\\n\\n7.a)\\n\")\n",
    " \n",
    "listCubes = []\n",
    " \n",
    "for i in range(10+1):\n",
    "\tlistCubes.append(i**3)\n",
    "#enddo\n",
    "\t\n",
    "print(listCubes)\n",
    "\t\n",
    "print(\"\\n7.b)\\n\")\n",
    "listCubes = [n**3 for n in range(0,10+1)]\t\n",
    "\n",
    "print(listCubes)"
   ]
  },
  {
   "cell_type": "markdown",
   "metadata": {},
   "source": [
    "8\\. Nested list comprehension\n",
    "\n",
    "A Pythagorean triple is an integer solution to the Pythagorean theorem $a^2+b^2=c^2$. The first Pythagorean triple is (3,4,5). Find and put in a tuple all unique Pythagorean triples for the positive integers a, b and c less than 100."
   ]
  },
  {
   "cell_type": "code",
   "execution_count": 11,
   "metadata": {},
   "outputs": [
    {
     "name": "stdout",
     "output_type": "stream",
     "text": [
      "\n",
      "\n",
      "Es 8\n",
      "\n",
      "Con for innestati:  0.12119340896606445  s.\n",
      "[(3, 4, 5), (5, 12, 13), (6, 8, 10), (7, 24, 25), (8, 15, 17), (9, 12, 15), (9, 40, 41), (10, 24, 26), (11, 60, 61), (12, 16, 20), (12, 35, 37), (13, 84, 85), (14, 48, 50), (15, 20, 25), (15, 36, 39), (16, 30, 34), (16, 63, 65), (18, 24, 30), (18, 80, 82), (20, 21, 29), (20, 48, 52), (21, 28, 35), (21, 72, 75), (24, 32, 40), (24, 45, 51), (24, 70, 74), (25, 60, 65), (27, 36, 45), (28, 45, 53), (30, 40, 50), (30, 72, 78), (32, 60, 68), (33, 44, 55), (33, 56, 65), (35, 84, 91), (36, 48, 60), (36, 77, 85), (39, 52, 65), (39, 80, 89), (40, 42, 58), (40, 75, 85), (42, 56, 70), (45, 60, 75), (48, 55, 73), (48, 64, 80), (51, 68, 85), (54, 72, 90), (57, 76, 95), (60, 63, 87), (65, 72, 97)]\n",
      "\n",
      "Con list comprehension:  0.10053348541259766  s.\n",
      "[(3, 4, 5), (5, 12, 13), (6, 8, 10), (7, 24, 25), (8, 15, 17), (9, 12, 15), (9, 40, 41), (10, 24, 26), (11, 60, 61), (12, 16, 20), (12, 35, 37), (13, 84, 85), (14, 48, 50), (15, 20, 25), (15, 36, 39), (16, 30, 34), (16, 63, 65), (18, 24, 30), (18, 80, 82), (20, 21, 29), (20, 48, 52), (21, 28, 35), (21, 72, 75), (24, 32, 40), (24, 45, 51), (24, 70, 74), (25, 60, 65), (27, 36, 45), (28, 45, 53), (30, 40, 50), (30, 72, 78), (32, 60, 68), (33, 44, 55), (33, 56, 65), (35, 84, 91), (36, 48, 60), (36, 77, 85), (39, 52, 65), (39, 80, 89), (40, 42, 58), (40, 75, 85), (42, 56, 70), (45, 60, 75), (48, 55, 73), (48, 64, 80), (51, 68, 85), (54, 72, 90), (57, 76, 95), (60, 63, 87), (65, 72, 97)]\n"
     ]
    }
   ],
   "source": [
    "print(\"\\n\\nEs 8\\n\")\n",
    "\n",
    "import time\n",
    "\n",
    "listTuples = []\n",
    "\n",
    "start = time.time()\n",
    "\n",
    "for i in range(1,100):\n",
    "    for j in range(i,100):\n",
    "            for k in range(j,100):\n",
    "                ans = abs(k**2 - i**2 - j**2)\n",
    "                if ans == 0:\n",
    "                    listTuples.append( (i,j,k) )\n",
    "                #endif\n",
    "        #enddo\n",
    "    #enddo\n",
    "#enddo\n",
    "end = time.time()\n",
    "print(\"Con for innestati: \", end - start, \" s.\")\n",
    "\n",
    "print(listTuples)\n",
    "\n",
    "\n",
    "# tuple2 = [ [ [ [i for i in range(1,100)] for j in range(i,100) ] for k in range(1,100) ] if k**2 - i**2 - j**2 == 0 ]\n",
    "start = time.time()\n",
    "\n",
    "listToTuple = [ (i, j, k) for i in range(1,100) for j in range(i,100) for k in range(j,100) if k**2 - i**2 - j**2 == 0 ]\n",
    "\n",
    "end = time.time()\n",
    "print(\"\\nCon list comprehension: \", end - start, \" s.\")\t\n",
    "\n",
    "print(listToTuple)"
   ]
  },
  {
   "cell_type": "markdown",
   "metadata": {},
   "source": [
    "9\\. Normalization\n",
    "\n",
    "Write a function that takes a tuple of numbers and returns it with the entries normalized to one"
   ]
  },
  {
   "cell_type": "code",
   "execution_count": 12,
   "metadata": {},
   "outputs": [
    {
     "name": "stdout",
     "output_type": "stream",
     "text": [
      "\n",
      "\n",
      "Es 9\n",
      "\n",
      "(0, 0, 1, 3, 4, 6, 7, 9, 10, 5, 3, 2, 1, 2, 0, 1, 0)\n",
      "(0.0, 0.0, 0.1, 0.3, 0.4, 0.6, 0.7, 0.9, 1.0, 0.5, 0.3, 0.2, 0.1, 0.2, 0.0, 0.1, 0.0)\n"
     ]
    }
   ],
   "source": [
    "print(\"\\n\\nEs 9\\n\")\n",
    "\n",
    "tupleToNorm = (0, 0, 1, 3, 4, 6, 7, 9, 10, 5, 3, 2, 1, 2, 0, 1, 0)\n",
    "listNorm = [n/max(tupleToNorm) for n in tupleToNorm]\n",
    "tupleNorm = tuple(listNorm)\n",
    "\n",
    "print(tupleToNorm)\n",
    "print(tupleNorm)\n"
   ]
  },
  {
   "cell_type": "code",
   "execution_count": null,
   "metadata": {
    "collapsed": true
   },
   "outputs": [],
   "source": []
  }
 ],
 "metadata": {
  "kernelspec": {
   "display_name": "Python 3",
   "language": "python",
   "name": "python3"
  },
  "language_info": {
   "codemirror_mode": {
    "name": "ipython",
    "version": 3
   },
   "file_extension": ".py",
   "mimetype": "text/x-python",
   "name": "python",
   "nbconvert_exporter": "python",
   "pygments_lexer": "ipython3",
   "version": "3.6.3"
  }
 },
 "nbformat": 4,
 "nbformat_minor": 2
}
