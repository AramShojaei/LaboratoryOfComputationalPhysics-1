{
 "cells": [
  {
   "cell_type": "markdown",
   "metadata": {},
   "source": [
    "1. The MickeyMouse problem\n",
    "\n",
    "a) Write a program that prints the numbers from 1 to 100. But for multiples of three print Mickey instead of the number and for the multiples of five print Mouse. For numbers which are multiples of both three and five print MickeyMouse\n",
    "\n",
    "b) Put the result in a tuple and substitute Mickey with Donald and Mouse with Duck"
   ]
  },
  {
   "cell_type": "code",
   "execution_count": 1,
   "metadata": {},
   "outputs": [
    {
     "name": "stdout",
     "output_type": "stream",
     "text": [
      "1\n",
      "2\n",
      "Donald\n",
      "4\n",
      "Duck\n",
      "Donald\n",
      "7\n",
      "8\n",
      "Donald\n",
      "Duck\n",
      "11\n",
      "Donald\n",
      "13\n",
      "14\n",
      "DonaldDuck\n",
      "16\n",
      "17\n",
      "Donald\n",
      "19\n",
      "Duck\n",
      "Donald\n",
      "22\n",
      "23\n",
      "Donald\n",
      "Duck\n",
      "26\n",
      "Donald\n",
      "28\n",
      "29\n",
      "DonaldDuck\n",
      "31\n",
      "32\n",
      "Donald\n",
      "34\n",
      "Duck\n",
      "Donald\n",
      "37\n",
      "38\n",
      "Donald\n",
      "Duck\n",
      "41\n",
      "Donald\n",
      "43\n",
      "44\n",
      "DonaldDuck\n",
      "46\n",
      "47\n",
      "Donald\n",
      "49\n",
      "Duck\n",
      "Donald\n",
      "52\n",
      "53\n",
      "Donald\n",
      "Duck\n",
      "56\n",
      "Donald\n",
      "58\n",
      "59\n",
      "DonaldDuck\n",
      "61\n",
      "62\n",
      "Donald\n",
      "64\n",
      "Duck\n",
      "Donald\n",
      "67\n",
      "68\n",
      "Donald\n",
      "Duck\n",
      "71\n",
      "Donald\n",
      "73\n",
      "74\n",
      "DonaldDuck\n",
      "76\n",
      "77\n",
      "Donald\n",
      "79\n",
      "Duck\n",
      "Donald\n",
      "82\n",
      "83\n",
      "Donald\n",
      "Duck\n",
      "86\n",
      "Donald\n",
      "88\n",
      "89\n",
      "DonaldDuck\n",
      "91\n",
      "92\n",
      "Donald\n",
      "94\n",
      "Duck\n",
      "Donald\n",
      "97\n",
      "98\n",
      "Donald\n",
      "(1, 2, 'Donald', 4, 'Duck', 'Donald', 7, 8, 'Donald', 'Duck', 11, 'Donald', 13, 14, 'DonaldDuck', 16, 17, 'Donald', 19, 'Duck', 'Donald', 22, 23, 'Donald', 'Duck', 26, 'Donald', 28, 29, 'DonaldDuck', 31, 32, 'Donald', 34, 'Duck', 'Donald', 37, 38, 'Donald', 'Duck', 41, 'Donald', 43, 44, 'DonaldDuck', 46, 47, 'Donald', 49, 'Duck', 'Donald', 52, 53, 'Donald', 'Duck', 56, 'Donald', 58, 59, 'DonaldDuck', 61, 62, 'Donald', 64, 'Duck', 'Donald', 67, 68, 'Donald', 'Duck', 71, 'Donald', 73, 74, 'DonaldDuck', 76, 77, 'Donald', 79, 'Duck', 'Donald', 82, 83, 'Donald', 'Duck', 86, 'Donald', 88, 89, 'DonaldDuck', 91, 92, 'Donald', 94, 'Duck', 'Donald', 97, 98, 'Donald')\n"
     ]
    }
   ],
   "source": [
    "def create_tup(a='Mickey',b='Mouse'):\n",
    "    tup = ()\n",
    "    for i in range(1,100):\n",
    "        if (i%3==0)and(i%5==0):\n",
    "            print (a+b)\n",
    "            tup = tup + (a+b,)\n",
    "        elif i%3==0: \n",
    "            print (a)\n",
    "            tup = tup + (a,)\n",
    "        elif i%5==0: \n",
    "            print (b)\n",
    "            tup = tup + (b,)\n",
    "        else: \n",
    "            print (i)\n",
    "            tup = tup + (i,)\n",
    "    return tup\n",
    "\n",
    "            \n",
    "print (create_tup('Donald','Duck'))"
   ]
  },
  {
   "cell_type": "markdown",
   "metadata": {},
   "source": [
    "2\\. The swap function\n",
    "\n",
    "Write a function that swap the values of two input variables x and y (whatever the type). Try to do that also without a temporary variable"
   ]
  },
  {
   "cell_type": "code",
   "execution_count": 2,
   "metadata": {},
   "outputs": [
    {
     "name": "stdout",
     "output_type": "stream",
     "text": [
      "10 5\n"
     ]
    }
   ],
   "source": [
    "def swap(x,y):\n",
    "    return (y,x)\n",
    "\n",
    "x = 5\n",
    "y = 10\n",
    "(x,y)=swap(x,y)\n",
    "print(x,y)"
   ]
  },
  {
   "cell_type": "markdown",
   "metadata": {},
   "source": [
    "3\\. Computing the distance\n",
    "\n",
    "Write a function that calculates and returns the euclidean distance between two points *u* and *v*, where *u* and *v* are both 2-tuples *(x,y)*. For example, if *u=(3,0)* and *v=(0,4)*, the function should return 5"
   ]
  },
  {
   "cell_type": "code",
   "execution_count": 15,
   "metadata": {},
   "outputs": [
    {
     "name": "stdout",
     "output_type": "stream",
     "text": [
      "5.0\n"
     ]
    }
   ],
   "source": [
    "def distance(u,v):\n",
    "    dist = ( (u[0]-v[0])**2 + (u[1]-v[1])**2 )**(1/2)\n",
    "    return dist\n",
    "\n",
    "u = (3,0)\n",
    "v = (0,4)\n",
    "print (distance(u,v))"
   ]
  },
  {
   "cell_type": "markdown",
   "metadata": {},
   "source": [
    "4\\. Counting letters\n",
    "\n",
    "Write a program to calculate the number of times each character occurs in a given string *s*. Ignore differneces in capitalization"
   ]
  },
  {
   "cell_type": "code",
   "execution_count": 11,
   "metadata": {},
   "outputs": [
    {
     "name": "stdout",
     "output_type": "stream",
     "text": [
      "['w', 2]\n",
      "['r', 17]\n",
      "['i', 14]\n",
      "['t', 19]\n",
      "['e', 22]\n",
      "[' ', 41]\n",
      "['a', 7]\n",
      "['p', 8]\n",
      "['o', 13]\n",
      "['g', 1]\n",
      "['m', 12]\n",
      "['h', 9]\n",
      "['n', 10]\n",
      "['s', 9]\n",
      "['u', 9]\n",
      "['b', 5]\n",
      "['f', 10]\n",
      "['1', 2]\n",
      "['0', 2]\n",
      "['.', 2]\n",
      "['l', 6]\n",
      "['c', 3]\n",
      "['k', 2]\n",
      "['y', 2]\n",
      "['d', 3]\n",
      "['v', 2]\n"
     ]
    }
   ],
   "source": [
    "s=\"Write a program that prints the numbers from 1 to 100. \\\n",
    "But for multiples of three print Mickey instead of the number and for the multiples of five print Mouse. \\\n",
    "For numbers which are multiples of both three and five print MickeyMouse\"\n",
    "\n",
    "counters = []\n",
    "\n",
    "for i in range(len(s)):\n",
    "    if (i==0):\n",
    "        counters.append([s[i].lower(),1])\n",
    "    else:\n",
    "        for k in range(len(counters)):\n",
    "            if (counters[k][0] == s[i].lower()):\n",
    "                counters[k][1] = counters[k][1] + 1\n",
    "                break\n",
    "            elif (k == len(counters)-1):\n",
    "                counters.append([s[i].lower(),1])\n",
    "\n",
    "for i in range(len(counters)):\n",
    "    print(counters[i])\n",
    "    \n",
    "            "
   ]
  },
  {
   "cell_type": "markdown",
   "metadata": {},
   "source": [
    "5\\. Isolating the unique\n",
    "\n",
    "Write a function that determines and count the unique numbers in the list *l*"
   ]
  },
  {
   "cell_type": "code",
   "execution_count": 3,
   "metadata": {},
   "outputs": [
    {
     "name": "stdout",
     "output_type": "stream",
     "text": [
      "[58, 74, 96, 64, 10, 24, 19, 33, 86, 99, 18, 47, 88, 55, 54, 8, 79, 81, 57, 37, 1, 9, 95, 90, 98, 39, 16, 82, 92, 41, 30, 94, 5, 72, 87, 75, 53]\n"
     ]
    }
   ],
   "source": [
    "l = [36, 45, 58, 3, 74, 96, 64, 45, 31, 10, 24, 19, 33, 86, 99, 18, 63, 70, 85,\n",
    " 85, 63, 47, 56, 42, 70, 84, 88, 55, 20, 54, 8, 56, 51, 79, 81, 57, 37, 91,\n",
    " 1, 84, 84, 36, 66, 9, 89, 50, 42, 91, 50, 95, 90, 98, 39, 16, 82, 31, 92, 41,\n",
    " 45, 30, 66, 70, 34, 85, 94, 5, 3, 36, 72, 91, 84, 34, 87, 75, 53, 51, 20, 89, 51, 20]\n",
    "\n",
    "def unique_list (l):\n",
    "    \n",
    "    counters = []\n",
    "    final_list = []\n",
    "    \n",
    "    for i in range(len(l)):\n",
    "        if (i==0):\n",
    "            counters.append([l[i],1])\n",
    "        else:\n",
    "            for k in range(len(counters)):\n",
    "                if (counters[k][0] == l[i]):\n",
    "                    counters[k][1] = counters[k][1] + 1\n",
    "                    break\n",
    "                elif (k == len(counters)-1):\n",
    "                    counters.append([l[i],1])\n",
    "                \n",
    "    for i in range(len(counters)):\n",
    "        if (counters[i][1]==1):\n",
    "            final_list.append(counters[i][0])\n",
    "    \n",
    "    return final_list\n",
    "\n",
    "\n",
    "print(unique_list(l))\n",
    "    \n",
    "    "
   ]
  },
  {
   "cell_type": "markdown",
   "metadata": {},
   "source": [
    "6\\. Combination of functions\n",
    "\n",
    "Write two functions - one that returns the square of a number, and one that returns the cube. Now write a third function that returns the number raised to the 6th power using the two previous functions."
   ]
  },
  {
   "cell_type": "code",
   "execution_count": 4,
   "metadata": {},
   "outputs": [
    {
     "name": "stdout",
     "output_type": "stream",
     "text": [
      "64\n"
     ]
    }
   ],
   "source": [
    "def square (n):\n",
    "    return n**2\n",
    "\n",
    "def cube (n):\n",
    "    return n**3\n",
    "\n",
    "def power_6 (n):\n",
    "    return (cube(square(n)))\n",
    "\n",
    "print (power_6(2))"
   ]
  },
  {
   "cell_type": "markdown",
   "metadata": {},
   "source": [
    "7\\. Cubes\n",
    "\n",
    "Create a list of the cubes of x for x in *[0, 10]* using:\n",
    "\n",
    "a) a for loop\n",
    "\n",
    "b) a list comprehension"
   ]
  },
  {
   "cell_type": "code",
   "execution_count": 4,
   "metadata": {},
   "outputs": [
    {
     "name": "stdout",
     "output_type": "stream",
     "text": [
      "[0, 1, 8, 27, 64, 125, 216, 343, 512, 729, 1000]\n",
      "[0, 1, 8, 27, 64, 125, 216, 343, 512, 729, 1000]\n"
     ]
    }
   ],
   "source": [
    "cube_list_a = []\n",
    "for x in range(11):\n",
    "    cube_list_a.append(x**3)\n",
    "\n",
    "cube_list_b = [x**3 for x in range(11)]\n",
    "\n",
    "print(cube_list_a)\n",
    "print(cube_list_b)"
   ]
  },
  {
   "cell_type": "markdown",
   "metadata": {},
   "source": [
    "8\\. Nested list comprehension\n",
    "\n",
    "A Pythagorean triple is an integer solution to the Pythagorean theorem $a^2+b^2=c^2$. The first Pythagorean triple is (3,4,5). Find and put in a tuple all unique Pythagorean triples for the positive integers a, b and c less than 100."
   ]
  },
  {
   "cell_type": "code",
   "execution_count": 28,
   "metadata": {},
   "outputs": [
    {
     "name": "stdout",
     "output_type": "stream",
     "text": [
      "[[3, 4, 5], [6, 8, 10], [5, 12, 13], [9, 12, 15], [8, 15, 17], [12, 16, 20], [15, 20, 25], [20, 21, 29], [7, 24, 25], [10, 24, 26], [18, 24, 30], [21, 28, 35], [16, 30, 34], [24, 32, 40], [12, 35, 37], [15, 36, 39], [27, 36, 45], [9, 40, 41], [30, 40, 50], [40, 42, 58], [33, 44, 55], [24, 45, 51], [28, 45, 53], [14, 48, 50], [20, 48, 52], [36, 48, 60], [39, 52, 65], [48, 55, 73], [33, 56, 65], [42, 56, 70], [11, 60, 61], [25, 60, 65], [32, 60, 68], [45, 60, 75], [16, 63, 65], [60, 63, 87], [48, 64, 80], [51, 68, 85], [24, 70, 74], [21, 72, 75], [30, 72, 78], [54, 72, 90], [65, 72, 97], [40, 75, 85], [57, 76, 95], [36, 77, 85], [18, 80, 82], [39, 80, 89], [13, 84, 85], [35, 84, 91]]\n",
      "\n",
      "[[3, 4, 5], [6, 8, 10], [5, 12, 13], [9, 12, 15], [8, 15, 17], [12, 16, 20], [15, 20, 25], [7, 24, 25], [10, 24, 26], [20, 21, 29], [18, 24, 30], [16, 30, 34], [21, 28, 35], [12, 35, 37], [15, 36, 39], [24, 32, 40], [9, 40, 41], [27, 36, 45], [30, 40, 50], [14, 48, 50], [24, 45, 51], [20, 48, 52], [28, 45, 53], [33, 44, 55], [40, 42, 58], [36, 48, 60], [11, 60, 61], [39, 52, 65], [33, 56, 65], [25, 60, 65], [16, 63, 65], [32, 60, 68], [42, 56, 70], [48, 55, 73], [24, 70, 74], [45, 60, 75], [21, 72, 75], [30, 72, 78], [48, 64, 80], [18, 80, 82], [51, 68, 85], [40, 75, 85], [36, 77, 85], [13, 84, 85], [60, 63, 87], [39, 80, 89], [54, 72, 90], [35, 84, 91], [57, 76, 95], [65, 72, 97]]\n"
     ]
    }
   ],
   "source": [
    "import math\n",
    "\n",
    "Pythagorean_triples = [[a,b,int(math.sqrt(a**2+b**2))] for b in range(1,100) for a in range(1,b) if (math.sqrt(a**2+b**2)<100)and(math.sqrt(a**2+b**2)==int(math.sqrt(a**2+b**2)))]\n",
    "\n",
    "pit_list = []\n",
    "for c in range (100):\n",
    "    for b in range (c):\n",
    "        for a in range (b):\n",
    "            if (a**2+b**2==c**2):\n",
    "                pit_list.append([a,b,c])\n",
    "\n",
    "print (Pythagorean_triples)\n",
    "print()\n",
    "print (pit_list)"
   ]
  },
  {
   "cell_type": "markdown",
   "metadata": {},
   "source": [
    "9\\. Normalization\n",
    "\n",
    "Write a function that takes a tuple of numbers and returns it with the entries normalized to one"
   ]
  },
  {
   "cell_type": "code",
   "execution_count": 7,
   "metadata": {},
   "outputs": [
    {
     "name": "stdout",
     "output_type": "stream",
     "text": [
      "(0.4472135954999579, 0.8944271909999159)\n"
     ]
    }
   ],
   "source": [
    "import math\n",
    "\n",
    "def normalize(tupla):\n",
    "    sum_squared = 0\n",
    "    for i in range(len(tupla)):\n",
    "        sum_squared += tupla[i]**2\n",
    "    norm_list = [tupla[i]/math.sqrt(sum_squared) for i in range(len(tupla))]\n",
    "    return tuple(norm_list)\n",
    "\n",
    "example = (1,2,3)\n",
    "print(normalize(example))"
   ]
  },
  {
   "cell_type": "code",
   "execution_count": null,
   "metadata": {},
   "outputs": [],
   "source": []
  }
 ],
 "metadata": {
  "kernelspec": {
   "display_name": "Python 3",
   "language": "python",
   "name": "python3"
  },
  "language_info": {
   "codemirror_mode": {
    "name": "ipython",
    "version": 3
   },
   "file_extension": ".py",
   "mimetype": "text/x-python",
   "name": "python",
   "nbconvert_exporter": "python",
   "pygments_lexer": "ipython3",
   "version": "3.6.6"
  }
 },
 "nbformat": 4,
 "nbformat_minor": 2
}
