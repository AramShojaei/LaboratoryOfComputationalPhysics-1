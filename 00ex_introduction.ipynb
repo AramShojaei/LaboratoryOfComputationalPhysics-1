{
 "cells": [
  {
   "cell_type": "markdown",
   "metadata": {},
   "source": [
    "1. The MickeyMouse problem\n",
    "\n",
    "a) Write a program that prints the numbers from 1 to 100. But for multiples of three print Mickey instead of the number and for the multiples of five print Mouse. For numbers which are multiples of both three and five print MickeyMouse\n",
    "\n",
    "b) Put the result in a tuple and substitute Mickey with Donald and Mouse with Duck"
   ]
  },
  {
   "cell_type": "code",
   "execution_count": null,
   "metadata": {
    "collapsed": true
   },
   "outputs": [],
   "source": [
    "li = []\n",
    "for i in range(1,100):\n",
    "    if(i%3==0):\n",
    "        #multiple of 15(3*5)\n",
    "        if(i%5==0):\n",
    "            li.insert(i,\"MickeyMouse\")\n",
    "        #multiple of 3\n",
    "        else:\n",
    "            li.insert(i,\"Mickey\")\n",
    "    #multiple of 5\n",
    "    elif(i%5==0):\n",
    "        li.insert(i,\"Mouse\")\n",
    "    else:\n",
    "        li.insert(i,str(i))\n",
    "        \n",
    "print(li)\n",
    "\n",
    "for i in range(len(li)):\n",
    "    #replace in the element the substrings\n",
    "    li[i] = li[i].replace(\"Mickey\",\"Donald\")\n",
    "    li[i] = li[i].replace(\"Mouse\",\"Duck\")\n",
    "    \n",
    "#the tuple is static so I change the type here\n",
    "li = tuple(li)\n",
    "print(\"new tuple:\")\n",
    "print(li)"
   ]
  },
  {
   "cell_type": "markdown",
   "metadata": {},
   "source": [
    "2\\. The swap function\n",
    "\n",
    "Write a function that swap the values of two input variables x and y (whatever the type). Try to do that also without a temporary variable"
   ]
  },
  {
   "cell_type": "code",
   "execution_count": null,
   "metadata": {
    "collapsed": true
   },
   "outputs": [],
   "source": [
    "#classic swap with temporary var\n",
    "def swap(a,b):\n",
    "    t = b\n",
    "    b = a\n",
    "    a = t\n",
    "    return a,b\n",
    "\n",
    "a,b = \"2a\",\"5b\"\n",
    "a,b = swap(a,b)\n",
    "print(a,b)\n",
    "\n",
    "#swapping in the Python way\n",
    "a, b = b, a\n",
    "print(a,b)\n"
   ]
  },
  {
   "cell_type": "markdown",
   "metadata": {},
   "source": [
    "3\\. Computing the distance\n",
    "\n",
    "Write a function that calculates and returns the euclidean distance between two points *u* and *v*, where *u* and *v* are both 2-tuples *(x,y)*. For example, if *u=(3,0)* and *v=(0,4)*, the function should return 5"
   ]
  },
  {
   "cell_type": "code",
   "execution_count": null,
   "metadata": {
    "collapsed": true
   },
   "outputs": [],
   "source": [
    "def eucl(u,v):\n",
    "    return(pow((u[0]-v[0])**2+(u[1]-v[1])**2,0.5))\n",
    "eucl((4,0),(4,1))"
   ]
  },
  {
   "cell_type": "markdown",
   "metadata": {},
   "source": [
    "4\\. Counting letters\n",
    "\n",
    "Write a program to calculate the number of times each character occurs in a given string *s*. Ignore differneces in capitalization"
   ]
  },
  {
   "cell_type": "code",
   "execution_count": null,
   "metadata": {
    "collapsed": true
   },
   "outputs": [],
   "source": [
    "s=\"Write a program that prints the numbers from 1 to 100. \\\n",
    "But for multiples of three print Mickey instead of the number and for the multiples of five print Mouse. \\\n",
    "For numbers which are multiples of both three and five print MickeyMouse\"\n",
    "#lowering the string\n",
    "s = s.lower()\n",
    "l = {}\n",
    "#create a dictionary: for each key(letter) found in the string add an entry, increment the counter by 1 each time I see that letter\n",
    "for x in s:\n",
    "    if x in l:\n",
    "        l[x]+=1\n",
    "    else:\n",
    "        l[x] = 1\n",
    "        \n",
    "l"
   ]
  },
  {
   "cell_type": "markdown",
   "metadata": {},
   "source": [
    "5\\. Isolating the unique\n",
    "\n",
    "Write a function that determines and count the unique numbers in the list *l*"
   ]
  },
  {
   "cell_type": "code",
   "execution_count": null,
   "metadata": {
    "collapsed": true
   },
   "outputs": [],
   "source": [
    "l = [36, 45, 58, 3, 74, 96, 64, 45, 31, 10, 24, 19, 33, 86, 99, 18, 63, 70, 85,\n",
    " 85, 63, 47, 56, 42, 70, 84, 88, 55, 20, 54, 8, 56, 51, 79, 81, 57, 37, 91,\n",
    " 1, 84, 84, 36, 66, 9, 89, 50, 42, 91, 50, 95, 90, 98, 39, 16, 82, 31, 92, 41,\n",
    " 45, 30, 66, 70, 34, 85, 94, 5, 3, 36, 72, 91, 84, 34, 87, 75, 53, 51, 20, 89, 51, 20]\n",
    "\n",
    "def unique(l):\n",
    "    temp = []\n",
    "    #if the element is in the list, remove(it's not unique). Else add to the list\n",
    "    for x in l:\n",
    "        if x in temp:\n",
    "            temp.remove(x)\n",
    "        else:\n",
    "            temp.append(x)\n",
    "    return temp, len(temp)\n",
    "\n",
    "u, length = unique(l) #unique if it's alone\n",
    "print(\"number of unique elements: {}\".format(length))\n",
    "print(\"Which are: {}\".format(u))"
   ]
  },
  {
   "cell_type": "markdown",
   "metadata": {},
   "source": [
    "6\\. Combination of functions\n",
    "\n",
    "Write two functions - one that returns the square of a number, and one that returns the cube. Now write a third function that returns the number raised to the 6th power using the two previous functions."
   ]
  },
  {
   "cell_type": "code",
   "execution_count": null,
   "metadata": {
    "collapsed": true
   },
   "outputs": [],
   "source": [
    "def sq(a):\n",
    "    return a**2\n",
    "\n",
    "def th(a):\n",
    "    return a**3\n",
    "\n",
    "def sth(a):\n",
    "    return sq(th(a))\n",
    "\n",
    "sth(2)"
   ]
  },
  {
   "cell_type": "markdown",
   "metadata": {},
   "source": [
    "7\\. Cubes\n",
    "\n",
    "Create a list of the cubes of x for x in *[0, 10]* using:\n",
    "\n",
    "a) a for loop\n",
    "\n",
    "b) a list comprehension"
   ]
  },
  {
   "cell_type": "code",
   "execution_count": null,
   "metadata": {
    "collapsed": true
   },
   "outputs": [],
   "source": [
    "l = []\n",
    "for x in range(10):\n",
    "    l.append(th(x))\n",
    "\n",
    "l2 = [th(x) for x in range(10)]\n",
    "print(l)\n",
    "print(l2)"
   ]
  },
  {
   "cell_type": "markdown",
   "metadata": {},
   "source": [
    "8\\. Nested list comprehension\n",
    "\n",
    "A Pythagorean triple is an integer solution to the Pythagorean theorem $a^2+b^2=c^2$. The first Pythagorean triple is (3,4,5). Find and put in a tuple all unique Pythagorean triples for the positive integers a, b and c less than 100."
   ]
  },
  {
   "cell_type": "code",
   "execution_count": null,
   "metadata": {
    "collapsed": true,
    "scrolled": false
   },
   "outputs": [],
   "source": [
    "#range(a,b) goes in the interval [a,b) so 100+1\n",
    "#searching a,b,c s.t. b > a and c > b(to avoid repetition as 3,4,5  and 4,3,5)\n",
    "l = [(a,b,c) for a in range(1,100+1) for b in range(a,100+1) for c in range(b,100+1) if sq(a) + sq(b) == sq(c)]\n",
    "l"
   ]
  },
  {
   "cell_type": "markdown",
   "metadata": {},
   "source": [
    "9\\. Normalization\n",
    "\n",
    "Write a function that takes a tuple of numbers and returns it with the entries normalized to one"
   ]
  },
  {
   "cell_type": "code",
   "execution_count": null,
   "metadata": {
    "collapsed": true
   },
   "outputs": [],
   "source": [
    "def norm(l):\n",
    "    s = sum(l)\n",
    "    return [x/s for x in l]\n",
    "\n",
    "lis = [1,2,3,4,5]\n",
    "norm(lis)"
   ]
  }
 ],
 "metadata": {
  "kernelspec": {
   "display_name": "Python 3",
   "language": "python",
   "name": "python3"
  },
  "language_info": {
   "codemirror_mode": {
    "name": "ipython",
    "version": 3
   },
   "file_extension": ".py",
   "mimetype": "text/x-python",
   "name": "python",
   "nbconvert_exporter": "python",
   "pygments_lexer": "ipython3",
   "version": "3.6.6"
  }
 },
 "nbformat": 4,
 "nbformat_minor": 2
}
