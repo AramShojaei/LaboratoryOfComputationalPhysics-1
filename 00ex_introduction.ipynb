{
 "cells": [
  {
   "cell_type": "markdown",
   "metadata": {},
   "source": [
    "1. The MickeyMouse problem\n",
    "\n",
    "a) Write a program that prints the numbers from 1 to 100. But for multiples of three print Mickey instead of the number and for the multiples of five print Mouse. For numbers which are multiples of both three and five print MickeyMouse\n",
    "\n",
    "b) Put the result in a tuple and substitute Mickey with Donald and Mouse with Duck"
   ]
  },
  {
   "cell_type": "code",
   "execution_count": 4,
   "metadata": {},
   "outputs": [
    {
     "name": "stdout",
     "output_type": "stream",
     "text": [
      "1, 2, Mickey, 4, Mouse, Mickey, 7, 8, Mickey, Mouse, 11, Mickey, 13, 14, MickeyMouse, 16, 17, Mickey, 19, Mouse, Mickey, 22, 23, Mickey, Mouse, 26, Mickey, 28, 29, MickeyMouse, 31, 32, Mickey, 34, Mouse, Mickey, 37, 38, Mickey, Mouse, 41, Mickey, 43, 44, MickeyMouse, 46, 47, Mickey, 49, Mouse, Mickey, 52, 53, Mickey, Mouse, 56, Mickey, 58, 59, MickeyMouse, 61, 62, Mickey, 64, Mouse, Mickey, 67, 68, Mickey, Mouse, 71, Mickey, 73, 74, MickeyMouse, 76, 77, Mickey, 79, Mouse, Mickey, 82, 83, Mickey, Mouse, 86, Mickey, 88, 89, MickeyMouse, 91, 92, Mickey, 94, Mouse, Mickey, 97, 98, Mickey, Mouse.\n",
      "\n",
      "1, 2, Donald, 4, Duck, Donald, 7, 8, Donald, Duck, 11, Donald, 13, 14, DonaldDuck, 16, 17, Donald, 19, Duck, Donald, 22, 23, Donald, Duck, 26, Donald, 28, 29, DonaldDuck, 31, 32, Donald, 34, Duck, Donald, 37, 38, Donald, Duck, 41, Donald, 43, 44, DonaldDuck, 46, 47, Donald, 49, Duck, Donald, 52, 53, Donald, Duck, 56, Donald, 58, 59, DonaldDuck, 61, 62, Donald, 64, Duck, Donald, 67, 68, Donald, Duck, 71, Donald, 73, 74, DonaldDuck, 76, 77, Donald, 79, Duck, Donald, 82, 83, Donald, Duck, 86, Donald, 88, 89, DonaldDuck, 91, 92, Donald, 94, Duck, Donald, 97, 98, Donald, Duck.\n"
     ]
    }
   ],
   "source": [
    "def map_func(n):\n",
    "    if (n%5==0) and (n%3==0):\n",
    "        return \"MickeyMouse\"\n",
    "    elif n%3==0:\n",
    "        return \"Mickey\"\n",
    "    elif n%5==0:\n",
    "        return \"Mouse\"\n",
    "    else:\n",
    "        return n\n",
    "\n",
    "def rename(m):\n",
    "    if type(m) == str:\n",
    "        m = m.replace('Mickey', 'Donald')\n",
    "        m = m.replace('Mouse', 'Duck')\n",
    "        return m\n",
    "    else:\n",
    "        return m\n",
    "\n",
    "    \n",
    "lis = [map_func(x) for x in range(1, 101) ]\n",
    "i = 0\n",
    "while i < 100:\n",
    "    if i < 99:\n",
    "        print(str(lis[i]) + ',', end=' ')\n",
    "        i += 1\n",
    "    else:\n",
    "        print(str(lis[i]), end='.\\n\\n')\n",
    "        i += 1\n",
    "        \n",
    "        \n",
    "tup = [rename(y) for y in lis]\n",
    "i = 0\n",
    "while i < 100:\n",
    "    if i < 99:\n",
    "        print(str(tup[i]) + ',', end=' ')\n",
    "        i += 1\n",
    "    else:\n",
    "        print(str(tup[i]), end='.\\n')\n",
    "        i += 1\n"
   ]
  },
  {
   "cell_type": "markdown",
   "metadata": {},
   "source": [
    "2\\. The swap function\n",
    "\n",
    "Write a function that swap the values of two input variables x and y (whatever the type). Try to do that also without a temporary variable"
   ]
  },
  {
   "cell_type": "code",
   "execution_count": 5,
   "metadata": {},
   "outputs": [
    {
     "name": "stdout",
     "output_type": "stream",
     "text": [
      "2\n",
      "1\n"
     ]
    }
   ],
   "source": [
    "def swap(x, y):\n",
    "    z = x\n",
    "    x = y\n",
    "    y = z\n",
    "    return x, y\n",
    "\n",
    "def smart_swap(x, y):\n",
    "    return y, x\n",
    "\n",
    "x = 1\n",
    "y = 2\n",
    "x,y = smart_swap(x,y)\n",
    "print(x)\n",
    "print(y)"
   ]
  },
  {
   "cell_type": "markdown",
   "metadata": {},
   "source": [
    "3\\. Computing the distance\n",
    "\n",
    "Write a function that calculates and returns the euclidean distance between two points *u* and *v*, where *u* and *v* are both 2-tuples *(x,y)*. For example, if *u=(3,0)* and *v=(0,4)*, the function should return 5"
   ]
  },
  {
   "cell_type": "code",
   "execution_count": 6,
   "metadata": {},
   "outputs": [
    {
     "name": "stdout",
     "output_type": "stream",
     "text": [
      "2.23606797749979\n"
     ]
    }
   ],
   "source": [
    "def euclidean_2d(x,y):\n",
    "    \"\"\"Expected two 2d vector as inputs\"\"\"\n",
    "    return (pow(x[0]-y[0],2)+pow(x[1]-y[1],2))**0.5\n",
    "\n",
    "u=(3,3)\n",
    "v=(1,4)\n",
    "d = euclidean_2d(u,v)\n",
    "print(d)"
   ]
  },
  {
   "cell_type": "markdown",
   "metadata": {},
   "source": [
    "4\\. Counting letters\n",
    "\n",
    "Write a program to calculate the number of times each character occurs in a given string *s*. Ignore differneces in capitalization"
   ]
  },
  {
   "cell_type": "code",
   "execution_count": 14,
   "metadata": {},
   "outputs": [
    {
     "name": "stdout",
     "output_type": "stream",
     "text": [
      "232\n",
      "a :  7\n",
      "b :  5\n",
      "c :  3\n",
      "d :  3\n",
      "e :  22\n",
      "f :  10\n",
      "g :  1\n",
      "h :  9\n",
      "i :  14\n",
      "k :  2\n",
      "l :  6\n",
      "m :  12\n",
      "n :  10\n",
      "o :  13\n",
      "p :  8\n",
      "r :  17\n",
      "s :  9\n",
      "t :  19\n",
      "u :  9\n",
      "v :  2\n",
      "w :  2\n",
      "y :  2\n"
     ]
    }
   ],
   "source": [
    "s=\"Write a program that prints the numbers from 1 to 100. \\\n",
    "But for multiples of three print Mickey instead of the number and for the multiples of five print Mouse. \\\n",
    "For numbers which are multiples of both three and five print MickeyMouse\"\n",
    "print(len(s))\n",
    "s = s.lower()\n",
    "\n",
    "def count(string):\n",
    "    dictionary = {}\n",
    "    for letter in string:\n",
    "        if letter in dictionary.keys():\n",
    "            dictionary[letter]+=1\n",
    "        else:\n",
    "            dictionary.update({letter:1})\n",
    "    return dictionary\n",
    "\n",
    "results = count(s)\n",
    "keys = list(results.keys())\n",
    "keys.sort()\n",
    "for key in keys:\n",
    "    print(key, \": \", results[key])"
   ]
  },
  {
   "cell_type": "markdown",
   "metadata": {},
   "source": [
    "5\\. Isolating the unique\n",
    "\n",
    "Write a function that determines and count the unique numbers in the list `l`"
   ]
  },
  {
   "cell_type": "code",
   "execution_count": 20,
   "metadata": {},
   "outputs": [
    {
     "name": "stdout",
     "output_type": "stream",
     "text": [
      "54 \n",
      "\n",
      "1 :  1\n",
      "3 :  2\n",
      "5 :  1\n",
      "8 :  1\n",
      "9 :  1\n",
      "10 :  1\n",
      "16 :  1\n",
      "18 :  1\n",
      "19 :  1\n",
      "20 :  3\n",
      "24 :  1\n",
      "30 :  1\n",
      "31 :  2\n",
      "33 :  1\n",
      "34 :  2\n",
      "36 :  3\n",
      "37 :  1\n",
      "39 :  1\n",
      "41 :  1\n",
      "42 :  2\n",
      "45 :  3\n",
      "47 :  1\n",
      "50 :  2\n",
      "51 :  3\n",
      "53 :  1\n",
      "54 :  1\n",
      "55 :  1\n",
      "56 :  2\n",
      "57 :  1\n",
      "58 :  1\n",
      "63 :  2\n",
      "64 :  1\n",
      "66 :  2\n",
      "70 :  3\n",
      "72 :  1\n",
      "74 :  1\n",
      "75 :  1\n",
      "79 :  1\n",
      "81 :  1\n",
      "82 :  1\n",
      "84 :  4\n",
      "85 :  3\n",
      "86 :  1\n",
      "87 :  1\n",
      "88 :  1\n",
      "89 :  2\n",
      "90 :  1\n",
      "91 :  3\n",
      "92 :  1\n",
      "94 :  1\n",
      "95 :  1\n",
      "96 :  1\n",
      "98 :  1\n",
      "99 :  1\n"
     ]
    }
   ],
   "source": [
    "l = [36, 45, 58, 3, 74, 96, 64, 45, 31, 10, 24, 19, 33, 86, \n",
    "     99, 18, 63, 70, 85, 85, 63, 47, 56, 42, 70, 84, 88, 55,  \n",
    "     20, 54, 8, 56, 51, 79, 81, 57, 37, 91, 1, 84, 84, 36, \n",
    "     66, 9, 89, 50, 42, 91, 50, 95, 90, 98, 39, 16, 82, 31, \n",
    "     92, 41, 45, 30, 66, 70, 34, 85, 94, 5, 3, 36, 72, 91, \n",
    "     84, 34, 87, 75, 53, 51, 20, 89, 51, 20]\n",
    "\n",
    "def count(string):\n",
    "    dictionary = {}\n",
    "    for letter in string:\n",
    "        if letter in dictionary.keys():\n",
    "            dictionary[letter]+=1\n",
    "        else:\n",
    "            dictionary.update({letter:1})\n",
    "    return dictionary\n",
    "\n",
    "results = count(l)\n",
    "numbers = list(results.keys())\n",
    "numbers.sort()\n",
    "# print(numbers, '\\n')\n",
    "print(len(results), '\\n')\n",
    "\n",
    "keys = list(results.keys())\n",
    "keys.sort()\n",
    "for key in keys:\n",
    "    print(key, \": \", results[key])"
   ]
  },
  {
   "cell_type": "markdown",
   "metadata": {},
   "source": [
    "6\\. Combination of functions\n",
    "\n",
    "Write two functions - one that returns the square of a number, and one that returns the cube. Now write a third function that returns the number raised to the 6th power using the two previous functions."
   ]
  },
  {
   "cell_type": "code",
   "execution_count": 11,
   "metadata": {},
   "outputs": [
    {
     "name": "stdout",
     "output_type": "stream",
     "text": [
      "64\n"
     ]
    }
   ],
   "source": [
    "def square(x):\n",
    "    return x**2\n",
    "def cube(x):\n",
    "    return x**3\n",
    "def th6(x):\n",
    "    return square(cube(x))\n",
    "\n",
    "print(th6(2))"
   ]
  },
  {
   "cell_type": "markdown",
   "metadata": {},
   "source": [
    "7\\. Cubes\n",
    "\n",
    "Create a list of the cubes of x for x in *[0, 10]* using:\n",
    "\n",
    "a) a for loop\n",
    "\n",
    "b) a list comprehension"
   ]
  },
  {
   "cell_type": "code",
   "execution_count": 16,
   "metadata": {},
   "outputs": [
    {
     "name": "stdout",
     "output_type": "stream",
     "text": [
      "[0, 1, 8, 27, 64, 125, 216, 343, 512, 729, 1000]\n",
      "[0, 1, 8, 27, 64, 125, 216, 343, 512, 729, 1000]\n"
     ]
    }
   ],
   "source": [
    "cubes=[]\n",
    "for x in range(11):\n",
    "    cubes.append(x**3)\n",
    "    \n",
    "\n",
    "cubes2=[x**3 for x in range(11)]\n",
    "print(cubes)\n",
    "print(cubes2)"
   ]
  },
  {
   "cell_type": "markdown",
   "metadata": {},
   "source": [
    "8\\. Nested list comprehension\n",
    "\n",
    "A Pythagorean triple is an integer solution to the Pythagorean theorem $a^2+b^2=c^2$. The first Pythagorean triple is (3,4,5). Find and put in a tuple all unique Pythagorean triples for the positive integers a, b and c less than 100."
   ]
  },
  {
   "cell_type": "code",
   "execution_count": 46,
   "metadata": {},
   "outputs": [
    {
     "data": {
      "text/plain": [
       "[(3, 4, 5),\n",
       " (5, 12, 13),\n",
       " (6, 8, 10),\n",
       " (7, 24, 25),\n",
       " (8, 15, 17),\n",
       " (9, 12, 15),\n",
       " (9, 40, 41),\n",
       " (10, 24, 26),\n",
       " (11, 60, 61),\n",
       " (12, 16, 20),\n",
       " (12, 35, 37),\n",
       " (13, 84, 85),\n",
       " (14, 48, 50),\n",
       " (15, 20, 25),\n",
       " (15, 36, 39),\n",
       " (16, 30, 34),\n",
       " (16, 63, 65),\n",
       " (18, 24, 30),\n",
       " (18, 80, 82),\n",
       " (20, 21, 29),\n",
       " (20, 48, 52),\n",
       " (21, 28, 35),\n",
       " (21, 72, 75),\n",
       " (24, 32, 40),\n",
       " (24, 45, 51),\n",
       " (24, 70, 74),\n",
       " (25, 60, 65),\n",
       " (27, 36, 45),\n",
       " (28, 45, 53),\n",
       " (30, 40, 50),\n",
       " (30, 72, 78),\n",
       " (32, 60, 68),\n",
       " (33, 44, 55),\n",
       " (33, 56, 65),\n",
       " (35, 84, 91),\n",
       " (36, 48, 60),\n",
       " (36, 77, 85),\n",
       " (39, 52, 65),\n",
       " (39, 80, 89),\n",
       " (40, 42, 58),\n",
       " (40, 75, 85),\n",
       " (42, 56, 70),\n",
       " (45, 60, 75),\n",
       " (48, 55, 73),\n",
       " (48, 64, 80),\n",
       " (51, 68, 85),\n",
       " (54, 72, 90),\n",
       " (57, 76, 95),\n",
       " (60, 63, 87),\n",
       " (65, 72, 97)]"
      ]
     },
     "execution_count": 46,
     "metadata": {},
     "output_type": "execute_result"
    }
   ],
   "source": [
    "import itertools as it\n",
    "iterator = it.combinations_with_replacement\n",
    "pytha_tris = [(i,j,k) for i,j,k in iterator(range(1, 100),3)  if (j**2 + i**2) == k**2 ]\n",
    "pytha_tris"
   ]
  },
  {
   "cell_type": "markdown",
   "metadata": {},
   "source": [
    "9\\. Normalization\n",
    "\n",
    "Write a function that takes a tuple of numbers and returns it with the entries normalized to one"
   ]
  },
  {
   "cell_type": "code",
   "execution_count": 23,
   "metadata": {},
   "outputs": [
    {
     "name": "stdout",
     "output_type": "stream",
     "text": [
      "x,y: 0.6,0.8\n"
     ]
    }
   ],
   "source": [
    "def normalize(x):\n",
    "    sum = 0\n",
    "    for i in x:\n",
    "        sum += i**2\n",
    "    mod = sum**0.5\n",
    "    results = [j/mod for j in x]\n",
    "    return results\n",
    "\n",
    "x = 3\n",
    "y = 4\n",
    "x, y = normalize((x, y))\n",
    "print('x,y: {},{}'.format(x,y))"
   ]
  },
  {
   "cell_type": "code",
   "execution_count": null,
   "metadata": {},
   "outputs": [
    {
     "name": "stdout",
     "output_type": "stream",
     "text": [
      "x,y: 0.6,0.8\n"
     ]
    }
   ],
   "source": [
    "def normalize(x,y):\n",
    "    mod = (x**2+y**2)**0.5\n",
    "    return x/mod, y/mod\n",
    "\n",
    "x = 3\n",
    "y = 4\n",
    "x, y = normalize(x, y)\n",
    "print('x,y: {},{}'.format(x,y))"
   ]
  },
  {
   "cell_type": "code",
   "execution_count": null,
   "metadata": {
    "collapsed": true
   },
   "outputs": [],
   "source": []
  }
 ],
 "metadata": {
  "kernelspec": {
   "display_name": "Python 3",
   "language": "python",
   "name": "python3"
  },
  "language_info": {
   "codemirror_mode": {
    "name": "ipython",
    "version": 3
   },
   "file_extension": ".py",
   "mimetype": "text/x-python",
   "name": "python",
   "nbconvert_exporter": "python",
   "pygments_lexer": "ipython3",
   "version": "3.6.7"
  }
 },
 "nbformat": 4,
 "nbformat_minor": 2
}
