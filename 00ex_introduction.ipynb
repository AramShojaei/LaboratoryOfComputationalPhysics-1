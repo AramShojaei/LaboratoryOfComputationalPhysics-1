{
 "cells": [
  {
   "cell_type": "markdown",
   "metadata": {},
   "source": [
    "1. The MickeyMouse problem\n",
    "\n",
    "a) Write a program that prints the numbers from 1 to 100. But for multiples of three print Mickey instead of the number and for the multiples of five print Mouse. For numbers which are multiples of both three and five print MickeyMouse\n",
    "\n",
    "b) Put the result in a tuple and substitute Mickey with Donald and Mouse with Duck"
   ]
  },
  {
   "cell_type": "code",
   "execution_count": 22,
   "metadata": {},
   "outputs": [
    {
     "name": "stdout",
     "output_type": "stream",
     "text": [
      "1\n",
      "2\n",
      "Mickey\n",
      "4\n",
      "Mouse\n",
      "Mickey\n",
      "7\n",
      "8\n",
      "Mickey\n",
      "Mouse\n",
      "11\n",
      "Mickey\n",
      "13\n",
      "14\n",
      "MickeyMouse\n",
      "16\n",
      "17\n",
      "Mickey\n",
      "19\n",
      "Mouse\n",
      "Mickey\n",
      "22\n",
      "23\n",
      "Mickey\n",
      "Mouse\n",
      "26\n",
      "Mickey\n",
      "28\n",
      "29\n",
      "MickeyMouse\n",
      "31\n",
      "32\n",
      "Mickey\n",
      "34\n",
      "Mouse\n",
      "Mickey\n",
      "37\n",
      "38\n",
      "Mickey\n",
      "Mouse\n",
      "41\n",
      "Mickey\n",
      "43\n",
      "44\n",
      "MickeyMouse\n",
      "46\n",
      "47\n",
      "Mickey\n",
      "49\n",
      "Mouse\n",
      "Mickey\n",
      "52\n",
      "53\n",
      "Mickey\n",
      "Mouse\n",
      "56\n",
      "Mickey\n",
      "58\n",
      "59\n",
      "MickeyMouse\n",
      "61\n",
      "62\n",
      "Mickey\n",
      "64\n",
      "Mouse\n",
      "Mickey\n",
      "67\n",
      "68\n",
      "Mickey\n",
      "Mouse\n",
      "71\n",
      "Mickey\n",
      "73\n",
      "74\n",
      "MickeyMouse\n",
      "76\n",
      "77\n",
      "Mickey\n",
      "79\n",
      "Mouse\n",
      "Mickey\n",
      "82\n",
      "83\n",
      "Mickey\n",
      "Mouse\n",
      "86\n",
      "Mickey\n",
      "88\n",
      "89\n",
      "MickeyMouse\n",
      "91\n",
      "92\n",
      "Mickey\n",
      "94\n",
      "Mouse\n",
      "Mickey\n",
      "97\n",
      "98\n",
      "Mickey\n",
      "Mouse\n",
      "\n",
      "\n",
      "\n",
      "\n",
      "1\n",
      "2\n",
      "Donald\n",
      "4\n",
      "Duck\n",
      "Donald\n",
      "7\n",
      "8\n",
      "Donald\n",
      "Duck\n",
      "11\n",
      "Donald\n",
      "13\n",
      "14\n",
      "DonaldDuck\n",
      "16\n",
      "17\n",
      "Donald\n",
      "19\n",
      "Duck\n",
      "Donald\n",
      "22\n",
      "23\n",
      "Donald\n",
      "Duck\n",
      "26\n",
      "Donald\n",
      "28\n",
      "29\n",
      "DonaldDuck\n",
      "31\n",
      "32\n",
      "Donald\n",
      "34\n",
      "Duck\n",
      "Donald\n",
      "37\n",
      "38\n",
      "Donald\n",
      "Duck\n",
      "41\n",
      "Donald\n",
      "43\n",
      "44\n",
      "DonaldDuck\n",
      "46\n",
      "47\n",
      "Donald\n",
      "49\n",
      "Duck\n",
      "Donald\n",
      "52\n",
      "53\n",
      "Donald\n",
      "Duck\n",
      "56\n",
      "Donald\n",
      "58\n",
      "59\n",
      "DonaldDuck\n",
      "61\n",
      "62\n",
      "Donald\n",
      "64\n",
      "Duck\n",
      "Donald\n",
      "67\n",
      "68\n",
      "Donald\n",
      "Duck\n",
      "71\n",
      "Donald\n",
      "73\n",
      "74\n",
      "DonaldDuck\n",
      "76\n",
      "77\n",
      "Donald\n",
      "79\n",
      "Duck\n",
      "Donald\n",
      "82\n",
      "83\n",
      "Donald\n",
      "Duck\n",
      "86\n",
      "Donald\n",
      "88\n",
      "89\n",
      "DonaldDuck\n",
      "91\n",
      "92\n",
      "Donald\n",
      "94\n",
      "Duck\n",
      "Donald\n",
      "97\n",
      "98\n",
      "Donald\n",
      "Duck\n",
      "<class 'list'>\n",
      "<class 'tuple'>\n"
     ]
    }
   ],
   "source": [
    "# prima lista\n",
    "\n",
    "l = [x for x in  range(1, 101)]\n",
    "\n",
    "for elem in l:\n",
    "    if elem%3 == 0 and elem%5 != 0:\n",
    "        l[l.index(elem)] = \"Mickey\"\n",
    "    elif elem%5 == 0 and elem%3 != 0:\n",
    "        l[l.index(elem)] = \"Mouse\"\n",
    "    elif elem%3 == 0 and elem%5 == 0:\n",
    "        l[l.index(elem)] = \"MickeyMouse\"\n",
    "\n",
    "for c in l:\n",
    "    print(c)\n",
    "\n",
    "# seconda parte\n",
    "\n",
    "l2 = tuple(l)\n",
    "\n",
    "print(\"\\n\\n\\n\")\n",
    "\n",
    "for elem in l2:\n",
    "    elem = str(elem)\n",
    "    if \"MickeyMouse\" in elem:\n",
    "        elem = \"DonaldDuck\"\n",
    "    elif \"Mickey\" in elem:\n",
    "        elem = \"Donald\"\n",
    "    elif \"Mouse\" in elem:\n",
    "        elem = \"Duck\"\n",
    "    \n",
    "    print(elem)\n",
    "\n",
    "print(type(l))\n",
    "print(type(l2))\n"
   ]
  },
  {
   "cell_type": "markdown",
   "metadata": {},
   "source": [
    "2\\. The swap function\n",
    "\n",
    "Write a function that swap the values of two input variables x and y (whatever the type). Try to do that also without a temporary variable"
   ]
  },
  {
   "cell_type": "code",
   "execution_count": 3,
   "metadata": {},
   "outputs": [
    {
     "name": "stdout",
     "output_type": "stream",
     "text": [
      "18 7\n",
      "7 18\n"
     ]
    }
   ],
   "source": [
    "\"\"\"\n",
    "x, y = [7], [18]\n",
    "\n",
    "def swap(x,y):\n",
    "    x[0], y[0] = y[0], x[0]\n",
    "\n",
    "swap(x,y)\n",
    "\n",
    "print(x[0], y[0])\n",
    "\"\"\"\n",
    "\n",
    "x, y = 7, 18\n",
    "\n",
    "arr = [x, y]\n",
    "\n",
    "def swap(v):\n",
    "    v[0], v[1] = v[1], v[0]\n",
    "\n",
    "swap(arr)\n",
    "\n",
    "print(arr[0], arr[1])\n",
    "print(x, y)\n",
    "\n",
    "#non funziona come penso..."
   ]
  },
  {
   "cell_type": "markdown",
   "metadata": {},
   "source": [
    "3\\. Computing the distance\n",
    "\n",
    "Write a function that calculates and returns the euclidean distance between two points *u* and *v*, where *u* and *v* are both 2-tuples *(x,y)*. For example, if *u=(3,0)* and *v=(0,4)*, the function should return 5"
   ]
  },
  {
   "cell_type": "code",
   "execution_count": 46,
   "metadata": {},
   "outputs": [
    {
     "name": "stdout",
     "output_type": "stream",
     "text": [
      "1.4142135623730951\n"
     ]
    }
   ],
   "source": [
    "def euclid2(x, y):\n",
    "    return pow( pow(x[0]+y[0],2) + pow(x[1]+y[1],2) , 0.5)\n",
    "\n",
    "u = [1, 0]\n",
    "v = [0, 1]\n",
    "\n",
    "print(euclid2(u,v))"
   ]
  },
  {
   "cell_type": "markdown",
   "metadata": {},
   "source": [
    "4\\. Counting letters\n",
    "\n",
    "Write a program to calculate the number of times each character occurs in a given string *s*. Ignore differneces in capitalization"
   ]
  },
  {
   "cell_type": "code",
   "execution_count": 57,
   "metadata": {},
   "outputs": [
    {
     "name": "stdout",
     "output_type": "stream",
     "text": [
      "w 2\n",
      "r 17\n",
      "i 14\n",
      "t 19\n",
      "e 22\n",
      "  41\n",
      "a 7\n",
      "p 8\n",
      "o 13\n",
      "g 1\n",
      "m 12\n",
      "h 9\n",
      "n 10\n",
      "s 9\n",
      "u 9\n",
      "b 5\n",
      "f 10\n",
      "1 2\n",
      "0 2\n",
      ". 2\n",
      "l 6\n",
      "c 3\n",
      "k 2\n",
      "y 2\n",
      "d 3\n",
      "v 2\n"
     ]
    }
   ],
   "source": [
    "s=\"Write a program that prints the numbers from 1 to 100. \\\n",
    "But for multiples of three print Mickey instead of the number and for the multiples of five print Mouse. \\\n",
    "For numbers which are multiples of both three and five print MickeyMouse\"\n",
    "\n",
    "# alphab = ['a', 'b', 'c', 'd', 'e', 'f', 'g', 'h', 'i', 'j', 'k', 'l', 'm', 'n', 'o', 'p', 'q', 'r', 's', 't', 'u', 'v', 'w', 'x', 'y', 'z']\n",
    "\n",
    "dictio = {}\n",
    "\n",
    "for c in s.lower():\n",
    "    str(c)\n",
    "    if c not in dictio:\n",
    "        dictio.update({c : 1})\n",
    "    else:\n",
    "        dictio[c] += 1\n",
    "\n",
    "for k in dictio:\n",
    "    print(k, dictio[k])"
   ]
  },
  {
   "cell_type": "markdown",
   "metadata": {},
   "source": [
    "5\\. Isolating the unique\n",
    "\n",
    "Write a function that determines and count the unique numbers in the list *l*"
   ]
  },
  {
   "cell_type": "code",
   "execution_count": 62,
   "metadata": {},
   "outputs": [
    {
     "name": "stdout",
     "output_type": "stream",
     "text": [
      "{58: 1, 74: 1, 96: 1, 64: 1, 10: 1, 24: 1, 19: 1, 33: 1, 86: 1, 99: 1, 18: 1, 47: 1, 88: 1, 55: 1, 54: 1, 8: 1, 79: 1, 81: 1, 57: 1, 37: 1, 1: 1, 9: 1, 95: 1, 90: 1, 98: 1, 39: 1, 16: 1, 82: 1, 92: 1, 41: 1, 30: 1, 94: 1, 5: 1, 72: 1, 87: 1, 75: 1, 53: 1}\n",
      "37\n"
     ]
    }
   ],
   "source": [
    "l = [36, 45, 58, 3, 74, 96, 64, 45, 31, 10, 24, 19, 33, 86, 99, 18, 63, 70, 85,\n",
    " 85, 63, 47, 56, 42, 70, 84, 88, 55, 20, 54, 8, 56, 51, 79, 81, 57, 37, 91,\n",
    " 1, 84, 84, 36, 66, 9, 89, 50, 42, 91, 50, 95, 90, 98, 39, 16, 82, 31, 92, 41,\n",
    " 45, 30, 66, 70, 34, 85, 94, 5, 3, 36, 72, 91, 84, 34, 87, 75, 53, 51, 20, 89, 51, 20]\n",
    "\n",
    "def cont(l):\n",
    "    l_cont = {}\n",
    "    for num in l:\n",
    "        if (num not in l_cont and l.count(num) == 1):\n",
    "            l_cont.update({num : l.count(num)})\n",
    "    return l_cont\n",
    "\n",
    "dictio = cont(l)\n",
    "\n",
    "print(dictio)\n",
    "\n",
    "print(len(dictio))"
   ]
  },
  {
   "cell_type": "markdown",
   "metadata": {},
   "source": [
    "6\\. Combination of functions\n",
    "\n",
    "Write two functions - one that returns the square of a number, and one that returns the cube. Now write a third function that returns the number raised to the 6th power using the two previous functions."
   ]
  },
  {
   "cell_type": "code",
   "execution_count": 79,
   "metadata": {},
   "outputs": [
    {
     "name": "stdout",
     "output_type": "stream",
     "text": [
      "Inserisci il numero di cui vuoi calcolare la sesta potenza: 100023465\n"
     ]
    },
    {
     "data": {
      "text/plain": [
       "1.0014087261677822e+48"
      ]
     },
     "execution_count": 79,
     "metadata": {},
     "output_type": "execute_result"
    }
   ],
   "source": [
    "def square(x):\n",
    "    return(x*x)\n",
    "\n",
    "def cube(x):\n",
    "    return(x*x*x)\n",
    "\n",
    "def calc(x):\n",
    "    return(square(cube(x)))\n",
    "\n",
    "x = float(input(\"Inserisci il numero di cui vuoi calcolare la sesta potenza: \"))\n",
    "\n",
    "calc(x)"
   ]
  },
  {
   "cell_type": "markdown",
   "metadata": {},
   "source": [
    "7\\. Cubes\n",
    "\n",
    "Create a list of the cubes of x for x in *[0, 10]* using:\n",
    "\n",
    "a) a for loop\n",
    "\n",
    "b) a list comprehension"
   ]
  },
  {
   "cell_type": "code",
   "execution_count": 65,
   "metadata": {},
   "outputs": [
    {
     "name": "stdout",
     "output_type": "stream",
     "text": [
      "[0, 1, 8, 27, 64, 125, 216, 343, 512, 729, 1000]\n",
      "[0, 1, 8, 27, 64, 125, 216, 343, 512, 729, 1000]\n"
     ]
    }
   ],
   "source": [
    "l_cubes = []\n",
    "\n",
    "for x in range(0, 11):\n",
    "    l_cubes.append(x**3)\n",
    "\n",
    "l_c = [x**3 for x in range(0, 11)]\n",
    "\n",
    "print(l_cubes)\n",
    "print(l_c)"
   ]
  },
  {
   "cell_type": "markdown",
   "metadata": {},
   "source": [
    "8\\. Nested list comprehension\n",
    "\n",
    "A Pythagorean triple is an integer solution to the Pythagorean theorem $a^2+b^2=c^2$. The first Pythagorean triple is (3,4,5). Find and put in a tuple all unique Pythagorean triples for the positive integers a, b and c less than 100."
   ]
  },
  {
   "cell_type": "code",
   "execution_count": 84,
   "metadata": {},
   "outputs": [
    {
     "name": "stdout",
     "output_type": "stream",
     "text": [
      "[(3, 4, 5), (5, 12, 13), (6, 8, 10), (7, 24, 25), (8, 15, 17), (9, 12, 15), (9, 40, 41), (10, 24, 26), (11, 60, 61), (12, 16, 20), (12, 35, 37), (13, 84, 85), (14, 48, 50), (15, 20, 25), (15, 36, 39), (15, 112, 113), (16, 30, 34), (16, 63, 65), (17, 144, 145), (18, 24, 30), (18, 80, 82), (19, 180, 181), (20, 21, 29), (20, 48, 52), (20, 99, 101), (21, 28, 35), (21, 72, 75), (21, 220, 221), (22, 120, 122), (24, 32, 40), (24, 45, 51), (24, 70, 74), (24, 143, 145), (25, 60, 65), (26, 168, 170), (27, 36, 45), (27, 120, 123), (28, 45, 53), (28, 96, 100), (28, 195, 197), (30, 40, 50), (30, 72, 78), (30, 224, 226), (32, 60, 68), (32, 126, 130), (33, 44, 55), (33, 56, 65), (33, 180, 183), (35, 84, 91), (35, 120, 125), (36, 48, 60), (36, 77, 85), (36, 105, 111), (36, 160, 164), (39, 52, 65), (39, 80, 89), (40, 42, 58), (40, 75, 85), (40, 96, 104), (40, 198, 202), (42, 56, 70), (42, 144, 150), (44, 117, 125), (44, 240, 244), (45, 60, 75), (45, 108, 117), (45, 200, 205), (48, 55, 73), (48, 64, 80), (48, 90, 102), (48, 140, 148), (48, 189, 195), (49, 168, 175), (50, 120, 130), (51, 68, 85), (51, 140, 149), (52, 165, 173), (54, 72, 90), (54, 240, 246), (55, 132, 143), (56, 90, 106), (56, 105, 119), (56, 192, 200), (57, 76, 95), (57, 176, 185), (60, 63, 87), (60, 80, 100), (60, 91, 109), (60, 144, 156), (60, 175, 185), (60, 221, 229), (63, 84, 105), (63, 216, 225), (64, 120, 136), (65, 72, 97), (65, 156, 169), (66, 88, 110), (66, 112, 130), (69, 92, 115), (70, 168, 182), (70, 240, 250), (72, 96, 120), (72, 135, 153), (72, 154, 170), (72, 210, 222), (75, 100, 125), (75, 180, 195), (78, 104, 130), (78, 160, 178), (80, 84, 116), (80, 150, 170), (80, 192, 208), (81, 108, 135), (84, 112, 140), (84, 135, 159), (84, 187, 205), (85, 132, 157), (85, 204, 221), (87, 116, 145), (88, 105, 137), (88, 165, 187), (88, 234, 250), (90, 120, 150), (90, 216, 234), (93, 124, 155), (95, 168, 193), (95, 228, 247), (96, 110, 146), (96, 128, 160), (96, 180, 204), (99, 132, 165), (99, 168, 195), (100, 105, 145), (102, 136, 170), (104, 153, 185), (104, 195, 221), (105, 140, 175), (105, 208, 233), (108, 144, 180), (111, 148, 185), (112, 180, 212), (112, 210, 238), (114, 152, 190), (117, 156, 195), (119, 120, 169), (120, 126, 174), (120, 160, 200), (120, 182, 218), (120, 209, 241), (123, 164, 205), (126, 168, 210), (129, 172, 215), (130, 144, 194), (132, 176, 220), (133, 156, 205), (135, 180, 225), (138, 184, 230), (140, 147, 203), (140, 171, 221), (141, 188, 235), (144, 165, 219), (144, 192, 240), (147, 196, 245), (150, 200, 250), (160, 168, 232)]\n"
     ]
    }
   ],
   "source": [
    "\"\"\"\n",
    "l_pyth = []\n",
    "for a in range(1, 101):\n",
    "    for b in range(a, 101):\n",
    "        for c in range(b, 101):\n",
    "            if (a**2 + b**2 == c**2):\n",
    "                l_pyth.append([a,b,c])\n",
    "for l in l_pyth:\n",
    "    print(l)\n",
    "\n",
    "\"\"\"\n",
    "\n",
    "l = [(x, y, z) for x in range(1, 251) for y in range(x, 251) for z in range(y, 251) if x**2 + y**2 == z**2]\n",
    "\n",
    "print(l)"
   ]
  },
  {
   "cell_type": "markdown",
   "metadata": {},
   "source": [
    "9\\. Normalization\n",
    "\n",
    "Write a function that takes a tuple of numbers and returns it with the entries normalized to one"
   ]
  },
  {
   "cell_type": "code",
   "execution_count": 71,
   "metadata": {},
   "outputs": [
    {
     "data": {
      "text/plain": [
       "[0.0,\n",
       " 0.03571428571428571,\n",
       " 0.07142857142857142,\n",
       " 0.10714285714285714,\n",
       " 0.14285714285714285,\n",
       " 0.17857142857142858,\n",
       " 0.21428571428571427,\n",
       " 0.25]"
      ]
     },
     "execution_count": 71,
     "metadata": {},
     "output_type": "execute_result"
    }
   ],
   "source": [
    "def norm(list_):\n",
    "    somma = sum(list_)\n",
    "    \n",
    "    for e in list_:\n",
    "        list_[list_.index(e)] = e/somma\n",
    "    return list_\n",
    "\n",
    "l = [0, 1, 2, 3, 4, 5, 6, 7]\n",
    "\n",
    "norm(l)"
   ]
  },
  {
   "cell_type": "code",
   "execution_count": null,
   "metadata": {
    "collapsed": true
   },
   "outputs": [],
   "source": []
  }
 ],
 "metadata": {
  "kernelspec": {
   "display_name": "Python 3",
   "language": "python",
   "name": "python3"
  },
  "language_info": {
   "codemirror_mode": {
    "name": "ipython",
    "version": 3
   },
   "file_extension": ".py",
   "mimetype": "text/x-python",
   "name": "python",
   "nbconvert_exporter": "python",
   "pygments_lexer": "ipython3",
   "version": "3.6.3"
  }
 },
 "nbformat": 4,
 "nbformat_minor": 2
}
