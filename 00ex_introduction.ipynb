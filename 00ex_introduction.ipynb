{
 "cells": [
  {
   "cell_type": "markdown",
   "metadata": {},
   "source": [
    "1. The MickeyMouse problem\n",
    "\n",
    "a) Write a program that prints the numbers from 1 to 100. But for multiples of three print Mickey instead of the number and for the multiples of five print Mouse. For numbers which are multiples of both three and five print MickeyMouse\n",
    "\n",
    "b) Put the result in a tuple and substitute Mickey with Donald and Mouse with Duck"
   ]
  },
  {
   "cell_type": "code",
   "execution_count": null,
   "metadata": {},
   "outputs": [],
   "source": [
    "# Iterate from 1 to 100 with step of 1 and print the results (already put the results in a list)\n",
    "\n",
    "ex1output = []\n",
    "\n",
    "for i in range(1,100,1):\n",
    "    if i % 3 == 0 and i % 5 == 0 :\n",
    "        value = \"MickeyMouse\"\n",
    "    elif i % 3 == 0 :\n",
    "        value = \"Mickey\"\n",
    "    elif i % 5 == 0 :\n",
    "        value = \"Mouse\"\n",
    "    else :\n",
    "        value = i\n",
    "        \n",
    "    print(value)\n",
    "    ex1output.append(value)"
   ]
  },
  {
   "cell_type": "code",
   "execution_count": null,
   "metadata": {},
   "outputs": [],
   "source": [
    "# We have the list ex1output containing all the previous cell results, using list comprehension\n",
    "# we generate another list with the values replaced\n",
    "\n",
    "ex1output_replaced = ['DonaldDuck' if word == 'MickeyMouse' \n",
    "                      else 'Donald' if word == 'Mickey' \n",
    "                      else 'Duck' if word == 'Mouse' \n",
    "                      else word \n",
    "                      for word in ex1output]\n",
    "\n",
    "print(ex1output_replaced)"
   ]
  },
  {
   "cell_type": "markdown",
   "metadata": {},
   "source": [
    "2\\. The swap function\n",
    "\n",
    "Write a function that swap the values of two input variables x and y (whatever the type). Try to do that also without a temporary variable"
   ]
  },
  {
   "cell_type": "code",
   "execution_count": null,
   "metadata": {},
   "outputs": [],
   "source": [
    "# Function that swap the value of two variables using a temporary variable\n",
    "def swap(a,b):\n",
    "    temp = a\n",
    "    a = b\n",
    "    b = temp\n",
    "    return a,b\n",
    "\n",
    "# Function that swap the value of two variables without using a temporary variable using string manipulation\n",
    "def noTempSwap(a,b):\n",
    "    typea = type(a)\n",
    "    typeb = type(b)\n",
    "    b = str(b) + \":\" + str(a)    \n",
    "    return typeb(b[:b.find(\":\")]), typea(b[b.find(\":\")+1:])\n",
    "\n",
    "a = \"Hello:How: ar:e yo:u\"\n",
    "b = 10\n",
    "\n",
    "print(\"Original values a=%s, b=%s\"% (a, b))\n",
    "a, b = noTempSwap(a, b)\n",
    "print(\"Modified values a=%s, b=%s\"% (a, b))"
   ]
  },
  {
   "cell_type": "markdown",
   "metadata": {},
   "source": [
    "3\\. Computing the distance\n",
    "\n",
    "Write a function that calculates and returns the euclidean distance between two points *u* and *v*, where *u* and *v* are both 2-tuples *(x,y)*. For example, if *u=(3,0)* and *v=(0,4)*, the function should return 5"
   ]
  },
  {
   "cell_type": "code",
   "execution_count": null,
   "metadata": {},
   "outputs": [],
   "source": [
    "#Function that finds the euclidean distance between two points \n",
    "import math\n",
    "def euclideanDist(a, b):\n",
    "    distance = math.sqrt(pow(a[0] - b[0], 2) + pow(a[1] - b[1], 2))\n",
    "    return distance\n",
    "\n",
    "u = (3, 0)\n",
    "v = (0, 4)\n",
    "\n",
    "print(\"The distance between %s and %s is %s\"% (u, v, euclideanDist(u, v)))"
   ]
  },
  {
   "cell_type": "markdown",
   "metadata": {},
   "source": [
    "4\\. Counting letters\n",
    "\n",
    "Write a program to calculate the number of times each character occurs in a given string *s*. Ignore differneces in capitalization"
   ]
  },
  {
   "cell_type": "code",
   "execution_count": null,
   "metadata": {},
   "outputs": [],
   "source": [
    "s=\"Write a program that prints the numbers from 1 to 100. \\\n",
    "But for multiples of three print Mickey instead of the number and for the multiples of five print Mouse. \\\n",
    "For numbers which are multiples of both three and five print MickeyMouse\""
   ]
  },
  {
   "cell_type": "code",
   "execution_count": null,
   "metadata": {},
   "outputs": [],
   "source": [
    "# Create a dictionary of key-value pairs in order to count the occurences of a certain characters\n",
    "ex4dict = dict()\n",
    "\n",
    "# Iterate through the string and analyze every character(capitalized in order to perform a case-unsensitive analysis)\n",
    "for i in range(0,len(characters),1):\n",
    "    key = s[i].capitalize()\n",
    "    # If the key already exist in the dictionary, increment its value by 1\n",
    "    if key in ex4dict:\n",
    "        ex4dict[key] += 1\n",
    "    # Else create a new key with value 1\n",
    "    else:\n",
    "        ex4dict[key] = 1\n",
    "        \n",
    "#Sort the dictionary in order to display key-value pairs in descending order with respect of the value\n",
    "sorted_by_value = sorted(ex4dict.items(), reverse=True, key=lambda kv: kv[1])\n",
    "\n",
    "print(sorted_by_value)"
   ]
  },
  {
   "cell_type": "markdown",
   "metadata": {},
   "source": [
    "5\\. Isolating the unique\n",
    "\n",
    "Write a function that determines and count the unique numbers in the list *l*"
   ]
  },
  {
   "cell_type": "code",
   "execution_count": null,
   "metadata": {},
   "outputs": [],
   "source": [
    "l = [36, 45, 58, 3, 74, 96, 64, 45, 31, 10, 24, 19, 33, 86, 99, 18, 63, 70, 85,\n",
    " 85, 63, 47, 56, 42, 70, 84, 88, 55, 20, 54, 8, 56, 51, 79, 81, 57, 37, 91,\n",
    " 1, 84, 84, 36, 66, 9, 89, 50, 42, 91, 50, 95, 90, 98, 39, 16, 82, 31, 92, 41,\n",
    " 45, 30, 66, 70, 34, 85, 94, 5, 3, 36, 72, 91, 84, 34, 87, 75, 53, 51, 20, 89, 51, 20]"
   ]
  },
  {
   "cell_type": "code",
   "execution_count": null,
   "metadata": {},
   "outputs": [],
   "source": [
    "# Create a dictionary of key-value pairs in order to count the occurences of a certain number\n",
    "ex5dict = dict()\n",
    "\n",
    "# Iterate through the string and analyze every number\n",
    "for i in range(0,len(l),1):\n",
    "    key = l[i]\n",
    "    # If the key already exist in the dictionary, delete it\n",
    "    if key in ex5dict:\n",
    "        ex5dict[key] += 1\n",
    "    # Else create a new key with value 1\n",
    "    else:\n",
    "        ex5dict[key] = 1\n",
    "\n",
    "# Using the keys() method to print only the keys and not their values\n",
    "u = [key for key, value in ex5dict.items() if value == 1]\n",
    "print(\"There are \" + str(len(u)) + \" unique numbers over the \" + str(len(l)) + \" numbers in the list and they are:\")\n",
    "print(u)"
   ]
  },
  {
   "cell_type": "markdown",
   "metadata": {},
   "source": [
    "6\\. Combination of functions\n",
    "\n",
    "Write two functions - one that returns the square of a number, and one that returns the cube. Now write a third function that returns the number raised to the 6th power using the two previous functions."
   ]
  },
  {
   "cell_type": "code",
   "execution_count": null,
   "metadata": {},
   "outputs": [],
   "source": [
    "def square(a):\n",
    "    return a**2\n",
    "\n",
    "def cube(a):\n",
    "    return a**3\n",
    "\n",
    "def sixthpow(a):\n",
    "    return square(cube(a))\n",
    "    \n",
    "num = 4\n",
    "print(\"The square of %s is: %s\"%(num,square(num)))\n",
    "print(\"The cube of %s is: %s\"%(num,cube(num)))\n",
    "print(\"The 6-th power of %s is: %s\"%(num,sixthpow(num)))"
   ]
  },
  {
   "cell_type": "markdown",
   "metadata": {},
   "source": [
    "7\\. Cubes\n",
    "\n",
    "Create a list of the cubes of x for x in *[0, 10]* using:\n",
    "\n",
    "a) a for loop\n",
    "\n",
    "b) a list comprehension"
   ]
  },
  {
   "cell_type": "code",
   "execution_count": null,
   "metadata": {},
   "outputs": [],
   "source": [
    "# Creation of a list of cubes using a loop and the cube() method declared before\n",
    "cubes_list = []\n",
    "for i in range(0, 10, 1):\n",
    "    cubes_list.append(cube(i))\n",
    "print(\"List created using loop: %s\"%(cubes_list))\n",
    "    \n",
    "# Creation of a list of cubes using a comprehension and the cube() method declared before\n",
    "cubes_lc = [cube(x) for x in range(0, 10, 1)]\n",
    "print(\"List created using list comprehension: %s\"%(cubes_lc))"
   ]
  },
  {
   "cell_type": "markdown",
   "metadata": {},
   "source": [
    "8\\. Nested list comprehension\n",
    "\n",
    "A Pythagorean triple is an integer solution to the Pythagorean theorem $a^2+b^2=c^2$. The first Pythagorean triple is (3,4,5). Find and put in a tuple all unique Pythagorean triples for the positive integers a, b and c less than 100."
   ]
  },
  {
   "cell_type": "code",
   "execution_count": null,
   "metadata": {},
   "outputs": [],
   "source": [
    "n = 100\n",
    "ex8triplets = [(a,b,c) for a in range(1,n+1) for b in range(a,n+1) for c in range(b,n+1) if a**2 + b**2 == c**2]\n",
    "\n",
    "print('\\n'.join('{}: {}'.format(*k) for k in enumerate(ex8triplets)))"
   ]
  },
  {
   "cell_type": "markdown",
   "metadata": {},
   "source": [
    "9\\. Normalization\n",
    "\n",
    "Write a function that takes a tuple of numbers and returns it with the entries normalized to one"
   ]
  },
  {
   "cell_type": "code",
   "execution_count": null,
   "metadata": {},
   "outputs": [],
   "source": [
    "import math\n",
    "def normalize(vector):\n",
    "    \n",
    "    norm = max(vector)\n",
    "    \n",
    "    normalizedvalues = []\n",
    "    for i in range(0, len(vector), 1):\n",
    "        normalizedvalues.append(vector[i]/norm)\n",
    "    \n",
    "    return tuple(normalizedvalues)\n",
    "\n",
    "vec = (1,1,1,3)\n",
    "normalized_vec = normalize(vec)\n",
    "\n",
    "print(\"The normalized vector is: %s\"%(normalized_vec,))"
   ]
  },
  {
   "cell_type": "code",
   "execution_count": null,
   "metadata": {},
   "outputs": [],
   "source": []
  }
 ],
 "metadata": {
  "kernelspec": {
   "display_name": "Python 3",
   "language": "python",
   "name": "python3"
  },
  "language_info": {
   "codemirror_mode": {
    "name": "ipython",
    "version": 3
   },
   "file_extension": ".py",
   "mimetype": "text/x-python",
   "name": "python",
   "nbconvert_exporter": "python",
   "pygments_lexer": "ipython3",
   "version": "3.7.0"
  }
 },
 "nbformat": 4,
 "nbformat_minor": 2
}
