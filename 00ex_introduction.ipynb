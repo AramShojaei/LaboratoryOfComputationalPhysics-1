{
 "cells": [
  {
   "cell_type": "markdown",
   "metadata": {},
   "source": [
    "1. The MickeyMouse problem\n",
    "\n",
    "a) Write a program that prints the numbers from 1 to 100. But for multiples of three print Mickey instead of the number and for the multiples of five print Mouse. For numbers which are multiples of both three and five print MickeyMouse\n",
    "\n",
    "b) Put the result in a tuple and substitute Mickey with Donald and Mouse with Duck"
   ]
  },
  {
   "cell_type": "code",
   "execution_count": 1,
   "metadata": {},
   "outputs": [
    {
     "name": "stdout",
     "output_type": "stream",
     "text": [
      "1\n",
      "2\n",
      "Mickey\n",
      "4\n",
      "Mouse\n",
      "Mickey\n",
      "7\n",
      "8\n",
      "Mickey\n",
      "Mouse\n",
      "11\n",
      "Mickey\n",
      "13\n",
      "14\n",
      "MickeyMouse\n",
      "16\n",
      "17\n",
      "Mickey\n",
      "19\n",
      "Mouse\n",
      "Mickey\n",
      "22\n",
      "23\n",
      "Mickey\n",
      "Mouse\n",
      "26\n",
      "Mickey\n",
      "28\n",
      "29\n",
      "MickeyMouse\n",
      "31\n",
      "32\n",
      "Mickey\n",
      "34\n",
      "Mouse\n",
      "Mickey\n",
      "37\n",
      "38\n",
      "Mickey\n",
      "Mouse\n",
      "41\n",
      "Mickey\n",
      "43\n",
      "44\n",
      "MickeyMouse\n",
      "46\n",
      "47\n",
      "Mickey\n",
      "49\n",
      "Mouse\n",
      "Mickey\n",
      "52\n",
      "53\n",
      "Mickey\n",
      "Mouse\n",
      "56\n",
      "Mickey\n",
      "58\n",
      "59\n",
      "MickeyMouse\n",
      "61\n",
      "62\n",
      "Mickey\n",
      "64\n",
      "Mouse\n",
      "Mickey\n",
      "67\n",
      "68\n",
      "Mickey\n",
      "Mouse\n",
      "71\n",
      "Mickey\n",
      "73\n",
      "74\n",
      "MickeyMouse\n",
      "76\n",
      "77\n",
      "Mickey\n",
      "79\n",
      "Mouse\n",
      "Mickey\n",
      "82\n",
      "83\n",
      "Mickey\n",
      "Mouse\n",
      "86\n",
      "Mickey\n",
      "88\n",
      "89\n",
      "MickeyMouse\n",
      "91\n",
      "92\n",
      "Mickey\n",
      "94\n",
      "Mouse\n",
      "Mickey\n",
      "97\n",
      "98\n",
      "Mickey\n",
      "1\n",
      "2\n",
      "Donald\n",
      "4\n",
      "Duck\n",
      "Donald\n",
      "7\n",
      "8\n",
      "Donald\n",
      "Duck\n",
      "11\n",
      "Donald\n",
      "13\n",
      "14\n",
      "DonaldDuck\n",
      "16\n",
      "17\n",
      "Donald\n",
      "19\n",
      "Duck\n",
      "Donald\n",
      "22\n",
      "23\n",
      "Donald\n",
      "Duck\n",
      "26\n",
      "Donald\n",
      "28\n",
      "29\n",
      "DonaldDuck\n",
      "31\n",
      "32\n",
      "Donald\n",
      "34\n",
      "Duck\n",
      "Donald\n",
      "37\n",
      "38\n",
      "Donald\n",
      "Duck\n",
      "41\n",
      "Donald\n",
      "43\n",
      "44\n",
      "DonaldDuck\n",
      "46\n",
      "47\n",
      "Donald\n",
      "49\n",
      "Duck\n",
      "Donald\n",
      "52\n",
      "53\n",
      "Donald\n",
      "Duck\n",
      "56\n",
      "Donald\n",
      "58\n",
      "59\n",
      "DonaldDuck\n",
      "61\n",
      "62\n",
      "Donald\n",
      "64\n",
      "Duck\n",
      "Donald\n",
      "67\n",
      "68\n",
      "Donald\n",
      "Duck\n",
      "71\n",
      "Donald\n",
      "73\n",
      "74\n",
      "DonaldDuck\n",
      "76\n",
      "77\n",
      "Donald\n",
      "79\n",
      "Duck\n",
      "Donald\n",
      "82\n",
      "83\n",
      "Donald\n",
      "Duck\n",
      "86\n",
      "Donald\n",
      "88\n",
      "89\n",
      "DonaldDuck\n",
      "91\n",
      "92\n",
      "Donald\n",
      "94\n",
      "Duck\n",
      "Donald\n",
      "97\n",
      "98\n",
      "Donald\n"
     ]
    }
   ],
   "source": [
    "def map(n):\n",
    "    if (n%5==0) and (n%3==0):\n",
    "        return \"MickeyMouse\"\n",
    "    elif n%3==0:\n",
    "        return \"Mickey\"\n",
    "    elif n%5==0:\n",
    "        return \"Mouse\"\n",
    "    else:\n",
    "        return n\n",
    "\n",
    "def rename(m):\n",
    "    if m == 'MickeyMouse':\n",
    "        return \"DonaldDuck\"\n",
    "    elif m == 'Mickey':\n",
    "        return \"Donald\"\n",
    "    elif m == 'Mouse':\n",
    "        return \"Duck\"\n",
    "    else:\n",
    "        return m\n",
    "\n",
    "lis = [map(x) for x in range(1, 100) ]\n",
    "for i in lis:\n",
    "    print(i)\n",
    "\n",
    "tup = [rename(y) for y in lis]\n",
    "for j in tup:\n",
    "    print(j)"
   ]
  },
  {
   "cell_type": "markdown",
   "metadata": {},
   "source": [
    "2\\. The swap function\n",
    "\n",
    "Write a function that swap the values of two input variables x and y (whatever the type). Try to do that also without a temporary variable"
   ]
  },
  {
   "cell_type": "code",
   "execution_count": 2,
   "metadata": {},
   "outputs": [
    {
     "name": "stdout",
     "output_type": "stream",
     "text": [
      "10\n",
      "20\n",
      "2\n",
      "1\n"
     ]
    }
   ],
   "source": [
    "def swap(x,y):\n",
    "    x=x+1\n",
    "    return\n",
    "\n",
    "def smart_swap(List):\n",
    "    List.reverse()\n",
    "    return List\n",
    "\n",
    "j = 10 \n",
    "k = 20 \n",
    "swap(j,k)\n",
    "print(j)\n",
    "print(k)\n",
    "\n",
    "x = 1\n",
    "y = 2\n",
    "x,y = smart_swap([x,y])\n",
    "print(x)\n",
    "print(y)"
   ]
  },
  {
   "cell_type": "markdown",
   "metadata": {},
   "source": [
    "3\\. Computing the distance\n",
    "\n",
    "Write a function that calculates and returns the euclidean distance between two points *u* and *v*, where *u* and *v* are both 2-tuples *(x,y)*. For example, if *u=(3,0)* and *v=(0,4)*, the function should return 5"
   ]
  },
  {
   "cell_type": "code",
   "execution_count": 3,
   "metadata": {},
   "outputs": [
    {
     "name": "stdout",
     "output_type": "stream",
     "text": [
      "2.23606797749979\n"
     ]
    }
   ],
   "source": [
    "def euclidean_2d(x,y):\n",
    "    return (pow(x[0]-y[0],2)+pow(x[1]-y[1],2))**0.5\n",
    "\n",
    "u=(3,3)\n",
    "v=(1,4)\n",
    "d = euclidean_2d(u,v)\n",
    "print(d)"
   ]
  },
  {
   "cell_type": "markdown",
   "metadata": {},
   "source": [
    "4\\. Counting letters\n",
    "\n",
    "Write a program to calculate the number of times each character occurs in a given string *s*. Ignore differneces in capitalization"
   ]
  },
  {
   "cell_type": "code",
   "execution_count": 6,
   "metadata": {},
   "outputs": [
    {
     "name": "stdout",
     "output_type": "stream",
     "text": [
      "Character 'i' ; times 2\n",
      "Character 't' ; times 3\n",
      "Character ' ' ; times 6\n",
      "Character 'w' ; times 1\n",
      "Character 'a' ; times 4\n",
      "Character 's' ; times 2\n",
      "Character 'd' ; times 2\n",
      "Character 'r' ; times 2\n",
      "Character 'k' ; times 1\n",
      "Character 'n' ; times 2\n",
      "Character 'o' ; times 1\n",
      "Character 'm' ; times 1\n",
      "Character 'y' ; times 1\n",
      "Character 'g' ; times 1\n",
      "Character 'h' ; times 1\n",
      "Character '.' ; times 1\n"
     ]
    }
   ],
   "source": [
    "my_string = \"It was a dark and stormy night.\"\n",
    "characters = [x for x in my_string.lower()]\n",
    "\n",
    "def count(string):\n",
    "    d = {}\n",
    "    for s in string:\n",
    "        if s in d.keys():\n",
    "            d[s] = d[s] +1\n",
    "        else:\n",
    "            d.update({s:1})\n",
    "    return d\n",
    "\n",
    "d1 = count(characters)\n",
    "for i in d1.keys():\n",
    "    print('Character \\'{}\\' ; times {}'.format(i,d1[i]))"
   ]
  },
  {
   "cell_type": "code",
   "execution_count": 7,
   "metadata": {},
   "outputs": [
    {
     "name": "stdout",
     "output_type": "stream",
     "text": [
      "dict_keys(['a', 'b'])\n",
      "dict_values([0, 1])\n",
      "0\n",
      "100\n",
      "dict_keys(['a', 'b', 'c'])\n"
     ]
    }
   ],
   "source": [
    "d = {'a':0, 'b':1}\n",
    "print(d.keys())\n",
    "print(d.values())\n",
    "print(d['a'])\n",
    "d['a'] = 100\n",
    "print(d['a'])\n",
    "d.update({'c':1})\n",
    "print(d.keys())"
   ]
  },
  {
   "cell_type": "markdown",
   "metadata": {},
   "source": [
    "5\\. Isolating the unique\n",
    "\n",
    "Write a function that determines and count the unique numbers in the list *l*"
   ]
  },
  {
   "cell_type": "code",
   "execution_count": 14,
   "metadata": {},
   "outputs": [
    {
     "name": "stdout",
     "output_type": "stream",
     "text": [
      "{36: 3, 45: 3, 58: 1, 3: 2, 74: 1, 96: 1, 64: 1, 31: 2, 10: 1, 24: 1, 19: 1, 33: 1, 86: 1, 99: 1, 18: 1, 63: 2, 70: 3, 85: 3, 47: 1, 56: 2, 42: 2, 84: 4, 88: 1, 55: 1, 20: 3, 54: 1, 8: 1, 51: 3, 79: 1, 81: 1, 57: 1, 37: 1, 91: 3, 1: 1, 66: 2, 9: 1, 89: 2, 50: 2, 95: 1, 90: 1, 98: 1, 39: 1, 16: 1, 82: 1, 92: 1, 41: 1, 30: 1, 34: 2, 94: 1, 5: 1, 72: 1, 87: 1, 75: 1, 53: 1} \n",
      "\n",
      "Number of unique numbers:  54\n"
     ]
    }
   ],
   "source": [
    "def unique_num (l):\n",
    "    l1 = []\n",
    "    for i in range(len(l)):\n",
    "        if len(l1) == 0:\n",
    "            l1.append(l[i])\n",
    "        else:    \n",
    "            T = True\n",
    "            for j in range(len(l1)):\n",
    "                if l[i] == l1[j]:\n",
    "                    T = False\n",
    "            if T == True:\n",
    "                l1.append(l[i])\n",
    "    return l1\n",
    "\n",
    "l = [36, 45, 58, 3, 74, 96, 64, 45, 31, 10, 24, 19, 33, 86, 99, 18, 63, 70, 85,\n",
    " 85, 63, 47, 56, 42, 70, 84, 88, 55, 20, 54, 8, 56, 51, 79, 81, 57, 37, 91,\n",
    " 1, 84, 84, 36, 66, 9, 89, 50, 42, 91, 50, 95, 90, 98, 39, 16, 82, 31, 92, 41,\n",
    " 45, 30, 66, 70, 34, 85, 94, 5, 3, 36, 72, 91, 84, 34, 87, 75, 53, 51, 20, 89, 51, 20]\n",
    "\n",
    "def count(string):\n",
    "    dictionary = {}\n",
    "    for l in string:\n",
    "        if l in dictionary.keys():\n",
    "            dictionary[l]+=1\n",
    "        else:\n",
    "            dictionary.update({l:1})\n",
    "    return dictionary\n",
    "\n",
    "results = count(l)\n",
    "#same task of the previous exercise with integer keys instead of characters\n",
    "print(results, '\\n')\n",
    "\n",
    "print('Number of unique numbers: ', len(results))"
   ]
  },
  {
   "cell_type": "markdown",
   "metadata": {},
   "source": [
    "6\\. Combination of functions\n",
    "\n",
    "Write two functions - one that returns the square of a number, and one that returns the cube. Now write a third function that returns the number raised to the 6th power using the two previous functions."
   ]
  },
  {
   "cell_type": "code",
   "execution_count": 9,
   "metadata": {},
   "outputs": [
    {
     "name": "stdout",
     "output_type": "stream",
     "text": [
      "64\n"
     ]
    }
   ],
   "source": [
    "def square(x):\n",
    "    return x**2\n",
    "def cube(x):\n",
    "    return x**3\n",
    "def th6(x):\n",
    "    return square(cube(x))\n",
    "\n",
    "print(th6(2))"
   ]
  },
  {
   "cell_type": "markdown",
   "metadata": {},
   "source": [
    "7\\. Cubes\n",
    "\n",
    "Create a list of the cubes of x for x in *[0, 10]* using:\n",
    "\n",
    "a) a for loop\n",
    "\n",
    "b) a list comprehension"
   ]
  },
  {
   "cell_type": "code",
   "execution_count": 10,
   "metadata": {},
   "outputs": [
    {
     "name": "stdout",
     "output_type": "stream",
     "text": [
      "[0, 1, 8, 27, 64, 125, 216, 343, 512, 729] [0, 1, 8, 27, 64, 125, 216, 343, 512, 729]\n"
     ]
    }
   ],
   "source": [
    "cubes=[]\n",
    "for x in range(10):\n",
    "    cubes.append(x**3)\n",
    "    \n",
    "cubes2=[x**3 for x in range(10)]\n",
    "print(cubes,cubes2)"
   ]
  },
  {
   "cell_type": "markdown",
   "metadata": {},
   "source": [
    "8\\. Nested list comprehension\n",
    "\n",
    "A Pythagorean triple is an integer solution to the Pythagorean theorem $a^2+b^2=c^2$. The first Pythagorean triple is (3,4,5). Find and put in a tuple all unique Pythagorean triples for the positive integers a, b and c less than 100."
   ]
  },
  {
   "cell_type": "code",
   "execution_count": 16,
   "metadata": {},
   "outputs": [
    {
     "name": "stdout",
     "output_type": "stream",
     "text": [
      "Help on class combinations_with_replacement in module itertools:\n",
      "\n",
      "class combinations_with_replacement(builtins.object)\n",
      " |  combinations_with_replacement(iterable, r) --> combinations_with_replacement object\n",
      " |  \n",
      " |  Return successive r-length combinations of elements in the iterable\n",
      " |  allowing individual elements to have successive repeats.\n",
      " |  combinations_with_replacement('ABC', 2) --> AA AB AC BB BC CC\n",
      " |  \n",
      " |  Methods defined here:\n",
      " |  \n",
      " |  __getattribute__(self, name, /)\n",
      " |      Return getattr(self, name).\n",
      " |  \n",
      " |  __iter__(self, /)\n",
      " |      Implement iter(self).\n",
      " |  \n",
      " |  __next__(self, /)\n",
      " |      Implement next(self).\n",
      " |  \n",
      " |  __reduce__(...)\n",
      " |      Return state information for pickling.\n",
      " |  \n",
      " |  __setstate__(...)\n",
      " |      Set state information for unpickling.\n",
      " |  \n",
      " |  __sizeof__(...)\n",
      " |      Returns size in memory, in bytes.\n",
      " |  \n",
      " |  ----------------------------------------------------------------------\n",
      " |  Static methods defined here:\n",
      " |  \n",
      " |  __new__(*args, **kwargs) from builtins.type\n",
      " |      Create and return a new object.  See help(type) for accurate signature.\n",
      "\n"
     ]
    }
   ],
   "source": [
    "help(it.combinations_with_replacement)"
   ]
  },
  {
   "cell_type": "code",
   "execution_count": 11,
   "metadata": {},
   "outputs": [
    {
     "data": {
      "text/plain": [
       "[(3, 4, 5),\n",
       " (5, 12, 13),\n",
       " (6, 8, 10),\n",
       " (7, 24, 25),\n",
       " (8, 15, 17),\n",
       " (9, 12, 15),\n",
       " (9, 40, 41),\n",
       " (10, 24, 26),\n",
       " (11, 60, 61),\n",
       " (12, 16, 20),\n",
       " (12, 35, 37),\n",
       " (13, 84, 85),\n",
       " (14, 48, 50),\n",
       " (15, 20, 25),\n",
       " (15, 36, 39),\n",
       " (16, 30, 34),\n",
       " (16, 63, 65),\n",
       " (18, 24, 30),\n",
       " (18, 80, 82),\n",
       " (20, 21, 29),\n",
       " (20, 48, 52),\n",
       " (21, 28, 35),\n",
       " (21, 72, 75),\n",
       " (24, 32, 40),\n",
       " (24, 45, 51),\n",
       " (24, 70, 74),\n",
       " (25, 60, 65),\n",
       " (27, 36, 45),\n",
       " (28, 45, 53),\n",
       " (30, 40, 50),\n",
       " (30, 72, 78),\n",
       " (32, 60, 68),\n",
       " (33, 44, 55),\n",
       " (33, 56, 65),\n",
       " (35, 84, 91),\n",
       " (36, 48, 60),\n",
       " (36, 77, 85),\n",
       " (39, 52, 65),\n",
       " (39, 80, 89),\n",
       " (40, 42, 58),\n",
       " (40, 75, 85),\n",
       " (42, 56, 70),\n",
       " (45, 60, 75),\n",
       " (48, 55, 73),\n",
       " (48, 64, 80),\n",
       " (51, 68, 85),\n",
       " (54, 72, 90),\n",
       " (57, 76, 95),\n",
       " (60, 63, 87),\n",
       " (65, 72, 97)]"
      ]
     },
     "execution_count": 11,
     "metadata": {},
     "output_type": "execute_result"
    }
   ],
   "source": [
    "import itertools as it\n",
    "\n",
    "iterator = it.combinations_with_replacement\n",
    "\n",
    "pytha_tris = []\n",
    "for i,j,k in iterator(range(1, 100),3):\n",
    "    if (j**2 + i**2) == k**2:\n",
    "        pytha_tris.append((i,j,k))\n",
    "    \n",
    "pytha_tris"
   ]
  },
  {
   "cell_type": "markdown",
   "metadata": {},
   "source": [
    "9\\. Normalization\n",
    "\n",
    "Write a function that takes a tuple of numbers and returns it with the entries normalized to one"
   ]
  },
  {
   "cell_type": "code",
   "execution_count": 17,
   "metadata": {},
   "outputs": [
    {
     "name": "stdout",
     "output_type": "stream",
     "text": [
      "x,y: 0.6,0.8\n"
     ]
    }
   ],
   "source": [
    "def normalize(x,y):\n",
    "    mod = (x**2+y**2)**0.5\n",
    "    return x/mod, y/mod\n",
    "\n",
    "x = 3\n",
    "y = 4\n",
    "x, y = normalize(x, y)\n",
    "print('x,y: {},{}'.format(x,y))"
   ]
  },
  {
   "cell_type": "code",
   "execution_count": null,
   "metadata": {},
   "outputs": [],
   "source": []
  }
 ],
 "metadata": {
  "kernelspec": {
   "display_name": "Python 3",
   "language": "python",
   "name": "python3"
  },
  "language_info": {
   "codemirror_mode": {
    "name": "ipython",
    "version": 3
   },
   "file_extension": ".py",
   "mimetype": "text/x-python",
   "name": "python",
   "nbconvert_exporter": "python",
   "pygments_lexer": "ipython3",
   "version": "3.7.0"
  }
 },
 "nbformat": 4,
 "nbformat_minor": 2
}
