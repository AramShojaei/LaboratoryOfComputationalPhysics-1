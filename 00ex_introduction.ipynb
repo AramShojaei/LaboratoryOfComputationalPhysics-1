{
 "cells": [
  {
   "cell_type": "markdown",
   "metadata": {},
   "source": [
    "1. The MickeyMouse problem\n",
    "\n",
    "a) Write a program that prints the numbers from 1 to 100. But for multiples of three print Mickey instead of the number and for the multiples of five print Mouse. For numbers which are multiples of both three and five print MickeyMouse\n",
    "\n",
    "b) Put the result in a tuple and substitute Mickey with Donald and Mouse with Duck"
   ]
  },
  {
   "cell_type": "code",
   "execution_count": 6,
   "metadata": {
    "collapsed": true
   },
   "outputs": [
    {
     "name": "stdout",
     "output_type": "stream",
     "text": [
      "1\n",
      "2\n",
      "Mickey\n",
      "4\n",
      "Mouse\n",
      "Mickey\n",
      "7\n",
      "8\n",
      "Mickey\n",
      "Mouse\n",
      "11\n",
      "Mickey\n",
      "13\n",
      "14\n",
      "MickeyMouse\n",
      "16\n",
      "17\n",
      "Mickey\n",
      "19\n",
      "Mouse\n",
      "Mickey\n",
      "22\n",
      "23\n",
      "Mickey\n",
      "Mouse\n",
      "26\n",
      "Mickey\n",
      "28\n",
      "29\n",
      "MickeyMouse\n",
      "31\n",
      "32\n",
      "Mickey\n",
      "34\n",
      "Mouse\n",
      "Mickey\n",
      "37\n",
      "38\n",
      "Mickey\n",
      "Mouse\n",
      "41\n",
      "Mickey\n",
      "43\n",
      "44\n",
      "MickeyMouse\n",
      "46\n",
      "47\n",
      "Mickey\n",
      "49\n",
      "Mouse\n",
      "Mickey\n",
      "52\n",
      "53\n",
      "Mickey\n",
      "Mouse\n",
      "56\n",
      "Mickey\n",
      "58\n",
      "59\n",
      "MickeyMouse\n",
      "61\n",
      "62\n",
      "Mickey\n",
      "64\n",
      "Mouse\n",
      "Mickey\n",
      "67\n",
      "68\n",
      "Mickey\n",
      "Mouse\n",
      "71\n",
      "Mickey\n",
      "73\n",
      "74\n",
      "MickeyMouse\n",
      "76\n",
      "77\n",
      "Mickey\n",
      "79\n",
      "Mouse\n",
      "Mickey\n",
      "82\n",
      "83\n",
      "Mickey\n",
      "Mouse\n",
      "86\n",
      "Mickey\n",
      "88\n",
      "89\n",
      "MickeyMouse\n",
      "91\n",
      "92\n",
      "Mickey\n",
      "94\n",
      "Mouse\n",
      "Mickey\n",
      "97\n",
      "98\n",
      "Mickey\n",
      "Mouse\n",
      "['1', '2', 'Donald', '4', 'Duck', 'Donald', '7', '8', 'Donald', 'Duck', '11', 'Donald', '13', '14', 'DonaldDuck', '16', '17', 'Donald', '19', 'Duck', 'Donald', '22', '23', 'Donald', 'Duck', '26', 'Donald', '28', '29', 'DonaldDuck', '31', '32', 'Donald', '34', 'Duck', 'Donald', '37', '38', 'Donald', 'Duck', '41', 'Donald', '43', '44', 'DonaldDuck', '46', '47', 'Donald', '49', 'Duck', 'Donald', '52', '53', 'Donald', 'Duck', '56', 'Donald', '58', '59', 'DonaldDuck', '61', '62', 'Donald', '64', 'Duck', 'Donald', '67', '68', 'Donald', 'Duck', '71', 'Donald', '73', '74', 'DonaldDuck', '76', '77', 'Donald', '79', 'Duck', 'Donald', '82', '83', 'Donald', 'Duck', '86', 'Donald', '88', '89', 'DonaldDuck', '91', '92', 'Donald', '94', 'Duck', 'Donald', '97', '98', 'Donald', 'Duck']\n"
     ]
    }
   ],
   "source": [
    "a = [x for x in range(1,101)]\n",
    "b = [x for x in range(1,101)]\n",
    "for i in range(1,101):\n",
    "    mickey3 = i\n",
    "    mouse5 = i\n",
    "    if mouse5 % 5 == 0 and mickey3 % 3 == 0:   \n",
    "        a[i-1]=\"MickeyMouse\" \n",
    "        print(\"MickeyMouse\")      \n",
    "    elif mickey3 % 3 == 0:\n",
    "        print(\"Mickey\")\n",
    "        a[i-1]=\"Mickey\"\n",
    "    elif mouse5 % 5 == 0:\n",
    "        print(\"Mouse\")\n",
    "        a[i-1]=\"Mouse\"\n",
    "    else:\n",
    "        print(i)\n",
    "for i in range(0,100):\n",
    "    b[i] = str(a[i]).replace('Mickey','Donald');\n",
    "    b[i] = str(b[i]).replace('Mouse','Duck');\n",
    "print (b)"
   ]
  },
  {
   "cell_type": "markdown",
   "metadata": {},
   "source": [
    "2\\. The swap function\n",
    "\n",
    "Write a function that swap the values of two input variables x and y (whatever the type). Try to do that also without a temporary variable\n"
   ]
  },
  {
   "cell_type": "code",
   "execution_count": 8,
   "metadata": {},
   "outputs": [
    {
     "name": "stdout",
     "output_type": "stream",
     "text": [
      "(3, 'ciao')\n"
     ]
    }
   ],
   "source": [
    "def swap(x,y):\n",
    "    x, y = y, x\n",
    "    return x, y\n",
    "print(swap(\"ciao\",3))"
   ]
  },
  {
   "cell_type": "markdown",
   "metadata": {},
   "source": [
    "3\\. Computing the distance\n",
    "\n",
    "Write a function that calculates and returns the euclidean distance between two points *u* and *v*, where *u* and *v* are both 2-tuples *(x,y)*. For example, if *u=(3,0)* and *v=(0,4)*, the function should return 5"
   ]
  },
  {
   "cell_type": "code",
   "execution_count": null,
   "metadata": {},
   "outputs": [],
   "source": [
    "def euclideanDistance(u,v):\n",
    "    dist = ((u[0]-v[0])**(2)+(u[1]-v[1])**(2))**(.5)\n",
    "    return dist\n",
    "u = (3,0)\n",
    "v = (4,0)\n",
    "print(euclideanDistance(u,v))"
   ]
  },
  {
   "cell_type": "code",
   "execution_count": null,
   "metadata": {},
   "outputs": [],
   "source": [
    "s = \"qwertyuiopasqqqqdfghjklzxcvbnm,   \"\n",
    "char = [x for x in s]\n",
    "check = True\n",
    "n = len(char)\n",
    "while (check):\n",
    "    try:\n",
    "        char.remove('q')\n",
    "    except:\n",
    "        check = False    \n",
    "print(char)\n"
   ]
  },
  {
   "cell_type": "markdown",
   "metadata": {},
   "source": [
    "4\\. Counting letters\n",
    "\n",
    "Write a program to calculate the number of times each character occurs in a given string *s*. Ignore differneces in capitalization"
   ]
  },
  {
   "cell_type": "code",
   "execution_count": 5,
   "metadata": {
    "collapsed": true
   },
   "outputs": [
    {
     "name": "stdout",
     "output_type": "stream",
     "text": [
      "The character w occurs 2 times\n",
      "The character r occurs 17 times\n",
      "The character i occurs 14 times\n",
      "The character t occurs 19 times\n",
      "The character e occurs 22 times\n",
      "The character   occurs 41 times\n",
      "The character a occurs 7 times\n",
      "The character p occurs 8 times\n",
      "The character o occurs 13 times\n",
      "The character g occurs 1 times\n",
      "The character m occurs 12 times\n",
      "The character h occurs 9 times\n",
      "The character n occurs 10 times\n",
      "The character s occurs 9 times\n",
      "The character u occurs 9 times\n",
      "The character b occurs 5 times\n",
      "The character f occurs 10 times\n",
      "The character 1 occurs 2 times\n",
      "The character 0 occurs 2 times\n",
      "The character . occurs 2 times\n",
      "The character l occurs 6 times\n",
      "The character c occurs 3 times\n",
      "The character k occurs 2 times\n",
      "The character y occurs 2 times\n",
      "The character d occurs 3 times\n",
      "The character v occurs 2 times\n",
      "Fine\n"
     ]
    }
   ],
   "source": [
    "s=\"Write a program that prints the numbers from 1 to 100. \\\n",
    "But for multiples of three print Mickey instead of the number and for the multiples of five print Mouse. \\\n",
    "For numbers which are multiples of both three and five print MickeyMouse\"\n",
    "count = 0\n",
    "s = s.lower()\n",
    "char = [x for x in s]\n",
    "check= True\n",
    "index = True\n",
    "i = 0\n",
    "while(index):\n",
    "    try:\n",
    "        r = char[0]\n",
    "        n = s.count(r)\n",
    "        print(\"The character \"+r+\" occurs \"+str(n)+ \" times\");\n",
    "        for j in range(0,n):\n",
    "            char.remove(r)\n",
    "    except:\n",
    "        index = False\n",
    "        print (\"Fine\")"
   ]
  },
  {
   "cell_type": "markdown",
   "metadata": {},
   "source": [
    "5\\. Isolating the unique\n",
    "\n",
    "Write a function that determines and count the unique numbers in the list *l*"
   ]
  },
  {
   "cell_type": "code",
   "execution_count": 25,
   "metadata": {
    "collapsed": true
   },
   "outputs": [
    {
     "name": "stdout",
     "output_type": "stream",
     "text": [
      "[1, 3, 3, 5, 8, 9, 10, 16, 18, 19, 20, 20, 20, 24, 30, 31, 31, 33, 34, 34, 36, 36, 36, 37, 39, 41, 42, 42, 45, 45, 45, 47, 50, 50, 51, 51, 51, 53, 54, 55, 56, 56, 57, 58, 63, 63, 64, 66, 66, 70, 70, 70, 72, 74, 75, 79, 81, 82, 84, 84, 84, 84, 85, 85, 85, 86, 87, 88, 89, 89, 90, 91, 91, 91, 92, 94, 95, 96, 98, 99]\n",
      "\n",
      "\n",
      "\n",
      "\n",
      "\n",
      "\n",
      "\n",
      "\n",
      "\n",
      "[1, 5, 8, 9, 10, 16, 18, 19, 24, 30, 33, 37, 39, 41, 47, 53, 54, 55, 57, 58, 64, 72, 74, 75, 79, 81, 82, 86, 87, 88, 90, 92, 94, 95, 96, 98]\n"
     ]
    }
   ],
   "source": [
    "l = [36, 45, 58, 3, 74, 96, 64, 45, 31, 10, 24, 19, 33, 86, 99, 18, 63, 70, 85,\n",
    " 85, 63, 47, 56, 42, 70, 84, 88, 55, 20, 54, 8, 56, 51, 79, 81, 57, 37, 91,\n",
    " 1, 84, 84, 36, 66, 9, 89, 50, 42, 91, 50, 95, 90, 98, 39, 16, 82, 31, 92, 41,\n",
    " 45, 30, 66, 70, 34, 85, 94, 5, 3, 36, 72, 91, 84, 34, 87, 75, 53, 51, 20, 89, 51, 20]\n",
    "\n",
    "l.sort()\n",
    "print(l)\n",
    "u = []\n",
    "temp1 = 0\n",
    "temp2 = 0\n",
    "n = len(l)\n",
    "for i in range(0,n-1):\n",
    "    temp2 = l[i]\n",
    "    if i > 0:\n",
    "        temp1 = l[i-1]\n",
    "    elif i == 0:\n",
    "        u.append(l[0])\n",
    "    if temp1 != temp2:\n",
    "        u.append(temp2)\n",
    "    elif temp1 == temp2:\n",
    "        try:\n",
    "            u.remove(temp2)\n",
    "        except:\n",
    "            print(\"\")\n",
    "u.remove(1)\n",
    "print(u)"
   ]
  },
  {
   "cell_type": "markdown",
   "metadata": {},
   "source": [
    "6\\. Combination of functions\n",
    "\n",
    "Write two functions - one that returns the square of a number, and one that returns the cube. Now write a third function that returns the number raised to the 6th power using the two previous functions."
   ]
  },
  {
   "cell_type": "code",
   "execution_count": 2,
   "metadata": {},
   "outputs": [
    {
     "name": "stdout",
     "output_type": "stream",
     "text": [
      "Square: 9\n",
      "Cube: 27\n",
      "Six: 729\n"
     ]
    }
   ],
   "source": [
    "def square(x):\n",
    "    return x**(2)\n",
    "def cube(x):\n",
    "    return x**(3)\n",
    "def six(x):\n",
    "    return(cube(square(x)))\n",
    "\n",
    "u = 3\n",
    "print (\"Square: \"+str(square(u)))\n",
    "print (\"Cube: \"+str(cube(u)))\n",
    "print (\"Six: \"+str(six(u)))"
   ]
  },
  {
   "cell_type": "markdown",
   "metadata": {},
   "source": [
    "7\\. Cubes\n",
    "\n",
    "Create a list of the cubes of x for x in *[0, 10]* using:\n",
    "\n",
    "a) a for loop\n",
    "\n",
    "b) a list comprehension"
   ]
  },
  {
   "cell_type": "code",
   "execution_count": 3,
   "metadata": {},
   "outputs": [
    {
     "name": "stdout",
     "output_type": "stream",
     "text": [
      "Cubes:\n",
      "0\n",
      "1\n",
      "8\n",
      "27\n",
      "64\n",
      "125\n",
      "216\n",
      "343\n",
      "512\n",
      "729\n",
      "1000\n",
      "[0, 1, 8, 27, 64, 125, 216, 343, 512, 729, 1000]\n"
     ]
    }
   ],
   "source": [
    "z = [x for x in range(11)]\n",
    "n = len(z)\n",
    "print(\"Cubes:\")\n",
    "for i in range(0,n):\n",
    "    print(cube(z[i]))\n",
    "\n",
    "cubes = [cube(i) for i in range(11)]\n",
    "print(cubes)"
   ]
  },
  {
   "cell_type": "markdown",
   "metadata": {},
   "source": [
    "8\\. Nested list comprehension\n",
    "\n",
    "A Pythagorean triple is an integer solution to the Pythagorean theorem $a^2+b^2=c^2$. The first Pythagorean triple is (3,4,5). Find and put in a tuple all unique Pythagorean triples for the positive integers a, b and c less than 100."
   ]
  },
  {
   "cell_type": "code",
   "execution_count": 26,
   "metadata": {
    "scrolled": true
   },
   "outputs": [
    {
     "ename": "SyntaxError",
     "evalue": "unexpected EOF while parsing (<ipython-input-26-8c63f7a2569e>, line 5)",
     "output_type": "error",
     "traceback": [
      "\u001b[1;36m  File \u001b[1;32m\"<ipython-input-26-8c63f7a2569e>\"\u001b[1;36m, line \u001b[1;32m5\u001b[0m\n\u001b[1;33m    for n in range (3,100):\u001b[0m\n\u001b[1;37m                           ^\u001b[0m\n\u001b[1;31mSyntaxError\u001b[0m\u001b[1;31m:\u001b[0m unexpected EOF while parsing\n"
     ]
    }
   ],
   "source": [
    "a, b, c = [3], [4], [5]\n",
    "m = 1\n",
    "while(temp<100):\n",
    "    m = m+1\n",
    "    for n in range (3,100):\n",
    "        "
   ]
  },
  {
   "cell_type": "markdown",
   "metadata": {},
   "source": [
    "9\\. Normalization\n",
    "\n",
    "Write a function that takes a tuple of numbers and returns it with the entries normalized to one"
   ]
  },
  {
   "cell_type": "code",
   "execution_count": 45,
   "metadata": {},
   "outputs": [],
   "source": [
    "def normalize(x):\n",
    "    n = len(x)\n",
    "    temp = 0\n",
    "    for i in range (0,n):\n",
    "        temp = temp + x[i]**(2)\n",
    "    norma = temp**(.5)\n",
    "    y = [x[j]/norma for j in range(n)]\n",
    "    return y"
   ]
  },
  {
   "cell_type": "code",
   "execution_count": 46,
   "metadata": {},
   "outputs": [
    {
     "name": "stdout",
     "output_type": "stream",
     "text": [
      "[0.26413527189768715, 0.35218036253024954, 0.5282705437953743, 0.17609018126512477, 0.7043607250604991]\n"
     ]
    }
   ],
   "source": [
    "a = [3,4,6,2,8]\n",
    "print(normalize(a))"
   ]
  }
 ],
 "metadata": {
  "kernelspec": {
   "display_name": "Python 3",
   "language": "python",
   "name": "python3"
  },
  "language_info": {
   "codemirror_mode": {
    "name": "ipython",
    "version": 3
   },
   "file_extension": ".py",
   "mimetype": "text/x-python",
   "name": "python",
   "nbconvert_exporter": "python",
   "pygments_lexer": "ipython3",
   "version": "3.5.5"
  }
 },
 "nbformat": 4,
 "nbformat_minor": 2
}
