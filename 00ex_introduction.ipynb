{
 "cells": [
  {
   "cell_type": "markdown",
   "metadata": {},
   "source": [
    "1. The MickeyMouse problem\n",
    "\n",
    "a) Write a program that prints the numbers from 1 to 100. But for multiples of three print Mickey instead of the number and for the multiples of five print Mouse. For numbers which are multiples of both three and five print MickeyMouse\n",
    "\n",
    "b) Put the result in a list and substitute Mickey with Donald and Mouse with Duck"
   ]
  },
  {
   "cell_type": "code",
   "execution_count": 1,
   "metadata": {},
   "outputs": [
    {
     "name": "stdout",
     "output_type": "stream",
     "text": [
      "1\n",
      "2\n",
      "mickey\n",
      "4\n",
      "mouse\n",
      "mickey\n",
      "7\n",
      "8\n",
      "mickey\n",
      "mouse\n",
      "11\n",
      "mickey\n",
      "13\n",
      "14\n",
      "mickey mouse\n",
      "16\n",
      "17\n",
      "mickey\n",
      "19\n",
      "mouse\n",
      "mickey\n",
      "22\n",
      "23\n",
      "mickey\n",
      "mouse\n",
      "26\n",
      "mickey\n",
      "28\n",
      "29\n",
      "mickey mouse\n",
      "31\n",
      "32\n",
      "mickey\n",
      "34\n",
      "mouse\n",
      "mickey\n",
      "37\n",
      "38\n",
      "mickey\n",
      "mouse\n",
      "41\n",
      "mickey\n",
      "43\n",
      "44\n",
      "mickey mouse\n",
      "46\n",
      "47\n",
      "mickey\n",
      "49\n",
      "mouse\n",
      "mickey\n",
      "52\n",
      "53\n",
      "mickey\n",
      "mouse\n",
      "56\n",
      "mickey\n",
      "58\n",
      "59\n",
      "mickey mouse\n",
      "61\n",
      "62\n",
      "mickey\n",
      "64\n",
      "mouse\n",
      "mickey\n",
      "67\n",
      "68\n",
      "mickey\n",
      "mouse\n",
      "71\n",
      "mickey\n",
      "73\n",
      "74\n",
      "mickey mouse\n",
      "76\n",
      "77\n",
      "mickey\n",
      "79\n",
      "mouse\n",
      "mickey\n",
      "82\n",
      "83\n",
      "mickey\n",
      "mouse\n",
      "86\n",
      "mickey\n",
      "88\n",
      "89\n",
      "mickey mouse\n",
      "91\n",
      "92\n",
      "mickey\n",
      "94\n",
      "mouse\n",
      "mickey\n",
      "97\n",
      "98\n",
      "mickey\n",
      "mouse\n"
     ]
    }
   ],
   "source": [
    "for i in range(1,101,1):\n",
    "    if i % 15 == 0:\n",
    "        print(\"mickey mouse\")\n",
    "    elif i % 5 == 0:\n",
    "        print(\"mouse\")\n",
    "    elif i % 3 ==0:\n",
    "        print(\"mickey\")\n",
    "    else: print(i)"
   ]
  },
  {
   "cell_type": "code",
   "execution_count": 15,
   "metadata": {},
   "outputs": [
    {
     "name": "stdout",
     "output_type": "stream",
     "text": [
      "la prima list e': \n",
      " [1, 2, 'mickey', 4, 'mouse', 'mickey', 7, 8, 'mickey', 'mouse', 11, 'mickey', 13, 14, 'mickey mouse', 16, 17, 'mickey', 19, 'mouse', 'mickey', 22, 23, 'mickey', 'mouse', 26, 'mickey', 28, 29, 'mickey mouse', 31, 32, 'mickey', 34, 'mouse', 'mickey', 37, 38, 'mickey', 'mouse', 41, 'mickey', 43, 44, 'mickey mouse', 46, 47, 'mickey', 49, 'mouse', 'mickey', 52, 53, 'mickey', 'mouse', 56, 'mickey', 58, 59, 'mickey mouse', 61, 62, 'mickey', 64, 'mouse', 'mickey', 67, 68, 'mickey', 'mouse', 71, 'mickey', 73, 74, 'mickey mouse', 76, 77, 'mickey', 79, 'mouse', 'mickey', 82, 83, 'mickey', 'mouse', 86, 'mickey', 88, 89, 'mickey mouse', 91, 92, 'mickey', 94, 'mouse', 'mickey', 97, 98, 'mickey', 'mouse']\n",
      "\n",
      "\n",
      "la seconda list e': \n",
      " [1, 2, 'donald', 4, 'duck', 'donald', 7, 8, 'donald', 'duck', 11, 'donald', 13, 14, 'donald duck', 16, 17, 'donald', 19, 'duck', 'donald', 22, 23, 'donald', 'duck', 26, 'donald', 28, 29, 'donald duck', 31, 32, 'donald', 34, 'duck', 'donald', 37, 38, 'donald', 'duck', 41, 'donald', 43, 44, 'donald duck', 46, 47, 'donald', 49, 'duck', 'donald', 52, 53, 'donald', 'duck', 56, 'donald', 58, 59, 'donald duck', 61, 62, 'donald', 64, 'duck', 'donald', 67, 68, 'donald', 'duck', 71, 'donald', 73, 74, 'donald duck', 76, 77, 'donald', 79, 'duck', 'donald', 82, 83, 'donald', 'duck', 86, 'donald', 88, 89, 'donald duck', 91, 92, 'donald', 94, 'duck', 'donald', 97, 98, 'donald', 'duck']\n"
     ]
    }
   ],
   "source": [
    "a=[]\n",
    "for i in range (1,101,1):\n",
    "    if i % 15 == 0:\n",
    "        a.insert(i,\"mickey mouse\")\n",
    "    elif i % 5 == 0:\n",
    "        a.insert(i,\"mouse\")\n",
    "    elif i % 3 ==0:\n",
    "        a.insert(i,\"mickey\")\n",
    "    else:\n",
    "        a.insert(i,i)\n",
    "print(\"la prima list e':\",\"\\n\", a)\n",
    "\n",
    "for i in range(0,100,1):\n",
    "    if a[i] == \"mickey mouse\":\n",
    "        a[i]=\"donald duck\"\n",
    "    elif a[i]==\"mouse\":\n",
    "        a[i]=\"duck\"\n",
    "    elif a[i]==\"mickey\":\n",
    "        a[i]='donald'\n",
    "print (\"\\n\")\n",
    "print(\"la seconda list e':\",\"\\n\", a)"
   ]
  },
  {
   "cell_type": "markdown",
   "metadata": {},
   "source": [
    "2\\. The swap function\n",
    "\n",
    "Write a function that swap the values of two input variables x and y (whatever the type). Try to do that also without a temporary variable"
   ]
  },
  {
   "cell_type": "code",
   "execution_count": 36,
   "metadata": {},
   "outputs": [
    {
     "name": "stdout",
     "output_type": "stream",
     "text": [
      "x prima dello swap:  3\n",
      "y prima dello swap:  ciao\n",
      "let's swap:\n"
     ]
    },
    {
     "data": {
      "text/plain": [
       "('ciao', 3)"
      ]
     },
     "execution_count": 36,
     "metadata": {},
     "output_type": "execute_result"
    }
   ],
   "source": [
    "def funzioneswap(x,y):\n",
    "    print(\"x prima dello swap: \", x)\n",
    "    print(\"y prima dello swap: \", y)\n",
    "    s=x\n",
    "    x=y\n",
    "    y=s\n",
    "    print(\"let's swap:\")\n",
    "    return(x,y)\n",
    "\n",
    "funzioneswap(3,\"ciao\")\n"
   ]
  },
  {
   "cell_type": "markdown",
   "metadata": {},
   "source": [
    "3\\. Computing the distance\n",
    "\n",
    "Write a function that calculates and returns the euclidean distance between two points *u* and *v*, where *u* and *v* are both 2-tuples *(x,y)*. For example, if *u=(3,0)* and *v=(0,4)*, the function should return 5"
   ]
  },
  {
   "cell_type": "code",
   "execution_count": 1,
   "metadata": {},
   "outputs": [
    {
     "name": "stdout",
     "output_type": "stream",
     "text": [
      "3.0\n"
     ]
    }
   ],
   "source": [
    "u=(4,1)\n",
    "v=(1,1)\n",
    "d=(((u[0]-v[0])**2)+(u[1]-v[1])**2)**0.5\n",
    "print(d)"
   ]
  },
  {
   "cell_type": "markdown",
   "metadata": {},
   "source": [
    "4\\. Counting letters\n",
    "\n",
    "Write a program to calculate the number of times each character occurs in a given string *s*. Ignore differneces in capitalization"
   ]
  },
  {
   "cell_type": "code",
   "execution_count": 14,
   "metadata": {},
   "outputs": [
    {
     "name": "stdout",
     "output_type": "stream",
     "text": [
      "write a program that prints the numbers from 1 to 100. but for multiples of three print mickey instead of the number and for the multiples of five print mouse. for numbers which are multiples of both three and five print mickeymouse\n",
      "10 times f\n",
      "9 times h\n",
      "2 times y\n",
      "19 times t\n",
      "2 times 1\n",
      "41 times  \n",
      "2 times .\n",
      "13 times o\n",
      "17 times r\n",
      "12 times m\n",
      "2 times k\n",
      "9 times s\n",
      "22 times e\n",
      "2 times v\n",
      "7 times a\n",
      "3 times d\n",
      "2 times 0\n",
      "9 times u\n",
      "5 times b\n",
      "14 times i\n",
      "10 times n\n",
      "2 times w\n",
      "3 times c\n",
      "6 times l\n",
      "1 times g\n",
      "8 times p\n"
     ]
    }
   ],
   "source": [
    "s=\"Write a program that prints the numbers from 1 to 100. \\\n",
    "But for multiples of three print Mickey instead of the number and for the multiples of five print Mouse. \\\n",
    "For numbers which are multiples of both three and five print MickeyMouse\"\n",
    "\n",
    "S=s.lower()\n",
    "print(S)\n",
    "m=list(set(S))\n",
    "for i in range(0,len(m)):\n",
    "    conteggio_i=S.count(m[i])\n",
    "    print(conteggio_i, \"volte\",m[i])\n",
    "\n"
   ]
  },
  {
   "cell_type": "markdown",
   "metadata": {},
   "source": [
    "5\\. Isolating the unique\n",
    "\n",
    "Write a function that determines and count the unique numbers in the list *l*"
   ]
  },
  {
   "cell_type": "code",
   "execution_count": 3,
   "metadata": {},
   "outputs": [
    {
     "name": "stdout",
     "output_type": "stream",
     "text": [
      "1 times 1\n",
      "2 times 3\n",
      "1 times 5\n",
      "1 times 8\n",
      "1 times 9\n",
      "1 times 10\n",
      "1 times 16\n",
      "1 times 18\n",
      "1 times 19\n",
      "3 times 20\n",
      "1 times 24\n",
      "1 times 30\n",
      "2 times 31\n",
      "1 times 33\n",
      "2 times 34\n",
      "3 times 36\n",
      "1 times 37\n",
      "1 times 39\n",
      "1 times 41\n",
      "2 times 42\n",
      "3 times 45\n",
      "1 times 47\n",
      "2 times 50\n",
      "3 times 51\n",
      "1 times 53\n",
      "1 times 54\n",
      "1 times 55\n",
      "2 times 56\n",
      "1 times 57\n",
      "1 times 58\n",
      "2 times 63\n",
      "1 times 64\n",
      "2 times 66\n",
      "3 times 70\n",
      "1 times 72\n",
      "1 times 74\n",
      "1 times 75\n",
      "1 times 79\n",
      "1 times 81\n",
      "1 times 82\n",
      "4 times 84\n",
      "3 times 85\n",
      "1 times 86\n",
      "1 times 87\n",
      "1 times 88\n",
      "2 times 89\n",
      "1 times 90\n",
      "3 times 91\n",
      "1 times 92\n",
      "1 times 94\n",
      "1 times 95\n",
      "1 times 96\n",
      "1 times 98\n",
      "1 times 99\n"
     ]
    }
   ],
   "source": [
    "l = [36, 45, 58, 3, 74, 96, 64, 45, 31, 10, 24, 19, 33, 86, 99, 18, 63, 70, 85,\n",
    " 85, 63, 47, 56, 42, 70, 84, 88, 55, 20, 54, 8, 56, 51, 79, 81, 57, 37, 91,\n",
    " 1, 84, 84, 36, 66, 9, 89, 50, 42, 91, 50, 95, 90, 98, 39, 16, 82, 31, 92, 41,\n",
    " 45, 30, 66, 70, 34, 85, 94, 5, 3, 36, 72, 91, 84, 34, 87, 75, 53, 51, 20, 89, 51, 20]\n",
    "\n",
    "g=list(set(l))\n",
    "for i in range(0,len(g)):\n",
    "    conteggio_i=l.count(g[i])\n",
    "    print(conteggio_i, \"volte\",g[i])\n",
    "\n",
    "\n"
   ]
  },
  {
   "cell_type": "markdown",
   "metadata": {},
   "source": [
    "6\\. Combination of functions\n",
    "\n",
    "Write two functions - one that returns the square of a number, and one that returns the cube. Now write a third function that returns the number raised to the 6th power using the two previous functions."
   ]
  },
  {
   "cell_type": "code",
   "execution_count": 14,
   "metadata": {},
   "outputs": [
    {
     "name": "stdout",
     "output_type": "stream",
     "text": [
      "8\n",
      "9\n",
      "64\n"
     ]
    }
   ],
   "source": [
    "def square(a):\n",
    "    s=a**2\n",
    "    return(s)\n",
    "\n",
    "\n",
    "def cube(a):\n",
    "    c=a**3\n",
    "    return(c)\n",
    "\n",
    "print(cube(2))\n",
    "print(square(3))\n",
    "\n",
    "def power6(a):\n",
    "    power6=square(a)*cube(a)*a\n",
    "    return(power6)\n",
    "print(power6(2))"
   ]
  },
  {
   "cell_type": "markdown",
   "metadata": {},
   "source": [
    "7\\. Cubes\n",
    "\n",
    "Create a list of the cubes of x for x in *[0, 10]* using:\n",
    "\n",
    "a) a for loop\n",
    "\n",
    "b) a list comprehension"
   ]
  },
  {
   "cell_type": "code",
   "execution_count": 1,
   "metadata": {},
   "outputs": [
    {
     "name": "stdout",
     "output_type": "stream",
     "text": [
      "[0, 1, 8, 27, 64, 125, 216, 343, 512, 729, 1000]\n",
      "[0, 1, 8, 27, 64, 125, 216, 343, 512, 729, 1000]\n"
     ]
    }
   ],
   "source": [
    "a=[]\n",
    "for i in range (0,11):\n",
    "    a.append(i**3)\n",
    "\n",
    "print(a)\n",
    "\n",
    "listcomp=[i**3 for i in range(0,11)]\n",
    "print(listcomp)"
   ]
  },
  {
   "cell_type": "markdown",
   "metadata": {},
   "source": [
    "8\\. Nested list comprehension\n",
    "\n",
    "A Pythagorean triple is an integer solution to the Pythagorean theorem $a^2+b^2=c^2$. The first Pythagorean triple is (3,4,5). Find and put in a tuple all unique Pythagorean triples for the positive integers a, b and c less than 100."
   ]
  },
  {
   "cell_type": "code",
   "execution_count": 13,
   "metadata": {},
   "outputs": [
    {
     "name": "stdout",
     "output_type": "stream",
     "text": [
      "['3', '4', '5', ' in prossimo è: ', '4', '3', '5', ' in prossimo è: ', '5', '12', '13', ' in prossimo è: ', '6', '8', '10', ' in prossimo è: ', '7', '24', '25', ' in prossimo è: ', '8', '6', '10', ' in prossimo è: ', '8', '15', '17', ' in prossimo è: ', '9', '12', '15', ' in prossimo è: ', '9', '40', '41', ' in prossimo è: ', '10', '24', '26', ' in prossimo è: ', '11', '60', '61', ' in prossimo è: ', '12', '5', '13', ' in prossimo è: ', '12', '9', '15', ' in prossimo è: ', '12', '16', '20', ' in prossimo è: ', '12', '35', '37', ' in prossimo è: ', '13', '84', '85', ' in prossimo è: ', '14', '48', '50', ' in prossimo è: ', '15', '8', '17', ' in prossimo è: ', '15', '20', '25', ' in prossimo è: ', '15', '36', '39', ' in prossimo è: ', '16', '12', '20', ' in prossimo è: ', '16', '30', '34', ' in prossimo è: ', '16', '63', '65', ' in prossimo è: ', '18', '24', '30', ' in prossimo è: ', '18', '80', '82', ' in prossimo è: ', '20', '15', '25', ' in prossimo è: ', '20', '21', '29', ' in prossimo è: ', '20', '48', '52', ' in prossimo è: ', '21', '20', '29', ' in prossimo è: ', '21', '28', '35', ' in prossimo è: ', '21', '72', '75', ' in prossimo è: ', '24', '7', '25', ' in prossimo è: ', '24', '10', '26', ' in prossimo è: ', '24', '18', '30', ' in prossimo è: ', '24', '32', '40', ' in prossimo è: ', '24', '45', '51', ' in prossimo è: ', '24', '70', '74', ' in prossimo è: ', '25', '60', '65', ' in prossimo è: ', '27', '36', '45', ' in prossimo è: ', '28', '21', '35', ' in prossimo è: ', '28', '45', '53', ' in prossimo è: ', '30', '16', '34', ' in prossimo è: ', '30', '40', '50', ' in prossimo è: ', '30', '72', '78', ' in prossimo è: ', '32', '24', '40', ' in prossimo è: ', '32', '60', '68', ' in prossimo è: ', '33', '44', '55', ' in prossimo è: ', '33', '56', '65', ' in prossimo è: ', '35', '12', '37', ' in prossimo è: ', '35', '84', '91', ' in prossimo è: ', '36', '15', '39', ' in prossimo è: ', '36', '27', '45', ' in prossimo è: ', '36', '48', '60', ' in prossimo è: ', '36', '77', '85', ' in prossimo è: ', '39', '52', '65', ' in prossimo è: ', '39', '80', '89', ' in prossimo è: ', '40', '9', '41', ' in prossimo è: ', '40', '30', '50', ' in prossimo è: ', '40', '42', '58', ' in prossimo è: ', '40', '75', '85', ' in prossimo è: ', '42', '40', '58', ' in prossimo è: ', '42', '56', '70', ' in prossimo è: ', '44', '33', '55', ' in prossimo è: ', '45', '24', '51', ' in prossimo è: ', '45', '28', '53', ' in prossimo è: ', '45', '60', '75', ' in prossimo è: ', '48', '14', '50', ' in prossimo è: ', '48', '20', '52', ' in prossimo è: ', '48', '36', '60', ' in prossimo è: ', '48', '55', '73', ' in prossimo è: ', '48', '64', '80', ' in prossimo è: ', '51', '68', '85', ' in prossimo è: ', '52', '39', '65', ' in prossimo è: ', '54', '72', '90', ' in prossimo è: ', '55', '48', '73', ' in prossimo è: ', '56', '33', '65', ' in prossimo è: ', '56', '42', '70', ' in prossimo è: ', '57', '76', '95', ' in prossimo è: ', '60', '11', '61', ' in prossimo è: ', '60', '25', '65', ' in prossimo è: ', '60', '32', '68', ' in prossimo è: ', '60', '45', '75', ' in prossimo è: ', '60', '63', '87', ' in prossimo è: ', '63', '16', '65', ' in prossimo è: ', '63', '60', '87', ' in prossimo è: ', '64', '48', '80', ' in prossimo è: ', '65', '72', '97', ' in prossimo è: ', '68', '51', '85', ' in prossimo è: ', '70', '24', '74', ' in prossimo è: ', '72', '21', '75', ' in prossimo è: ', '72', '30', '78', ' in prossimo è: ', '72', '54', '90', ' in prossimo è: ', '72', '65', '97', ' in prossimo è: ', '75', '40', '85', ' in prossimo è: ', '76', '57', '95', ' in prossimo è: ', '77', '36', '85', ' in prossimo è: ', '80', '18', '82', ' in prossimo è: ', '80', '39', '89', ' in prossimo è: ', '84', '13', '85', ' in prossimo è: ', '84', '35', '91', ' in prossimo è: ']\n"
     ]
    }
   ],
   "source": [
    "a=[]\n",
    "for i in range (1,100):\n",
    "    for y in range (1,100):\n",
    "        for j in range (1,100):\n",
    "            if(i**2 + y**2 == j**2):\n",
    "                a.append(str(i))\n",
    "                a.append(str(y))\n",
    "                a.append(str(j))\n",
    "                a.append(\" in prossimo è: \")             \n",
    "print(a)\n",
    "\n",
    "               \n",
    "                \n"
   ]
  },
  {
   "cell_type": "markdown",
   "metadata": {},
   "source": [
    "9\\. Normalization\n",
    "\n",
    "\n",
    "Write a function that takes a tuple of numbers and returns it with the entries normalized to one"
   ]
  },
  {
   "cell_type": "code",
   "execution_count": 34,
   "metadata": {},
   "outputs": [
    {
     "name": "stdout",
     "output_type": "stream",
     "text": [
      "[2, 5, 4]\n",
      "[2, 3, 5, 3]\n",
      "[0, 0, 0, 0, 0, 0, 0]\n"
     ]
    }
   ],
   "source": [
    "a=(0,3,4,5,3,22,66)\n",
    "b=[]\n",
    "for i in range(len(a)):\n",
    "    if a[i]==0:\n",
    "        b.append(0)\n",
    "    else:\n",
    "        b.append(a[i]/a[i])\n",
    "print(b)\n",
    "\n",
    "\n",
    "        \n"
   ]
  },
  {
   "cell_type": "code",
   "execution_count": 37,
   "metadata": {},
   "outputs": [
    {
     "name": "stdout",
     "output_type": "stream",
     "text": [
      "prima della normalizzazione\n",
      "[1, 2, 3, 4, 5]\n",
      "dopo la normalizzazione: \n",
      " [1.0, 1.0, 1.0, 1.0, 1.0]\n",
      "prima della normalizzazione\n",
      "[0, 0, 0, 0, 0]\n",
      "dopo la normalizzazione: \n",
      " [0, 0, 0, 0, 0]\n"
     ]
    }
   ],
   "source": [
    "def normalization(lista):\n",
    "    print(\"prima della normalizzazione\")\n",
    "    print(lista)\n",
    "    b=[]\n",
    "    for i in range(len(lista)):\n",
    "        if lista[i]==0:\n",
    "            b.append(0)\n",
    "        else:\n",
    "            b.append(lista[i]/lista[i])\n",
    "    print(\"dopo la normalizzazione: \\n\",b)    \n",
    "    \n",
    "normalization([1,2,3,4,5])\n",
    "normalization([0,0,0,0,0])"
   ]
  },
  {
   "cell_type": "code",
   "execution_count": null,
   "metadata": {},
   "outputs": [],
   "source": []
  }
 ],
 "metadata": {
  "kernelspec": {
   "display_name": "Python 3",
   "language": "python",
   "name": "python3"
  },
  "language_info": {
   "codemirror_mode": {
    "name": "ipython",
    "version": 3
   },
   "file_extension": ".py",
   "mimetype": "text/x-python",
   "name": "python",
   "nbconvert_exporter": "python",
   "pygments_lexer": "ipython3",
   "version": "3.7.0"
  }
 },
 "nbformat": 4,
 "nbformat_minor": 2
}
