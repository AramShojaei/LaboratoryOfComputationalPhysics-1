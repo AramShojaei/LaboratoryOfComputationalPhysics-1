{
 "cells": [
  {
   "cell_type": "markdown",
   "metadata": {},
   "source": [
    "1. The MickeyMouse problem\n",
    "\n",
    "a) Write a program that prints the numbers from 1 to 100. But for multiples of three print Mickey instead of the number and for the multiples of five print Mouse. For numbers which are multiples of both three and five print MickeyMouse\n",
    "\n",
    "b) Put the result in a tuple and substitute Mickey with Donald and Mouse with Duck"
   ]
  },
  {
   "cell_type": "code",
   "execution_count": 1,
   "metadata": {},
   "outputs": [
    {
     "name": "stdout",
     "output_type": "stream",
     "text": [
      "[1, 2, 'Mickey', 4, 'Mouse', 'Mickey', 7, 8, 'Mickey', 'Mouse', 11, 'Mickey', 13, 14, 'MickeyMouse', 16, 17, 'Mickey', 19, 'Mouse', 'Mickey', 22, 23, 'Mickey', 'Mouse', 26, 'Mickey', 28, 29, 'MickeyMouse', 31, 32, 'Mickey', 34, 'Mouse', 'Mickey', 37, 38, 'Mickey', 'Mouse', 41, 'Mickey', 43, 44, 'MickeyMouse', 46, 47, 'Mickey', 49, 'Mouse', 'Mickey', 52, 53, 'Mickey', 'Mouse', 56, 'Mickey', 58, 59, 'MickeyMouse', 61, 62, 'Mickey', 64, 'Mouse', 'Mickey', 67, 68, 'Mickey', 'Mouse', 71, 'Mickey', 73, 74, 'MickeyMouse', 76, 77, 'Mickey', 79, 'Mouse', 'Mickey', 82, 83, 'Mickey', 'Mouse', 86, 'Mickey', 88, 89, 'MickeyMouse', 91, 92, 'Mickey', 94, 'Mouse', 'Mickey', 97, 98, 'Mickey', 'Mouse']\n"
     ]
    }
   ],
   "source": [
    "mickey = [i for i in range(1,101)]\n",
    "for i, j in enumerate(mickey):\n",
    "    if j%3==0: \n",
    "        mickey[i]='Mickey'\n",
    "    if j%5==0:\n",
    "        mickey[i]='Mouse'\n",
    "    if j%3==0 and j%5==0:\n",
    "        mickey[i]='MickeyMouse'   \n",
    "print(mickey)"
   ]
  },
  {
   "cell_type": "markdown",
   "metadata": {},
   "source": [
    "2\\. The swap function\n",
    "\n",
    "Write a function that swap the values of two input variables x and y (whatever the type). Try to do that also without a temporary variable"
   ]
  },
  {
   "cell_type": "code",
   "execution_count": 2,
   "metadata": {},
   "outputs": [
    {
     "name": "stdout",
     "output_type": "stream",
     "text": [
      "After swapping:  2nd 1st\n"
     ]
    }
   ],
   "source": [
    "def swap(a,b):\n",
    "    temp=a\n",
    "    a=b\n",
    "    b=temp\n",
    "    print(\"After swapping: \",a,b)\n",
    "\n",
    "swap('1st','2nd')"
   ]
  },
  {
   "cell_type": "code",
   "execution_count": 3,
   "metadata": {},
   "outputs": [
    {
     "name": "stdout",
     "output_type": "stream",
     "text": [
      "After swapping:  64 36\n"
     ]
    }
   ],
   "source": [
    "def swap_notemp(a,b):\n",
    "    a=a+b\n",
    "    b=a-b\n",
    "    a=a-b\n",
    "    print(\"After swapping: \",a,b)\n",
    "    \n",
    "swap(36,64)"
   ]
  },
  {
   "cell_type": "markdown",
   "metadata": {},
   "source": [
    "3\\. Computing the distance\n",
    "\n",
    "Write a function that calculates and returns the euclidean distance between two points *u* and *v*, where *u* and *v* are both 2-tuples *(x,y)*. For example, if *u=(3,0)* and *v=(0,4)*, the function should return 5"
   ]
  },
  {
   "cell_type": "code",
   "execution_count": 4,
   "metadata": {},
   "outputs": [
    {
     "name": "stdout",
     "output_type": "stream",
     "text": [
      "Distance between two points:  5.0\n"
     ]
    }
   ],
   "source": [
    "import math \n",
    "\n",
    "def distance(u,v):\n",
    "    if type(u)!=tuple or type(v)!=tuple:\n",
    "        print('u or v must be Tuples!')\n",
    "        return\n",
    "    distance = math.sqrt((u[0]-v[0])**2+(u[1]-v[1])**2)\n",
    "    print('Distance between two points: ', distance)\n",
    "    return\n",
    "\n",
    "u=(3,0)\n",
    "v=(0,4)\n",
    "distance(u,v)"
   ]
  },
  {
   "cell_type": "markdown",
   "metadata": {},
   "source": [
    "4\\. Counting letters\n",
    "\n",
    "Write a program to calculate the number of times each character occurs in a given string *s*. Ignore differneces in capitalization"
   ]
  },
  {
   "cell_type": "code",
   "execution_count": 5,
   "metadata": {},
   "outputs": [
    {
     "name": "stdout",
     "output_type": "stream",
     "text": [
      "String of unique characters:  write apogmhnsubf10.lckydv\n",
      "There are 2 of  w\n",
      "There are 17 of  r\n",
      "There are 14 of  i\n",
      "There are 19 of  t\n",
      "There are 22 of  e\n",
      "There are 41 of   \n",
      "There are 7 of  a\n",
      "There are 8 of  p\n",
      "There are 13 of  o\n",
      "There are 1 of  g\n",
      "There are 12 of  m\n",
      "There are 9 of  h\n",
      "There are 10 of  n\n",
      "There are 9 of  s\n",
      "There are 9 of  u\n",
      "There are 5 of  b\n",
      "There are 10 of  f\n",
      "There are 2 of  1\n",
      "There are 2 of  0\n",
      "There are 2 of  .\n",
      "There are 6 of  l\n",
      "There are 3 of  c\n",
      "There are 2 of  k\n",
      "There are 2 of  y\n",
      "There are 3 of  d\n",
      "There are 2 of  v\n"
     ]
    }
   ],
   "source": [
    "s=\"Write a program that prints the numbers from 1 to 100. \\\n",
    "But for multiples of three print Mickey instead of the number and for the multiples of five print Mouse. \\\n",
    "For numbers which are multiples of both three and five print MickeyMouse\"\n",
    "\n",
    "# make everything lowecase, no more differneces in capitalization\n",
    "s=s.lower()\n",
    "alphabet=\"\"\n",
    "for i in s:\n",
    "    if i not in alphabet:\n",
    "        alphabet+=i\n",
    "print(\"String of unique characters: \",alphabet)\n",
    "for i in alphabet:\n",
    "    print(\"There are\", s.count(i), \"of \",i)\n",
    "    "
   ]
  },
  {
   "cell_type": "markdown",
   "metadata": {},
   "source": [
    "5\\. Isolating the unique\n",
    "\n",
    "Write a function that determines and count the unique numbers in the list *l*"
   ]
  },
  {
   "cell_type": "code",
   "execution_count": 6,
   "metadata": {},
   "outputs": [
    {
     "name": "stdout",
     "output_type": "stream",
     "text": [
      "List of  37  unique numbers:  [58, 74, 96, 64, 10, 24, 19, 33, 86, 99, 18, 47, 88, 55, 54, 8, 79, 81, 57, 37, 1, 9, 95, 90, 98, 39, 16, 82, 92, 41, 30, 94, 5, 72, 87, 75, 53]\n"
     ]
    }
   ],
   "source": [
    "l = [36, 45, 58, 3, 74, 96, 64, 45, 31, 10, 24, 19, 33, 86, 99, 18, 63, 70, 85,\n",
    " 85, 63, 47, 56, 42, 70, 84, 88, 55, 20, 54, 8, 56, 51, 79, 81, 57, 37, 91,\n",
    " 1, 84, 84, 36, 66, 9, 89, 50, 42, 91, 50, 95, 90, 98, 39, 16, 82, 31, 92, 41,\n",
    " 45, 30, 66, 70, 34, 85, 94, 5, 3, 36, 72, 91, 84, 34, 87, 75, 53, 51, 20, 89, 51, 20]\n",
    "\n",
    "def unique(l): \n",
    "    list=[]\n",
    "    for i in l:\n",
    "        if l.count(i)==1:\n",
    "            list.append(i)\n",
    "    print(\"List of \",len(list) ,\" unique numbers: \",list)\n",
    "\n",
    "unique(l)"
   ]
  },
  {
   "cell_type": "markdown",
   "metadata": {},
   "source": [
    "6\\. Combination of functions\n",
    "\n",
    "Write two functions - one that returns the square of a number, and one that returns the cube. Now write a third function that returns the number raised to the 6th power using the two previous functions."
   ]
  },
  {
   "cell_type": "code",
   "execution_count": 7,
   "metadata": {},
   "outputs": [
    {
     "name": "stdout",
     "output_type": "stream",
     "text": [
      "2  square is  4\n",
      "2  cube is  8\n",
      "2  raised to the 6th is  64\n"
     ]
    }
   ],
   "source": [
    "def square(a):\n",
    "    return a**2\n",
    "\n",
    "def cube(a):\n",
    "    return a**3\n",
    "\n",
    "def sixth_pow(a):\n",
    "    return square(cube(a))\n",
    "\n",
    "a=2\n",
    "print(a,\" square is \", square(a))\n",
    "print(a,\" cube is \", cube(a))\n",
    "print(a,\" raised to the 6th is \", sixth_pow(a))"
   ]
  },
  {
   "cell_type": "markdown",
   "metadata": {},
   "source": [
    "7\\. Cubes\n",
    "\n",
    "Create a list of the cubes of x for x in *[0, 10]* using:\n",
    "\n",
    "a) a for loop\n",
    "\n",
    "b) a list comprehension"
   ]
  },
  {
   "cell_type": "code",
   "execution_count": 8,
   "metadata": {},
   "outputs": [
    {
     "name": "stdout",
     "output_type": "stream",
     "text": [
      "[0, 1, 8, 27, 64, 125, 216, 343, 512, 729, 1000]\n",
      "[0, 1, 8, 27, 64, 125, 216, 343, 512, 729, 1000]\n"
     ]
    }
   ],
   "source": [
    "list=[]\n",
    "for x in range(0,11):\n",
    "    list.append(x**3)\n",
    "    \n",
    "print(list)\n",
    "print([x**3 for x in range(0,11)])"
   ]
  },
  {
   "cell_type": "markdown",
   "metadata": {},
   "source": [
    "8\\. Nested list comprehension\n",
    "\n",
    "A Pythagorean triple is an integer solution to the Pythagorean theorem $a^2+b^2=c^2$. The first Pythagorean triple is (3,4,5). Find and put in a tuple all unique Pythagorean triples for the positive integers a, b and c less than 100."
   ]
  },
  {
   "cell_type": "code",
   "execution_count": 9,
   "metadata": {},
   "outputs": [
    {
     "name": "stdout",
     "output_type": "stream",
     "text": [
      "[[3, 4, 5], [4, 3, 5], [5, 12, 13], [6, 8, 10], [7, 24, 25], [8, 6, 10], [8, 15, 17], [9, 12, 15], [9, 40, 41], [10, 24, 26], [11, 60, 61], [12, 5, 13], [12, 9, 15], [12, 16, 20], [12, 35, 37], [13, 84, 85], [14, 48, 50], [15, 8, 17], [15, 20, 25], [15, 36, 39], [16, 12, 20], [16, 30, 34], [16, 63, 65], [18, 24, 30], [18, 80, 82], [20, 15, 25], [20, 21, 29], [20, 48, 52], [21, 20, 29], [21, 28, 35], [21, 72, 75], [24, 7, 25], [24, 10, 26], [24, 18, 30], [24, 32, 40], [24, 45, 51], [24, 70, 74], [25, 60, 65], [27, 36, 45], [28, 21, 35], [28, 45, 53], [28, 96, 100], [30, 16, 34], [30, 40, 50], [30, 72, 78], [32, 24, 40], [32, 60, 68], [33, 44, 55], [33, 56, 65], [35, 12, 37], [35, 84, 91], [36, 15, 39], [36, 27, 45], [36, 48, 60], [36, 77, 85], [39, 52, 65], [39, 80, 89], [40, 9, 41], [40, 30, 50], [40, 42, 58], [40, 75, 85], [42, 40, 58], [42, 56, 70], [44, 33, 55], [45, 24, 51], [45, 28, 53], [45, 60, 75], [48, 14, 50], [48, 20, 52], [48, 36, 60], [48, 55, 73], [48, 64, 80], [51, 68, 85], [52, 39, 65], [54, 72, 90], [55, 48, 73], [56, 33, 65], [56, 42, 70], [57, 76, 95], [60, 11, 61], [60, 25, 65], [60, 32, 68], [60, 45, 75], [60, 63, 87], [60, 80, 100], [63, 16, 65], [63, 60, 87], [64, 48, 80], [65, 72, 97], [68, 51, 85], [70, 24, 74], [72, 21, 75], [72, 30, 78], [72, 54, 90], [72, 65, 97], [75, 40, 85], [76, 57, 95], [77, 36, 85], [80, 18, 82], [80, 39, 89], [80, 60, 100], [84, 13, 85], [84, 35, 91], [96, 28, 100]]\n"
     ]
    }
   ],
   "source": [
    "print([[a,b,c] for a in range(1,101) for b in range(1,101) for c in range(1,101) if a**2+b**2==c**2])"
   ]
  },
  {
   "cell_type": "markdown",
   "metadata": {},
   "source": [
    "9\\. Normalization\n",
    "\n",
    "Write a function that takes a tuple of numbers and returns it with the entries normalized to one"
   ]
  },
  {
   "cell_type": "code",
   "execution_count": 11,
   "metadata": {},
   "outputs": [
    {
     "name": "stdout",
     "output_type": "stream",
     "text": [
      "[0.2, 0.2, 0.4, 0.1, 0.1]\n"
     ]
    }
   ],
   "source": [
    "def norm(numbers):\n",
    "    return [x/sum(numbers) for x in numbers]\n",
    "\n",
    "print(norm([0.1, 0.1, 0.2, 0.05, 0.05]))\n",
    "            "
   ]
  },
  {
   "cell_type": "code",
   "execution_count": null,
   "metadata": {
    "collapsed": true
   },
   "outputs": [],
   "source": []
  }
 ],
 "metadata": {
  "kernelspec": {
   "display_name": "Python 3",
   "language": "python",
   "name": "python3"
  },
  "language_info": {
   "codemirror_mode": {
    "name": "ipython",
    "version": 3
   },
   "file_extension": ".py",
   "mimetype": "text/x-python",
   "name": "python",
   "nbconvert_exporter": "python",
   "pygments_lexer": "ipython3",
   "version": "3.6.3"
  }
 },
 "nbformat": 4,
 "nbformat_minor": 2
}
