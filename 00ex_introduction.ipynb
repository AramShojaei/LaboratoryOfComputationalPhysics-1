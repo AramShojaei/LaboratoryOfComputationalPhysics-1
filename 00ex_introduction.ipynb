{
 "cells": [
  {
   "cell_type": "markdown",
   "metadata": {},
   "source": [
    "1. The MickeyMouse problem\n",
    "\n",
    "a) Write a program that prints the numbers from 1 to 100. But for multiples of three print Mickey instead of the number and for the multiples of five print Mouse. For numbers which are multiples of both three and five print MickeyMouse\n",
    "\n",
    "b) Put the result in a tuple and substitute Mickey with Donald and Mouse with Duck"
   ]
  },
  {
   "cell_type": "code",
   "execution_count": null,
   "metadata": {},
   "outputs": [],
   "source": [
    "# Es 1.a ---------------\n",
    "print(\"\\n\\nEs1\\n\\n1.a)\\n\")\n",
    "\n",
    "listToAdd = []\n",
    "\n",
    "for i in range(1,100):\n",
    "    if i % 3 == 0:\n",
    "        print(\"Misha\", i)\n",
    "        listToAdd.append(\"Misha\")\n",
    "    if i % 3 == 0 and i % 5 == 0:\n",
    "        print(\"MishaMouse\", i)\n",
    "        listToAdd.append(\"MishaMouse\")\n",
    "#enddo\n",
    "\n",
    "print(listToAdd)\n",
    "\n",
    "# Es 1.b ---------------\n",
    "print(\"\\n\\n1.b)\\n\")\n",
    "\n",
    "for i in range(len(listToAdd)):\n",
    "    if listToAdd[i] == \"Misha\":\n",
    "        listToAdd[i] = \"Donald\"\n",
    "    if listToAdd[i] == \"MishaMouse\":\n",
    "        listToAdd[i] = \"DonaldDuck\"\n",
    "#enddo\n",
    "\n",
    "print(listToAdd)"
   ]
  },
  {
   "cell_type": "markdown",
   "metadata": {},
   "source": [
    "2\\. The swap function\n",
    "\n",
    "Write a function that swap the values of two input variables x and y (whatever the type). Try to do that also without a temporary variable"
   ]
  },
  {
   "cell_type": "code",
   "execution_count": null,
   "metadata": {},
   "outputs": [],
   "source": [
    "# Es 2 ------------------\n",
    "print(\"\\n\\nEs2\\n\")\n",
    "\n",
    "def Swap(x,y):\n",
    "\n",
    "    toSwap = [x,y]\n",
    "    toSwap.reverse()\n",
    "\n",
    "    return toSwap[0], toSwap[1]\n",
    "#enddef\n",
    "\n",
    "prima = 3\n",
    "seconda = 6\n",
    "\n",
    "print(\"prima seconda = \", prima, seconda)\n",
    "prima, seconda = Swap(prima,seconda)\n",
    "print(\"prima seconda = \", prima, seconda)"
   ]
  },
  {
   "cell_type": "markdown",
   "metadata": {},
   "source": [
    "3\\. Computing the distance\n",
    "\n",
    "Write a function that calculates and returns the euclidean distance between two points *u* and *v*, where *u* and *v* are both 2-tuples *(x,y)*. For example, if *u=(3,0)* and *v=(0,4)*, the function should return 5"
   ]
  },
  {
   "cell_type": "code",
   "execution_count": null,
   "metadata": {},
   "outputs": [],
   "source": [
    "print(\"\\n\\nEs 3\\n\")\n",
    "\n",
    "def dist(x1, x2):\n",
    "\n",
    "    # dist = || (x1 - y1)^2 + (x2 - y2)^2 ||^0.5\n",
    "    d = ( (x1[0] - x2[0])**2 + (x1[1] - x2[1])**2 )**(1/2)\n",
    "    return d\n",
    "#enddef\n",
    "\n",
    "x1 = [3.0, 0.0]\n",
    "x2 = [0.0, 4.0]\n",
    "\n",
    "d = dist(x1,x2)\n",
    "\n",
    "print(\"Distanza = \", d)\n",
    "\n"
   ]
  },
  {
   "cell_type": "markdown",
   "metadata": {},
   "source": [
    "4\\. Counting letters\n",
    "\n",
    "Write a program to calculate the number of times each character occurs in a given string *s*. Ignore differneces in capitalization"
   ]
  },
  {
   "cell_type": "code",
   "execution_count": null,
   "metadata": {},
   "outputs": [],
   "source": [
    "s=\"Write a program that prints the numbers from 1 to 100. \\\n",
    "But for multiples of three print Mickey instead of the number and for the multiples of five print Mouse. \\\n",
    "For numbers which are multiples of both three and five print MickeyMouse\""
   ]
  },
  {
   "cell_type": "code",
   "execution_count": null,
   "metadata": {},
   "outputs": [],
   "source": [
    "print(s)\n",
    "\t \n",
    "s = s.lower()\n",
    "lettere = [c for c in s]\n",
    "\n",
    "\n",
    "dictCheck = { }\n",
    "matches = [chrs for chrs in lettere if chrs == lettere[0]]\n",
    "dictCheck.update({ lettere[0] : len(matches) })\n",
    "for i in range(1,len(lettere)):\n",
    "\tif i not in dictCheck.keys():\n",
    "\t\tmatches = [chrs for chrs in lettere if lettere[i] == chrs]\n",
    "\t\tdictCheck.update({ lettere[i] : len(matches) })\n",
    "\t#endif\n",
    "#enddo\t\n",
    "\n",
    "for keys in dictCheck:\n",
    "\tprint(keys , dictCheck[keys])\n",
    "#enddo"
   ]
  },
  {
   "cell_type": "markdown",
   "metadata": {},
   "source": [
    "5\\. Isolating the unique\n",
    "\n",
    "Write a function that determines and count the unique numbers in the list *l*"
   ]
  },
  {
   "cell_type": "code",
   "execution_count": null,
   "metadata": {},
   "outputs": [],
   "source": [
    "l = [36, 45, 58, 3, 74, 96, 64, 45, 31, 10, 24, 19, 33, 86, 99, 18, 63, 70, 85,\n",
    " 85, 63, 47, 56, 42, 70, 84, 88, 55, 20, 54, 8, 56, 51, 79, 81, 57, 37, 91,\n",
    " 1, 84, 84, 36, 66, 9, 89, 50, 42, 91, 50, 95, 90, 98, 39, 16, 82, 31, 92, 41,\n",
    " 45, 30, 66, 70, 34, 85, 94, 5, 3, 36, 72, 91, 84, 34, 87, 75, 53, 51, 20, 89, 51, 20]"
   ]
  },
  {
   "cell_type": "code",
   "execution_count": null,
   "metadata": {},
   "outputs": [],
   "source": [
    "def CountUniques(listNumbers):\n",
    "\t\n",
    "\tlistUniques = [ ]\n",
    "\tfor nums in listNumbers:\n",
    "\t\tmatches = [n for n in listNumbers if n == nums]\n",
    "\t\tif len(matches) == 1:\n",
    "\t\t\tlistUniques.append(nums)\n",
    "\t\t#endif\n",
    "\t#enddo\n",
    "\treturn listUniques\n",
    "#enddef\n",
    "\n",
    "unici = CountUniques(l)\n",
    "\n",
    "print(unici)\n",
    "\n",
    "print(\"I numeri unici sono: \", len(unici), \" mentre la lista di numeri è di \", len(l))"
   ]
  },
  {
   "cell_type": "markdown",
   "metadata": {},
   "source": [
    "6\\. Combination of functions\n",
    "\n",
    "Write two functions - one that returns the square of a number, and one that returns the cube. Now write a third function that returns the number raised to the 6th power using the two previous functions."
   ]
  },
  {
   "cell_type": "code",
   "execution_count": null,
   "metadata": {},
   "outputs": [],
   "source": [
    "def Square(n):\n",
    "\tris = n**2\n",
    "\treturn ris\n",
    "#enddef\n",
    "\n",
    "def Cube(n):\n",
    "\tris = n**3\n",
    "\treturn ris\n",
    "#enddef\n",
    "\n",
    "def SixthPower(m):\n",
    "\t#ris = Square(m)\n",
    "\t#ris = Cube(ris)\n",
    "\tris = Square(Cube(m))\n",
    "\treturn ris\n",
    "#enddef\n",
    "\n",
    "nn = 2\n",
    "ris = SixthPower(nn)\n",
    "print(\"La sesta potenza di\", nn, \" è \", ris)"
   ]
  },
  {
   "cell_type": "markdown",
   "metadata": {},
   "source": [
    "7\\. Cubes\n",
    "\n",
    "Create a list of the cubes of x for x in *[0, 10]* using:\n",
    "\n",
    "a) a for loop\n",
    "\n",
    "b) a list comprehension"
   ]
  },
  {
   "cell_type": "code",
   "execution_count": null,
   "metadata": {},
   "outputs": [],
   "source": [
    "listCubes = []\n",
    " \n",
    "for i in range(10+1):\n",
    "\tlistCubes.append(i**3)\n",
    "#enddo\n",
    "\t\n",
    "print(listCubes)\n",
    "\t\n",
    "print(\"\\n7.b)\\n\")\n",
    "listCubes = [n**3 for n in range(0,10+1)]\t\n",
    "\n",
    "print(listCubes)"
   ]
  },
  {
   "cell_type": "markdown",
   "metadata": {},
   "source": [
    "8\\. Nested list comprehension\n",
    "\n",
    "A Pythagorean triple is an integer solution to the Pythagorean theorem $a^2+b^2=c^2$. The first Pythagorean triple is (3,4,5). Find and put in a tuple all unique Pythagorean triples for the positive integers a, b and c less than 100."
   ]
  },
  {
   "cell_type": "code",
   "execution_count": null,
   "metadata": {},
   "outputs": [],
   "source": [
    "import time\n",
    "listTuples = []\n",
    "\n",
    "start = time.time()\n",
    "\n",
    "for i in range(1,100):\n",
    "\tfor j in range(i,100):\n",
    "\t\tfor k in range(j,100):\n",
    "\t\t\tans = abs(k**2 - i**2 - j**2)\n",
    "\t\t\tif ans == 0:\n",
    "\t\t\t\tlistTuples.append( (i,j,k) )\n",
    "\t\t\t#endif\n",
    "\t\t#enddo\n",
    "\t#enddo\n",
    "#enddo\n",
    "end = time.time()\n",
    "print(\"Con for innestati: \", end - start, \" s.\")\n",
    "\n",
    "print(listTuples)\n",
    "\n",
    "\n",
    "# tuple2 = [ [ [ [i for i in range(1,100)] for j in range(i,100) ] for k in range(1,100) ] if k**2 - i**2 - j**2 == 0 ]\n",
    "start = time.time()\n",
    "\n",
    "listToTuple = [ (i, j, k) for i in range(1,100) for j in range(i,100) for k in range(j,100) if k**2 - i**2 - j**2 == 0 ]\n",
    "\n",
    "end = time.time()\n",
    "print(\"\\nCon list comprehension: \", end - start, \" s.\")\t\n",
    "\n",
    "print(listToTuple)"
   ]
  },
  {
   "cell_type": "markdown",
   "metadata": {},
   "source": [
    "9\\. Normalization\n",
    "\n",
    "Write a function that takes a tuple of numbers and returns it with the entries normalized to one"
   ]
  },
  {
   "cell_type": "code",
   "execution_count": null,
   "metadata": {},
   "outputs": [],
   "source": [
    "tupleToNorm = (0, 0, 1, 3, 4, 6, 7, 9, 10, 5, 3, 2, 1, 2, 0, 1, 0)\n",
    "listNorm = [n/max(tupleToNorm) for n in tupleToNorm]\n",
    "tupleNorm = tuple(listNorm)\n",
    "\n",
    "print(tupleToNorm)\n",
    "print(tupleNorm)"
   ]
  }
 ],
 "metadata": {
  "kernelspec": {
   "display_name": "Python 3",
   "language": "python",
   "name": "python3"
  },
  "language_info": {
   "codemirror_mode": {
    "name": "ipython",
    "version": 3
   },
   "file_extension": ".py",
   "mimetype": "text/x-python",
   "name": "python",
   "nbconvert_exporter": "python",
   "pygments_lexer": "ipython3",
   "version": "3.5.4"
  }
 },
 "nbformat": 4,
 "nbformat_minor": 2
}
