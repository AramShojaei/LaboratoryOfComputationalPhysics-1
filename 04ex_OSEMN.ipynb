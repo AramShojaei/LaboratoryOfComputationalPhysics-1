{
 "cells": [
  {
   "cell_type": "markdown",
   "metadata": {},
   "source": [
    "# Data science is OSEMN\n",
    "\n",
    "According to a popular model, the elements of data science are\n",
    "\n",
    "* Obtaining data\n",
    "* Scrubbing data\n",
    "* Exploring data\n",
    "* Modeling data\n",
    "* iNterpreting data\n",
    "\n",
    "and hence the acronym OSEMN, pronounced as “Awesome”.\n",
    "\n",
    "We will start with the **O**, moving towards the rest later, but first let's have a quick look at what it all boils down to:"
   ]
  },
  {
   "cell_type": "code",
   "execution_count": null,
   "metadata": {},
   "outputs": [],
   "source": [
    "import numpy as np\n",
    "data = np.loadtxt('populations.txt')\n",
    "year, hares, lynxes, carrots = data.T # trick: columns to variables\n",
    "\n",
    "\n",
    "from matplotlib import pyplot as plt\n",
    "%matplotlib inline\n",
    "\n",
    "plt.axes([0.2, 0.1, 0.5, 0.8]) \n",
    "plt.plot(year, hares, year, lynxes, year, carrots) \n",
    "plt.legend(('Hare', 'Lynx', 'Carrot'), loc=(1.05, 0.5)) "
   ]
  },
  {
   "cell_type": "markdown",
   "metadata": {},
   "source": [
    "By plotting the data a clear (and reasonable) correlations between pray and predator becomes evident. How can it be quantified? Is that statistical significant? What about the correlation between carrots and hares? Is that evident? Is that significant?\n",
    "\n",
    "Finding correlations in data is the main goal of data science, though that is not the end of the story: as this precious [site](http://tylervigen.com/spurious-correlations) demonstrates, **correlations is not causation**. \n"
   ]
  },
  {
   "cell_type": "markdown",
   "metadata": {},
   "source": [
    "*Exercise*: write an algorithm that determins and quantifies a correlation between two time series. Use as an example the hare-lynx-carrot dataset."
   ]
  },
  {
   "cell_type": "code",
   "execution_count": null,
   "metadata": {},
   "outputs": [],
   "source": [
    "hares_mean = np.mean(hares)\n",
    "lynxes_mean = np.mean(lynxes)\n",
    "carrots_mean = np.mean(carrots)\n",
    "hares_std = np.std(hares)\n",
    "lynxes_std = np.std(lynxes)\n",
    "carrots_std = np.std(carrots)\n",
    "\n",
    "lags = np.arange(-len(hares) + 1, len(hares))\n",
    "\n",
    "# Hares - Lynxes\n",
    "crosscorr_hares_lynxes = np.correlate(hares - hares_mean, lynxes - lynxes_mean, mode='full')\n",
    "crosscorr_hares_lynxes = crosscorr_hares_lynxes / ( hares_std * lynxes_std )\n",
    "\n",
    "plt.plot(lags,crosscorr_hares_lynxes)\n",
    "plt.xlabel('Lag')\n",
    "plt.ylabel('Scaled cross-correlation')\n",
    "plt.title('Hares - Lynxes')\n",
    "plt.show()\n",
    "\n",
    "corr_quantificator_hl = np.max(crosscorr_hares_lynxes)\n",
    "print('Hares - Lynxes:', corr_quantificator_hl)\n",
    "\n",
    "\n",
    "# Hares - Carrots\n",
    "crosscorr_hares_carrots = np.correlate(hares - hares_mean, carrots - carrots_mean, mode='full')\n",
    "crosscorr_hares_carrots = crosscorr_hares_carrots / ( hares_std * carrots_std ) \n",
    "\n",
    "plt.plot(lags,crosscorr_hares_carrots)\n",
    "plt.xlabel('Lag')\n",
    "plt.ylabel('Scaled cross-correlation')\n",
    "plt.title('Hares - Carrots')\n",
    "plt.show()\n",
    "\n",
    "corr_quantificator_hc = np.max(crosscorr_hares_carrots)\n",
    "print('Hares - Carrots:', corr_quantificator_hc)\n",
    "\n",
    "\n",
    "# Lynxes - Carrots\n",
    "crosscorr_lynxes_carrots = np.correlate(lynxes - lynxes_mean, carrots - carrots_mean, mode='full')\n",
    "crosscorr_lynxes_carrots = crosscorr_lynxes_carrots / ( lynxes_std * carrots_std )\n",
    "\n",
    "plt.plot(lags,crosscorr_lynxes_carrots)\n",
    "plt.xlabel('Lag')\n",
    "plt.ylabel('Scaled cross-correlation')\n",
    "plt.title('Lynxes - Carrots')\n",
    "plt.show()\n",
    "\n",
    "corr_quantificator_lc = np.max(crosscorr_lynxes_carrots)\n",
    "print('Lynxes - Carrots:', corr_quantificator_lc)\n",
    "\n",
    "\n",
    "# Hares - Hares (autocorrelation)\n",
    "autocorr_hares = np.correlate(hares - hares_mean, hares - hares_mean, mode='full')\n",
    "autoscorr_hares = autocorr_hares / ( hares_std * hares_std )\n",
    "\n",
    "plt.plot(lags,autoscorr_hares)\n",
    "plt.xlabel('Lag')\n",
    "plt.ylabel('Scaled auto-correlation')\n",
    "plt.title('Hares - Hares')\n",
    "plt.show()\n",
    "\n",
    "corr_quantificator_hh = np.max(autoscorr_hares)\n",
    "print('Hares - hares:', corr_quantificator_hh)\n"
   ]
  },
  {
   "cell_type": "code",
   "execution_count": null,
   "metadata": {},
   "outputs": [],
   "source": []
  }
 ],
 "metadata": {
  "kernelspec": {
   "display_name": "Python 3",
   "language": "python",
   "name": "python3"
  },
  "language_info": {
   "codemirror_mode": {
    "name": "ipython",
    "version": 3
   },
   "file_extension": ".py",
   "mimetype": "text/x-python",
   "name": "python",
   "nbconvert_exporter": "python",
   "pygments_lexer": "ipython3",
   "version": "3.7.0"
  }
 },
 "nbformat": 4,
 "nbformat_minor": 2
}
