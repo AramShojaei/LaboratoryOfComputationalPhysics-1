{
 "cells": [
  {
   "cell_type": "markdown",
   "metadata": {},
   "source": [
    "1\\. Write the following as a list comprehension"
   ]
  },
  {
   "cell_type": "code",
   "execution_count": 1,
   "metadata": {},
   "outputs": [
    {
     "name": "stdout",
     "output_type": "stream",
     "text": [
      "[(0, 0), (0, 1), (0, 2), (0, 3), (1, 0), (1, 1), (1, 2), (1, 3), (2, 0), (2, 1), (2, 2), (2, 3)]\n",
      "[0, 4, 16]\n"
     ]
    }
   ],
   "source": [
    "# 1\n",
    "ans = []\n",
    "for i in range(3):\n",
    "    for j in range(4):\n",
    "        ans.append((i, j))\n",
    "print (ans)\n",
    "\n",
    "# 2\n",
    "ans = map(lambda x: x*x, filter(lambda x: x%2 == 0, range(5)))\n",
    "print (list(ans))\n",
    "\n"
   ]
  },
  {
   "cell_type": "code",
   "execution_count": 2,
   "metadata": {},
   "outputs": [
    {
     "name": "stdout",
     "output_type": "stream",
     "text": [
      "[(0, 0), (0, 1), (0, 2), (0, 3), (1, 0), (1, 1), (1, 2), (1, 3), (2, 0), (2, 1), (2, 2), (2, 3)]\n",
      "[0, 4, 16]\n"
     ]
    }
   ],
   "source": [
    "ans1 = [(x,y) for x in range(3) for y in range(4)]\n",
    "print(ans1)\n",
    "\n",
    "ans1 = [x*x for x in range(5) if x%2 == 0]\n",
    "print(ans1)"
   ]
  },
  {
   "cell_type": "markdown",
   "metadata": {},
   "source": [
    "2\\. Convert the following function into a pure function with no global variables or side effects"
   ]
  },
  {
   "cell_type": "code",
   "execution_count": 3,
   "metadata": {},
   "outputs": [
    {
     "name": "stdout",
     "output_type": "stream",
     "text": [
      "[1, 2, 3, 0, 1, 2, 3, 4]\n",
      "[1, 2, 3, 0, 1, 2, 3, 4]\n"
     ]
    }
   ],
   "source": [
    "x = 5\n",
    "def f(alist):\n",
    "    for i in range(x):\n",
    "        alist.append(i)\n",
    "    return alist\n",
    "\n",
    "alist = [1,2,3]\n",
    "ans = f(alist)\n",
    "print (ans)\n",
    "print (alist) # alist has been changed!"
   ]
  },
  {
   "cell_type": "code",
   "execution_count": 4,
   "metadata": {},
   "outputs": [
    {
     "name": "stdout",
     "output_type": "stream",
     "text": [
      "[1, 2, 3, 0, 1, 2, 3, 4]\n",
      "[1, 2, 3]\n"
     ]
    }
   ],
   "source": [
    "x = 5\n",
    "\n",
    "def f(y):\n",
    "    #since it's a list you have to make a copy otherwise you will be in the case above\n",
    "    y = y.copy()\n",
    "    for i in range(x):\n",
    "        y.append(i)\n",
    "    return y\n",
    "\n",
    "alist = [1,2,3]\n",
    "ans = f(alist)\n",
    "print (ans)\n",
    "print (alist) # alist has NOT been changed!"
   ]
  },
  {
   "cell_type": "markdown",
   "metadata": {},
   "source": [
    "3\\. Write a `decorator` hello that makes every wrapped function print “Hello!”, i.e. something like:\n",
    "\n",
    "```python\n",
    "@hello\n",
    "def square(x):\n",
    "    return x*x\n",
    "```\n",
    "\n"
   ]
  },
  {
   "cell_type": "code",
   "execution_count": 5,
   "metadata": {},
   "outputs": [
    {
     "name": "stdout",
     "output_type": "stream",
     "text": [
      "Hello!\n",
      "16\n",
      "Hello!\n"
     ]
    }
   ],
   "source": [
    "def my_decorator(func):\n",
    "    def wrapper(x):\n",
    "        print(\"Hello!\")\n",
    "        print(func(x))\n",
    "        print(\"Hello!\")\n",
    "    return wrapper\n",
    "\n",
    "def square(x):\n",
    "    return x*x\n",
    "\n",
    "square = my_decorator(square)\n",
    "square(4)"
   ]
  },
  {
   "cell_type": "markdown",
   "metadata": {},
   "source": [
    "4\\. Write the factorial function so that it a) does and b) does not use recursion."
   ]
  },
  {
   "cell_type": "code",
   "execution_count": 6,
   "metadata": {},
   "outputs": [
    {
     "name": "stdout",
     "output_type": "stream",
     "text": [
      "6\n",
      "1\n",
      "\n",
      "\n",
      "6\n",
      "1\n",
      "\n",
      "\n",
      "6\n",
      "1\n"
     ]
    }
   ],
   "source": [
    "def fac_rec(x):\n",
    "    if x == 0:\n",
    "        return 1\n",
    "    return x * fac_rec(x-1)\n",
    "\n",
    "def fac_not_rec(x):\n",
    "    y = 1\n",
    "    if x==0: return 1\n",
    "    for x in range(1,x+1):\n",
    "        y = y*x\n",
    "    return y\n",
    "\n",
    "fac_lambda = lambda x: 1 if x==0 else fac_lambda(x-1)*x\n",
    "\n",
    "print(fac_rec(3))\n",
    "print(fac_rec(0))\n",
    "print(\"\\n\")\n",
    "print(fac_not_rec(3))\n",
    "print(fac_not_rec(0))\n",
    "print(\"\\n\")\n",
    "print(fac_lambda(3))\n",
    "print(fac_lambda(0))"
   ]
  },
  {
   "cell_type": "markdown",
   "metadata": {},
   "source": [
    "5\\. Use HOFs (zip in particular) to compute the weight of a circle, a disk and a sphere, assuming different radii and different densities:\n",
    "\n",
    "```python\n",
    "densities = {\"Al\":[0.5,1,2],\"Fe\":[3,4,5],\"Pb\": [15,20,30]}\n",
    "radii = [1,2,3]\n",
    "```\n",
    "\n",
    "where the entries of the dictionary's values are the linear, superficial and volumetric densities of the materials respectively.\n",
    "\n",
    "In particular define a list of three lambda functions using a comprehension that computes the circumference, the area and the volume for a given radius.\n"
   ]
  },
  {
   "cell_type": "code",
   "execution_count": 7,
   "metadata": {
    "scrolled": false
   },
   "outputs": [
    {
     "name": "stdout",
     "output_type": "stream",
     "text": [
      "[['Al', 0.5, 1, 3.141592653589793],\n",
      " ['Al', 0.5, 2, 6.283185307179586],\n",
      " ['Al', 0.5, 3, 9.42477796076938],\n",
      " ['Al', 1, 1, 3.141592653589793],\n",
      " ['Al', 1, 2, 12.566370614359172],\n",
      " ['Al', 1, 3, 28.274333882308138],\n",
      " ['Al', 2, 1, 8.377580409572781],\n",
      " ['Al', 2, 2, 67.02064327658225],\n",
      " ['Al', 2, 3, 226.19467105846508],\n",
      " ['Fe', 3, 1, 18.84955592153876],\n",
      " ['Fe', 3, 2, 37.69911184307752],\n",
      " ['Fe', 3, 3, 56.548667764616276],\n",
      " ['Fe', 4, 1, 12.566370614359172],\n",
      " ['Fe', 4, 2, 50.26548245743669],\n",
      " ['Fe', 4, 3, 113.09733552923255],\n",
      " ['Fe', 5, 1, 20.94395102393195],\n",
      " ['Fe', 5, 2, 167.5516081914556],\n",
      " ['Fe', 5, 3, 565.4866776461627],\n",
      " ['Pb', 15, 1, 94.24777960769379],\n",
      " ['Pb', 15, 2, 188.49555921538757],\n",
      " ['Pb', 15, 3, 282.7433388230814],\n",
      " ['Pb', 20, 1, 62.83185307179586],\n",
      " ['Pb', 20, 2, 251.32741228718345],\n",
      " ['Pb', 20, 3, 565.4866776461628],\n",
      " ['Pb', 30, 1, 125.66370614359171],\n",
      " ['Pb', 30, 2, 1005.3096491487337],\n",
      " ['Pb', 30, 3, 3392.920065876976]]\n"
     ]
    }
   ],
   "source": [
    "from math import pi\n",
    "from pprint import pprint\n",
    "densities = {\"Al\":[0.5,1,2],\"Fe\":[3,4,5],\"Pb\": [15,20,30]}\n",
    "radii = [1,2,3]\n",
    "\n",
    "#version 1 with zip\n",
    "circumference = lambda x: 2*pi*x\n",
    "area = lambda x: pi*(x**2)\n",
    "volume = lambda x: 4/3*pi*(x**3)\n",
    "listing = [circumference, area, volume]\n",
    "result = [[elem,x,y,z(y)*x] for elem in densities.keys()  for x,z in zip(densities[elem], listing) for y in radii]\n",
    "pprint(result)"
   ]
  },
  {
   "cell_type": "code",
   "execution_count": 8,
   "metadata": {},
   "outputs": [
    {
     "name": "stdout",
     "output_type": "stream",
     "text": [
      "[['Al', 1, [3.141592653589793, 3.141592653589793, 8.377580409572781]],\n",
      " ['Al', 2, [6.283185307179586, 12.566370614359172, 67.02064327658225]],\n",
      " ['Al', 3, [9.42477796076938, 28.274333882308138, 226.19467105846508]],\n",
      " ['Fe', 1, [18.84955592153876, 12.566370614359172, 20.94395102393195]],\n",
      " ['Fe', 2, [37.69911184307752, 50.26548245743669, 167.5516081914556]],\n",
      " ['Fe', 3, [56.548667764616276, 113.09733552923255, 565.4866776461627]],\n",
      " ['Pb', 1, [94.24777960769379, 62.83185307179586, 125.66370614359171]],\n",
      " ['Pb', 2, [188.49555921538757, 251.32741228718345, 1005.3096491487337]],\n",
      " ['Pb', 3, [282.7433388230814, 565.4866776461628, 3392.920065876976]]]\n"
     ]
    }
   ],
   "source": [
    "#version2 with lambda list\n",
    "listingBis = lambda x,y : [y[0]*circumference(x), y[1]*area(x), y[2]*volume(x)]\n",
    "\n",
    "resultBis = [[elem, x, listingBis(x,densities[elem])] for elem in densities.keys() for x in radii]\n",
    "pprint(resultBis)"
   ]
  },
  {
   "cell_type": "markdown",
   "metadata": {},
   "source": [
    "6\\. Edit the class defintion to add an instance attribute of is_hungry = True to the Dog class. Then add a method called eat() which changes the value of is_hungry to False when called. Figure out the best way to feed each dog and then output “My dogs are hungry.” if all are hungry or “My dogs are not hungry.” if all are not hungry. The final output should look like this:\n",
    "\n",
    "`I have 3 dogs. \n",
    "Tom is 6. \n",
    "Fletcher is 7. \n",
    "Larry is 9. \n",
    "And they're all mammals, of course. \n",
    "My dogs are not hungry.\n",
    "`\n",
    "\n",
    "```python\n",
    "# Parent class\n",
    "class Dog:\n",
    "\n",
    "    # Class attribute\n",
    "    species = 'mammal'\n",
    "\n",
    "    # Initializer / Instance attributes\n",
    "    def __init__(self, name, age):\n",
    "        self.name = name\n",
    "        self.age = age\n",
    "\n",
    "    # instance method\n",
    "    def description(self):\n",
    "        return \"{} is {} years old\".format(self.name, self.age)\n",
    "\n",
    "    # instance method\n",
    "    def speak(self, sound):\n",
    "        return \"{} says {}\".format(self.name, sound)\n",
    "\n",
    "# Child class (inherits from Dog class)\n",
    "class RussellTerrier(Dog):\n",
    "    def run(self, speed):\n",
    "        return \"{} runs {}\".format(self.name, speed)\n",
    "\n",
    "# Child class (inherits from Dog class)\n",
    "class Bulldog(Dog):\n",
    "    def run(self, speed):\n",
    "        return \"{} runs {}\".format(self.name, speed)\n",
    "```"
   ]
  },
  {
   "cell_type": "code",
   "execution_count": 9,
   "metadata": {
    "collapsed": true
   },
   "outputs": [],
   "source": [
    "# Parent class\n",
    "class Dog:\n",
    "\n",
    "    # Class attributes\n",
    "    species = 'mammal'\n",
    "    is_hungry = True\n",
    "    \n",
    "    # Initializer / Instance attributes\n",
    "    def __init__(self, name, age):\n",
    "        self.name = name\n",
    "        self.age = age\n",
    "\n",
    "    # instance method\n",
    "    def description(self):\n",
    "        return \"{} is {} years old\".format(self.name, self.age)\n",
    "\n",
    "    # instance method\n",
    "    def speak(self, sound):\n",
    "        return \"{} says {}\".format(self.name, sound)\n",
    "    \n",
    "    # instance method\n",
    "    def eat(self):\n",
    "        self.is_hungry = False\n",
    "        \n",
    "    # instance method\n",
    "    def starve(self):\n",
    "        self.is_hungry = True\n",
    "        \n",
    "    def isHungry(self):\n",
    "        return self.is_hungry\n",
    "\n",
    "class MyDog(Dog):\n",
    "    #Class attributes\n",
    "    number = 0\n",
    "    \n",
    "    # Initializer\n",
    "    def __init__(self, name, age):\n",
    "        self.dogs = []\n",
    "        \n",
    "        for (n,a) in zip(name, age):\n",
    "            self.dogs.append(Dog(n,a))\n",
    "            \n",
    "    def description(self):\n",
    "        for dog in self.dogs:\n",
    "            print(dog.description())\n",
    "            \n",
    "    def areHungry(self):\n",
    "        allHungry = False\n",
    "        for dog in self.dogs:\n",
    "            if(dog.isHungry()):\n",
    "                allHungry = True\n",
    "        return allHungry\n",
    "    \n",
    "    def letThemEat(self):\n",
    "        for dog in self.dogs:\n",
    "            if(dog.isHungry()):\n",
    "                dog.eat()\n",
    "        print(\"I'm feeding them ok..\")\n",
    "    \n",
    "    def letThemStarve(self):\n",
    "        for dog in self.dogs:\n",
    "            if(~dog.isHungry()):\n",
    "                dog.starve()\n",
    "        print(\"No food to my dogs I don't want them\")\n",
    "    \n",
    "    def letThemDie(self):\n",
    "        del self.dogs\n",
    "        print(\"All dogs are dead, you are a bad person, a very very bad person!\")\n",
    "        \n",
    "dhungry = lambda x: print(\"My dogs are hungry\") if(x) else print(\"My dogs are NOT hungry\")"
   ]
  },
  {
   "cell_type": "code",
   "execution_count": 10,
   "metadata": {},
   "outputs": [
    {
     "name": "stdout",
     "output_type": "stream",
     "text": [
      "My dogs are hungry\n",
      "I'm feeding them ok..\n",
      "My dogs are NOT hungry\n",
      "No food to my dogs I don't want them\n",
      "My dogs are hungry\n",
      "All dogs are dead, you are a bad person, a very very bad person!\n"
     ]
    }
   ],
   "source": [
    "dogList = MyDog(['marco',\"giovanni\"],[\"2\",\"4\"])\n",
    "\n",
    "dhungry(dogList.areHungry())\n",
    "dogList.letThemEat()\n",
    "\n",
    "dhungry(dogList.areHungry())\n",
    "dogList.letThemStarve()\n",
    "\n",
    "dhungry(dogList.areHungry())\n",
    "dogList.letThemDie()"
   ]
  },
  {
   "cell_type": "code",
   "execution_count": null,
   "metadata": {
    "collapsed": true
   },
   "outputs": [],
   "source": []
  }
 ],
 "metadata": {
  "kernelspec": {
   "display_name": "Python 3",
   "language": "python",
   "name": "python3"
  },
  "language_info": {
   "codemirror_mode": {
    "name": "ipython",
    "version": 3
   },
   "file_extension": ".py",
   "mimetype": "text/x-python",
   "name": "python",
   "nbconvert_exporter": "python",
   "pygments_lexer": "ipython3",
   "version": "3.6.3"
  }
 },
 "nbformat": 4,
 "nbformat_minor": 2
}
