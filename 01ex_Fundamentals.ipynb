{
 "cells": [
  {
   "cell_type": "markdown",
   "metadata": {},
   "source": [
    "1\\. Write the following as a list comprehension"
   ]
  },
  {
   "cell_type": "code",
   "execution_count": 2,
   "metadata": {},
   "outputs": [
    {
     "name": "stdout",
     "output_type": "stream",
     "text": [
      "[(0, 0), (0, 1), (0, 2), (0, 3), (1, 0), (1, 1), (1, 2), (1, 3), (2, 0), (2, 1), (2, 2), (2, 3)]\n",
      "[0, 4, 16]\n"
     ]
    }
   ],
   "source": [
    "# 1\n",
    "ans = []\n",
    "for i in range(3):\n",
    "    for j in range(4):\n",
    "        ans.append((i, j))\n",
    "print (ans)\n",
    "\n",
    "# 2\n",
    "ans = map(lambda x: x*x, filter(lambda x: x%2 == 0, range(5)))\n",
    "print (list(ans))\n"
   ]
  },
  {
   "cell_type": "code",
   "execution_count": 11,
   "metadata": {},
   "outputs": [
    {
     "name": "stdout",
     "output_type": "stream",
     "text": [
      "[(0, 0), (0, 1), (0, 2), (0, 3), (1, 0), (1, 1), (1, 2), (1, 3), (2, 0), (2, 1), (2, 2), (2, 3)]\n",
      "[0, 4, 16]\n"
     ]
    }
   ],
   "source": [
    "#1\n",
    "ans = [(i,j) for i in range(3) for j in range(4)]\n",
    "print(ans)\n",
    "\n",
    "#2\n",
    "ans = [x**2 for x in range(0, 5, 2)]\n",
    "print(ans)"
   ]
  },
  {
   "cell_type": "markdown",
   "metadata": {},
   "source": [
    "2\\. Converte the following function into a pure function with no global variables or side effects"
   ]
  },
  {
   "cell_type": "code",
   "execution_count": 12,
   "metadata": {},
   "outputs": [
    {
     "name": "stdout",
     "output_type": "stream",
     "text": [
      "[1, 2, 3, 0, 1, 2, 3, 4]\n",
      "[1, 2, 3, 0, 1, 2, 3, 4]\n"
     ]
    }
   ],
   "source": [
    "x = 5\n",
    "def f(alist):\n",
    "    for i in range(x):\n",
    "        alist.append(i)\n",
    "    return alist\n",
    "\n",
    "alist = [1,2,3]\n",
    "ans = f(alist)\n",
    "print (ans)\n",
    "print (alist) # alist has been changed!"
   ]
  },
  {
   "cell_type": "code",
   "execution_count": 17,
   "metadata": {},
   "outputs": [
    {
     "name": "stdout",
     "output_type": "stream",
     "text": [
      "[1, 2, 3, 0, 1, 2, 3, 4]\n",
      "[1, 2, 3]\n"
     ]
    }
   ],
   "source": [
    "def f(alist, ran = 5):\n",
    "    x = []\n",
    "    for cont in alist:\n",
    "        x.append(cont)\n",
    "    for i in range(ran):\n",
    "        x.append(i)\n",
    "    \n",
    "    return x\n",
    "\n",
    "alist = [1,2,3]\n",
    "ans = f(alist)\n",
    "print (ans)\n",
    "print (alist) # alist has been changed!"
   ]
  },
  {
   "cell_type": "markdown",
   "metadata": {},
   "source": [
    "3\\. Write a `decorator` hello that makes every wrapped function print “Hello!”, i.e. something like:\n",
    "\n",
    "```python\n",
    "@hello\n",
    "def square(x):\n",
    "    return x*x\n",
    "```\n",
    "\n"
   ]
  },
  {
   "cell_type": "code",
   "execution_count": 77,
   "metadata": {},
   "outputs": [
    {
     "name": "stdout",
     "output_type": "stream",
     "text": [
      "Hello!\n",
      "9\n"
     ]
    }
   ],
   "source": [
    "def hello(func, x=1):\n",
    "    \n",
    "    def wrapper(x):\n",
    "        print(\"Hello!\")\n",
    "        print(func(x))\n",
    "        \n",
    "    return wrapper    #N.B.: QUI BISOGNA METTERE SOLAMENTE IL NOME DELLA FUNZIONE, SENZA PARENTESI O ARGOMENTI\n",
    "\n",
    "def square(y):\n",
    "    return y*y\n",
    "\n",
    "square = hello(square)\n",
    "\n",
    "square(3)"
   ]
  },
  {
   "cell_type": "markdown",
   "metadata": {},
   "source": [
    "4\\. Write the factorial function so that it a) does and b) does not use recursion."
   ]
  },
  {
   "cell_type": "code",
   "execution_count": 95,
   "metadata": {},
   "outputs": [
    {
     "name": "stdout",
     "output_type": "stream",
     "text": [
      "Inserisci un numero di cui vuoi calcolare il fattoriale: 1231\n",
      "27252371217207101725922490225506659214559597181371235233193599749025966710156267761875749280820363798795438225392496002846801930095411534113124736252171266798393642691227109124390626498944321286439673003360633353489170861366829573395011473646546854814597123927201270135451461632653179445612790575392944208797341062630377581671889728227063009880949003115803588800445160275897332544638448017602786625708229171700898227528443633478400317478600446739882034354932972760153475173003208225857393644046441400264503684585759439520843823839014536430103227015784934432804005310157286846536401123664155032849135971661175601896202497262122342764267581420862049101271658372948680979523521164739292482119351010689869628252136151030230175019780489833771932983701779560143762575759133475828569836469100745406996574705754289425715777443067259984410716904847772674090427874526577411443071044459428362104181439869556473985001800238362731595465565643081348951335039398516172056198864875290686724290573636597020826636597320072309487406117546139725756340394036162897221167414274660128036362667265836959044352588598695794403786084432206461547517057575135577041295112197542774394351753682394577355160285465976031780833726693331917386947969381195927686262750160841958290768255192013692426006932475606328820561312522185774554522943584511440410070199104155652590354261553183802497134416003677602698194323388866828106522294992540510124478043375829855069797318374226765984880383407339166039767397983984243853076826960352745216173852819964804674182949922652762389158862462860201592903119463063484992500539341677476893616669230481413099956428768002953881440235210836570322966049650937126200644926341617620175763596357740957705553004543342277518340976593995400974934012904233981494460168445744804943567300434988854752359691322522315108498709471771115811164060686850128995811432782226658220740950499380646055190676333134822348165492009047166647914731458763582703720300351675065750681390887841537824927609858393850235486945515965503976144284203011055252693436770475496365683641833377900761684306674101463675579219923168480195220570112489220872732299095156334226958208444073693507734633416978715935392794858597326407890010343570450592421437555307395450824878396375316411701438328172447144353284808317718423940495094594723623065906392403057976468117916933367440996960595788385529576541298368607639708575303975635114773491663617271837143345783053947301175146463492947195643948235570539563341855925670648116276127682920542145994176488382635884455291409414744645615768113494574534623307812952051979667201503975724902210376554691355020429460395462200001304703393941714801925005547880303719514767137588806485213725504908068677132414923399203440279152295032416393425921493733132300263988194495351540706591422682606339380023678961698563140497056560487123227095040032076253645031714518236029760603714327709283292155570893566404106836309683681855347460224995832467833552527338861191870621484978963414426712224563200000000000000000000000000000000000000000000000000000000000000000000000000000000000000000000000000000000000000000000000000000000000000000000000000000000000000000000000000000000000000000000000000000000000000000000000000000000000000000000000000000000000000000000000000000000000000000000000000000000000000000\n",
      "27252371217207101725922490225506659214559597181371235233193599749025966710156267761875749280820363798795438225392496002846801930095411534113124736252171266798393642691227109124390626498944321286439673003360633353489170861366829573395011473646546854814597123927201270135451461632653179445612790575392944208797341062630377581671889728227063009880949003115803588800445160275897332544638448017602786625708229171700898227528443633478400317478600446739882034354932972760153475173003208225857393644046441400264503684585759439520843823839014536430103227015784934432804005310157286846536401123664155032849135971661175601896202497262122342764267581420862049101271658372948680979523521164739292482119351010689869628252136151030230175019780489833771932983701779560143762575759133475828569836469100745406996574705754289425715777443067259984410716904847772674090427874526577411443071044459428362104181439869556473985001800238362731595465565643081348951335039398516172056198864875290686724290573636597020826636597320072309487406117546139725756340394036162897221167414274660128036362667265836959044352588598695794403786084432206461547517057575135577041295112197542774394351753682394577355160285465976031780833726693331917386947969381195927686262750160841958290768255192013692426006932475606328820561312522185774554522943584511440410070199104155652590354261553183802497134416003677602698194323388866828106522294992540510124478043375829855069797318374226765984880383407339166039767397983984243853076826960352745216173852819964804674182949922652762389158862462860201592903119463063484992500539341677476893616669230481413099956428768002953881440235210836570322966049650937126200644926341617620175763596357740957705553004543342277518340976593995400974934012904233981494460168445744804943567300434988854752359691322522315108498709471771115811164060686850128995811432782226658220740950499380646055190676333134822348165492009047166647914731458763582703720300351675065750681390887841537824927609858393850235486945515965503976144284203011055252693436770475496365683641833377900761684306674101463675579219923168480195220570112489220872732299095156334226958208444073693507734633416978715935392794858597326407890010343570450592421437555307395450824878396375316411701438328172447144353284808317718423940495094594723623065906392403057976468117916933367440996960595788385529576541298368607639708575303975635114773491663617271837143345783053947301175146463492947195643948235570539563341855925670648116276127682920542145994176488382635884455291409414744645615768113494574534623307812952051979667201503975724902210376554691355020429460395462200001304703393941714801925005547880303719514767137588806485213725504908068677132414923399203440279152295032416393425921493733132300263988194495351540706591422682606339380023678961698563140497056560487123227095040032076253645031714518236029760603714327709283292155570893566404106836309683681855347460224995832467833552527338861191870621484978963414426712224563200000000000000000000000000000000000000000000000000000000000000000000000000000000000000000000000000000000000000000000000000000000000000000000000000000000000000000000000000000000000000000000000000000000000000000000000000000000000000000000000000000000000000000000000000000000000000000000000000000000000000000\n"
     ]
    }
   ],
   "source": [
    "n = int(input(\"Inserisci un numero di cui vuoi calcolare il fattoriale: \"))\n",
    "\n",
    "def fatt(n):\n",
    "    fatt = 1\n",
    "    if n >= 0:\n",
    "        while n>0:\n",
    "            fatt = fatt*n\n",
    "            n -= 1\n",
    "        return fatt\n",
    "\n",
    "def fatt_rec(n):\n",
    "    if n == 0 or n==1:\n",
    "        return 1\n",
    "    else:\n",
    "        return n*fatt_rec(n-1)\n",
    "\n",
    "print(fatt(n))\n",
    "print(fatt_rec(n))\n",
    "\n"
   ]
  },
  {
   "cell_type": "markdown",
   "metadata": {},
   "source": [
    "5\\. Edit the class defintion to add an instance attribute of is_hungry = True to the Dog class. Then add a method called eat() which changes the value of is_hungry to False when called. Figure out the best way to feed each dog and then output “My dogs are hungry.” if all are hungry or “My dogs are not hungry.” if all are not hungry. The final output should look like this:\n",
    "\n",
    "`I have 3 dogs. \n",
    "Tom is 6. \n",
    "Fletcher is 7. \n",
    "Larry is 9. \n",
    "And they're all mammals, of course. \n",
    "My dogs are not hungry.\n",
    "`\n",
    "\n",
    "```python\n",
    "# Parent class\n",
    "class Dog:\n",
    "\n",
    "    # Class attribute\n",
    "    species = 'mammal'\n",
    "\n",
    "    # Initializer / Instance attributes\n",
    "    def __init__(self, name, age):\n",
    "        self.name = name\n",
    "        self.age = age\n",
    "\n",
    "    # instance method\n",
    "    def description(self):\n",
    "        return \"{} is {} years old\".format(self.name, self.age)\n",
    "\n",
    "    # instance method\n",
    "    def speak(self, sound):\n",
    "        return \"{} says {}\".format(self.name, sound)\n",
    "\n",
    "# Child class (inherits from Dog class)\n",
    "class RussellTerrier(Dog):\n",
    "    def run(self, speed):\n",
    "        return \"{} runs {}\".format(self.name, speed)\n",
    "\n",
    "# Child class (inherits from Dog class)\n",
    "class Bulldog(Dog):\n",
    "    def run(self, speed):\n",
    "        return \"{} runs {}\".format(self.name, speed)\n",
    "```"
   ]
  },
  {
   "cell_type": "code",
   "execution_count": 114,
   "metadata": {},
   "outputs": [
    {
     "name": "stdout",
     "output_type": "stream",
     "text": [
      "I have 4 dogs.\n",
      "Xmas is 6 years old\n",
      "Bau is 7 years old\n",
      "7 is 8 years old\n",
      "Ciccio is 5 years old\n",
      "Feeding Bau\n",
      "Some of my dogs are hungry but there are dogs that are not hungry\n",
      "Feeding Xmas\n",
      "Feeding 7\n",
      "Feeding Ciccio\n",
      "None of my dogs are hungry\n"
     ]
    }
   ],
   "source": [
    "# Parent class\n",
    "class Dog:\n",
    "\n",
    "    # Class attribute\n",
    "    species = 'mammal'\n",
    "    \n",
    "    is_hungry = True\n",
    "    def eat(self):\n",
    "        print(\"Feeding {}\".format(self.name))\n",
    "        self.is_hungry = False\n",
    "\n",
    "    # Initializer / Instance attributes\n",
    "    def __init__(self, name, age):\n",
    "        self.name = name\n",
    "        self.age = age\n",
    "\n",
    "    # instance method\n",
    "    def description(self):\n",
    "        return \"{} is {} years old\".format(self.name, self.age)\n",
    "\n",
    "    # instance method\n",
    "    def speak(self, sound):\n",
    "        return \"{} says {}\".format(self.name, sound)\n",
    "\n",
    "# Child class (inherits from Dog class)\n",
    "class RussellTerrier(Dog):\n",
    "    def run(self, speed):\n",
    "        return \"{} runs {}\".format(self.name, speed)\n",
    "\n",
    "# Child class (inherits from Dog class)\n",
    "class Bulldog(Dog):\n",
    "    def run(self, speed):\n",
    "        return \"{} runs {}\".format(self.name, speed)\n",
    "\n",
    "# Child class (inherits from Dog class)\n",
    "class Hamstaff(Dog):\n",
    "    def run(self, speed):\n",
    "        return \"{} runs {}\".format(self.name, speed)\n",
    "\n",
    "# Child class (inherits from Dog class)\n",
    "class Levriero(Dog):\n",
    "    def run(self, speed):\n",
    "        return \"{} runs {}\".format(self.name, speed)\n",
    "\n",
    "# Child class (inherits from Dog class)\n",
    "class Barboncino(Dog):\n",
    "    def run(self, speed):\n",
    "        return \"{} runs {}\".format(self.name, speed)\n",
    "\n",
    "\n",
    "dogs = []\n",
    "\n",
    "dogs.append(Bulldog(\"Xmas\", 6))\n",
    "dogs.append(Barboncino(\"Bau\", 7))\n",
    "dogs.append(Hamstaff(\"7\", 8))\n",
    "dogs.append(Bulldog(\"Ciccio\", 5))\n",
    "\n",
    "def check_dogs(dogs):\n",
    "    hungry_all = True\n",
    "    eaten_all = True\n",
    "    \n",
    "    for d in dogs:\n",
    "        if d.is_hungry == False:\n",
    "            hungry_all = False\n",
    "        if d.is_hungry == True:\n",
    "            eaten_all = False\n",
    "\n",
    "    if hungry_all == True:\n",
    "        print(\"All my dogs are hungry\")\n",
    "    elif eaten_all == True:\n",
    "        print(\"None of my dogs are hungry\")\n",
    "    else:\n",
    "        print(\"Some of my dogs are hungry but there are dogs that are not hungry\")\n",
    "\n",
    "print(\"I have \" + str(len(dogs)) + \" dogs.\" )\n",
    "\n",
    "for d in dogs:\n",
    "    print(d.description())\n",
    "\n",
    "dogs[1].eat()\n",
    "        \n",
    "check_dogs(dogs)\n",
    "\n",
    "for d in dogs:\n",
    "    if d.is_hungry == True:\n",
    "        d.eat()\n",
    "\n",
    "check_dogs(dogs)\n"
   ]
  }
 ],
 "metadata": {
  "kernelspec": {
   "display_name": "Python 3",
   "language": "python",
   "name": "python3"
  },
  "language_info": {
   "codemirror_mode": {
    "name": "ipython",
    "version": 3
   },
   "file_extension": ".py",
   "mimetype": "text/x-python",
   "name": "python",
   "nbconvert_exporter": "python",
   "pygments_lexer": "ipython3",
   "version": "3.6.5"
  }
 },
 "nbformat": 4,
 "nbformat_minor": 2
}
