{
 "cells": [
  {
   "cell_type": "markdown",
   "metadata": {},
   "source": [
    "1\\. Write the following as a list comprehension"
   ]
  },
  {
   "cell_type": "code",
   "execution_count": 21,
   "metadata": {},
   "outputs": [
    {
     "name": "stdout",
     "output_type": "stream",
     "text": [
      "[(0, 0), (0, 1), (0, 2), (0, 3), (1, 0), (1, 1), (1, 2), (1, 3), (2, 0), (2, 1), (2, 2), (2, 3)]\n",
      "[0, 4, 16]\n"
     ]
    }
   ],
   "source": [
    "# 1\n",
    "ans = []\n",
    "for i in range(3):\n",
    "    for j in range(4):\n",
    "        ans.append((i, j))\n",
    "print (ans)\n",
    "\n",
    "# 2\n",
    "ans = map(lambda x: x*x, filter(lambda x: x%2 == 0, range(5)))\n",
    "print (list(ans))\n",
    "\n"
   ]
  },
  {
   "cell_type": "code",
   "execution_count": 18,
   "metadata": {},
   "outputs": [
    {
     "name": "stdout",
     "output_type": "stream",
     "text": [
      "[(0, 0), (0, 1), (0, 2), (0, 3), (1, 0), (1, 1), (1, 2), (1, 3), (2, 0), (2, 1), (2, 2), (2, 3)]\n"
     ]
    }
   ],
   "source": [
    "ans = [(x,y) for x in range(3) for y in range(4)]\n",
    "print (ans)"
   ]
  },
  {
   "cell_type": "code",
   "execution_count": 23,
   "metadata": {},
   "outputs": [
    {
     "name": "stdout",
     "output_type": "stream",
     "text": [
      "[0, 4, 16]\n"
     ]
    }
   ],
   "source": [
    "ans = [x*x for x in range(5) if x*x % 2 == 0]\n",
    "print(ans)"
   ]
  },
  {
   "cell_type": "markdown",
   "metadata": {},
   "source": [
    "2\\. Convert the following function into a pure function with no global variables or side effects"
   ]
  },
  {
   "cell_type": "code",
   "execution_count": 4,
   "metadata": {},
   "outputs": [
    {
     "name": "stdout",
     "output_type": "stream",
     "text": [
      "[1, 2, 3, 0, 1, 2, 3, 4]\n",
      "[1, 2, 3, 0, 1, 2, 3, 4]\n"
     ]
    }
   ],
   "source": [
    "x = 5\n",
    "def f(alist):\n",
    "    for i in range(x):\n",
    "        alist.append(i)\n",
    "    return alist\n",
    "\n",
    "alist = [1,2,3]\n",
    "ans = f(alist)\n",
    "print (ans)\n",
    "print (alist) # alist has been changed!"
   ]
  },
  {
   "cell_type": "code",
   "execution_count": 12,
   "metadata": {},
   "outputs": [
    {
     "name": "stdout",
     "output_type": "stream",
     "text": [
      "[1, 2, 3, 0, 1, 2, 3, 4]\n",
      "[1, 2, 3]\n"
     ]
    }
   ],
   "source": [
    "x = 5\n",
    "def f(alist):\n",
    "    alist=alist+[i for i in range(x)]\n",
    "    # alist+=[i for i in range(x)] doesn't work because modify, it doesn't redefine\n",
    "    return alist\n",
    "\n",
    "alist = [1,2,3]\n",
    "ans = f(alist)\n",
    "print (ans)\n",
    "print (alist) # alist hasn't been changed!"
   ]
  },
  {
   "cell_type": "markdown",
   "metadata": {},
   "source": [
    "3\\. Write a `decorator` hello that makes every wrapped function print “Hello!”, i.e. something like:\n",
    "\n",
    "```python\n",
    "@hello\n",
    "def square(x):\n",
    "    return x*x\n",
    "```\n",
    "\n"
   ]
  },
  {
   "cell_type": "code",
   "execution_count": 78,
   "metadata": {},
   "outputs": [
    {
     "name": "stdout",
     "output_type": "stream",
     "text": [
      "Hello!\n",
      "4\n",
      "Hello!\n",
      "Whee!\n"
     ]
    }
   ],
   "source": [
    "def hello1(func):\n",
    "    def wrapper(*args, **kwargs): # will accept an arbitrary number of positional and keyword arguments\n",
    "        print(\"Hello!\")   \n",
    "        func(*args, **kwargs)\n",
    "        return func(*args, **kwargs) # makes sure the wrapper function returns the return value of the decorated function\n",
    "    return wrapper\n",
    "\n",
    "@hello1\n",
    "def square(x):\n",
    "    return x*x\n",
    "\n",
    "print(square(2))\n",
    "\n",
    "def hello2(func):\n",
    "    def wrapper(*args, **kwargs): # will accept an arbitrary number of positional and keyword arguments\n",
    "        print(\"Hello!\")   \n",
    "        func(*args, **kwargs)\n",
    "        #return func(*args, **kwargs) commented because otherwise get's an unwanted output\n",
    "    return wrapper\n",
    "\n",
    "@hello2\n",
    "def say_whee():\n",
    "    print(\"Whee!\")\n",
    "\n",
    "say_whee()"
   ]
  },
  {
   "cell_type": "code",
   "execution_count": 77,
   "metadata": {},
   "outputs": [
    {
     "name": "stdout",
     "output_type": "stream",
     "text": [
      "Hello!\n",
      "4\n"
     ]
    }
   ],
   "source": [
    "def hello(func):\n",
    "    def wrapper(var): \n",
    "        print(\"Hello!\")   \n",
    "        func(var)\n",
    "        return func(var) # makes sure the wrapper function returns the return value of the decorated function\n",
    "    return wrapper\n",
    "\n",
    "@hello\n",
    "def square(x):\n",
    "    return x*x\n",
    "\n",
    "print(square(2))"
   ]
  },
  {
   "cell_type": "markdown",
   "metadata": {},
   "source": [
    "4\\. Write the factorial function so that it a) does and b) does not use recursion."
   ]
  },
  {
   "cell_type": "code",
   "execution_count": 100,
   "metadata": {},
   "outputs": [
    {
     "name": "stdout",
     "output_type": "stream",
     "text": [
      "120\n",
      "1.38 µs ± 21 ns per loop (mean ± std. dev. of 7 runs, 1000000 loops each)\n"
     ]
    }
   ],
   "source": [
    "# good recursive\n",
    "def factorial(x):\n",
    "    fac=[1]\n",
    "    for i in range(1,x+1):\n",
    "        fac.append(i*fac[i-1])\n",
    "    result=fac[x]\n",
    "    return result\n",
    "print(factorial(5))\n",
    "%timeit factorial(5)"
   ]
  },
  {
   "cell_type": "code",
   "execution_count": 99,
   "metadata": {},
   "outputs": [
    {
     "name": "stdout",
     "output_type": "stream",
     "text": [
      "120\n",
      "1.11 µs ± 46 ns per loop (mean ± std. dev. of 7 runs, 1000000 loops each)\n"
     ]
    }
   ],
   "source": [
    "# better recursive\n",
    "def factorial(n):\n",
    "    if n == 0:\n",
    "        return 1\n",
    "    else:\n",
    "        return n * factorial(n-1)\n",
    "print(factorial(5))\n",
    "%timeit factorial(5)"
   ]
  },
  {
   "cell_type": "code",
   "execution_count": 104,
   "metadata": {},
   "outputs": [
    {
     "name": "stdout",
     "output_type": "stream",
     "text": [
      "120\n",
      "711 ns ± 8.96 ns per loop (mean ± std. dev. of 7 runs, 1000000 loops each)\n"
     ]
    }
   ],
   "source": [
    "# good non recursive\n",
    "def factorial(x):\n",
    "    a, b = 1, 1\n",
    "    for i in range(2, x+1):\n",
    "        a, b = b, b*i \n",
    "    return b\n",
    "\n",
    "print(factorial(5))\n",
    "%timeit factorial(5)"
   ]
  },
  {
   "cell_type": "code",
   "execution_count": 101,
   "metadata": {},
   "outputs": [
    {
     "name": "stdout",
     "output_type": "stream",
     "text": [
      "120\n",
      "650 ns ± 52.2 ns per loop (mean ± std. dev. of 7 runs, 1000000 loops each)\n"
     ]
    }
   ],
   "source": [
    "# better non recursive\n",
    "def factorial(n):\n",
    "    f = 1\n",
    "    while (n > 0):\n",
    "        f = f * n\n",
    "        n = n - 1\n",
    "    return f\n",
    "print(factorial(5))\n",
    "%timeit factorial(5)"
   ]
  },
  {
   "cell_type": "markdown",
   "metadata": {},
   "source": [
    "5\\. Use HOFs (zip in particular) to compute the weight of a circle, a disk and a sphere, assuming different radii and different densities:\n",
    "\n",
    "```python\n",
    "densities = {\"Al\":[0.5,1,2],\"Fe\":[3,4,5],\"Pb\": [15,20,30]}\n",
    "radii = [1,2,3]\n",
    "```\n",
    "\n",
    "where the entries of the dictionary's values are the linear, superficial and volumetric densities of the materials respectively.\n",
    "\n",
    "In particular define a list of three lambda functions using a comprehension that computes the circumference, the area and the volume for a given radius.\n"
   ]
  },
  {
   "cell_type": "code",
   "execution_count": 27,
   "metadata": {},
   "outputs": [
    {
     "name": "stdout",
     "output_type": "stream",
     "text": [
      "Case with radius =  1\n",
      "circumference\n",
      "Al-> 3.141592653589793 Fe-> 18.84955592153876 Pb-> 94.24777960769379\n",
      "area\n",
      "Al-> 3.141592653589793 Fe-> 12.566370614359172 Pb-> 62.83185307179586\n",
      "volume\n",
      "Al-> 8.377580409572781 Fe-> 20.94395102393195 Pb-> 125.66370614359171\n",
      "Case with radius =  2\n",
      "circumference\n",
      "Al-> 6.283185307179586 Fe-> 37.69911184307752 Pb-> 188.49555921538757\n",
      "area\n",
      "Al-> 12.566370614359172 Fe-> 50.26548245743669 Pb-> 251.32741228718345\n",
      "volume\n",
      "Al-> 67.02064327658225 Fe-> 167.5516081914556 Pb-> 1005.3096491487337\n",
      "Case with radius =  3\n",
      "circumference\n",
      "Al-> 9.42477796076938 Fe-> 56.548667764616276 Pb-> 282.7433388230814\n",
      "area\n",
      "Al-> 28.274333882308138 Fe-> 113.09733552923255 Pb-> 565.4866776461628\n",
      "volume\n",
      "Al-> 226.1946710584651 Fe-> 565.4866776461628 Pb-> 3392.9200658769764\n"
     ]
    }
   ],
   "source": [
    "import math\n",
    "radii=[1,2,3]\n",
    "func=[lambda r: 2*math.pi*r,lambda r: math.pi*r*r,lambda r: (4/3)*math.pi*r*r*r]\n",
    "Al=[0.5,1,2]\n",
    "Fe=[3,4,5]\n",
    "Pb=[15,20,30]\n",
    "name=[\"circumference\",\"area\",\"volume\"]\n",
    "for R in radii:\n",
    "    print(\"Case with radius = \",R)\n",
    "    for i, (a, b, c, d) in enumerate(zip(Al, Fe, Pb,name)):\n",
    "        print(d)\n",
    "        print(\"Al->\",func[i](R)*a,\"Fe->\",func[i](R)*b,\"Pb->\",func[i](R)*c)"
   ]
  },
  {
   "cell_type": "code",
   "execution_count": 12,
   "metadata": {},
   "outputs": [
    {
     "name": "stdout",
     "output_type": "stream",
     "text": [
      "[0, 1, 4, 9, 16]\n",
      "0\n",
      "1\n",
      "4\n",
      "9\n",
      "16\n",
      "[0, 2, 4]\n",
      "[0, 4, 16]\n",
      "15\n",
      "1 10 a\n",
      "2 20 b\n",
      "3 30 c\n",
      "4 40 d\n"
     ]
    }
   ],
   "source": [
    "# MAP\n",
    "def square(x):\n",
    "    return x*x\n",
    "print(list(map(square, range(5)))) #The map function applies a function to each member of a collection\n",
    "for i in map(square,range(5)): print(i)\n",
    "# FILTER\n",
    "def is_even(x):\n",
    "    return x%2 == 0\n",
    "print (list(filter(is_even, range(5)))) #The filter function applies a predicate to each member of a collection,\n",
    "print(list(map(square, filter(is_even, range(5))))) #retaining only those members where the predicate is True\n",
    "# REDUCE\n",
    "from functools import reduce\n",
    "def my_add(x, y):\n",
    "    return x + y\n",
    "print(reduce(my_add,[1,2,3,4,5]))#The reduce function reduces a collection using a binary operator to combine items two at a time\n",
    "# ZIP\n",
    "xs = [1, 2, 3, 4]\n",
    "ys = [10, 20, 30, 40]\n",
    "zs = ['a', 'b', 'c', 'd', 'e']\n",
    "for x, y, z in zip(xs, ys, zs):\n",
    "    print (x, y, z)"
   ]
  },
  {
   "cell_type": "markdown",
   "metadata": {},
   "source": [
    "6\\. Edit the class defintion to add an instance attribute of is_hungry = True to the Dog class. Then add a method called eat() which changes the value of is_hungry to False when called. Figure out the best way to feed each dog and then output “My dogs are hungry.” if all are hungry or “My dogs are not hungry.” if all are not hungry. The final output should look like this:\n",
    "\n",
    "`I have 3 dogs. \n",
    "Tom is 6. \n",
    "Fletcher is 7. \n",
    "Larry is 9. \n",
    "And they're all mammals, of course. \n",
    "My dogs are not hungry.\n",
    "`"
   ]
  },
  {
   "cell_type": "code",
   "execution_count": 55,
   "metadata": {},
   "outputs": [
    {
     "name": "stdout",
     "output_type": "stream",
     "text": [
      "I have 3 dogs.\n",
      "Tom is 6.\n",
      "Fletcher is 7.\n",
      "Larry is 9.\n",
      "And they're all mammals, of course.\n",
      "My dogs are not hungry.\n"
     ]
    }
   ],
   "source": [
    "class Dog:\n",
    "\n",
    "    # Class attribute\n",
    "    species = 'mammal'\n",
    "\n",
    "    # Initializer / Instance attributes\n",
    "    def __init__(self, name, age):\n",
    "        self.name = name\n",
    "        self.age = age\n",
    "        self.is_hungry=True\n",
    "\n",
    "    # instance method\n",
    "    def description(self):\n",
    "        return \"{} is {}.\".format(self.name, self.age)\n",
    "\n",
    "    # instance method\n",
    "    def eat(self):\n",
    "        self.is_hungry=False\n",
    "\n",
    "dogs=[Dog(\"Tom\",6),Dog(\"Fletcher\",7),Dog(\"Larry\",9)]\n",
    "print(\"I have\", len(dogs),\"dogs.\")\n",
    "all_mammals=1\n",
    "none_mammals=1\n",
    "all_fed=1\n",
    "none_fed=1\n",
    "for i in dogs:\n",
    "    i.eat()\n",
    "    if i.species != 'mammal':\n",
    "        all_mammals=0\n",
    "    if i.species == 'mammal':\n",
    "        none_mammals=0\n",
    "    if i.is_hungry==True:\n",
    "        all_fed=0\n",
    "    if i.is_hungry==False:\n",
    "        none_fed=0\n",
    "    print(i.description())\n",
    "if all_mammals==1:\n",
    "    print(\"And they're all mammals, of course.\")\n",
    "if none_mammals==1:\n",
    "    print(\"But none of them are mammals.\")\n",
    "if all_fed==1:\n",
    "    print(\"My dogs are not hungry.\")\n",
    "if none_fed==1:\n",
    "    print(\"My dogs are hungry.\")"
   ]
  },
  {
   "cell_type": "code",
   "execution_count": null,
   "metadata": {
    "collapsed": true
   },
   "outputs": [],
   "source": []
  }
 ],
 "metadata": {
  "kernelspec": {
   "display_name": "Python 3",
   "language": "python",
   "name": "python3"
  },
  "language_info": {
   "codemirror_mode": {
    "name": "ipython",
    "version": 3
   },
   "file_extension": ".py",
   "mimetype": "text/x-python",
   "name": "python",
   "nbconvert_exporter": "python",
   "pygments_lexer": "ipython3",
   "version": "3.6.3"
  }
 },
 "nbformat": 4,
 "nbformat_minor": 2
}
