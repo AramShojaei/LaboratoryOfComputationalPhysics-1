{
 "cells": [
  {
   "cell_type": "markdown",
   "metadata": {},
   "source": [
    "1\\. Write the following as a list comprehension"
   ]
  },
  {
   "cell_type": "code",
   "execution_count": 2,
   "metadata": {},
   "outputs": [
    {
     "name": "stdout",
     "output_type": "stream",
     "text": [
      "[(0, 0), (0, 1), (0, 2), (0, 3), (1, 0), (1, 1), (1, 2), (1, 3), (2, 0), (2, 1), (2, 2), (2, 3)]\n",
      "[0, 4, 16]\n"
     ]
    }
   ],
   "source": [
    "# 1\n",
    "ans = []\n",
    "for i in range(3):\n",
    "    for j in range(4):\n",
    "        ans.append((i, j))\n",
    "print (ans)\n",
    "\n",
    "# 2\n",
    "ans = map(lambda x: x*x, filter(lambda x: x%2 == 0, range(5)))\n",
    "print (list(ans))\n",
    "\n"
   ]
  },
  {
   "cell_type": "code",
   "execution_count": 3,
   "metadata": {},
   "outputs": [
    {
     "name": "stdout",
     "output_type": "stream",
     "text": [
      "[(0, 0), (0, 1), (0, 2), (0, 3), (1, 0), (1, 1), (1, 2), (1, 3), (2, 0), (2, 1), (2, 2), (2, 3)]\n",
      "[0, 4, 16]\n"
     ]
    }
   ],
   "source": [
    "#1\n",
    "ans = [(i,j) for i in range(0,3) for j in range(0,4)]\n",
    "print(ans)\n",
    "\n",
    "#2\n",
    "ans = [i**2 for i in range (0,5,2)]\n",
    "print(ans)"
   ]
  },
  {
   "cell_type": "markdown",
   "metadata": {},
   "source": [
    "2\\. Convert the following function into a pure function with no global variables or side effects"
   ]
  },
  {
   "cell_type": "code",
   "execution_count": 1,
   "metadata": {},
   "outputs": [
    {
     "name": "stdout",
     "output_type": "stream",
     "text": [
      "[1, 2, 3, 0, 1, 2, 3, 4]\n",
      "[1, 2, 3, 0, 1, 2, 3, 4]\n"
     ]
    }
   ],
   "source": [
    "x = 5\n",
    "def f(alist):\n",
    "    for i in range(x):\n",
    "        alist.append(i)\n",
    "    return alist\n",
    "\n",
    "alist = [1,2,3]\n",
    "ans = f(alist)\n",
    "print (ans)\n",
    "print (alist) # alist has been changed!"
   ]
  },
  {
   "cell_type": "code",
   "execution_count": 2,
   "metadata": {},
   "outputs": [
    {
     "name": "stdout",
     "output_type": "stream",
     "text": [
      "[1, 2, 3, 0, 1, 2, 3, 4]\n",
      "[1, 2, 3]\n"
     ]
    }
   ],
   "source": [
    "def f(alist,x=5):\n",
    "    l=[]\n",
    "    for i in range(len(alist)):\n",
    "        l.append(alist[i])\n",
    "    for i in range(x):\n",
    "        l.append(i)\n",
    "    return l\n",
    "\n",
    "alist = [1,2,3]\n",
    "ans = f(alist)\n",
    "print (ans)\n",
    "print (alist) # alist has been changed!"
   ]
  },
  {
   "cell_type": "markdown",
   "metadata": {},
   "source": [
    "3\\. Write a `decorator` hello that makes every wrapped function print “Hello!”, i.e. something like:\n",
    "\n",
    "```python\n",
    "@hello\n",
    "def square(x):\n",
    "    return x*x\n",
    "```\n",
    "\n"
   ]
  },
  {
   "cell_type": "code",
   "execution_count": 4,
   "metadata": {},
   "outputs": [
    {
     "name": "stdout",
     "output_type": "stream",
     "text": [
      "Hello!\n",
      "16\n"
     ]
    }
   ],
   "source": [
    "def hello(func,x=1):\n",
    "    def wrap(x):\n",
    "        print(\"Hello!\")\n",
    "        print(func(x))\n",
    "    return wrap #just the name of the function, no parameters|\n",
    "\n",
    "@hello\n",
    "def square(x):\n",
    "    return x*x\n",
    "\n",
    "square(4)"
   ]
  },
  {
   "cell_type": "markdown",
   "metadata": {},
   "source": [
    "4\\. Write the factorial function so that it a) does and b) does not use recursion."
   ]
  },
  {
   "cell_type": "code",
   "execution_count": 8,
   "metadata": {},
   "outputs": [
    {
     "name": "stdout",
     "output_type": "stream",
     "text": [
      "120\n",
      "120\n"
     ]
    }
   ],
   "source": [
    "#recursion\n",
    "def fact(n):\n",
    "    if n==0:\n",
    "        return 1\n",
    "    else:\n",
    "        return fact(n-1)*n\n",
    "    \n",
    "#no recursion\n",
    "def fatt(n):\n",
    "    r=1\n",
    "    for i in range(n,1,-1):\n",
    "        r=r*i\n",
    "    return r\n",
    "\n",
    "\n",
    "print(fact(5))\n",
    "print(fatt(5))"
   ]
  },
  {
   "cell_type": "markdown",
   "metadata": {},
   "source": [
    "5\\. Use HOFs (zip in particular) to compute the weight of a circle, a disk and a sphere, assuming different radii and different densities:\n",
    "\n",
    "```python\n",
    "densities = {\"Al\":[0.5,1,2],\"Fe\":[3,4,5],\"Pb\": [15,20,30]}\n",
    "radii = [1,2,3]\n",
    "```\n",
    "\n",
    "where the entries of the dictionary's values are the linear, superficial and volumetric densities of the materials respectively.\n",
    "\n",
    "In particular define a list of three lambda functions using a comprehension that computes the circumference, the area and the volume for a given radius.\n"
   ]
  },
  {
   "cell_type": "code",
   "execution_count": 9,
   "metadata": {
    "scrolled": true
   },
   "outputs": [
    {
     "name": "stdout",
     "output_type": "stream",
     "text": [
      "The weight of a circle of radius 1 made of Al is 3.141592653589793\n",
      "The weight of a  disc  of radius 1 made of Al is 3.141592653589793\n",
      "The weight of a sphere of radius 1 made of Al is 8.377580409572781\n",
      "The weight of a circle of radius 1 made of Fe is 18.84955592153876\n",
      "The weight of a  disc  of radius 1 made of Fe is 12.566370614359172\n",
      "The weight of a sphere of radius 1 made of Fe is 20.94395102393195\n",
      "The weight of a circle of radius 1 made of Pb is 94.24777960769379\n",
      "The weight of a  disc  of radius 1 made of Pb is 62.83185307179586\n",
      "The weight of a sphere of radius 1 made of Pb is 125.66370614359171\n",
      "The weight of a circle of radius 2 made of Al is 6.283185307179586\n",
      "The weight of a  disc  of radius 2 made of Al is 12.566370614359172\n",
      "The weight of a sphere of radius 2 made of Al is 67.02064327658225\n",
      "The weight of a circle of radius 2 made of Fe is 37.69911184307752\n",
      "The weight of a  disc  of radius 2 made of Fe is 50.26548245743669\n",
      "The weight of a sphere of radius 2 made of Fe is 167.5516081914556\n",
      "The weight of a circle of radius 2 made of Pb is 188.49555921538757\n",
      "The weight of a  disc  of radius 2 made of Pb is 251.32741228718345\n",
      "The weight of a sphere of radius 2 made of Pb is 1005.3096491487337\n",
      "The weight of a circle of radius 3 made of Al is 9.42477796076938\n",
      "The weight of a  disc  of radius 3 made of Al is 28.274333882308138\n",
      "The weight of a sphere of radius 3 made of Al is 226.19467105846508\n",
      "The weight of a circle of radius 3 made of Fe is 56.548667764616276\n",
      "The weight of a  disc  of radius 3 made of Fe is 113.09733552923255\n",
      "The weight of a sphere of radius 3 made of Fe is 565.4866776461627\n",
      "The weight of a circle of radius 3 made of Pb is 282.7433388230814\n",
      "The weight of a  disc  of radius 3 made of Pb is 565.4866776461628\n",
      "The weight of a sphere of radius 3 made of Pb is 3392.920065876976\n",
      "\n",
      "\n",
      "The weight of a circle of radius 1 made of Al is 3.141592653589793\n",
      "The weight of a  disc  of radius 1 made of Al is 3.141592653589793\n",
      "The weight of a sphere of radius 1 made of Al is 8.377580409572781\n",
      "The weight of a circle of radius 1 made of Fe is 18.84955592153876\n",
      "The weight of a  disc  of radius 1 made of Fe is 12.566370614359172\n",
      "The weight of a sphere of radius 1 made of Fe is 20.94395102393195\n",
      "The weight of a circle of radius 1 made of Pb is 94.24777960769379\n",
      "The weight of a  disc  of radius 1 made of Pb is 62.83185307179586\n",
      "The weight of a sphere of radius 1 made of Pb is 125.66370614359171\n",
      "The weight of a circle of radius 2 made of Al is 6.283185307179586\n",
      "The weight of a  disc  of radius 2 made of Al is 12.566370614359172\n",
      "The weight of a sphere of radius 2 made of Al is 67.02064327658225\n",
      "The weight of a circle of radius 2 made of Fe is 37.69911184307752\n",
      "The weight of a  disc  of radius 2 made of Fe is 50.26548245743669\n",
      "The weight of a sphere of radius 2 made of Fe is 167.5516081914556\n",
      "The weight of a circle of radius 2 made of Pb is 188.49555921538757\n",
      "The weight of a  disc  of radius 2 made of Pb is 251.32741228718345\n",
      "The weight of a sphere of radius 2 made of Pb is 1005.3096491487337\n",
      "The weight of a circle of radius 3 made of Al is 9.42477796076938\n",
      "The weight of a  disc  of radius 3 made of Al is 28.274333882308138\n",
      "The weight of a sphere of radius 3 made of Al is 226.19467105846508\n",
      "The weight of a circle of radius 3 made of Fe is 56.548667764616276\n",
      "The weight of a  disc  of radius 3 made of Fe is 113.09733552923255\n",
      "The weight of a sphere of radius 3 made of Fe is 565.4866776461627\n",
      "The weight of a circle of radius 3 made of Pb is 282.7433388230814\n",
      "The weight of a  disc  of radius 3 made of Pb is 565.4866776461628\n",
      "The weight of a sphere of radius 3 made of Pb is 3392.920065876976\n"
     ]
    }
   ],
   "source": [
    "from math import pi\n",
    "densities = {\"Al\":[0.5,1,2],\"Fe\":[3,4,5],\"Pb\": [15,20,30]}\n",
    "radii = [1,2,3]\n",
    "shapes = [\"circle\",\" disc \",\"sphere\"]\n",
    "\n",
    "#functions = [lambda x: c*math.pi*x**p for c, p in zip([2,1,4./3],[1,2,3])] \n",
    "#conti = [lambda r: r**x*3.14*(2*x*x/3-3*x+13/3) for x in range(1,4)]       \n",
    "\n",
    "#both versions are not working as intended! Previous testing showed that creating a list comprehension\n",
    "#of lambda functions does not work, as each one overwrites the previous. The result is that only the \n",
    "#last one survives. Creating a list of lambdas, however, does the trick.\n",
    "\n",
    "conti = [lambda r: 2*pi*r, lambda r: pi*r**2, lambda r: (4/3)*pi*r**3] \n",
    "\n",
    "for r in radii:\n",
    "    for d in densities:\n",
    "        for s,f,den in zip(shapes,conti,densities[d]):\n",
    "            print(\"The weight of a\",s,'of radius',r,\"made of\",d,'is', f(r)*den) #done using conti"
   ]
  },
  {
   "cell_type": "code",
   "execution_count": 11,
   "metadata": {},
   "outputs": [
    {
     "name": "stdout",
     "output_type": "stream",
     "text": [
      "4.186666666666666\n",
      "4.1887902047863905\n",
      "[6.2799999999999985, 3.139999999999999, 4.186666666666666]\n",
      "0.0\n",
      "4.186666666666666\n",
      "4.186666666666666\n"
     ]
    }
   ],
   "source": [
    "#   test cell; its purpose is to see whether 'functions' and 'conti' produce the same input and, by extension,\n",
    "#   if any of the two is correct\n",
    "#   it seems that calling any of the three lambda functions produces the same result, namely the last iteration\n",
    "#   of the lambda function itself\n",
    "\n",
    "#radii = [1,2,3]\n",
    "#x=0\n",
    "conti = [lambda r: ((r**x)*3.14*(2*x*x/3-3*x+13/3)) for x in range(1,4)]\n",
    "functions = [lambda x: c*math.pi*x**p for c, p in zip([2,1,4./3],[1,2,3])]\n",
    "print (conti[2](1))\n",
    "print (functions[2](1))\n",
    "print (list(map(lambda x: ((1**x)*3.14*(2*x*x/3-3*x+13/3)),[1,2,3])))\n",
    "\n",
    "def f(r,x): #calculates the x-dimensional volume as a function of the degree\n",
    "    return  (r**x)*3.14*(2*x*x/3-3*x+13/3)\n",
    "\n",
    "print (conti[1](0))\n",
    "print (conti[1](1))\n",
    "print (conti[2](1))\n",
    "#conti[0](1)"
   ]
  },
  {
   "cell_type": "markdown",
   "metadata": {},
   "source": [
    "6\\. Edit the class defintion to add an instance attribute of is_hungry = True to the Dog class. Then add a method called eat() which changes the value of is_hungry to False when called. Figure out the best way to feed each dog and then output “My dogs are hungry.” if all are hungry or “My dogs are not hungry.” if all are not hungry. The final output should look like this:\n",
    "\n",
    "`I have 3 dogs. \n",
    "Tom is 6. \n",
    "Fletcher is 7. \n",
    "Larry is 9. \n",
    "And they're all mammals, of course. \n",
    "My dogs are not hungry.\n",
    "`\n",
    "\n",
    "```python\n",
    "# Parent class\n",
    "class Dog:\n",
    "\n",
    "    # Class attribute\n",
    "    species = 'mammal'\n",
    "\n",
    "    # Initializer / Instance attributes\n",
    "    def __init__(self, name, age):\n",
    "        self.name = name\n",
    "        self.age = age\n",
    "\n",
    "    # instance method\n",
    "    def description(self):\n",
    "        return \"{} is {} years old\".format(self.name, self.age)\n",
    "\n",
    "    # instance method\n",
    "    def speak(self, sound):\n",
    "        return \"{} says {}\".format(self.name, sound)\n",
    "\n",
    "# Child class (inherits from Dog class)\n",
    "class RussellTerrier(Dog):\n",
    "    def run(self, speed):\n",
    "        return \"{} runs {}\".format(self.name, speed)\n",
    "\n",
    "# Child class (inherits from Dog class)\n",
    "class Bulldog(Dog):\n",
    "    def run(self, speed):\n",
    "        return \"{} runs {}\".format(self.name, speed)\n",
    "```"
   ]
  },
  {
   "cell_type": "code",
   "execution_count": 18,
   "metadata": {},
   "outputs": [
    {
     "name": "stdout",
     "output_type": "stream",
     "text": [
      "I have a dog named 1CANE who is 10 years old; at the moment, saying he is hungry would be true .\n",
      "I have a dog named 2CANE who is 20 years old; at the moment, saying he is hungry would be true .\n",
      "I have a dog named 3CANE who is 30 years old; at the moment, saying he is hungry would be true .\n",
      "I have a dog named 4CANE who is 40 years old; at the moment, saying he is hungry would be true .\n",
      "\n",
      "\n",
      "I have a dog named 1CANE who is 10 years old; at the moment, saying he is hungry would be false .\n",
      "I have a dog named 2CANE who is 20 years old; at the moment, saying he is hungry would be true .\n",
      "I have a dog named 3CANE who is 30 years old; at the moment, saying he is hungry would be true .\n",
      "I have a dog named 4CANE who is 40 years old; at the moment, saying he is hungry would be true .\n"
     ]
    }
   ],
   "source": [
    "\n",
    "# Parent class\n",
    "class Dog:\n",
    "\n",
    "    # Class attribute\n",
    "    species = 'mammal'\n",
    "    \n",
    "\n",
    "    # Initializer / Instance attributes\n",
    "    def __init__(self, name, age):\n",
    "        self.name = name\n",
    "        self.age = age\n",
    "        self.is_hungry = True #dogs are created hungry, as it is indeed appropriate for newborn puppies\n",
    "\n",
    "    # instance method\n",
    "    def description(self):\n",
    "        return \"{} is {} years old\".format(self.name, self.age)\n",
    "\n",
    "    # instance method\n",
    "    def speak(self, sound):\n",
    "        return \"{} says {}\".format(self.name, sound)\n",
    "    \n",
    "    # instance method\n",
    "    def eat(self):\n",
    "        self.is_hungry = False\n",
    "\n",
    "\n",
    "# Child class (inherits from Dog class)\n",
    "class RussellTerrier(Dog):\n",
    "    def run(self, speed):\n",
    "        return \"{} runs {}\".format(self.name, speed)\n",
    "\n",
    "# Child class (inherits from Dog class)\n",
    "class Bulldog(Dog):\n",
    "    def run(self, speed):\n",
    "        return \"{} runs {}\".format(self.name, speed)\n",
    "\n",
    "    \n",
    "def output(lista=[]):\n",
    "    for i in range(0,len(lista)):\n",
    "        print(\"I have a dog named\",lista[i].name,\"who is\",lista[i].age,\"years old; at the moment, saying he is hungry would be\",str(lista[i].is_hungry).lower(),'.')\n",
    "\n",
    "        \n",
    "def feed(dog):\n",
    "    dog.eat()\n",
    "    \n",
    "CANE1 = Dog(\"1CANE\",10)\n",
    "CANE2 = Dog(\"2CANE\",20)\n",
    "CANE3 = Dog(\"3CANE\",30)\n",
    "CANE4 = Dog(\"4CANE\",40)\n",
    "l=[CANE1,CANE2,CANE3,CANE4]\n",
    "output(l)\n",
    "feed(CANE1)\n",
    "print(\"\\n\")\n",
    "output(l)"
   ]
  },
  {
   "cell_type": "code",
   "execution_count": null,
   "metadata": {
    "collapsed": true
   },
   "outputs": [],
   "source": []
  }
 ],
 "metadata": {
  "kernelspec": {
   "display_name": "Python 3",
   "language": "python",
   "name": "python3"
  },
  "language_info": {
   "codemirror_mode": {
    "name": "ipython",
    "version": 3
   },
   "file_extension": ".py",
   "mimetype": "text/x-python",
   "name": "python",
   "nbconvert_exporter": "python",
   "pygments_lexer": "ipython3",
   "version": "3.6.3"
  }
 },
 "nbformat": 4,
 "nbformat_minor": 2
}
