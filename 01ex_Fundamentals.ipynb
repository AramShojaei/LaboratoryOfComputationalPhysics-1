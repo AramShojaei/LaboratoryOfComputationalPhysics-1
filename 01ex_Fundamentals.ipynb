{
 "cells": [
  {
   "cell_type": "markdown",
   "metadata": {},
   "source": [
    "1\\. Write the following as a list comprehension"
   ]
  },
  {
   "cell_type": "code",
   "execution_count": 6,
   "metadata": {},
   "outputs": [
    {
     "name": "stdout",
     "output_type": "stream",
     "text": [
<<<<<<< HEAD
      "Help on class zip in module builtins:\n",
      "\n",
      "class zip(object)\n",
      " |  zip(iter1 [,iter2 [...]]) --> zip object\n",
      " |  \n",
      " |  Return a zip object whose .__next__() method returns a tuple where\n",
      " |  the i-th element comes from the i-th iterable argument.  The .__next__()\n",
      " |  method continues until the shortest iterable in the argument sequence\n",
      " |  is exhausted and then it raises StopIteration.\n",
      " |  \n",
      " |  Methods defined here:\n",
      " |  \n",
      " |  __getattribute__(self, name, /)\n",
      " |      Return getattr(self, name).\n",
      " |  \n",
      " |  __iter__(self, /)\n",
      " |      Implement iter(self).\n",
      " |  \n",
      " |  __new__(*args, **kwargs) from builtins.type\n",
      " |      Create and return a new object.  See help(type) for accurate signature.\n",
      " |  \n",
      " |  __next__(self, /)\n",
      " |      Implement next(self).\n",
      " |  \n",
      " |  __reduce__(...)\n",
      " |      Return state information for pickling.\n",
      "\n"
     ]
    }
   ],
   "source": [
    "help(zip)"
   ]
  },
  {
   "cell_type": "code",
   "execution_count": 10,
   "metadata": {},
   "outputs": [
    {
     "name": "stdout",
     "output_type": "stream",
     "text": [
      "[(0, 0), (0, 1), (0, 2), (0, 3), (1, 0), (1, 1), (1, 2), (1, 3), (2, 0), (2, 1), (2, 2), (2, 3)]\n",
      "[(0, 0), (0, 1), (0, 2), (0, 3), (1, 0), (1, 1), (1, 2), (1, 3), (2, 0), (2, 1), (2, 2), (2, 3)]\n",
      "[0, 4, 16]\n",
=======
      "[(0, 0), (0, 1), (0, 2), (0, 3), (1, 0), (1, 1), (1, 2), (1, 3), (2, 0), (2, 1), (2, 2), (2, 3)]\n",
>>>>>>> upstream/master
      "[0, 4, 16]\n"
     ]
    }
   ],
   "source": [
    "# 1\n",
    "ans = []\n",
    "for i in range(3):\n",
    "    for j in range(4):\n",
    "        ans.append((i, j))\n",
    "print (ans)\n",
    "\n",
    "#1 bis\n",
    "print([(x,y) for x in range(3) for y in range(4)])\n",
    "\n",
    "\n",
    "\n",
    "# 2\n",
    "ans = map(lambda x: x*x, filter(lambda x: x%2 == 0, range(5)))\n",
    "print (list(ans))\n",
    "print(list(map(lambda x: x*x, filter(lambda x: x%2 == 0, range(5)))))\n"
   ]
  },
  {
   "cell_type": "code",
   "execution_count": 7,
   "metadata": {},
   "outputs": [
    {
     "name": "stdout",
     "output_type": "stream",
     "text": [
      "[(0, 0), (0, 1), (0, 2), (0, 3), (1, 0), (1, 1), (1, 2), (1, 3), (2, 0), (2, 1), (2, 2), (2, 3)]\n"
     ]
    }
   ],
   "source": [
    "#1.1\n",
    "ans=[]\n",
    "ans=[(i,j) for i in range(3) for j in range(4)]\n",
    "\n",
    "print(ans)\n"
   ]
  },
  {
   "cell_type": "code",
   "execution_count": 8,
   "metadata": {},
   "outputs": [
    {
     "name": "stdout",
     "output_type": "stream",
     "text": [
      "[0, 4, 16]\n"
     ]
    }
   ],
   "source": [
    "#1.2\n",
    "ans=[]\n",
    "ans=[x*x for x in range(5) if x%2==0]\n",
    "\n",
    "print(ans)"
   ]
  },
  {
   "cell_type": "markdown",
   "metadata": {},
   "source": [
    "2\\. Convert the following function into a pure function with no global variables or side effects"
   ]
  },
  {
   "cell_type": "code",
<<<<<<< HEAD
   "execution_count": 13,
=======
   "execution_count": 58,
>>>>>>> upstream/master
   "metadata": {},
   "outputs": [
    {
     "name": "stdout",
     "output_type": "stream",
     "text": [
      "[1, 2, 3, 0, 1, 2, 3, 4]\n",
<<<<<<< HEAD
      "[1, 2, 3]\n"
=======
      "[1, 2, 3, 0, 1, 2, 3, 4]\n"
>>>>>>> upstream/master
     ]
    }
   ],
   "source": [
    "\n",
    "def f(alist):\n",
    "    x = 5\n",
    "    l2 = alist[:]\n",
    "    for i in range(x):\n",
<<<<<<< HEAD
    "        l2.append(i)\n",
    "    return l2\n",
=======
    "         alist.append(i)\n",
    "    return alist\n",
>>>>>>> upstream/master
    "\n",
    "l = [1,2,3]\n",
    "ans = f(l)\n",
    "print (ans)\n",
    "print (l) # alist has been changed!"
   ]
  },
  {
   "cell_type": "code",
   "execution_count": 12,
   "metadata": {},
   "outputs": [
    {
     "name": "stdout",
     "output_type": "stream",
     "text": [
      "[1, 2, 0, 0, 1, 2, 3, 4]\n",
      "[1, 2, 3]\n"
     ]
    }
   ],
   "source": [
    "#2\n",
    "x=5\n",
    "def no_mod(my_list): \n",
    "    temp_list = [0 for k in my_list]\n",
    "    for i in range(len(my_list) - 1):\n",
    "        temp_list[i] = my_list[i]\n",
    "    for j in range(x):\n",
    "        temp_list.append(j)\n",
    "    return temp_list\n",
    "a_list = [1,2,3]\n",
    "ans = no_mod(a_list)\n",
    "print(ans)\n",
    "print(a_list)"
   ]
  },
  {
   "cell_type": "markdown",
   "metadata": {},
   "source": [
    "3\\. Write a `decorator` hello that makes every wrapped function print “Hello!”, i.e. something like:\n",
    "\n",
    "```python\n",
    "@hello\n",
    "def square(x):\n",
    "    return x*x\n",
    "```\n",
    "\n"
   ]
  },
  {
   "cell_type": "code",
<<<<<<< HEAD
   "execution_count": 43,
=======
   "execution_count": 11,
>>>>>>> upstream/master
   "metadata": {},
   "outputs": [
    {
     "name": "stdout",
     "output_type": "stream",
     "text": [
      "Hello!\n",
<<<<<<< HEAD
      "Hello!\n",
      "Hello!\n",
      "Hello!\n",
      "Hello!\n",
      "Hello!\n",
      "Hello!\n",
      "Hello!\n",
      "Hello!\n",
      "Hello!\n",
      "[0, 1, 4, 9, 16, 25, 36, 49, 64, 81]\n"
=======
      "25\n"
>>>>>>> upstream/master
     ]
    }
   ],
   "source": [
<<<<<<< HEAD
    "def hello(func):\n",
    "    def wrapper(*args):\n",
    "        print(\"Hello!\")\n",
    "        return func(*args)\n",
    "\n",
    "        #print(*args)\n",
    "    return wrapper\n",
    "    \n",
    "\n",
    "@hello\n",
    "def square(x):\n",
    "    return x*x\n",
    "\n",
    "t = range(10)\n",
    "l = list(map(square,t))\n",
    "print(l)\n"
=======
    "def polite_decorator(func):\n",
    "    def wrapper(x):\n",
    "        print(\"Hello!\")\n",
    "        func(x)\n",
    "    return wrapper\n",
    "\n",
    "\n",
    "@polite_decorator\n",
    "def square(x):\n",
    "    print(x*x)\n",
    "\n",
    "square(5)\n"
>>>>>>> upstream/master
   ]
  },
  {
   "cell_type": "markdown",
   "metadata": {},
   "source": [
    "4\\. Write the factorial function so that it a) does and b) does not use recursion."
   ]
  },
  {
   "cell_type": "code",
<<<<<<< HEAD
   "execution_count": 48,
=======
   "execution_count": 55,
>>>>>>> upstream/master
   "metadata": {},
   "outputs": [
    {
     "name": "stdout",
     "output_type": "stream",
     "text": [
<<<<<<< HEAD
      "720\n",
      "720\n"
=======
      "[1, 1, 2, 6, 24, 120, 720]\n"
>>>>>>> upstream/master
     ]
    }
   ],
   "source": [
<<<<<<< HEAD
    "def fact(n):\n",
    "    f = 1\n",
    "    for i in range(1,n+1):\n",
    "        f = f*i\n",
    "    return f\n",
    "\n",
    "def rec_fact(n):\n",
    "    if n == 0 or n == 1:\n",
    "        return 1\n",
    "    else:\n",
    "        return n*rec_fact(n-1)\n",
    "    \n",
    "print(fact(6))\n",
    "print(rec_fact(6))\n",
=======
    "#4.a\n",
    "\n",
    "def factorial(x):\n",
    "    if x==0 or x==1: \n",
    "        return 1\n",
    "    else: \n",
    "        return x*factorial(x-1)\n",
    "    \n",
    "\n",
    "print([factorial(i) for i in range(7)])\n",
>>>>>>> upstream/master
    "    "
   ]
  },
  {
   "cell_type": "code",
<<<<<<< HEAD
   "execution_count": 54,
=======
   "execution_count": 79,
>>>>>>> upstream/master
   "metadata": {},
   "outputs": [
    {
     "name": "stdout",
     "output_type": "stream",
     "text": [
<<<<<<< HEAD
      "365 ns ± 0.563 ns per loop (mean ± std. dev. of 7 runs, 1000000 loops each)\n",
      "522 ns ± 0.495 ns per loop (mean ± std. dev. of 7 runs, 1000000 loops each)\n"
=======
      "[1, 1, 2, 6, 24, 120, 720]\n"
>>>>>>> upstream/master
     ]
    }
   ],
   "source": [
<<<<<<< HEAD
    "%timeit fact(5)\n",
    "%timeit rec_fact(5)"
=======
    "#4.b\n",
    "\n",
    "def factorial2(x):\n",
    "    if x==0 or x==1: \n",
    "        return 1\n",
    "    else:\n",
    "        a , b = x, x-1\n",
    "        for i in range(1,x):\n",
    "            a , b = a*b, b-1\n",
    "        return a\n",
    "\n",
    "print([factorial2(x) for x in range(7)])\n",
    "            "
>>>>>>> upstream/master
   ]
  },
  {
   "cell_type": "markdown",
   "metadata": {},
   "source": [
    "5\\. Use HOFs (zip in particular) to compute the weight of a circle, a disk and a sphere, assuming different radii and different densities:\n",
    "\n",
    "```python\n",
    "densities = {\"Al\":[0.5,1,2],\"Fe\":[3,4,5],\"Pb\": [15,20,30]}\n",
    "radii = [1,2,3]\n",
    "```\n",
    "\n",
    "where the entries of the dictionary's values are the linear, superficial and volumetric densities of the materials respectively.\n",
    "\n",
    "In particular define a list of three lambda functions using a comprehension that computes the circumference, the area and the volume for a given radius.\n"
   ]
  },
  {
   "cell_type": "code",
<<<<<<< HEAD
   "execution_count": 70,
=======
   "execution_count": 4,
>>>>>>> upstream/master
   "metadata": {},
   "outputs": [
    {
     "name": "stdout",
     "output_type": "stream",
     "text": [
<<<<<<< HEAD
      "Al 1 1\n",
      "3.141592653589793\n",
      "Fe 2 2\n",
      "50.26548245743669\n",
      "Pb 3 3\n",
      "3392.920065876976\n"
=======
      "{('Al', 1): [3.141592653589793, 3.141592653589793, 8.377580409572781]}\n",
      "{('Al', 2): [6.283185307179586, 12.566370614359172, 67.02064327658225]}\n",
      "{('Al', 3): [9.42477796076938, 28.274333882308138, 226.1946710584651]}\n",
      "{('Fe', 1): [18.84955592153876, 12.566370614359172, 20.94395102393195]}\n",
      "{('Fe', 2): [37.69911184307752, 50.26548245743669, 167.5516081914556]}\n",
      "{('Fe', 3): [56.548667764616276, 113.09733552923255, 565.4866776461628]}\n",
      "{('Pb', 1): [94.24777960769379, 62.83185307179586, 125.66370614359171]}\n",
      "{('Pb', 2): [188.49555921538757, 251.32741228718345, 1005.3096491487337]}\n",
      "{('Pb', 3): [282.7433388230814, 565.4866776461628, 3392.9200658769764]}\n"
>>>>>>> upstream/master
     ]
    }
   ],
   "source": [
<<<<<<< HEAD
    "from math import pi\n",
    "densities = {\"Al\":[0.5,1,2],\"Fe\":[3,4,5],\"Pb\": [15,20,30]}\n",
    "radii = [1,2,3]\n",
    "\n",
    "def volume(radius, dimensions):\n",
    "    if dimensions == 1:\n",
    "       V = 2*pi*radius\n",
    "    elif dimensions == 2:\n",
    "        V = pi*radius**2\n",
    "    elif dimensions == 3:\n",
    "        V = 4/3*pi*radius**3\n",
    "    return V\n",
    "\n",
    "circ = lambda r: 2*pi*r\n",
    "area = lambda r : pi*r**2\n",
    "vol = lambda r : 4/3*pi*r**3\n",
    "calc = [circ, area, vol]\n",
    "    \n",
    "def weight(material, radius, dimensions):\n",
    "    W1 = densities[material][dimensions-1]*volume(radius,dimensions)\n",
    "    W2 = densities[material][dimensions-1]*calc[dimensions-1](radius)\n",
    "    return W2\n",
    "\n",
    "for m,r,d in zip(densities.keys(),radii,[1,2,3]):\n",
    "    print(m,r,d)\n",
    "    print(weight(m, r, d))\n",
    "    "
=======
    "#5\n",
    "from math import pi\n",
    "\n",
    "densities = {\"Al\":[0.5,1,2],\"Fe\":[3,4,5],\"Pb\": [15,20,30]}\n",
    "radii = [1,2,3]\n",
    "\n",
    "def circumference(r):\n",
    "    return 2*pi*r\n",
    "def surface(r):\n",
    "    return pi*r*r\n",
    "def volume(r):\n",
    "    return 4*pi*r*r*r/3\n",
    "funcs={\n",
    "    'circum' : circumference,\n",
    "    'surf' : surface,\n",
    "    'vol' : volume \n",
    "}\n",
    "\n",
    "#calcolo le tre misure per ogni raggio: ogni elemento del dizionario è il raggio con i tre valori\n",
    "#di circ, volume e sup\n",
    "\n",
    "dim = {r : [funcs[func](r) for func in funcs] for r in radii}\n",
    "\n",
    "#la funzione, dati un certo elemento e un certo raggio, restituisce il set di masse nei tre casi\n",
    "\n",
    "def mass(densities, dim, element,r):\n",
    "    masses = {(element, r) : [d * v for d,v in zip(densities[element],dim[r])]}\n",
    "    return masses\n",
    "for elements in densities:\n",
    "    for r in radii:\n",
    "        masse = mass(densities, dim, elements, r)  \n",
    "        print(masse)\n",
    "\n",
    "\n",
    "#cose inutile che voglio tenere\n",
    "#for element in densities:\n",
    "    #print(element, densities[element])\n",
    "#for r in dim:\n",
    "    #print(r,dim[r])\n"
>>>>>>> upstream/master
   ]
  },
  {
   "cell_type": "markdown",
   "metadata": {},
   "source": [
    "6\\. Edit the class defintion to add an instance attribute of is_hungry = True to the Dog class. Then add a method called eat() which changes the value of is_hungry to False when called. Figure out the best way to feed each dog and then output “My dogs are hungry.” if all are hungry or “My dogs are not hungry.” if all are not hungry. The final output should look like this:\n",
    "\n",
    "`I have 3 dogs. \n",
    "Tom is 6. \n",
    "Fletcher is 7. \n",
    "Larry is 9. \n",
    "And they're all mammals, of course. \n",
    "My dogs are not hungry.\n",
    "`\n",
    "\n",
    "```python\n",
    "# Parent class\n",
    "class Dog:\n",
    "\n",
    "    # Class attribute\n",
    "    species = 'mammal'\n",
    "\n",
    "    # Initializer / Instance attributes\n",
    "    def __init__(self, name, age):\n",
    "        self.name = name\n",
    "        self.age = age\n",
    "\n",
    "    # instance method\n",
    "    def description(self):\n",
    "        return \"{} is {} years old\".format(self.name, self.age)\n",
    "\n",
    "    # instance method\n",
    "    def speak(self, sound):\n",
    "        return \"{} says {}\".format(self.name, sound)\n",
    "\n",
    "# Child class (inherits from Dog class)\n",
    "class RussellTerrier(Dog):\n",
    "    def run(self, speed):\n",
    "        return \"{} runs {}\".format(self.name, speed)\n",
    "\n",
    "# Child class (inherits from Dog class)\n",
    "class Bulldog(Dog):\n",
    "    def run(self, speed):\n",
    "        return \"{} runs {}\".format(self.name, speed)\n",
    "```"
   ]
  },
  {
   "cell_type": "code",
   "execution_count": 74,
   "metadata": {
    "scrolled": true
   },
   "outputs": [
    {
     "name": "stdout",
     "output_type": "stream",
     "text": [
      "I have 3 dogs\n",
      "Tom is 6 years old\n",
      "Fletcher is 7 years old\n",
      "Larry is 9 years old\n",
      "They are all mammals , of course!\n",
      "My dogs are not hungry!\n"
     ]
    }
   ],
   "source": [
    "# Parent class\n",
    "class Dog:\n",
    "\n",
    "    # Class attribute\n",
    "    species = 'mammal'\n",
    "    hungry = 'True'\n",
    "\n",
    "    # Initializer / Instance attributes\n",
    "    def __init__(self, name, age):\n",
    "        self.name = name\n",
    "        self.age = age\n",
    "\n",
    "    # instance method\n",
    "    def description(self):\n",
    "        return \"{} is {} years old\".format(self.name, self.age)\n",
    "\n",
    "    # instance method\n",
    "    def speak(self, sound):\n",
    "        return \"{} says {}\".format(self.name, sound)\n",
    "    \n",
    "    #instance method to feed the doggi\n",
    "    def eat(self):\n",
    "        self.hungry = 'False'\n",
    "        return \"{} is not hungry anymore!\".format(self.name)\n",
    "\n",
    "Tom = Dog(\"Tom\",6)\n",
    "Fletcher = Dog(\"Fletcher\",7)\n",
    "Larry = Dog(\"Larry\",9)\n",
    "\n",
    "my_dogs = [Tom, Fletcher, Larry]\n",
    "\n",
    "#conta i cani\n",
    "print(\"I have %d dogs\" %len(my_dogs))\n",
    "\n",
    "#presenta i cani\n",
    "for dogs in my_dogs:\n",
    "    print(dogs.description())\n",
    "\n",
    "#controlla che i cani appartengano tutti alla stessa specie\n",
    "num_of_mammals = 0\n",
    "for dogs in my_dogs:\n",
    "    if dogs.species == \"mammal\": num_of_mammals+=1\n",
    "if num_of_mammals == len(my_dogs): print(\"They are all %ss , of course!\" %Dog.species)\n",
    "\n",
    "#ciba i cani\n",
    "for dogs in my_dogs:\n",
    "    dogs.eat()\n",
    "print(\"My dogs are not hungry!\")"
   ]
  },
  {
   "cell_type": "code",
   "execution_count": null,
   "metadata": {
    "collapsed": true
   },
   "outputs": [],
   "source": []
  }
 ],
 "metadata": {
  "kernelspec": {
   "display_name": "Python 3",
   "language": "python",
   "name": "python3"
  },
  "language_info": {
   "codemirror_mode": {
    "name": "ipython",
    "version": 3
   },
   "file_extension": ".py",
   "mimetype": "text/x-python",
   "name": "python",
   "nbconvert_exporter": "python",
   "pygments_lexer": "ipython3",
<<<<<<< HEAD
   "version": "3.6.3"
=======
   "version": "3.7.0"
>>>>>>> upstream/master
  }
 },
 "nbformat": 4,
 "nbformat_minor": 2
}
