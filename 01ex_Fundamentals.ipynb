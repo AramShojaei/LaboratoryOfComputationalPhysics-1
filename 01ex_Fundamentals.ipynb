{
 "cells": [
  {
   "cell_type": "markdown",
   "metadata": {},
   "source": [
    "1\\. Write the following as a list comprehension"
   ]
  },
  {
   "cell_type": "code",
   "execution_count": null,
   "metadata": {
    "collapsed": true
   },
   "outputs": [],
   "source": [
    "# 1\n",
    "ans = []\n",
    "for i in range(3):\n",
    "    for j in range(4):\n",
    "        ans.append((i, j))\n",
    "print (ans)\n",
    "\n",
    "# 2\n",
    "ans = map(lambda x: x*x, filter(lambda x: x%2 == 0, range(5)))\n",
    "print (list(ans))\n",
    "\n"
   ]
  },
  {
   "cell_type": "code",
   "execution_count": null,
   "metadata": {
    "collapsed": true
   },
   "outputs": [],
   "source": [
    "ans1 = [(x,y) for x in range(3) for y in range(4)]\n",
    "print(ans1)\n",
    "\n",
    "ans1 = [x*x for x in range(5) if x%2 == 0]\n",
    "print(ans1)"
   ]
  },
  {
   "cell_type": "markdown",
   "metadata": {},
   "source": [
    "2\\. Converte the following function into a pure function with no global variables or side effects"
   ]
  },
  {
   "cell_type": "code",
   "execution_count": null,
   "metadata": {
    "collapsed": true
   },
   "outputs": [],
   "source": [
    "x = 5\n",
    "def f(alist):\n",
    "    for i in range(x):\n",
    "        alist.append(i)\n",
    "    return alist\n",
    "\n",
    "alist = [1,2,3]\n",
    "ans = f(alist)\n",
    "print (ans)\n",
    "print (alist) # alist has been changed!"
   ]
  },
  {
   "cell_type": "code",
   "execution_count": null,
   "metadata": {
    "collapsed": true
   },
   "outputs": [],
   "source": [
    "x = 5\n",
    "\n",
    "def f(y):\n",
    "    #since it's a list you have to make a copy otherwise you will be in the case above\n",
    "    y = y.copy()\n",
    "    for i in range(x):\n",
    "        y.append(i)\n",
    "    return y\n",
    "\n",
    "alist = [1,2,3]\n",
    "ans = f(alist)\n",
    "print (ans)\n",
    "print (alist) # alist has NOT been changed!"
   ]
  },
  {
   "cell_type": "markdown",
   "metadata": {},
   "source": [
    "3\\. Write a `decorator` hello that makes every wrapped function print “Hello!”, i.e. something like:\n",
    "\n",
    "```python\n",
    "@hello\n",
    "def square(x):\n",
    "    return x*x\n",
    "```\n",
    "\n"
   ]
  },
  {
   "cell_type": "code",
   "execution_count": null,
   "metadata": {
    "collapsed": true
   },
   "outputs": [],
   "source": [
    "def my_decorator(func):\n",
    "    def wrapper(x):\n",
    "        print(\"Hello!\")\n",
    "        print(func(x))\n",
    "        print(\"Hello!\")\n",
    "    return wrapper\n",
    "\n",
    "def square(x):\n",
    "    return x*x\n",
    "\n",
    "square = my_decorator(square)\n",
    "square(4)"
   ]
  },
  {
   "cell_type": "markdown",
   "metadata": {},
   "source": [
    "4\\. Write the factorial function so that it a) does and b) does not use recursion."
   ]
  },
  {
   "cell_type": "code",
   "execution_count": null,
   "metadata": {
    "collapsed": true
   },
   "outputs": [],
   "source": [
    "def fac_rec(x):\n",
    "    if x == 0:\n",
    "        return 1\n",
    "    return x * fac_rec(x-1)\n",
    "\n",
    "def fac_not_rec(x):\n",
    "    y = 1\n",
    "    if x==0: return 1\n",
    "    for x in range(1,x+1):\n",
    "        y = y*x\n",
    "    return y\n",
    "\n",
    "fac_lambda = lambda x: 1 if x==0 else fac_lambda(x-1)*x\n",
    "\n",
    "print(fac_rec(3))\n",
    "print(fac_rec(0))\n",
    "print(\"\\n\")\n",
    "print(fac_not_rec(3))\n",
    "print(fac_not_rec(0))\n",
    "print(\"\\n\")\n",
    "print(fac_lambda(3))\n",
    "print(fac_lambda(0))"
   ]
  },
  {
   "cell_type": "markdown",
   "metadata": {},
   "source": [
    "5\\. Edit the class defintion to add an instance attribute of is_hungry = True to the Dog class. Then add a method called eat() which changes the value of is_hungry to False when called. Figure out the best way to feed each dog and then output “My dogs are hungry.” if all are hungry or “My dogs are not hungry.” if all are not hungry. The final output should look like this:\n",
    "\n",
    "`I have 3 dogs. \n",
    "Tom is 6. \n",
    "Fletcher is 7. \n",
    "Larry is 9. \n",
    "And they're all mammals, of course. \n",
    "My dogs are not hungry.\n",
    "`\n",
    "\n",
    "```python\n",
    "# Parent class\n",
    "class Dog:\n",
    "\n",
    "    # Class attribute\n",
    "    species = 'mammal'\n",
    "\n",
    "    # Initializer / Instance attributes\n",
    "    def __init__(self, name, age):\n",
    "        self.name = name\n",
    "        self.age = age\n",
    "\n",
    "    # instance method\n",
    "    def description(self):\n",
    "        return \"{} is {} years old\".format(self.name, self.age)\n",
    "\n",
    "    # instance method\n",
    "    def speak(self, sound):\n",
    "        return \"{} says {}\".format(self.name, sound)\n",
    "\n",
    "# Child class (inherits from Dog class)\n",
    "class RussellTerrier(Dog):\n",
    "    def run(self, speed):\n",
    "        return \"{} runs {}\".format(self.name, speed)\n",
    "\n",
    "# Child class (inherits from Dog class)\n",
    "class Bulldog(Dog):\n",
    "    def run(self, speed):\n",
    "        return \"{} runs {}\".format(self.name, speed)\n",
    "```"
   ]
  },
  {
   "cell_type": "code",
   "execution_count": null,
   "metadata": {
    "collapsed": true
   },
   "outputs": [],
   "source": [
    "# Parent class\n",
    "class Dog:\n",
    "\n",
    "    # Class attributes\n",
    "    species = 'mammal'\n",
    "    is_hungry = True\n",
    "    \n",
    "    # Initializer / Instance attributes\n",
    "    def __init__(self, name, age):\n",
    "        self.name = name\n",
    "        self.age = age\n",
    "\n",
    "    # instance method\n",
    "    def description(self):\n",
    "        return \"{} is {} years old\".format(self.name, self.age)\n",
    "\n",
    "    # instance method\n",
    "    def speak(self, sound):\n",
    "        return \"{} says {}\".format(self.name, sound)\n",
    "    \n",
    "    # instance method\n",
    "    def eat(self):\n",
    "        self.is_hungry = False\n",
    "        \n",
    "    # instance method\n",
    "    def starve(self):\n",
    "        self.is_hungry = True\n",
    "        \n",
    "    def isHungry(self):\n",
    "        return self.is_hungry\n",
    "\n",
    "class MyDog(Dog):\n",
    "    #Class attributes\n",
    "    number = 0\n",
    "    \n",
    "    # Initializer\n",
    "    def __init__(self, name, age):\n",
    "        self.dogs = []\n",
    "        \n",
    "        for (n,a) in zip(name, age):\n",
    "            self.dogs.append(Dog(n,a))\n",
    "            \n",
    "    def description(self):\n",
    "        for dog in self.dogs:\n",
    "            print(dog.description())\n",
    "            \n",
    "    def areHungry(self):\n",
    "        allHungry = False\n",
    "        for dog in self.dogs:\n",
    "            if(dog.isHungry()):\n",
    "                allHungry = True\n",
    "        return allHungry\n",
    "    \n",
    "    def letThemEat(self):\n",
    "        for dog in self.dogs:\n",
    "            if(dog.isHungry()):\n",
    "                dog.eat()\n",
    "        print(\"I'm feeding them ok..\")\n",
    "    \n",
    "    def letThemStarve(self):\n",
    "        for dog in self.dogs:\n",
    "            if(~dog.isHungry()):\n",
    "                dog.starve()\n",
    "        print(\"No food to my dogs I don't want them\")\n",
    "    \n",
    "    def letThemDie(self):\n",
    "        del self.dogs\n",
    "        print(\"All dogs are dead, you are a bad person, a very very bad person!\")\n",
    "        \n",
    "dhungry = lambda x: print(\"My dogs are hungry\") if(x) else print(\"My dogs are NOT hungry\")"
   ]
  },
  {
   "cell_type": "code",
   "execution_count": null,
   "metadata": {
    "collapsed": true
   },
   "outputs": [],
   "source": [
    "dogList = MyDog(['marco',\"giovanni\"],[\"2\",\"4\"])\n",
    "\n",
    "dhungry(dogList.areHungry())\n",
    "dogList.letThemEat()\n",
    "\n",
    "dhungry(dogList.areHungry())\n",
    "dogList.letThemStarve()\n",
    "\n",
    "dhungry(dogList.areHungry())\n",
    "dogList.letThemDie()"
   ]
  },
  {
   "cell_type": "code",
   "execution_count": null,
   "metadata": {
    "collapsed": true
   },
   "outputs": [],
   "source": []
  }
 ],
 "metadata": {
  "kernelspec": {
   "display_name": "Python 3",
   "language": "python",
   "name": "python3"
  },
  "language_info": {
   "codemirror_mode": {
    "name": "ipython",
    "version": 3
   },
   "file_extension": ".py",
   "mimetype": "text/x-python",
   "name": "python",
   "nbconvert_exporter": "python",
   "pygments_lexer": "ipython3",
   "version": "3.6.3"
  }
 },
 "nbformat": 4,
 "nbformat_minor": 2
}
