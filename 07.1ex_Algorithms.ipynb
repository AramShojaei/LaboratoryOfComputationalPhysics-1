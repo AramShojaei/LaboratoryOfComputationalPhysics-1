{
 "cells": [
  {
   "cell_type": "markdown",
   "metadata": {},
   "source": [
    "1\\. **PCA on 3D dataset**\n",
    "\n",
    "* Generate a dataset with 3 features each with N entries (N being ${\\cal O}(1000)$). With $N(\\mu,\\sigma)$ the normali distribution with mean $\\mu$ and $\\sigma$  standard deviation, generate the 3 variables $x_{1,2,3}$ such that:\n",
    "    * $x_1$ is distributed as $N(0,1)$\n",
    "    * $x_2$ is distributed as $x_1+N(0,3)$\n",
    "    * $x_3$ is given by $2x_1+x_2$\n",
    "* Find the eigenvectors and eigenvalues of the covariance matrix of the dataset\n",
    "* Find the eigenvectors and eigenvalues using SVD. Check that they are two procedure yields to same result\n",
    "* What percent of the total variability is explained by the principal components? Given how the dataset was constructed, do these make sense? Reduce the dimensionality of the system so that at least 99% of the total variability is retained.\n",
    "* Redefine the data in the basis yielded by the PCA procedure\n",
    "* Plot the data points in the original and the new coordiantes as a set of scatter plots. Your final figure should have 2 rows of 3 plots each, where the columns show the (0,1), (0,2) and (1,2) proejctions.\n"
   ]
  },
  {
   "cell_type": "code",
   "execution_count": null,
   "metadata": {},
   "outputs": [],
   "source": [
    "import numpy as np\n",
    "from scipy import linalg as la\n",
    "from matplotlib import pyplot as plt"
   ]
  },
  {
   "cell_type": "markdown",
   "metadata": {},
   "source": [
    "##### Answer 1)"
   ]
  },
  {
   "cell_type": "code",
   "execution_count": null,
   "metadata": {},
   "outputs": [],
   "source": [
    "N = 1000\n",
    "\n",
    "# Generating Data:\n",
    "x1 = np.random.normal(0,1,N)\n",
    "x2 = x1 + np.random.normal(0,3,N)\n",
    "x3 = 2*x1+x2\n",
    "\n",
    "X = np.vstack((x1,x2,x3))\n",
    "#A = np.matmul(X.T,X)\n",
    "\n",
    "##### COV Approach #####\n",
    "Cov_Mat = np.cov(X)\n",
    "l, V = np.linalg.eig(Cov_Mat)\n",
    "\n",
    "##### SVD Approach #####\n",
    "U, spectrum, Vt = np.linalg.svd(X,full_matrices=False)\n",
    "\n",
    "l_svd = spectrum**2/(N-1)\n",
    "V_svd = U\n",
    "\n",
    "print('Eigen Values due to Covariance Method\\n',l)\n",
    "print('\\nEigen Values due to SVD Method\\n',l_svd)\n",
    "\n",
    "print('\\n\\nEigen Vectors due to Covariance Method\\n',V)\n",
    "print('\\nEigen Vectors due to SVD Method\\n',V_svd)\n",
    "\n",
    "##### Dimension reduction #####\n",
    "Lambda=np.diag(l)\n",
    "print (\"\\nLambda \\n\",Lambda)\n",
    "print (\"\\nA_trace:\", np.cov(X).trace())\n",
    "print (\"\\nLambda_trace:\", Lambda.trace())\n",
    "\n",
    "print (\"\\nfraction of data express in 2 dimention= \", (Lambda[0,0]+Lambda[2,2])/Lambda.trace())\n",
    "print (\"\\nfraction of data express in 1 dimention= \", Lambda[0,0]/Lambda.trace())\n",
    "\n",
    "#scale_factor=2\n",
    "#for li, vi in zip(l_svd, V_svd):\n",
    "#    plt.plot([0, scale_factor*li*vi[0]], [0, scale_factor*li*vi[1]], 'r-', lw=2)\n",
    "#plt.axis([-7,7,-7,7]);"
   ]
  },
  {
   "cell_type": "code",
   "execution_count": null,
   "metadata": {},
   "outputs": [],
   "source": [
    "#### Redefine the data in the basis yielded by the PCA procedure #### (data projection)\n",
    "#spectrum2 = spectrum.copy()\n",
    "#spectrum2[2] = 0\n",
    "#spectrum2 = np.diag(spectrum2)\n",
    "#X_rcd = np.dot(U,np.dot(spectrum2,Vt))\n",
    "X_rcd = np.dot(U,X)\n"
   ]
  },
  {
   "cell_type": "code",
   "execution_count": null,
   "metadata": {},
   "outputs": [],
   "source": [
    "#### Plotting the data ####\n",
    "#### Original data ####\n",
    "fig, axs = plt.subplots(1, 3,constrained_layout=True,figsize=(30, 10))\n",
    "\n",
    "fig.suptitle('Original Dataset', fontsize=32)\n",
    "axs[0].scatter(X[0,:], X[1,:], alpha=0.5)\n",
    "axs[0].set_title('(0,1)',fontsize=20)\n",
    "axs[0].set_xlabel('X_0')\n",
    "axs[0].set_ylabel('X_1')\n",
    "\n",
    "axs[1].scatter(X[0,:], X[2,:], alpha=0.5)\n",
    "axs[1].set_xlabel('X_0',)\n",
    "axs[1].set_title('(0,2)',fontsize=20)\n",
    "axs[1].set_ylabel('X_2')\n",
    "\n",
    "axs[2].scatter(X[1,:], X[2,:], alpha=0.5)\n",
    "axs[2].set_xlabel('X_1')\n",
    "axs[2].set_title('(1,2)',fontsize=20)\n",
    "axs[2].set_ylabel('X_2')\n",
    "plt.show()\n",
    "\n",
    "#### Reduced data ####\n",
    "\n",
    "fig2, axs2 = plt.subplots(1, 3,constrained_layout=True,figsize=(30, 10))\n",
    "fig2.suptitle('Reduced Dimention Dataset', fontsize=32)\n",
    "\n",
    "axs2[0].scatter(X_rcd[0,:], X_rcd[1,:], alpha=0.5)\n",
    "axs2[0].set_title('(0,1)',fontsize=20)\n",
    "axs2[0].set_xlabel('X_0')\n",
    "axs2[0].set_ylabel('X_1')\n",
    "\n",
    "axs2[1].scatter(X_rcd[0,:], X_rcd[2,:], alpha=0.5)\n",
    "axs2[1].set_xlabel('X_0')\n",
    "axs2[1].set_title('(0,2)',fontsize=20)\n",
    "axs2[1].set_ylabel('X_2')\n",
    "\n",
    "axs2[2].scatter(X_rcd[1,:],X_rcd[2,:], alpha=0.5)\n",
    "axs2[2].set_xlabel('X_1')\n",
    "axs2[2].set_title('(1,2)',fontsize=20)\n",
    "axs2[2].set_ylabel('X_2')\n",
    "\n",
    "plt.show()"
   ]
  },
  {
   "cell_type": "markdown",
   "metadata": {},
   "source": [
    "2\\. **PCA on a nD dataset**\n",
    "\n",
    "Start from the dataset you have genereted in the previous exercise and add uncorrelated random noise. Such noise should be represented by other 10 uncorrelated variables normal distributed, with standar deviation much smaller (say, a factor 50) than those used to generate the $x_1$ and $x_2$.\n",
    "\n",
    "Repeat the PCA procedure and compare the results with what you obtained before"
   ]
  },
  {
   "cell_type": "markdown",
   "metadata": {},
   "source": [
    "##### Answer 2)"
   ]
  },
  {
   "cell_type": "code",
   "execution_count": null,
   "metadata": {},
   "outputs": [],
   "source": [
    "### Data generation ###\n",
    "N = 1000\n",
    "noise_1=np.zeros((N))\n",
    "noise_2=np.zeros((N))\n",
    "scfactor = 50\n",
    "\n",
    "for i in range (10):\n",
    "    noise_1 = np.random.normal(0,1/scfactor,N)+noise_1\n",
    "    noise_2 = np.random.normal(0,3/scfactor,N)+noise_2\n",
    "\n",
    "x1 = np.random.normal(0,1,N)+noise_1\n",
    "x2 = x1 + np.random.normal(0,3,N)+noise_2\n",
    "x3 = 2*x1+x2\n",
    "\n",
    "X = np.vstack((x1,x2,x3))\n",
    "\n",
    "##### COV Approach #####\n",
    "Cov_Mat = np.cov(X)\n",
    "l, V = np.linalg.eig(Cov_Mat)\n",
    "\n",
    "##### SVD Approach #####\n",
    "U, spectrum, Vt = np.linalg.svd(X,full_matrices=False)\n",
    "\n",
    "l_svd = spectrum**2/(N-1)\n",
    "V_svd = U\n",
    "\n",
    "print('Eigen Values due to Covariance Method\\n',l)\n",
    "print('\\nEigen Values due to SVD Method\\n',l_svd)\n",
    "\n",
    "print('\\n\\nEigen Vectors due to Covariance Method\\n',V)\n",
    "print('\\nEigen Vectors due to SVD Method\\n',V_svd)\n",
    "\n",
    "##### Dimension reduction #####\n",
    "Lambda=np.diag(l)\n",
    "print (\"\\nLambda \\n\",Lambda)\n",
    "print (\"\\nA_trace:\", np.cov(X).trace())\n",
    "print (\"\\nLambda_trace:\", Lambda.trace())\n",
    "\n",
    "print (\"\\nfraction of data express in 2 dimention= \", (Lambda[0,0]+Lambda[2,2])/Lambda.trace())\n",
    "print (\"\\nfraction of data express in 1 dimention= \", Lambda[0,0]/Lambda.trace())"
   ]
  },
  {
   "cell_type": "code",
   "execution_count": null,
   "metadata": {},
   "outputs": [],
   "source": [
    "### Implementing PCA ###\n",
    "X_rcd = np.dot(U,X)\n",
    "\n",
    "#### Plotting the data ####\n",
    "#### Original data ####\n",
    "fig, axs = plt.subplots(1, 3,constrained_layout=True,figsize=(30, 10))\n",
    "\n",
    "fig.suptitle('Original Dataset', fontsize=32)\n",
    "axs[0].scatter(X[0,:], X[1,:], alpha=0.5)\n",
    "axs[0].set_title('(0,1)',fontsize=20)\n",
    "axs[0].set_xlabel('X_0')\n",
    "axs[0].set_ylabel('X_1')\n",
    "\n",
    "axs[1].scatter(X[0,:], X[2,:], alpha=0.5)\n",
    "axs[1].set_xlabel('X_0',)\n",
    "axs[1].set_title('(0,2)',fontsize=20)\n",
    "axs[1].set_ylabel('X_2')\n",
    "\n",
    "axs[2].scatter(X[1,:], X[2,:], alpha=0.5)\n",
    "axs[2].set_xlabel('X_1')\n",
    "axs[2].set_title('(1,2)',fontsize=20)\n",
    "axs[2].set_ylabel('X_2')\n",
    "plt.show()\n",
    "\n",
    "#### Reduced data ####\n",
    "\n",
    "fig2, axs2 = plt.subplots(1, 3,constrained_layout=True,figsize=(30, 10))\n",
    "fig2.suptitle('Reduced Dimention Dataset', fontsize=32)\n",
    "\n",
    "axs2[0].scatter(X_rcd[0,:], X_rcd[1,:], alpha=0.5)\n",
    "axs2[0].set_title('(0,1)',fontsize=20)\n",
    "axs2[0].set_xlabel('X_0')\n",
    "axs2[0].set_ylabel('X_1')\n",
    "\n",
    "axs2[1].scatter(X_rcd[0,:], X_rcd[2,:], alpha=0.5)\n",
    "axs2[1].set_xlabel('X_0')\n",
    "axs2[1].set_title('(0,2)',fontsize=20)\n",
    "axs2[1].set_ylabel('X_2')\n",
    "\n",
    "axs2[2].scatter(X_rcd[1,:],X_rcd[2,:], alpha=0.5)\n",
    "axs2[2].set_xlabel('X_1')\n",
    "axs2[2].set_title('(1,2)',fontsize=20)\n",
    "axs2[2].set_ylabel('X_2')\n",
    "\n",
    "plt.show()"
   ]
  },
  {
   "cell_type": "markdown",
   "metadata": {},
   "source": [
    "3 \\. **Looking at an oscillating spring** (optional)\n",
    "\n",
    "Imagine you have $n$ cameras looking at a spring oscillating along the $x$ axis. Each  camera record the motion of the spring looking at it along a given direction defined by the pair $(\\theta_i, \\phi_i)$, the angles in spherical coordinates. \n",
    "\n",
    "Start from the simulation of the records (say ${\\cal O}(1000)$) of the spring's motion along the x axis, assuming a little random noise affects the measurements along the $y$. Rotate such dataset to emulate the records of each camera.\n",
    "\n",
    "Perform a Principal Component Analysis on the thus obtained dataset, aiming at finding the only one coordinate that really matters.\n"
   ]
  },
  {
   "cell_type": "markdown",
   "metadata": {},
   "source": [
    "4\\. **PCA on the MAGIC dataset** (optional)\n",
    "\n",
    "Perform a PCA on the magic04.data dataset"
   ]
  },
  {
   "cell_type": "code",
   "execution_count": null,
   "metadata": {},
   "outputs": [],
   "source": []
  }
 ],
 "metadata": {
  "kernelspec": {
   "display_name": "Python 3",
   "language": "python",
   "name": "python3"
  },
  "language_info": {
   "codemirror_mode": {
    "name": "ipython",
    "version": 3
   },
   "file_extension": ".py",
   "mimetype": "text/x-python",
   "name": "python",
   "nbconvert_exporter": "python",
   "pygments_lexer": "ipython3",
   "version": "3.7.2"
  }
 },
 "nbformat": 4,
 "nbformat_minor": 2
}
