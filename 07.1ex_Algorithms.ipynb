{
 "cells": [
  {
   "cell_type": "markdown",
   "metadata": {},
   "source": [
    "1\\. **PCA on 3D dataset**\n",
    "\n",
    "* Generate a dataset with 3 features each with N entries (N being ${\\cal O}(1000)$). With $N(\\mu,\\sigma)$ the normali distribution with mean $\\mu$ and $\\sigma$  standard deviation, generate the 3 variables $x_{1,2,3}$ such that:\n",
    "    * $x_1$ is distributed as $N(0,1)$\n",
    "    * $x_2$ is distributed as $x_1+N(0,3)$\n",
    "    * $x_3$ is given by $2x_1+x_2$\n",
    "* Find the eigenvectors and eigenvalues of the covariance matrix of the dataset\n",
    "* Find the eigenvectors and eigenvalues using SVD. Check that they are two procedure yields to same result\n",
    "* What percent of the total variability is explained by the principal components? Given how the dataset was constructed, do these make sense? Reduce the dimensionality of the system so that at least 99% of the total variability is retained.\n",
    "* Redefine the data in the basis yielded by the PCA procedure\n",
    "* Plot the data points in the original and the new coordiantes as a set of scatter plots. Your final figure should have 2 rows of 3 plots each, where the columns show the (0,1), (0,2) and (1,2) proejctions.\n"
   ]
  },
  {
   "cell_type": "code",
   "execution_count": 2,
   "metadata": {},
   "outputs": [],
   "source": [
    "import numpy as np\n",
    "import matplotlib.pyplot as plt\n",
    "from scipy import linalg as la"
   ]
  },
  {
   "cell_type": "code",
   "execution_count": 42,
   "metadata": {},
   "outputs": [
    {
     "name": "stdout",
     "output_type": "stream",
     "text": [
      "Covariance matricx:\n",
      " [[ 1.01342485  0.89862191  2.92547161]\n",
      " [ 0.89862191  9.07871399 10.87595781]\n",
      " [ 2.92547161 10.87595781 16.72690103]] \n",
      "\n",
      "Spectrum is:\n",
      " [2.47874278e+01+0.j 1.81386812e-15+0.j 2.03161209e+00+0.j] \n",
      "\n",
      "Eigenvectors matrix is:\n",
      " [[-0.12155312 -0.81649658  0.56440958]\n",
      " [-0.56970462 -0.40824829 -0.71328113]\n",
      " [-0.81281085  0.40824829  0.41553802]] \n",
      "\n",
      "Spectrum is:\n",
      " [2.47874278e+01 2.03161209e+00 2.50862656e-15] \n",
      "\n",
      "Eigenvectors matrix is:\n",
      " [[-0.12155312  0.56440958 -0.81649658]\n",
      " [-0.56970462 -0.71328113 -0.40824829]\n",
      " [-0.81281085  0.41553802  0.40824829]] \n",
      "\n",
      "Percentage of the first (greater) eigenvalue:\n",
      " 0.9242473966645286 \n",
      "\n",
      "Printing rotated data:\n",
      " [[-7.87172486e+00  1.83310762e+00 -5.19249201e+00 ... -4.22763595e+00\n",
      "   9.78511885e-02 -2.54406518e+00]\n",
      " [ 1.01821142e+00 -1.04301648e+00 -2.86333190e-01 ... -3.61896465e+00\n",
      "  -1.78952596e+00  7.87488055e-01]\n",
      " [-1.48970422e-15  9.88548973e-16 -5.97589943e-17 ...  2.63958624e-15\n",
      "   1.60608443e-15 -7.78720552e-16]] \n",
      "\n",
      "[[-7.87172486  1.83310762 -5.19249201 ... -4.22763595  0.09785119\n",
      "  -2.54406518]\n",
      " [ 1.01821142 -1.04301648 -0.28633319 ... -3.61896465 -1.78952596\n",
      "   0.78748805]]\n"
     ]
    }
   ],
   "source": [
    "N = 1000\n",
    "mean = 0.\n",
    "std = 1.\n",
    "x1 = np.random.normal(0., 1., N)\n",
    "x2 = x1 + np.random.normal(0., 3., N)\n",
    "x3 = 2*x1 + x2\n",
    "\n",
    "x123 = np.array([x1, x2, x3])\n",
    "\n",
    "# print(np.dot(x123, x123.T)/(N-1))       # Sbagliata perché non considero le medie effettive\n",
    "\n",
    "cov_x123 = np.cov(x123)\n",
    "\n",
    "print(\"Covariance matricx:\\n\", cov_x123, \"\\n\")\n",
    "\n",
    "spectrum_np, eig_V_np = la.eig(cov_x123)\n",
    "\n",
    "print(\"Spectrum is:\\n\", spectrum_np, \"\\n\")\n",
    "print(\"Eigenvectors matrix is:\\n\", eig_V_np, \"\\n\")\n",
    "\n",
    "eig_V_sci, spectrum_sci, eig_U_sci = la.svd(cov_x123)\n",
    "\n",
    "print(\"Spectrum is:\\n\", spectrum_sci, \"\\n\")\n",
    "print(\"Eigenvectors matrix is:\\n\", eig_V_sci, \"\\n\")\n",
    "\n",
    "perc_first = spectrum_sci.max()/np.sum(spectrum_sci)\n",
    "\n",
    "print(\"Percentage of the first (greater) eigenvalue:\\n\", perc_first, \"\\n\")\n",
    "\n",
    "#######################################\n",
    "\n",
    "perc_99 = 0\n",
    "i = 0\n",
    "\n",
    "while perc_99 < 0.99:\n",
    "    perc_99 += spectrum_sci[i]/np.sum(spectrum_sci)\n",
    "    i += 1\n",
    "\n",
    "spectrum_sci[i:] = 0\n",
    "\n",
    "# print(\"New spectrum (99%) is:\\n\", spectrum_sci, \"\\n\")\n",
    "\n",
    "'''\n",
    "# Re-building initial cov matrix\n",
    "#Diag_sci = np.zeros((len(spectrum_sci), len(scpectrum_sci)))\n",
    "#for ele in len(spectrum_sci):\n",
    "#    Diag_sci[]\n",
    "\n",
    "Diag_sci = np.diag(spectrum_sci)\n",
    "\n",
    "print(\"The diagonal (new) matrix is:\\n\", Diag_sci, \"\\n\")\n",
    "\n",
    "cov_PCA = eig_V_sci.dot(Diag_sci.dot(eig_V_sci.T))\n",
    "\n",
    "print(\"Covariance matrix after PCA (reconstructed):\\n\", cov_PCA, \"\\n\")\n",
    "'''\n",
    "###########################################\n",
    "\n",
    "x123_rot = eig_V_sci.T.dot(x123)\n",
    "\n",
    "print(\"Printing rotated data:\\n\", x123_rot, \"\\n\")\n",
    "\n",
    "# Deleting the \"smallest\" row\n",
    "\n",
    "x123_rot = x123_rot[:i]         # N.B.: SVD gives a matrix with ordered eigen-vectors, so one can simply remove\n",
    "                                #       remove the last rows\n",
    "\n",
    "print(x123_rot)"
   ]
  },
  {
   "cell_type": "markdown",
   "metadata": {},
   "source": [
    "2\\. **PCA on a nD dataset**\n",
    "\n",
    "Start from the dataset you have genereted in the previous exercise and add uncorrelated random noise. Such noise should be represented by other 10 uncorrelated variables normal distributed, with standar deviation much smaller (say, a factor 50) than those used to generate the $x_1$ and $x_2$.\n",
    "\n",
    "Repeat the PCA procedure and compare the results with what you obtained before"
   ]
  },
  {
   "cell_type": "code",
   "execution_count": null,
   "metadata": {},
   "outputs": [],
   "source": []
  },
  {
   "cell_type": "markdown",
   "metadata": {},
   "source": [
    "3 \\. **Looking at an oscillating spring** (optional)\n",
    "\n",
    "Imagine you have $n$ cameras looking at a spring oscillating along the $x$ axis. Each  camera record the motion of the spring looking at it along a given direction defined by the pair $(\\theta_i, \\phi_i)$, the angles in spherical coordinates. \n",
    "\n",
    "Start from the simulation of the records (say ${\\cal O}(1000)$) of the spring's motion along the x axis, assuming a little random noise affects the measurements along the $y$. Rotate such dataset to emulate the records of each camera.\n",
    "\n",
    "Perform a Principal Component Analysis on the thus obtained dataset, aiming at finding the only one coordinate that really matters.\n"
   ]
  },
  {
   "cell_type": "markdown",
   "metadata": {},
   "source": [
    "4\\. **PCA on the MAGIC dataset** (optional)\n",
    "\n",
    "Perform a PCA on the magic04.data dataset"
   ]
  },
  {
   "cell_type": "code",
   "execution_count": null,
   "metadata": {},
   "outputs": [],
   "source": []
  }
 ],
 "metadata": {
  "kernelspec": {
   "display_name": "Python 3",
   "language": "python",
   "name": "python3"
  },
  "language_info": {
   "codemirror_mode": {
    "name": "ipython",
    "version": 3
   },
   "file_extension": ".py",
   "mimetype": "text/x-python",
   "name": "python",
   "nbconvert_exporter": "python",
   "pygments_lexer": "ipython3",
   "version": "3.6.5"
  }
 },
 "nbformat": 4,
 "nbformat_minor": 2
}
