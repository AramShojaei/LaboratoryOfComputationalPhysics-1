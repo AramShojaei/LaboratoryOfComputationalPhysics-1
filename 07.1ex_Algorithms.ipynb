{
 "cells": [
  {
   "cell_type": "code",
   "execution_count": null,
   "metadata": {},
   "outputs": [],
   "source": [
    "import numpy as np\n",
    "import pandas as pd\n",
    "import scipy as sp\n",
    "import scipy.linalg as la\n",
    "from sklearn.decomposition import PCA\n",
    "from matplotlib import pyplot as plt\n",
    "import seaborn as sns"
   ]
  },
  {
   "cell_type": "markdown",
   "metadata": {},
   "source": [
    "1\\. **PCA on 3D dataset**\n",
    "\n",
    "* Generate a dataset with 3 features each with N entries (N being ${\\cal O}(1000)$). With $N(\\mu,\\sigma)$ the normali distribution with mean $\\mu$ and $\\sigma$  standard deviation, generate the 3 variables $x_{1,2,3}$ such that:\n",
    "    * $x_1$ is distributed as $N(0,1)$\n",
    "    * $x_2$ is distributed as $x_1+N(0,3)$\n",
    "    * $x_3$ is given by $2x_1+x_2$\n",
    "* Find the eigenvectors and eigenvalues of the covariance matrix of the dataset\n",
    "* Find the eigenvectors and eigenvalues using SVD. Check that they are two procedure yields to same result\n",
    "* What percent of the total variability is explained by the principal components? Given how the dataset was constructed, do these make sense? Reduce the dimensionality of the system so that at least 99% of the total variability is retained.\n",
    "* Redefine the data in the basis yielded by the PCA procedure\n",
    "* Plot the data points in the original and the new coordiantes as a set of scatter plots. Your final figure should have 2 rows of 3 plots each, where the columns show the (0,1), (0,2) and (1,2) proejctions.\n"
   ]
  },
  {
   "cell_type": "code",
   "execution_count": null,
   "metadata": {},
   "outputs": [],
   "source": [
    "N = 1000\n",
    "\n",
    "# x1\n",
    "mu1 = 0\n",
    "sigma1 = 1\n",
    "x1 = np.random.normal( mu1, sigma1, N )\n",
    "\n",
    "# x2\n",
    "mu2 = 0\n",
    "sigma2 = 3 \n",
    "x2 = x1 + np.random.normal( mu2, sigma2, N )\n",
    "#sig3 = m.sqrt( sigma1**2 + sigma2**2 + 2*np.cov( x1, x2 )[0][1] )\n",
    "#np.std(x2)\n",
    "\n",
    "# x3\n",
    "x3 = 2*x1 + x2\n",
    "\n",
    "#dataset = np.zeros( (N, 3) )\n",
    "#dataset[:,0] = x1\n",
    "#dataset[:,1] = x2\n",
    "#dataset[:,2] = x3\n",
    "dataset = np.array( [x1, x2, x3] )\n",
    "\n",
    "# Eigenvalues, eigenvectors\n",
    "cov_matrix = np.cov(dataset)\n",
    "\n",
    "if la.det(cov_matrix) != 0:\n",
    "    l, v = np.linalg.eig(cov_matrix)\n",
    "    \n",
    "# SVD\n",
    "U, spectrum, Vt = la.svd(dataset)\n",
    "l_svd = spectrum**2/(N-1)\n",
    "print('\\nEigenvalue of covariance matrix:', l )\n",
    "print( 'Eigenvalue computed with SVD:', l_svd )\n",
    "\n",
    "# Variability\n",
    "print('\\nVariability: ', l_svd / np.sum(l_svd) )\n",
    "\n",
    "# percentage\n",
    "print( '\\nPercentage: ', l_svd[0] / (l_svd[0] + l_svd[1]) )\n"
   ]
  },
  {
   "cell_type": "code",
   "execution_count": null,
   "metadata": {},
   "outputs": [],
   "source": [
    "print(\"\\nVariability retained:\",( l_svd[0] + l_svd[1] ) / np.sum(l_svd) )\n"
   ]
  },
  {
   "cell_type": "markdown",
   "metadata": {},
   "source": [
    "Apply the eigenvectors matrix in order to rotate the data:"
   ]
  },
  {
   "cell_type": "code",
   "execution_count": null,
   "metadata": {},
   "outputs": [],
   "source": [
    "X_new = np.dot(dataset.T, U).T\n",
    "\n",
    "fig, (ax1, ax2) = plt.subplots(nrows=2, ncols=3, figsize=(15,10))\n",
    "ax1[0].scatter( dataset[0,:], dataset[1,:] )\n",
    "ax1[1].scatter( dataset[0,:], dataset[2,:] )\n",
    "ax1[2].scatter( dataset[1,:], dataset[2,:] )\n",
    "\n",
    "ax2[0].scatter( X_new[0,:], X_new[1,:] )\n",
    "ax2[1].scatter( X_new[0,:], X_new[2,:] )\n",
    "ax2[2].scatter( X_new[1,:], X_new[2,:] )"
   ]
  },
  {
   "cell_type": "code",
   "execution_count": null,
   "metadata": {},
   "outputs": [],
   "source": [
    "data = pd.DataFrame({'x1':x1, 'x2':x2,'x3':x3})\n",
    "sns.pairplot(data)"
   ]
  },
  {
   "cell_type": "code",
   "execution_count": null,
   "metadata": {},
   "outputs": [],
   "source": [
    "data = pd.DataFrame(X_new.T)\n",
    "sns.pairplot(data)"
   ]
  },
  {
   "cell_type": "markdown",
   "metadata": {},
   "source": [
    "## 2\\. **PCA on a nD dataset**\n",
    "\n",
    "Start from the dataset you have genereted in the previous exercise and add uncorrelated random noise. Such noise should be represented by other 10 uncorrelated variables normal distributed, with standar deviation much smaller (say, a factor 50) than those used to generate the $x_1$ and $x_2$.\n",
    "\n",
    "Repeat the PCA procedure and compare the results with what you obtained before"
   ]
  },
  {
   "cell_type": "code",
   "execution_count": null,
   "metadata": {},
   "outputs": [],
   "source": [
    "N = 1000\n",
    "noise1 = np.zeros((10,N))\n",
    "noise2 = np.zeros((10,N))\n",
    "noise3 = np.zeros((10,N))\n",
    "\n",
    "for i in range(10):\n",
    "    mean = 0\n",
    "    std = sigma1/50\n",
    "    noise1[i] = np.random.normal(mean,std,N)\n",
    "    std = sigma2/50\n",
    "    noise2[i] = np.random.normal(mean,std,N)\n",
    "    std = np.std(x3)/50\n",
    "    noise2[i] = np.random.normal(mean,std,N)\n",
    "\n",
    "x1 = np.random.normal( 0, sigma1, 1000 ) + noise1.sum( axis=0 )\n",
    "x2 = np.random.normal( 0, sigma2, 1000 ) + x1 + noise2.sum( axis=0 )"
   ]
  },
  {
   "cell_type": "code",
   "execution_count": null,
   "metadata": {},
   "outputs": [],
   "source": [
    "dataset = np.array( [x1, x2, x3] )\n",
    "cov = np.cov( dataset )\n",
    "l, V = np.linalg.eig(cov)\n",
    "print ( \"Covariance: \",cov )\n",
    "\n",
    "U, spectrum, Vt = np.linalg.svd(dataset)\n",
    "l_svd = spectrum**2/(N-1)\n",
    "V_svd = U\n",
    "\n",
    "print ('\\neigenvalues:' ,l_svd)\n",
    "print ('\\neigenvectors:' ,V_svd)"
   ]
  },
  {
   "cell_type": "code",
   "execution_count": null,
   "metadata": {},
   "outputs": [],
   "source": [
    "variability = l_svd / np.sum(l_svd)\n",
    "\n",
    "print('variability per principal component:', variability)\n",
    "\n",
    "#percentage\n",
    "print( '\\nPercentage: ', l_svd[0] / (l_svd[0] + l_svd[1]) )\n",
    "\n",
    "print(\"\\nVariability retained:\",( l_svd[0] + l_svd[1] ) / np.sum(l_svd) )"
   ]
  },
  {
   "cell_type": "code",
   "execution_count": null,
   "metadata": {},
   "outputs": [],
   "source": [
    "X_new = np.dot(dataset.T, U).T\n",
    "\n",
    "fig, (ax1, ax2) = plt.subplots(nrows=2, ncols=3, figsize=(15,10))\n",
    "ax1[0].scatter( dataset[0,:], dataset[1,:] )\n",
    "ax1[1].scatter( dataset[0,:], dataset[2,:] )\n",
    "ax1[2].scatter( dataset[1,:], dataset[2,:] )\n",
    "\n",
    "ax2[0].scatter( X_new[0,:], X_new[1,:] )\n",
    "ax2[1].scatter( X_new[0,:], X_new[2,:] )\n",
    "ax2[2].scatter( X_new[1,:], X_new[2,:] )"
   ]
  },
  {
   "cell_type": "code",
   "execution_count": null,
   "metadata": {},
   "outputs": [],
   "source": [
    "df = pd.DataFrame( { 'x1':x1, 'x2':x2, 'x3':( 2*x1 + x2 + noise2.sum( axis=0 ) + noise1.sum( axis=0 ) ) } )\n",
    "sns.pairplot(df)\n",
    "sns.pairplot(pd.DataFrame(dataset.T))"
   ]
  },
  {
   "cell_type": "markdown",
   "metadata": {},
   "source": [
    "3 \\. **Looking at an oscillating spring** (optional)\n",
    "\n",
    "Imagine you have $n$ cameras looking at a spring oscillating along the $x$ axis. Each  camera record the motion of the spring looking at it along a given direction defined by the pair $(\\theta_i, \\phi_i)$, the angles in spherical coordinates. \n",
    "\n",
    "Start from the simulation of the records (say ${\\cal O}(1000)$) of the spring's motion along the x axis, assuming a little random noise affects the measurements along the $y$. Rotate such dataset to emulate the records of each camera.\n",
    "\n",
    "Perform a Principal Component Analysis on the thus obtained dataset, aiming at finding the only one coordinate that really matters.\n"
   ]
  },
  {
   "cell_type": "markdown",
   "metadata": {},
   "source": [
    "4\\. **PCA on the MAGIC dataset** (optional)\n",
    "\n",
    "Perform a PCA on the magic04.data dataset"
   ]
  }
 ],
 "metadata": {
  "kernelspec": {
   "display_name": "Python 3",
   "language": "python",
   "name": "python3"
  },
  "language_info": {
   "codemirror_mode": {
    "name": "ipython",
    "version": 3
   },
   "file_extension": ".py",
   "mimetype": "text/x-python",
   "name": "python",
   "nbconvert_exporter": "python",
   "pygments_lexer": "ipython3",
   "version": "3.7.1"
  }
 },
 "nbformat": 4,
 "nbformat_minor": 2
}
