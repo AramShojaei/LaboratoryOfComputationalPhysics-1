{
 "cells": [
  {
   "cell_type": "markdown",
   "metadata": {},
   "source": [
    "1\\. **PCA on 3D dataset**\n",
    "\n",
    "* Generate a dataset with 3 features each with N entries (N being ${\\cal O}(1000)$). With $N(\\mu,\\sigma)$ the normali distribution with mean $\\mu$ and $\\sigma$  standard deviation, generate the 3 variables $x_{1,2,3}$ such that:\n",
    "    * $x_1$ is distributed as $N(0,1)$\n",
    "    * $x_2$ is distributed as $x_1+N(0,3)$\n",
    "    * $x_3$ is given by $2x_1+x_2$\n",
    "* Find the eigenvectors and eigenvalues of the covariance matrix of the dataset\n",
    "* Find the eigenvectors and eigenvalues using SVD. Check that they are two procedure yields to same result\n",
    "* What percent of the total variability is explained by the principal components? Given how the dataset was constructed, do these make sense? Reduce the dimensionality of the system so that at least 99% of the total variability is retained.\n",
    "* Redefine the data in the basis yielded by the PCA procedure\n",
    "* Plot the data points in the original and the new coordiantes as a set of scatter plots. Your final figure should have 2 rows of 3 plots each, where the columns show the (0,1), (0,2) and (1,2) proejctions.\n"
   ]
  },
  {
   "cell_type": "code",
   "execution_count": 1,
   "metadata": {},
   "outputs": [],
   "source": [
    "import numpy as np\n",
    "import matplotlib.pyplot as plt\n",
    "from scipy import linalg as la"
   ]
  },
  {
   "cell_type": "code",
   "execution_count": 26,
   "metadata": {},
   "outputs": [
    {
     "name": "stdout",
     "output_type": "stream",
     "text": [
      "Covariance matricx:\n",
      " [[ 1.05459827  1.17409308  3.28328962]\n",
      " [ 1.17409308  9.95782209 12.30600825]\n",
      " [ 3.28328962 12.30600825 18.87258748]] \n",
      "\n",
      "Spectrum is:\n",
      " [2.79248142e+01+0.j 2.54047441e-16+0.j 1.96019368e+00+0.j] \n",
      "\n",
      "Eigenvectors matrix is:\n",
      " [[-0.12430531 -0.81649658  0.56380983]\n",
      " [-0.56621789 -0.40824829 -0.71605212]\n",
      " [-0.81482851  0.40824829  0.41156754]] \n",
      "\n",
      "Spectrum is:\n",
      " [2.79248142e+01 1.96019368e+00 2.29206695e-16] \n",
      "\n",
      "Eigenvectors matrix is:\n",
      " [[-0.12430531  0.56380983 -0.81649658]\n",
      " [-0.56621789 -0.71605212 -0.40824829]\n",
      " [-0.81482851  0.41156754  0.40824829]] \n",
      "\n",
      "Percentage of the first (greater) eigenvalue:\n",
      " 0.9344087949772453 \n",
      "\n",
      "Printing rotated data:\n",
      " [[-4.77087989e-01 -2.03532534e+00  9.14808586e+00 ...  4.93306223e+00\n",
      "   1.08618739e+01 -3.97388253e+00]\n",
      " [-1.14880301e+00  7.48595963e-01  1.32450907e+00 ... -3.80215104e-01\n",
      "  -5.24364828e-01  2.56556404e-01]\n",
      " [ 6.53194812e-17  1.00834192e-16 -8.28370281e-16 ... -3.90947857e-16\n",
      "  -9.60549393e-16  3.58154095e-16]] \n",
      "\n",
      "[[-0.47708799 -2.03532534  9.14808586 ...  4.93306223 10.86187395\n",
      "  -3.97388253]\n",
      " [-1.14880301  0.74859596  1.32450907 ... -0.3802151  -0.52436483\n",
      "   0.2565564 ]]\n"
     ]
    },
    {
     "data": {
      "image/png": "[encoded data removed]",
      "text/plain": [
       "<Figure size 1440x1080 with 6 Axes>"
      ]
     },
     "metadata": {},
     "output_type": "display_data"
    }
   ],
   "source": [
    "N = 1000\n",
    "mean = 0.\n",
    "std = 1.\n",
    "x1 = np.random.normal(0., 1., N)\n",
    "x2 = x1 + np.random.normal(0., 3., N)\n",
    "x3 = 2*x1 + x2\n",
    "\n",
    "x123 = np.array([x1, x2, x3])\n",
    "\n",
    "# print(np.dot(x123, x123.T)/(N-1))       # Sbagliata perché non considero le medie effettive\n",
    "\n",
    "cov_x123 = np.cov(x123)\n",
    "\n",
    "print(\"Covariance matricx:\\n\", cov_x123, \"\\n\")\n",
    "\n",
    "spectrum_np, eig_V_np = la.eig(cov_x123)\n",
    "\n",
    "print(\"Spectrum is:\\n\", spectrum_np, \"\\n\")\n",
    "print(\"Eigenvectors matrix is:\\n\", eig_V_np, \"\\n\")\n",
    "\n",
    "eig_V_sci, spectrum_sci, eig_U_sci = la.svd(cov_x123)\n",
    "\n",
    "print(\"Spectrum is:\\n\", spectrum_sci, \"\\n\")\n",
    "print(\"Eigenvectors matrix is:\\n\", eig_V_sci, \"\\n\")\n",
    "\n",
    "perc_first = spectrum_sci.max()/np.sum(spectrum_sci)\n",
    "\n",
    "print(\"Percentage of the first (greater) eigenvalue:\\n\", perc_first, \"\\n\")\n",
    "\n",
    "perc_99 = 0\n",
    "i = 0\n",
    "\n",
    "while perc_99 < 0.99:\n",
    "    perc_99 += spectrum_sci[i]/np.sum(spectrum_sci)\n",
    "    i += 1\n",
    "\n",
    "spectrum_sci[i:] = 0\n",
    "\n",
    "# print(\"New spectrum (99%) is:\\n\", spectrum_sci, \"\\n\")\n",
    "\n",
    "'''\n",
    "# Re-building initial cov matrix\n",
    "#Diag_sci = np.zeros((len(spectrum_sci), len(scpectrum_sci)))\n",
    "#for ele in len(spectrum_sci):\n",
    "#    Diag_sci[]\n",
    "\n",
    "Diag_sci = np.diag(spectrum_sci)\n",
    "\n",
    "print(\"The diagonal (new) matrix is:\\n\", Diag_sci, \"\\n\")\n",
    "\n",
    "cov_PCA = eig_V_sci.dot(Diag_sci.dot(eig_V_sci.T))\n",
    "\n",
    "print(\"Covariance matrix after PCA (reconstructed):\\n\", cov_PCA, \"\\n\")\n",
    "'''\n",
    "\n",
    "x123_rot = eig_V_sci.T.dot(x123)\n",
    "\n",
    "print(\"Printing rotated data:\\n\", x123_rot, \"\\n\")\n",
    "\n",
    "# Deleting the \"smallest\" row\n",
    "\n",
    "x123_rot = x123_rot[:i]         # N.B.: SVD gives a matrix with ordered eigen-vectors, so one can simply remove\n",
    "                                #       remove the last rows\n",
    "\n",
    "print(x123_rot)\n",
    "\n",
    "fig = plt.figure(figsize=(20,15))\n",
    "\n",
    "ax00 = plt.subplot2grid((2,3), (0,0))\n",
    "ax01 = plt.subplot2grid((2,3), (0,1))\n",
    "ax02 = plt.subplot2grid((2,3), (0,2))\n",
    "ax10 = plt.subplot2grid((2,3), (1,0))\n",
    "ax11 = plt.subplot2grid((2,3), (1,1))\n",
    "ax12 = plt.subplot2grid((2,3), (1,2))\n"
   ]
  },
  {
   "cell_type": "markdown",
   "metadata": {},
   "source": [
    "2\\. **PCA on a nD dataset**\n",
    "\n",
    "Start from the dataset you have genereted in the previous exercise and add uncorrelated random noise. Such noise should be represented by other 10 uncorrelated variables normal distributed, with standar deviation much smaller (say, a factor 50) than those used to generate the $x_1$ and $x_2$.\n",
    "\n",
    "Repeat the PCA procedure and compare the results with what you obtained before"
   ]
  },
  {
   "cell_type": "code",
   "execution_count": null,
   "metadata": {},
   "outputs": [],
   "source": []
  },
  {
   "cell_type": "markdown",
   "metadata": {},
   "source": [
    "3 \\. **Looking at an oscillating spring** (optional)\n",
    "\n",
    "Imagine you have $n$ cameras looking at a spring oscillating along the $x$ axis. Each  camera record the motion of the spring looking at it along a given direction defined by the pair $(\\theta_i, \\phi_i)$, the angles in spherical coordinates. \n",
    "\n",
    "Start from the simulation of the records (say ${\\cal O}(1000)$) of the spring's motion along the x axis, assuming a little random noise affects the measurements along the $y$. Rotate such dataset to emulate the records of each camera.\n",
    "\n",
    "Perform a Principal Component Analysis on the thus obtained dataset, aiming at finding the only one coordinate that really matters.\n"
   ]
  },
  {
   "cell_type": "code",
   "execution_count": 76,
   "metadata": {
    "scrolled": false
   },
   "outputs": [
    {
     "name": "stdout",
     "output_type": "stream",
     "text": [
      "[[ 0.62167185  0.21840535  0.07640055 -0.43097962 -0.55013132 -0.94468874\n",
      "   0.51523105 -0.88154112  0.34139042 -0.7863097 ]\n",
      " [-0.75634564  0.63671281 -0.62713832 -0.1043659   0.29789549  0.32122834\n",
      "   0.0818545  -0.46799081 -0.73789386  0.50787209]\n",
      " [-0.2036305   0.73952411  0.77515191 -0.89630593 -0.78013704  0.06614784\n",
      "   0.85313352  0.06220807 -0.58220721  0.35182807]]\n",
      "(1000, 3)\n",
      "10\n",
      "1000\n",
      "3\n"
     ]
    },
    {
     "ename": "AttributeError",
     "evalue": "module 'numpy' has no attribute 'norm'",
     "output_type": "error",
     "traceback": [
      "\u001b[0;31m---------------------------------------------------------------------------\u001b[0m",
      "\u001b[0;31mAttributeError\u001b[0m                            Traceback (most recent call last)",
      "\u001b[0;32m<ipython-input-76-c4525d869829>\u001b[0m in \u001b[0;36m<module>\u001b[0;34m()\u001b[0m\n\u001b[1;32m     33\u001b[0m     \u001b[0;32mfor\u001b[0m \u001b[0mcmeasure\u001b[0m \u001b[0;32min\u001b[0m \u001b[0mrange\u001b[0m\u001b[0;34m(\u001b[0m\u001b[0mlen\u001b[0m\u001b[0;34m(\u001b[0m\u001b[0mspring_motion\u001b[0m\u001b[0;34m)\u001b[0m\u001b[0;34m)\u001b[0m\u001b[0;34m:\u001b[0m\u001b[0;34m\u001b[0m\u001b[0m\n\u001b[1;32m     34\u001b[0m         \u001b[0;32mfor\u001b[0m \u001b[0mccoord\u001b[0m \u001b[0;32min\u001b[0m \u001b[0mrange\u001b[0m\u001b[0;34m(\u001b[0m\u001b[0mlen\u001b[0m\u001b[0;34m(\u001b[0m\u001b[0mspring_motion\u001b[0m\u001b[0;34m[\u001b[0m\u001b[0mcmeasure\u001b[0m\u001b[0;34m]\u001b[0m\u001b[0;34m)\u001b[0m\u001b[0;34m)\u001b[0m\u001b[0;34m:\u001b[0m\u001b[0;34m\u001b[0m\u001b[0m\n\u001b[0;32m---> 35\u001b[0;31m             \u001b[0mdata_\u001b[0m\u001b[0;34m[\u001b[0m\u001b[0mcmeasure\u001b[0m\u001b[0;34m]\u001b[0m\u001b[0;34m[\u001b[0m\u001b[0mccoord\u001b[0m\u001b[0;34m]\u001b[0m\u001b[0;34m[\u001b[0m\u001b[0mccam\u001b[0m\u001b[0;34m]\u001b[0m \u001b[0;34m=\u001b[0m \u001b[0mspring_motion\u001b[0m\u001b[0;34m[\u001b[0m\u001b[0mcmeasure\u001b[0m\u001b[0;34m]\u001b[0m\u001b[0;34m[\u001b[0m\u001b[0mccoord\u001b[0m\u001b[0;34m]\u001b[0m \u001b[0;34m-\u001b[0m \u001b[0mnp\u001b[0m\u001b[0;34m.\u001b[0m\u001b[0mdot\u001b[0m\u001b[0;34m(\u001b[0m\u001b[0mcameras\u001b[0m\u001b[0;34m.\u001b[0m\u001b[0mT\u001b[0m\u001b[0;34m[\u001b[0m\u001b[0mccam\u001b[0m\u001b[0;34m]\u001b[0m\u001b[0;34m,\u001b[0m \u001b[0mspring_motion\u001b[0m\u001b[0;34m[\u001b[0m\u001b[0mcmeasure\u001b[0m\u001b[0;34m]\u001b[0m\u001b[0;34m)\u001b[0m\u001b[0;34m*\u001b[0m\u001b[0mspring_motion\u001b[0m\u001b[0;34m[\u001b[0m\u001b[0mcmeasure\u001b[0m\u001b[0;34m]\u001b[0m\u001b[0;34m[\u001b[0m\u001b[0mccoord\u001b[0m\u001b[0;34m]\u001b[0m\u001b[0;34m/\u001b[0m\u001b[0mnp\u001b[0m\u001b[0;34m.\u001b[0m\u001b[0mnorm\u001b[0m\u001b[0;34m(\u001b[0m\u001b[0mspring_motion\u001b[0m\u001b[0;34m[\u001b[0m\u001b[0mcmeasure\u001b[0m\u001b[0;34m]\u001b[0m\u001b[0;34m[\u001b[0m\u001b[0mccoord\u001b[0m\u001b[0;34m]\u001b[0m\u001b[0;34m)\u001b[0m\u001b[0;34m\u001b[0m\u001b[0m\n\u001b[0m\u001b[1;32m     36\u001b[0m \u001b[0;34m\u001b[0m\u001b[0m\n\u001b[1;32m     37\u001b[0m \u001b[0;31m#print(data_[:,:,0].shape)\u001b[0m\u001b[0;34m\u001b[0m\u001b[0;34m\u001b[0m\u001b[0m\n",
      "\u001b[0;31mAttributeError\u001b[0m: module 'numpy' has no attribute 'norm'"
     ]
    }
   ],
   "source": [
    "def sample_spherical(npoints, ndim=3):\n",
    "    vec = np.random.randn(ndim, npoints)\n",
    "    vec /= np.linalg.norm(vec, axis=0)\n",
    "#    fi = np.arccos(vec[2])\n",
    "#    theta = vec[0]/np.sin(fi)\n",
    "#    return theta, fi\n",
    "    return vec\n",
    "\n",
    "cameras = np.array(sample_spherical(10))\n",
    "\n",
    "print(cameras)\n",
    "\n",
    "x = np.linspace(0, 6*np.pi, 1000)\n",
    "\n",
    "r = 1.\n",
    "\n",
    "x_spring = np.array(r*np.cos(x))\n",
    "\n",
    "#print(spring_motion)\n",
    "\n",
    "spring_motion = np.array([x_spring, np.random.normal(loc=0, scale=0.1, size=1000), np.zeros(1000)])\n",
    "\n",
    "spring_motion = spring_motion.T\n",
    "\n",
    "data_ = np.zeros(shape=(1000, 3, 10))\n",
    "\n",
    "print(spring_motion.shape)\n",
    "print(len(cameras.T))\n",
    "print(len(spring_motion))\n",
    "print(len(spring_motion[1]))\n",
    "\n",
    "for ccam in range(len(cameras.T)):\n",
    "    for cmeasure in range(len(spring_motion)):\n",
    "        for ccoord in range(len(spring_motion[cmeasure])):\n",
    "            data_[cmeasure][ccoord][ccam] = spring_motion[cmeasure][ccoord] - np.dot(cameras.T[ccam], spring_motion[cmeasure])*spring_motion[cmeasure][ccoord]/np.norm(spring_motion[cmeasure][ccoord])\n",
    "\n",
    "#print(data_[:,:,0].shape)\n",
    "\n",
    "for ccam in range(len(cameras.T)):\n",
    "    cov_m = np.cov((data_[:,:,ccam]).T)\n",
    "    \n",
    "    print(cov_m.shape)\n",
    "    \n",
    "    eig_V, spectrum, eig_V_T = la.svd(cov_m)\n",
    "    data_rot = np.dot(eig_V_T, (data_[:,:,ccam]).T)\n",
    "    \n",
    "    print(data_rot.shape)\n",
    "        \n",
    "#    i=1\n",
    "#    while np.sum(spectrum[:i])/spectrum.sum() < 0.99:\n",
    "#        i += 1\n",
    "#    \n",
    "#    spectrum = spectrum[:i]\n",
    "#    data_rot = data_rot[0:i,:]\n",
    "    \n",
    "    #print(data_rot[:,1].shape)\n",
    "#    fot i in range(len(data_rot)):\n",
    "    plt.scatter(data_rot[0,:], data_rot[1,:])\n",
    "    plt.show()\n",
    "    \n",
    "print(data_rot)\n"
   ]
  },
  {
   "cell_type": "markdown",
   "metadata": {},
   "source": [
    "4\\. **PCA on the MAGIC dataset** (optional)\n",
    "\n",
    "Perform a PCA on the magic04.data dataset"
   ]
  },
  {
   "cell_type": "code",
   "execution_count": null,
   "metadata": {},
   "outputs": [],
   "source": []
  }
 ],
 "metadata": {
  "kernelspec": {
   "display_name": "Python 3",
   "language": "python",
   "name": "python3"
  },
  "language_info": {
   "codemirror_mode": {
    "name": "ipython",
    "version": 3
   },
   "file_extension": ".py",
   "mimetype": "text/x-python",
   "name": "python",
   "nbconvert_exporter": "python",
   "pygments_lexer": "ipython3",
   "version": "3.6.5"
  }
 },
 "nbformat": 4,
 "nbformat_minor": 2
}
